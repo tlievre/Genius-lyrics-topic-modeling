{
 "cells": [
  {
   "attachments": {},
   "cell_type": "markdown",
   "metadata": {},
   "source": [
    "# Genius song lyrics : Data vizualisation"
   ]
  },
  {
   "cell_type": "code",
   "execution_count": 1,
   "metadata": {},
   "outputs": [
    {
     "name": "stderr",
     "output_type": "stream",
     "text": [
      "23/05/21 22:21:23 WARN Utils: Your hostname, thomas-ThinkPad-T490 resolves to a loopback address: 127.0.1.1; using 192.168.31.207 instead (on interface wlp0s20f3)\n",
      "23/05/21 22:21:23 WARN Utils: Set SPARK_LOCAL_IP if you need to bind to another address\n",
      "Setting default log level to \"WARN\".\n",
      "To adjust logging level use sc.setLogLevel(newLevel). For SparkR, use setLogLevel(newLevel).\n",
      "23/05/21 22:21:23 WARN NativeCodeLoader: Unable to load native-hadoop library for your platform... using builtin-java classes where applicable\n",
      "                                                                                \r"
     ]
    }
   ],
   "source": [
    "from modules.spark_preprocess import SparkSPreprocessor\n",
    "\n",
    "sp = SparkSPreprocessor(\"./data/song_lyrics.parquet\", \"20g\")\n",
    "df = sp.preprocess_data(freq=0.01, seed = 42)"
   ]
  },
  {
   "cell_type": "code",
   "execution_count": 2,
   "metadata": {},
   "outputs": [
    {
     "data": {
      "text/html": [
       "<div>\n",
       "<style scoped>\n",
       "    .dataframe tbody tr th:only-of-type {\n",
       "        vertical-align: middle;\n",
       "    }\n",
       "\n",
       "    .dataframe tbody tr th {\n",
       "        vertical-align: top;\n",
       "    }\n",
       "\n",
       "    .dataframe thead th {\n",
       "        text-align: right;\n",
       "    }\n",
       "</style>\n",
       "<table border=\"1\" class=\"dataframe\">\n",
       "  <thead>\n",
       "    <tr style=\"text-align: right;\">\n",
       "      <th></th>\n",
       "      <th>title</th>\n",
       "      <th>tag</th>\n",
       "      <th>artist</th>\n",
       "      <th>year</th>\n",
       "      <th>views</th>\n",
       "      <th>features</th>\n",
       "      <th>lyrics</th>\n",
       "      <th>id</th>\n",
       "      <th>language_cld3</th>\n",
       "      <th>language_ft</th>\n",
       "      <th>language</th>\n",
       "      <th>decade</th>\n",
       "    </tr>\n",
       "  </thead>\n",
       "  <tbody>\n",
       "    <tr>\n",
       "      <th>0</th>\n",
       "      <td>Eleanor Rigby</td>\n",
       "      <td>pop</td>\n",
       "      <td>The Beatles</td>\n",
       "      <td>1966</td>\n",
       "      <td>676890</td>\n",
       "      <td>{}</td>\n",
       "      <td>[Intro: Paul McCartney, John Lennon &amp; George H...</td>\n",
       "      <td>1577</td>\n",
       "      <td>en</td>\n",
       "      <td>en</td>\n",
       "      <td>en</td>\n",
       "      <td>1960</td>\n",
       "    </tr>\n",
       "    <tr>\n",
       "      <th>1</th>\n",
       "      <td>Portrait of a Masterpiece</td>\n",
       "      <td>rap</td>\n",
       "      <td>The D.O.C.</td>\n",
       "      <td>1989</td>\n",
       "      <td>5516</td>\n",
       "      <td>{\"Dr. Dre\",\"​The D.O.C.\"}</td>\n",
       "      <td>[The D.O.C.]\\nYea, c'mon\\nC'mon, yea, c'mon\\n\\...</td>\n",
       "      <td>2406</td>\n",
       "      <td>en</td>\n",
       "      <td>en</td>\n",
       "      <td>en</td>\n",
       "      <td>1980</td>\n",
       "    </tr>\n",
       "    <tr>\n",
       "      <th>2</th>\n",
       "      <td>Final Frontier</td>\n",
       "      <td>rap</td>\n",
       "      <td>MC Ren</td>\n",
       "      <td>1992</td>\n",
       "      <td>11162</td>\n",
       "      <td>{}</td>\n",
       "      <td>[Intro: DJ Bobcat]\\nHey, hey Ren, hey check th...</td>\n",
       "      <td>5383</td>\n",
       "      <td>en</td>\n",
       "      <td>en</td>\n",
       "      <td>en</td>\n",
       "      <td>1990</td>\n",
       "    </tr>\n",
       "    <tr>\n",
       "      <th>3</th>\n",
       "      <td>Point the Finga</td>\n",
       "      <td>rap</td>\n",
       "      <td>2Pac</td>\n",
       "      <td>1993</td>\n",
       "      <td>24349</td>\n",
       "      <td>{}</td>\n",
       "      <td>[Intro]\\n\"You could get the finger, (\"Come and...</td>\n",
       "      <td>6722</td>\n",
       "      <td>en</td>\n",
       "      <td>en</td>\n",
       "      <td>en</td>\n",
       "      <td>1990</td>\n",
       "    </tr>\n",
       "    <tr>\n",
       "      <th>4</th>\n",
       "      <td>The Gas Face</td>\n",
       "      <td>rap</td>\n",
       "      <td>3rd Bass</td>\n",
       "      <td>1989</td>\n",
       "      <td>40909</td>\n",
       "      <td>{\"MF DOOM\"}</td>\n",
       "      <td>[MC Serch]\\nAyo, man, my labelmate, Don Newkir...</td>\n",
       "      <td>6217</td>\n",
       "      <td>en</td>\n",
       "      <td>en</td>\n",
       "      <td>en</td>\n",
       "      <td>1980</td>\n",
       "    </tr>\n",
       "  </tbody>\n",
       "</table>\n",
       "</div>"
      ],
      "text/plain": [
       "                       title  tag       artist  year   views  \\\n",
       "0              Eleanor Rigby  pop  The Beatles  1966  676890   \n",
       "1  Portrait of a Masterpiece  rap   The D.O.C.  1989    5516   \n",
       "2             Final Frontier  rap       MC Ren  1992   11162   \n",
       "3            Point the Finga  rap         2Pac  1993   24349   \n",
       "4               The Gas Face  rap     3rd Bass  1989   40909   \n",
       "\n",
       "                    features  \\\n",
       "0                         {}   \n",
       "1  {\"Dr. Dre\",\"​The D.O.C.\"}   \n",
       "2                         {}   \n",
       "3                         {}   \n",
       "4                {\"MF DOOM\"}   \n",
       "\n",
       "                                              lyrics    id language_cld3  \\\n",
       "0  [Intro: Paul McCartney, John Lennon & George H...  1577            en   \n",
       "1  [The D.O.C.]\\nYea, c'mon\\nC'mon, yea, c'mon\\n\\...  2406            en   \n",
       "2  [Intro: DJ Bobcat]\\nHey, hey Ren, hey check th...  5383            en   \n",
       "3  [Intro]\\n\"You could get the finger, (\"Come and...  6722            en   \n",
       "4  [MC Serch]\\nAyo, man, my labelmate, Don Newkir...  6217            en   \n",
       "\n",
       "  language_ft language  decade  \n",
       "0          en       en    1960  \n",
       "1          en       en    1980  \n",
       "2          en       en    1990  \n",
       "3          en       en    1990  \n",
       "4          en       en    1980  "
      ]
     },
     "execution_count": 2,
     "metadata": {},
     "output_type": "execute_result"
    }
   ],
   "source": [
    "# load data\n",
    "import pandas as pd\n",
    "\n",
    "df = pd.read_csv('./data/preprocessed_data.csv')\n",
    "df.head()"
   ]
  },
  {
   "cell_type": "code",
   "execution_count": 3,
   "metadata": {},
   "outputs": [
    {
     "data": {
      "text/plain": [
       "title            object\n",
       "tag              object\n",
       "artist           object\n",
       "year              int64\n",
       "views             int64\n",
       "features         object\n",
       "lyrics           object\n",
       "id                int64\n",
       "language_cld3    object\n",
       "language_ft      object\n",
       "language         object\n",
       "decade            int64\n",
       "dtype: object"
      ]
     },
     "execution_count": 3,
     "metadata": {},
     "output_type": "execute_result"
    }
   ],
   "source": [
    "df.dtypes"
   ]
  },
  {
   "cell_type": "code",
   "execution_count": 4,
   "metadata": {},
   "outputs": [
    {
     "data": {
      "application/vnd.plotly.v1+json": {
       "config": {
        "plotlyServerURL": "https://plot.ly"
       },
       "data": [
        {
         "showlegend": false,
         "type": "bar",
         "x": [
          1960,
          1970,
          1980,
          1990,
          2000,
          2010,
          2020
         ],
         "y": [
          437,
          444,
          425,
          415,
          443,
          404,
          438
         ]
        },
        {
         "mode": "markers+lines",
         "name": "trend",
         "showlegend": false,
         "type": "scatter",
         "x": [
          1960,
          1970,
          1980,
          1990,
          2000,
          2010,
          2020
         ],
         "y": [
          437,
          444,
          425,
          415,
          443,
          404,
          438
         ]
        }
       ],
       "layout": {
        "template": {
         "data": {
          "bar": [
           {
            "error_x": {
             "color": "#2a3f5f"
            },
            "error_y": {
             "color": "#2a3f5f"
            },
            "marker": {
             "line": {
              "color": "#E5ECF6",
              "width": 0.5
             },
             "pattern": {
              "fillmode": "overlay",
              "size": 10,
              "solidity": 0.2
             }
            },
            "type": "bar"
           }
          ],
          "barpolar": [
           {
            "marker": {
             "line": {
              "color": "#E5ECF6",
              "width": 0.5
             },
             "pattern": {
              "fillmode": "overlay",
              "size": 10,
              "solidity": 0.2
             }
            },
            "type": "barpolar"
           }
          ],
          "carpet": [
           {
            "aaxis": {
             "endlinecolor": "#2a3f5f",
             "gridcolor": "white",
             "linecolor": "white",
             "minorgridcolor": "white",
             "startlinecolor": "#2a3f5f"
            },
            "baxis": {
             "endlinecolor": "#2a3f5f",
             "gridcolor": "white",
             "linecolor": "white",
             "minorgridcolor": "white",
             "startlinecolor": "#2a3f5f"
            },
            "type": "carpet"
           }
          ],
          "choropleth": [
           {
            "colorbar": {
             "outlinewidth": 0,
             "ticks": ""
            },
            "type": "choropleth"
           }
          ],
          "contour": [
           {
            "colorbar": {
             "outlinewidth": 0,
             "ticks": ""
            },
            "colorscale": [
             [
              0,
              "#0d0887"
             ],
             [
              0.1111111111111111,
              "#46039f"
             ],
             [
              0.2222222222222222,
              "#7201a8"
             ],
             [
              0.3333333333333333,
              "#9c179e"
             ],
             [
              0.4444444444444444,
              "#bd3786"
             ],
             [
              0.5555555555555556,
              "#d8576b"
             ],
             [
              0.6666666666666666,
              "#ed7953"
             ],
             [
              0.7777777777777778,
              "#fb9f3a"
             ],
             [
              0.8888888888888888,
              "#fdca26"
             ],
             [
              1,
              "#f0f921"
             ]
            ],
            "type": "contour"
           }
          ],
          "contourcarpet": [
           {
            "colorbar": {
             "outlinewidth": 0,
             "ticks": ""
            },
            "type": "contourcarpet"
           }
          ],
          "heatmap": [
           {
            "colorbar": {
             "outlinewidth": 0,
             "ticks": ""
            },
            "colorscale": [
             [
              0,
              "#0d0887"
             ],
             [
              0.1111111111111111,
              "#46039f"
             ],
             [
              0.2222222222222222,
              "#7201a8"
             ],
             [
              0.3333333333333333,
              "#9c179e"
             ],
             [
              0.4444444444444444,
              "#bd3786"
             ],
             [
              0.5555555555555556,
              "#d8576b"
             ],
             [
              0.6666666666666666,
              "#ed7953"
             ],
             [
              0.7777777777777778,
              "#fb9f3a"
             ],
             [
              0.8888888888888888,
              "#fdca26"
             ],
             [
              1,
              "#f0f921"
             ]
            ],
            "type": "heatmap"
           }
          ],
          "heatmapgl": [
           {
            "colorbar": {
             "outlinewidth": 0,
             "ticks": ""
            },
            "colorscale": [
             [
              0,
              "#0d0887"
             ],
             [
              0.1111111111111111,
              "#46039f"
             ],
             [
              0.2222222222222222,
              "#7201a8"
             ],
             [
              0.3333333333333333,
              "#9c179e"
             ],
             [
              0.4444444444444444,
              "#bd3786"
             ],
             [
              0.5555555555555556,
              "#d8576b"
             ],
             [
              0.6666666666666666,
              "#ed7953"
             ],
             [
              0.7777777777777778,
              "#fb9f3a"
             ],
             [
              0.8888888888888888,
              "#fdca26"
             ],
             [
              1,
              "#f0f921"
             ]
            ],
            "type": "heatmapgl"
           }
          ],
          "histogram": [
           {
            "marker": {
             "pattern": {
              "fillmode": "overlay",
              "size": 10,
              "solidity": 0.2
             }
            },
            "type": "histogram"
           }
          ],
          "histogram2d": [
           {
            "colorbar": {
             "outlinewidth": 0,
             "ticks": ""
            },
            "colorscale": [
             [
              0,
              "#0d0887"
             ],
             [
              0.1111111111111111,
              "#46039f"
             ],
             [
              0.2222222222222222,
              "#7201a8"
             ],
             [
              0.3333333333333333,
              "#9c179e"
             ],
             [
              0.4444444444444444,
              "#bd3786"
             ],
             [
              0.5555555555555556,
              "#d8576b"
             ],
             [
              0.6666666666666666,
              "#ed7953"
             ],
             [
              0.7777777777777778,
              "#fb9f3a"
             ],
             [
              0.8888888888888888,
              "#fdca26"
             ],
             [
              1,
              "#f0f921"
             ]
            ],
            "type": "histogram2d"
           }
          ],
          "histogram2dcontour": [
           {
            "colorbar": {
             "outlinewidth": 0,
             "ticks": ""
            },
            "colorscale": [
             [
              0,
              "#0d0887"
             ],
             [
              0.1111111111111111,
              "#46039f"
             ],
             [
              0.2222222222222222,
              "#7201a8"
             ],
             [
              0.3333333333333333,
              "#9c179e"
             ],
             [
              0.4444444444444444,
              "#bd3786"
             ],
             [
              0.5555555555555556,
              "#d8576b"
             ],
             [
              0.6666666666666666,
              "#ed7953"
             ],
             [
              0.7777777777777778,
              "#fb9f3a"
             ],
             [
              0.8888888888888888,
              "#fdca26"
             ],
             [
              1,
              "#f0f921"
             ]
            ],
            "type": "histogram2dcontour"
           }
          ],
          "mesh3d": [
           {
            "colorbar": {
             "outlinewidth": 0,
             "ticks": ""
            },
            "type": "mesh3d"
           }
          ],
          "parcoords": [
           {
            "line": {
             "colorbar": {
              "outlinewidth": 0,
              "ticks": ""
             }
            },
            "type": "parcoords"
           }
          ],
          "pie": [
           {
            "automargin": true,
            "type": "pie"
           }
          ],
          "scatter": [
           {
            "fillpattern": {
             "fillmode": "overlay",
             "size": 10,
             "solidity": 0.2
            },
            "type": "scatter"
           }
          ],
          "scatter3d": [
           {
            "line": {
             "colorbar": {
              "outlinewidth": 0,
              "ticks": ""
             }
            },
            "marker": {
             "colorbar": {
              "outlinewidth": 0,
              "ticks": ""
             }
            },
            "type": "scatter3d"
           }
          ],
          "scattercarpet": [
           {
            "marker": {
             "colorbar": {
              "outlinewidth": 0,
              "ticks": ""
             }
            },
            "type": "scattercarpet"
           }
          ],
          "scattergeo": [
           {
            "marker": {
             "colorbar": {
              "outlinewidth": 0,
              "ticks": ""
             }
            },
            "type": "scattergeo"
           }
          ],
          "scattergl": [
           {
            "marker": {
             "colorbar": {
              "outlinewidth": 0,
              "ticks": ""
             }
            },
            "type": "scattergl"
           }
          ],
          "scattermapbox": [
           {
            "marker": {
             "colorbar": {
              "outlinewidth": 0,
              "ticks": ""
             }
            },
            "type": "scattermapbox"
           }
          ],
          "scatterpolar": [
           {
            "marker": {
             "colorbar": {
              "outlinewidth": 0,
              "ticks": ""
             }
            },
            "type": "scatterpolar"
           }
          ],
          "scatterpolargl": [
           {
            "marker": {
             "colorbar": {
              "outlinewidth": 0,
              "ticks": ""
             }
            },
            "type": "scatterpolargl"
           }
          ],
          "scatterternary": [
           {
            "marker": {
             "colorbar": {
              "outlinewidth": 0,
              "ticks": ""
             }
            },
            "type": "scatterternary"
           }
          ],
          "surface": [
           {
            "colorbar": {
             "outlinewidth": 0,
             "ticks": ""
            },
            "colorscale": [
             [
              0,
              "#0d0887"
             ],
             [
              0.1111111111111111,
              "#46039f"
             ],
             [
              0.2222222222222222,
              "#7201a8"
             ],
             [
              0.3333333333333333,
              "#9c179e"
             ],
             [
              0.4444444444444444,
              "#bd3786"
             ],
             [
              0.5555555555555556,
              "#d8576b"
             ],
             [
              0.6666666666666666,
              "#ed7953"
             ],
             [
              0.7777777777777778,
              "#fb9f3a"
             ],
             [
              0.8888888888888888,
              "#fdca26"
             ],
             [
              1,
              "#f0f921"
             ]
            ],
            "type": "surface"
           }
          ],
          "table": [
           {
            "cells": {
             "fill": {
              "color": "#EBF0F8"
             },
             "line": {
              "color": "white"
             }
            },
            "header": {
             "fill": {
              "color": "#C8D4E3"
             },
             "line": {
              "color": "white"
             }
            },
            "type": "table"
           }
          ]
         },
         "layout": {
          "annotationdefaults": {
           "arrowcolor": "#2a3f5f",
           "arrowhead": 0,
           "arrowwidth": 1
          },
          "autotypenumbers": "strict",
          "coloraxis": {
           "colorbar": {
            "outlinewidth": 0,
            "ticks": ""
           }
          },
          "colorscale": {
           "diverging": [
            [
             0,
             "#8e0152"
            ],
            [
             0.1,
             "#c51b7d"
            ],
            [
             0.2,
             "#de77ae"
            ],
            [
             0.3,
             "#f1b6da"
            ],
            [
             0.4,
             "#fde0ef"
            ],
            [
             0.5,
             "#f7f7f7"
            ],
            [
             0.6,
             "#e6f5d0"
            ],
            [
             0.7,
             "#b8e186"
            ],
            [
             0.8,
             "#7fbc41"
            ],
            [
             0.9,
             "#4d9221"
            ],
            [
             1,
             "#276419"
            ]
           ],
           "sequential": [
            [
             0,
             "#0d0887"
            ],
            [
             0.1111111111111111,
             "#46039f"
            ],
            [
             0.2222222222222222,
             "#7201a8"
            ],
            [
             0.3333333333333333,
             "#9c179e"
            ],
            [
             0.4444444444444444,
             "#bd3786"
            ],
            [
             0.5555555555555556,
             "#d8576b"
            ],
            [
             0.6666666666666666,
             "#ed7953"
            ],
            [
             0.7777777777777778,
             "#fb9f3a"
            ],
            [
             0.8888888888888888,
             "#fdca26"
            ],
            [
             1,
             "#f0f921"
            ]
           ],
           "sequentialminus": [
            [
             0,
             "#0d0887"
            ],
            [
             0.1111111111111111,
             "#46039f"
            ],
            [
             0.2222222222222222,
             "#7201a8"
            ],
            [
             0.3333333333333333,
             "#9c179e"
            ],
            [
             0.4444444444444444,
             "#bd3786"
            ],
            [
             0.5555555555555556,
             "#d8576b"
            ],
            [
             0.6666666666666666,
             "#ed7953"
            ],
            [
             0.7777777777777778,
             "#fb9f3a"
            ],
            [
             0.8888888888888888,
             "#fdca26"
            ],
            [
             1,
             "#f0f921"
            ]
           ]
          },
          "colorway": [
           "#636efa",
           "#EF553B",
           "#00cc96",
           "#ab63fa",
           "#FFA15A",
           "#19d3f3",
           "#FF6692",
           "#B6E880",
           "#FF97FF",
           "#FECB52"
          ],
          "font": {
           "color": "#2a3f5f"
          },
          "geo": {
           "bgcolor": "white",
           "lakecolor": "white",
           "landcolor": "#E5ECF6",
           "showlakes": true,
           "showland": true,
           "subunitcolor": "white"
          },
          "hoverlabel": {
           "align": "left"
          },
          "hovermode": "closest",
          "mapbox": {
           "style": "light"
          },
          "paper_bgcolor": "white",
          "plot_bgcolor": "#E5ECF6",
          "polar": {
           "angularaxis": {
            "gridcolor": "white",
            "linecolor": "white",
            "ticks": ""
           },
           "bgcolor": "#E5ECF6",
           "radialaxis": {
            "gridcolor": "white",
            "linecolor": "white",
            "ticks": ""
           }
          },
          "scene": {
           "xaxis": {
            "backgroundcolor": "#E5ECF6",
            "gridcolor": "white",
            "gridwidth": 2,
            "linecolor": "white",
            "showbackground": true,
            "ticks": "",
            "zerolinecolor": "white"
           },
           "yaxis": {
            "backgroundcolor": "#E5ECF6",
            "gridcolor": "white",
            "gridwidth": 2,
            "linecolor": "white",
            "showbackground": true,
            "ticks": "",
            "zerolinecolor": "white"
           },
           "zaxis": {
            "backgroundcolor": "#E5ECF6",
            "gridcolor": "white",
            "gridwidth": 2,
            "linecolor": "white",
            "showbackground": true,
            "ticks": "",
            "zerolinecolor": "white"
           }
          },
          "shapedefaults": {
           "line": {
            "color": "#2a3f5f"
           }
          },
          "ternary": {
           "aaxis": {
            "gridcolor": "white",
            "linecolor": "white",
            "ticks": ""
           },
           "baxis": {
            "gridcolor": "white",
            "linecolor": "white",
            "ticks": ""
           },
           "bgcolor": "#E5ECF6",
           "caxis": {
            "gridcolor": "white",
            "linecolor": "white",
            "ticks": ""
           }
          },
          "title": {
           "x": 0.05
          },
          "xaxis": {
           "automargin": true,
           "gridcolor": "white",
           "linecolor": "white",
           "ticks": "",
           "title": {
            "standoff": 15
           },
           "zerolinecolor": "white",
           "zerolinewidth": 2
          },
          "yaxis": {
           "automargin": true,
           "gridcolor": "white",
           "linecolor": "white",
           "ticks": "",
           "title": {
            "standoff": 15
           },
           "zerolinecolor": "white",
           "zerolinewidth": 2
          }
         }
        },
        "title": {
         "text": "Music release over years"
        },
        "xaxis": {
         "title": {
          "text": "decade"
         }
        },
        "yaxis": {
         "title": {
          "text": "release"
         }
        }
       }
      }
     },
     "metadata": {},
     "output_type": "display_data"
    }
   ],
   "source": [
    "from modules.vizualisation import barplot_by_decade\n",
    "\n",
    "barplot_by_decade(df)"
   ]
  },
  {
   "cell_type": "code",
   "execution_count": 5,
   "metadata": {},
   "outputs": [
    {
     "data": {
      "application/vnd.plotly.v1+json": {
       "config": {
        "plotlyServerURL": "https://plot.ly"
       },
       "data": [
        {
         "domain": {
          "x": [
           0,
           0.2888888888888889
          ],
          "y": [
           0.7333333333333333,
           1
          ]
         },
         "hole": 0.4,
         "hoverinfo": "label+percent+name",
         "labels": [
          "country",
          "misc",
          "pop",
          "rap",
          "rb",
          "rock"
         ],
         "name": "1960",
         "type": "pie",
         "values": [
          58,
          8,
          267,
          1,
          44,
          59
         ]
        },
        {
         "domain": {
          "x": [
           0.35555555555555557,
           0.6444444444444445
          ],
          "y": [
           0.7333333333333333,
           1
          ]
         },
         "hole": 0.4,
         "hoverinfo": "label+percent+name",
         "labels": [
          "country",
          "misc",
          "pop",
          "rb",
          "rock"
         ],
         "name": "1970",
         "type": "pie",
         "values": [
          49,
          13,
          229,
          47,
          106
         ]
        },
        {
         "domain": {
          "x": [
           0.7111111111111111,
           1
          ],
          "y": [
           0.7333333333333333,
           1
          ]
         },
         "hole": 0.4,
         "hoverinfo": "label+percent+name",
         "labels": [
          "country",
          "misc",
          "pop",
          "rap",
          "rb",
          "rock"
         ],
         "name": "1980",
         "type": "pie",
         "values": [
          23,
          7,
          248,
          10,
          20,
          117
         ]
        },
        {
         "domain": {
          "x": [
           0,
           0.2888888888888889
          ],
          "y": [
           0.36666666666666664,
           0.6333333333333333
          ]
         },
         "hole": 0.4,
         "hoverinfo": "label+percent+name",
         "labels": [
          "country",
          "misc",
          "pop",
          "rap",
          "rb",
          "rock"
         ],
         "name": "1990",
         "type": "pie",
         "values": [
          13,
          4,
          244,
          48,
          8,
          98
         ]
        },
        {
         "domain": {
          "x": [
           0.35555555555555557,
           0.6444444444444445
          ],
          "y": [
           0.36666666666666664,
           0.6333333333333333
          ]
         },
         "hole": 0.4,
         "hoverinfo": "label+percent+name",
         "labels": [
          "country",
          "misc",
          "pop",
          "rap",
          "rb",
          "rock"
         ],
         "name": "2000",
         "type": "pie",
         "values": [
          10,
          4,
          275,
          42,
          7,
          105
         ]
        },
        {
         "domain": {
          "x": [
           0.7111111111111111,
           1
          ],
          "y": [
           0.36666666666666664,
           0.6333333333333333
          ]
         },
         "hole": 0.4,
         "hoverinfo": "label+percent+name",
         "labels": [
          "country",
          "misc",
          "pop",
          "rap",
          "rb",
          "rock"
         ],
         "name": "2010",
         "type": "pie",
         "values": [
          9,
          21,
          128,
          147,
          18,
          81
         ]
        },
        {
         "domain": {
          "x": [
           0,
           0.2888888888888889
          ],
          "y": [
           0,
           0.26666666666666666
          ]
         },
         "hole": 0.4,
         "hoverinfo": "label+percent+name",
         "labels": [
          "country",
          "misc",
          "pop",
          "rap",
          "rb",
          "rock"
         ],
         "name": "2020",
         "type": "pie",
         "values": [
          9,
          7,
          137,
          193,
          23,
          69
         ]
        }
       ],
       "layout": {
        "annotations": [
         {
          "font": {
           "size": 10
          },
          "showarrow": false,
          "text": "1960",
          "x": 0.125,
          "y": 0.9
         },
         {
          "font": {
           "size": 10
          },
          "showarrow": false,
          "text": "1970",
          "x": 0.5,
          "y": 0.9
         },
         {
          "font": {
           "size": 10
          },
          "showarrow": false,
          "text": "1980",
          "x": 0.875,
          "y": 0.9
         },
         {
          "font": {
           "size": 10
          },
          "showarrow": false,
          "text": "1990",
          "x": 0.125,
          "y": 0.5073000000000001
         },
         {
          "font": {
           "size": 10
          },
          "showarrow": false,
          "text": "2000",
          "x": 0.5,
          "y": 0.5073000000000001
         },
         {
          "font": {
           "size": 10
          },
          "showarrow": false,
          "text": "2010",
          "x": 0.875,
          "y": 0.5073000000000001
         },
         {
          "font": {
           "size": 10
          },
          "showarrow": false,
          "text": "2020",
          "x": 0.125,
          "y": 0.11460000000000004
         }
        ],
        "template": {
         "data": {
          "bar": [
           {
            "error_x": {
             "color": "#2a3f5f"
            },
            "error_y": {
             "color": "#2a3f5f"
            },
            "marker": {
             "line": {
              "color": "#E5ECF6",
              "width": 0.5
             },
             "pattern": {
              "fillmode": "overlay",
              "size": 10,
              "solidity": 0.2
             }
            },
            "type": "bar"
           }
          ],
          "barpolar": [
           {
            "marker": {
             "line": {
              "color": "#E5ECF6",
              "width": 0.5
             },
             "pattern": {
              "fillmode": "overlay",
              "size": 10,
              "solidity": 0.2
             }
            },
            "type": "barpolar"
           }
          ],
          "carpet": [
           {
            "aaxis": {
             "endlinecolor": "#2a3f5f",
             "gridcolor": "white",
             "linecolor": "white",
             "minorgridcolor": "white",
             "startlinecolor": "#2a3f5f"
            },
            "baxis": {
             "endlinecolor": "#2a3f5f",
             "gridcolor": "white",
             "linecolor": "white",
             "minorgridcolor": "white",
             "startlinecolor": "#2a3f5f"
            },
            "type": "carpet"
           }
          ],
          "choropleth": [
           {
            "colorbar": {
             "outlinewidth": 0,
             "ticks": ""
            },
            "type": "choropleth"
           }
          ],
          "contour": [
           {
            "colorbar": {
             "outlinewidth": 0,
             "ticks": ""
            },
            "colorscale": [
             [
              0,
              "#0d0887"
             ],
             [
              0.1111111111111111,
              "#46039f"
             ],
             [
              0.2222222222222222,
              "#7201a8"
             ],
             [
              0.3333333333333333,
              "#9c179e"
             ],
             [
              0.4444444444444444,
              "#bd3786"
             ],
             [
              0.5555555555555556,
              "#d8576b"
             ],
             [
              0.6666666666666666,
              "#ed7953"
             ],
             [
              0.7777777777777778,
              "#fb9f3a"
             ],
             [
              0.8888888888888888,
              "#fdca26"
             ],
             [
              1,
              "#f0f921"
             ]
            ],
            "type": "contour"
           }
          ],
          "contourcarpet": [
           {
            "colorbar": {
             "outlinewidth": 0,
             "ticks": ""
            },
            "type": "contourcarpet"
           }
          ],
          "heatmap": [
           {
            "colorbar": {
             "outlinewidth": 0,
             "ticks": ""
            },
            "colorscale": [
             [
              0,
              "#0d0887"
             ],
             [
              0.1111111111111111,
              "#46039f"
             ],
             [
              0.2222222222222222,
              "#7201a8"
             ],
             [
              0.3333333333333333,
              "#9c179e"
             ],
             [
              0.4444444444444444,
              "#bd3786"
             ],
             [
              0.5555555555555556,
              "#d8576b"
             ],
             [
              0.6666666666666666,
              "#ed7953"
             ],
             [
              0.7777777777777778,
              "#fb9f3a"
             ],
             [
              0.8888888888888888,
              "#fdca26"
             ],
             [
              1,
              "#f0f921"
             ]
            ],
            "type": "heatmap"
           }
          ],
          "heatmapgl": [
           {
            "colorbar": {
             "outlinewidth": 0,
             "ticks": ""
            },
            "colorscale": [
             [
              0,
              "#0d0887"
             ],
             [
              0.1111111111111111,
              "#46039f"
             ],
             [
              0.2222222222222222,
              "#7201a8"
             ],
             [
              0.3333333333333333,
              "#9c179e"
             ],
             [
              0.4444444444444444,
              "#bd3786"
             ],
             [
              0.5555555555555556,
              "#d8576b"
             ],
             [
              0.6666666666666666,
              "#ed7953"
             ],
             [
              0.7777777777777778,
              "#fb9f3a"
             ],
             [
              0.8888888888888888,
              "#fdca26"
             ],
             [
              1,
              "#f0f921"
             ]
            ],
            "type": "heatmapgl"
           }
          ],
          "histogram": [
           {
            "marker": {
             "pattern": {
              "fillmode": "overlay",
              "size": 10,
              "solidity": 0.2
             }
            },
            "type": "histogram"
           }
          ],
          "histogram2d": [
           {
            "colorbar": {
             "outlinewidth": 0,
             "ticks": ""
            },
            "colorscale": [
             [
              0,
              "#0d0887"
             ],
             [
              0.1111111111111111,
              "#46039f"
             ],
             [
              0.2222222222222222,
              "#7201a8"
             ],
             [
              0.3333333333333333,
              "#9c179e"
             ],
             [
              0.4444444444444444,
              "#bd3786"
             ],
             [
              0.5555555555555556,
              "#d8576b"
             ],
             [
              0.6666666666666666,
              "#ed7953"
             ],
             [
              0.7777777777777778,
              "#fb9f3a"
             ],
             [
              0.8888888888888888,
              "#fdca26"
             ],
             [
              1,
              "#f0f921"
             ]
            ],
            "type": "histogram2d"
           }
          ],
          "histogram2dcontour": [
           {
            "colorbar": {
             "outlinewidth": 0,
             "ticks": ""
            },
            "colorscale": [
             [
              0,
              "#0d0887"
             ],
             [
              0.1111111111111111,
              "#46039f"
             ],
             [
              0.2222222222222222,
              "#7201a8"
             ],
             [
              0.3333333333333333,
              "#9c179e"
             ],
             [
              0.4444444444444444,
              "#bd3786"
             ],
             [
              0.5555555555555556,
              "#d8576b"
             ],
             [
              0.6666666666666666,
              "#ed7953"
             ],
             [
              0.7777777777777778,
              "#fb9f3a"
             ],
             [
              0.8888888888888888,
              "#fdca26"
             ],
             [
              1,
              "#f0f921"
             ]
            ],
            "type": "histogram2dcontour"
           }
          ],
          "mesh3d": [
           {
            "colorbar": {
             "outlinewidth": 0,
             "ticks": ""
            },
            "type": "mesh3d"
           }
          ],
          "parcoords": [
           {
            "line": {
             "colorbar": {
              "outlinewidth": 0,
              "ticks": ""
             }
            },
            "type": "parcoords"
           }
          ],
          "pie": [
           {
            "automargin": true,
            "type": "pie"
           }
          ],
          "scatter": [
           {
            "fillpattern": {
             "fillmode": "overlay",
             "size": 10,
             "solidity": 0.2
            },
            "type": "scatter"
           }
          ],
          "scatter3d": [
           {
            "line": {
             "colorbar": {
              "outlinewidth": 0,
              "ticks": ""
             }
            },
            "marker": {
             "colorbar": {
              "outlinewidth": 0,
              "ticks": ""
             }
            },
            "type": "scatter3d"
           }
          ],
          "scattercarpet": [
           {
            "marker": {
             "colorbar": {
              "outlinewidth": 0,
              "ticks": ""
             }
            },
            "type": "scattercarpet"
           }
          ],
          "scattergeo": [
           {
            "marker": {
             "colorbar": {
              "outlinewidth": 0,
              "ticks": ""
             }
            },
            "type": "scattergeo"
           }
          ],
          "scattergl": [
           {
            "marker": {
             "colorbar": {
              "outlinewidth": 0,
              "ticks": ""
             }
            },
            "type": "scattergl"
           }
          ],
          "scattermapbox": [
           {
            "marker": {
             "colorbar": {
              "outlinewidth": 0,
              "ticks": ""
             }
            },
            "type": "scattermapbox"
           }
          ],
          "scatterpolar": [
           {
            "marker": {
             "colorbar": {
              "outlinewidth": 0,
              "ticks": ""
             }
            },
            "type": "scatterpolar"
           }
          ],
          "scatterpolargl": [
           {
            "marker": {
             "colorbar": {
              "outlinewidth": 0,
              "ticks": ""
             }
            },
            "type": "scatterpolargl"
           }
          ],
          "scatterternary": [
           {
            "marker": {
             "colorbar": {
              "outlinewidth": 0,
              "ticks": ""
             }
            },
            "type": "scatterternary"
           }
          ],
          "surface": [
           {
            "colorbar": {
             "outlinewidth": 0,
             "ticks": ""
            },
            "colorscale": [
             [
              0,
              "#0d0887"
             ],
             [
              0.1111111111111111,
              "#46039f"
             ],
             [
              0.2222222222222222,
              "#7201a8"
             ],
             [
              0.3333333333333333,
              "#9c179e"
             ],
             [
              0.4444444444444444,
              "#bd3786"
             ],
             [
              0.5555555555555556,
              "#d8576b"
             ],
             [
              0.6666666666666666,
              "#ed7953"
             ],
             [
              0.7777777777777778,
              "#fb9f3a"
             ],
             [
              0.8888888888888888,
              "#fdca26"
             ],
             [
              1,
              "#f0f921"
             ]
            ],
            "type": "surface"
           }
          ],
          "table": [
           {
            "cells": {
             "fill": {
              "color": "#EBF0F8"
             },
             "line": {
              "color": "white"
             }
            },
            "header": {
             "fill": {
              "color": "#C8D4E3"
             },
             "line": {
              "color": "white"
             }
            },
            "type": "table"
           }
          ]
         },
         "layout": {
          "annotationdefaults": {
           "arrowcolor": "#2a3f5f",
           "arrowhead": 0,
           "arrowwidth": 1
          },
          "autotypenumbers": "strict",
          "coloraxis": {
           "colorbar": {
            "outlinewidth": 0,
            "ticks": ""
           }
          },
          "colorscale": {
           "diverging": [
            [
             0,
             "#8e0152"
            ],
            [
             0.1,
             "#c51b7d"
            ],
            [
             0.2,
             "#de77ae"
            ],
            [
             0.3,
             "#f1b6da"
            ],
            [
             0.4,
             "#fde0ef"
            ],
            [
             0.5,
             "#f7f7f7"
            ],
            [
             0.6,
             "#e6f5d0"
            ],
            [
             0.7,
             "#b8e186"
            ],
            [
             0.8,
             "#7fbc41"
            ],
            [
             0.9,
             "#4d9221"
            ],
            [
             1,
             "#276419"
            ]
           ],
           "sequential": [
            [
             0,
             "#0d0887"
            ],
            [
             0.1111111111111111,
             "#46039f"
            ],
            [
             0.2222222222222222,
             "#7201a8"
            ],
            [
             0.3333333333333333,
             "#9c179e"
            ],
            [
             0.4444444444444444,
             "#bd3786"
            ],
            [
             0.5555555555555556,
             "#d8576b"
            ],
            [
             0.6666666666666666,
             "#ed7953"
            ],
            [
             0.7777777777777778,
             "#fb9f3a"
            ],
            [
             0.8888888888888888,
             "#fdca26"
            ],
            [
             1,
             "#f0f921"
            ]
           ],
           "sequentialminus": [
            [
             0,
             "#0d0887"
            ],
            [
             0.1111111111111111,
             "#46039f"
            ],
            [
             0.2222222222222222,
             "#7201a8"
            ],
            [
             0.3333333333333333,
             "#9c179e"
            ],
            [
             0.4444444444444444,
             "#bd3786"
            ],
            [
             0.5555555555555556,
             "#d8576b"
            ],
            [
             0.6666666666666666,
             "#ed7953"
            ],
            [
             0.7777777777777778,
             "#fb9f3a"
            ],
            [
             0.8888888888888888,
             "#fdca26"
            ],
            [
             1,
             "#f0f921"
            ]
           ]
          },
          "colorway": [
           "#636efa",
           "#EF553B",
           "#00cc96",
           "#ab63fa",
           "#FFA15A",
           "#19d3f3",
           "#FF6692",
           "#B6E880",
           "#FF97FF",
           "#FECB52"
          ],
          "font": {
           "color": "#2a3f5f"
          },
          "geo": {
           "bgcolor": "white",
           "lakecolor": "white",
           "landcolor": "#E5ECF6",
           "showlakes": true,
           "showland": true,
           "subunitcolor": "white"
          },
          "hoverlabel": {
           "align": "left"
          },
          "hovermode": "closest",
          "mapbox": {
           "style": "light"
          },
          "paper_bgcolor": "white",
          "plot_bgcolor": "#E5ECF6",
          "polar": {
           "angularaxis": {
            "gridcolor": "white",
            "linecolor": "white",
            "ticks": ""
           },
           "bgcolor": "#E5ECF6",
           "radialaxis": {
            "gridcolor": "white",
            "linecolor": "white",
            "ticks": ""
           }
          },
          "scene": {
           "xaxis": {
            "backgroundcolor": "#E5ECF6",
            "gridcolor": "white",
            "gridwidth": 2,
            "linecolor": "white",
            "showbackground": true,
            "ticks": "",
            "zerolinecolor": "white"
           },
           "yaxis": {
            "backgroundcolor": "#E5ECF6",
            "gridcolor": "white",
            "gridwidth": 2,
            "linecolor": "white",
            "showbackground": true,
            "ticks": "",
            "zerolinecolor": "white"
           },
           "zaxis": {
            "backgroundcolor": "#E5ECF6",
            "gridcolor": "white",
            "gridwidth": 2,
            "linecolor": "white",
            "showbackground": true,
            "ticks": "",
            "zerolinecolor": "white"
           }
          },
          "shapedefaults": {
           "line": {
            "color": "#2a3f5f"
           }
          },
          "ternary": {
           "aaxis": {
            "gridcolor": "white",
            "linecolor": "white",
            "ticks": ""
           },
           "baxis": {
            "gridcolor": "white",
            "linecolor": "white",
            "ticks": ""
           },
           "bgcolor": "#E5ECF6",
           "caxis": {
            "gridcolor": "white",
            "linecolor": "white",
            "ticks": ""
           }
          },
          "title": {
           "x": 0.05
          },
          "xaxis": {
           "automargin": true,
           "gridcolor": "white",
           "linecolor": "white",
           "ticks": "",
           "title": {
            "standoff": 15
           },
           "zerolinecolor": "white",
           "zerolinewidth": 2
          },
          "yaxis": {
           "automargin": true,
           "gridcolor": "white",
           "linecolor": "white",
           "ticks": "",
           "title": {
            "standoff": 15
           },
           "zerolinecolor": "white",
           "zerolinewidth": 2
          }
         }
        },
        "title": {
         "text": "Tags proportions by decades"
        }
       }
      }
     },
     "metadata": {},
     "output_type": "display_data"
    }
   ],
   "source": [
    "from modules.vizualisation import piechart_tags_decade\n",
    "\n",
    "piechart_tags_decade(df)"
   ]
  },
  {
   "cell_type": "code",
   "execution_count": 6,
   "metadata": {},
   "outputs": [
    {
     "data": {
      "application/vnd.plotly.v1+json": {
       "config": {
        "plotlyServerURL": "https://plot.ly"
       },
       "data": [
        {
         "marker": {
          "color": [
           799803,
           72338,
           71570,
           44884,
           42807,
           27288,
           25911,
           23198,
           16691,
           14563,
           12553,
           12470,
           12057,
           11192,
           10436,
           9475,
           8826,
           7296,
           7248,
           7136,
           6833,
           6253,
           6109,
           5869,
           5868,
           5736,
           5249,
           4773,
           4482,
           4479,
           4259,
           3524,
           3500,
           3146,
           2802,
           2612,
           2554,
           2450,
           2428,
           2365,
           2313,
           2307,
           2162,
           2115,
           2086,
           2082,
           2045,
           2031,
           1949,
           1829,
           1812,
           1791,
           1656,
           1641,
           1637,
           1595,
           1502,
           1484,
           1474,
           1469,
           1414,
           1370,
           1350,
           1316,
           1311,
           1230,
           1179,
           1119,
           1114,
           1109,
           1094,
           1069,
           1056,
           1028,
           977,
           969,
           967,
           919,
           904,
           894,
           888,
           882,
           879,
           859,
           851,
           819,
           810,
           810,
           799,
           794,
           782,
           762,
           734,
           732,
           703,
           673,
           661,
           654,
           644,
           638,
           637,
           629,
           623,
           619,
           612,
           604,
           593,
           577,
           558,
           539,
           536,
           536,
           532,
           530,
           526,
           514,
           509,
           509,
           492,
           492,
           484,
           457,
           454,
           448,
           423,
           399,
           399,
           392,
           380,
           376,
           369,
           367,
           365,
           360,
           348,
           348,
           344,
           339,
           339,
           337,
           334,
           322,
           321,
           316,
           304,
           302,
           299,
           295,
           285,
           284,
           278,
           260,
           258,
           251,
           250,
           248,
           244,
           237,
           237,
           236,
           235,
           230,
           229,
           227,
           226,
           224,
           214,
           212,
           209,
           208,
           205,
           205,
           201,
           198,
           196,
           196,
           195,
           191,
           186,
           185,
           180,
           180,
           178,
           177,
           173,
           170,
           170,
           170,
           168,
           165,
           162,
           160,
           156,
           155,
           152,
           151,
           148,
           148,
           147,
           146,
           140,
           138,
           130,
           129,
           128,
           127,
           126,
           126,
           125,
           122,
           120,
           119,
           119,
           119,
           117,
           116,
           113,
           106,
           105,
           104,
           102,
           101,
           97,
           97,
           96,
           93,
           89,
           86,
           83,
           83,
           83,
           81,
           80,
           79,
           77,
           75,
           75,
           74,
           73,
           72,
           70,
           69,
           68,
           66,
           57,
           57,
           57,
           56,
           55,
           55,
           53,
           52,
           50,
           48,
           48,
           47,
           46,
           46,
           45,
           42,
           42,
           40,
           40,
           36,
           36,
           35,
           35,
           35,
           33,
           30,
           30,
           29,
           29,
           29,
           29,
           28,
           27,
           26,
           26,
           25,
           24,
           24,
           23,
           21,
           20,
           18,
           18,
           17,
           17,
           16,
           15,
           15,
           14,
           11,
           10,
           10,
           10,
           10,
           9,
           8,
           8,
           8,
           7,
           7,
           7,
           7,
           6,
           6,
           6,
           6,
           5,
           5,
           3,
           3,
           3,
           3,
           3,
           2,
           2,
           1
          ],
          "colorscale": [
           [
            0,
            "#0d0887"
           ],
           [
            0.1111111111111111,
            "#46039f"
           ],
           [
            0.2222222222222222,
            "#7201a8"
           ],
           [
            0.3333333333333333,
            "#9c179e"
           ],
           [
            0.4444444444444444,
            "#bd3786"
           ],
           [
            0.5555555555555556,
            "#d8576b"
           ],
           [
            0.6666666666666666,
            "#ed7953"
           ],
           [
            0.7777777777777778,
            "#fb9f3a"
           ],
           [
            0.8888888888888888,
            "#fdca26"
           ],
           [
            1,
            "#f0f921"
           ]
          ]
         },
         "name": "1960",
         "orientation": "h",
         "showlegend": false,
         "type": "bar",
         "x": [
          25911,
          27288,
          42807,
          44884,
          71570,
          72338,
          799803
         ],
         "xaxis": "x",
         "y": [
          "The Animals",
          "Jim Bryant, Marni Nixon, Johnny Green & West Side Story Orchestra",
          "Frank Sinatra",
          "The 5th Dimension",
          "Stevie Wonder",
          "John Denver",
          "The Beatles"
         ],
         "yaxis": "y"
        },
        {
         "marker": {
          "color": [
           864234,
           512118,
           222755,
           197195,
           105024,
           61777,
           52988,
           36130,
           23967,
           23318,
           22373,
           15969,
           15718,
           15711,
           13692,
           13469,
           13391,
           13242,
           12372,
           11905,
           10881,
           9772,
           9339,
           9273,
           8341,
           8059,
           7839,
           7726,
           7652,
           7378,
           5960,
           5606,
           5539,
           4931,
           4728,
           4566,
           4318,
           4217,
           4208,
           4186,
           4025,
           3635,
           3562,
           3554,
           3491,
           3341,
           3339,
           3297,
           3260,
           3176,
           3135,
           3088,
           3084,
           3062,
           3054,
           2868,
           2621,
           2573,
           2451,
           2389,
           2340,
           2281,
           2278,
           2190,
           2127,
           2055,
           2023,
           1941,
           1928,
           1892,
           1875,
           1857,
           1848,
           1842,
           1771,
           1720,
           1642,
           1624,
           1572,
           1492,
           1465,
           1458,
           1420,
           1417,
           1414,
           1387,
           1377,
           1337,
           1269,
           1264,
           1189,
           1176,
           1170,
           1132,
           1114,
           1098,
           1091,
           1081,
           1065,
           1043,
           1022,
           998,
           983,
           947,
           938,
           929,
           900,
           886,
           882,
           866,
           857,
           832,
           817,
           804,
           804,
           793,
           786,
           784,
           780,
           767,
           750,
           724,
           716,
           698,
           688,
           678,
           669,
           658,
           657,
           644,
           642,
           642,
           640,
           620,
           607,
           607,
           602,
           600,
           597,
           594,
           590,
           584,
           578,
           566,
           565,
           565,
           558,
           542,
           536,
           535,
           535,
           533,
           525,
           518,
           518,
           498,
           492,
           489,
           488,
           478,
           475,
           467,
           457,
           455,
           449,
           427,
           425,
           418,
           413,
           413,
           409,
           386,
           384,
           381,
           378,
           374,
           369,
           369,
           368,
           354,
           350,
           348,
           347,
           327,
           319,
           318,
           315,
           311,
           307,
           302,
           298,
           296,
           291,
           287,
           281,
           281,
           269,
           264,
           263,
           262,
           262,
           260,
           253,
           244,
           244,
           241,
           238,
           236,
           233,
           225,
           224,
           223,
           222,
           217,
           216,
           211,
           211,
           210,
           207,
           206,
           206,
           203,
           198,
           198,
           195,
           190,
           182,
           182,
           181,
           180,
           178,
           176,
           171,
           171,
           169,
           167,
           166,
           165,
           162,
           156,
           155,
           152,
           151,
           151,
           149,
           148,
           147,
           145,
           145,
           145,
           142,
           141,
           138,
           136,
           136,
           135,
           133,
           132,
           132,
           129,
           126,
           123,
           117,
           112,
           112,
           109,
           108,
           108,
           107,
           106,
           105,
           104,
           104,
           102,
           101,
           100,
           100,
           92,
           92,
           88,
           88,
           87,
           87,
           85,
           85,
           84,
           83,
           81,
           78,
           77,
           77,
           74,
           72,
           71,
           71,
           69,
           69,
           67,
           67,
           65,
           64,
           64,
           60,
           60,
           56,
           54,
           53,
           53,
           53,
           51,
           50,
           50,
           48,
           47,
           46,
           46,
           45,
           44,
           43,
           42,
           41,
           41,
           40,
           40,
           39,
           37,
           37,
           36,
           35,
           35,
           34,
           33,
           33,
           30,
           26,
           26,
           26,
           25,
           23,
           22,
           22,
           22,
           21,
           21,
           21,
           20,
           20,
           19,
           18,
           16,
           16,
           15,
           14,
           14,
           13,
           13,
           13,
           11,
           11,
           11,
           10,
           10,
           10,
           10,
           9,
           9,
           8,
           8,
           7,
           6,
           6,
           6,
           6,
           5,
           4,
           4,
           4,
           4,
           3,
           3,
           3,
           3,
           3,
           2,
           2,
           2,
           1
          ],
          "colorscale": [
           [
            0,
            "#0d0887"
           ],
           [
            0.1111111111111111,
            "#46039f"
           ],
           [
            0.2222222222222222,
            "#7201a8"
           ],
           [
            0.3333333333333333,
            "#9c179e"
           ],
           [
            0.4444444444444444,
            "#bd3786"
           ],
           [
            0.5555555555555556,
            "#d8576b"
           ],
           [
            0.6666666666666666,
            "#ed7953"
           ],
           [
            0.7777777777777778,
            "#fb9f3a"
           ],
           [
            0.8888888888888888,
            "#fdca26"
           ],
           [
            1,
            "#f0f921"
           ]
          ]
         },
         "name": "1970",
         "orientation": "h",
         "showlegend": false,
         "type": "bar",
         "x": [
          52988,
          61777,
          105024,
          197195,
          222755,
          512118,
          864234
         ],
         "xaxis": "x2",
         "y": [
          "The Modern Lovers",
          "Gladys Knight & The Pips",
          "John Lennon",
          "Marvin Gaye",
          "Carrroll O'Connor and Jean Stapleton",
          "Black Sabbath",
          "Queen"
         ],
         "yaxis": "y2"
        },
        {
         "marker": {
          "color": [
           2019657,
           120098,
           80421,
           40909,
           36903,
           35690,
           32998,
           31837,
           22135,
           21045,
           15918,
           9427,
           8803,
           8439,
           7979,
           7633,
           7463,
           7248,
           7184,
           7141,
           6086,
           5516,
           5403,
           5113,
           4970,
           4907,
           4742,
           4468,
           4336,
           3766,
           3761,
           3688,
           3201,
           3063,
           2847,
           2820,
           2805,
           2800,
           2790,
           2745,
           2630,
           2525,
           2198,
           2154,
           2139,
           2059,
           1972,
           1957,
           1886,
           1745,
           1675,
           1609,
           1592,
           1553,
           1442,
           1432,
           1424,
           1419,
           1417,
           1379,
           1319,
           1309,
           1301,
           1282,
           1272,
           1241,
           1239,
           1184,
           1184,
           1175,
           1127,
           1098,
           1031,
           1025,
           974,
           940,
           938,
           895,
           891,
           879,
           874,
           874,
           861,
           852,
           847,
           836,
           825,
           809,
           789,
           788,
           780,
           772,
           762,
           748,
           748,
           748,
           746,
           710,
           705,
           688,
           683,
           632,
           628,
           616,
           602,
           593,
           593,
           573,
           566,
           556,
           545,
           540,
           538,
           525,
           508,
           505,
           504,
           489,
           477,
           475,
           454,
           449,
           433,
           424,
           423,
           413,
           407,
           404,
           385,
           379,
           379,
           378,
           378,
           377,
           374,
           372,
           371,
           365,
           363,
           358,
           342,
           337,
           337,
           319,
           315,
           311,
           310,
           309,
           302,
           299,
           299,
           294,
           293,
           290,
           288,
           284,
           279,
           273,
           270,
           269,
           268,
           268,
           267,
           266,
           261,
           254,
           252,
           247,
           242,
           238,
           234,
           233,
           232,
           232,
           228,
           228,
           228,
           227,
           223,
           220,
           220,
           216,
           216,
           214,
           214,
           213,
           212,
           212,
           208,
           208,
           205,
           205,
           202,
           201,
           201,
           200,
           200,
           194,
           193,
           186,
           185,
           184,
           183,
           183,
           182,
           180,
           180,
           180,
           180,
           179,
           178,
           169,
           167,
           167,
           166,
           164,
           160,
           159,
           158,
           156,
           154,
           154,
           153,
           153,
           153,
           151,
           151,
           150,
           146,
           143,
           143,
           143,
           140,
           138,
           135,
           134,
           134,
           133,
           133,
           130,
           130,
           129,
           128,
           128,
           126,
           124,
           123,
           122,
           121,
           120,
           119,
           111,
           108,
           108,
           107,
           106,
           105,
           105,
           103,
           102,
           101,
           101,
           96,
           94,
           93,
           92,
           91,
           90,
           86,
           85,
           83,
           82,
           81,
           79,
           78,
           77,
           77,
           76,
           75,
           75,
           75,
           74,
           73,
           72,
           72,
           71,
           70,
           68,
           68,
           66,
           66,
           65,
           64,
           63,
           62,
           62,
           61,
           60,
           59,
           59,
           58,
           55,
           55,
           54,
           53,
           53,
           52,
           52,
           51,
           50,
           50,
           50,
           49,
           49,
           48,
           47,
           47,
           46,
           43,
           43,
           42,
           42,
           39,
           39,
           38,
           38,
           37,
           37,
           36,
           36,
           36,
           34,
           33,
           32,
           31,
           31,
           30,
           30,
           30,
           30,
           29,
           29,
           29,
           29,
           27,
           27,
           27,
           27,
           27,
           26,
           25,
           25,
           24,
           23,
           23,
           22,
           21,
           21,
           20,
           20,
           19,
           19,
           18,
           18,
           17,
           17,
           16,
           15,
           13,
           13,
           13,
           13,
           12,
           11,
           10,
           9,
           9,
           9,
           8,
           7,
           7,
           6,
           5,
           5,
           5,
           5,
           5,
           5,
           4,
           4,
           4,
           4,
           4,
           4,
           4,
           3,
           3
          ],
          "colorscale": [
           [
            0,
            "#0d0887"
           ],
           [
            0.1111111111111111,
            "#46039f"
           ],
           [
            0.2222222222222222,
            "#7201a8"
           ],
           [
            0.3333333333333333,
            "#9c179e"
           ],
           [
            0.4444444444444444,
            "#bd3786"
           ],
           [
            0.5555555555555556,
            "#d8576b"
           ],
           [
            0.6666666666666666,
            "#ed7953"
           ],
           [
            0.7777777777777778,
            "#fb9f3a"
           ],
           [
            0.8888888888888888,
            "#fdca26"
           ],
           [
            1,
            "#f0f921"
           ]
          ]
         },
         "name": "1980",
         "orientation": "h",
         "showlegend": false,
         "type": "bar",
         "x": [
          32998,
          35690,
          36903,
          40909,
          80421,
          120098,
          2019657
         ],
         "xaxis": "x3",
         "y": [
          "Metallica",
          "The Smiths",
          "Plustwo",
          "3rd Bass",
          "The Clash",
          "Oingo Boingo",
          "Rick Astley"
         ],
         "yaxis": "y3"
        },
        {
         "marker": {
          "color": [
           272762,
           232955,
           100027,
           78352,
           40839,
           36037,
           26059,
           25367,
           24842,
           24349,
           19694,
           18717,
           16400,
           16259,
           15157,
           11162,
           10795,
           8492,
           8342,
           7748,
           7477,
           7120,
           7048,
           6044,
           5524,
           5071,
           5024,
           4040,
           3810,
           3563,
           3547,
           3522,
           3515,
           3407,
           3342,
           3305,
           3145,
           3115,
           3104,
           2764,
           2716,
           2667,
           2626,
           2618,
           2512,
           2372,
           2330,
           2275,
           2197,
           2159,
           2044,
           1954,
           1839,
           1834,
           1784,
           1745,
           1732,
           1595,
           1592,
           1571,
           1527,
           1408,
           1287,
           1255,
           1239,
           1187,
           1184,
           1178,
           1162,
           1132,
           1115,
           1100,
           1088,
           1057,
           1051,
           1047,
           971,
           923,
           900,
           893,
           863,
           851,
           847,
           847,
           843,
           814,
           808,
           793,
           780,
           771,
           763,
           759,
           724,
           704,
           676,
           675,
           671,
           663,
           657,
           643,
           629,
           627,
           618,
           617,
           612,
           609,
           605,
           599,
           582,
           580,
           567,
           564,
           564,
           564,
           557,
           550,
           547,
           546,
           533,
           510,
           495,
           489,
           483,
           479,
           477,
           476,
           467,
           463,
           442,
           436,
           429,
           415,
           401,
           397,
           393,
           393,
           383,
           382,
           374,
           373,
           369,
           368,
           360,
           359,
           358,
           355,
           353,
           351,
           349,
           346,
           345,
           344,
           343,
           326,
           316,
           311,
           308,
           301,
           293,
           290,
           287,
           287,
           285,
           278,
           269,
           264,
           263,
           255,
           253,
           249,
           247,
           245,
           245,
           242,
           240,
           234,
           234,
           232,
           231,
           231,
           229,
           228,
           223,
           221,
           220,
           205,
           205,
           204,
           204,
           203,
           202,
           196,
           193,
           192,
           191,
           187,
           186,
           185,
           182,
           182,
           179,
           177,
           176,
           174,
           173,
           165,
           165,
           158,
           157,
           152,
           151,
           150,
           147,
           147,
           145,
           144,
           144,
           143,
           143,
           143,
           142,
           142,
           141,
           139,
           137,
           136,
           133,
           130,
           127,
           127,
           124,
           124,
           123,
           122,
           121,
           119,
           117,
           115,
           114,
           114,
           110,
           110,
           110,
           108,
           107,
           107,
           105,
           105,
           104,
           104,
           104,
           103,
           101,
           100,
           99,
           97,
           95,
           94,
           94,
           94,
           94,
           93,
           92,
           91,
           90,
           89,
           88,
           87,
           86,
           86,
           86,
           85,
           82,
           82,
           81,
           80,
           79,
           79,
           78,
           78,
           78,
           77,
           76,
           74,
           73,
           73,
           71,
           70,
           70,
           69,
           68,
           67,
           67,
           64,
           64,
           63,
           63,
           62,
           62,
           62,
           61,
           60,
           59,
           59,
           58,
           55,
           52,
           52,
           51,
           51,
           51,
           51,
           50,
           49,
           49,
           49,
           49,
           49,
           48,
           47,
           45,
           44,
           43,
           43,
           43,
           42,
           42,
           41,
           39,
           38,
           36,
           34,
           34,
           33,
           33,
           33,
           32,
           32,
           32,
           32,
           30,
           30,
           30,
           29,
           29,
           28,
           28,
           27,
           27,
           26,
           26,
           26,
           23,
           23,
           23,
           21,
           21,
           20,
           20,
           20,
           19,
           18,
           18,
           16,
           16,
           15,
           15,
           15,
           15,
           15,
           15,
           14,
           13,
           13,
           12,
           12,
           12,
           11,
           10,
           10,
           10,
           10,
           9,
           9,
           8,
           8,
           8,
           8,
           8,
           7,
           7,
           7,
           7,
           6,
           6,
           6,
           6,
           5,
           5,
           4,
           4,
           3,
           2,
           1,
           0
          ],
          "colorscale": [
           [
            0,
            "#0d0887"
           ],
           [
            0.1111111111111111,
            "#46039f"
           ],
           [
            0.2222222222222222,
            "#7201a8"
           ],
           [
            0.3333333333333333,
            "#9c179e"
           ],
           [
            0.4444444444444444,
            "#bd3786"
           ],
           [
            0.5555555555555556,
            "#d8576b"
           ],
           [
            0.6666666666666666,
            "#ed7953"
           ],
           [
            0.7777777777777778,
            "#fb9f3a"
           ],
           [
            0.8888888888888888,
            "#fdca26"
           ],
           [
            1,
            "#f0f921"
           ]
          ]
         },
         "name": "1990",
         "orientation": "h",
         "showlegend": false,
         "type": "bar",
         "x": [
          26059,
          36037,
          40839,
          78352,
          100027,
          232955,
          272762
         ],
         "xaxis": "x4",
         "y": [
          "Queen",
          "Body Count",
          "Metallica",
          "John Mayer",
          "Capone-N-Noreaga",
          "Michael Jackson",
          "Sublime"
         ],
         "yaxis": "y4"
        }
       ],
       "layout": {
        "annotations": [
         {
          "font": {
           "size": 16
          },
          "showarrow": false,
          "text": "1960",
          "x": 0.225,
          "xanchor": "center",
          "xref": "paper",
          "y": 1,
          "yanchor": "bottom",
          "yref": "paper"
         },
         {
          "font": {
           "size": 16
          },
          "showarrow": false,
          "text": "1970",
          "x": 0.775,
          "xanchor": "center",
          "xref": "paper",
          "y": 1,
          "yanchor": "bottom",
          "yref": "paper"
         },
         {
          "font": {
           "size": 16
          },
          "showarrow": false,
          "text": "1980",
          "x": 0.225,
          "xanchor": "center",
          "xref": "paper",
          "y": 0.375,
          "yanchor": "bottom",
          "yref": "paper"
         },
         {
          "font": {
           "size": 16
          },
          "showarrow": false,
          "text": "1990",
          "x": 0.775,
          "xanchor": "center",
          "xref": "paper",
          "y": 0.375,
          "yanchor": "bottom",
          "yref": "paper"
         },
         {
          "font": {
           "size": 16
          },
          "showarrow": false,
          "text": "number of occurrences",
          "x": 0.5,
          "xanchor": "center",
          "xref": "paper",
          "y": 0,
          "yanchor": "top",
          "yref": "paper",
          "yshift": -30
         },
         {
          "font": {
           "size": 16
          },
          "showarrow": false,
          "text": "views",
          "textangle": -90,
          "x": 0,
          "xanchor": "right",
          "xref": "paper",
          "xshift": -40,
          "y": 0.5,
          "yanchor": "middle",
          "yref": "paper"
         }
        ],
        "template": {
         "data": {
          "bar": [
           {
            "error_x": {
             "color": "#2a3f5f"
            },
            "error_y": {
             "color": "#2a3f5f"
            },
            "marker": {
             "line": {
              "color": "#E5ECF6",
              "width": 0.5
             },
             "pattern": {
              "fillmode": "overlay",
              "size": 10,
              "solidity": 0.2
             }
            },
            "type": "bar"
           }
          ],
          "barpolar": [
           {
            "marker": {
             "line": {
              "color": "#E5ECF6",
              "width": 0.5
             },
             "pattern": {
              "fillmode": "overlay",
              "size": 10,
              "solidity": 0.2
             }
            },
            "type": "barpolar"
           }
          ],
          "carpet": [
           {
            "aaxis": {
             "endlinecolor": "#2a3f5f",
             "gridcolor": "white",
             "linecolor": "white",
             "minorgridcolor": "white",
             "startlinecolor": "#2a3f5f"
            },
            "baxis": {
             "endlinecolor": "#2a3f5f",
             "gridcolor": "white",
             "linecolor": "white",
             "minorgridcolor": "white",
             "startlinecolor": "#2a3f5f"
            },
            "type": "carpet"
           }
          ],
          "choropleth": [
           {
            "colorbar": {
             "outlinewidth": 0,
             "ticks": ""
            },
            "type": "choropleth"
           }
          ],
          "contour": [
           {
            "colorbar": {
             "outlinewidth": 0,
             "ticks": ""
            },
            "colorscale": [
             [
              0,
              "#0d0887"
             ],
             [
              0.1111111111111111,
              "#46039f"
             ],
             [
              0.2222222222222222,
              "#7201a8"
             ],
             [
              0.3333333333333333,
              "#9c179e"
             ],
             [
              0.4444444444444444,
              "#bd3786"
             ],
             [
              0.5555555555555556,
              "#d8576b"
             ],
             [
              0.6666666666666666,
              "#ed7953"
             ],
             [
              0.7777777777777778,
              "#fb9f3a"
             ],
             [
              0.8888888888888888,
              "#fdca26"
             ],
             [
              1,
              "#f0f921"
             ]
            ],
            "type": "contour"
           }
          ],
          "contourcarpet": [
           {
            "colorbar": {
             "outlinewidth": 0,
             "ticks": ""
            },
            "type": "contourcarpet"
           }
          ],
          "heatmap": [
           {
            "colorbar": {
             "outlinewidth": 0,
             "ticks": ""
            },
            "colorscale": [
             [
              0,
              "#0d0887"
             ],
             [
              0.1111111111111111,
              "#46039f"
             ],
             [
              0.2222222222222222,
              "#7201a8"
             ],
             [
              0.3333333333333333,
              "#9c179e"
             ],
             [
              0.4444444444444444,
              "#bd3786"
             ],
             [
              0.5555555555555556,
              "#d8576b"
             ],
             [
              0.6666666666666666,
              "#ed7953"
             ],
             [
              0.7777777777777778,
              "#fb9f3a"
             ],
             [
              0.8888888888888888,
              "#fdca26"
             ],
             [
              1,
              "#f0f921"
             ]
            ],
            "type": "heatmap"
           }
          ],
          "heatmapgl": [
           {
            "colorbar": {
             "outlinewidth": 0,
             "ticks": ""
            },
            "colorscale": [
             [
              0,
              "#0d0887"
             ],
             [
              0.1111111111111111,
              "#46039f"
             ],
             [
              0.2222222222222222,
              "#7201a8"
             ],
             [
              0.3333333333333333,
              "#9c179e"
             ],
             [
              0.4444444444444444,
              "#bd3786"
             ],
             [
              0.5555555555555556,
              "#d8576b"
             ],
             [
              0.6666666666666666,
              "#ed7953"
             ],
             [
              0.7777777777777778,
              "#fb9f3a"
             ],
             [
              0.8888888888888888,
              "#fdca26"
             ],
             [
              1,
              "#f0f921"
             ]
            ],
            "type": "heatmapgl"
           }
          ],
          "histogram": [
           {
            "marker": {
             "pattern": {
              "fillmode": "overlay",
              "size": 10,
              "solidity": 0.2
             }
            },
            "type": "histogram"
           }
          ],
          "histogram2d": [
           {
            "colorbar": {
             "outlinewidth": 0,
             "ticks": ""
            },
            "colorscale": [
             [
              0,
              "#0d0887"
             ],
             [
              0.1111111111111111,
              "#46039f"
             ],
             [
              0.2222222222222222,
              "#7201a8"
             ],
             [
              0.3333333333333333,
              "#9c179e"
             ],
             [
              0.4444444444444444,
              "#bd3786"
             ],
             [
              0.5555555555555556,
              "#d8576b"
             ],
             [
              0.6666666666666666,
              "#ed7953"
             ],
             [
              0.7777777777777778,
              "#fb9f3a"
             ],
             [
              0.8888888888888888,
              "#fdca26"
             ],
             [
              1,
              "#f0f921"
             ]
            ],
            "type": "histogram2d"
           }
          ],
          "histogram2dcontour": [
           {
            "colorbar": {
             "outlinewidth": 0,
             "ticks": ""
            },
            "colorscale": [
             [
              0,
              "#0d0887"
             ],
             [
              0.1111111111111111,
              "#46039f"
             ],
             [
              0.2222222222222222,
              "#7201a8"
             ],
             [
              0.3333333333333333,
              "#9c179e"
             ],
             [
              0.4444444444444444,
              "#bd3786"
             ],
             [
              0.5555555555555556,
              "#d8576b"
             ],
             [
              0.6666666666666666,
              "#ed7953"
             ],
             [
              0.7777777777777778,
              "#fb9f3a"
             ],
             [
              0.8888888888888888,
              "#fdca26"
             ],
             [
              1,
              "#f0f921"
             ]
            ],
            "type": "histogram2dcontour"
           }
          ],
          "mesh3d": [
           {
            "colorbar": {
             "outlinewidth": 0,
             "ticks": ""
            },
            "type": "mesh3d"
           }
          ],
          "parcoords": [
           {
            "line": {
             "colorbar": {
              "outlinewidth": 0,
              "ticks": ""
             }
            },
            "type": "parcoords"
           }
          ],
          "pie": [
           {
            "automargin": true,
            "type": "pie"
           }
          ],
          "scatter": [
           {
            "fillpattern": {
             "fillmode": "overlay",
             "size": 10,
             "solidity": 0.2
            },
            "type": "scatter"
           }
          ],
          "scatter3d": [
           {
            "line": {
             "colorbar": {
              "outlinewidth": 0,
              "ticks": ""
             }
            },
            "marker": {
             "colorbar": {
              "outlinewidth": 0,
              "ticks": ""
             }
            },
            "type": "scatter3d"
           }
          ],
          "scattercarpet": [
           {
            "marker": {
             "colorbar": {
              "outlinewidth": 0,
              "ticks": ""
             }
            },
            "type": "scattercarpet"
           }
          ],
          "scattergeo": [
           {
            "marker": {
             "colorbar": {
              "outlinewidth": 0,
              "ticks": ""
             }
            },
            "type": "scattergeo"
           }
          ],
          "scattergl": [
           {
            "marker": {
             "colorbar": {
              "outlinewidth": 0,
              "ticks": ""
             }
            },
            "type": "scattergl"
           }
          ],
          "scattermapbox": [
           {
            "marker": {
             "colorbar": {
              "outlinewidth": 0,
              "ticks": ""
             }
            },
            "type": "scattermapbox"
           }
          ],
          "scatterpolar": [
           {
            "marker": {
             "colorbar": {
              "outlinewidth": 0,
              "ticks": ""
             }
            },
            "type": "scatterpolar"
           }
          ],
          "scatterpolargl": [
           {
            "marker": {
             "colorbar": {
              "outlinewidth": 0,
              "ticks": ""
             }
            },
            "type": "scatterpolargl"
           }
          ],
          "scatterternary": [
           {
            "marker": {
             "colorbar": {
              "outlinewidth": 0,
              "ticks": ""
             }
            },
            "type": "scatterternary"
           }
          ],
          "surface": [
           {
            "colorbar": {
             "outlinewidth": 0,
             "ticks": ""
            },
            "colorscale": [
             [
              0,
              "#0d0887"
             ],
             [
              0.1111111111111111,
              "#46039f"
             ],
             [
              0.2222222222222222,
              "#7201a8"
             ],
             [
              0.3333333333333333,
              "#9c179e"
             ],
             [
              0.4444444444444444,
              "#bd3786"
             ],
             [
              0.5555555555555556,
              "#d8576b"
             ],
             [
              0.6666666666666666,
              "#ed7953"
             ],
             [
              0.7777777777777778,
              "#fb9f3a"
             ],
             [
              0.8888888888888888,
              "#fdca26"
             ],
             [
              1,
              "#f0f921"
             ]
            ],
            "type": "surface"
           }
          ],
          "table": [
           {
            "cells": {
             "fill": {
              "color": "#EBF0F8"
             },
             "line": {
              "color": "white"
             }
            },
            "header": {
             "fill": {
              "color": "#C8D4E3"
             },
             "line": {
              "color": "white"
             }
            },
            "type": "table"
           }
          ]
         },
         "layout": {
          "annotationdefaults": {
           "arrowcolor": "#2a3f5f",
           "arrowhead": 0,
           "arrowwidth": 1
          },
          "autotypenumbers": "strict",
          "coloraxis": {
           "colorbar": {
            "outlinewidth": 0,
            "ticks": ""
           }
          },
          "colorscale": {
           "diverging": [
            [
             0,
             "#8e0152"
            ],
            [
             0.1,
             "#c51b7d"
            ],
            [
             0.2,
             "#de77ae"
            ],
            [
             0.3,
             "#f1b6da"
            ],
            [
             0.4,
             "#fde0ef"
            ],
            [
             0.5,
             "#f7f7f7"
            ],
            [
             0.6,
             "#e6f5d0"
            ],
            [
             0.7,
             "#b8e186"
            ],
            [
             0.8,
             "#7fbc41"
            ],
            [
             0.9,
             "#4d9221"
            ],
            [
             1,
             "#276419"
            ]
           ],
           "sequential": [
            [
             0,
             "#0d0887"
            ],
            [
             0.1111111111111111,
             "#46039f"
            ],
            [
             0.2222222222222222,
             "#7201a8"
            ],
            [
             0.3333333333333333,
             "#9c179e"
            ],
            [
             0.4444444444444444,
             "#bd3786"
            ],
            [
             0.5555555555555556,
             "#d8576b"
            ],
            [
             0.6666666666666666,
             "#ed7953"
            ],
            [
             0.7777777777777778,
             "#fb9f3a"
            ],
            [
             0.8888888888888888,
             "#fdca26"
            ],
            [
             1,
             "#f0f921"
            ]
           ],
           "sequentialminus": [
            [
             0,
             "#0d0887"
            ],
            [
             0.1111111111111111,
             "#46039f"
            ],
            [
             0.2222222222222222,
             "#7201a8"
            ],
            [
             0.3333333333333333,
             "#9c179e"
            ],
            [
             0.4444444444444444,
             "#bd3786"
            ],
            [
             0.5555555555555556,
             "#d8576b"
            ],
            [
             0.6666666666666666,
             "#ed7953"
            ],
            [
             0.7777777777777778,
             "#fb9f3a"
            ],
            [
             0.8888888888888888,
             "#fdca26"
            ],
            [
             1,
             "#f0f921"
            ]
           ]
          },
          "colorway": [
           "#636efa",
           "#EF553B",
           "#00cc96",
           "#ab63fa",
           "#FFA15A",
           "#19d3f3",
           "#FF6692",
           "#B6E880",
           "#FF97FF",
           "#FECB52"
          ],
          "font": {
           "color": "#2a3f5f"
          },
          "geo": {
           "bgcolor": "white",
           "lakecolor": "white",
           "landcolor": "#E5ECF6",
           "showlakes": true,
           "showland": true,
           "subunitcolor": "white"
          },
          "hoverlabel": {
           "align": "left"
          },
          "hovermode": "closest",
          "mapbox": {
           "style": "light"
          },
          "paper_bgcolor": "white",
          "plot_bgcolor": "#E5ECF6",
          "polar": {
           "angularaxis": {
            "gridcolor": "white",
            "linecolor": "white",
            "ticks": ""
           },
           "bgcolor": "#E5ECF6",
           "radialaxis": {
            "gridcolor": "white",
            "linecolor": "white",
            "ticks": ""
           }
          },
          "scene": {
           "xaxis": {
            "backgroundcolor": "#E5ECF6",
            "gridcolor": "white",
            "gridwidth": 2,
            "linecolor": "white",
            "showbackground": true,
            "ticks": "",
            "zerolinecolor": "white"
           },
           "yaxis": {
            "backgroundcolor": "#E5ECF6",
            "gridcolor": "white",
            "gridwidth": 2,
            "linecolor": "white",
            "showbackground": true,
            "ticks": "",
            "zerolinecolor": "white"
           },
           "zaxis": {
            "backgroundcolor": "#E5ECF6",
            "gridcolor": "white",
            "gridwidth": 2,
            "linecolor": "white",
            "showbackground": true,
            "ticks": "",
            "zerolinecolor": "white"
           }
          },
          "shapedefaults": {
           "line": {
            "color": "#2a3f5f"
           }
          },
          "ternary": {
           "aaxis": {
            "gridcolor": "white",
            "linecolor": "white",
            "ticks": ""
           },
           "baxis": {
            "gridcolor": "white",
            "linecolor": "white",
            "ticks": ""
           },
           "bgcolor": "#E5ECF6",
           "caxis": {
            "gridcolor": "white",
            "linecolor": "white",
            "ticks": ""
           }
          },
          "title": {
           "x": 0.05
          },
          "xaxis": {
           "automargin": true,
           "gridcolor": "white",
           "linecolor": "white",
           "ticks": "",
           "title": {
            "standoff": 15
           },
           "zerolinecolor": "white",
           "zerolinewidth": 2
          },
          "yaxis": {
           "automargin": true,
           "gridcolor": "white",
           "linecolor": "white",
           "ticks": "",
           "title": {
            "standoff": 15
           },
           "zerolinecolor": "white",
           "zerolinewidth": 2
          }
         }
        },
        "xaxis": {
         "anchor": "y",
         "domain": [
          0,
          0.45
         ]
        },
        "xaxis2": {
         "anchor": "y2",
         "domain": [
          0.55,
          1
         ]
        },
        "xaxis3": {
         "anchor": "y3",
         "domain": [
          0,
          0.45
         ]
        },
        "xaxis4": {
         "anchor": "y4",
         "domain": [
          0.55,
          1
         ]
        },
        "yaxis": {
         "anchor": "x",
         "domain": [
          0.625,
          1
         ]
        },
        "yaxis2": {
         "anchor": "x2",
         "domain": [
          0.625,
          1
         ]
        },
        "yaxis3": {
         "anchor": "x3",
         "domain": [
          0,
          0.375
         ]
        },
        "yaxis4": {
         "anchor": "x4",
         "domain": [
          0,
          0.375
         ]
        }
       }
      }
     },
     "metadata": {},
     "output_type": "display_data"
    }
   ],
   "source": [
    "from modules.vizualisation import top_artists_decades\n",
    "\n",
    "# get unique decade\n",
    "decades = df.decade.sort_values().unique().tolist()\n",
    "\n",
    "top_artists_decades(df, decades=decades[:4], rows = 2, cols = 2, n_artists = 7)"
   ]
  },
  {
   "cell_type": "code",
   "execution_count": 7,
   "metadata": {},
   "outputs": [
    {
     "data": {
      "application/vnd.plotly.v1+json": {
       "config": {
        "plotlyServerURL": "https://plot.ly"
       },
       "data": [
        {
         "marker": {
          "color": [
           148944,
           44821,
           40004,
           39299,
           31218,
           30699,
           28882,
           20751,
           17502,
           16302,
           14051,
           13541,
           13438,
           11968,
           7799,
           6880,
           6710,
           6529,
           5872,
           5743,
           5684,
           4569,
           4562,
           4425,
           4014,
           3821,
           3783,
           3618,
           2673,
           2574,
           2491,
           2480,
           2363,
           2348,
           2303,
           2195,
           2189,
           2016,
           2001,
           1947,
           1897,
           1848,
           1778,
           1742,
           1722,
           1719,
           1698,
           1671,
           1663,
           1442,
           1398,
           1316,
           1182,
           1158,
           1157,
           1122,
           1114,
           1077,
           1066,
           1061,
           1041,
           1037,
           982,
           959,
           881,
           863,
           851,
           841,
           835,
           821,
           782,
           776,
           767,
           761,
           743,
           734,
           720,
           714,
           713,
           697,
           682,
           678,
           663,
           659,
           645,
           643,
           641,
           633,
           628,
           625,
           623,
           623,
           616,
           614,
           610,
           596,
           594,
           589,
           579,
           578,
           557,
           546,
           532,
           518,
           515,
           514,
           498,
           494,
           490,
           486,
           470,
           466,
           463,
           456,
           436,
           431,
           430,
           425,
           416,
           415,
           415,
           409,
           401,
           399,
           382,
           370,
           367,
           366,
           365,
           365,
           365,
           364,
           360,
           358,
           338,
           335,
           321,
           320,
           315,
           306,
           303,
           301,
           298,
           294,
           291,
           288,
           281,
           279,
           276,
           270,
           265,
           252,
           251,
           247,
           243,
           242,
           238,
           237,
           231,
           230,
           229,
           228,
           228,
           224,
           217,
           214,
           213,
           212,
           211,
           207,
           205,
           205,
           203,
           202,
           198,
           196,
           189,
           188,
           186,
           185,
           185,
           185,
           184,
           183,
           183,
           180,
           180,
           176,
           171,
           170,
           169,
           169,
           166,
           164,
           160,
           160,
           160,
           157,
           154,
           151,
           149,
           148,
           148,
           146,
           146,
           141,
           136,
           133,
           132,
           131,
           127,
           126,
           125,
           123,
           122,
           118,
           115,
           115,
           113,
           112,
           110,
           110,
           107,
           107,
           106,
           106,
           106,
           105,
           103,
           102,
           102,
           102,
           101,
           101,
           100,
           100,
           99,
           98,
           98,
           97,
           95,
           93,
           93,
           92,
           91,
           91,
           90,
           89,
           88,
           87,
           86,
           86,
           86,
           85,
           85,
           84,
           83,
           82,
           82,
           82,
           82,
           81,
           81,
           81,
           80,
           79,
           79,
           78,
           77,
           77,
           76,
           76,
           76,
           75,
           75,
           75,
           75,
           73,
           72,
           72,
           71,
           70,
           69,
           67,
           67,
           67,
           67,
           65,
           65,
           65,
           64,
           64,
           64,
           63,
           62,
           60,
           60,
           59,
           59,
           58,
           57,
           57,
           56,
           56,
           55,
           53,
           52,
           52,
           50,
           50,
           49,
           49,
           49,
           48,
           46,
           45,
           45,
           45,
           45,
           45,
           45,
           44,
           44,
           43,
           43,
           42,
           42,
           41,
           41,
           40,
           40,
           40,
           39,
           39,
           38,
           37,
           37,
           36,
           36,
           36,
           36,
           35,
           34,
           33,
           32,
           31,
           31,
           30,
           30,
           29,
           29,
           29,
           29,
           29,
           28,
           27,
           27,
           26,
           26,
           26,
           26,
           25,
           25,
           25,
           24,
           24,
           24,
           24,
           24,
           24,
           23,
           23,
           22,
           21,
           21,
           21,
           21,
           21,
           20,
           20,
           19,
           19,
           19,
           19,
           18,
           18,
           18,
           17,
           17,
           16,
           16,
           15,
           15,
           15,
           14,
           14,
           14,
           13,
           13,
           13,
           13,
           12,
           11,
           9,
           9,
           9,
           8,
           8,
           7,
           7,
           7,
           7,
           6,
           6,
           6,
           6,
           6,
           5,
           5,
           5,
           5,
           5,
           5,
           5,
           5,
           4,
           3,
           3,
           3,
           3,
           1,
           1,
           1,
           0,
           0
          ],
          "colorscale": [
           [
            0,
            "#0d0887"
           ],
           [
            0.1111111111111111,
            "#46039f"
           ],
           [
            0.2222222222222222,
            "#7201a8"
           ],
           [
            0.3333333333333333,
            "#9c179e"
           ],
           [
            0.4444444444444444,
            "#bd3786"
           ],
           [
            0.5555555555555556,
            "#d8576b"
           ],
           [
            0.6666666666666666,
            "#ed7953"
           ],
           [
            0.7777777777777778,
            "#fb9f3a"
           ],
           [
            0.8888888888888888,
            "#fdca26"
           ],
           [
            1,
            "#f0f921"
           ]
          ]
         },
         "name": "2000",
         "orientation": "h",
         "showlegend": false,
         "type": "bar",
         "x": [
          28882,
          30699,
          31218,
          39299,
          40004,
          44821,
          148944
         ],
         "xaxis": "x",
         "y": [
          "Parachute Band",
          "The Brobecks",
          "Max B",
          "Cuesh",
          "The Libertines",
          "Killswitch Engage",
          "Linkin Park"
         ],
         "yaxis": "y"
        },
        {
         "marker": {
          "color": [
           5420252,
           130999,
           119806,
           110836,
           85859,
           74052,
           66187,
           66081,
           50680,
           47306,
           32178,
           29843,
           26743,
           25741,
           23922,
           22472,
           22188,
           21964,
           17145,
           16561,
           12276,
           11629,
           11320,
           9333,
           9035,
           6881,
           6542,
           6474,
           6434,
           6192,
           6186,
           5934,
           5485,
           5434,
           5371,
           4432,
           4411,
           4188,
           4107,
           3961,
           3597,
           3249,
           2860,
           2698,
           2542,
           2511,
           2430,
           2410,
           2379,
           2254,
           2250,
           2223,
           2149,
           2121,
           2096,
           2089,
           2032,
           1911,
           1903,
           1816,
           1758,
           1725,
           1714,
           1668,
           1654,
           1596,
           1589,
           1580,
           1469,
           1432,
           1304,
           1293,
           1289,
           1273,
           1264,
           1258,
           1089,
           1062,
           1046,
           1026,
           993,
           950,
           944,
           927,
           915,
           914,
           875,
           861,
           855,
           852,
           835,
           806,
           743,
           729,
           724,
           709,
           707,
           701,
           689,
           678,
           663,
           663,
           620,
           617,
           605,
           550,
           545,
           510,
           507,
           492,
           485,
           466,
           451,
           441,
           405,
           383,
           382,
           364,
           349,
           348,
           344,
           342,
           335,
           333,
           331,
           310,
           309,
           299,
           296,
           290,
           287,
           279,
           276,
           273,
           273,
           271,
           268,
           267,
           264,
           264,
           263,
           254,
           252,
           245,
           240,
           236,
           234,
           234,
           232,
           230,
           229,
           226,
           221,
           220,
           218,
           213,
           210,
           205,
           204,
           203,
           202,
           199,
           199,
           190,
           186,
           176,
           175,
           172,
           171,
           164,
           161,
           161,
           160,
           157,
           154,
           154,
           154,
           153,
           150,
           133,
           130,
           128,
           120,
           115,
           114,
           112,
           111,
           105,
           104,
           104,
           103,
           103,
           101,
           100,
           99,
           99,
           96,
           96,
           92,
           92,
           92,
           92,
           92,
           92,
           91,
           90,
           89,
           89,
           88,
           88,
           87,
           87,
           86,
           82,
           79,
           79,
           78,
           75,
           75,
           73,
           73,
           70,
           69,
           68,
           68,
           67,
           66,
           65,
           63,
           63,
           63,
           63,
           62,
           62,
           61,
           60,
           60,
           59,
           59,
           59,
           58,
           58,
           57,
           57,
           57,
           56,
           54,
           54,
           54,
           53,
           52,
           52,
           52,
           51,
           50,
           50,
           49,
           49,
           49,
           48,
           48,
           47,
           47,
           46,
           46,
           44,
           43,
           43,
           43,
           43,
           43,
           43,
           42,
           42,
           41,
           41,
           41,
           41,
           40,
           40,
           39,
           39,
           38,
           38,
           38,
           38,
           37,
           37,
           36,
           35,
           34,
           34,
           34,
           34,
           33,
           33,
           33,
           33,
           32,
           32,
           31,
           31,
           30,
           30,
           30,
           29,
           29,
           28,
           28,
           27,
           27,
           27,
           27,
           27,
           26,
           26,
           26,
           26,
           25,
           25,
           25,
           25,
           24,
           24,
           23,
           23,
           22,
           22,
           21,
           21,
           20,
           20,
           20,
           20,
           19,
           19,
           19,
           19,
           18,
           18,
           17,
           17,
           17,
           16,
           16,
           16,
           16,
           15,
           14,
           14,
           14,
           14,
           14,
           14,
           13,
           13,
           13,
           12,
           12,
           11,
           11,
           11,
           11,
           10,
           10,
           10,
           9,
           9,
           8,
           8,
           7,
           7,
           7,
           7,
           7,
           6,
           6,
           6,
           6,
           6,
           5,
           5,
           5,
           4,
           4,
           4,
           4,
           3,
           3,
           3,
           3,
           3,
           3,
           2,
           2,
           2,
           1,
           1,
           1,
           1,
           1
          ],
          "colorscale": [
           [
            0,
            "#0d0887"
           ],
           [
            0.1111111111111111,
            "#46039f"
           ],
           [
            0.2222222222222222,
            "#7201a8"
           ],
           [
            0.3333333333333333,
            "#9c179e"
           ],
           [
            0.4444444444444444,
            "#bd3786"
           ],
           [
            0.5555555555555556,
            "#d8576b"
           ],
           [
            0.6666666666666666,
            "#ed7953"
           ],
           [
            0.7777777777777778,
            "#fb9f3a"
           ],
           [
            0.8888888888888888,
            "#fdca26"
           ],
           [
            1,
            "#f0f921"
           ]
          ]
         },
         "name": "2010",
         "orientation": "h",
         "showlegend": false,
         "type": "bar",
         "x": [
          66187,
          74052,
          85859,
          110836,
          119806,
          130999,
          5420252
         ],
         "xaxis": "x2",
         "y": [
          "Bastille",
          "Chief Keef",
          "Big Sean & Metro Boomin",
          "Martin Garrix",
          "Childish Gambino",
          "Florence + the Machine",
          "DJ Khaled"
         ],
         "yaxis": "y2"
        },
        {
         "marker": {
          "color": [
           70956,
           23461,
           19954,
           19360,
           17124,
           14384,
           11900,
           11316,
           9806,
           7928,
           7646,
           7577,
           7104,
           5445,
           4467,
           3738,
           3526,
           3452,
           3354,
           3133,
           3112,
           2955,
           2907,
           2028,
           2004,
           1887,
           1776,
           1650,
           1644,
           1407,
           1364,
           1361,
           1354,
           1298,
           1281,
           1279,
           1037,
           981,
           977,
           956,
           884,
           823,
           764,
           722,
           689,
           657,
           638,
           636,
           635,
           628,
           568,
           558,
           553,
           544,
           537,
           529,
           526,
           503,
           484,
           467,
           462,
           445,
           430,
           389,
           387,
           385,
           376,
           375,
           370,
           368,
           366,
           342,
           324,
           324,
           306,
           300,
           290,
           267,
           266,
           265,
           264,
           258,
           248,
           248,
           248,
           235,
           232,
           219,
           217,
           209,
           207,
           201,
           200,
           195,
           192,
           182,
           180,
           174,
           171,
           167,
           158,
           154,
           151,
           136,
           134,
           134,
           132,
           130,
           123,
           123,
           123,
           119,
           113,
           108,
           101,
           101,
           99,
           97,
           97,
           91,
           90,
           86,
           85,
           84,
           82,
           81,
           79,
           78,
           75,
           74,
           73,
           73,
           71,
           71,
           69,
           68,
           68,
           67,
           66,
           66,
           66,
           63,
           61,
           60,
           59,
           59,
           58,
           56,
           55,
           55,
           54,
           54,
           53,
           53,
           53,
           52,
           52,
           50,
           49,
           48,
           47,
           47,
           47,
           47,
           47,
           46,
           46,
           44,
           44,
           43,
           42,
           42,
           41,
           40,
           39,
           39,
           39,
           38,
           38,
           37,
           37,
           37,
           36,
           36,
           35,
           35,
           34,
           33,
           32,
           32,
           31,
           31,
           31,
           31,
           30,
           30,
           29,
           28,
           28,
           28,
           28,
           27,
           27,
           27,
           26,
           26,
           26,
           26,
           25,
           25,
           25,
           24,
           24,
           24,
           24,
           24,
           24,
           23,
           23,
           23,
           23,
           23,
           23,
           22,
           22,
           22,
           22,
           22,
           22,
           21,
           21,
           21,
           21,
           21,
           21,
           20,
           20,
           20,
           20,
           20,
           19,
           19,
           19,
           19,
           19,
           18,
           18,
           18,
           18,
           18,
           18,
           18,
           17,
           17,
           17,
           17,
           17,
           17,
           17,
           17,
           17,
           17,
           17,
           17,
           17,
           17,
           16,
           16,
           16,
           16,
           16,
           16,
           15,
           15,
           15,
           15,
           15,
           15,
           15,
           15,
           14,
           14,
           14,
           14,
           14,
           14,
           14,
           13,
           13,
           13,
           13,
           13,
           13,
           13,
           12,
           12,
           12,
           12,
           12,
           12,
           12,
           11,
           11,
           11,
           11,
           11,
           11,
           11,
           11,
           11,
           10,
           10,
           10,
           10,
           10,
           10,
           10,
           10,
           10,
           9,
           9,
           9,
           9,
           9,
           9,
           9,
           9,
           8,
           8,
           8,
           8,
           8,
           8,
           8,
           8,
           8,
           8,
           8,
           7,
           7,
           7,
           7,
           7,
           7,
           7,
           7,
           7,
           7,
           7,
           7,
           7,
           7,
           7,
           7,
           7,
           6,
           6,
           6,
           6,
           6,
           6,
           6,
           6,
           6,
           6,
           6,
           6,
           6,
           6,
           6,
           5,
           5,
           5,
           5,
           5,
           5,
           5,
           5,
           5,
           5,
           5,
           5,
           5,
           4,
           4,
           4,
           4,
           4,
           4,
           4,
           4,
           4,
           4,
           4,
           4,
           4,
           4,
           4,
           3,
           3,
           3,
           3,
           3,
           3,
           3,
           3,
           3,
           3,
           3,
           3,
           3,
           3,
           3,
           3,
           3,
           3,
           3,
           3,
           2,
           2,
           2,
           2,
           2,
           2,
           2,
           2,
           2,
           2,
           2,
           2,
           2,
           2,
           2,
           2,
           1,
           1,
           1,
           0
          ],
          "colorscale": [
           [
            0,
            "#0d0887"
           ],
           [
            0.1111111111111111,
            "#46039f"
           ],
           [
            0.2222222222222222,
            "#7201a8"
           ],
           [
            0.3333333333333333,
            "#9c179e"
           ],
           [
            0.4444444444444444,
            "#bd3786"
           ],
           [
            0.5555555555555556,
            "#d8576b"
           ],
           [
            0.6666666666666666,
            "#ed7953"
           ],
           [
            0.7777777777777778,
            "#fb9f3a"
           ],
           [
            0.8888888888888888,
            "#fdca26"
           ],
           [
            1,
            "#f0f921"
           ]
          ]
         },
         "name": "2020",
         "orientation": "h",
         "showlegend": false,
         "type": "bar",
         "x": [
          11900,
          14384,
          17124,
          19360,
          19954,
          23461,
          70956
         ],
         "xaxis": "x3",
         "y": [
          "Deante' Hitchcock",
          "Toosii",
          "Nasty C",
          "King Von",
          "Juice WRLD & Young Thug",
          "Chip",
          "Lil Wayne & Lil Uzi Vert"
         ],
         "yaxis": "y3"
        }
       ],
       "layout": {
        "annotations": [
         {
          "font": {
           "size": 16
          },
          "showarrow": false,
          "text": "2000",
          "x": 0.225,
          "xanchor": "center",
          "xref": "paper",
          "y": 1,
          "yanchor": "bottom",
          "yref": "paper"
         },
         {
          "font": {
           "size": 16
          },
          "showarrow": false,
          "text": "2010",
          "x": 0.775,
          "xanchor": "center",
          "xref": "paper",
          "y": 1,
          "yanchor": "bottom",
          "yref": "paper"
         },
         {
          "font": {
           "size": 16
          },
          "showarrow": false,
          "text": "2020",
          "x": 0.225,
          "xanchor": "center",
          "xref": "paper",
          "y": 0.375,
          "yanchor": "bottom",
          "yref": "paper"
         },
         {
          "font": {
           "size": 16
          },
          "showarrow": false,
          "text": "number of occurrences",
          "x": 0.5,
          "xanchor": "center",
          "xref": "paper",
          "y": 0,
          "yanchor": "top",
          "yref": "paper",
          "yshift": -30
         },
         {
          "font": {
           "size": 16
          },
          "showarrow": false,
          "text": "views",
          "textangle": -90,
          "x": 0,
          "xanchor": "right",
          "xref": "paper",
          "xshift": -40,
          "y": 0.5,
          "yanchor": "middle",
          "yref": "paper"
         }
        ],
        "template": {
         "data": {
          "bar": [
           {
            "error_x": {
             "color": "#2a3f5f"
            },
            "error_y": {
             "color": "#2a3f5f"
            },
            "marker": {
             "line": {
              "color": "#E5ECF6",
              "width": 0.5
             },
             "pattern": {
              "fillmode": "overlay",
              "size": 10,
              "solidity": 0.2
             }
            },
            "type": "bar"
           }
          ],
          "barpolar": [
           {
            "marker": {
             "line": {
              "color": "#E5ECF6",
              "width": 0.5
             },
             "pattern": {
              "fillmode": "overlay",
              "size": 10,
              "solidity": 0.2
             }
            },
            "type": "barpolar"
           }
          ],
          "carpet": [
           {
            "aaxis": {
             "endlinecolor": "#2a3f5f",
             "gridcolor": "white",
             "linecolor": "white",
             "minorgridcolor": "white",
             "startlinecolor": "#2a3f5f"
            },
            "baxis": {
             "endlinecolor": "#2a3f5f",
             "gridcolor": "white",
             "linecolor": "white",
             "minorgridcolor": "white",
             "startlinecolor": "#2a3f5f"
            },
            "type": "carpet"
           }
          ],
          "choropleth": [
           {
            "colorbar": {
             "outlinewidth": 0,
             "ticks": ""
            },
            "type": "choropleth"
           }
          ],
          "contour": [
           {
            "colorbar": {
             "outlinewidth": 0,
             "ticks": ""
            },
            "colorscale": [
             [
              0,
              "#0d0887"
             ],
             [
              0.1111111111111111,
              "#46039f"
             ],
             [
              0.2222222222222222,
              "#7201a8"
             ],
             [
              0.3333333333333333,
              "#9c179e"
             ],
             [
              0.4444444444444444,
              "#bd3786"
             ],
             [
              0.5555555555555556,
              "#d8576b"
             ],
             [
              0.6666666666666666,
              "#ed7953"
             ],
             [
              0.7777777777777778,
              "#fb9f3a"
             ],
             [
              0.8888888888888888,
              "#fdca26"
             ],
             [
              1,
              "#f0f921"
             ]
            ],
            "type": "contour"
           }
          ],
          "contourcarpet": [
           {
            "colorbar": {
             "outlinewidth": 0,
             "ticks": ""
            },
            "type": "contourcarpet"
           }
          ],
          "heatmap": [
           {
            "colorbar": {
             "outlinewidth": 0,
             "ticks": ""
            },
            "colorscale": [
             [
              0,
              "#0d0887"
             ],
             [
              0.1111111111111111,
              "#46039f"
             ],
             [
              0.2222222222222222,
              "#7201a8"
             ],
             [
              0.3333333333333333,
              "#9c179e"
             ],
             [
              0.4444444444444444,
              "#bd3786"
             ],
             [
              0.5555555555555556,
              "#d8576b"
             ],
             [
              0.6666666666666666,
              "#ed7953"
             ],
             [
              0.7777777777777778,
              "#fb9f3a"
             ],
             [
              0.8888888888888888,
              "#fdca26"
             ],
             [
              1,
              "#f0f921"
             ]
            ],
            "type": "heatmap"
           }
          ],
          "heatmapgl": [
           {
            "colorbar": {
             "outlinewidth": 0,
             "ticks": ""
            },
            "colorscale": [
             [
              0,
              "#0d0887"
             ],
             [
              0.1111111111111111,
              "#46039f"
             ],
             [
              0.2222222222222222,
              "#7201a8"
             ],
             [
              0.3333333333333333,
              "#9c179e"
             ],
             [
              0.4444444444444444,
              "#bd3786"
             ],
             [
              0.5555555555555556,
              "#d8576b"
             ],
             [
              0.6666666666666666,
              "#ed7953"
             ],
             [
              0.7777777777777778,
              "#fb9f3a"
             ],
             [
              0.8888888888888888,
              "#fdca26"
             ],
             [
              1,
              "#f0f921"
             ]
            ],
            "type": "heatmapgl"
           }
          ],
          "histogram": [
           {
            "marker": {
             "pattern": {
              "fillmode": "overlay",
              "size": 10,
              "solidity": 0.2
             }
            },
            "type": "histogram"
           }
          ],
          "histogram2d": [
           {
            "colorbar": {
             "outlinewidth": 0,
             "ticks": ""
            },
            "colorscale": [
             [
              0,
              "#0d0887"
             ],
             [
              0.1111111111111111,
              "#46039f"
             ],
             [
              0.2222222222222222,
              "#7201a8"
             ],
             [
              0.3333333333333333,
              "#9c179e"
             ],
             [
              0.4444444444444444,
              "#bd3786"
             ],
             [
              0.5555555555555556,
              "#d8576b"
             ],
             [
              0.6666666666666666,
              "#ed7953"
             ],
             [
              0.7777777777777778,
              "#fb9f3a"
             ],
             [
              0.8888888888888888,
              "#fdca26"
             ],
             [
              1,
              "#f0f921"
             ]
            ],
            "type": "histogram2d"
           }
          ],
          "histogram2dcontour": [
           {
            "colorbar": {
             "outlinewidth": 0,
             "ticks": ""
            },
            "colorscale": [
             [
              0,
              "#0d0887"
             ],
             [
              0.1111111111111111,
              "#46039f"
             ],
             [
              0.2222222222222222,
              "#7201a8"
             ],
             [
              0.3333333333333333,
              "#9c179e"
             ],
             [
              0.4444444444444444,
              "#bd3786"
             ],
             [
              0.5555555555555556,
              "#d8576b"
             ],
             [
              0.6666666666666666,
              "#ed7953"
             ],
             [
              0.7777777777777778,
              "#fb9f3a"
             ],
             [
              0.8888888888888888,
              "#fdca26"
             ],
             [
              1,
              "#f0f921"
             ]
            ],
            "type": "histogram2dcontour"
           }
          ],
          "mesh3d": [
           {
            "colorbar": {
             "outlinewidth": 0,
             "ticks": ""
            },
            "type": "mesh3d"
           }
          ],
          "parcoords": [
           {
            "line": {
             "colorbar": {
              "outlinewidth": 0,
              "ticks": ""
             }
            },
            "type": "parcoords"
           }
          ],
          "pie": [
           {
            "automargin": true,
            "type": "pie"
           }
          ],
          "scatter": [
           {
            "fillpattern": {
             "fillmode": "overlay",
             "size": 10,
             "solidity": 0.2
            },
            "type": "scatter"
           }
          ],
          "scatter3d": [
           {
            "line": {
             "colorbar": {
              "outlinewidth": 0,
              "ticks": ""
             }
            },
            "marker": {
             "colorbar": {
              "outlinewidth": 0,
              "ticks": ""
             }
            },
            "type": "scatter3d"
           }
          ],
          "scattercarpet": [
           {
            "marker": {
             "colorbar": {
              "outlinewidth": 0,
              "ticks": ""
             }
            },
            "type": "scattercarpet"
           }
          ],
          "scattergeo": [
           {
            "marker": {
             "colorbar": {
              "outlinewidth": 0,
              "ticks": ""
             }
            },
            "type": "scattergeo"
           }
          ],
          "scattergl": [
           {
            "marker": {
             "colorbar": {
              "outlinewidth": 0,
              "ticks": ""
             }
            },
            "type": "scattergl"
           }
          ],
          "scattermapbox": [
           {
            "marker": {
             "colorbar": {
              "outlinewidth": 0,
              "ticks": ""
             }
            },
            "type": "scattermapbox"
           }
          ],
          "scatterpolar": [
           {
            "marker": {
             "colorbar": {
              "outlinewidth": 0,
              "ticks": ""
             }
            },
            "type": "scatterpolar"
           }
          ],
          "scatterpolargl": [
           {
            "marker": {
             "colorbar": {
              "outlinewidth": 0,
              "ticks": ""
             }
            },
            "type": "scatterpolargl"
           }
          ],
          "scatterternary": [
           {
            "marker": {
             "colorbar": {
              "outlinewidth": 0,
              "ticks": ""
             }
            },
            "type": "scatterternary"
           }
          ],
          "surface": [
           {
            "colorbar": {
             "outlinewidth": 0,
             "ticks": ""
            },
            "colorscale": [
             [
              0,
              "#0d0887"
             ],
             [
              0.1111111111111111,
              "#46039f"
             ],
             [
              0.2222222222222222,
              "#7201a8"
             ],
             [
              0.3333333333333333,
              "#9c179e"
             ],
             [
              0.4444444444444444,
              "#bd3786"
             ],
             [
              0.5555555555555556,
              "#d8576b"
             ],
             [
              0.6666666666666666,
              "#ed7953"
             ],
             [
              0.7777777777777778,
              "#fb9f3a"
             ],
             [
              0.8888888888888888,
              "#fdca26"
             ],
             [
              1,
              "#f0f921"
             ]
            ],
            "type": "surface"
           }
          ],
          "table": [
           {
            "cells": {
             "fill": {
              "color": "#EBF0F8"
             },
             "line": {
              "color": "white"
             }
            },
            "header": {
             "fill": {
              "color": "#C8D4E3"
             },
             "line": {
              "color": "white"
             }
            },
            "type": "table"
           }
          ]
         },
         "layout": {
          "annotationdefaults": {
           "arrowcolor": "#2a3f5f",
           "arrowhead": 0,
           "arrowwidth": 1
          },
          "autotypenumbers": "strict",
          "coloraxis": {
           "colorbar": {
            "outlinewidth": 0,
            "ticks": ""
           }
          },
          "colorscale": {
           "diverging": [
            [
             0,
             "#8e0152"
            ],
            [
             0.1,
             "#c51b7d"
            ],
            [
             0.2,
             "#de77ae"
            ],
            [
             0.3,
             "#f1b6da"
            ],
            [
             0.4,
             "#fde0ef"
            ],
            [
             0.5,
             "#f7f7f7"
            ],
            [
             0.6,
             "#e6f5d0"
            ],
            [
             0.7,
             "#b8e186"
            ],
            [
             0.8,
             "#7fbc41"
            ],
            [
             0.9,
             "#4d9221"
            ],
            [
             1,
             "#276419"
            ]
           ],
           "sequential": [
            [
             0,
             "#0d0887"
            ],
            [
             0.1111111111111111,
             "#46039f"
            ],
            [
             0.2222222222222222,
             "#7201a8"
            ],
            [
             0.3333333333333333,
             "#9c179e"
            ],
            [
             0.4444444444444444,
             "#bd3786"
            ],
            [
             0.5555555555555556,
             "#d8576b"
            ],
            [
             0.6666666666666666,
             "#ed7953"
            ],
            [
             0.7777777777777778,
             "#fb9f3a"
            ],
            [
             0.8888888888888888,
             "#fdca26"
            ],
            [
             1,
             "#f0f921"
            ]
           ],
           "sequentialminus": [
            [
             0,
             "#0d0887"
            ],
            [
             0.1111111111111111,
             "#46039f"
            ],
            [
             0.2222222222222222,
             "#7201a8"
            ],
            [
             0.3333333333333333,
             "#9c179e"
            ],
            [
             0.4444444444444444,
             "#bd3786"
            ],
            [
             0.5555555555555556,
             "#d8576b"
            ],
            [
             0.6666666666666666,
             "#ed7953"
            ],
            [
             0.7777777777777778,
             "#fb9f3a"
            ],
            [
             0.8888888888888888,
             "#fdca26"
            ],
            [
             1,
             "#f0f921"
            ]
           ]
          },
          "colorway": [
           "#636efa",
           "#EF553B",
           "#00cc96",
           "#ab63fa",
           "#FFA15A",
           "#19d3f3",
           "#FF6692",
           "#B6E880",
           "#FF97FF",
           "#FECB52"
          ],
          "font": {
           "color": "#2a3f5f"
          },
          "geo": {
           "bgcolor": "white",
           "lakecolor": "white",
           "landcolor": "#E5ECF6",
           "showlakes": true,
           "showland": true,
           "subunitcolor": "white"
          },
          "hoverlabel": {
           "align": "left"
          },
          "hovermode": "closest",
          "mapbox": {
           "style": "light"
          },
          "paper_bgcolor": "white",
          "plot_bgcolor": "#E5ECF6",
          "polar": {
           "angularaxis": {
            "gridcolor": "white",
            "linecolor": "white",
            "ticks": ""
           },
           "bgcolor": "#E5ECF6",
           "radialaxis": {
            "gridcolor": "white",
            "linecolor": "white",
            "ticks": ""
           }
          },
          "scene": {
           "xaxis": {
            "backgroundcolor": "#E5ECF6",
            "gridcolor": "white",
            "gridwidth": 2,
            "linecolor": "white",
            "showbackground": true,
            "ticks": "",
            "zerolinecolor": "white"
           },
           "yaxis": {
            "backgroundcolor": "#E5ECF6",
            "gridcolor": "white",
            "gridwidth": 2,
            "linecolor": "white",
            "showbackground": true,
            "ticks": "",
            "zerolinecolor": "white"
           },
           "zaxis": {
            "backgroundcolor": "#E5ECF6",
            "gridcolor": "white",
            "gridwidth": 2,
            "linecolor": "white",
            "showbackground": true,
            "ticks": "",
            "zerolinecolor": "white"
           }
          },
          "shapedefaults": {
           "line": {
            "color": "#2a3f5f"
           }
          },
          "ternary": {
           "aaxis": {
            "gridcolor": "white",
            "linecolor": "white",
            "ticks": ""
           },
           "baxis": {
            "gridcolor": "white",
            "linecolor": "white",
            "ticks": ""
           },
           "bgcolor": "#E5ECF6",
           "caxis": {
            "gridcolor": "white",
            "linecolor": "white",
            "ticks": ""
           }
          },
          "title": {
           "x": 0.05
          },
          "xaxis": {
           "automargin": true,
           "gridcolor": "white",
           "linecolor": "white",
           "ticks": "",
           "title": {
            "standoff": 15
           },
           "zerolinecolor": "white",
           "zerolinewidth": 2
          },
          "yaxis": {
           "automargin": true,
           "gridcolor": "white",
           "linecolor": "white",
           "ticks": "",
           "title": {
            "standoff": 15
           },
           "zerolinecolor": "white",
           "zerolinewidth": 2
          }
         }
        },
        "xaxis": {
         "anchor": "y",
         "domain": [
          0,
          0.45
         ]
        },
        "xaxis2": {
         "anchor": "y2",
         "domain": [
          0.55,
          1
         ]
        },
        "xaxis3": {
         "anchor": "y3",
         "domain": [
          0,
          0.45
         ]
        },
        "xaxis4": {
         "anchor": "y4",
         "domain": [
          0.55,
          1
         ]
        },
        "yaxis": {
         "anchor": "x",
         "domain": [
          0.625,
          1
         ]
        },
        "yaxis2": {
         "anchor": "x2",
         "domain": [
          0.625,
          1
         ]
        },
        "yaxis3": {
         "anchor": "x3",
         "domain": [
          0,
          0.375
         ]
        },
        "yaxis4": {
         "anchor": "x4",
         "domain": [
          0,
          0.375
         ]
        }
       }
      }
     },
     "metadata": {},
     "output_type": "display_data"
    }
   ],
   "source": [
    "top_artists_decades(df, decades=decades[4:], rows = 2, cols = 2, n_artists = 7)"
   ]
  },
  {
   "cell_type": "code",
   "execution_count": 8,
   "metadata": {},
   "outputs": [
    {
     "data": {
      "text/html": [
       "<div>\n",
       "<style scoped>\n",
       "    .dataframe tbody tr th:only-of-type {\n",
       "        vertical-align: middle;\n",
       "    }\n",
       "\n",
       "    .dataframe tbody tr th {\n",
       "        vertical-align: top;\n",
       "    }\n",
       "\n",
       "    .dataframe thead th {\n",
       "        text-align: right;\n",
       "    }\n",
       "</style>\n",
       "<table border=\"1\" class=\"dataframe\">\n",
       "  <thead>\n",
       "    <tr style=\"text-align: right;\">\n",
       "      <th></th>\n",
       "      <th>title</th>\n",
       "      <th>tag</th>\n",
       "      <th>artist</th>\n",
       "      <th>year</th>\n",
       "      <th>views</th>\n",
       "      <th>features</th>\n",
       "      <th>lyrics</th>\n",
       "      <th>id</th>\n",
       "      <th>language_cld3</th>\n",
       "      <th>language_ft</th>\n",
       "      <th>language</th>\n",
       "      <th>decade</th>\n",
       "    </tr>\n",
       "  </thead>\n",
       "  <tbody>\n",
       "    <tr>\n",
       "      <th>0</th>\n",
       "      <td>Eleanor Rigby</td>\n",
       "      <td>pop</td>\n",
       "      <td>The Beatles</td>\n",
       "      <td>1966</td>\n",
       "      <td>676890</td>\n",
       "      <td>{}</td>\n",
       "      <td>ah look at all the lonely people ah look at ...</td>\n",
       "      <td>1577</td>\n",
       "      <td>en</td>\n",
       "      <td>en</td>\n",
       "      <td>en</td>\n",
       "      <td>1960</td>\n",
       "    </tr>\n",
       "    <tr>\n",
       "      <th>1</th>\n",
       "      <td>Portrait of a Masterpiece</td>\n",
       "      <td>rap</td>\n",
       "      <td>The D.O.C.</td>\n",
       "      <td>1989</td>\n",
       "      <td>5516</td>\n",
       "      <td>{\"Dr. Dre\",\"​The D.O.C.\"}</td>\n",
       "      <td>yea c'mon c'mon yea c'mon  let's take a trip...</td>\n",
       "      <td>2406</td>\n",
       "      <td>en</td>\n",
       "      <td>en</td>\n",
       "      <td>en</td>\n",
       "      <td>1980</td>\n",
       "    </tr>\n",
       "    <tr>\n",
       "      <th>2</th>\n",
       "      <td>Final Frontier</td>\n",
       "      <td>rap</td>\n",
       "      <td>MC Ren</td>\n",
       "      <td>1992</td>\n",
       "      <td>11162</td>\n",
       "      <td>{}</td>\n",
       "      <td>hey hey ren hey check this out loc hey man i...</td>\n",
       "      <td>5383</td>\n",
       "      <td>en</td>\n",
       "      <td>en</td>\n",
       "      <td>en</td>\n",
       "      <td>1990</td>\n",
       "    </tr>\n",
       "    <tr>\n",
       "      <th>3</th>\n",
       "      <td>Point the Finga</td>\n",
       "      <td>rap</td>\n",
       "      <td>2Pac</td>\n",
       "      <td>1993</td>\n",
       "      <td>24349</td>\n",
       "      <td>{}</td>\n",
       "      <td>\"you could get the finger  \"come and get som...</td>\n",
       "      <td>6722</td>\n",
       "      <td>en</td>\n",
       "      <td>en</td>\n",
       "      <td>en</td>\n",
       "      <td>1990</td>\n",
       "    </tr>\n",
       "    <tr>\n",
       "      <th>4</th>\n",
       "      <td>The Gas Face</td>\n",
       "      <td>rap</td>\n",
       "      <td>3rd Bass</td>\n",
       "      <td>1989</td>\n",
       "      <td>40909</td>\n",
       "      <td>{\"MF DOOM\"}</td>\n",
       "      <td>ayo man my labelmate don newkirk man step to...</td>\n",
       "      <td>6217</td>\n",
       "      <td>en</td>\n",
       "      <td>en</td>\n",
       "      <td>en</td>\n",
       "      <td>1980</td>\n",
       "    </tr>\n",
       "  </tbody>\n",
       "</table>\n",
       "</div>"
      ],
      "text/plain": [
       "                       title  tag       artist  year   views  \\\n",
       "0              Eleanor Rigby  pop  The Beatles  1966  676890   \n",
       "1  Portrait of a Masterpiece  rap   The D.O.C.  1989    5516   \n",
       "2             Final Frontier  rap       MC Ren  1992   11162   \n",
       "3            Point the Finga  rap         2Pac  1993   24349   \n",
       "4               The Gas Face  rap     3rd Bass  1989   40909   \n",
       "\n",
       "                    features  \\\n",
       "0                         {}   \n",
       "1  {\"Dr. Dre\",\"​The D.O.C.\"}   \n",
       "2                         {}   \n",
       "3                         {}   \n",
       "4                {\"MF DOOM\"}   \n",
       "\n",
       "                                              lyrics    id language_cld3  \\\n",
       "0    ah look at all the lonely people ah look at ...  1577            en   \n",
       "1    yea c'mon c'mon yea c'mon  let's take a trip...  2406            en   \n",
       "2    hey hey ren hey check this out loc hey man i...  5383            en   \n",
       "3    \"you could get the finger  \"come and get som...  6722            en   \n",
       "4    ayo man my labelmate don newkirk man step to...  6217            en   \n",
       "\n",
       "  language_ft language  decade  \n",
       "0          en       en    1960  \n",
       "1          en       en    1980  \n",
       "2          en       en    1990  \n",
       "3          en       en    1990  \n",
       "4          en       en    1980  "
      ]
     },
     "execution_count": 8,
     "metadata": {},
     "output_type": "execute_result"
    }
   ],
   "source": [
    "from modules.preprocess.text_data import clean_lyrics\n",
    "\n",
    "df = clean_lyrics(df)\n",
    "df.head()"
   ]
  },
  {
   "cell_type": "code",
   "execution_count": 9,
   "metadata": {},
   "outputs": [],
   "source": [
    "import spacy\n",
    "\n",
    "# small model /!\\ take the bigger one for Kaggle\n",
    "new_nlp = spacy.load('en_core_web_sm')"
   ]
  },
  {
   "attachments": {},
   "cell_type": "markdown",
   "metadata": {},
   "source": [
    "Could take some times ... (depend on the sample data size)"
   ]
  },
  {
   "cell_type": "code",
   "execution_count": 10,
   "metadata": {},
   "outputs": [],
   "source": [
    "from modules.preprocess.text_data import naive_preprocess\n",
    "\n",
    "df['tok_lyrics'] = df['lyrics'].apply(lambda text : naive_preprocess(text, new_nlp))"
   ]
  },
  {
   "cell_type": "code",
   "execution_count": 11,
   "metadata": {},
   "outputs": [
    {
     "data": {
      "text/plain": [
       "0       [ah, look, at, all, the, lonely, people, ah, l...\n",
       "1       [yea, on, on, yea, on, let, take, a, trip, but...\n",
       "2       [hey, hey, ren, hey, check, this, out, loc, he...\n",
       "3       [you, could, get, the, finger, come, and, get,...\n",
       "4       [ayo, man, my, labelmate, don, newkirk, man, s...\n",
       "                              ...                        \n",
       "3001    [man, turn, this, shit, down, this, is, too, m...\n",
       "3002    [i, been, tryna, get, my, guap, up, yeah, i, b...\n",
       "3003    [white, feathers, galore, i, believed, naive, ...\n",
       "3004    [shaking, awake, from, my, nightly, fever, i, ...\n",
       "3005    [the, season, of, the, downturn, comes, to, an...\n",
       "Name: tok_lyrics, Length: 3006, dtype: object"
      ]
     },
     "execution_count": 11,
     "metadata": {},
     "output_type": "execute_result"
    }
   ],
   "source": [
    "df['tok_lyrics']"
   ]
  },
  {
   "cell_type": "code",
   "execution_count": 12,
   "metadata": {},
   "outputs": [],
   "source": [
    "df['unique_words'] = df['tok_lyrics'].apply(lambda x: len(set(x)))"
   ]
  },
  {
   "cell_type": "code",
   "execution_count": 13,
   "metadata": {},
   "outputs": [
    {
     "data": {
      "text/plain": [
       "0        81\n",
       "1       270\n",
       "2       251\n",
       "3       263\n",
       "4       326\n",
       "       ... \n",
       "3001     79\n",
       "3002    138\n",
       "3003    150\n",
       "3004     73\n",
       "3005     91\n",
       "Name: unique_words, Length: 3006, dtype: int64"
      ]
     },
     "execution_count": 13,
     "metadata": {},
     "output_type": "execute_result"
    }
   ],
   "source": [
    "df['unique_words']"
   ]
  },
  {
   "cell_type": "code",
   "execution_count": 14,
   "metadata": {},
   "outputs": [
    {
     "data": {
      "text/plain": [
       "['country', 'misc', 'pop', 'rap', 'rb', 'rock']"
      ]
     },
     "execution_count": 14,
     "metadata": {},
     "output_type": "execute_result"
    }
   ],
   "source": [
    "tags = df['tag'].unique().tolist()\n",
    "tags.sort()\n",
    "tags"
   ]
  },
  {
   "cell_type": "code",
   "execution_count": 15,
   "metadata": {},
   "outputs": [
    {
     "data": {
      "text/plain": [
       "0        81\n",
       "71       57\n",
       "82       74\n",
       "128     101\n",
       "217     103\n",
       "       ... \n",
       "2993     55\n",
       "2996     56\n",
       "2997     98\n",
       "3003    150\n",
       "3004     73\n",
       "Name: unique_words, Length: 1528, dtype: int64"
      ]
     },
     "execution_count": 15,
     "metadata": {},
     "output_type": "execute_result"
    }
   ],
   "source": [
    "df[df['tag'] == 'pop']['unique_words']"
   ]
  },
  {
   "cell_type": "code",
   "execution_count": 16,
   "metadata": {},
   "outputs": [
    {
     "data": {
      "application/vnd.plotly.v1+json": {
       "config": {
        "plotlyServerURL": "https://plot.ly"
       },
       "data": [
        {
         "boxpoints": "all",
         "customdata": [
          [
           "Milky White Way",
           "Elvis Presley"
          ],
          [
           "If Not for You",
           "George Jones"
          ],
          [
           "Boss Jack",
           "Johnny Cash"
          ],
          [
           "Here Was a Man",
           "Johnny Cash"
          ],
          [
           "The Ballad of Boot Hill",
           "Johnny Cash"
          ],
          [
           "New Mexico",
           "Johnny Cash"
          ],
          [
           "Good Times",
           "Willie Nelson"
          ],
          [
           "Hungry Eyes",
           "Merle Haggard"
          ],
          [
           "My Last Chance With You",
           "Buck Owens"
          ],
          [
           "Trouble Is A Lonesome Town",
           "Lee Hazlewood"
          ],
          [
           "A Real Live Fool",
           "Lee Hazlewood"
          ],
          [
           "Me And Charlie",
           "Lee Hazlewood"
          ],
          [
           "Pour Man",
           "Lee Hazlewood"
          ],
          [
           "Alligator Man",
           "The Nitty Gritty Dirt Band"
          ],
          [
           "The Party",
           "Porter Wagoner & Dolly Parton"
          ],
          [
           "Bill Bailey Wont You Please Come Home",
           "Brenda Lee"
          ],
          [
           "Ill Still Be Missing You",
           "Warner Mack"
          ],
          [
           "Memphis",
           "Buck Owens"
          ],
          [
           "How Do You Feel",
           "Hank Thompson"
          ],
          [
           "All The Way With Jesus",
           "Buck Owens"
          ],
          [
           "Changin My Mind",
           "Bobby Bare"
          ],
          [
           "Houston",
           "Bobby Bare"
          ],
          [
           "Trade Winds",
           "Hank Snow"
          ],
          [
           "The Wild Side of Life",
           "Conway Twitty"
          ],
          [
           "He Dont Deserve You Anymore",
           "Buck Owens"
          ],
          [
           "Hurt Her Once for Me",
           "The Wilburn Brothers"
          ],
          [
           "Why Don’t You Love Me?",
           "Don Gibson"
          ],
          [
           "Secret Love",
           "Loretta Lynn"
          ],
          [
           "I Walk Alone",
           "Marty Robbins"
          ],
          [
           "Let Old Mother Nature Have Her Way",
           "Faron Young"
          ],
          [
           "Blue Sand",
           "Marty Robbins"
          ],
          [
           "It’s Better to Have Loved a Little",
           "Hank Thompson"
          ],
          [
           "Cry Stampede",
           "Marty Robbins"
          ],
          [
           "The World Is Waiting for the Sunrise",
           "Don Gibson"
          ],
          [
           "Gypsy Songman",
           "Jerry Jeff Walker"
          ],
          [
           "She Still Comes Around To Love What’s Left of Me",
           "Jerry Lee Lewis"
          ],
          [
           "Leaving on a Jet Plane",
           "John Denver"
          ],
          [
           "There Never Was A Fool",
           "Buck Owens"
          ],
          [
           "The Sneaky Little Side of Me",
           "Dean Martin"
          ],
          [
           "Coal Miners Blues",
           "Flatt & Scruggs"
          ],
          [
           "Since I Met You Baby",
           "Wanda Jackson"
          ],
          [
           "Are You from Dixie Cause I’m from Dixie Too",
           "Jerry Reed"
          ],
          [
           "Hook  Line",
           "Roscoe Holcomb"
          ],
          [
           "Heartaches For A Day",
           "Melba Montgomery"
          ],
          [
           "Wildwood Flower",
           "Johnny Cash"
          ],
          [
           "Walk Out Backwards",
           "Bill Anderson"
          ],
          [
           "The First Mrs. Jones",
           "Bill Anderson"
          ],
          [
           "The Soldier Traveling from the North",
           "Dillard Chandler"
          ],
          [
           "You’ve Got Everything",
           "Bob Luman"
          ],
          [
           "Jesus Christ",
           "Cisco Houston"
          ],
          [
           "Slippin And A Slidin",
           "Wanda Jackson"
          ],
          [
           "The Violet and a Rose",
           "Wanda Jackson"
          ],
          [
           "Skin Game Blues 1963",
           "Peg Leg Howell"
          ],
          [
           "Whos Gonna Shoe Your Pretty Little Foot",
           "Barbara Dane"
          ],
          [
           "Jambalaya On the Bayou",
           "Hank Locklin"
          ],
          [
           "Little Christmas Angel",
           "Hank Thompson"
          ],
          [
           "Then Ill Start Believing in You",
           "Hank Thompson"
          ],
          [
           "From the Cradle to the Blues",
           "Margaret Lewis"
          ]
         ],
         "hovertemplate": "title: %{customdata[0]}<br>artist: %{customdata[1]}<br>log(words): %{y}",
         "name": "country",
         "type": "box",
         "xaxis": "x",
         "y": [
          3.970291913552122,
          4.0943445622221,
          4.795790545596741,
          5.14166355650266,
          5.176149732573829,
          4.787491742782046,
          4.02535169073515,
          4.5217885770490405,
          4.394449154672439,
          2.9444389791664403,
          4.418840607796598,
          4.02535169073515,
          4.060443010546419,
          4.343805421853684,
          4.844187086458591,
          3.6888794541139363,
          4.219507705176107,
          4.564348191467836,
          3.970291913552122,
          3.7612001156935624,
          4.955827057601261,
          4.23410650459726,
          4.0943445622221,
          4.276666119016055,
          4.31748811353631,
          4.356708826689592,
          4.143134726391533,
          3.970291913552122,
          3.5553480614894135,
          4.477336814478207,
          3.8066624897703196,
          4.1588830833596715,
          4.709530201312334,
          3.2188758248682006,
          4.477336814478207,
          4.430816798843313,
          4.59511985013459,
          4.110873864173311,
          4.477336814478207,
          3.9512437185814275,
          3.58351893845611,
          4.584967478670572,
          3.8918202981106265,
          4.30406509320417,
          4.700480365792417,
          4.31748811353631,
          4.948759890378168,
          4.477336814478207,
          4.30406509320417,
          4.653960350157523,
          3.6635616461296463,
          4.143134726391533,
          4.143134726391533,
          3.784189633918261,
          4.1588830833596715,
          4.248495242049359,
          4.795790545596741,
          4.02535169073515
         ],
         "yaxis": "y"
        },
        {
         "boxpoints": "all",
         "customdata": [
          [
           "Nobel Prize Acceptance Speech",
           "John Steinbeck"
          ],
          [
           "Tribute to John F. Kennedy at the Democratic National Convention Atlantic City New Jersey August 27 1964",
           "Robert F. Kennedy"
          ],
          [
           "Where Am I Going",
           "Manfred Mann Chapter 3"
          ],
          [
           "Finisterre",
           "Sylvia Plath"
          ],
          [
           "MCMXIV re-transcribed",
           "Philip Larkin"
          ],
          [
           "Patient №18 - Evauation with diagnosis - Interview with catatonic schizophrenic",
           "Psychiatric Interview Series"
          ],
          [
           "The Shapely Balloon",
           "Ivor Cutler"
          ],
          [
           "Nicely Nicely Clive",
           "John Lennon"
          ]
         ],
         "hovertemplate": "title: %{customdata[0]}<br>artist: %{customdata[1]}<br>log(words): %{y}",
         "name": "misc",
         "type": "box",
         "xaxis": "x",
         "y": [
          5.937536205082426,
          5.908082938168931,
          3.9512437185814275,
          5.236441962829949,
          4.6913478822291435,
          5.43372200355424,
          5.030437921392435,
          5.043425116919247
         ],
         "yaxis": "y"
        },
        {
         "boxpoints": "all",
         "customdata": [
          [
           "Eleanor Rigby",
           "The Beatles"
          ],
          [
           "Country Air",
           "The Beach Boys"
          ],
          [
           "Tryin To Win",
           "Peter, Paul and Mary"
          ],
          [
           "Old Compton Street Blues",
           "Al Stewart"
          ],
          [
           "Second Hand Nose",
           "Allan Sherman"
          ],
          [
           "Youre Getting To Be A Rabbit With Me",
           "Allan Sherman"
          ],
          [
           "Blues In The Night",
           "Quincy Jones"
          ],
          [
           "Busmans Holiday",
           "Chad and Jeremy"
          ],
          [
           "Gypsy Woman",
           "Jay and the Americans"
          ],
          [
           "Its the Little Things",
           "Sonny & Cher"
          ],
          [
           "Picture on the Wall",
           "John Mayall & The Bluesbreakers"
          ],
          [
           "Mickeys Monkey",
           "Martha Reeves & The Vandellas"
          ],
          [
           "Thursday",
           "Country Joe and the Fish"
          ],
          [
           "I Found a Girl",
           "Jan & Dean"
          ],
          [
           "All I Have to Do Is Dream Live",
           "Jan & Dean"
          ],
          [
           "Tell Em Im Surfin",
           "Jan & Dean"
          ],
          [
           "No Money In My Pocket",
           "Bobby Womack"
          ],
          [
           "The Twelfth of Never",
           "Andy Williams"
          ],
          [
           "Im Hanging Up My Heart For You",
           "Percy Sledge"
          ],
          [
           "The Battle of New Orleans",
           "The Royal Guardsmen"
          ],
          [
           "Make Me A Smile",
           "Poco"
          ],
          [
           "Time After Time",
           "June Christy"
          ],
          [
           "Paris Blues",
           "Duke Ellington and His Orchestra"
          ],
          [
           "Chapel of Love",
           "The Dixie Cups"
          ],
          [
           "The Clearout",
           "Jack Bruce"
          ],
          [
           "River Deep Mountain High",
           "Harry Nilsson"
          ],
          [
           "Tell Me Have You Ever Seen Me?",
           "Small Faces"
          ],
          [
           "Touch of Yesterday",
           "Ferlin Husky"
          ],
          [
           "America the Beautiful",
           "The Young Rascals"
          ],
          [
           "The Airport Song",
           "The Byrds"
          ],
          [
           "South of the Border",
           "Patsy Cline"
          ],
          [
           "If I Were a Carpenter",
           "The Free Design"
          ],
          [
           "On A Clear Day You Can See Forever",
           "Sammy Davis Jr."
          ],
          [
           "Sunny Goodge Street",
           "Marianne Faithfull"
          ],
          [
           "Its Easy Child",
           "The Moody Blues"
          ],
          [
           "Two Trains Running",
           "The Blues Project"
          ],
          [
           "Bah-Bah-Bah",
           "The Supremes"
          ],
          [
           "Four Strong Winds",
           "John Denver"
          ],
          [
           "Dont Let Me Be Misunderstood",
           "The Moody Blues"
          ],
          [
           "Eulogy to Lenny Bruce",
           "Nico"
          ],
          [
           "16 Tons",
           "Billy Strange"
          ],
          [
           "Look Over Your Shoulder",
           "Helen Shapiro"
          ],
          [
           "Dust Be Diamonds",
           "The Incredible String Band"
          ],
          [
           "The More I See You",
           "Sarah Vaughan"
          ],
          [
           "Two Trains Running",
           "John Hammond"
          ],
          [
           "Rockin’ Pneumonia and the Boogie Woogie Flu",
           "P.J. Proby"
          ],
          [
           "Youre Worth It All",
           "Bobby \"Blue\" Bland"
          ],
          [
           "Peggy Gordon",
           "The Dubliners"
          ],
          [
           "Whos Gonna Hold Her Hand",
           "The Kingston Trio"
          ],
          [
           "On a Quiet Night",
           "The Association"
          ],
          [
           "Happy Times",
           "The Box Tops"
          ],
          [
           "Home",
           "Gary Puckett & The Union Gap"
          ],
          [
           "The One I Love Belongs To Somebody Else",
           "Frank Sinatra"
          ],
          [
           "Girl Talk",
           "Tony Bennett"
          ],
          [
           "It Tears Me Up",
           "Percy Sledge"
          ],
          [
           "Sorry",
           "The Easybeats"
          ],
          [
           "Monster Mash",
           "The Bonzo Dog Doo Dah Band"
          ],
          [
           "As Tears Go By",
           "Nancy Sinatra"
          ],
          [
           "Walkin My Cat Named Dog",
           "Norma Tanega"
          ],
          [
           "The Village Ram",
           "Mighty Sparrow"
          ],
          [
           "Here I Am",
           "Bobby Darin"
          ],
          [
           "Please Go",
           "Golden Earring"
          ],
          [
           "First I Look at the Purse",
           "The Contours"
          ],
          [
           "Itll Be Me",
           "The Move"
          ],
          [
           "Sail On Little Girl",
           "Jimmy Witherspoon"
          ],
          [
           "Have You Ever Loved Somebody?",
           "The Hollies"
          ],
          [
           "I Saw Three Ships",
           "Nat \"King\" Cole"
          ],
          [
           "Youre My Dream Come True",
           "The Temptations"
          ],
          [
           "The Migrant",
           "Tony Joe White"
          ],
          [
           "That Lucky Old Sun",
           "Tommy Cash (US)"
          ],
          [
           "Three Little Fishies",
           "Kay Kyser & His Orchestra"
          ],
          [
           "As Long As I Know Hes Mine",
           "The Marvelettes"
          ],
          [
           "Confessions of a Broken Man",
           "Porter Wagoner"
          ],
          [
           "Walking to New Orleans",
           "Fats Domino"
          ],
          [
           "Living Above Your Head",
           "The Walker Brothers"
          ],
          [
           "Bubble Gum World",
           "1910 Fruitgum Company"
          ],
          [
           "Goodnight Sweetheart",
           "Sarah Vaughan"
          ],
          [
           "Goin Out Of My Head",
           "Florence Ballard"
          ],
          [
           "Ace of Spades",
           "O.V. Wright"
          ],
          [
           "This Little Bird",
           "Marianne Faithfull"
          ],
          [
           "Baby Wont You Please Come Home",
           "Ann-Margret"
          ],
          [
           "Happy",
           "Nancy Sinatra"
          ],
          [
           "Yesterday",
           "Chris Montez"
          ],
          [
           "A Lovers Concerto",
           "Sarah Vaughan"
          ],
          [
           "Hesitation Blues",
           "Kaleidoscope (American band)"
          ],
          [
           "Wont Be Long",
           "Dusty Springfield"
          ],
          [
           "Well Meet Again",
           "The Cryan' Shames"
          ],
          [
           "Tomorrow Night",
           "Lonnie Johnson"
          ],
          [
           "Walk Out Backwards",
           "Connie Smith"
          ],
          [
           "Run Past My Window",
           "Fever Tree"
          ],
          [
           "I Dont Want To Be Hurt Anymore",
           "Nat \"King\" Cole"
          ],
          [
           "These Are the Times",
           "Harry Belafonte"
          ],
          [
           "Big Ball In Town",
           "The Kingston Trio"
          ],
          [
           "Sincerely",
           "The Four Seasons"
          ],
          [
           "I Am",
           "Bobby Darin"
          ],
          [
           "In the Garden",
           "Connie Smith"
          ],
          [
           "Family Doctor",
           "Bread"
          ],
          [
           "Smile",
           "Neil Sedaka"
          ],
          [
           "The Tie That Binds",
           "Jim Reeves"
          ],
          [
           "When The Sun Goes Down",
           "The Brothers Four"
          ],
          [
           "Sometimes I Wonder",
           "Major Lance"
          ],
          [
           "Puppy Love",
           "Barbara Lewis"
          ],
          [
           "Our Love Will Still Be There",
           "The Troggs"
          ],
          [
           "Café",
           "Engelbert Humperdinck"
          ],
          [
           "Ill Only Miss Her When I Think of Her",
           "Bobby Darin"
          ],
          [
           "Since I Fell for You",
           "The Young Rascals"
          ],
          [
           "Eleanor Rigby",
           "Bobbie Gentry"
          ],
          [
           "You Are There",
           "Frank Sinatra"
          ],
          [
           "Rain",
           "Sue Raney"
          ],
          [
           "The Hymns from the Grand Terrace",
           "Richard Harris"
          ],
          [
           "September Song",
           "Tony Bennett"
          ],
          [
           "Hello Young Lovers",
           "The Merseybeats"
          ],
          [
           "This Is All I Ask",
           "Perry Como"
          ],
          [
           "Bésame Mucho",
           "Dean Martin"
          ],
          [
           "Softly as I Leave You",
           "Matt Monro"
          ],
          [
           "My Ramblin Boy",
           "The Kingston Trio"
          ],
          [
           "Little Lover",
           "The Hollies"
          ],
          [
           "The Observation",
           "Donovan"
          ],
          [
           "One Last Kiss",
           "Bobby Vee"
          ],
          [
           "Lucky Ladybug",
           "The Four Seasons"
          ],
          [
           "Spontaneous Apple Creation",
           "The Crazy World of Arthur Brown"
          ],
          [
           "Youd Be So Nice to Come Home To",
           "Julie London"
          ],
          [
           "Look Here Comes the Sun",
           "The Sunshine Company"
          ],
          [
           "I Cant Get Over You",
           "Jerry Lee Lewis"
          ],
          [
           "The Lion Sleeps Tonight Wimoweh",
           "The Tokens"
          ],
          [
           "Surfer Joe",
           "The Surfaris"
          ],
          [
           "Song Of The Iron Road",
           "Ewan MacColl"
          ],
          [
           "Rock Me Baby",
           "The Box Tops"
          ],
          [
           "Both Sides Now",
           "Pete Seeger"
          ],
          [
           "Are You Lovin Me More But Enjoy It Less",
           "The Electric Prunes"
          ],
          [
           "That Will Never Do",
           "Freddie King"
          ],
          [
           "Oh Yeah",
           "The Shadows of Knight"
          ],
          [
           "Id Be A Legend in My Time",
           "The Everly Brothers"
          ],
          [
           "I Get Carried Away",
           "Tom Jones"
          ],
          [
           "Whiskey Mystics and Men",
           "The Doors"
          ],
          [
           "Frosty the Snowman",
           "The Ronettes"
          ],
          [
           "Charade Vocal",
           "Henry Mancini"
          ],
          [
           "Hurt a Little Everyday",
           "Brenda Holloway"
          ],
          [
           "Bleecker  Macdougal",
           "Fred Neil"
          ],
          [
           "Buttered Popcorn",
           "The Supremes"
          ],
          [
           "How Can I Be Sure?",
           "The Young Rascals"
          ],
          [
           "Tonight You Belong to Me",
           "David Houston"
          ],
          [
           "Looking For My Feel Good",
           "George Jones"
          ],
          [
           "Airplane Song My Airplane",
           "The Royal Guardsmen"
          ],
          [
           "Proud Mary",
           "Solomon Burke"
          ],
          [
           "When Youre Smiling",
           "Dean Martin"
          ],
          [
           "We Can Work It Out",
           "Dionne Warwick"
          ],
          [
           "Forever Yours I Remain",
           "Bobby Vinton"
          ],
          [
           "Steam Heat",
           "Ella Fitzgerald"
          ],
          [
           "I Didnt Know What Time It Was",
           "Tony Bennett"
          ],
          [
           "Tomorrow Belongs to Me Reprise",
           "John Kander"
          ],
          [
           "Silent Night",
           "Phil Spector"
          ],
          [
           "Strawberry Fields Forever",
           "Richie Havens"
          ],
          [
           "I Can Hear Music",
           "The Ronettes"
          ],
          [
           "A Bad Case Of The Blues",
           "Dinah Washington"
          ],
          [
           "Lemon Tree",
           "The Seekers"
          ],
          [
           "St. Louis",
           "The Easybeats"
          ],
          [
           "You got it",
           "Etta James"
          ],
          [
           "The Best Is Yet to Come",
           "Frank Sinatra"
          ],
          [
           "Take Out Some Insurance On Me Baby",
           "Tony Sheridan"
          ],
          [
           "Fly Me To The Moon In Other Words",
           "Dinah Washington"
          ],
          [
           "Cactus Tree",
           "Joni Mitchell"
          ],
          [
           "Tonight",
           "Jim Bryant, Marni Nixon, Johnny Green & West Side Story Orchestra"
          ],
          [
           "Little Known Facts 1999",
           "Clark Gesner"
          ],
          [
           "Boy on the Mountain",
           "The Association"
          ],
          [
           "I Love You Alice B. Toklas single version",
           "Harpers Bizarre"
          ],
          [
           "8 Teen",
           "? and the Mysterians"
          ],
          [
           "Think About the Good Things",
           "The Detroit Wheels"
          ],
          [
           "Sweet Darlin",
           "Martha Reeves & The Vandellas"
          ],
          [
           "And There You Were",
           "Billy Eckstine"
          ],
          [
           "The Great Titanic",
           "Howard Crockett"
          ],
          [
           "I Don’t Know What to Do",
           "Richard Anthony"
          ],
          [
           "Lonely One",
           "Janis Ian"
          ],
          [
           "Feel Your Way",
           "The Spencer Davis Group"
          ],
          [
           "If You Tell a Lie",
           "The McCoys"
          ],
          [
           "Ill Be Lonely Tomorrow",
           "Del Shannon"
          ],
          [
           "Sing a Goofy Song",
           "The Chipmunks"
          ],
          [
           "Melanie",
           "Rare Bird"
          ],
          [
           "In the wilderness",
           "Samuel Barber"
          ],
          [
           "Im With You",
           "Love"
          ],
          [
           "Say Wonderful Things",
           "Patti Page"
          ],
          [
           "Truck Drivin Man",
           "The Grass Roots"
          ],
          [
           "The Same Old Story",
           "The Happenings"
          ],
          [
           "Everybody Says Dont",
           "Original Broadway Cast of Anyone Can Whistle"
          ],
          [
           "A Lonely Girls Prayer",
           "The Paris Sisters"
          ],
          [
           "Theres Always Tomorrow",
           "Rankin/Bass Productions"
          ],
          [
           "Blue Museum",
           "Arthur Lee Harper"
          ],
          [
           "Im Happy They Took You Away Ha-Haaa",
           "Josephine XV"
          ],
          [
           "Bedazzled",
           "The Dudley Moore Trio"
          ],
          [
           "Losin Control",
           "Eric Burdon & The Animals"
          ],
          [
           "Run Come See",
           "The Phoenix Singers"
          ],
          [
           "Tell Me",
           "Cliff Richard & The Shadows"
          ],
          [
           "High Noon Do Not Forsake Me",
           "Peter & Gordon"
          ],
          [
           "Call on Dolly",
           "Cast of Hello, Dolly!"
          ],
          [
           "Upon Your Leaving",
           "Paul Revere and the Raiders"
          ],
          [
           "What A Day For Me",
           "Harumi Ando"
          ],
          [
           "Empty Pockets Filled with Love",
           "Perry Como"
          ],
          [
           "Alice",
           "Jon Plum"
          ],
          [
           "Pal of Mine",
           "Blind Willie McTell"
          ],
          [
           "Mary Ann",
           "Udo Jrgens"
          ],
          [
           "Walking Round",
           "Manfred Mann"
          ],
          [
           "Once Upon a Time",
           "Ketty Lester"
          ],
          [
           "Song for a Dollar",
           "Bobby Darin"
          ],
          [
           "Darling Darlane",
           "Nirvana (UK)"
          ],
          [
           "So Warm",
           "Jackie DeShannon"
          ],
          [
           "Thats Life",
           "Marion Montgomery"
          ],
          [
           "Lonely Street",
           "Peter & Gordon"
          ],
          [
           "I Want to Be Happy",
           "Doris Day"
          ],
          [
           "Wandering",
           "Priscilla Paris"
          ],
          [
           "My Man",
           "Priscilla Paris"
          ],
          [
           "Moon in My Window",
           "Original Broadway Cast of Do I Hear a Waltz?"
          ],
          [
           "Theme from Valley of the Dolls",
           "Tony Bennett"
          ],
          [
           "Monica Du Du",
           "Mighty Sparrow"
          ],
          [
           "Yabba-Dabba-Doo",
           "Hoagy Carmichael"
          ],
          [
           "The Time Has Come",
           "Pentangle"
          ],
          [
           "Just Because I Really Love You",
           "Jerry Butler"
          ],
          [
           "It Could Happen to You",
           "Peggy Lee"
          ],
          [
           "Hare Krishna",
           "Original Off-Broadway Cast of HAIR"
          ],
          [
           "Sinner Man",
           "The Highwaymen (Folk)"
          ],
          [
           "Good Good Lovin",
           "Bobby Hebb"
          ],
          [
           "The Greenwood Sidie The Cruel Mother",
           "Ian & Sylvia"
          ],
          [
           "Dont Separate Us",
           "Linda Brannon"
          ],
          [
           "Money Blues",
           "Malvina Reynolds"
          ],
          [
           "You Are Where Everything Is",
           "Andy Williams"
          ],
          [
           "Come to Me Bend to Me",
           "Andy Williams"
          ],
          [
           "For Once in My Life",
           "Andy Williams"
          ],
          [
           "The Merry Christmas Medley",
           "The Four Seasons"
          ],
          [
           "Round Midnight",
           "Jack Jones"
          ],
          [
           "Easy to Be Hard",
           "Jack Jones"
          ],
          [
           "The Draft Dodger Rag",
           "The Chad Mitchell Trio"
          ],
          [
           "Aquarius/Let the Sunshine In",
           "Engelbert Humperdinck"
          ],
          [
           "Today Is the Highway",
           "Eric Andersen"
          ],
          [
           "Exodus",
           "Matt Monro"
          ],
          [
           "Rain Sometimes",
           "Matt Monro"
          ],
          [
           "The Shadow of Your Smile",
           "Matt Monro"
          ],
          [
           "A Taste Of Honey",
           "Jane Morgan"
          ],
          [
           "Suddenly Im Sad",
           "Ann Richards"
          ],
          [
           "A Shine On Your Shoes",
           "Debbie Reynolds"
          ],
          [
           "Falling In Love With Love",
           "Sheila Jordan"
          ],
          [
           "Peaceful Valley",
           "Jack Teagarden"
          ],
          [
           "Sem Saudades De Voce Dont Call Joe",
           "Vi Velasco"
          ],
          [
           "On The Street Where You Live",
           "John Gary"
          ],
          [
           "The Tale of a Mouse",
           "Bernard Cribbins"
          ],
          [
           "My Resistance Is Low",
           "Bernard Cribbins"
          ],
          [
           "The Lamp Is Low",
           "Robert Goulet"
          ],
          [
           "Wanna Laugh?",
           "Sue Raney"
          ],
          [
           "Steel Rail Blues",
           "Gordon Lightfoot"
          ],
          [
           "I Wish I Didnt Love You So",
           "Etta Jones"
          ],
          [
           "Its Raining 1969",
           "Peter, Paul and Mary"
          ],
          [
           "Does She Really Care for Me",
           "The Searchers"
          ],
          [
           "Introduction",
           "Paul Revere and the Raiders"
          ],
          [
           "How I Wish The Nights Were Longer",
           "Ronnie Dove"
          ],
          [
           "My Reverie",
           "Rod Lauren"
          ],
          [
           "Teasin",
           "Peggy March"
          ],
          [
           "It Might as Well Be Spring",
           "Lena Horne"
          ],
          [
           "Big Boat Up the River",
           "Harry Belafonte"
          ],
          [
           "Roll On Buddy",
           "Harry Belafonte"
          ],
          [
           "The Hands I Love",
           "Harry Belafonte"
          ],
          [
           "Sleep Late My Lady Friend",
           "Harry Belafonte"
          ],
          [
           "My Heart Went Do Dat Da",
           "Barbara Lewis"
          ],
          [
           "Tail Toddle",
           "Ewan MacColl & Peggy Seeger"
          ],
          [
           "She Moves Through the Fair",
           "Carolyn Hester"
          ],
          [
           "Sweet Charity: If My Friends Could See Me Now",
           "Gwen Verdon"
          ],
          [
           "Im in Love with You",
           "Cliff Richard & The Shadows"
          ],
          [
           "Friends",
           "Cliff Richard & The Shadows"
          ],
          [
           "Havent We Met?",
           "Mel Torm"
          ],
          [
           "Corpus Christi Carol",
           "Benjamin Britten"
          ]
         ],
         "hovertemplate": "title: %{customdata[0]}<br>artist: %{customdata[1]}<br>log(words): %{y}",
         "name": "pop",
         "type": "box",
         "xaxis": "x",
         "y": [
          4.394449154672439,
          3.5553480614894135,
          4.248495242049359,
          4.997212273764115,
          4.574710978503383,
          4.48863636973214,
          4.564348191467836,
          4.356708826689592,
          4.219507705176107,
          4.48863636973214,
          4.276666119016055,
          4.174387269895637,
          2.1972245773362196,
          3.828641396489095,
          3.871201010907891,
          4.859812404361672,
          4.290459441148391,
          3.970291913552122,
          4.406719247264253,
          4.859812404361672,
          4.143134726391533,
          4.31748811353631,
          4.110873864173311,
          3.8918202981106265,
          4.060443010546419,
          4.406719247264253,
          3.784189633918261,
          3.4965075614664802,
          4.859812404361672,
          4.04305126783455,
          4.343805421853684,
          4.04305126783455,
          3.871201010907891,
          4.3694478524670215,
          3.2188758248682006,
          4.499809670330265,
          4.663439094112067,
          4.532599493153256,
          4.499809670330265,
          4.060443010546419,
          4.700480365792417,
          4.2626798770413155,
          4.663439094112067,
          3.784189633918261,
          4.356708826689592,
          3.9512437185814275,
          3.912023005428146,
          4.59511985013459,
          4.290459441148391,
          4.5217885770490405,
          3.912023005428146,
          4.31748811353631,
          3.784189633918261,
          4.454347296253507,
          4.442651256490317,
          3.6375861597263857,
          4.672828834461906,
          3.8501476017100584,
          3.912023005428146,
          4.844187086458591,
          3.828641396489095,
          4.2626798770413155,
          4.564348191467836,
          3.912023005428146,
          3.871201010907891,
          4.394449154672439,
          3.4339872044851463,
          3.9889840465642745,
          4.672828834461906,
          4.1588830833596715,
          4.454347296253507,
          4.574710978503383,
          5.111987788356544,
          4.060443010546419,
          4.127134385045092,
          4.02535169073515,
          3.784189633918261,
          4.060443010546419,
          4.499809670330265,
          3.871201010907891,
          3.784189633918261,
          4.189654742026425,
          4.060443010546419,
          4.499809670330265,
          4.007333185232471,
          4.442651256490317,
          4.3694478524670215,
          3.912023005428146,
          4.30406509320417,
          4.1588830833596715,
          3.6888794541139363,
          4.394449154672439,
          4.61512051684126,
          3.367295829986474,
          4.418840607796598,
          4.02535169073515,
          4.356708826689592,
          4.143134726391533,
          4.6443908991413725,
          3.713572066704308,
          3.7612001156935624,
          4.2626798770413155,
          4.454347296253507,
          4.564348191467836,
          4.07753744390572,
          4.060443010546419,
          4.394449154672439,
          4.007333185232471,
          4.127134385045092,
          5.407171771460119,
          4.330733340286331,
          4.1588830833596715,
          4.276666119016055,
          4.127134385045092,
          3.7376696182833684,
          4.276666119016055,
          4.007333185232471,
          3.9318256327243257,
          3.713572066704308,
          4.6443908991413725,
          4.624972813284271,
          3.5263605246161616,
          4.23410650459726,
          4.02535169073515,
          3.091042453358316,
          4.356708826689592,
          4.795790545596741,
          3.6888794541139363,
          4.736198448394496,
          4.394449154672439,
          4.1588830833596715,
          4.2626798770413155,
          3.8066624897703196,
          4.143134726391533,
          4.543294782270004,
          4.574710978503383,
          4.143134726391533,
          4.2626798770413155,
          3.8066624897703196,
          3.9318256327243257,
          4.31748811353631,
          3.5553480614894135,
          4.330733340286331,
          4.174387269895637,
          4.290459441148391,
          3.295836866004329,
          4.356708826689592,
          3.970291913552122,
          4.110873864173311,
          4.07753744390572,
          4.499809670330265,
          4.6443908991413725,
          4.174387269895637,
          4.174387269895637,
          4.859812404361672,
          4.499809670330265,
          4.5217885770490405,
          4.465908118654584,
          4.442651256490317,
          3.871201010907891,
          3.784189633918261,
          5.123963979403259,
          4.465908118654584,
          5.081404364984463,
          4.290459441148391,
          4.430816798843313,
          4.143134726391533,
          4.290459441148391,
          4.787491742782046,
          4.204692619390966,
          4.890349128221754,
          4.02535169073515,
          4.962844630259907,
          4.219507705176107,
          4.07753744390572,
          4.248495242049359,
          4.770684624465665,
          4.51085950651685,
          4.605170185988092,
          3.4965075614664802,
          3.9318256327243257,
          4.584967478670572,
          4.418840607796598,
          4.663439094112067,
          4.04305126783455,
          3.713572066704308,
          3.6375861597263857,
          4.77912349311153,
          4.07753744390572,
          4.51085950651685,
          4.430816798843313,
          4.276666119016055,
          4.406719247264253,
          4.189654742026425,
          4.007333185232471,
          3.828641396489095,
          4.219507705176107,
          4.700480365792417,
          4.330733340286331,
          4.219507705176107,
          4.1588830833596715,
          4.2626798770413155,
          4.820281565605037,
          3.5263605246161616,
          4.276666119016055,
          4.584967478670572,
          3.828641396489095,
          3.6109179126442243,
          4.394449154672439,
          4.454347296253507,
          4.663439094112067,
          4.189654742026425,
          4.890349128221754,
          4.290459441148391,
          3.784189633918261,
          4.3694478524670215,
          3.871201010907891,
          3.713572066704308,
          3.4011973816621555,
          4.30406509320417,
          4.48863636973214,
          4.110873864173311,
          4.477336814478207,
          3.7376696182833684,
          4.143134726391533,
          4.04305126783455,
          4.6913478822291435,
          4.30406509320417,
          3.871201010907891,
          5.176149732573829,
          4.31748811353631,
          4.574710978503383,
          4.04305126783455,
          3.970291913552122,
          3.912023005428146,
          3.912023005428146,
          4.454347296253507,
          4.23410650459726,
          3.7376696182833684,
          3.871201010907891,
          4.343805421853684,
          4.48863636973214,
          4.672828834461906,
          4.219507705176107,
          3.4965075614664802,
          3.8501476017100584,
          4.852030263919617,
          3.784189633918261,
          4.584967478670572,
          3.5553480614894135,
          4.700480365792417,
          4.174387269895637,
          3.871201010907891,
          3.9889840465642745,
          4.3694478524670215,
          4.927253685157205,
          4.553876891600541,
          4.465908118654584,
          3.8066624897703196,
          4.532599493153256,
          4.02535169073515,
          4.442651256490317,
          4.882801922586371,
          4.04305126783455,
          4.672828834461906,
          4.2626798770413155,
          4.02535169073515
         ],
         "yaxis": "y"
        },
        {
         "boxpoints": "all",
         "customdata": [
          [
           "Falstaff",
           "The Watts Prophets"
          ]
         ],
         "hovertemplate": "title: %{customdata[0]}<br>artist: %{customdata[1]}<br>log(words): %{y}",
         "name": "rap",
         "type": "box",
         "xaxis": "x",
         "y": [
          4.836281906951478
         ],
         "yaxis": "y"
        },
        {
         "boxpoints": "all",
         "customdata": [
          [
           "My Cherie Amour",
           "Stevie Wonder"
          ],
          [
           "No Matter What Sign You Are",
           "The Supremes"
          ],
          [
           "Land of 1000 Dances",
           "Wilson Pickett"
          ],
          [
           "I Wish It Would Rain",
           "The Temptations"
          ],
          [
           "Where Did Our Love Go",
           "The Supremes"
          ],
          [
           "Reconsider Me",
           "Johnny Adams"
          ],
          [
           "This Old Heart 1966 Version",
           "James Brown & The Famous Flames"
          ],
          [
           "Dr. Feelgood",
           "Aretha Franklin"
          ],
          [
           "Chained",
           "The Jackson 5"
          ],
          [
           "Good Rockin Tonight",
           "Jimmy Witherspoon"
          ],
          [
           "Youre So Fine",
           "Wilson Pickett"
          ],
          [
           "Just Like A Woman",
           "B.B. King"
          ],
          [
           "You Dont Know Baby",
           "Wanda Jackson"
          ],
          [
           "Oh What a Day",
           "The Dells"
          ],
          [
           "Since I Lost My Baby",
           "The Temptations"
          ],
          [
           "Papa Was Too",
           "Joe Tex"
          ],
          [
           "You Win Again",
           "Ray Charles"
          ],
          [
           "The Wrong Road",
           "B.B. King"
          ],
          [
           "Whisper You Love Me Boy",
           "The Supremes"
          ],
          [
           "A Sleepin Bee",
           "Nancy Wilson"
          ],
          [
           "People Get Ready",
           "George Benson"
          ],
          [
           "These Eyes",
           "Junior Walker & The All Stars"
          ],
          [
           "Watch Your Step",
           "Bobby Parker"
          ],
          [
           "Tell Me Its Just A Rumor Baby",
           "The Isley Brothers"
          ],
          [
           "Its Got To Be A Miracle",
           "Kim Weston"
          ],
          [
           "Change What You Can",
           "Marvin Gaye"
          ],
          [
           "I Got It Bad And That Aint Good",
           "Jackie Wilson"
          ],
          [
           "Therell Be No Next Time",
           "Jackie Wilson"
          ],
          [
           "Tomorrows Tears",
           "Jimmy Ruffin"
          ],
          [
           "I Call It Pretty Music But The Old People Call It The Blues Part 1 Second Pressing",
           "Stevie Wonder"
          ],
          [
           "My First And Only Lover",
           "Nat \"King\" Cole"
          ],
          [
           "If You Dont Give Me What I Want I Gotta Get It Some Other Place",
           "Vicki Anderson"
          ],
          [
           "Come Back Baby Live in Paris 1968",
           "Aretha Franklin"
          ],
          [
           "If I Ruled the World",
           "James Brown & The Famous Flames"
          ],
          [
           "Get It Together Part 2",
           "James Brown & The Famous Flames"
          ],
          [
           "Devils Den Live",
           "James Brown"
          ],
          [
           "You Know I Love You",
           "John Lee Hooker"
          ],
          [
           "Goin’ to California",
           "John Lee Hooker"
          ],
          [
           "Brother Im With You",
           "Hal Singer"
          ],
          [
           "Love For Sale Original Session Take",
           "Aretha Franklin"
          ],
          [
           "Hey Baby",
           "The Marvelettes"
          ],
          [
           "The Old Miner",
           "The Contours"
          ],
          [
           "Im a Loser Too",
           "Paul Revere and the Raiders"
          ],
          [
           "Im Beginning to See the Light",
           "Louis Armstrong & Duke Ellington"
          ]
         ],
         "hovertemplate": "title: %{customdata[0]}<br>artist: %{customdata[1]}<br>log(words): %{y}",
         "name": "rb",
         "type": "box",
         "xaxis": "x",
         "y": [
          4.07753744390572,
          4.6443908991413725,
          4.356708826689592,
          4.672828834461906,
          4.04305126783455,
          4.290459441148391,
          3.6635616461296463,
          4.6913478822291435,
          4.700480365792417,
          3.970291913552122,
          3.912023005428146,
          4.564348191467836,
          3.9318256327243257,
          4.2626798770413155,
          4.6913478822291435,
          4.51085950651685,
          4.30406509320417,
          3.9318256327243257,
          3.970291913552122,
          4.290459441148391,
          3.4011973816621555,
          4.290459441148391,
          4.330733340286331,
          4.584967478670572,
          4.812184355372417,
          4.5217885770490405,
          3.9512437185814275,
          4.189654742026425,
          4.343805421853684,
          3.9889840465642745,
          3.828641396489095,
          4.406719247264253,
          4.356708826689592,
          4.356708826689592,
          4.90527477843843,
          3.091042453358316,
          3.5553480614894135,
          3.5553480614894135,
          4.6913478822291435,
          4.07753744390572,
          3.828641396489095,
          4.912654885736052,
          4.634728988229636,
          4.189654742026425
         ],
         "yaxis": "y"
        },
        {
         "boxpoints": "all",
         "customdata": [
          [
           "Last Night I Had The Strangest Dream",
           "Simon & Garfunkel"
          ],
          [
           "She Came in Through the Bathroom Window",
           "The Beatles"
          ],
          [
           "Ask Me Why",
           "The Beatles"
          ],
          [
           "Cant Explain",
           "Love"
          ],
          [
           "House of the Rising Sun",
           "Joan Baez"
          ],
          [
           "Doncha Bother Me",
           "The Rolling Stones"
          ],
          [
           "Why Didn’t Rosemary",
           "Deep Purple"
          ],
          [
           "Leaves That Are Green",
           "Paul Simon"
          ],
          [
           "Baby Dont You Cry",
           "Ray Charles"
          ],
          [
           "Mountain of Love",
           "The Beach Boys"
          ],
          [
           "Let It Rock",
           "Chuck Berry"
          ],
          [
           "The Man and the Donkey",
           "Chuck Berry"
          ],
          [
           "Bo Diddley",
           "Buddy Holly"
          ],
          [
           "The Madman Running Through the Fields",
           "Dantallian's Chariot"
          ],
          [
           "Its My Life",
           "The Animals"
          ],
          [
           "Molly Maguires",
           "The Dubliners"
          ],
          [
           "You’ve Really Got a Hold on Me/Bring It On Home to Me",
           "The Zombies"
          ],
          [
           "Blues from an Airplane",
           "Jefferson Airplane"
          ],
          [
           "Smiling Phases",
           "Blood, Sweat & Tears"
          ],
          [
           "Blues Deluxe",
           "Jeff Beck"
          ],
          [
           "Rock A Bye Baby Blues",
           "Brenda Lee"
          ],
          [
           "Anyone for Tennis",
           "Cream"
          ],
          [
           "Innervenus Eyes",
           "Bob Seger"
          ],
          [
           "Choke Thirst Die",
           "Coven"
          ],
          [
           "Ill Call You Mine",
           "The Zombies"
          ],
          [
           "Juniper Suction",
           "T. Rex"
          ],
          [
           "Tulsa County Blue",
           "The Byrds"
          ],
          [
           "I Can’t Stop Lovin You",
           "Ricky Nelson"
          ],
          [
           "Best Day’s Work",
           "The Dave Clark Five"
          ],
          [
           "What You Gonna Do",
           "Shocking Blue"
          ],
          [
           "The Kettle",
           "Colosseum"
          ],
          [
           "Dont Go Away",
           "The Zombies"
          ],
          [
           "Sweetness",
           "Yes"
          ],
          [
           "Its Halloween",
           "The Shaggs"
          ],
          [
           "Im A Man",
           "The Sonics"
          ],
          [
           "Sunshine Day",
           "Jethro Tull"
          ],
          [
           "Misirlou",
           "The Trashmen"
          ],
          [
           "Aquarius/Let the Sunshine In",
           "The 5th Dimension"
          ],
          [
           "Red Day",
           "Thomas Edisun's Electric Light Bulb Band"
          ],
          [
           "My Bed Is Getting Crowded",
           "The Fugs"
          ],
          [
           "Heart of Stone",
           "John Leyton"
          ],
          [
           "Virgin",
           "Traffic Sound"
          ],
          [
           "As It Is Before",
           "Earth Opera"
          ],
          [
           "Join the Firm",
           "Halfnelson"
          ],
          [
           "Pink Pedal Pushers",
           "Jerry Lee Lewis"
          ],
          [
           "Mr. Commuter",
           "Mike Proctor"
          ],
          [
           "A Flower",
           "Alexis Korner"
          ],
          [
           "The Red Rooster",
           "Howlin' Wolf"
          ],
          [
           "You Dont Love Me Anymore And I Can Tell",
           "Ricky Nelson"
          ],
          [
           "Deaf Dumb and Blind",
           "Bohemian Vendetta"
          ],
          [
           "You’re The Woman",
           "Tripsichord Music Box"
          ],
          [
           "Everythings Gonna Be All Right",
           "Chubby Checker"
          ],
          [
           "Wish I Was Anywhere Else",
           "Jake Holmes"
          ],
          [
           "Beyond This Place",
           "West Coast Natural Gas"
          ],
          [
           "The Ministrel",
           "The Racket Squad"
          ],
          [
           "Fast Freight",
           "The Fifth Avenue Band"
          ],
          [
           "Crisco",
           "Paul Revere and the Raiders"
          ],
          [
           "What Love",
           "The Collectors"
          ],
          [
           "Dont Turn Around",
           "Birmingham Sunday"
          ]
         ],
         "hovertemplate": "title: %{customdata[0]}<br>artist: %{customdata[1]}<br>log(words): %{y}",
         "name": "rock",
         "type": "box",
         "xaxis": "x",
         "y": [
          4.110873864173311,
          4.290459441148391,
          3.970291913552122,
          3.58351893845611,
          4.110873864173311,
          4.110873864173311,
          4.543294782270004,
          4.2626798770413155,
          4.382026634673881,
          4.762173934797756,
          4.727387818712341,
          4.248495242049359,
          4.143134726391533,
          4.543294782270004,
          4.6913478822291435,
          4.31748811353631,
          4.23410650459726,
          4.290459441148391,
          4.499809670330265,
          4.356708826689592,
          3.6888794541139363,
          4.532599493153256,
          4.356708826689592,
          3.9512437185814275,
          4.02535169073515,
          4.1588830833596715,
          4.219507705176107,
          4.204692619390966,
          3.9889840465642745,
          3.970291913552122,
          4.0943445622221,
          4.04305126783455,
          4.454347296253507,
          4.406719247264253,
          4.127134385045092,
          3.9318256327243257,
          4.143134726391533,
          4.543294782270004,
          4.394449154672439,
          4.3694478524670215,
          4.127134385045092,
          3.713572066704308,
          4.51085950651685,
          4.248495242049359,
          4.584967478670572,
          4.532599493153256,
          4.553876891600541,
          3.9512437185814275,
          3.7376696182833684,
          4.060443010546419,
          4.04305126783455,
          4.406719247264253,
          4.343805421853684,
          4.418840607796598,
          4.290459441148391,
          4.007333185232471,
          4.564348191467836,
          4.897839799950911,
          3.4011973816621555
         ],
         "yaxis": "y"
        },
        {
         "boxpoints": "all",
         "customdata": [
          [
           "Those Shoes",
           "Eagles"
          ],
          [
           "Promised Land",
           "Elvis Presley"
          ],
          [
           "Daddys Moonshine Still",
           "Dolly Parton"
          ],
          [
           "Nothing Ever Hurt Me Half as Bad as Losing You",
           "George Jones"
          ],
          [
           "Another Way To Say Goodbye",
           "George Jones"
          ],
          [
           "Get Some Loving Done",
           "George Jones"
          ],
          [
           "Let There Be Country",
           "Johnny Cash"
          ],
          [
           "Gone Girl",
           "Johnny Cash"
          ],
          [
           "Thats What Its Like To Be Lonesome",
           "Johnny Cash"
          ],
          [
           "Out of Control",
           "Eagles"
          ],
          [
           "Cry softly",
           "Jessi Colter"
          ],
          [
           "Your Thunder And Lightning",
           "Lee Hazlewood"
          ],
          [
           "Would You Be My Lady",
           "David Allan Coe"
          ],
          [
           "Jody Like A Melody",
           "David Allan Coe"
          ],
          [
           "Rave On",
           "The Nitty Gritty Dirt Band"
          ],
          [
           "Mother Of Love",
           "The Nitty Gritty Dirt Band"
          ],
          [
           "That’s What You Do To Me",
           "Charly McClain"
          ],
          [
           "I Will Never Pass This Way Again",
           "Glen Campbell"
          ],
          [
           "The Christian ?",
           "Jimmy Buffett"
          ],
          [
           "Sweet Surrender",
           "Johnny Mathis"
          ],
          [
           "Not Fade Away",
           "The Everly Brothers"
          ],
          [
           "Marie Laveau",
           "Bobby Bare"
          ],
          [
           "The Twelfth Of Never",
           "Tammy Wynette"
          ],
          [
           "Im One Mans Woman",
           "Loretta Lynn"
          ],
          [
           "Why Cant He Be You",
           "Loretta Lynn"
          ],
          [
           "This Stranger My Little Girl",
           "Loretta Lynn"
          ],
          [
           "Bridge Over Troubled Water",
           "Glen Campbell"
          ],
          [
           "Aurora Borealis",
           "C.W. McCall"
          ],
          [
           "Our Babys Gone",
           "Herb Pedersen"
          ],
          [
           "Calypso",
           "John Denver"
          ],
          [
           "Guess Im Still In Love With You",
           "Alabama"
          ],
          [
           "Shady Streets",
           "Gary Stewart"
          ],
          [
           "Heaven Watches Over Fools Like Me",
           "Charley Pride"
          ],
          [
           "When The Roll Is Called Up Yonder",
           "The Oak Ridge Boys"
          ],
          [
           "Syrup",
           "Nadavalone"
          ],
          [
           "High Time",
           "Crystal Gayle"
          ],
          [
           "Arms Full Of Empty",
           "Buck Owens"
          ],
          [
           "Pretend You Dont See Me",
           "Billy Walker"
          ],
          [
           "The Room Across The Hall",
           "Red Sovine"
          ],
          [
           "Hollywood",
           "Michael Nesmith"
          ],
          [
           "Everything",
           "Jonathan Edwards"
          ],
          [
           "Poison Red Berries",
           "Johnny Rodriguez"
          ],
          [
           "Love Needs",
           "Marty Robbins"
          ],
          [
           "Virgil And The $300 Vacation",
           "Cledus Maggard"
          ],
          [
           "Alabam",
           "Lynn Anderson"
          ],
          [
           "Faded Love",
           "Carl Smith"
          ],
          [
           "Song for Life",
           "The Seldom Scene"
          ],
          [
           "Ive Just Got to Know How Loving You Would Be",
           "Conway Twitty"
          ],
          [
           "Ive Been Around Enough to Know",
           "Conway Twitty"
          ]
         ],
         "hovertemplate": "title: %{customdata[0]}<br>artist: %{customdata[1]}<br>log(words): %{y}",
         "name": "country",
         "type": "box",
         "xaxis": "x2",
         "y": [
          4.634728988229636,
          4.955827057601261,
          5.117993812416755,
          4.962844630259907,
          4.584967478670572,
          4.060443010546419,
          4.875197323201151,
          4.007333185232471,
          4.23410650459726,
          4.787491742782046,
          3.970291913552122,
          4.499809670330265,
          4.189654742026425,
          4.477336814478207,
          3.7376696182833684,
          4.1588830833596715,
          4.0943445622221,
          4.04305126783455,
          4.61512051684126,
          4.276666119016055,
          3.7612001156935624,
          5.030437921392435,
          3.970291913552122,
          4.189654742026425,
          4.276666119016055,
          4.5217885770490405,
          4.07753744390572,
          5.123963979403259,
          4.718498871295094,
          4.454347296253507,
          4.189654742026425,
          4.430816798843313,
          4.553876891600541,
          3.9512437185814275,
          4.454347296253507,
          4.248495242049359,
          4.382026634673881,
          4.0943445622221,
          3.912023005428146,
          4.406719247264253,
          4.0943445622221,
          4.382026634673881,
          4.574710978503383,
          5.921578419643816,
          4.382026634673881,
          3.9512437185814275,
          4.290459441148391,
          4.143134726391533,
          4.2626798770413155
         ],
         "yaxis": "y2"
        },
        {
         "boxpoints": "all",
         "customdata": [
          [
           "New Zealand Interview 1979",
           "Bob Marley"
          ],
          [
           "Those Were the Days All in The Family Theme Song",
           "Carrroll O'Connor and Jean Stapleton"
          ],
          [
           "The Loser",
           "Shel Silverstein"
          ],
          [
           "History",
           "Robert Lowell"
          ],
          [
           "Coming Home - Theres a Choice to Be Made Here",
           "Waldo Salt, Robert C. Jones"
          ],
          [
           "Sawada v. Endo",
           "Supreme Court of Hawaii"
          ],
          [
           "We Beg Your Pardon Pardon Our Analysis",
           "Gil Scott-Heron & Brian Jackson"
          ],
          [
           "The Lady of the House of Love",
           "Angela Carter"
          ],
          [
           "Burning Oneself In",
           "Adrienne Rich"
          ],
          [
           "Night and Days",
           "Adrienne Rich"
          ],
          [
           "Mossbawn: Two Poems in Dedication to Mary Heaney 2. The Seed Cutters",
           "Seamus Heaney"
          ],
          [
           "Aint It Fine",
           "Gylan Kain"
          ],
          [
           "The Stylophone Accompaniment Record  Tune Book side 1 – Traditional Tunes",
           "Dbreq Stylophone discs"
          ]
         ],
         "hovertemplate": "title: %{customdata[0]}<br>artist: %{customdata[1]}<br>log(words): %{y}",
         "name": "misc",
         "type": "box",
         "xaxis": "x2",
         "y": [
          5.963579343618446,
          4.574710978503383,
          3.970291913552122,
          4.442651256490317,
          4.955827057601261,
          6.767343125265392,
          5.863631175598097,
          7.640123172695364,
          4.442651256490317,
          5.214935757608986,
          4.356708826689592,
          4.543294782270004,
          4.852030263919617
         ],
         "yaxis": "y2"
        },
        {
         "boxpoints": "all",
         "customdata": [
          [
           "Dont Go Near The Water",
           "The Beach Boys"
          ],
          [
           "Burning Bridges",
           "Mike Curb Congregation"
          ],
          [
           "You Must Be Love",
           "Love and Kisses"
          ],
          [
           "Son of Orange County",
           "Frank Zappa"
          ],
          [
           "I Wont Last a Day Without You",
           "Barbra Streisand"
          ],
          [
           "Warm Spot Hot",
           "Roy Orbison"
          ],
          [
           "Ill Be On My Way",
           "Billy J. Kramer with The Dakotas"
          ],
          [
           "Need Your Love So Bad",
           "The Allman Brothers Band"
          ],
          [
           "Three Roses",
           "America"
          ],
          [
           "Houston Dallas San Antone",
           "David Allan Coe"
          ],
          [
           "Answer to the Laundromat Blues",
           "Albert King"
          ],
          [
           "Safety In God Alone",
           "Amazing Blondel"
          ],
          [
           "Consolation Prizes",
           "Iggy Pop & James Williamson"
          ],
          [
           "Stella By Artois",
           "Kate & Anna McGarrigle"
          ],
          [
           "Very Yes",
           "Bootsy's Rubber Band"
          ],
          [
           "Prison Trilogy Billy Rose",
           "Joan Baez"
          ],
          [
           "Music from Across the Way",
           "Andy Williams"
          ],
          [
           "No Backstage Pass",
           "Caravan"
          ],
          [
           "Hand to Mouth",
           "The Flying Burrito Brothers"
          ],
          [
           "Three Piece Suite",
           "England"
          ],
          [
           "Less Is More",
           "Rupert Holmes"
          ],
          [
           "Just for a Moment",
           "Ultravox"
          ],
          [
           "My Flame",
           "Bobby Caldwell"
          ],
          [
           "Julie Do Ya Love Me",
           "Bobby Sherman"
          ],
          [
           "Be Yourself",
           "Hawkwind"
          ],
          [
           "High Middle Low",
           "Sesame Street"
          ],
          [
           "Stone Blue",
           "Foghat"
          ],
          [
           "Sweep Chimney Sweep",
           "Steeleye Span"
          ],
          [
           "Moments Of Joy",
           "Kayak"
          ],
          [
           "Stories Untold",
           "Stories"
          ],
          [
           "Charlie Green Play That Slide Trombone",
           "Jim Croce"
          ],
          [
           "Be Good and Be Kind",
           "Tin House"
          ],
          [
           "Magic Highway",
           "Christie"
          ],
          [
           "’Til I Can Make It on My Own",
           "Kenny Rogers & Dottie West"
          ],
          [
           "The Show Must Go On",
           "Three Dog Night"
          ],
          [
           "Joan",
           "Art Bears"
          ],
          [
           "Louise",
           "The Hollies"
          ],
          [
           "Walking Together Backwards",
           "Sailcat"
          ],
          [
           "I Aint Heard You Play No Blues",
           "Steve Goodman"
          ],
          [
           "Let There Be Music",
           "Orleans"
          ],
          [
           "Woman in the Wings",
           "Maddy Prior"
          ],
          [
           "Why Do You Turn Your Back?",
           "Richard & Linda Thompson"
          ],
          [
           "Too Much Love",
           "Bread"
          ],
          [
           "Boppin the Blues",
           "Blackfeather"
          ],
          [
           "Lovesick Blues",
           "Jerry Lee Lewis"
          ],
          [
           "The Twins",
           "Country Joe McDonald"
          ],
          [
           "Johnny Lightning",
           "Stampeders"
          ],
          [
           "Everything Will Turn Out Fine",
           "Stealers Wheel"
          ],
          [
           "Ue man",
           "Pino Daniele"
          ],
          [
           "Hey Mama Life",
           "Ray Thomas"
          ],
          [
           "Youre the Man Pt. I  II Single Version",
           "Marvin Gaye"
          ],
          [
           "High on the Starway",
           "Omega"
          ],
          [
           "Lochinvar",
           "New Riders of the Purple Sage"
          ],
          [
           "I Fought the Law",
           "Hank Williams Jr."
          ],
          [
           "Even Steven",
           "Firefall"
          ],
          [
           "Relight My Fire",
           "Dan Hartman"
          ],
          [
           "Be Mine Tonight",
           "Th' Dudes"
          ],
          [
           "Mardi Gras Mambo",
           "The Meters"
          ],
          [
           "Who Do You Think You Are?",
           "Candlewick Green"
          ],
          [
           "Where or When",
           "Johnny Mathis"
          ],
          [
           "Trouble",
           "Head East"
          ],
          [
           "Autumn Lady",
           "Melanie"
          ],
          [
           "Mad Dog",
           "John Entwistle"
          ],
          [
           "Where Have You Been?",
           "Astrud Gilberto"
          ],
          [
           "The Windmills of Your Mind",
           "Michel Legrand"
          ],
          [
           "Belsen",
           "Sid Vicious"
          ],
          [
           "Aurora",
           "Carpenters"
          ],
          [
           "San Ferry Anne",
           "Paul McCartney & Wings"
          ],
          [
           "Watch Out for the Bat",
           "Roger Glover"
          ],
          [
           "Englands Glory Live",
           "Ian Dury"
          ],
          [
           "Haywood",
           "Carole King"
          ],
          [
           "What Would Bogey Do?",
           "Murray McLauchlan"
          ],
          [
           "Miss Subway of 1952",
           "Cher"
          ],
          [
           "My Blue Tears",
           "The Incredible String Band"
          ],
          [
           "The Night the Lights Went Out",
           "The Trammps"
          ],
          [
           "It Noh Funny",
           "Linton Kwesi Johnson"
          ],
          [
           "Close Your Eyes",
           "Strawbs"
          ],
          [
           "Louise",
           "Leo Kottke"
          ],
          [
           "Caravan",
           "Melissa Manchester"
          ],
          [
           "Imprisonment",
           "Eloy"
          ],
          [
           "Smack Dab In The Middle",
           "Ry Cooder"
          ],
          [
           "Get It Right The Next Time",
           "Gerry Rafferty"
          ],
          [
           "What to Do",
           "Status Quo"
          ],
          [
           "Doubleback Alley",
           "The Rutles"
          ],
          [
           "Backstabbers",
           "Lyn Collins"
          ],
          [
           "Trains",
           "John Cooper Clarke"
          ],
          [
           "Sunny Days Make Me Think of You",
           "Average White Band"
          ],
          [
           "Breakdown",
           "The Everly Brothers"
          ],
          [
           "Anyone Who Isnt Me Tonight",
           "Kenny Rogers"
          ],
          [
           "Pick Up The Pieces",
           "Jean Knight"
          ],
          [
           "My Heart Belongs To Daddy",
           "Mary Martin"
          ],
          [
           "One Woman Lover",
           "Gino Vannelli"
          ],
          [
           "Lets Go Together",
           "Paul Kantner and Jefferson Starship"
          ],
          [
           "Loving You",
           "Camilo Sesto"
          ],
          [
           "Gaye",
           "Clifford T. Ward"
          ],
          [
           "Fantasy Beginning",
           "Carole King"
          ],
          [
           "Hammerdown",
           "Ted Nugent"
          ],
          [
           "Keep It Coming",
           "Rufus"
          ],
          [
           "Always Be Together",
           "Pablo Cruise"
          ],
          [
           "Crime Parts 1  2",
           "999"
          ],
          [
           "Homesick Boy",
           "George Thorogood & The Destroyers"
          ],
          [
           "Get It Up",
           "Silver Convention"
          ],
          [
           "Theres A Light Beyond These Woods",
           "Nanci Griffith"
          ],
          [
           "The Sweetest Gift",
           "Linda Ronstadt"
          ],
          [
           "Leave My Woman Alone",
           "John Fogerty"
          ],
          [
           "Est-ce Que Cest Chic",
           "Chic"
          ],
          [
           "Aint It All Amusing",
           "Elf (band)"
          ],
          [
           "Dixie Toot",
           "Rod Stewart"
          ],
          [
           "Be Nice to Me",
           "Todd Rundgren"
          ],
          [
           "Midnight Runaway",
           "Three Dog Night"
          ],
          [
           "Gabriel’s Mother’s Highway Ballad 16 Blues",
           "Arlo Guthrie"
          ],
          [
           "Sounds Of War",
           "Accept"
          ],
          [
           "Hard Times of Old England",
           "Steeleye Span"
          ],
          [
           "Cotton Growing Man",
           "Spooky Tooth"
          ],
          [
           "Please Come To Boston",
           "Tammy Wynette"
          ],
          [
           "After You Came",
           "The Moody Blues"
          ],
          [
           "Spring Affair",
           "Donna Summer"
          ],
          [
           "Aint No Place For a Country Boy",
           "Chris LeDoux"
          ],
          [
           "That Lucky Old Sun",
           "Paul Williams"
          ],
          [
           "Where or When",
           "Judy Collins"
          ],
          [
           "I Want to Give",
           "Perry Como"
          ],
          [
           "Song Of Love",
           "David Cassidy"
          ],
          [
           "Uncomplicated",
           "Rick Derringer"
          ],
          [
           "Call on You",
           "Burning Spear"
          ],
          [
           "Lightning Love Affair",
           "The Rubinoos"
          ],
          [
           "Friends",
           "Gentle Giant"
          ],
          [
           "All At Sea",
           "Budgie"
          ],
          [
           "Having My Picture Taken",
           "The Boomtown Rats"
          ],
          [
           "Wrong Side of Town",
           "Firefall"
          ],
          [
           "Reynard the Fox",
           "Fairport Convention"
          ],
          [
           "Every Night",
           "Phoebe Snow"
          ],
          [
           "Whose Garden Was This",
           "John Denver"
          ],
          [
           "Angel In Your Arms",
           "Hot (Girl Group)"
          ],
          [
           "Something That I Said",
           "The Ruts"
          ],
          [
           "Candy",
           "Con Funk Shun"
          ],
          [
           "Safe at Anchor",
           "Kate Wolf"
          ],
          [
           "Grandad",
           "John Mayall"
          ],
          [
           "Now Is the Time",
           "Jimmy James & the Vagabonds"
          ],
          [
           "Jules Delight",
           "Gravy Train (UK)"
          ],
          [
           "Haulin Coal",
           "Rufus"
          ],
          [
           "Ill Get Along",
           "Ann Peebles"
          ],
          [
           "The Cherry Tree Carol",
           "Jos Feliciano"
          ],
          [
           "Forbidden Lovers",
           "Be Bop Deluxe"
          ],
          [
           "Reynard the Fox",
           "Nic Jones"
          ],
          [
           "Nightingale II",
           "Judy Collins"
          ],
          [
           "Gonna Make You a Star",
           "David Essex"
          ],
          [
           "Swing and Dine",
           "The Melodians"
          ],
          [
           "Me I Disconnect from You",
           "Tubeway Army"
          ],
          [
           "Have I Lost You",
           "The Supremes"
          ],
          [
           "Let Me Try Again",
           "Frank Sinatra"
          ],
          [
           "Steady Drivin Man",
           "Mink DeVille"
          ],
          [
           "I Love You",
           "Donna Summer"
          ],
          [
           "Introduction",
           "Gracious"
          ],
          [
           "Ping Pong",
           "The Nits"
          ],
          [
           "Lucinda",
           "Randy Newman"
          ],
          [
           "When Can Brown Begin",
           "Jimmy Webb"
          ],
          [
           "I Been Workin on You",
           "The Doobie Brothers"
          ],
          [
           "Same Old Sound",
           "Roger McGuinn"
          ],
          [
           "Lift the Lid",
           "Nazareth"
          ],
          [
           "Belle",
           "Al Green"
          ],
          [
           "Slipped My Disco",
           "The Tubes"
          ],
          [
           "Circlin",
           "Stephen Stills"
          ],
          [
           "Down in the Flood Live at the Academy of Music",
           "The Band"
          ],
          [
           "The W.S. Walcott Medicine Show  Live at the Academy of Music",
           "The Band"
          ],
          [
           "Runaway",
           "The Salsoul Orchestra"
          ],
          [
           "Happy Days Theme from Happy Days",
           "Pratt & McClain"
          ],
          [
           "The Chance of Love",
           "Bee Gees"
          ],
          [
           "Never my love",
           "Etta James"
          ],
          [
           "Its a long way around",
           "Burning Spear"
          ],
          [
           "Loving You Was Like A Party",
           "Marlena Shaw"
          ],
          [
           "Sheila",
           "Eric Andersen"
          ],
          [
           "Drink up thy zider - disco version",
           "The Wurzels"
          ],
          [
           "Thank Heaven for Little Girls",
           "Frederick Loewe"
          ],
          [
           "Friendship Train",
           "Nancy Sinatra"
          ],
          [
           "You Can Be What You Wanna Be",
           "Dexter Wansel"
          ],
          [
           "Oh Why",
           "Superlove (Pop)"
          ],
          [
           "I Can Make You Happy",
           "Austin Roberts"
          ],
          [
           "Got This Happy Feeling",
           "Ghetto Brothers"
          ],
          [
           "The Sea Is My Soil I Remember When",
           "Astrud Gilberto"
          ],
          [
           "I Can Make You Happy",
           "Davy Jones"
          ],
          [
           "Help Me Rhonda",
           " (Tatsuro Yamashita)"
          ],
          [
           "Alls Well",
           "Squeeze"
          ],
          [
           "I Wont Try to Put Chains on Your Soul",
           "Jackie DeShannon"
          ],
          [
           "Little Darlin",
           "Kenny"
          ],
          [
           "I Dont Want to Talk About It",
           "Strawbs"
          ],
          [
           "Honky Tonk Angel",
           "Cliff Richard"
          ],
          [
           "The Silver Jubilee",
           "Wigwam (FIN)"
          ],
          [
           "Lucky Golden Stripes And Starpose",
           "Wigwam (FIN)"
          ],
          [
           "Waking Up to Love",
           "Frankie Valli"
          ],
          [
           "300 Pounds of Hongry",
           "Tony Joe White"
          ],
          [
           "Winter Again",
           "Hirth Martinez"
          ],
          [
           "St. Francis In Katmandu 1",
           "Piero Piccioni"
          ],
          [
           "Valley of the Music",
           "Hirth Martinez"
          ],
          [
           "Lost Love",
           "Bert Jansch"
          ],
          [
           "Will They Be Listening?",
           "Erik Tagg"
          ],
          [
           "She Loves Me",
           "Bobby Vinton"
          ],
          [
           "Stranded Again/On the Twentieth Century",
           "Cy Coleman, On the Twentieth Century Original Broadway Cast"
          ],
          [
           "When We Get Married",
           "Joe Bataan"
          ],
          [
           "The Day After You",
           "John Valenti"
          ],
          [
           "Dammit Janet",
           "Brad & Janet"
          ],
          [
           "Snow Snow",
           "Pete Seeger"
          ],
          [
           "Alkali",
           "Bill Staines"
          ],
          [
           "Well Never Have to Say Goodbye Again",
           "Jeffrey Comanor"
          ],
          [
           "Johnny B 77",
           "Jack Bruce"
          ],
          [
           "It Never Happened",
           "Flo & Eddie"
          ],
          [
           "As",
           "Elkie Brooks"
          ],
          [
           "The Vegetable Song",
           "Steve Goodman"
          ],
          [
           "Delta Road",
           "Maxi Anderson"
          ],
          [
           "Sunday Night To Monday Morning",
           "Char (JPN)"
          ],
          [
           "Touch Me Me in the Morning",
           "Big Youth"
          ],
          [
           "Quite Still",
           "Roberto Cacciapaglia"
          ],
          [
           "Words",
           "Engelbert Humperdinck"
          ],
          [
           "Bridge Over Troubled Water",
           "Matt Monro"
          ],
          [
           "Where There Is Love",
           "The Whispers"
          ],
          [
           "Paper Roses",
           "Jerry Vale"
          ],
          [
           "The Sick Rose",
           "Allen Ginsberg"
          ],
          [
           "Bombs Away",
           "Bob Weir"
          ],
          [
           "How Can You Mend a Broken Heart",
           "The Sandpipers"
          ],
          [
           "May In The Morning",
           "Pebbles (UK)"
          ],
          [
           "Dont Ever Take Your Love Away",
           "Dionne Warwick"
          ],
          [
           "Little Miss Demeanour",
           "Marty Rhone"
          ],
          [
           "Rustys House  Lost in Space",
           "These Trails"
          ],
          [
           "Give Me Shakespeare",
           "Sailor"
          ],
          [
           "Wild Mountain Rose",
           "Conway Twitty"
          ],
          [
           "Love is Blind Live",
           "Janis Ian"
          ],
          [
           "Human Race",
           "The Everly Brothers"
          ],
          [
           "The Race",
           "Truth (CCM)"
          ],
          [
           "No Spitting On The Bus",
           "Steve Gibbons Band"
          ],
          [
           "Its Too Soon To Let Our Love End",
           "Mary Macgregor"
          ]
         ],
         "hovertemplate": "title: %{customdata[0]}<br>artist: %{customdata[1]}<br>log(words): %{y}",
         "name": "pop",
         "type": "box",
         "xaxis": "x2",
         "y": [
          4.23410650459726,
          4.499809670330265,
          4.465908118654584,
          3.295836866004329,
          4.574710978503383,
          4.718498871295094,
          3.912023005428146,
          4.3694478524670215,
          3.828641396489095,
          4.68213122712422,
          4.844187086458591,
          4.718498871295094,
          4.330733340286331,
          3.044522437723423,
          4.465908118654584,
          5.356586274672012,
          4.356708826689592,
          4.700480365792417,
          4.418840607796598,
          5.5254529391317835,
          4.454347296253507,
          3.970291913552122,
          4.060443010546419,
          4.343805421853684,
          2.70805020110221,
          3.8066624897703196,
          4.605170185988092,
          4.605170185988092,
          4.430816798843313,
          4.499809670330265,
          4.204692619390966,
          4.143134726391533,
          4.204692619390966,
          4.51085950651685,
          4.330733340286331,
          3.828641396489095,
          4.343805421853684,
          3.7376696182833684,
          3.4657359027997265,
          4.406719247264253,
          4.31748811353631,
          4.543294782270004,
          4.04305126783455,
          4.3694478524670215,
          4.418840607796598,
          4.382026634673881,
          4.2626798770413155,
          4.31748811353631,
          4.060443010546419,
          4.553876891600541,
          4.795790545596741,
          4.77912349311153,
          4.418840607796598,
          3.6375861597263857,
          4.477336814478207,
          4.532599493153256,
          3.6635616461296463,
          3.8066624897703196,
          4.276666119016055,
          4.394449154672439,
          4.330733340286331,
          4.382026634673881,
          4.77912349311153,
          3.6888794541139363,
          4.882801922586371,
          4.060443010546419,
          3.871201010907891,
          4.0943445622221,
          4.04305126783455,
          5.099866427824199,
          4.718498871295094,
          4.330733340286331,
          4.6913478822291435,
          4.127134385045092,
          4.605170185988092,
          4.189654742026425,
          3.1354942159291497,
          4.532599493153256,
          4.0943445622221,
          4.477336814478207,
          4.574710978503383,
          4.406719247264253,
          3.871201010907891,
          4.553876891600541,
          4.564348191467836,
          3.9318256327243257,
          4.564348191467836,
          4.31748811353631,
          4.465908118654584,
          4.219507705176107,
          4.48863636973214,
          4.1588830833596715,
          4.3694478524670215,
          4.2626798770413155,
          3.9318256327243257,
          3.713572066704308,
          4.23410650459726,
          4.204692619390966,
          4.499809670330265,
          4.330733340286331,
          4.219507705176107,
          4.634728988229636,
          4.820281565605037,
          4.219507705176107,
          3.970291913552122,
          4.477336814478207,
          4.07753744390572,
          4.955827057601261,
          4.406719247264253,
          4.532599493153256,
          4.532599493153256,
          4.653960350157523,
          4.770684624465665,
          3.784189633918261,
          4.875197323201151,
          4.736198448394496,
          4.406719247264253,
          4.553876891600541,
          4.174387269895637,
          3.9512437185814275,
          3.871201010907891,
          4.532599493153256,
          4.812184355372417,
          3.4011973816621555,
          4.51085950651685,
          4.1588830833596715,
          4.02535169073515,
          4.48863636973214,
          4.927253685157205,
          4.727387818712341,
          3.784189633918261,
          4.07753744390572,
          4.5217885770490405,
          3.9512437185814275,
          3.912023005428146,
          4.718498871295094,
          4.276666119016055,
          4.07753744390572,
          4.5217885770490405,
          4.532599493153256,
          4.189654742026425,
          4.276666119016055,
          4.836281906951478,
          5.062595033026967,
          4.382026634673881,
          4.1588830833596715,
          3.9318256327243257,
          3.912023005428146,
          4.110873864173311,
          4.394449154672439,
          4.143134726391533,
          4.51085950651685,
          4.394449154672439,
          3.871201010907891,
          4.356708826689592,
          4.477336814478207,
          4.127134385045092,
          4.2626798770413155,
          4.330733340286331,
          4.795790545596741,
          4.59511985013459,
          4.51085950651685,
          4.3694478524670215,
          4.74493212836325,
          4.394449154672439,
          4.1588830833596715,
          4.3694478524670215,
          3.8918202981106265,
          3.4965075614664802,
          4.1588830833596715,
          4.624972813284271,
          4.394449154672439,
          4.110873864173311,
          4.174387269895637,
          4.02535169073515,
          4.060443010546419,
          4.1588830833596715,
          4.820281565605037,
          4.127134385045092,
          3.8066624897703196,
          4.204692619390966,
          4.700480365792417,
          4.574710978503383,
          3.784189633918261,
          4.394449154672439,
          4.23410650459726,
          4.442651256490317,
          4.624972813284271,
          4.5217885770490405,
          4.553876891600541,
          4.852030263919617,
          4.962844630259907,
          5.017279836814924,
          3.9318256327243257,
          4.77912349311153,
          4.060443010546419,
          5.0689042022202315,
          4.143134726391533,
          4.564348191467836,
          4.5217885770490405,
          4.143134726391533,
          4.859812404361672,
          4.418840607796598,
          4.430816798843313,
          4.204692619390966,
          4.7535901911063645,
          4.465908118654584,
          4.1588830833596715,
          4.248495242049359,
          4.574710978503383,
          4.3694478524670215,
          4.204692619390966,
          4.330733340286331,
          4.31748811353631,
          4.110873864173311,
          3.4011973816621555,
          4.795790545596741,
          4.276666119016055,
          4.382026634673881,
          4.3694478524670215,
          4.2626798770413155,
          4.624972813284271,
          4.804021044733257,
          4.430816798843313,
          4.204692619390966,
          4.574710978503383,
          4.430816798843313,
          4.51085950651685,
          4.584967478670572
         ],
         "yaxis": "y2"
        },
        {
         "boxpoints": "all",
         "customdata": [
          [
           "Lets Get It On",
           "Marvin Gaye"
          ],
          [
           "Be Thankful for What You Got Radio Edit",
           "William DeVaughn"
          ],
          [
           "Slave Driver",
           "Bob Marley & The Wailers"
          ],
          [
           "That’s The Way I Feel About Cha",
           "Aretha Franklin"
          ],
          [
           "What Is Success?",
           "Allen Toussaint"
          ],
          [
           "Move with Me",
           "Tim Buckley"
          ],
          [
           "Free Yourself Be Yourself",
           "The Brothers Johnson"
          ],
          [
           "Paint Your Pretty Picture",
           "Bill Withers"
          ],
          [
           "Trapped",
           "Jimmy Cliff"
          ],
          [
           "Music for Lovers",
           "Nina Simone"
          ],
          [
           "It Only Takes a Minute",
           "Tavares"
          ],
          [
           "My Roommate",
           "Village People"
          ],
          [
           "Through Thick and Thin",
           "The Jackson 5"
          ],
          [
           "I Took My Strength From You",
           "Sylvester"
          ],
          [
           "Come With Your Lady",
           "Rare Earth"
          ],
          [
           "Somebodys Gonna Off the Man",
           "Barry White"
          ],
          [
           "Magdalena",
           "Donny Hathaway"
          ],
          [
           "Race",
           "A Taste of Honey"
          ],
          [
           "Funky Rubber Band",
           "Richard \"Popcorn\" Wylie"
          ],
          [
           "Mississippi Mud",
           "Black Blood & the Chocolate Pickles"
          ],
          [
           "My Best Was Good Enough",
           "Patti LaBelle"
          ],
          [
           "World Spin",
           "A Taste of Honey"
          ],
          [
           "Doc",
           "Chocolate Milk"
          ],
          [
           "Youre Movin Much Too Fast",
           "The Nightingales"
          ],
          [
           "Just Aint Strong As I Used To Be You Done Fed Me Sumpin",
           "Jimmy Hughes"
          ],
          [
           "Kissin Power",
           "Atlantic Starr"
          ],
          [
           "Universal Love Beyond the Boundaries",
           "Jimmy Cliff"
          ],
          [
           "Soft And Wet 1976 Demo",
           "Prince"
          ],
          [
           "Do Something For Yourself",
           "Weldon Irvine"
          ],
          [
           "Love Your Brother Sanctified Version",
           "Weldon Irvine"
          ],
          [
           "Papa Don’t Take No Mess Part 2",
           "James Brown"
          ],
          [
           "Nature Is Giving",
           "Stylus"
          ],
          [
           "Changes",
           "Clarence Carter"
          ],
          [
           "When Love Is New",
           "Arthur Prysock"
          ],
          [
           "Lets Stick Together",
           "Little Beaver"
          ],
          [
           "You Got Talent",
           "Bobby Thurston"
          ],
          [
           "You Bring Out The Love In Me",
           "Bobby McClure"
          ],
          [
           "Close to You",
           "Dionne Warwick"
          ],
          [
           "The Power of Love",
           "The Dells"
          ],
          [
           "Forever Now",
           "Eloise Laws"
          ],
          [
           "Wicked Men",
           "The Abyssinians"
          ],
          [
           "Love Song For Kids",
           "Randy Jackson (Jackson 5)"
          ],
          [
           "Shorty The Pimp",
           "Don Julian & The Larks"
          ],
          [
           "My Sweet Lord",
           "Edwin Starr"
          ],
          [
           "Maybe Tomorrow Live",
           "The Jackson 5"
          ],
          [
           "Gilly Hines In Memory of Natalie Cerame",
           "Mandrill"
          ],
          [
           "Its You Its You",
           "Tyrone Davis"
          ]
         ],
         "hovertemplate": "title: %{customdata[0]}<br>artist: %{customdata[1]}<br>log(words): %{y}",
         "name": "rb",
         "type": "box",
         "xaxis": "x2",
         "y": [
          4.6913478822291435,
          3.784189633918261,
          4.23410650459726,
          4.859812404361672,
          4.30406509320417,
          4.7535901911063645,
          4.477336814478207,
          4.02535169073515,
          4.276666119016055,
          3.8918202981106265,
          4.6913478822291435,
          4.74493212836325,
          4.330733340286331,
          4.1588830833596715,
          4.382026634673881,
          4.31748811353631,
          4.30406509320417,
          3.6888794541139363,
          4.23410650459726,
          3.784189633918261,
          4.394449154672439,
          3.9512437185814275,
          4.442651256490317,
          4.343805421853684,
          4.454347296253507,
          4.77912349311153,
          4.219507705176107,
          4.143134726391533,
          4.276666119016055,
          4.3694478524670215,
          3.713572066704308,
          4.394449154672439,
          4.465908118654584,
          4.0943445622221,
          4.897839799950911,
          4.3694478524670215,
          4.574710978503383,
          4.07753744390572,
          4.976733742420574,
          4.564348191467836,
          4.248495242049359,
          4.204692619390966,
          5.111987788356544,
          3.5263605246161616,
          4.8283137373023015,
          5.176149732573829,
          4.02535169073515
         ],
         "yaxis": "y2"
        },
        {
         "boxpoints": "all",
         "customdata": [
          [
           "Killer Queen",
           "Queen"
          ],
          [
           "All Down the Line",
           "The Rolling Stones"
          ],
          [
           "Jesus Was a Cross Maker",
           "Judee Sill"
          ],
          [
           "Memory Motel",
           "The Rolling Stones"
          ],
          [
           "Paranoid",
           "Black Sabbath"
          ],
          [
           "Midnight Train to Georgia",
           "Gladys Knight & The Pips"
          ],
          [
           "Doctor Jimmy",
           "The Who"
          ],
          [
           "Pablo Picasso",
           "The Modern Lovers"
          ],
          [
           "Shayla",
           "Blondie"
          ],
          [
           "Jealous Guy",
           "John Lennon"
          ],
          [
           "Master Builder",
           "Gong"
          ],
          [
           "In the Mood",
           "Rush"
          ],
          [
           "Young Parisians",
           "Adam and the Ants"
          ],
          [
           "Spaced",
           "Aerosmith"
          ],
          [
           "Cold Gin",
           "Kiss"
          ],
          [
           "In the Morning Day",
           "Journey"
          ],
          [
           "Mother Nature",
           "Albert Jones"
          ],
          [
           "Here Comes the Supernatural Anaesthetist",
           "Genesis"
          ],
          [
           "52nd Street",
           "Billy Joel"
          ],
          [
           "Move On",
           "Santana"
          ],
          [
           "Holiday Inn",
           "Elton John"
          ],
          [
           "The Card Cheat",
           "The Clash"
          ],
          [
           "48 Hours",
           "The Clash"
          ],
          [
           "Holy Man",
           "Deep Purple"
          ],
          [
           "Here Comes the Moon",
           "George Harrison"
          ],
          [
           "Youre Sixteen Youre Beautiful Youre Mine",
           "Ringo Starr"
          ],
          [
           "Hes Gone",
           "The Grateful Dead"
          ],
          [
           "Ive Been All Around This World",
           "The Grateful Dead"
          ],
          [
           "Janitor of Lunacy",
           "Nico"
          ],
          [
           "Dancing in the Moonlight It’s Caught Me in the Spotlight",
           "Thin Lizzy"
          ],
          [
           "Full Force Gale",
           "Van Morrison"
          ],
          [
           "Reruns",
           "Chicago"
          ],
          [
           "Perspective",
           "Peter Gabriel"
          ],
          [
           "Boys Talk",
           "Dave Edmunds"
          ],
          [
           "Juno",
           "Curved Air"
          ],
          [
           "Action Strasse",
           "The Sensational Alex Harvey Band"
          ],
          [
           "Same Old Blues",
           "Captain Beefheart & His Magic Band"
          ],
          [
           "Havent Got Time",
           "Splinter"
          ],
          [
           "Oh Boy",
           "Off Broadway USA"
          ],
          [
           "Are You Ready Eddy?",
           "Emerson, Lake & Palmer"
          ],
          [
           "Lucky Me",
           "Tony Banks"
          ],
          [
           "Revolt Into Style",
           "Bill Nelson's Red Noise"
          ],
          [
           "Time to Heal",
           "Gary Moore"
          ],
          [
           "Sweet Bonnie Brown / Its Just Too Much",
           "The Velvet Underground"
          ],
          [
           "Days Gone By",
           "Joe Walsh"
          ],
          [
           "A Figure Walks",
           "The Fall"
          ],
          [
           "Take It Easy",
           "Jackson Browne"
          ],
          [
           "My Woman My Love",
           "Lee Clayton"
          ],
          [
           "Don Juans Reckless Daughter",
           "Joni Mitchell"
          ],
          [
           "Sometimes Im Happy",
           "Black Sabbath"
          ],
          [
           "One Man Band",
           "Leo Sayer"
          ],
          [
           "Main Man",
           "T. Rex"
          ],
          [
           "Nantucket Sleighride To Owen Coffin",
           "Mountain"
          ],
          [
           "Witches’ Song",
           "Marianne Faithfull"
          ],
          [
           "The Hero and the Madman",
           "Thin Lizzy"
          ],
          [
           "Its Up to You",
           "The Moody Blues"
          ],
          [
           "Let Me Try",
           "MC5"
          ],
          [
           "Queen and Country",
           "Jethro Tull"
          ],
          [
           "Stumblin In",
           "Chris Norman & Suzi Quatro"
          ],
          [
           "Day In Day Out",
           "XTC"
          ],
          [
           "Baby Ice Dog",
           "Blue yster Cult"
          ],
          [
           "Sonic Bummer",
           "Gene Parsons"
          ],
          [
           "Roadrunner",
           "Hurriganes"
          ],
          [
           "Situation Vacant",
           "Splinter"
          ],
          [
           "Ill Make You My Baby",
           "Bobby Vinton"
          ],
          [
           "Weve Got Tonight",
           "Bob Seger"
          ],
          [
           "Motivation",
           "Redbone"
          ],
          [
           "Do Re Mi",
           "Sparks"
          ],
          [
           "How Could I Know Love Was to Go",
           "Raul Seixas"
          ],
          [
           "Talent Is an Asset",
           "Sparks"
          ],
          [
           "Strictly Genteel The Finale",
           "Frank Zappa"
          ],
          [
           "Dark Powers",
           "Sutherland Brothers & Quiver"
          ],
          [
           "My Infatuation",
           "James Chance and The Contortions"
          ],
          [
           "I Stole Your Love Live",
           "Kiss"
          ],
          [
           "Jasmine Forty-Nine",
           "Marc Bolan"
          ],
          [
           "Rebel",
           "Black Oak Arkansas"
          ],
          [
           "New Land",
           "Zior"
          ],
          [
           "Introduction Live at Great American Music Hall SF 8/13/75",
           "The Grateful Dead"
          ],
          [
           "Fire on the Mountain Live at Cornell University May 8 1977",
           "The Grateful Dead"
          ],
          [
           "St. Stephen Part 1 Live at Cornell University May 8 1977",
           "The Grateful Dead"
          ],
          [
           "Rhoda",
           "Jo Jo Gunne"
          ],
          [
           "Part V: The Reaper",
           "Rick Wakeman"
          ],
          [
           "Simple Type",
           "Wicked Lester"
          ],
          [
           "Cassidy Live at the Oakland Coliseum October 9 1976",
           "The Grateful Dead"
          ],
          [
           "Top of the World",
           "Canyon"
          ],
          [
           "Youve Got a Lot to Live",
           "Rail"
          ],
          [
           "In Loving Memories",
           "Jerry Lee Lewis"
          ],
          [
           "Rainy Day Women 12 and 35 Before the Flood",
           "Bob Dylan & The Band"
          ],
          [
           "Don’t Think Twice It’s All Right Before the Flood",
           "Bob Dylan & The Band"
          ],
          [
           "Femme Fatale Live at Maxs Kansas City",
           "The Velvet Underground"
          ],
          [
           "What’s Wrong With Me?",
           "Fanny"
          ],
          [
           "Let God Arise",
           "Terry Ross Altman"
          ],
          [
           "Once I Had A Love",
           "The Carrie Nations"
          ],
          [
           "Remember",
           "Baker Gurvitz Army"
          ],
          [
           "Live to Work",
           "Poobah"
          ],
          [
           "Aint No Free",
           "NRBQ"
          ],
          [
           "And Im Leaving",
           "White Witch"
          ],
          [
           "Highs and Lows",
           "The Flames (South Africa)"
          ],
          [
           "Deadly Dancer",
           "Legs Diamond (Rock)"
          ],
          [
           "Black Letter",
           "Gene Vincent"
          ],
          [
           "The Illustrated Man",
           "The Creamers"
          ],
          [
           "Jah Jah Is The Conqueror",
           "Linval Thompson"
          ],
          [
           "Why Doesnt The Sun Shine",
           "Gotham"
          ],
          [
           "Sky",
           "Strife (UK)"
          ],
          [
           "Stop Them Jah",
           "Hugh Mundell"
          ],
          [
           "One Man Show",
           "Classics IV"
          ]
         ],
         "hovertemplate": "title: %{customdata[0]}<br>artist: %{customdata[1]}<br>log(words): %{y}",
         "name": "rock",
         "type": "box",
         "xaxis": "x2",
         "y": [
          4.74493212836325,
          4.3694478524670215,
          4.543294782270004,
          5.0238805208462765,
          4.382026634673881,
          4.762173934797756,
          4.770684624465665,
          4.174387269895637,
          4.3694478524670215,
          3.9318256327243257,
          3.7376696182833684,
          4.382026634673881,
          3.784189633918261,
          4.394449154672439,
          4.1588830833596715,
          3.9512437185814275,
          4.48863636973214,
          3.044522437723423,
          3.871201010907891,
          3.7612001156935624,
          4.61512051684126,
          4.736198448394496,
          4.30406509320417,
          4.68213122712422,
          4.189654742026425,
          4.110873864173311,
          4.418840607796598,
          4.204692619390966,
          3.784189633918261,
          4.48863636973214,
          3.784189633918261,
          4.394449154672439,
          4.727387818712341,
          4.3694478524670215,
          4.465908118654584,
          4.248495242049359,
          4.31748811353631,
          3.7376696182833684,
          4.330733340286331,
          3.912023005428146,
          4.762173934797756,
          4.762173934797756,
          4.584967478670572,
          4.709530201312334,
          4.553876891600541,
          4.499809670330265,
          4.700480365792417,
          3.9889840465642745,
          5.62040086571715,
          3.713572066704308,
          4.727387818712341,
          3.8501476017100584,
          4.634728988229636,
          4.406719247264253,
          4.836281906951478,
          4.356708826689592,
          4.060443010546419,
          4.499809670330265,
          4.356708826689592,
          3.4339872044851463,
          4.663439094112067,
          4.624972813284271,
          3.091042453358316,
          4.653960350157523,
          3.332204510175204,
          4.454347296253507,
          4.31748811353631,
          3.713572066704308,
          4.820281565605037,
          4.770684624465665,
          5.793013608384144,
          4.406719247264253,
          3.332204510175204,
          4.442651256490317,
          4.07753744390572,
          4.48863636973214,
          4.382026634673881,
          3.784189633918261,
          4.2626798770413155,
          4.672828834461906,
          3.871201010907891,
          4.430816798843313,
          4.189654742026425,
          4.700480365792417,
          4.48863636973214,
          4.248495242049359,
          4.330733340286331,
          4.219507705176107,
          4.770684624465665,
          4.2626798770413155,
          4.189654742026425,
          4.290459441148391,
          3.4657359027997265,
          3.7612001156935624,
          4.219507705176107,
          4.430816798843313,
          4.290459441148391,
          4.430816798843313,
          4.204692619390966,
          4.605170185988092,
          4.30406509320417,
          4.060443010546419,
          4.31748811353631,
          4.553876891600541,
          4.02535169073515,
          4.442651256490317
         ],
         "yaxis": "y2"
        }
       ],
       "layout": {
        "annotations": [
         {
          "font": {
           "size": 16
          },
          "showarrow": false,
          "text": "1960",
          "x": 0.225,
          "xanchor": "center",
          "xref": "paper",
          "y": 1,
          "yanchor": "bottom",
          "yref": "paper"
         },
         {
          "font": {
           "size": 16
          },
          "showarrow": false,
          "text": "1970",
          "x": 0.775,
          "xanchor": "center",
          "xref": "paper",
          "y": 1,
          "yanchor": "bottom",
          "yref": "paper"
         },
         {
          "font": {
           "size": 16
          },
          "showarrow": false,
          "text": "tags",
          "x": 0.5,
          "xanchor": "center",
          "xref": "paper",
          "y": 0,
          "yanchor": "top",
          "yref": "paper",
          "yshift": -30
         },
         {
          "font": {
           "size": 16
          },
          "showarrow": false,
          "text": "log(unique words)",
          "textangle": -90,
          "x": 0,
          "xanchor": "right",
          "xref": "paper",
          "xshift": -40,
          "y": 0.5,
          "yanchor": "middle",
          "yref": "paper"
         }
        ],
        "template": {
         "data": {
          "bar": [
           {
            "error_x": {
             "color": "#2a3f5f"
            },
            "error_y": {
             "color": "#2a3f5f"
            },
            "marker": {
             "line": {
              "color": "#E5ECF6",
              "width": 0.5
             },
             "pattern": {
              "fillmode": "overlay",
              "size": 10,
              "solidity": 0.2
             }
            },
            "type": "bar"
           }
          ],
          "barpolar": [
           {
            "marker": {
             "line": {
              "color": "#E5ECF6",
              "width": 0.5
             },
             "pattern": {
              "fillmode": "overlay",
              "size": 10,
              "solidity": 0.2
             }
            },
            "type": "barpolar"
           }
          ],
          "carpet": [
           {
            "aaxis": {
             "endlinecolor": "#2a3f5f",
             "gridcolor": "white",
             "linecolor": "white",
             "minorgridcolor": "white",
             "startlinecolor": "#2a3f5f"
            },
            "baxis": {
             "endlinecolor": "#2a3f5f",
             "gridcolor": "white",
             "linecolor": "white",
             "minorgridcolor": "white",
             "startlinecolor": "#2a3f5f"
            },
            "type": "carpet"
           }
          ],
          "choropleth": [
           {
            "colorbar": {
             "outlinewidth": 0,
             "ticks": ""
            },
            "type": "choropleth"
           }
          ],
          "contour": [
           {
            "colorbar": {
             "outlinewidth": 0,
             "ticks": ""
            },
            "colorscale": [
             [
              0,
              "#0d0887"
             ],
             [
              0.1111111111111111,
              "#46039f"
             ],
             [
              0.2222222222222222,
              "#7201a8"
             ],
             [
              0.3333333333333333,
              "#9c179e"
             ],
             [
              0.4444444444444444,
              "#bd3786"
             ],
             [
              0.5555555555555556,
              "#d8576b"
             ],
             [
              0.6666666666666666,
              "#ed7953"
             ],
             [
              0.7777777777777778,
              "#fb9f3a"
             ],
             [
              0.8888888888888888,
              "#fdca26"
             ],
             [
              1,
              "#f0f921"
             ]
            ],
            "type": "contour"
           }
          ],
          "contourcarpet": [
           {
            "colorbar": {
             "outlinewidth": 0,
             "ticks": ""
            },
            "type": "contourcarpet"
           }
          ],
          "heatmap": [
           {
            "colorbar": {
             "outlinewidth": 0,
             "ticks": ""
            },
            "colorscale": [
             [
              0,
              "#0d0887"
             ],
             [
              0.1111111111111111,
              "#46039f"
             ],
             [
              0.2222222222222222,
              "#7201a8"
             ],
             [
              0.3333333333333333,
              "#9c179e"
             ],
             [
              0.4444444444444444,
              "#bd3786"
             ],
             [
              0.5555555555555556,
              "#d8576b"
             ],
             [
              0.6666666666666666,
              "#ed7953"
             ],
             [
              0.7777777777777778,
              "#fb9f3a"
             ],
             [
              0.8888888888888888,
              "#fdca26"
             ],
             [
              1,
              "#f0f921"
             ]
            ],
            "type": "heatmap"
           }
          ],
          "heatmapgl": [
           {
            "colorbar": {
             "outlinewidth": 0,
             "ticks": ""
            },
            "colorscale": [
             [
              0,
              "#0d0887"
             ],
             [
              0.1111111111111111,
              "#46039f"
             ],
             [
              0.2222222222222222,
              "#7201a8"
             ],
             [
              0.3333333333333333,
              "#9c179e"
             ],
             [
              0.4444444444444444,
              "#bd3786"
             ],
             [
              0.5555555555555556,
              "#d8576b"
             ],
             [
              0.6666666666666666,
              "#ed7953"
             ],
             [
              0.7777777777777778,
              "#fb9f3a"
             ],
             [
              0.8888888888888888,
              "#fdca26"
             ],
             [
              1,
              "#f0f921"
             ]
            ],
            "type": "heatmapgl"
           }
          ],
          "histogram": [
           {
            "marker": {
             "pattern": {
              "fillmode": "overlay",
              "size": 10,
              "solidity": 0.2
             }
            },
            "type": "histogram"
           }
          ],
          "histogram2d": [
           {
            "colorbar": {
             "outlinewidth": 0,
             "ticks": ""
            },
            "colorscale": [
             [
              0,
              "#0d0887"
             ],
             [
              0.1111111111111111,
              "#46039f"
             ],
             [
              0.2222222222222222,
              "#7201a8"
             ],
             [
              0.3333333333333333,
              "#9c179e"
             ],
             [
              0.4444444444444444,
              "#bd3786"
             ],
             [
              0.5555555555555556,
              "#d8576b"
             ],
             [
              0.6666666666666666,
              "#ed7953"
             ],
             [
              0.7777777777777778,
              "#fb9f3a"
             ],
             [
              0.8888888888888888,
              "#fdca26"
             ],
             [
              1,
              "#f0f921"
             ]
            ],
            "type": "histogram2d"
           }
          ],
          "histogram2dcontour": [
           {
            "colorbar": {
             "outlinewidth": 0,
             "ticks": ""
            },
            "colorscale": [
             [
              0,
              "#0d0887"
             ],
             [
              0.1111111111111111,
              "#46039f"
             ],
             [
              0.2222222222222222,
              "#7201a8"
             ],
             [
              0.3333333333333333,
              "#9c179e"
             ],
             [
              0.4444444444444444,
              "#bd3786"
             ],
             [
              0.5555555555555556,
              "#d8576b"
             ],
             [
              0.6666666666666666,
              "#ed7953"
             ],
             [
              0.7777777777777778,
              "#fb9f3a"
             ],
             [
              0.8888888888888888,
              "#fdca26"
             ],
             [
              1,
              "#f0f921"
             ]
            ],
            "type": "histogram2dcontour"
           }
          ],
          "mesh3d": [
           {
            "colorbar": {
             "outlinewidth": 0,
             "ticks": ""
            },
            "type": "mesh3d"
           }
          ],
          "parcoords": [
           {
            "line": {
             "colorbar": {
              "outlinewidth": 0,
              "ticks": ""
             }
            },
            "type": "parcoords"
           }
          ],
          "pie": [
           {
            "automargin": true,
            "type": "pie"
           }
          ],
          "scatter": [
           {
            "fillpattern": {
             "fillmode": "overlay",
             "size": 10,
             "solidity": 0.2
            },
            "type": "scatter"
           }
          ],
          "scatter3d": [
           {
            "line": {
             "colorbar": {
              "outlinewidth": 0,
              "ticks": ""
             }
            },
            "marker": {
             "colorbar": {
              "outlinewidth": 0,
              "ticks": ""
             }
            },
            "type": "scatter3d"
           }
          ],
          "scattercarpet": [
           {
            "marker": {
             "colorbar": {
              "outlinewidth": 0,
              "ticks": ""
             }
            },
            "type": "scattercarpet"
           }
          ],
          "scattergeo": [
           {
            "marker": {
             "colorbar": {
              "outlinewidth": 0,
              "ticks": ""
             }
            },
            "type": "scattergeo"
           }
          ],
          "scattergl": [
           {
            "marker": {
             "colorbar": {
              "outlinewidth": 0,
              "ticks": ""
             }
            },
            "type": "scattergl"
           }
          ],
          "scattermapbox": [
           {
            "marker": {
             "colorbar": {
              "outlinewidth": 0,
              "ticks": ""
             }
            },
            "type": "scattermapbox"
           }
          ],
          "scatterpolar": [
           {
            "marker": {
             "colorbar": {
              "outlinewidth": 0,
              "ticks": ""
             }
            },
            "type": "scatterpolar"
           }
          ],
          "scatterpolargl": [
           {
            "marker": {
             "colorbar": {
              "outlinewidth": 0,
              "ticks": ""
             }
            },
            "type": "scatterpolargl"
           }
          ],
          "scatterternary": [
           {
            "marker": {
             "colorbar": {
              "outlinewidth": 0,
              "ticks": ""
             }
            },
            "type": "scatterternary"
           }
          ],
          "surface": [
           {
            "colorbar": {
             "outlinewidth": 0,
             "ticks": ""
            },
            "colorscale": [
             [
              0,
              "#0d0887"
             ],
             [
              0.1111111111111111,
              "#46039f"
             ],
             [
              0.2222222222222222,
              "#7201a8"
             ],
             [
              0.3333333333333333,
              "#9c179e"
             ],
             [
              0.4444444444444444,
              "#bd3786"
             ],
             [
              0.5555555555555556,
              "#d8576b"
             ],
             [
              0.6666666666666666,
              "#ed7953"
             ],
             [
              0.7777777777777778,
              "#fb9f3a"
             ],
             [
              0.8888888888888888,
              "#fdca26"
             ],
             [
              1,
              "#f0f921"
             ]
            ],
            "type": "surface"
           }
          ],
          "table": [
           {
            "cells": {
             "fill": {
              "color": "#EBF0F8"
             },
             "line": {
              "color": "white"
             }
            },
            "header": {
             "fill": {
              "color": "#C8D4E3"
             },
             "line": {
              "color": "white"
             }
            },
            "type": "table"
           }
          ]
         },
         "layout": {
          "annotationdefaults": {
           "arrowcolor": "#2a3f5f",
           "arrowhead": 0,
           "arrowwidth": 1
          },
          "autotypenumbers": "strict",
          "coloraxis": {
           "colorbar": {
            "outlinewidth": 0,
            "ticks": ""
           }
          },
          "colorscale": {
           "diverging": [
            [
             0,
             "#8e0152"
            ],
            [
             0.1,
             "#c51b7d"
            ],
            [
             0.2,
             "#de77ae"
            ],
            [
             0.3,
             "#f1b6da"
            ],
            [
             0.4,
             "#fde0ef"
            ],
            [
             0.5,
             "#f7f7f7"
            ],
            [
             0.6,
             "#e6f5d0"
            ],
            [
             0.7,
             "#b8e186"
            ],
            [
             0.8,
             "#7fbc41"
            ],
            [
             0.9,
             "#4d9221"
            ],
            [
             1,
             "#276419"
            ]
           ],
           "sequential": [
            [
             0,
             "#0d0887"
            ],
            [
             0.1111111111111111,
             "#46039f"
            ],
            [
             0.2222222222222222,
             "#7201a8"
            ],
            [
             0.3333333333333333,
             "#9c179e"
            ],
            [
             0.4444444444444444,
             "#bd3786"
            ],
            [
             0.5555555555555556,
             "#d8576b"
            ],
            [
             0.6666666666666666,
             "#ed7953"
            ],
            [
             0.7777777777777778,
             "#fb9f3a"
            ],
            [
             0.8888888888888888,
             "#fdca26"
            ],
            [
             1,
             "#f0f921"
            ]
           ],
           "sequentialminus": [
            [
             0,
             "#0d0887"
            ],
            [
             0.1111111111111111,
             "#46039f"
            ],
            [
             0.2222222222222222,
             "#7201a8"
            ],
            [
             0.3333333333333333,
             "#9c179e"
            ],
            [
             0.4444444444444444,
             "#bd3786"
            ],
            [
             0.5555555555555556,
             "#d8576b"
            ],
            [
             0.6666666666666666,
             "#ed7953"
            ],
            [
             0.7777777777777778,
             "#fb9f3a"
            ],
            [
             0.8888888888888888,
             "#fdca26"
            ],
            [
             1,
             "#f0f921"
            ]
           ]
          },
          "colorway": [
           "#636efa",
           "#EF553B",
           "#00cc96",
           "#ab63fa",
           "#FFA15A",
           "#19d3f3",
           "#FF6692",
           "#B6E880",
           "#FF97FF",
           "#FECB52"
          ],
          "font": {
           "color": "#2a3f5f"
          },
          "geo": {
           "bgcolor": "white",
           "lakecolor": "white",
           "landcolor": "#E5ECF6",
           "showlakes": true,
           "showland": true,
           "subunitcolor": "white"
          },
          "hoverlabel": {
           "align": "left"
          },
          "hovermode": "closest",
          "mapbox": {
           "style": "light"
          },
          "paper_bgcolor": "white",
          "plot_bgcolor": "#E5ECF6",
          "polar": {
           "angularaxis": {
            "gridcolor": "white",
            "linecolor": "white",
            "ticks": ""
           },
           "bgcolor": "#E5ECF6",
           "radialaxis": {
            "gridcolor": "white",
            "linecolor": "white",
            "ticks": ""
           }
          },
          "scene": {
           "xaxis": {
            "backgroundcolor": "#E5ECF6",
            "gridcolor": "white",
            "gridwidth": 2,
            "linecolor": "white",
            "showbackground": true,
            "ticks": "",
            "zerolinecolor": "white"
           },
           "yaxis": {
            "backgroundcolor": "#E5ECF6",
            "gridcolor": "white",
            "gridwidth": 2,
            "linecolor": "white",
            "showbackground": true,
            "ticks": "",
            "zerolinecolor": "white"
           },
           "zaxis": {
            "backgroundcolor": "#E5ECF6",
            "gridcolor": "white",
            "gridwidth": 2,
            "linecolor": "white",
            "showbackground": true,
            "ticks": "",
            "zerolinecolor": "white"
           }
          },
          "shapedefaults": {
           "line": {
            "color": "#2a3f5f"
           }
          },
          "ternary": {
           "aaxis": {
            "gridcolor": "white",
            "linecolor": "white",
            "ticks": ""
           },
           "baxis": {
            "gridcolor": "white",
            "linecolor": "white",
            "ticks": ""
           },
           "bgcolor": "#E5ECF6",
           "caxis": {
            "gridcolor": "white",
            "linecolor": "white",
            "ticks": ""
           }
          },
          "title": {
           "x": 0.05
          },
          "xaxis": {
           "automargin": true,
           "gridcolor": "white",
           "linecolor": "white",
           "ticks": "",
           "title": {
            "standoff": 15
           },
           "zerolinecolor": "white",
           "zerolinewidth": 2
          },
          "yaxis": {
           "automargin": true,
           "gridcolor": "white",
           "linecolor": "white",
           "ticks": "",
           "title": {
            "standoff": 15
           },
           "zerolinecolor": "white",
           "zerolinewidth": 2
          }
         }
        },
        "xaxis": {
         "anchor": "y",
         "domain": [
          0,
          0.45
         ]
        },
        "xaxis2": {
         "anchor": "y2",
         "domain": [
          0.55,
          1
         ]
        },
        "yaxis": {
         "anchor": "x",
         "domain": [
          0,
          1
         ]
        },
        "yaxis2": {
         "anchor": "x2",
         "domain": [
          0,
          1
         ]
        }
       }
      }
     },
     "metadata": {},
     "output_type": "display_data"
    }
   ],
   "source": [
    "from modules.vizualisation import words_decades\n",
    "\n",
    "words_decades(df, [1960, 1970])"
   ]
  },
  {
   "cell_type": "code",
   "execution_count": 17,
   "metadata": {},
   "outputs": [
    {
     "data": {
      "application/vnd.plotly.v1+json": {
       "config": {
        "plotlyServerURL": "https://plot.ly"
       },
       "data": [
        {
         "boxpoints": "all",
         "customdata": [
          [
           "It Ain’t Cool to Be Crazy About You",
           "George Strait"
          ],
          [
           "From Strangers To Lovers To Friends",
           "George Jones"
          ],
          [
           "I Don’t Want to Be Alone",
           "Reba McEntire"
          ],
          [
           "Little Rock n Roller",
           "Steve Earle"
          ],
          [
           "You’re The Reason God Made Oklahoma",
           "David Frizzell & Shelly West"
          ],
          [
           "Drivin My Life Away",
           "Eddie Rabbitt"
          ],
          [
           "Heartbreak Hill",
           "Emmylou Harris"
          ],
          [
           "Happy Birthday Jesus Ill Open This One for You",
           "Reba McEntire"
          ],
          [
           "Real Good Feel Good Song",
           "Mel McDaniel"
          ],
          [
           "She Hung The Moon",
           "George Jones"
          ],
          [
           "Where Do You Go When You Dream",
           "Anne Murray"
          ],
          [
           "Baby What About You",
           "Crystal Gayle"
          ],
          [
           "This Missin’ You Heart of Mine",
           "Sawyer Brown"
          ],
          [
           "My Old Yellow Car",
           "Dan Seals"
          ],
          [
           "You Set My Dreams to Music",
           "Anne Murray"
          ],
          [
           "This Time",
           "Gear Daddies"
          ],
          [
           "Ladys Choice",
           "Keith Whitley"
          ],
          [
           "One Way Ticket",
           "Carlene Carter"
          ],
          [
           "Heaven or Hell",
           "Willie Nelson"
          ],
          [
           "Fun While It Lasted",
           "Billy Joe Shaver"
          ],
          [
           "Without You",
           "Conway Twitty"
          ],
          [
           "Youll Be Seeing Me",
           "The Osmonds"
          ],
          [
           "Things I Believe In",
           "Tanya Goodman Sykes"
          ]
         ],
         "hovertemplate": "title: %{customdata[0]}<br>artist: %{customdata[1]}<br>log(words): %{y}",
         "name": "country",
         "type": "box",
         "xaxis": "x",
         "y": [
          4.23410650459726,
          4.499809670330265,
          4.5217885770490405,
          4.836281906951478,
          4.74493212836325,
          4.394449154672439,
          4.477336814478207,
          4.875197323201151,
          4.7535901911063645,
          4.04305126783455,
          4.290459441148391,
          4.343805421853684,
          4.2626798770413155,
          4.634728988229636,
          4.30406509320417,
          3.9318256327243257,
          3.6375861597263857,
          4.454347296253507,
          3.7612001156935624,
          4.356708826689592,
          4.499809670330265,
          4.143134726391533,
          4.02535169073515
         ],
         "yaxis": "y"
        },
        {
         "boxpoints": "all",
         "customdata": [
          [
           "I. Introduction",
           "Huey P. Newton"
          ],
          [
           "Royal Rumble 1988",
           "WWE"
          ],
          [
           "Kellswater",
           "Loreena McKennitt"
          ],
          [
           "Boring",
           "The Young Ones"
          ],
          [
           "Chess",
           "Rosario Castellanos"
          ],
          [
           "How Many Women",
           "Bjrn Ulvaeus & Benny Andersson"
          ],
          [
           "Grundles Good",
           "Hasbro"
          ]
         ],
         "hovertemplate": "title: %{customdata[0]}<br>artist: %{customdata[1]}<br>log(words): %{y}",
         "name": "misc",
         "type": "box",
         "xaxis": "x",
         "y": [
          6.855408798609928,
          4.0943445622221,
          5.0238805208462765,
          6.816735880594968,
          4.0943445622221,
          4.875197323201151,
          4.290459441148391
         ],
         "yaxis": "y"
        },
        {
         "boxpoints": "all",
         "customdata": [
          [
           "Never Gonna Give You Up",
           "Rick Astley"
          ],
          [
           "Never Too Late",
           "Kylie Minogue"
          ],
          [
           "Nothing to Lose",
           "Kylie Minogue"
          ],
          [
           "Act II Prologue: So Happy",
           "Original Broadway Cast of Into the Woods"
          ],
          [
           "Late Night Maudlin Street",
           "Morrissey"
          ],
          [
           "Stay in My Lonely Arms",
           "The Supremes"
          ],
          [
           "Victim",
           "Dreams So Real"
          ],
          [
           "Time Machine",
           "Barbra Streisand"
          ],
          [
           "Brand New Lover",
           "Dead or Alive"
          ],
          [
           "One Monkey",
           "David Allan Coe"
          ],
          [
           "Walls Of Doubt",
           "Daniel Amos"
          ],
          [
           "Right Back To Me",
           "America"
          ],
          [
           "Ms. Park Avenue",
           "Southside Johnny & The Asbury Jukes"
          ],
          [
           "The World Needs Guts",
           "Alice Cooper"
          ],
          [
           "User-Friendly",
           "Ian Anderson"
          ],
          [
           "I’ve Written Home to Mother Live",
           "Alice Cooper"
          ],
          [
           "Big City Fun Time Girl",
           "Balaam And The Angel"
          ],
          [
           "Jah Music",
           "Alpha Blondy"
          ],
          [
           "Drip Drop",
           "Dion and The Belmonts"
          ],
          [
           "Baby Likes Burping",
           "\"Weird Al\" Yankovic"
          ],
          [
           "Message Oblique Speech",
           "The Associates"
          ],
          [
           "Gravedigger Blues",
           "Beat Happening"
          ],
          [
           "The Harder They Come",
           "Joe Jackson"
          ],
          [
           "Air Attack",
           "Malice (band)"
          ],
          [
           "Spin the Wheel",
           "Ghost Dance"
          ],
          [
           "Bittersweet",
           "The Undertones"
          ],
          [
           "Mad Not Mad",
           "Madness"
          ],
          [
           "Masquerade",
           "Berlin"
          ],
          [
           "Ravenlord",
           "Stormwitch"
          ],
          [
           "Skye",
           "Runrig"
          ],
          [
           "The Heart Is Not So Smart",
           "El DeBarge"
          ],
          [
           "Bad Girls",
           "Eddie Money"
          ],
          [
           "Running All Over the World",
           "Status Quo"
          ],
          [
           "Running Through the Rain",
           "Chris LeDoux"
          ],
          [
           "Big Big Love",
           "Nick Lowe"
          ],
          [
           "The Peace Dragon",
           "Fred Small"
          ],
          [
           "One Great Thing",
           "Big Country"
          ],
          [
           "Shes Lost Control dub version",
           "Grace Jones"
          ],
          [
           "Long Ago",
           "Jon Gibson"
          ],
          [
           "A Flash in the Pan",
           "Arabesque"
          ],
          [
           "La La La He He Hee",
           "Prince"
          ],
          [
           "Kristina",
           "Rick Springfield"
          ],
          [
           "September Song",
           "Lindsey Buckingham"
          ],
          [
           "Lunatic and Fire-Pistol",
           "Julian Cope"
          ],
          [
           "Cowboys and Indians",
           "The Cross"
          ],
          [
           "Midnight Sun",
           "Hexx"
          ],
          [
           "Abundance of Rain",
           "Carman"
          ],
          [
           "Under the Heat",
           "The 77s"
          ],
          [
           "Amore Amore Elisabeth",
           "David Hasselhoff"
          ],
          [
           "Sleep",
           "Midnight Oil"
          ],
          [
           "Manchild",
           "Neneh Cherry"
          ],
          [
           "Grey Flannelette",
           "The Jazz Butcher"
          ],
          [
           "Warm and Tender",
           "Olivia Newton-John"
          ],
          [
           "Scheming",
           "Gene Loves Jezebel"
          ],
          [
           "This Time Around",
           "Peter Frampton"
          ],
          [
           "Diamonds Never Made a Lady",
           "Modern Talking"
          ],
          [
           "The Great Commandment",
           "Camouflage"
          ],
          [
           "Rifle in the Closet",
           "Jandek"
          ],
          [
           "Never Ceases to Amaze Me",
           "Split Enz"
          ],
          [
           "The Love She Found In Me",
           "Michael Johnson"
          ],
          [
           "Moustache",
           "Sparks"
          ],
          [
           "Why Dont You Do Right",
           "Della Reese"
          ],
          [
           "Love at the Five and Dime",
           "Kathy Mattea"
          ],
          [
           "Cameosis",
           "Cameo"
          ],
          [
           "Statutory Date",
           "Twisted Sister"
          ],
          [
           "Futurama",
           "Hanoi Rocks"
          ],
          [
           "Heresy",
           "Antisect"
          ],
          [
           "Its Joy",
           "Newsboys"
          ],
          [
           "Face to Face with the Night",
           "Michael Martin Murphey"
          ],
          [
           "Banners On The Battlefield",
           "Drifter"
          ],
          [
           "Big Boss Man",
           "Steve Miller Band"
          ],
          [
           "Send My Thoughts",
           "T.S.O.L"
          ],
          [
           "Break 4 Love",
           "Raze"
          ],
          [
           "Im Counting on You",
           "Tom Jones"
          ],
          [
           "Changes",
           "Tesla"
          ],
          [
           "If This Is Love",
           "Feargal Sharkey"
          ],
          [
           "Over Me",
           "White Heart"
          ],
          [
           "Halloween",
           "Mudhoney"
          ],
          [
           "Backfired Dance version",
           "Debbie Harry"
          ],
          [
           "You Can Not Be Sure",
           "The Telescopes"
          ],
          [
           "One Mouth Is Fed",
           "Split Enz"
          ],
          [
           "When Will You Make My Telephone Ring",
           "Deacon Blue"
          ],
          [
           "You Dont Keep Me Satisfied",
           "Thunderhead"
          ],
          [
           "Disappear?",
           "The Church"
          ],
          [
           "Books on the Bonfire",
           "The Bolshoi"
          ],
          [
           "The Heel",
           "Marc Almond"
          ],
          [
           "Natural Kind of Joy",
           "That Petrol Emotion"
          ],
          [
           "Rock City",
           "Krokus"
          ],
          [
           "Promises in the Dark",
           "Pat Benatar"
          ],
          [
           "Id Rather Be You",
           "Genesis"
          ],
          [
           "Skin Deep",
           "The Stranglers"
          ],
          [
           "Beverly Hills Blues",
           "Bobby McFerrin"
          ],
          [
           "Rosewood Bitters",
           "Joe Walsh"
          ],
          [
           "Standing in the Hallway",
           "The Bangles"
          ],
          [
           "One Brief Shining Moment",
           "Gowan"
          ],
          [
           "Nightmare",
           "Gillan"
          ],
          [
           "The Spirit of Steele",
           "Virgin Steele"
          ],
          [
           "Voice of a Generation",
           "Blitz"
          ],
          [
           "Milky Way",
           "Loudness"
          ],
          [
           "You Were Meant For Me",
           "Regine Velasquez"
          ],
          [
           "Cold Tired And Hungry",
           "It Bites"
          ],
          [
           "Did He Jump",
           "Zounds"
          ],
          [
           "Untasted Honey",
           "Kathy Mattea"
          ],
          [
           "Generals",
           "The Damned"
          ],
          [
           "River Of Money",
           "The Go-Betweens"
          ],
          [
           "My Secret Touch",
           "Donny Osmond"
          ],
          [
           "Treasure It",
           "The Fixx"
          ],
          [
           "Mentioned in Dispatches",
           "Television Personalities"
          ],
          [
           "This Island Earth",
           "The Nylons"
          ],
          [
           "Sophia",
           "Laura Nyro"
          ],
          [
           "11th Commandment",
           "Satan"
          ],
          [
           "Softly",
           "Neal Schon"
          ],
          [
           "Love Again",
           "John Denver"
          ],
          [
           "Angel",
           "Eurythmics"
          ],
          [
           "Communion",
           "Samson"
          ],
          [
           "Sylvia",
           "BoDeans"
          ],
          [
           "The Name of the Game",
           "Bryan Ferry"
          ],
          [
           "The Bronx",
           "Kurtis Blow"
          ],
          [
           "Through the Wall",
           "The Bobs"
          ],
          [
           "Nothin’ to Lose",
           "Barry Goudreau"
          ],
          [
           "Glamour",
           "Dave Davies"
          ],
          [
           "Not for Nothing",
           "Tim Finn"
          ],
          [
           "POW",
           "Daniel Johnston"
          ],
          [
           "Immaterial",
           "Terence Trent D'Arby"
          ],
          [
           "When We Kiss",
           "Bardeux"
          ],
          [
           "Just Another Night",
           "Mick Jagger"
          ],
          [
           "Moron",
           "The Dead Milkmen"
          ],
          [
           "Bad Moon Rising",
           "Leatherwolf"
          ],
          [
           "The Rebel Spell",
           "Mano Negra"
          ],
          [
           "Bluesy Blue Sea",
           "Gillan"
          ],
          [
           "One Helluva Night",
           "Demon"
          ],
          [
           "On My Own",
           "Chi Coltrane"
          ],
          [
           "My Shoes",
           "The Bobs"
          ],
          [
           "Pickup",
           "Cassandra Complex"
          ],
          [
           "Angler",
           "Gary Brooker"
          ],
          [
           "Sacrifice",
           "Racer X"
          ],
          [
           "Suzanne",
           "He Said"
          ],
          [
           "Modern Romans",
           "The Call"
          ],
          [
           "Love Is Love",
           "Leviticus"
          ],
          [
           "Facility Girls",
           "Soft Cell"
          ],
          [
           "Crazy Wisdom",
           "Fra Lippo Lippi"
          ],
          [
           "To Be With You Again",
           "Level 42"
          ],
          [
           "Here I Am",
           "Mike Mareen"
          ],
          [
           "Shine On",
           "John Foxx"
          ],
          [
           "Dont Stop Me Now",
           "Royal Philharmonic Orchestra"
          ],
          [
           "Sea Of Blue",
           "The Pretty Things"
          ],
          [
           "My Heart Has A Mind Of Its Own",
           "Connie Francis"
          ],
          [
           "After Here Through Midland",
           "Cock Robin"
          ],
          [
           "Its What You Say",
           "David Gates"
          ],
          [
           "Eye To Eye",
           "Go West"
          ],
          [
           "Bird Alone",
           "Jack Bruce"
          ],
          [
           "Feeling Better",
           "Country Joe McDonald"
          ],
          [
           "Blowin Like a Bandit",
           "Asleep at the Wheel"
          ],
          [
           "Bristol Shore",
           "Eric Johnson"
          ],
          [
           "Happy Birthday",
           "Altered Images"
          ],
          [
           "Nothing Can Stop Us",
           "The Business"
          ],
          [
           "Take My Hand",
           "Russ Taff"
          ],
          [
           "Lookin For The Answer",
           "Sweet Comfort Band"
          ],
          [
           "One for the Money",
           "Status Quo"
          ],
          [
           "Fallin Apart",
           "Peter Green"
          ],
          [
           "Ill Be Your Jukebox Tonight",
           "Barbara Mandrell"
          ],
          [
           "Eddies Comin Out Tonight",
           "Night Ranger"
          ],
          [
           "Silver Sharp And Could Not Care",
           "The Residents"
          ],
          [
           "Thats Not Right",
           "Utopia"
          ],
          [
           "Action Man in Motown Suit",
           "10cc"
          ],
          [
           "Dreamers",
           "Sarah Brightman"
          ],
          [
           "Its No Reason",
           "The Church"
          ],
          [
           "Left for Dead on the Road of Love",
           "Don McLean"
          ],
          [
           "Its All Right",
           "Curtis Mayfield"
          ],
          [
           "White",
           "The Field Mice"
          ],
          [
           "How Will I Know?",
           "Lucky Dube"
          ],
          [
           "All Along You Knew",
           "Honeymoon Suite"
          ],
          [
           "One in a Million",
           "Samantha Fox"
          ],
          [
           "Smile in the Crowd",
           "Martin L. Gore"
          ],
          [
           "Penthouse and Pavement",
           "Heaven 17"
          ],
          [
           "Hypochondriac",
           "Pariah"
          ],
          [
           "Come Alive",
           "Magazine"
          ],
          [
           "Ready To Roll",
           "Roger Chapman"
          ],
          [
           "Walkin The Road",
           "Peter Green"
          ],
          [
           "Your Love Is Bad For Me",
           "Gloria Estefan"
          ],
          [
           "Rejuvenation",
           "Killing Joke"
          ],
          [
           "Reason Why",
           "Buffalo Tom"
          ],
          [
           "Jah Live",
           "Lucky Dube"
          ],
          [
           "Lets Go Shopping Today",
           "Tom T. Hall"
          ],
          [
           "Bullet With My Name On It",
           "The Dream Syndicate"
          ],
          [
           "Jimmy Jimmy",
           "Ric Ocasek"
          ],
          [
           "New Explosions",
           "Severed Heads"
          ],
          [
           "I’m Not a Fool",
           "Bad Boys Blue"
          ],
          [
           "Your Wars/Killer",
           "Scream (Band)"
          ],
          [
           "Ibiza",
           "Amnesia"
          ],
          [
           "In the Springtime",
           "Maxi Priest"
          ],
          [
           "Poor Unfortunate Souls Reprise Remastered 2014",
           "Jodi Benson"
          ],
          [
           "Melody",
           "Plustwo"
          ],
          [
           "I Dont Know",
           "Miguel Bos"
          ],
          [
           "PERSPECTIVE",
           "Yellow Magic Orchestra"
          ],
          [
           "The Rape of Miss Goldberg by Marvin",
           "William Finn"
          ],
          [
           "Somebody",
           "Gloria Loring"
          ],
          [
           "Maybe",
           "Aileen Quinn"
          ],
          [
           "Excerpt from Put Your Ear to Stone  Open Your Heart to the Sky",
           "John Giorno"
          ],
          [
           "Heart On The Line",
           "The Jets (Group)"
          ],
          [
           "Big Girls Dont Cry",
           "The Weather Girls"
          ],
          [
           "World’s On Fire",
           "Jimmy Barnes"
          ],
          [
           "Dancing In The City",
           "Belinda Carlisle"
          ],
          [
           "Straight Down the Line",
           "Tommy Shaw"
          ],
          [
           "Loving You Was Good",
           "Teddy Pendergrass"
          ],
          [
           "Like Snow",
           "Morten Lauridsen"
          ],
          [
           "One by One",
           "Eyeless In Gaza"
          ],
          [
           "I Have No Life But This",
           "George Walker"
          ],
          [
           "Gas Line",
           "The Plugz"
          ],
          [
           "Dont Let Love Slip Away",
           "Freddie Jackson"
          ],
          [
           "Chill",
           "Crispy Ambulance"
          ],
          [
           "Paris By Air",
           "Tygers of Pan Tang"
          ],
          [
           "Is This Clear? III",
           "Laraaji"
          ],
          [
           "If The Feelings Ever Go Away",
           "Twila Paris"
          ],
          [
           "Circle of Light",
           "Dan Hartman"
          ],
          [
           "So Many Nights Alone Without You",
           "Dan Hartman"
          ],
          [
           "Moves",
           "Mondo Rock"
          ],
          [
           "The Sailor St. Brendan",
           "The Wolfe Tones"
          ],
          [
           "I Know Im the Man for You",
           "Bay City Rollers"
          ],
          [
           "Gridlock Christmas",
           "The Hollytones"
          ],
          [
           "Warrior Rock",
           "Toyah"
          ],
          [
           "Uptown Girl",
           "Leif Garrett"
          ],
          [
           "Turkey Dinner",
           "Hoodoo Gurus"
          ],
          [
           "1-2-3",
           "Gloria Estefan"
          ],
          [
           "Energy Rain",
           "Den Harrow"
          ],
          [
           "You Aint Got Love",
           "Precious Wilson"
          ],
          [
           "Faithful",
           "Heritage Singers"
          ],
          [
           "Bring All Your Love to Me",
           "Pajama Party"
          ],
          [
           "Piece of Paradise Called Tennessee",
           "Ray Stevens"
          ],
          [
           "Secrets",
           "Strawberry Switchblade"
          ],
          [
           "Surrender",
           "Sheila Walsh"
          ],
          [
           "Youll Never Break My Heart",
           "P. Lion"
          ],
          [
           "In Cars",
           "Jimmy Webb"
          ],
          [
           "How Do I Get You",
           "The Imperials"
          ],
          [
           "Vanity Kills The Abigails Party Mix",
           "ABC"
          ],
          [
           "Why Bother?",
           "Bette Midler"
          ],
          [
           "Just One Word",
           "Linda Jo Rizzo"
          ],
          [
           "Open the Door Richard",
           "Fairport Convention"
          ],
          [
           "What Will We Do?",
           "Silly Sisters"
          ],
          [
           "Express Yourself Local Mix",
           "Madonna"
          ],
          [
           "Like a Virgin Extended Dance Remix",
           "Madonna"
          ],
          [
           "So Much to Do in New York II",
           "Bernadette Peters"
          ],
          [
           "Every Single Step",
           "Michael James Murphy"
          ],
          [
           "Written On My Heart",
           "Tami Gunden"
          ],
          [
           "Stars on 45 B-Side 1",
           "Stars On 45"
          ],
          [
           "The Greatest Rock’n Roll Band in the World Single Version",
           "Stars On 45"
          ],
          [
           "MedleyIve Been Working on the Railroad",
           "Mitch Miller"
          ],
          [
           "Peppermint Twist",
           "Laura Canales"
          ]
         ],
         "hovertemplate": "title: %{customdata[0]}<br>artist: %{customdata[1]}<br>log(words): %{y}",
         "name": "pop",
         "type": "box",
         "xaxis": "x",
         "y": [
          4.30406509320417,
          4.189654742026425,
          4.174387269895637,
          5.3471075307174685,
          5.247024072160486,
          3.8918202981106265,
          4.356708826689592,
          4.356708826689592,
          4.532599493153256,
          4.343805421853684,
          4.406719247264253,
          4.0943445622221,
          4.454347296253507,
          4.48863636973214,
          4.499809670330265,
          3.091042453358316,
          4.1588830833596715,
          4.0943445622221,
          4.465908118654584,
          4.394449154672439,
          4.61512051684126,
          4.653960350157523,
          4.5217885770490405,
          4.68213122712422,
          4.7535901911063645,
          4.110873864173311,
          4.605170185988092,
          4.477336814478207,
          4.394449154672439,
          4.48863636973214,
          4.477336814478207,
          4.804021044733257,
          3.6888794541139363,
          4.890349128221754,
          3.7612001156935624,
          4.90527477843843,
          4.248495242049359,
          4.174387269895637,
          4.7535901911063645,
          4.143134726391533,
          4.61512051684126,
          4.1588830833596715,
          3.6375861597263857,
          4.7535901911063645,
          4.859812404361672,
          4.189654742026425,
          4.61512051684126,
          4.465908118654584,
          4.248495242049359,
          4.382026634673881,
          5.170483995038151,
          3.8066624897703196,
          4.219507705176107,
          4.454347296253507,
          4.499809670330265,
          4.356708826689592,
          3.713572066704308,
          4.2626798770413155,
          4.74493212836325,
          4.110873864173311,
          4.406719247264253,
          3.9512437185814275,
          4.653960350157523,
          4.382026634673881,
          4.543294782270004,
          4.553876891600541,
          4.584967478670572,
          4.110873864173311,
          4.5217885770490405,
          4.912654885736052,
          3.871201010907891,
          4.3694478524670215,
          3.7612001156935624,
          4.736198448394496,
          4.290459441148391,
          4.356708826689592,
          4.465908118654584,
          4.343805421853684,
          4.820281565605037,
          4.127134385045092,
          4.290459441148391,
          4.442651256490317,
          3.9318256327243257,
          4.8283137373023015,
          4.836281906951478,
          5.3471075307174685,
          4.0943445622221,
          4.143134726391533,
          4.804021044733257,
          4.51085950651685,
          4.343805421853684,
          4.709530201312334,
          4.276666119016055,
          4.2626798770413155,
          4.007333185232471,
          4.3694478524670215,
          4.189654742026425,
          3.828641396489095,
          3.9889840465642745,
          4.727387818712341,
          4.290459441148391,
          5.41610040220442,
          4.477336814478207,
          4.574710978503383,
          5.087596335232384,
          4.394449154672439,
          4.31748811353631,
          4.406719247264253,
          4.700480365792417,
          3.8501476017100584,
          4.584967478670572,
          4.418840607796598,
          4.6443908991413725,
          4.30406509320417,
          4.3694478524670215,
          3.7612001156935624,
          4.2626798770413155,
          4.770684624465665,
          4.6913478822291435,
          4.290459441148391,
          4.248495242049359,
          4.406719247264253,
          4.382026634673881,
          4.454347296253507,
          4.700480365792417,
          4.574710978503383,
          5.062595033026967,
          4.204692619390966,
          4.343805421853684,
          4.574710978503383,
          4.143134726391533,
          4.499809670330265,
          4.477336814478207,
          4.174387269895637,
          4.812184355372417,
          4.553876891600541,
          5.003946305945459,
          4.330733340286331,
          3.6888794541139363,
          5.093750200806762,
          4.418840607796598,
          4.812184355372417,
          4.060443010546419,
          4.143134726391533,
          4.727387818712341,
          4.574710978503383,
          4.31748811353631,
          4.418840607796598,
          4.2626798770413155,
          4.343805421853684,
          4.394449154672439,
          4.343805421853684,
          4.290459441148391,
          4.532599493153256,
          3.58351893845611,
          4.406719247264253,
          4.564348191467836,
          4.343805421853684,
          4.454347296253507,
          4.394449154672439,
          4.143134726391533,
          4.59511985013459,
          5.176149732573829,
          4.330733340286331,
          4.68213122712422,
          4.23410650459726,
          4.736198448394496,
          4.859812404361672,
          4.418840607796598,
          3.5263605246161616,
          4.382026634673881,
          4.477336814478207,
          4.060443010546419,
          4.02535169073515,
          4.584967478670572,
          4.204692619390966,
          4.6443908991413725,
          4.454347296253507,
          4.0943445622221,
          4.584967478670572,
          4.51085950651685,
          4.0943445622221,
          4.219507705176107,
          4.499809670330265,
          4.290459441148391,
          4.7535901911063645,
          3.091042453358316,
          4.406719247264253,
          4.727387818712341,
          3.332204510175204,
          4.465908118654584,
          3.367295829986474,
          4.394449154672439,
          4.1588830833596715,
          3.6635616461296463,
          5.303304908059076,
          4.290459441148391,
          4.442651256490317,
          5.429345628954441,
          4.477336814478207,
          4.110873864173311,
          4.6913478822291435,
          4.1588830833596715,
          4.709530201312334,
          4.204692619390966,
          3.713572066704308,
          3.8918202981106265,
          3.367295829986474,
          3.58351893845611,
          4.61512051684126,
          3.784189633918261,
          4.624972813284271,
          3.1780538303479458,
          4.0943445622221,
          4.770684624465665,
          4.624972813284271,
          4.060443010546419,
          5.262690188904886,
          3.912023005428146,
          4.948759890378168,
          4.61512051684126,
          4.143134726391533,
          4.07753744390572,
          4.465908118654584,
          4.276666119016055,
          4.02535169073515,
          4.5217885770490405,
          4.127134385045092,
          4.844187086458591,
          3.5553480614894135,
          3.295836866004329,
          3.828641396489095,
          4.060443010546419,
          4.477336814478207,
          4.3694478524670215,
          5.267858159063328,
          3.9512437185814275,
          4.394449154672439,
          3.8918202981106265,
          4.812184355372417,
          4.48863636973214,
          4.276666119016055,
          4.060443010546419,
          4.290459441148391,
          4.9344739331306915,
          5.043425116919247,
          3.8501476017100584,
          3.8066624897703196
         ],
         "yaxis": "y"
        },
        {
         "boxpoints": "all",
         "customdata": [
          [
           "Portrait of a Masterpiece",
           "The D.O.C."
          ],
          [
           "The Gas Face",
           "3rd Bass"
          ],
          [
           "Think About It",
           "Special Ed"
          ],
          [
           "Bald Headed Hoes",
           "Willie D"
          ],
          [
           "Anarexol 12 Mix",
           "Eek-A-Mouse"
          ],
          [
           "Cold Crush Bros. At The Dixie",
           "Cold Crush Brothers"
          ],
          [
           "Look-Out World The Browns Are Coming Thru",
           "\"Cleveland Rapper\" Abraham Klein & Lisa Sharp"
          ],
          [
           "Ease Freeze",
           "Nicodemus"
          ],
          [
           "Army Life",
           "Welton Irie"
          ],
          [
           "Bite Em",
           "Captain Rapp"
          ]
         ],
         "hovertemplate": "title: %{customdata[0]}<br>artist: %{customdata[1]}<br>log(words): %{y}",
         "name": "rap",
         "type": "box",
         "xaxis": "x",
         "y": [
          5.598421958998375,
          5.786897381366708,
          5.7430031878094825,
          5.442417710521793,
          4.499809670330265,
          5.8916442118257715,
          5.3612921657094255,
          4.948759890378168,
          4.8283137373023015,
          5.41610040220442
         ],
         "yaxis": "y"
        },
        {
         "boxpoints": "all",
         "customdata": [
          [
           "There’s a Star for Everyone",
           "Aretha Franklin"
          ],
          [
           "Gamblers Blues",
           "B.B. King"
          ],
          [
           "Love You Anyway",
           "Cameo"
          ],
          [
           "Shes Over Me",
           "Teddy Pendergrass"
          ],
          [
           "Flash Back",
           "Chic"
          ],
          [
           "Make It Last",
           "Midnight Star"
          ],
          [
           "Ready for Your Love",
           "Jeffrey Osborne"
          ],
          [
           "Love Sign",
           "Morris Day"
          ],
          [
           "Music Be The Music",
           "World Class Wreckin Cru"
          ],
          [
           "Men Don’t Cry",
           "The S.O.S. Band"
          ],
          [
           "Fight Apartheid",
           "Peter Tosh"
          ],
          [
           "Jaguar",
           "Mavis Staples"
          ],
          [
           "The Strength of the Lord",
           "Larnelle"
          ],
          [
           "Daddys Home",
           "Process and the Doo Rags"
          ],
          [
           "Golden City",
           "Leon Patillo"
          ],
          [
           "By the Time I Get to Phoenix",
           "Dick Smith (Soul)"
          ],
          [
           "Purple Rain Live in Dortmund 1988",
           "Prince"
          ],
          [
           "Get the Money Uncle Scrooges Money",
           "The Beagle Boys"
          ],
          [
           "Tonight Is The Night",
           "Kwick"
          ],
          [
           "Shelter",
           "Leon Ware"
          ]
         ],
         "hovertemplate": "title: %{customdata[0]}<br>artist: %{customdata[1]}<br>log(words): %{y}",
         "name": "rb",
         "type": "box",
         "xaxis": "x",
         "y": [
          4.532599493153256,
          4.51085950651685,
          4.31748811353631,
          4.663439094112067,
          4.394449154672439,
          4.574710978503383,
          4.6443908991413725,
          4.77912349311153,
          4.927253685157205,
          4.532599493153256,
          4.418840607796598,
          4.343805421853684,
          4.5217885770490405,
          3.9512437185814275,
          4.477336814478207,
          4.6443908991413725,
          3.6635616461296463,
          4.59511985013459,
          4.23410650459726,
          4.382026634673881
         ],
         "yaxis": "y"
        },
        {
         "boxpoints": "all",
         "customdata": [
          [
           "No Remorse",
           "Metallica"
          ],
          [
           "Straight to Hell",
           "The Clash"
          ],
          [
           "Away",
           "Meat Puppets"
          ],
          [
           "Never Really Been",
           "Soul Asylum"
          ],
          [
           "You Let Me Down",
           "Black Flag"
          ],
          [
           "Rubber Ring",
           "The Smiths"
          ],
          [
           "On the Robert E. Lee",
           "Neil Diamond"
          ],
          [
           "Love Doesnt Live Here Anymore",
           "Neil Diamond"
          ],
          [
           "Tunnel of Love",
           "Bruce Springsteen"
          ],
          [
           "Room Without A Window",
           "Operation Ivy"
          ],
          [
           "Its Hard",
           "The Who"
          ],
          [
           "Danger Zone",
           "Ramones"
          ],
          [
           "Driven to Tears",
           "The Police"
          ],
          [
           "Rebels",
           "Tom Petty and the Heartbreakers"
          ],
          [
           "Take Warning",
           "Operation Ivy"
          ],
          [
           "Straight Back",
           "Fleetwood Mac"
          ],
          [
           "Crionics",
           "Slayer"
          ],
          [
           "Toothless People",
           "\"Weird Al\" Yankovic"
          ],
          [
           "You Dont Know What Youve Got Live",
           "Joan Jett & The Blackhearts"
          ],
          [
           "Nerves",
           "Bauhaus"
          ],
          [
           "Out of Sight Out of Mind",
           "Anthrax"
          ],
          [
           "Big Mouth",
           "Gorilla Biscuits"
          ],
          [
           "The Looking Glass Cracked",
           "Screaming Trees"
          ],
          [
           "Upside Down",
           "The Connells"
          ],
          [
           "What I Like About You",
           "Michael Morales"
          ],
          [
           "Spasmo Paralytic Dreams",
           "Blood (GER)"
          ],
          [
           "Lonely Is the Hardest",
           "Suzi Quatro"
          ],
          [
           "Beyond And Back",
           "X"
          ],
          [
           "Finger on the Trigger",
           "Enuff Z'Nuff"
          ],
          [
           "You Can Live at Home",
           "Hsker D"
          ],
          [
           "My Birthday the Moon Festival",
           "Steve Kilbey"
          ],
          [
           "You Stupid Asshole",
           "Angry Samoans"
          ],
          [
           "On Borrowed Time",
           "Trouble (Band)"
          ],
          [
           "Many Will Come",
           "Sacred Warrior"
          ],
          [
           "Forever Shine On",
           "TNT (Band)"
          ],
          [
           "When Its Time to Rock",
           "UFO"
          ],
          [
           "Back to Start",
           "Girlschool"
          ],
          [
           "Run Letter",
           "Throwing Muses"
          ],
          [
           "Margaret Live",
           "Marillion"
          ],
          [
           "Waitin’ for You",
           "Stage Dolls"
          ],
          [
           "Blood on the Ice",
           "Anvil"
          ],
          [
           "Pop the Silo",
           "Nazareth"
          ],
          [
           "Xavier",
           "Dead Can Dance"
          ],
          [
           "Headache for Michelle",
           "Au Pairs"
          ],
          [
           "Make a Circuit with Me",
           "The Polecats"
          ],
          [
           "Juveniles Dont Stop",
           "Max Webster"
          ],
          [
           "Flesh for Fantasy Below the Belt Mix",
           "Billy Idol"
          ],
          [
           "Rock n Roll Rebels",
           "Steppenwolf"
          ],
          [
           "Little Girls",
           "Oingo Boingo"
          ],
          [
           "The Prophecy",
           "Candlemass"
          ],
          [
           "Only a Heartbeat Away",
           "Pantera"
          ],
          [
           "Multi-Death Corporation",
           "MDC"
          ],
          [
           "Red Hot in Black",
           "Rod Stewart"
          ],
          [
           "Yellin In My Ear",
           "Operation Ivy"
          ],
          [
           "Dallas 1 P.M.",
           "Saxon"
          ],
          [
           "My Rules",
           "Black Flag"
          ],
          [
           "Johnny",
           "Attitude Adjustment"
          ],
          [
           "Mob Justice",
           "Lz Rockit"
          ],
          [
           "Lets Get Started",
           "The Romantics"
          ],
          [
           "Vasco Da Gama",
           "Felt (UK Band)"
          ],
          [
           "Silent Darkness Smothered Life",
           "Wrathchild America"
          ],
          [
           "A-Train",
           "The Flying Lizards"
          ],
          [
           "Act / Reaction",
           "Big Boys"
          ],
          [
           "Big Boss Sounds",
           "Reckless Sleepers"
          ],
          [
           "Reader and Advisor",
           "Loudon Wainwright III"
          ],
          [
           "Take Me Back",
           "Player"
          ],
          [
           "Girl",
           "Pseudo Echo"
          ],
          [
           "Timeless Love",
           "Saraya"
          ],
          [
           "We Gotta Get Out of This Place",
           "Jello Biafra"
          ],
          [
           "Bestial Lust Bitch",
           "Bathory"
          ],
          [
           "Dr. Music Extraterrestrial Live",
           "Blue yster Cult"
          ],
          [
           "Ramrod",
           "Foetus"
          ],
          [
           "Attics of My Life Live at the Meadowlands October 16 1989",
           "The Grateful Dead"
          ],
          [
           "Something Double Live",
           "Butthole Surfers"
          ],
          [
           "Im on Fire",
           "Peter Cupples"
          ],
          [
           "Heaven - Live",
           "Talking Heads"
          ],
          [
           "Madly in Love",
           "Broken Edge"
          ],
          [
           "Guardian Angel",
           "Paganini"
          ],
          [
           "Stimulation",
           "Billy Thorpe"
          ],
          [
           "Never Stop Fighting",
           "Johnny Osbourne"
          ],
          [
           "Hard Reaction",
           "Haywire"
          ],
          [
           "No Ordinary Lady",
           "Orleans"
          ],
          [
           "One of a Kind",
           "Paganini"
          ],
          [
           "Nip Driver",
           "Nip Drivers"
          ],
          [
           "Keep On Shining",
           "Orleans"
          ],
          [
           "An Emotional Look at Love",
           "Mark Farner"
          ],
          [
           "Sticks And Stones Unreleased",
           "SNFU"
          ],
          [
           "Love Once Love Twice Then Love Again",
           "Luis Alberto Spinetta"
          ],
          [
           "My Old Lady",
           "Brewer's Droop"
          ],
          [
           "Kick Out The Tories",
           "Newtown Neurotics"
          ],
          [
           "Flying Hour",
           "George Harrison"
          ],
          [
           "You Loved Me",
           "Benny Hester"
          ],
          [
           "Die Young",
           "Warrant (Metal)"
          ],
          [
           "Slow Train",
           "Bob Dylan & The Grateful Dead"
          ],
          [
           "Dirty Diana Live at Wembley Stadium July 16 1988",
           "Michael Jackson"
          ],
          [
           "Standing on the Stage",
           "Mindless Sinner"
          ],
          [
           "Masters and Slaves",
           "Y&T"
          ],
          [
           "Hoochie Coochie Man",
           "FEAR (Band)"
          ],
          [
           "Sink or Swim",
           "Blue for Two"
          ],
          [
           "Joeboy The Electronic",
           "Tuxedomoon"
          ],
          [
           "I Can Be Tender",
           "Manzanera/Mackay"
          ],
          [
           "Breath of Life",
           "The Explorers"
          ],
          [
           "Lost Generation",
           "Groovie Ghoulies"
          ],
          [
           "Dead Chickens",
           "Philippine Violators"
          ],
          [
           "Goddess From The Gutter",
           "Dogs D'Amour"
          ],
          [
           "House Calls",
           "Rick Cua"
          ],
          [
           "Peer Pressure",
           "Corrupted Morals"
          ],
          [
           "Hardening of the Arteries Violent Brains",
           "Slayer"
          ],
          [
           "Outside the Trains Dont Run on Time Live at American Indian Centre",
           "Gang of Four"
          ],
          [
           "Martha Quinn",
           "Jr. Gone Wild"
          ],
          [
           "Black Circles original version",
           "Pink Lincolns"
          ],
          [
           "Oh Babe It Aint No Lie",
           "Jerry Garcia Acoustic Band"
          ],
          [
           "Hit and Run Lover",
           "London (Band)"
          ],
          [
           "Jab",
           "Scientist"
          ],
          [
           "Squeezit the Moocher Minnie the Moocher",
           "Danny Elfman"
          ],
          [
           "North To The South",
           "Graham Brazier"
          ],
          [
           "Here Comes the Wrecking Crew",
           "Black Death (band)"
          ]
         ],
         "hovertemplate": "title: %{customdata[0]}<br>artist: %{customdata[1]}<br>log(words): %{y}",
         "name": "rock",
         "type": "box",
         "xaxis": "x",
         "y": [
          4.564348191467836,
          4.927253685157205,
          3.970291913552122,
          4.927253685157205,
          4.499809670330265,
          4.6443908991413725,
          4.553876891600541,
          4.51085950651685,
          4.718498871295094,
          4.653960350157523,
          4.343805421853684,
          4.143134726391533,
          4.2626798770413155,
          4.68213122712422,
          4.465908118654584,
          4.356708826689592,
          4.356708826689592,
          4.672828834461906,
          3.8918202981106265,
          4.189654742026425,
          4.634728988229636,
          4.060443010546419,
          4.276666119016055,
          4.406719247264253,
          3.970291913552122,
          4.0943445622221,
          4.343805421853684,
          4.174387269895637,
          4.59511985013459,
          4.127134385045092,
          3.784189633918261,
          4.30406509320417,
          4.454347296253507,
          4.110873864173311,
          4.23410650459726,
          4.61512051684126,
          4.1588830833596715,
          4.584967478670572,
          4.59511985013459,
          3.8066624897703196,
          4.418840607796598,
          4.634728988229636,
          4.700480365792417,
          4.430816798843313,
          4.007333185232471,
          4.543294782270004,
          3.8066624897703196,
          4.787491742782046,
          4.31748811353631,
          4.31748811353631,
          4.060443010546419,
          4.110873864173311,
          4.969813299576001,
          4.454347296253507,
          4.343805421853684,
          4.110873864173311,
          4.430816798843313,
          4.51085950651685,
          4.51085950651685,
          4.290459441148391,
          5.017279836814924,
          4.382026634673881,
          3.9512437185814275,
          4.5217885770490405,
          4.61512051684126,
          4.1588830833596715,
          4.248495242049359,
          4.532599493153256,
          4.59511985013459,
          4.2626798770413155,
          4.290459441148391,
          4.8283137373023015,
          4.290459441148391,
          3.912023005428146,
          4.1588830833596715,
          4.060443010546419,
          4.276666119016055,
          4.127134385045092,
          4.2626798770413155,
          4.465908118654584,
          4.290459441148391,
          4.762173934797756,
          4.204692619390966,
          4.127134385045092,
          3.970291913552122,
          4.356708826689592,
          4.04305126783455,
          4.0943445622221,
          4.6443908991413725,
          4.3694478524670215,
          4.23410650459726,
          4.77912349311153,
          4.0943445622221,
          5.2832037287379885,
          4.962844630259907,
          4.007333185232471,
          4.663439094112067,
          4.3694478524670215,
          4.31748811353631,
          4.31748811353631,
          4.204692619390966,
          4.174387269895637,
          4.634728988229636,
          3.828641396489095,
          4.30406509320417,
          4.343805421853684,
          4.477336814478207,
          4.418840607796598,
          3.8501476017100584,
          4.290459441148391,
          3.7612001156935624,
          4.02535169073515,
          4.248495242049359,
          3.4011973816621555,
          4.812184355372417,
          4.418840607796598,
          4.31748811353631
         ],
         "yaxis": "y"
        },
        {
         "boxpoints": "all",
         "customdata": [
          [
           "One Last Thrill",
           "Billy Ray Cyrus"
          ],
          [
           "Christmas Morning",
           "Lyle Lovett"
          ],
          [
           "Sweet as the Flowers in May Time",
           "The Carter Family"
          ],
          [
           "High Noon In Killville",
           "Angry Johnny And The Killbillies"
          ],
          [
           "When Goodbye Was a Word",
           "Trisha Yearwood"
          ],
          [
           "Not That I Care",
           "Ricky Van Shelton"
          ],
          [
           "Fire to Fire",
           "Tanya Tucker"
          ],
          [
           "Silver Wings",
           "Pam Tillis"
          ],
          [
           "Delaney Talks To Statues",
           "Jimmy Buffett"
          ],
          [
           "All I Can Be Is a Sweet Memory",
           "Collin Raye"
          ],
          [
           "What Else Could I Do?",
           "Rhonda Vincent"
          ],
          [
           "What About Him",
           "Brush Arbor"
          ],
          [
           "Amazing Grace",
           "Crystal Gayle"
          ]
         ],
         "hovertemplate": "title: %{customdata[0]}<br>artist: %{customdata[1]}<br>log(words): %{y}",
         "name": "country",
         "type": "box",
         "xaxis": "x2",
         "y": [
          4.727387818712341,
          4.700480365792417,
          4.219507705176107,
          5.556828061699537,
          4.007333185232471,
          4.3694478524670215,
          4.204692619390966,
          3.713572066704308,
          4.663439094112067,
          4.3694478524670215,
          4.532599493153256,
          4.406719247264253,
          4.007333185232471
         ],
         "yaxis": "y2"
        },
        {
         "boxpoints": "all",
         "customdata": [
          [
           "Savior More than Life",
           "Kirk Franklin"
          ],
          [
           "Reprise How Does It Feel",
           "Doopees"
          ],
          [
           "This Kingdom",
           "Ron Kenoly"
          ],
          [
           "Danger At The Door D-Lo Brown",
           "Jim Johnston"
          ]
         ],
         "hovertemplate": "title: %{customdata[0]}<br>artist: %{customdata[1]}<br>log(words): %{y}",
         "name": "misc",
         "type": "box",
         "xaxis": "x2",
         "y": [
          3.7376696182833684,
          3.58351893845611,
          3.7612001156935624,
          3.8501476017100584
         ],
         "yaxis": "y2"
        },
        {
         "boxpoints": "all",
         "customdata": [
          [
           "On My Way Home",
           "Enya"
          ],
          [
           "You Are Not Alone",
           "Michael Jackson"
          ],
          [
           "2 Wicky",
           "Hooverphonic"
          ],
          [
           "Believe the Hype",
           "Snap!"
          ],
          [
           "My Before And After",
           "Cotton Mather"
          ],
          [
           "Clockwork Toys",
           "Major Accident"
          ],
          [
           "Ill See You In My Dreams",
           "Charlie Major"
          ],
          [
           "Gently Sentimental",
           "Life of Agony"
          ],
          [
           "Seasons",
           "Life of Agony"
          ],
          [
           "You Dont Know",
           "Luther Allison"
          ],
          [
           "X-Mas-X",
           "Paralysed Age"
          ],
          [
           "Something",
           "Asrai"
          ],
          [
           "Subterranean World How Long…?",
           "Anita Lane"
          ],
          [
           "Clone",
           "Avail"
          ],
          [
           "Last Days Of April",
           "Last Days Of April"
          ],
          [
           "Lola",
           "Bad Manners"
          ],
          [
           "Jacob Fleet",
           "And Also the Trees"
          ],
          [
           "Burning Down",
           "Ark (Metal Band)"
          ],
          [
           "Taufen",
           "Pink Turns Blue"
          ],
          [
           "Neurotic",
           "The Bouncing Souls"
          ],
          [
           "Trust",
           "American Steel"
          ],
          [
           "Summer Dance",
           "9811"
          ],
          [
           "If You Want My Advice",
           "Gameface"
          ],
          [
           "Madness",
           "Inner Thought"
          ],
          [
           "Shitkicker",
           "Therapy? (band)"
          ],
          [
           "This Town",
           "Nicolai Dunger"
          ],
          [
           "Not Too Young",
           "Mandy Moore"
          ],
          [
           "Nothing Can Stop Us Masters at Work",
           "Saint Etienne"
          ],
          [
           "Burn Pigs Burn",
           "Pitchfork (band)"
          ],
          [
           "The Remedy",
           "End Zone (Rock)"
          ],
          [
           "Price You Pay",
           "Agnostic Front"
          ],
          [
           "Only This And Nothing More",
           "Solitude Aeturnus"
          ],
          [
           "Because Of You",
           "Neil Sedaka"
          ],
          [
           "When A Man Is Wrong",
           "Seal"
          ],
          [
           "Dont Slow Down",
           "Fury In The Slaughterhouse"
          ],
          [
           "Strange",
           "Ratcat"
          ],
          [
           "See Rock City",
           "Kate Campbell"
          ],
          [
           "Forbidden City",
           "Electronic"
          ],
          [
           "Symbolic Immortality",
           "Massacre"
          ],
          [
           "Tape intro",
           "The Cure"
          ],
          [
           "A Gruesome Time",
           "Mercyful Fate"
          ],
          [
           "Union Yes",
           "Criminalz"
          ],
          [
           "King Of Angels",
           "Whitecross"
          ],
          [
           "It Rains In The Heat Of The Night",
           "Roger Whittaker"
          ],
          [
           "Bluebeat",
           "Go West"
          ],
          [
           "Firewalker",
           "Slapshot"
          ],
          [
           "I.L.U.",
           "La Ley"
          ],
          [
           "Ask The Family",
           "Blueboy (Band)"
          ],
          [
           "Undone",
           "The Violet Burning"
          ],
          [
           "Damnation Street",
           "Diamond Head"
          ],
          [
           "So Good",
           "Boyzone"
          ],
          [
           "So Down",
           "Jesse Camp"
          ],
          [
           "Who Wants An Ugly Girl? Who Wants An Ugly Dub?",
           "Tom Tom Club"
          ],
          [
           "Waiting in Green Velvet",
           "Joshua Kadison"
          ],
          [
           "Still The Rhythm",
           "Terrorvision"
          ],
          [
           "The Maple On The Hill",
           "Norman Blake"
          ],
          [
           "Tularosa",
           "Paul Young"
          ],
          [
           "Fast Cars Demo",
           "Buzzcocks"
          ],
          [
           "Eyes Have Miles",
           "G. Love & Special Sauce"
          ],
          [
           "Of Hells Fire",
           "Marduk"
          ],
          [
           "Rainy April Day",
           "Fury In The Slaughterhouse"
          ],
          [
           "Fireflies",
           "Hate Dept."
          ],
          [
           "Holy Ground",
           "Geron Davis"
          ],
          [
           "Shadow",
           "Janis Ian"
          ],
          [
           "Freak Show",
           "The Pietasters"
          ],
          [
           "Deserve",
           "Trembling Blue Stars"
          ],
          [
           "Payback Is Beautiful",
           "Fifteen"
          ],
          [
           "Look Back Now",
           "The Frames"
          ],
          [
           "Heart Full Of Rain",
           "Irma Thomas"
          ],
          [
           "Colour Of An Eye",
           "Novembre"
          ],
          [
           "Graffiti Women",
           "Suede"
          ],
          [
           "Absinth",
           "Hangar"
          ],
          [
           "Verb: Thats Whats Happening",
           "Moby"
          ],
          [
           "The Destroyer",
           "Frente!"
          ],
          [
           "Condemned",
           "Dehumanized"
          ],
          [
           "Pretty Song",
           "Frogpond"
          ],
          [
           "Infinity Parade",
           "Landmarq (Rock)"
          ],
          [
           "Bad Connection",
           "Cheryl Wheeler"
          ],
          [
           "Kick a Little",
           "Little Texas"
          ],
          [
           "Lord Dont Move That Mountain",
           "Inez Andrews"
          ],
          [
           "The Man Who Loved Beer",
           "Lambchop"
          ],
          [
           "I Wont Lie Down Kombat mix",
           "Face To Face"
          ],
          [
           "On The Way Up",
           "Peter Mulvey"
          ],
          [
           "Responsibility",
           "Ninety Pound Wuss"
          ],
          [
           "You Showed Me",
           "The Lightning Seeds"
          ],
          [
           "Adam  Eve",
           "October Project"
          ],
          [
           "Kokoro",
           "Kitaro"
          ],
          [
           "Nicky My Friend Diego Zapparoli and Paula",
           "Momus"
          ],
          [
           "Heart Of Fire",
           "NIGHTMARE"
          ],
          [
           "Hallelujah",
           "Cracker"
          ],
          [
           "Heres To You",
           "Love/Hate"
          ],
          [
           "Heaven Knows",
           "Keats (Band)"
          ],
          [
           "Inner City Blues",
           "Adam Again"
          ],
          [
           "Lost",
           "Old & In The Way"
          ],
          [
           "I Cant Stand It",
           "Holly Golightly"
          ],
          [
           "Lamore",
           "Nina Hagen"
          ],
          [
           "Minds I",
           "Forbidden"
          ],
          [
           "Skinned",
           "Banished"
          ],
          [
           "Control",
           "Dub War"
          ],
          [
           "Sparkler",
           "Fireside"
          ],
          [
           "My Love and My Light",
           "Don Moen"
          ],
          [
           "Its Easy to See When Youre Blind",
           "Gilbert O'Sullivan"
          ],
          [
           "Be Careful",
           "Dannii Minogue"
          ],
          [
           "Marys Song",
           "The Aislers Set"
          ],
          [
           "Goddess of Lies",
           "Blutengel"
          ],
          [
           "Fall Beside Her",
           "Catatonia"
          ],
          [
           "Dark Days",
           "Shades Apart"
          ],
          [
           "Stranger",
           "U.D.O."
          ],
          [
           "Whipping Boy",
           "Ben Harper & Tom Freund"
          ],
          [
           "Where Youre Going",
           "Dada"
          ],
          [
           "Roses in the Fire",
           "Rosanne Cash"
          ],
          [
           "Break It To Me Gently",
           "Ruth Brown"
          ],
          [
           "Cheaterlude Interlude",
           "Dave Hollister"
          ],
          [
           "Bleeding Heart",
           "Buffalo Tom"
          ],
          [
           "Fish",
           "The Busters"
          ],
          [
           "When All Is Said And Done",
           "Boyzone"
          ],
          [
           "Sugar Is Sweeter Monkey Mafia mix",
           "CJ Bolland"
          ],
          [
           "Letters From A Porcupine",
           "Blind Melon"
          ],
          [
           "Rodäxx",
           "Root"
          ],
          [
           "Penny Is Poison",
           "The Verve Pipe"
          ],
          [
           "A Touch Of Medieval Darkness",
           "Desaster"
          ],
          [
           "Rails",
           "Jesus Jones"
          ],
          [
           "Is It True About Love",
           "Right Said Fred"
          ],
          [
           "If I Could",
           "Storyhill"
          ],
          [
           "Old Woman",
           "K's Choice"
          ],
          [
           "Open Up",
           "King Missile"
          ],
          [
           "Run Through My Veins",
           "Vigilantes of Love"
          ],
          [
           "All Or Nothing",
           "Talisman (SWE)"
          ],
          [
           "Love Is Lighter Than Air",
           "The Divine Comedy"
          ],
          [
           "Tutti Frutti",
           "Cssia Eller"
          ],
          [
           "Total Eclipse",
           "Sex Appeal"
          ],
          [
           "Dont Talk About Me",
           "Tony! Toni! Ton!"
          ],
          [
           "Vienna",
           "Clepsydra"
          ],
          [
           "Ill Advice",
           "Big Wreck"
          ],
          [
           "Dream Maker",
           "Vanishing Point"
          ],
          [
           "Gas Girl",
           "The Bottle Rockets"
          ],
          [
           "Get Me",
           "Reset (NOR)"
          ],
          [
           "Push",
           "Glenn Hughes"
          ],
          [
           "I Am Ready",
           "2 Unlimited"
          ],
          [
           "Rotary Hotel",
           "The Flashing Lights"
          ],
          [
           "Sleepy Little Train To Memphis",
           "The Why Store"
          ],
          [
           "Another Day",
           "Buckshot Lefonque"
          ],
          [
           "Where I Am Today",
           "Redd Kross"
          ],
          [
           "Footprints",
           "Resurrection Band"
          ],
          [
           "Can You Feel It",
           "Manic Eden"
          ],
          [
           "What Is Love?",
           "Deee-Lite"
          ],
          [
           "Out Among The Stars",
           "Claire Lynch"
          ],
          [
           "Feel",
           "Rustic Overtones"
          ],
          [
           "Gotta Serve Somebody",
           "Judy Collins"
          ],
          [
           "Uncle Johns Farm",
           "Owsley"
          ],
          [
           "Ill Be There",
           "The Escape Club"
          ],
          [
           "Instant Armadillo",
           "Blue Dogs"
          ],
          [
           "Genius of America",
           "The Tubes"
          ],
          [
           "Strange As They Say",
           "Blinker The Star"
          ],
          [
           "The Night Before Christmas",
           "Canadian Brass"
          ],
          [
           "A New Kind Of Fire",
           "Tom Jones"
          ],
          [
           "Question Mark",
           "Strife"
          ],
          [
           "Blue Igloo Cooler",
           "Silage"
          ],
          [
           "Love Catastrophe",
           "Shudder to Think"
          ],
          [
           "Giant Step",
           "Nina Hagen"
          ],
          [
           "Some Other Spring",
           "Dianne Reeves"
          ],
          [
           "St. Louis Blues",
           "Herbie Hancock"
          ],
          [
           "Procession",
           "VNV Nation"
          ],
          [
           "Silent Radar",
           "The Watchmen"
          ],
          [
           "Shades Of Blue",
           "Zachary Richard"
          ],
          [
           "Renaissance",
           "Postmen"
          ],
          [
           "Serious Days",
           "Secret Discovery"
          ],
          [
           "You Cant Walk All Over Me",
           "D.O.A."
          ],
          [
           "Sing About Love",
           "Haddaway"
          ],
          [
           "Erased",
           "Neuroactive"
          ],
          [
           "Remnants of the Only Delight",
           "Yearning (FIN)"
          ],
          [
           "New York State",
           "Leatherface"
          ],
          [
           "Ones Own Self",
           "Every Day Life"
          ],
          [
           "Voodoo Charm",
           "Willy DeVille"
          ],
          [
           "Vanishing",
           "Scaterd Few"
          ],
          [
           "Capricorn",
           "IQ (EN)"
          ],
          [
           "Lights of Devonport",
           "Weddings Parties Anything"
          ],
          [
           "Goodbye World",
           "Joel Plaskett"
          ],
          [
           "Reverse Midas",
           "Six Going On Seven"
          ],
          [
           "Letter to a John",
           "Ani DiFranco"
          ],
          [
           "Buffy",
           "Velvet Chain"
          ],
          [
           "Waiting For The Night",
           "Rabbit In The Moon"
          ],
          [
           "Hand Of Doom: Version",
           "Danzig"
          ],
          [
           "I Know What Ive Got",
           "Dr. John"
          ],
          [
           "You And I",
           "5ive"
          ],
          [
           "Love Dont Live Here Anymore",
           "Double Trouble (2)"
          ],
          [
           "Dies Irae Grave New World",
           "EverEve"
          ],
          [
           "Seven",
           "Ellis Paul"
          ],
          [
           "Treasure",
           "Tree63"
          ],
          [
           "Overlooked",
           "In My Eyes"
          ],
          [
           "One Small Child",
           "David Meece"
          ],
          [
           "Thats Me MPW Mix",
           "Tara MacLean"
          ],
          [
           "Road and the River",
           "Runrig"
          ],
          [
           "Mediaeval",
           "Haujobb"
          ],
          [
           "Fantasy",
           "The Levellers"
          ],
          [
           "Without Change",
           "Granian"
          ],
          [
           "Bestial Sex",
           "Torment"
          ],
          [
           "Better",
           "Leftover Salmon"
          ],
          [
           "Manada",
           "Pansy Division"
          ],
          [
           "Someday",
           "Valentine Romanski"
          ],
          [
           "Little Sister",
           "Siouxsie and the Banshees"
          ],
          [
           "Cry Me A River",
           "Combustible Edison"
          ],
          [
           "The Distance Between You and Me",
           "Sara Evans"
          ],
          [
           "Let It Rain",
           "Newsboys"
          ],
          [
           "Down Home",
           "Marty Stuart"
          ],
          [
           "Monochrome",
           "Mark Lizotte"
          ],
          [
           "White Aura Buried In Ashes",
           "Horna"
          ],
          [
           "Represent",
           "DJ Magic Mike And The Royal Posse"
          ],
          [
           "Oh Me of Little Faith",
           "Margaret Becker"
          ],
          [
           "The Stallion Pt. 3",
           "Ween"
          ],
          [
           "A Girl Like You",
           "The Wolfgang Press"
          ],
          [
           "Soul of a man",
           "Marius Mller's Funhouse"
          ],
          [
           "Kevs Courting Song",
           "Kevin Bloody Wilson"
          ],
          [
           "Love Was All I Had",
           "Phyllis Dillon"
          ],
          [
           "We Hope We Cope",
           "The Married Monk"
          ],
          [
           "Train 45",
           "Woody Guthrie"
          ],
          [
           "Moonchilds Psychedelic Holiday",
           "Gowan"
          ],
          [
           "Im Lost",
           "The Spencer Davis Group"
          ],
          [
           "Sealed With a Kiss",
           "Four Bitchin' Babes"
          ],
          [
           "Youre My Lady",
           "Linear"
          ],
          [
           "Happy Go Lucky",
           "Terry Hall"
          ],
          [
           "Edge of Chaos",
           "D'CCKOO"
          ],
          [
           "Two Minds",
           "Feline"
          ],
          [
           "A Terrorist Christmas",
           "James & Kling"
          ],
          [
           "Adventure",
           "Sesame Street"
          ],
          [
           "Seen Some Better Days",
           "Tony Lucca"
          ],
          [
           "Pushin up Daisies",
           "T-Bone"
          ],
          [
           "Get Away",
           "Eek-A-Mouse"
          ],
          [
           "Truth",
           "World Wide Message Tribe"
          ],
          [
           "Day B4 The War",
           "Wilde Oscars"
          ],
          [
           "Fear of God",
           "The Bats"
          ],
          [
           "The Boy Who Stuck His Head in the Dryer And Whirl’d Round N’ Round",
           "Chocolate USA"
          ],
          [
           "Real",
           "Soma"
          ],
          [
           "The Girl You Left Behind",
           "Cathy Cavadini"
          ],
          [
           "Dream a Little Dream of Me",
           "Des O'Connor"
          ],
          [
           "Three Times Youre Out",
           "Rumorz (Pop)"
          ],
          [
           "Goodbye",
           "Michael Callen"
          ],
          [
           "Phase 3: Departure",
           "Theory In Practice"
          ],
          [
           "Boxing God",
           "Layton Howerton"
          ],
          [
           "When Im Gone",
           "Eric Andersen"
          ],
          [
           "Slowdance Blech",
           "Jake Slazenger"
          ],
          [
           "Strange Lover",
           "Julie Miller"
          ],
          [
           "Ooh My Feet",
           "Frank Loesser"
          ],
          [
           "His Grace Is Sufficient",
           "Keith Moore"
          ]
         ],
         "hovertemplate": "title: %{customdata[0]}<br>artist: %{customdata[1]}<br>log(words): %{y}",
         "name": "pop",
         "type": "box",
         "xaxis": "x2",
         "y": [
          4.04305126783455,
          4.61512051684126,
          3.7612001156935624,
          4.890349128221754,
          4.219507705176107,
          4.31748811353631,
          4.356708826689592,
          3.4965075614664802,
          4.330733340286331,
          4.248495242049359,
          3.9512437185814275,
          4.23410650459726,
          5.043425116919247,
          4.394449154672439,
          4.406719247264253,
          4.8283137373023015,
          4.532599493153256,
          4.672828834461906,
          4.7535901911063645,
          4.430816798843313,
          4.820281565605037,
          3.8066624897703196,
          4.248495242049359,
          3.871201010907891,
          3.912023005428146,
          4.442651256490317,
          4.653960350157523,
          4.663439094112067,
          4.219507705176107,
          4.927253685157205,
          3.784189633918261,
          4.51085950651685,
          3.828641396489095,
          4.394449154672439,
          4.343805421853684,
          4.454347296253507,
          4.727387818712341,
          4.51085950651685,
          3.8918202981106265,
          4.02535169073515,
          4.143134726391533,
          3.9318256327243257,
          3.9318256327243257,
          4.394449154672439,
          4.454347296253507,
          4.672828834461906,
          3.713572066704308,
          4.499809670330265,
          4.189654742026425,
          4.499809670330265,
          4.189654742026425,
          4.736198448394496,
          4.762173934797756,
          4.770684624465665,
          4.68213122712422,
          4.700480365792417,
          4.382026634673881,
          3.828641396489095,
          5.375278407684165,
          5.0689042022202315,
          4.290459441148391,
          4.204692619390966,
          4.1588830833596715,
          4.406719247264253,
          4.74493212836325,
          4.189654742026425,
          4.499809670330265,
          4.430816798843313,
          4.465908118654584,
          4.394449154672439,
          3.8918202981106265,
          3.367295829986474,
          4.330733340286331,
          4.454347296253507,
          4.394449154672439,
          3.6375861597263857,
          4.574710978503383,
          4.584967478670572,
          4.553876891600541,
          3.970291913552122,
          4.23410650459726,
          3.970291913552122,
          4.477336814478207,
          4.23410650459726,
          3.6375861597263857,
          4.356708826689592,
          4.59511985013459,
          4.553876891600541,
          4.0943445622221,
          4.584967478670572,
          4.02535169073515,
          4.8283137373023015,
          4.30406509320417,
          4.007333185232471,
          3.7612001156935624,
          3.6635616461296463,
          4.343805421853684,
          3.8918202981106265,
          4.852030263919617,
          4.007333185232471,
          4.343805421853684,
          4.477336814478207,
          4.574710978503383,
          4.882801922586371,
          3.8501476017100584,
          4.31748811353631,
          4.68213122712422,
          4.477336814478207,
          3.4657359027997265,
          4.477336814478207,
          4.672828834461906,
          4.189654742026425,
          3.6635616461296463,
          3.912023005428146,
          4.499809670330265,
          4.127134385045092,
          3.1780538303479458,
          4.430816798843313,
          3.970291913552122,
          3.5553480614894135,
          4.787491742782046,
          3.9889840465642745,
          4.174387269895637,
          4.51085950651685,
          4.356708826689592,
          5.0106352940962555,
          4.6443908991413725,
          4.564348191467836,
          4.605170185988092,
          3.5553480614894135,
          4.406719247264253,
          4.499809670330265,
          4.812184355372417,
          4.143134726391533,
          4.189654742026425,
          4.356708826689592,
          4.74493212836325,
          4.5217885770490405,
          4.418840607796598,
          4.59511985013459,
          4.23410650459726,
          4.553876891600541,
          4.465908118654584,
          4.663439094112067,
          4.762173934797756,
          3.58351893845611,
          4.736198448394496,
          4.3694478524670215,
          4.890349128221754,
          4.836281906951478,
          4.219507705176107,
          3.970291913552122,
          4.672828834461906,
          3.6375861597263857,
          5.332718793265369,
          4.31748811353631,
          3.912023005428146,
          4.477336814478207,
          3.6888794541139363,
          4.48863636973214,
          4.204692619390966,
          4.499809670330265,
          4.634728988229636,
          4.1588830833596715,
          3.784189633918261,
          5.488937726156687,
          4.23410650459726,
          4.430816798843313,
          4.990432586778736,
          4.51085950651685,
          3.7612001156935624,
          4.454347296253507,
          5.209486152841421,
          4.624972813284271,
          4.0943445622221,
          4.543294782270004,
          4.804021044733257,
          2.833213344056216,
          4.07753744390572,
          4.5217885770490405,
          4.882801922586371,
          4.394449154672439,
          3.9512437185814275,
          4.976733742420574,
          4.442651256490317,
          4.143134726391533,
          4.6913478822291435,
          4.5217885770490405,
          4.330733340286331,
          4.343805421853684,
          4.007333185232471,
          4.564348191467836,
          4.174387269895637,
          3.258096538021482,
          4.68213122712422,
          4.51085950651685,
          4.2626798770413155,
          4.02535169073515,
          4.1588830833596715,
          4.343805421853684,
          4.02535169073515,
          3.9318256327243257,
          4.5217885770490405,
          4.770684624465665,
          4.890349128221754,
          4.477336814478207,
          4.07753744390572,
          5.814130531825066,
          4.477336814478207,
          4.6913478822291435,
          4.30406509320417,
          4.330733340286331,
          5.1298987149230735,
          3.8918202981106265,
          4.219507705176107,
          3.8066624897703196,
          4.2626798770413155,
          4.499809670330265,
          4.143134726391533,
          4.1588830833596715,
          4.2626798770413155,
          4.74493212836325,
          4.07753744390572,
          4.143134726391533,
          5.0106352940962555,
          4.762173934797756,
          5.814130531825066,
          5.10594547390058,
          5.0369526024136295,
          4.1588830833596715,
          4.406719247264253,
          4.543294782270004,
          4.290459441148391,
          4.74493212836325,
          4.143134726391533,
          4.51085950651685,
          4.0943445622221,
          5.0369526024136295,
          4.532599493153256,
          4.584967478670572,
          3.1780538303479458,
          4.430816798843313,
          4.276666119016055,
          4.219507705176107
         ],
         "yaxis": "y2"
        },
        {
         "boxpoints": "all",
         "customdata": [
          [
           "Final Frontier",
           "MC Ren"
          ],
          [
           "Point the Finga",
           "2Pac"
          ],
          [
           "Mary Jane",
           "Tha Alkaholiks"
          ],
          [
           "Props",
           "A.L.T."
          ],
          [
           "Woodchuck",
           "Apache"
          ],
          [
           "Uptown Thang Waitn on Your Picture",
           "B.G."
          ],
          [
           "Hard Times",
           "Bone Thugs-N-Harmony"
          ],
          [
           "Step Into Da Cipher",
           "Brand Nubian"
          ],
          [
           "People vs. Toker",
           "Brownside"
          ],
          [
           "Two Minute Brother",
           "B.W.P."
          ],
          [
           "Degrees",
           "C-Rayz Walz"
          ],
          [
           "Hear Me Out",
           "Clipse"
          ],
          [
           "L.A. L.A.",
           "Capone-N-Noreaga"
          ],
          [
           "T.O.N.Y. Top of New York",
           "Capone-N-Noreaga"
          ],
          [
           "Please Dont Kill Me",
           "Crazy"
          ],
          [
           "That Kinda Girl",
           "DC Talk"
          ],
          [
           "Down Syndrome",
           "De La Soul"
          ],
          [
           "Back in the Day",
           "Dred Scott"
          ],
          [
           "Get Rich to This",
           "Goodie Mob"
          ],
          [
           "Whats Goin On",
           "Gravediggaz"
          ],
          [
           "Bitch Betta Have My Money",
           "Ja Rule"
          ],
          [
           "What Part of the Game",
           "McGruff"
          ],
          [
           "Cop Killer",
           "Body Count"
          ],
          [
           "Pimpin Aint Easy",
           "II Tru"
          ],
          [
           "The Rough Side of Town",
           "Organized Konfusion"
          ],
          [
           "We Want Some Answers",
           "Pastor Troy"
          ],
          [
           "Here They Cum",
           "PMD"
          ],
          [
           "The Worlds a Stage A Dramady",
           "Prince Paul"
          ],
          [
           "North Memphis Area",
           "Three 6 Mafia"
          ],
          [
           "Bitch With a Perm",
           "Tim Dog"
          ],
          [
           "Diemuthafuckadie",
           "Twiztid"
          ],
          [
           "Biscuits and Eggs",
           "Ultramagnetic MC's"
          ],
          [
           "Cinncinati",
           "Mood"
          ],
          [
           "You Got It",
           "Soulja Slim"
          ],
          [
           "Killa By Nature",
           "Tommy Wright III"
          ],
          [
           "Lord Have Mercy",
           "Soul Intent"
          ],
          [
           "Hush Baby Hush",
           "Buju Banton"
          ],
          [
           "Hieroglyphics vs. Hobo Junction Freestyle Battle",
           "Sway & King Tech"
          ],
          [
           "From The Funk To The Back",
           "Kokane"
          ],
          [
           "Face The Flames",
           "The Wiseguys"
          ],
          [
           "Hey Hey Hey Original",
           "2Face (A-Butta & L-Swift)"
          ],
          [
           "Bonus Track",
           "Dru Down"
          ],
          [
           "Dead Bent Original 12 Version",
           "MF DOOM"
          ],
          [
           "Laws Out To Get Me",
           "Trinity Garden Cartel"
          ],
          [
           "Pour More",
           "Daniel Young Aka Muph"
          ],
          [
           "Niggaz of Destruction",
           "N.O.D. (Niggaz Of Destruction)"
          ],
          [
           "If You Dont Know",
           "Queen Latifah"
          ],
          [
           "For My Man - Sandman",
           "Q-Tip"
          ]
         ],
         "hovertemplate": "title: %{customdata[0]}<br>artist: %{customdata[1]}<br>log(words): %{y}",
         "name": "rap",
         "type": "box",
         "xaxis": "x2",
         "y": [
          5.5254529391317835,
          5.572154032177765,
          5.631211781821365,
          5.231108616854587,
          5.771441123130016,
          5.62040086571715,
          4.653960350157523,
          5.908082938168931,
          5.3230099791384085,
          5.60947179518496,
          5.723585101952381,
          5.402677381872279,
          5.942799375126701,
          5.786897381366708,
          5.37989735354046,
          5.303304908059076,
          5.768320995793772,
          5.666426688112432,
          5.84354441703136,
          5.918893854273146,
          5.594711379601839,
          6.091309882077698,
          4.406719247264253,
          5.598421958998375,
          5.768320995793772,
          5.187385805840755,
          5.652489180268651,
          5.318119993844216,
          3.367295829986474,
          5.455321115357702,
          5.598421958998375,
          5.616771097666572,
          5.6937321388027,
          5.662960480135946,
          5.4510384535657,
          5.886104031450156,
          5.198497031265826,
          7.326465613840322,
          5.602118820879701,
          3.044522437723423,
          5.905361848054571,
          5.961005339623274,
          5.537334267018537,
          5.7899601708972535,
          5.521460917862246,
          5.407171771460119,
          5.332718793265369,
          5.438079308923196
         ],
         "yaxis": "y2"
        },
        {
         "boxpoints": "all",
         "customdata": [
          [
           "Top of the World",
           "Brandy"
          ],
          [
           "Whos The Mack",
           "Ralph Tresvant"
          ],
          [
           "When You Need Me",
           "Aaron Hall"
          ],
          [
           "On  On Reprise",
           "Mint Condition"
          ],
          [
           "I Like the Way The Kissing Game Beat-A-Pella",
           "Hi-Five"
          ],
          [
           "Whats Goin On",
           "Tony Thompson"
          ],
          [
           "You Make Me Wanna... Live",
           "Usher"
          ],
          [
           "There Is a Hope",
           "Alicia Williamson"
          ]
         ],
         "hovertemplate": "title: %{customdata[0]}<br>artist: %{customdata[1]}<br>log(words): %{y}",
         "name": "rb",
         "type": "box",
         "xaxis": "x2",
         "y": [
          5.455321115357702,
          4.727387818712341,
          5.043425116919247,
          4.204692619390966,
          4.574710978503383,
          4.663439094112067,
          4.812184355372417,
          4.762173934797756
         ],
         "yaxis": "y2"
        },
        {
         "boxpoints": "all",
         "customdata": [
          [
           "Doin Time",
           "Sublime"
          ],
          [
           "The Grouch",
           "Green Day"
          ],
          [
           "Neon",
           "John Mayer"
          ],
          [
           "Landslide",
           "The Smashing Pumpkins"
          ],
          [
           "Delilah",
           "Queen"
          ],
          [
           "Cant Get Enough of You Baby",
           "Smash Mouth"
          ],
          [
           "The Outlaw Torn",
           "Metallica"
          ],
          [
           "Pretend Were Dead",
           "L7"
          ],
          [
           "So How Come No One Loves Me",
           "The Beatles"
          ],
          [
           "Ghost of a Chance",
           "Rush"
          ],
          [
           "Mary-Christ",
           "Sonic Youth"
          ],
          [
           "Sleep Together",
           "Garbage"
          ],
          [
           "Meet James Ensor",
           "They Might Be Giants"
          ],
          [
           "Dreamtime",
           "Coal Chamber"
          ],
          [
           "Jezebel",
           "Acid Bath"
          ],
          [
           "Dimensions Of Thy Unforgiven Sins Part II",
           "Abigor"
          ],
          [
           "Nocturnal",
           "Tiger Army"
          ],
          [
           "Ben",
           "Avail"
          ],
          [
           "For Your Lungs Only",
           "Alkaline Trio"
          ],
          [
           "Do It Again",
           "Tori Amos"
          ],
          [
           "Its a Mystery",
           "Bob Seger"
          ],
          [
           "Zebra Zombies",
           "Soilent Green"
          ],
          [
           "Brunette Summer",
           "Chixdiggit!"
          ],
          [
           "Together",
           "Samael"
          ],
          [
           "I Feel",
           "The Sundays"
          ],
          [
           "One Time Too Many",
           "PJ Harvey"
          ],
          [
           "Fripp",
           "Catherine Wheel"
          ],
          [
           "Beyond the Grave",
           "Varathron"
          ],
          [
           "Stripper Vicar",
           "Mansun"
          ],
          [
           "What Do You Want?",
           "The Mr. T Experience"
          ],
          [
           "Put Your Hand In My Hand",
           "Lungfish"
          ],
          [
           "Jailer Bring Me Water",
           "The Brandos"
          ],
          [
           "Doing the Obvious",
           "Cows"
          ],
          [
           "Far From Comfort",
           "Twothirtyeight"
          ],
          [
           "Friendship Song",
           "Barney"
          ],
          [
           "Tongues",
           "Dark Tranquillity"
          ],
          [
           "Venus Lacy",
           "Team Dresch"
          ],
          [
           "In Parallel Horizons",
           "Kataklysm"
          ],
          [
           "Our House",
           "The Young Gods"
          ],
          [
           "Meat Train",
           "Cancer (band)"
          ],
          [
           "Hangman Swing",
           "Asphalt Ballet"
          ],
          [
           "Gamma Ray Edited Version",
           "Gamma Ray"
          ],
          [
           "Carolyn",
           "The Wedding Present"
          ],
          [
           "From Rush Hour with Love",
           "Republica"
          ],
          [
           "Just What Can Last",
           "Songs: Ohia"
          ],
          [
           "The Indifference of Heaven",
           "Warren Zevon"
          ],
          [
           "Six Mile Water",
           "Therapy? (band)"
          ],
          [
           "Death Row",
           "Accept"
          ],
          [
           "Chance Meeting at the Tarantula",
           "John Mellencamp"
          ],
          [
           "How Will You Go",
           "Crowded House"
          ],
          [
           "The Aspiration",
           "Centinex"
          ],
          [
           "Marbles",
           "Tindersticks"
          ],
          [
           "Chopped in Half",
           "Obituary"
          ],
          [
           "Speak",
           "Sevendust"
          ],
          [
           "Academy Flight Song",
           "No Knife"
          ],
          [
           "Real Person",
           "Angels of Light"
          ],
          [
           "Slide",
           "Low"
          ],
          [
           "Butter Wouldnt Melt",
           "Embrace"
          ],
          [
           "Hold on Hope",
           "Guided by Voices"
          ],
          [
           "Solitaire",
           "Jethro Tull"
          ],
          [
           "Lust",
           "Tori Amos"
          ],
          [
           "Going to Bogota",
           "The Mountain Goats"
          ],
          [
           "Bullituary Remix",
           "Obituary"
          ],
          [
           "The Wind That Shakes the Barley",
           "Dead Can Dance"
          ],
          [
           "When you dont see me - remix",
           "The Sisters of Mercy"
          ],
          [
           "Endangered Species",
           "Sepultura"
          ],
          [
           "Smash Divisions",
           "Disrupt"
          ],
          [
           "Arms for Hostages / Country at War demo",
           "X"
          ],
          [
           "Jims Killer Demo Version",
           "Goodbye Mr. Mackenzie"
          ],
          [
           "Dudebox",
           "Billy Talent"
          ],
          [
           "Leave Me",
           "Kleenex Girl Wonder"
          ],
          [
           "Sticks and Stones",
           "Wes King"
          ],
          [
           "Rnr Hall of Fame",
           "Thomas Jefferson Slave Apartments"
          ],
          [
           "Sucker of Pistol City",
           "Guided by Voices"
          ],
          [
           "Hard Times in New York Town Witmark Demo - 1962",
           "Bob Dylan"
          ],
          [
           "Im a War",
           "Pram"
          ],
          [
           "Muffin Man YCDTOSA 6",
           "Frank Zappa"
          ],
          [
           "Flatware",
           "Pencil"
          ],
          [
           "Perv",
           "Demonix"
          ],
          [
           "Hopeless",
           "Ozma"
          ],
          [
           "Talk to Me",
           "Mystery (BE)"
          ],
          [
           "Motorcyclist",
           "Cartoon (AUS)"
          ],
          [
           "Don’t Run Away",
           "Roko (Band)"
          ],
          [
           "Im Deranged Jungle Mix",
           "David Bowie"
          ],
          [
           "You Said I Love You First",
           "Smokin' Joe Kubek & Bnois King"
          ],
          [
           "Pat and Atom are Friends",
           "Atom and His Package"
          ],
          [
           "Oh Purckerlips Now",
           "The Ex (Punk Band)"
          ],
          [
           "Guerrillas Proud to Commit Commercial Suicide",
           "Nailbomb"
          ],
          [
           "Dolphin Undertaker Version",
           "Prince"
          ],
          [
           "Matthew Wants To Take a Piss",
           "The Rabbit Joint"
          ],
          [
           "You Again",
           "Little Nemo"
          ],
          [
           "Standing in the Swing",
           "Marillion"
          ],
          [
           "Infant Technology",
           "Milemarker"
          ],
          [
           "SADC",
           "Metal Orizon"
          ],
          [
           "Born in This Town",
           "Shdy (AOR)"
          ],
          [
           "Devastating Daydream",
           "Seraiah"
          ],
          [
           "Get The Fuck Outa My Home",
           "The Reatards"
          ],
          [
           "Looks Like Rain Live at Raceway Park in Englishtown New Jersey September 3 1977",
           "The Grateful Dead"
          ]
         ],
         "hovertemplate": "title: %{customdata[0]}<br>artist: %{customdata[1]}<br>log(words): %{y}",
         "name": "rock",
         "type": "box",
         "xaxis": "x2",
         "y": [
          4.6443908991413725,
          4.382026634673881,
          4.406719247264253,
          4.0943445622221,
          4.2626798770413155,
          4.007333185232471,
          4.356708826689592,
          3.912023005428146,
          3.5553480614894135,
          4.454347296253507,
          4.553876891600541,
          4.189654742026425,
          4.174387269895637,
          3.8066624897703196,
          4.8283137373023015,
          4.394449154672439,
          4.110873864173311,
          3.9889840465642745,
          3.8066624897703196,
          4.787491742782046,
          4.343805421853684,
          4.30406509320417,
          4.442651256490317,
          4.382026634673881,
          4.564348191467836,
          3.295836866004329,
          4.219507705176107,
          4.68213122712422,
          4.875197323201151,
          4.787491742782046,
          3.295836866004329,
          3.7376696182833684,
          3.6375861597263857,
          3.6375861597263857,
          3.6375861597263857,
          4.8283137373023015,
          3.1354942159291497,
          5.293304824724492,
          3.2188758248682006,
          4.290459441148391,
          4.574710978503383,
          4.564348191467836,
          4.31748811353631,
          4.219507705176107,
          2.70805020110221,
          4.634728988229636,
          4.564348191467836,
          4.653960350157523,
          4.882801922586371,
          4.276666119016055,
          4.143134726391533,
          5.187385805840755,
          2.9444389791664403,
          3.912023005428146,
          4.0943445622221,
          4.276666119016055,
          3.295836866004329,
          3.9318256327243257,
          4.330733340286331,
          4.394449154672439,
          4.2626798770413155,
          4.406719247264253,
          5.594711379601839,
          4.770684624465665,
          4.343805421853684,
          3.871201010907891,
          4.060443010546419,
          4.882801922586371,
          4.442651256490317,
          4.700480365792417,
          4.795790545596741,
          4.189654742026425,
          4.060443010546419,
          4.418840607796598,
          5.030437921392435,
          4.2626798770413155,
          4.770684624465665,
          3.8501476017100584,
          3.295836866004329,
          3.713572066704308,
          4.59511985013459,
          4.59511985013459,
          4.418840607796598,
          3.9889840465642745,
          4.2626798770413155,
          4.454347296253507,
          5.204006687076795,
          3.970291913552122,
          3.9889840465642745,
          4.189654742026425,
          3.784189633918261,
          3.871201010907891,
          3.4339872044851463,
          4.110873864173311,
          4.6443908991413725,
          4.727387818712341,
          3.4339872044851463,
          4.736198448394496
         ],
         "yaxis": "y2"
        }
       ],
       "layout": {
        "annotations": [
         {
          "font": {
           "size": 16
          },
          "showarrow": false,
          "text": "1980",
          "x": 0.225,
          "xanchor": "center",
          "xref": "paper",
          "y": 1,
          "yanchor": "bottom",
          "yref": "paper"
         },
         {
          "font": {
           "size": 16
          },
          "showarrow": false,
          "text": "1990",
          "x": 0.775,
          "xanchor": "center",
          "xref": "paper",
          "y": 1,
          "yanchor": "bottom",
          "yref": "paper"
         },
         {
          "font": {
           "size": 16
          },
          "showarrow": false,
          "text": "tags",
          "x": 0.5,
          "xanchor": "center",
          "xref": "paper",
          "y": 0,
          "yanchor": "top",
          "yref": "paper",
          "yshift": -30
         },
         {
          "font": {
           "size": 16
          },
          "showarrow": false,
          "text": "log(unique words)",
          "textangle": -90,
          "x": 0,
          "xanchor": "right",
          "xref": "paper",
          "xshift": -40,
          "y": 0.5,
          "yanchor": "middle",
          "yref": "paper"
         }
        ],
        "template": {
         "data": {
          "bar": [
           {
            "error_x": {
             "color": "#2a3f5f"
            },
            "error_y": {
             "color": "#2a3f5f"
            },
            "marker": {
             "line": {
              "color": "#E5ECF6",
              "width": 0.5
             },
             "pattern": {
              "fillmode": "overlay",
              "size": 10,
              "solidity": 0.2
             }
            },
            "type": "bar"
           }
          ],
          "barpolar": [
           {
            "marker": {
             "line": {
              "color": "#E5ECF6",
              "width": 0.5
             },
             "pattern": {
              "fillmode": "overlay",
              "size": 10,
              "solidity": 0.2
             }
            },
            "type": "barpolar"
           }
          ],
          "carpet": [
           {
            "aaxis": {
             "endlinecolor": "#2a3f5f",
             "gridcolor": "white",
             "linecolor": "white",
             "minorgridcolor": "white",
             "startlinecolor": "#2a3f5f"
            },
            "baxis": {
             "endlinecolor": "#2a3f5f",
             "gridcolor": "white",
             "linecolor": "white",
             "minorgridcolor": "white",
             "startlinecolor": "#2a3f5f"
            },
            "type": "carpet"
           }
          ],
          "choropleth": [
           {
            "colorbar": {
             "outlinewidth": 0,
             "ticks": ""
            },
            "type": "choropleth"
           }
          ],
          "contour": [
           {
            "colorbar": {
             "outlinewidth": 0,
             "ticks": ""
            },
            "colorscale": [
             [
              0,
              "#0d0887"
             ],
             [
              0.1111111111111111,
              "#46039f"
             ],
             [
              0.2222222222222222,
              "#7201a8"
             ],
             [
              0.3333333333333333,
              "#9c179e"
             ],
             [
              0.4444444444444444,
              "#bd3786"
             ],
             [
              0.5555555555555556,
              "#d8576b"
             ],
             [
              0.6666666666666666,
              "#ed7953"
             ],
             [
              0.7777777777777778,
              "#fb9f3a"
             ],
             [
              0.8888888888888888,
              "#fdca26"
             ],
             [
              1,
              "#f0f921"
             ]
            ],
            "type": "contour"
           }
          ],
          "contourcarpet": [
           {
            "colorbar": {
             "outlinewidth": 0,
             "ticks": ""
            },
            "type": "contourcarpet"
           }
          ],
          "heatmap": [
           {
            "colorbar": {
             "outlinewidth": 0,
             "ticks": ""
            },
            "colorscale": [
             [
              0,
              "#0d0887"
             ],
             [
              0.1111111111111111,
              "#46039f"
             ],
             [
              0.2222222222222222,
              "#7201a8"
             ],
             [
              0.3333333333333333,
              "#9c179e"
             ],
             [
              0.4444444444444444,
              "#bd3786"
             ],
             [
              0.5555555555555556,
              "#d8576b"
             ],
             [
              0.6666666666666666,
              "#ed7953"
             ],
             [
              0.7777777777777778,
              "#fb9f3a"
             ],
             [
              0.8888888888888888,
              "#fdca26"
             ],
             [
              1,
              "#f0f921"
             ]
            ],
            "type": "heatmap"
           }
          ],
          "heatmapgl": [
           {
            "colorbar": {
             "outlinewidth": 0,
             "ticks": ""
            },
            "colorscale": [
             [
              0,
              "#0d0887"
             ],
             [
              0.1111111111111111,
              "#46039f"
             ],
             [
              0.2222222222222222,
              "#7201a8"
             ],
             [
              0.3333333333333333,
              "#9c179e"
             ],
             [
              0.4444444444444444,
              "#bd3786"
             ],
             [
              0.5555555555555556,
              "#d8576b"
             ],
             [
              0.6666666666666666,
              "#ed7953"
             ],
             [
              0.7777777777777778,
              "#fb9f3a"
             ],
             [
              0.8888888888888888,
              "#fdca26"
             ],
             [
              1,
              "#f0f921"
             ]
            ],
            "type": "heatmapgl"
           }
          ],
          "histogram": [
           {
            "marker": {
             "pattern": {
              "fillmode": "overlay",
              "size": 10,
              "solidity": 0.2
             }
            },
            "type": "histogram"
           }
          ],
          "histogram2d": [
           {
            "colorbar": {
             "outlinewidth": 0,
             "ticks": ""
            },
            "colorscale": [
             [
              0,
              "#0d0887"
             ],
             [
              0.1111111111111111,
              "#46039f"
             ],
             [
              0.2222222222222222,
              "#7201a8"
             ],
             [
              0.3333333333333333,
              "#9c179e"
             ],
             [
              0.4444444444444444,
              "#bd3786"
             ],
             [
              0.5555555555555556,
              "#d8576b"
             ],
             [
              0.6666666666666666,
              "#ed7953"
             ],
             [
              0.7777777777777778,
              "#fb9f3a"
             ],
             [
              0.8888888888888888,
              "#fdca26"
             ],
             [
              1,
              "#f0f921"
             ]
            ],
            "type": "histogram2d"
           }
          ],
          "histogram2dcontour": [
           {
            "colorbar": {
             "outlinewidth": 0,
             "ticks": ""
            },
            "colorscale": [
             [
              0,
              "#0d0887"
             ],
             [
              0.1111111111111111,
              "#46039f"
             ],
             [
              0.2222222222222222,
              "#7201a8"
             ],
             [
              0.3333333333333333,
              "#9c179e"
             ],
             [
              0.4444444444444444,
              "#bd3786"
             ],
             [
              0.5555555555555556,
              "#d8576b"
             ],
             [
              0.6666666666666666,
              "#ed7953"
             ],
             [
              0.7777777777777778,
              "#fb9f3a"
             ],
             [
              0.8888888888888888,
              "#fdca26"
             ],
             [
              1,
              "#f0f921"
             ]
            ],
            "type": "histogram2dcontour"
           }
          ],
          "mesh3d": [
           {
            "colorbar": {
             "outlinewidth": 0,
             "ticks": ""
            },
            "type": "mesh3d"
           }
          ],
          "parcoords": [
           {
            "line": {
             "colorbar": {
              "outlinewidth": 0,
              "ticks": ""
             }
            },
            "type": "parcoords"
           }
          ],
          "pie": [
           {
            "automargin": true,
            "type": "pie"
           }
          ],
          "scatter": [
           {
            "fillpattern": {
             "fillmode": "overlay",
             "size": 10,
             "solidity": 0.2
            },
            "type": "scatter"
           }
          ],
          "scatter3d": [
           {
            "line": {
             "colorbar": {
              "outlinewidth": 0,
              "ticks": ""
             }
            },
            "marker": {
             "colorbar": {
              "outlinewidth": 0,
              "ticks": ""
             }
            },
            "type": "scatter3d"
           }
          ],
          "scattercarpet": [
           {
            "marker": {
             "colorbar": {
              "outlinewidth": 0,
              "ticks": ""
             }
            },
            "type": "scattercarpet"
           }
          ],
          "scattergeo": [
           {
            "marker": {
             "colorbar": {
              "outlinewidth": 0,
              "ticks": ""
             }
            },
            "type": "scattergeo"
           }
          ],
          "scattergl": [
           {
            "marker": {
             "colorbar": {
              "outlinewidth": 0,
              "ticks": ""
             }
            },
            "type": "scattergl"
           }
          ],
          "scattermapbox": [
           {
            "marker": {
             "colorbar": {
              "outlinewidth": 0,
              "ticks": ""
             }
            },
            "type": "scattermapbox"
           }
          ],
          "scatterpolar": [
           {
            "marker": {
             "colorbar": {
              "outlinewidth": 0,
              "ticks": ""
             }
            },
            "type": "scatterpolar"
           }
          ],
          "scatterpolargl": [
           {
            "marker": {
             "colorbar": {
              "outlinewidth": 0,
              "ticks": ""
             }
            },
            "type": "scatterpolargl"
           }
          ],
          "scatterternary": [
           {
            "marker": {
             "colorbar": {
              "outlinewidth": 0,
              "ticks": ""
             }
            },
            "type": "scatterternary"
           }
          ],
          "surface": [
           {
            "colorbar": {
             "outlinewidth": 0,
             "ticks": ""
            },
            "colorscale": [
             [
              0,
              "#0d0887"
             ],
             [
              0.1111111111111111,
              "#46039f"
             ],
             [
              0.2222222222222222,
              "#7201a8"
             ],
             [
              0.3333333333333333,
              "#9c179e"
             ],
             [
              0.4444444444444444,
              "#bd3786"
             ],
             [
              0.5555555555555556,
              "#d8576b"
             ],
             [
              0.6666666666666666,
              "#ed7953"
             ],
             [
              0.7777777777777778,
              "#fb9f3a"
             ],
             [
              0.8888888888888888,
              "#fdca26"
             ],
             [
              1,
              "#f0f921"
             ]
            ],
            "type": "surface"
           }
          ],
          "table": [
           {
            "cells": {
             "fill": {
              "color": "#EBF0F8"
             },
             "line": {
              "color": "white"
             }
            },
            "header": {
             "fill": {
              "color": "#C8D4E3"
             },
             "line": {
              "color": "white"
             }
            },
            "type": "table"
           }
          ]
         },
         "layout": {
          "annotationdefaults": {
           "arrowcolor": "#2a3f5f",
           "arrowhead": 0,
           "arrowwidth": 1
          },
          "autotypenumbers": "strict",
          "coloraxis": {
           "colorbar": {
            "outlinewidth": 0,
            "ticks": ""
           }
          },
          "colorscale": {
           "diverging": [
            [
             0,
             "#8e0152"
            ],
            [
             0.1,
             "#c51b7d"
            ],
            [
             0.2,
             "#de77ae"
            ],
            [
             0.3,
             "#f1b6da"
            ],
            [
             0.4,
             "#fde0ef"
            ],
            [
             0.5,
             "#f7f7f7"
            ],
            [
             0.6,
             "#e6f5d0"
            ],
            [
             0.7,
             "#b8e186"
            ],
            [
             0.8,
             "#7fbc41"
            ],
            [
             0.9,
             "#4d9221"
            ],
            [
             1,
             "#276419"
            ]
           ],
           "sequential": [
            [
             0,
             "#0d0887"
            ],
            [
             0.1111111111111111,
             "#46039f"
            ],
            [
             0.2222222222222222,
             "#7201a8"
            ],
            [
             0.3333333333333333,
             "#9c179e"
            ],
            [
             0.4444444444444444,
             "#bd3786"
            ],
            [
             0.5555555555555556,
             "#d8576b"
            ],
            [
             0.6666666666666666,
             "#ed7953"
            ],
            [
             0.7777777777777778,
             "#fb9f3a"
            ],
            [
             0.8888888888888888,
             "#fdca26"
            ],
            [
             1,
             "#f0f921"
            ]
           ],
           "sequentialminus": [
            [
             0,
             "#0d0887"
            ],
            [
             0.1111111111111111,
             "#46039f"
            ],
            [
             0.2222222222222222,
             "#7201a8"
            ],
            [
             0.3333333333333333,
             "#9c179e"
            ],
            [
             0.4444444444444444,
             "#bd3786"
            ],
            [
             0.5555555555555556,
             "#d8576b"
            ],
            [
             0.6666666666666666,
             "#ed7953"
            ],
            [
             0.7777777777777778,
             "#fb9f3a"
            ],
            [
             0.8888888888888888,
             "#fdca26"
            ],
            [
             1,
             "#f0f921"
            ]
           ]
          },
          "colorway": [
           "#636efa",
           "#EF553B",
           "#00cc96",
           "#ab63fa",
           "#FFA15A",
           "#19d3f3",
           "#FF6692",
           "#B6E880",
           "#FF97FF",
           "#FECB52"
          ],
          "font": {
           "color": "#2a3f5f"
          },
          "geo": {
           "bgcolor": "white",
           "lakecolor": "white",
           "landcolor": "#E5ECF6",
           "showlakes": true,
           "showland": true,
           "subunitcolor": "white"
          },
          "hoverlabel": {
           "align": "left"
          },
          "hovermode": "closest",
          "mapbox": {
           "style": "light"
          },
          "paper_bgcolor": "white",
          "plot_bgcolor": "#E5ECF6",
          "polar": {
           "angularaxis": {
            "gridcolor": "white",
            "linecolor": "white",
            "ticks": ""
           },
           "bgcolor": "#E5ECF6",
           "radialaxis": {
            "gridcolor": "white",
            "linecolor": "white",
            "ticks": ""
           }
          },
          "scene": {
           "xaxis": {
            "backgroundcolor": "#E5ECF6",
            "gridcolor": "white",
            "gridwidth": 2,
            "linecolor": "white",
            "showbackground": true,
            "ticks": "",
            "zerolinecolor": "white"
           },
           "yaxis": {
            "backgroundcolor": "#E5ECF6",
            "gridcolor": "white",
            "gridwidth": 2,
            "linecolor": "white",
            "showbackground": true,
            "ticks": "",
            "zerolinecolor": "white"
           },
           "zaxis": {
            "backgroundcolor": "#E5ECF6",
            "gridcolor": "white",
            "gridwidth": 2,
            "linecolor": "white",
            "showbackground": true,
            "ticks": "",
            "zerolinecolor": "white"
           }
          },
          "shapedefaults": {
           "line": {
            "color": "#2a3f5f"
           }
          },
          "ternary": {
           "aaxis": {
            "gridcolor": "white",
            "linecolor": "white",
            "ticks": ""
           },
           "baxis": {
            "gridcolor": "white",
            "linecolor": "white",
            "ticks": ""
           },
           "bgcolor": "#E5ECF6",
           "caxis": {
            "gridcolor": "white",
            "linecolor": "white",
            "ticks": ""
           }
          },
          "title": {
           "x": 0.05
          },
          "xaxis": {
           "automargin": true,
           "gridcolor": "white",
           "linecolor": "white",
           "ticks": "",
           "title": {
            "standoff": 15
           },
           "zerolinecolor": "white",
           "zerolinewidth": 2
          },
          "yaxis": {
           "automargin": true,
           "gridcolor": "white",
           "linecolor": "white",
           "ticks": "",
           "title": {
            "standoff": 15
           },
           "zerolinecolor": "white",
           "zerolinewidth": 2
          }
         }
        },
        "xaxis": {
         "anchor": "y",
         "domain": [
          0,
          0.45
         ]
        },
        "xaxis2": {
         "anchor": "y2",
         "domain": [
          0.55,
          1
         ]
        },
        "yaxis": {
         "anchor": "x",
         "domain": [
          0,
          1
         ]
        },
        "yaxis2": {
         "anchor": "x2",
         "domain": [
          0,
          1
         ]
        }
       }
      }
     },
     "metadata": {},
     "output_type": "display_data"
    }
   ],
   "source": [
    "words_decades(df, [1980, 1990])"
   ]
  },
  {
   "cell_type": "code",
   "execution_count": 18,
   "metadata": {},
   "outputs": [
    {
     "data": {
      "application/vnd.plotly.v1+json": {
       "config": {
        "plotlyServerURL": "https://plot.ly"
       },
       "data": [
        {
         "boxpoints": "all",
         "customdata": [
          [
           "When the Sun Goes Down",
           "Kenny Chesney"
          ],
          [
           "When The Sand Runs Out",
           "Rascal Flatts"
          ],
          [
           "Famous",
           "Eli Young Band"
          ],
          [
           "West",
           "Lucinda Williams"
          ],
          [
           "Easy",
           "Adam Harvey"
          ],
          [
           "Over You",
           "Pieta Brown"
          ],
          [
           "Captain",
           "Abigail Washburn And The Sparrow Quartet"
          ],
          [
           "I’ve Thought of Everything",
           "Daryle Singletary"
          ],
          [
           "Clean",
           "Kim Hill"
          ],
          [
           "Price of Your Advice",
           "The Giving Tree Band"
          ]
         ],
         "hovertemplate": "title: %{customdata[0]}<br>artist: %{customdata[1]}<br>log(words): %{y}",
         "name": "country",
         "type": "box",
         "xaxis": "x",
         "y": [
          4.394449154672439,
          4.8283137373023015,
          4.127134385045092,
          4.5217885770490405,
          3.784189633918261,
          3.9318256327243257,
          4.3694478524670215,
          4.6443908991413725,
          4.343805421853684,
          3.713572066704308
         ],
         "yaxis": "y"
        },
        {
         "boxpoints": "all",
         "customdata": [
          [
           "Save The Last Dance For Me",
           "Gerald Stern"
          ],
          [
           "The Power to Believe IV: Coda",
           "King Crimson"
          ],
          [
           "Cool Cocky Bad Honky Tonk Man",
           "The Honky Tonk Man (wrestler)"
          ],
          [
           "Welcome To The Theatron Animatronique",
           "Secret Chiefs 3"
          ]
         ],
         "hovertemplate": "title: %{customdata[0]}<br>artist: %{customdata[1]}<br>log(words): %{y}",
         "name": "misc",
         "type": "box",
         "xaxis": "x",
         "y": [
          5.2832037287379885,
          3.1354942159291497,
          4.204692619390966,
          4.787491742782046
         ],
         "yaxis": "y"
        },
        {
         "boxpoints": "all",
         "customdata": [
          [
           "Danger Zone",
           "Gwen Stefani"
          ],
          [
           "Candy Castle",
           "Glass Candy"
          ],
          [
           "Let Me Dance Tonight Monday Tuesday",
           "Dalida"
          ],
          [
           "The Inferno That Took His Life",
           "Abused Majesty"
          ],
          [
           "Seven Deadly Sins",
           "Absolution"
          ],
          [
           "The Path Of Sword",
           "Abused Majesty"
          ],
          [
           "Summer Hair  Forever Young",
           "The Academy Is..."
          ],
          [
           "Drinks",
           "American Heartbreak"
          ],
          [
           "Fuck Your Politics",
           "Carry On"
          ],
          [
           "Beat",
           "McAlmont & Butler"
          ],
          [
           "Snakes in My Bushes",
           "North Mississippi Allstars"
          ],
          [
           "Continuous Hit Music",
           "The American Analog Set"
          ],
          [
           "Lord Salisbury",
           "Al Stewart"
          ],
          [
           "Here Comes The Summer",
           "Kelli Ali"
          ],
          [
           "Little Terror",
           "Matthew Good"
          ],
          [
           "This Awful Contagion",
           "Vicious Alliance"
          ],
          [
           "Fathom",
           "Christ Analogue"
          ],
          [
           "Pop",
           "The Aluminum Group"
          ],
          [
           "But I Lied",
           "Tina Arena"
          ],
          [
           "Sparrow",
           "Love Outside Andromeda"
          ],
          [
           "Hello",
           "Susanna and the Magical Orchestra"
          ],
          [
           "Throat of Throats",
           "Go Back Snowball"
          ],
          [
           "When All Else Fails It Fails",
           "The Ataris"
          ],
          [
           "Save Me",
           "Behind The Scenes"
          ],
          [
           "Lifeline",
           "Autumn (Band)"
          ],
          [
           "A Virgin Like You",
           "ARK"
          ],
          [
           "Starsign",
           "Apoptygma Berzerk"
          ],
          [
           "Not Going Back",
           "Brenton Brown"
          ],
          [
           "Safe From Harm",
           "BeBe Winans"
          ],
          [
           "You Make Lovin Fun",
           "Bering Strait"
          ],
          [
           "Baby Goodbye",
           "Aqualung"
          ],
          [
           "Heinously Inconsiderate",
           "A Halo Called Fred"
          ],
          [
           "Acceptable Violence",
           "Weekend Nachos"
          ],
          [
           "I Wanna Be Married",
           "Melinda Schneider"
          ],
          [
           "Here Die Your Gods",
           "Gorod"
          ],
          [
           "Living in Space",
           "David Kilgour"
          ],
          [
           "Anal Action Wife",
           "Lividity"
          ],
          [
           "Solveigs Song",
           "Mav"
          ],
          [
           "Come to me",
           "Yukka"
          ],
          [
           "Nuclear Holocaust",
           "Cropment"
          ],
          [
           "The Dreaming Fields",
           "Trisha Yearwood"
          ],
          [
           "Luritja Way",
           "Midnight Oil"
          ],
          [
           "Stronger",
           "Jennifer Love Hewitt"
          ],
          [
           "Carried Away",
           "People Under the Stairs"
          ],
          [
           "Ive Got A Mind To Travel",
           "Albert Collins"
          ],
          [
           "Stay",
           "Bosson"
          ],
          [
           "Somewhere Beneath This Sky",
           "Mazgani"
          ],
          [
           "Eating Me Alive",
           "The Dreaming"
          ],
          [
           "Junglebook",
           "Esthero"
          ],
          [
           "Shed Your Skin",
           "Unbelievable Truth"
          ],
          [
           "Thank you",
           "Silvia Dias"
          ],
          [
           "Save Yourself",
           "Not By Choice"
          ],
          [
           "Dead",
           "Khanate"
          ],
          [
           "Due Respect",
           "Know The Score"
          ],
          [
           "Team Mate",
           "Kaiser Chiefs"
          ],
          [
           "Open Up",
           "Sleep Parade"
          ],
          [
           "Stand Sentinel",
           "John West (NY)"
          ],
          [
           "God Blinked Swing It Sister",
           "Rick Springfield"
          ],
          [
           "The Cursed Bell",
           "Natural Snow Buildings"
          ],
          [
           "Drugs",
           "At All Cost"
          ],
          [
           "Rain",
           "Madness"
          ],
          [
           "15 Minutes of Fame",
           "Suzi Quatro"
          ],
          [
           "Strife For Blood",
           "Faerghail"
          ],
          [
           "Forever And A Day",
           "Far-Less"
          ],
          [
           "Seen To Run",
           "Alaska Highway"
          ],
          [
           "Ice Ice Baby",
           "Confession"
          ],
          [
           "Last Alone",
           "Daylight Dies"
          ],
          [
           "Circle Song",
           "Jewel"
          ],
          [
           "This Pretty Girl",
           "Pedestrian (band)"
          ],
          [
           "Leave Me Alone",
           "Thanksgiving"
          ],
          [
           "Sweet Janine",
           "The Mint Chicks"
          ],
          [
           "Contradicting Words",
           "Jessie Baylin"
          ],
          [
           "Bonedust",
           "Virgin Steele"
          ],
          [
           "Ill See You In London 80s Flavour",
           "Deluxe"
          ],
          [
           "Seating Subject to Availability",
           "Forecast"
          ],
          [
           "The Key Of Love",
           "Patty Loveless"
          ],
          [
           "Shangri La",
           "Martina Topley-Bird"
          ],
          [
           "All I Want",
           "Simon Webbe"
          ],
          [
           "Telling Them",
           "Starsailor"
          ],
          [
           "Bring Me Back",
           "Spirogyra"
          ],
          [
           "When I Was Seventeen",
           "David Meece"
          ],
          [
           "Days Are Numbered",
           "Harem Scarem"
          ],
          [
           "Lonesome Road",
           "Rascal Flatts"
          ],
          [
           "Friend Was Your Name",
           "Bloody Sunday"
          ],
          [
           "The Manifesto Of The Unity",
           "Kataxu"
          ],
          [
           "Grandma",
           "Sweet Wednesday"
          ],
          [
           "Traces Of Despise",
           "Icarian"
          ],
          [
           "Mozart",
           "Trans-Siberian Orchestra"
          ],
          [
           "Take Me To The Clouds",
           "Daniel Schuhmacher"
          ],
          [
           "Columbus Wasnt Looking For America",
           "Once Nothing"
          ],
          [
           "A Message From Our Sponsors",
           "Miocene"
          ],
          [
           "Dust",
           "U.P.O."
          ],
          [
           "Time Travel Is Lonely",
           "John Vanderslice"
          ],
          [
           "Angeleyes",
           "Melody Club"
          ],
          [
           "My Wish Is Your Command",
           "Today Is the Day"
          ],
          [
           "Ooby",
           "Monster Movie"
          ],
          [
           "Invisible Motions",
           "The Arcana"
          ],
          [
           "The Lost Souls",
           "Civilization One"
          ],
          [
           "Take Me Home",
           "Ring Of Fire"
          ],
          [
           "Show Me feat. Pos from De La Soul",
           "Mint Royale"
          ],
          [
           "Ground Subzero",
           "Ingrowing"
          ],
          [
           "You Sound Like A White Boy",
           "He Is Legend"
          ],
          [
           "America",
           "Sodastream"
          ],
          [
           "Solid Iron Heart",
           "Chris Whitley"
          ],
          [
           "Sybil",
           "State Radio"
          ],
          [
           "War",
           "Headnoise"
          ],
          [
           "Humpty Dumpty",
           "Worthless United"
          ],
          [
           "I Can Feel Your Heartbeat",
           "David Cassidy"
          ],
          [
           "Cheap Whiskey",
           "Patty Loveless"
          ],
          [
           "What Will the Neighbors Think?",
           "Reagan Youth"
          ],
          [
           "I Hear Her Playing Music",
           "Barry Manilow"
          ],
          [
           "When Wolves Desire",
           "Ceremonial Castings"
          ],
          [
           "Just Be Good Bushman Dub",
           "UB40"
          ],
          [
           "Superglue",
           "Patrick Nuo"
          ],
          [
           "Orange Coloured Sky",
           "Natalia"
          ],
          [
           "Firecracker",
           "Hot IQs"
          ],
          [
           "Harder Hit",
           "Loquat"
          ],
          [
           "Long John Blues",
           "Dinah Washington"
          ],
          [
           "Slow Burn",
           "Jandek"
          ],
          [
           "As Cold As You",
           "Stevie Ann"
          ],
          [
           "A Year On An Airplane",
           "Daphne Loves Derby"
          ],
          [
           "Love Can Break Your Fall",
           "Jody McBrayer"
          ],
          [
           "Elevator To Hell",
           "Vicious Rumors"
          ],
          [
           "Bitch in Black",
           "Slstafir"
          ],
          [
           "Unbroken",
           "The Stranglers"
          ],
          [
           "Grand Finale",
           "Demon Hunter"
          ],
          [
           "Lay Lady Lay",
           "Dan Torres"
          ],
          [
           "How Many Kings",
           "Downhere"
          ],
          [
           "Destination Moon",
           "Diana Panton"
          ],
          [
           "Two Kinds of Right",
           "The Grates"
          ],
          [
           "Hiccup Song",
           "Dan Bern"
          ],
          [
           "Freds Got Slacks",
           "The Fullblast"
          ],
          [
           "Bovine Spungiform Economics",
           "Million Dead"
          ],
          [
           "Dont Take Your Love Away From Me",
           "Mull Historical Society"
          ],
          [
           "Solid Ground",
           "Josh Kelley"
          ],
          [
           "Condemning The Righteous",
           "Adora (band)"
          ],
          [
           "Fishing Song",
           "G. Love (USA)"
          ],
          [
           "Solarized",
           "Ian Brown"
          ],
          [
           "Do You Remember Memory Lane?",
           "The Oranges Band"
          ],
          [
           "Bullshit King",
           "Juliette And The Licks"
          ],
          [
           "Lovers Leap",
           "Creeper Lagoon"
          ],
          [
           "Kick The Covers",
           "Tommy Reilly"
          ],
          [
           "Through The Fire",
           "Fair Warning"
          ],
          [
           "Empty Space",
           "Paul Carrack"
          ],
          [
           "Various Stages",
           "Great Lake Swimmers"
          ],
          [
           "8th Wonder Of The World",
           "Rogue Traders"
          ],
          [
           "Unstable Boy",
           "Jay Brannan"
          ],
          [
           "Lenny Valentino",
           "Luke Haines"
          ],
          [
           "Shirt of a Ghost",
           "Katie Melua"
          ],
          [
           "Zenith",
           "Benea Reach"
          ],
          [
           "Sunset",
           "Nothing More"
          ],
          [
           "Wake Up Dead",
           "Cripper"
          ],
          [
           "Your Devoted Victim",
           "Light This City"
          ],
          [
           "Searchlights",
           "Article One"
          ],
          [
           "What Do You Want",
           "Joy Enriquez"
          ],
          [
           "You Mean That Much to Me",
           "Joann Rosario"
          ],
          [
           "Lazy",
           "LeToya Luckett"
          ],
          [
           "My Stunt Double",
           "Sam Bisbee"
          ],
          [
           "Perfect Dark",
           "Beyond Twilight"
          ],
          [
           "I Ran",
           "Terminal Choice"
          ],
          [
           "Hang On Again Til The Sun Shines NYC",
           "Steve Forbert"
          ],
          [
           "Sheep",
           "Bonnie \"Prince\" Billy"
          ],
          [
           "This Is Baghdad",
           "Bruce Cockburn"
          ],
          [
           "What Will You Do When Your Suntan Fades?",
           "Beulah"
          ],
          [
           "Tip Of The Iceberg",
           "Facing New York"
          ],
          [
           "Sunshine and Ecstasy",
           "Butterfly Jones"
          ],
          [
           "Sad Astronaut",
           "Lagwagon"
          ],
          [
           "Woody Guthrie",
           "Jimmy LaFave"
          ],
          [
           "Distance Will Save Us",
           "Madder Mortem"
          ],
          [
           "Evolution",
           "Susannah McCorkle"
          ],
          [
           "Manipulating Woman",
           "Ladyhawke"
          ],
          [
           "Out of Focus",
           "Sam Brown"
          ],
          [
           "Hear Me Now piano acoustic",
           "Boyce Avenue"
          ],
          [
           "I Dont Need No Doctor",
           "Dr. Sin"
          ],
          [
           "The Stranger",
           "Ten"
          ],
          [
           "Ghost You Know",
           "Lauren Hoffman"
          ],
          [
           "Play In Reverse",
           "Lex Land"
          ],
          [
           "Better Than You Know",
           "Deadsy"
          ],
          [
           "And We Collide",
           "Scenic"
          ],
          [
           "Only You Can Do",
           "Great White"
          ],
          [
           "Secret Room",
           "Kumm"
          ],
          [
           "My Machine",
           "Goon Moon"
          ],
          [
           "Final breakdown",
           "Itchy Poopzkid"
          ],
          [
           "S is for Susan",
           "Park"
          ],
          [
           "A Mourners Kiss",
           "Syrach"
          ],
          [
           "You Started a Fire in the Heart of a Wasted Life",
           "Echobelly"
          ],
          [
           "You Made Me Gay",
           "Gravy Train!!!!"
          ],
          [
           "Solace Amongst The Sin",
           "Xavier Rudd"
          ],
          [
           "One in My Head",
           "Andromeda"
          ],
          [
           "Gone Tomorrow",
           "Since The Flood"
          ],
          [
           "Say Hey",
           "Ira Losco"
          ],
          [
           "Banjos And Trampolines",
           "Don Peris"
          ],
          [
           "Jump Off",
           "Liquido"
          ],
          [
           "Untouchable",
           "Glenn Tilbrook"
          ],
          [
           "Beautiful Sunday",
           "Daniel O'Donnell"
          ],
          [
           "Good Times",
           "Jim O'Rourke"
          ],
          [
           "Revolt",
           "Irrational"
          ],
          [
           "Complete",
           "Parachute Band"
          ],
          [
           "Words",
           "Bebel Gilberto"
          ],
          [
           "Flames Of Love",
           "Lynn Miles"
          ],
          [
           "197",
           "Major Parkinson"
          ],
          [
           "Our Only Chance",
           "Heavenly (FRA)"
          ],
          [
           "Enter Sandman",
           "Paul Young"
          ],
          [
           "Midgardsorm",
           "Adveniat Hiems"
          ],
          [
           "Loving Me Back To Life",
           "Geri Halliwell"
          ],
          [
           "I Remember When",
           "The Coral"
          ],
          [
           "Like A Bird",
           "Love Like Blood"
          ],
          [
           "Hitched",
           "The Kills"
          ],
          [
           "Ride The Wind",
           "Double Diamond"
          ],
          [
           "Ive Got Dreams to Remember",
           "Gary U.S. Bonds"
          ],
          [
           "Beyond Because...",
           "Renderfly"
          ],
          [
           "Nonsense",
           "Cursive"
          ],
          [
           "The Jewel of Abilene",
           "Grey DeLisle"
          ],
          [
           "Everybody Loves U",
           "Sigue Sigue Sputnik"
          ],
          [
           "Open Up Your Eyes",
           "Agnes"
          ],
          [
           "Reign In Us",
           "Starfield"
          ],
          [
           "Brilliant Fake",
           "Rialto"
          ],
          [
           "The First Person on Earth",
           "Tracy Chapman"
          ],
          [
           "I Am Jesus",
           "Nightfall"
          ],
          [
           "In My Room Wolfpac Remix",
           "Insane Clown Posse"
          ],
          [
           "Wasted Remix",
           "Cartel"
          ],
          [
           "I Dont Feel Like Dancin Paper Faces Remix",
           "Scissor Sisters"
          ],
          [
           "Just Like This",
           "Webbie"
          ],
          [
           "One Sweet World / Happy Birthday",
           "Dave Matthews Band"
          ],
          [
           "Walking in the Shadow of the Blues Live Version",
           "Whitesnake"
          ],
          [
           "I’ve Got a Girl",
           "Nelson Freitas"
          ],
          [
           "You need a hug",
           "Oceana"
          ],
          [
           "Hounds of heaven",
           "Jesse Woods"
          ],
          [
           "Christmas time",
           "Go Fish"
          ],
          [
           "Passerby - live at madison square garden",
           "Dispatch"
          ],
          [
           "Going down that lonely road",
           "Jim strk"
          ],
          [
           "Exit",
           "Marsheaux"
          ],
          [
           "You",
           "21:03"
          ],
          [
           "Let there be peace",
           "Chris Murray"
          ],
          [
           "Beautiful",
           "Karsh Kale"
          ],
          [
           "Tropicalia",
           "Eliane Elias"
          ],
          [
           "The way we celebrate new years",
           "Michael Franks"
          ],
          [
           "The President Wore Pearls Medley",
           "The Simpsons"
          ],
          [
           "Ive got the world on a string",
           "Anita O'Day"
          ],
          [
           "Blame It On Me Radio Edit",
           "Maria Mena"
          ],
          [
           "Snow Angels",
           "Clare Means"
          ],
          [
           "Mold Jæp",
           "Tonstartssbandht"
          ],
          [
           "Surprise",
           "Mel Brooks"
          ],
          [
           "No Magic Show",
           "Breanne Dren"
          ],
          [
           "Free Your Mind",
           "Maliq & D'Essentials"
          ],
          [
           "Whiskey in the Jar Still Rowing version",
           "The Highwaymen (Folk)"
          ],
          [
           "Theres Something Wrong Here",
           "Taylor Horn"
          ],
          [
           "Be My Boyfriend",
           "Banaroo"
          ],
          [
           "Transparent Me",
           "Green Carnation"
          ],
          [
           "To Be A Princess Reprise",
           "Barbie"
          ],
          [
           "True Till College",
           "Project Rocket"
          ],
          [
           "Its Only Love",
           "Gino Vannelli"
          ],
          [
           "Drown in a Natural Light",
           "Biffy Clyro"
          ],
          [
           "Limbs Various Production Vs. Emma Pollock",
           "Emma Pollock"
          ],
          [
           "Hell Take Care of You",
           "Kim Hill"
          ],
          [
           "Long Way",
           "Evan Olson"
          ],
          [
           "The Man I Love",
           "Zizi Possi"
          ],
          [
           "The Big Dollhouse",
           "Original Broadway Cast Of Hairspray"
          ],
          [
           "Seeker its in the one in TVS pack",
           "Digadeezips"
          ],
          [
           "Love Lifted Me",
           "Merle Haggard"
          ],
          [
           "Fail Us Not",
           "1000 Generations"
          ],
          [
           "Traveling Riverside Blues",
           "Peter Green Splinter Group"
          ],
          [
           "Debt Is Only What You Make Of It",
           "Marc With a C"
          ],
          [
           "Youll Never Walk Alone",
           "Alfie Boe"
          ],
          [
           "Let It Be Me",
           "Paul Weller"
          ],
          [
           "Southern Lady",
           "Nancy Sinatra"
          ],
          [
           "Pizza Party at the Center of the Earth",
           "Lima Research Society."
          ],
          [
           "Push It To Me",
           "Vybz Kartel"
          ],
          [
           "Arabia Lights",
           "Adron"
          ],
          [
           "Hollywood Calderone  Quayle Glam Mix",
           "Madonna"
          ],
          [
           "Walking Heart Attack",
           "Four Letter Lie"
          ],
          [
           "Pretty Little Picture",
           "Stephen Sondheim"
          ],
          [
           "Set Me Free",
           "Maxi Priest"
          ],
          [
           "Las Vegas",
           "Vinter In Hollywood"
          ],
          [
           "Divine Revelation",
           "Ronnie Freeman"
          ]
         ],
         "hovertemplate": "title: %{customdata[0]}<br>artist: %{customdata[1]}<br>log(words): %{y}",
         "name": "pop",
         "type": "box",
         "xaxis": "x",
         "y": [
          4.634728988229636,
          4.454347296253507,
          4.442651256490317,
          4.532599493153256,
          4.672828834461906,
          5.181783550292085,
          4.454347296253507,
          4.110873864173311,
          3.9889840465642745,
          4.499809670330265,
          3.970291913552122,
          3.1354942159291497,
          4.787491742782046,
          4.143134726391533,
          3.4965075614664802,
          4.343805421853684,
          4.634728988229636,
          4.584967478670572,
          4.787491742782046,
          4.634728988229636,
          3.7612001156935624,
          4.04305126783455,
          4.74493212836325,
          3.1354942159291497,
          4.700480365792417,
          4.532599493153256,
          4.663439094112067,
          2.5649493574615367,
          4.276666119016055,
          3.9512437185814275,
          4.465908118654584,
          4.61512051684126,
          4.248495242049359,
          4.1588830833596715,
          4.804021044733257,
          3.7612001156935624,
          4.574710978503383,
          3.4339872044851463,
          4.624972813284271,
          4.48863636973214,
          4.727387818712341,
          4.330733340286331,
          4.836281906951478,
          5.293304824724492,
          3.828641396489095,
          4.574710978503383,
          4.007333185232471,
          4.143134726391533,
          4.68213122712422,
          4.07753744390572,
          4.51085950651685,
          4.07753744390572,
          3.6375861597263857,
          3.784189633918261,
          3.9318256327243257,
          3.970291913552122,
          4.672828834461906,
          4.430816798843313,
          3.4339872044851463,
          4.8283137373023015,
          4.143134726391533,
          4.564348191467836,
          4.418840607796598,
          3.8918202981106265,
          4.465908118654584,
          4.700480365792417,
          3.4965075614664802,
          4.30406509320417,
          4.762173934797756,
          3.871201010907891,
          4.110873864173311,
          4.1588830833596715,
          4.6913478822291435,
          4.454347296253507,
          4.189654742026425,
          4.7535901911063645,
          4.330733340286331,
          4.574710978503383,
          4.276666119016055,
          3.9889840465642745,
          4.634728988229636,
          4.394449154672439,
          4.127134385045092,
          4.61512051684126,
          5.44673737166631,
          5.14166355650266,
          4.248495242049359,
          3.7376696182833684,
          4.356708826689592,
          4.219507705176107,
          4.882801922586371,
          3.784189633918261,
          3.7376696182833684,
          3.8501476017100584,
          3.9889840465642745,
          3.871201010907891,
          4.07753744390572,
          3.9318256327243257,
          4.68213122712422,
          4.718498871295094,
          4.61512051684126,
          4.418840607796598,
          4.174387269895637,
          3.9889840465642745,
          4.48863636973214,
          4.653960350157523,
          4.276666119016055,
          3.9512437185814275,
          4.382026634673881,
          3.9512437185814275,
          4.787491742782046,
          4.382026634673881,
          4.836281906951478,
          4.394449154672439,
          4.204692619390966,
          4.07753744390572,
          4.736198448394496,
          4.663439094112067,
          4.248495242049359,
          4.07753744390572,
          4.787491742782046,
          4.6443908991413725,
          4.23410650459726,
          4.736198448394496,
          4.605170185988092,
          4.718498871295094,
          4.31748811353631,
          4.454347296253507,
          4.2626798770413155,
          4.634728988229636,
          3.1780538303479458,
          4.394449154672439,
          4.836281906951478,
          3.9318256327243257,
          4.442651256490317,
          4.454347296253507,
          4.406719247264253,
          4.07753744390572,
          3.784189633918261,
          4.276666119016055,
          4.04305126783455,
          4.189654742026425,
          4.3694478524670215,
          4.477336814478207,
          4.382026634673881,
          4.672828834461906,
          5.0238805208462765,
          4.2626798770413155,
          4.477336814478207,
          4.0943445622221,
          4.343805421853684,
          4.51085950651685,
          5.298317366548036,
          4.532599493153256,
          4.543294782270004,
          4.442651256490317,
          4.890349128221754,
          4.672828834461906,
          4.875197323201151,
          4.219507705176107,
          3.912023005428146,
          4.912654885736052,
          4.624972813284271,
          4.564348191467836,
          4.727387818712341,
          4.418840607796598,
          4.605170185988092,
          4.356708826689592,
          4.584967478670572,
          4.6443908991413725,
          4.477336814478207,
          3.871201010907891,
          4.07753744390572,
          3.828641396489095,
          4.867534450455582,
          4.499809670330265,
          5.153291594497779,
          4.6913478822291435,
          4.174387269895637,
          4.382026634673881,
          4.110873864173311,
          3.912023005428146,
          4.859812404361672,
          4.553876891600541,
          4.897839799950911,
          4.174387269895637,
          5.272999558563747,
          4.330733340286331,
          4.762173934797756,
          4.6443908991413725,
          4.356708826689592,
          3.9318256327243257,
          4.382026634673881,
          4.634728988229636,
          4.007333185232471,
          4.248495242049359,
          4.454347296253507,
          4.127134385045092,
          4.219507705176107,
          4.787491742782046,
          5.123963979403259,
          4.875197323201151,
          4.543294782270004,
          3.784189633918261,
          4.442651256490317,
          4.418840607796598,
          3.9512437185814275,
          4.04305126783455,
          4.23410650459726,
          4.330733340286331,
          4.430816798843313,
          4.30406509320417,
          4.02535169073515,
          3.4657359027997265,
          4.718498871295094,
          4.406719247264253,
          4.204692619390966,
          4.584967478670572,
          4.02535169073515,
          5.44673737166631,
          4.948759890378168,
          4.997212273764115,
          5.170483995038151,
          4.343805421853684,
          4.465908118654584,
          4.74493212836325,
          4.394449154672439,
          4.248495242049359,
          4.442651256490317,
          4.343805421853684,
          4.3694478524670215,
          3.58351893845611,
          4.852030263919617,
          4.219507705176107,
          4.189654742026425,
          4.564348191467836,
          5.25227342804663,
          5.19295685089021,
          3.8501476017100584,
          4.1588830833596715,
          4.060443010546419,
          3.784189633918261,
          5.0238805208462765,
          3.9889840465642745,
          4.04305126783455,
          4.890349128221754,
          4.5217885770490405,
          4.31748811353631,
          4.532599493153256,
          3.295836866004329,
          4.174387269895637,
          5.043425116919247,
          3.5553480614894135,
          3.871201010907891,
          4.143134726391533,
          4.343805421853684,
          4.31748811353631,
          5.170483995038151,
          3.912023005428146,
          4.499809670330265,
          4.418840607796598,
          4.356708826689592,
          4.442651256490317,
          3.7376696182833684,
          3.9318256327243257,
          4.465908118654584,
          4.007333185232471,
          5.0106352940962555,
          3.044522437723423,
          4.1588830833596715,
          4.77912349311153,
          5.117993812416755,
          4.762173934797756,
          3.828641396489095,
          4.672828834461906
         ],
         "yaxis": "y"
        },
        {
         "boxpoints": "all",
         "customdata": [
          [
           "Blood Out",
           "Axe Murder Boyz"
          ],
          [
           "Fire",
           "Busta Rhymes"
          ],
          [
           "Rollin",
           "Black Knights"
          ],
          [
           "Wanderland",
           "Danny Swain"
          ],
          [
           "Its Dat Gangsta Shit",
           "Daz Dillinger"
          ],
          [
           "Industry",
           "DMX"
          ],
          [
           "Roc-Da-Spot",
           "EPMD"
          ],
          [
           "T.O.S.",
           "G-Unit"
          ],
          [
           "What It Is Strike a Pose",
           "Lil' Mama"
          ],
          [
           "Life We Live",
           "Project Pat"
          ],
          [
           "No Guts No Glory",
           "Snowgoons"
          ],
          [
           "If it Aint Broke",
           "Screwed Up Click"
          ],
          [
           "Bonafide Hustler",
           "Young Buck"
          ],
          [
           "Penny Pinchin",
           "Young Buck"
          ],
          [
           "Apply Pressure",
           "Cassidy"
          ],
          [
           "I Wont Let It Die",
           "Ugly Duckling"
          ],
          [
           "Blow My Mind",
           "Lil Wayne"
          ],
          [
           "Give It Up",
           "Doujah Raze"
          ],
          [
           "Crumble",
           "Sage Francis"
          ],
          [
           "I Gotta Habit",
           "Max B"
          ],
          [
           "Bitchassness",
           "Swifty McVay"
          ],
          [
           "What U Want From Me",
           "Anybody Killa"
          ],
          [
           "Pit Stop",
           "Tinchy Stryder"
          ],
          [
           "Wonderin Why",
           "TobyMac"
          ],
          [
           "Lip Gloss Single Mix",
           "Lil' Mama"
          ],
          [
           "Dollhouse",
           "Tyler Joseph"
          ],
          [
           "Seal Killa",
           "C-Rayz Walz"
          ],
          [
           "Freestyle",
           "Danny Brown"
          ],
          [
           "Electrobugs",
           "K-the-i???"
          ],
          [
           "We Thuggin",
           "Kool Savas"
          ],
          [
           "Post Up in the Parking Lot",
           "Boosie Badazz"
          ],
          [
           "Little People With Burdens",
           "Willie D"
          ],
          [
           "Ay Ay Ay",
           "Sapient"
          ],
          [
           "Building Blocks",
           "Zion I"
          ],
          [
           "The Gospel Ft. Chuck Missler",
           "JayEss"
          ],
          [
           "¡Get Up Punk 0200 Hrs. Joint Special Operations Task Force",
           "General Patton Vs. The X-Ecutioners"
          ],
          [
           "You Dont Know Mec",
           "DJ Semtex"
          ],
          [
           "End of the World",
           "Dual Core"
          ],
          [
           "Christmas King",
           "Vybz Kartel"
          ],
          [
           "Good Fresh Down Time",
           "Grandmaster Caz"
          ],
          [
           "Push",
           "Kelechi Ohia"
          ],
          [
           "Intro Dirty Money What",
           "Nicki Minaj"
          ]
         ],
         "hovertemplate": "title: %{customdata[0]}<br>artist: %{customdata[1]}<br>log(words): %{y}",
         "name": "rap",
         "type": "box",
         "xaxis": "x",
         "y": [
          3.367295829986474,
          5.318119993844216,
          5.703782474656201,
          5.780743515792329,
          5.602118820879701,
          5.356586274672012,
          5.4638318050256105,
          5.583496308781699,
          5.488937726156687,
          5.517452896464707,
          5.605802066295998,
          6.0112671744041615,
          5.579729825986222,
          5.7899601708972535,
          5.924255797414532,
          5.135798437050262,
          4.418840607796598,
          5.627621113690637,
          5.342334251964811,
          5.545177444479562,
          5.099866427824199,
          5.159055299214529,
          4.812184355372417,
          5.075173815233827,
          5.003946305945459,
          4.852030263919617,
          5.652489180268651,
          4.532599493153256,
          6.082218910376446,
          5.793013608384144,
          4.51085950651685,
          5.641907070938114,
          5.247024072160486,
          5.521460917862246,
          5.579729825986222,
          3.9889840465642745,
          5.19295685089021,
          5.198497031265826,
          4.859812404361672,
          5.602118820879701,
          5.293304824724492,
          3.871201010907891
         ],
         "yaxis": "y"
        },
        {
         "boxpoints": "all",
         "customdata": [
          [
           "Different Times",
           "Raphael Saadiq"
          ],
          [
           "Dear Mr. Man",
           "Prince"
          ],
          [
           "Cmon",
           "Mario"
          ],
          [
           "Still in Love With U",
           "Babyface"
          ],
          [
           "Misty Blue",
           "Boyz II Men"
          ],
          [
           "Im Gonna Give You Respect",
           "Marvin Gaye"
          ],
          [
           "Special",
           "Jus K"
          ]
         ],
         "hovertemplate": "title: %{customdata[0]}<br>artist: %{customdata[1]}<br>log(words): %{y}",
         "name": "rb",
         "type": "box",
         "xaxis": "x",
         "y": [
          4.962844630259907,
          5.030437921392435,
          4.6443908991413725,
          4.6913478822291435,
          4.30406509320417,
          4.532599493153256,
          4.189654742026425
         ],
         "yaxis": "y"
        },
        {
         "boxpoints": "all",
         "customdata": [
          [
           "A Place for My Head",
           "Linkin Park"
          ],
          [
           "Time for Heroes",
           "The Libertines"
          ],
          [
           "One Pure Thought",
           "Hot Chip"
          ],
          [
           "Nutshell",
           "Adema"
          ],
          [
           "Blind",
           "TV on the Radio"
          ],
          [
           "No One Like You",
           "David Crowder Band"
          ],
          [
           "Crying",
           "TV on the Radio"
          ],
          [
           "My Curse",
           "Killswitch Engage"
          ],
          [
           "Ben Has A Kid",
           "The Devil Wears Prada"
          ],
          [
           "Next 100 Years",
           "Bon Jovi"
          ],
          [
           "Run",
           "Disturbed"
          ],
          [
           "Live and Learn",
           "The Cardigans"
          ],
          [
           "Love at First Sight",
           "The Brobecks"
          ],
          [
           "Mother Puncher",
           "Mastodon"
          ],
          [
           "The World Calling",
           "There For Tomorrow"
          ],
          [
           "In the Dark",
           "Josh Ritter"
          ],
          [
           "Fighting Words",
           "The Ascendicate"
          ],
          [
           "Pastorale",
           "Ewert and the Two Dragons"
          ],
          [
           "Circle the Drain",
           "36 Crazyfists"
          ],
          [
           "An Ancient Sign of Coming Storm",
           "Amon Amarth"
          ],
          [
           "Elvis Presley Blues",
           "Joan Baez"
          ],
          [
           "Shackled To The Trilithon Of Kutulu",
           "Bal-Sagoth"
          ],
          [
           "Isnt It A Pity",
           "Billy Preston"
          ],
          [
           "Sugar",
           "Kids in the Way"
          ],
          [
           "Now As The Train Pulls Away",
           "Vigilantes of Love"
          ],
          [
           "All Ive Failed to Be",
           "Sonicflood"
          ],
          [
           "This Sky",
           "The Derek Trucks Band"
          ],
          [
           "The Poet You Never Were",
           "Saetia"
          ],
          [
           "Knights of Columbus",
           "The Subtle Way"
          ],
          [
           "Changes",
           "Butterfly Boucher"
          ],
          [
           "Hellgore",
           "Paragon"
          ],
          [
           "Of Myth And Men",
           "Red I Flight"
          ],
          [
           "Soma",
           "Project 86"
          ],
          [
           "Colostomy Jigsaw Puzzle",
           "Cattle Decapitation"
          ],
          [
           "Was It Me",
           "The Exploited"
          ],
          [
           "All of the Same Blood",
           "Kreator"
          ],
          [
           "Red Star Falling",
           "Saxon"
          ],
          [
           "High Maintenance Woman",
           "Hank Williams Jr."
          ],
          [
           "Sub Human",
           "Warrant"
          ],
          [
           "A Little Piece Of Me",
           "Walls Of Jericho"
          ],
          [
           "Damnation",
           "Mystic Prophecy"
          ],
          [
           "Stay",
           "Cuesh"
          ],
          [
           "Underorbit",
           "Autolux"
          ],
          [
           "Once Again This Life",
           "Dreamtone and Iris Mavrakis' Neverland"
          ],
          [
           "More Stars Than There Are in Heaven",
           "Yo La Tengo"
          ],
          [
           "Wandering Child",
           "Gov't Mule"
          ],
          [
           "Lancaster",
           "Texas In July"
          ],
          [
           "Led into Demise",
           "Kingdom of Sorrow"
          ],
          [
           "Fire Engine On Fire Pt.I",
           "Flotation Toy Warning"
          ],
          [
           "Counting Down The Days",
           "Natalie Imbruglia"
          ],
          [
           "Through Smudged Lenses",
           "Dark Tranquillity"
          ],
          [
           "Tower Falls",
           "Baroness"
          ],
          [
           "Watching the Skies",
           "Evergrey"
          ],
          [
           "Leaders of the Free World",
           "Elbow"
          ],
          [
           "The Only Thing I Know",
           "Gotye"
          ],
          [
           "Go ahead now",
           "POLYSICS"
          ],
          [
           "Hurt Conveyor",
           "Fear Factory"
          ],
          [
           "Palms Read",
           "Protest The Hero"
          ],
          [
           "The Fists In The Pocket",
           "Comet Gain"
          ],
          [
           "My Friends Mean Version",
           "Wyatt Williams"
          ],
          [
           "Walk For Room",
           "Dick Diver"
          ],
          [
           "Good For Nothing",
           "Seethings"
          ],
          [
           "Go Go Valentina",
           "Dn"
          ],
          [
           "Addicted to Cadaverine",
           "Volturyon"
          ],
          [
           "Splitting the Scene",
           "Jody Whitesides"
          ],
          [
           "Emigre",
           "Sing-Sing"
          ],
          [
           "Were Comin Down The Dudley Boys",
           "Jim Johnston"
          ],
          [
           "Love is the Cost",
           "Divisible"
          ],
          [
           "Caught in a Rush",
           "Embrace"
          ],
          [
           "Abbreviating Words Can Be Time Efficient For Example: Im Going To Die Tommorow By Leath Injectch",
           "Tower Of Rome"
          ],
          [
           "I Found Out",
           "Wilt"
          ],
          [
           "Bangers  Mash Live From The Basement",
           "Radiohead"
          ],
          [
           "Ecce Lupus Ecce Bestia",
           "Black Metal"
          ],
          [
           "I Dont Want to Be Live",
           "Gavin DeGraw"
          ],
          [
           "Bron-Y-Aur Stomp How the West Was Won",
           "Led Zeppelin"
          ],
          [
           "A Thousand Pieces of You",
           "OnceOver"
          ],
          [
           "Evolution",
           "Smallman"
          ],
          [
           "Boys",
           "The Autumns"
          ],
          [
           "I Have a Devil in Me",
           "The Meat Purveyors"
          ],
          [
           "Pic N Choose",
           "Takaru"
          ],
          [
           "Inside the Shell of Lies",
           "Silent Kingdom"
          ],
          [
           "Birds Eye",
           "Mike Patton, Serj Tankian, Marc Streitenfeld"
          ],
          [
           "Lady Madonna Live at Citi Field",
           "Paul McCartney"
          ],
          [
           "Drug Lords Of The Avenues",
           "Filthy Thieving Bastards"
          ],
          [
           "A Real Mans Problem",
           "David F. Bello"
          ],
          [
           "Flowering Spores of Imagination",
           "Atomizer"
          ],
          [
           "Exhale",
           "Consciousness Removal Project"
          ],
          [
           "Destroy Babylon",
           "Destroy Babylon"
          ],
          [
           "I Want To Rock",
           "Logan Whitehurst"
          ],
          [
           "When I Dream",
           "Shaimus"
          ],
          [
           "Fuck The World Im hanging out with you tonight",
           "The Unlovables"
          ],
          [
           "Crime Room",
           "It's All Red"
          ],
          [
           "Starlett Johansson Rory Philips Mix",
           "The Teenagers"
          ],
          [
           "Collapse Is Near",
           "Blasthrash"
          ],
          [
           "Star Peppered Wheatgerm",
           "Circus Devils"
          ],
          [
           "Good Boys Gone Rad Live",
           "Kids In Glass Houses"
          ],
          [
           "Into the Stars",
           "Amyst"
          ],
          [
           "Beautiful in White Live",
           "Antiskeptic"
          ],
          [
           "Your Eyes",
           "Geek (band)"
          ],
          [
           "Street War",
           "Metal Orizon"
          ],
          [
           "Silver Birch Bonfire Blues",
           "James Dean Bradfield"
          ],
          [
           "Feratu",
           "RISHLOO"
          ],
          [
           "Working Days",
           "The Shape of the Earth"
          ],
          [
           "You Can’t Go Home Again",
           "They Might Be Giants"
          ],
          [
           "AI",
           "Cripple Mr Onion"
          ]
         ],
         "hovertemplate": "title: %{customdata[0]}<br>artist: %{customdata[1]}<br>log(words): %{y}",
         "name": "rock",
         "type": "box",
         "xaxis": "x",
         "y": [
          4.6913478822291435,
          4.787491742782046,
          4.564348191467836,
          3.7612001156935624,
          4.653960350157523,
          4.060443010546419,
          4.8283137373023015,
          3.912023005428146,
          4.189654742026425,
          4.31748811353631,
          4.499809670330265,
          4.6913478822291435,
          4.3694478524670215,
          3.295836866004329,
          4.718498871295094,
          4.532599493153256,
          4.143134726391533,
          4.31748811353631,
          3.4965075614664802,
          4.912654885736052,
          4.442651256490317,
          4.770684624465665,
          4.110873864173311,
          4.465908118654584,
          4.31748811353631,
          4.007333185232471,
          3.912023005428146,
          4.382026634673881,
          4.820281565605037,
          4.859812404361672,
          4.442651256490317,
          4.382026634673881,
          4.454347296253507,
          3.295836866004329,
          3.9318256327243257,
          4.700480365792417,
          4.787491742782046,
          4.653960350157523,
          4.07753744390572,
          4.543294782270004,
          3.912023005428146,
          4.574710978503383,
          4.248495242049359,
          4.23410650459726,
          4.736198448394496,
          4.7535901911063645,
          4.23410650459726,
          4.174387269895637,
          4.060443010546419,
          4.3694478524670215,
          4.8283137373023015,
          4.127134385045092,
          4.7535901911063645,
          4.61512051684126,
          4.394449154672439,
          3.784189633918261,
          4.060443010546419,
          4.812184355372417,
          4.844187086458591,
          3.8066624897703196,
          3.6375861597263857,
          4.564348191467836,
          4.189654742026425,
          4.394449154672439,
          4.762173934797756,
          4.48863636973214,
          4.61512051684126,
          3.9889840465642745,
          4.02535169073515,
          3.6109179126442243,
          4.248495242049359,
          4.605170185988092,
          4.6913478822291435,
          4.477336814478207,
          4.859812404361672,
          4.248495242049359,
          3.8501476017100584,
          3.9512437185814275,
          4.5217885770490405,
          3.6635616461296463,
          4.23410650459726,
          4.418840607796598,
          4.30406509320417,
          4.418840607796598,
          4.143134726391533,
          4.969813299576001,
          3.828641396489095,
          4.653960350157523,
          4.543294782270004,
          4.3694478524670215,
          4.04305126783455,
          4.553876891600541,
          4.143134726391533,
          5.111987788356544,
          3.258096538021482,
          4.574710978503383,
          4.007333185232471,
          4.605170185988092,
          3.784189633918261,
          3.9512437185814275,
          4.219507705176107,
          4.02535169073515,
          4.976733742420574,
          3.6635616461296463,
          4.51085950651685
         ],
         "yaxis": "y"
        },
        {
         "boxpoints": "all",
         "customdata": [
          [
           "New Baby For Christmas",
           "George Jones"
          ],
          [
           "Thankful for the Rain",
           "Jamey Johnson"
          ],
          [
           "Pray for Rain",
           "Sykamore"
          ],
          [
           "Almost Easy",
           "Ward Thomas"
          ],
          [
           "The War After The War",
           "Mary Gauthier"
          ],
          [
           "Early Morning Rain",
           "Fancey"
          ],
          [
           "Radio",
           "Steep Canyon Rangers"
          ],
          [
           "Sideshow Blues Live 2011",
           "Todd Snider"
          ],
          [
           "You Cant Take Our Souls",
           "Tom Dibb"
          ]
         ],
         "hovertemplate": "title: %{customdata[0]}<br>artist: %{customdata[1]}<br>log(words): %{y}",
         "name": "country",
         "type": "box",
         "xaxis": "x2",
         "y": [
          4.290459441148391,
          4.418840607796598,
          4.762173934797756,
          4.59511985013459,
          4.634728988229636,
          4.700480365792417,
          4.51085950651685,
          5.19295685089021,
          5.293304824724492
         ],
         "yaxis": "y2"
        },
        {
         "boxpoints": "all",
         "customdata": [
          [
           "At Castle Boterel",
           "Thomas Hardy"
          ],
          [
           "At the Parade",
           "Robert William Service"
          ],
          [
           "Available Mabel",
           "Shelby M. Forrest"
          ],
          [
           "Futility",
           "Robert William Service"
          ],
          [
           "Fables Chap. 20",
           "Robert Louis Stevenson"
          ],
          [
           "Thoughts on Lil Wayne and Al Sharpton",
           "Bill O'Reilly"
          ],
          [
           "Nadifa Mohamed’s “The Orchard of Lost Souls opening”",
           "Dr. Jeremy Dean"
          ],
          [
           "Laüstic The Nightingale",
           "Marie de France"
          ],
          [
           "The Lesson of a Tree",
           "Walt Whitman"
          ],
          [
           "Sophocles’s “Oedipus the King Lines 120-181”",
           "Mrs. Booms-Ryan"
          ],
          [
           "Achilles’ Heeled?",
           "Medicine_ReMixed"
          ],
          [
           "Waiting for the Sun",
           "Alistair Lindsay"
          ],
          [
           "Donald Trump and His Supporters  Part 2",
           "Frank Lieberman"
          ],
          [
           "Part 2",
           "K-Dawg"
          ],
          [
           "If You Say So",
           "Blanca"
          ],
          [
           "Blossom",
           "Mike Blisster"
          ],
          [
           "Fire of Baited Blood",
           "Forefather"
          ],
          [
           "A Cycle",
           "Men I Trust"
          ],
          [
           "Searching for Solace",
           "Genevieve"
          ],
          [
           "Will AB 626 benefit the neighborhood dumpling maker or big tech?",
           "Frank Shyong"
          ],
          [
           "Tell the Truth But tell it Slant",
           "KASH REGISTER123"
          ]
         ],
         "hovertemplate": "title: %{customdata[0]}<br>artist: %{customdata[1]}<br>log(words): %{y}",
         "name": "misc",
         "type": "box",
         "xaxis": "x2",
         "y": [
          5.0238805208462765,
          4.30406509320417,
          3.258096538021482,
          5.049856007249537,
          5.780743515792329,
          5.332718793265369,
          6.752270376141742,
          5.8971538676367405,
          5.817111159963204,
          5.476463551931511,
          6.4967749901858625,
          3.9318256327243257,
          5.111987788356544,
          3.091042453358316,
          4.30406509320417,
          4.543294782270004,
          4.574710978503383,
          4.2626798770413155,
          4.174387269895637,
          5.081404364984463,
          3.5553480614894135
         ],
         "yaxis": "y2"
        },
        {
         "boxpoints": "all",
         "customdata": [
          [
           "Slaved",
           "Autovein"
          ],
          [
           "Summer Moonlight Original Album Mix",
           "Bob Sinclar"
          ],
          [
           "I Saw The Messed Binds Of My Generation",
           "Joan of Arc"
          ],
          [
           "San Diego Serenade",
           "Delta Spirit"
          ],
          [
           "Onslaught",
           "All Will Fall"
          ],
          [
           "Let It Rain",
           "Redemption"
          ],
          [
           "In It to Win It",
           "Saliva"
          ],
          [
           "Dont Go Lose It Baby",
           "Hugh Masekela"
          ],
          [
           "Hitchhiker",
           "Teitur"
          ],
          [
           "It Took A Miracle",
           "Mahalia Jackson"
          ],
          [
           "We Go Together",
           "The Leisure Society"
          ],
          [
           "Train Song",
           "Hymns"
          ],
          [
           "Out 4 the Kill Beware of God mix",
           "My Life WIth The Thrill Kill Kult"
          ],
          [
           "Roar",
           "Treat"
          ],
          [
           "Our Lie",
           "Jeffrey Gaines"
          ],
          [
           "Moonlit Seabed",
           "InMe"
          ],
          [
           "The Boat",
           "Benjamin Francis Leftwich"
          ],
          [
           "The Ketchup Song",
           "Stompin Tom"
          ],
          [
           "Army of Love",
           "Jake (US)"
          ],
          [
           "Spring",
           "Griffin Village"
          ],
          [
           "Opening on Thompson",
           "Baskervilles"
          ],
          [
           "Charlotte",
           "Hope Sandoval"
          ],
          [
           "Sic Semper Tyrannis",
           "Architect"
          ],
          [
           "Phantom Of Darker Clouds",
           "The Sleeping (Band)"
          ],
          [
           "Need",
           "Magica"
          ],
          [
           "Gold Blood",
           "The Hundred In The Hands"
          ],
          [
           "Lady Fantasy",
           "Galahad"
          ],
          [
           "I Gotta Right to Sing the Blues",
           "Lee Wiley"
          ],
          [
           "2005",
           "Hands"
          ],
          [
           "How You Feel Clean",
           "Unwritten Law"
          ],
          [
           "I Never Wear White",
           "Suzanne Vega"
          ],
          [
           "Im Done",
           "Nitin Sawhney"
          ],
          [
           "Getcha Hands Up",
           "Press Play (Band)"
          ],
          [
           "Sail Those Same Oceans",
           "Russell Crowe & 30 Odd Foot Of Grunts"
          ],
          [
           "If You Really Do",
           "Bic Runga"
          ],
          [
           "The Floodgates Open",
           "Azriel"
          ],
          [
           "Carving For Brains",
           "Facebreaker"
          ],
          [
           "Shoulda Known Better",
           "Unwritten Law"
          ],
          [
           "White Discussion NY unplugged",
           "LIVE (Band)"
          ],
          [
           "Im Afraid Im Gonna Die Here",
           "Tim Kasher"
          ],
          [
           "Young Saints",
           "Jason Lytle"
          ],
          [
           "Busses/No Busses",
           "Bear vs. Shark"
          ],
          [
           "A Night Like This",
           "Poesie Noire"
          ],
          [
           "Make Her the Mrs.",
           "Bizzle"
          ],
          [
           "Everything Kaskades Big Room mix",
           "Kaskade"
          ],
          [
           "Back in Time R3HAB Remix",
           "Pitbull"
          ],
          [
           "Washed Over Me",
           "All Things New"
          ],
          [
           "Shape of love - live from the factory theatre sydney",
           "Passenger"
          ],
          [
           "Daniel",
           "We Are Trees"
          ],
          [
           "Walking up a one way street",
           "Willie Tee"
          ],
          [
           "Pump me up",
           "DJ Jazzy Jeff & The Fresh Prince"
          ],
          [
           "Blowin’ Smoke Live From Bonnaroo 2013",
           "Kacey Musgraves"
          ],
          [
           "Open up my heart",
           "Oslo Gospel Choir"
          ],
          [
           "The kid",
           "DAAN"
          ],
          [
           "Please come home for christmas",
           "Mario Biondi"
          ],
          [
           "Casanova",
           "Adam Green"
          ],
          [
           "Mighty Jesus",
           "The Neverclaim"
          ],
          [
           "No Sleep",
           "Sway in the Morning"
          ],
          [
           "Dont Stop Acoustic",
           "5 Seconds of Summer"
          ],
          [
           "Intro - live",
           "Tye Tribbett"
          ],
          [
           "La La La - Pále Remix",
           "Naughty Boy"
          ],
          [
           "Небеса Heaven",
           "  (Valery Meladze)"
          ],
          [
           "O Little Town Of Bethlehem feat. Jack Jezzro",
           "Jack Jezzro"
          ],
          [
           "Dancing On The Moon",
           "Busby Marou"
          ],
          [
           "Rest Your Love",
           "The Vamps"
          ],
          [
           "Inconsequential",
           "Dandelion Hands"
          ],
          [
           "Bloom",
           "I Am Karate"
          ],
          [
           "Away",
           "Reptile Youth"
          ],
          [
           "Start Over Again",
           "Alana Yorke"
          ],
          [
           "Good Vibration",
           "HIRIE"
          ],
          [
           "Your Debt Is Gonna Bury You",
           "YNAB"
          ],
          [
           "Long Way to Go to Die",
           "LP"
          ],
          [
           "I Dont Need To",
           "Oh Yahoo"
          ],
          [
           "Time To Be Awesome",
           "Captain Celaeno (Zoe Saldana), Rainbow Dash, Apple Jack, Pinkie Pie, Fluttershy, Rarity, Spike, Boyle, First Mate Mullet & Lix Spittle"
          ],
          [
           "Tummy in the Blood",
           "The Yellow Dress"
          ],
          [
           "PMA",
           "The Ballantynes"
          ],
          [
           "King of all Hours",
           "CityLight Music"
          ],
          [
           "Lost",
           "Sinners Heist & Unknown Brain"
          ],
          [
           "Mollie",
           "Nibiru"
          ],
          [
           "Dominique I",
           "Neov"
          ],
          [
           "Learning to Let Go",
           "LEVV"
          ],
          [
           "Room",
           "Sutton Foster"
          ],
          [
           "I Love Cats",
           "Love's Labour's Lost: The Musical"
          ],
          [
           "The World Is on Fire",
           "Ed Harcourt"
          ],
          [
           "Quarter-Life Crisis",
           "Christian Loftus"
          ],
          [
           "Keep Breaking It Down",
           "Howard Ivans"
          ],
          [
           "Silver Ray",
           "Halcyon Drive"
          ],
          [
           "Slick Death",
           "Munreux"
          ],
          [
           "Talk",
           "Ida Red"
          ],
          [
           "Evident to All",
           "Justin Rizzo"
          ],
          [
           "Dance with me",
           "LNDKID"
          ],
          [
           "Awake KRANE Remix",
           "Alison Wonderland"
          ],
          [
           "Please Let It Rain in California Tonight",
           "Anna Elizabeth Laube"
          ],
          [
           "Bobby – Sandy Alex G",
           "Cavetown"
          ],
          [
           "Freckled Angels",
           "Ren"
          ],
          [
           "Paper Lanterns",
           "Lanae' Hale"
          ],
          [
           "Closure",
           "Juelz"
          ],
          [
           "Dont Wake Me Up",
           "The Pauses"
          ],
          [
           "Barking Freestyle",
           "Kamikaze TKE"
          ],
          [
           "Hold Mi Tight",
           "Masicka"
          ],
          [
           "Summer Days",
           "Martin Garrix"
          ],
          [
           "Mother",
           "Ingrid Michaelson"
          ],
          [
           "Deserve It",
           "Tobias Fagerstrm"
          ],
          [
           "Believing",
           "Danny G & the Major 7ths"
          ],
          [
           "Mellow My Mind",
           "J. Tillman"
          ],
          [
           "Breathe",
           "The Bombpops"
          ],
          [
           "On My Phone",
           "Nosgov"
          ],
          [
           "See",
           "Audiojaxx"
          ],
          [
           "I Need Answers",
           "Freezepop"
          ],
          [
           "Bad Girlfriend",
           "Olivia Holt"
          ],
          [
           "I Want You You Don’t Want Me",
           "Yoka The Car"
          ],
          [
           "All but a Wish for Now",
           "Seeyouinthesoil"
          ],
          [
           "Seconds",
           "Josienne Clarke"
          ],
          [
           "Perfect",
           "Original Broadway Cast of Jagged Little Pill"
          ],
          [
           "Up At Night",
           "Wasted Focus"
          ],
          [
           "Glisten",
           "Polymancer"
          ],
          [
           "I Made Her Sad and Now I Cant Sleep",
           "Evergotlost"
          ],
          [
           "Ramblings",
           "Reverence"
          ],
          [
           "Fields of Gold",
           "Katie Melua"
          ],
          [
           "Soil Of Scars",
           "Relentless Actor"
          ],
          [
           "For The Sky",
           "HANA"
          ],
          [
           "Blue Champagne",
           "Peachy Pavement"
          ],
          [
           "Love Spent Acoustic",
           "Madonna"
          ],
          [
           "Call It a Loan",
           "Shawn Colvin"
          ],
          [
           "Totally Nice",
           "Paula (CAN)"
          ],
          [
           "Hes a Freak Man",
           "Milo Korbenski"
          ],
          [
           "The Last Supper",
           "Quisol"
          ],
          [
           "Blue",
           "Emerald Park"
          ]
         ],
         "hovertemplate": "title: %{customdata[0]}<br>artist: %{customdata[1]}<br>log(words): %{y}",
         "name": "pop",
         "type": "box",
         "xaxis": "x2",
         "y": [
          4.060443010546419,
          3.258096538021482,
          4.574710978503383,
          4.204692619390966,
          4.718498871295094,
          4.736198448394496,
          4.356708826689592,
          4.276666119016055,
          4.143134726391533,
          3.713572066704308,
          4.727387818712341,
          3.9318256327243257,
          3.58351893845611,
          4.330733340286331,
          4.605170185988092,
          4.605170185988092,
          4.330733340286331,
          4.6443908991413725,
          4.31748811353631,
          4.30406509320417,
          4.5217885770490405,
          3.9512437185814275,
          4.430816798843313,
          4.3694478524670215,
          4.465908118654584,
          3.7612001156935624,
          4.330733340286331,
          3.9318256327243257,
          4.07753744390572,
          4.330733340286331,
          4.007333185232471,
          4.330733340286331,
          4.30406509320417,
          4.634728988229636,
          4.0943445622221,
          3.784189633918261,
          3.9512437185814275,
          4.852030263919617,
          4.204692619390966,
          5.3706380281276624,
          3.9512437185814275,
          4.465908118654584,
          4.465908118654584,
          5.159055299214529,
          3.9318256327243257,
          4.897839799950911,
          4.1588830833596715,
          4.418840607796598,
          3.1354942159291497,
          4.189654742026425,
          5.407171771460119,
          4.68213122712422,
          4.624972813284271,
          5.0369526024136295,
          4.290459441148391,
          4.127134385045092,
          4.382026634673881,
          5.25227342804663,
          4.532599493153256,
          2.8903717578961645,
          4.382026634673881,
          4.31748811353631,
          4.1588830833596715,
          4.31748811353631,
          4.07753744390572,
          3.871201010907891,
          3.912023005428146,
          4.1588830833596715,
          3.784189633918261,
          4.624972813284271,
          4.912654885736052,
          4.30406509320417,
          3.912023005428146,
          4.74493212836325,
          4.762173934797756,
          4.51085950651685,
          4.356708826689592,
          3.4965075614664802,
          4.532599493153256,
          3.828641396489095,
          4.442651256490317,
          4.356708826689592,
          4.3694478524670215,
          4.77912349311153,
          3.9889840465642745,
          4.5217885770490405,
          4.553876891600541,
          4.543294782270004,
          4.290459441148391,
          3.9318256327243257,
          3.8918202981106265,
          4.248495242049359,
          4.418840607796598,
          4.30406509320417,
          4.762173934797756,
          4.394449154672439,
          4.356708826689592,
          4.07753744390572,
          4.867534450455582,
          4.736198448394496,
          4.663439094112067,
          4.0943445622221,
          4.02535169073515,
          4.394449154672439,
          3.871201010907891,
          4.543294782270004,
          3.5553480614894135,
          4.499809670330265,
          4.1588830833596715,
          4.3694478524670215,
          4.3694478524670215,
          4.997212273764115,
          3.713572066704308,
          4.430816798843313,
          4.543294782270004,
          3.9318256327243257,
          4.290459441148391,
          4.700480365792417,
          4.290459441148391,
          4.1588830833596715,
          4.406719247264253,
          4.465908118654584,
          4.6913478822291435,
          4.653960350157523,
          4.0943445622221,
          3.5263605246161616,
          4.709530201312334,
          3.295836866004329
         ],
         "yaxis": "y2"
        },
        {
         "boxpoints": "all",
         "customdata": [
          [
           "Who Dat Talkin Down",
           "Big Pokey (Screwed Up Click)"
          ],
          [
           "Start It Up",
           "RUSSELL!"
          ],
          [
           "FreeStyLe 2",
           "Ickes"
          ],
          [
           "B.D.S. Big Dick Syndrome",
           "Young Hokus"
          ],
          [
           "Fly Together",
           "Red Cafe"
          ],
          [
           "Secret love",
           "Mk Studios"
          ],
          [
           "Coming Home Remix",
           "Deph Naught"
          ],
          [
           "Starlight",
           "Passionate MC"
          ],
          [
           "Super Baked",
           "Sam Hill"
          ],
          [
           "Intro",
           "Lute"
          ],
          [
           "Leader",
           "Raphael Lake"
          ],
          [
           "Crows 1",
           "Aesop Rock"
          ],
          [
           "Devil  Us",
           "Flatbush Zombies"
          ],
          [
           "X Marks and Wristbands",
           "Ralph Martinez"
          ],
          [
           "Too Pussy To Freestyle",
           "Chaad"
          ],
          [
           "THE WHITE GUCCI MANE - Tatted Like A Biker Boy",
           "RiFF RAFF"
          ],
          [
           "Hard Life.",
           "Cole Ruud-Johnson"
          ],
          [
           "Ace Of Spades",
           "RiFF RAFF"
          ],
          [
           "Cruisin In the Evening",
           "Kid Cudi"
          ],
          [
           "Other Bitch",
           "BlaQ $now"
          ],
          [
           "City Lights",
           "Chachi Kamikazi"
          ],
          [
           "My Mind And My Pencil",
           "Kay"
          ],
          [
           "Up",
           "PHZ-Sicks"
          ],
          [
           "Put Em Up",
           "Lil' Snupe"
          ],
          [
           "SLR 3 Round of Applause",
           "Lupe Fiasco"
          ],
          [
           "Reptile Human",
           "The Anomalies"
          ],
          [
           "Tru Story",
           "Shy Glizzy"
          ],
          [
           "BB Kings",
           "Isaiah G"
          ],
          [
           "Take a Number",
           "Crudbump"
          ],
          [
           "Mos Definitely",
           "The Lost Children of Babylon"
          ],
          [
           "Fast Food",
           "Platinumclappas"
          ],
          [
           "Bedtime Story",
           "GoldLink"
          ],
          [
           "Rhyme Like Me",
           "SC Static"
          ],
          [
           "Pass It",
           "Steve Ricks"
          ],
          [
           "SIGN OF THE GUN",
           "Anthony Mendez"
          ],
          [
           "Phantom",
           "Honcho Deleonches"
          ],
          [
           "The Crash",
           "Why-Fi"
          ],
          [
           "Life I Know",
           "L Jinny"
          ],
          [
           "Vet Lungs",
           "Chief Keef"
          ],
          [
           "Buzzer Beaters",
           "Jogger (Rapper)"
          ],
          [
           "You Are Appreciated",
           "Zakk Scott"
          ],
          [
           "No Sleep",
           "Extinction Plaza"
          ],
          [
           "The Dream Team",
           "The Guild"
          ],
          [
           "Legendary",
           "Sik Kid"
          ],
          [
           "The City",
           "Bazanji"
          ],
          [
           "Arrest Me",
           "Moonshine Bandits"
          ],
          [
           "Cop A Freestyle",
           "Paper"
          ],
          [
           "Everybody",
           "Haze (ENG)"
          ],
          [
           "What’s Your Story?",
           "Tyler Joseph"
          ],
          [
           "Appreciation",
           "Andrew Jack"
          ],
          [
           "Grind",
           "Pierce Love"
          ],
          [
           "Hollywood Day One Niggas",
           "Young Junne"
          ],
          [
           "No Coach",
           "Cyrax"
          ],
          [
           "Hold Fast",
           "Corey Gipson"
          ],
          [
           "Good Guy Shoes",
           "Froggy Fresh"
          ],
          [
           "Intro Nobody 2",
           "12Hunna"
          ],
          [
           "5 Fingers of Death",
           "VIC MENSA"
          ],
          [
           "Trippin",
           "Lil Yachty"
          ],
          [
           "Killswitch",
           "Dizz Fresh"
          ],
          [
           "The Apollo 13 of Getting Blasted",
           "Poon Patrol"
          ],
          [
           "Just Two Fools",
           "Spanish F.L.Y."
          ],
          [
           "Retarded",
           "Boosie Badazz"
          ],
          [
           "Tasty",
           "Drapht"
          ],
          [
           "Killer Verse Freestyle",
           "Gina Rodriguez"
          ],
          [
           "Higher",
           "Solo 45"
          ],
          [
           "Im the One",
           "DJ Khaled"
          ],
          [
           "Litted Up",
           "Sunny Picasso"
          ],
          [
           "Pleaze",
           "Candy Ken"
          ],
          [
           "The Samurai Rap",
           "CoryxKenshin"
          ],
          [
           "In The Light",
           "Tragicalmusic"
          ],
          [
           "Million Dollar Figure Black Gatsby",
           "Torrence Jerell"
          ],
          [
           "OJ",
           "G2K!"
          ],
          [
           "I Cant stop",
           "P Money"
          ],
          [
           "N8m8 Sample Challenge",
           "Cartoon Misfits"
          ],
          [
           "UNEXPECTED",
           "BlackPanthaa"
          ],
          [
           "NEW HOLLYWOOD",
           "Yashar. G"
          ],
          [
           "SUPERSTARS",
           "Bad Smutt"
          ],
          [
           "Play",
           "Billy the Fridge"
          ],
          [
           "Rosario- Save Me Came Beats",
           "Rosario"
          ],
          [
           "ITRIEDTOEATHERGOOCHBUTITHADAZIT Ft. Lil¥enn",
           "Magelli"
          ],
          [
           "Reason",
           "Big Sean & Metro Boomin"
          ],
          [
           "DECEMBER 11th",
           "Chris King"
          ],
          [
           "Ma Phone Dead",
           "Lil' Pop"
          ],
          [
           "Praying Tears",
           "Elking"
          ],
          [
           "Deal with the devil",
           "Keii-Bii"
          ],
          [
           "Get money",
           "Monkey Man"
          ],
          [
           "​acid rain",
           "9TAILS"
          ],
          [
           "Hangin Out",
           "Brothers From Another"
          ],
          [
           "I Quit",
           "2kThaGoon"
          ],
          [
           "Homecoming",
           "Name"
          ],
          [
           "No more games",
           "Onika Jones"
          ],
          [
           "Love Me",
           "Trak"
          ],
          [
           "We Ride",
           "Lil Reek"
          ],
          [
           "Perspective",
           "Strado"
          ],
          [
           "SEES RED",
           "Wicca Phase Springs Eternal"
          ],
          [
           "This Road",
           "Apalachee Don"
          ],
          [
           "What?",
           "Sega Atari"
          ],
          [
           "Side Note original",
           "O'hene Savant"
          ],
          [
           "Racks",
           "Childish Breezy"
          ],
          [
           "Vinyl",
           "love-sadKiD"
          ],
          [
           "Final FantasyRemix",
           "Rin4s"
          ],
          [
           "IINAMIINUTE",
           "LXXXVIII"
          ],
          [
           "Patient",
           "JordanG17"
          ],
          [
           "Fuck Nigga",
           "Xanman"
          ],
          [
           "Nick Foles",
           "Boy Pierce"
          ],
          [
           "So Long",
           "Jake Morse"
          ],
          [
           "Duality",
           "Envy Black"
          ],
          [
           "Make Movies",
           "Whassup Whoadie"
          ],
          [
           "Inspired",
           "LilHavoc125"
          ],
          [
           "Homeless",
           "94 B-lo"
          ],
          [
           "Plastic",
           "Serge.zw"
          ],
          [
           "Star Studded",
           "Kool Keith"
          ],
          [
           "DUM",
           "ItzWonderfull & Baby Phace & Chris Patrick"
          ],
          [
           "My Hood",
           "Iyaz"
          ],
          [
           "Courage",
           "V4Vanquish"
          ],
          [
           "DONT TREAD ON ME",
           "Lil Darkie"
          ],
          [
           "Ballz Deep",
           "Xiihab"
          ],
          [
           "Rappers Delight",
           "A League of Their Own"
          ],
          [
           "Automatic",
           "Babyshark"
          ],
          [
           "Rinsed",
           "Myazwe"
          ],
          [
           "I Love U",
           "Nxbdy"
          ],
          [
           "Not by Chance",
           "KILLY"
          ],
          [
           "Switch To That Course",
           "Thuggizzle"
          ],
          [
           "Rec yo self",
           "Chirch Boi Willie"
          ],
          [
           "Green  Blue",
           "FlyyMija"
          ],
          [
           "By Myself",
           "TSXSN"
          ],
          [
           "Never Change ft Micmade × lil Paki",
           "Coolguy SMG"
          ],
          [
           "Opioid Crisis",
           "Ras Kass"
          ],
          [
           "911",
           "GRAVEHEART"
          ],
          [
           "Ketamine Honey",
           "Dizraeli"
          ],
          [
           "Recognizable",
           "Molten Ash (Evan Ash)"
          ],
          [
           "Link Up",
           "Subhas"
          ],
          [
           "I Dont Do Favors",
           "Likkle Slave"
          ],
          [
           "Today",
           "Yung D (King)"
          ],
          [
           "SpaceGhostPurrp Owns Miami",
           "SpaceGhostPurrp"
          ],
          [
           "Colors",
           "Sol Jay"
          ],
          [
           "Touche",
           "Greeley"
          ],
          [
           "Back Now",
           "Hassan Khaffaf"
          ],
          [
           "Thooka FREETAYK",
           "Blankfac3"
          ],
          [
           "Wannabe",
           "Delaine The Main"
          ],
          [
           "ICARUS YOU FLEW TOO HIGH",
           "Smoke Bomb"
          ],
          [
           "Young Zelda",
           "Yun Head"
          ],
          [
           "҂⌣̀_⌣́ SHABU track 5",
           "NOLANBEROLLIN"
          ],
          [
           "Monster",
           "Manwell"
          ],
          [
           "My January",
           "Aasim"
          ],
          [
           "Gold Rush",
           "El Sancho (ontario)"
          ],
          [
           "Live Loyal",
           "Co Cartel"
          ]
         ],
         "hovertemplate": "title: %{customdata[0]}<br>artist: %{customdata[1]}<br>log(words): %{y}",
         "name": "rap",
         "type": "box",
         "xaxis": "x2",
         "y": [
          5.673323267171493,
          5.652489180268651,
          4.820281565605037,
          5.198497031265826,
          5.480638923341991,
          3.713572066704308,
          5.627621113690637,
          5.497168225293202,
          5.267858159063328,
          5.081404364984463,
          5.241747015059643,
          5.8971538676367405,
          6.023447592961033,
          5.288267030694535,
          4.110873864173311,
          4.584967478670572,
          5.402677381872279,
          4.919980925828125,
          5.365976015021851,
          5.247024072160486,
          5.308267697401205,
          5.187385805840755,
          5.3981627015177525,
          5.303304908059076,
          5.53338948872752,
          4.804021044733257,
          5.384495062789089,
          5.545177444479562,
          4.663439094112067,
          5.863631175598097,
          5.043425116919247,
          5.111987788356544,
          5.777652323222656,
          5.087596335232384,
          5.030437921392435,
          5.198497031265826,
          5.14166355650266,
          5.488937726156687,
          5.075173815233827,
          6.07073772800249,
          5.560681631015528,
          5.43372200355424,
          5.44673737166631,
          4.927253685157205,
          5.236441962829949,
          5.093750200806762,
          4.574710978503383,
          4.7535901911063645,
          4.919980925828125,
          5.19295685089021,
          5.10594547390058,
          4.709530201312334,
          4.955827057601261,
          4.844187086458591,
          5.575949103146316,
          4.532599493153256,
          5.910796644040527,
          4.454347296253507,
          5.288267030694535,
          4.564348191467836,
          2.3978952727983707,
          5.003946305945459,
          5.44673737166631,
          5.117993812416755,
          5.198497031265826,
          5.351858133476067,
          5.262690188904886,
          4.787491742782046,
          5.056245805348308,
          4.276666119016055,
          5.575949103146316,
          4.912654885736052,
          5.0689042022202315,
          3.713572066704308,
          5.497168225293202,
          5.4116460518550396,
          4.6443908991413725,
          5.049856007249537,
          4.955827057601261,
          4.77912349311153,
          5.3706380281276624,
          5.056245805348308,
          3.784189633918261,
          5.41610040220442,
          5.799092654460526,
          4.61512051684126,
          5.153291594497779,
          5.746203190540153,
          4.820281565605037,
          4.962844630259907,
          4.653960350157523,
          5.056245805348308,
          4.969813299576001,
          5.313205979041787,
          5.545177444479562,
          5.393627546352362,
          4.564348191467836,
          5.831882477283517,
          5.214935757608986,
          5.375278407684165,
          5.0369526024136295,
          4.976733742420574,
          3.7376696182833684,
          4.969813299576001,
          5.697093486505405,
          4.990432586778736,
          5.332718793265369,
          4.90527477843843,
          4.787491742782046,
          4.7535901911063645,
          5.43372200355424,
          5.332718793265369,
          5.241747015059643,
          5.135798437050262,
          5.267858159063328,
          5.814130531825066,
          4.852030263919617,
          5.017279836814924,
          5.659482215759621,
          5.313205979041787,
          4.04305126783455,
          4.852030263919617,
          5.308267697401205,
          5.777652323222656,
          5.25227342804663,
          4.941642422609304,
          5.293304824724492,
          6.313548046277095,
          5.159055299214529,
          5.043425116919247,
          5.484796933490655,
          5.187385805840755,
          4.969813299576001,
          4.406719247264253,
          4.68213122712422,
          5.159055299214529,
          5.82600010738045,
          4.672828834461906,
          4.9344739331306915,
          4.394449154672439,
          4.718498871295094,
          3.1780538303479458,
          4.770684624465665,
          4.6913478822291435,
          5.3612921657094255,
          5.631211781821365,
          5.187385805840755
         ],
         "yaxis": "y2"
        },
        {
         "boxpoints": "all",
         "customdata": [
          [
           "Measurements",
           "James Blake"
          ],
          [
           "Stay Close 2 U",
           "I/O (Artist)"
          ],
          [
           "Give Me Love",
           "Ciara"
          ],
          [
           "It Wont Stop Mozaix Festival Radio Edit",
           "Sevyn Streeter"
          ],
          [
           "Reason",
           "L-prince"
          ],
          [
           "Like I Did",
           "OG Kiifa NumbaNine"
          ],
          [
           "Where Does The Time Go?",
           "The Bamboos"
          ],
          [
           "Boogieman",
           "Childish Gambino"
          ],
          [
           "Barcelona",
           "Bill Newman"
          ],
          [
           "Alright",
           "PEEPSnation"
          ],
          [
           "Gabriel",
           "NAO"
          ],
          [
           "Tear U Apart",
           "RLA"
          ],
          [
           "Bad Girls",
           "Blood Orange"
          ],
          [
           "Lucid",
           "BJFROMDABLOCK"
          ],
          [
           "Thinkin Bout You",
           "4theworld"
          ],
          [
           "DeVante Swing",
           "24hrs"
          ],
          [
           "Showin Love",
           "Elton Aura"
          ],
          [
           "Red Floor",
           "TE RIM ()"
          ]
         ],
         "hovertemplate": "title: %{customdata[0]}<br>artist: %{customdata[1]}<br>log(words): %{y}",
         "name": "rb",
         "type": "box",
         "xaxis": "x2",
         "y": [
          3.6635616461296463,
          3.9318256327243257,
          4.48863636973214,
          4.634728988229636,
          5.225746673713202,
          4.8283137373023015,
          4.532599493153256,
          4.007333185232471,
          4.330733340286331,
          5.272999558563747,
          4.634728988229636,
          4.3694478524670215,
          4.3694478524670215,
          5.003946305945459,
          4.90527477843843,
          4.653960350157523,
          4.499809670330265,
          3.4657359027997265
         ],
         "yaxis": "y2"
        },
        {
         "boxpoints": "all",
         "customdata": [
          [
           "Be a Toy",
           "Title Fight"
          ],
          [
           "Flaws",
           "Bastille"
          ],
          [
           "Back in the Tall Grass",
           "Future Islands"
          ],
          [
           "Something About You",
           "Phil Collins"
          ],
          [
           "Keep the Dogs at Bay",
           "Seether"
          ],
          [
           "Windows4Walls",
           "DDLUXZ"
          ],
          [
           "The Cookbook",
           "Bhi Bhiman"
          ],
          [
           "Ship to Wreck",
           "Florence + the Machine"
          ],
          [
           "Opponents at Sides",
           "Death Angel"
          ],
          [
           "Always",
           "Edie Brickell"
          ],
          [
           "New York",
           "Blind Pilot"
          ],
          [
           "Murder at Midnight",
           "Powerwolf"
          ],
          [
           "Trigger",
           "Cryoshell"
          ],
          [
           "A Million Moons",
           "Imperium Dekadenz"
          ],
          [
           "No Funeral",
           "Eleventh He Reaches London"
          ],
          [
           "Hey Allie",
           "The Bunny The Bear"
          ],
          [
           "Flag of Fate",
           "Witchcraft"
          ],
          [
           "Driver-Side Daylight",
           "Avion Roe"
          ],
          [
           "Surrender",
           "Passion"
          ],
          [
           "Hate by Design",
           "Killswitch Engage"
          ],
          [
           "The Real Wilderness",
           "Robert Pollard"
          ],
          [
           "Decisions",
           "Ocean Grove"
          ],
          [
           "To The Edge",
           "Kiama"
          ],
          [
           "Be My Baby",
           "Bayside"
          ],
          [
           "This Endless War",
           "Serpentine Dominion"
          ],
          [
           "Return of the White Rabbit",
           "Ash"
          ],
          [
           "Japan Song",
           "Paper Thin"
          ],
          [
           "ColorTV",
           "Kid Advay"
          ],
          [
           "My Love Is Quiet",
           "Adam Carpenter"
          ],
          [
           "Clairvoyant",
           "The Contortionist"
          ],
          [
           "Keeper",
           "Makari"
          ],
          [
           "Post-War Cinematic Dead Man Blues",
           "Chuck Prophet"
          ],
          [
           "Ruinous Calamity",
           "Iron Chic"
          ],
          [
           "Criminal",
           "Anarchy Club"
          ],
          [
           "More Than Youll Ever Be",
           "Sasquatch"
          ],
          [
           "Father’s Day",
           "Big Business"
          ],
          [
           "Halfhand",
           "Bedowyn"
          ],
          [
           "Drink About You",
           "Kate Nash"
          ],
          [
           "Shadow Expert",
           "Palm"
          ],
          [
           "Heart Attack Insomniac",
           "BRUXISM"
          ],
          [
           "Everlong",
           "Evergreen Terrace"
          ],
          [
           "Feel The Fire",
           "Abandoned"
          ],
          [
           "Black Hole Sun Live",
           "Soundgarden"
          ],
          [
           "Sour Grapes",
           "American Theory"
          ],
          [
           "Streets of Edinburgh",
           "The Proclaimers"
          ],
          [
           "Great Escape Pt 2",
           "Crippled Black Phoenix"
          ],
          [
           "Agency and Accountability",
           "RVE (Band)"
          ],
          [
           "No Way Out",
           "Undead Slayer"
          ],
          [
           "Spaces In-Between",
           "Fanfare"
          ],
          [
           "Alien",
           "Hands Off Gretel"
          ],
          [
           "Holyoke",
           "Craig Finn"
          ],
          [
           "Bodied",
           "Improvidence"
          ],
          [
           "Downtown",
           "SBC Lyricist"
          ],
          [
           "Fly to Heaven",
           "Lucette"
          ],
          [
           "Infinite Suck OG version",
           "I Set My Friends On Fire"
          ],
          [
           "Their Own Way",
           "The Jellybricks"
          ],
          [
           "Cosmic Kidd Nappers",
           "Duck Duck Goose"
          ],
          [
           "Limerance",
           "Eyelet"
          ],
          [
           "Using Rapebabies as Riot Shields",
           "Abrted Hitler Cck"
          ],
          [
           "The Resort Beyond the Last Resort",
           "Collapsing Scenery"
          ],
          [
           "Empires to Servitude",
           "Seraph in Travail"
          ],
          [
           "The Damage Is Done",
           "FourFiveFour"
          ],
          [
           "Carnage",
           "Chasing Embers"
          ],
          [
           "Untethered",
           "Dark Signal"
          ],
          [
           "Battle of Heart Mind and Soul",
           "Greater Revival"
          ],
          [
           "Set the Controls for the Heart of the Sun",
           "Zana Mashhoon"
          ],
          [
           "Sign of the Raven",
           "Angel Sword"
          ],
          [
           "Raze This Town",
           "Engine Three Seven"
          ],
          [
           "Mouths Still Work",
           "The Ready Aim Fire!"
          ],
          [
           "Into the Dark",
           "Warpath"
          ],
          [
           "Palisades",
           "Eric Slick"
          ],
          [
           "Afterworld Remnants",
           "Holycide"
          ],
          [
           "From the Sky",
           "London Above"
          ],
          [
           "No Harm Live at the Forum",
           "The Boxer Rebellion"
          ],
          [
           "Rotter",
           "The Cherry Wave"
          ],
          [
           "Good Guitar",
           "Ashbury"
          ],
          [
           "Electric Disaster",
           "Curse of the Forgotten"
          ],
          [
           "Spite",
           "Juliet Ruin"
          ],
          [
           "She Shakes My Foundation From Miles Away",
           "Sound Of A Smirk"
          ],
          [
           "Does It Bleed",
           "Acrylics"
          ],
          [
           "Empty Pages",
           "Tony Winters"
          ]
         ],
         "hovertemplate": "title: %{customdata[0]}<br>artist: %{customdata[1]}<br>log(words): %{y}",
         "name": "rock",
         "type": "box",
         "xaxis": "x2",
         "y": [
          3.7376696182833684,
          4.31748811353631,
          4.532599493153256,
          4.465908118654584,
          4.31748811353631,
          4.948759890378168,
          4.663439094112067,
          4.61512051684126,
          4.653960350157523,
          3.4657359027997265,
          4.68213122712422,
          4.6913478822291435,
          4.290459441148391,
          3.8066624897703196,
          4.912654885736052,
          4.394449154672439,
          4.07753744390572,
          4.532599493153256,
          3.970291913552122,
          4.356708826689592,
          3.258096538021482,
          4.430816798843313,
          4.844187086458591,
          4.07753744390572,
          4.430816798843313,
          4.07753744390572,
          4.2626798770413155,
          3.4965075614664802,
          4.584967478670572,
          4.31748811353631,
          4.343805421853684,
          4.382026634673881,
          4.219507705176107,
          3.7612001156935624,
          3.8066624897703196,
          4.174387269895637,
          4.418840607796598,
          4.68213122712422,
          2.995732273553991,
          4.499809670330265,
          4.204692619390966,
          4.394449154672439,
          4.394449154672439,
          4.997212273764115,
          4.663439094112067,
          3.9318256327243257,
          3.871201010907891,
          5.342334251964811,
          4.430816798843313,
          4.465908118654584,
          5.093750200806762,
          4.9344739331306915,
          4.23410650459726,
          3.9512437185814275,
          5.075173815233827,
          4.276666119016055,
          5.135798437050262,
          4.110873864173311,
          3.58351893845611,
          4.564348191467836,
          5.247024072160486,
          4.382026634673881,
          4.394449154672439,
          4.07753744390572,
          4.330733340286331,
          4.1588830833596715,
          4.605170185988092,
          4.2626798770413155,
          3.044522437723423,
          4.700480365792417,
          4.3694478524670215,
          4.1588830833596715,
          4.343805421853684,
          4.1588830833596715,
          3.367295829986474,
          4.30406509320417,
          4.143134726391533,
          4.51085950651685,
          4.356708826689592,
          3.8501476017100584,
          4.820281565605037
         ],
         "yaxis": "y2"
        }
       ],
       "layout": {
        "annotations": [
         {
          "font": {
           "size": 16
          },
          "showarrow": false,
          "text": "2000",
          "x": 0.225,
          "xanchor": "center",
          "xref": "paper",
          "y": 1,
          "yanchor": "bottom",
          "yref": "paper"
         },
         {
          "font": {
           "size": 16
          },
          "showarrow": false,
          "text": "2010",
          "x": 0.775,
          "xanchor": "center",
          "xref": "paper",
          "y": 1,
          "yanchor": "bottom",
          "yref": "paper"
         },
         {
          "font": {
           "size": 16
          },
          "showarrow": false,
          "text": "tags",
          "x": 0.5,
          "xanchor": "center",
          "xref": "paper",
          "y": 0,
          "yanchor": "top",
          "yref": "paper",
          "yshift": -30
         },
         {
          "font": {
           "size": 16
          },
          "showarrow": false,
          "text": "log(unique words)",
          "textangle": -90,
          "x": 0,
          "xanchor": "right",
          "xref": "paper",
          "xshift": -40,
          "y": 0.5,
          "yanchor": "middle",
          "yref": "paper"
         }
        ],
        "template": {
         "data": {
          "bar": [
           {
            "error_x": {
             "color": "#2a3f5f"
            },
            "error_y": {
             "color": "#2a3f5f"
            },
            "marker": {
             "line": {
              "color": "#E5ECF6",
              "width": 0.5
             },
             "pattern": {
              "fillmode": "overlay",
              "size": 10,
              "solidity": 0.2
             }
            },
            "type": "bar"
           }
          ],
          "barpolar": [
           {
            "marker": {
             "line": {
              "color": "#E5ECF6",
              "width": 0.5
             },
             "pattern": {
              "fillmode": "overlay",
              "size": 10,
              "solidity": 0.2
             }
            },
            "type": "barpolar"
           }
          ],
          "carpet": [
           {
            "aaxis": {
             "endlinecolor": "#2a3f5f",
             "gridcolor": "white",
             "linecolor": "white",
             "minorgridcolor": "white",
             "startlinecolor": "#2a3f5f"
            },
            "baxis": {
             "endlinecolor": "#2a3f5f",
             "gridcolor": "white",
             "linecolor": "white",
             "minorgridcolor": "white",
             "startlinecolor": "#2a3f5f"
            },
            "type": "carpet"
           }
          ],
          "choropleth": [
           {
            "colorbar": {
             "outlinewidth": 0,
             "ticks": ""
            },
            "type": "choropleth"
           }
          ],
          "contour": [
           {
            "colorbar": {
             "outlinewidth": 0,
             "ticks": ""
            },
            "colorscale": [
             [
              0,
              "#0d0887"
             ],
             [
              0.1111111111111111,
              "#46039f"
             ],
             [
              0.2222222222222222,
              "#7201a8"
             ],
             [
              0.3333333333333333,
              "#9c179e"
             ],
             [
              0.4444444444444444,
              "#bd3786"
             ],
             [
              0.5555555555555556,
              "#d8576b"
             ],
             [
              0.6666666666666666,
              "#ed7953"
             ],
             [
              0.7777777777777778,
              "#fb9f3a"
             ],
             [
              0.8888888888888888,
              "#fdca26"
             ],
             [
              1,
              "#f0f921"
             ]
            ],
            "type": "contour"
           }
          ],
          "contourcarpet": [
           {
            "colorbar": {
             "outlinewidth": 0,
             "ticks": ""
            },
            "type": "contourcarpet"
           }
          ],
          "heatmap": [
           {
            "colorbar": {
             "outlinewidth": 0,
             "ticks": ""
            },
            "colorscale": [
             [
              0,
              "#0d0887"
             ],
             [
              0.1111111111111111,
              "#46039f"
             ],
             [
              0.2222222222222222,
              "#7201a8"
             ],
             [
              0.3333333333333333,
              "#9c179e"
             ],
             [
              0.4444444444444444,
              "#bd3786"
             ],
             [
              0.5555555555555556,
              "#d8576b"
             ],
             [
              0.6666666666666666,
              "#ed7953"
             ],
             [
              0.7777777777777778,
              "#fb9f3a"
             ],
             [
              0.8888888888888888,
              "#fdca26"
             ],
             [
              1,
              "#f0f921"
             ]
            ],
            "type": "heatmap"
           }
          ],
          "heatmapgl": [
           {
            "colorbar": {
             "outlinewidth": 0,
             "ticks": ""
            },
            "colorscale": [
             [
              0,
              "#0d0887"
             ],
             [
              0.1111111111111111,
              "#46039f"
             ],
             [
              0.2222222222222222,
              "#7201a8"
             ],
             [
              0.3333333333333333,
              "#9c179e"
             ],
             [
              0.4444444444444444,
              "#bd3786"
             ],
             [
              0.5555555555555556,
              "#d8576b"
             ],
             [
              0.6666666666666666,
              "#ed7953"
             ],
             [
              0.7777777777777778,
              "#fb9f3a"
             ],
             [
              0.8888888888888888,
              "#fdca26"
             ],
             [
              1,
              "#f0f921"
             ]
            ],
            "type": "heatmapgl"
           }
          ],
          "histogram": [
           {
            "marker": {
             "pattern": {
              "fillmode": "overlay",
              "size": 10,
              "solidity": 0.2
             }
            },
            "type": "histogram"
           }
          ],
          "histogram2d": [
           {
            "colorbar": {
             "outlinewidth": 0,
             "ticks": ""
            },
            "colorscale": [
             [
              0,
              "#0d0887"
             ],
             [
              0.1111111111111111,
              "#46039f"
             ],
             [
              0.2222222222222222,
              "#7201a8"
             ],
             [
              0.3333333333333333,
              "#9c179e"
             ],
             [
              0.4444444444444444,
              "#bd3786"
             ],
             [
              0.5555555555555556,
              "#d8576b"
             ],
             [
              0.6666666666666666,
              "#ed7953"
             ],
             [
              0.7777777777777778,
              "#fb9f3a"
             ],
             [
              0.8888888888888888,
              "#fdca26"
             ],
             [
              1,
              "#f0f921"
             ]
            ],
            "type": "histogram2d"
           }
          ],
          "histogram2dcontour": [
           {
            "colorbar": {
             "outlinewidth": 0,
             "ticks": ""
            },
            "colorscale": [
             [
              0,
              "#0d0887"
             ],
             [
              0.1111111111111111,
              "#46039f"
             ],
             [
              0.2222222222222222,
              "#7201a8"
             ],
             [
              0.3333333333333333,
              "#9c179e"
             ],
             [
              0.4444444444444444,
              "#bd3786"
             ],
             [
              0.5555555555555556,
              "#d8576b"
             ],
             [
              0.6666666666666666,
              "#ed7953"
             ],
             [
              0.7777777777777778,
              "#fb9f3a"
             ],
             [
              0.8888888888888888,
              "#fdca26"
             ],
             [
              1,
              "#f0f921"
             ]
            ],
            "type": "histogram2dcontour"
           }
          ],
          "mesh3d": [
           {
            "colorbar": {
             "outlinewidth": 0,
             "ticks": ""
            },
            "type": "mesh3d"
           }
          ],
          "parcoords": [
           {
            "line": {
             "colorbar": {
              "outlinewidth": 0,
              "ticks": ""
             }
            },
            "type": "parcoords"
           }
          ],
          "pie": [
           {
            "automargin": true,
            "type": "pie"
           }
          ],
          "scatter": [
           {
            "fillpattern": {
             "fillmode": "overlay",
             "size": 10,
             "solidity": 0.2
            },
            "type": "scatter"
           }
          ],
          "scatter3d": [
           {
            "line": {
             "colorbar": {
              "outlinewidth": 0,
              "ticks": ""
             }
            },
            "marker": {
             "colorbar": {
              "outlinewidth": 0,
              "ticks": ""
             }
            },
            "type": "scatter3d"
           }
          ],
          "scattercarpet": [
           {
            "marker": {
             "colorbar": {
              "outlinewidth": 0,
              "ticks": ""
             }
            },
            "type": "scattercarpet"
           }
          ],
          "scattergeo": [
           {
            "marker": {
             "colorbar": {
              "outlinewidth": 0,
              "ticks": ""
             }
            },
            "type": "scattergeo"
           }
          ],
          "scattergl": [
           {
            "marker": {
             "colorbar": {
              "outlinewidth": 0,
              "ticks": ""
             }
            },
            "type": "scattergl"
           }
          ],
          "scattermapbox": [
           {
            "marker": {
             "colorbar": {
              "outlinewidth": 0,
              "ticks": ""
             }
            },
            "type": "scattermapbox"
           }
          ],
          "scatterpolar": [
           {
            "marker": {
             "colorbar": {
              "outlinewidth": 0,
              "ticks": ""
             }
            },
            "type": "scatterpolar"
           }
          ],
          "scatterpolargl": [
           {
            "marker": {
             "colorbar": {
              "outlinewidth": 0,
              "ticks": ""
             }
            },
            "type": "scatterpolargl"
           }
          ],
          "scatterternary": [
           {
            "marker": {
             "colorbar": {
              "outlinewidth": 0,
              "ticks": ""
             }
            },
            "type": "scatterternary"
           }
          ],
          "surface": [
           {
            "colorbar": {
             "outlinewidth": 0,
             "ticks": ""
            },
            "colorscale": [
             [
              0,
              "#0d0887"
             ],
             [
              0.1111111111111111,
              "#46039f"
             ],
             [
              0.2222222222222222,
              "#7201a8"
             ],
             [
              0.3333333333333333,
              "#9c179e"
             ],
             [
              0.4444444444444444,
              "#bd3786"
             ],
             [
              0.5555555555555556,
              "#d8576b"
             ],
             [
              0.6666666666666666,
              "#ed7953"
             ],
             [
              0.7777777777777778,
              "#fb9f3a"
             ],
             [
              0.8888888888888888,
              "#fdca26"
             ],
             [
              1,
              "#f0f921"
             ]
            ],
            "type": "surface"
           }
          ],
          "table": [
           {
            "cells": {
             "fill": {
              "color": "#EBF0F8"
             },
             "line": {
              "color": "white"
             }
            },
            "header": {
             "fill": {
              "color": "#C8D4E3"
             },
             "line": {
              "color": "white"
             }
            },
            "type": "table"
           }
          ]
         },
         "layout": {
          "annotationdefaults": {
           "arrowcolor": "#2a3f5f",
           "arrowhead": 0,
           "arrowwidth": 1
          },
          "autotypenumbers": "strict",
          "coloraxis": {
           "colorbar": {
            "outlinewidth": 0,
            "ticks": ""
           }
          },
          "colorscale": {
           "diverging": [
            [
             0,
             "#8e0152"
            ],
            [
             0.1,
             "#c51b7d"
            ],
            [
             0.2,
             "#de77ae"
            ],
            [
             0.3,
             "#f1b6da"
            ],
            [
             0.4,
             "#fde0ef"
            ],
            [
             0.5,
             "#f7f7f7"
            ],
            [
             0.6,
             "#e6f5d0"
            ],
            [
             0.7,
             "#b8e186"
            ],
            [
             0.8,
             "#7fbc41"
            ],
            [
             0.9,
             "#4d9221"
            ],
            [
             1,
             "#276419"
            ]
           ],
           "sequential": [
            [
             0,
             "#0d0887"
            ],
            [
             0.1111111111111111,
             "#46039f"
            ],
            [
             0.2222222222222222,
             "#7201a8"
            ],
            [
             0.3333333333333333,
             "#9c179e"
            ],
            [
             0.4444444444444444,
             "#bd3786"
            ],
            [
             0.5555555555555556,
             "#d8576b"
            ],
            [
             0.6666666666666666,
             "#ed7953"
            ],
            [
             0.7777777777777778,
             "#fb9f3a"
            ],
            [
             0.8888888888888888,
             "#fdca26"
            ],
            [
             1,
             "#f0f921"
            ]
           ],
           "sequentialminus": [
            [
             0,
             "#0d0887"
            ],
            [
             0.1111111111111111,
             "#46039f"
            ],
            [
             0.2222222222222222,
             "#7201a8"
            ],
            [
             0.3333333333333333,
             "#9c179e"
            ],
            [
             0.4444444444444444,
             "#bd3786"
            ],
            [
             0.5555555555555556,
             "#d8576b"
            ],
            [
             0.6666666666666666,
             "#ed7953"
            ],
            [
             0.7777777777777778,
             "#fb9f3a"
            ],
            [
             0.8888888888888888,
             "#fdca26"
            ],
            [
             1,
             "#f0f921"
            ]
           ]
          },
          "colorway": [
           "#636efa",
           "#EF553B",
           "#00cc96",
           "#ab63fa",
           "#FFA15A",
           "#19d3f3",
           "#FF6692",
           "#B6E880",
           "#FF97FF",
           "#FECB52"
          ],
          "font": {
           "color": "#2a3f5f"
          },
          "geo": {
           "bgcolor": "white",
           "lakecolor": "white",
           "landcolor": "#E5ECF6",
           "showlakes": true,
           "showland": true,
           "subunitcolor": "white"
          },
          "hoverlabel": {
           "align": "left"
          },
          "hovermode": "closest",
          "mapbox": {
           "style": "light"
          },
          "paper_bgcolor": "white",
          "plot_bgcolor": "#E5ECF6",
          "polar": {
           "angularaxis": {
            "gridcolor": "white",
            "linecolor": "white",
            "ticks": ""
           },
           "bgcolor": "#E5ECF6",
           "radialaxis": {
            "gridcolor": "white",
            "linecolor": "white",
            "ticks": ""
           }
          },
          "scene": {
           "xaxis": {
            "backgroundcolor": "#E5ECF6",
            "gridcolor": "white",
            "gridwidth": 2,
            "linecolor": "white",
            "showbackground": true,
            "ticks": "",
            "zerolinecolor": "white"
           },
           "yaxis": {
            "backgroundcolor": "#E5ECF6",
            "gridcolor": "white",
            "gridwidth": 2,
            "linecolor": "white",
            "showbackground": true,
            "ticks": "",
            "zerolinecolor": "white"
           },
           "zaxis": {
            "backgroundcolor": "#E5ECF6",
            "gridcolor": "white",
            "gridwidth": 2,
            "linecolor": "white",
            "showbackground": true,
            "ticks": "",
            "zerolinecolor": "white"
           }
          },
          "shapedefaults": {
           "line": {
            "color": "#2a3f5f"
           }
          },
          "ternary": {
           "aaxis": {
            "gridcolor": "white",
            "linecolor": "white",
            "ticks": ""
           },
           "baxis": {
            "gridcolor": "white",
            "linecolor": "white",
            "ticks": ""
           },
           "bgcolor": "#E5ECF6",
           "caxis": {
            "gridcolor": "white",
            "linecolor": "white",
            "ticks": ""
           }
          },
          "title": {
           "x": 0.05
          },
          "xaxis": {
           "automargin": true,
           "gridcolor": "white",
           "linecolor": "white",
           "ticks": "",
           "title": {
            "standoff": 15
           },
           "zerolinecolor": "white",
           "zerolinewidth": 2
          },
          "yaxis": {
           "automargin": true,
           "gridcolor": "white",
           "linecolor": "white",
           "ticks": "",
           "title": {
            "standoff": 15
           },
           "zerolinecolor": "white",
           "zerolinewidth": 2
          }
         }
        },
        "xaxis": {
         "anchor": "y",
         "domain": [
          0,
          0.45
         ]
        },
        "xaxis2": {
         "anchor": "y2",
         "domain": [
          0.55,
          1
         ]
        },
        "yaxis": {
         "anchor": "x",
         "domain": [
          0,
          1
         ]
        },
        "yaxis2": {
         "anchor": "x2",
         "domain": [
          0,
          1
         ]
        }
       }
      }
     },
     "metadata": {},
     "output_type": "display_data"
    }
   ],
   "source": [
    "words_decades(df, [2000, 2010])"
   ]
  },
  {
   "cell_type": "code",
   "execution_count": 19,
   "metadata": {},
   "outputs": [
    {
     "data": {
      "application/vnd.plotly.v1+json": {
       "config": {
        "plotlyServerURL": "https://plot.ly"
       },
       "data": [
        {
         "boxpoints": "all",
         "customdata": [
          [
           "New Baby For Christmas",
           "George Jones"
          ],
          [
           "Thankful for the Rain",
           "Jamey Johnson"
          ],
          [
           "Pray for Rain",
           "Sykamore"
          ],
          [
           "Almost Easy",
           "Ward Thomas"
          ],
          [
           "The War After The War",
           "Mary Gauthier"
          ],
          [
           "Early Morning Rain",
           "Fancey"
          ],
          [
           "Radio",
           "Steep Canyon Rangers"
          ],
          [
           "Sideshow Blues Live 2011",
           "Todd Snider"
          ],
          [
           "You Cant Take Our Souls",
           "Tom Dibb"
          ]
         ],
         "hovertemplate": "title: %{customdata[0]}<br>artist: %{customdata[1]}<br>log(words): %{y}",
         "name": "country",
         "type": "box",
         "xaxis": "x",
         "y": [
          4.290459441148391,
          4.418840607796598,
          4.762173934797756,
          4.59511985013459,
          4.634728988229636,
          4.700480365792417,
          4.51085950651685,
          5.19295685089021,
          5.293304824724492
         ],
         "yaxis": "y"
        },
        {
         "boxpoints": "all",
         "customdata": [
          [
           "At Castle Boterel",
           "Thomas Hardy"
          ],
          [
           "At the Parade",
           "Robert William Service"
          ],
          [
           "Available Mabel",
           "Shelby M. Forrest"
          ],
          [
           "Futility",
           "Robert William Service"
          ],
          [
           "Fables Chap. 20",
           "Robert Louis Stevenson"
          ],
          [
           "Thoughts on Lil Wayne and Al Sharpton",
           "Bill O'Reilly"
          ],
          [
           "Nadifa Mohamed’s “The Orchard of Lost Souls opening”",
           "Dr. Jeremy Dean"
          ],
          [
           "Laüstic The Nightingale",
           "Marie de France"
          ],
          [
           "The Lesson of a Tree",
           "Walt Whitman"
          ],
          [
           "Sophocles’s “Oedipus the King Lines 120-181”",
           "Mrs. Booms-Ryan"
          ],
          [
           "Achilles’ Heeled?",
           "Medicine_ReMixed"
          ],
          [
           "Waiting for the Sun",
           "Alistair Lindsay"
          ],
          [
           "Donald Trump and His Supporters  Part 2",
           "Frank Lieberman"
          ],
          [
           "Part 2",
           "K-Dawg"
          ],
          [
           "If You Say So",
           "Blanca"
          ],
          [
           "Blossom",
           "Mike Blisster"
          ],
          [
           "Fire of Baited Blood",
           "Forefather"
          ],
          [
           "A Cycle",
           "Men I Trust"
          ],
          [
           "Searching for Solace",
           "Genevieve"
          ],
          [
           "Will AB 626 benefit the neighborhood dumpling maker or big tech?",
           "Frank Shyong"
          ],
          [
           "Tell the Truth But tell it Slant",
           "KASH REGISTER123"
          ]
         ],
         "hovertemplate": "title: %{customdata[0]}<br>artist: %{customdata[1]}<br>log(words): %{y}",
         "name": "misc",
         "type": "box",
         "xaxis": "x",
         "y": [
          5.0238805208462765,
          4.30406509320417,
          3.258096538021482,
          5.049856007249537,
          5.780743515792329,
          5.332718793265369,
          6.752270376141742,
          5.8971538676367405,
          5.817111159963204,
          5.476463551931511,
          6.4967749901858625,
          3.9318256327243257,
          5.111987788356544,
          3.091042453358316,
          4.30406509320417,
          4.543294782270004,
          4.574710978503383,
          4.2626798770413155,
          4.174387269895637,
          5.081404364984463,
          3.5553480614894135
         ],
         "yaxis": "y"
        },
        {
         "boxpoints": "all",
         "customdata": [
          [
           "Slaved",
           "Autovein"
          ],
          [
           "Summer Moonlight Original Album Mix",
           "Bob Sinclar"
          ],
          [
           "I Saw The Messed Binds Of My Generation",
           "Joan of Arc"
          ],
          [
           "San Diego Serenade",
           "Delta Spirit"
          ],
          [
           "Onslaught",
           "All Will Fall"
          ],
          [
           "Let It Rain",
           "Redemption"
          ],
          [
           "In It to Win It",
           "Saliva"
          ],
          [
           "Dont Go Lose It Baby",
           "Hugh Masekela"
          ],
          [
           "Hitchhiker",
           "Teitur"
          ],
          [
           "It Took A Miracle",
           "Mahalia Jackson"
          ],
          [
           "We Go Together",
           "The Leisure Society"
          ],
          [
           "Train Song",
           "Hymns"
          ],
          [
           "Out 4 the Kill Beware of God mix",
           "My Life WIth The Thrill Kill Kult"
          ],
          [
           "Roar",
           "Treat"
          ],
          [
           "Our Lie",
           "Jeffrey Gaines"
          ],
          [
           "Moonlit Seabed",
           "InMe"
          ],
          [
           "The Boat",
           "Benjamin Francis Leftwich"
          ],
          [
           "The Ketchup Song",
           "Stompin Tom"
          ],
          [
           "Army of Love",
           "Jake (US)"
          ],
          [
           "Spring",
           "Griffin Village"
          ],
          [
           "Opening on Thompson",
           "Baskervilles"
          ],
          [
           "Charlotte",
           "Hope Sandoval"
          ],
          [
           "Sic Semper Tyrannis",
           "Architect"
          ],
          [
           "Phantom Of Darker Clouds",
           "The Sleeping (Band)"
          ],
          [
           "Need",
           "Magica"
          ],
          [
           "Gold Blood",
           "The Hundred In The Hands"
          ],
          [
           "Lady Fantasy",
           "Galahad"
          ],
          [
           "I Gotta Right to Sing the Blues",
           "Lee Wiley"
          ],
          [
           "2005",
           "Hands"
          ],
          [
           "How You Feel Clean",
           "Unwritten Law"
          ],
          [
           "I Never Wear White",
           "Suzanne Vega"
          ],
          [
           "Im Done",
           "Nitin Sawhney"
          ],
          [
           "Getcha Hands Up",
           "Press Play (Band)"
          ],
          [
           "Sail Those Same Oceans",
           "Russell Crowe & 30 Odd Foot Of Grunts"
          ],
          [
           "If You Really Do",
           "Bic Runga"
          ],
          [
           "The Floodgates Open",
           "Azriel"
          ],
          [
           "Carving For Brains",
           "Facebreaker"
          ],
          [
           "Shoulda Known Better",
           "Unwritten Law"
          ],
          [
           "White Discussion NY unplugged",
           "LIVE (Band)"
          ],
          [
           "Im Afraid Im Gonna Die Here",
           "Tim Kasher"
          ],
          [
           "Young Saints",
           "Jason Lytle"
          ],
          [
           "Busses/No Busses",
           "Bear vs. Shark"
          ],
          [
           "A Night Like This",
           "Poesie Noire"
          ],
          [
           "Make Her the Mrs.",
           "Bizzle"
          ],
          [
           "Everything Kaskades Big Room mix",
           "Kaskade"
          ],
          [
           "Back in Time R3HAB Remix",
           "Pitbull"
          ],
          [
           "Washed Over Me",
           "All Things New"
          ],
          [
           "Shape of love - live from the factory theatre sydney",
           "Passenger"
          ],
          [
           "Daniel",
           "We Are Trees"
          ],
          [
           "Walking up a one way street",
           "Willie Tee"
          ],
          [
           "Pump me up",
           "DJ Jazzy Jeff & The Fresh Prince"
          ],
          [
           "Blowin’ Smoke Live From Bonnaroo 2013",
           "Kacey Musgraves"
          ],
          [
           "Open up my heart",
           "Oslo Gospel Choir"
          ],
          [
           "The kid",
           "DAAN"
          ],
          [
           "Please come home for christmas",
           "Mario Biondi"
          ],
          [
           "Casanova",
           "Adam Green"
          ],
          [
           "Mighty Jesus",
           "The Neverclaim"
          ],
          [
           "No Sleep",
           "Sway in the Morning"
          ],
          [
           "Dont Stop Acoustic",
           "5 Seconds of Summer"
          ],
          [
           "Intro - live",
           "Tye Tribbett"
          ],
          [
           "La La La - Pále Remix",
           "Naughty Boy"
          ],
          [
           "Небеса Heaven",
           "  (Valery Meladze)"
          ],
          [
           "O Little Town Of Bethlehem feat. Jack Jezzro",
           "Jack Jezzro"
          ],
          [
           "Dancing On The Moon",
           "Busby Marou"
          ],
          [
           "Rest Your Love",
           "The Vamps"
          ],
          [
           "Inconsequential",
           "Dandelion Hands"
          ],
          [
           "Bloom",
           "I Am Karate"
          ],
          [
           "Away",
           "Reptile Youth"
          ],
          [
           "Start Over Again",
           "Alana Yorke"
          ],
          [
           "Good Vibration",
           "HIRIE"
          ],
          [
           "Your Debt Is Gonna Bury You",
           "YNAB"
          ],
          [
           "Long Way to Go to Die",
           "LP"
          ],
          [
           "I Dont Need To",
           "Oh Yahoo"
          ],
          [
           "Time To Be Awesome",
           "Captain Celaeno (Zoe Saldana), Rainbow Dash, Apple Jack, Pinkie Pie, Fluttershy, Rarity, Spike, Boyle, First Mate Mullet & Lix Spittle"
          ],
          [
           "Tummy in the Blood",
           "The Yellow Dress"
          ],
          [
           "PMA",
           "The Ballantynes"
          ],
          [
           "King of all Hours",
           "CityLight Music"
          ],
          [
           "Lost",
           "Sinners Heist & Unknown Brain"
          ],
          [
           "Mollie",
           "Nibiru"
          ],
          [
           "Dominique I",
           "Neov"
          ],
          [
           "Learning to Let Go",
           "LEVV"
          ],
          [
           "Room",
           "Sutton Foster"
          ],
          [
           "I Love Cats",
           "Love's Labour's Lost: The Musical"
          ],
          [
           "The World Is on Fire",
           "Ed Harcourt"
          ],
          [
           "Quarter-Life Crisis",
           "Christian Loftus"
          ],
          [
           "Keep Breaking It Down",
           "Howard Ivans"
          ],
          [
           "Silver Ray",
           "Halcyon Drive"
          ],
          [
           "Slick Death",
           "Munreux"
          ],
          [
           "Talk",
           "Ida Red"
          ],
          [
           "Evident to All",
           "Justin Rizzo"
          ],
          [
           "Dance with me",
           "LNDKID"
          ],
          [
           "Awake KRANE Remix",
           "Alison Wonderland"
          ],
          [
           "Please Let It Rain in California Tonight",
           "Anna Elizabeth Laube"
          ],
          [
           "Bobby – Sandy Alex G",
           "Cavetown"
          ],
          [
           "Freckled Angels",
           "Ren"
          ],
          [
           "Paper Lanterns",
           "Lanae' Hale"
          ],
          [
           "Closure",
           "Juelz"
          ],
          [
           "Dont Wake Me Up",
           "The Pauses"
          ],
          [
           "Barking Freestyle",
           "Kamikaze TKE"
          ],
          [
           "Hold Mi Tight",
           "Masicka"
          ],
          [
           "Summer Days",
           "Martin Garrix"
          ],
          [
           "Mother",
           "Ingrid Michaelson"
          ],
          [
           "Deserve It",
           "Tobias Fagerstrm"
          ],
          [
           "Believing",
           "Danny G & the Major 7ths"
          ],
          [
           "Mellow My Mind",
           "J. Tillman"
          ],
          [
           "Breathe",
           "The Bombpops"
          ],
          [
           "On My Phone",
           "Nosgov"
          ],
          [
           "See",
           "Audiojaxx"
          ],
          [
           "I Need Answers",
           "Freezepop"
          ],
          [
           "Bad Girlfriend",
           "Olivia Holt"
          ],
          [
           "I Want You You Don’t Want Me",
           "Yoka The Car"
          ],
          [
           "All but a Wish for Now",
           "Seeyouinthesoil"
          ],
          [
           "Seconds",
           "Josienne Clarke"
          ],
          [
           "Perfect",
           "Original Broadway Cast of Jagged Little Pill"
          ],
          [
           "Up At Night",
           "Wasted Focus"
          ],
          [
           "Glisten",
           "Polymancer"
          ],
          [
           "I Made Her Sad and Now I Cant Sleep",
           "Evergotlost"
          ],
          [
           "Ramblings",
           "Reverence"
          ],
          [
           "Fields of Gold",
           "Katie Melua"
          ],
          [
           "Soil Of Scars",
           "Relentless Actor"
          ],
          [
           "For The Sky",
           "HANA"
          ],
          [
           "Blue Champagne",
           "Peachy Pavement"
          ],
          [
           "Love Spent Acoustic",
           "Madonna"
          ],
          [
           "Call It a Loan",
           "Shawn Colvin"
          ],
          [
           "Totally Nice",
           "Paula (CAN)"
          ],
          [
           "Hes a Freak Man",
           "Milo Korbenski"
          ],
          [
           "The Last Supper",
           "Quisol"
          ],
          [
           "Blue",
           "Emerald Park"
          ]
         ],
         "hovertemplate": "title: %{customdata[0]}<br>artist: %{customdata[1]}<br>log(words): %{y}",
         "name": "pop",
         "type": "box",
         "xaxis": "x",
         "y": [
          4.060443010546419,
          3.258096538021482,
          4.574710978503383,
          4.204692619390966,
          4.718498871295094,
          4.736198448394496,
          4.356708826689592,
          4.276666119016055,
          4.143134726391533,
          3.713572066704308,
          4.727387818712341,
          3.9318256327243257,
          3.58351893845611,
          4.330733340286331,
          4.605170185988092,
          4.605170185988092,
          4.330733340286331,
          4.6443908991413725,
          4.31748811353631,
          4.30406509320417,
          4.5217885770490405,
          3.9512437185814275,
          4.430816798843313,
          4.3694478524670215,
          4.465908118654584,
          3.7612001156935624,
          4.330733340286331,
          3.9318256327243257,
          4.07753744390572,
          4.330733340286331,
          4.007333185232471,
          4.330733340286331,
          4.30406509320417,
          4.634728988229636,
          4.0943445622221,
          3.784189633918261,
          3.9512437185814275,
          4.852030263919617,
          4.204692619390966,
          5.3706380281276624,
          3.9512437185814275,
          4.465908118654584,
          4.465908118654584,
          5.159055299214529,
          3.9318256327243257,
          4.897839799950911,
          4.1588830833596715,
          4.418840607796598,
          3.1354942159291497,
          4.189654742026425,
          5.407171771460119,
          4.68213122712422,
          4.624972813284271,
          5.0369526024136295,
          4.290459441148391,
          4.127134385045092,
          4.382026634673881,
          5.25227342804663,
          4.532599493153256,
          2.8903717578961645,
          4.382026634673881,
          4.31748811353631,
          4.1588830833596715,
          4.31748811353631,
          4.07753744390572,
          3.871201010907891,
          3.912023005428146,
          4.1588830833596715,
          3.784189633918261,
          4.624972813284271,
          4.912654885736052,
          4.30406509320417,
          3.912023005428146,
          4.74493212836325,
          4.762173934797756,
          4.51085950651685,
          4.356708826689592,
          3.4965075614664802,
          4.532599493153256,
          3.828641396489095,
          4.442651256490317,
          4.356708826689592,
          4.3694478524670215,
          4.77912349311153,
          3.9889840465642745,
          4.5217885770490405,
          4.553876891600541,
          4.543294782270004,
          4.290459441148391,
          3.9318256327243257,
          3.8918202981106265,
          4.248495242049359,
          4.418840607796598,
          4.30406509320417,
          4.762173934797756,
          4.394449154672439,
          4.356708826689592,
          4.07753744390572,
          4.867534450455582,
          4.736198448394496,
          4.663439094112067,
          4.0943445622221,
          4.02535169073515,
          4.394449154672439,
          3.871201010907891,
          4.543294782270004,
          3.5553480614894135,
          4.499809670330265,
          4.1588830833596715,
          4.3694478524670215,
          4.3694478524670215,
          4.997212273764115,
          3.713572066704308,
          4.430816798843313,
          4.543294782270004,
          3.9318256327243257,
          4.290459441148391,
          4.700480365792417,
          4.290459441148391,
          4.1588830833596715,
          4.406719247264253,
          4.465908118654584,
          4.6913478822291435,
          4.653960350157523,
          4.0943445622221,
          3.5263605246161616,
          4.709530201312334,
          3.295836866004329
         ],
         "yaxis": "y"
        },
        {
         "boxpoints": "all",
         "customdata": [
          [
           "Who Dat Talkin Down",
           "Big Pokey (Screwed Up Click)"
          ],
          [
           "Start It Up",
           "RUSSELL!"
          ],
          [
           "FreeStyLe 2",
           "Ickes"
          ],
          [
           "B.D.S. Big Dick Syndrome",
           "Young Hokus"
          ],
          [
           "Fly Together",
           "Red Cafe"
          ],
          [
           "Secret love",
           "Mk Studios"
          ],
          [
           "Coming Home Remix",
           "Deph Naught"
          ],
          [
           "Starlight",
           "Passionate MC"
          ],
          [
           "Super Baked",
           "Sam Hill"
          ],
          [
           "Intro",
           "Lute"
          ],
          [
           "Leader",
           "Raphael Lake"
          ],
          [
           "Crows 1",
           "Aesop Rock"
          ],
          [
           "Devil  Us",
           "Flatbush Zombies"
          ],
          [
           "X Marks and Wristbands",
           "Ralph Martinez"
          ],
          [
           "Too Pussy To Freestyle",
           "Chaad"
          ],
          [
           "THE WHITE GUCCI MANE - Tatted Like A Biker Boy",
           "RiFF RAFF"
          ],
          [
           "Hard Life.",
           "Cole Ruud-Johnson"
          ],
          [
           "Ace Of Spades",
           "RiFF RAFF"
          ],
          [
           "Cruisin In the Evening",
           "Kid Cudi"
          ],
          [
           "Other Bitch",
           "BlaQ $now"
          ],
          [
           "City Lights",
           "Chachi Kamikazi"
          ],
          [
           "My Mind And My Pencil",
           "Kay"
          ],
          [
           "Up",
           "PHZ-Sicks"
          ],
          [
           "Put Em Up",
           "Lil' Snupe"
          ],
          [
           "SLR 3 Round of Applause",
           "Lupe Fiasco"
          ],
          [
           "Reptile Human",
           "The Anomalies"
          ],
          [
           "Tru Story",
           "Shy Glizzy"
          ],
          [
           "BB Kings",
           "Isaiah G"
          ],
          [
           "Take a Number",
           "Crudbump"
          ],
          [
           "Mos Definitely",
           "The Lost Children of Babylon"
          ],
          [
           "Fast Food",
           "Platinumclappas"
          ],
          [
           "Bedtime Story",
           "GoldLink"
          ],
          [
           "Rhyme Like Me",
           "SC Static"
          ],
          [
           "Pass It",
           "Steve Ricks"
          ],
          [
           "SIGN OF THE GUN",
           "Anthony Mendez"
          ],
          [
           "Phantom",
           "Honcho Deleonches"
          ],
          [
           "The Crash",
           "Why-Fi"
          ],
          [
           "Life I Know",
           "L Jinny"
          ],
          [
           "Vet Lungs",
           "Chief Keef"
          ],
          [
           "Buzzer Beaters",
           "Jogger (Rapper)"
          ],
          [
           "You Are Appreciated",
           "Zakk Scott"
          ],
          [
           "No Sleep",
           "Extinction Plaza"
          ],
          [
           "The Dream Team",
           "The Guild"
          ],
          [
           "Legendary",
           "Sik Kid"
          ],
          [
           "The City",
           "Bazanji"
          ],
          [
           "Arrest Me",
           "Moonshine Bandits"
          ],
          [
           "Cop A Freestyle",
           "Paper"
          ],
          [
           "Everybody",
           "Haze (ENG)"
          ],
          [
           "What’s Your Story?",
           "Tyler Joseph"
          ],
          [
           "Appreciation",
           "Andrew Jack"
          ],
          [
           "Grind",
           "Pierce Love"
          ],
          [
           "Hollywood Day One Niggas",
           "Young Junne"
          ],
          [
           "No Coach",
           "Cyrax"
          ],
          [
           "Hold Fast",
           "Corey Gipson"
          ],
          [
           "Good Guy Shoes",
           "Froggy Fresh"
          ],
          [
           "Intro Nobody 2",
           "12Hunna"
          ],
          [
           "5 Fingers of Death",
           "VIC MENSA"
          ],
          [
           "Trippin",
           "Lil Yachty"
          ],
          [
           "Killswitch",
           "Dizz Fresh"
          ],
          [
           "The Apollo 13 of Getting Blasted",
           "Poon Patrol"
          ],
          [
           "Just Two Fools",
           "Spanish F.L.Y."
          ],
          [
           "Retarded",
           "Boosie Badazz"
          ],
          [
           "Tasty",
           "Drapht"
          ],
          [
           "Killer Verse Freestyle",
           "Gina Rodriguez"
          ],
          [
           "Higher",
           "Solo 45"
          ],
          [
           "Im the One",
           "DJ Khaled"
          ],
          [
           "Litted Up",
           "Sunny Picasso"
          ],
          [
           "Pleaze",
           "Candy Ken"
          ],
          [
           "The Samurai Rap",
           "CoryxKenshin"
          ],
          [
           "In The Light",
           "Tragicalmusic"
          ],
          [
           "Million Dollar Figure Black Gatsby",
           "Torrence Jerell"
          ],
          [
           "OJ",
           "G2K!"
          ],
          [
           "I Cant stop",
           "P Money"
          ],
          [
           "N8m8 Sample Challenge",
           "Cartoon Misfits"
          ],
          [
           "UNEXPECTED",
           "BlackPanthaa"
          ],
          [
           "NEW HOLLYWOOD",
           "Yashar. G"
          ],
          [
           "SUPERSTARS",
           "Bad Smutt"
          ],
          [
           "Play",
           "Billy the Fridge"
          ],
          [
           "Rosario- Save Me Came Beats",
           "Rosario"
          ],
          [
           "ITRIEDTOEATHERGOOCHBUTITHADAZIT Ft. Lil¥enn",
           "Magelli"
          ],
          [
           "Reason",
           "Big Sean & Metro Boomin"
          ],
          [
           "DECEMBER 11th",
           "Chris King"
          ],
          [
           "Ma Phone Dead",
           "Lil' Pop"
          ],
          [
           "Praying Tears",
           "Elking"
          ],
          [
           "Deal with the devil",
           "Keii-Bii"
          ],
          [
           "Get money",
           "Monkey Man"
          ],
          [
           "​acid rain",
           "9TAILS"
          ],
          [
           "Hangin Out",
           "Brothers From Another"
          ],
          [
           "I Quit",
           "2kThaGoon"
          ],
          [
           "Homecoming",
           "Name"
          ],
          [
           "No more games",
           "Onika Jones"
          ],
          [
           "Love Me",
           "Trak"
          ],
          [
           "We Ride",
           "Lil Reek"
          ],
          [
           "Perspective",
           "Strado"
          ],
          [
           "SEES RED",
           "Wicca Phase Springs Eternal"
          ],
          [
           "This Road",
           "Apalachee Don"
          ],
          [
           "What?",
           "Sega Atari"
          ],
          [
           "Side Note original",
           "O'hene Savant"
          ],
          [
           "Racks",
           "Childish Breezy"
          ],
          [
           "Vinyl",
           "love-sadKiD"
          ],
          [
           "Final FantasyRemix",
           "Rin4s"
          ],
          [
           "IINAMIINUTE",
           "LXXXVIII"
          ],
          [
           "Patient",
           "JordanG17"
          ],
          [
           "Fuck Nigga",
           "Xanman"
          ],
          [
           "Nick Foles",
           "Boy Pierce"
          ],
          [
           "So Long",
           "Jake Morse"
          ],
          [
           "Duality",
           "Envy Black"
          ],
          [
           "Make Movies",
           "Whassup Whoadie"
          ],
          [
           "Inspired",
           "LilHavoc125"
          ],
          [
           "Homeless",
           "94 B-lo"
          ],
          [
           "Plastic",
           "Serge.zw"
          ],
          [
           "Star Studded",
           "Kool Keith"
          ],
          [
           "DUM",
           "ItzWonderfull & Baby Phace & Chris Patrick"
          ],
          [
           "My Hood",
           "Iyaz"
          ],
          [
           "Courage",
           "V4Vanquish"
          ],
          [
           "DONT TREAD ON ME",
           "Lil Darkie"
          ],
          [
           "Ballz Deep",
           "Xiihab"
          ],
          [
           "Rappers Delight",
           "A League of Their Own"
          ],
          [
           "Automatic",
           "Babyshark"
          ],
          [
           "Rinsed",
           "Myazwe"
          ],
          [
           "I Love U",
           "Nxbdy"
          ],
          [
           "Not by Chance",
           "KILLY"
          ],
          [
           "Switch To That Course",
           "Thuggizzle"
          ],
          [
           "Rec yo self",
           "Chirch Boi Willie"
          ],
          [
           "Green  Blue",
           "FlyyMija"
          ],
          [
           "By Myself",
           "TSXSN"
          ],
          [
           "Never Change ft Micmade × lil Paki",
           "Coolguy SMG"
          ],
          [
           "Opioid Crisis",
           "Ras Kass"
          ],
          [
           "911",
           "GRAVEHEART"
          ],
          [
           "Ketamine Honey",
           "Dizraeli"
          ],
          [
           "Recognizable",
           "Molten Ash (Evan Ash)"
          ],
          [
           "Link Up",
           "Subhas"
          ],
          [
           "I Dont Do Favors",
           "Likkle Slave"
          ],
          [
           "Today",
           "Yung D (King)"
          ],
          [
           "SpaceGhostPurrp Owns Miami",
           "SpaceGhostPurrp"
          ],
          [
           "Colors",
           "Sol Jay"
          ],
          [
           "Touche",
           "Greeley"
          ],
          [
           "Back Now",
           "Hassan Khaffaf"
          ],
          [
           "Thooka FREETAYK",
           "Blankfac3"
          ],
          [
           "Wannabe",
           "Delaine The Main"
          ],
          [
           "ICARUS YOU FLEW TOO HIGH",
           "Smoke Bomb"
          ],
          [
           "Young Zelda",
           "Yun Head"
          ],
          [
           "҂⌣̀_⌣́ SHABU track 5",
           "NOLANBEROLLIN"
          ],
          [
           "Monster",
           "Manwell"
          ],
          [
           "My January",
           "Aasim"
          ],
          [
           "Gold Rush",
           "El Sancho (ontario)"
          ],
          [
           "Live Loyal",
           "Co Cartel"
          ]
         ],
         "hovertemplate": "title: %{customdata[0]}<br>artist: %{customdata[1]}<br>log(words): %{y}",
         "name": "rap",
         "type": "box",
         "xaxis": "x",
         "y": [
          5.673323267171493,
          5.652489180268651,
          4.820281565605037,
          5.198497031265826,
          5.480638923341991,
          3.713572066704308,
          5.627621113690637,
          5.497168225293202,
          5.267858159063328,
          5.081404364984463,
          5.241747015059643,
          5.8971538676367405,
          6.023447592961033,
          5.288267030694535,
          4.110873864173311,
          4.584967478670572,
          5.402677381872279,
          4.919980925828125,
          5.365976015021851,
          5.247024072160486,
          5.308267697401205,
          5.187385805840755,
          5.3981627015177525,
          5.303304908059076,
          5.53338948872752,
          4.804021044733257,
          5.384495062789089,
          5.545177444479562,
          4.663439094112067,
          5.863631175598097,
          5.043425116919247,
          5.111987788356544,
          5.777652323222656,
          5.087596335232384,
          5.030437921392435,
          5.198497031265826,
          5.14166355650266,
          5.488937726156687,
          5.075173815233827,
          6.07073772800249,
          5.560681631015528,
          5.43372200355424,
          5.44673737166631,
          4.927253685157205,
          5.236441962829949,
          5.093750200806762,
          4.574710978503383,
          4.7535901911063645,
          4.919980925828125,
          5.19295685089021,
          5.10594547390058,
          4.709530201312334,
          4.955827057601261,
          4.844187086458591,
          5.575949103146316,
          4.532599493153256,
          5.910796644040527,
          4.454347296253507,
          5.288267030694535,
          4.564348191467836,
          2.3978952727983707,
          5.003946305945459,
          5.44673737166631,
          5.117993812416755,
          5.198497031265826,
          5.351858133476067,
          5.262690188904886,
          4.787491742782046,
          5.056245805348308,
          4.276666119016055,
          5.575949103146316,
          4.912654885736052,
          5.0689042022202315,
          3.713572066704308,
          5.497168225293202,
          5.4116460518550396,
          4.6443908991413725,
          5.049856007249537,
          4.955827057601261,
          4.77912349311153,
          5.3706380281276624,
          5.056245805348308,
          3.784189633918261,
          5.41610040220442,
          5.799092654460526,
          4.61512051684126,
          5.153291594497779,
          5.746203190540153,
          4.820281565605037,
          4.962844630259907,
          4.653960350157523,
          5.056245805348308,
          4.969813299576001,
          5.313205979041787,
          5.545177444479562,
          5.393627546352362,
          4.564348191467836,
          5.831882477283517,
          5.214935757608986,
          5.375278407684165,
          5.0369526024136295,
          4.976733742420574,
          3.7376696182833684,
          4.969813299576001,
          5.697093486505405,
          4.990432586778736,
          5.332718793265369,
          4.90527477843843,
          4.787491742782046,
          4.7535901911063645,
          5.43372200355424,
          5.332718793265369,
          5.241747015059643,
          5.135798437050262,
          5.267858159063328,
          5.814130531825066,
          4.852030263919617,
          5.017279836814924,
          5.659482215759621,
          5.313205979041787,
          4.04305126783455,
          4.852030263919617,
          5.308267697401205,
          5.777652323222656,
          5.25227342804663,
          4.941642422609304,
          5.293304824724492,
          6.313548046277095,
          5.159055299214529,
          5.043425116919247,
          5.484796933490655,
          5.187385805840755,
          4.969813299576001,
          4.406719247264253,
          4.68213122712422,
          5.159055299214529,
          5.82600010738045,
          4.672828834461906,
          4.9344739331306915,
          4.394449154672439,
          4.718498871295094,
          3.1780538303479458,
          4.770684624465665,
          4.6913478822291435,
          5.3612921657094255,
          5.631211781821365,
          5.187385805840755
         ],
         "yaxis": "y"
        },
        {
         "boxpoints": "all",
         "customdata": [
          [
           "Measurements",
           "James Blake"
          ],
          [
           "Stay Close 2 U",
           "I/O (Artist)"
          ],
          [
           "Give Me Love",
           "Ciara"
          ],
          [
           "It Wont Stop Mozaix Festival Radio Edit",
           "Sevyn Streeter"
          ],
          [
           "Reason",
           "L-prince"
          ],
          [
           "Like I Did",
           "OG Kiifa NumbaNine"
          ],
          [
           "Where Does The Time Go?",
           "The Bamboos"
          ],
          [
           "Boogieman",
           "Childish Gambino"
          ],
          [
           "Barcelona",
           "Bill Newman"
          ],
          [
           "Alright",
           "PEEPSnation"
          ],
          [
           "Gabriel",
           "NAO"
          ],
          [
           "Tear U Apart",
           "RLA"
          ],
          [
           "Bad Girls",
           "Blood Orange"
          ],
          [
           "Lucid",
           "BJFROMDABLOCK"
          ],
          [
           "Thinkin Bout You",
           "4theworld"
          ],
          [
           "DeVante Swing",
           "24hrs"
          ],
          [
           "Showin Love",
           "Elton Aura"
          ],
          [
           "Red Floor",
           "TE RIM ()"
          ]
         ],
         "hovertemplate": "title: %{customdata[0]}<br>artist: %{customdata[1]}<br>log(words): %{y}",
         "name": "rb",
         "type": "box",
         "xaxis": "x",
         "y": [
          3.6635616461296463,
          3.9318256327243257,
          4.48863636973214,
          4.634728988229636,
          5.225746673713202,
          4.8283137373023015,
          4.532599493153256,
          4.007333185232471,
          4.330733340286331,
          5.272999558563747,
          4.634728988229636,
          4.3694478524670215,
          4.3694478524670215,
          5.003946305945459,
          4.90527477843843,
          4.653960350157523,
          4.499809670330265,
          3.4657359027997265
         ],
         "yaxis": "y"
        },
        {
         "boxpoints": "all",
         "customdata": [
          [
           "Be a Toy",
           "Title Fight"
          ],
          [
           "Flaws",
           "Bastille"
          ],
          [
           "Back in the Tall Grass",
           "Future Islands"
          ],
          [
           "Something About You",
           "Phil Collins"
          ],
          [
           "Keep the Dogs at Bay",
           "Seether"
          ],
          [
           "Windows4Walls",
           "DDLUXZ"
          ],
          [
           "The Cookbook",
           "Bhi Bhiman"
          ],
          [
           "Ship to Wreck",
           "Florence + the Machine"
          ],
          [
           "Opponents at Sides",
           "Death Angel"
          ],
          [
           "Always",
           "Edie Brickell"
          ],
          [
           "New York",
           "Blind Pilot"
          ],
          [
           "Murder at Midnight",
           "Powerwolf"
          ],
          [
           "Trigger",
           "Cryoshell"
          ],
          [
           "A Million Moons",
           "Imperium Dekadenz"
          ],
          [
           "No Funeral",
           "Eleventh He Reaches London"
          ],
          [
           "Hey Allie",
           "The Bunny The Bear"
          ],
          [
           "Flag of Fate",
           "Witchcraft"
          ],
          [
           "Driver-Side Daylight",
           "Avion Roe"
          ],
          [
           "Surrender",
           "Passion"
          ],
          [
           "Hate by Design",
           "Killswitch Engage"
          ],
          [
           "The Real Wilderness",
           "Robert Pollard"
          ],
          [
           "Decisions",
           "Ocean Grove"
          ],
          [
           "To The Edge",
           "Kiama"
          ],
          [
           "Be My Baby",
           "Bayside"
          ],
          [
           "This Endless War",
           "Serpentine Dominion"
          ],
          [
           "Return of the White Rabbit",
           "Ash"
          ],
          [
           "Japan Song",
           "Paper Thin"
          ],
          [
           "ColorTV",
           "Kid Advay"
          ],
          [
           "My Love Is Quiet",
           "Adam Carpenter"
          ],
          [
           "Clairvoyant",
           "The Contortionist"
          ],
          [
           "Keeper",
           "Makari"
          ],
          [
           "Post-War Cinematic Dead Man Blues",
           "Chuck Prophet"
          ],
          [
           "Ruinous Calamity",
           "Iron Chic"
          ],
          [
           "Criminal",
           "Anarchy Club"
          ],
          [
           "More Than Youll Ever Be",
           "Sasquatch"
          ],
          [
           "Father’s Day",
           "Big Business"
          ],
          [
           "Halfhand",
           "Bedowyn"
          ],
          [
           "Drink About You",
           "Kate Nash"
          ],
          [
           "Shadow Expert",
           "Palm"
          ],
          [
           "Heart Attack Insomniac",
           "BRUXISM"
          ],
          [
           "Everlong",
           "Evergreen Terrace"
          ],
          [
           "Feel The Fire",
           "Abandoned"
          ],
          [
           "Black Hole Sun Live",
           "Soundgarden"
          ],
          [
           "Sour Grapes",
           "American Theory"
          ],
          [
           "Streets of Edinburgh",
           "The Proclaimers"
          ],
          [
           "Great Escape Pt 2",
           "Crippled Black Phoenix"
          ],
          [
           "Agency and Accountability",
           "RVE (Band)"
          ],
          [
           "No Way Out",
           "Undead Slayer"
          ],
          [
           "Spaces In-Between",
           "Fanfare"
          ],
          [
           "Alien",
           "Hands Off Gretel"
          ],
          [
           "Holyoke",
           "Craig Finn"
          ],
          [
           "Bodied",
           "Improvidence"
          ],
          [
           "Downtown",
           "SBC Lyricist"
          ],
          [
           "Fly to Heaven",
           "Lucette"
          ],
          [
           "Infinite Suck OG version",
           "I Set My Friends On Fire"
          ],
          [
           "Their Own Way",
           "The Jellybricks"
          ],
          [
           "Cosmic Kidd Nappers",
           "Duck Duck Goose"
          ],
          [
           "Limerance",
           "Eyelet"
          ],
          [
           "Using Rapebabies as Riot Shields",
           "Abrted Hitler Cck"
          ],
          [
           "The Resort Beyond the Last Resort",
           "Collapsing Scenery"
          ],
          [
           "Empires to Servitude",
           "Seraph in Travail"
          ],
          [
           "The Damage Is Done",
           "FourFiveFour"
          ],
          [
           "Carnage",
           "Chasing Embers"
          ],
          [
           "Untethered",
           "Dark Signal"
          ],
          [
           "Battle of Heart Mind and Soul",
           "Greater Revival"
          ],
          [
           "Set the Controls for the Heart of the Sun",
           "Zana Mashhoon"
          ],
          [
           "Sign of the Raven",
           "Angel Sword"
          ],
          [
           "Raze This Town",
           "Engine Three Seven"
          ],
          [
           "Mouths Still Work",
           "The Ready Aim Fire!"
          ],
          [
           "Into the Dark",
           "Warpath"
          ],
          [
           "Palisades",
           "Eric Slick"
          ],
          [
           "Afterworld Remnants",
           "Holycide"
          ],
          [
           "From the Sky",
           "London Above"
          ],
          [
           "No Harm Live at the Forum",
           "The Boxer Rebellion"
          ],
          [
           "Rotter",
           "The Cherry Wave"
          ],
          [
           "Good Guitar",
           "Ashbury"
          ],
          [
           "Electric Disaster",
           "Curse of the Forgotten"
          ],
          [
           "Spite",
           "Juliet Ruin"
          ],
          [
           "She Shakes My Foundation From Miles Away",
           "Sound Of A Smirk"
          ],
          [
           "Does It Bleed",
           "Acrylics"
          ],
          [
           "Empty Pages",
           "Tony Winters"
          ]
         ],
         "hovertemplate": "title: %{customdata[0]}<br>artist: %{customdata[1]}<br>log(words): %{y}",
         "name": "rock",
         "type": "box",
         "xaxis": "x",
         "y": [
          3.7376696182833684,
          4.31748811353631,
          4.532599493153256,
          4.465908118654584,
          4.31748811353631,
          4.948759890378168,
          4.663439094112067,
          4.61512051684126,
          4.653960350157523,
          3.4657359027997265,
          4.68213122712422,
          4.6913478822291435,
          4.290459441148391,
          3.8066624897703196,
          4.912654885736052,
          4.394449154672439,
          4.07753744390572,
          4.532599493153256,
          3.970291913552122,
          4.356708826689592,
          3.258096538021482,
          4.430816798843313,
          4.844187086458591,
          4.07753744390572,
          4.430816798843313,
          4.07753744390572,
          4.2626798770413155,
          3.4965075614664802,
          4.584967478670572,
          4.31748811353631,
          4.343805421853684,
          4.382026634673881,
          4.219507705176107,
          3.7612001156935624,
          3.8066624897703196,
          4.174387269895637,
          4.418840607796598,
          4.68213122712422,
          2.995732273553991,
          4.499809670330265,
          4.204692619390966,
          4.394449154672439,
          4.394449154672439,
          4.997212273764115,
          4.663439094112067,
          3.9318256327243257,
          3.871201010907891,
          5.342334251964811,
          4.430816798843313,
          4.465908118654584,
          5.093750200806762,
          4.9344739331306915,
          4.23410650459726,
          3.9512437185814275,
          5.075173815233827,
          4.276666119016055,
          5.135798437050262,
          4.110873864173311,
          3.58351893845611,
          4.564348191467836,
          5.247024072160486,
          4.382026634673881,
          4.394449154672439,
          4.07753744390572,
          4.330733340286331,
          4.1588830833596715,
          4.605170185988092,
          4.2626798770413155,
          3.044522437723423,
          4.700480365792417,
          4.3694478524670215,
          4.1588830833596715,
          4.343805421853684,
          4.1588830833596715,
          3.367295829986474,
          4.30406509320417,
          4.143134726391533,
          4.51085950651685,
          4.356708826689592,
          3.8501476017100584,
          4.820281565605037
         ],
         "yaxis": "y"
        },
        {
         "boxpoints": "all",
         "customdata": [
          [
           "Hurt",
           "CallMeKevin"
          ],
          [
           "Love Me Like the Movies",
           "Vicki Manser"
          ],
          [
           "Girl Like You",
           "Clayton Shay"
          ],
          [
           "Snow White",
           "Donny Parenteau"
          ],
          [
           "Someone Somewhere",
           "Nelly"
          ],
          [
           "It Aint Me",
           "Dustin Bird"
          ],
          [
           "Old Phone",
           "CB30"
          ],
          [
           "Mexican Restaurant",
           "Leah Blevins"
          ],
          [
           "Right Angles",
           "Aaron Hatcher"
          ]
         ],
         "hovertemplate": "title: %{customdata[0]}<br>artist: %{customdata[1]}<br>log(words): %{y}",
         "name": "country",
         "type": "box",
         "xaxis": "x2",
         "y": [
          4.442651256490317,
          4.59511985013459,
          4.330733340286331,
          4.356708826689592,
          4.553876891600541,
          4.330733340286331,
          4.700480365792417,
          4.442651256490317,
          5.062595033026967
         ],
         "yaxis": "y2"
        },
        {
         "boxpoints": "all",
         "customdata": [
          [
           "We Got the Beat",
           "Powerman 5000"
          ],
          [
           "Take a look at you",
           "Alyssa Floyd"
          ],
          [
           "Pickle And Peanut Intro",
           "Disney"
          ],
          [
           "I Remember",
           "Behan the Scene"
          ],
          [
           "Rocket Pt. 2",
           " ilomilo "
          ],
          [
           "Sixty",
           "Real-Tre-Way"
          ],
          [
           "For Narmer",
           "Keith Power"
          ]
         ],
         "hovertemplate": "title: %{customdata[0]}<br>artist: %{customdata[1]}<br>log(words): %{y}",
         "name": "misc",
         "type": "box",
         "xaxis": "x2",
         "y": [
          4.07753744390572,
          4.543294782270004,
          3.828641396489095,
          6.517671272912275,
          4.276666119016055,
          4.454347296253507,
          4.276666119016055
         ],
         "yaxis": "y2"
        },
        {
         "boxpoints": "all",
         "customdata": [
          [
           "Love Is Like A Heat Wave",
           "The Who"
          ],
          [
           "Only A Dream",
           "Zella Day"
          ],
          [
           "The Road",
           "Starry Musical"
          ],
          [
           "When You Believe",
           "Original West End Cast of The Prince of Egypt"
          ],
          [
           "Eve Bounce",
           "Yung L"
          ],
          [
           "Magic",
           "Diddit"
          ],
          [
           "My Bad KSHMR Edit",
           "Advanced ()"
          ],
          [
           "Light It Up",
           "Laura Negrin"
          ],
          [
           "Strangers The Small Things Remix",
           "17 Memphis"
          ],
          [
           "​drownin in my 40",
           "Nicoteen Ninyo"
          ],
          [
           "You Are Everything",
           "Anthony Rogers & The Source Band"
          ],
          [
           "Corona Na Na",
           "Rucka Rucka Ali"
          ],
          [
           "Between Us",
           "Shaquib Shaikh"
          ],
          [
           "Everybody Says Dont",
           "Bobby Conte Thornton"
          ],
          [
           "Ghost",
           "Dyslm"
          ],
          [
           "Earth Baby",
           "Robin Bacior"
          ],
          [
           "Need Your Love Crystal Skies Remix",
           "Gryffin & Seven Lions"
          ],
          [
           "Portal",
           "The Ultimate Destroyer"
          ],
          [
           "​db8",
           "printer"
          ],
          [
           "Rusted Bicycle",
           "Shaan Singla"
          ],
          [
           "Liberation",
           "Nickey BOOM"
          ],
          [
           "Last Train Home",
           "Ella Wadman"
          ],
          [
           "Breaking Free",
           "Yana Zafiro"
          ],
          [
           "Daydream",
           "Hugo Costin"
          ],
          [
           "Different Places",
           "frvr&alwys"
          ],
          [
           "Wish I Was",
           "Gretchen Peters"
          ],
          [
           "Asteroid",
           "Asfaldo Dianysok"
          ],
          [
           "Modus Operandi",
           "Crescenda"
          ],
          [
           "Breathe",
           "Ayden (indie)"
          ],
          [
           "Ily Sm",
           "Ginero"
          ],
          [
           "No water",
           "Jahmali"
          ],
          [
           "Abena",
           "Y'ung-k ryan"
          ],
          [
           "Hold Me Close",
           "DJ Blighty"
          ],
          [
           "Tied To Feeling",
           "Maizie Manna"
          ],
          [
           "Untitled Rainsong",
           "Nevers Have I Evers"
          ],
          [
           "Ok",
           "Mating Ritual"
          ],
          [
           "Vicious Pastimes",
           "House of Harm"
          ],
          [
           "Dont Tell Them",
           "Chalant"
          ],
          [
           "Super Glue",
           "Kayar"
          ],
          [
           "The Last Time",
           "San Silke & Chris Kabs"
          ],
          [
           "Scream  Shout",
           "Angelica Nyblom"
          ],
          [
           "Halleluyah",
           "Endless Joy"
          ],
          [
           "Under The River",
           "Saya No"
          ],
          [
           "Judy Byrd",
           "Juniper Avenue"
          ],
          [
           "Who is Aura?",
           "Aura Moreno"
          ],
          [
           "Too Late",
           "Kirklandd"
          ],
          [
           "Picture This",
           "Luiza Nis"
          ],
          [
           "Dime Adiós Say Goodbye to Me",
           "Matt Lovell"
          ],
          [
           "My Body Knows",
           "Sol Hess"
          ],
          [
           "Limelight",
           "Clea"
          ],
          [
           "I Love You Too",
           "Peter McPoland"
          ],
          [
           "Untitled.mov",
           "lieu"
          ],
          [
           "Empty",
           "Rxf"
          ],
          [
           "Brown Cows Of Elocution",
           "Zen Baseballbat"
          ],
          [
           "In This XMAS",
           "Denis Seven"
          ],
          [
           "Until It Sticks",
           "House Phone"
          ],
          [
           "Tozier",
           "NutJob Lewis"
          ],
          [
           "Whorish Face",
           "Westboro Baptist Church"
          ],
          [
           "Visions",
           "Venture Boi"
          ],
          [
           "Rise Jonas Blue  Eden Prince Club Mix",
           "Jonas Blue"
          ],
          [
           "Element 115",
           "Funker Vogt"
          ],
          [
           "Bully Boys",
           "Brave The Sea"
          ],
          [
           "Witness",
           "Camila Cabello"
          ],
          [
           "Youre So",
           "Mark McKenna"
          ],
          [
           "Dirge",
           "Vivian Fine"
          ],
          [
           "In Between",
           "32Stitches"
          ],
          [
           "Johnny  Jonnie",
           "Twin Shadow"
          ],
          [
           "Dirty Lies",
           "Kesen"
          ],
          [
           "Bubble Burst",
           "Andrew Judah"
          ],
          [
           "​something real",
           "Remme"
          ],
          [
           "Bliss",
           "Kod"
          ],
          [
           "Dance Floor Darling Extended Mix",
           "Kylie Minogue"
          ],
          [
           "That Call",
           "Talker Fields"
          ],
          [
           "A’udhubillah | أعوذ بالله",
           "Labbayk"
          ],
          [
           "Nike",
           "Blest Jones"
          ],
          [
           "A Stranger",
           "Faye Webster"
          ],
          [
           "Treating Me Right",
           "Nicholas Philmon"
          ],
          [
           "Work 4 It",
           "POVRecords"
          ],
          [
           "Walking Backwards",
           "Sugar Limb"
          ],
          [
           "Chameleon",
           "Toi"
          ],
          [
           "Homebound",
           "Bandanabloom"
          ],
          [
           "June",
           "elusin"
          ],
          [
           "SPOOKY TERRY",
           "Rileyjs"
          ],
          [
           "self",
           "illexotic"
          ],
          [
           "L-u-r-e-d",
           "Sushicide"
          ],
          [
           "Dancing with my bad waves",
           "Gothbabyy"
          ],
          [
           "Boudewijn",
           "LIONLION"
          ],
          [
           "My Future Forgot You",
           "Connor Philipp"
          ],
          [
           "Bad Little Boy",
           "Kade McCuen"
          ],
          [
           "Help / Less",
           "Mika Jones"
          ],
          [
           "Brooklyn",
           "Alex Banin"
          ],
          [
           "What You Are",
           "Gxbrielle"
          ],
          [
           "Vision In Purple",
           "With Joe"
          ],
          [
           "Water Island",
           "My Singing Monsters"
          ],
          [
           "Something I Need",
           "1lucina"
          ],
          [
           "Raindance",
           "Tormint"
          ],
          [
           "Martha",
           "Maria Kelly (IRE)"
          ],
          [
           "Vibe",
           "Just Fern"
          ],
          [
           "Plz Be Safe...",
           "Xaxanity"
          ],
          [
           "Heartless",
           "YUZUYA"
          ],
          [
           "Sad Girl",
           "GLDI (the name is Goldi)"
          ],
          [
           "How can i ease the pain?",
           "Harris"
          ],
          [
           "Into The Light Rêve",
           "Chandler Crump"
          ],
          [
           "Outsiders",
           "UNSECRET"
          ],
          [
           "Legends",
           "Justin Raisen"
          ],
          [
           "Dancing at the Doors of Heaven",
           "Son Mieux"
          ],
          [
           "Montana",
           "RILEY THE MUSICIAN"
          ],
          [
           "Goodnight",
           "Glenn Gould"
          ],
          [
           "Older",
           "Autoheart"
          ],
          [
           "Apostrophe",
           "The Doubleclicks"
          ],
          [
           "Miracle",
           "Geekenders"
          ],
          [
           "Documentation",
           "Danai Nielsen"
          ],
          [
           "Till You Do",
           "Miguel Marco"
          ],
          [
           "AAA",
           "Terrence615"
          ],
          [
           "Toxicity",
           "Zevia & R-N-LA"
          ],
          [
           "Long Lost",
           "Katherine Cleary"
          ],
          [
           "Your Love Is a Well",
           "First15 Worship"
          ],
          [
           "​you ruined phoebe bridgers",
           "Anya Gupta"
          ],
          [
           "​monsters in my hallway",
           "Comb4t"
          ],
          [
           "Inappropriate",
           "RIVER (DEU)"
          ],
          [
           "Rains Too Much",
           "Bickle"
          ],
          [
           "Wintertime Ballad",
           "ALMOSTGONE"
          ],
          [
           "Allergy Season",
           "Isabel Wood"
          ],
          [
           "Jesse Cmon",
           "KAWALA"
          ],
          [
           "Body",
           "Ella Henderson"
          ],
          [
           "Monster",
           "Maggie Brewer"
          ],
          [
           "Luv I Luv",
           "Janet Jackson"
          ],
          [
           "Argument Then Divorce",
           "Chimp Apparatus"
          ],
          [
           "My Peace Is Jesus",
           "Shelly E. Johnson"
          ],
          [
           "Bittersweet",
           "Jessie Murph"
          ],
          [
           "TEST ME",
           "Kyojin Beats"
          ],
          [
           "Idiot Arson",
           "Diet tea other cola"
          ],
          [
           "Cobman",
           "David Thoughie"
          ],
          [
           "Is Allowed",
           "RudeBoy (Paul Okoye)"
          ],
          [
           "​sink",
           "aldn"
          ],
          [
           "Black Swan",
           "Sybil Cyndis"
          ],
          [
           "Autopilot",
           "Allison Ponthier"
          ]
         ],
         "hovertemplate": "title: %{customdata[0]}<br>artist: %{customdata[1]}<br>log(words): %{y}",
         "name": "pop",
         "type": "box",
         "xaxis": "x2",
         "y": [
          4.1588830833596715,
          4.356708826689592,
          5.081404364984463,
          4.634728988229636,
          4.564348191467836,
          4.406719247264253,
          4.867534450455582,
          4.189654742026425,
          4.919980925828125,
          4.174387269895637,
          4.189654742026425,
          5.308267697401205,
          4.382026634673881,
          4.672828834461906,
          3.044522437723423,
          4.3694478524670215,
          4.356708826689592,
          4.820281565605037,
          3.6109179126442243,
          4.30406509320417,
          4.574710978503383,
          4.3694478524670215,
          4.143134726391533,
          4.248495242049359,
          3.9318256327243257,
          4.564348191467836,
          4.465908118654584,
          4.624972813284271,
          3.9512437185814275,
          4.0943445622221,
          4.465908118654584,
          4.543294782270004,
          4.6913478822291435,
          4.584967478670572,
          4.189654742026425,
          4.634728988229636,
          4.634728988229636,
          4.770684624465665,
          4.77912349311153,
          4.442651256490317,
          4.04305126783455,
          3.8918202981106265,
          4.653960350157523,
          4.248495242049359,
          3.332204510175204,
          5.049856007249537,
          4.61512051684126,
          4.31748811353631,
          4.127134385045092,
          4.532599493153256,
          3.970291913552122,
          4.02535169073515,
          5.384495062789089,
          4.290459441148391,
          4.2626798770413155,
          4.990432586778736,
          4.77912349311153,
          3.5553480614894135,
          4.406719247264253,
          4.406719247264253,
          4.382026634673881,
          4.1588830833596715,
          4.330733340286331,
          4.248495242049359,
          3.6635616461296463,
          4.5217885770490405,
          4.060443010546419,
          5.093750200806762,
          4.110873864173311,
          4.61512051684126,
          3.332204510175204,
          4.6913478822291435,
          3.9889840465642745,
          4.418840607796598,
          4.812184355372417,
          4.382026634673881,
          4.1588830833596715,
          4.634728988229636,
          4.477336814478207,
          4.219507705176107,
          5.37989735354046,
          4.1588830833596715,
          4.5217885770490405,
          4.382026634673881,
          4.23410650459726,
          3.912023005428146,
          3.871201010907891,
          4.804021044733257,
          5.062595033026967,
          4.110873864173311,
          4.406719247264253,
          4.30406509320417,
          4.3694478524670215,
          3.4011973816621555,
          4.418840607796598,
          4.30406509320417,
          4.584967478670572,
          5.71042701737487,
          3.367295829986474,
          4.74493212836325,
          4.430816798843313,
          4.127134385045092,
          5.272999558563747,
          3.9512437185814275,
          4.060443010546419,
          4.276666119016055,
          4.356708826689592,
          4.465908118654584,
          4.6443908991413725,
          4.110873864173311,
          5.71042701737487,
          2.833213344056216,
          4.382026634673881,
          4.859812404361672,
          4.624972813284271,
          3.828641396489095,
          4.1588830833596715,
          4.430816798843313,
          4.30406509320417,
          4.04305126783455,
          3.828641396489095,
          4.394449154672439,
          4.418840607796598,
          4.330733340286331,
          4.543294782270004,
          4.127134385045092,
          3.295836866004329,
          3.8501476017100584,
          3.784189633918261,
          2.995732273553991,
          4.418840607796598,
          4.30406509320417,
          4.653960350157523,
          4.859812404361672,
          4.007333185232471,
          5.0106352940962555,
          4.290459441148391
         ],
         "yaxis": "y2"
        },
        {
         "boxpoints": "all",
         "customdata": [
          [
           "Wearing My Rolex Remix",
           "Wiley"
          ],
          [
           "Education Week 16",
           "Mar$ Gram"
          ],
          [
           "Growing Pains",
           "Harun, Hyles"
          ],
          [
           "Pheromones",
           "Rome Fortune"
          ],
          [
           "Pray for Me",
           "LesTheGenius"
          ],
          [
           "Tag Team Ladder Match",
           "Debris Stevenson"
          ],
          [
           "Ghost of You",
           "Ivory"
          ],
          [
           "Wat i Interlude",
           "Wat \"i\" (Kidd Roah)"
          ],
          [
           "Too Hard",
           "James Rey"
          ],
          [
           "Eudaemon",
           "Jehnova"
          ],
          [
           "Run It Back",
           "Laurent"
          ],
          [
           "No Pressure",
           "Bad As Swiss"
          ],
          [
           "Wavey",
           "Guans"
          ],
          [
           "Drummi",
           "Orion"
          ],
          [
           "POURING UP",
           "Celxry"
          ],
          [
           "Cruise",
           "AyeNeon"
          ],
          [
           "The World Gets High",
           "TNL"
          ],
          [
           "Flashbacks",
           "Deante' Hitchcock"
          ],
          [
           "Mithai",
           "Frenzo Harami X Sevaqk"
          ],
          [
           "BoB  Weve Found",
           "2 La Kil"
          ],
          [
           "YC Myles - True Story",
           "YC Myles"
          ],
          [
           "No Cap",
           "Theprinceofnc"
          ],
          [
           "Year of the Dog",
           "Azizi Gibson"
          ],
          [
           "Fill My Cup",
           "Bizzle"
          ],
          [
           "Captain",
           "3C The G.O.A.T"
          ],
          [
           "Just Like U",
           "DAPHYA"
          ],
          [
           "Outta my way",
           "Bawri Soch"
          ],
          [
           "RUN CMD",
           "Spain1of1"
          ],
          [
           "Lupitas Interlude",
           "Kota the Friend"
          ],
          [
           "Outer Space",
           "Lil Peej"
          ],
          [
           "Memories",
           "Witnez"
          ],
          [
           "Mona Lisa prod.Haaga",
           "EyeDee"
          ],
          [
           "A Thousand Wishes",
           "Bruno Turek"
          ],
          [
           "Shining",
           "Kxng Dee"
          ],
          [
           "​i like tar remix",
           "Riffey"
          ],
          [
           "Kylo Ren",
           "Zizzy Phantom"
          ],
          [
           "Multiple Flows",
           "Lil Wayne & Lil Uzi Vert"
          ],
          [
           "DELIRIUM",
           "ViJilance"
          ],
          [
           "IC3",
           "Eugy Official"
          ],
          [
           "Greedy Death",
           "BRANDISNT"
          ],
          [
           "Ew",
           "UnoTheActivist"
          ],
          [
           "Love Songs Ne-Yo - So Sick Remix",
           "GAVINTHEGR8"
          ],
          [
           "Puff Chest",
           "Crazy Titch"
          ],
          [
           "I Miss You",
           "Nick Wavy"
          ],
          [
           "Hole in One",
           "CLBRKS"
          ],
          [
           "Blew Off the Roof",
           "BoSwag"
          ],
          [
           "Ykws",
           "Miit Simsiv"
          ],
          [
           "Long Live Dez",
           "Melvin Hollings"
          ],
          [
           "How Many Times",
           "Nasty C"
          ],
          [
           "Angel Eyes",
           "Nino Blu"
          ],
          [
           "Designer",
           "Kay Dolla $ign"
          ],
          [
           "How We Rock Run It Up",
           "Lil Tecca"
          ],
          [
           "Louis Vuitton",
           "Matty Cent"
          ],
          [
           "Mister Nice Two",
           "Fox0r"
          ],
          [
           "Think Too Much",
           "Oz the Oddz"
          ],
          [
           "Fourier",
           "Saint Ant"
          ],
          [
           "Lead Them",
           "Lyonation"
          ],
          [
           "Fantasy",
           "Thatdudechandler"
          ],
          [
           "Reminiscin",
           "VERYRAREPROPHET"
          ],
          [
           "MeU ft. hosstheonly",
           "Retro Mafia"
          ],
          [
           "I SuCk At RaPpInG R@NT TR@CK",
           "GxgetaLegion"
          ],
          [
           "Another Youth",
           "Chronixx"
          ],
          [
           "Die Lit",
           "Anish Ghosh and Afamefuna"
          ],
          [
           "Child of the sun",
           "LUXiiDLiiFE"
          ],
          [
           "Homicide Suicide",
           "Grimm Sleeper"
          ],
          [
           "Euphoria",
           "Juvy aka almostdead"
          ],
          [
           "Ride Or Stay",
           "J STACXS"
          ],
          [
           "2223",
           "1hunnid_beats & AV16 Black"
          ],
          [
           "Toxic",
           "Sean Wright"
          ],
          [
           "To Pimp A Beandogg",
           "BenoTime"
          ],
          [
           "She Wanna",
           "IHateJulian"
          ],
          [
           "Roots Reloaded",
           "Zakwe"
          ],
          [
           "Jd santaa",
           "Jd santaa200"
          ],
          [
           "20000 HERTZ",
           "twxg"
          ],
          [
           "Hard To Trust",
           "King Von"
          ],
          [
           "CLIQUE Freestyle",
           "KacC"
          ],
          [
           "Green Beam",
           "Lil Mosey"
          ],
          [
           "Hurt me",
           "Rxsemxxn"
          ],
          [
           "Bantu",
           "Blaze Aliaz"
          ],
          [
           "Sky Is Falling",
           "Yamine & Levi Socha"
          ],
          [
           "Macaroni intro",
           "Evanwhitt"
          ],
          [
           "3 Jamaican Rings",
           "Emmy Duvo"
          ],
          [
           "Imposters",
           "2CraZ"
          ],
          [
           "Venus",
           "Bryse"
          ],
          [
           "Wuz Hannin",
           "Steexus Christ"
          ],
          [
           "PRIME TIME Demo",
           "Nyora Spouse"
          ],
          [
           "Push Thru",
           "MicahTron"
          ],
          [
           "Thought of You",
           "North Point"
          ],
          [
           "Im ready for it",
           "YesJunior24"
          ],
          [
           "Global",
           "Ronnie Styles"
          ],
          [
           "Fist Fights",
           "Scorpinox"
          ],
          [
           "N Texas",
           "Street Hymns"
          ],
          [
           "The Best Is Yet to Come",
           "WTFBRAHH"
          ],
          [
           "Tokyo Drift Freestyle",
           "TrxggaTre"
          ],
          [
           "Dimension",
           "K Suave"
          ],
          [
           "Effortlyss",
           "NightTyme"
          ],
          [
           "Salata",
           "Moniji"
          ],
          [
           "Comfortable",
           "Calabasas"
          ],
          [
           "Suffering Exists",
           "Akira The Don"
          ],
          [
           "Everybody Hate Chris",
           "Topher"
          ],
          [
           "Purple",
           "Boredewil"
          ],
          [
           "Buyer’s Remorse Cashing in the Reality Check",
           "Kole Xidas"
          ],
          [
           "Sorry Charlie",
           "Veronica Cooper"
          ],
          [
           "Memories Pt.2",
           "Yamine"
          ],
          [
           "Cemetery",
           "Tablefourteen"
          ],
          [
           "Ultimate Bad Guy",
           "Big Burss"
          ],
          [
           "Imposters Assumptions",
           "Jay Spacey"
          ],
          [
           "No Dress Code",
           "Billie Essco"
          ],
          [
           "Options",
           "YSM Dylan"
          ],
          [
           "Going up",
           "Spectra"
          ],
          [
           "Water Me",
           "Lunatika"
          ],
          [
           "From The Drop",
           "@Teller23"
          ],
          [
           "Here to Stay",
           "Y.D.G {YasDaGr8t}"
          ],
          [
           "15 Bottles",
           "RJLDiablo & wetbreadguy music"
          ],
          [
           "Flawless",
           "sora9k"
          ],
          [
           "Holy",
           "YUNGDIORADDICT"
          ],
          [
           "Shoot to Kill",
           "Stillharley"
          ],
          [
           "Too Late",
           "KikidotD"
          ],
          [
           "I Can Feel It",
           "Jordan Black"
          ],
          [
           "The Mom vs. Middle Child Rap Battle",
           "Kyle Exum"
          ],
          [
           "By My Lonely",
           "Alonetyme"
          ],
          [
           "​be cautious",
           "Toosii"
          ],
          [
           "Escobar",
           "Nuzzy"
          ],
          [
           "Attachments",
           "Juice WRLD & Young Thug"
          ],
          [
           "Bestfriend",
           "$hyfromdatre"
          ],
          [
           "The Box Freestyle",
           "Feby"
          ],
          [
           "WAY TOO LIT CLUB JUMPIN",
           "THE BOB [TB]"
          ],
          [
           "‎stained cup",
           "Lil Shine"
          ],
          [
           "IM MAD",
           "MERCYKILL"
          ],
          [
           "Oh No Madden Version",
           "BRS Kash & EA Sports Madden NFL"
          ],
          [
           "Fire in the Booth Pt. 1",
           "Mitch"
          ],
          [
           "LOTUS",
           "TheHxliday"
          ],
          [
           "Rondo",
           "Yng Kay"
          ],
          [
           "What’s With the Hold Up",
           "TREYTREYTREY"
          ],
          [
           "Clash?",
           "Chip"
          ],
          [
           "OK BYE",
           "Professor Paul"
          ],
          [
           "Mary Annett",
           "Cold Hart"
          ],
          [
           "Tell My Story",
           "Valentino Sa"
          ],
          [
           "The Lazy Song",
           "Transcribing do not edit"
          ],
          [
           "NO DANCES",
           "BLOODCLOTS"
          ],
          [
           "Appointment",
           "BULK Requiem"
          ],
          [
           "I Know You Know",
           "Jay Torantino"
          ],
          [
           "Im Dynamite",
           "VVEST"
          ],
          [
           "Fresh Off A Heartbreak",
           "Fresco Trey"
          ],
          [
           "Deal With My Ugly",
           "Jay Eazy"
          ],
          [
           "Make It Flip",
           "ZaeHD & CEO"
          ],
          [
           "​h4rd",
           "sewerperson & JabariOnTheBeat"
          ],
          [
           "Omw",
           "Wolfram_W74"
          ],
          [
           "ALL RED",
           "Sickboyrari"
          ],
          [
           "Van Gogh",
           "Amin"
          ],
          [
           "CHINESE",
           "GetRichZay"
          ],
          [
           "WE GET HIGH Pt. 2",
           "SAKITARO"
          ],
          [
           "Black Air Force Energy",
           "DizzyEight"
          ],
          [
           "Washin",
           "GRKVII"
          ],
          [
           "Ss3 Intro",
           "Lil Reese"
          ],
          [
           "Regrets",
           "Tommi Truthz"
          ],
          [
           "Pit",
           "2Real Ent."
          ],
          [
           "Said It’s Lit",
           "22Gz"
          ],
          [
           "Hakuna Matata",
           "R2G Bandz"
          ],
          [
           "AEOU LIVE in Chicago",
           "Oliver Francis"
          ],
          [
           "Beatbox Remix",
           "OTW Sage"
          ],
          [
           "NEW STAR",
           "YoungJHollyWood"
          ],
          [
           "The Move Episode 2",
           "Big Tobz, Blittz & The HeavyTrackerz"
          ],
          [
           "Rambling - Skit",
           "Zac Da GOAT"
          ],
          [
           "Time table",
           "ONLY_DRIFT_KING"
          ],
          [
           "God as my witness",
           "CARTIER HENDRIX"
          ],
          [
           "Psycho",
           "Xairon"
          ],
          [
           "Demons",
           "OnlyGotDope"
          ],
          [
           "😞different_days_same_feeling🖤",
           "F8 Productions"
          ],
          [
           "Last",
           "save"
          ],
          [
           "40",
           "Curly Savv"
          ],
          [
           "Logging In",
           "Doubting Trevor & Red Wizxrd"
          ],
          [
           "12/13/2021",
           "Ghetti"
          ],
          [
           "DOG TOY",
           "Selfmxdebless"
          ],
          [
           "Crumbs",
           "Sensei Clean"
          ],
          [
           "Uptown",
           "Knaxx"
          ],
          [
           "Usain Boo",
           "Kodak Black"
          ],
          [
           "Mr. Misery Soul to Take",
           "Empires.Collapse"
          ],
          [
           "Big Dream",
           "Michael Sullivan"
          ],
          [
           "Hold Me",
           "Geminiapex & Reashie"
          ],
          [
           "Never last",
           "txyb"
          ],
          [
           "BOOGEYMAN BOP 2K22",
           "DATURAHILL"
          ],
          [
           "Ill Never Have Your Love",
           "Rocky Maps"
          ],
          [
           "Wayside",
           "Kumazis!"
          ],
          [
           "Advice",
           "Yun kobe"
          ],
          [
           "Flip",
           "Nate Rose & Jon Keith"
          ],
          [
           "Wont Miss",
           "Yung vis"
          ],
          [
           "Drowning",
           "AJ_Official2005"
          ],
          [
           "Cant Be Us",
           "Fivio Foreign"
          ],
          [
           "Holy Smokes",
           "AluDrac"
          ],
          [
           "Dont Leave Me Behind.",
           "Xhaler"
          ],
          [
           "Green",
           "SAKOON"
          ],
          [
           "Guap Up",
           "CHIMERIX"
          ]
         ],
         "hovertemplate": "title: %{customdata[0]}<br>artist: %{customdata[1]}<br>log(words): %{y}",
         "name": "rap",
         "type": "box",
         "xaxis": "x2",
         "y": [
          5.181783550292085,
          4.912654885736052,
          5.3981627015177525,
          4.770684624465665,
          5.4638318050256105,
          5.872117789475416,
          4.430816798843313,
          4.61512051684126,
          4.897839799950911,
          5.365976015021851,
          5.220355825078324,
          4.795790545596741,
          4.836281906951478,
          4.430816798843313,
          4.74493212836325,
          4.718498871295094,
          5.723585101952381,
          5.545177444479562,
          5.049856007249537,
          5.560681631015528,
          5.214935757608986,
          5.480638923341991,
          4.969813299576001,
          5.579729825986222,
          5.2574953720277815,
          5.081404364984463,
          5.932245187448011,
          5.003946305945459,
          4.07753744390572,
          4.418840607796598,
          4.74493212836325,
          5.278114659230517,
          4.454347296253507,
          4.6443908991413725,
          4.248495242049359,
          4.983606621708336,
          5.703782474656201,
          5.342334251964811,
          5.0238805208462765,
          4.795790545596741,
          5.288267030694535,
          4.762173934797756,
          5.645446897643238,
          4.736198448394496,
          4.990432586778736,
          6.077642243349034,
          4.543294782270004,
          4.912654885736052,
          5.017279836814924,
          5.267858159063328,
          5.402677381872279,
          4.634728988229636,
          5.384495062789089,
          5.455321115357702,
          4.890349128221754,
          5.1647859739235145,
          5.135798437050262,
          5.7430031878094825,
          4.787491742782046,
          5.214935757608986,
          5.627621113690637,
          5.170483995038151,
          4.672828834461906,
          5.204006687076795,
          4.5217885770490405,
          5.170483995038151,
          4.787491742782046,
          4.804021044733257,
          5.1298987149230735,
          5.176149732573829,
          4.804021044733257,
          5.823045895483019,
          5.19295685089021,
          5.0238805208462765,
          5.214935757608986,
          4.110873864173311,
          4.672828834461906,
          4.820281565605037,
          5.7899601708972535,
          5.568344503761097,
          2.6390573296152584,
          4.941642422609304,
          5.662960480135946,
          5.093750200806762,
          4.584967478670572,
          5.41610040220442,
          5.4638318050256105,
          5.117993812416755,
          4.343805421853684,
          4.990432586778736,
          5.293304824724492,
          5.062595033026967,
          4.6913478822291435,
          5.749392985908253,
          4.919980925828125,
          5.262690188904886,
          4.406719247264253,
          4.770684624465665,
          4.672828834461906,
          5.135798437050262,
          4.859812404361672,
          5.14166355650266,
          5.278114659230517,
          5.560681631015528,
          5.159055299214529,
          4.07753744390572,
          4.7535901911063645,
          5.459585514144159,
          4.859812404361672,
          4.605170185988092,
          5.176149732573829,
          5.236441962829949,
          5.209486152841421,
          5.10594547390058,
          3.970291913552122,
          4.564348191467836,
          5.123963979403259,
          5.3612921657094255,
          4.394449154672439,
          5.602118820879701,
          5.0238805208462765,
          4.787491742782046,
          4.787491742782046,
          5.7745515455444085,
          5.293304824724492,
          5.14166355650266,
          5.318119993844216,
          4.574710978503383,
          4.77912349311153,
          4.890349128221754,
          5.0238805208462765,
          4.844187086458591,
          4.990432586778736,
          5.393627546352362,
          5.407171771460119,
          4.955827057601261,
          4.605170185988092,
          4.290459441148391,
          4.976733742420574,
          4.219507705176107,
          3.970291913552122,
          5.267858159063328,
          5.214935757608986,
          5.176149732573829,
          4.532599493153256,
          5.111987788356544,
          4.394449154672439,
          5.579729825986222,
          4.844187086458591,
          4.867534450455582,
          5.407171771460119,
          5.4510384535657,
          5.147494476813453,
          4.875197323201151,
          3.6109179126442243,
          5.209486152841421,
          4.890349128221754,
          5.220355825078324,
          5.209486152841421,
          5.1647859739235145,
          5.043425116919247,
          5.37989735354046,
          5.8998973535824915,
          4.174387269895637,
          5.0369526024136295,
          5.375278407684165,
          4.762173934797756,
          5.342334251964811,
          4.430816798843313,
          4.204692619390966,
          4.890349128221754,
          3.9318256327243257,
          5.272999558563747,
          4.762173934797756,
          5.37989735354046,
          4.890349128221754,
          5.3612921657094255,
          5.3230099791384085,
          4.8283137373023015,
          5.153291594497779,
          3.2188758248682006,
          4.795790545596741,
          5.236441962829949,
          5.2574953720277815,
          5.181783550292085,
          5.14166355650266,
          4.820281565605037,
          5.472270673671475,
          5.3981627015177525,
          4.605170185988092,
          4.174387269895637,
          4.3694478524670215,
          4.927253685157205
         ],
         "yaxis": "y2"
        },
        {
         "boxpoints": "all",
         "customdata": [
          [
           "Loosing Myself",
           "Lil Luv Ranger"
          ],
          [
           "Bellucci Sr. Chen RMX",
           "Halley"
          ],
          [
           "I Dont Know You",
           "Noni"
          ],
          [
           "RENDEZVOUS",
           "PURPLECA$INO"
          ],
          [
           "VIP",
           "Obeijie"
          ],
          [
           "Made It Can’t Stay",
           "Eli Sostre"
          ],
          [
           "COALITION",
           "Bella Alubo"
          ],
          [
           "You send me",
           "Raymouton"
          ],
          [
           "Raspberry",
           "Swami"
          ],
          [
           "Moon  stars",
           "ILOSTMARI"
          ],
          [
           "Know You",
           "Noiir"
          ],
          [
           "Waiting",
           "Beth Million"
          ],
          [
           "Letting Go",
           "The Naked Eye"
          ],
          [
           "Let me find out.",
           "Visionnaire"
          ],
          [
           "FRESH AIR",
           "Yung Balentiaga"
          ],
          [
           "A Wrinkle in Time",
           "Solid Gee"
          ],
          [
           "40 nights",
           "I.amsolo, anfa rose"
          ],
          [
           "Passion",
           "Topnotch4Real"
          ],
          [
           "You can do it",
           "Nellyy Chris"
          ],
          [
           "My Girl Summer of Soul Soundtrack - Live at the 1969 Harlem Cultural Festival",
           "David Ruffin"
          ],
          [
           "Think About You",
           "Don Toliver"
          ],
          [
           "Loser",
           "Satu"
          ],
          [
           "Pull Me Close",
           "Jasmine Clarke"
          ]
         ],
         "hovertemplate": "title: %{customdata[0]}<br>artist: %{customdata[1]}<br>log(words): %{y}",
         "name": "rb",
         "type": "box",
         "xaxis": "x2",
         "y": [
          3.332204510175204,
          4.330733340286331,
          4.6913478822291435,
          4.736198448394496,
          3.9889840465642745,
          4.844187086458591,
          4.553876891600541,
          4.499809670330265,
          4.653960350157523,
          4.219507705176107,
          4.543294782270004,
          4.948759890378168,
          4.02535169073515,
          4.976733742420574,
          4.356708826689592,
          4.356708826689592,
          4.248495242049359,
          5.5053315359323625,
          4.6913478822291435,
          5.204006687076795,
          3.1780538303479458,
          3.5553480614894135,
          4.442651256490317
         ],
         "yaxis": "y2"
        },
        {
         "boxpoints": "all",
         "customdata": [
          [
           "The Field",
           "Biv"
          ],
          [
           "Brave Face",
           "Another Sky"
          ],
          [
           "The Missing Link",
           "Instilled In Me"
          ],
          [
           "Lawman",
           "Good Looking Friends"
          ],
          [
           "Wash",
           "Birthright"
          ],
          [
           "Two Found In The Woods",
           "Criswell Brushes"
          ],
          [
           "Beast of the Nation",
           "HUMANIST"
          ],
          [
           "Motherfuckers",
           "Seb R"
          ],
          [
           "Night Shift",
           "Walking Heads"
          ],
          [
           "Let Me Down Slowly",
           "Trapt"
          ],
          [
           "The Street and Babe Shadow",
           "Elysian Fields"
          ],
          [
           "Echoes",
           "Immorium"
          ],
          [
           "Get in loser we’re hornyposting about gerard way",
           "Doin' fine"
          ],
          [
           "Lovely Day",
           "Of Good Nature"
          ],
          [
           "Wall of Silence",
           "Smackbound"
          ],
          [
           "Die in Spirit",
           "Savage Blood"
          ],
          [
           "Monsters",
           "Frayle"
          ],
          [
           "Lifeless",
           "Sullivan King"
          ],
          [
           "Dinosaur Laser Fight",
           "The Holophonics"
          ],
          [
           "Say Goodbye",
           "Hold Me Hostage"
          ],
          [
           "Fortune",
           "Soen"
          ],
          [
           "Dance with the Beast",
           "Iron Mask"
          ],
          [
           "Hopes",
           "Adoremus"
          ],
          [
           "At the Mountains of Madness",
           "Omnivortex (Finland)"
          ],
          [
           "Miss Monroe",
           "Scorched Waves"
          ],
          [
           "Reptiles",
           "Cryptex"
          ],
          [
           "Mutilate",
           "GammaGirl"
          ],
          [
           "My Fantasy",
           "Oskar Campbell"
          ],
          [
           "Summer Heaven",
           "Heather Grey (NJ)"
          ],
          [
           "Sugar And Grass",
           "Savoy Motel"
          ],
          [
           "Stardust",
           "Mr. Grey"
          ],
          [
           "And Me",
           "Dinosaur Jr."
          ],
          [
           "Healing",
           "Conner O'Kane"
          ],
          [
           "Just in Sight",
           "Arc of Life"
          ],
          [
           "I Dont Know What Im Doing Anymore",
           "Lissie"
          ],
          [
           "Ān",
           "Kyning"
          ],
          [
           "No Man",
           "Emily Wolfe"
          ],
          [
           "Ghost",
           "I, The Machine"
          ],
          [
           "Roots Bloody Roots",
           "Chat Pile"
          ],
          [
           "Crush Me",
           "Black Magnet"
          ],
          [
           "All Joy No Stress",
           "Rhett Walker"
          ],
          [
           "Only Takes a Stranger",
           "Superstate"
          ],
          [
           "Anachronous Life",
           "Obsidian (2)"
          ],
          [
           "Mars",
           "Kat Lock"
          ],
          [
           "Room 108",
           "As Beings"
          ],
          [
           "Wherever We Are",
           "The punters"
          ],
          [
           "Ancient Mysteries Described",
           "Deerhoof"
          ],
          [
           "Léthé",
           "Starmonger"
          ],
          [
           "Sanctum",
           "Assurance"
          ],
          [
           "Pieces Off Me",
           "Tigerleech"
          ],
          [
           "My Name Is Jonas",
           "Taking Back Sunday"
          ],
          [
           "Cannot Find the Way",
           "The Grandmaster"
          ],
          [
           "American Cinema After Credits",
           "Make Out Monday"
          ],
          [
           "​murder of crows",
           "dog pound prison riot"
          ],
          [
           "Bring Me To Life Evanescence Cover",
           "Youth Never Dies"
          ],
          [
           "I HATE ME TOO",
           "As It Is"
          ],
          [
           "Only",
           "Tommy Oeffling"
          ],
          [
           "Visions of Niflheim",
           "Elegiac"
          ],
          [
           "When Satan rules his world",
           "Shatter (RUS)"
          ],
          [
           "Prisoner",
           "Alta View"
          ],
          [
           "Chimera in Time",
           "Jake McNeillie"
          ],
          [
           "Harley",
           "Krash Krinny"
          ],
          [
           "Voices",
           "If Not For Me"
          ],
          [
           "Alisons Starting to Happen Acoustic",
           "The Lemonheads"
          ],
          [
           "Watching Waiting",
           "Night Talks"
          ],
          [
           "Drop Dead Live",
           "Burning London"
          ],
          [
           "My Mental Health Is Worse",
           "Slowlyfaintly"
          ],
          [
           "Enemy",
           "Fragile, Like Life After"
          ],
          [
           "Creeping Decease",
           "I Am Revenge"
          ]
         ],
         "hovertemplate": "title: %{customdata[0]}<br>artist: %{customdata[1]}<br>log(words): %{y}",
         "name": "rock",
         "type": "box",
         "xaxis": "x2",
         "y": [
          1.9459101490553132,
          4.290459441148391,
          4.795790545596741,
          4.867534450455582,
          4.605170185988092,
          4.2626798770413155,
          4.653960350157523,
          4.584967478670572,
          4.07753744390572,
          4.343805421853684,
          4.330733340286331,
          4.406719247264253,
          4.770684624465665,
          3.9512437185814275,
          4.6913478822291435,
          4.59511985013459,
          3.044522437723423,
          4.2626798770413155,
          4.820281565605037,
          4.3694478524670215,
          4.532599493153256,
          4.330733340286331,
          4.02535169073515,
          4.189654742026425,
          4.709530201312334,
          4.634728988229636,
          4.61512051684126,
          4.454347296253507,
          4.736198448394496,
          4.356708826689592,
          5.170483995038151,
          4.174387269895637,
          4.919980925828125,
          4.574710978503383,
          4.6443908991413725,
          4.219507705176107,
          4.477336814478207,
          4.060443010546419,
          4.02535169073515,
          3.5263605246161616,
          4.584967478670572,
          4.406719247264253,
          4.290459441148391,
          4.23410650459726,
          4.6443908991413725,
          4.927253685157205,
          3.5553480614894135,
          4.442651256490317,
          4.653960350157523,
          4.736198448394496,
          4.820281565605037,
          4.248495242049359,
          4.543294782270004,
          4.859812404361672,
          4.6443908991413725,
          4.465908118654584,
          3.9889840465642745,
          4.143134726391533,
          4.31748811353631,
          4.852030263919617,
          4.356708826689592,
          4.532599493153256,
          4.2626798770413155,
          4.442651256490317,
          4.553876891600541,
          4.3694478524670215,
          4.477336814478207,
          3.1354942159291497,
          4.51085950651685
         ],
         "yaxis": "y2"
        }
       ],
       "layout": {
        "annotations": [
         {
          "font": {
           "size": 16
          },
          "showarrow": false,
          "text": "2010",
          "x": 0.225,
          "xanchor": "center",
          "xref": "paper",
          "y": 1,
          "yanchor": "bottom",
          "yref": "paper"
         },
         {
          "font": {
           "size": 16
          },
          "showarrow": false,
          "text": "2020",
          "x": 0.775,
          "xanchor": "center",
          "xref": "paper",
          "y": 1,
          "yanchor": "bottom",
          "yref": "paper"
         },
         {
          "font": {
           "size": 16
          },
          "showarrow": false,
          "text": "tags",
          "x": 0.5,
          "xanchor": "center",
          "xref": "paper",
          "y": 0,
          "yanchor": "top",
          "yref": "paper",
          "yshift": -30
         },
         {
          "font": {
           "size": 16
          },
          "showarrow": false,
          "text": "log(unique words)",
          "textangle": -90,
          "x": 0,
          "xanchor": "right",
          "xref": "paper",
          "xshift": -40,
          "y": 0.5,
          "yanchor": "middle",
          "yref": "paper"
         }
        ],
        "template": {
         "data": {
          "bar": [
           {
            "error_x": {
             "color": "#2a3f5f"
            },
            "error_y": {
             "color": "#2a3f5f"
            },
            "marker": {
             "line": {
              "color": "#E5ECF6",
              "width": 0.5
             },
             "pattern": {
              "fillmode": "overlay",
              "size": 10,
              "solidity": 0.2
             }
            },
            "type": "bar"
           }
          ],
          "barpolar": [
           {
            "marker": {
             "line": {
              "color": "#E5ECF6",
              "width": 0.5
             },
             "pattern": {
              "fillmode": "overlay",
              "size": 10,
              "solidity": 0.2
             }
            },
            "type": "barpolar"
           }
          ],
          "carpet": [
           {
            "aaxis": {
             "endlinecolor": "#2a3f5f",
             "gridcolor": "white",
             "linecolor": "white",
             "minorgridcolor": "white",
             "startlinecolor": "#2a3f5f"
            },
            "baxis": {
             "endlinecolor": "#2a3f5f",
             "gridcolor": "white",
             "linecolor": "white",
             "minorgridcolor": "white",
             "startlinecolor": "#2a3f5f"
            },
            "type": "carpet"
           }
          ],
          "choropleth": [
           {
            "colorbar": {
             "outlinewidth": 0,
             "ticks": ""
            },
            "type": "choropleth"
           }
          ],
          "contour": [
           {
            "colorbar": {
             "outlinewidth": 0,
             "ticks": ""
            },
            "colorscale": [
             [
              0,
              "#0d0887"
             ],
             [
              0.1111111111111111,
              "#46039f"
             ],
             [
              0.2222222222222222,
              "#7201a8"
             ],
             [
              0.3333333333333333,
              "#9c179e"
             ],
             [
              0.4444444444444444,
              "#bd3786"
             ],
             [
              0.5555555555555556,
              "#d8576b"
             ],
             [
              0.6666666666666666,
              "#ed7953"
             ],
             [
              0.7777777777777778,
              "#fb9f3a"
             ],
             [
              0.8888888888888888,
              "#fdca26"
             ],
             [
              1,
              "#f0f921"
             ]
            ],
            "type": "contour"
           }
          ],
          "contourcarpet": [
           {
            "colorbar": {
             "outlinewidth": 0,
             "ticks": ""
            },
            "type": "contourcarpet"
           }
          ],
          "heatmap": [
           {
            "colorbar": {
             "outlinewidth": 0,
             "ticks": ""
            },
            "colorscale": [
             [
              0,
              "#0d0887"
             ],
             [
              0.1111111111111111,
              "#46039f"
             ],
             [
              0.2222222222222222,
              "#7201a8"
             ],
             [
              0.3333333333333333,
              "#9c179e"
             ],
             [
              0.4444444444444444,
              "#bd3786"
             ],
             [
              0.5555555555555556,
              "#d8576b"
             ],
             [
              0.6666666666666666,
              "#ed7953"
             ],
             [
              0.7777777777777778,
              "#fb9f3a"
             ],
             [
              0.8888888888888888,
              "#fdca26"
             ],
             [
              1,
              "#f0f921"
             ]
            ],
            "type": "heatmap"
           }
          ],
          "heatmapgl": [
           {
            "colorbar": {
             "outlinewidth": 0,
             "ticks": ""
            },
            "colorscale": [
             [
              0,
              "#0d0887"
             ],
             [
              0.1111111111111111,
              "#46039f"
             ],
             [
              0.2222222222222222,
              "#7201a8"
             ],
             [
              0.3333333333333333,
              "#9c179e"
             ],
             [
              0.4444444444444444,
              "#bd3786"
             ],
             [
              0.5555555555555556,
              "#d8576b"
             ],
             [
              0.6666666666666666,
              "#ed7953"
             ],
             [
              0.7777777777777778,
              "#fb9f3a"
             ],
             [
              0.8888888888888888,
              "#fdca26"
             ],
             [
              1,
              "#f0f921"
             ]
            ],
            "type": "heatmapgl"
           }
          ],
          "histogram": [
           {
            "marker": {
             "pattern": {
              "fillmode": "overlay",
              "size": 10,
              "solidity": 0.2
             }
            },
            "type": "histogram"
           }
          ],
          "histogram2d": [
           {
            "colorbar": {
             "outlinewidth": 0,
             "ticks": ""
            },
            "colorscale": [
             [
              0,
              "#0d0887"
             ],
             [
              0.1111111111111111,
              "#46039f"
             ],
             [
              0.2222222222222222,
              "#7201a8"
             ],
             [
              0.3333333333333333,
              "#9c179e"
             ],
             [
              0.4444444444444444,
              "#bd3786"
             ],
             [
              0.5555555555555556,
              "#d8576b"
             ],
             [
              0.6666666666666666,
              "#ed7953"
             ],
             [
              0.7777777777777778,
              "#fb9f3a"
             ],
             [
              0.8888888888888888,
              "#fdca26"
             ],
             [
              1,
              "#f0f921"
             ]
            ],
            "type": "histogram2d"
           }
          ],
          "histogram2dcontour": [
           {
            "colorbar": {
             "outlinewidth": 0,
             "ticks": ""
            },
            "colorscale": [
             [
              0,
              "#0d0887"
             ],
             [
              0.1111111111111111,
              "#46039f"
             ],
             [
              0.2222222222222222,
              "#7201a8"
             ],
             [
              0.3333333333333333,
              "#9c179e"
             ],
             [
              0.4444444444444444,
              "#bd3786"
             ],
             [
              0.5555555555555556,
              "#d8576b"
             ],
             [
              0.6666666666666666,
              "#ed7953"
             ],
             [
              0.7777777777777778,
              "#fb9f3a"
             ],
             [
              0.8888888888888888,
              "#fdca26"
             ],
             [
              1,
              "#f0f921"
             ]
            ],
            "type": "histogram2dcontour"
           }
          ],
          "mesh3d": [
           {
            "colorbar": {
             "outlinewidth": 0,
             "ticks": ""
            },
            "type": "mesh3d"
           }
          ],
          "parcoords": [
           {
            "line": {
             "colorbar": {
              "outlinewidth": 0,
              "ticks": ""
             }
            },
            "type": "parcoords"
           }
          ],
          "pie": [
           {
            "automargin": true,
            "type": "pie"
           }
          ],
          "scatter": [
           {
            "fillpattern": {
             "fillmode": "overlay",
             "size": 10,
             "solidity": 0.2
            },
            "type": "scatter"
           }
          ],
          "scatter3d": [
           {
            "line": {
             "colorbar": {
              "outlinewidth": 0,
              "ticks": ""
             }
            },
            "marker": {
             "colorbar": {
              "outlinewidth": 0,
              "ticks": ""
             }
            },
            "type": "scatter3d"
           }
          ],
          "scattercarpet": [
           {
            "marker": {
             "colorbar": {
              "outlinewidth": 0,
              "ticks": ""
             }
            },
            "type": "scattercarpet"
           }
          ],
          "scattergeo": [
           {
            "marker": {
             "colorbar": {
              "outlinewidth": 0,
              "ticks": ""
             }
            },
            "type": "scattergeo"
           }
          ],
          "scattergl": [
           {
            "marker": {
             "colorbar": {
              "outlinewidth": 0,
              "ticks": ""
             }
            },
            "type": "scattergl"
           }
          ],
          "scattermapbox": [
           {
            "marker": {
             "colorbar": {
              "outlinewidth": 0,
              "ticks": ""
             }
            },
            "type": "scattermapbox"
           }
          ],
          "scatterpolar": [
           {
            "marker": {
             "colorbar": {
              "outlinewidth": 0,
              "ticks": ""
             }
            },
            "type": "scatterpolar"
           }
          ],
          "scatterpolargl": [
           {
            "marker": {
             "colorbar": {
              "outlinewidth": 0,
              "ticks": ""
             }
            },
            "type": "scatterpolargl"
           }
          ],
          "scatterternary": [
           {
            "marker": {
             "colorbar": {
              "outlinewidth": 0,
              "ticks": ""
             }
            },
            "type": "scatterternary"
           }
          ],
          "surface": [
           {
            "colorbar": {
             "outlinewidth": 0,
             "ticks": ""
            },
            "colorscale": [
             [
              0,
              "#0d0887"
             ],
             [
              0.1111111111111111,
              "#46039f"
             ],
             [
              0.2222222222222222,
              "#7201a8"
             ],
             [
              0.3333333333333333,
              "#9c179e"
             ],
             [
              0.4444444444444444,
              "#bd3786"
             ],
             [
              0.5555555555555556,
              "#d8576b"
             ],
             [
              0.6666666666666666,
              "#ed7953"
             ],
             [
              0.7777777777777778,
              "#fb9f3a"
             ],
             [
              0.8888888888888888,
              "#fdca26"
             ],
             [
              1,
              "#f0f921"
             ]
            ],
            "type": "surface"
           }
          ],
          "table": [
           {
            "cells": {
             "fill": {
              "color": "#EBF0F8"
             },
             "line": {
              "color": "white"
             }
            },
            "header": {
             "fill": {
              "color": "#C8D4E3"
             },
             "line": {
              "color": "white"
             }
            },
            "type": "table"
           }
          ]
         },
         "layout": {
          "annotationdefaults": {
           "arrowcolor": "#2a3f5f",
           "arrowhead": 0,
           "arrowwidth": 1
          },
          "autotypenumbers": "strict",
          "coloraxis": {
           "colorbar": {
            "outlinewidth": 0,
            "ticks": ""
           }
          },
          "colorscale": {
           "diverging": [
            [
             0,
             "#8e0152"
            ],
            [
             0.1,
             "#c51b7d"
            ],
            [
             0.2,
             "#de77ae"
            ],
            [
             0.3,
             "#f1b6da"
            ],
            [
             0.4,
             "#fde0ef"
            ],
            [
             0.5,
             "#f7f7f7"
            ],
            [
             0.6,
             "#e6f5d0"
            ],
            [
             0.7,
             "#b8e186"
            ],
            [
             0.8,
             "#7fbc41"
            ],
            [
             0.9,
             "#4d9221"
            ],
            [
             1,
             "#276419"
            ]
           ],
           "sequential": [
            [
             0,
             "#0d0887"
            ],
            [
             0.1111111111111111,
             "#46039f"
            ],
            [
             0.2222222222222222,
             "#7201a8"
            ],
            [
             0.3333333333333333,
             "#9c179e"
            ],
            [
             0.4444444444444444,
             "#bd3786"
            ],
            [
             0.5555555555555556,
             "#d8576b"
            ],
            [
             0.6666666666666666,
             "#ed7953"
            ],
            [
             0.7777777777777778,
             "#fb9f3a"
            ],
            [
             0.8888888888888888,
             "#fdca26"
            ],
            [
             1,
             "#f0f921"
            ]
           ],
           "sequentialminus": [
            [
             0,
             "#0d0887"
            ],
            [
             0.1111111111111111,
             "#46039f"
            ],
            [
             0.2222222222222222,
             "#7201a8"
            ],
            [
             0.3333333333333333,
             "#9c179e"
            ],
            [
             0.4444444444444444,
             "#bd3786"
            ],
            [
             0.5555555555555556,
             "#d8576b"
            ],
            [
             0.6666666666666666,
             "#ed7953"
            ],
            [
             0.7777777777777778,
             "#fb9f3a"
            ],
            [
             0.8888888888888888,
             "#fdca26"
            ],
            [
             1,
             "#f0f921"
            ]
           ]
          },
          "colorway": [
           "#636efa",
           "#EF553B",
           "#00cc96",
           "#ab63fa",
           "#FFA15A",
           "#19d3f3",
           "#FF6692",
           "#B6E880",
           "#FF97FF",
           "#FECB52"
          ],
          "font": {
           "color": "#2a3f5f"
          },
          "geo": {
           "bgcolor": "white",
           "lakecolor": "white",
           "landcolor": "#E5ECF6",
           "showlakes": true,
           "showland": true,
           "subunitcolor": "white"
          },
          "hoverlabel": {
           "align": "left"
          },
          "hovermode": "closest",
          "mapbox": {
           "style": "light"
          },
          "paper_bgcolor": "white",
          "plot_bgcolor": "#E5ECF6",
          "polar": {
           "angularaxis": {
            "gridcolor": "white",
            "linecolor": "white",
            "ticks": ""
           },
           "bgcolor": "#E5ECF6",
           "radialaxis": {
            "gridcolor": "white",
            "linecolor": "white",
            "ticks": ""
           }
          },
          "scene": {
           "xaxis": {
            "backgroundcolor": "#E5ECF6",
            "gridcolor": "white",
            "gridwidth": 2,
            "linecolor": "white",
            "showbackground": true,
            "ticks": "",
            "zerolinecolor": "white"
           },
           "yaxis": {
            "backgroundcolor": "#E5ECF6",
            "gridcolor": "white",
            "gridwidth": 2,
            "linecolor": "white",
            "showbackground": true,
            "ticks": "",
            "zerolinecolor": "white"
           },
           "zaxis": {
            "backgroundcolor": "#E5ECF6",
            "gridcolor": "white",
            "gridwidth": 2,
            "linecolor": "white",
            "showbackground": true,
            "ticks": "",
            "zerolinecolor": "white"
           }
          },
          "shapedefaults": {
           "line": {
            "color": "#2a3f5f"
           }
          },
          "ternary": {
           "aaxis": {
            "gridcolor": "white",
            "linecolor": "white",
            "ticks": ""
           },
           "baxis": {
            "gridcolor": "white",
            "linecolor": "white",
            "ticks": ""
           },
           "bgcolor": "#E5ECF6",
           "caxis": {
            "gridcolor": "white",
            "linecolor": "white",
            "ticks": ""
           }
          },
          "title": {
           "x": 0.05
          },
          "xaxis": {
           "automargin": true,
           "gridcolor": "white",
           "linecolor": "white",
           "ticks": "",
           "title": {
            "standoff": 15
           },
           "zerolinecolor": "white",
           "zerolinewidth": 2
          },
          "yaxis": {
           "automargin": true,
           "gridcolor": "white",
           "linecolor": "white",
           "ticks": "",
           "title": {
            "standoff": 15
           },
           "zerolinecolor": "white",
           "zerolinewidth": 2
          }
         }
        },
        "xaxis": {
         "anchor": "y",
         "domain": [
          0,
          0.45
         ]
        },
        "xaxis2": {
         "anchor": "y2",
         "domain": [
          0.55,
          1
         ]
        },
        "yaxis": {
         "anchor": "x",
         "domain": [
          0,
          1
         ]
        },
        "yaxis2": {
         "anchor": "x2",
         "domain": [
          0,
          1
         ]
        }
       }
      }
     },
     "metadata": {},
     "output_type": "display_data"
    }
   ],
   "source": [
    "words_decades(df, [2010, 2020])"
   ]
  }
 ],
 "metadata": {
  "kernelspec": {
   "display_name": "tdde16proj-env",
   "language": "python",
   "name": "python3"
  },
  "language_info": {
   "codemirror_mode": {
    "name": "ipython",
    "version": 3
   },
   "file_extension": ".py",
   "mimetype": "text/x-python",
   "name": "python",
   "nbconvert_exporter": "python",
   "pygments_lexer": "ipython3",
   "version": "3.9.13"
  },
  "orig_nbformat": 4
 },
 "nbformat": 4,
 "nbformat_minor": 2
}
