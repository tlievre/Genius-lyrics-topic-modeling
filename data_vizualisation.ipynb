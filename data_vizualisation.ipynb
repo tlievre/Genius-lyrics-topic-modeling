{
 "cells": [
  {
   "attachments": {},
   "cell_type": "markdown",
   "metadata": {},
   "source": [
    "# Genius song lyrics : Data vizualisation"
   ]
  },
  {
   "cell_type": "code",
   "execution_count": 1,
   "metadata": {},
   "outputs": [
    {
     "name": "stderr",
     "output_type": "stream",
     "text": [
      "23/05/25 22:10:06 WARN Utils: Your hostname, thomas-ThinkPad-T490 resolves to a loopback address: 127.0.1.1; using 192.168.31.207 instead (on interface wlp0s20f3)\n",
      "23/05/25 22:10:06 WARN Utils: Set SPARK_LOCAL_IP if you need to bind to another address\n",
      "Setting default log level to \"WARN\".\n",
      "To adjust logging level use sc.setLogLevel(newLevel). For SparkR, use setLogLevel(newLevel).\n",
      "23/05/25 22:10:07 WARN NativeCodeLoader: Unable to load native-hadoop library for your platform... using builtin-java classes where applicable\n",
      "                                                                                \r"
     ]
    }
   ],
   "source": [
    "from modules.spark_preprocess import SparkSPreprocessor\n",
    "\n",
    "sp = SparkSPreprocessor(\"song_lyrics.csv\",\"./data/\", \"20g\")\n",
    "df = sp.preprocess_data(freq=0.01, seed = 42)"
   ]
  },
  {
   "cell_type": "code",
   "execution_count": 2,
   "metadata": {},
   "outputs": [
    {
     "data": {
      "text/plain": [
       "2958"
      ]
     },
     "execution_count": 2,
     "metadata": {},
     "output_type": "execute_result"
    }
   ],
   "source": [
    "# load data\n",
    "import pandas as pd\n",
    "\n",
    "df = pd.read_csv('./data/preprocessed_data.csv')\n",
    "len(df)"
   ]
  },
  {
   "cell_type": "code",
   "execution_count": 3,
   "metadata": {},
   "outputs": [
    {
     "data": {
      "text/plain": [
       "title            object\n",
       "tag              object\n",
       "artist           object\n",
       "year              int64\n",
       "views             int64\n",
       "features         object\n",
       "lyrics           object\n",
       "id                int64\n",
       "language_cld3    object\n",
       "language_ft      object\n",
       "language         object\n",
       "decade            int64\n",
       "dtype: object"
      ]
     },
     "execution_count": 3,
     "metadata": {},
     "output_type": "execute_result"
    }
   ],
   "source": [
    "df.dtypes"
   ]
  },
  {
   "cell_type": "code",
   "execution_count": 4,
   "metadata": {},
   "outputs": [
    {
     "data": {
      "application/vnd.plotly.v1+json": {
       "config": {
        "plotlyServerURL": "https://plot.ly"
       },
       "data": [
        {
         "showlegend": false,
         "type": "bar",
         "x": [
          1960,
          1970,
          1980,
          1990,
          2000,
          2010,
          2020
         ],
         "y": [
          446,
          397,
          427,
          446,
          414,
          391,
          437
         ]
        },
        {
         "mode": "markers+lines",
         "name": "trend",
         "showlegend": false,
         "type": "scatter",
         "x": [
          1960,
          1970,
          1980,
          1990,
          2000,
          2010,
          2020
         ],
         "y": [
          446,
          397,
          427,
          446,
          414,
          391,
          437
         ]
        }
       ],
       "layout": {
        "template": {
         "data": {
          "bar": [
           {
            "error_x": {
             "color": "#2a3f5f"
            },
            "error_y": {
             "color": "#2a3f5f"
            },
            "marker": {
             "line": {
              "color": "#E5ECF6",
              "width": 0.5
             },
             "pattern": {
              "fillmode": "overlay",
              "size": 10,
              "solidity": 0.2
             }
            },
            "type": "bar"
           }
          ],
          "barpolar": [
           {
            "marker": {
             "line": {
              "color": "#E5ECF6",
              "width": 0.5
             },
             "pattern": {
              "fillmode": "overlay",
              "size": 10,
              "solidity": 0.2
             }
            },
            "type": "barpolar"
           }
          ],
          "carpet": [
           {
            "aaxis": {
             "endlinecolor": "#2a3f5f",
             "gridcolor": "white",
             "linecolor": "white",
             "minorgridcolor": "white",
             "startlinecolor": "#2a3f5f"
            },
            "baxis": {
             "endlinecolor": "#2a3f5f",
             "gridcolor": "white",
             "linecolor": "white",
             "minorgridcolor": "white",
             "startlinecolor": "#2a3f5f"
            },
            "type": "carpet"
           }
          ],
          "choropleth": [
           {
            "colorbar": {
             "outlinewidth": 0,
             "ticks": ""
            },
            "type": "choropleth"
           }
          ],
          "contour": [
           {
            "colorbar": {
             "outlinewidth": 0,
             "ticks": ""
            },
            "colorscale": [
             [
              0,
              "#0d0887"
             ],
             [
              0.1111111111111111,
              "#46039f"
             ],
             [
              0.2222222222222222,
              "#7201a8"
             ],
             [
              0.3333333333333333,
              "#9c179e"
             ],
             [
              0.4444444444444444,
              "#bd3786"
             ],
             [
              0.5555555555555556,
              "#d8576b"
             ],
             [
              0.6666666666666666,
              "#ed7953"
             ],
             [
              0.7777777777777778,
              "#fb9f3a"
             ],
             [
              0.8888888888888888,
              "#fdca26"
             ],
             [
              1,
              "#f0f921"
             ]
            ],
            "type": "contour"
           }
          ],
          "contourcarpet": [
           {
            "colorbar": {
             "outlinewidth": 0,
             "ticks": ""
            },
            "type": "contourcarpet"
           }
          ],
          "heatmap": [
           {
            "colorbar": {
             "outlinewidth": 0,
             "ticks": ""
            },
            "colorscale": [
             [
              0,
              "#0d0887"
             ],
             [
              0.1111111111111111,
              "#46039f"
             ],
             [
              0.2222222222222222,
              "#7201a8"
             ],
             [
              0.3333333333333333,
              "#9c179e"
             ],
             [
              0.4444444444444444,
              "#bd3786"
             ],
             [
              0.5555555555555556,
              "#d8576b"
             ],
             [
              0.6666666666666666,
              "#ed7953"
             ],
             [
              0.7777777777777778,
              "#fb9f3a"
             ],
             [
              0.8888888888888888,
              "#fdca26"
             ],
             [
              1,
              "#f0f921"
             ]
            ],
            "type": "heatmap"
           }
          ],
          "heatmapgl": [
           {
            "colorbar": {
             "outlinewidth": 0,
             "ticks": ""
            },
            "colorscale": [
             [
              0,
              "#0d0887"
             ],
             [
              0.1111111111111111,
              "#46039f"
             ],
             [
              0.2222222222222222,
              "#7201a8"
             ],
             [
              0.3333333333333333,
              "#9c179e"
             ],
             [
              0.4444444444444444,
              "#bd3786"
             ],
             [
              0.5555555555555556,
              "#d8576b"
             ],
             [
              0.6666666666666666,
              "#ed7953"
             ],
             [
              0.7777777777777778,
              "#fb9f3a"
             ],
             [
              0.8888888888888888,
              "#fdca26"
             ],
             [
              1,
              "#f0f921"
             ]
            ],
            "type": "heatmapgl"
           }
          ],
          "histogram": [
           {
            "marker": {
             "pattern": {
              "fillmode": "overlay",
              "size": 10,
              "solidity": 0.2
             }
            },
            "type": "histogram"
           }
          ],
          "histogram2d": [
           {
            "colorbar": {
             "outlinewidth": 0,
             "ticks": ""
            },
            "colorscale": [
             [
              0,
              "#0d0887"
             ],
             [
              0.1111111111111111,
              "#46039f"
             ],
             [
              0.2222222222222222,
              "#7201a8"
             ],
             [
              0.3333333333333333,
              "#9c179e"
             ],
             [
              0.4444444444444444,
              "#bd3786"
             ],
             [
              0.5555555555555556,
              "#d8576b"
             ],
             [
              0.6666666666666666,
              "#ed7953"
             ],
             [
              0.7777777777777778,
              "#fb9f3a"
             ],
             [
              0.8888888888888888,
              "#fdca26"
             ],
             [
              1,
              "#f0f921"
             ]
            ],
            "type": "histogram2d"
           }
          ],
          "histogram2dcontour": [
           {
            "colorbar": {
             "outlinewidth": 0,
             "ticks": ""
            },
            "colorscale": [
             [
              0,
              "#0d0887"
             ],
             [
              0.1111111111111111,
              "#46039f"
             ],
             [
              0.2222222222222222,
              "#7201a8"
             ],
             [
              0.3333333333333333,
              "#9c179e"
             ],
             [
              0.4444444444444444,
              "#bd3786"
             ],
             [
              0.5555555555555556,
              "#d8576b"
             ],
             [
              0.6666666666666666,
              "#ed7953"
             ],
             [
              0.7777777777777778,
              "#fb9f3a"
             ],
             [
              0.8888888888888888,
              "#fdca26"
             ],
             [
              1,
              "#f0f921"
             ]
            ],
            "type": "histogram2dcontour"
           }
          ],
          "mesh3d": [
           {
            "colorbar": {
             "outlinewidth": 0,
             "ticks": ""
            },
            "type": "mesh3d"
           }
          ],
          "parcoords": [
           {
            "line": {
             "colorbar": {
              "outlinewidth": 0,
              "ticks": ""
             }
            },
            "type": "parcoords"
           }
          ],
          "pie": [
           {
            "automargin": true,
            "type": "pie"
           }
          ],
          "scatter": [
           {
            "fillpattern": {
             "fillmode": "overlay",
             "size": 10,
             "solidity": 0.2
            },
            "type": "scatter"
           }
          ],
          "scatter3d": [
           {
            "line": {
             "colorbar": {
              "outlinewidth": 0,
              "ticks": ""
             }
            },
            "marker": {
             "colorbar": {
              "outlinewidth": 0,
              "ticks": ""
             }
            },
            "type": "scatter3d"
           }
          ],
          "scattercarpet": [
           {
            "marker": {
             "colorbar": {
              "outlinewidth": 0,
              "ticks": ""
             }
            },
            "type": "scattercarpet"
           }
          ],
          "scattergeo": [
           {
            "marker": {
             "colorbar": {
              "outlinewidth": 0,
              "ticks": ""
             }
            },
            "type": "scattergeo"
           }
          ],
          "scattergl": [
           {
            "marker": {
             "colorbar": {
              "outlinewidth": 0,
              "ticks": ""
             }
            },
            "type": "scattergl"
           }
          ],
          "scattermapbox": [
           {
            "marker": {
             "colorbar": {
              "outlinewidth": 0,
              "ticks": ""
             }
            },
            "type": "scattermapbox"
           }
          ],
          "scatterpolar": [
           {
            "marker": {
             "colorbar": {
              "outlinewidth": 0,
              "ticks": ""
             }
            },
            "type": "scatterpolar"
           }
          ],
          "scatterpolargl": [
           {
            "marker": {
             "colorbar": {
              "outlinewidth": 0,
              "ticks": ""
             }
            },
            "type": "scatterpolargl"
           }
          ],
          "scatterternary": [
           {
            "marker": {
             "colorbar": {
              "outlinewidth": 0,
              "ticks": ""
             }
            },
            "type": "scatterternary"
           }
          ],
          "surface": [
           {
            "colorbar": {
             "outlinewidth": 0,
             "ticks": ""
            },
            "colorscale": [
             [
              0,
              "#0d0887"
             ],
             [
              0.1111111111111111,
              "#46039f"
             ],
             [
              0.2222222222222222,
              "#7201a8"
             ],
             [
              0.3333333333333333,
              "#9c179e"
             ],
             [
              0.4444444444444444,
              "#bd3786"
             ],
             [
              0.5555555555555556,
              "#d8576b"
             ],
             [
              0.6666666666666666,
              "#ed7953"
             ],
             [
              0.7777777777777778,
              "#fb9f3a"
             ],
             [
              0.8888888888888888,
              "#fdca26"
             ],
             [
              1,
              "#f0f921"
             ]
            ],
            "type": "surface"
           }
          ],
          "table": [
           {
            "cells": {
             "fill": {
              "color": "#EBF0F8"
             },
             "line": {
              "color": "white"
             }
            },
            "header": {
             "fill": {
              "color": "#C8D4E3"
             },
             "line": {
              "color": "white"
             }
            },
            "type": "table"
           }
          ]
         },
         "layout": {
          "annotationdefaults": {
           "arrowcolor": "#2a3f5f",
           "arrowhead": 0,
           "arrowwidth": 1
          },
          "autotypenumbers": "strict",
          "coloraxis": {
           "colorbar": {
            "outlinewidth": 0,
            "ticks": ""
           }
          },
          "colorscale": {
           "diverging": [
            [
             0,
             "#8e0152"
            ],
            [
             0.1,
             "#c51b7d"
            ],
            [
             0.2,
             "#de77ae"
            ],
            [
             0.3,
             "#f1b6da"
            ],
            [
             0.4,
             "#fde0ef"
            ],
            [
             0.5,
             "#f7f7f7"
            ],
            [
             0.6,
             "#e6f5d0"
            ],
            [
             0.7,
             "#b8e186"
            ],
            [
             0.8,
             "#7fbc41"
            ],
            [
             0.9,
             "#4d9221"
            ],
            [
             1,
             "#276419"
            ]
           ],
           "sequential": [
            [
             0,
             "#0d0887"
            ],
            [
             0.1111111111111111,
             "#46039f"
            ],
            [
             0.2222222222222222,
             "#7201a8"
            ],
            [
             0.3333333333333333,
             "#9c179e"
            ],
            [
             0.4444444444444444,
             "#bd3786"
            ],
            [
             0.5555555555555556,
             "#d8576b"
            ],
            [
             0.6666666666666666,
             "#ed7953"
            ],
            [
             0.7777777777777778,
             "#fb9f3a"
            ],
            [
             0.8888888888888888,
             "#fdca26"
            ],
            [
             1,
             "#f0f921"
            ]
           ],
           "sequentialminus": [
            [
             0,
             "#0d0887"
            ],
            [
             0.1111111111111111,
             "#46039f"
            ],
            [
             0.2222222222222222,
             "#7201a8"
            ],
            [
             0.3333333333333333,
             "#9c179e"
            ],
            [
             0.4444444444444444,
             "#bd3786"
            ],
            [
             0.5555555555555556,
             "#d8576b"
            ],
            [
             0.6666666666666666,
             "#ed7953"
            ],
            [
             0.7777777777777778,
             "#fb9f3a"
            ],
            [
             0.8888888888888888,
             "#fdca26"
            ],
            [
             1,
             "#f0f921"
            ]
           ]
          },
          "colorway": [
           "#636efa",
           "#EF553B",
           "#00cc96",
           "#ab63fa",
           "#FFA15A",
           "#19d3f3",
           "#FF6692",
           "#B6E880",
           "#FF97FF",
           "#FECB52"
          ],
          "font": {
           "color": "#2a3f5f"
          },
          "geo": {
           "bgcolor": "white",
           "lakecolor": "white",
           "landcolor": "#E5ECF6",
           "showlakes": true,
           "showland": true,
           "subunitcolor": "white"
          },
          "hoverlabel": {
           "align": "left"
          },
          "hovermode": "closest",
          "mapbox": {
           "style": "light"
          },
          "paper_bgcolor": "white",
          "plot_bgcolor": "#E5ECF6",
          "polar": {
           "angularaxis": {
            "gridcolor": "white",
            "linecolor": "white",
            "ticks": ""
           },
           "bgcolor": "#E5ECF6",
           "radialaxis": {
            "gridcolor": "white",
            "linecolor": "white",
            "ticks": ""
           }
          },
          "scene": {
           "xaxis": {
            "backgroundcolor": "#E5ECF6",
            "gridcolor": "white",
            "gridwidth": 2,
            "linecolor": "white",
            "showbackground": true,
            "ticks": "",
            "zerolinecolor": "white"
           },
           "yaxis": {
            "backgroundcolor": "#E5ECF6",
            "gridcolor": "white",
            "gridwidth": 2,
            "linecolor": "white",
            "showbackground": true,
            "ticks": "",
            "zerolinecolor": "white"
           },
           "zaxis": {
            "backgroundcolor": "#E5ECF6",
            "gridcolor": "white",
            "gridwidth": 2,
            "linecolor": "white",
            "showbackground": true,
            "ticks": "",
            "zerolinecolor": "white"
           }
          },
          "shapedefaults": {
           "line": {
            "color": "#2a3f5f"
           }
          },
          "ternary": {
           "aaxis": {
            "gridcolor": "white",
            "linecolor": "white",
            "ticks": ""
           },
           "baxis": {
            "gridcolor": "white",
            "linecolor": "white",
            "ticks": ""
           },
           "bgcolor": "#E5ECF6",
           "caxis": {
            "gridcolor": "white",
            "linecolor": "white",
            "ticks": ""
           }
          },
          "title": {
           "x": 0.05
          },
          "xaxis": {
           "automargin": true,
           "gridcolor": "white",
           "linecolor": "white",
           "ticks": "",
           "title": {
            "standoff": 15
           },
           "zerolinecolor": "white",
           "zerolinewidth": 2
          },
          "yaxis": {
           "automargin": true,
           "gridcolor": "white",
           "linecolor": "white",
           "ticks": "",
           "title": {
            "standoff": 15
           },
           "zerolinecolor": "white",
           "zerolinewidth": 2
          }
         }
        },
        "title": {
         "text": "Music release over years"
        },
        "xaxis": {
         "title": {
          "text": "decade"
         }
        },
        "yaxis": {
         "title": {
          "text": "release"
         }
        }
       }
      }
     },
     "metadata": {},
     "output_type": "display_data"
    }
   ],
   "source": [
    "from modules.vizualisation import barplot_by_decade\n",
    "\n",
    "barplot_by_decade(df)"
   ]
  },
  {
   "cell_type": "code",
   "execution_count": 5,
   "metadata": {},
   "outputs": [
    {
     "data": {
      "application/vnd.plotly.v1+json": {
       "config": {
        "plotlyServerURL": "https://plot.ly"
       },
       "data": [
        {
         "domain": {
          "x": [
           0,
           0.2888888888888889
          ],
          "y": [
           0.7333333333333333,
           1
          ]
         },
         "hole": 0.4,
         "hoverinfo": "label+percent+name",
         "labels": [
          "country",
          "pop",
          "rb",
          "rock"
         ],
         "name": "1960",
         "type": "pie",
         "values": [
          67,
          264,
          40,
          75
         ]
        },
        {
         "domain": {
          "x": [
           0.35555555555555557,
           0.6444444444444445
          ],
          "y": [
           0.7333333333333333,
           1
          ]
         },
         "hole": 0.4,
         "hoverinfo": "label+percent+name",
         "labels": [
          "country",
          "pop",
          "rb",
          "rock"
         ],
         "name": "1970",
         "type": "pie",
         "values": [
          51,
          217,
          35,
          94
         ]
        },
        {
         "domain": {
          "x": [
           0.7111111111111111,
           1
          ],
          "y": [
           0.7333333333333333,
           1
          ]
         },
         "hole": 0.4,
         "hoverinfo": "label+percent+name",
         "labels": [
          "country",
          "pop",
          "rap",
          "rb",
          "rock"
         ],
         "name": "1980",
         "type": "pie",
         "values": [
          19,
          259,
          15,
          23,
          111
         ]
        },
        {
         "domain": {
          "x": [
           0,
           0.2888888888888889
          ],
          "y": [
           0.36666666666666664,
           0.6333333333333333
          ]
         },
         "hole": 0.4,
         "hoverinfo": "label+percent+name",
         "labels": [
          "country",
          "pop",
          "rap",
          "rb",
          "rock"
         ],
         "name": "1990",
         "type": "pie",
         "values": [
          12,
          280,
          38,
          13,
          103
         ]
        },
        {
         "domain": {
          "x": [
           0.35555555555555557,
           0.6444444444444445
          ],
          "y": [
           0.36666666666666664,
           0.6333333333333333
          ]
         },
         "hole": 0.4,
         "hoverinfo": "label+percent+name",
         "labels": [
          "country",
          "pop",
          "rap",
          "rb",
          "rock"
         ],
         "name": "2000",
         "type": "pie",
         "values": [
          6,
          241,
          52,
          11,
          104
         ]
        },
        {
         "domain": {
          "x": [
           0.7111111111111111,
           1
          ],
          "y": [
           0.36666666666666664,
           0.6333333333333333
          ]
         },
         "hole": 0.4,
         "hoverinfo": "label+percent+name",
         "labels": [
          "country",
          "pop",
          "rap",
          "rb",
          "rock"
         ],
         "name": "2010",
         "type": "pie",
         "values": [
          6,
          156,
          120,
          19,
          90
         ]
        },
        {
         "domain": {
          "x": [
           0,
           0.2888888888888889
          ],
          "y": [
           0,
           0.26666666666666666
          ]
         },
         "hole": 0.4,
         "hoverinfo": "label+percent+name",
         "labels": [
          "country",
          "pop",
          "rap",
          "rb",
          "rock"
         ],
         "name": "2020",
         "type": "pie",
         "values": [
          5,
          140,
          192,
          29,
          71
         ]
        }
       ],
       "layout": {
        "annotations": [
         {
          "font": {
           "size": 10
          },
          "showarrow": false,
          "text": "1960",
          "x": 0.125,
          "y": 0.9
         },
         {
          "font": {
           "size": 10
          },
          "showarrow": false,
          "text": "1970",
          "x": 0.5,
          "y": 0.9
         },
         {
          "font": {
           "size": 10
          },
          "showarrow": false,
          "text": "1980",
          "x": 0.875,
          "y": 0.9
         },
         {
          "font": {
           "size": 10
          },
          "showarrow": false,
          "text": "1990",
          "x": 0.125,
          "y": 0.5073000000000001
         },
         {
          "font": {
           "size": 10
          },
          "showarrow": false,
          "text": "2000",
          "x": 0.5,
          "y": 0.5073000000000001
         },
         {
          "font": {
           "size": 10
          },
          "showarrow": false,
          "text": "2010",
          "x": 0.875,
          "y": 0.5073000000000001
         },
         {
          "font": {
           "size": 10
          },
          "showarrow": false,
          "text": "2020",
          "x": 0.125,
          "y": 0.11460000000000004
         }
        ],
        "template": {
         "data": {
          "bar": [
           {
            "error_x": {
             "color": "#2a3f5f"
            },
            "error_y": {
             "color": "#2a3f5f"
            },
            "marker": {
             "line": {
              "color": "#E5ECF6",
              "width": 0.5
             },
             "pattern": {
              "fillmode": "overlay",
              "size": 10,
              "solidity": 0.2
             }
            },
            "type": "bar"
           }
          ],
          "barpolar": [
           {
            "marker": {
             "line": {
              "color": "#E5ECF6",
              "width": 0.5
             },
             "pattern": {
              "fillmode": "overlay",
              "size": 10,
              "solidity": 0.2
             }
            },
            "type": "barpolar"
           }
          ],
          "carpet": [
           {
            "aaxis": {
             "endlinecolor": "#2a3f5f",
             "gridcolor": "white",
             "linecolor": "white",
             "minorgridcolor": "white",
             "startlinecolor": "#2a3f5f"
            },
            "baxis": {
             "endlinecolor": "#2a3f5f",
             "gridcolor": "white",
             "linecolor": "white",
             "minorgridcolor": "white",
             "startlinecolor": "#2a3f5f"
            },
            "type": "carpet"
           }
          ],
          "choropleth": [
           {
            "colorbar": {
             "outlinewidth": 0,
             "ticks": ""
            },
            "type": "choropleth"
           }
          ],
          "contour": [
           {
            "colorbar": {
             "outlinewidth": 0,
             "ticks": ""
            },
            "colorscale": [
             [
              0,
              "#0d0887"
             ],
             [
              0.1111111111111111,
              "#46039f"
             ],
             [
              0.2222222222222222,
              "#7201a8"
             ],
             [
              0.3333333333333333,
              "#9c179e"
             ],
             [
              0.4444444444444444,
              "#bd3786"
             ],
             [
              0.5555555555555556,
              "#d8576b"
             ],
             [
              0.6666666666666666,
              "#ed7953"
             ],
             [
              0.7777777777777778,
              "#fb9f3a"
             ],
             [
              0.8888888888888888,
              "#fdca26"
             ],
             [
              1,
              "#f0f921"
             ]
            ],
            "type": "contour"
           }
          ],
          "contourcarpet": [
           {
            "colorbar": {
             "outlinewidth": 0,
             "ticks": ""
            },
            "type": "contourcarpet"
           }
          ],
          "heatmap": [
           {
            "colorbar": {
             "outlinewidth": 0,
             "ticks": ""
            },
            "colorscale": [
             [
              0,
              "#0d0887"
             ],
             [
              0.1111111111111111,
              "#46039f"
             ],
             [
              0.2222222222222222,
              "#7201a8"
             ],
             [
              0.3333333333333333,
              "#9c179e"
             ],
             [
              0.4444444444444444,
              "#bd3786"
             ],
             [
              0.5555555555555556,
              "#d8576b"
             ],
             [
              0.6666666666666666,
              "#ed7953"
             ],
             [
              0.7777777777777778,
              "#fb9f3a"
             ],
             [
              0.8888888888888888,
              "#fdca26"
             ],
             [
              1,
              "#f0f921"
             ]
            ],
            "type": "heatmap"
           }
          ],
          "heatmapgl": [
           {
            "colorbar": {
             "outlinewidth": 0,
             "ticks": ""
            },
            "colorscale": [
             [
              0,
              "#0d0887"
             ],
             [
              0.1111111111111111,
              "#46039f"
             ],
             [
              0.2222222222222222,
              "#7201a8"
             ],
             [
              0.3333333333333333,
              "#9c179e"
             ],
             [
              0.4444444444444444,
              "#bd3786"
             ],
             [
              0.5555555555555556,
              "#d8576b"
             ],
             [
              0.6666666666666666,
              "#ed7953"
             ],
             [
              0.7777777777777778,
              "#fb9f3a"
             ],
             [
              0.8888888888888888,
              "#fdca26"
             ],
             [
              1,
              "#f0f921"
             ]
            ],
            "type": "heatmapgl"
           }
          ],
          "histogram": [
           {
            "marker": {
             "pattern": {
              "fillmode": "overlay",
              "size": 10,
              "solidity": 0.2
             }
            },
            "type": "histogram"
           }
          ],
          "histogram2d": [
           {
            "colorbar": {
             "outlinewidth": 0,
             "ticks": ""
            },
            "colorscale": [
             [
              0,
              "#0d0887"
             ],
             [
              0.1111111111111111,
              "#46039f"
             ],
             [
              0.2222222222222222,
              "#7201a8"
             ],
             [
              0.3333333333333333,
              "#9c179e"
             ],
             [
              0.4444444444444444,
              "#bd3786"
             ],
             [
              0.5555555555555556,
              "#d8576b"
             ],
             [
              0.6666666666666666,
              "#ed7953"
             ],
             [
              0.7777777777777778,
              "#fb9f3a"
             ],
             [
              0.8888888888888888,
              "#fdca26"
             ],
             [
              1,
              "#f0f921"
             ]
            ],
            "type": "histogram2d"
           }
          ],
          "histogram2dcontour": [
           {
            "colorbar": {
             "outlinewidth": 0,
             "ticks": ""
            },
            "colorscale": [
             [
              0,
              "#0d0887"
             ],
             [
              0.1111111111111111,
              "#46039f"
             ],
             [
              0.2222222222222222,
              "#7201a8"
             ],
             [
              0.3333333333333333,
              "#9c179e"
             ],
             [
              0.4444444444444444,
              "#bd3786"
             ],
             [
              0.5555555555555556,
              "#d8576b"
             ],
             [
              0.6666666666666666,
              "#ed7953"
             ],
             [
              0.7777777777777778,
              "#fb9f3a"
             ],
             [
              0.8888888888888888,
              "#fdca26"
             ],
             [
              1,
              "#f0f921"
             ]
            ],
            "type": "histogram2dcontour"
           }
          ],
          "mesh3d": [
           {
            "colorbar": {
             "outlinewidth": 0,
             "ticks": ""
            },
            "type": "mesh3d"
           }
          ],
          "parcoords": [
           {
            "line": {
             "colorbar": {
              "outlinewidth": 0,
              "ticks": ""
             }
            },
            "type": "parcoords"
           }
          ],
          "pie": [
           {
            "automargin": true,
            "type": "pie"
           }
          ],
          "scatter": [
           {
            "fillpattern": {
             "fillmode": "overlay",
             "size": 10,
             "solidity": 0.2
            },
            "type": "scatter"
           }
          ],
          "scatter3d": [
           {
            "line": {
             "colorbar": {
              "outlinewidth": 0,
              "ticks": ""
             }
            },
            "marker": {
             "colorbar": {
              "outlinewidth": 0,
              "ticks": ""
             }
            },
            "type": "scatter3d"
           }
          ],
          "scattercarpet": [
           {
            "marker": {
             "colorbar": {
              "outlinewidth": 0,
              "ticks": ""
             }
            },
            "type": "scattercarpet"
           }
          ],
          "scattergeo": [
           {
            "marker": {
             "colorbar": {
              "outlinewidth": 0,
              "ticks": ""
             }
            },
            "type": "scattergeo"
           }
          ],
          "scattergl": [
           {
            "marker": {
             "colorbar": {
              "outlinewidth": 0,
              "ticks": ""
             }
            },
            "type": "scattergl"
           }
          ],
          "scattermapbox": [
           {
            "marker": {
             "colorbar": {
              "outlinewidth": 0,
              "ticks": ""
             }
            },
            "type": "scattermapbox"
           }
          ],
          "scatterpolar": [
           {
            "marker": {
             "colorbar": {
              "outlinewidth": 0,
              "ticks": ""
             }
            },
            "type": "scatterpolar"
           }
          ],
          "scatterpolargl": [
           {
            "marker": {
             "colorbar": {
              "outlinewidth": 0,
              "ticks": ""
             }
            },
            "type": "scatterpolargl"
           }
          ],
          "scatterternary": [
           {
            "marker": {
             "colorbar": {
              "outlinewidth": 0,
              "ticks": ""
             }
            },
            "type": "scatterternary"
           }
          ],
          "surface": [
           {
            "colorbar": {
             "outlinewidth": 0,
             "ticks": ""
            },
            "colorscale": [
             [
              0,
              "#0d0887"
             ],
             [
              0.1111111111111111,
              "#46039f"
             ],
             [
              0.2222222222222222,
              "#7201a8"
             ],
             [
              0.3333333333333333,
              "#9c179e"
             ],
             [
              0.4444444444444444,
              "#bd3786"
             ],
             [
              0.5555555555555556,
              "#d8576b"
             ],
             [
              0.6666666666666666,
              "#ed7953"
             ],
             [
              0.7777777777777778,
              "#fb9f3a"
             ],
             [
              0.8888888888888888,
              "#fdca26"
             ],
             [
              1,
              "#f0f921"
             ]
            ],
            "type": "surface"
           }
          ],
          "table": [
           {
            "cells": {
             "fill": {
              "color": "#EBF0F8"
             },
             "line": {
              "color": "white"
             }
            },
            "header": {
             "fill": {
              "color": "#C8D4E3"
             },
             "line": {
              "color": "white"
             }
            },
            "type": "table"
           }
          ]
         },
         "layout": {
          "annotationdefaults": {
           "arrowcolor": "#2a3f5f",
           "arrowhead": 0,
           "arrowwidth": 1
          },
          "autotypenumbers": "strict",
          "coloraxis": {
           "colorbar": {
            "outlinewidth": 0,
            "ticks": ""
           }
          },
          "colorscale": {
           "diverging": [
            [
             0,
             "#8e0152"
            ],
            [
             0.1,
             "#c51b7d"
            ],
            [
             0.2,
             "#de77ae"
            ],
            [
             0.3,
             "#f1b6da"
            ],
            [
             0.4,
             "#fde0ef"
            ],
            [
             0.5,
             "#f7f7f7"
            ],
            [
             0.6,
             "#e6f5d0"
            ],
            [
             0.7,
             "#b8e186"
            ],
            [
             0.8,
             "#7fbc41"
            ],
            [
             0.9,
             "#4d9221"
            ],
            [
             1,
             "#276419"
            ]
           ],
           "sequential": [
            [
             0,
             "#0d0887"
            ],
            [
             0.1111111111111111,
             "#46039f"
            ],
            [
             0.2222222222222222,
             "#7201a8"
            ],
            [
             0.3333333333333333,
             "#9c179e"
            ],
            [
             0.4444444444444444,
             "#bd3786"
            ],
            [
             0.5555555555555556,
             "#d8576b"
            ],
            [
             0.6666666666666666,
             "#ed7953"
            ],
            [
             0.7777777777777778,
             "#fb9f3a"
            ],
            [
             0.8888888888888888,
             "#fdca26"
            ],
            [
             1,
             "#f0f921"
            ]
           ],
           "sequentialminus": [
            [
             0,
             "#0d0887"
            ],
            [
             0.1111111111111111,
             "#46039f"
            ],
            [
             0.2222222222222222,
             "#7201a8"
            ],
            [
             0.3333333333333333,
             "#9c179e"
            ],
            [
             0.4444444444444444,
             "#bd3786"
            ],
            [
             0.5555555555555556,
             "#d8576b"
            ],
            [
             0.6666666666666666,
             "#ed7953"
            ],
            [
             0.7777777777777778,
             "#fb9f3a"
            ],
            [
             0.8888888888888888,
             "#fdca26"
            ],
            [
             1,
             "#f0f921"
            ]
           ]
          },
          "colorway": [
           "#636efa",
           "#EF553B",
           "#00cc96",
           "#ab63fa",
           "#FFA15A",
           "#19d3f3",
           "#FF6692",
           "#B6E880",
           "#FF97FF",
           "#FECB52"
          ],
          "font": {
           "color": "#2a3f5f"
          },
          "geo": {
           "bgcolor": "white",
           "lakecolor": "white",
           "landcolor": "#E5ECF6",
           "showlakes": true,
           "showland": true,
           "subunitcolor": "white"
          },
          "hoverlabel": {
           "align": "left"
          },
          "hovermode": "closest",
          "mapbox": {
           "style": "light"
          },
          "paper_bgcolor": "white",
          "plot_bgcolor": "#E5ECF6",
          "polar": {
           "angularaxis": {
            "gridcolor": "white",
            "linecolor": "white",
            "ticks": ""
           },
           "bgcolor": "#E5ECF6",
           "radialaxis": {
            "gridcolor": "white",
            "linecolor": "white",
            "ticks": ""
           }
          },
          "scene": {
           "xaxis": {
            "backgroundcolor": "#E5ECF6",
            "gridcolor": "white",
            "gridwidth": 2,
            "linecolor": "white",
            "showbackground": true,
            "ticks": "",
            "zerolinecolor": "white"
           },
           "yaxis": {
            "backgroundcolor": "#E5ECF6",
            "gridcolor": "white",
            "gridwidth": 2,
            "linecolor": "white",
            "showbackground": true,
            "ticks": "",
            "zerolinecolor": "white"
           },
           "zaxis": {
            "backgroundcolor": "#E5ECF6",
            "gridcolor": "white",
            "gridwidth": 2,
            "linecolor": "white",
            "showbackground": true,
            "ticks": "",
            "zerolinecolor": "white"
           }
          },
          "shapedefaults": {
           "line": {
            "color": "#2a3f5f"
           }
          },
          "ternary": {
           "aaxis": {
            "gridcolor": "white",
            "linecolor": "white",
            "ticks": ""
           },
           "baxis": {
            "gridcolor": "white",
            "linecolor": "white",
            "ticks": ""
           },
           "bgcolor": "#E5ECF6",
           "caxis": {
            "gridcolor": "white",
            "linecolor": "white",
            "ticks": ""
           }
          },
          "title": {
           "x": 0.05
          },
          "xaxis": {
           "automargin": true,
           "gridcolor": "white",
           "linecolor": "white",
           "ticks": "",
           "title": {
            "standoff": 15
           },
           "zerolinecolor": "white",
           "zerolinewidth": 2
          },
          "yaxis": {
           "automargin": true,
           "gridcolor": "white",
           "linecolor": "white",
           "ticks": "",
           "title": {
            "standoff": 15
           },
           "zerolinecolor": "white",
           "zerolinewidth": 2
          }
         }
        },
        "title": {
         "text": "Tags proportions by decades"
        }
       }
      }
     },
     "metadata": {},
     "output_type": "display_data"
    }
   ],
   "source": [
    "from modules.vizualisation import piechart_tags_decade\n",
    "\n",
    "piechart_tags_decade(df)"
   ]
  },
  {
   "cell_type": "code",
   "execution_count": 6,
   "metadata": {},
   "outputs": [
    {
     "data": {
      "application/vnd.plotly.v1+json": {
       "config": {
        "plotlyServerURL": "https://plot.ly"
       },
       "data": [
        {
         "marker": {
          "color": [
           267875,
           177474,
           112483,
           89220,
           63673,
           27372,
           15734,
           14029,
           13455,
           12511,
           10173,
           9551,
           7995,
           6748,
           6479,
           5837,
           4858,
           4302,
           4033,
           3969,
           3587,
           3570,
           3464,
           3213,
           3164,
           3102,
           2983,
           2874,
           2843,
           2752,
           2609,
           2554,
           2458,
           2352,
           2315,
           2261,
           2232,
           2098,
           2095,
           2058,
           1868,
           1822,
           1815,
           1815,
           1785,
           1761,
           1720,
           1688,
           1639,
           1618,
           1617,
           1520,
           1484,
           1438,
           1430,
           1429,
           1415,
           1383,
           1365,
           1314,
           1281,
           1266,
           1264,
           1257,
           1253,
           1228,
           1196,
           1142,
           1118,
           1107,
           1089,
           1035,
           1034,
           1031,
           1021,
           991,
           977,
           970,
           955,
           942,
           925,
           924,
           918,
           914,
           904,
           867,
           851,
           850,
           848,
           838,
           817,
           797,
           793,
           786,
           771,
           768,
           762,
           759,
           743,
           742,
           735,
           724,
           721,
           716,
           714,
           639,
           637,
           621,
           620,
           618,
           606,
           591,
           588,
           581,
           577,
           574,
           566,
           539,
           527,
           516,
           513,
           512,
           506,
           500,
           485,
           474,
           465,
           455,
           444,
           441,
           417,
           415,
           414,
           403,
           397,
           396,
           395,
           389,
           385,
           384,
           380,
           380,
           376,
           371,
           366,
           362,
           361,
           357,
           352,
           344,
           331,
           331,
           328,
           327,
           318,
           315,
           314,
           313,
           311,
           308,
           305,
           302,
           302,
           285,
           283,
           270,
           260,
           258,
           258,
           257,
           257,
           254,
           254,
           241,
           240,
           239,
           233,
           233,
           225,
           219,
           216,
           210,
           201,
           198,
           197,
           194,
           193,
           183,
           181,
           177,
           177,
           174,
           174,
           170,
           164,
           164,
           163,
           163,
           162,
           161,
           160,
           154,
           153,
           151,
           147,
           146,
           135,
           130,
           125,
           124,
           123,
           123,
           120,
           117,
           117,
           117,
           117,
           117,
           116,
           116,
           115,
           115,
           114,
           112,
           109,
           109,
           105,
           102,
           101,
           100,
           97,
           97,
           90,
           89,
           88,
           86,
           80,
           74,
           71,
           70,
           63,
           62,
           62,
           59,
           58,
           57,
           57,
           55,
           53,
           53,
           48,
           48,
           46,
           46,
           46,
           45,
           43,
           42,
           42,
           41,
           41,
           41,
           39,
           38,
           38,
           38,
           36,
           34,
           34,
           34,
           33,
           33,
           33,
           31,
           31,
           30,
           30,
           28,
           28,
           28,
           26,
           26,
           25,
           25,
           24,
           24,
           22,
           21,
           21,
           19,
           18,
           17,
           17,
           15,
           14,
           14,
           14,
           14,
           14,
           14,
           13,
           13,
           12,
           11,
           11,
           11,
           10,
           10,
           9,
           8,
           8,
           7,
           6,
           6,
           6,
           6,
           5,
           4,
           4,
           3,
           2,
           2,
           2
          ],
          "colorscale": [
           [
            0,
            "#0d0887"
           ],
           [
            0.1111111111111111,
            "#46039f"
           ],
           [
            0.2222222222222222,
            "#7201a8"
           ],
           [
            0.3333333333333333,
            "#9c179e"
           ],
           [
            0.4444444444444444,
            "#bd3786"
           ],
           [
            0.5555555555555556,
            "#d8576b"
           ],
           [
            0.6666666666666666,
            "#ed7953"
           ],
           [
            0.7777777777777778,
            "#fb9f3a"
           ],
           [
            0.8888888888888888,
            "#fdca26"
           ],
           [
            1,
            "#f0f921"
           ]
          ]
         },
         "name": "1960",
         "orientation": "h",
         "showlegend": false,
         "type": "bar",
         "x": [
          15734,
          27372,
          63673,
          89220,
          112483,
          177474,
          267875
         ],
         "xaxis": "x",
         "y": [
          "Elvis Presley",
          "Marilyn Monroe",
          "James Brown & The Famous Flames",
          "The Jimi Hendrix Experience",
          "Frank Sinatra",
          "Bob Dylan",
          "Nancy Sinatra"
         ],
         "yaxis": "y"
        },
        {
         "marker": {
          "color": [
           203951,
           147248,
           123843,
           66724,
           56199,
           45956,
           38639,
           38206,
           35684,
           31863,
           26853,
           26547,
           23516,
           20070,
           17848,
           17846,
           16698,
           15602,
           15300,
           14279,
           13523,
           13510,
           13315,
           12624,
           12527,
           12354,
           11154,
           10422,
           8919,
           8884,
           7914,
           7507,
           6942,
           6598,
           5506,
           5437,
           5361,
           5306,
           4844,
           4810,
           4254,
           3969,
           3855,
           3752,
           3737,
           3631,
           2889,
           2873,
           2785,
           2505,
           2254,
           2222,
           2092,
           1908,
           1836,
           1829,
           1809,
           1808,
           1729,
           1699,
           1626,
           1608,
           1587,
           1578,
           1573,
           1534,
           1481,
           1451,
           1443,
           1419,
           1418,
           1402,
           1400,
           1396,
           1392,
           1346,
           1341,
           1337,
           1287,
           1164,
           1149,
           1052,
           1048,
           921,
           921,
           911,
           901,
           887,
           875,
           869,
           861,
           859,
           856,
           851,
           846,
           813,
           802,
           800,
           764,
           713,
           690,
           678,
           672,
           671,
           668,
           667,
           660,
           654,
           649,
           645,
           636,
           626,
           608,
           591,
           564,
           534,
           518,
           517,
           508,
           494,
           489,
           466,
           457,
           450,
           436,
           420,
           411,
           405,
           402,
           398,
           382,
           382,
           372,
           369,
           364,
           363,
           359,
           350,
           345,
           341,
           335,
           332,
           329,
           328,
           319,
           309,
           308,
           306,
           296,
           293,
           292,
           288,
           284,
           283,
           277,
           271,
           269,
           265,
           263,
           258,
           255,
           252,
           243,
           241,
           238,
           236,
           233,
           231,
           226,
           223,
           222,
           220,
           218,
           217,
           215,
           214,
           214,
           214,
           207,
           203,
           202,
           199,
           197,
           195,
           193,
           193,
           193,
           192,
           191,
           191,
           190,
           189,
           188,
           183,
           178,
           177,
           174,
           174,
           173,
           172,
           164,
           163,
           161,
           158,
           157,
           154,
           154,
           151,
           151,
           148,
           146,
           145,
           145,
           145,
           143,
           143,
           141,
           141,
           139,
           139,
           135,
           135,
           133,
           132,
           131,
           129,
           129,
           128,
           127,
           126,
           126,
           125,
           124,
           124,
           122,
           121,
           119,
           118,
           118,
           113,
           112,
           111,
           108,
           106,
           106,
           100,
           98,
           97,
           93,
           93,
           85,
           80,
           80,
           79,
           78,
           78,
           77,
           74,
           73,
           73,
           73,
           71,
           70,
           67,
           66,
           65,
           64,
           63,
           63,
           62,
           60,
           58,
           58,
           57,
           57,
           56,
           56,
           55,
           54,
           53,
           53,
           53,
           50,
           50,
           50,
           48,
           45,
           43,
           42,
           41,
           40,
           39,
           39,
           38,
           36,
           36,
           35,
           32,
           30,
           29,
           28,
           26,
           25,
           24,
           24,
           23,
           22,
           22,
           22,
           21,
           21,
           20,
           19,
           18,
           17,
           17,
           16,
           16,
           16,
           15,
           14,
           12,
           11,
           11,
           11,
           10,
           10,
           10,
           10,
           9,
           9,
           8,
           7,
           6,
           6,
           4,
           4,
           2,
           1,
           1
          ],
          "colorscale": [
           [
            0,
            "#0d0887"
           ],
           [
            0.1111111111111111,
            "#46039f"
           ],
           [
            0.2222222222222222,
            "#7201a8"
           ],
           [
            0.3333333333333333,
            "#9c179e"
           ],
           [
            0.4444444444444444,
            "#bd3786"
           ],
           [
            0.5555555555555556,
            "#d8576b"
           ],
           [
            0.6666666666666666,
            "#ed7953"
           ],
           [
            0.7777777777777778,
            "#fb9f3a"
           ],
           [
            0.8888888888888888,
            "#fdca26"
           ],
           [
            1,
            "#f0f921"
           ]
          ]
         },
         "name": "1970",
         "orientation": "h",
         "showlegend": false,
         "type": "bar",
         "x": [
          38639,
          45956,
          56199,
          66724,
          123843,
          147248,
          203951
         ],
         "xaxis": "x2",
         "y": [
          "Billy Joel",
          "Paul McCartney",
          "The Rolling Stones",
          "The Grateful Dead",
          "Marvin Gaye",
          "Janis Joplin",
          "Barry Manilow"
         ],
         "yaxis": "y2"
        },
        {
         "marker": {
          "color": [
           268954,
           83069,
           61654,
           53190,
           52735,
           31082,
           28592,
           22105,
           19942,
           17987,
           17407,
           16063,
           14682,
           14229,
           13751,
           12315,
           11936,
           8343,
           7871,
           7544,
           7368,
           7355,
           7229,
           6965,
           6875,
           5698,
           5677,
           5459,
           4505,
           4450,
           4364,
           4284,
           4157,
           3992,
           3931,
           3906,
           3644,
           3532,
           3247,
           3187,
           3186,
           3131,
           3129,
           3125,
           3056,
           2912,
           2885,
           2779,
           2737,
           2574,
           2494,
           2369,
           2299,
           2294,
           2159,
           2136,
           2128,
           2003,
           2002,
           1994,
           1855,
           1849,
           1826,
           1795,
           1721,
           1676,
           1568,
           1567,
           1566,
           1549,
           1512,
           1459,
           1443,
           1436,
           1429,
           1414,
           1315,
           1294,
           1276,
           1198,
           1182,
           1168,
           1164,
           1148,
           1146,
           1140,
           1135,
           1088,
           1059,
           1041,
           1015,
           1012,
           980,
           938,
           937,
           933,
           928,
           906,
           905,
           904,
           889,
           875,
           867,
           863,
           862,
           852,
           844,
           844,
           823,
           811,
           780,
           764,
           757,
           734,
           717,
           712,
           686,
           673,
           673,
           658,
           645,
           628,
           621,
           601,
           579,
           563,
           541,
           529,
           521,
           517,
           513,
           507,
           501,
           497,
           495,
           482,
           481,
           479,
           477,
           469,
           468,
           466,
           459,
           454,
           453,
           450,
           448,
           445,
           440,
           438,
           437,
           418,
           414,
           400,
           394,
           391,
           389,
           385,
           381,
           355,
           344,
           340,
           328,
           311,
           309,
           309,
           302,
           298,
           294,
           292,
           291,
           289,
           285,
           280,
           272,
           270,
           270,
           270,
           268,
           265,
           264,
           263,
           262,
           259,
           254,
           253,
           249,
           248,
           248,
           247,
           243,
           243,
           234,
           233,
           232,
           231,
           229,
           216,
           212,
           211,
           209,
           209,
           208,
           205,
           202,
           201,
           201,
           200,
           198,
           192,
           185,
           183,
           180,
           178,
           178,
           176,
           176,
           176,
           174,
           174,
           172,
           171,
           170,
           169,
           165,
           164,
           160,
           160,
           157,
           156,
           156,
           156,
           155,
           154,
           154,
           153,
           152,
           148,
           147,
           147,
           146,
           145,
           145,
           143,
           139,
           136,
           135,
           133,
           131,
           127,
           123,
           123,
           121,
           121,
           121,
           120,
           119,
           117,
           113,
           113,
           111,
           110,
           110,
           110,
           109,
           108,
           108,
           106,
           106,
           101,
           99,
           99,
           98,
           92,
           89,
           88,
           88,
           87,
           86,
           85,
           82,
           81,
           79,
           77,
           73,
           72,
           71,
           69,
           68,
           68,
           68,
           66,
           66,
           63,
           63,
           61,
           60,
           60,
           59,
           58,
           56,
           55,
           55,
           54,
           54,
           53,
           53,
           52,
           51,
           49,
           48,
           46,
           46,
           45,
           45,
           42,
           42,
           39,
           39,
           38,
           37,
           37,
           37,
           37,
           37,
           36,
           36,
           36,
           35,
           33,
           33,
           31,
           31,
           31,
           30,
           28,
           26,
           25,
           24,
           24,
           23,
           23,
           23,
           23,
           22,
           22,
           20,
           19,
           19,
           18,
           18,
           18,
           18,
           18,
           16,
           15,
           14,
           14,
           14,
           13,
           13,
           13,
           13,
           12,
           12,
           11,
           9,
           7,
           7,
           7,
           6,
           6,
           6,
           6,
           6,
           6,
           6,
           5,
           5,
           4,
           4,
           3,
           3,
           3,
           3,
           3,
           2,
           2,
           2,
           1
          ],
          "colorscale": [
           [
            0,
            "#0d0887"
           ],
           [
            0.1111111111111111,
            "#46039f"
           ],
           [
            0.2222222222222222,
            "#7201a8"
           ],
           [
            0.3333333333333333,
            "#9c179e"
           ],
           [
            0.4444444444444444,
            "#bd3786"
           ],
           [
            0.5555555555555556,
            "#d8576b"
           ],
           [
            0.6666666666666666,
            "#ed7953"
           ],
           [
            0.7777777777777778,
            "#fb9f3a"
           ],
           [
            0.8888888888888888,
            "#fdca26"
           ],
           [
            1,
            "#f0f921"
           ]
          ]
         },
         "name": "1980",
         "orientation": "h",
         "showlegend": false,
         "type": "bar",
         "x": [
          28592,
          31082,
          52735,
          53190,
          61654,
          83069,
          268954
         ],
         "xaxis": "x3",
         "y": [
          "Madonna",
          "Kenny Loggins",
          "Andrew Lloyd Webber",
          "Yellowman",
          "Betty Wright",
          "Harry Enfield",
          "New Order"
         ],
         "yaxis": "y3"
        },
        {
         "marker": {
          "color": [
           217182,
           194610,
           55868,
           40019,
           37690,
           37198,
           33108,
           18713,
           16731,
           15102,
           14994,
           12434,
           9576,
           8805,
           8218,
           7683,
           5952,
           4839,
           4625,
           4569,
           3702,
           3619,
           3481,
           3372,
           3158,
           3109,
           3008,
           2978,
           2939,
           2844,
           2783,
           2748,
           2587,
           2541,
           2481,
           2356,
           2344,
           2238,
           2238,
           2198,
           2043,
           1974,
           1904,
           1770,
           1745,
           1744,
           1624,
           1614,
           1587,
           1555,
           1525,
           1454,
           1363,
           1354,
           1339,
           1289,
           1275,
           1240,
           1230,
           1223,
           1098,
           1094,
           1087,
           1082,
           1055,
           1048,
           987,
           973,
           952,
           946,
           912,
           895,
           878,
           866,
           865,
           862,
           841,
           832,
           832,
           803,
           783,
           758,
           756,
           737,
           708,
           688,
           683,
           681,
           669,
           635,
           619,
           616,
           614,
           607,
           600,
           582,
           576,
           572,
           566,
           563,
           552,
           552,
           550,
           550,
           542,
           535,
           531,
           525,
           508,
           507,
           495,
           480,
           471,
           468,
           467,
           464,
           459,
           458,
           457,
           446,
           442,
           439,
           427,
           414,
           402,
           402,
           399,
           397,
           394,
           387,
           384,
           383,
           381,
           380,
           370,
           368,
           366,
           362,
           360,
           354,
           350,
           332,
           327,
           323,
           321,
           319,
           317,
           313,
           311,
           309,
           309,
           308,
           293,
           290,
           279,
           275,
           264,
           264,
           254,
           251,
           244,
           241,
           240,
           238,
           238,
           237,
           233,
           231,
           231,
           230,
           230,
           222,
           221,
           218,
           214,
           210,
           209,
           201,
           201,
           200,
           192,
           192,
           190,
           188,
           188,
           186,
           185,
           181,
           180,
           179,
           175,
           174,
           174,
           174,
           173,
           173,
           172,
           171,
           166,
           165,
           164,
           158,
           157,
           157,
           153,
           151,
           149,
           148,
           143,
           140,
           139,
           137,
           137,
           132,
           132,
           131,
           130,
           130,
           130,
           129,
           128,
           127,
           127,
           125,
           125,
           124,
           120,
           117,
           115,
           115,
           114,
           109,
           108,
           108,
           107,
           107,
           106,
           106,
           105,
           105,
           104,
           103,
           103,
           101,
           101,
           100,
           100,
           99,
           99,
           99,
           98,
           98,
           98,
           97,
           97,
           95,
           95,
           93,
           93,
           90,
           90,
           85,
           85,
           83,
           82,
           82,
           82,
           81,
           79,
           79,
           77,
           75,
           74,
           72,
           72,
           69,
           69,
           69,
           68,
           67,
           66,
           65,
           64,
           64,
           64,
           64,
           63,
           63,
           62,
           61,
           61,
           61,
           61,
           60,
           60,
           60,
           59,
           58,
           58,
           58,
           57,
           54,
           54,
           54,
           53,
           53,
           52,
           52,
           52,
           52,
           51,
           51,
           51,
           51,
           51,
           50,
           50,
           49,
           49,
           48,
           47,
           47,
           47,
           47,
           46,
           46,
           45,
           44,
           43,
           43,
           43,
           41,
           39,
           38,
           38,
           37,
           37,
           37,
           36,
           35,
           35,
           34,
           34,
           33,
           33,
           33,
           32,
           32,
           32,
           31,
           31,
           30,
           30,
           29,
           29,
           29,
           29,
           28,
           28,
           28,
           28,
           27,
           27,
           26,
           26,
           26,
           25,
           25,
           24,
           24,
           23,
           22,
           22,
           21,
           20,
           20,
           18,
           17,
           17,
           17,
           16,
           16,
           15,
           14,
           14,
           14,
           14,
           14,
           13,
           13,
           12,
           12,
           12,
           12,
           12,
           11,
           11,
           10,
           9,
           9,
           8,
           7,
           7,
           7,
           7,
           7,
           7,
           7,
           6,
           6,
           5,
           4,
           4,
           4,
           3,
           2,
           2,
           2,
           2,
           2,
           1
          ],
          "colorscale": [
           [
            0,
            "#0d0887"
           ],
           [
            0.1111111111111111,
            "#46039f"
           ],
           [
            0.2222222222222222,
            "#7201a8"
           ],
           [
            0.3333333333333333,
            "#9c179e"
           ],
           [
            0.4444444444444444,
            "#bd3786"
           ],
           [
            0.5555555555555556,
            "#d8576b"
           ],
           [
            0.6666666666666666,
            "#ed7953"
           ],
           [
            0.7777777777777778,
            "#fb9f3a"
           ],
           [
            0.8888888888888888,
            "#fdca26"
           ],
           [
            1,
            "#f0f921"
           ]
          ]
         },
         "name": "1990",
         "orientation": "h",
         "showlegend": false,
         "type": "bar",
         "x": [
          33108,
          37198,
          37690,
          40019,
          55868,
          194610,
          217182
         ],
         "xaxis": "x4",
         "y": [
          "Bone Thugs-N-Harmony",
          "Eminem",
          "Super Cat",
          "Andra Crouch",
          "Pearl Jam",
          "Depeche Mode",
          "R. Kelly"
         ],
         "yaxis": "y4"
        }
       ],
       "layout": {
        "annotations": [
         {
          "font": {
           "size": 16
          },
          "showarrow": false,
          "text": "1960",
          "x": 0.225,
          "xanchor": "center",
          "xref": "paper",
          "y": 1,
          "yanchor": "bottom",
          "yref": "paper"
         },
         {
          "font": {
           "size": 16
          },
          "showarrow": false,
          "text": "1970",
          "x": 0.775,
          "xanchor": "center",
          "xref": "paper",
          "y": 1,
          "yanchor": "bottom",
          "yref": "paper"
         },
         {
          "font": {
           "size": 16
          },
          "showarrow": false,
          "text": "1980",
          "x": 0.225,
          "xanchor": "center",
          "xref": "paper",
          "y": 0.375,
          "yanchor": "bottom",
          "yref": "paper"
         },
         {
          "font": {
           "size": 16
          },
          "showarrow": false,
          "text": "1990",
          "x": 0.775,
          "xanchor": "center",
          "xref": "paper",
          "y": 0.375,
          "yanchor": "bottom",
          "yref": "paper"
         },
         {
          "font": {
           "size": 16
          },
          "showarrow": false,
          "text": "number of occurrences",
          "x": 0.5,
          "xanchor": "center",
          "xref": "paper",
          "y": 0,
          "yanchor": "top",
          "yref": "paper",
          "yshift": -30
         },
         {
          "font": {
           "size": 16
          },
          "showarrow": false,
          "text": "views",
          "textangle": -90,
          "x": 0,
          "xanchor": "right",
          "xref": "paper",
          "xshift": -40,
          "y": 0.5,
          "yanchor": "middle",
          "yref": "paper"
         }
        ],
        "template": {
         "data": {
          "bar": [
           {
            "error_x": {
             "color": "#2a3f5f"
            },
            "error_y": {
             "color": "#2a3f5f"
            },
            "marker": {
             "line": {
              "color": "#E5ECF6",
              "width": 0.5
             },
             "pattern": {
              "fillmode": "overlay",
              "size": 10,
              "solidity": 0.2
             }
            },
            "type": "bar"
           }
          ],
          "barpolar": [
           {
            "marker": {
             "line": {
              "color": "#E5ECF6",
              "width": 0.5
             },
             "pattern": {
              "fillmode": "overlay",
              "size": 10,
              "solidity": 0.2
             }
            },
            "type": "barpolar"
           }
          ],
          "carpet": [
           {
            "aaxis": {
             "endlinecolor": "#2a3f5f",
             "gridcolor": "white",
             "linecolor": "white",
             "minorgridcolor": "white",
             "startlinecolor": "#2a3f5f"
            },
            "baxis": {
             "endlinecolor": "#2a3f5f",
             "gridcolor": "white",
             "linecolor": "white",
             "minorgridcolor": "white",
             "startlinecolor": "#2a3f5f"
            },
            "type": "carpet"
           }
          ],
          "choropleth": [
           {
            "colorbar": {
             "outlinewidth": 0,
             "ticks": ""
            },
            "type": "choropleth"
           }
          ],
          "contour": [
           {
            "colorbar": {
             "outlinewidth": 0,
             "ticks": ""
            },
            "colorscale": [
             [
              0,
              "#0d0887"
             ],
             [
              0.1111111111111111,
              "#46039f"
             ],
             [
              0.2222222222222222,
              "#7201a8"
             ],
             [
              0.3333333333333333,
              "#9c179e"
             ],
             [
              0.4444444444444444,
              "#bd3786"
             ],
             [
              0.5555555555555556,
              "#d8576b"
             ],
             [
              0.6666666666666666,
              "#ed7953"
             ],
             [
              0.7777777777777778,
              "#fb9f3a"
             ],
             [
              0.8888888888888888,
              "#fdca26"
             ],
             [
              1,
              "#f0f921"
             ]
            ],
            "type": "contour"
           }
          ],
          "contourcarpet": [
           {
            "colorbar": {
             "outlinewidth": 0,
             "ticks": ""
            },
            "type": "contourcarpet"
           }
          ],
          "heatmap": [
           {
            "colorbar": {
             "outlinewidth": 0,
             "ticks": ""
            },
            "colorscale": [
             [
              0,
              "#0d0887"
             ],
             [
              0.1111111111111111,
              "#46039f"
             ],
             [
              0.2222222222222222,
              "#7201a8"
             ],
             [
              0.3333333333333333,
              "#9c179e"
             ],
             [
              0.4444444444444444,
              "#bd3786"
             ],
             [
              0.5555555555555556,
              "#d8576b"
             ],
             [
              0.6666666666666666,
              "#ed7953"
             ],
             [
              0.7777777777777778,
              "#fb9f3a"
             ],
             [
              0.8888888888888888,
              "#fdca26"
             ],
             [
              1,
              "#f0f921"
             ]
            ],
            "type": "heatmap"
           }
          ],
          "heatmapgl": [
           {
            "colorbar": {
             "outlinewidth": 0,
             "ticks": ""
            },
            "colorscale": [
             [
              0,
              "#0d0887"
             ],
             [
              0.1111111111111111,
              "#46039f"
             ],
             [
              0.2222222222222222,
              "#7201a8"
             ],
             [
              0.3333333333333333,
              "#9c179e"
             ],
             [
              0.4444444444444444,
              "#bd3786"
             ],
             [
              0.5555555555555556,
              "#d8576b"
             ],
             [
              0.6666666666666666,
              "#ed7953"
             ],
             [
              0.7777777777777778,
              "#fb9f3a"
             ],
             [
              0.8888888888888888,
              "#fdca26"
             ],
             [
              1,
              "#f0f921"
             ]
            ],
            "type": "heatmapgl"
           }
          ],
          "histogram": [
           {
            "marker": {
             "pattern": {
              "fillmode": "overlay",
              "size": 10,
              "solidity": 0.2
             }
            },
            "type": "histogram"
           }
          ],
          "histogram2d": [
           {
            "colorbar": {
             "outlinewidth": 0,
             "ticks": ""
            },
            "colorscale": [
             [
              0,
              "#0d0887"
             ],
             [
              0.1111111111111111,
              "#46039f"
             ],
             [
              0.2222222222222222,
              "#7201a8"
             ],
             [
              0.3333333333333333,
              "#9c179e"
             ],
             [
              0.4444444444444444,
              "#bd3786"
             ],
             [
              0.5555555555555556,
              "#d8576b"
             ],
             [
              0.6666666666666666,
              "#ed7953"
             ],
             [
              0.7777777777777778,
              "#fb9f3a"
             ],
             [
              0.8888888888888888,
              "#fdca26"
             ],
             [
              1,
              "#f0f921"
             ]
            ],
            "type": "histogram2d"
           }
          ],
          "histogram2dcontour": [
           {
            "colorbar": {
             "outlinewidth": 0,
             "ticks": ""
            },
            "colorscale": [
             [
              0,
              "#0d0887"
             ],
             [
              0.1111111111111111,
              "#46039f"
             ],
             [
              0.2222222222222222,
              "#7201a8"
             ],
             [
              0.3333333333333333,
              "#9c179e"
             ],
             [
              0.4444444444444444,
              "#bd3786"
             ],
             [
              0.5555555555555556,
              "#d8576b"
             ],
             [
              0.6666666666666666,
              "#ed7953"
             ],
             [
              0.7777777777777778,
              "#fb9f3a"
             ],
             [
              0.8888888888888888,
              "#fdca26"
             ],
             [
              1,
              "#f0f921"
             ]
            ],
            "type": "histogram2dcontour"
           }
          ],
          "mesh3d": [
           {
            "colorbar": {
             "outlinewidth": 0,
             "ticks": ""
            },
            "type": "mesh3d"
           }
          ],
          "parcoords": [
           {
            "line": {
             "colorbar": {
              "outlinewidth": 0,
              "ticks": ""
             }
            },
            "type": "parcoords"
           }
          ],
          "pie": [
           {
            "automargin": true,
            "type": "pie"
           }
          ],
          "scatter": [
           {
            "fillpattern": {
             "fillmode": "overlay",
             "size": 10,
             "solidity": 0.2
            },
            "type": "scatter"
           }
          ],
          "scatter3d": [
           {
            "line": {
             "colorbar": {
              "outlinewidth": 0,
              "ticks": ""
             }
            },
            "marker": {
             "colorbar": {
              "outlinewidth": 0,
              "ticks": ""
             }
            },
            "type": "scatter3d"
           }
          ],
          "scattercarpet": [
           {
            "marker": {
             "colorbar": {
              "outlinewidth": 0,
              "ticks": ""
             }
            },
            "type": "scattercarpet"
           }
          ],
          "scattergeo": [
           {
            "marker": {
             "colorbar": {
              "outlinewidth": 0,
              "ticks": ""
             }
            },
            "type": "scattergeo"
           }
          ],
          "scattergl": [
           {
            "marker": {
             "colorbar": {
              "outlinewidth": 0,
              "ticks": ""
             }
            },
            "type": "scattergl"
           }
          ],
          "scattermapbox": [
           {
            "marker": {
             "colorbar": {
              "outlinewidth": 0,
              "ticks": ""
             }
            },
            "type": "scattermapbox"
           }
          ],
          "scatterpolar": [
           {
            "marker": {
             "colorbar": {
              "outlinewidth": 0,
              "ticks": ""
             }
            },
            "type": "scatterpolar"
           }
          ],
          "scatterpolargl": [
           {
            "marker": {
             "colorbar": {
              "outlinewidth": 0,
              "ticks": ""
             }
            },
            "type": "scatterpolargl"
           }
          ],
          "scatterternary": [
           {
            "marker": {
             "colorbar": {
              "outlinewidth": 0,
              "ticks": ""
             }
            },
            "type": "scatterternary"
           }
          ],
          "surface": [
           {
            "colorbar": {
             "outlinewidth": 0,
             "ticks": ""
            },
            "colorscale": [
             [
              0,
              "#0d0887"
             ],
             [
              0.1111111111111111,
              "#46039f"
             ],
             [
              0.2222222222222222,
              "#7201a8"
             ],
             [
              0.3333333333333333,
              "#9c179e"
             ],
             [
              0.4444444444444444,
              "#bd3786"
             ],
             [
              0.5555555555555556,
              "#d8576b"
             ],
             [
              0.6666666666666666,
              "#ed7953"
             ],
             [
              0.7777777777777778,
              "#fb9f3a"
             ],
             [
              0.8888888888888888,
              "#fdca26"
             ],
             [
              1,
              "#f0f921"
             ]
            ],
            "type": "surface"
           }
          ],
          "table": [
           {
            "cells": {
             "fill": {
              "color": "#EBF0F8"
             },
             "line": {
              "color": "white"
             }
            },
            "header": {
             "fill": {
              "color": "#C8D4E3"
             },
             "line": {
              "color": "white"
             }
            },
            "type": "table"
           }
          ]
         },
         "layout": {
          "annotationdefaults": {
           "arrowcolor": "#2a3f5f",
           "arrowhead": 0,
           "arrowwidth": 1
          },
          "autotypenumbers": "strict",
          "coloraxis": {
           "colorbar": {
            "outlinewidth": 0,
            "ticks": ""
           }
          },
          "colorscale": {
           "diverging": [
            [
             0,
             "#8e0152"
            ],
            [
             0.1,
             "#c51b7d"
            ],
            [
             0.2,
             "#de77ae"
            ],
            [
             0.3,
             "#f1b6da"
            ],
            [
             0.4,
             "#fde0ef"
            ],
            [
             0.5,
             "#f7f7f7"
            ],
            [
             0.6,
             "#e6f5d0"
            ],
            [
             0.7,
             "#b8e186"
            ],
            [
             0.8,
             "#7fbc41"
            ],
            [
             0.9,
             "#4d9221"
            ],
            [
             1,
             "#276419"
            ]
           ],
           "sequential": [
            [
             0,
             "#0d0887"
            ],
            [
             0.1111111111111111,
             "#46039f"
            ],
            [
             0.2222222222222222,
             "#7201a8"
            ],
            [
             0.3333333333333333,
             "#9c179e"
            ],
            [
             0.4444444444444444,
             "#bd3786"
            ],
            [
             0.5555555555555556,
             "#d8576b"
            ],
            [
             0.6666666666666666,
             "#ed7953"
            ],
            [
             0.7777777777777778,
             "#fb9f3a"
            ],
            [
             0.8888888888888888,
             "#fdca26"
            ],
            [
             1,
             "#f0f921"
            ]
           ],
           "sequentialminus": [
            [
             0,
             "#0d0887"
            ],
            [
             0.1111111111111111,
             "#46039f"
            ],
            [
             0.2222222222222222,
             "#7201a8"
            ],
            [
             0.3333333333333333,
             "#9c179e"
            ],
            [
             0.4444444444444444,
             "#bd3786"
            ],
            [
             0.5555555555555556,
             "#d8576b"
            ],
            [
             0.6666666666666666,
             "#ed7953"
            ],
            [
             0.7777777777777778,
             "#fb9f3a"
            ],
            [
             0.8888888888888888,
             "#fdca26"
            ],
            [
             1,
             "#f0f921"
            ]
           ]
          },
          "colorway": [
           "#636efa",
           "#EF553B",
           "#00cc96",
           "#ab63fa",
           "#FFA15A",
           "#19d3f3",
           "#FF6692",
           "#B6E880",
           "#FF97FF",
           "#FECB52"
          ],
          "font": {
           "color": "#2a3f5f"
          },
          "geo": {
           "bgcolor": "white",
           "lakecolor": "white",
           "landcolor": "#E5ECF6",
           "showlakes": true,
           "showland": true,
           "subunitcolor": "white"
          },
          "hoverlabel": {
           "align": "left"
          },
          "hovermode": "closest",
          "mapbox": {
           "style": "light"
          },
          "paper_bgcolor": "white",
          "plot_bgcolor": "#E5ECF6",
          "polar": {
           "angularaxis": {
            "gridcolor": "white",
            "linecolor": "white",
            "ticks": ""
           },
           "bgcolor": "#E5ECF6",
           "radialaxis": {
            "gridcolor": "white",
            "linecolor": "white",
            "ticks": ""
           }
          },
          "scene": {
           "xaxis": {
            "backgroundcolor": "#E5ECF6",
            "gridcolor": "white",
            "gridwidth": 2,
            "linecolor": "white",
            "showbackground": true,
            "ticks": "",
            "zerolinecolor": "white"
           },
           "yaxis": {
            "backgroundcolor": "#E5ECF6",
            "gridcolor": "white",
            "gridwidth": 2,
            "linecolor": "white",
            "showbackground": true,
            "ticks": "",
            "zerolinecolor": "white"
           },
           "zaxis": {
            "backgroundcolor": "#E5ECF6",
            "gridcolor": "white",
            "gridwidth": 2,
            "linecolor": "white",
            "showbackground": true,
            "ticks": "",
            "zerolinecolor": "white"
           }
          },
          "shapedefaults": {
           "line": {
            "color": "#2a3f5f"
           }
          },
          "ternary": {
           "aaxis": {
            "gridcolor": "white",
            "linecolor": "white",
            "ticks": ""
           },
           "baxis": {
            "gridcolor": "white",
            "linecolor": "white",
            "ticks": ""
           },
           "bgcolor": "#E5ECF6",
           "caxis": {
            "gridcolor": "white",
            "linecolor": "white",
            "ticks": ""
           }
          },
          "title": {
           "x": 0.05
          },
          "xaxis": {
           "automargin": true,
           "gridcolor": "white",
           "linecolor": "white",
           "ticks": "",
           "title": {
            "standoff": 15
           },
           "zerolinecolor": "white",
           "zerolinewidth": 2
          },
          "yaxis": {
           "automargin": true,
           "gridcolor": "white",
           "linecolor": "white",
           "ticks": "",
           "title": {
            "standoff": 15
           },
           "zerolinecolor": "white",
           "zerolinewidth": 2
          }
         }
        },
        "xaxis": {
         "anchor": "y",
         "domain": [
          0,
          0.45
         ]
        },
        "xaxis2": {
         "anchor": "y2",
         "domain": [
          0.55,
          1
         ]
        },
        "xaxis3": {
         "anchor": "y3",
         "domain": [
          0,
          0.45
         ]
        },
        "xaxis4": {
         "anchor": "y4",
         "domain": [
          0.55,
          1
         ]
        },
        "yaxis": {
         "anchor": "x",
         "domain": [
          0.625,
          1
         ]
        },
        "yaxis2": {
         "anchor": "x2",
         "domain": [
          0.625,
          1
         ]
        },
        "yaxis3": {
         "anchor": "x3",
         "domain": [
          0,
          0.375
         ]
        },
        "yaxis4": {
         "anchor": "x4",
         "domain": [
          0,
          0.375
         ]
        }
       }
      }
     },
     "metadata": {},
     "output_type": "display_data"
    }
   ],
   "source": [
    "from modules.vizualisation import top_artists_decades\n",
    "\n",
    "# get unique decade\n",
    "decades = df.decade.sort_values().unique().tolist()\n",
    "\n",
    "top_artists_decades(df, decades=decades[:4], rows = 2, cols = 2, n_artists = 7)"
   ]
  },
  {
   "cell_type": "code",
   "execution_count": 7,
   "metadata": {},
   "outputs": [
    {
     "data": {
      "application/vnd.plotly.v1+json": {
       "config": {
        "plotlyServerURL": "https://plot.ly"
       },
       "data": [
        {
         "marker": {
          "color": [
           182211,
           60306,
           40775,
           37274,
           27785,
           25438,
           17940,
           14247,
           13045,
           11665,
           10804,
           10738,
           10569,
           9742,
           8908,
           8883,
           8405,
           7874,
           7665,
           7267,
           6876,
           6439,
           6092,
           5568,
           5543,
           5483,
           5419,
           5275,
           5220,
           5153,
           4734,
           3965,
           3776,
           3749,
           3618,
           3207,
           3021,
           2525,
           2486,
           2260,
           2199,
           2166,
           2147,
           2084,
           2077,
           1947,
           1891,
           1795,
           1795,
           1773,
           1683,
           1659,
           1655,
           1649,
           1543,
           1512,
           1425,
           1405,
           1398,
           1342,
           1335,
           1322,
           1243,
           1240,
           1223,
           1219,
           1195,
           1160,
           1145,
           1130,
           1089,
           1082,
           1074,
           1068,
           1040,
           986,
           899,
           894,
           893,
           890,
           878,
           843,
           838,
           809,
           807,
           802,
           791,
           778,
           771,
           770,
           767,
           760,
           751,
           750,
           693,
           689,
           681,
           666,
           645,
           636,
           627,
           625,
           619,
           597,
           596,
           591,
           589,
           586,
           583,
           552,
           550,
           547,
           546,
           544,
           540,
           535,
           528,
           527,
           522,
           519,
           510,
           469,
           454,
           434,
           430,
           409,
           397,
           395,
           394,
           374,
           365,
           361,
           361,
           360,
           358,
           349,
           342,
           340,
           339,
           339,
           338,
           337,
           334,
           333,
           331,
           326,
           318,
           317,
           314,
           313,
           307,
           306,
           296,
           287,
           287,
           286,
           282,
           278,
           269,
           267,
           265,
           265,
           264,
           252,
           246,
           245,
           245,
           238,
           237,
           234,
           233,
           229,
           226,
           222,
           219,
           218,
           216,
           215,
           210,
           208,
           208,
           203,
           202,
           201,
           199,
           197,
           196,
           192,
           190,
           186,
           185,
           183,
           181,
           175,
           174,
           170,
           169,
           168,
           165,
           164,
           164,
           162,
           162,
           161,
           160,
           157,
           156,
           155,
           155,
           154,
           152,
           151,
           150,
           145,
           144,
           144,
           141,
           137,
           136,
           136,
           130,
           130,
           128,
           126,
           125,
           123,
           123,
           122,
           121,
           118,
           114,
           114,
           114,
           111,
           111,
           110,
           109,
           109,
           108,
           108,
           105,
           104,
           103,
           102,
           100,
           98,
           97,
           97,
           94,
           93,
           92,
           90,
           90,
           90,
           89,
           86,
           86,
           86,
           85,
           84,
           82,
           79,
           78,
           77,
           76,
           74,
           73,
           72,
           72,
           71,
           69,
           68,
           68,
           68,
           68,
           67,
           67,
           66,
           66,
           64,
           64,
           63,
           63,
           61,
           61,
           60,
           60,
           60,
           59,
           59,
           59,
           58,
           58,
           58,
           56,
           55,
           55,
           54,
           53,
           52,
           50,
           50,
           50,
           50,
           49,
           49,
           45,
           45,
           43,
           43,
           43,
           43,
           43,
           42,
           42,
           41,
           41,
           40,
           39,
           39,
           39,
           39,
           38,
           38,
           38,
           37,
           37,
           37,
           36,
           36,
           36,
           36,
           35,
           33,
           33,
           32,
           32,
           31,
           31,
           31,
           30,
           30,
           30,
           30,
           30,
           30,
           29,
           29,
           28,
           28,
           27,
           27,
           27,
           27,
           26,
           25,
           22,
           22,
           22,
           21,
           21,
           21,
           21,
           21,
           21,
           21,
           20,
           18,
           18,
           17,
           17,
           17,
           16,
           16,
           16,
           16,
           15,
           15,
           15,
           14,
           14,
           13,
           13,
           12,
           12,
           12,
           12,
           11,
           11,
           11,
           11,
           11,
           10,
           9,
           9,
           8,
           8,
           7,
           7,
           6,
           5,
           5,
           3,
           3,
           3,
           2,
           2,
           2,
           1
          ],
          "colorscale": [
           [
            0,
            "#0d0887"
           ],
           [
            0.1111111111111111,
            "#46039f"
           ],
           [
            0.2222222222222222,
            "#7201a8"
           ],
           [
            0.3333333333333333,
            "#9c179e"
           ],
           [
            0.4444444444444444,
            "#bd3786"
           ],
           [
            0.5555555555555556,
            "#d8576b"
           ],
           [
            0.6666666666666666,
            "#ed7953"
           ],
           [
            0.7777777777777778,
            "#fb9f3a"
           ],
           [
            0.8888888888888888,
            "#fdca26"
           ],
           [
            1,
            "#f0f921"
           ]
          ]
         },
         "name": "2000",
         "orientation": "h",
         "showlegend": false,
         "type": "bar",
         "x": [
          17940,
          25438,
          27785,
          37274,
          40775,
          60306,
          182211
         ],
         "xaxis": "x",
         "y": [
          "Queens of the Stone Age",
          "No Doubt",
          "Eminem",
          "Five for Fighting",
          "The Shins",
          "Arctic Monkeys",
          "Israel & New Breed"
         ],
         "yaxis": "y"
        },
        {
         "marker": {
          "color": [
           370690,
           222435,
           117520,
           103824,
           96033,
           67889,
           65339,
           39292,
           35825,
           25697,
           17332,
           16333,
           14727,
           14043,
           13280,
           11784,
           10737,
           9471,
           7629,
           6889,
           6726,
           5585,
           5460,
           4900,
           4896,
           4734,
           4529,
           4364,
           4298,
           4231,
           4051,
           3968,
           3951,
           3860,
           3601,
           3371,
           3037,
           3022,
           2863,
           2831,
           2825,
           2763,
           2756,
           2648,
           2612,
           2610,
           2594,
           2589,
           2565,
           2539,
           2443,
           2421,
           2389,
           2261,
           2153,
           2132,
           2094,
           2093,
           1951,
           1938,
           1814,
           1801,
           1745,
           1680,
           1624,
           1617,
           1506,
           1436,
           1393,
           1334,
           1333,
           1209,
           1198,
           1140,
           1130,
           1099,
           1050,
           1035,
           1010,
           998,
           998,
           950,
           935,
           925,
           913,
           905,
           893,
           883,
           880,
           871,
           829,
           817,
           791,
           770,
           766,
           759,
           747,
           732,
           717,
           716,
           707,
           674,
           668,
           626,
           590,
           587,
           556,
           537,
           506,
           500,
           495,
           479,
           467,
           448,
           442,
           441,
           438,
           429,
           427,
           424,
           398,
           395,
           359,
           356,
           355,
           353,
           350,
           341,
           329,
           329,
           328,
           328,
           326,
           324,
           319,
           315,
           313,
           309,
           308,
           293,
           289,
           287,
           275,
           274,
           266,
           266,
           265,
           257,
           252,
           246,
           229,
           228,
           227,
           217,
           209,
           208,
           198,
           188,
           188,
           186,
           184,
           182,
           180,
           180,
           174,
           168,
           168,
           166,
           166,
           165,
           165,
           163,
           161,
           158,
           153,
           153,
           152,
           149,
           143,
           142,
           140,
           140,
           137,
           135,
           127,
           117,
           116,
           115,
           110,
           108,
           108,
           107,
           104,
           104,
           101,
           91,
           90,
           89,
           87,
           85,
           84,
           82,
           81,
           80,
           78,
           77,
           77,
           76,
           73,
           70,
           70,
           68,
           68,
           67,
           66,
           65,
           63,
           62,
           62,
           62,
           62,
           61,
           61,
           61,
           59,
           58,
           57,
           57,
           55,
           54,
           53,
           53,
           53,
           52,
           50,
           48,
           48,
           47,
           47,
           44,
           43,
           43,
           42,
           41,
           41,
           40,
           40,
           40,
           39,
           39,
           39,
           38,
           38,
           38,
           37,
           37,
           36,
           35,
           35,
           35,
           35,
           34,
           33,
           33,
           32,
           32,
           32,
           32,
           31,
           31,
           31,
           30,
           30,
           29,
           29,
           29,
           29,
           28,
           28,
           28,
           28,
           27,
           27,
           27,
           26,
           26,
           26,
           25,
           25,
           24,
           23,
           23,
           23,
           21,
           21,
           21,
           21,
           20,
           20,
           20,
           19,
           19,
           19,
           19,
           19,
           19,
           19,
           18,
           18,
           18,
           18,
           17,
           17,
           17,
           17,
           16,
           16,
           16,
           16,
           15,
           15,
           15,
           14,
           14,
           14,
           14,
           14,
           14,
           14,
           13,
           13,
           13,
           13,
           13,
           12,
           12,
           12,
           12,
           12,
           11,
           11,
           11,
           10,
           10,
           10,
           10,
           9,
           9,
           9,
           9,
           9,
           8,
           8,
           8,
           8,
           8,
           7,
           7,
           7,
           7,
           7,
           6,
           6,
           6,
           6,
           5,
           5,
           5,
           5,
           5,
           4,
           4,
           4,
           3,
           3,
           3,
           3,
           3,
           3,
           3,
           2,
           2,
           2,
           1,
           1,
           1,
           0,
           0,
           0
          ],
          "colorscale": [
           [
            0,
            "#0d0887"
           ],
           [
            0.1111111111111111,
            "#46039f"
           ],
           [
            0.2222222222222222,
            "#7201a8"
           ],
           [
            0.3333333333333333,
            "#9c179e"
           ],
           [
            0.4444444444444444,
            "#bd3786"
           ],
           [
            0.5555555555555556,
            "#d8576b"
           ],
           [
            0.6666666666666666,
            "#ed7953"
           ],
           [
            0.7777777777777778,
            "#fb9f3a"
           ],
           [
            0.8888888888888888,
            "#fdca26"
           ],
           [
            1,
            "#f0f921"
           ]
          ]
         },
         "name": "2010",
         "orientation": "h",
         "showlegend": false,
         "type": "bar",
         "x": [
          65339,
          67889,
          96033,
          103824,
          117520,
          222435,
          370690
         ],
         "xaxis": "x2",
         "y": [
          "Roger Waters",
          "Rise Against",
          "Gucci Mane",
          "Ariana Grande",
          "Amin",
          "Jaymes Young",
          "Kygo"
         ],
         "yaxis": "y2"
        },
        {
         "marker": {
          "color": [
           37793,
           27784,
           19897,
           9462,
           8525,
           8142,
           6284,
           6190,
           5832,
           5272,
           4857,
           4766,
           3329,
           3319,
           2562,
           2466,
           2404,
           2395,
           2240,
           2212,
           2137,
           2011,
           1955,
           1949,
           1749,
           1719,
           1709,
           1628,
           1579,
           1516,
           1479,
           1366,
           1363,
           1306,
           1189,
           1148,
           1144,
           1112,
           1092,
           1083,
           1077,
           1058,
           1022,
           1016,
           1007,
           972,
           970,
           956,
           927,
           912,
           872,
           784,
           776,
           774,
           751,
           705,
           669,
           549,
           535,
           491,
           479,
           478,
           460,
           453,
           444,
           422,
           408,
           405,
           367,
           363,
           355,
           345,
           336,
           335,
           326,
           324,
           312,
           296,
           295,
           294,
           286,
           283,
           274,
           274,
           271,
           270,
           268,
           267,
           249,
           243,
           240,
           236,
           223,
           222,
           208,
           192,
           191,
           188,
           183,
           180,
           174,
           172,
           169,
           166,
           164,
           161,
           157,
           156,
           141,
           139,
           136,
           136,
           136,
           130,
           130,
           122,
           120,
           118,
           117,
           117,
           115,
           114,
           114,
           110,
           108,
           97,
           94,
           93,
           92,
           91,
           89,
           87,
           86,
           86,
           79,
           79,
           78,
           77,
           76,
           76,
           75,
           70,
           68,
           67,
           66,
           66,
           61,
           60,
           60,
           59,
           59,
           53,
           52,
           51,
           51,
           51,
           50,
           49,
           47,
           47,
           45,
           45,
           44,
           44,
           43,
           43,
           42,
           41,
           40,
           40,
           40,
           40,
           39,
           39,
           38,
           38,
           38,
           38,
           37,
           37,
           36,
           36,
           36,
           36,
           35,
           35,
           35,
           35,
           34,
           34,
           33,
           33,
           32,
           32,
           32,
           32,
           31,
           31,
           30,
           30,
           30,
           30,
           30,
           30,
           29,
           29,
           28,
           28,
           27,
           26,
           26,
           25,
           25,
           25,
           24,
           24,
           23,
           23,
           23,
           23,
           23,
           23,
           23,
           23,
           23,
           22,
           22,
           22,
           21,
           21,
           20,
           20,
           20,
           20,
           20,
           20,
           19,
           19,
           19,
           19,
           19,
           19,
           19,
           19,
           19,
           19,
           18,
           17,
           16,
           16,
           16,
           16,
           16,
           16,
           16,
           16,
           16,
           16,
           16,
           16,
           16,
           15,
           15,
           15,
           14,
           14,
           14,
           14,
           14,
           14,
           14,
           14,
           14,
           13,
           13,
           13,
           13,
           13,
           13,
           13,
           13,
           13,
           13,
           13,
           12,
           12,
           12,
           12,
           12,
           12,
           11,
           11,
           11,
           11,
           11,
           11,
           11,
           11,
           10,
           10,
           10,
           10,
           10,
           10,
           10,
           10,
           10,
           9,
           9,
           9,
           9,
           9,
           9,
           9,
           9,
           9,
           9,
           9,
           9,
           9,
           9,
           8,
           8,
           8,
           8,
           8,
           8,
           8,
           8,
           8,
           8,
           8,
           8,
           8,
           8,
           8,
           7,
           7,
           7,
           7,
           7,
           7,
           7,
           7,
           7,
           7,
           7,
           7,
           7,
           7,
           7,
           7,
           7,
           6,
           6,
           6,
           6,
           6,
           6,
           6,
           6,
           6,
           6,
           6,
           6,
           6,
           5,
           5,
           5,
           5,
           5,
           5,
           5,
           5,
           5,
           5,
           5,
           5,
           5,
           5,
           4,
           4,
           4,
           4,
           4,
           4,
           4,
           4,
           4,
           4,
           4,
           4,
           4,
           4,
           4,
           4,
           3,
           3,
           3,
           3,
           3,
           3,
           3,
           3,
           3,
           3,
           3,
           3,
           3,
           3,
           3,
           3,
           2,
           2,
           2,
           2,
           2,
           2,
           2,
           2,
           2,
           2,
           2,
           2,
           2,
           2,
           2,
           2,
           2,
           1,
           1,
           1,
           1,
           1,
           1,
           0
          ],
          "colorscale": [
           [
            0,
            "#0d0887"
           ],
           [
            0.1111111111111111,
            "#46039f"
           ],
           [
            0.2222222222222222,
            "#7201a8"
           ],
           [
            0.3333333333333333,
            "#9c179e"
           ],
           [
            0.4444444444444444,
            "#bd3786"
           ],
           [
            0.5555555555555556,
            "#d8576b"
           ],
           [
            0.6666666666666666,
            "#ed7953"
           ],
           [
            0.7777777777777778,
            "#fb9f3a"
           ],
           [
            0.8888888888888888,
            "#fdca26"
           ],
           [
            1,
            "#f0f921"
           ]
          ]
         },
         "name": "2020",
         "orientation": "h",
         "showlegend": false,
         "type": "bar",
         "x": [
          6284,
          8142,
          8525,
          9462,
          19897,
          27784,
          37793
         ],
         "xaxis": "x3",
         "y": [
          "Trey Songz",
          "Quadeca",
          "Moosh & Twist",
          "Protest The Hero",
          "Popcaan",
          "Rico Nasty",
          "Tory Lanez & Lil Tjay"
         ],
         "yaxis": "y3"
        }
       ],
       "layout": {
        "annotations": [
         {
          "font": {
           "size": 16
          },
          "showarrow": false,
          "text": "2000",
          "x": 0.225,
          "xanchor": "center",
          "xref": "paper",
          "y": 1,
          "yanchor": "bottom",
          "yref": "paper"
         },
         {
          "font": {
           "size": 16
          },
          "showarrow": false,
          "text": "2010",
          "x": 0.775,
          "xanchor": "center",
          "xref": "paper",
          "y": 1,
          "yanchor": "bottom",
          "yref": "paper"
         },
         {
          "font": {
           "size": 16
          },
          "showarrow": false,
          "text": "2020",
          "x": 0.225,
          "xanchor": "center",
          "xref": "paper",
          "y": 0.375,
          "yanchor": "bottom",
          "yref": "paper"
         },
         {
          "font": {
           "size": 16
          },
          "showarrow": false,
          "text": "number of occurrences",
          "x": 0.5,
          "xanchor": "center",
          "xref": "paper",
          "y": 0,
          "yanchor": "top",
          "yref": "paper",
          "yshift": -30
         },
         {
          "font": {
           "size": 16
          },
          "showarrow": false,
          "text": "views",
          "textangle": -90,
          "x": 0,
          "xanchor": "right",
          "xref": "paper",
          "xshift": -40,
          "y": 0.5,
          "yanchor": "middle",
          "yref": "paper"
         }
        ],
        "template": {
         "data": {
          "bar": [
           {
            "error_x": {
             "color": "#2a3f5f"
            },
            "error_y": {
             "color": "#2a3f5f"
            },
            "marker": {
             "line": {
              "color": "#E5ECF6",
              "width": 0.5
             },
             "pattern": {
              "fillmode": "overlay",
              "size": 10,
              "solidity": 0.2
             }
            },
            "type": "bar"
           }
          ],
          "barpolar": [
           {
            "marker": {
             "line": {
              "color": "#E5ECF6",
              "width": 0.5
             },
             "pattern": {
              "fillmode": "overlay",
              "size": 10,
              "solidity": 0.2
             }
            },
            "type": "barpolar"
           }
          ],
          "carpet": [
           {
            "aaxis": {
             "endlinecolor": "#2a3f5f",
             "gridcolor": "white",
             "linecolor": "white",
             "minorgridcolor": "white",
             "startlinecolor": "#2a3f5f"
            },
            "baxis": {
             "endlinecolor": "#2a3f5f",
             "gridcolor": "white",
             "linecolor": "white",
             "minorgridcolor": "white",
             "startlinecolor": "#2a3f5f"
            },
            "type": "carpet"
           }
          ],
          "choropleth": [
           {
            "colorbar": {
             "outlinewidth": 0,
             "ticks": ""
            },
            "type": "choropleth"
           }
          ],
          "contour": [
           {
            "colorbar": {
             "outlinewidth": 0,
             "ticks": ""
            },
            "colorscale": [
             [
              0,
              "#0d0887"
             ],
             [
              0.1111111111111111,
              "#46039f"
             ],
             [
              0.2222222222222222,
              "#7201a8"
             ],
             [
              0.3333333333333333,
              "#9c179e"
             ],
             [
              0.4444444444444444,
              "#bd3786"
             ],
             [
              0.5555555555555556,
              "#d8576b"
             ],
             [
              0.6666666666666666,
              "#ed7953"
             ],
             [
              0.7777777777777778,
              "#fb9f3a"
             ],
             [
              0.8888888888888888,
              "#fdca26"
             ],
             [
              1,
              "#f0f921"
             ]
            ],
            "type": "contour"
           }
          ],
          "contourcarpet": [
           {
            "colorbar": {
             "outlinewidth": 0,
             "ticks": ""
            },
            "type": "contourcarpet"
           }
          ],
          "heatmap": [
           {
            "colorbar": {
             "outlinewidth": 0,
             "ticks": ""
            },
            "colorscale": [
             [
              0,
              "#0d0887"
             ],
             [
              0.1111111111111111,
              "#46039f"
             ],
             [
              0.2222222222222222,
              "#7201a8"
             ],
             [
              0.3333333333333333,
              "#9c179e"
             ],
             [
              0.4444444444444444,
              "#bd3786"
             ],
             [
              0.5555555555555556,
              "#d8576b"
             ],
             [
              0.6666666666666666,
              "#ed7953"
             ],
             [
              0.7777777777777778,
              "#fb9f3a"
             ],
             [
              0.8888888888888888,
              "#fdca26"
             ],
             [
              1,
              "#f0f921"
             ]
            ],
            "type": "heatmap"
           }
          ],
          "heatmapgl": [
           {
            "colorbar": {
             "outlinewidth": 0,
             "ticks": ""
            },
            "colorscale": [
             [
              0,
              "#0d0887"
             ],
             [
              0.1111111111111111,
              "#46039f"
             ],
             [
              0.2222222222222222,
              "#7201a8"
             ],
             [
              0.3333333333333333,
              "#9c179e"
             ],
             [
              0.4444444444444444,
              "#bd3786"
             ],
             [
              0.5555555555555556,
              "#d8576b"
             ],
             [
              0.6666666666666666,
              "#ed7953"
             ],
             [
              0.7777777777777778,
              "#fb9f3a"
             ],
             [
              0.8888888888888888,
              "#fdca26"
             ],
             [
              1,
              "#f0f921"
             ]
            ],
            "type": "heatmapgl"
           }
          ],
          "histogram": [
           {
            "marker": {
             "pattern": {
              "fillmode": "overlay",
              "size": 10,
              "solidity": 0.2
             }
            },
            "type": "histogram"
           }
          ],
          "histogram2d": [
           {
            "colorbar": {
             "outlinewidth": 0,
             "ticks": ""
            },
            "colorscale": [
             [
              0,
              "#0d0887"
             ],
             [
              0.1111111111111111,
              "#46039f"
             ],
             [
              0.2222222222222222,
              "#7201a8"
             ],
             [
              0.3333333333333333,
              "#9c179e"
             ],
             [
              0.4444444444444444,
              "#bd3786"
             ],
             [
              0.5555555555555556,
              "#d8576b"
             ],
             [
              0.6666666666666666,
              "#ed7953"
             ],
             [
              0.7777777777777778,
              "#fb9f3a"
             ],
             [
              0.8888888888888888,
              "#fdca26"
             ],
             [
              1,
              "#f0f921"
             ]
            ],
            "type": "histogram2d"
           }
          ],
          "histogram2dcontour": [
           {
            "colorbar": {
             "outlinewidth": 0,
             "ticks": ""
            },
            "colorscale": [
             [
              0,
              "#0d0887"
             ],
             [
              0.1111111111111111,
              "#46039f"
             ],
             [
              0.2222222222222222,
              "#7201a8"
             ],
             [
              0.3333333333333333,
              "#9c179e"
             ],
             [
              0.4444444444444444,
              "#bd3786"
             ],
             [
              0.5555555555555556,
              "#d8576b"
             ],
             [
              0.6666666666666666,
              "#ed7953"
             ],
             [
              0.7777777777777778,
              "#fb9f3a"
             ],
             [
              0.8888888888888888,
              "#fdca26"
             ],
             [
              1,
              "#f0f921"
             ]
            ],
            "type": "histogram2dcontour"
           }
          ],
          "mesh3d": [
           {
            "colorbar": {
             "outlinewidth": 0,
             "ticks": ""
            },
            "type": "mesh3d"
           }
          ],
          "parcoords": [
           {
            "line": {
             "colorbar": {
              "outlinewidth": 0,
              "ticks": ""
             }
            },
            "type": "parcoords"
           }
          ],
          "pie": [
           {
            "automargin": true,
            "type": "pie"
           }
          ],
          "scatter": [
           {
            "fillpattern": {
             "fillmode": "overlay",
             "size": 10,
             "solidity": 0.2
            },
            "type": "scatter"
           }
          ],
          "scatter3d": [
           {
            "line": {
             "colorbar": {
              "outlinewidth": 0,
              "ticks": ""
             }
            },
            "marker": {
             "colorbar": {
              "outlinewidth": 0,
              "ticks": ""
             }
            },
            "type": "scatter3d"
           }
          ],
          "scattercarpet": [
           {
            "marker": {
             "colorbar": {
              "outlinewidth": 0,
              "ticks": ""
             }
            },
            "type": "scattercarpet"
           }
          ],
          "scattergeo": [
           {
            "marker": {
             "colorbar": {
              "outlinewidth": 0,
              "ticks": ""
             }
            },
            "type": "scattergeo"
           }
          ],
          "scattergl": [
           {
            "marker": {
             "colorbar": {
              "outlinewidth": 0,
              "ticks": ""
             }
            },
            "type": "scattergl"
           }
          ],
          "scattermapbox": [
           {
            "marker": {
             "colorbar": {
              "outlinewidth": 0,
              "ticks": ""
             }
            },
            "type": "scattermapbox"
           }
          ],
          "scatterpolar": [
           {
            "marker": {
             "colorbar": {
              "outlinewidth": 0,
              "ticks": ""
             }
            },
            "type": "scatterpolar"
           }
          ],
          "scatterpolargl": [
           {
            "marker": {
             "colorbar": {
              "outlinewidth": 0,
              "ticks": ""
             }
            },
            "type": "scatterpolargl"
           }
          ],
          "scatterternary": [
           {
            "marker": {
             "colorbar": {
              "outlinewidth": 0,
              "ticks": ""
             }
            },
            "type": "scatterternary"
           }
          ],
          "surface": [
           {
            "colorbar": {
             "outlinewidth": 0,
             "ticks": ""
            },
            "colorscale": [
             [
              0,
              "#0d0887"
             ],
             [
              0.1111111111111111,
              "#46039f"
             ],
             [
              0.2222222222222222,
              "#7201a8"
             ],
             [
              0.3333333333333333,
              "#9c179e"
             ],
             [
              0.4444444444444444,
              "#bd3786"
             ],
             [
              0.5555555555555556,
              "#d8576b"
             ],
             [
              0.6666666666666666,
              "#ed7953"
             ],
             [
              0.7777777777777778,
              "#fb9f3a"
             ],
             [
              0.8888888888888888,
              "#fdca26"
             ],
             [
              1,
              "#f0f921"
             ]
            ],
            "type": "surface"
           }
          ],
          "table": [
           {
            "cells": {
             "fill": {
              "color": "#EBF0F8"
             },
             "line": {
              "color": "white"
             }
            },
            "header": {
             "fill": {
              "color": "#C8D4E3"
             },
             "line": {
              "color": "white"
             }
            },
            "type": "table"
           }
          ]
         },
         "layout": {
          "annotationdefaults": {
           "arrowcolor": "#2a3f5f",
           "arrowhead": 0,
           "arrowwidth": 1
          },
          "autotypenumbers": "strict",
          "coloraxis": {
           "colorbar": {
            "outlinewidth": 0,
            "ticks": ""
           }
          },
          "colorscale": {
           "diverging": [
            [
             0,
             "#8e0152"
            ],
            [
             0.1,
             "#c51b7d"
            ],
            [
             0.2,
             "#de77ae"
            ],
            [
             0.3,
             "#f1b6da"
            ],
            [
             0.4,
             "#fde0ef"
            ],
            [
             0.5,
             "#f7f7f7"
            ],
            [
             0.6,
             "#e6f5d0"
            ],
            [
             0.7,
             "#b8e186"
            ],
            [
             0.8,
             "#7fbc41"
            ],
            [
             0.9,
             "#4d9221"
            ],
            [
             1,
             "#276419"
            ]
           ],
           "sequential": [
            [
             0,
             "#0d0887"
            ],
            [
             0.1111111111111111,
             "#46039f"
            ],
            [
             0.2222222222222222,
             "#7201a8"
            ],
            [
             0.3333333333333333,
             "#9c179e"
            ],
            [
             0.4444444444444444,
             "#bd3786"
            ],
            [
             0.5555555555555556,
             "#d8576b"
            ],
            [
             0.6666666666666666,
             "#ed7953"
            ],
            [
             0.7777777777777778,
             "#fb9f3a"
            ],
            [
             0.8888888888888888,
             "#fdca26"
            ],
            [
             1,
             "#f0f921"
            ]
           ],
           "sequentialminus": [
            [
             0,
             "#0d0887"
            ],
            [
             0.1111111111111111,
             "#46039f"
            ],
            [
             0.2222222222222222,
             "#7201a8"
            ],
            [
             0.3333333333333333,
             "#9c179e"
            ],
            [
             0.4444444444444444,
             "#bd3786"
            ],
            [
             0.5555555555555556,
             "#d8576b"
            ],
            [
             0.6666666666666666,
             "#ed7953"
            ],
            [
             0.7777777777777778,
             "#fb9f3a"
            ],
            [
             0.8888888888888888,
             "#fdca26"
            ],
            [
             1,
             "#f0f921"
            ]
           ]
          },
          "colorway": [
           "#636efa",
           "#EF553B",
           "#00cc96",
           "#ab63fa",
           "#FFA15A",
           "#19d3f3",
           "#FF6692",
           "#B6E880",
           "#FF97FF",
           "#FECB52"
          ],
          "font": {
           "color": "#2a3f5f"
          },
          "geo": {
           "bgcolor": "white",
           "lakecolor": "white",
           "landcolor": "#E5ECF6",
           "showlakes": true,
           "showland": true,
           "subunitcolor": "white"
          },
          "hoverlabel": {
           "align": "left"
          },
          "hovermode": "closest",
          "mapbox": {
           "style": "light"
          },
          "paper_bgcolor": "white",
          "plot_bgcolor": "#E5ECF6",
          "polar": {
           "angularaxis": {
            "gridcolor": "white",
            "linecolor": "white",
            "ticks": ""
           },
           "bgcolor": "#E5ECF6",
           "radialaxis": {
            "gridcolor": "white",
            "linecolor": "white",
            "ticks": ""
           }
          },
          "scene": {
           "xaxis": {
            "backgroundcolor": "#E5ECF6",
            "gridcolor": "white",
            "gridwidth": 2,
            "linecolor": "white",
            "showbackground": true,
            "ticks": "",
            "zerolinecolor": "white"
           },
           "yaxis": {
            "backgroundcolor": "#E5ECF6",
            "gridcolor": "white",
            "gridwidth": 2,
            "linecolor": "white",
            "showbackground": true,
            "ticks": "",
            "zerolinecolor": "white"
           },
           "zaxis": {
            "backgroundcolor": "#E5ECF6",
            "gridcolor": "white",
            "gridwidth": 2,
            "linecolor": "white",
            "showbackground": true,
            "ticks": "",
            "zerolinecolor": "white"
           }
          },
          "shapedefaults": {
           "line": {
            "color": "#2a3f5f"
           }
          },
          "ternary": {
           "aaxis": {
            "gridcolor": "white",
            "linecolor": "white",
            "ticks": ""
           },
           "baxis": {
            "gridcolor": "white",
            "linecolor": "white",
            "ticks": ""
           },
           "bgcolor": "#E5ECF6",
           "caxis": {
            "gridcolor": "white",
            "linecolor": "white",
            "ticks": ""
           }
          },
          "title": {
           "x": 0.05
          },
          "xaxis": {
           "automargin": true,
           "gridcolor": "white",
           "linecolor": "white",
           "ticks": "",
           "title": {
            "standoff": 15
           },
           "zerolinecolor": "white",
           "zerolinewidth": 2
          },
          "yaxis": {
           "automargin": true,
           "gridcolor": "white",
           "linecolor": "white",
           "ticks": "",
           "title": {
            "standoff": 15
           },
           "zerolinecolor": "white",
           "zerolinewidth": 2
          }
         }
        },
        "xaxis": {
         "anchor": "y",
         "domain": [
          0,
          0.45
         ]
        },
        "xaxis2": {
         "anchor": "y2",
         "domain": [
          0.55,
          1
         ]
        },
        "xaxis3": {
         "anchor": "y3",
         "domain": [
          0,
          0.45
         ]
        },
        "xaxis4": {
         "anchor": "y4",
         "domain": [
          0.55,
          1
         ]
        },
        "yaxis": {
         "anchor": "x",
         "domain": [
          0.625,
          1
         ]
        },
        "yaxis2": {
         "anchor": "x2",
         "domain": [
          0.625,
          1
         ]
        },
        "yaxis3": {
         "anchor": "x3",
         "domain": [
          0,
          0.375
         ]
        },
        "yaxis4": {
         "anchor": "x4",
         "domain": [
          0,
          0.375
         ]
        }
       }
      }
     },
     "metadata": {},
     "output_type": "display_data"
    }
   ],
   "source": [
    "top_artists_decades(df, decades=decades[4:], rows = 2, cols = 2, n_artists = 7)"
   ]
  },
  {
   "cell_type": "code",
   "execution_count": 8,
   "metadata": {},
   "outputs": [
    {
     "data": {
      "text/html": [
       "<div>\n",
       "<style scoped>\n",
       "    .dataframe tbody tr th:only-of-type {\n",
       "        vertical-align: middle;\n",
       "    }\n",
       "\n",
       "    .dataframe tbody tr th {\n",
       "        vertical-align: top;\n",
       "    }\n",
       "\n",
       "    .dataframe thead th {\n",
       "        text-align: right;\n",
       "    }\n",
       "</style>\n",
       "<table border=\"1\" class=\"dataframe\">\n",
       "  <thead>\n",
       "    <tr style=\"text-align: right;\">\n",
       "      <th></th>\n",
       "      <th>title</th>\n",
       "      <th>tag</th>\n",
       "      <th>artist</th>\n",
       "      <th>year</th>\n",
       "      <th>views</th>\n",
       "      <th>features</th>\n",
       "      <th>lyrics</th>\n",
       "      <th>id</th>\n",
       "      <th>language_cld3</th>\n",
       "      <th>language_ft</th>\n",
       "      <th>language</th>\n",
       "      <th>decade</th>\n",
       "    </tr>\n",
       "  </thead>\n",
       "  <tbody>\n",
       "    <tr>\n",
       "      <th>0</th>\n",
       "      <td>Personal Jesus</td>\n",
       "      <td>pop</td>\n",
       "      <td>Depeche Mode</td>\n",
       "      <td>1990</td>\n",
       "      <td>175279</td>\n",
       "      <td>{}</td>\n",
       "      <td>reach out and touch faith    your own person...</td>\n",
       "      <td>1846</td>\n",
       "      <td>en</td>\n",
       "      <td>en</td>\n",
       "      <td>en</td>\n",
       "      <td>1990</td>\n",
       "    </tr>\n",
       "    <tr>\n",
       "      <th>1</th>\n",
       "      <td>I Believe I Can Fly</td>\n",
       "      <td>rb</td>\n",
       "      <td>R. Kelly</td>\n",
       "      <td>1996</td>\n",
       "      <td>217182</td>\n",
       "      <td>{}</td>\n",
       "      <td>i used to think that i could not go on and l...</td>\n",
       "      <td>5981</td>\n",
       "      <td>en</td>\n",
       "      <td>en</td>\n",
       "      <td>en</td>\n",
       "      <td>1990</td>\n",
       "    </tr>\n",
       "    <tr>\n",
       "      <th>2</th>\n",
       "      <td>Contents Unda Pressure</td>\n",
       "      <td>rap</td>\n",
       "      <td>Tha Alkaholiks</td>\n",
       "      <td>1997</td>\n",
       "      <td>683</td>\n",
       "      <td>{}</td>\n",
       "      <td>i'm the beer rational outta national my cash...</td>\n",
       "      <td>7944</td>\n",
       "      <td>en</td>\n",
       "      <td>en</td>\n",
       "      <td>en</td>\n",
       "      <td>1990</td>\n",
       "    </tr>\n",
       "    <tr>\n",
       "      <th>3</th>\n",
       "      <td>Oh Wretched Man</td>\n",
       "      <td>rap</td>\n",
       "      <td>Ambassador</td>\n",
       "      <td>2005</td>\n",
       "      <td>899</td>\n",
       "      <td>{}</td>\n",
       "      <td>dag i keep messing up / seems like the good ...</td>\n",
       "      <td>8058</td>\n",
       "      <td>en</td>\n",
       "      <td>en</td>\n",
       "      <td>en</td>\n",
       "      <td>2000</td>\n",
       "    </tr>\n",
       "    <tr>\n",
       "      <th>4</th>\n",
       "      <td>Abandon Ship</td>\n",
       "      <td>rap</td>\n",
       "      <td>Busta Rhymes</td>\n",
       "      <td>1996</td>\n",
       "      <td>9576</td>\n",
       "      <td>{Rampage}</td>\n",
       "      <td>uhhhh you don't know what we doin right here...</td>\n",
       "      <td>8971</td>\n",
       "      <td>en</td>\n",
       "      <td>en</td>\n",
       "      <td>en</td>\n",
       "      <td>1990</td>\n",
       "    </tr>\n",
       "  </tbody>\n",
       "</table>\n",
       "</div>"
      ],
      "text/plain": [
       "                    title  tag          artist  year   views   features  \\\n",
       "0          Personal Jesus  pop    Depeche Mode  1990  175279         {}   \n",
       "1     I Believe I Can Fly   rb        R. Kelly  1996  217182         {}   \n",
       "2  Contents Unda Pressure  rap  Tha Alkaholiks  1997     683         {}   \n",
       "3         Oh Wretched Man  rap      Ambassador  2005     899         {}   \n",
       "4            Abandon Ship  rap    Busta Rhymes  1996    9576  {Rampage}   \n",
       "\n",
       "                                              lyrics    id language_cld3  \\\n",
       "0    reach out and touch faith    your own person...  1846            en   \n",
       "1    i used to think that i could not go on and l...  5981            en   \n",
       "2    i'm the beer rational outta national my cash...  7944            en   \n",
       "3    dag i keep messing up / seems like the good ...  8058            en   \n",
       "4    uhhhh you don't know what we doin right here...  8971            en   \n",
       "\n",
       "  language_ft language  decade  \n",
       "0          en       en    1990  \n",
       "1          en       en    1990  \n",
       "2          en       en    1990  \n",
       "3          en       en    2000  \n",
       "4          en       en    1990  "
      ]
     },
     "execution_count": 8,
     "metadata": {},
     "output_type": "execute_result"
    }
   ],
   "source": [
    "from modules.preprocess_text import clean_lyrics\n",
    "\n",
    "df = clean_lyrics(df)\n",
    "df.head()"
   ]
  },
  {
   "cell_type": "code",
   "execution_count": 9,
   "metadata": {},
   "outputs": [],
   "source": [
    "import spacy\n",
    "\n",
    "# small model /!\\ take the bigger one for Kaggle\n",
    "new_nlp = spacy.load('en_core_web_sm')"
   ]
  },
  {
   "attachments": {},
   "cell_type": "markdown",
   "metadata": {},
   "source": [
    "Could take some times ... (depend on the sample data size)"
   ]
  },
  {
   "cell_type": "code",
   "execution_count": 10,
   "metadata": {},
   "outputs": [
    {
     "data": {
      "text/html": [
       "<div>\n",
       "<style scoped>\n",
       "    .dataframe tbody tr th:only-of-type {\n",
       "        vertical-align: middle;\n",
       "    }\n",
       "\n",
       "    .dataframe tbody tr th {\n",
       "        vertical-align: top;\n",
       "    }\n",
       "\n",
       "    .dataframe thead th {\n",
       "        text-align: right;\n",
       "    }\n",
       "</style>\n",
       "<table border=\"1\" class=\"dataframe\">\n",
       "  <thead>\n",
       "    <tr style=\"text-align: right;\">\n",
       "      <th></th>\n",
       "      <th>title</th>\n",
       "      <th>tag</th>\n",
       "      <th>artist</th>\n",
       "      <th>year</th>\n",
       "      <th>views</th>\n",
       "      <th>features</th>\n",
       "      <th>lyrics</th>\n",
       "      <th>id</th>\n",
       "      <th>language_cld3</th>\n",
       "      <th>language_ft</th>\n",
       "      <th>language</th>\n",
       "      <th>decade</th>\n",
       "    </tr>\n",
       "  </thead>\n",
       "  <tbody>\n",
       "  </tbody>\n",
       "</table>\n",
       "</div>"
      ],
      "text/plain": [
       "Empty DataFrame\n",
       "Columns: [title, tag, artist, year, views, features, lyrics, id, language_cld3, language_ft, language, decade]\n",
       "Index: []"
      ]
     },
     "execution_count": 10,
     "metadata": {},
     "output_type": "execute_result"
    }
   ],
   "source": [
    "df[(df['tag'] == 'rap') & (df['decade'] == 1960)]"
   ]
  },
  {
   "cell_type": "code",
   "execution_count": 11,
   "metadata": {},
   "outputs": [],
   "source": [
    "from modules.preprocess_text import naive_preprocess\n",
    "\n",
    "df['tok_lyrics'] = df['lyrics'].apply(lambda text : naive_preprocess(text, new_nlp))"
   ]
  },
  {
   "cell_type": "code",
   "execution_count": 12,
   "metadata": {},
   "outputs": [
    {
     "data": {
      "text/plain": [
       "0       [reach, out, and, touch, faith, your, own, per...\n",
       "1       [i, used, to, think, that, i, could, not, go, ...\n",
       "2       [i, the, beer, rational, outta, national, my, ...\n",
       "3       [dag, i, keep, messing, up, seems, like, the, ...\n",
       "4       [uhhhh, you, do, know, what, we, doin, right, ...\n",
       "                              ...                        \n",
       "2953    [instrumental, all, those, hoes, smokin, buds,...\n",
       "2954    [oh, come, on, fibra, come, on, do, a, couple,...\n",
       "2955    [we, got, bt, in, this, bitch, pipe, it, up, e...\n",
       "2956    [tossing, out, the, pigskin, i, got, kinda, si...\n",
       "2957    [the, boys, all, know, her, she, walks, alone,...\n",
       "Name: tok_lyrics, Length: 2958, dtype: object"
      ]
     },
     "execution_count": 12,
     "metadata": {},
     "output_type": "execute_result"
    }
   ],
   "source": [
    "df['tok_lyrics']"
   ]
  },
  {
   "cell_type": "code",
   "execution_count": 13,
   "metadata": {},
   "outputs": [],
   "source": [
    "df['unique_words'] = df['tok_lyrics'].apply(lambda x: len(set(x)))"
   ]
  },
  {
   "cell_type": "code",
   "execution_count": 14,
   "metadata": {},
   "outputs": [
    {
     "data": {
      "text/plain": [
       "0        48\n",
       "1        76\n",
       "2       361\n",
       "3       258\n",
       "4       385\n",
       "       ... \n",
       "2953     28\n",
       "2954    219\n",
       "2955    125\n",
       "2956    122\n",
       "2957     81\n",
       "Name: unique_words, Length: 2958, dtype: int64"
      ]
     },
     "execution_count": 14,
     "metadata": {},
     "output_type": "execute_result"
    }
   ],
   "source": [
    "df['unique_words']"
   ]
  },
  {
   "cell_type": "code",
   "execution_count": 15,
   "metadata": {},
   "outputs": [
    {
     "data": {
      "text/plain": [
       "['country', 'pop', 'rap', 'rb', 'rock']"
      ]
     },
     "execution_count": 15,
     "metadata": {},
     "output_type": "execute_result"
    }
   ],
   "source": [
    "tags = df['tag'].unique().tolist()\n",
    "tags.sort()\n",
    "tags"
   ]
  },
  {
   "cell_type": "code",
   "execution_count": 16,
   "metadata": {},
   "outputs": [
    {
     "data": {
      "text/plain": [
       "0        48\n",
       "31      135\n",
       "85       74\n",
       "87       84\n",
       "90      122\n",
       "       ... \n",
       "2943     72\n",
       "2944     49\n",
       "2946    127\n",
       "2947     35\n",
       "2953     28\n",
       "Name: unique_words, Length: 1557, dtype: int64"
      ]
     },
     "execution_count": 16,
     "metadata": {},
     "output_type": "execute_result"
    }
   ],
   "source": [
    "df[df['tag'] == 'pop']['unique_words']"
   ]
  },
  {
   "cell_type": "code",
   "execution_count": 17,
   "metadata": {},
   "outputs": [
    {
     "data": {
      "application/vnd.plotly.v1+json": {
       "config": {
        "plotlyServerURL": "https://plot.ly"
       },
       "data": [
        {
         "boxpoints": "all",
         "customdata": [
          [
           "Never Ending",
           "Elvis Presley"
          ],
          [
           "Petunia The Gardeners Daughter",
           "Elvis Presley"
          ],
          [
           "Five Sleepy Heads",
           "Elvis Presley"
          ],
          [
           "Your Time Hasnt Come Yet Baby",
           "Elvis Presley"
          ],
          [
           "Do The Vega",
           "Elvis Presley"
          ],
          [
           "Words",
           "Elvis Presley"
          ],
          [
           "Did I Ever Tell You",
           "George Jones & Margie Singleton"
          ],
          [
           "The Bridge Washed Out",
           "George Jones"
          ],
          [
           "I Always Wind Up A Loser",
           "George Jones"
          ],
          [
           "She Came from the Mountains",
           "Johnny Cash"
          ],
          [
           "Shade Tree Fix-It-Man",
           "Merle Haggard"
          ],
          [
           "Our Mother the Mountain",
           "Townes Van Zandt"
          ],
          [
           "Forget Marie",
           "Lee Hazlewood"
          ],
          [
           "You Win Again",
           "Roy Acuff"
          ],
          [
           "Let’s Wait a Little Longer",
           "Ernest Tubb & Loretta Lynn"
          ],
          [
           "When Your Lover Has Gone",
           "Brenda Lee"
          ],
          [
           "It’s a Lonesome Old Town",
           "Brenda Lee"
          ],
          [
           "Above and Beyond The Call of Love",
           "Wynn Stewart"
          ],
          [
           "Second Fiddle",
           "Buck Owens"
          ],
          [
           "The Tip Of My Fingers",
           "Jan Howard"
          ],
          [
           "Tonight Carmen",
           "Marty Robbins"
          ],
          [
           "Send Me Some Lovin",
           "Dean Martin"
          ],
          [
           "That’s What I Want to Hear",
           "Phil Ochs"
          ],
          [
           "This One Gets My Vote",
           "Stonewall Jackson"
          ],
          [
           "Lonely Street",
           "Roy Drusky"
          ],
          [
           "One Has My Name The Other Has My Heart",
           "Hank Locklin"
          ],
          [
           "Above And Beyond The Call Of Love",
           "Charley Pride"
          ],
          [
           "Billy Venero",
           "Marty Robbins"
          ],
          [
           "Im Gonna Teach My Heart to Bend",
           "Roger Miller"
          ],
          [
           "Lonely Street",
           "Ray Price"
          ],
          [
           "What About Me",
           "Don Gibson"
          ],
          [
           "You Are My Sunshine",
           "George Hamilton IV"
          ],
          [
           "The Wayward Wind",
           "Eddy Arnold"
          ],
          [
           "Candy Coated Kisses",
           "Bobby Bare"
          ],
          [
           "The Waterfront 1966",
           "John Lee Hooker"
          ],
          [
           "Who Says God Is Dead",
           "Loretta Lynn"
          ],
          [
           "Old Toy Trains",
           "Glen Campbell"
          ],
          [
           "Its Such A Pretty World Today",
           "Stonewall Jackson"
          ],
          [
           "To Make Love Sweeter for You",
           "Jerry Lee Lewis"
          ],
          [
           "Private John Q",
           "Roger Miller"
          ],
          [
           "Gigi",
           "Dean Martin"
          ],
          [
           "The Precious Jewel",
           "George Jones"
          ],
          [
           "Dust On Mother’s Bible",
           "Buck Owens"
          ],
          [
           "Gotta Have Tenderness",
           "Glen Campbell"
          ],
          [
           "Leavin Town",
           "Waylon Jennings"
          ],
          [
           "Lonely Weekends",
           "Waylon Jennings"
          ],
          [
           "Rings of Gold",
           "Waylon Jennings"
          ],
          [
           "Neglected",
           "Jeannie C. Riley"
          ],
          [
           "She Still Got A Hold On You",
           "Charley Pride"
          ],
          [
           "Introduction",
           "Bill Anderson"
          ],
          [
           "The Piney Wood Hills",
           "Bobby Bare"
          ],
          [
           "Del Rio",
           "Billy Walker"
          ],
          [
           "Cynthia Gerome",
           "Chrysalis"
          ],
          [
           "Dumb Blonde",
           "Liz Anderson"
          ],
          [
           "I Cried At Your Wedding",
           "Kay Adams"
          ],
          [
           "Devil Got My Woman 1968 Album Version",
           "Skip James"
          ],
          [
           "We Live in Two Different Worlds",
           "Jerry Lee Lewis"
          ],
          [
           "Put Me On The Trail To Carolina",
           "The Louvin Brothers"
          ],
          [
           "Id Climb The Highest Mountain",
           "Slim Whitman"
          ],
          [
           "The Pillow That Whispers",
           "Carl Smith"
          ],
          [
           "Blood Red River",
           "Peg Leg Howell"
          ],
          [
           "The Brooklyn Bridge",
           "Mel Tillis"
          ],
          [
           "It Hurts Me Too",
           "Ry Cooder"
          ],
          [
           "Night Train To Memphis",
           "Webb Pierce"
          ],
          [
           "Something Got A Hold Of Me",
           "Stonewall Jackson"
          ],
          [
           "25 Minutes to Go At Folsom Prison",
           "Johnny Cash"
          ],
          [
           "I Walk the Line At San Quentin",
           "Johnny Cash"
          ]
         ],
         "hovertemplate": "title: %{customdata[0]}<br>artist: %{customdata[1]}<br>log(words): %{y}",
         "name": "country",
         "type": "box",
         "xaxis": "x",
         "y": [
          3.7612001156935624,
          4.454347296253507,
          4.127134385045092,
          4.454347296253507,
          3.9512437185814275,
          4.276666119016055,
          4.219507705176107,
          4.543294782270004,
          4.406719247264253,
          4.867534450455582,
          4.6443908991413725,
          4.859812404361672,
          4.2626798770413155,
          4.290459441148391,
          4.605170185988092,
          3.7376696182833684,
          3.4339872044851463,
          4.07753744390572,
          4.110873864173311,
          4.07753744390572,
          4.770684624465665,
          3.6888794541139363,
          4.990432586778736,
          4.442651256490317,
          3.8918202981106265,
          3.9318256327243257,
          4.0943445622221,
          5.2832037287379885,
          3.9889840465642745,
          3.784189633918261,
          4.0943445622221,
          4.04305126783455,
          4.02535169073515,
          4.2626798770413155,
          4.356708826689592,
          4.219507705176107,
          3.784189633918261,
          3.7612001156935624,
          4.3694478524670215,
          4.663439094112067,
          4.2626798770413155,
          4.30406509320417,
          4.110873864173311,
          4.330733340286331,
          4.060443010546419,
          3.58351893845611,
          4.189654742026425,
          3.8918202981106265,
          4.248495242049359,
          4.3694478524670215,
          4.219507705176107,
          4.553876891600541,
          3.1354942159291497,
          4.30406509320417,
          3.9318256327243257,
          4.430816798843313,
          4.30406509320417,
          4.276666119016055,
          3.8918202981106265,
          4.219507705176107,
          4.465908118654584,
          4.465908118654584,
          3.970291913552122,
          4.143134726391533,
          4.820281565605037,
          4.976733742420574,
          4.8283137373023015
         ],
         "yaxis": "y"
        },
        {
         "boxpoints": "all",
         "customdata": [
          [
           "Bang Bang My Baby Shot Me Down",
           "Nancy Sinatra"
          ],
          [
           "Strangers in the Night",
           "Frank Sinatra"
          ],
          [
           "Ballad Of Ole Betsy",
           "The Beach Boys"
          ],
          [
           "Im Bugged At My Ol Man",
           "The Beach Boys"
          ],
          [
           "Little Diane",
           "Dion"
          ],
          [
           "Take This Hand",
           "Nirvana (UK)"
          ],
          [
           "Claudette",
           "Roy Orbison"
          ],
          [
           "Marrow Bones",
           "Christy Moore"
          ],
          [
           "Can You Tell",
           "Carmen McRae"
          ],
          [
           "What Now My Love?",
           "Al Martino"
          ],
          [
           "Eight Foot Two Solid Blue",
           "Allan Sherman"
          ],
          [
           "Down On Philips Escalator",
           "The Amboy Dukes"
          ],
          [
           "Three Coins In The Fountain",
           "Al Martino"
          ],
          [
           "If Youve Got A Heart",
           "Chad and Jeremy"
          ],
          [
           "Kiss Away",
           "Brenda Lee"
          ],
          [
           "I Left My Heart in San Francisco",
           "Nancy Wilson"
          ],
          [
           "If I Were Free",
           "Peter, Paul and Mary"
          ],
          [
           "Kisses Sweeter Than Wine",
           "Peter, Paul and Mary"
          ],
          [
           "No Longer Umpire",
           "Alice Cooper"
          ],
          [
           "If a Girl Isnt Pretty",
           "The Supremes"
          ],
          [
           "Love Dont Come",
           "Sonny & Cher"
          ],
          [
           "A Hard Road",
           "John Mayall & The Bluesbreakers"
          ],
          [
           "Letter Full Of Tears",
           "Gladys Knight & The Pips"
          ],
          [
           "Everybody Loves Somebody",
           "Andy Williams"
          ],
          [
           "Mornin Blues",
           "The Paul Butterfield Blues Band"
          ],
          [
           "Forget Me Not",
           "Martha Reeves & The Vandellas"
          ],
          [
           "Love Bug Leave My Heart Alone",
           "Martha Reeves & The Vandellas"
          ],
          [
           "Summer Means Fun",
           "Jan & Dean"
          ],
          [
           "A House Is Not a Home",
           "Stevie Wonder"
          ],
          [
           "Valley of Sadness",
           "Aphrodite's Child"
          ],
          [
           "Dont Let The Sun Catch You Crying",
           "Big Maybelle"
          ],
          [
           "There Will Never Be Another You",
           "Andy Williams"
          ],
          [
           "Sleigh Ride",
           "Andy Williams"
          ],
          [
           "You Dont Have To Say You Love Me",
           "Brenda Lee"
          ],
          [
           "Eleanor Rigby",
           "Richie Havens"
          ],
          [
           "When The Music Starts to Play",
           "The Incredible String Band"
          ],
          [
           "Love Scene",
           "Tony Bennett"
          ],
          [
           "Just A Little Bit Of Peace In My Heart",
           "Golden Earring"
          ],
          [
           "Drive Me Away",
           "John Lee Hooker"
          ],
          [
           "Hungry for Love",
           "Johnny Kidd & The Pirates"
          ],
          [
           "You Dont Own Me",
           "Dusty Springfield"
          ],
          [
           "Long Days Flight",
           "The Electric Prunes"
          ],
          [
           "This Wheels on Fire version one",
           "The Byrds"
          ],
          [
           "King Henry",
           "Pete Seeger"
          ],
          [
           "Song Of Winter",
           "Franoise Hardy"
          ],
          [
           "Come Go with Me",
           "Dion"
          ],
          [
           "Youd Better Come Home",
           "Petula Clark"
          ],
          [
           "Deseri",
           "The Mothers of Invention"
          ],
          [
           "Lovely Joan",
           "Martin Carthy"
          ],
          [
           "Don’t Go",
           "The Sweet Inspirations"
          ],
          [
           "Open Your Window",
           "Harry Nilsson"
          ],
          [
           "Mr Booze",
           "Dean Martin, Frank Sinatra & Sammy Davis, Jr."
          ],
          [
           "To You",
           "Glenn Miller and His Orchestra"
          ],
          [
           "When My Dream Boat Comes Home",
           "Cliff Richard & The Shadows"
          ],
          [
           "Night and Day",
           "Lena Horne"
          ],
          [
           "While The Children Play",
           "Petula Clark"
          ],
          [
           "All Of This For Sally",
           "John D. Loudermilk"
          ],
          [
           "The Quiet Joys Of Brotherhood",
           "Mimi & Richard Faria"
          ],
          [
           "The Lady Rachel",
           "Kevin Ayers"
          ],
          [
           "Hes All I Got",
           "The Supremes"
          ],
          [
           "Master Jack",
           "Four Jacks and a Jill"
          ],
          [
           "Rip It Up",
           "Adriano Celentano"
          ],
          [
           "Up in Her Room",
           "The Seeds"
          ],
          [
           "Driftin Way of Life",
           "Jerry Jeff Walker"
          ],
          [
           "Wasnt It You",
           "Petula Clark"
          ],
          [
           "I Lie Awake",
           "New Colony Six"
          ],
          [
           "There Goes My Everything",
           "Connie Smith"
          ],
          [
           "Johnny Darlin",
           "Connie Francis"
          ],
          [
           "The Pirate of Penance",
           "Joni Mitchell"
          ],
          [
           "Little Miss Blue",
           "Dion"
          ],
          [
           "The Pill",
           "Pete Seeger"
          ],
          [
           "Feel It for Me",
           "Ten Years After"
          ],
          [
           "Mad About The Boy",
           "Anita O'Day"
          ],
          [
           "Goodbye to Love",
           "The Marcels"
          ],
          [
           "Five People in My Family",
           "Sesame Street"
          ],
          [
           "Dim Lights Thick Smoke and Loud Music",
           "Porter Wagoner"
          ],
          [
           "Motivatin Man",
           "Red Simpson"
          ],
          [
           "The Minute You’re Gone",
           "Loretta Lynn"
          ],
          [
           "Sweet Leilani",
           "Ray Conniff"
          ],
          [
           "I Cant Go On Without You",
           "Tammi Terrell"
          ],
          [
           "Alvins Orchestra",
           "The Chipmunks"
          ],
          [
           "Crickets Sing for Anamaria",
           "Astrud Gilberto"
          ],
          [
           "Lets Get Together Parent Trap",
           "Hayley Mills"
          ],
          [
           "People Get Ready",
           "Dionne Warwick"
          ],
          [
           "Race With the Devil",
           "Gun (band)"
          ],
          [
           "Hard Lovin Loser",
           "Judy Collins"
          ],
          [
           "The Clarietta Rag",
           "Kevin Ayers"
          ],
          [
           "A Monday Date",
           "Earl Hines"
          ],
          [
           "Candy Kisses",
           "Tony Bennett"
          ],
          [
           "Im Blue",
           "The Ikettes"
          ],
          [
           "Sugarplums",
           "Richie Havens"
          ],
          [
           "Canal Street Blues",
           "John Lee Hooker"
          ],
          [
           "A Travelin Man",
           "The New Christy Minstrels"
          ],
          [
           "Chained to a Memory",
           "Dusty Springfield"
          ],
          [
           "Not the Lovin Kind",
           "Nancy Sinatra"
          ],
          [
           "What’s The Difference Chapter I",
           "Scott McKenzie"
          ],
          [
           "Its Alright",
           "The Zombies"
          ],
          [
           "Gimme Some Lovin",
           "Lulu"
          ],
          [
           "Seasons In The Sun",
           "The Kingston Trio"
          ],
          [
           "Sermonette",
           "Sarah Vaughan"
          ],
          [
           "The Sweetheart Tree",
           "Johnny Mathis"
          ],
          [
           "Dont Throw Our Love Away",
           "Tommy James and the Shondells"
          ],
          [
           "Oh Darling",
           "George Benson"
          ],
          [
           "Tell Me The Truth Baby",
           "Fats Domino"
          ],
          [
           "My Babe",
           "The Everly Brothers"
          ],
          [
           "I Wanna Teach You Everything",
           "John Mayall & The Bluesbreakers"
          ],
          [
           "Little Angel",
           "Eddie Cochran"
          ],
          [
           "Hallo To Me",
           "July"
          ],
          [
           "Last Train to Clarksville",
           "The Four Tops"
          ],
          [
           "Little Grave",
           "John D. Loudermilk"
          ],
          [
           "I Never Knew",
           "Frank Sinatra"
          ],
          [
           "Saints When The Saints Go Marching In",
           "The Beatles"
          ],
          [
           "Easy To Love So Hard To Get",
           "Skeeter Davis"
          ],
          [
           "Singing Jesus",
           "Malvina Reynolds"
          ],
          [
           "Worried Life Blues",
           "The Animals"
          ],
          [
           "A Place in the Sun",
           "Engelbert Humperdinck"
          ],
          [
           "That Lucky Old Sun",
           "Ferlin Husky"
          ],
          [
           "Hold the Line",
           "Pete Seeger"
          ],
          [
           "My Heart Belongs to Daddy",
           "Marilyn Monroe"
          ],
          [
           "Welcome Home Baby",
           "The Shirelles"
          ],
          [
           "Thou Swell",
           "The Supremes"
          ],
          [
           "The Trolley Song",
           "Tony Bennett"
          ],
          [
           "Rough Rider",
           "Prince Buster"
          ],
          [
           "Buonasera Signorina",
           "Adriano Celentano"
          ],
          [
           "Raining in My Heart",
           "Tommy Roe"
          ],
          [
           "Secret Love",
           "Kathy Kirby"
          ],
          [
           "11 Moustachioed Daughters",
           "The Bonzo Dog Doo Dah Band"
          ],
          [
           "Shes Just My Style",
           "Gary Lewis & The Playboys"
          ],
          [
           "In My Life",
           "Astrud Gilberto"
          ],
          [
           "You Cant Judge a Book by the Cover",
           "John Hammond"
          ],
          [
           "Billy Boo The Gunman",
           "Blossom Toes"
          ],
          [
           "You Dont Know What Youre Doing",
           "Barry Ryan"
          ],
          [
           "Swan Song",
           "Bee Gees"
          ],
          [
           "Hey Jude",
           "Dionne Warwick"
          ],
          [
           "You Got What It Takes",
           "Joe Tex"
          ],
          [
           "You Just Wanted To Use Me",
           "T-Bone Walker"
          ],
          [
           "Close Your Eyes",
           "Peaches & Herb"
          ],
          [
           "The Viper",
           "Tiny Tim"
          ],
          [
           "Never On Sunday",
           "Bobby Vinton"
          ],
          [
           "Deadlier Than the Male",
           "The Walker Brothers"
          ],
          [
           "Whats Easy for Two Is So Hard for One",
           "Mary Wells"
          ],
          [
           "Go Where I Send Thee",
           "The Kingston Trio"
          ],
          [
           "Travlin Light",
           "Ella Fitzgerald"
          ],
          [
           "Lay Some Happiness On Me",
           "Nancy Sinatra"
          ],
          [
           "Time Drags By",
           "Cliff Richard & The Shadows"
          ],
          [
           "Picture Of You",
           "Joe Brown"
          ],
          [
           "Surfer Joe",
           "The Surfaris"
          ],
          [
           "Sea of Dreams",
           "The Idle Race"
          ],
          [
           "The Best Way to Travel Additional vocal mix",
           "The Moody Blues"
          ],
          [
           "Ill Go Alone",
           "Humble Pie"
          ],
          [
           "Bottle of Wine",
           "Tom Paxton"
          ],
          [
           "Ticket To Ride",
           "Alma Cogan"
          ],
          [
           "Dear Landlord",
           "Joe Cocker"
          ],
          [
           "Fanny Mae",
           "Steve Miller Band"
          ],
          [
           "A Marshmallow World",
           "Dean Martin"
          ],
          [
           "Night Time Is the Right Time",
           "Lulu"
          ],
          [
           "Daddys Home",
           "Gene Chandler"
          ],
          [
           "Will You Still Be Mine",
           "George Benson"
          ],
          [
           "That Man",
           "Billie Jo Spears"
          ],
          [
           "All Day And All Of The Night",
           "Gary Lewis & The Playboys"
          ],
          [
           "Magic Isles",
           "Fats Domino"
          ],
          [
           "From the Heart",
           "Ray Charles"
          ],
          [
           "The Whiffenpoof Song",
           "Elvis Presley"
          ],
          [
           "Evil Woman",
           "Spooky Tooth"
          ],
          [
           "Santa Claus Is Coming to Town",
           "The Four Seasons"
          ],
          [
           "Mess Around",
           "The Animals"
          ],
          [
           "Little Bird",
           "Nick Garrie"
          ],
          [
           "Firebird",
           "Ohio Express"
          ],
          [
           "Im Giving You Your Freedom",
           "The Supremes"
          ],
          [
           "Gray Sunny Day",
           "The Cowsills"
          ],
          [
           "Five Long Years",
           "Jimmy Reed"
          ],
          [
           "The Most Wonderful Day Of The Year",
           "Rankin/Bass Productions"
          ],
          [
           "Last Train and Ride",
           "Ralph McTell"
          ],
          [
           "Dindi",
           "Frank Sinatra"
          ],
          [
           "Hush",
           "The Love Affair"
          ],
          [
           "Tower of Strength",
           "Frankie Vaughan"
          ],
          [
           "Moanin",
           "Lambert, Hendricks, and Ross"
          ],
          [
           "China Gates",
           "Sun Ra"
          ],
          [
           "The Shadow Of Your Smile",
           "Henry Mancini"
          ],
          [
           "Green Onions",
           "Henry Mancini"
          ],
          [
           "Holiday",
           "The Clique"
          ],
          [
           "It Takes a Worried Man",
           "Tom Jones"
          ],
          [
           "When The Kids Get Married",
           "Harvey Schmidt"
          ],
          [
           "Peg o’ My Heart",
           "Andy Williams"
          ],
          [
           "The Saga of Jenny",
           "Ris Stevens & Lady in the Dark Ensemble (1963)"
          ],
          [
           "This Is It",
           "Jay and the Americans"
          ],
          [
           "Every Night and Every Morn",
           "Benjamin Britten"
          ],
          [
           "Da Da Song",
           "Crow"
          ],
          [
           "Good Guys Only Win in the Movies",
           "Mel & Tim"
          ],
          [
           "Is Anyone Here Goin My Way",
           "Billy Eckstine"
          ],
          [
           "Sit Down Youre Rockin the Boat",
           "Sammy Davis Jr."
          ],
          [
           "Little Girl Go Home",
           "Lesley Gore"
          ],
          [
           "No One Cares",
           "The Four Seasons"
          ],
          [
           "Curl Your Toes",
           "Bridget St John"
          ],
          [
           "Im Going Home",
           "The Burnadettes"
          ],
          [
           "My Lady Bug Stay Away From That Beatle",
           "R. Dean Taylor"
          ],
          [
           "Jimmy Brown The Newsboy",
           "Skeeter Davis"
          ],
          [
           "California Uptight Band",
           "Skeeter Davis"
          ],
          [
           "Tag That Twistin Dolly",
           "Louis Prima"
          ],
          [
           "How Did He Look?",
           "Julie London"
          ],
          [
           "And I Love Him",
           "Julie London"
          ],
          [
           "Watermelon Man",
           "Julie London"
          ],
          [
           "Sea of Heartbreak",
           "Jody Miller"
          ],
          [
           "Mononeucleosis",
           "Allan Sherman"
          ],
          [
           "Hey Little Moonbeam",
           "Joey Welz and the Angels"
          ],
          [
           "What Will Later On Be Like",
           "Jeanne & The Darlings"
          ],
          [
           "Cinderella Baby",
           "Johnny Cymbal"
          ],
          [
           "I Remember",
           "Paul Anka"
          ],
          [
           "Tongue-Tied",
           "Moby Grape"
          ],
          [
           "Jamais",
           "The Peppermint Rainbow"
          ],
          [
           "All the Way",
           "Prince Conley"
          ],
          [
           "Its in Her Kiss",
           "The Searchers"
          ],
          [
           "I to We and Back Again",
           "The Sunshine Company"
          ],
          [
           "Octopuss Garden Take 9",
           "The Beatles"
          ],
          [
           "Ill Turn to Stone",
           "Jackie DeShannon"
          ],
          [
           "I Feel Like Going Out",
           "Peter & Gordon"
          ],
          [
           "A Little Imagination",
           "Cliff Richard"
          ],
          [
           "Always",
           "Cliff Richard"
          ],
          [
           "A Hard Days Night",
           "Keely Smith"
          ],
          [
           "Dindi Jin-jee",
           "Chris Montez"
          ],
          [
           "Mister Right",
           "Dorothy Loudon"
          ],
          [
           "The Devon Maid",
           "Dominick Argento"
          ],
          [
           "Come Down Lord",
           "Medical Mission Sisters"
          ],
          [
           "April In Paris",
           "Julie London"
          ],
          [
           "Bright and Beautiful Things",
           "Ralph McTell"
          ],
          [
           "Who Can I Count On?",
           "Bobby Darin"
          ],
          [
           "On the Street Where You Live",
           "Doris Day"
          ],
          [
           "Make Me Happy",
           "Herman's Hermits & Shelley Fabares"
          ],
          [
           "O Holy Night",
           "Jackie Wilson"
          ],
          [
           "Beyond the Blue Horizon",
           "Johnny Mathis"
          ],
          [
           "Love You So",
           "Peggy Lee"
          ],
          [
           "Remind Me",
           "Peggy Lee"
          ],
          [
           "Im Going Out",
           "Tages"
          ],
          [
           "Headin Down The Wrong Highway",
           "Tab Hunter"
          ],
          [
           "Why Cant They Accept Us",
           "The Will-O-Bees"
          ],
          [
           "The Girl Is Broken",
           "Salt Water Taffy"
          ],
          [
           "Jennys Gone and I Dont Care",
           "The Highwaymen (Folk)"
          ],
          [
           "Day After Day Its Slippin Away",
           "Shango (Rock Group)"
          ],
          [
           "Sunrise Sunset",
           "Matt Monro"
          ],
          [
           "Take These Chains From My Heart",
           "Al Martino"
          ],
          [
           "I Dont Want To See Tomorrow",
           "Al Martino"
          ],
          [
           "Quentins Theme Shadows of the Night",
           "Andy Williams"
          ],
          [
           "When We Get There",
           "Kiki Dee"
          ],
          [
           "Baubles Bangles and Beads",
           "June Christy"
          ],
          [
           "Imagination",
           "Johnny Desmond"
          ],
          [
           "I Got Rhythm",
           "Ann Richards"
          ],
          [
           "Let It Snow Let It Snow Let It Snow",
           "Robert Goulet"
          ],
          [
           "Three Coins In The Fountain",
           "Jerry Vale"
          ],
          [
           "Here",
           "Robert Goulet"
          ],
          [
           "Seattle",
           "Jerry Vale"
          ],
          [
           "Can I Trust You",
           "The Dave Clark Five"
          ],
          [
           "For Heavens Sake",
           "Tony Bennett"
          ],
          [
           "Night City",
           "Don Ellis"
          ],
          [
           "I Can Tell",
           "The Searchers"
          ],
          [
           "Willie the Weeper",
           "Dave Van Ronk"
          ],
          [
           "There Will Never Be Another You",
           "Jack Jones"
          ],
          [
           "Georgie Porgie",
           "Jewel Akens"
          ],
          [
           "If I Were the Man",
           "The Sandpipers"
          ],
          [
           "If I Were the Man",
           "Jimmie F. Rodgers"
          ],
          [
           "Sunny",
           "Jackie Trent"
          ],
          [
           "Blasé",
           "Archie Shepp"
          ],
          [
           "The Boy from Ipanema",
           "Lena Horne"
          ],
          [
           "Walk Like a Man",
           "Jan & Dean"
          ],
          [
           "If You Ever Wonder",
           "Margaret Lewis"
          ]
         ],
         "hovertemplate": "title: %{customdata[0]}<br>artist: %{customdata[1]}<br>log(words): %{y}",
         "name": "pop",
         "type": "box",
         "xaxis": "x",
         "y": [
          4.30406509320417,
          4.30406509320417,
          4.477336814478207,
          4.6443908991413725,
          4.31748811353631,
          3.871201010907891,
          4.51085950651685,
          4.736198448394496,
          4.2626798770413155,
          4.356708826689592,
          4.820281565605037,
          4.499809670330265,
          3.7612001156935624,
          4.060443010546419,
          3.6109179126442243,
          4.276666119016055,
          4.060443010546419,
          4.59511985013459,
          3.7376696182833684,
          4.897839799950911,
          4.6913478822291435,
          4.189654742026425,
          4.465908118654584,
          4.110873864173311,
          4.143134726391533,
          4.727387818712341,
          4.653960350157523,
          4.143134726391533,
          4.30406509320417,
          4.143134726391533,
          4.1588830833596715,
          3.828641396489095,
          4.795790545596741,
          4.127134385045092,
          4.430816798843313,
          4.23410650459726,
          3.58351893845611,
          4.5217885770490405,
          4.219507705176107,
          3.8066624897703196,
          4.007333185232471,
          4.418840607796598,
          4.48863636973214,
          5.017279836814924,
          3.713572066704308,
          3.9512437185814275,
          4.248495242049359,
          4.48863636973214,
          4.812184355372417,
          4.248495242049359,
          3.828641396489095,
          5.342334251964811,
          3.8918202981106265,
          3.4965075614664802,
          4.465908118654584,
          4.553876891600541,
          4.61512051684126,
          4.382026634673881,
          4.356708826689592,
          4.624972813284271,
          4.48863636973214,
          3.8918202981106265,
          5.181783550292085,
          4.8283137373023015,
          4.499809670330265,
          4.31748811353631,
          4.0943445622221,
          4.1588830833596715,
          5.111987788356544,
          4.02535169073515,
          4.919980925828125,
          4.007333185232471,
          4.23410650459726,
          3.912023005428146,
          3.784189633918261,
          3.912023005428146,
          4.584967478670572,
          4.007333185232471,
          3.912023005428146,
          4.5217885770490405,
          4.983606621708336,
          4.584967478670572,
          4.0943445622221,
          4.248495242049359,
          3.8066624897703196,
          5.153291594497779,
          4.48863636973214,
          3.58351893845611,
          4.0943445622221,
          4.2626798770413155,
          4.343805421853684,
          3.8918202981106265,
          4.248495242049359,
          4.23410650459726,
          3.8918202981106265,
          4.23410650459726,
          4.430816798843313,
          4.189654742026425,
          4.762173934797756,
          4.04305126783455,
          3.7612001156935624,
          4.02535169073515,
          3.5263605246161616,
          3.8066624897703196,
          3.295836866004329,
          3.1780538303479458,
          3.912023005428146,
          4.02535169073515,
          4.356708826689592,
          4.430816798843313,
          4.356708826689592,
          3.6635616461296463,
          4.465908118654584,
          4.605170185988092,
          4.248495242049359,
          4.04305126783455,
          4.189654742026425,
          4.948759890378168,
          4.499809670330265,
          4.060443010546419,
          3.912023005428146,
          4.74493212836325,
          3.6888794541139363,
          4.007333185232471,
          3.9318256327243257,
          4.007333185232471,
          4.948759890378168,
          4.248495242049359,
          4.110873864173311,
          4.143134726391533,
          4.51085950651685,
          4.127134385045092,
          3.8066624897703196,
          4.276666119016055,
          3.970291913552122,
          4.127134385045092,
          3.9889840465642745,
          4.6913478822291435,
          4.1588830833596715,
          4.204692619390966,
          4.465908118654584,
          4.02535169073515,
          3.713572066704308,
          4.1588830833596715,
          4.418840607796598,
          4.31748811353631,
          4.356708826689592,
          4.07753744390572,
          3.8066624897703196,
          4.624972813284271,
          4.897839799950911,
          4.02535169073515,
          4.584967478670572,
          3.784189633918261,
          4.31748811353631,
          4.330733340286331,
          4.0943445622221,
          3.4339872044851463,
          4.204692619390966,
          3.6635616461296463,
          3.6375861597263857,
          4.418840607796598,
          2.8903717578961645,
          4.30406509320417,
          3.7376696182833684,
          4.04305126783455,
          4.189654742026425,
          4.23410650459726,
          4.30406509320417,
          4.0943445622221,
          4.07753744390572,
          4.007333185232471,
          4.499809670330265,
          4.343805421853684,
          4.343805421853684,
          3.871201010907891,
          3.8066624897703196,
          3.8066624897703196,
          3.9512437185814275,
          5.111987788356544,
          4.110873864173311,
          3.6635616461296463,
          4.976733742420574,
          3.4339872044851463,
          5.455321115357702,
          4.127134385045092,
          3.8501476017100584,
          4.07753744390572,
          4.499809670330265,
          4.248495242049359,
          4.624972813284271,
          4.543294782270004,
          3.9889840465642745,
          4.143134726391533,
          3.7612001156935624,
          4.543294782270004,
          4.418840607796598,
          4.709530201312334,
          4.430816798843313,
          4.290459441148391,
          3.7612001156935624,
          3.8066624897703196,
          4.110873864173311,
          4.61512051684126,
          3.970291913552122,
          4.624972813284271,
          3.871201010907891,
          4.127134385045092,
          4.2626798770413155,
          4.110873864173311,
          4.330733340286331,
          3.9512437185814275,
          4.276666119016055,
          4.02535169073515,
          4.499809670330265,
          3.871201010907891,
          4.143134726391533,
          3.9512437185814275,
          4.07753744390572,
          4.276666119016055,
          5.220355825078324,
          4.343805421853684,
          4.127134385045092,
          3.8066624897703196,
          4.174387269895637,
          4.02535169073515,
          4.477336814478207,
          3.7612001156935624,
          4.844187086458591,
          3.5263605246161616,
          3.367295829986474,
          4.143134726391533,
          4.174387269895637,
          4.127134385045092,
          4.59511985013459,
          4.248495242049359,
          4.204692619390966,
          4.127134385045092,
          4.04305126783455,
          3.8501476017100584,
          4.248495242049359,
          3.8501476017100584,
          3.7612001156935624,
          3.713572066704308,
          4.060443010546419,
          3.828641396489095,
          4.248495242049359,
          3.7376696182833684,
          3.828641396489095,
          4.430816798843313,
          3.8501476017100584,
          4.143134726391533,
          4.204692619390966,
          3.784189633918261,
          4.990432586778736,
          3.828641396489095,
          4.007333185232471,
          4.219507705176107,
          4.248495242049359,
          4.343805421853684,
          3.9318256327243257,
          4.127134385045092,
          4.394449154672439,
          3.5553480614894135
         ],
         "yaxis": "y"
        },
        {
         "boxpoints": "all",
         "customdata": [
          [
           "Frankie and Johnny",
           "Sam Cooke"
          ],
          [
           "I Got You I Feel Good",
           "James Brown & The Famous Flames"
          ],
          [
           "Ac-Cent-Tchu-Ate The Positive",
           "Aretha Franklin"
          ],
          [
           "My Love Is Your Love Forever",
           "Smokey Robinson & The Miracles"
          ],
          [
           "The End Of Our Road",
           "Gladys Knight & The Pips"
          ],
          [
           "Share What You Got But Keep What You Need",
           "William Bell"
          ],
          [
           "Seems Im Never Tired Lovin You",
           "Nina Simone"
          ],
          [
           "Evil Woman",
           "Canned Heat"
          ],
          [
           "The Twelves The Dirty Dozen",
           "Kokomo Arnold"
          ],
          [
           "Ton of Joy",
           "Otis Redding"
          ],
          [
           "Stay with Me",
           "Lorraine Ellison"
          ],
          [
           "Take My Hand Precious Lord",
           "Nina Simone"
          ],
          [
           "Memories of El Monte",
           "The Penguins"
          ],
          [
           "Never Let You Go Sha Lu Bop",
           "Marvin Gaye"
          ],
          [
           "You’re What’s Happening In the World Today",
           "Marvin Gaye"
          ],
          [
           "Why Am I Lovin You",
           "Debbie Dean"
          ],
          [
           "Good For A Lifetime",
           "Little Anthony & The Imperials"
          ],
          [
           "You Never Miss A Good Thing",
           "Eugene Remus"
          ],
          [
           "I Can Take A Hint",
           "The Miracles"
          ],
          [
           "I Was Born To Love You",
           "Shirley Walton"
          ],
          [
           "My Imaginary Guy",
           "Deanie Parker & The Valadors"
          ],
          [
           "Just Because Your Love Is Gone",
           "Dar'rell Banks"
          ],
          [
           "Destiny",
           "Bob Marley & The Wailers"
          ],
          [
           "Lost In A Mood of Changes",
           "James Brown"
          ],
          [
           "Light My Fire",
           "Jackie Wilson"
          ],
          [
           "Get It Together Part 1 Version 2",
           "James Brown & The Famous Flames"
          ],
          [
           "Watch Your Step",
           "Manfred Mann"
          ],
          [
           "I Believe Ill Go Back Home",
           "John Lee Hooker"
          ],
          [
           "You Live Your Life and I’ll Live Mine",
           "John Lee Hooker"
          ],
          [
           "The Monkey Time",
           "The Miracles"
          ],
          [
           "Do You Love Me",
           "The Miracles"
          ],
          [
           "You Send Me With Your Good Lovin",
           "Smokey Robinson & The Miracles"
          ],
          [
           "Something You Got",
           "Chris Kenner"
          ],
          [
           "Trouble In Mind Original Session Take",
           "Aretha Franklin"
          ],
          [
           "Soul Power Live",
           "James Brown"
          ],
          [
           "All for You",
           "Ray Charles"
          ],
          [
           "Ska-ing West",
           "Sir Lord Comic"
          ],
          [
           "C.C. Rider",
           "Wilbert Harrison"
          ],
          [
           "Why Did You Leave",
           "Wilbert Harrison"
          ],
          [
           "Thats the Price You Have to Pay",
           "Brenda & The Tabulations"
          ]
         ],
         "hovertemplate": "title: %{customdata[0]}<br>artist: %{customdata[1]}<br>log(words): %{y}",
         "name": "rb",
         "type": "box",
         "xaxis": "x",
         "y": [
          4.736198448394496,
          3.5263605246161616,
          4.48863636973214,
          4.564348191467836,
          4.8283137373023015,
          3.9318256327243257,
          4.007333185232471,
          4.477336814478207,
          4.68213122712422,
          4.290459441148391,
          4.127134385045092,
          3.871201010907891,
          4.624972813284271,
          4.007333185232471,
          4.605170185988092,
          4.418840607796598,
          4.23410650459726,
          4.219507705176107,
          4.605170185988092,
          3.6888794541139363,
          4.442651256490317,
          4.61512051684126,
          3.970291913552122,
          2.4849066497880004,
          4.189654742026425,
          4.634728988229636,
          4.143134726391533,
          3.8066624897703196,
          3.6635616461296463,
          4.343805421853684,
          4.060443010546419,
          4.6443908991413725,
          3.367295829986474,
          4.30406509320417,
          4.812184355372417,
          4.248495242049359,
          3.6635616461296463,
          3.871201010907891,
          3.912023005428146,
          4.343805421853684
         ],
         "yaxis": "y"
        },
        {
         "boxpoints": "all",
         "customdata": [
          [
           "Its Alright Ma Im Only Bleeding",
           "Bob Dylan"
          ],
          [
           "The Wind Cries Mary",
           "The Jimi Hendrix Experience"
          ],
          [
           "Matty Groves",
           "Fairport Convention"
          ],
          [
           "With God on Our Side",
           "Bob Dylan"
          ],
          [
           "Phenomenal Cat",
           "The Kinks"
          ],
          [
           "Blue Hawaii",
           "Elvis Presley"
          ],
          [
           "Girl Next Door Went A-Walking",
           "Elvis Presley"
          ],
          [
           "Route 66",
           "The Rolling Stones"
          ],
          [
           "Gotta Get Away",
           "The Rolling Stones"
          ],
          [
           "Do You Think Its Alright?",
           "The Who"
          ],
          [
           "Ive Loved Her So Long",
           "Neil Young"
          ],
          [
           "But On The Other Hand Baby",
           "Ray Charles"
          ],
          [
           "Whats The Matter With You Baby",
           "Marvin Gaye & Mary Wells"
          ],
          [
           "Youre a Wonderful One",
           "Marvin Gaye"
          ],
          [
           "The Love I Lost",
           "Chuck Berry"
          ],
          [
           "You Got To Take Sick And Die Some Of These Days",
           "Muddy Waters"
          ],
          [
           "Summertime",
           "Big Brother and the Holding Company"
          ],
          [
           "The Walking Song",
           "The Turtles"
          ],
          [
           "Chauffeur Blues",
           "Jefferson Airplane"
          ],
          [
           "Journey to the Center of the Mind",
           "The Amboy Dukes"
          ],
          [
           "Drivin Wheel",
           "The Paul Butterfield Blues Band"
          ],
          [
           "Born Under a Bad Sign",
           "The Paul Butterfield Blues Band"
          ],
          [
           "The Hangmans Knee",
           "Jeff Beck Group"
          ],
          [
           "Hes a Keeper of the Fire",
           "Buffy Sainte-Marie"
          ],
          [
           "The Land of Doesnt Have to Be",
           "Donovan"
          ],
          [
           "Honey in Your Hips",
           "The Yardbirds"
          ],
          [
           "Earth",
           "Smile (UK)"
          ],
          [
           "Watch Out",
           "Fleetwood Mac"
          ],
          [
           "No Escape",
           "The Seeds"
          ],
          [
           "Whats In Store For Me",
           "The Kinks"
          ],
          [
           "Baby Blue",
           "Barry McGuire"
          ],
          [
           "Love Story",
           "Jethro Tull"
          ],
          [
           "A Fallen Star",
           "Conway Twitty"
          ],
          [
           "Thats the Way Its Got to Be",
           "The Poets"
          ],
          [
           "Help Me",
           "Charlie Musselwhite"
          ],
          [
           "Need Your Love So Bad",
           "Fleetwood Mac"
          ],
          [
           "If I Had a Woman",
           "Spirit"
          ],
          [
           "I’ll Cry with the Moon",
           "The Poets"
          ],
          [
           "What You Gonna Do",
           "Shocking Blue"
          ],
          [
           "Sleeper",
           "The Trashmen"
          ],
          [
           "A Girl Named Sandoz",
           "The Animals"
          ],
          [
           "Hope for Happiness",
           "Soft Machine"
          ],
          [
           "Juanita",
           "The Flying Burrito Brothers"
          ],
          [
           "It Must Be Love",
           "Iron Butterfly"
          ],
          [
           "Nowhere",
           "High Tide"
          ],
          [
           "Step It Up and Go",
           "The Everly Brothers"
          ],
          [
           "Baby Hold Me Close",
           "Jerry Lee Lewis"
          ],
          [
           "Little Children",
           "Giles, Giles And Fripp"
          ],
          [
           "Im So Happy When Youre Near",
           "The Shaggs"
          ],
          [
           "Dwarfish Trumpet Blues",
           "T. Rex"
          ],
          [
           "Craise Finton Kirk Royal Academy of Arts",
           "Bee Gees"
          ],
          [
           "Appleknockers Flophouse",
           "Cuby + Blizzards"
          ],
          [
           "Diddy Wah Diddy",
           "The Sonics"
          ],
          [
           "Chick Safari",
           "Bill Haley & His Comets"
          ],
          [
           "TV Lives",
           "The GTOs"
          ],
          [
           "You Dont Know",
           "The 13th Floor Elevators"
          ],
          [
           "Just Too Late",
           "Peter Jay (Peter Lynch)"
          ],
          [
           "Women Make You Feel Alright",
           "The Easybeats"
          ],
          [
           "The Old Oak Tree",
           "The Easybeats"
          ],
          [
           "Bring It On Home to Me",
           "The Animals"
          ],
          [
           "Stand in the Shadows",
           "The Frost (band)"
          ],
          [
           "Lawrence of Euphoria",
           "The Ophelias"
          ],
          [
           "Thatll Be the Day",
           "The Crossfires"
          ],
          [
           "How Can We Hang On To A Dream",
           "The Art of Lovin'"
          ],
          [
           "Slippin Around",
           "Joe South"
          ],
          [
           "I Wanna Touch Your Heart",
           "Bohemian Vendetta"
          ],
          [
           "Cant We Go Steady",
           "Conway Twitty"
          ],
          [
           "Hillbilly Fever",
           "Jerry Lee Lewis"
          ],
          [
           "Gower Wassail",
           "Shirley Collins"
          ],
          [
           "Ill Be Back Someday",
           "The Chantays"
          ],
          [
           "Wondering What To Feel",
           "Birmingham Sunday"
          ],
          [
           "Kansas City",
           "Sam Butera"
          ],
          [
           "The Lilac Years De Sålde Sina Hemman",
           "Blond (SWE)"
          ],
          [
           "Hey Baby",
           "Boz Scaggs"
          ],
          [
           "She Thinks Shes a Woman",
           "Brewer & Shipley"
          ]
         ],
         "hovertemplate": "title: %{customdata[0]}<br>artist: %{customdata[1]}<br>log(words): %{y}",
         "name": "rock",
         "type": "box",
         "xaxis": "x",
         "y": [
          5.905361848054571,
          4.3694478524670215,
          5.241747015059643,
          5.147494476813453,
          4.442651256490317,
          3.6109179126442243,
          3.9889840465642745,
          4.1588830833596715,
          4.0943445622221,
          2.995732273553991,
          3.9889840465642745,
          4.430816798843313,
          4.48863636973214,
          4.394449154672439,
          4.48863636973214,
          3.1780538303479458,
          3.9512437185814275,
          5.0106352940962555,
          3.784189633918261,
          4.204692619390966,
          4.382026634673881,
          4.110873864173311,
          4.454347296253507,
          4.31748811353631,
          4.343805421853684,
          4.430816798843313,
          4.430816798843313,
          3.6888794541139363,
          3.912023005428146,
          4.007333185232471,
          4.605170185988092,
          3.9318256327243257,
          4.219507705176107,
          3.9889840465642745,
          3.784189633918261,
          4.3694478524670215,
          2.0794415416798357,
          4.23410650459726,
          3.970291913552122,
          4.718498871295094,
          4.07753744390572,
          4.543294782270004,
          4.290459441148391,
          3.4339872044851463,
          4.700480365792417,
          4.418840607796598,
          4.6443908991413725,
          4.007333185232471,
          4.51085950651685,
          4.143134726391533,
          4.477336814478207,
          4.1588830833596715,
          3.9512437185814275,
          4.406719247264253,
          3.091042453358316,
          4.30406509320417,
          3.6635616461296463,
          3.9512437185814275,
          4.204692619390966,
          3.871201010907891,
          4.290459441148391,
          4.04305126783455,
          4.219507705176107,
          3.6109179126442243,
          3.9889840465642745,
          4.532599493153256,
          4.48863636973214,
          3.8066624897703196,
          4.605170185988092,
          3.58351893845611,
          4.174387269895637,
          3.9318256327243257,
          4.795790545596741,
          3.828641396489095,
          4.477336814478207
         ],
         "yaxis": "y"
        },
        {
         "boxpoints": "all",
         "customdata": [
          [
           "Fires Still Burning",
           "Dolly Parton"
          ],
          [
           "Bubbling Over",
           "Dolly Parton"
          ],
          [
           "Alabama Sundown",
           "Dolly Parton"
          ],
          [
           "Kentucky Straight",
           "Johnny Cash"
          ],
          [
           "Ghost Riders in the Sky",
           "Johnny Cash"
          ],
          [
           "Angel In Your Arms",
           "Reba McEntire"
          ],
          [
           "I’d Have to Be Crazy",
           "Willie Nelson"
          ],
          [
           "It’s Not for Me to Understand",
           "Willie Nelson"
          ],
          [
           "Wichita Jail",
           "Charlie Daniels"
          ],
          [
           "Jitterbug",
           "Charlie Daniels"
          ],
          [
           "Second Handed Flowers",
           "Tom T. Hall"
          ],
          [
           "The Fire That Keeps You Warm",
           "Porter Wagoner & Dolly Parton"
          ],
          [
           "Just to Satisfy The Weakness in a Man",
           "Loretta Lynn"
          ],
          [
           "Where Have All Our Heroes Gone",
           "Bill Anderson"
          ],
          [
           "Carry Me Back",
           "The Statler Brothers"
          ],
          [
           "You Never Gave Up On Me",
           "Charley Pride"
          ],
          [
           "I Dont Wanna Make Love With Anyone Else But You",
           "Eddie Rabbitt"
          ],
          [
           "Linda On My Mind",
           "Cal Smith"
          ],
          [
           "A Little Bitty Tear",
           "Don Gibson"
          ],
          [
           "I Wonder",
           "Asleep at the Wheel"
          ],
          [
           "Ramblin on My Mind",
           "Lucinda Williams"
          ],
          [
           "To Be So Bad Shes Still Lookin Good",
           "Johnny Paycheck"
          ],
          [
           "Get Together",
           "Anne Murray"
          ],
          [
           "You Are So Beautiful",
           "Tanya Tucker"
          ],
          [
           "Livin In A House Full Of Love",
           "Johnny Paycheck"
          ],
          [
           "About the Ocean",
           "Glen Campbell"
          ],
          [
           "Countin The Cows Evry Day",
           "Jimmy Buffett"
          ],
          [
           "Up Against The Wall Redneck Mother",
           "Bobby Bare"
          ],
          [
           "Readjustment Blues",
           "John Denver"
          ],
          [
           "I’ve Got To Have You",
           "Kris Kristofferson & Rita Coolidge"
          ],
          [
           "Bridge Over Troubled Water",
           "Glen Campbell"
          ],
          [
           "My Sweet Lady",
           "John Denver"
          ],
          [
           "Rosalies Good Eats Cafe",
           "Bobby Bare"
          ],
          [
           "But You Know I Love You",
           "Kenny Rogers"
          ],
          [
           "I Believe In Music",
           "The Statler Brothers"
          ],
          [
           "Ride Me Down Easy",
           "Waylon Jennings"
          ],
          [
           "Song of Ireland",
           "Eddie Rabbitt"
          ],
          [
           "I Just Got to Have You",
           "Eddie Rabbitt"
          ],
          [
           "Suspicions",
           "Eddie Rabbitt"
          ],
          [
           "Deportees Plane Wreck at Los Gatos",
           "Barbara Dane"
          ],
          [
           "Heres A Song For The Man",
           "The Oak Ridge Boys"
          ],
          [
           "Backstreet Lovin",
           "Anne Murray"
          ],
          [
           "Put A Little Rainbow In Your Pocket",
           "Marty Robbins"
          ],
          [
           "Lonely Rain",
           "Wynn Stewart"
          ],
          [
           "Lonesome Train",
           "Shakin' Stevens"
          ],
          [
           "Rendezvous",
           "Charlie Rich"
          ],
          [
           "Peace On You",
           "Charlie Rich"
          ],
          [
           "Seeds and Stems Live",
           "Commander Cody and His Lost Planet Airmen"
          ],
          [
           "Puppy Song",
           "David Cassidy"
          ],
          [
           "Some Old Day",
           "J.D. Crowe & The New South"
          ],
          [
           "Wish I Was a Single Girl Again",
           "Tia Blake"
          ]
         ],
         "hovertemplate": "title: %{customdata[0]}<br>artist: %{customdata[1]}<br>log(words): %{y}",
         "name": "country",
         "type": "box",
         "xaxis": "x2",
         "y": [
          4.204692619390966,
          3.9889840465642745,
          4.6443908991413725,
          4.543294782270004,
          4.795790545596741,
          4.564348191467836,
          4.7535901911063645,
          4.382026634673881,
          4.736198448394496,
          4.406719247264253,
          4.762173934797756,
          3.7376696182833684,
          4.406719247264253,
          5.594711379601839,
          4.5217885770490405,
          4.189654742026425,
          4.04305126783455,
          4.343805421853684,
          4.276666119016055,
          4.174387269895637,
          4.007333185232471,
          4.174387269895637,
          4.3694478524670215,
          2.772588722239781,
          4.68213122712422,
          4.624972813284271,
          4.343805421853684,
          4.564348191467836,
          5.093750200806762,
          4.48863636973214,
          4.07753744390572,
          4.2626798770413155,
          5.4680601411351315,
          4.736198448394496,
          4.204692619390966,
          4.454347296253507,
          4.477336814478207,
          4.382026634673881,
          4.430816798843313,
          4.897839799950911,
          4.0943445622221,
          4.31748811353631,
          3.871201010907891,
          4.290459441148391,
          3.8066624897703196,
          4.59511985013459,
          3.871201010907891,
          4.804021044733257,
          4.382026634673881,
          3.8918202981106265,
          3.9512437185814275
         ],
         "yaxis": "y2"
        },
        {
         "boxpoints": "all",
         "customdata": [
          [
           "Uncle Albert / Admiral Halsey",
           "Paul McCartney"
          ],
          [
           "Mandy",
           "Barry Manilow"
          ],
          [
           "I Never Had It So Good",
           "Barbra Streisand"
          ],
          [
           "Land of a 1000 Dances",
           "Roy Orbison"
          ],
          [
           "Hey Good Lookin",
           "Roy Orbison"
          ],
          [
           "Portrait",
           "Roberto Cacciapaglia"
          ],
          [
           "Shooting Star",
           "The Mamas & The Papas"
          ],
          [
           "See the Changes",
           "Crosby, Stills & Nash"
          ],
          [
           "Just Aint Easy",
           "The Allman Brothers Band"
          ],
          [
           "Comics",
           "Amanda Lear"
          ],
          [
           "One Morning",
           "America"
          ],
          [
           "Let Love Use Me",
           "Ashford & Simpson"
          ],
          [
           "Red Long Ago",
           "Seals and Crofts"
          ],
          [
           "Empty Pages",
           "Blood, Sweat & Tears"
          ],
          [
           "Clues",
           "Godley & Creme"
          ],
          [
           "Everybodys Gotta Live",
           "Arthur Lee"
          ],
          [
           "Love Song to a Stranger",
           "Joan Baez"
          ],
          [
           "Natural Man",
           "Bobby Womack"
          ],
          [
           "An Old Fashioned Love Song",
           "Andy Williams"
          ],
          [
           "If You Need Oil",
           "Randy Newman"
          ],
          [
           "Where Did My Legs Go",
           "John Mayall"
          ],
          [
           "All Of Your Stories",
           "Jesse Winchester"
          ],
          [
           "You Dont Have to Tell Me",
           "Gilbert O'Sullivan"
          ],
          [
           "Door Peep Shall Not Enter",
           "Burning Spear"
          ],
          [
           "In for a Penny",
           "Slade"
          ],
          [
           "Duty",
           "Nils Lofgren"
          ],
          [
           "Lifes A Long Way To Run",
           "Maureen McGovern"
          ],
          [
           "Tired of Waiting",
           "Suzi Quatro"
          ],
          [
           "Im Leaving Outro",
           "Gilbert O'Sullivan"
          ],
          [
           "My Girl",
           "Eric Carmen"
          ],
          [
           "Hard Hearted Woman",
           "Barclay James Harvest"
          ],
          [
           "Up From The Deep",
           "The Tubes"
          ],
          [
           "Sons Of Criminals",
           "Aswad"
          ],
          [
           "Saint Valentines Angel",
           "Donovan"
          ],
          [
           "Yellow Man",
           "Randy Newman"
          ],
          [
           "Theres Gotta Be A Change",
           "Albert Collins"
          ],
          [
           "Cold Wind",
           "Dando Shaft"
          ],
          [
           "Scales and Arpeggios",
           "Robie Lester"
          ],
          [
           "If You Wanna Do A Dance All Night",
           "The Spinners"
          ],
          [
           "Minstrel From Gaul",
           "Richie Havens"
          ],
          [
           "Im Not Ashamed",
           "Culture"
          ],
          [
           "Peacepollutionrevolution",
           "Larry Norman"
          ],
          [
           "Give Me Something to Remember You By",
           "Gary Brooker"
          ],
          [
           "Joes Blues",
           "Country Joe McDonald"
          ],
          [
           "Money Making Machine",
           "The Rattles"
          ],
          [
           "Secret Side",
           "Nico"
          ],
          [
           "Wonderful One",
           "Lene Lovich"
          ],
          [
           "Miss Silver Dime",
           "Ian Hunter"
          ],
          [
           "Saturday Night",
           "Skyhooks"
          ],
          [
           "Lay Down Your Burden",
           "Jesse Winchester"
          ],
          [
           "Time Will Cure Me",
           "Planxty"
          ],
          [
           "Straight Jacket",
           "The Angels (AUS)"
          ],
          [
           "I Woke Up",
           "Tim Buckley"
          ],
          [
           "Down in Hollywood",
           "Ry Cooder"
          ],
          [
           "Teatime",
           "Stackridge"
          ],
          [
           "Your Love Has Lifted Me Higher And Higher",
           "Rita Coolidge"
          ],
          [
           "Maria Bethania",
           "Scott Walker"
          ],
          [
           "Precious Little Things",
           "The Supremes"
          ],
          [
           "The Hanging Tree",
           "Uriah Heep"
          ],
          [
           "Plastic Saddle",
           "Jerry Reed"
          ],
          [
           "God Knows",
           "Debby Boone"
          ],
          [
           "Lend Your Love to Me Tonight",
           "Greg Lake"
          ],
          [
           "Shes the Kind of Girl",
           "Gene Clark"
          ],
          [
           "Hear the Wind",
           "Gene Clark"
          ],
          [
           "The World Is Yours",
           "Caravan"
          ],
          [
           "Don’t Turn the Light Out",
           "Cliff Richard"
          ],
          [
           "I Wonder",
           "John Entwistle"
          ],
          [
           "Hurry on Down",
           "Bette Midler"
          ],
          [
           "Then Ill Be Home",
           "Paul Williams"
          ],
          [
           "Magdalena",
           "Leo Sayer"
          ],
          [
           "Daemon Lover",
           "Shocking Blue"
          ],
          [
           "What A Night",
           "City Boy"
          ],
          [
           "Take Yo Praise",
           "Camille Yarbrough"
          ],
          [
           "One Way Glass",
           "Manfred Mann's Earth Band"
          ],
          [
           "The Mystery of Life",
           "The Cowsills"
          ],
          [
           "Lost in Love",
           "Robin Trower"
          ],
          [
           "Needles and Pins",
           "Smokie"
          ],
          [
           "Together",
           "Roger McGuinn"
          ],
          [
           "When the Music Stops",
           "Roger Daltrey"
          ],
          [
           "Billericay Dickie",
           "Ian Dury"
          ],
          [
           "Jangalene",
           "Golden Earring"
          ],
          [
           "Yesterday Princess",
           "Stanley Clarke"
          ],
          [
           "Winter Melody",
           "Donna Summer"
          ],
          [
           "Waitin for the Night",
           "The Runaways"
          ],
          [
           "Where Will I Be?",
           "Crosby & Nash"
          ],
          [
           "Golden Girl",
           "Dick Curless"
          ],
          [
           "This Town is a Sealed Tuna Sandwich Prologue",
           "Frank Zappa"
          ],
          [
           "Night Flyer",
           "Emmylou Harris"
          ],
          [
           "Then I Must Go",
           "The Battered Ornaments"
          ],
          [
           "Welcome To My Morning",
           "John Denver"
          ],
          [
           "Easy Evil",
           "Dusty Springfield"
          ],
          [
           "Featheredge",
           "Phantasia"
          ],
          [
           "Everything Money Can Buy",
           "Lisa Dalbello"
          ],
          [
           "Ridin in the Sky",
           "Michael Johnson"
          ],
          [
           "Fixing a Hole",
           "George Burns"
          ],
          [
           "Boy I Really Tied One On",
           "Janis Ian"
          ],
          [
           "Blackwater Side",
           "Anne Briggs"
          ],
          [
           "Mr. Blue The Song of Communications",
           "Laura Nyro"
          ],
          [
           "Things I Will Do",
           "Phil Keaggy"
          ],
          [
           "The Train",
           "The Roches"
          ],
          [
           "The Big Farewell",
           "Wigwam (FIN)"
          ],
          [
           "Atlanta",
           "The Pretty Things"
          ],
          [
           "Nellie Takes Her Bow",
           "Electric Light Orchestra"
          ],
          [
           "Butterfly",
           "Bee Gees"
          ],
          [
           "Jean",
           "Dan Hill"
          ],
          [
           "Get Along Little Doggies",
           "Woody Guthrie"
          ],
          [
           "Shy As A Violet",
           "Carole Bayer Sager"
          ],
          [
           "Red Gold  Green",
           "Burning Spear"
          ],
          [
           "I Must Go",
           "Squeeze"
          ],
          [
           "Who Do You Think You Are?",
           "Jigsaw"
          ],
          [
           "Killer",
           "Mythra"
          ],
          [
           "Prince Of Peace",
           "Larry Norman"
          ],
          [
           "Autumn Song",
           "Van Morrison"
          ],
          [
           "Lets Ride",
           "Status Quo"
          ],
          [
           "Roll Down the River",
           "Harry Chapin"
          ],
          [
           "Creep You Can’t Fool Me",
           "The Damned"
          ],
          [
           "Without You",
           "Freddie Hart"
          ],
          [
           "Look Into Jesus",
           "Larry Norman"
          ],
          [
           "Morning Story",
           "Jack Bruce"
          ],
          [
           "I’m Sitting on Top of the World",
           "Dean Martin"
          ],
          [
           "The Loneliest Of Creatures",
           "Klaatu"
          ],
          [
           "For Debbie and Her Friends",
           "Clifford T. Ward"
          ],
          [
           "Take Me To Tahiti",
           "Kevin Ayers"
          ],
          [
           "Lucifers Friend",
           "Lucifer's Friend"
          ],
          [
           "I Am Your Child",
           "Barry Manilow"
          ],
          [
           "Northern Lights",
           "Bruce Cockburn"
          ],
          [
           "The Photograph",
           "Rick Springfield"
          ],
          [
           "Turn the Beat Around",
           "Vicki Sue Robinson"
          ],
          [
           "To The Fire Wind",
           "Starcastle"
          ],
          [
           "New York City",
           "Christie"
          ],
          [
           "Because I Love You",
           "The Masters Apprentices"
          ],
          [
           "U.O. Me",
           "Luv'"
          ],
          [
           "Rider in the Rain",
           "Randy Newman"
          ],
          [
           "Wang Dang Sweet Poontang",
           "Ted Nugent"
          ],
          [
           "Raise A Little Hell",
           "Trooper (CAN)"
          ],
          [
           "Lovely",
           "Ronnie Lane"
          ],
          [
           "Having a Party",
           "The Pointer Sisters"
          ],
          [
           "How Much Fun",
           "Robert Palmer"
          ],
          [
           "Purely By Coincidence",
           "Sweet Sensation"
          ],
          [
           "Night Out",
           "Ellen Foley"
          ],
          [
           "Spanish Stroll",
           "Mink DeVille"
          ],
          [
           "I Aint Never",
           "Shocking Blue"
          ],
          [
           "Highwire",
           "Argent"
          ],
          [
           "All Around Cowboy",
           "Chris LeDoux"
          ],
          [
           "Best of Both Worlds",
           "Robert Palmer"
          ],
          [
           "Why?",
           "Rick Springfield"
          ],
          [
           "Bei Mir Bist Du Schöen",
           "Jimmy Rushing"
          ],
          [
           "Let This Be a Lesson to You",
           "Cher"
          ],
          [
           "Oh Well Oh Well",
           "Smokie"
          ],
          [
           "Somebody That You Used To Love",
           "Murray McLauchlan"
          ],
          [
           "The Devil Is Dope",
           "The Dramatics"
          ],
          [
           "Wine Dark Sea",
           "Jon English"
          ],
          [
           "Youre My World",
           "Helen Reddy"
          ],
          [
           "Body And Soul",
           "Ruth Etting"
          ],
          [
           "Hero with a Wing",
           "Robert Calvert"
          ],
          [
           "Better Do It Well",
           "April Wine"
          ],
          [
           "You Are Always On My Mind",
           "The Partridge Family"
          ],
          [
           "Nothing But The Truth",
           "Procol Harum"
          ],
          [
           "Think About Your Children",
           "Mary Hopkin"
          ],
          [
           "Ready for Camarillo",
           "Ambrosia"
          ],
          [
           "Walking in the Light",
           "Amy Grant"
          ],
          [
           "Another Runway",
           "Little River Band"
          ],
          [
           "Good Time Charlie",
           "Gasolin'"
          ],
          [
           "I Could Have Been Your Best Old Friend",
           "Bonnie Raitt"
          ],
          [
           "Spanish Moss",
           "Gordon Lightfoot"
          ],
          [
           "Hard Headed Woman Live",
           "Cat Stevens"
          ],
          [
           "Smile Jamaica - Single Version",
           "Bob Marley & The Wailers"
          ],
          [
           "Jump in My Car",
           "Chris Spedding"
          ],
          [
           "Loving You Was Like A Party",
           "Marlena Shaw"
          ],
          [
           "With a Song in my Heart",
           "Chet Baker"
          ],
          [
           "Simple Joys",
           "Stephen Schwartz"
          ],
          [
           "Run to Me/World",
           "Bee Gees"
          ],
          [
           "White Christmas",
           "Jos Feliciano"
          ],
          [
           "Youre My Magic",
           "Jigsaw"
          ],
          [
           "Ill Take a Tango",
           "Harry Nilsson"
          ],
          [
           "Stillness",
           "Srgio Mendes & Brasil '66"
          ],
          [
           "Nega",
           "Gilberto Gil & Jorge Ben"
          ],
          [
           "Soulful Brother On The Run",
           "Johnny Pate"
          ],
          [
           "Old Lace To John",
           "Emily Bindiger"
          ],
          [
           "Woodstock",
           "John Martyn"
          ],
          [
           "Astronaut Food",
           "The Sopwith Camel"
          ],
          [
           "Summernights",
           "Silver Convention"
          ],
          [
           "Paradise",
           "Jackie DeShannon"
          ],
          [
           "Bump and Dilly Down",
           "Hot Chocolate"
          ],
          [
           "This Is My Love",
           "Jay and the Americans"
          ],
          [
           "Sleep Talk",
           "Ohio Players"
          ],
          [
           "Paint Your Picture",
           "Showaddywaddy"
          ],
          [
           "Miracle Device",
           "Vyto B"
          ],
          [
           "Jesus Is My Love Song to You",
           "Sandi Patty"
          ],
          [
           "Twenty Four Hours a Day",
           "Barbara Pennington"
          ],
          [
           "Til Love Touches Your Life",
           "Shirley Bassey"
          ],
          [
           "Dunsinane Blues After Macbeth",
           "Cleo Laine"
          ],
          [
           "Stones Dig a Little Deeper",
           "Dave Loggins"
          ],
          [
           "Chicken Man",
           "Arelean Brown"
          ],
          [
           "I La La Love You",
           "The Teens"
          ],
          [
           "Dance to the Radio",
           "Jimmy Webb"
          ],
          [
           "Rocky Mountain Way",
           "Michael Bolton"
          ],
          [
           "120 Before Zero",
           "Renaldo & The Loaf"
          ],
          [
           "Your Sweet Lies Turned Down My Sheets Again",
           "Tammy Wynette"
          ],
          [
           "Feel So Good",
           "Ricky Nelson"
          ],
          [
           "Ill Be There",
           "Andy Williams"
          ],
          [
           "The Other Side of Me",
           "Jackie DeShannon"
          ],
          [
           "The Pursuit of Farmer Michael Hayes",
           "Planxty"
          ],
          [
           "Im so Lonesome I Could Cry",
           "George Adams"
          ],
          [
           "Hold On Im Coming",
           "Precious Wilson"
          ],
          [
           "I see you",
           "Thirsty Moon"
          ],
          [
           "You Aint Goin Nowhere",
           "Larry Groce"
          ],
          [
           "Oh She Is A Big Girl Now",
           "Judge Dread"
          ],
          [
           "All I Need",
           "Montrose"
          ],
          [
           "Maybe Its Lost",
           "Lesley Duncan"
          ],
          [
           "A Baby Just Like You",
           "John Denver"
          ],
          [
           "Go Your Way",
           "Anne Briggs"
          ],
          [
           "I Shall Be Released - Live At The Troubadour 1969",
           "Ricky Nelson"
          ],
          [
           "In the Rest of My Life",
           "The Osmonds"
          ],
          [
           "Fallen",
           "Nicolette Larson"
          ],
          [
           "Lovelight",
           "Garland Jeffreys"
          ],
          [
           "One More Time Around",
           "Matthew Moore"
          ]
         ],
         "hovertemplate": "title: %{customdata[0]}<br>artist: %{customdata[1]}<br>log(words): %{y}",
         "name": "pop",
         "type": "box",
         "xaxis": "x2",
         "y": [
          4.430816798843313,
          4.418840607796598,
          3.9318256327243257,
          3.6375861597263857,
          4.394449154672439,
          4.574710978503383,
          3.4965075614664802,
          4.276666119016055,
          4.394449154672439,
          4.61512051684126,
          4.584967478670572,
          4.605170185988092,
          4.406719247264253,
          4.110873864173311,
          4.356708826689592,
          4.61512051684126,
          5.0106352940962555,
          4.3694478524670215,
          4.290459441148391,
          4.394449154672439,
          4.174387269895637,
          4.060443010546419,
          4.127134385045092,
          3.8501476017100584,
          4.276666119016055,
          4.110873864173311,
          4.356708826689592,
          3.4339872044851463,
          4.663439094112067,
          4.454347296253507,
          3.6888794541139363,
          3.8066624897703196,
          4.605170185988092,
          4.110873864173311,
          3.970291913552122,
          4.0943445622221,
          4.23410650459726,
          4.07753744390572,
          5.272999558563747,
          4.3694478524670215,
          4.174387269895637,
          4.48863636973214,
          4.762173934797756,
          4.174387269895637,
          4.189654742026425,
          3.6888794541139363,
          4.672828834461906,
          4.343805421853684,
          4.356708826689592,
          4.007333185232471,
          4.804021044733257,
          4.1588830833596715,
          4.330733340286331,
          5.337538079701318,
          3.8918202981106265,
          4.110873864173311,
          4.382026634673881,
          4.48863636973214,
          4.454347296253507,
          4.418840607796598,
          4.430816798843313,
          4.90527477843843,
          4.406719247264253,
          4.31748811353631,
          4.584967478670572,
          4.605170185988092,
          4.553876891600541,
          4.499809670330265,
          4.330733340286331,
          4.727387818712341,
          3.9512437185814275,
          4.219507705176107,
          4.574710978503383,
          3.713572066704308,
          4.290459441148391,
          3.9318256327243257,
          4.406719247264253,
          4.736198448394496,
          4.174387269895637,
          5.099866427824199,
          3.9512437185814275,
          2.9444389791664403,
          4.3694478524670215,
          3.784189633918261,
          3.044522437723423,
          4.709530201312334,
          3.1354942159291497,
          4.564348191467836,
          4.127134385045092,
          4.382026634673881,
          3.9318256327243257,
          3.912023005428146,
          4.499809670330265,
          4.499809670330265,
          4.330733340286331,
          4.59511985013459,
          4.543294782270004,
          4.718498871295094,
          4.564348191467836,
          4.77912349311153,
          4.941642422609304,
          4.3694478524670215,
          4.61512051684126,
          3.9512437185814275,
          5.093750200806762,
          4.23410650459726,
          4.624972813284271,
          3.6635616461296463,
          4.189654742026425,
          4.290459441148391,
          4.418840607796598,
          4.68213122712422,
          4.77912349311153,
          4.51085950651685,
          4.736198448394496,
          4.0943445622221,
          4.04305126783455,
          4.61512051684126,
          4.795790545596741,
          3.4339872044851463,
          4.07753744390572,
          4.330733340286331,
          4.189654742026425,
          4.060443010546419,
          3.332204510175204,
          4.30406509320417,
          4.48863636973214,
          4.454347296253507,
          3.9889840465642745,
          4.406719247264253,
          3.912023005428146,
          4.110873864173311,
          4.174387269895637,
          4.204692619390966,
          4.110873864173311,
          4.248495242049359,
          4.110873864173311,
          4.532599493153256,
          4.499809670330265,
          4.897839799950911,
          4.762173934797756,
          4.1588830833596715,
          4.394449154672439,
          4.543294782270004,
          4.442651256490317,
          4.174387269895637,
          4.477336814478207,
          4.672828834461906,
          4.2626798770413155,
          4.672828834461906,
          4.564348191467836,
          4.941642422609304,
          4.02535169073515,
          4.499809670330265,
          4.663439094112067,
          4.564348191467836,
          4.553876891600541,
          4.532599493153256,
          4.48863636973214,
          4.31748811353631,
          4.23410650459726,
          4.248495242049359,
          4.394449154672439,
          4.653960350157523,
          4.343805421853684,
          4.330733340286331,
          4.189654742026425,
          4.919980925828125,
          4.1588830833596715,
          4.442651256490317,
          4.890349128221754,
          3.8066624897703196,
          3.58351893845611,
          4.30406509320417,
          4.204692619390966,
          3.5263605246161616,
          4.477336814478207,
          4.007333185232471,
          4.574710978503383,
          4.442651256490317,
          4.356708826689592,
          3.091042453358316,
          4.61512051684126,
          4.04305126783455,
          3.970291913552122,
          4.0943445622221,
          4.1588830833596715,
          4.418840607796598,
          4.653960350157523,
          4.465908118654584,
          3.8918202981106265,
          4.812184355372417,
          4.61512051684126,
          4.382026634673881,
          4.189654742026425,
          4.189654742026425,
          4.02535169073515,
          4.2626798770413155,
          3.9318256327243257,
          3.713572066704308,
          4.394449154672439,
          4.406719247264253,
          5.318119993844216,
          4.356708826689592,
          4.07753744390572,
          3.1354942159291497,
          4.499809670330265,
          4.859812404361672,
          4.356708826689592,
          4.189654742026425,
          4.574710978503383,
          4.30406509320417,
          4.2626798770413155,
          4.382026634673881,
          3.912023005428146,
          3.7612001156935624,
          4.276666119016055
         ],
         "yaxis": "y2"
        },
        {
         "boxpoints": "all",
         "customdata": [
          [
           "Inner City Blues Make Me Wanna Holler",
           "Marvin Gaye"
          ],
          [
           "Let It Be",
           "Aretha Franklin"
          ],
          [
           "Better Days",
           "Rufus"
          ],
          [
           "Devotion",
           "Earth, Wind & Fire"
          ],
          [
           "Love I Never Knew You Could Feel So Good",
           "The Supremes"
          ],
          [
           "Spring Again",
           "Lou Rawls"
          ],
          [
           "Enjoy Yourself",
           "The Jacksons"
          ],
          [
           "Second Hand Woman",
           "B.B. King"
          ],
          [
           "If I Love You",
           "The Stylistics"
          ],
          [
           "Havent You Heard",
           "Patrice Rushen"
          ],
          [
           "California Girl",
           "Eddie Floyd"
          ],
          [
           "Ain’t Nothing I Can Do",
           "Tyrone Davis"
          ],
          [
           "She Was Too Good To Me",
           "Chet Baker"
          ],
          [
           "Land Of Passion",
           "Hubert Laws"
          ],
          [
           "Happiness",
           "Pleasure"
          ],
          [
           "Keep On Doing What Youre Doin",
           "Bobby Byrd"
          ],
          [
           "Because I Love You",
           "Five Stairsteps"
          ],
          [
           "Cruel Way to Go Down",
           "Allen Toussaint"
          ],
          [
           "Sundays News",
           "Labelle"
          ],
          [
           "Sagittarius",
           "Blowfly"
          ],
          [
           "Best Beat In Town",
           "Switch (R&B band)"
          ],
          [
           "Aint I Good?",
           "John KaSandra"
          ],
          [
           "Have A Happy Day",
           "James Brown"
          ],
          [
           "A Lonely Little Boy Around One Little Christmas Toy",
           "James Brown"
          ],
          [
           "You Know Youre Wrong Dont You Brother",
           "Walter Heath"
          ],
          [
           "The Right Time for Us",
           "Shalamar"
          ],
          [
           "Two of Us",
           "Cameo"
          ],
          [
           "With Pen In Hand",
           "Dorothy Moore"
          ],
          [
           "If It Aint Funky",
           "Chuck Brown And The Soul Searchers"
          ],
          [
           "Song About Nothing",
           "Ralph Graham"
          ],
          [
           "Dont Let Go Live",
           "Commander Cody and His Lost Planet Airmen"
          ],
          [
           "Rufus  Ruby",
           "Melvin Van Peebles"
          ],
          [
           "Escape From Planet Earth",
           "The Continental IV"
          ],
          [
           "Get Down Single Edit",
           "Curtis Mayfield"
          ],
          [
           "Anyone Who Had A Heart",
           "Martha Reeves & The Vandellas"
          ]
         ],
         "hovertemplate": "title: %{customdata[0]}<br>artist: %{customdata[1]}<br>log(words): %{y}",
         "name": "rb",
         "type": "box",
         "xaxis": "x2",
         "y": [
          4.634728988229636,
          4.1588830833596715,
          4.290459441148391,
          4.430816798843313,
          4.406719247264253,
          4.430816798843313,
          4.442651256490317,
          4.276666119016055,
          4.0943445622221,
          4.248495242049359,
          4.574710978503383,
          4.2626798770413155,
          3.8501476017100584,
          3.4339872044851463,
          4.110873864173311,
          4.04305126783455,
          4.77912349311153,
          3.044522437723423,
          4.248495242049359,
          4.7535901911063645,
          4.23410650459726,
          4.189654742026425,
          4.624972813284271,
          4.7535901911063645,
          4.718498871295094,
          4.532599493153256,
          4.51085950651685,
          5.099866427824199,
          3.295836866004329,
          4.68213122712422,
          4.672828834461906,
          5.631211781821365,
          4.762173934797756,
          4.127134385045092,
          4.23410650459726
         ],
         "yaxis": "y2"
        },
        {
         "boxpoints": "all",
         "customdata": [
          [
           "Super Stupid",
           "Funkadelic"
          ],
          [
           "Sweet Virginia",
           "The Rolling Stones"
          ],
          [
           "Friend of the Devil",
           "The Grateful Dead"
          ],
          [
           "Me and Bobby McGee",
           "Janis Joplin"
          ],
          [
           "Take the Money and Run",
           "Steve Miller Band"
          ],
          [
           "Bluenose",
           "Stan Rogers"
          ],
          [
           "Grapefruit Moon",
           "Tom Waits"
          ],
          [
           "Mind",
           "Talking Heads"
          ],
          [
           "Nobody Knows You When Youre Down And Out Acoustic Live",
           "Eric Clapton"
          ],
          [
           "1984",
           "David Bowie"
          ],
          [
           "Firth of Fifth",
           "Genesis"
          ],
          [
           "Loves Me Like a Rock",
           "Paul Simon"
          ],
          [
           "Zanzibar",
           "Billy Joel"
          ],
          [
           "London Town",
           "Paul McCartney & Wings"
          ],
          [
           "Might Just Take Your Life",
           "Deep Purple"
          ],
          [
           "Mother and Child Reunion",
           "Paul Simon"
          ],
          [
           "Eight Days On the Road",
           "Aretha Franklin"
          ],
          [
           "I Will Not Let You Go",
           "Chuck Berry"
          ],
          [
           "Union Station",
           "Merle Haggard"
          ],
          [
           "Heaven Was a Drink of Wine",
           "Merle Haggard"
          ],
          [
           "Nobody but You",
           "James Taylor"
          ],
          [
           "California Dreamin",
           "Eddie Hazel"
          ],
          [
           "You Make Me Feel Like Dancing",
           "Leo Sayer"
          ],
          [
           "Stink-Foot",
           "Frank Zappa"
          ],
          [
           "Funtime",
           "Iggy Pop"
          ],
          [
           "Persuasion",
           "Rory Gallagher"
          ],
          [
           "Love Me Like You Did Last Night",
           "Roy Orbison"
          ],
          [
           "Under My Wheels The Alice Cooper Show",
           "Alice Cooper"
          ],
          [
           "I Cant Breathe Anymore",
           "David Gilmour"
          ],
          [
           "Cindy Tells Me",
           "Brian Eno"
          ],
          [
           "One and One",
           "Joe Walsh"
          ],
          [
           "Hooked on Rock n Roll",
           "Peter Criss"
          ],
          [
           "Storm Comin",
           "Petra"
          ],
          [
           "Five Long Years",
           "John Lee Hooker"
          ],
          [
           "Remember",
           "Greg Kihn Band"
          ],
          [
           "Poor Chubby",
           "Junior Byles"
          ],
          [
           "There Goes Another Love Song",
           "The Outlaws (Southern Rock Band)"
          ],
          [
           "Let the Night Fall",
           "The Band"
          ],
          [
           "Must Be Love",
           "James Gang"
          ],
          [
           "Bringing It Back",
           "J.J. Cale"
          ],
          [
           "Burn In Anger",
           "Dr. Z"
          ],
          [
           "Turn It Down",
           "Sweet"
          ],
          [
           "Little Hideaway",
           "Leon Russell"
          ],
          [
           "Its All Over Now",
           "Rod Stewart"
          ],
          [
           "Night of the Living Dead",
           "Misfits"
          ],
          [
           "Willin",
           "Linda Ronstadt"
          ],
          [
           "Sorry",
           "Greg Kihn Band"
          ],
          [
           "No God",
           "Germs"
          ],
          [
           "Conversation Piece",
           "David Bowie"
          ],
          [
           "Chemical World",
           "Van der Graaf Generator"
          ],
          [
           "The Sea",
           "Renaissance"
          ],
          [
           "Cumbolo",
           "Culture"
          ],
          [
           "Fool for You Early Version",
           "Rod Stewart"
          ],
          [
           "We Just Disagree",
           "Dave Mason"
          ],
          [
           "Thousand Days of Yesterdays Time Since Come and Gone",
           "Captain Beyond"
          ],
          [
           "Bright Eyes",
           "Art Garfunkel"
          ],
          [
           "Davey",
           "Jay Ferguson"
          ],
          [
           "Lemon Pie",
           "Strawbs"
          ],
          [
           "Pretty Woman",
           "Exuma"
          ],
          [
           "Let It Shine",
           "Elvin Bishop"
          ],
          [
           "B.I.C.",
           "UK Subs"
          ],
          [
           "I Never Cry The Alice Cooper Show",
           "Alice Cooper"
          ],
          [
           "Message Dont Break Me",
           "Water"
          ],
          [
           "The Name of the Game U.S. Remix",
           "ABBA"
          ],
          [
           "Tropical Night",
           "Firefall"
          ],
          [
           "Your Life Will Burn",
           "Zior"
          ],
          [
           "Amos",
           "Jim Sullivan"
          ],
          [
           "A Thousand Years",
           "Relatively Clean Rivers"
          ],
          [
           "Does Anybody Know What Time It Is? Live In Japan",
           "Chicago"
          ],
          [
           "Eyes of the World Live at Great American Music Hall SF 8/13/75",
           "The Grateful Dead"
          ],
          [
           "St. Stephen Part 1 Live at Cornell University May 8 1977",
           "The Grateful Dead"
          ],
          [
           "Not Fade Away Live at Golden Hall San Diego August 7 1971",
           "The Grateful Dead"
          ],
          [
           "Remember the Lightning",
           "20/20"
          ],
          [
           "The Ballad of Billy Joe",
           "Jerry Lee Lewis"
          ],
          [
           "Its Alright Ma Im Only Bleeding At Budokan",
           "Bob Dylan"
          ],
          [
           "Peer Pressure",
           "Necros"
          ],
          [
           "Knock on my door",
           "Fanny"
          ],
          [
           "Neunauge",
           "Real Ax Band"
          ],
          [
           "Spanish Harlem Incident",
           "Dion"
          ],
          [
           "Can I Have This Dance?",
           "Jigsaw"
          ],
          [
           "Hooked",
           "Hello sailor"
          ],
          [
           "Were Gonna Make It",
           "Allman and Woman"
          ],
          [
           "Dont Let Me Stop You",
           "The Static (band)"
          ],
          [
           "Jill",
           "Glenn Branca"
          ],
          [
           "Rongwrong",
           "Quiet Sun"
          ],
          [
           "Crampton Comes Alive",
           "\"Weird Al\" Yankovic"
          ],
          [
           "Skobiit Party Civilised Session",
           "Jim Pembroke"
          ],
          [
           "Ten Thousand Words in a Cardboard Box",
           "Twink"
          ],
          [
           "America The Beautiful/The Times They Are A-Changing",
           "Spirit"
          ],
          [
           "See Saw",
           "Talas"
          ],
          [
           "You Broke It",
           "Phil Everly"
          ],
          [
           "Red Rover",
           "Tommy James and the Shondells"
          ],
          [
           "In the Morning",
           "Paper Lace"
          ],
          [
           "Real and Defined Androgens",
           "Annette Peacock"
          ]
         ],
         "hovertemplate": "title: %{customdata[0]}<br>artist: %{customdata[1]}<br>log(words): %{y}",
         "name": "rock",
         "type": "box",
         "xaxis": "x2",
         "y": [
          3.828641396489095,
          4.2626798770413155,
          4.605170185988092,
          4.927253685157205,
          4.6443908991413725,
          4.969813299576001,
          4.248495242049359,
          3.9512437185814275,
          4.3694478524670215,
          4.406719247264253,
          4.6913478822291435,
          4.110873864173311,
          4.61512051684126,
          4.418840607796598,
          4.584967478670572,
          4.189654742026425,
          4.189654742026425,
          4.1588830833596715,
          3.871201010907891,
          4.430816798843313,
          4.653960350157523,
          4.02535169073515,
          4.2626798770413155,
          5.14166355650266,
          3.9512437185814275,
          4.31748811353631,
          4.189654742026425,
          3.970291913552122,
          4.189654742026425,
          4.248495242049359,
          3.784189633918261,
          4.6913478822291435,
          4.584967478670572,
          4.127134385045092,
          4.3694478524670215,
          4.356708826689592,
          4.477336814478207,
          4.143134726391533,
          4.330733340286331,
          3.871201010907891,
          4.51085950651685,
          4.584967478670572,
          3.7612001156935624,
          4.51085950651685,
          4.007333185232471,
          4.343805421853684,
          4.543294782270004,
          4.736198448394496,
          4.787491742782046,
          4.955827057601261,
          4.343805421853684,
          4.007333185232471,
          4.51085950651685,
          4.30406509320417,
          4.143134726391533,
          4.30406509320417,
          4.532599493153256,
          4.0943445622221,
          4.7535901911063645,
          3.4339872044851463,
          4.174387269895637,
          4.23410650459726,
          4.31748811353631,
          4.5217885770490405,
          4.248495242049359,
          4.51085950651685,
          4.653960350157523,
          4.574710978503383,
          4.442651256490317,
          4.634728988229636,
          4.672828834461906,
          3.6635616461296463,
          3.9512437185814275,
          4.770684624465665,
          5.918893854273146,
          4.356708826689592,
          4.543294782270004,
          3.8501476017100584,
          4.51085950651685,
          3.871201010907891,
          4.454347296253507,
          4.343805421853684,
          4.110873864173311,
          4.204692619390966,
          4.836281906951478,
          3.4011973816621555,
          4.605170185988092,
          4.143134726391533,
          5.497168225293202,
          3.2188758248682006,
          4.2626798770413155,
          4.1588830833596715,
          4.465908118654584,
          4.7535901911063645
         ],
         "yaxis": "y2"
        }
       ],
       "layout": {
        "annotations": [
         {
          "font": {
           "size": 16
          },
          "showarrow": false,
          "text": "1960",
          "x": 0.225,
          "xanchor": "center",
          "xref": "paper",
          "y": 1,
          "yanchor": "bottom",
          "yref": "paper"
         },
         {
          "font": {
           "size": 16
          },
          "showarrow": false,
          "text": "1970",
          "x": 0.775,
          "xanchor": "center",
          "xref": "paper",
          "y": 1,
          "yanchor": "bottom",
          "yref": "paper"
         },
         {
          "font": {
           "size": 16
          },
          "showarrow": false,
          "text": "tags",
          "x": 0.5,
          "xanchor": "center",
          "xref": "paper",
          "y": 0,
          "yanchor": "top",
          "yref": "paper",
          "yshift": -30
         },
         {
          "font": {
           "size": 16
          },
          "showarrow": false,
          "text": "log(unique words)",
          "textangle": -90,
          "x": 0,
          "xanchor": "right",
          "xref": "paper",
          "xshift": -40,
          "y": 0.5,
          "yanchor": "middle",
          "yref": "paper"
         }
        ],
        "template": {
         "data": {
          "bar": [
           {
            "error_x": {
             "color": "#2a3f5f"
            },
            "error_y": {
             "color": "#2a3f5f"
            },
            "marker": {
             "line": {
              "color": "#E5ECF6",
              "width": 0.5
             },
             "pattern": {
              "fillmode": "overlay",
              "size": 10,
              "solidity": 0.2
             }
            },
            "type": "bar"
           }
          ],
          "barpolar": [
           {
            "marker": {
             "line": {
              "color": "#E5ECF6",
              "width": 0.5
             },
             "pattern": {
              "fillmode": "overlay",
              "size": 10,
              "solidity": 0.2
             }
            },
            "type": "barpolar"
           }
          ],
          "carpet": [
           {
            "aaxis": {
             "endlinecolor": "#2a3f5f",
             "gridcolor": "white",
             "linecolor": "white",
             "minorgridcolor": "white",
             "startlinecolor": "#2a3f5f"
            },
            "baxis": {
             "endlinecolor": "#2a3f5f",
             "gridcolor": "white",
             "linecolor": "white",
             "minorgridcolor": "white",
             "startlinecolor": "#2a3f5f"
            },
            "type": "carpet"
           }
          ],
          "choropleth": [
           {
            "colorbar": {
             "outlinewidth": 0,
             "ticks": ""
            },
            "type": "choropleth"
           }
          ],
          "contour": [
           {
            "colorbar": {
             "outlinewidth": 0,
             "ticks": ""
            },
            "colorscale": [
             [
              0,
              "#0d0887"
             ],
             [
              0.1111111111111111,
              "#46039f"
             ],
             [
              0.2222222222222222,
              "#7201a8"
             ],
             [
              0.3333333333333333,
              "#9c179e"
             ],
             [
              0.4444444444444444,
              "#bd3786"
             ],
             [
              0.5555555555555556,
              "#d8576b"
             ],
             [
              0.6666666666666666,
              "#ed7953"
             ],
             [
              0.7777777777777778,
              "#fb9f3a"
             ],
             [
              0.8888888888888888,
              "#fdca26"
             ],
             [
              1,
              "#f0f921"
             ]
            ],
            "type": "contour"
           }
          ],
          "contourcarpet": [
           {
            "colorbar": {
             "outlinewidth": 0,
             "ticks": ""
            },
            "type": "contourcarpet"
           }
          ],
          "heatmap": [
           {
            "colorbar": {
             "outlinewidth": 0,
             "ticks": ""
            },
            "colorscale": [
             [
              0,
              "#0d0887"
             ],
             [
              0.1111111111111111,
              "#46039f"
             ],
             [
              0.2222222222222222,
              "#7201a8"
             ],
             [
              0.3333333333333333,
              "#9c179e"
             ],
             [
              0.4444444444444444,
              "#bd3786"
             ],
             [
              0.5555555555555556,
              "#d8576b"
             ],
             [
              0.6666666666666666,
              "#ed7953"
             ],
             [
              0.7777777777777778,
              "#fb9f3a"
             ],
             [
              0.8888888888888888,
              "#fdca26"
             ],
             [
              1,
              "#f0f921"
             ]
            ],
            "type": "heatmap"
           }
          ],
          "heatmapgl": [
           {
            "colorbar": {
             "outlinewidth": 0,
             "ticks": ""
            },
            "colorscale": [
             [
              0,
              "#0d0887"
             ],
             [
              0.1111111111111111,
              "#46039f"
             ],
             [
              0.2222222222222222,
              "#7201a8"
             ],
             [
              0.3333333333333333,
              "#9c179e"
             ],
             [
              0.4444444444444444,
              "#bd3786"
             ],
             [
              0.5555555555555556,
              "#d8576b"
             ],
             [
              0.6666666666666666,
              "#ed7953"
             ],
             [
              0.7777777777777778,
              "#fb9f3a"
             ],
             [
              0.8888888888888888,
              "#fdca26"
             ],
             [
              1,
              "#f0f921"
             ]
            ],
            "type": "heatmapgl"
           }
          ],
          "histogram": [
           {
            "marker": {
             "pattern": {
              "fillmode": "overlay",
              "size": 10,
              "solidity": 0.2
             }
            },
            "type": "histogram"
           }
          ],
          "histogram2d": [
           {
            "colorbar": {
             "outlinewidth": 0,
             "ticks": ""
            },
            "colorscale": [
             [
              0,
              "#0d0887"
             ],
             [
              0.1111111111111111,
              "#46039f"
             ],
             [
              0.2222222222222222,
              "#7201a8"
             ],
             [
              0.3333333333333333,
              "#9c179e"
             ],
             [
              0.4444444444444444,
              "#bd3786"
             ],
             [
              0.5555555555555556,
              "#d8576b"
             ],
             [
              0.6666666666666666,
              "#ed7953"
             ],
             [
              0.7777777777777778,
              "#fb9f3a"
             ],
             [
              0.8888888888888888,
              "#fdca26"
             ],
             [
              1,
              "#f0f921"
             ]
            ],
            "type": "histogram2d"
           }
          ],
          "histogram2dcontour": [
           {
            "colorbar": {
             "outlinewidth": 0,
             "ticks": ""
            },
            "colorscale": [
             [
              0,
              "#0d0887"
             ],
             [
              0.1111111111111111,
              "#46039f"
             ],
             [
              0.2222222222222222,
              "#7201a8"
             ],
             [
              0.3333333333333333,
              "#9c179e"
             ],
             [
              0.4444444444444444,
              "#bd3786"
             ],
             [
              0.5555555555555556,
              "#d8576b"
             ],
             [
              0.6666666666666666,
              "#ed7953"
             ],
             [
              0.7777777777777778,
              "#fb9f3a"
             ],
             [
              0.8888888888888888,
              "#fdca26"
             ],
             [
              1,
              "#f0f921"
             ]
            ],
            "type": "histogram2dcontour"
           }
          ],
          "mesh3d": [
           {
            "colorbar": {
             "outlinewidth": 0,
             "ticks": ""
            },
            "type": "mesh3d"
           }
          ],
          "parcoords": [
           {
            "line": {
             "colorbar": {
              "outlinewidth": 0,
              "ticks": ""
             }
            },
            "type": "parcoords"
           }
          ],
          "pie": [
           {
            "automargin": true,
            "type": "pie"
           }
          ],
          "scatter": [
           {
            "fillpattern": {
             "fillmode": "overlay",
             "size": 10,
             "solidity": 0.2
            },
            "type": "scatter"
           }
          ],
          "scatter3d": [
           {
            "line": {
             "colorbar": {
              "outlinewidth": 0,
              "ticks": ""
             }
            },
            "marker": {
             "colorbar": {
              "outlinewidth": 0,
              "ticks": ""
             }
            },
            "type": "scatter3d"
           }
          ],
          "scattercarpet": [
           {
            "marker": {
             "colorbar": {
              "outlinewidth": 0,
              "ticks": ""
             }
            },
            "type": "scattercarpet"
           }
          ],
          "scattergeo": [
           {
            "marker": {
             "colorbar": {
              "outlinewidth": 0,
              "ticks": ""
             }
            },
            "type": "scattergeo"
           }
          ],
          "scattergl": [
           {
            "marker": {
             "colorbar": {
              "outlinewidth": 0,
              "ticks": ""
             }
            },
            "type": "scattergl"
           }
          ],
          "scattermapbox": [
           {
            "marker": {
             "colorbar": {
              "outlinewidth": 0,
              "ticks": ""
             }
            },
            "type": "scattermapbox"
           }
          ],
          "scatterpolar": [
           {
            "marker": {
             "colorbar": {
              "outlinewidth": 0,
              "ticks": ""
             }
            },
            "type": "scatterpolar"
           }
          ],
          "scatterpolargl": [
           {
            "marker": {
             "colorbar": {
              "outlinewidth": 0,
              "ticks": ""
             }
            },
            "type": "scatterpolargl"
           }
          ],
          "scatterternary": [
           {
            "marker": {
             "colorbar": {
              "outlinewidth": 0,
              "ticks": ""
             }
            },
            "type": "scatterternary"
           }
          ],
          "surface": [
           {
            "colorbar": {
             "outlinewidth": 0,
             "ticks": ""
            },
            "colorscale": [
             [
              0,
              "#0d0887"
             ],
             [
              0.1111111111111111,
              "#46039f"
             ],
             [
              0.2222222222222222,
              "#7201a8"
             ],
             [
              0.3333333333333333,
              "#9c179e"
             ],
             [
              0.4444444444444444,
              "#bd3786"
             ],
             [
              0.5555555555555556,
              "#d8576b"
             ],
             [
              0.6666666666666666,
              "#ed7953"
             ],
             [
              0.7777777777777778,
              "#fb9f3a"
             ],
             [
              0.8888888888888888,
              "#fdca26"
             ],
             [
              1,
              "#f0f921"
             ]
            ],
            "type": "surface"
           }
          ],
          "table": [
           {
            "cells": {
             "fill": {
              "color": "#EBF0F8"
             },
             "line": {
              "color": "white"
             }
            },
            "header": {
             "fill": {
              "color": "#C8D4E3"
             },
             "line": {
              "color": "white"
             }
            },
            "type": "table"
           }
          ]
         },
         "layout": {
          "annotationdefaults": {
           "arrowcolor": "#2a3f5f",
           "arrowhead": 0,
           "arrowwidth": 1
          },
          "autotypenumbers": "strict",
          "coloraxis": {
           "colorbar": {
            "outlinewidth": 0,
            "ticks": ""
           }
          },
          "colorscale": {
           "diverging": [
            [
             0,
             "#8e0152"
            ],
            [
             0.1,
             "#c51b7d"
            ],
            [
             0.2,
             "#de77ae"
            ],
            [
             0.3,
             "#f1b6da"
            ],
            [
             0.4,
             "#fde0ef"
            ],
            [
             0.5,
             "#f7f7f7"
            ],
            [
             0.6,
             "#e6f5d0"
            ],
            [
             0.7,
             "#b8e186"
            ],
            [
             0.8,
             "#7fbc41"
            ],
            [
             0.9,
             "#4d9221"
            ],
            [
             1,
             "#276419"
            ]
           ],
           "sequential": [
            [
             0,
             "#0d0887"
            ],
            [
             0.1111111111111111,
             "#46039f"
            ],
            [
             0.2222222222222222,
             "#7201a8"
            ],
            [
             0.3333333333333333,
             "#9c179e"
            ],
            [
             0.4444444444444444,
             "#bd3786"
            ],
            [
             0.5555555555555556,
             "#d8576b"
            ],
            [
             0.6666666666666666,
             "#ed7953"
            ],
            [
             0.7777777777777778,
             "#fb9f3a"
            ],
            [
             0.8888888888888888,
             "#fdca26"
            ],
            [
             1,
             "#f0f921"
            ]
           ],
           "sequentialminus": [
            [
             0,
             "#0d0887"
            ],
            [
             0.1111111111111111,
             "#46039f"
            ],
            [
             0.2222222222222222,
             "#7201a8"
            ],
            [
             0.3333333333333333,
             "#9c179e"
            ],
            [
             0.4444444444444444,
             "#bd3786"
            ],
            [
             0.5555555555555556,
             "#d8576b"
            ],
            [
             0.6666666666666666,
             "#ed7953"
            ],
            [
             0.7777777777777778,
             "#fb9f3a"
            ],
            [
             0.8888888888888888,
             "#fdca26"
            ],
            [
             1,
             "#f0f921"
            ]
           ]
          },
          "colorway": [
           "#636efa",
           "#EF553B",
           "#00cc96",
           "#ab63fa",
           "#FFA15A",
           "#19d3f3",
           "#FF6692",
           "#B6E880",
           "#FF97FF",
           "#FECB52"
          ],
          "font": {
           "color": "#2a3f5f"
          },
          "geo": {
           "bgcolor": "white",
           "lakecolor": "white",
           "landcolor": "#E5ECF6",
           "showlakes": true,
           "showland": true,
           "subunitcolor": "white"
          },
          "hoverlabel": {
           "align": "left"
          },
          "hovermode": "closest",
          "mapbox": {
           "style": "light"
          },
          "paper_bgcolor": "white",
          "plot_bgcolor": "#E5ECF6",
          "polar": {
           "angularaxis": {
            "gridcolor": "white",
            "linecolor": "white",
            "ticks": ""
           },
           "bgcolor": "#E5ECF6",
           "radialaxis": {
            "gridcolor": "white",
            "linecolor": "white",
            "ticks": ""
           }
          },
          "scene": {
           "xaxis": {
            "backgroundcolor": "#E5ECF6",
            "gridcolor": "white",
            "gridwidth": 2,
            "linecolor": "white",
            "showbackground": true,
            "ticks": "",
            "zerolinecolor": "white"
           },
           "yaxis": {
            "backgroundcolor": "#E5ECF6",
            "gridcolor": "white",
            "gridwidth": 2,
            "linecolor": "white",
            "showbackground": true,
            "ticks": "",
            "zerolinecolor": "white"
           },
           "zaxis": {
            "backgroundcolor": "#E5ECF6",
            "gridcolor": "white",
            "gridwidth": 2,
            "linecolor": "white",
            "showbackground": true,
            "ticks": "",
            "zerolinecolor": "white"
           }
          },
          "shapedefaults": {
           "line": {
            "color": "#2a3f5f"
           }
          },
          "ternary": {
           "aaxis": {
            "gridcolor": "white",
            "linecolor": "white",
            "ticks": ""
           },
           "baxis": {
            "gridcolor": "white",
            "linecolor": "white",
            "ticks": ""
           },
           "bgcolor": "#E5ECF6",
           "caxis": {
            "gridcolor": "white",
            "linecolor": "white",
            "ticks": ""
           }
          },
          "title": {
           "x": 0.05
          },
          "xaxis": {
           "automargin": true,
           "gridcolor": "white",
           "linecolor": "white",
           "ticks": "",
           "title": {
            "standoff": 15
           },
           "zerolinecolor": "white",
           "zerolinewidth": 2
          },
          "yaxis": {
           "automargin": true,
           "gridcolor": "white",
           "linecolor": "white",
           "ticks": "",
           "title": {
            "standoff": 15
           },
           "zerolinecolor": "white",
           "zerolinewidth": 2
          }
         }
        },
        "xaxis": {
         "anchor": "y",
         "domain": [
          0,
          0.45
         ]
        },
        "xaxis2": {
         "anchor": "y2",
         "domain": [
          0.55,
          1
         ]
        },
        "yaxis": {
         "anchor": "x",
         "domain": [
          0,
          1
         ]
        },
        "yaxis2": {
         "anchor": "x2",
         "domain": [
          0,
          1
         ]
        }
       }
      }
     },
     "metadata": {},
     "output_type": "display_data"
    }
   ],
   "source": [
    "from modules.vizualisation import words_decades\n",
    "\n",
    "words_decades(df, [1960, 1970])"
   ]
  },
  {
   "cell_type": "code",
   "execution_count": 18,
   "metadata": {},
   "outputs": [
    {
     "data": {
      "application/vnd.plotly.v1+json": {
       "config": {
        "plotlyServerURL": "https://plot.ly"
       },
       "data": [
        {
         "boxpoints": "all",
         "customdata": [
          [
           "Its All In My Mind",
           "George Jones"
          ],
          [
           "Silly Me",
           "Reba McEntire"
          ],
          [
           "Where No One Stands Alone",
           "Merle Haggard"
          ],
          [
           "Faded Coat of Blue",
           "The Carter Family"
          ],
          [
           "Pledging My Love",
           "Emmylou Harris"
          ],
          [
           "Spanish Is A Loving Tongue",
           "Emmylou Harris"
          ],
          [
           "Vacation",
           "Alabama"
          ],
          [
           "You Can Have Her",
           "George Jones & Johnny Paycheck"
          ],
          [
           "Here Comes That Rainbow Again",
           "Kris Kristofferson"
          ],
          [
           "The Devils Right Hand",
           "Waylon Jennings"
          ],
          [
           "Defying Gravity Executioners Song",
           "Waylon Jennings"
          ],
          [
           "Lifes Highway",
           "Steve Wariner"
          ],
          [
           "There Was A Time When I Was Alone",
           "John Anderson"
          ],
          [
           "She Thinks I Still Care",
           "Dan Seals"
          ],
          [
           "Through All My Days",
           "Don Francisco"
          ],
          [
           "Pancho and Lefty Heartworn Highways",
           "Townes Van Zandt"
          ],
          [
           "Youd Better Go",
           "Billy Joe Royal"
          ],
          [
           "I Feel Like I Could Fall in Love with Anyone Tonight",
           "Loretta Lynn"
          ],
          [
           "Why Dont Anybody Stay Home No More",
           "Margaret Lewis"
          ]
         ],
         "hovertemplate": "title: %{customdata[0]}<br>artist: %{customdata[1]}<br>log(words): %{y}",
         "name": "country",
         "type": "box",
         "xaxis": "x",
         "y": [
          4.31748811353631,
          4.276666119016055,
          4.219507705176107,
          4.564348191467836,
          3.784189633918261,
          4.634728988229636,
          4.787491742782046,
          4.382026634673881,
          4.382026634673881,
          4.762173934797756,
          3.6635616461296463,
          4.189654742026425,
          4.04305126783455,
          4.143134726391533,
          3.295836866004329,
          5.017279836814924,
          4.394449154672439,
          4.1588830833596715,
          5.003946305945459
         ],
         "yaxis": "y"
        },
        {
         "boxpoints": "all",
         "customdata": [
          [
           "Nobody Move Nobody Get Hurt",
           "Yellowman"
          ],
          [
           "Blue Monday",
           "New Order"
          ],
          [
           "True Blue",
           "Madonna"
          ],
          [
           "Just the Lonely Talking Again",
           "Whitney Houston"
          ],
          [
           "Fathoms Below",
           "Ship's chorus"
          ],
          [
           "Rat in Mi Kitchen",
           "UB40"
          ],
          [
           "How Old Are You?",
           "Robin Gibb"
          ],
          [
           "My Country",
           "New Model Army"
          ],
          [
           "Brave New World 2",
           "New Model Army"
          ],
          [
           "Ballad Of Bodmin Pill",
           "New Model Army"
          ],
          [
           "Misfits",
           "Cold Chisel"
          ],
          [
           "Sixth Announcements",
           "George Carlin"
          ],
          [
           "Sonnys Dream",
           "Christy Moore"
          ],
          [
           "The Day The Ravens Left The Tower",
           "The Alarm"
          ],
          [
           "Dripping Flesh",
           "Aggression"
          ],
          [
           "Cheri Love Affair",
           "G.G. Allin"
          ],
          [
           "Nutbush City Limits",
           "Alvin Lee"
          ],
          [
           "Faith",
           "Altar Boys"
          ],
          [
           "Thrill My Gorilla",
           "Alice Cooper"
          ],
          [
           "Tell Me What You Want",
           "Hall & Oates"
          ],
          [
           "Beast Of Burden Take A Walk",
           "Attrition"
          ],
          [
           "Song for Susan",
           "Crosby, Stills & Nash"
          ],
          [
           "I Need To Be Loved",
           "The Jeff Healey Band"
          ],
          [
           "Whats Wrong With Our Love Affair?",
           "The S.O.S. Band"
          ],
          [
           "Fulfillment",
           "Barrington Levy"
          ],
          [
           "Act of Will",
           "Brand X"
          ],
          [
           "Pimps",
           "Close Lobsters"
          ],
          [
           "Slice O Life",
           "45 Grave"
          ],
          [
           "Lost in Battle Overseas",
           "The Fixx"
          ],
          [
           "Don’t Tell Me the Time",
           "Martha Davis"
          ],
          [
           "You Dont Need Money",
           "Treat Her Right"
          ],
          [
           "Only a Lonely Child",
           "Engelbert Humperdinck"
          ],
          [
           "Dont Have the Power",
           "Charlie Peacock"
          ],
          [
           "Blackened Are the Priests",
           "Venom"
          ],
          [
           "If I Knew",
           "Phil Ochs"
          ],
          [
           "Relentless",
           "Little River Band"
          ],
          [
           "Gettysburg",
           "The Brandos"
          ],
          [
           "Last Time",
           "Julio Iglesias"
          ],
          [
           "African Litany",
           "Juluka"
          ],
          [
           "D.U.B.",
           "UB40"
          ],
          [
           "A Lady Like You",
           "Glen Campbell"
          ],
          [
           "Product of the Past",
           "Atrophy"
          ],
          [
           "The Right To Reply",
           "Conflict"
          ],
          [
           "Down And Down",
           "The Georgia Satellites"
          ],
          [
           "Little Linda",
           "Sonny Landreth"
          ],
          [
           "One Silver Dollar",
           "Vaya Con Dios"
          ],
          [
           "Chrome Plated Heart live",
           "Melissa Etheridge"
          ],
          [
           "This Darkest Winter",
           "Runrig"
          ],
          [
           "Amazing Grace",
           "Sissel"
          ],
          [
           "Whatcha Do To My Body",
           "Lee Aaron"
          ],
          [
           "Senseless",
           "Erasure"
          ],
          [
           "If I Could Be Sonja Henie",
           "Christine Lavin"
          ],
          [
           "You Surround Me Syrinx Mix",
           "Erasure"
          ],
          [
           "Dust",
           "Steve Winwood"
          ],
          [
           "Tales Of Innocence",
           "Christian Death"
          ],
          [
           "Isolation",
           "Alien Sex Fiend"
          ],
          [
           "Stranger By Nature",
           "China Crisis"
          ],
          [
           "System of Love",
           "Barry Gibb"
          ],
          [
           "Youre the Best Thing",
           "The Style Council"
          ],
          [
           "Baby Im a Leavin You",
           "Journey"
          ],
          [
           "S Is For Sleep",
           "Coil"
          ],
          [
           "Camphor",
           "The Fixx"
          ],
          [
           "Joy in the Journey",
           "Michael Card"
          ],
          [
           "Some Kind of Lover",
           "Jody Watley"
          ],
          [
           "Out Of The Shadows",
           "Vicious Rumors"
          ],
          [
           "Theres No Need To Question Why",
           "Third World"
          ],
          [
           "Paper Thin",
           "ABC"
          ],
          [
           "Over The Rainbow",
           "Art Pepper"
          ],
          [
           "Day of Doom Is Coming",
           "Birth Control"
          ],
          [
           "Agua",
           "The Manhattan Transfer"
          ],
          [
           "With a Little Love",
           "Modern Talking"
          ],
          [
           "Mighty Love",
           "Todd Rundgren"
          ],
          [
           "In This World",
           "Cindytalk"
          ],
          [
           "White Boy",
           "Culture Club"
          ],
          [
           "The More I Hide It",
           "Tony Banks"
          ],
          [
           "Sold You A Lie",
           "Zion (Rock)"
          ],
          [
           "One Night Away",
           "Saraya"
          ],
          [
           "Rodeo Drive",
           "Sniff 'n' the Tears"
          ],
          [
           "Come Home",
           "Menudo"
          ],
          [
           "Everybodys Cheating",
           "Rick Springfield"
          ],
          [
           "Forbidden Zone Soundtrack Version",
           "Danny Elfman"
          ],
          [
           "A Touch Of Paradise",
           "Kevin Paige"
          ],
          [
           "Lost in the Flow of Your Love",
           "Clifford T. Ward"
          ],
          [
           "Everydays the Same",
           "The Housemartins"
          ],
          [
           "Does She Love You",
           "Corey Hart"
          ],
          [
           "The Word Justice",
           "Jackson Browne"
          ],
          [
           "Flight To Nowhere",
           "Tesla"
          ],
          [
           "Rise Above",
           "The Blow Monkeys"
          ],
          [
           "I Live by the Groove",
           "Paul Carrack"
          ],
          [
           "The Story Of My Life",
           "Michael Crawford"
          ],
          [
           "The Feeling I Get",
           "The Knack"
          ],
          [
           "Back To The War",
           "John Hiatt"
          ],
          [
           "Til Its Over",
           "Billy Squier"
          ],
          [
           "Paradise",
           "Tesla"
          ],
          [
           "Ive Had It",
           "Louise Goffin"
          ],
          [
           "J.O.S. Days",
           "The Nits"
          ],
          [
           "Vanity",
           "David Gates"
          ],
          [
           "Lawnchairs",
           "Our Daughter's Wedding"
          ],
          [
           "Port Of Amsterdam",
           "The Nits"
          ],
          [
           "Temptation",
           "New Order"
          ],
          [
           "Shortys Lament Intermission",
           "The Residents"
          ],
          [
           "Maybe These Boys...",
           "The Church"
          ],
          [
           "Some Hearts",
           "Marshall Crenshaw"
          ],
          [
           "Mother of the Hearts",
           "Luv'"
          ],
          [
           "The Wild Cry",
           "Clannad"
          ],
          [
           "The Bricklayers Song",
           "The Corries"
          ],
          [
           "Hungry Town Grub Club Mix",
           "BIG P.I.G"
          ],
          [
           "Make the Man Love Me",
           "Maureen McGovern"
          ],
          [
           "The Festival of Death excerpt",
           "The Residents"
          ],
          [
           "Rock N Roll Gypsy",
           "Loudness"
          ],
          [
           "I Love My Radio Midnight Radio",
           "Taffy"
          ],
          [
           "My Minds Diseased",
           "Battalion of Saints"
          ],
          [
           "Coming and Going",
           "Status Quo"
          ],
          [
           "You",
           "Jermaine Stewart"
          ],
          [
           "Slaughterhouse",
           "The Georgia Satellites"
          ],
          [
           "Looking at Midnight",
           "Imagination"
          ],
          [
           "Warmest Rising Sun",
           "Lou Gramm"
          ],
          [
           "Transfusion",
           "Nervous Norvus"
          ],
          [
           "I Remember/Stranger Than You Dreamt It",
           "Andrew Lloyd Webber"
          ],
          [
           "Big Chief",
           "Professor Longhair"
          ],
          [
           "Restless Eyes",
           "Janis Ian"
          ],
          [
           "Never Had a Lot to Lose",
           "Cheap Trick"
          ],
          [
           "Shes A Magazine",
           "New Musik"
          ],
          [
           "Kill Your Landlord",
           "Christ On Parade"
          ],
          [
           "I Have Decided",
           "Michael Card"
          ],
          [
           "Reel",
           "Throwing Muses"
          ],
          [
           "City Streets",
           "Resurrection Band"
          ],
          [
           "Dont Walk Away",
           "Toronto"
          ],
          [
           "White Flag",
           "Schnell Fenster"
          ],
          [
           "Alive",
           "X JAPAN"
          ],
          [
           "Angels Never Call",
           "'Til Tuesday"
          ],
          [
           "I Love My Leather Jacket",
           "The Chills"
          ],
          [
           "C.R.A.S.S.",
           "Conflict"
          ],
          [
           "Quiet Love",
           "White Heart"
          ],
          [
           "Shiver",
           "Kitchens of Distinction"
          ],
          [
           "Cant Take Anymore",
           "The Angels (AUS)"
          ],
          [
           "Free",
           "Heavy Load"
          ],
          [
           "Working Week",
           "Spy Vs Spy"
          ],
          [
           "Merciless Game",
           "Running Wild"
          ],
          [
           "St. Olavs Gate",
           "Nanci Griffith"
          ],
          [
           "Victims of the Fury",
           "Robin Trower"
          ],
          [
           "Here I Go",
           "2nd Chapter of Acts"
          ],
          [
           "Still There Is Time",
           "Heavy Load"
          ],
          [
           "Watch Your Step",
           "Tokyo Blade"
          ],
          [
           "Living with You",
           "Kenny Rogers"
          ],
          [
           "Primitive Painters",
           "Felt (UK Band)"
          ],
          [
           "Cant Cheat Karma",
           "Zounds"
          ],
          [
           "Rules and Schemes",
           "The Fixx"
          ],
          [
           "Road to Hell",
           "Rory Gallagher"
          ],
          [
           "Black Man Ray",
           "China Crisis"
          ],
          [
           "So Cold the Night",
           "The Communards"
          ],
          [
           "Sarah",
           "Madness"
          ],
          [
           "Good Friends",
           "Joni Mitchell"
          ],
          [
           "A Day",
           "Clan of Xymox"
          ],
          [
           "Devils Song",
           "BIG P.I.G"
          ],
          [
           "Cryin Shame",
           "Faster Pussycat"
          ],
          [
           "Evolution Orange",
           "Earth, Wind & Fire"
          ],
          [
           "In My Fashion",
           "Gordon Lightfoot"
          ],
          [
           "Look at That Woman Go",
           "Flash and the Pan"
          ],
          [
           "Winners",
           "Don Felder"
          ],
          [
           "Love and Death",
           "Virgin Steele"
          ],
          [
           "Fighting Against the World",
           "Vandenberg"
          ],
          [
           "Precious Thing Till The Next... Somewhere",
           "Dee Dee Bridgewater"
          ],
          [
           "McKenzie",
           "Redd Kross"
          ],
          [
           "Rapids",
           "The Icicle Works"
          ],
          [
           "The Sea Says",
           "Marc Almond"
          ],
          [
           "Hearts on Fire",
           "Chris Norman"
          ],
          [
           "Skydiving",
           "The Bongos"
          ],
          [
           "Goin Off The Deep End",
           "Lee Aaron"
          ],
          [
           "Bring It Down",
           "Leslie Fish"
          ],
          [
           "The Very Best Of Me",
           "George Jones"
          ],
          [
           "One Clear Moment",
           "Little Feat"
          ],
          [
           "Voice in the Wind",
           "Petra"
          ],
          [
           "Workaholic Slave",
           "Phil Carmen"
          ],
          [
           "Going Round",
           "Clan of Xymox"
          ],
          [
           "I Wish It Would Rain",
           "Nanci Griffith"
          ],
          [
           "Stars and Stripes",
           "Circle Jerks"
          ],
          [
           "Bremen Nacht",
           "The Fall"
          ],
          [
           "Could I? I Certainly Could",
           "Ruth Etting"
          ],
          [
           "Do What You Will",
           "The Shamen"
          ],
          [
           "Whats Wrong With This Picture",
           "Bourgeois Tagg"
          ],
          [
           "Back On The London Stage",
           "Pink Military"
          ],
          [
           "Four Letter Word",
           "Cheap Trick"
          ],
          [
           "Strangers When We Meet",
           "The Smithereens"
          ],
          [
           "The One",
           "Joe Cocker"
          ],
          [
           "Is You Is Or Is You Aint My Baby",
           "Anita O'Day"
          ],
          [
           "Back To Emotion",
           "Luba"
          ],
          [
           "Our Lady In Darkness",
           "The Legendary Pink Dots"
          ],
          [
           "Cry Like a Baby",
           "Bourgeois Tagg"
          ],
          [
           "After All This Time",
           "Rodney Crowell"
          ],
          [
           "Loving You",
           "Bobby Caldwell"
          ],
          [
           "Dont Bury My Heart",
           "Tim Finn"
          ],
          [
           "Still Out Of Order",
           "Infa-Riot"
          ],
          [
           "Field Work",
           "Thomas Dolby & Ryuichi Sakamoto"
          ],
          [
           "Sun-Fun",
           "Peach Weber"
          ],
          [
           "Its Just Love",
           "Wetton/Manzanera"
          ],
          [
           "Rhetorical Stagnation",
           "Anti System"
          ],
          [
           "Do Ya Do Ya Wanna Please Me",
           "Samantha Fox"
          ],
          [
           "Ive Got You Under My Skin",
           "Julio Iglesias"
          ],
          [
           "Lead Me On",
           "Teena Marie"
          ],
          [
           "In real life",
           "Randy Crawford"
          ],
          [
           "Bullet the Blue Sky - Live - Rattle and Hum version",
           "U2"
          ],
          [
           "Eponines Errand",
           "Claude-Michel Schnberg"
          ],
          [
           "Grizabella the Glamour Cat",
           "Original London Cast of Cats"
          ],
          [
           "The Reserection",
           "TISM"
          ],
          [
           "Dont Go Messin With A Country Boy",
           "Hillbilly Jim"
          ],
          [
           "Child",
           "Miguel Bos"
          ],
          [
           "No Contest",
           "Bjrn Ulvaeus & Benny Andersson"
          ],
          [
           "Daddys Highway",
           "The Bats"
          ],
          [
           "One of Our Girls Has Gone Missing",
           "A.C. Marias"
          ],
          [
           "Of Tears",
           "The Lover Speaks"
          ],
          [
           "My Life and the Women Who Lived It No. 1",
           "T Bone Burnett"
          ],
          [
           "Mr. Hart Couldnt Hear the Word Death",
           "William S. Burroughs"
          ],
          [
           "Papa",
           "Sankomota"
          ],
          [
           "Stop Look and Listen",
           "k.d. lang"
          ],
          [
           "Dont Be Sorry Just Be Happy",
           "Mick Fleetwood"
          ],
          [
           "Blue Crystal",
           "John Kander"
          ],
          [
           "I Guess Im Just a Little Too Sensitive",
           "Orange Juice"
          ],
          [
           "Bohemian Rhapsody",
           "Elaine Paige"
          ],
          [
           "Amnesia",
           "The Fabulous Thunderbirds"
          ],
          [
           "Gentlemen Take Polaroids Live",
           "Japan"
          ],
          [
           "Nightporter Live",
           "Japan"
          ],
          [
           "Whales Weep Not overture",
           "Paul Winter"
          ],
          [
           "Express Yourself Non-Stop Express Mix",
           "Madonna"
          ],
          [
           "Good Feelings",
           "Modern Romance"
          ],
          [
           "NO NEWS IS GOOD NEW",
           " (Yasuko Agawa)"
          ],
          [
           "Tears in the Night",
           "Rosemary Butler"
          ],
          [
           "Groovy",
           "Bay City Rollers"
          ],
          [
           "Long Haired Doney 1979 Evans recording",
           "R.L. Burnside"
          ],
          [
           "We Must Take Our Time",
           "Angela Clemmons"
          ],
          [
           "Pasadena",
           "Maywood"
          ],
          [
           "Feelin Right",
           "Gary Chapman"
          ],
          [
           "Everything in the Wrong Place Ball",
           "Sesame Street"
          ],
          [
           "When You Wish Upon a Star",
           "Michael Crawford"
          ],
          [
           "Bad Fruit",
           "Randy Stonehill"
          ],
          [
           "Look in Your Eyes",
           "Streetheart"
          ],
          [
           "Endless Summer Days",
           "Adrian Baker"
          ],
          [
           "Growing Up to Be a Child",
           "Sheila Walsh"
          ],
          [
           "My Favorite Girl",
           "The Hit Parade"
          ],
          [
           "Crown Him Lord of All",
           "The Clark Sisters"
          ],
          [
           "When Answers Arent Enough",
           "Scott Wesley Brown"
          ],
          [
           "Once Upon A Morning",
           "Jim Valley"
          ],
          [
           "I Got Nothin",
           "Iggy Pop"
          ],
          [
           "Into the Groove Dub Version",
           "Madonna"
          ],
          [
           "The Last Unicorn Part 2",
           "Jimmy Webb"
          ],
          [
           "Go Baby Go",
           "Samantha Gilles"
          ],
          [
           "I Hope She Breaks Your Heart",
           "Boston Dawn"
          ],
          [
           "Never Too Late",
           "Steve Archer"
          ],
          [
           "Because of Whose I Am",
           "Reba Rambo"
          ],
          [
           "Love Slips Away",
           "Brighton Rock"
          ],
          [
           "Tumblin Tumbleweeds",
           "Mose Allison"
          ],
          [
           "Ever Constant Ever Sure",
           "Luke Garrett"
          ],
          [
           "Sing Unto The Lord A New Song",
           "Integrity's Hosanna! Music"
          ],
          [
           "Full Moon Over Managua",
           "Robbie OConnell"
          ],
          [
           "Unto Him Almighty",
           "Truth (CCM)"
          ],
          [
           "Well Done",
           "Truth (CCM)"
          ],
          [
           "Beat Route",
           "Dial M."
          ],
          [
           "I Worship You Almighty God",
           "Youth With A Mission (Hong Kong)"
          ],
          [
           "Insanity",
           "Moral Support (CA)"
          ]
         ],
         "hovertemplate": "title: %{customdata[0]}<br>artist: %{customdata[1]}<br>log(words): %{y}",
         "name": "pop",
         "type": "box",
         "xaxis": "x",
         "y": [
          4.804021044733257,
          4.430816798843313,
          4.663439094112067,
          4.356708826689592,
          3.6635616461296463,
          4.248495242049359,
          4.727387818712341,
          4.7535901911063645,
          4.584967478670572,
          5.0369526024136295,
          4.718498871295094,
          4.6913478822291435,
          4.68213122712422,
          4.709530201312334,
          5.0106352940962555,
          4.394449154672439,
          4.31748811353631,
          4.477336814478207,
          4.330733340286331,
          4.356708826689592,
          4.007333185232471,
          4.2626798770413155,
          4.59511985013459,
          4.2626798770413155,
          4.330733340286331,
          4.406719247264253,
          4.219507705176107,
          4.499809670330265,
          4.290459441148391,
          4.48863636973214,
          4.007333185232471,
          4.3694478524670215,
          4.61512051684126,
          4.51085950651685,
          3.8501476017100584,
          4.787491742782046,
          4.543294782270004,
          4.624972813284271,
          4.442651256490317,
          4.962844630259907,
          4.31748811353631,
          4.624972813284271,
          5.755742213586912,
          4.290459441148391,
          4.543294782270004,
          3.784189633918261,
          4.653960350157523,
          4.663439094112067,
          4.23410650459726,
          4.564348191467836,
          4.248495242049359,
          4.248495242049359,
          4.653960350157523,
          4.564348191467836,
          4.0943445622221,
          4.2626798770413155,
          3.8066624897703196,
          4.77912349311153,
          4.653960350157523,
          4.3694478524670215,
          3.9889840465642745,
          4.718498871295094,
          4.143134726391533,
          4.382026634673881,
          4.1588830833596715,
          4.127134385045092,
          4.804021044733257,
          4.0943445622221,
          4.90527477843843,
          4.51085950651685,
          4.430816798843313,
          4.48863636973214,
          3.4011973816621555,
          4.663439094112067,
          4.6443908991413725,
          4.430816798843313,
          4.48863636973214,
          4.700480365792417,
          4.394449154672439,
          4.30406509320417,
          4.127134385045092,
          4.356708826689592,
          4.143134726391533,
          4.060443010546419,
          4.248495242049359,
          4.948759890378168,
          4.8283137373023015,
          4.584967478670572,
          4.382026634673881,
          4.2626798770413155,
          4.3694478524670215,
          4.844187086458591,
          4.454347296253507,
          4.709530201312334,
          3.7376696182833684,
          4.605170185988092,
          4.189654742026425,
          4.189654742026425,
          4.248495242049359,
          4.394449154672439,
          4.812184355372417,
          4.882801922586371,
          4.454347296253507,
          4.477336814478207,
          4.2626798770413155,
          5.19295685089021,
          4.248495242049359,
          4.3694478524670215,
          4.795790545596741,
          4.6443908991413725,
          4.219507705176107,
          4.07753744390572,
          3.7376696182833684,
          4.276666119016055,
          4.143134726391533,
          4.61512051684126,
          4.189654742026425,
          5.087596335232384,
          4.584967478670572,
          3.912023005428146,
          4.727387818712341,
          4.584967478670572,
          3.7612001156935624,
          4.007333185232471,
          4.454347296253507,
          4.343805421853684,
          4.543294782270004,
          4.2626798770413155,
          4.3694478524670215,
          4.890349128221754,
          4.454347296253507,
          4.04305126783455,
          5.123963979403259,
          4.143134726391533,
          4.07753744390572,
          4.330733340286331,
          4.248495242049359,
          4.343805421853684,
          4.564348191467836,
          4.553876891600541,
          4.406719247264253,
          3.58351893845611,
          3.871201010907891,
          4.406719247264253,
          4.499809670330265,
          4.700480365792417,
          4.584967478670572,
          4.663439094112067,
          4.634728988229636,
          4.007333185232471,
          4.02535169073515,
          4.574710978503383,
          4.709530201312334,
          3.828641396489095,
          4.290459441148391,
          4.709530201312334,
          4.143134726391533,
          4.382026634673881,
          4.430816798843313,
          4.61512051684126,
          4.430816798843313,
          4.634728988229636,
          4.6443908991413725,
          4.174387269895637,
          4.672828834461906,
          4.174387269895637,
          4.499809670330265,
          3.6635616461296463,
          4.394449154672439,
          4.700480365792417,
          4.564348191467836,
          4.672828834461906,
          3.970291913552122,
          4.060443010546419,
          4.330733340286331,
          4.6443908991413725,
          4.330733340286331,
          4.867534450455582,
          4.499809670330265,
          4.2626798770413155,
          4.553876891600541,
          4.0943445622221,
          4.406719247264253,
          4.31748811353631,
          4.30406509320417,
          3.8918202981106265,
          4.02535169073515,
          3.7376696182833684,
          4.382026634673881,
          4.465908118654584,
          4.219507705176107,
          4.3694478524670215,
          4.189654742026425,
          4.174387269895637,
          4.406719247264253,
          4.0943445622221,
          4.2626798770413155,
          4.0943445622221,
          4.418840607796598,
          4.51085950651685,
          4.30406509320417,
          5.117993812416755,
          4.418840607796598,
          3.912023005428146,
          4.290459441148391,
          4.219507705176107,
          4.68213122712422,
          4.820281565605037,
          3.912023005428146,
          4.174387269895637,
          4.0943445622221,
          3.4965075614664802,
          5.298317366548036,
          4.867534450455582,
          4.465908118654584,
          3.8501476017100584,
          4.663439094112067,
          4.382026634673881,
          5.030437921392435,
          4.276666119016055,
          3.9889840465642745,
          4.418840607796598,
          4.672828834461906,
          4.7535901911063645,
          4.248495242049359,
          4.248495242049359,
          4.465908118654584,
          4.248495242049359,
          3.4965075614664802,
          3.6635616461296463,
          4.356708826689592,
          4.836281906951478,
          3.8918202981106265,
          4.1588830833596715,
          4.836281906951478,
          4.23410650459726,
          4.07753744390572,
          4.454347296253507,
          4.454347296253507,
          3.5263605246161616,
          4.442651256490317,
          4.1588830833596715,
          3.8501476017100584,
          3.9318256327243257,
          3.713572066704308,
          4.2626798770413155,
          4.6443908991413725,
          4.290459441148391,
          4.727387818712341,
          4.382026634673881,
          4.248495242049359,
          3.6888794541139363,
          2.8903717578961645,
          5.049856007249537,
          3.8918202981106265,
          3.9889840465642745,
          4.189654742026425,
          3.1780538303479458,
          3.8918202981106265
         ],
         "yaxis": "y"
        },
        {
         "boxpoints": "all",
         "customdata": [
          [
           "Get the Bozack",
           "EPMD"
          ],
          [
           "Colorblind World",
           "Boogie Boys"
          ],
          [
           "Hit Man",
           "Spoonie Gee"
          ],
          [
           "Gangster Boogie",
           "Schoolly D"
          ],
          [
           "Loadsamoney Doin Up the House",
           "Harry Enfield"
          ],
          [
           "Independent Woman",
           "Roxanne Shant"
          ],
          [
           "Ego Trippin MCs Ultra Remix",
           "Ultramagnetic MC's"
          ],
          [
           "Kuff",
           "Shelly Thunder"
          ],
          [
           "Do The Kid N Play Kick Step",
           "Kid 'n Play"
          ],
          [
           "Gotta Rock",
           "Treacherous Three"
          ],
          [
           "Ventriloquist Rap",
           "Willie Brown & Woodie"
          ],
          [
           "M16",
           "The Lone Ranger"
          ],
          [
           "Caveman Rock",
           "Junior Gee"
          ],
          [
           "You Dont Know Me As No Rum Drinker Live",
           "Junior Brammer"
          ],
          [
           "Tibetan Jam",
           "Chris \"The Glove\" Taylor"
          ]
         ],
         "hovertemplate": "title: %{customdata[0]}<br>artist: %{customdata[1]}<br>log(words): %{y}",
         "name": "rap",
         "type": "box",
         "xaxis": "x",
         "y": [
          5.961005339623274,
          5.583496308781699,
          5.393627546352362,
          5.342334251964811,
          5.043425116919247,
          5.730099782973574,
          5.351858133476067,
          5.308267697401205,
          5.043425116919247,
          5.918893854273146,
          5.262690188904886,
          4.912654885736052,
          4.844187086458591,
          5.111987788356544,
          5.081404364984463
         ],
         "yaxis": "y"
        },
        {
         "boxpoints": "all",
         "customdata": [
          [
           "Haunt Me",
           "Sade"
          ],
          [
           "Deep River Woman",
           "Lionel Richie"
          ],
          [
           "Boats Against the Current",
           "Patti LaBelle"
          ],
          [
           "Boogie Down",
           "Al Jarreau"
          ],
          [
           "No Pain No Gain",
           "Betty Wright"
          ],
          [
           "In the Mix",
           "Roger Troutman"
          ],
          [
           "Genie",
           "The B.B. & Q. Band"
          ],
          [
           "Testify",
           "Peter Tosh"
          ],
          [
           "Sittin In The Park",
           "Bobby Thurston"
          ],
          [
           "You Me and He",
           "Mtume"
          ],
          [
           "Why Do Fools Fall in Love?",
           "Diana Ross"
          ],
          [
           "You Get the Best From Me Say Say Say",
           "Alicia Myers"
          ],
          [
           "Ready for Love",
           "Rebbie Jackson"
          ],
          [
           "Nights Of Pleasure",
           "Loose Ends"
          ],
          [
           "Send It To Me",
           "Gladys Knight & The Pips"
          ],
          [
           "Come On In This House",
           "Magic Sam"
          ],
          [
           "Papas Got A Brand New Bag Live In Tokyo Japan/1979",
           "James Brown"
          ],
          [
           "Off The Wall 7 Remix",
           "Michael Jackson"
          ],
          [
           "A Good Man",
           "Sue Ann Carwell"
          ],
          [
           "Medley: Mess On Your Hands/Finger Rap/Mess On Your Hands Reprise/Finger Rap Reprise",
           "Millie Jackson"
          ],
          [
           "Rock Yo World",
           "Taka Boom"
          ],
          [
           "Love Fever 12 Version",
           "Gayle Adams"
          ],
          [
           "Ive Got The Rhythm Youve Got The Blues",
           "Eloise Laws"
          ]
         ],
         "hovertemplate": "title: %{customdata[0]}<br>artist: %{customdata[1]}<br>log(words): %{y}",
         "name": "rb",
         "type": "box",
         "xaxis": "x",
         "y": [
          3.828641396489095,
          4.418840607796598,
          4.499809670330265,
          4.04305126783455,
          5.209486152841421,
          4.7535901911063645,
          4.2626798770413155,
          4.430816798843313,
          4.406719247264253,
          4.30406509320417,
          3.912023005428146,
          4.248495242049359,
          4.31748811353631,
          4.6443908991413725,
          4.454347296253507,
          4.7535901911063645,
          4.51085950651685,
          4.663439094112067,
          4.77912349311153,
          5.60947179518496,
          4.465908118654584,
          4.5217885770490405,
          4.672828834461906
         ],
         "yaxis": "y"
        },
        {
         "boxpoints": "all",
         "customdata": [
          [
           "What It Takes",
           "Aerosmith"
          ],
          [
           "Freedom for My People",
           "U2"
          ],
          [
           "Thats When I Reach for My Revolver",
           "Mission of Burma"
          ],
          [
           "Im Free Heaven Helps The Man",
           "Kenny Loggins"
          ],
          [
           "New Doo Review",
           "Parliament"
          ],
          [
           "Soft as Snow But Warm Inside",
           "my bloody valentine"
          ],
          [
           "Embassy Lament",
           "Benny Andersson"
          ],
          [
           "Send It to Me",
           "The Rolling Stones"
          ],
          [
           "Stealing Peoples Mail",
           "Dead Kennedys"
          ],
          [
           "Let Them All Talk",
           "Elvis Costello"
          ],
          [
           "Zombie Eaters",
           "Faith No More"
          ],
          [
           "Jeannie Needs a Shooter",
           "Warren Zevon"
          ],
          [
           "Look Away",
           "Chicago"
          ],
          [
           "Dissident Aggressor",
           "Slayer"
          ],
          [
           "Its Money That Matters",
           "Randy Newman"
          ],
          [
           "As I Went Out One Morning Damsel",
           "Tribe After Tribe"
          ],
          [
           "Thin Line",
           "Dag Nasty"
          ],
          [
           "Crusader",
           "Saxon"
          ],
          [
           "Crystal Wrists",
           "Peter Murphy"
          ],
          [
           "Hard Day",
           "George Michael"
          ],
          [
           "Jeopardy",
           "The Sound"
          ],
          [
           "The Unguarded Moment",
           "The Church"
          ],
          [
           "Betty Lous Got a New Pair of Shoes",
           "Neil Young"
          ],
          [
           "Its Hard to Be a Saint in the City",
           "David Bowie"
          ],
          [
           "After the War",
           "Asia"
          ],
          [
           "Home Street Home",
           "King Kobra"
          ],
          [
           "Equalized",
           "Jawbreaker"
          ],
          [
           "Eye of the Chicken",
           "Butthole Surfers"
          ],
          [
           "Silly Girl",
           "Television Personalities"
          ],
          [
           "Valentine",
           "The Sisters of Mercy"
          ],
          [
           "Later That Same Evening",
           "Jethro Tull"
          ],
          [
           "Get Started. Start a Fire",
           "Graham Parker"
          ],
          [
           "Black Machine",
           "Cirith Ungol"
          ],
          [
           "This Is Not an Exercise",
           "Voivod"
          ],
          [
           "Human Disease S.K.U.M.M.",
           "Skinny Puppy"
          ],
          [
           "All Over the World",
           "Spy Vs Spy"
          ],
          [
           "Clear Windowpane",
           "Saint Vitus"
          ],
          [
           "Cold Canyon",
           "Violent Femmes"
          ],
          [
           "Shake You Donkey Up",
           "XTC"
          ],
          [
           "Reborn Through Hate",
           "Coroner"
          ],
          [
           "Mourners Parade",
           "Jerusalem"
          ],
          [
           "Eve of Destruction",
           "Johnny Thunders"
          ],
          [
           "Off with Your Head",
           "Num Skull (band)"
          ],
          [
           "Ruby Tuesday",
           "Nazareth"
          ],
          [
           "Forged in Fire",
           "Anvil"
          ],
          [
           "The Hero",
           "Queen"
          ],
          [
           "Necropolis",
           "Manilla Road"
          ],
          [
           "Commandments",
           "Pestilence"
          ],
          [
           "The Stolen Child",
           "The Waterboys"
          ],
          [
           "Straighten The Rug",
           "Val Kilmer"
          ],
          [
           "19th Nervous Breakdown",
           "Jason & The Scorchers"
          ],
          [
           "Vasco Da Gama",
           "Felt (UK Band)"
          ],
          [
           "Electric Chair",
           "Chrome (Band)"
          ],
          [
           "This Song",
           "Daniel Johnston"
          ],
          [
           "Like Knives",
           "Breathless"
          ],
          [
           "Monkey Talk",
           "Breathless"
          ],
          [
           "Left Up  Down",
           "Children Of The Anachronistic Dynasty"
          ],
          [
           "Except One",
           "Brygada Kryzys"
          ],
          [
           "No Life till Madness",
           "Attomica"
          ],
          [
           "In Heaven Lady in the Radiator Song Live",
           "Pixies"
          ],
          [
           "Im Sick of You",
           "Goodbye Mr. Mackenzie"
          ],
          [
           "Acid Rain",
           "Timbuk 3"
          ],
          [
           "Just Another Funeral",
           "This Kind of Punishment"
          ],
          [
           "Get Ready Boy",
           "Shooting Star"
          ],
          [
           "Ghost Rider",
           "Paul Haig"
          ],
          [
           "Caravan",
           "Kitaro"
          ],
          [
           "Some of My Old Friends",
           "Joey Scarbury"
          ],
          [
           "Taximan",
           "Evoid"
          ],
          [
           "Shove It Metropolix Remix",
           "The Cross"
          ],
          [
           "Come Again Urgh A Music War",
           "Au Pairs"
          ],
          [
           "Cops for Fertilizer",
           "Crucifucks"
          ],
          [
           "Sign of the Times",
           "Climax Blues Band"
          ],
          [
           "Take Me To The River The Name of This Band is Talking Heads",
           "Talking Heads"
          ],
          [
           "Pittsburgh to Lebanon Live",
           "Butthole Surfers"
          ],
          [
           "We Need Love",
           "Novo Combo"
          ],
          [
           "You Got Me Crazy",
           "Paganini"
          ],
          [
           "Railroad Alley",
           "Reckless (US)"
          ],
          [
           "Better Day",
           "Moby Grape"
          ],
          [
           "On the Dime",
           "Moby Grape"
          ],
          [
           "Aint It Just Like Love",
           "Billy Burnette"
          ],
          [
           "Im Gonna Go Fly Away",
           "David and the Giants"
          ],
          [
           "Forward To Africa",
           "Culture"
          ],
          [
           "Citadel",
           "Elektrini Orgazam"
          ],
          [
           "Lady Liberty",
           "Orleans"
          ],
          [
           "Give Me the Works",
           "Mark Farner"
          ],
          [
           "Twilights Last Gleaming",
           "Mojo Nixon"
          ],
          [
           "Its up to Me and You",
           "Agent Orange"
          ],
          [
           "Planet Ride",
           "Julian Cope"
          ],
          [
           "Im Falling Showtime",
           "The J. Geils Band"
          ],
          [
           "Ill Do You Right",
           "Ian Thomas (CA)"
          ],
          [
           "Together in the Fall",
           "Asylum Party"
          ],
          [
           "Spank Your Kids",
           "Pink Lincolns"
          ],
          [
           "Hades Deep",
           "Dave Brock"
          ],
          [
           "Scenes From an Occasional Window",
           "Goanna"
          ],
          [
           "The Coventry Carol",
           "Maddy Prior And The Carnival Band"
          ],
          [
           "3astards 0f Young",
           "The Replacements"
          ],
          [
           "Love Is the Glory",
           "Brian Spence"
          ],
          [
           "United Well Be One",
           "OverDose"
          ],
          [
           "Cant Break My... Without You",
           "DOOM (JPN)"
          ],
          [
           "No Room For You",
           "Demob"
          ],
          [
           "German Nun",
           "Sex Gang Children"
          ],
          [
           "The Flight of the Scajaquada",
           "Green Jell"
          ],
          [
           "Hellzarockin",
           "Paul Sabu"
          ],
          [
           "Promises",
           "Marine Girls"
          ],
          [
           "3",
           "A Murder Of Crows"
          ],
          [
           "Femme Fatale Live - Tokyo",
           "Nico"
          ],
          [
           "Cant You See",
           "Eikichi Yazawa"
          ],
          [
           "Poppy Dance",
           "The Original Placebo"
          ],
          [
           "Automatic Girls",
           "Shark Island"
          ],
          [
           "Slow  Boat",
           "Kevin McDermott Orchestra"
          ],
          [
           "Dirty Fingers",
           "Tom DeLuca"
          ]
         ],
         "hovertemplate": "title: %{customdata[0]}<br>artist: %{customdata[1]}<br>log(words): %{y}",
         "name": "rock",
         "type": "box",
         "xaxis": "x",
         "y": [
          4.875197323201151,
          2.1972245773362196,
          4.454347296253507,
          4.356708826689592,
          4.709530201312334,
          4.477336814478207,
          4.969813299576001,
          4.624972813284271,
          4.59511985013459,
          4.382026634673881,
          4.6913478822291435,
          4.624972813284271,
          4.59511985013459,
          3.8066624897703196,
          4.795790545596741,
          4.51085950651685,
          4.189654742026425,
          4.68213122712422,
          4.787491742782046,
          4.6443908991413725,
          3.912023005428146,
          3.970291913552122,
          4.219507705176107,
          5.10594547390058,
          4.634728988229636,
          4.90527477843843,
          4.454347296253507,
          3.7612001156935624,
          3.7612001156935624,
          4.1588830833596715,
          4.700480365792417,
          4.624972813284271,
          3.970291913552122,
          4.867534450455582,
          4.795790545596741,
          3.367295829986474,
          3.9512437185814275,
          4.976733742420574,
          4.276666119016055,
          4.356708826689592,
          4.77912349311153,
          4.330733340286331,
          4.394449154672439,
          4.442651256490317,
          4.330733340286331,
          4.23410650459726,
          4.844187086458591,
          4.77912349311153,
          5.003946305945459,
          4.290459441148391,
          4.787491742782046,
          4.290459441148391,
          3.713572066704308,
          3.091042453358316,
          3.6109179126442243,
          4.9344739331306915,
          3.58351893845611,
          3.4339872044851463,
          3.828641396489095,
          2.8903717578961645,
          4.060443010546419,
          4.394449154672439,
          4.30406509320417,
          4.248495242049359,
          3.4339872044851463,
          4.454347296253507,
          4.30406509320417,
          3.9318256327243257,
          4.51085950651685,
          4.762173934797756,
          4.418840607796598,
          4.465908118654584,
          4.3694478524670215,
          3.6888794541139363,
          4.653960350157523,
          4.276666119016055,
          4.060443010546419,
          4.007333185232471,
          4.0943445622221,
          3.970291913552122,
          4.406719247264253,
          5.017279836814924,
          4.1588830833596715,
          4.844187086458591,
          4.23410650459726,
          4.762173934797756,
          4.477336814478207,
          4.499809670330265,
          4.30406509320417,
          4.406719247264253,
          4.02535169073515,
          4.3694478524670215,
          4.1588830833596715,
          4.736198448394496,
          3.970291913552122,
          4.51085950651685,
          4.060443010546419,
          4.30406509320417,
          3.5553480614894135,
          4.430816798843313,
          4.59511985013459,
          4.174387269895637,
          4.290459441148391,
          4.204692619390966,
          5.455321115357702,
          4.23410650459726,
          3.6635616461296463,
          4.174387269895637,
          4.430816798843313,
          4.382026634673881,
          4.394449154672439
         ],
         "yaxis": "y"
        },
        {
         "boxpoints": "all",
         "customdata": [
          [
           "Jingle Bells",
           "Dolly Parton"
          ],
          [
           "Cant Feel at Home",
           "The Carter Family"
          ],
          [
           "True Lies",
           "Sara Evans"
          ],
          [
           "Little Things",
           "Alabama"
          ],
          [
           "Is That Askin Too Much",
           "Diamond Rio"
          ],
          [
           "Wabash Cannonball",
           "Ernest Tubb"
          ],
          [
           "Here in the Real World",
           "Glen Campbell"
          ],
          [
           "Angels We Have Heard on High",
           "Sawyer Brown"
          ],
          [
           "I Thought Id Seen Everything",
           "Diamond Rio"
          ],
          [
           "Kneel at the Feet of Jesus",
           "Willie Nelson & Bobbie Nelson"
          ],
          [
           "Pray Hard",
           "Bruce Carroll"
          ],
          [
           "Mormond Braes / Charles Sutherland",
           "Old Blind Dogs"
          ]
         ],
         "hovertemplate": "title: %{customdata[0]}<br>artist: %{customdata[1]}<br>log(words): %{y}",
         "name": "country",
         "type": "box",
         "xaxis": "x2",
         "y": [
          3.6109179126442243,
          4.543294782270004,
          4.060443010546419,
          4.30406509320417,
          4.897839799950911,
          4.709530201312334,
          4.356708826689592,
          3.9318256327243257,
          4.394449154672439,
          4.04305126783455,
          4.653960350157523,
          4.430816798843313
         ],
         "yaxis": "y2"
        },
        {
         "boxpoints": "all",
         "customdata": [
          [
           "Personal Jesus",
           "Depeche Mode"
          ],
          [
           "2 Bad Refugee Camp Mix",
           "Michael Jackson"
          ],
          [
           "Parades Go By",
           "The Magnetic Fields"
          ],
          [
           "Island Fever",
           "The Beach Boys"
          ],
          [
           "Strange Things Happen",
           "The Beach Boys"
          ],
          [
           "Yellow Sarong",
           "The Scene Is Now"
          ],
          [
           "Intro",
           "Above the Law"
          ],
          [
           "Anger Inc.",
           "Adam Ant"
          ],
          [
           "Love Is All We Need MARK’s Needy Vocal Edit",
           "Mary J. Blige"
          ],
          [
           "Standing In The Darkness",
           "Alias (Band)"
          ],
          [
           "Look Inside",
           "I Against I"
          ],
          [
           "Kill the Police - Destroy the System",
           "GG Allin and ANTiSEEN"
          ],
          [
           "Laurel Lynn",
           "Dave Alvin"
          ],
          [
           "Theres Something Between Us and Hes Changing My Words",
           "His Name Is Alive"
          ],
          [
           "Satisfied",
           "Miss Angie"
          ],
          [
           "My Own Life",
           "Long Beach Dub All-Stars"
          ],
          [
           "Big Ole Head",
           "Ugly Americans"
          ],
          [
           "Concierge",
           "Corky and the Juice Pigs"
          ],
          [
           "Id Rather Have You",
           "Austin Cunningham"
          ],
          [
           "Culture Move",
           "Asian Dub Foundation"
          ],
          [
           "Fall Apart",
           "Avail"
          ],
          [
           "Lost To Eternity",
           "Blackshine"
          ],
          [
           "The Urge for Going",
           "Mary Black"
          ],
          [
           "Euphoria Dejection",
           "Discordance Axis"
          ],
          [
           "Crawdad Song",
           "Big Bill Broonzy"
          ],
          [
           "Window",
           "They Might Be Giants"
          ],
          [
           "Ill Never Fall In Love Again",
           "Elvis Costello"
          ],
          [
           "Moms Song We Think Well Keep You",
           "Mary Kate & Ashley Olsen"
          ],
          [
           "Sorry",
           "Craig's Brother"
          ],
          [
           "Isnt Wasnt Aint",
           "ApologetiX"
          ],
          [
           "I Love Rock and Roll",
           "Ghoti Hook"
          ],
          [
           "Avatar",
           "Shadowbreed"
          ],
          [
           "Does It Pay",
           "China Crisis"
          ],
          [
           "Raggare Is A Bunch Of Motherfuckers",
           "Turbonegro"
          ],
          [
           "Breakin Me",
           "Jonny Lang"
          ],
          [
           "Jellyfishes",
           "Koop"
          ],
          [
           "Chariot Of Power",
           "Mithotyn"
          ],
          [
           "Its Only a Paper Moon",
           "John Pizzarelli"
          ],
          [
           "Sumenemsay",
           "Primitive Reason"
          ],
          [
           "Cry On My Shoulder",
           "Gowan"
          ],
          [
           "Big Head",
           "Spirit Of The West"
          ],
          [
           "Sanctus",
           "Aesma Daeva"
          ],
          [
           "Midnight Christmas Eve",
           "Trans-Siberian Orchestra"
          ],
          [
           "Spite",
           "S.F.A."
          ],
          [
           "London Girls",
           "Stephen Duffy"
          ],
          [
           "Get Together",
           "Jesse Colin Young"
          ],
          [
           "Jehovah Made This Whole Joint for You",
           "New Radicals"
          ],
          [
           "Incantation",
           "Delerium"
          ],
          [
           "Oh Rowan Tree",
           "John McDermott"
          ],
          [
           "Bleeding Shrines of Stone",
           "Liers in Wait"
          ],
          [
           "Or Whatever",
           "The Age Of Electric"
          ],
          [
           "Cradle",
           "Samiam"
          ],
          [
           "Spaceghost The Twins And Blip",
           "SNFU"
          ],
          [
           "About The Sea",
           "The Silencers"
          ],
          [
           "A Principled Man",
           "Hot Pink Turtle"
          ],
          [
           "These Are The Days",
           "The Human League"
          ],
          [
           "Cant Turn Away From Dying",
           "Crowbar"
          ],
          [
           "On The Run",
           "Royal Hunt"
          ],
          [
           "Cavemen In Disguise",
           "Thumb"
          ],
          [
           "Policy of Truth Beat Box",
           "Depeche Mode"
          ],
          [
           "Book Faded Brown",
           "The Band"
          ],
          [
           "The Forlorn",
           "Throne Of Ahaz"
          ],
          [
           "Jesus Is The Answer",
           "Andra Crouch"
          ],
          [
           "Get Off The Phone",
           "Citizen Fish"
          ],
          [
           "Everything in the World",
           "Squeeze"
          ],
          [
           "Some Other Spring",
           "Tony Bennett"
          ],
          [
           "Ripped",
           "Nasum"
          ],
          [
           "Struck Valleys Intact Oceans",
           "Picturesque (Punk Band)"
          ],
          [
           "Anniversary Song",
           "Cowboy Junkies"
          ],
          [
           "In Search Of..",
           "Warzone"
          ],
          [
           "Partners",
           "Eddy Arnold"
          ],
          [
           "Just Like Romeo  Juliet",
           "Scott Kempner"
          ],
          [
           "Everything You Do",
           "Monifah"
          ],
          [
           "Lovesick You Dont Know",
           "Siam Shade"
          ],
          [
           "When I Find Love",
           "Xyz (Band)"
          ],
          [
           "Happy",
           "Dynamite Boy"
          ],
          [
           "Lets Get Together",
           "MMC"
          ],
          [
           "Big Mistake",
           "Chainsuck"
          ],
          [
           "Stand Tall",
           "Skatenigs"
          ],
          [
           "Shes Lazy",
           "Sinad Lohan"
          ],
          [
           "Say It Aint So Joe",
           "The Hollies"
          ],
          [
           "The Process",
           "Saint Etienne"
          ],
          [
           "High Command",
           "Stefan Andersson"
          ],
          [
           "Mr. Charisma",
           "Frenzal Rhomb"
          ],
          [
           "Dark Secrets Look for Light",
           "Piano Magic"
          ],
          [
           "Star Girl",
           "Nina Hagen"
          ],
          [
           "One Of You",
           "The Bottle Rockets"
          ],
          [
           "Watch The Girl Destroy Me",
           "Possum Dixon"
          ],
          [
           "Vision",
           "Funker Vogt"
          ],
          [
           "Lost Evidence",
           "Love Like Blood"
          ],
          [
           "Tormentor",
           "Guillotine"
          ],
          [
           "High School Heroics",
           "BELVEDERE (Band)"
          ],
          [
           "Bridge Over Troubled Water",
           "Paul Mauriat"
          ],
          [
           "Liberation",
           "Moist"
          ],
          [
           "The World",
           "Loudon Wainwright III"
          ],
          [
           "Missing The Last Train",
           "Everon"
          ],
          [
           "Private Ruth",
           "Cotton Mather"
          ],
          [
           "The Ghost By The Sea",
           "Chavez"
          ],
          [
           "Spring in Manhattan",
           "Mark Whitfield"
          ],
          [
           "The Only Piece That You Get",
           "Superchunk"
          ],
          [
           "Fight The Youth",
           "Fishbone"
          ],
          [
           "Machine Of Menace",
           "Salad"
          ],
          [
           "Whos To Blame?",
           "The Bollweevils"
          ],
          [
           "Together Were Stronger",
           "59 Times The Pain"
          ],
          [
           "Touch Of Hate",
           "Afterworld"
          ],
          [
           "Ricochet",
           "Cutting Crew"
          ],
          [
           "Practice in Blue",
           "Hot Water Music"
          ],
          [
           "How Do You Get From Here To There?",
           "Sesame Street"
          ],
          [
           "Bleed",
           "Edge of Sanity"
          ],
          [
           "The Leper",
           "The Connells"
          ],
          [
           "If You Could Read My Mind",
           "Michael Ball"
          ],
          [
           "I Dream Of Jeannie",
           "Stina Nordenstam"
          ],
          [
           "Its Not Funny Anymore",
           "Babybird"
          ],
          [
           "I Know Everything About You",
           "The Kry"
          ],
          [
           "Brainspiller",
           "One Minute Silence"
          ],
          [
           "Betweemus",
           "Lambchop"
          ],
          [
           "What Is Love 12 Mix",
           "Haddaway"
          ],
          [
           "Drug Life",
           "Glue Gun"
          ],
          [
           "Colourblind",
           "Skin"
          ],
          [
           "Fuse",
           "The Swarm"
          ],
          [
           "Hey Hey Hey",
           "Saigon Kick"
          ],
          [
           "Build My World Around You",
           "Sandi Patty"
          ],
          [
           "The Voice Of The Young",
           "Joy Electric"
          ],
          [
           "Agents Got No Secret",
           "Dada"
          ],
          [
           "Your Love is Incredible",
           "SisQ"
          ],
          [
           "Too Much Thinking",
           "MxPx"
          ],
          [
           "Youre Gonna Love Me One Day",
           "Heather Myles"
          ],
          [
           "Beautiful",
           "Mandalay"
          ],
          [
           "Wish",
           "Project Pitchfork"
          ],
          [
           "Lovin Aint So Easy",
           "Velvet Chain"
          ],
          [
           "Suppose",
           "Todd Thibaud"
          ],
          [
           "Razors Edge",
           "Gary Chapman"
          ],
          [
           "Stuck on Amber",
           "The Boo Radleys"
          ],
          [
           "Afterlife",
           "Today Is the Day"
          ],
          [
           "What Do You Want To Be",
           "Slash's Snakepit"
          ],
          [
           "Ever-Opening Flower demo",
           "At the Gates"
          ],
          [
           "2nd Floor",
           "The Creatures"
          ],
          [
           "In Your Hand",
           "Stiff Little Fingers"
          ],
          [
           "Conjure Me",
           "The Afghan Whigs"
          ],
          [
           "Fools Gold",
           "RainMakers"
          ],
          [
           "Stay Theres Nowhere Else",
           "Trespassers William"
          ],
          [
           "The End Of The Beginning",
           "The Darling Buds"
          ],
          [
           "Bananaphone",
           "Raffi"
          ],
          [
           "Tae the Battle",
           "The Real McKenzies"
          ],
          [
           "Roses  Rings",
           "The Quireboys"
          ],
          [
           "Sophisticated Vampires",
           "The 3rd And The Mortal"
          ],
          [
           "A Career In Indierock",
           "Turbonegro"
          ],
          [
           "DJ Seduces Sonny",
           "The New Power Generation"
          ],
          [
           "My Tears Come Falling Down Like Rain",
           "The Specials"
          ],
          [
           "Of Scarlet Skies Made",
           "Throes Of Dawn"
          ],
          [
           "Another Gear Uncaught",
           "Sarge"
          ],
          [
           "The Sound of Secret Minds",
           "Hi-Standard"
          ],
          [
           "Little Things",
           "Sister Hazel"
          ],
          [
           "Dancin’ Around The Kitchen",
           "The Fables"
          ],
          [
           "Long Time Gone",
           "MDC"
          ],
          [
           "The Killing Kind",
           "Gehenna"
          ],
          [
           "Better Days Ahead",
           "98 Mute"
          ],
          [
           "Its All Over",
           "Reckless Kelly"
          ],
          [
           "4 Seasons",
           "Violent Femmes"
          ],
          [
           "Stymied",
           "Buffalo Tom"
          ],
          [
           "Take It Back",
           "Intensity"
          ],
          [
           "Superstar",
           "For Squirrels"
          ],
          [
           "If You Walk Away",
           "Peter Cox"
          ],
          [
           "Since Youve Been Gone",
           "Clyde McPhatter"
          ],
          [
           "Alive And Well",
           "Phantom"
          ],
          [
           "Late Night Antics",
           "The Baby Namboos"
          ],
          [
           "Strip",
           "Dirty Rotten Scoundrels"
          ],
          [
           "How Happy Do You Want To Be?",
           "Furnaceface"
          ],
          [
           "Smiling Down",
           "Jump, Little Children"
          ],
          [
           "Hit Squad",
           "T-Ride"
          ],
          [
           "Metal Inc.",
           "Not Available (Band)"
          ],
          [
           "Money Money Money",
           "Charisma (Band)"
          ],
          [
           "Fleshmachine",
           "Oneiroid Psychosis"
          ],
          [
           "Things We Said Today",
           "Larry Carlton"
          ],
          [
           "It Means A Lot To Me Single Edit",
           "Perfidious Words"
          ],
          [
           "Monster Of The Earth",
           "Metalucifer"
          ],
          [
           "Whats She Doing With You",
           "Moon Martin"
          ],
          [
           "Hindsight",
           "Headstones"
          ],
          [
           "Brent Black",
           "moe."
          ],
          [
           "Bicycle",
           "The Watchmen"
          ],
          [
           "Dead Man",
           "Jerusalem Slim"
          ],
          [
           "My Best Friend",
           "Seventh Day Slumber"
          ],
          [
           "Born Annoying 1993",
           "Helmet"
          ],
          [
           "Scum Bag",
           "Frank Zappa"
          ],
          [
           "Awake",
           "Graveworm"
          ],
          [
           "Multi-Coloured Curtains",
           "The Llama Farmers"
          ],
          [
           "You Gotta Sin To Get Saved",
           "Maria McKee"
          ],
          [
           "Final Withering",
           "Left Hand Solution"
          ],
          [
           "What A Wonderful World",
           "Lionel Hampton"
          ],
          [
           "Garden of Pain",
           "Stormwitch"
          ],
          [
           "Last Night I Saved an Angel",
           "Nekromantix"
          ],
          [
           "Slow Motion",
           "The Outfield"
          ],
          [
           "Second Wind",
           "Todd Rundgren"
          ],
          [
           "All About Numbers",
           "Louise Hoffsten"
          ],
          [
           "Another Flavour",
           "The Sundays"
          ],
          [
           "Eddies Dance",
           "Mystery Slang"
          ],
          [
           "Gigi Pirate",
           "Burning Heads"
          ],
          [
           "Calm Blinking",
           "Thy Serpent"
          ],
          [
           "Gods Song",
           "John Martyn"
          ],
          [
           "Bowling in the Hills",
           "Eddie From Ohio"
          ],
          [
           "Violated",
           "Malevolent Creation"
          ],
          [
           "Its a M.A.N.S. World",
           "Blood Duster"
          ],
          [
           "Snickers",
           "Skarhead"
          ],
          [
           "Take Ten",
           "Tattle Tale"
          ],
          [
           "Toast to the Unappreciated",
           "Abby Travis"
          ],
          [
           "The Slacks",
           "Trip Shakespeare"
          ],
          [
           "Super Breakdown",
           "Sprung Monkey"
          ],
          [
           "The Workplace",
           "Jim O'Rourke"
          ],
          [
           "My Wubba Dolly",
           "Ella Fitzgerald"
          ],
          [
           "Resistance",
           "Overthrow"
          ],
          [
           "Close Your Eyes",
           "Kristin Hersh"
          ],
          [
           "Need",
           "Cindy Morgan"
          ],
          [
           "Pray For Rain",
           "PFR"
          ],
          [
           "Addiction",
           "Collapsed System"
          ],
          [
           "Rick Sims",
           "Wesley Willis"
          ],
          [
           "Little Child",
           "Des'ree"
          ],
          [
           "Warning Shot",
           "Status Quo"
          ],
          [
           "Lets Talk About Me",
           "Nelson"
          ],
          [
           "Carousel",
           "Doug Supernaw"
          ],
          [
           "Toxic Angel",
           "Joseph Arthur"
          ],
          [
           "Diet Mothers",
           "No-Man"
          ],
          [
           "Tighten Up",
           "Taylor Hicks"
          ],
          [
           "Deal With It",
           "Lunachicks"
          ],
          [
           "Skoal: The Grundy County Spitting Incident",
           "Cledus T. Judd"
          ],
          [
           "Good Buy",
           "Ratcat"
          ],
          [
           "Loud Music",
           "Webb Wilder"
          ],
          [
           "Paul and Silas",
           "The Stanley Brothers"
          ],
          [
           "Let It Be Me",
           "Julio Iglesias"
          ],
          [
           "Everydays A Holiday",
           "Mel Torm"
          ],
          [
           "Deliver Me",
           "One King Down"
          ],
          [
           "Love Keeps Dragging Me Down",
           "Gene Loves Jezebel"
          ],
          [
           "Every Time You Cry",
           "John Farnham"
          ],
          [
           "Assyrian Empire",
           "Ancient Rites"
          ],
          [
           "Mellow My Mind",
           "Simply Red"
          ],
          [
           "Pieces",
           "Ratcat"
          ],
          [
           "House Of Cards",
           "Twila Paris"
          ],
          [
           "I’m A Lover Not a Fighter",
           "Webb Wilder"
          ],
          [
           "Falling Sky",
           "Martin Zellar"
          ],
          [
           "On My Way Home Single Remix",
           "Enya"
          ],
          [
           "As the End Draws Near Extended Remix",
           "Sarah McLachlan"
          ],
          [
           "Oceans Dj Philip Remix",
           "Milk Inc."
          ],
          [
           "The Fall",
           "Edda Mvek"
          ],
          [
           "Esmeraldas Hollywood",
           "Steve Earle and The Dukes"
          ],
          [
           "Leave It Alone / Club Skit",
           "Andre the Giant"
          ],
          [
           "Sick to Death remix",
           "Atari Teenage Riot"
          ],
          [
           "Gun In A Baggy",
           "Little Lenny"
          ],
          [
           "I Dont Wanna Lose You",
           "Bad Boys Blue"
          ],
          [
           "Heywood Lane",
           "Gorky's Zygotic Mynci"
          ],
          [
           "Twinkle Twinkle Little Star",
           "Tina Malia"
          ],
          [
           "Nobody",
           "Blitzkid"
          ],
          [
           "Pinball Lez",
           "Custard"
          ],
          [
           "Alone Together",
           "The 77s"
          ],
          [
           "Ruby Cool Guy",
           "Don Messick"
          ],
          [
           "Silent Picture Show",
           "Tattle Tale"
          ],
          [
           "Much Too Much",
           "Power of Dreams"
          ],
          [
           "Five Little Ducks",
           "The Wiggles"
          ],
          [
           "Camden Town Rain",
           "Mary Lou Lord"
          ],
          [
           "Kashmir",
           "Jimmy Page & Robert Plant"
          ],
          [
           "Take It Forever",
           "Terry Hall"
          ],
          [
           "Ive Got this Feeling",
           "Angie Davies"
          ],
          [
           "Work Together",
           "The Fabulous Thunderbirds"
          ],
          [
           "Thick As Thieves",
           "Roxx Gang"
          ],
          [
           "Still All Stands Still",
           "Eggstone"
          ],
          [
           "Man of Sorrows",
           "Greg Long"
          ],
          [
           "Expected In Texas",
           "Bobby Valentino (British)"
          ],
          [
           "Tangerine Live",
           "Union (Band)"
          ],
          [
           "The Journey",
           "Annie Herring"
          ],
          [
           "Antabuse",
           "Wesley Willis"
          ],
          [
           "BABE FOLLOW ME",
           "Elena Ferretti"
          ],
          [
           "We Dance the Night Away",
           "Engelbert Humperdinck"
          ],
          [
           "Criminal Boy",
           "Bunnygrunt"
          ],
          [
           "Easter Parade",
           "Steve Goodman"
          ],
          [
           "Say Hey Kid",
           "John Pizzarelli"
          ],
          [
           "Blame It on My Youth",
           "Kenny Rankin"
          ],
          [
           "Hernia Milk  The Milk Queen",
           "Caroliner"
          ],
          [
           "Hope for a Broken Heart",
           "East To West"
          ],
          [
           "When I Need You",
           "Steve Flanigan"
          ],
          [
           "Miracles in the Summertime",
           "Stevie B"
          ],
          [
           "I Cant Get Started",
           "Judy Collins"
          ],
          [
           "Empty",
           "Janis Ian"
          ]
         ],
         "hovertemplate": "title: %{customdata[0]}<br>artist: %{customdata[1]}<br>log(words): %{y}",
         "name": "pop",
         "type": "box",
         "xaxis": "x2",
         "y": [
          3.871201010907891,
          4.90527477843843,
          4.219507705176107,
          4.574710978503383,
          4.394449154672439,
          3.6109179126442243,
          4.941642422609304,
          4.477336814478207,
          5.117993812416755,
          4.2626798770413155,
          4.51085950651685,
          4.394449154672439,
          4.430816798843313,
          4.110873864173311,
          3.912023005428146,
          4.700480365792417,
          4.955827057601261,
          5.247024072160486,
          4.844187086458591,
          5.3706380281276624,
          3.7612001156935624,
          4.02535169073515,
          4.795790545596741,
          3.4657359027997265,
          4.110873864173311,
          3.1780538303479458,
          4.1588830833596715,
          4.59511985013459,
          5.003946305945459,
          4.5217885770490405,
          4.343805421853684,
          3.9512437185814275,
          3.828641396489095,
          3.9318256327243257,
          4.700480365792417,
          2.70805020110221,
          4.143134726391533,
          3.784189633918261,
          4.700480365792417,
          4.465908118654584,
          4.51085950651685,
          4.174387269895637,
          3.7376696182833684,
          4.0943445622221,
          4.418840607796598,
          4.406719247264253,
          5.043425116919247,
          3.784189633918261,
          4.605170185988092,
          4.23410650459726,
          4.1588830833596715,
          4.330733340286331,
          3.784189633918261,
          4.430816798843313,
          4.356708826689592,
          4.6443908991413725,
          3.4657359027997265,
          4.812184355372417,
          5.272999558563747,
          4.356708826689592,
          4.787491742782046,
          4.31748811353631,
          4.248495242049359,
          4.859812404361672,
          4.605170185988092,
          4.189654742026425,
          3.784189633918261,
          4.499809670330265,
          4.820281565605037,
          3.912023005428146,
          4.762173934797756,
          4.394449154672439,
          4.343805421853684,
          5.231108616854587,
          4.290459441148391,
          4.290459441148391,
          4.553876891600541,
          4.3694478524670215,
          4.859812404361672,
          4.465908118654584,
          4.430816798843313,
          3.5553480614894135,
          4.74493212836325,
          4.718498871295094,
          4.454347296253507,
          2.302585092994046,
          4.060443010546419,
          4.30406509320417,
          4.330733340286331,
          4.3694478524670215,
          4.143134726391533,
          4.343805421853684,
          4.290459441148391,
          4.882801922586371,
          4.574710978503383,
          4.77912349311153,
          4.174387269895637,
          4.174387269895637,
          3.8918202981106265,
          3.9318256327243257,
          4.77912349311153,
          3.58351893845611,
          4.04305126783455,
          3.8501476017100584,
          4.189654742026425,
          4.23410650459726,
          3.8501476017100584,
          3.970291913552122,
          4.2626798770413155,
          4.127134385045092,
          4.859812404361672,
          4.454347296253507,
          4.30406509320417,
          4.3694478524670215,
          4.564348191467836,
          3.4011973816621555,
          4.007333185232471,
          3.9318256327243257,
          4.204692619390966,
          4.248495242049359,
          4.700480365792417,
          4.418840607796598,
          4.276666119016055,
          4.499809670330265,
          4.605170185988092,
          4.189654742026425,
          4.07753744390572,
          3.8066624897703196,
          3.784189633918261,
          4.406719247264253,
          4.418840607796598,
          4.543294782270004,
          4.0943445622221,
          4.007333185232471,
          4.624972813284271,
          4.0943445622221,
          3.9512437185814275,
          4.330733340286331,
          4.0943445622221,
          5.14166355650266,
          4.330733340286331,
          4.418840607796598,
          4.564348191467836,
          4.532599493153256,
          4.672828834461906,
          3.367295829986474,
          6.456769655572163,
          4.30406509320417,
          4.7535901911063645,
          4.290459441148391,
          4.343805421853684,
          4.2626798770413155,
          4.330733340286331,
          4.718498871295094,
          5.075173815233827,
          4.0943445622221,
          4.6913478822291435,
          4.174387269895637,
          4.2626798770413155,
          3.7612001156935624,
          3.4657359027997265,
          3.7612001156935624,
          4.61512051684126,
          4.465908118654584,
          4.174387269895637,
          5.247024072160486,
          5.214935757608986,
          4.442651256490317,
          4.663439094112067,
          4.890349128221754,
          4.574710978503383,
          4.477336814478207,
          3.6109179126442243,
          4.189654742026425,
          4.219507705176107,
          4.430816798843313,
          4.418840607796598,
          4.543294782270004,
          4.48863636973214,
          4.477336814478207,
          4.48863636973214,
          4.343805421853684,
          3.5553480614894135,
          4.564348191467836,
          4.454347296253507,
          4.060443010546419,
          4.51085950651685,
          3.7612001156935624,
          4.30406509320417,
          4.48863636973214,
          3.9318256327243257,
          4.23410650459726,
          4.962844630259907,
          4.23410650459726,
          4.356708826689592,
          4.7535901911063645,
          4.406719247264253,
          4.5217885770490405,
          4.875197323201151,
          4.927253685157205,
          3.8066624897703196,
          4.04305126783455,
          4.060443010546419,
          4.3694478524670215,
          4.174387269895637,
          4.787491742782046,
          4.31748811353631,
          2.70805020110221,
          4.31748811353631,
          3.871201010907891,
          4.430816798843313,
          4.406719247264253,
          4.624972813284271,
          4.007333185232471,
          4.04305126783455,
          4.605170185988092,
          4.543294782270004,
          4.564348191467836,
          4.418840607796598,
          4.394449154672439,
          3.9318256327243257,
          4.2626798770413155,
          4.584967478670572,
          5.480638923341991,
          4.418840607796598,
          4.663439094112067,
          3.4011973816621555,
          3.8918202981106265,
          4.543294782270004,
          4.189654742026425,
          4.189654742026425,
          4.418840607796598,
          3.6375861597263857,
          3.871201010907891,
          4.04305126783455,
          4.060443010546419,
          4.3694478524670215,
          4.736198448394496,
          4.04305126783455,
          3.8501476017100584,
          4.189654742026425,
          4.709530201312334,
          4.736198448394496,
          5.605802066295998,
          4.406719247264253,
          4.553876891600541,
          4.1588830833596715,
          3.912023005428146,
          3.8501476017100584,
          4.174387269895637,
          4.204692619390966,
          4.820281565605037,
          3.828641396489095,
          4.3694478524670215,
          3.8501476017100584,
          4.836281906951478,
          4.804021044733257,
          5.1647859739235145,
          4.127134385045092,
          4.0943445622221,
          4.852030263919617,
          4.700480365792417,
          4.543294782270004,
          4.736198448394496,
          4.07753744390572,
          4.499809670330265,
          4.1588830833596715,
          3.8918202981106265,
          4.02535169073515,
          4.219507705176107,
          5.056245805348308,
          3.8066624897703196,
          3.4657359027997265,
          3.9512437185814275,
          4.962844630259907,
          4.356708826689592,
          4.2626798770413155,
          4.718498871295094,
          4.727387818712341,
          4.465908118654584
         ],
         "yaxis": "y2"
        },
        {
         "boxpoints": "all",
         "customdata": [
          [
           "Contents Unda Pressure",
           "Tha Alkaholiks"
          ],
          [
           "Abandon Ship",
           "Busta Rhymes"
          ],
          [
           "40oz. for Breakfast",
           "Blackalicious"
          ],
          [
           "Creepin on Ah Come Up",
           "Bone Thugs-N-Harmony"
          ],
          [
           "Sincerely",
           "Brand Nubian"
          ],
          [
           "Raised in Hell",
           "C-Bo"
          ],
          [
           "Wig Out",
           "Pete Rock & C.L. Smooth"
          ],
          [
           "Black Trump",
           "Smif-N-Wessun"
          ],
          [
           "Game of Life",
           "Smif-N-Wessun"
          ],
          [
           "50 Niggaz Deep",
           "Drunken Master"
          ],
          [
           "Uuhhh",
           "Will Smith"
          ],
          [
           "Tha Holy Terra",
           "Gospel Gangstaz"
          ],
          [
           "Verbal Battle",
           "Jeru the Damaja"
          ],
          [
           "Talk Dirty to the DJs",
           "Mercedes"
          ],
          [
           "Im",
           "Mystikal"
          ],
          [
           "Dolly My Baby Remix",
           "Super Cat"
          ],
          [
           "Get Lifted",
           "Keith Murray"
          ],
          [
           "Live My Life",
           "Murs"
          ],
          [
           "Go Cat Go",
           "Public Enemy"
          ],
          [
           "Hold On To Your Lunch",
           "Sudden Death"
          ],
          [
           "Weed Lacer",
           "Eminem"
          ],
          [
           "Triple Threat",
           "Terror Squad"
          ],
          [
           "Sun Large Promo",
           "Scaramanga"
          ],
          [
           "Intro",
           "Canibus"
          ],
          [
           "Tired Of Being Fucked With",
           "Kilo-G"
          ],
          [
           "781 Redrum",
           "Brotha Lynch Hung"
          ],
          [
           "All I Have",
           "Kanye West"
          ],
          [
           "Perspective Radio",
           "Apani B. Fly Emcee, C-Rayz Walz & Rahsheed"
          ],
          [
           "I Am A Dope Fiend",
           "Jazzie Redd"
          ],
          [
           "Defend the Apache",
           "Beenie Man"
          ],
          [
           "Opening Credits",
           "Ambassadors of Funk"
          ],
          [
           "Praise the Lord Close 1992",
           "Jim McClellan"
          ],
          [
           "Sailin Da South",
           "DJ Screw"
          ],
          [
           "Derelicts Of Dialect SD50 Remix",
           "3rd Bass"
          ],
          [
           "Ninety Degrees a Piece Street",
           "Rok One"
          ],
          [
           "Cube Gets Played",
           "Yo-Yo"
          ],
          [
           "Speak My Language",
           "June Summers"
          ],
          [
           "Ride This Dirty",
           "Swigga"
          ]
         ],
         "hovertemplate": "title: %{customdata[0]}<br>artist: %{customdata[1]}<br>log(words): %{y}",
         "name": "rap",
         "type": "box",
         "xaxis": "x2",
         "y": [
          5.8888779583328805,
          5.953243334287785,
          5.634789603169249,
          5.940171252720432,
          5.537334267018537,
          5.659482215759621,
          5.662960480135946,
          5.82600010738045,
          5.87493073085203,
          5.365976015021851,
          5.796057750765372,
          5.5093883366279774,
          5.855071922202427,
          4.867534450455582,
          5.762051382780177,
          5.529429087511423,
          5.497168225293202,
          5.786897381366708,
          5.176149732573829,
          4.02535169073515,
          5.19295685089021,
          5.739792912179234,
          5.902633333401366,
          4.532599493153256,
          5.351858133476067,
          2.772588722239781,
          5.44673737166631,
          5.765191102784844,
          5.187385805840755,
          5.356586274672012,
          3.258096538021482,
          4.61512051684126,
          5.0106352940962555,
          5.568344503761097,
          6.023447592961033,
          3.713572066704308,
          3.4657359027997265,
          5.75890177387728
         ],
         "yaxis": "y2"
        },
        {
         "boxpoints": "all",
         "customdata": [
          [
           "I Believe I Can Fly",
           "R. Kelly"
          ],
          [
           "Still Would Stand All Time",
           "Prince"
          ],
          [
           "Im in Love",
           "Mary J. Blige"
          ],
          [
           "Im Sorry",
           "Blackstreet"
          ],
          [
           "You Dont Have to Worry",
           "New Edition"
          ],
          [
           "Every Time Jam  Lewis Disco Remix",
           "Janet Jackson"
          ],
          [
           "Say A Prayer For Me",
           "Pebbles"
          ],
          [
           "No More Trouble Out Of Me",
           "Big Maybelle"
          ],
          [
           "Soul From The Abyss",
           "N'Dambi"
          ],
          [
           "Heartbreak Hotel Hex Hector Underdoggz Mix",
           "Whitney Houston"
          ],
          [
           "When I Need Somebody Remix",
           "Ralph Tresvant"
          ],
          [
           "As Full Crew Mix",
           "Mary J. Blige"
          ],
          [
           "Sensitivity Extended Club Version",
           "Ralph Tresvant"
          ]
         ],
         "hovertemplate": "title: %{customdata[0]}<br>artist: %{customdata[1]}<br>log(words): %{y}",
         "name": "rb",
         "type": "box",
         "xaxis": "x2",
         "y": [
          4.330733340286331,
          4.8283137373023015,
          4.143134726391533,
          4.890349128221754,
          5.099866427824199,
          4.189654742026425,
          4.8283137373023015,
          3.9889840465642745,
          4.418840607796598,
          4.584967478670572,
          4.51085950651685,
          4.770684624465665,
          5.087596335232384
         ],
         "yaxis": "y2"
        },
        {
         "boxpoints": "all",
         "customdata": [
          [
           "Beercan",
           "Beck"
          ],
          [
           "Corduroy",
           "Pearl Jam"
          ],
          [
           "Who Was in My Room Last Night?",
           "Butthole Surfers"
          ],
          [
           "Breadline",
           "Megadeth"
          ],
          [
           "Return Trip",
           "Electric Wizard"
          ],
          [
           "Walking in My Shoes",
           "Depeche Mode"
          ],
          [
           "Digits",
           "Jimmy Eat World"
          ],
          [
           "London 1888",
           "Momus"
          ],
          [
           "Morality Is Vanity",
           "Momus"
          ],
          [
           "The Pretty Things Are Going to Hell",
           "David Bowie"
          ],
          [
           "This Is a Lie",
           "The Cure"
          ],
          [
           "Recover Your Soul",
           "Elton John"
          ],
          [
           "Southern Women",
           "Lynyrd Skynyrd"
          ],
          [
           "Are You Still Mad",
           "Alanis Morissette"
          ],
          [
           "NPG Operator 3",
           "Prince"
          ],
          [
           "Jamaica Farewell Song",
           "Chuck Berry"
          ],
          [
           "The Long Division",
           "Elvis Costello & Burt Bacharach"
          ],
          [
           "Holy Grail",
           "Hunters & Collectors"
          ],
          [
           "Sane",
           "Meshuggah"
          ],
          [
           "Anonymous",
           "Sleater-Kinney"
          ],
          [
           "Thine Hour Hast Come",
           "Horde"
          ],
          [
           "Material World Paranoia",
           "Kreator"
          ],
          [
           "Disco Down",
           "Shed Seven"
          ],
          [
           "In Sin",
           "Abigor"
          ],
          [
           "Stone Cold Sober",
           "Andy Taylor"
          ],
          [
           "The Rack",
           "Asphyx"
          ],
          [
           "Alls Quiet On The Eastern Front",
           "Beatnik Termites"
          ],
          [
           "Seeing Daylight",
           "The Mountain Goats"
          ],
          [
           "Spiritual Awakening",
           "Rage"
          ],
          [
           "Consolation Prizefighter",
           "Braid"
          ],
          [
           "Cut Me Up",
           "Headstones"
          ],
          [
           "Yes I Am Too But Who Am I Really?",
           "Team Dresch"
          ],
          [
           "Finetime",
           "Cast"
          ],
          [
           "Jellyfish Reflector",
           "Guided by Voices"
          ],
          [
           "Pure Milk",
           "The Mountain Goats"
          ],
          [
           "Piledriver",
           "Damn Yankees"
          ],
          [
           "Them",
           "The Cranberries"
          ],
          [
           "A Lifes Story",
           "Union 13"
          ],
          [
           "Beautiful People",
           "Supergrass"
          ],
          [
           "Into the Infinity of Thoughts",
           "Emperor"
          ],
          [
           "The Chastising of Renegade",
           "Primus"
          ],
          [
           "Silver",
           "Mineral"
          ],
          [
           "Enter the Depths of Eternal Darkness",
           "Therion"
          ],
          [
           "Here Comes My Baby",
           "Yo La Tengo"
          ],
          [
           "Act of Depression",
           "Underoath"
          ],
          [
           "Wave Of Mutilation Live",
           "Pixies"
          ],
          [
           "92°F The 3rd Degree",
           "Pop Will Eat Itself"
          ],
          [
           "Hospital Song",
           "Ben Folds Five"
          ],
          [
           "Killa Bunnies",
           "Moloko"
          ],
          [
           "Twisterella",
           "Ride"
          ],
          [
           "Choking Tara Creamy Version",
           "Guided by Voices"
          ],
          [
           "I End Me",
           "Despise You"
          ],
          [
           "Angel in My Heart",
           "Mick Jagger"
          ],
          [
           "Carter",
           "crumb (San Francisco)"
          ],
          [
           "Howard Wulkan Wesley Willis Version",
           "AxCx"
          ],
          [
           "Taphead",
           "Talk Talk"
          ],
          [
           "Episode 29",
           "Mushroomhead"
          ],
          [
           "Good Thoughts",
           "John Trudell"
          ],
          [
           "Lonely Is My Name",
           "Hasil Adkins"
          ],
          [
           "Took Out the Trash and Never Came Back",
           "Mojo Nixon"
          ],
          [
           "Father",
           "Thinking Fellers Union Local 282"
          ],
          [
           "There Are No Claims On You",
           "Songs: Ohia"
          ],
          [
           "Nothin 2 Looz",
           "The Giraffes"
          ],
          [
           "Boy Girl demo",
           "U2"
          ],
          [
           "How Many Lies",
           "Wildside (Band)"
          ],
          [
           "Listen to the Quiet One",
           "  (Boris Grebenshchikov)"
          ],
          [
           "Landscaper",
           "Spent"
          ],
          [
           "Dries",
           "Hoover"
          ],
          [
           "Come Together live",
           "Spiritualized"
          ],
          [
           "Rock Star Original Version",
           "Hole"
          ],
          [
           "Youre Probably Wondering Why Im Here Unmitigated Audacity",
           "Frank Zappa"
          ],
          [
           "I Aint Got No Heart Anyway The Wind Blows",
           "Frank Zappa"
          ],
          [
           "Thrilling Life",
           "Precious Metal"
          ],
          [
           "Martins Song / Settled Down Like Rain Live at the Cabaret Metro 2/14/93",
           "The Jayhawks"
          ],
          [
           "L.I.A.S.O.M.",
           "Manfred Mann's Earth Band"
          ],
          [
           "Campbell River Road",
           "Mark Spiro"
          ],
          [
           "Johnny Appleseed",
           "Old Time Relijun"
          ],
          [
           "My Guitar Wants To Kill Your Mama YCDTOSA5",
           "Frank Zappa"
          ],
          [
           "Airport Song Woodstock 99",
           "Guster"
          ],
          [
           "You Should Know",
           "Lionfish"
          ],
          [
           "Cauldron Nebula",
           "Anatomy"
          ],
          [
           "Wake Up Live",
           "Alanis Morissette"
          ],
          [
           "Fuck It",
           "Neck (2)"
          ],
          [
           "The Way It Is",
           "Boris the Sprinkler"
          ],
          [
           "Satan Is Beautiful",
           "Sabbat"
          ],
          [
           "Dont Believe It",
           "Tony Grinder"
          ],
          [
           "Rock And Roll Power",
           "Wesley Willis"
          ],
          [
           "Yup Screw It Up reprise",
           "Boris the Sprinkler"
          ],
          [
           "Ssik",
           "Sow"
          ],
          [
           "Sound System 1988 Energy Demo",
           "Operation Ivy"
          ],
          [
           "People Helping Other People",
           "Barney"
          ],
          [
           "In Love With Danielle Steel",
           "Melys"
          ],
          [
           "For Each Pare of Hornes",
           "Nefandus"
          ],
          [
           "Jenny",
           "The Cretins [MA]"
          ],
          [
           "World Starvation",
           "Fifteen"
          ],
          [
           "Kaleidoscope Eyes",
           "1927"
          ],
          [
           "Snowcone",
           "Sicko"
          ],
          [
           "Dent",
           "Twist (UK)"
          ],
          [
           "Playing in the Band Live at Stanley Theater Jersey City NJ September 27 1972",
           "The Grateful Dead"
          ],
          [
           "Money Talks",
           "Frontrunner"
          ],
          [
           "My Bad Ways",
           "The Cheezie Bitz"
          ],
          [
           "The Road To Babylon",
           "Ordo Equitum Solis"
          ],
          [
           "We Got It All",
           "Estrogen Highs"
          ]
         ],
         "hovertemplate": "title: %{customdata[0]}<br>artist: %{customdata[1]}<br>log(words): %{y}",
         "name": "rock",
         "type": "box",
         "xaxis": "x2",
         "y": [
          5.14166355650266,
          4.804021044733257,
          4.59511985013459,
          4.204692619390966,
          3.9512437185814275,
          4.465908118654584,
          4.8283137373023015,
          5.288267030694535,
          4.955827057601261,
          4.406719247264253,
          4.23410650459726,
          4.382026634673881,
          4.605170185988092,
          4.276666119016055,
          3.4965075614664802,
          4.430816798843313,
          4.564348191467836,
          4.867534450455582,
          4.59511985013459,
          4.189654742026425,
          4.418840607796598,
          4.499809670330265,
          4.543294782270004,
          4.204692619390966,
          4.5217885770490405,
          4.356708826689592,
          4.48863636973214,
          3.970291913552122,
          4.02535169073515,
          4.0943445622221,
          4.2626798770413155,
          4.532599493153256,
          4.356708826689592,
          3.7612001156935624,
          4.382026634673881,
          4.77912349311153,
          3.912023005428146,
          4.499809670330265,
          4.442651256490317,
          4.897839799950911,
          4.454347296253507,
          3.7376696182833684,
          4.174387269895637,
          4.382026634673881,
          5.087596335232384,
          3.58351893845611,
          4.7535901911063645,
          3.4339872044851463,
          4.1588830833596715,
          4.189654742026425,
          4.248495242049359,
          3.4965075614664802,
          4.31748811353631,
          4.30406509320417,
          3.970291913552122,
          3.9318256327243257,
          3.970291913552122,
          4.3694478524670215,
          3.4965075614664802,
          4.605170185988092,
          4.276666119016055,
          3.5263605246161616,
          4.499809670330265,
          4.31748811353631,
          4.174387269895637,
          4.060443010546419,
          4.5217885770490405,
          3.912023005428146,
          3.9889840465642745,
          4.143134726391533,
          4.804021044733257,
          4.356708826689592,
          4.219507705176107,
          5.0238805208462765,
          3.8918202981106265,
          4.634728988229636,
          4.2626798770413155,
          4.204692619390966,
          4.394449154672439,
          3.6109179126442243,
          4.382026634673881,
          4.51085950651685,
          3.8918202981106265,
          3.8066624897703196,
          4.564348191467836,
          4.634728988229636,
          3.828641396489095,
          5.262690188904886,
          4.343805421853684,
          4.532599493153256,
          3.7612001156935624,
          4.430816798843313,
          4.6913478822291435,
          4.406719247264253,
          4.248495242049359,
          4.7535901911063645,
          4.564348191467836,
          3.367295829986474,
          4.543294782270004,
          4.875197323201151,
          4.5217885770490405,
          4.204692619390966,
          4.9344739331306915
         ],
         "yaxis": "y2"
        }
       ],
       "layout": {
        "annotations": [
         {
          "font": {
           "size": 16
          },
          "showarrow": false,
          "text": "1980",
          "x": 0.225,
          "xanchor": "center",
          "xref": "paper",
          "y": 1,
          "yanchor": "bottom",
          "yref": "paper"
         },
         {
          "font": {
           "size": 16
          },
          "showarrow": false,
          "text": "1990",
          "x": 0.775,
          "xanchor": "center",
          "xref": "paper",
          "y": 1,
          "yanchor": "bottom",
          "yref": "paper"
         },
         {
          "font": {
           "size": 16
          },
          "showarrow": false,
          "text": "tags",
          "x": 0.5,
          "xanchor": "center",
          "xref": "paper",
          "y": 0,
          "yanchor": "top",
          "yref": "paper",
          "yshift": -30
         },
         {
          "font": {
           "size": 16
          },
          "showarrow": false,
          "text": "log(unique words)",
          "textangle": -90,
          "x": 0,
          "xanchor": "right",
          "xref": "paper",
          "xshift": -40,
          "y": 0.5,
          "yanchor": "middle",
          "yref": "paper"
         }
        ],
        "template": {
         "data": {
          "bar": [
           {
            "error_x": {
             "color": "#2a3f5f"
            },
            "error_y": {
             "color": "#2a3f5f"
            },
            "marker": {
             "line": {
              "color": "#E5ECF6",
              "width": 0.5
             },
             "pattern": {
              "fillmode": "overlay",
              "size": 10,
              "solidity": 0.2
             }
            },
            "type": "bar"
           }
          ],
          "barpolar": [
           {
            "marker": {
             "line": {
              "color": "#E5ECF6",
              "width": 0.5
             },
             "pattern": {
              "fillmode": "overlay",
              "size": 10,
              "solidity": 0.2
             }
            },
            "type": "barpolar"
           }
          ],
          "carpet": [
           {
            "aaxis": {
             "endlinecolor": "#2a3f5f",
             "gridcolor": "white",
             "linecolor": "white",
             "minorgridcolor": "white",
             "startlinecolor": "#2a3f5f"
            },
            "baxis": {
             "endlinecolor": "#2a3f5f",
             "gridcolor": "white",
             "linecolor": "white",
             "minorgridcolor": "white",
             "startlinecolor": "#2a3f5f"
            },
            "type": "carpet"
           }
          ],
          "choropleth": [
           {
            "colorbar": {
             "outlinewidth": 0,
             "ticks": ""
            },
            "type": "choropleth"
           }
          ],
          "contour": [
           {
            "colorbar": {
             "outlinewidth": 0,
             "ticks": ""
            },
            "colorscale": [
             [
              0,
              "#0d0887"
             ],
             [
              0.1111111111111111,
              "#46039f"
             ],
             [
              0.2222222222222222,
              "#7201a8"
             ],
             [
              0.3333333333333333,
              "#9c179e"
             ],
             [
              0.4444444444444444,
              "#bd3786"
             ],
             [
              0.5555555555555556,
              "#d8576b"
             ],
             [
              0.6666666666666666,
              "#ed7953"
             ],
             [
              0.7777777777777778,
              "#fb9f3a"
             ],
             [
              0.8888888888888888,
              "#fdca26"
             ],
             [
              1,
              "#f0f921"
             ]
            ],
            "type": "contour"
           }
          ],
          "contourcarpet": [
           {
            "colorbar": {
             "outlinewidth": 0,
             "ticks": ""
            },
            "type": "contourcarpet"
           }
          ],
          "heatmap": [
           {
            "colorbar": {
             "outlinewidth": 0,
             "ticks": ""
            },
            "colorscale": [
             [
              0,
              "#0d0887"
             ],
             [
              0.1111111111111111,
              "#46039f"
             ],
             [
              0.2222222222222222,
              "#7201a8"
             ],
             [
              0.3333333333333333,
              "#9c179e"
             ],
             [
              0.4444444444444444,
              "#bd3786"
             ],
             [
              0.5555555555555556,
              "#d8576b"
             ],
             [
              0.6666666666666666,
              "#ed7953"
             ],
             [
              0.7777777777777778,
              "#fb9f3a"
             ],
             [
              0.8888888888888888,
              "#fdca26"
             ],
             [
              1,
              "#f0f921"
             ]
            ],
            "type": "heatmap"
           }
          ],
          "heatmapgl": [
           {
            "colorbar": {
             "outlinewidth": 0,
             "ticks": ""
            },
            "colorscale": [
             [
              0,
              "#0d0887"
             ],
             [
              0.1111111111111111,
              "#46039f"
             ],
             [
              0.2222222222222222,
              "#7201a8"
             ],
             [
              0.3333333333333333,
              "#9c179e"
             ],
             [
              0.4444444444444444,
              "#bd3786"
             ],
             [
              0.5555555555555556,
              "#d8576b"
             ],
             [
              0.6666666666666666,
              "#ed7953"
             ],
             [
              0.7777777777777778,
              "#fb9f3a"
             ],
             [
              0.8888888888888888,
              "#fdca26"
             ],
             [
              1,
              "#f0f921"
             ]
            ],
            "type": "heatmapgl"
           }
          ],
          "histogram": [
           {
            "marker": {
             "pattern": {
              "fillmode": "overlay",
              "size": 10,
              "solidity": 0.2
             }
            },
            "type": "histogram"
           }
          ],
          "histogram2d": [
           {
            "colorbar": {
             "outlinewidth": 0,
             "ticks": ""
            },
            "colorscale": [
             [
              0,
              "#0d0887"
             ],
             [
              0.1111111111111111,
              "#46039f"
             ],
             [
              0.2222222222222222,
              "#7201a8"
             ],
             [
              0.3333333333333333,
              "#9c179e"
             ],
             [
              0.4444444444444444,
              "#bd3786"
             ],
             [
              0.5555555555555556,
              "#d8576b"
             ],
             [
              0.6666666666666666,
              "#ed7953"
             ],
             [
              0.7777777777777778,
              "#fb9f3a"
             ],
             [
              0.8888888888888888,
              "#fdca26"
             ],
             [
              1,
              "#f0f921"
             ]
            ],
            "type": "histogram2d"
           }
          ],
          "histogram2dcontour": [
           {
            "colorbar": {
             "outlinewidth": 0,
             "ticks": ""
            },
            "colorscale": [
             [
              0,
              "#0d0887"
             ],
             [
              0.1111111111111111,
              "#46039f"
             ],
             [
              0.2222222222222222,
              "#7201a8"
             ],
             [
              0.3333333333333333,
              "#9c179e"
             ],
             [
              0.4444444444444444,
              "#bd3786"
             ],
             [
              0.5555555555555556,
              "#d8576b"
             ],
             [
              0.6666666666666666,
              "#ed7953"
             ],
             [
              0.7777777777777778,
              "#fb9f3a"
             ],
             [
              0.8888888888888888,
              "#fdca26"
             ],
             [
              1,
              "#f0f921"
             ]
            ],
            "type": "histogram2dcontour"
           }
          ],
          "mesh3d": [
           {
            "colorbar": {
             "outlinewidth": 0,
             "ticks": ""
            },
            "type": "mesh3d"
           }
          ],
          "parcoords": [
           {
            "line": {
             "colorbar": {
              "outlinewidth": 0,
              "ticks": ""
             }
            },
            "type": "parcoords"
           }
          ],
          "pie": [
           {
            "automargin": true,
            "type": "pie"
           }
          ],
          "scatter": [
           {
            "fillpattern": {
             "fillmode": "overlay",
             "size": 10,
             "solidity": 0.2
            },
            "type": "scatter"
           }
          ],
          "scatter3d": [
           {
            "line": {
             "colorbar": {
              "outlinewidth": 0,
              "ticks": ""
             }
            },
            "marker": {
             "colorbar": {
              "outlinewidth": 0,
              "ticks": ""
             }
            },
            "type": "scatter3d"
           }
          ],
          "scattercarpet": [
           {
            "marker": {
             "colorbar": {
              "outlinewidth": 0,
              "ticks": ""
             }
            },
            "type": "scattercarpet"
           }
          ],
          "scattergeo": [
           {
            "marker": {
             "colorbar": {
              "outlinewidth": 0,
              "ticks": ""
             }
            },
            "type": "scattergeo"
           }
          ],
          "scattergl": [
           {
            "marker": {
             "colorbar": {
              "outlinewidth": 0,
              "ticks": ""
             }
            },
            "type": "scattergl"
           }
          ],
          "scattermapbox": [
           {
            "marker": {
             "colorbar": {
              "outlinewidth": 0,
              "ticks": ""
             }
            },
            "type": "scattermapbox"
           }
          ],
          "scatterpolar": [
           {
            "marker": {
             "colorbar": {
              "outlinewidth": 0,
              "ticks": ""
             }
            },
            "type": "scatterpolar"
           }
          ],
          "scatterpolargl": [
           {
            "marker": {
             "colorbar": {
              "outlinewidth": 0,
              "ticks": ""
             }
            },
            "type": "scatterpolargl"
           }
          ],
          "scatterternary": [
           {
            "marker": {
             "colorbar": {
              "outlinewidth": 0,
              "ticks": ""
             }
            },
            "type": "scatterternary"
           }
          ],
          "surface": [
           {
            "colorbar": {
             "outlinewidth": 0,
             "ticks": ""
            },
            "colorscale": [
             [
              0,
              "#0d0887"
             ],
             [
              0.1111111111111111,
              "#46039f"
             ],
             [
              0.2222222222222222,
              "#7201a8"
             ],
             [
              0.3333333333333333,
              "#9c179e"
             ],
             [
              0.4444444444444444,
              "#bd3786"
             ],
             [
              0.5555555555555556,
              "#d8576b"
             ],
             [
              0.6666666666666666,
              "#ed7953"
             ],
             [
              0.7777777777777778,
              "#fb9f3a"
             ],
             [
              0.8888888888888888,
              "#fdca26"
             ],
             [
              1,
              "#f0f921"
             ]
            ],
            "type": "surface"
           }
          ],
          "table": [
           {
            "cells": {
             "fill": {
              "color": "#EBF0F8"
             },
             "line": {
              "color": "white"
             }
            },
            "header": {
             "fill": {
              "color": "#C8D4E3"
             },
             "line": {
              "color": "white"
             }
            },
            "type": "table"
           }
          ]
         },
         "layout": {
          "annotationdefaults": {
           "arrowcolor": "#2a3f5f",
           "arrowhead": 0,
           "arrowwidth": 1
          },
          "autotypenumbers": "strict",
          "coloraxis": {
           "colorbar": {
            "outlinewidth": 0,
            "ticks": ""
           }
          },
          "colorscale": {
           "diverging": [
            [
             0,
             "#8e0152"
            ],
            [
             0.1,
             "#c51b7d"
            ],
            [
             0.2,
             "#de77ae"
            ],
            [
             0.3,
             "#f1b6da"
            ],
            [
             0.4,
             "#fde0ef"
            ],
            [
             0.5,
             "#f7f7f7"
            ],
            [
             0.6,
             "#e6f5d0"
            ],
            [
             0.7,
             "#b8e186"
            ],
            [
             0.8,
             "#7fbc41"
            ],
            [
             0.9,
             "#4d9221"
            ],
            [
             1,
             "#276419"
            ]
           ],
           "sequential": [
            [
             0,
             "#0d0887"
            ],
            [
             0.1111111111111111,
             "#46039f"
            ],
            [
             0.2222222222222222,
             "#7201a8"
            ],
            [
             0.3333333333333333,
             "#9c179e"
            ],
            [
             0.4444444444444444,
             "#bd3786"
            ],
            [
             0.5555555555555556,
             "#d8576b"
            ],
            [
             0.6666666666666666,
             "#ed7953"
            ],
            [
             0.7777777777777778,
             "#fb9f3a"
            ],
            [
             0.8888888888888888,
             "#fdca26"
            ],
            [
             1,
             "#f0f921"
            ]
           ],
           "sequentialminus": [
            [
             0,
             "#0d0887"
            ],
            [
             0.1111111111111111,
             "#46039f"
            ],
            [
             0.2222222222222222,
             "#7201a8"
            ],
            [
             0.3333333333333333,
             "#9c179e"
            ],
            [
             0.4444444444444444,
             "#bd3786"
            ],
            [
             0.5555555555555556,
             "#d8576b"
            ],
            [
             0.6666666666666666,
             "#ed7953"
            ],
            [
             0.7777777777777778,
             "#fb9f3a"
            ],
            [
             0.8888888888888888,
             "#fdca26"
            ],
            [
             1,
             "#f0f921"
            ]
           ]
          },
          "colorway": [
           "#636efa",
           "#EF553B",
           "#00cc96",
           "#ab63fa",
           "#FFA15A",
           "#19d3f3",
           "#FF6692",
           "#B6E880",
           "#FF97FF",
           "#FECB52"
          ],
          "font": {
           "color": "#2a3f5f"
          },
          "geo": {
           "bgcolor": "white",
           "lakecolor": "white",
           "landcolor": "#E5ECF6",
           "showlakes": true,
           "showland": true,
           "subunitcolor": "white"
          },
          "hoverlabel": {
           "align": "left"
          },
          "hovermode": "closest",
          "mapbox": {
           "style": "light"
          },
          "paper_bgcolor": "white",
          "plot_bgcolor": "#E5ECF6",
          "polar": {
           "angularaxis": {
            "gridcolor": "white",
            "linecolor": "white",
            "ticks": ""
           },
           "bgcolor": "#E5ECF6",
           "radialaxis": {
            "gridcolor": "white",
            "linecolor": "white",
            "ticks": ""
           }
          },
          "scene": {
           "xaxis": {
            "backgroundcolor": "#E5ECF6",
            "gridcolor": "white",
            "gridwidth": 2,
            "linecolor": "white",
            "showbackground": true,
            "ticks": "",
            "zerolinecolor": "white"
           },
           "yaxis": {
            "backgroundcolor": "#E5ECF6",
            "gridcolor": "white",
            "gridwidth": 2,
            "linecolor": "white",
            "showbackground": true,
            "ticks": "",
            "zerolinecolor": "white"
           },
           "zaxis": {
            "backgroundcolor": "#E5ECF6",
            "gridcolor": "white",
            "gridwidth": 2,
            "linecolor": "white",
            "showbackground": true,
            "ticks": "",
            "zerolinecolor": "white"
           }
          },
          "shapedefaults": {
           "line": {
            "color": "#2a3f5f"
           }
          },
          "ternary": {
           "aaxis": {
            "gridcolor": "white",
            "linecolor": "white",
            "ticks": ""
           },
           "baxis": {
            "gridcolor": "white",
            "linecolor": "white",
            "ticks": ""
           },
           "bgcolor": "#E5ECF6",
           "caxis": {
            "gridcolor": "white",
            "linecolor": "white",
            "ticks": ""
           }
          },
          "title": {
           "x": 0.05
          },
          "xaxis": {
           "automargin": true,
           "gridcolor": "white",
           "linecolor": "white",
           "ticks": "",
           "title": {
            "standoff": 15
           },
           "zerolinecolor": "white",
           "zerolinewidth": 2
          },
          "yaxis": {
           "automargin": true,
           "gridcolor": "white",
           "linecolor": "white",
           "ticks": "",
           "title": {
            "standoff": 15
           },
           "zerolinecolor": "white",
           "zerolinewidth": 2
          }
         }
        },
        "xaxis": {
         "anchor": "y",
         "domain": [
          0,
          0.45
         ]
        },
        "xaxis2": {
         "anchor": "y2",
         "domain": [
          0.55,
          1
         ]
        },
        "yaxis": {
         "anchor": "x",
         "domain": [
          0,
          1
         ]
        },
        "yaxis2": {
         "anchor": "x2",
         "domain": [
          0,
          1
         ]
        }
       }
      }
     },
     "metadata": {},
     "output_type": "display_data"
    }
   ],
   "source": [
    "words_decades(df, [1980, 1990])"
   ]
  },
  {
   "cell_type": "code",
   "execution_count": 19,
   "metadata": {},
   "outputs": [
    {
     "data": {
      "application/vnd.plotly.v1+json": {
       "config": {
        "plotlyServerURL": "https://plot.ly"
       },
       "data": [
        {
         "boxpoints": "all",
         "customdata": [
          [
           "Waiting All My Life",
           "Rascal Flatts"
          ],
          [
           "Lost",
           "Aaron Lines"
          ],
          [
           "Play The Song",
           "Joey + Rory"
          ],
          [
           "Light At The River",
           "Russell Moore & IIIrd Tyme Out"
          ],
          [
           "Til Nothing Comes Between Us",
           "John Michael Montgomery"
          ],
          [
           "I Got A Woman",
           "The Goddamn Gallows"
          ]
         ],
         "hovertemplate": "title: %{customdata[0]}<br>artist: %{customdata[1]}<br>log(words): %{y}",
         "name": "country",
         "type": "box",
         "xaxis": "x",
         "y": [
          4.248495242049359,
          4.248495242049359,
          4.30406509320417,
          4.330733340286331,
          4.61512051684126,
          4.204692619390966
         ],
         "yaxis": "y"
        },
        {
         "boxpoints": "all",
         "customdata": [
          [
           "Hey Baby",
           "No Doubt"
          ],
          [
           "Im Not Alone",
           "Calvin Harris"
          ],
          [
           "The Bird and the Worm",
           "Owl City"
          ],
          [
           "I Cant Hear the Music",
           "James Blunt"
          ],
          [
           "A Better Me",
           "Adhesive"
          ],
          [
           "Never Fall Asleep",
           "Evil Activities"
          ],
          [
           "Dead on My Feet",
           "Absynthe Minded"
          ],
          [
           "The Best That Love Can Be",
           "Chris De Burgh"
          ],
          [
           "Everyone Is Guilty",
           "Akron/Family"
          ],
          [
           "High Water Mark",
           "Agregator"
          ],
          [
           "Frozen Hearts",
           "Altaria"
          ],
          [
           "Skritch n Skrill",
           "All Gone Dead"
          ],
          [
           "Singing To Heaven",
           "Alcazar"
          ],
          [
           "Westbound",
           "Allister"
          ],
          [
           "Fragile: Pictures Of Silence: Melting The Skies",
           "And Oceans"
          ],
          [
           "Follow The Chain",
           "Angeldark"
          ],
          [
           "Empire on the Sun",
           "Anders Manga"
          ],
          [
           "I Bring It To You",
           "Jessica Andrews"
          ],
          [
           "Escape From Insanity",
           "Archaios"
          ],
          [
           "The Vineyard",
           "Augie March"
          ],
          [
           "Winos Lullaby",
           "Edwin McCain"
          ],
          [
           "Radio",
           "American Eyes"
          ],
          [
           "Come Thou Fount of Every Blessing",
           "Amy Grant"
          ],
          [
           "On and On",
           "Boy Kill Boy"
          ],
          [
           "At the Crossroads",
           "Solomon Burke"
          ],
          [
           "Trouble",
           "Hazen Street"
          ],
          [
           "The Red Smell",
           "Vreid"
          ],
          [
           "God Gave Me Everything",
           "Mick Jagger"
          ],
          [
           "We Went Thataway",
           "Glenn Tilbrook"
          ],
          [
           "Ill Be Home For Christmas",
           "Justin Guarini"
          ],
          [
           "Scars Are Supposed To Last Forever",
           "Nora (Hardcore)"
          ],
          [
           "Trust",
           "Burning Spear"
          ],
          [
           "Snow",
           "Emilana Torrini"
          ],
          [
           "To Know Her",
           "Cousteau"
          ],
          [
           "Hate It Or Love It",
           "Headhunterz"
          ],
          [
           "Where All Good Sleep",
           "Evergrey"
          ],
          [
           "Shes The Type Of Girl",
           "Socratic"
          ],
          [
           "Knees",
           "Mal Webb"
          ],
          [
           "What Would It Be Like",
           "Salvador"
          ],
          [
           "St Johns Night",
           "Every Move A Picture"
          ],
          [
           "Winter Ghosts",
           "The High Dials"
          ],
          [
           "Woke From Dreaming",
           "The Delgados"
          ],
          [
           "Tiny Hairs",
           "Stephanie Rearick"
          ],
          [
           "Loneliest Girl in the World",
           "Cary Brothers"
          ],
          [
           "I Dont Want to Be a Hustler",
           "Dave Hollister"
          ],
          [
           "Headfucker",
           "Carnal Forge"
          ],
          [
           "My Boyfriends Back",
           "The Raveonettes"
          ],
          [
           "Shovel to Ground",
           "Colour Revolt"
          ],
          [
           "Dream Within a Dream",
           "The Yardbirds"
          ],
          [
           "Rebel Yell",
           "Northern Kings"
          ],
          [
           "Do You Remember",
           "Aaron Carter"
          ],
          [
           "New Scars",
           "Bangs (band)"
          ],
          [
           "Have Yourself A Merry Little Christmas",
           "Jed Madela"
          ],
          [
           "Next Train",
           "Miracle Fortress"
          ],
          [
           "No Smiles on Christmas",
           "Bleed The Dream"
          ],
          [
           "I Dont Want You On My Mind",
           "Mick Harvey"
          ],
          [
           "Wide Open",
           "Cyndi Lauper"
          ],
          [
           "Surrounded by Night",
           "Into Eternity"
          ],
          [
           "Down: Nostalgia and Everything After",
           "The Church"
          ],
          [
           "Mad World",
           "The Red Paintings"
          ],
          [
           "Welcome To The Party",
           "This Ship Will Sink"
          ],
          [
           "Let The Caged Bird Sing",
           "Alabama 3"
          ],
          [
           "Vegas",
           "The Evan Anthem"
          ],
          [
           "The Howling",
           "Thanatos"
          ],
          [
           "For Kristoffer",
           "Money Your Love"
          ],
          [
           "These Should Be The Good Times",
           "Joy Electric"
          ],
          [
           "Get Down",
           "Grits"
          ],
          [
           "One Love",
           "Suede"
          ],
          [
           "Autumn Fallin",
           "Jaymay"
          ],
          [
           "My Open Heart",
           "Pauline Taylor"
          ],
          [
           "Invisible Drugs",
           "The Comas"
          ],
          [
           "Queen Of The Insane",
           "Avian (US)"
          ],
          [
           "From You To Me",
           "Hanagorik"
          ],
          [
           "A Friend Of Mine",
           "Piebald"
          ],
          [
           "Pseudo Personality",
           "Devotchkas"
          ],
          [
           "Note On Bathroom Mirror",
           "Logh"
          ],
          [
           "Emotions Of A Picture",
           "Majestic Vanguard"
          ],
          [
           "Baby Boy",
           "Crystal Skulls"
          ],
          [
           "Anywhere",
           "Beth Orton"
          ],
          [
           "For All I Know",
           "Neon Thrills"
          ],
          [
           "Money In My Pocket Plan B Mix",
           "Simply Red"
          ],
          [
           "Lickin",
           "The Black Crowes"
          ],
          [
           "Breathe",
           "Dust To Dust"
          ],
          [
           "Adirondack Amish Holler",
           "Frontier Ruckus"
          ],
          [
           "Dark Forest",
           "Goldenhorse"
          ],
          [
           "You Are Water",
           "Hayley Westenra"
          ],
          [
           "Atlanta",
           "Red Car Wire"
          ],
          [
           "Kay Slay Skit",
           "Ja Rule"
          ],
          [
           "Fog",
           "Sadist (ITA)"
          ],
          [
           "Journey to the Azores",
           "Timo Tolkki"
          ],
          [
           "Wasted",
           "Goldfinger"
          ],
          [
           "Caravan Girl",
           "Goldfrapp"
          ],
          [
           "Wesley Why?",
           "Matt Wertz"
          ],
          [
           "Goodbye",
           "Matt Caplan"
          ],
          [
           "Marys Eyes",
           "Janis Ian"
          ],
          [
           "Mandatory Sacrifice",
           "Asmodeus X"
          ],
          [
           "Louisianna Coco",
           "The Kentucky Headhunters"
          ],
          [
           "Nobody",
           "The LoveCrave"
          ],
          [
           "Fat Children",
           "Tim Minchin"
          ],
          [
           "The Breeze/My Baby Cries",
           "Bill Callahan"
          ],
          [
           "Take Me Im Yours",
           "Andrea Corr"
          ],
          [
           "Teacher Pain",
           "Lapko"
          ],
          [
           "Jenn Setts",
           "PROlific"
          ],
          [
           "Fearless Vampire Killers",
           "Shai Hulud"
          ],
          [
           "Am I One Am I",
           "Carrier Flux"
          ],
          [
           "Feast For The Hated",
           "Imagika"
          ],
          [
           "Jellyfish",
           "Seid"
          ],
          [
           "Glory of the Shame",
           "Negative (Band)"
          ],
          [
           "Children of the Night",
           "Blutengel"
          ],
          [
           "Power Within",
           "The StoryTeller"
          ],
          [
           "Incoherent Love Songs",
           "P.S. Eliot"
          ],
          [
           "They Gave You a Heart They Gave You a Name",
           "Ladytron"
          ],
          [
           "Dead To The World",
           "JamisonParker"
          ],
          [
           "Grand Démonologue",
           "The misanthrope"
          ],
          [
           "Ascendency",
           "Sympathy"
          ],
          [
           "Insomnia",
           "Josh Woodward"
          ],
          [
           "Telling Lies",
           "Beyond Fear"
          ],
          [
           "The Rain Song",
           "The Bangles"
          ],
          [
           "Another Way to Kill Me",
           "The Vestals"
          ],
          [
           "In The Light Of Darkness",
           "Unanimated"
          ],
          [
           "Heavy On My Mind",
           "Back Door Slam"
          ],
          [
           "I Want To Go Everywhere",
           "Royal City"
          ],
          [
           "Anymore",
           "Simon Collins"
          ],
          [
           "White Dove",
           "Levon Helm"
          ],
          [
           "Lullaby",
           "Dynamite Boy"
          ],
          [
           "You Make Me Feel Brand New",
           "Simply Red"
          ],
          [
           "Be Mine",
           "Fahrenheit"
          ],
          [
           "Greatest Gift",
           "Hillsong London"
          ],
          [
           "Too Lazy To Work Too Nervous To Steal",
           "BR5-49"
          ],
          [
           "Milkmaid",
           "The Blow"
          ],
          [
           "Theres A Bully In The Park",
           "The Morning Of"
          ],
          [
           "I Can’t Play the Songs",
           "David Gates"
          ],
          [
           "Princess Dreams",
           "Lucky 7"
          ],
          [
           "Fool",
           "Endanger"
          ],
          [
           "The Next Time",
           "Momus"
          ],
          [
           "Morning Sun",
           "Lovers Electric"
          ],
          [
           "SOULHEAD is BACK",
           "SOULHEAD"
          ],
          [
           "Im Hurt",
           "Niccokick"
          ],
          [
           "While the Iron Is Hot",
           "Ensign"
          ],
          [
           "Stop Living the Lie",
           "David Sneddon"
          ],
          [
           "Fetus Cock Slap",
           "Preschool Tea Party Massacre"
          ],
          [
           "Baby Lulu",
           "Stereolab"
          ],
          [
           "Consume Me",
           "Tenth Avenue North"
          ],
          [
           "Accelerate or Die",
           "Fear My Thoughts"
          ],
          [
           "Reflections",
           "Peter Bernstein Trio"
          ],
          [
           "Dreamin",
           "Arrows"
          ],
          [
           "Skank  Shout",
           "Skaquadrat"
          ],
          [
           "Dredd Song",
           "The Cure"
          ],
          [
           "Wait For Me",
           "Susan Tedeschi"
          ],
          [
           "Hoochie Coochie Man",
           "Barn Rojo"
          ],
          [
           "Children",
           "Delta Spirit"
          ],
          [
           "Tonight I Awake",
           "Homesick For Space"
          ],
          [
           "Lonely Avenue",
           "The Brian Setzer Orchestra"
          ],
          [
           "Everything You Touch Turns To Gold",
           "Buffseeds"
          ],
          [
           "Bugs",
           "Lambchop"
          ],
          [
           "God Of Infinite Worth",
           "The Kry"
          ],
          [
           "Lay Of The Sunflower",
           "Gov't Mule"
          ],
          [
           "When Love And Hate Collide",
           "Skylark"
          ],
          [
           "Hang On",
           "Fair Warning"
          ],
          [
           "Fifty Five Falls",
           "Marissa Nadler"
          ],
          [
           "Only You",
           "Bratz"
          ],
          [
           "This Is Who You Are",
           "Trans-Siberian Orchestra"
          ],
          [
           "Silent Wonder",
           "Jenna G"
          ],
          [
           "Lets Be Poor Together Live With Johnny Lloyd Rollins",
           "Belafonte"
          ],
          [
           "Backpack-N-Eldorado",
           "Brooks Buford"
          ],
          [
           "Singularity",
           "Headscan"
          ],
          [
           "New Flesh",
           "Grendel"
          ],
          [
           "Impaled",
           "Caedere"
          ],
          [
           "Sing",
           "Mocca"
          ],
          [
           "Calgary",
           "Great Speckled Bird"
          ],
          [
           "Rock And Roll Boy",
           "Jonathan Coulton"
          ],
          [
           "Talking Tinky-Winky Blues",
           "John McCutcheon"
          ],
          [
           "Decay",
           "Phazm"
          ],
          [
           "Out tha Gate",
           "Blaze Ya Dead Homie"
          ],
          [
           "Slay The Dragon",
           "Impellitteri"
          ],
          [
           "Each of Her Silver Wands",
           "The Soft Boys"
          ],
          [
           "I Am A Dancer",
           "The Wiggles"
          ],
          [
           "Warren Oates",
           "Danny & Dusty"
          ],
          [
           "Isaiah 61",
           "Matt Maher"
          ],
          [
           "Let Me Tell You Something",
           "The Azoic"
          ],
          [
           "Piano Song Live London London Astoria UK - 2003/05/05",
           "Erasure"
          ],
          [
           "Love and Guns",
           "Die Trying"
          ],
          [
           "Shadow",
           "BONNIE PINK"
          ],
          [
           "When I See You",
           "Big Daddy Weave"
          ],
          [
           "Satisfy You",
           "Will Downing"
          ],
          [
           "Blue Lake",
           "Disarmonia Mundi"
          ],
          [
           "Gonna Fly Now",
           "Al Hirt"
          ],
          [
           "Waterside",
           "Patty Larkin"
          ],
          [
           "Tides Change",
           "The Hush Sound"
          ],
          [
           "Raptus",
           "Amoral"
          ],
          [
           "Angel and You",
           "The Kennedys"
          ],
          [
           "Weeping Abandoned Spirit",
           "Striborg"
          ],
          [
           "Voyage: Lost Between Horizons: Eaten By The Distance",
           "And Oceans"
          ],
          [
           "World on Fire Junkie XL remix",
           "Sarah McLachlan"
          ],
          [
           "In My Room Wolfpac Remix",
           "Insane Clown Posse"
          ],
          [
           "Toothpick Spliffs remix",
           "MC Chris"
          ],
          [
           "Breakthrough",
           "Hezekiah Walker"
          ],
          [
           "Proud",
           "The Icarus Account"
          ],
          [
           "Life Sucks",
           "No-Cash"
          ],
          [
           "Is Anything Wrong",
           "Lhasa de Sela"
          ],
          [
           "Dutty gun",
           "Clinton Fearon"
          ],
          [
           "Another day",
           "Malene mortensen"
          ],
          [
           "The Cat Crookers Remix",
           "Dusty Kid"
          ],
          [
           "Bolingo Love Is In The Air",
           "La Bouche"
          ],
          [
           "Hotel california",
           "Moonraisers"
          ],
          [
           "Chasing ghosts",
           "Nomy"
          ],
          [
           "Expiration Date",
           "Blockhead"
          ],
          [
           "Chicken",
           "(hed) p.e."
          ],
          [
           "March out",
           "Tony Matterhorn"
          ],
          [
           "Sweet 16",
           "Thunderheist"
          ],
          [
           "Here in My Heart",
           "Tony Bennett"
          ],
          [
           "The One",
           "Courtney Jones"
          ],
          [
           "Impossible to Know",
           "Kelly Condron"
          ],
          [
           "Emerald River Dance",
           "Judee Sill"
          ],
          [
           "Outro Scarface Restaurant Scene",
           "UNKLE"
          ],
          [
           "Hide and Run",
           "Anggun"
          ],
          [
           "Misfortunes are Cruel",
           "Sweet Trip"
          ],
          [
           "Regluing You",
           "The Color Bars"
          ],
          [
           "I Will Give You Life",
           "J.R. Richards"
          ],
          [
           "Only My Pillow Knows",
           "Kathie Lee Gifford"
          ],
          [
           "Cartoons Medley",
           "Cartoons"
          ],
          [
           "This Moment",
           "John Bucchino"
          ],
          [
           "Slowpoke",
           "Cryptkeeper Five"
          ],
          [
           "Virginia Woolf",
           "Ricky Ian Gordon"
          ],
          [
           "Namaste",
           "Bishi"
          ],
          [
           "Mane On Its Lion",
           "Lady Lamb"
          ],
          [
           "Summer Moment",
           "William Hung"
          ],
          [
           "How to Fly",
           "Nickasaur!"
          ],
          [
           "Shes Space Invader",
           "I Hate This Place"
          ],
          [
           "Walking in the Air",
           "Cliff Richard"
          ],
          [
           "Ive Got You Under My Skin",
           "Ray Stevens"
          ],
          [
           "Fear The Lord",
           "Jon Williams"
          ],
          [
           "Propeller Planes",
           "Pet Lions"
          ],
          [
           "Thick And Thin",
           "Hanah"
          ],
          [
           "Hold On",
           "Citizen Way"
          ],
          [
           "81379",
           "Leema Mountain"
          ],
          [
           "God Is Good",
           "Chester D.T. Baldwin"
          ],
          [
           "Frozen",
           "Gene Loves Jezebel"
          ],
          [
           "Disclaimer",
           "Les Freres Corbusier"
          ],
          [
           "Rock Me In Demo",
           "Britney Spears"
          ],
          [
           "Chained to a Memory Live",
           "Jennifer Kimball"
          ]
         ],
         "hovertemplate": "title: %{customdata[0]}<br>artist: %{customdata[1]}<br>log(words): %{y}",
         "name": "pop",
         "type": "box",
         "xaxis": "x",
         "y": [
          4.890349128221754,
          4.23410650459726,
          4.859812404361672,
          4.7535901911063645,
          4.343805421853684,
          3.912023005428146,
          4.532599493153256,
          4.499809670330265,
          3.9889840465642745,
          4.90527477843843,
          4.382026634673881,
          3.6888794541139363,
          4.248495242049359,
          4.5217885770490405,
          3.5263605246161616,
          4.343805421853684,
          3.970291913552122,
          4.204692619390966,
          4.584967478670572,
          5.187385805840755,
          4.624972813284271,
          4.499809670330265,
          4.189654742026425,
          4.0943445622221,
          4.532599493153256,
          4.812184355372417,
          4.2626798770413155,
          4.30406509320417,
          4.736198448394496,
          3.4657359027997265,
          4.31748811353631,
          4.330733340286331,
          4.174387269895637,
          4.189654742026425,
          3.4657359027997265,
          4.219507705176107,
          4.8283137373023015,
          5.236441962829949,
          4.605170185988092,
          3.912023005428146,
          4.204692619390966,
          4.51085950651685,
          4.543294782270004,
          3.713572066704308,
          4.976733742420574,
          4.276666119016055,
          4.68213122712422,
          4.127134385045092,
          4.110873864173311,
          4.68213122712422,
          4.6443908991413725,
          4.276666119016055,
          4.110873864173311,
          4.04305126783455,
          4.442651256490317,
          3.6635616461296463,
          4.499809670330265,
          4.143134726391533,
          4.770684624465665,
          4.499809670330265,
          4.859812404361672,
          4.736198448394496,
          4.07753744390572,
          4.59511985013459,
          3.6635616461296463,
          4.04305126783455,
          5.1647859739235145,
          4.382026634673881,
          4.454347296253507,
          4.02535169073515,
          4.02535169073515,
          4.941642422609304,
          4.189654742026425,
          4.795790545596741,
          4.663439094112067,
          3.713572066704308,
          4.836281906951478,
          4.430816798843313,
          4.418840607796598,
          3.970291913552122,
          4.465908118654584,
          4.634728988229636,
          4.330733340286331,
          5.501258210544727,
          4.219507705176107,
          4.465908118654584,
          4.276666119016055,
          3.4657359027997265,
          4.060443010546419,
          4.820281565605037,
          4.219507705176107,
          4.07753744390572,
          4.31748811353631,
          4.867534450455582,
          4.727387818712341,
          3.828641396489095,
          4.51085950651685,
          4.219507705176107,
          5.552959584921617,
          4.584967478670572,
          4.532599493153256,
          4.605170185988092,
          5.802118375377063,
          3.7612001156935624,
          4.394449154672439,
          4.574710978503383,
          3.4011973816621555,
          4.007333185232471,
          4.143134726391533,
          5.049856007249537,
          4.787491742782046,
          3.6888794541139363,
          4.499809670330265,
          4.882801922586371,
          4.430816798843313,
          4.007333185232471,
          4.02535169073515,
          4.0943445622221,
          3.970291913552122,
          4.418840607796598,
          4.394449154672439,
          3.8918202981106265,
          4.219507705176107,
          4.418840607796598,
          4.04305126783455,
          4.499809670330265,
          4.762173934797756,
          4.060443010546419,
          5.117993812416755,
          4.219507705176107,
          4.204692619390966,
          4.852030263919617,
          4.406719247264253,
          4.406719247264253,
          4.143134726391533,
          4.330733340286331,
          5.393627546352362,
          4.343805421853684,
          4.653960350157523,
          4.727387818712341,
          3.2188758248682006,
          4.204692619390966,
          4.584967478670572,
          4.189654742026425,
          4.330733340286331,
          3.295836866004329,
          4.5217885770490405,
          4.189654742026425,
          4.31748811353631,
          4.442651256490317,
          4.48863636973214,
          4.02535169073515,
          4.543294782270004,
          4.2626798770413155,
          4.736198448394496,
          4.2626798770413155,
          4.890349128221754,
          4.61512051684126,
          4.532599493153256,
          3.9889840465642745,
          4.248495242049359,
          5.017279836814924,
          4.48863636973214,
          4.343805421853684,
          5.402677381872279,
          3.5553480614894135,
          4.127134385045092,
          4.477336814478207,
          3.713572066704308,
          4.07753744390572,
          4.007333185232471,
          5.204006687076795,
          4.143134726391533,
          5.564520407322694,
          4.672828834461906,
          3.828641396489095,
          3.4011973816621555,
          4.454347296253507,
          4.330733340286331,
          4.6443908991413725,
          4.442651256490317,
          4.276666119016055,
          4.248495242049359,
          4.454347296253507,
          4.189654742026425,
          4.990432586778736,
          4.060443010546419,
          3.828641396489095,
          3.713572066704308,
          4.30406509320417,
          4.5217885770490405,
          3.4965075614664802,
          3.8501476017100584,
          4.624972813284271,
          5.44673737166631,
          5.342334251964811,
          4.890349128221754,
          4.718498871295094,
          4.465908118654584,
          4.02535169073515,
          3.8066624897703196,
          4.553876891600541,
          1.6094379124341003,
          4.919980925828125,
          5.187385805840755,
          4.2626798770413155,
          2.8903717578961645,
          5.049856007249537,
          4.804021044733257,
          4.77912349311153,
          3.7612001156935624,
          4.852030263919617,
          4.31748811353631,
          4.31748811353631,
          4.61512051684126,
          4.584967478670572,
          2.833213344056216,
          3.9318256327243257,
          4.060443010546419,
          4.9344739331306915,
          4.189654742026425,
          3.970291913552122,
          3.6375861597263857,
          4.290459441148391,
          3.9318256327243257,
          4.875197323201151,
          3.4965075614664802,
          4.564348191467836,
          4.812184355372417,
          4.382026634673881,
          4.3694478524670215,
          4.634728988229636,
          4.2626798770413155,
          4.430816798843313,
          3.871201010907891,
          4.382026634673881,
          4.174387269895637,
          3.784189633918261,
          3.6635616461296463,
          4.30406509320417,
          4.219507705176107
         ],
         "yaxis": "y"
        },
        {
         "boxpoints": "all",
         "customdata": [
          [
           "Oh Wretched Man",
           "Ambassador"
          ],
          [
           "Only 4 U",
           "B.G."
          ],
          [
           "Solar Powered",
           "Binary Star"
          ],
          [
           "Warrant",
           "Bubba Sparxxx"
          ],
          [
           "I Only Wanna Be With You",
           "Danny Swain"
          ],
          [
           "I Aint Tryin To Hear It",
           "Daz Dillinger & JT The Bigga Figga"
          ],
          [
           "Radio Freq",
           "dead prez"
          ],
          [
           "When Im Nothing",
           "DMX"
          ],
          [
           "E.T.",
           "Encore (Rapper)"
          ],
          [
           "Street Millionaire",
           "E.S.G."
          ],
          [
           "Dyin’ 4 Rap",
           "Fredro Starr"
          ],
          [
           "Hard Not 2 Kill",
           "Gangsta Boo"
          ],
          [
           "Lets Get Fucked Up",
           "Lil' O"
          ],
          [
           "Too Ill Remix / Killah Hill District",
           "Othorized F.A.M."
          ],
          [
           "Pimplikeness",
           "Proof & D12"
          ],
          [
           "Spiceberg Slim",
           "Spice 1"
          ],
          [
           "What She Gonna Do?",
           "Too $hort"
          ],
          [
           "Any Day",
           "Typical Cats"
          ],
          [
           "I’m God",
           "Unity Klan"
          ],
          [
           "Fresh",
           "Young Dro"
          ],
          [
           "Hate Me",
           "Yukmouth"
          ],
          [
           "Internationally Known",
           "Count Bass D"
          ],
          [
           "You",
           "Big Sean"
          ],
          [
           "Get Acquainted",
           "XV"
          ],
          [
           "Better Days",
           "Tyga"
          ],
          [
           "In All the Wrong Places",
           "Kero1"
          ],
          [
           "They Say",
           "Method Man"
          ],
          [
           "Ill Take You There",
           "Big Tymers"
          ],
          [
           "Shooterz Zone",
           "Curren$y"
          ],
          [
           "Peer Pressure",
           "(hed) p.e."
          ],
          [
           "Make-Out Bandit",
           "Mac Lethal"
          ],
          [
           "Combustion Spontaneous",
           "MHz Legacy"
          ],
          [
           "Ten Gs a Week",
           "Danny Brown"
          ],
          [
           "After the Hurricane",
           "Jazmine Sullivan"
          ],
          [
           "Break The Chain",
           "Yelawolf"
          ],
          [
           "No Escape",
           "Kottonmouth Kings"
          ],
          [
           "Montara",
           "Madlib"
          ],
          [
           "Its A Hard Life",
           "Prime-One"
          ],
          [
           "Too Late",
           "Scratch (Hip-Hop)"
          ],
          [
           "Cannibal Ferox",
           "Sutter Kain"
          ],
          [
           "Fix Your Eyes",
           "Timothy Brindle"
          ],
          [
           "Black or White",
           "Cookin Soul"
          ],
          [
           "Eighties Mix",
           "Hazakim"
          ],
          [
           "Got Yo Back",
           "B.G. Knocc Out"
          ],
          [
           "Everything",
           "Eminem"
          ],
          [
           "Just Wont Stop",
           "Coolooloosh"
          ],
          [
           "So Thoro",
           "Ludacris"
          ],
          [
           "Shether linda Trollium diss",
           "Ripsi WIneLover"
          ],
          [
           "Freestyle King Pt. 1",
           "Gucci Mane"
          ],
          [
           "Best U Can The Ahh Mix",
           "Tha Alkaholiks"
          ],
          [
           "Thunderground",
           "Azeem"
          ],
          [
           "I Invented Everything",
           "Ghettosocks"
          ]
         ],
         "hovertemplate": "title: %{customdata[0]}<br>artist: %{customdata[1]}<br>log(words): %{y}",
         "name": "rap",
         "type": "box",
         "xaxis": "x",
         "y": [
          5.552959584921617,
          5.231108616854587,
          5.793013608384144,
          5.652489180268651,
          5.375278407684165,
          5.342334251964811,
          5.288267030694535,
          5.298317366548036,
          6.131226489483141,
          5.733341276897746,
          5.472270673671475,
          5.488937726156687,
          5.407171771460119,
          5.877735781779639,
          5.886104031450156,
          5.564520407322694,
          5.517452896464707,
          5.983936280687191,
          5.3981627015177525,
          5.44673737166631,
          5.552959584921617,
          4.912654885736052,
          4.927253685157205,
          3.871201010907891,
          5.342334251964811,
          5.7430031878094825,
          5.605802066295998,
          5.476463551931511,
          5.43372200355424,
          2.9444389791664403,
          5.54907608489522,
          6.1779441140506,
          5.41610040220442,
          4.6443908991413725,
          5.111987788356544,
          5.308267697401205,
          4.290459441148391,
          5.556828061699537,
          4.605170185988092,
          5.313205979041787,
          5.700443573390687,
          5.231108616854587,
          3.8918202981106265,
          5.730099782973574,
          5.214935757608986,
          4.897839799950911,
          5.3230099791384085,
          3.871201010907891,
          5.351858133476067,
          5.420534999272286,
          5.8916442118257715,
          5.19295685089021
         ],
         "yaxis": "y"
        },
        {
         "boxpoints": "all",
         "customdata": [
          [
           "Since Youve Been Gone",
           "Day26"
          ],
          [
           "The Way Of Love",
           "Michelle Williams"
          ],
          [
           "Someone Who Lives In Your Heart",
           "All-4-One"
          ],
          [
           "What If Im The One",
           "Charlie Wilson"
          ],
          [
           "Sleepin",
           "B2K"
          ],
          [
           "Dont Cry For Me",
           "Changing Faces"
          ],
          [
           "Uptown",
           "Raphael Saadiq"
          ],
          [
           "Good Ol",
           "JoJo"
          ],
          [
           "Uh Oh",
           "3LW"
          ],
          [
           "... In My Mind U Aint GOT ME",
           "Durand Bernarr"
          ],
          [
           "You Choose",
           "Zaki Ibrahim"
          ]
         ],
         "hovertemplate": "title: %{customdata[0]}<br>artist: %{customdata[1]}<br>log(words): %{y}",
         "name": "rb",
         "type": "box",
         "xaxis": "x",
         "y": [
          4.8283137373023015,
          4.48863636973214,
          4.532599493153256,
          4.912654885736052,
          4.718498871295094,
          4.812184355372417,
          4.736198448394496,
          4.736198448394496,
          4.955827057601261,
          4.343805421853684,
          5.135798437050262
         ],
         "yaxis": "y"
        },
        {
         "boxpoints": "all",
         "customdata": [
          [
           "Still Take You Home",
           "Arctic Monkeys"
          ],
          [
           "God Is In The Radio",
           "Queens of the Stone Age"
          ],
          [
           "Sleeping Lessons",
           "The Shins"
          ],
          [
           "Me  My Man",
           "Chromeo"
          ],
          [
           "Pancake",
           "Tori Amos"
          ],
          [
           "They Perched On Their Stilts Pointing and Daring Me to Break Custom",
           "Saosin"
          ],
          [
           "Your House",
           "Jimmy Eat World"
          ],
          [
           "I Still Love You Julie",
           "Against Me!"
          ],
          [
           "Macaulay McCulkin",
           "The Fall of Troy"
          ],
          [
           "Beauty from Pain",
           "Superchick"
          ],
          [
           "Never Surrender",
           "Skillet"
          ],
          [
           "Portrait",
           "alt-J"
          ],
          [
           "Light Up",
           "Tegan and Sara"
          ],
          [
           "Hotter Than Hell",
           "Mtley Cre"
          ],
          [
           "My Third House",
           "Kings of Leon"
          ],
          [
           "God of This City",
           "Chris Tomlin"
          ],
          [
           "Superman Its Not Easy",
           "Five for Fighting"
          ],
          [
           "Red Hot Mama",
           "Clutch"
          ],
          [
           "Worthless Nights",
           "Trash Talk"
          ],
          [
           "The Hour of Death",
           "Reverend Bizarre"
          ],
          [
           "New Faith",
           "Slayer"
          ],
          [
           "A Cold Logistic Slaughter",
           "Aborted"
          ],
          [
           "Shadowlord",
           "Abigor"
          ],
          [
           "Alpha and Omega",
           "Israel & New Breed"
          ],
          [
           "My Mistake",
           "Joe Bonamassa"
          ],
          [
           "Sugar",
           "Kids in the Way"
          ],
          [
           "Possession",
           "Evans Blue"
          ],
          [
           "Donut Man",
           "The Dickies"
          ],
          [
           "Flowers Of Evil",
           "Watchmaker"
          ],
          [
           "Come Home",
           "The Dismemberment Plan"
          ],
          [
           "Awake",
           "In:Aviate"
          ],
          [
           "Swan",
           "Marty Willson-Piper"
          ],
          [
           "Anxious Arms",
           "The Jealous Sound"
          ],
          [
           "The Dreams In The Witch-House",
           "Umbra Nihil"
          ],
          [
           "Southern Lovin Belle of the Ball",
           "Drop Dead, Gorgeous"
          ],
          [
           "10050",
           "Emil Bulls"
          ],
          [
           "Life Between",
           "Burden Brothers"
          ],
          [
           "In Orbit",
           "Voivod"
          ],
          [
           "Humiliation Song",
           "Freak Kitchen"
          ],
          [
           "Déjà Vu",
           "Something For Kate"
          ],
          [
           "Under It All",
           "Steve Vai"
          ],
          [
           "A Path to Take",
           "Exit Ten"
          ],
          [
           "Faithfulness",
           "Skin"
          ],
          [
           "The Death of a Digital Alarm Clock",
           "Tubelord"
          ],
          [
           "Many Funerals",
           "Eisley"
          ],
          [
           "Headlights",
           "The Classic Crime"
          ],
          [
           "2nd Floor",
           "Vic Chesnutt"
          ],
          [
           "Slow Dawn",
           "The Smashing Pumpkins"
          ],
          [
           "Easy Money",
           "Electric Light Orchestra"
          ],
          [
           "Falling Spiral Down",
           "Brainstorm"
          ],
          [
           "The Empty Mirror",
           "Cathedral"
          ],
          [
           "Now I Am A Was",
           "Morrissey"
          ],
          [
           "Power Struggle",
           "Sunna"
          ],
          [
           "Reckless",
           "The Years Gone By"
          ],
          [
           "By the Light of the Northern Star",
           "Tyr"
          ],
          [
           "Paranoid",
           "The Dillinger Escape Plan"
          ],
          [
           "Mess",
           "Custom (Band)"
          ],
          [
           "Declaration",
           "Killswitch Engage"
          ],
          [
           "Tyranny",
           "Ulcerate"
          ],
          [
           "Ball of Confusion",
           "Tesla"
          ],
          [
           "No Good",
           "River City Rebels"
          ],
          [
           "Street Sweeper",
           "Insect Warfare"
          ],
          [
           "Curtain Call",
           "Moments in Grace"
          ],
          [
           "Helicopter",
           "Club of High Eyebrows"
          ],
          [
           "Dark Side of the Sun",
           "Tori Amos"
          ],
          [
           "Comfort and Joy",
           "Tori Amos"
          ],
          [
           "Palms Read",
           "Protest The Hero"
          ],
          [
           "I Believe",
           "Manowar"
          ],
          [
           "Breaking My Own Heart",
           "Haste The Day"
          ],
          [
           "Metallica - St. Anger polish version",
           "Polskie tumaczenia Genius"
          ],
          [
           "Witches Mate In The Underground",
           "Ungdmskulen"
          ],
          [
           "Skull and Crossbones",
           "Fine China"
          ],
          [
           "Spore",
           "Commit Suicide"
          ],
          [
           "Taker",
           "Neurosis & Jarboe"
          ],
          [
           "Caput Draconis - Black Saturn",
           "Nightbringer"
          ],
          [
           "If A Bears Hungry He Will Eat",
           "Merchant Ships"
          ],
          [
           "Another Day demo",
           "U2"
          ],
          [
           "Death on Two Legs Dedicated to...",
           "Rooney"
          ],
          [
           "This Flavor",
           "There Is a Light That Never Goes Out"
          ],
          [
           "Discouraged",
           "Legenda Aurea"
          ],
          [
           "Ecce Lupus Ecce Bestia",
           "Black Metal"
          ],
          [
           "Suicide Song",
           "Days N' Daze"
          ],
          [
           "The Pain Goes On",
           "Nightstalker"
          ],
          [
           "Infernal Orgasmic",
           "Cancerslug"
          ],
          [
           "Suit Fits",
           "The Guild League"
          ],
          [
           "This Heart Easily Tears",
           "Suis La Lune"
          ],
          [
           "64",
           "Bonnie \"Prince\" Billy"
          ],
          [
           "Mano A Mano Live 1982",
           "Hall & Oates"
          ],
          [
           "Kill The Bitch",
           "Fallen To"
          ],
          [
           "Somebodys Gonna Get Their Head Kicked in Tonite",
           "Fleetwood Mac"
          ],
          [
           "The Bending Sea",
           "Circus Devils"
          ],
          [
           "Heavy Metal Sacrifice",
           "Skelator"
          ],
          [
           "Range of Power",
           "Sean Downey"
          ],
          [
           "Age of Bootcamp",
           "Eyehategod"
          ],
          [
           "Four Square or Square Ball?",
           "Math the Band"
          ],
          [
           "The Black Hordes",
           "Cirith Gorgor"
          ],
          [
           "About You",
           "Avoid One Thing"
          ],
          [
           "Hanibal ad Portas",
           "Thronar"
          ],
          [
           "Mama Couldnt Be Persuaded Live WMMS 10/13/76",
           "Warren Zevon"
          ],
          [
           "Big Boys alternate version",
           "Elvis Costello"
          ],
          [
           "Remote Control Vanilla Studios Demo Version",
           "The Clash"
          ],
          [
           "Europe After the Rain Live",
           "Kreator"
          ],
          [
           "All Is Vanity Errors Remix",
           "Manic Street Preachers"
          ],
          [
           "And So",
           "They Might Be Giants"
          ]
         ],
         "hovertemplate": "title: %{customdata[0]}<br>artist: %{customdata[1]}<br>log(words): %{y}",
         "name": "rock",
         "type": "box",
         "xaxis": "x",
         "y": [
          4.59511985013459,
          4.0943445622221,
          4.51085950651685,
          4.465908118654584,
          4.584967478670572,
          4.418840607796598,
          4.356708826689592,
          4.653960350157523,
          4.836281906951478,
          4.74493212836325,
          3.9889840465642745,
          4.48863636973214,
          4.23410650459726,
          3.713572066704308,
          4.174387269895637,
          3.58351893845611,
          4.564348191467836,
          4.007333185232471,
          3.367295829986474,
          4.653960350157523,
          4.90527477843843,
          4.430816798843313,
          4.51085950651685,
          2.833213344056216,
          4.31748811353631,
          4.465908118654584,
          4.59511985013459,
          4.532599493153256,
          4.127134385045092,
          4.8283137373023015,
          4.836281906951478,
          4.382026634673881,
          4.700480365792417,
          4.174387269895637,
          4.624972813284271,
          4.0943445622221,
          4.04305126783455,
          4.30406509320417,
          4.143134726391533,
          4.5217885770490405,
          5.676753802268282,
          4.553876891600541,
          4.499809670330265,
          4.04305126783455,
          4.2626798770413155,
          4.700480365792417,
          4.219507705176107,
          4.07753744390572,
          4.672828834461906,
          4.394449154672439,
          5.14166355650266,
          3.5553480614894135,
          4.343805421853684,
          4.477336814478207,
          4.465908118654584,
          4.465908118654584,
          4.7535901911063645,
          3.828641396489095,
          3.970291913552122,
          5.0689042022202315,
          3.58351893845611,
          3.58351893845611,
          4.219507705176107,
          5.049856007249537,
          4.553876891600541,
          4.276666119016055,
          4.812184355372417,
          4.1588830833596715,
          4.23410650459726,
          4.127134385045092,
          3.6109179126442243,
          4.276666119016055,
          4.143134726391533,
          4.02535169073515,
          4.919980925828125,
          4.653960350157523,
          3.784189633918261,
          4.941642422609304,
          4.1588830833596715,
          4.30406509320417,
          4.6913478822291435,
          5.0369526024136295,
          3.9318256327243257,
          4.290459441148391,
          4.820281565605037,
          4.07753744390572,
          4.532599493153256,
          4.663439094112067,
          4.418840607796598,
          4.060443010546419,
          2.6390573296152584,
          4.584967478670572,
          4.04305126783455,
          4.430816798843313,
          4.7535901911063645,
          4.61512051684126,
          3.9512437185814275,
          4.6443908991413725,
          4.653960350157523,
          4.820281565605037,
          4.700480365792417,
          4.762173934797756,
          4.007333185232471,
          4.23410650459726
         ],
         "yaxis": "y"
        },
        {
         "boxpoints": "all",
         "customdata": [
          [
           "Rise Again",
           "TJ Stafford"
          ],
          [
           "Boy Keep Movin",
           "Justin Townes Earle"
          ],
          [
           "Thats Why They Call It Temptation",
           "Robbie Fulks & Linda Gail Lewis"
          ],
          [
           "Come on Sunshine",
           "Tyler Reeve"
          ],
          [
           "Papertown",
           "Balsam Range"
          ],
          [
           "Facebook Stalking My More Successful Friends",
           "CollegeHumor"
          ]
         ],
         "hovertemplate": "title: %{customdata[0]}<br>artist: %{customdata[1]}<br>log(words): %{y}",
         "name": "country",
         "type": "box",
         "xaxis": "x2",
         "y": [
          4.804021044733257,
          4.859812404361672,
          4.48863636973214,
          4.574710978503383,
          4.997212273764115,
          4.804021044733257
         ],
         "yaxis": "y2"
        },
        {
         "boxpoints": "all",
         "customdata": [
          [
           "Hands On Me",
           "Ariana Grande"
          ],
          [
           "Get It",
           "Kyla La Grange"
          ],
          [
           "The Garden The Road",
           "Aaron Thompson"
          ],
          [
           "Blue Sky",
           "Adalita"
          ],
          [
           "Mercurian Soulscapes",
           "Alghazanth"
          ],
          [
           "Cool Kids Keep demo",
           "The American Analog Set"
          ],
          [
           "Atmosphere",
           "Bloodpit"
          ],
          [
           "Theres A Problem At The Office",
           "Linda Davis"
          ],
          [
           "Seventy",
           "Punchline (PA)"
          ],
          [
           "Starts With Nothing",
           "Kaiser Chiefs"
          ],
          [
           "Never Leave You",
           "Vyvienne Long"
          ],
          [
           "Dear Mr. President",
           "Fitz and The Tantrums"
          ],
          [
           "80 West",
           "Samiam"
          ],
          [
           "Seagull",
           "Mammoth Volume"
          ],
          [
           "Invisible",
           "Steve Wynn"
          ],
          [
           "Close Your Eyes",
           "Taking Dawn"
          ],
          [
           "Somebody To Fuck",
           "Motosierra"
          ],
          [
           "Symptoms",
           "Mantric"
          ],
          [
           "Death Comes In March",
           "To/Die/For (band)"
          ],
          [
           "My Sweet Pessimist",
           "Lannen Fall"
          ],
          [
           "A Worm With A Head Shabby Road Demo",
           "Trashcan Sinatras"
          ],
          [
           "Wildflower",
           "Span"
          ],
          [
           "Way Back to You",
           "The Click Five"
          ],
          [
           "Perfect World Mix",
           "Gossip"
          ],
          [
           "Catcher",
           "Sin Fang"
          ],
          [
           "Concentrate",
           "The Out Crowd"
          ],
          [
           "Never Come Around",
           "La Sera"
          ],
          [
           "The Violent Blue",
           "Electric President"
          ],
          [
           "Chappa",
           "Tanya Stephens"
          ],
          [
           "Ive Missed You",
           "Aaron Sprinkle"
          ],
          [
           "Myself To You",
           "Chi Coltrane"
          ],
          [
           "Snow-Hen Of Austerlitz",
           "Rasputina"
          ],
          [
           "Hark The Herald Angels Sing",
           "Blenders The"
          ],
          [
           "I Feel Love",
           "Blondie"
          ],
          [
           "Children of Judas",
           "Insulters"
          ],
          [
           "Bodega",
           "Nellie McKay"
          ],
          [
           "More Than Meets The Eye",
           "Yodelice"
          ],
          [
           "You Still Got It",
           "Darryl Worley"
          ],
          [
           "Hunger",
           "Boo Hewerdine"
          ],
          [
           "Restart",
           "Bilal"
          ],
          [
           "Break the Chain",
           "Oh Land"
          ],
          [
           "Majick DStillD mix",
           "Keoki"
          ],
          [
           "Daddy Doesnt Pray",
           "Julie Roberts"
          ],
          [
           "The Blessing of Being Bloodless",
           "Sola-Mi"
          ],
          [
           "Voidface",
           "Brenna Sahatjian"
          ],
          [
           "Black Is the Color",
           "Celtic Thunder"
          ],
          [
           "Just A Little Talk With Jesus",
           "Nina Hagen"
          ],
          [
           "Never Too Late",
           "Kraak & Smaak"
          ],
          [
           "Ive Gotta Get A Message To You",
           "Soldiers & Robin Gibb"
          ],
          [
           "Icaros",
           "Devilish Impressions"
          ],
          [
           "Out Of Tune",
           "Draft"
          ],
          [
           "Roving Kind",
           "Guy Mitchell"
          ],
          [
           "Within You",
           "GusGus"
          ],
          [
           "One Way Ticket To The Blues",
           "Marti Brom"
          ],
          [
           "Jakes Song",
           "Gemini Eye"
          ],
          [
           "Bedsores",
           "Dead Letter Office"
          ],
          [
           "Down Along The Cove",
           "Thea Gilmore"
          ],
          [
           "Paradise- Marie AP Lit",
           "MarieClark"
          ],
          [
           "Leave House Motor City Drum Ensemble remix",
           "Caribou"
          ],
          [
           "Drive",
           "Tim Finn"
          ],
          [
           "Sugar Were Goin Down",
           "Scott Bradlee's Postmodern Jukebox"
          ],
          [
           "Fighting Is Futile KiNK remix",
           "Matthew Dear"
          ],
          [
           "Friends With Benefits",
           "Master P"
          ],
          [
           "Habits of My Heart",
           "Jaymes Young"
          ],
          [
           "78",
           "Baden baden"
          ],
          [
           "New life feat. annie williams",
           "Grits"
          ],
          [
           "Only You Re-recorded Version",
           "The Flying Pickets"
          ],
          [
           "I Am Here For You",
           "Josh Gad"
          ],
          [
           "Swept Away New Jackson Remix",
           "The xx"
          ],
          [
           "The 11th hour",
           "Apollo Brown"
          ],
          [
           "Mirage",
           "Barretso"
          ],
          [
           "Blood Tears  Gold",
           "Hurts"
          ],
          [
           "May you never",
           "Snow Patrol"
          ],
          [
           "5 Minutes at a Time",
           "Superchick"
          ],
          [
           "Tomorrow Boys",
           "Andrew Bayer"
          ],
          [
           "Canon in D",
           "I Musici"
          ],
          [
           "Do You Really Love Me? - Live At Capitol Records Studio A/2009",
           "Brian Culbertson"
          ],
          [
           "Everyday Is Halloween feat. Armen Ra",
           "Sharon Needles"
          ],
          [
           "Truly Madly Deeply",
           "Maria Albayrak"
          ],
          [
           "Blouson Noir",
           "AaRON"
          ],
          [
           "Part of Your World From The Little Mermaid",
           "Jessie J"
          ],
          [
           "Rock Your Candies",
           "Fifth Harmony"
          ],
          [
           "Stance",
           "Landisles"
          ],
          [
           "Shot me down Backstage",
           "Ayla"
          ],
          [
           "Animals",
           "Kwassa"
          ],
          [
           "Hard Heart",
           "Virgin"
          ],
          [
           "Plus Minus Infinity",
           "Octavia Singer"
          ],
          [
           "Stargazing",
           "Kygo"
          ],
          [
           "Thrills",
           "John"
          ],
          [
           "Keep You Close",
           "Anthem Lights"
          ],
          [
           "Material Boy",
           "Alli Simpson"
          ],
          [
           "Everybody Just Stood There",
           "The Taxpayers"
          ],
          [
           "​beautiful loli thing",
           "goreshit"
          ],
          [
           "Something Better Two Friends Remix",
           "Audien"
          ],
          [
           "Reality",
           "Adventurer"
          ],
          [
           "Realest Times",
           "Ero (POL)"
          ],
          [
           "Bad Fun",
           "courtship."
          ],
          [
           "9OClock",
           "SHCOLA"
          ],
          [
           "Drink My Love Away",
           "Tino Coury"
          ],
          [
           "A Is for Alphabet",
           "Mother Goose Club"
          ],
          [
           "Here At Last Outr3ach x J-Marin Remix",
           "William Black & Rico & Miella"
          ],
          [
           "Constant",
           "CedarCreek Worship"
          ],
          [
           "Im Looking at You",
           "Youth Club"
          ],
          [
           "Heads Up",
           "You Know The Drill"
          ],
          [
           "This Ones For You Faustix Remix",
           "David Guetta"
          ],
          [
           "You Put This Love In My Heart",
           "The Royal Royal"
          ],
          [
           "Kisses",
           "Risin' Black Hole"
          ],
          [
           "Energy - JackEL remix",
           "Lana Love"
          ],
          [
           "DVD Sweetener",
           "Black Moth Super Rainbow"
          ],
          [
           "Certain",
           "Kirt Lind"
          ],
          [
           "The Drawl",
           "Gttinger"
          ],
          [
           "Break",
           "Canopy Climbers"
          ],
          [
           "Safe",
           "Nurko"
          ],
          [
           "We Good",
           "Jeffree Star"
          ],
          [
           "Follow You",
           "Jeremy James Whitaker"
          ],
          [
           "Coffee",
           "Trevor Griffin"
          ],
          [
           "Your Death Punctation ver",
           "Forskreal"
          ],
          [
           "L.A.LOVE la la Unreleased Remix",
           "Fergie"
          ],
          [
           "Hopen",
           "Beerjacket"
          ],
          [
           "Raise The Bar",
           "Justin Bieber"
          ],
          [
           "We All Lie",
           "HAJIN ()"
          ],
          [
           "One Direction Medley",
           "Cimorelli"
          ],
          [
           "EGO",
           "BECCAA"
          ],
          [
           "Two People",
           "Sam Fender"
          ],
          [
           "Planet Earth",
           "Monty"
          ],
          [
           "Hipster Girl Next Door",
           "Tyler James Cook"
          ],
          [
           "Pankow Bonus Track",
           "Finn Kleffmann"
          ],
          [
           "Think About It",
           "Callum Spencer"
          ],
          [
           "Other Side",
           "Enjoy"
          ],
          [
           "Ready To Grind",
           "Instalok"
          ],
          [
           "Sample lives",
           "Ryan Power"
          ],
          [
           "​summer games",
           "Prince Woods"
          ],
          [
           "Leave Me Alone",
           "BISHU"
          ],
          [
           "Anything You Want To Be",
           "Gabe White"
          ],
          [
           "Daydrinking",
           "Kema (Keoma)"
          ],
          [
           "Torn Apart Remix",
           "Tajmir Graves"
          ],
          [
           "Sit in the Stars",
           "patchymate"
          ],
          [
           "Disco Ball",
           "Little Scream"
          ],
          [
           "Ride Waves",
           "Nes Croft"
          ],
          [
           "Honey",
           "Sorcha Richardson"
          ],
          [
           "Dead from the Heart Up",
           "GAVIN LDN"
          ],
          [
           "Strokemeal",
           "Finn M-K"
          ],
          [
           "Sick Lullaby",
           "Olivia Addams"
          ],
          [
           "Queen of Swords Live",
           "Idina Menzel"
          ],
          [
           "Red Handed",
           "Cady Groves"
          ],
          [
           "Dark",
           "Fragile Animals"
          ],
          [
           "Unarm",
           "Ghost Against Ghost"
          ],
          [
           "The Shakes",
           "T0ad"
          ],
          [
           "There Is Great Power In You",
           "Willow Beats"
          ],
          [
           "Still Wanna Be Friends",
           "Emma Lamontagne"
          ],
          [
           "A Traveling Spirit",
           "Daniel Kadawatha"
          ],
          [
           "Erase Your Life",
           "Randy Prozac"
          ],
          [
           "My Tower",
           "Louis Holding"
          ],
          [
           "Beautiful World",
           "Drakeford"
          ],
          [
           "FWYL  LIKY",
           "Dan Billu"
          ],
          [
           "The Great Exchange",
           "Sarah Liberman"
          ]
         ],
         "hovertemplate": "title: %{customdata[0]}<br>artist: %{customdata[1]}<br>log(words): %{y}",
         "name": "pop",
         "type": "box",
         "xaxis": "x2",
         "y": [
          4.804021044733257,
          4.406719247264253,
          4.59511985013459,
          4.31748811353631,
          4.875197323201151,
          3.4011973816621555,
          4.356708826689592,
          4.653960350157523,
          4.634728988229636,
          3.970291913552122,
          4.8283137373023015,
          4.394449154672439,
          4.23410650459726,
          3.7612001156935624,
          4.394449154672439,
          4.543294782270004,
          4.30406509320417,
          4.787491742782046,
          4.174387269895637,
          4.330733340286331,
          3.784189633918261,
          4.477336814478207,
          4.624972813284271,
          4.343805421853684,
          4.110873864173311,
          3.8501476017100584,
          4.189654742026425,
          4.709530201312334,
          5.0369526024136295,
          4.532599493153256,
          4.394449154672439,
          4.912654885736052,
          4.406719247264253,
          2.772588722239781,
          4.30406509320417,
          4.875197323201151,
          3.9318256327243257,
          4.553876891600541,
          3.9512437185814275,
          4.499809670330265,
          4.30406509320417,
          3.091042453358316,
          4.442651256490317,
          4.465908118654584,
          4.997212273764115,
          4.0943445622221,
          4.3694478524670215,
          3.8066624897703196,
          4.356708826689592,
          4.430816798843313,
          4.02535169073515,
          4.700480365792417,
          4.543294782270004,
          4.04305126783455,
          4.574710978503383,
          4.127134385045092,
          3.8918202981106265,
          4.174387269895637,
          4.31748811353631,
          4.3694478524670215,
          4.51085950651685,
          4.30406509320417,
          5.231108616854587,
          4.204692619390966,
          3.9512437185814275,
          5.420534999272286,
          4.290459441148391,
          4.8283137373023015,
          4.110873864173311,
          3.5263605246161616,
          4.653960350157523,
          4.290459441148391,
          4.276666119016055,
          4.812184355372417,
          4.477336814478207,
          5.10594547390058,
          4.07753744390572,
          4.394449154672439,
          4.5217885770490405,
          4.382026634673881,
          4.955827057601261,
          4.48863636973214,
          3.9889840465642745,
          4.844187086458591,
          4.51085950651685,
          4.499809670330265,
          4.007333185232471,
          4.394449154672439,
          4.762173934797756,
          4.276666119016055,
          4.74493212836325,
          4.30406509320417,
          4.127134385045092,
          4.060443010546419,
          3.9512437185814275,
          5.003946305945459,
          4.394449154672439,
          4.330733340286331,
          4.430816798843313,
          4.189654742026425,
          4.143134726391533,
          3.912023005428146,
          4.5217885770490405,
          4.663439094112067,
          4.007333185232471,
          3.332204510175204,
          3.871201010907891,
          4.290459441148391,
          2.4849066497880004,
          3.4339872044851463,
          4.23410650459726,
          4.143134726391533,
          4.1588830833596715,
          4.276666119016055,
          3.044522437723423,
          4.51085950651685,
          4.77912349311153,
          5.198497031265826,
          4.343805421853684,
          4.276666119016055,
          3.8066624897703196,
          5.087596335232384,
          4.1588830833596715,
          4.454347296253507,
          4.624972813284271,
          4.867534450455582,
          4.382026634673881,
          4.189654742026425,
          3.4011973816621555,
          5.0106352940962555,
          5.209486152841421,
          4.356708826689592,
          4.382026634673881,
          3.9318256327243257,
          4.23410650459726,
          4.9344739331306915,
          4.672828834461906,
          4.997212273764115,
          4.882801922586371,
          4.406719247264253,
          4.189654742026425,
          3.5263605246161616,
          4.430816798843313,
          4.770684624465665,
          4.543294782270004,
          3.8501476017100584,
          4.454347296253507,
          4.51085950651685,
          4.007333185232471,
          4.5217885770490405,
          4.1588830833596715,
          3.6635616461296463,
          4.1588830833596715,
          4.248495242049359,
          3.5553480614894135,
          4.110873864173311
         ],
         "yaxis": "y2"
        },
        {
         "boxpoints": "all",
         "customdata": [
          [
           "Tear it Down",
           "Sonny Spoon"
          ],
          [
           "I’m the King Remix",
           "The Game"
          ],
          [
           "Drop The World Remix",
           "Them MCs"
          ],
          [
           "Dare To Dream",
           "Skepta"
          ],
          [
           "Oh My Love",
           "Chris Brown"
          ],
          [
           "Blackberry Molasses",
           "Donnis"
          ],
          [
           "Flying Kites",
           "The Cool Kids"
          ],
          [
           "Never Wanna Land",
           "Dot The One"
          ],
          [
           "EI",
           "Ratcheft"
          ],
          [
           "Fuck Fame",
           "MouseMode"
          ],
          [
           "Wise Guy",
           "Cartel MGM"
          ],
          [
           "Love-Hate",
           "Busta Rhymes"
          ],
          [
           "Hold Me Back Remix",
           "Rick Ross"
          ],
          [
           "Vietnam Speaks",
           "John Vietnam"
          ],
          [
           "Footprints",
           "Sene"
          ],
          [
           "RG Rap Battle Round 0 2013",
           "Sine/Cosine"
          ],
          [
           "Show meWho you are?",
           "The Last"
          ],
          [
           "On Top of Your Girl",
           "Fat Trel"
          ],
          [
           "Just dont know what to do",
           "H1999"
          ],
          [
           "JIMMY",
           "Pivot Gang"
          ],
          [
           "Stratum",
           "Baphomet MC"
          ],
          [
           "Damn",
           "B00bjob"
          ],
          [
           "Fk da police",
           "Dmitry Montana"
          ],
          [
           "Beautiful Day",
           "Marz Ferrer"
          ],
          [
           "Broke",
           "Skittlez"
          ],
          [
           "Nigga Wat Remix",
           "Lil Reese"
          ],
          [
           "Broken",
           "Lecrae"
          ],
          [
           "Do U Think",
           "Whysir"
          ],
          [
           "Rakim’s “Follow The Leader”",
           "Howard Rambsy II"
          ],
          [
           "Drive You Crazy",
           "Pitbull"
          ],
          [
           "100 Bars pt1",
           "Lil Mister"
          ],
          [
           "CC14",
           "Verah"
          ],
          [
           "The World is Mine",
           "Michael Knight(Chris Atchison)"
          ],
          [
           "$ailYourSoul",
           "J-S.A.N.D."
          ],
          [
           "EVIL MAKES MY DICK GROW",
           "L.A.M.B (rap)"
          ],
          [
           "Kanye West’s “All Day”",
           "MsPiontek"
          ],
          [
           "Bloodline Rap",
           "JT Music"
          ],
          [
           "Dont Know ME {Self Titled Mixtape}",
           "Absii Santana"
          ],
          [
           "Life Ahead of Me",
           "Talib Kweli & 9th Wonder"
          ],
          [
           "Mutant Massacre",
           "Adam WarRock"
          ],
          [
           "Mayhem",
           "A1newyork"
          ],
          [
           "Get Exterminated",
           "More Or Les"
          ],
          [
           "Mercedes Benz",
           "Of Limbs"
          ],
          [
           "Like They Love Me",
           "King Myers"
          ],
          [
           "Never Enough Remix",
           "J Spades"
          ],
          [
           "Otis",
           "kid c."
          ],
          [
           "Starbard",
           "Aaronel"
          ],
          [
           "New",
           "Patrick (Indie Rap)"
          ],
          [
           "Elite",
           "KonQuest Now"
          ],
          [
           "Pyramid",
           "King Gisa"
          ],
          [
           "Story of a Bitch",
           "Trap House Rave"
          ],
          [
           "Positions",
           "Roscoe Dash"
          ],
          [
           "Whatever I Want",
           "Levi Hinson & Adrian Stresow"
          ],
          [
           "So Icyy",
           "Just Leek"
          ],
          [
           "Wade Wilson",
           "Dereck Scott"
          ],
          [
           "Rocks  Waves",
           "Kim"
          ],
          [
           "When Did I Become A Ghost STAYSKRONGVERY ENTHUSIASTIC",
           "Trip Dixon"
          ],
          [
           "Heart",
           "C.M.P. (@CMPGFB)"
          ],
          [
           "Tone It Down",
           "Gucci Mane"
          ],
          [
           "Someone Save Me Mayham Remix",
           "JJ(JJ)"
          ],
          [
           "4Bs",
           "HardHead"
          ],
          [
           "50KG Freestyle",
           "Kamakaze"
          ],
          [
           "Same Story",
           "Merc 2"
          ],
          [
           "Mind Your Business",
           "President T"
          ],
          [
           "Dont Take It Serious",
           "Mikey Manfs"
          ],
          [
           "Ghettout Intro",
           "Starlito"
          ],
          [
           "End of an Era Freestyle",
           "Lloyd Banks"
          ],
          [
           "H-Town",
           "Fre$h (Short Dawg)"
          ],
          [
           "Life of a Workman",
           "96ix"
          ],
          [
           "King",
           "Jimmywiz"
          ],
          [
           "Fist of the North Star",
           "Apathy"
          ],
          [
           "Dear Spydar 2018",
           "Hype Man Apollo"
          ],
          [
           "Corrupt",
           "Skine"
          ],
          [
           "In the Name of Jesus",
           "Snoop Dogg"
          ],
          [
           "2AM Interlude",
           "Corey Yanks"
          ],
          [
           "Gucci Gang Remix",
           "Waka Flocka Flame"
          ],
          [
           "Rolling Papers",
           "Willy J Peso"
          ],
          [
           "Glock 38",
           "YEE G"
          ],
          [
           "Goku vs Wario - Epic Rap Battles of Cancer",
           "Epic Rap Battles of Cancer"
          ],
          [
           "BLACKJACK",
           "Amin"
          ],
          [
           "Dont Vote",
           "Loden Green"
          ],
          [
           "Shots",
           "Saint Curse"
          ],
          [
           "The End",
           "Jisoe"
          ],
          [
           "Talk to You Later",
           "Nate DAE"
          ],
          [
           "Maybe Next Time",
           "Jordan X"
          ],
          [
           "Never Say Never",
           "JmtheMelomane"
          ],
          [
           "FORTNITESWAGVICTORYROYALEGETEM",
           "Yung Schmoobin"
          ],
          [
           "Cavalli II",
           "Kannon"
          ],
          [
           "REEL IT IN Freestyle",
           "svrite"
          ],
          [
           "Apart",
           "M.C. (World 45)"
          ],
          [
           "Drag Me Down",
           "Trabo"
          ],
          [
           "Mavens",
           "False Publication"
          ],
          [
           "On Gang",
           "Linden Helix"
          ],
          [
           "Goofology",
           "KharMohn"
          ],
          [
           "SOUTHSIDE TO SOUTHWEST",
           "Nter"
          ],
          [
           "B.I.G TALK",
           "Kosey"
          ],
          [
           "Mafia TheGodFather",
           "Don Kevo"
          ],
          [
           "TNT",
           "YBS Skola"
          ],
          [
           "’99 Tunechi",
           "Chris Crack"
          ],
          [
           "Salute",
           "The Wiz (Rapper)"
          ],
          [
           "90 DAYS",
           "Aries"
          ],
          [
           "KISS THE RING",
           "Group 7 Ent."
          ],
          [
           "MSQRD Remix",
           "Maestro (ITA)"
          ],
          [
           "Contract Killer",
           "Ramzes II"
          ],
          [
           "Godfather",
           "Elo Kay"
          ],
          [
           "News Flash Btch",
           "Primrose Ripper"
          ],
          [
           "Tryna Find A Way",
           "Nafe Smallz"
          ],
          [
           "Devoted",
           "Eshon Burgundy"
          ],
          [
           "End Of the summer Intro",
           "Sincerelyjay"
          ],
          [
           "914",
           "Kylo X"
          ],
          [
           "Unknown Darkness",
           "GD Jay"
          ],
          [
           "Wings interlude",
           "Dimmotiv"
          ],
          [
           "Rise Up",
           "Gentleman"
          ],
          [
           "Bubble Tree",
           "Yungroze based god"
          ],
          [
           "Pieces",
           "E.Liz (Rap)"
          ],
          [
           "Sad Villains",
           "Kai-ju (GA)"
          ],
          [
           "Screwed  Chopped",
           "MC Nulty"
          ],
          [
           "1120 BOS",
           "KTS Von"
          ],
          [
           "She",
           "Diego Money"
          ],
          [
           "Just A Minute feat. Drea",
           "MYI"
          ]
         ],
         "hovertemplate": "title: %{customdata[0]}<br>artist: %{customdata[1]}<br>log(words): %{y}",
         "name": "rap",
         "type": "box",
         "xaxis": "x2",
         "y": [
          5.575949103146316,
          5.170483995038151,
          5.780743515792329,
          5.231108616854587,
          4.941642422609304,
          5.272999558563747,
          5.438079308923196,
          5.111987788356544,
          5.5053315359323625,
          5.14166355650266,
          4.983606621708336,
          5.117993812416755,
          5.8664680569332965,
          5.075173815233827,
          5.3612921657094255,
          4.727387818712341,
          4.976733742420574,
          4.997212273764115,
          4.356708826689592,
          5.488937726156687,
          5.176149732573829,
          5.517452896464707,
          4.23410650459726,
          4.543294782270004,
          4.663439094112067,
          4.852030263919617,
          5.25227342804663,
          5.6131281063880705,
          5.942799375126701,
          5.043425116919247,
          5.68697535633982,
          5.278114659230517,
          5.236441962829949,
          5.1647859739235145,
          5.572154032177765,
          5.438079308923196,
          5.529429087511423,
          5.3230099791384085,
          5.616771097666572,
          5.638354669333745,
          5.043425116919247,
          5.552959584921617,
          5.170483995038151,
          5.204006687076795,
          5.771441123130016,
          5.123963979403259,
          5.3471075307174685,
          4.442651256490317,
          5.537334267018537,
          5.4638318050256105,
          5.2574953720277815,
          5.680172609017068,
          5.5134287461649825,
          4.290459441148391,
          4.584967478670572,
          5.71042701737487,
          4.418840607796598,
          5.598421958998375,
          5.2574953720277815,
          5.2832037287379885,
          5.497168225293202,
          4.836281906951478,
          5.204006687076795,
          5.0689042022202315,
          5.43372200355424,
          5.303304908059076,
          5.5053315359323625,
          5.723585101952381,
          5.0689042022202315,
          5.181783550292085,
          5.796057750765372,
          3.258096538021482,
          5.484796933490655,
          4.574710978503383,
          4.07753744390572,
          4.997212273764115,
          5.209486152841421,
          5.056245805348308,
          4.68213122712422,
          5.017279836814924,
          5.2832037287379885,
          5.0689042022202315,
          5.241747015059643,
          4.248495242049359,
          4.955827057601261,
          5.365976015021851,
          4.532599493153256,
          5.537334267018537,
          4.941642422609304,
          5.236441962829949,
          4.919980925828125,
          5.272999558563747,
          4.897839799950911,
          5.318119993844216,
          5.673323267171493,
          4.8283137373023015,
          5.3981627015177525,
          5.204006687076795,
          4.653960350157523,
          5.703782474656201,
          4.3694478524670215,
          5.135798437050262,
          4.663439094112067,
          5.552959584921617,
          5.181783550292085,
          5.081404364984463,
          5.43372200355424,
          3.4965075614664802,
          3.713572066704308,
          5.081404364984463,
          5.187385805840755,
          4.442651256490317,
          4.248495242049359,
          4.77912349311153,
          5.552959584921617,
          4.74493212836325,
          5.484796933490655,
          4.74493212836325,
          4.941642422609304,
          5.081404364984463
         ],
         "yaxis": "y2"
        },
        {
         "boxpoints": "all",
         "customdata": [
          [
           "Relics",
           "SBTRKT"
          ],
          [
           "Recess",
           "Ravyn Lenae"
          ],
          [
           "Icarus",
           "midnight (R&B)"
          ],
          [
           "Lay My Body Down",
           "Rag'n'Bone Man"
          ],
          [
           "What We Do",
           "Rotimi"
          ],
          [
           "Window Color",
           "Wandl"
          ],
          [
           "Stuck",
           "Swaine"
          ],
          [
           "Love Scars",
           "NyQuinn"
          ],
          [
           "Only Gonna Love You",
           "Kyla (PHL)"
          ],
          [
           "Divide  Conquer",
           "El Rey de Sol"
          ],
          [
           "12",
           "Zaniyah"
          ],
          [
           "Dead Ends",
           "Kevin George"
          ],
          [
           "Shimmer",
           "MIKNNA"
          ],
          [
           "On My Mind",
           "PARTYALONE"
          ],
          [
           "AstugfirAllah | أستغفر الله",
           "Omar Esa"
          ],
          [
           "Using me",
           "777Kali"
          ],
          [
           "Crown",
           "Chelsea Blues"
          ],
          [
           "Loyal Tedsmooth Remix",
           "Chris Brown"
          ],
          [
           "Talking to the Moon",
           "Champagne Lane"
          ]
         ],
         "hovertemplate": "title: %{customdata[0]}<br>artist: %{customdata[1]}<br>log(words): %{y}",
         "name": "rb",
         "type": "box",
         "xaxis": "x2",
         "y": [
          4.672828834461906,
          4.941642422609304,
          3.828641396489095,
          4.454347296253507,
          4.941642422609304,
          3.5553480614894135,
          5.049856007249537,
          4.31748811353631,
          4.912654885736052,
          2.3978952727983707,
          4.248495242049359,
          5.049856007249537,
          4.7535901911063645,
          4.3694478524670215,
          3.5263605246161616,
          4.875197323201151,
          3.970291913552122,
          5.337538079701318,
          4.127134385045092
         ],
         "yaxis": "y2"
        },
        {
         "boxpoints": "all",
         "customdata": [
          [
           "Satellite",
           "Rise Against"
          ],
          [
           "Comfort Zone",
           "Rebelution"
          ],
          [
           "Death",
           "Preoccupations"
          ],
          [
           "Our Lives Would Make a Sad Boring Movie",
           "The Hotelier"
          ],
          [
           "Twelve Labors",
           "Killer Be Killed"
          ],
          [
           "Until The End Of The World",
           "Patti Smith"
          ],
          [
           "The Last Cowboy",
           "In This Moment"
          ],
          [
           "Fly from Here Pt. I - We Can Fly",
           "Yes"
          ],
          [
           "Sedated and Amputated",
           "Visceral Disgorge"
          ],
          [
           "Mass Defacement",
           "Tools of the Trade"
          ],
          [
           "Get Back My Tomorrow",
           "Joe Bonamassa"
          ],
          [
           "God Treats You Right",
           "Tonetta"
          ],
          [
           "Station 2",
           "Spain"
          ],
          [
           "The Darkest Part",
           "My Iron Lung"
          ],
          [
           "Palm Tree Corpse",
           "Prurient"
          ],
          [
           "Tongues Masenko",
           "The Comfort"
          ],
          [
           "The Cave",
           "Red Tapes"
          ],
          [
           "Stronghold",
           "Testament"
          ],
          [
           "John Dillinger",
           "Jello Biafra & The Guantanamo School Of Medicine"
          ],
          [
           "Satellite",
           "Fail emotions"
          ],
          [
           "Stay",
           "Perspectives"
          ],
          [
           "Howl",
           "Our Lost Infantry"
          ],
          [
           "Déjà Vu",
           "Roger Waters"
          ],
          [
           "Labyrinth Constellation",
           "Artificial Brain"
          ],
          [
           "Domestic Violence",
           "Vagenda"
          ],
          [
           "Day In Day Out",
           "Vinyl Theatre"
          ],
          [
           "No Longer Slaves",
           "Voices of Lee"
          ],
          [
           "The Cigarette Song",
           "Matt Pless"
          ],
          [
           "California Sun Joe Jones/The Ramones Cover",
           "Shinobu"
          ],
          [
           "Feels So Right",
           "Amber Pacific"
          ],
          [
           "Effervesce",
           "Ambient Vale"
          ],
          [
           "Unending Waltz",
           "Slice The Cake"
          ],
          [
           "The Good Enough",
           "World War Me"
          ],
          [
           "Instanity",
           "Human Tetris"
          ],
          [
           "Belgium Acoustic",
           "Bowling for Soup"
          ],
          [
           "Still Bitter Still Cold",
           "Lionheart"
          ],
          [
           "Coming Out of the Darkness",
           "Dr. Dog"
          ],
          [
           "Spines",
           "Terror Universal"
          ],
          [
           "Eyes Toward the Sun",
           "Codex Obscura"
          ],
          [
           "Nebula",
           "Jemmi Hazeman"
          ],
          [
           "The Lie",
           "One Less Reason"
          ],
          [
           "Moral Terror",
           "Rough Hands"
          ],
          [
           "Breath of Life",
           "Lovkn"
          ],
          [
           "Heavenly Father I Love",
           "Lovkn"
          ],
          [
           "Tornado of Sickness",
           "Iron Fire"
          ],
          [
           "Black Flames",
           "Kangal"
          ],
          [
           "Orchestrators of Life",
           "Ozark Shaman"
          ],
          [
           "Astro Incision",
           "Abducted"
          ],
          [
           "Wrapped Around Your Finger",
           "ANBARDA"
          ],
          [
           "Paradice Entrapment",
           "Bearstronaut"
          ],
          [
           "It Aint What You Think Its What You Do",
           "Imperial State Electric"
          ],
          [
           "Black  White",
           "Moletrap"
          ],
          [
           "Embodiment",
           "Trial (Sweden)"
          ],
          [
           "Lich King V: Stalemate demo",
           "Lich King"
          ],
          [
           "Freedom",
           "Brother/Ghost"
          ],
          [
           "A Dream",
           "Denver Pike"
          ],
          [
           "Worshipper",
           "Streetwalker"
          ],
          [
           "WHEN YOU CANT FUCKING SLEEP",
           "LIL BOODANG"
          ],
          [
           "Timeless Youth",
           "Telltale"
          ],
          [
           "8.6 Days All The Broken Hearts",
           "The Bar Stool Preachers"
          ],
          [
           "Grace Period Over",
           "Clear Eyes Fanzine"
          ],
          [
           "This Is Not Freedom",
           "Dtente"
          ],
          [
           "Vengeance Bestowed",
           "Begrime Exemious"
          ],
          [
           "Light From The East",
           "Run On Sentence"
          ],
          [
           "Supermoon",
           "Charly Bliss"
          ],
          [
           "Garden",
           "Just (UK)"
          ],
          [
           "Butterflies In Baltimore",
           "Badview"
          ],
          [
           "Not Going Back",
           "Petty Morals"
          ],
          [
           "Vortex Veins",
           "Your Hands Write History"
          ],
          [
           "Rock The War",
           "Netslow"
          ],
          [
           "Karoshi",
           "Jeff Adams"
          ],
          [
           "Ureaka I’ve Done It",
           "Footprints in the Custard"
          ],
          [
           "Let Me Sit Next to Messiah",
           "ApologetiX"
          ],
          [
           "Enclosed",
           "Joyless Bodies"
          ],
          [
           "On and Ontario",
           "The Lives Of Famous Men"
          ],
          [
           "Let Bygones be Gone",
           "WTCHDR"
          ],
          [
           "Manipulated Soul",
           "Algebra (Band)"
          ],
          [
           "Oh My My",
           "The Crystal Furs"
          ],
          [
           "Sculpting the Archetype",
           "Demonstealer"
          ],
          [
           "Siren",
           "Catamaran"
          ],
          [
           "Coming Down",
           "Gravel Switch"
          ],
          [
           "Birthplace of the Electric Starter",
           "Teenage Guitar"
          ],
          [
           "Forever Love",
           "Amygdala"
          ],
          [
           "Weirdo",
           "Braii"
          ],
          [
           "Pictures of Ordinary Things",
           "The Lees of Memory"
          ],
          [
           "It Was Gonna Be Me",
           "Owen Manure"
          ],
          [
           "Inner Sanctum",
           "The Gabriel Construct"
          ],
          [
           "The King Is Dead",
           "Pasty Clan"
          ],
          [
           "Death of an Idiot",
           "Arson Anthem"
          ],
          [
           "We Find a Way",
           "Sniff 'n' the Tears"
          ]
         ],
         "hovertemplate": "title: %{customdata[0]}<br>artist: %{customdata[1]}<br>log(words): %{y}",
         "name": "rock",
         "type": "box",
         "xaxis": "x2",
         "y": [
          4.8283137373023015,
          4.709530201312334,
          4.5217885770490405,
          5.19295685089021,
          4.51085950651685,
          4.634728988229636,
          4.61512051684126,
          4.418840607796598,
          4.477336814478207,
          3.828641396489095,
          4.30406509320417,
          3.9512437185814275,
          4.77912349311153,
          4.709530201312334,
          3.367295829986474,
          4.343805421853684,
          3.7612001156935624,
          4.634728988229636,
          4.897839799950911,
          4.718498871295094,
          4.330733340286331,
          4.127134385045092,
          4.804021044733257,
          4.2626798770413155,
          4.276666119016055,
          4.248495242049359,
          4.330733340286331,
          5.075173815233827,
          4.110873864173311,
          4.709530201312334,
          4.68213122712422,
          5.442417710521793,
          4.897839799950911,
          3.8066624897703196,
          4.418840607796598,
          4.499809670330265,
          4.330733340286331,
          4.59511985013459,
          4.02535169073515,
          4.23410650459726,
          4.836281906951478,
          4.356708826689592,
          4.330733340286331,
          3.258096538021482,
          4.564348191467836,
          4.174387269895637,
          4.430816798843313,
          4.394449154672439,
          4.248495242049359,
          4.59511985013459,
          3.8066624897703196,
          4.499809670330265,
          5.14166355650266,
          5.0369526024136295,
          4.454347296253507,
          4.30406509320417,
          4.543294782270004,
          3.828641396489095,
          4.890349128221754,
          4.969813299576001,
          4.442651256490317,
          3.912023005428146,
          4.330733340286331,
          3.970291913552122,
          3.828641396489095,
          3.9512437185814275,
          4.762173934797756,
          4.59511985013459,
          5.272999558563747,
          4.23410650459726,
          4.2626798770413155,
          4.77912349311153,
          4.770684624465665,
          4.23410650459726,
          4.430816798843313,
          3.091042453358316,
          4.290459441148391,
          4.454347296253507,
          4.718498871295094,
          4.1588830833596715,
          3.6635616461296463,
          3.8501476017100584,
          4.406719247264253,
          4.219507705176107,
          3.9512437185814275,
          3.091042453358316,
          4.61512051684126,
          3.9512437185814275,
          3.8918202981106265,
          4.406719247264253
         ],
         "yaxis": "y2"
        }
       ],
       "layout": {
        "annotations": [
         {
          "font": {
           "size": 16
          },
          "showarrow": false,
          "text": "2000",
          "x": 0.225,
          "xanchor": "center",
          "xref": "paper",
          "y": 1,
          "yanchor": "bottom",
          "yref": "paper"
         },
         {
          "font": {
           "size": 16
          },
          "showarrow": false,
          "text": "2010",
          "x": 0.775,
          "xanchor": "center",
          "xref": "paper",
          "y": 1,
          "yanchor": "bottom",
          "yref": "paper"
         },
         {
          "font": {
           "size": 16
          },
          "showarrow": false,
          "text": "tags",
          "x": 0.5,
          "xanchor": "center",
          "xref": "paper",
          "y": 0,
          "yanchor": "top",
          "yref": "paper",
          "yshift": -30
         },
         {
          "font": {
           "size": 16
          },
          "showarrow": false,
          "text": "log(unique words)",
          "textangle": -90,
          "x": 0,
          "xanchor": "right",
          "xref": "paper",
          "xshift": -40,
          "y": 0.5,
          "yanchor": "middle",
          "yref": "paper"
         }
        ],
        "template": {
         "data": {
          "bar": [
           {
            "error_x": {
             "color": "#2a3f5f"
            },
            "error_y": {
             "color": "#2a3f5f"
            },
            "marker": {
             "line": {
              "color": "#E5ECF6",
              "width": 0.5
             },
             "pattern": {
              "fillmode": "overlay",
              "size": 10,
              "solidity": 0.2
             }
            },
            "type": "bar"
           }
          ],
          "barpolar": [
           {
            "marker": {
             "line": {
              "color": "#E5ECF6",
              "width": 0.5
             },
             "pattern": {
              "fillmode": "overlay",
              "size": 10,
              "solidity": 0.2
             }
            },
            "type": "barpolar"
           }
          ],
          "carpet": [
           {
            "aaxis": {
             "endlinecolor": "#2a3f5f",
             "gridcolor": "white",
             "linecolor": "white",
             "minorgridcolor": "white",
             "startlinecolor": "#2a3f5f"
            },
            "baxis": {
             "endlinecolor": "#2a3f5f",
             "gridcolor": "white",
             "linecolor": "white",
             "minorgridcolor": "white",
             "startlinecolor": "#2a3f5f"
            },
            "type": "carpet"
           }
          ],
          "choropleth": [
           {
            "colorbar": {
             "outlinewidth": 0,
             "ticks": ""
            },
            "type": "choropleth"
           }
          ],
          "contour": [
           {
            "colorbar": {
             "outlinewidth": 0,
             "ticks": ""
            },
            "colorscale": [
             [
              0,
              "#0d0887"
             ],
             [
              0.1111111111111111,
              "#46039f"
             ],
             [
              0.2222222222222222,
              "#7201a8"
             ],
             [
              0.3333333333333333,
              "#9c179e"
             ],
             [
              0.4444444444444444,
              "#bd3786"
             ],
             [
              0.5555555555555556,
              "#d8576b"
             ],
             [
              0.6666666666666666,
              "#ed7953"
             ],
             [
              0.7777777777777778,
              "#fb9f3a"
             ],
             [
              0.8888888888888888,
              "#fdca26"
             ],
             [
              1,
              "#f0f921"
             ]
            ],
            "type": "contour"
           }
          ],
          "contourcarpet": [
           {
            "colorbar": {
             "outlinewidth": 0,
             "ticks": ""
            },
            "type": "contourcarpet"
           }
          ],
          "heatmap": [
           {
            "colorbar": {
             "outlinewidth": 0,
             "ticks": ""
            },
            "colorscale": [
             [
              0,
              "#0d0887"
             ],
             [
              0.1111111111111111,
              "#46039f"
             ],
             [
              0.2222222222222222,
              "#7201a8"
             ],
             [
              0.3333333333333333,
              "#9c179e"
             ],
             [
              0.4444444444444444,
              "#bd3786"
             ],
             [
              0.5555555555555556,
              "#d8576b"
             ],
             [
              0.6666666666666666,
              "#ed7953"
             ],
             [
              0.7777777777777778,
              "#fb9f3a"
             ],
             [
              0.8888888888888888,
              "#fdca26"
             ],
             [
              1,
              "#f0f921"
             ]
            ],
            "type": "heatmap"
           }
          ],
          "heatmapgl": [
           {
            "colorbar": {
             "outlinewidth": 0,
             "ticks": ""
            },
            "colorscale": [
             [
              0,
              "#0d0887"
             ],
             [
              0.1111111111111111,
              "#46039f"
             ],
             [
              0.2222222222222222,
              "#7201a8"
             ],
             [
              0.3333333333333333,
              "#9c179e"
             ],
             [
              0.4444444444444444,
              "#bd3786"
             ],
             [
              0.5555555555555556,
              "#d8576b"
             ],
             [
              0.6666666666666666,
              "#ed7953"
             ],
             [
              0.7777777777777778,
              "#fb9f3a"
             ],
             [
              0.8888888888888888,
              "#fdca26"
             ],
             [
              1,
              "#f0f921"
             ]
            ],
            "type": "heatmapgl"
           }
          ],
          "histogram": [
           {
            "marker": {
             "pattern": {
              "fillmode": "overlay",
              "size": 10,
              "solidity": 0.2
             }
            },
            "type": "histogram"
           }
          ],
          "histogram2d": [
           {
            "colorbar": {
             "outlinewidth": 0,
             "ticks": ""
            },
            "colorscale": [
             [
              0,
              "#0d0887"
             ],
             [
              0.1111111111111111,
              "#46039f"
             ],
             [
              0.2222222222222222,
              "#7201a8"
             ],
             [
              0.3333333333333333,
              "#9c179e"
             ],
             [
              0.4444444444444444,
              "#bd3786"
             ],
             [
              0.5555555555555556,
              "#d8576b"
             ],
             [
              0.6666666666666666,
              "#ed7953"
             ],
             [
              0.7777777777777778,
              "#fb9f3a"
             ],
             [
              0.8888888888888888,
              "#fdca26"
             ],
             [
              1,
              "#f0f921"
             ]
            ],
            "type": "histogram2d"
           }
          ],
          "histogram2dcontour": [
           {
            "colorbar": {
             "outlinewidth": 0,
             "ticks": ""
            },
            "colorscale": [
             [
              0,
              "#0d0887"
             ],
             [
              0.1111111111111111,
              "#46039f"
             ],
             [
              0.2222222222222222,
              "#7201a8"
             ],
             [
              0.3333333333333333,
              "#9c179e"
             ],
             [
              0.4444444444444444,
              "#bd3786"
             ],
             [
              0.5555555555555556,
              "#d8576b"
             ],
             [
              0.6666666666666666,
              "#ed7953"
             ],
             [
              0.7777777777777778,
              "#fb9f3a"
             ],
             [
              0.8888888888888888,
              "#fdca26"
             ],
             [
              1,
              "#f0f921"
             ]
            ],
            "type": "histogram2dcontour"
           }
          ],
          "mesh3d": [
           {
            "colorbar": {
             "outlinewidth": 0,
             "ticks": ""
            },
            "type": "mesh3d"
           }
          ],
          "parcoords": [
           {
            "line": {
             "colorbar": {
              "outlinewidth": 0,
              "ticks": ""
             }
            },
            "type": "parcoords"
           }
          ],
          "pie": [
           {
            "automargin": true,
            "type": "pie"
           }
          ],
          "scatter": [
           {
            "fillpattern": {
             "fillmode": "overlay",
             "size": 10,
             "solidity": 0.2
            },
            "type": "scatter"
           }
          ],
          "scatter3d": [
           {
            "line": {
             "colorbar": {
              "outlinewidth": 0,
              "ticks": ""
             }
            },
            "marker": {
             "colorbar": {
              "outlinewidth": 0,
              "ticks": ""
             }
            },
            "type": "scatter3d"
           }
          ],
          "scattercarpet": [
           {
            "marker": {
             "colorbar": {
              "outlinewidth": 0,
              "ticks": ""
             }
            },
            "type": "scattercarpet"
           }
          ],
          "scattergeo": [
           {
            "marker": {
             "colorbar": {
              "outlinewidth": 0,
              "ticks": ""
             }
            },
            "type": "scattergeo"
           }
          ],
          "scattergl": [
           {
            "marker": {
             "colorbar": {
              "outlinewidth": 0,
              "ticks": ""
             }
            },
            "type": "scattergl"
           }
          ],
          "scattermapbox": [
           {
            "marker": {
             "colorbar": {
              "outlinewidth": 0,
              "ticks": ""
             }
            },
            "type": "scattermapbox"
           }
          ],
          "scatterpolar": [
           {
            "marker": {
             "colorbar": {
              "outlinewidth": 0,
              "ticks": ""
             }
            },
            "type": "scatterpolar"
           }
          ],
          "scatterpolargl": [
           {
            "marker": {
             "colorbar": {
              "outlinewidth": 0,
              "ticks": ""
             }
            },
            "type": "scatterpolargl"
           }
          ],
          "scatterternary": [
           {
            "marker": {
             "colorbar": {
              "outlinewidth": 0,
              "ticks": ""
             }
            },
            "type": "scatterternary"
           }
          ],
          "surface": [
           {
            "colorbar": {
             "outlinewidth": 0,
             "ticks": ""
            },
            "colorscale": [
             [
              0,
              "#0d0887"
             ],
             [
              0.1111111111111111,
              "#46039f"
             ],
             [
              0.2222222222222222,
              "#7201a8"
             ],
             [
              0.3333333333333333,
              "#9c179e"
             ],
             [
              0.4444444444444444,
              "#bd3786"
             ],
             [
              0.5555555555555556,
              "#d8576b"
             ],
             [
              0.6666666666666666,
              "#ed7953"
             ],
             [
              0.7777777777777778,
              "#fb9f3a"
             ],
             [
              0.8888888888888888,
              "#fdca26"
             ],
             [
              1,
              "#f0f921"
             ]
            ],
            "type": "surface"
           }
          ],
          "table": [
           {
            "cells": {
             "fill": {
              "color": "#EBF0F8"
             },
             "line": {
              "color": "white"
             }
            },
            "header": {
             "fill": {
              "color": "#C8D4E3"
             },
             "line": {
              "color": "white"
             }
            },
            "type": "table"
           }
          ]
         },
         "layout": {
          "annotationdefaults": {
           "arrowcolor": "#2a3f5f",
           "arrowhead": 0,
           "arrowwidth": 1
          },
          "autotypenumbers": "strict",
          "coloraxis": {
           "colorbar": {
            "outlinewidth": 0,
            "ticks": ""
           }
          },
          "colorscale": {
           "diverging": [
            [
             0,
             "#8e0152"
            ],
            [
             0.1,
             "#c51b7d"
            ],
            [
             0.2,
             "#de77ae"
            ],
            [
             0.3,
             "#f1b6da"
            ],
            [
             0.4,
             "#fde0ef"
            ],
            [
             0.5,
             "#f7f7f7"
            ],
            [
             0.6,
             "#e6f5d0"
            ],
            [
             0.7,
             "#b8e186"
            ],
            [
             0.8,
             "#7fbc41"
            ],
            [
             0.9,
             "#4d9221"
            ],
            [
             1,
             "#276419"
            ]
           ],
           "sequential": [
            [
             0,
             "#0d0887"
            ],
            [
             0.1111111111111111,
             "#46039f"
            ],
            [
             0.2222222222222222,
             "#7201a8"
            ],
            [
             0.3333333333333333,
             "#9c179e"
            ],
            [
             0.4444444444444444,
             "#bd3786"
            ],
            [
             0.5555555555555556,
             "#d8576b"
            ],
            [
             0.6666666666666666,
             "#ed7953"
            ],
            [
             0.7777777777777778,
             "#fb9f3a"
            ],
            [
             0.8888888888888888,
             "#fdca26"
            ],
            [
             1,
             "#f0f921"
            ]
           ],
           "sequentialminus": [
            [
             0,
             "#0d0887"
            ],
            [
             0.1111111111111111,
             "#46039f"
            ],
            [
             0.2222222222222222,
             "#7201a8"
            ],
            [
             0.3333333333333333,
             "#9c179e"
            ],
            [
             0.4444444444444444,
             "#bd3786"
            ],
            [
             0.5555555555555556,
             "#d8576b"
            ],
            [
             0.6666666666666666,
             "#ed7953"
            ],
            [
             0.7777777777777778,
             "#fb9f3a"
            ],
            [
             0.8888888888888888,
             "#fdca26"
            ],
            [
             1,
             "#f0f921"
            ]
           ]
          },
          "colorway": [
           "#636efa",
           "#EF553B",
           "#00cc96",
           "#ab63fa",
           "#FFA15A",
           "#19d3f3",
           "#FF6692",
           "#B6E880",
           "#FF97FF",
           "#FECB52"
          ],
          "font": {
           "color": "#2a3f5f"
          },
          "geo": {
           "bgcolor": "white",
           "lakecolor": "white",
           "landcolor": "#E5ECF6",
           "showlakes": true,
           "showland": true,
           "subunitcolor": "white"
          },
          "hoverlabel": {
           "align": "left"
          },
          "hovermode": "closest",
          "mapbox": {
           "style": "light"
          },
          "paper_bgcolor": "white",
          "plot_bgcolor": "#E5ECF6",
          "polar": {
           "angularaxis": {
            "gridcolor": "white",
            "linecolor": "white",
            "ticks": ""
           },
           "bgcolor": "#E5ECF6",
           "radialaxis": {
            "gridcolor": "white",
            "linecolor": "white",
            "ticks": ""
           }
          },
          "scene": {
           "xaxis": {
            "backgroundcolor": "#E5ECF6",
            "gridcolor": "white",
            "gridwidth": 2,
            "linecolor": "white",
            "showbackground": true,
            "ticks": "",
            "zerolinecolor": "white"
           },
           "yaxis": {
            "backgroundcolor": "#E5ECF6",
            "gridcolor": "white",
            "gridwidth": 2,
            "linecolor": "white",
            "showbackground": true,
            "ticks": "",
            "zerolinecolor": "white"
           },
           "zaxis": {
            "backgroundcolor": "#E5ECF6",
            "gridcolor": "white",
            "gridwidth": 2,
            "linecolor": "white",
            "showbackground": true,
            "ticks": "",
            "zerolinecolor": "white"
           }
          },
          "shapedefaults": {
           "line": {
            "color": "#2a3f5f"
           }
          },
          "ternary": {
           "aaxis": {
            "gridcolor": "white",
            "linecolor": "white",
            "ticks": ""
           },
           "baxis": {
            "gridcolor": "white",
            "linecolor": "white",
            "ticks": ""
           },
           "bgcolor": "#E5ECF6",
           "caxis": {
            "gridcolor": "white",
            "linecolor": "white",
            "ticks": ""
           }
          },
          "title": {
           "x": 0.05
          },
          "xaxis": {
           "automargin": true,
           "gridcolor": "white",
           "linecolor": "white",
           "ticks": "",
           "title": {
            "standoff": 15
           },
           "zerolinecolor": "white",
           "zerolinewidth": 2
          },
          "yaxis": {
           "automargin": true,
           "gridcolor": "white",
           "linecolor": "white",
           "ticks": "",
           "title": {
            "standoff": 15
           },
           "zerolinecolor": "white",
           "zerolinewidth": 2
          }
         }
        },
        "xaxis": {
         "anchor": "y",
         "domain": [
          0,
          0.45
         ]
        },
        "xaxis2": {
         "anchor": "y2",
         "domain": [
          0.55,
          1
         ]
        },
        "yaxis": {
         "anchor": "x",
         "domain": [
          0,
          1
         ]
        },
        "yaxis2": {
         "anchor": "x2",
         "domain": [
          0,
          1
         ]
        }
       }
      }
     },
     "metadata": {},
     "output_type": "display_data"
    }
   ],
   "source": [
    "words_decades(df, [2000, 2010])"
   ]
  },
  {
   "cell_type": "code",
   "execution_count": 20,
   "metadata": {},
   "outputs": [
    {
     "data": {
      "application/vnd.plotly.v1+json": {
       "config": {
        "plotlyServerURL": "https://plot.ly"
       },
       "data": [
        {
         "boxpoints": "all",
         "customdata": [
          [
           "Rise Again",
           "TJ Stafford"
          ],
          [
           "Boy Keep Movin",
           "Justin Townes Earle"
          ],
          [
           "Thats Why They Call It Temptation",
           "Robbie Fulks & Linda Gail Lewis"
          ],
          [
           "Come on Sunshine",
           "Tyler Reeve"
          ],
          [
           "Papertown",
           "Balsam Range"
          ],
          [
           "Facebook Stalking My More Successful Friends",
           "CollegeHumor"
          ]
         ],
         "hovertemplate": "title: %{customdata[0]}<br>artist: %{customdata[1]}<br>log(words): %{y}",
         "name": "country",
         "type": "box",
         "xaxis": "x",
         "y": [
          4.804021044733257,
          4.859812404361672,
          4.48863636973214,
          4.574710978503383,
          4.997212273764115,
          4.804021044733257
         ],
         "yaxis": "y"
        },
        {
         "boxpoints": "all",
         "customdata": [
          [
           "Hands On Me",
           "Ariana Grande"
          ],
          [
           "Get It",
           "Kyla La Grange"
          ],
          [
           "The Garden The Road",
           "Aaron Thompson"
          ],
          [
           "Blue Sky",
           "Adalita"
          ],
          [
           "Mercurian Soulscapes",
           "Alghazanth"
          ],
          [
           "Cool Kids Keep demo",
           "The American Analog Set"
          ],
          [
           "Atmosphere",
           "Bloodpit"
          ],
          [
           "Theres A Problem At The Office",
           "Linda Davis"
          ],
          [
           "Seventy",
           "Punchline (PA)"
          ],
          [
           "Starts With Nothing",
           "Kaiser Chiefs"
          ],
          [
           "Never Leave You",
           "Vyvienne Long"
          ],
          [
           "Dear Mr. President",
           "Fitz and The Tantrums"
          ],
          [
           "80 West",
           "Samiam"
          ],
          [
           "Seagull",
           "Mammoth Volume"
          ],
          [
           "Invisible",
           "Steve Wynn"
          ],
          [
           "Close Your Eyes",
           "Taking Dawn"
          ],
          [
           "Somebody To Fuck",
           "Motosierra"
          ],
          [
           "Symptoms",
           "Mantric"
          ],
          [
           "Death Comes In March",
           "To/Die/For (band)"
          ],
          [
           "My Sweet Pessimist",
           "Lannen Fall"
          ],
          [
           "A Worm With A Head Shabby Road Demo",
           "Trashcan Sinatras"
          ],
          [
           "Wildflower",
           "Span"
          ],
          [
           "Way Back to You",
           "The Click Five"
          ],
          [
           "Perfect World Mix",
           "Gossip"
          ],
          [
           "Catcher",
           "Sin Fang"
          ],
          [
           "Concentrate",
           "The Out Crowd"
          ],
          [
           "Never Come Around",
           "La Sera"
          ],
          [
           "The Violent Blue",
           "Electric President"
          ],
          [
           "Chappa",
           "Tanya Stephens"
          ],
          [
           "Ive Missed You",
           "Aaron Sprinkle"
          ],
          [
           "Myself To You",
           "Chi Coltrane"
          ],
          [
           "Snow-Hen Of Austerlitz",
           "Rasputina"
          ],
          [
           "Hark The Herald Angels Sing",
           "Blenders The"
          ],
          [
           "I Feel Love",
           "Blondie"
          ],
          [
           "Children of Judas",
           "Insulters"
          ],
          [
           "Bodega",
           "Nellie McKay"
          ],
          [
           "More Than Meets The Eye",
           "Yodelice"
          ],
          [
           "You Still Got It",
           "Darryl Worley"
          ],
          [
           "Hunger",
           "Boo Hewerdine"
          ],
          [
           "Restart",
           "Bilal"
          ],
          [
           "Break the Chain",
           "Oh Land"
          ],
          [
           "Majick DStillD mix",
           "Keoki"
          ],
          [
           "Daddy Doesnt Pray",
           "Julie Roberts"
          ],
          [
           "The Blessing of Being Bloodless",
           "Sola-Mi"
          ],
          [
           "Voidface",
           "Brenna Sahatjian"
          ],
          [
           "Black Is the Color",
           "Celtic Thunder"
          ],
          [
           "Just A Little Talk With Jesus",
           "Nina Hagen"
          ],
          [
           "Never Too Late",
           "Kraak & Smaak"
          ],
          [
           "Ive Gotta Get A Message To You",
           "Soldiers & Robin Gibb"
          ],
          [
           "Icaros",
           "Devilish Impressions"
          ],
          [
           "Out Of Tune",
           "Draft"
          ],
          [
           "Roving Kind",
           "Guy Mitchell"
          ],
          [
           "Within You",
           "GusGus"
          ],
          [
           "One Way Ticket To The Blues",
           "Marti Brom"
          ],
          [
           "Jakes Song",
           "Gemini Eye"
          ],
          [
           "Bedsores",
           "Dead Letter Office"
          ],
          [
           "Down Along The Cove",
           "Thea Gilmore"
          ],
          [
           "Paradise- Marie AP Lit",
           "MarieClark"
          ],
          [
           "Leave House Motor City Drum Ensemble remix",
           "Caribou"
          ],
          [
           "Drive",
           "Tim Finn"
          ],
          [
           "Sugar Were Goin Down",
           "Scott Bradlee's Postmodern Jukebox"
          ],
          [
           "Fighting Is Futile KiNK remix",
           "Matthew Dear"
          ],
          [
           "Friends With Benefits",
           "Master P"
          ],
          [
           "Habits of My Heart",
           "Jaymes Young"
          ],
          [
           "78",
           "Baden baden"
          ],
          [
           "New life feat. annie williams",
           "Grits"
          ],
          [
           "Only You Re-recorded Version",
           "The Flying Pickets"
          ],
          [
           "I Am Here For You",
           "Josh Gad"
          ],
          [
           "Swept Away New Jackson Remix",
           "The xx"
          ],
          [
           "The 11th hour",
           "Apollo Brown"
          ],
          [
           "Mirage",
           "Barretso"
          ],
          [
           "Blood Tears  Gold",
           "Hurts"
          ],
          [
           "May you never",
           "Snow Patrol"
          ],
          [
           "5 Minutes at a Time",
           "Superchick"
          ],
          [
           "Tomorrow Boys",
           "Andrew Bayer"
          ],
          [
           "Canon in D",
           "I Musici"
          ],
          [
           "Do You Really Love Me? - Live At Capitol Records Studio A/2009",
           "Brian Culbertson"
          ],
          [
           "Everyday Is Halloween feat. Armen Ra",
           "Sharon Needles"
          ],
          [
           "Truly Madly Deeply",
           "Maria Albayrak"
          ],
          [
           "Blouson Noir",
           "AaRON"
          ],
          [
           "Part of Your World From The Little Mermaid",
           "Jessie J"
          ],
          [
           "Rock Your Candies",
           "Fifth Harmony"
          ],
          [
           "Stance",
           "Landisles"
          ],
          [
           "Shot me down Backstage",
           "Ayla"
          ],
          [
           "Animals",
           "Kwassa"
          ],
          [
           "Hard Heart",
           "Virgin"
          ],
          [
           "Plus Minus Infinity",
           "Octavia Singer"
          ],
          [
           "Stargazing",
           "Kygo"
          ],
          [
           "Thrills",
           "John"
          ],
          [
           "Keep You Close",
           "Anthem Lights"
          ],
          [
           "Material Boy",
           "Alli Simpson"
          ],
          [
           "Everybody Just Stood There",
           "The Taxpayers"
          ],
          [
           "​beautiful loli thing",
           "goreshit"
          ],
          [
           "Something Better Two Friends Remix",
           "Audien"
          ],
          [
           "Reality",
           "Adventurer"
          ],
          [
           "Realest Times",
           "Ero (POL)"
          ],
          [
           "Bad Fun",
           "courtship."
          ],
          [
           "9OClock",
           "SHCOLA"
          ],
          [
           "Drink My Love Away",
           "Tino Coury"
          ],
          [
           "A Is for Alphabet",
           "Mother Goose Club"
          ],
          [
           "Here At Last Outr3ach x J-Marin Remix",
           "William Black & Rico & Miella"
          ],
          [
           "Constant",
           "CedarCreek Worship"
          ],
          [
           "Im Looking at You",
           "Youth Club"
          ],
          [
           "Heads Up",
           "You Know The Drill"
          ],
          [
           "This Ones For You Faustix Remix",
           "David Guetta"
          ],
          [
           "You Put This Love In My Heart",
           "The Royal Royal"
          ],
          [
           "Kisses",
           "Risin' Black Hole"
          ],
          [
           "Energy - JackEL remix",
           "Lana Love"
          ],
          [
           "DVD Sweetener",
           "Black Moth Super Rainbow"
          ],
          [
           "Certain",
           "Kirt Lind"
          ],
          [
           "The Drawl",
           "Gttinger"
          ],
          [
           "Break",
           "Canopy Climbers"
          ],
          [
           "Safe",
           "Nurko"
          ],
          [
           "We Good",
           "Jeffree Star"
          ],
          [
           "Follow You",
           "Jeremy James Whitaker"
          ],
          [
           "Coffee",
           "Trevor Griffin"
          ],
          [
           "Your Death Punctation ver",
           "Forskreal"
          ],
          [
           "L.A.LOVE la la Unreleased Remix",
           "Fergie"
          ],
          [
           "Hopen",
           "Beerjacket"
          ],
          [
           "Raise The Bar",
           "Justin Bieber"
          ],
          [
           "We All Lie",
           "HAJIN ()"
          ],
          [
           "One Direction Medley",
           "Cimorelli"
          ],
          [
           "EGO",
           "BECCAA"
          ],
          [
           "Two People",
           "Sam Fender"
          ],
          [
           "Planet Earth",
           "Monty"
          ],
          [
           "Hipster Girl Next Door",
           "Tyler James Cook"
          ],
          [
           "Pankow Bonus Track",
           "Finn Kleffmann"
          ],
          [
           "Think About It",
           "Callum Spencer"
          ],
          [
           "Other Side",
           "Enjoy"
          ],
          [
           "Ready To Grind",
           "Instalok"
          ],
          [
           "Sample lives",
           "Ryan Power"
          ],
          [
           "​summer games",
           "Prince Woods"
          ],
          [
           "Leave Me Alone",
           "BISHU"
          ],
          [
           "Anything You Want To Be",
           "Gabe White"
          ],
          [
           "Daydrinking",
           "Kema (Keoma)"
          ],
          [
           "Torn Apart Remix",
           "Tajmir Graves"
          ],
          [
           "Sit in the Stars",
           "patchymate"
          ],
          [
           "Disco Ball",
           "Little Scream"
          ],
          [
           "Ride Waves",
           "Nes Croft"
          ],
          [
           "Honey",
           "Sorcha Richardson"
          ],
          [
           "Dead from the Heart Up",
           "GAVIN LDN"
          ],
          [
           "Strokemeal",
           "Finn M-K"
          ],
          [
           "Sick Lullaby",
           "Olivia Addams"
          ],
          [
           "Queen of Swords Live",
           "Idina Menzel"
          ],
          [
           "Red Handed",
           "Cady Groves"
          ],
          [
           "Dark",
           "Fragile Animals"
          ],
          [
           "Unarm",
           "Ghost Against Ghost"
          ],
          [
           "The Shakes",
           "T0ad"
          ],
          [
           "There Is Great Power In You",
           "Willow Beats"
          ],
          [
           "Still Wanna Be Friends",
           "Emma Lamontagne"
          ],
          [
           "A Traveling Spirit",
           "Daniel Kadawatha"
          ],
          [
           "Erase Your Life",
           "Randy Prozac"
          ],
          [
           "My Tower",
           "Louis Holding"
          ],
          [
           "Beautiful World",
           "Drakeford"
          ],
          [
           "FWYL  LIKY",
           "Dan Billu"
          ],
          [
           "The Great Exchange",
           "Sarah Liberman"
          ]
         ],
         "hovertemplate": "title: %{customdata[0]}<br>artist: %{customdata[1]}<br>log(words): %{y}",
         "name": "pop",
         "type": "box",
         "xaxis": "x",
         "y": [
          4.804021044733257,
          4.406719247264253,
          4.59511985013459,
          4.31748811353631,
          4.875197323201151,
          3.4011973816621555,
          4.356708826689592,
          4.653960350157523,
          4.634728988229636,
          3.970291913552122,
          4.8283137373023015,
          4.394449154672439,
          4.23410650459726,
          3.7612001156935624,
          4.394449154672439,
          4.543294782270004,
          4.30406509320417,
          4.787491742782046,
          4.174387269895637,
          4.330733340286331,
          3.784189633918261,
          4.477336814478207,
          4.624972813284271,
          4.343805421853684,
          4.110873864173311,
          3.8501476017100584,
          4.189654742026425,
          4.709530201312334,
          5.0369526024136295,
          4.532599493153256,
          4.394449154672439,
          4.912654885736052,
          4.406719247264253,
          2.772588722239781,
          4.30406509320417,
          4.875197323201151,
          3.9318256327243257,
          4.553876891600541,
          3.9512437185814275,
          4.499809670330265,
          4.30406509320417,
          3.091042453358316,
          4.442651256490317,
          4.465908118654584,
          4.997212273764115,
          4.0943445622221,
          4.3694478524670215,
          3.8066624897703196,
          4.356708826689592,
          4.430816798843313,
          4.02535169073515,
          4.700480365792417,
          4.543294782270004,
          4.04305126783455,
          4.574710978503383,
          4.127134385045092,
          3.8918202981106265,
          4.174387269895637,
          4.31748811353631,
          4.3694478524670215,
          4.51085950651685,
          4.30406509320417,
          5.231108616854587,
          4.204692619390966,
          3.9512437185814275,
          5.420534999272286,
          4.290459441148391,
          4.8283137373023015,
          4.110873864173311,
          3.5263605246161616,
          4.653960350157523,
          4.290459441148391,
          4.276666119016055,
          4.812184355372417,
          4.477336814478207,
          5.10594547390058,
          4.07753744390572,
          4.394449154672439,
          4.5217885770490405,
          4.382026634673881,
          4.955827057601261,
          4.48863636973214,
          3.9889840465642745,
          4.844187086458591,
          4.51085950651685,
          4.499809670330265,
          4.007333185232471,
          4.394449154672439,
          4.762173934797756,
          4.276666119016055,
          4.74493212836325,
          4.30406509320417,
          4.127134385045092,
          4.060443010546419,
          3.9512437185814275,
          5.003946305945459,
          4.394449154672439,
          4.330733340286331,
          4.430816798843313,
          4.189654742026425,
          4.143134726391533,
          3.912023005428146,
          4.5217885770490405,
          4.663439094112067,
          4.007333185232471,
          3.332204510175204,
          3.871201010907891,
          4.290459441148391,
          2.4849066497880004,
          3.4339872044851463,
          4.23410650459726,
          4.143134726391533,
          4.1588830833596715,
          4.276666119016055,
          3.044522437723423,
          4.51085950651685,
          4.77912349311153,
          5.198497031265826,
          4.343805421853684,
          4.276666119016055,
          3.8066624897703196,
          5.087596335232384,
          4.1588830833596715,
          4.454347296253507,
          4.624972813284271,
          4.867534450455582,
          4.382026634673881,
          4.189654742026425,
          3.4011973816621555,
          5.0106352940962555,
          5.209486152841421,
          4.356708826689592,
          4.382026634673881,
          3.9318256327243257,
          4.23410650459726,
          4.9344739331306915,
          4.672828834461906,
          4.997212273764115,
          4.882801922586371,
          4.406719247264253,
          4.189654742026425,
          3.5263605246161616,
          4.430816798843313,
          4.770684624465665,
          4.543294782270004,
          3.8501476017100584,
          4.454347296253507,
          4.51085950651685,
          4.007333185232471,
          4.5217885770490405,
          4.1588830833596715,
          3.6635616461296463,
          4.1588830833596715,
          4.248495242049359,
          3.5553480614894135,
          4.110873864173311
         ],
         "yaxis": "y"
        },
        {
         "boxpoints": "all",
         "customdata": [
          [
           "Tear it Down",
           "Sonny Spoon"
          ],
          [
           "I’m the King Remix",
           "The Game"
          ],
          [
           "Drop The World Remix",
           "Them MCs"
          ],
          [
           "Dare To Dream",
           "Skepta"
          ],
          [
           "Oh My Love",
           "Chris Brown"
          ],
          [
           "Blackberry Molasses",
           "Donnis"
          ],
          [
           "Flying Kites",
           "The Cool Kids"
          ],
          [
           "Never Wanna Land",
           "Dot The One"
          ],
          [
           "EI",
           "Ratcheft"
          ],
          [
           "Fuck Fame",
           "MouseMode"
          ],
          [
           "Wise Guy",
           "Cartel MGM"
          ],
          [
           "Love-Hate",
           "Busta Rhymes"
          ],
          [
           "Hold Me Back Remix",
           "Rick Ross"
          ],
          [
           "Vietnam Speaks",
           "John Vietnam"
          ],
          [
           "Footprints",
           "Sene"
          ],
          [
           "RG Rap Battle Round 0 2013",
           "Sine/Cosine"
          ],
          [
           "Show meWho you are?",
           "The Last"
          ],
          [
           "On Top of Your Girl",
           "Fat Trel"
          ],
          [
           "Just dont know what to do",
           "H1999"
          ],
          [
           "JIMMY",
           "Pivot Gang"
          ],
          [
           "Stratum",
           "Baphomet MC"
          ],
          [
           "Damn",
           "B00bjob"
          ],
          [
           "Fk da police",
           "Dmitry Montana"
          ],
          [
           "Beautiful Day",
           "Marz Ferrer"
          ],
          [
           "Broke",
           "Skittlez"
          ],
          [
           "Nigga Wat Remix",
           "Lil Reese"
          ],
          [
           "Broken",
           "Lecrae"
          ],
          [
           "Do U Think",
           "Whysir"
          ],
          [
           "Rakim’s “Follow The Leader”",
           "Howard Rambsy II"
          ],
          [
           "Drive You Crazy",
           "Pitbull"
          ],
          [
           "100 Bars pt1",
           "Lil Mister"
          ],
          [
           "CC14",
           "Verah"
          ],
          [
           "The World is Mine",
           "Michael Knight(Chris Atchison)"
          ],
          [
           "$ailYourSoul",
           "J-S.A.N.D."
          ],
          [
           "EVIL MAKES MY DICK GROW",
           "L.A.M.B (rap)"
          ],
          [
           "Kanye West’s “All Day”",
           "MsPiontek"
          ],
          [
           "Bloodline Rap",
           "JT Music"
          ],
          [
           "Dont Know ME {Self Titled Mixtape}",
           "Absii Santana"
          ],
          [
           "Life Ahead of Me",
           "Talib Kweli & 9th Wonder"
          ],
          [
           "Mutant Massacre",
           "Adam WarRock"
          ],
          [
           "Mayhem",
           "A1newyork"
          ],
          [
           "Get Exterminated",
           "More Or Les"
          ],
          [
           "Mercedes Benz",
           "Of Limbs"
          ],
          [
           "Like They Love Me",
           "King Myers"
          ],
          [
           "Never Enough Remix",
           "J Spades"
          ],
          [
           "Otis",
           "kid c."
          ],
          [
           "Starbard",
           "Aaronel"
          ],
          [
           "New",
           "Patrick (Indie Rap)"
          ],
          [
           "Elite",
           "KonQuest Now"
          ],
          [
           "Pyramid",
           "King Gisa"
          ],
          [
           "Story of a Bitch",
           "Trap House Rave"
          ],
          [
           "Positions",
           "Roscoe Dash"
          ],
          [
           "Whatever I Want",
           "Levi Hinson & Adrian Stresow"
          ],
          [
           "So Icyy",
           "Just Leek"
          ],
          [
           "Wade Wilson",
           "Dereck Scott"
          ],
          [
           "Rocks  Waves",
           "Kim"
          ],
          [
           "When Did I Become A Ghost STAYSKRONGVERY ENTHUSIASTIC",
           "Trip Dixon"
          ],
          [
           "Heart",
           "C.M.P. (@CMPGFB)"
          ],
          [
           "Tone It Down",
           "Gucci Mane"
          ],
          [
           "Someone Save Me Mayham Remix",
           "JJ(JJ)"
          ],
          [
           "4Bs",
           "HardHead"
          ],
          [
           "50KG Freestyle",
           "Kamakaze"
          ],
          [
           "Same Story",
           "Merc 2"
          ],
          [
           "Mind Your Business",
           "President T"
          ],
          [
           "Dont Take It Serious",
           "Mikey Manfs"
          ],
          [
           "Ghettout Intro",
           "Starlito"
          ],
          [
           "End of an Era Freestyle",
           "Lloyd Banks"
          ],
          [
           "H-Town",
           "Fre$h (Short Dawg)"
          ],
          [
           "Life of a Workman",
           "96ix"
          ],
          [
           "King",
           "Jimmywiz"
          ],
          [
           "Fist of the North Star",
           "Apathy"
          ],
          [
           "Dear Spydar 2018",
           "Hype Man Apollo"
          ],
          [
           "Corrupt",
           "Skine"
          ],
          [
           "In the Name of Jesus",
           "Snoop Dogg"
          ],
          [
           "2AM Interlude",
           "Corey Yanks"
          ],
          [
           "Gucci Gang Remix",
           "Waka Flocka Flame"
          ],
          [
           "Rolling Papers",
           "Willy J Peso"
          ],
          [
           "Glock 38",
           "YEE G"
          ],
          [
           "Goku vs Wario - Epic Rap Battles of Cancer",
           "Epic Rap Battles of Cancer"
          ],
          [
           "BLACKJACK",
           "Amin"
          ],
          [
           "Dont Vote",
           "Loden Green"
          ],
          [
           "Shots",
           "Saint Curse"
          ],
          [
           "The End",
           "Jisoe"
          ],
          [
           "Talk to You Later",
           "Nate DAE"
          ],
          [
           "Maybe Next Time",
           "Jordan X"
          ],
          [
           "Never Say Never",
           "JmtheMelomane"
          ],
          [
           "FORTNITESWAGVICTORYROYALEGETEM",
           "Yung Schmoobin"
          ],
          [
           "Cavalli II",
           "Kannon"
          ],
          [
           "REEL IT IN Freestyle",
           "svrite"
          ],
          [
           "Apart",
           "M.C. (World 45)"
          ],
          [
           "Drag Me Down",
           "Trabo"
          ],
          [
           "Mavens",
           "False Publication"
          ],
          [
           "On Gang",
           "Linden Helix"
          ],
          [
           "Goofology",
           "KharMohn"
          ],
          [
           "SOUTHSIDE TO SOUTHWEST",
           "Nter"
          ],
          [
           "B.I.G TALK",
           "Kosey"
          ],
          [
           "Mafia TheGodFather",
           "Don Kevo"
          ],
          [
           "TNT",
           "YBS Skola"
          ],
          [
           "’99 Tunechi",
           "Chris Crack"
          ],
          [
           "Salute",
           "The Wiz (Rapper)"
          ],
          [
           "90 DAYS",
           "Aries"
          ],
          [
           "KISS THE RING",
           "Group 7 Ent."
          ],
          [
           "MSQRD Remix",
           "Maestro (ITA)"
          ],
          [
           "Contract Killer",
           "Ramzes II"
          ],
          [
           "Godfather",
           "Elo Kay"
          ],
          [
           "News Flash Btch",
           "Primrose Ripper"
          ],
          [
           "Tryna Find A Way",
           "Nafe Smallz"
          ],
          [
           "Devoted",
           "Eshon Burgundy"
          ],
          [
           "End Of the summer Intro",
           "Sincerelyjay"
          ],
          [
           "914",
           "Kylo X"
          ],
          [
           "Unknown Darkness",
           "GD Jay"
          ],
          [
           "Wings interlude",
           "Dimmotiv"
          ],
          [
           "Rise Up",
           "Gentleman"
          ],
          [
           "Bubble Tree",
           "Yungroze based god"
          ],
          [
           "Pieces",
           "E.Liz (Rap)"
          ],
          [
           "Sad Villains",
           "Kai-ju (GA)"
          ],
          [
           "Screwed  Chopped",
           "MC Nulty"
          ],
          [
           "1120 BOS",
           "KTS Von"
          ],
          [
           "She",
           "Diego Money"
          ],
          [
           "Just A Minute feat. Drea",
           "MYI"
          ]
         ],
         "hovertemplate": "title: %{customdata[0]}<br>artist: %{customdata[1]}<br>log(words): %{y}",
         "name": "rap",
         "type": "box",
         "xaxis": "x",
         "y": [
          5.575949103146316,
          5.170483995038151,
          5.780743515792329,
          5.231108616854587,
          4.941642422609304,
          5.272999558563747,
          5.438079308923196,
          5.111987788356544,
          5.5053315359323625,
          5.14166355650266,
          4.983606621708336,
          5.117993812416755,
          5.8664680569332965,
          5.075173815233827,
          5.3612921657094255,
          4.727387818712341,
          4.976733742420574,
          4.997212273764115,
          4.356708826689592,
          5.488937726156687,
          5.176149732573829,
          5.517452896464707,
          4.23410650459726,
          4.543294782270004,
          4.663439094112067,
          4.852030263919617,
          5.25227342804663,
          5.6131281063880705,
          5.942799375126701,
          5.043425116919247,
          5.68697535633982,
          5.278114659230517,
          5.236441962829949,
          5.1647859739235145,
          5.572154032177765,
          5.438079308923196,
          5.529429087511423,
          5.3230099791384085,
          5.616771097666572,
          5.638354669333745,
          5.043425116919247,
          5.552959584921617,
          5.170483995038151,
          5.204006687076795,
          5.771441123130016,
          5.123963979403259,
          5.3471075307174685,
          4.442651256490317,
          5.537334267018537,
          5.4638318050256105,
          5.2574953720277815,
          5.680172609017068,
          5.5134287461649825,
          4.290459441148391,
          4.584967478670572,
          5.71042701737487,
          4.418840607796598,
          5.598421958998375,
          5.2574953720277815,
          5.2832037287379885,
          5.497168225293202,
          4.836281906951478,
          5.204006687076795,
          5.0689042022202315,
          5.43372200355424,
          5.303304908059076,
          5.5053315359323625,
          5.723585101952381,
          5.0689042022202315,
          5.181783550292085,
          5.796057750765372,
          3.258096538021482,
          5.484796933490655,
          4.574710978503383,
          4.07753744390572,
          4.997212273764115,
          5.209486152841421,
          5.056245805348308,
          4.68213122712422,
          5.017279836814924,
          5.2832037287379885,
          5.0689042022202315,
          5.241747015059643,
          4.248495242049359,
          4.955827057601261,
          5.365976015021851,
          4.532599493153256,
          5.537334267018537,
          4.941642422609304,
          5.236441962829949,
          4.919980925828125,
          5.272999558563747,
          4.897839799950911,
          5.318119993844216,
          5.673323267171493,
          4.8283137373023015,
          5.3981627015177525,
          5.204006687076795,
          4.653960350157523,
          5.703782474656201,
          4.3694478524670215,
          5.135798437050262,
          4.663439094112067,
          5.552959584921617,
          5.181783550292085,
          5.081404364984463,
          5.43372200355424,
          3.4965075614664802,
          3.713572066704308,
          5.081404364984463,
          5.187385805840755,
          4.442651256490317,
          4.248495242049359,
          4.77912349311153,
          5.552959584921617,
          4.74493212836325,
          5.484796933490655,
          4.74493212836325,
          4.941642422609304,
          5.081404364984463
         ],
         "yaxis": "y"
        },
        {
         "boxpoints": "all",
         "customdata": [
          [
           "Relics",
           "SBTRKT"
          ],
          [
           "Recess",
           "Ravyn Lenae"
          ],
          [
           "Icarus",
           "midnight (R&B)"
          ],
          [
           "Lay My Body Down",
           "Rag'n'Bone Man"
          ],
          [
           "What We Do",
           "Rotimi"
          ],
          [
           "Window Color",
           "Wandl"
          ],
          [
           "Stuck",
           "Swaine"
          ],
          [
           "Love Scars",
           "NyQuinn"
          ],
          [
           "Only Gonna Love You",
           "Kyla (PHL)"
          ],
          [
           "Divide  Conquer",
           "El Rey de Sol"
          ],
          [
           "12",
           "Zaniyah"
          ],
          [
           "Dead Ends",
           "Kevin George"
          ],
          [
           "Shimmer",
           "MIKNNA"
          ],
          [
           "On My Mind",
           "PARTYALONE"
          ],
          [
           "AstugfirAllah | أستغفر الله",
           "Omar Esa"
          ],
          [
           "Using me",
           "777Kali"
          ],
          [
           "Crown",
           "Chelsea Blues"
          ],
          [
           "Loyal Tedsmooth Remix",
           "Chris Brown"
          ],
          [
           "Talking to the Moon",
           "Champagne Lane"
          ]
         ],
         "hovertemplate": "title: %{customdata[0]}<br>artist: %{customdata[1]}<br>log(words): %{y}",
         "name": "rb",
         "type": "box",
         "xaxis": "x",
         "y": [
          4.672828834461906,
          4.941642422609304,
          3.828641396489095,
          4.454347296253507,
          4.941642422609304,
          3.5553480614894135,
          5.049856007249537,
          4.31748811353631,
          4.912654885736052,
          2.3978952727983707,
          4.248495242049359,
          5.049856007249537,
          4.7535901911063645,
          4.3694478524670215,
          3.5263605246161616,
          4.875197323201151,
          3.970291913552122,
          5.337538079701318,
          4.127134385045092
         ],
         "yaxis": "y"
        },
        {
         "boxpoints": "all",
         "customdata": [
          [
           "Satellite",
           "Rise Against"
          ],
          [
           "Comfort Zone",
           "Rebelution"
          ],
          [
           "Death",
           "Preoccupations"
          ],
          [
           "Our Lives Would Make a Sad Boring Movie",
           "The Hotelier"
          ],
          [
           "Twelve Labors",
           "Killer Be Killed"
          ],
          [
           "Until The End Of The World",
           "Patti Smith"
          ],
          [
           "The Last Cowboy",
           "In This Moment"
          ],
          [
           "Fly from Here Pt. I - We Can Fly",
           "Yes"
          ],
          [
           "Sedated and Amputated",
           "Visceral Disgorge"
          ],
          [
           "Mass Defacement",
           "Tools of the Trade"
          ],
          [
           "Get Back My Tomorrow",
           "Joe Bonamassa"
          ],
          [
           "God Treats You Right",
           "Tonetta"
          ],
          [
           "Station 2",
           "Spain"
          ],
          [
           "The Darkest Part",
           "My Iron Lung"
          ],
          [
           "Palm Tree Corpse",
           "Prurient"
          ],
          [
           "Tongues Masenko",
           "The Comfort"
          ],
          [
           "The Cave",
           "Red Tapes"
          ],
          [
           "Stronghold",
           "Testament"
          ],
          [
           "John Dillinger",
           "Jello Biafra & The Guantanamo School Of Medicine"
          ],
          [
           "Satellite",
           "Fail emotions"
          ],
          [
           "Stay",
           "Perspectives"
          ],
          [
           "Howl",
           "Our Lost Infantry"
          ],
          [
           "Déjà Vu",
           "Roger Waters"
          ],
          [
           "Labyrinth Constellation",
           "Artificial Brain"
          ],
          [
           "Domestic Violence",
           "Vagenda"
          ],
          [
           "Day In Day Out",
           "Vinyl Theatre"
          ],
          [
           "No Longer Slaves",
           "Voices of Lee"
          ],
          [
           "The Cigarette Song",
           "Matt Pless"
          ],
          [
           "California Sun Joe Jones/The Ramones Cover",
           "Shinobu"
          ],
          [
           "Feels So Right",
           "Amber Pacific"
          ],
          [
           "Effervesce",
           "Ambient Vale"
          ],
          [
           "Unending Waltz",
           "Slice The Cake"
          ],
          [
           "The Good Enough",
           "World War Me"
          ],
          [
           "Instanity",
           "Human Tetris"
          ],
          [
           "Belgium Acoustic",
           "Bowling for Soup"
          ],
          [
           "Still Bitter Still Cold",
           "Lionheart"
          ],
          [
           "Coming Out of the Darkness",
           "Dr. Dog"
          ],
          [
           "Spines",
           "Terror Universal"
          ],
          [
           "Eyes Toward the Sun",
           "Codex Obscura"
          ],
          [
           "Nebula",
           "Jemmi Hazeman"
          ],
          [
           "The Lie",
           "One Less Reason"
          ],
          [
           "Moral Terror",
           "Rough Hands"
          ],
          [
           "Breath of Life",
           "Lovkn"
          ],
          [
           "Heavenly Father I Love",
           "Lovkn"
          ],
          [
           "Tornado of Sickness",
           "Iron Fire"
          ],
          [
           "Black Flames",
           "Kangal"
          ],
          [
           "Orchestrators of Life",
           "Ozark Shaman"
          ],
          [
           "Astro Incision",
           "Abducted"
          ],
          [
           "Wrapped Around Your Finger",
           "ANBARDA"
          ],
          [
           "Paradice Entrapment",
           "Bearstronaut"
          ],
          [
           "It Aint What You Think Its What You Do",
           "Imperial State Electric"
          ],
          [
           "Black  White",
           "Moletrap"
          ],
          [
           "Embodiment",
           "Trial (Sweden)"
          ],
          [
           "Lich King V: Stalemate demo",
           "Lich King"
          ],
          [
           "Freedom",
           "Brother/Ghost"
          ],
          [
           "A Dream",
           "Denver Pike"
          ],
          [
           "Worshipper",
           "Streetwalker"
          ],
          [
           "WHEN YOU CANT FUCKING SLEEP",
           "LIL BOODANG"
          ],
          [
           "Timeless Youth",
           "Telltale"
          ],
          [
           "8.6 Days All The Broken Hearts",
           "The Bar Stool Preachers"
          ],
          [
           "Grace Period Over",
           "Clear Eyes Fanzine"
          ],
          [
           "This Is Not Freedom",
           "Dtente"
          ],
          [
           "Vengeance Bestowed",
           "Begrime Exemious"
          ],
          [
           "Light From The East",
           "Run On Sentence"
          ],
          [
           "Supermoon",
           "Charly Bliss"
          ],
          [
           "Garden",
           "Just (UK)"
          ],
          [
           "Butterflies In Baltimore",
           "Badview"
          ],
          [
           "Not Going Back",
           "Petty Morals"
          ],
          [
           "Vortex Veins",
           "Your Hands Write History"
          ],
          [
           "Rock The War",
           "Netslow"
          ],
          [
           "Karoshi",
           "Jeff Adams"
          ],
          [
           "Ureaka I’ve Done It",
           "Footprints in the Custard"
          ],
          [
           "Let Me Sit Next to Messiah",
           "ApologetiX"
          ],
          [
           "Enclosed",
           "Joyless Bodies"
          ],
          [
           "On and Ontario",
           "The Lives Of Famous Men"
          ],
          [
           "Let Bygones be Gone",
           "WTCHDR"
          ],
          [
           "Manipulated Soul",
           "Algebra (Band)"
          ],
          [
           "Oh My My",
           "The Crystal Furs"
          ],
          [
           "Sculpting the Archetype",
           "Demonstealer"
          ],
          [
           "Siren",
           "Catamaran"
          ],
          [
           "Coming Down",
           "Gravel Switch"
          ],
          [
           "Birthplace of the Electric Starter",
           "Teenage Guitar"
          ],
          [
           "Forever Love",
           "Amygdala"
          ],
          [
           "Weirdo",
           "Braii"
          ],
          [
           "Pictures of Ordinary Things",
           "The Lees of Memory"
          ],
          [
           "It Was Gonna Be Me",
           "Owen Manure"
          ],
          [
           "Inner Sanctum",
           "The Gabriel Construct"
          ],
          [
           "The King Is Dead",
           "Pasty Clan"
          ],
          [
           "Death of an Idiot",
           "Arson Anthem"
          ],
          [
           "We Find a Way",
           "Sniff 'n' the Tears"
          ]
         ],
         "hovertemplate": "title: %{customdata[0]}<br>artist: %{customdata[1]}<br>log(words): %{y}",
         "name": "rock",
         "type": "box",
         "xaxis": "x",
         "y": [
          4.8283137373023015,
          4.709530201312334,
          4.5217885770490405,
          5.19295685089021,
          4.51085950651685,
          4.634728988229636,
          4.61512051684126,
          4.418840607796598,
          4.477336814478207,
          3.828641396489095,
          4.30406509320417,
          3.9512437185814275,
          4.77912349311153,
          4.709530201312334,
          3.367295829986474,
          4.343805421853684,
          3.7612001156935624,
          4.634728988229636,
          4.897839799950911,
          4.718498871295094,
          4.330733340286331,
          4.127134385045092,
          4.804021044733257,
          4.2626798770413155,
          4.276666119016055,
          4.248495242049359,
          4.330733340286331,
          5.075173815233827,
          4.110873864173311,
          4.709530201312334,
          4.68213122712422,
          5.442417710521793,
          4.897839799950911,
          3.8066624897703196,
          4.418840607796598,
          4.499809670330265,
          4.330733340286331,
          4.59511985013459,
          4.02535169073515,
          4.23410650459726,
          4.836281906951478,
          4.356708826689592,
          4.330733340286331,
          3.258096538021482,
          4.564348191467836,
          4.174387269895637,
          4.430816798843313,
          4.394449154672439,
          4.248495242049359,
          4.59511985013459,
          3.8066624897703196,
          4.499809670330265,
          5.14166355650266,
          5.0369526024136295,
          4.454347296253507,
          4.30406509320417,
          4.543294782270004,
          3.828641396489095,
          4.890349128221754,
          4.969813299576001,
          4.442651256490317,
          3.912023005428146,
          4.330733340286331,
          3.970291913552122,
          3.828641396489095,
          3.9512437185814275,
          4.762173934797756,
          4.59511985013459,
          5.272999558563747,
          4.23410650459726,
          4.2626798770413155,
          4.77912349311153,
          4.770684624465665,
          4.23410650459726,
          4.430816798843313,
          3.091042453358316,
          4.290459441148391,
          4.454347296253507,
          4.718498871295094,
          4.1588830833596715,
          3.6635616461296463,
          3.8501476017100584,
          4.406719247264253,
          4.219507705176107,
          3.9512437185814275,
          3.091042453358316,
          4.61512051684126,
          3.9512437185814275,
          3.8918202981106265,
          4.406719247264253
         ],
         "yaxis": "y"
        },
        {
         "boxpoints": "all",
         "customdata": [
          [
           "Burning  Bright",
           "John Davey"
          ],
          [
           "Kansas City Ballet",
           "Gene Nelson (Actor)"
          ],
          [
           "Love It Leave It",
           "Becca Bowen"
          ],
          [
           "Barely Gettin’ By",
           "Rod Black"
          ],
          [
           "Die Fun Demo",
           "Kacey Musgraves"
          ]
         ],
         "hovertemplate": "title: %{customdata[0]}<br>artist: %{customdata[1]}<br>log(words): %{y}",
         "name": "country",
         "type": "box",
         "xaxis": "x2",
         "y": [
          4.653960350157523,
          2.8903717578961645,
          4.68213122712422,
          4.553876891600541,
          4.442651256490317
         ],
         "yaxis": "y2"
        },
        {
         "boxpoints": "all",
         "customdata": [
          [
           "Go Back",
           "Patrick Edwin"
          ],
          [
           "Bad Love",
           "Best Ex"
          ],
          [
           "Liken the Scriptures",
           "Shawna Edwards"
          ],
          [
           "Pop Song",
           "Porridge Radio"
          ],
          [
           "No Country",
           "Zack Villere"
          ],
          [
           "Under the Sun",
           "Bakermat & Kidda"
          ],
          [
           "Broken Eniale",
           "Darien Jackson"
          ],
          [
           "​would i miss this",
           "Nicoteen Ninyo"
          ],
          [
           "Make Me Forget",
           "Restless Modern"
          ],
          [
           "Youth",
           "Alex Di Leo"
          ],
          [
           "I Wanna Go First",
           "Lisa Loeb"
          ],
          [
           "Checking the Arithmetic",
           "Dave Stringer"
          ],
          [
           "Arthur",
           "Ryan Faure"
          ],
          [
           "We Want To Talk To Your Leader",
           "The Scaners"
          ],
          [
           "Not My Baby",
           "Amadelle"
          ],
          [
           "Make Me Blue",
           "Victoria Bigelow"
          ],
          [
           "Silly Lullaby",
           "Sandra Boynton"
          ],
          [
           "Intro",
           "Diplo"
          ],
          [
           "Blissful Sin",
           "Umtrillest"
          ],
          [
           "I Disagree",
           "Lil Cartier"
          ],
          [
           "Innocent",
           "Teenage Priest"
          ],
          [
           "Hannah Turnbull",
           "A Little Bit Lonely"
          ],
          [
           "The Main Event",
           "Pussywillowsandpanckes"
          ],
          [
           "L.A. Traffic Ryan Riback Remix",
           "LittGloss"
          ],
          [
           "FRIENDS LIKE THESE",
           "Popcaan"
          ],
          [
           "Part of Me",
           "Spada"
          ],
          [
           "Bounce",
           "Aut0n0my"
          ],
          [
           "In Bloom",
           "Def Rat"
          ],
          [
           "Amazing Grace",
           "Vika & Linda"
          ],
          [
           "Not The Same",
           "The Real Olli"
          ],
          [
           "Change The World",
           "2Trendy & Jason Walker"
          ],
          [
           "I Come Alive",
           "Evan Phillips"
          ],
          [
           "This Far",
           "Sdmello"
          ],
          [
           "Night Falls",
           "Channel 13"
          ],
          [
           "Hands in It",
           "Evan and Eris"
          ],
          [
           "Better",
           "Luke Mock"
          ],
          [
           "TONIGHT",
           "Triple7"
          ],
          [
           "Like A Prayer",
           "Galwaro, LIZOT & Gabry Ponte"
          ],
          [
           "Aint Misbehavin",
           "Loudon Wainwright III"
          ],
          [
           "Mabhungu",
           "Simmy"
          ],
          [
           "Love in the Time of the Apocalypse",
           "Minds Idle"
          ],
          [
           "To You",
           "Sally Boy"
          ],
          [
           "Silence",
           "Kelsey Gallant & Cam Gallant"
          ],
          [
           "Holy Live",
           "Vineyard Anaheim"
          ],
          [
           "You Were in My Dreams",
           "Johnny B. Smart"
          ],
          [
           "Two Poets",
           "Kinlaw"
          ],
          [
           "Hey Baby",
           "Island Vibe"
          ],
          [
           "Bling Ring",
           "Punkinloveee"
          ],
          [
           "Krasavitsa",
           "Finn Yuryevich"
          ],
          [
           "Not Like You",
           "Timmy Trumpet & New World Sound"
          ],
          [
           "Wonder Surf Mesa Remix",
           "Shawn Mendes"
          ],
          [
           "You Do You",
           "Sarah Angel"
          ],
          [
           "Before I go",
           "Allenedrick"
          ],
          [
           "99 Ocean Falls",
           "Mateus de S"
          ],
          [
           "Undercover",
           "Kelly Alaina"
          ],
          [
           "The Starlight Lounge Live at the Clinic",
           "Sorcha Richardson"
          ],
          [
           "All Alone",
           "PinkSpace"
          ],
          [
           "Phenomenon",
           "The Cast of RuPauls Drag Race Live"
          ],
          [
           "Parish in Paris",
           "Paxton Rutherford"
          ],
          [
           "We Believe",
           "Charli XCX"
          ],
          [
           "Soothing Pain",
           "Eerie Please"
          ],
          [
           "Make-up",
           "Bethaneetee"
          ],
          [
           "Wake Up",
           "AidanCal"
          ],
          [
           "Nights  Days",
           "Viktor Wong"
          ],
          [
           "Cologne",
           "Zach Lount"
          ],
          [
           "Frost",
           "Liam Boyne"
          ],
          [
           "Say Less",
           "Brooke Butler"
          ],
          [
           "On My Mind",
           "Tmmrw"
          ],
          [
           "3 2 1",
           "Hayden Casey"
          ],
          [
           "Pushed Out",
           "Tiago Correia"
          ],
          [
           "Call Mi Phone",
           "Tetermin"
          ],
          [
           "Running Down My Life",
           "The Shadowboxers"
          ],
          [
           "KingD ft Kido- Feelings",
           "Kingdofficiall1"
          ],
          [
           "I.L.Y.S.D.M",
           "Unknown Artist"
          ],
          [
           "I love you im sorry",
           "(The Band) Pacific"
          ],
          [
           "Demar DeRoZan",
           "24Kay"
          ],
          [
           "In My Head",
           "Luna Morgenstern"
          ],
          [
           "Lonely",
           "Slungie Ranks"
          ],
          [
           "Sleep My Son",
           "Precious Jewel Amor"
          ],
          [
           "Dusty Shoes",
           "SKYGRASS"
          ],
          [
           "Cruel Intentions",
           "Lyn Lapid"
          ],
          [
           "Back When I Was Young",
           "DNAbrothers"
          ],
          [
           "Take It Back",
           "Musicbylemons"
          ],
          [
           "I Know You",
           "Gabe Torres"
          ],
          [
           "A Phone Call feat. David Numwami",
           "Saint DX"
          ],
          [
           "Feel Your Love",
           "Dimitri Vegas & Like Mike, Timmy Trumpet & Edward Maya"
          ],
          [
           "Chaser",
           "Iroto & kuatari"
          ],
          [
           "Formless shapeless",
           "Goth Lipstick"
          ],
          [
           "Moving On",
           "Telescreen"
          ],
          [
           "WILDFIRE",
           "ill peach"
          ],
          [
           "Time Machine",
           "Kaylee Patterson"
          ],
          [
           "Dreams",
           "Regalo de Dios"
          ],
          [
           "Strawb3rry Sh0rtcak3",
           "WIFIMAMI"
          ],
          [
           "Lie",
           "Mariline, AZINZA"
          ],
          [
           "The Arizona Song",
           "Anna DeNoia and Joshua Villa"
          ],
          [
           "You asked for this Live",
           "Halsey"
          ],
          [
           "Growing Pains",
           "Max Uh Million"
          ],
          [
           "Im Sorry",
           "Josef Salvat"
          ],
          [
           "The Drought",
           "Robeyvv"
          ],
          [
           "Piece by Piece",
           "Done[4]"
          ],
          [
           "Euphoric",
           "Prelor"
          ],
          [
           "By the Sea",
           "Sydney Sue"
          ],
          [
           "Fly Away",
           "BGYO"
          ],
          [
           "Make Me Feel This Way",
           "Nairbi, Madcon & Tima Dee"
          ],
          [
           "Windturbine",
           "Couture23"
          ],
          [
           "Showstopper",
           "W.H. Lung"
          ],
          [
           "Seek Me",
           "Nikki Bruce"
          ],
          [
           "Lonely Long Road",
           "Airon Miranda"
          ],
          [
           "On The Ride Home",
           "Gxggs"
          ],
          [
           "Together Were Forever",
           "Violet Cheri"
          ],
          [
           "Closer",
           "Silent Skies"
          ],
          [
           "Angels We Have Heard On High Campfire Version",
           "Vineyard Worship"
          ],
          [
           "Dead or Alive",
           "Victoria Vicary"
          ],
          [
           "Bad Ideas",
           "Demi Lovato"
          ],
          [
           "Altar of Praise",
           "Bayside Worship"
          ],
          [
           "No One Can Stop Me Now",
           "Admiral Freebee"
          ],
          [
           "Otherside",
           "Native"
          ],
          [
           "To Infinity",
           "L.A.Shawn (LA Boii)"
          ],
          [
           "On a Monday",
           "Purple Mind"
          ],
          [
           "League of Loyalty",
           "Zol"
          ],
          [
           "Never Break Home Session",
           "Sweet Tempest"
          ],
          [
           "Cant Sleep",
           "CaliStar"
          ],
          [
           "Keep it 100",
           "JV Darapsinga"
          ],
          [
           "Agogo",
           "Bracket (Nigeria)"
          ],
          [
           "The Edge",
           "NIVIRO"
          ],
          [
           "Spirit",
           "Eddie James"
          ],
          [
           "Popcorn Ceiling",
           "St. Paul & The Broken Bones"
          ],
          [
           "Plants vs. Zombies",
           "DigiTeto"
          ],
          [
           "Jupiter",
           "Berenika"
          ],
          [
           "Again",
           "Alabaster dePlume"
          ],
          [
           "Colors",
           "Highlnd"
          ],
          [
           "Alive",
           "Menna"
          ],
          [
           "Hurricane",
           "MAGIC GIANT"
          ],
          [
           "Seriously Lets Ride or Die",
           "GRANT (SWE)"
          ],
          [
           "Guitar Solos",
           "Maddy Hicks"
          ],
          [
           "Leave Your Sadness at the Wall",
           "Margolnick"
          ],
          [
           "Sycamore Sway",
           "Wax Jackets"
          ],
          [
           "What Have I Done?",
           "Phil Tallo"
          ],
          [
           "Lost her in october",
           "sadtxnshi"
          ],
          [
           "Smoke",
           "Cowbell Cult"
          ]
         ],
         "hovertemplate": "title: %{customdata[0]}<br>artist: %{customdata[1]}<br>log(words): %{y}",
         "name": "pop",
         "type": "box",
         "xaxis": "x2",
         "y": [
          4.653960350157523,
          4.6443908991413725,
          4.430816798843313,
          4.127134385045092,
          5.25227342804663,
          2.3978952727983707,
          5.278114659230517,
          4.343805421853684,
          4.700480365792417,
          4.382026634673881,
          4.709530201312334,
          4.948759890378168,
          4.663439094112067,
          2.772588722239781,
          4.477336814478207,
          4.418840607796598,
          3.4965075614664802,
          4.1588830833596715,
          4.31748811353631,
          4.394449154672439,
          4.143134726391533,
          4.110873864173311,
          4.406719247264253,
          4.605170185988092,
          5.231108616854587,
          3.8501476017100584,
          4.718498871295094,
          4.110873864173311,
          3.9512437185814275,
          3.713572066704308,
          4.394449154672439,
          4.2626798770413155,
          4.2626798770413155,
          4.330733340286331,
          5.14166355650266,
          4.624972813284271,
          4.770684624465665,
          4.060443010546419,
          4.394449154672439,
          3.5553480614894135,
          4.51085950651685,
          4.5217885770490405,
          5.093750200806762,
          4.290459441148391,
          3.7376696182833684,
          4.624972813284271,
          3.912023005428146,
          4.90527477843843,
          4.9344739331306915,
          4.3694478524670215,
          4.3694478524670215,
          4.394449154672439,
          4.406719247264253,
          5.910796644040527,
          4.553876891600541,
          4.543294782270004,
          4.430816798843313,
          4.919980925828125,
          4.499809670330265,
          3.713572066704308,
          4.330733340286331,
          4.2626798770413155,
          4.430816798843313,
          4.382026634673881,
          3.6109179126442243,
          3.7612001156935624,
          4.343805421853684,
          4.574710978503383,
          4.700480365792417,
          4.454347296253507,
          4.844187086458591,
          4.382026634673881,
          4.663439094112067,
          4.07753744390572,
          4.634728988229636,
          4.844187086458591,
          4.02535169073515,
          5.225746673713202,
          4.859812404361672,
          4.219507705176107,
          3.4965075614664802,
          3.4011973816621555,
          4.653960350157523,
          4.543294782270004,
          3.5553480614894135,
          3.912023005428146,
          4.68213122712422,
          4.23410650459726,
          4.624972813284271,
          4.1588830833596715,
          3.970291913552122,
          4.189654742026425,
          4.442651256490317,
          4.48863636973214,
          4.9344739331306915,
          4.74493212836325,
          4.418840607796598,
          4.356708826689592,
          4.248495242049359,
          4.406719247264253,
          5.351858133476067,
          4.382026634673881,
          4.812184355372417,
          4.574710978503383,
          3.9318256327243257,
          4.634728988229636,
          4.343805421853684,
          4.290459441148391,
          4.6913478822291435,
          4.007333185232471,
          4.465908118654584,
          3.871201010907891,
          4.672828834461906,
          4.74493212836325,
          4.31748811353631,
          4.51085950651685,
          4.110873864173311,
          4.394449154672439,
          4.2626798770413155,
          3.367295829986474,
          4.02535169073515,
          4.7535901911063645,
          5.181783550292085,
          4.564348191467836,
          3.828641396489095,
          3.9889840465642745,
          3.828641396489095,
          4.897839799950911,
          3.6635616461296463,
          3.258096538021482,
          4.418840607796598,
          4.394449154672439,
          4.442651256490317,
          4.499809670330265,
          4.3694478524670215,
          4.276666119016055,
          3.9318256327243257,
          4.418840607796598,
          4.844187086458591,
          3.332204510175204
         ],
         "yaxis": "y2"
        },
        {
         "boxpoints": "all",
         "customdata": [
          [
           "Slow Hands",
           "Azealia Banks"
          ],
          [
           "Dont Think About It",
           "Moosh & Twist"
          ],
          [
           "Figaro",
           "Mar$ Gram"
          ],
          [
           "No Way",
           "Blury"
          ],
          [
           "808s  Fastbrakes",
           "Dtm Nascar"
          ],
          [
           "RARRI",
           "Mehki Raine"
          ],
          [
           "Pheromones",
           "Rome Fortune"
          ],
          [
           "Assault",
           "Avatar Caine"
          ],
          [
           "WOAH",
           "KynG Klay"
          ],
          [
           "Too Much Things",
           "Ivanex"
          ],
          [
           "Sneakin Pills",
           "Mar90s"
          ],
          [
           "A Critique From Moe-T",
           "Packy"
          ],
          [
           "Please Come Back",
           "BryceWRLD"
          ],
          [
           "The Otherside",
           "Louie $moke"
          ],
          [
           "If It Wasn’t For You",
           "M0M0"
          ],
          [
           "Talk my shit",
           "Jody Lo"
          ],
          [
           "Days",
           "The Kid Fitzy."
          ],
          [
           "William Foe",
           "No Suits"
          ],
          [
           "Hurt Me",
           "BoofPaxkMooky"
          ],
          [
           "Trilon",
           "713trunks"
          ],
          [
           "Accidents Happen",
           "Tory Lanez & Lil Tjay"
          ],
          [
           "Mask On Mask Off Freestyle",
           "Dwoyo"
          ],
          [
           "Revenge",
           "Skytlz"
          ],
          [
           "Bashar Barakah Flow",
           "Drizzy Frvncis"
          ],
          [
           "Window",
           "HDBeenDope"
          ],
          [
           "Muney Over Every",
           "Ju Smoov"
          ],
          [
           "Royalty",
           "16raheem"
          ],
          [
           "1 Take Freestyle Interlude",
           "Lamorne Morris"
          ],
          [
           "RAMPAGE",
           "FLACKOO.G"
          ],
          [
           "Mean It",
           "Urclouty"
          ],
          [
           "Rick Owens",
           "Jordan Phoenix & OR$I"
          ],
          [
           "Call me Babe",
           "Kaycee Spark"
          ],
          [
           "Tough Love",
           "Xoxopurge"
          ],
          [
           "I Dont Care",
           "Loco (RUS)"
          ],
          [
           "Malibu Feels",
           "TXNSHI"
          ],
          [
           "Not The Public Nuisance",
           "Jeminous"
          ],
          [
           "Verified",
           "Benjamin Lasnier"
          ],
          [
           "Faint",
           "Ill Fayze"
          ],
          [
           "JULY 19 FOREVER",
           "ANDRWMAARS"
          ],
          [
           "Torch Worthy",
           "AML Jay"
          ],
          [
           "FLY",
           "Jazz The Man"
          ],
          [
           "New god",
           "Qhost revievv"
          ],
          [
           "Arrival",
           "JoeyOri"
          ],
          [
           "Relax",
           "Travis Morton"
          ],
          [
           "Access Denied",
           "Distrik 22"
          ],
          [
           "Trust Issues",
           "SALEM"
          ],
          [
           "Video Vixen",
           "Gully"
          ],
          [
           "Rup3rt Gon Fall",
           "Kelvin Vercetti"
          ],
          [
           "Promise Me",
           "Austin White 711"
          ],
          [
           "End of Story Pt. 2",
           "wifisfuneral"
          ],
          [
           "Blue",
           "Gangsta Ric"
          ],
          [
           "Just for the Night",
           "Diego Valentino"
          ],
          [
           "Change My Ways",
           "Dshmurd"
          ],
          [
           "NaeNo Still In",
           "Naeno4L"
          ],
          [
           "The Diablo Interlude",
           "RPGFrankie5Star"
          ],
          [
           "Bliss",
           "SLAUGHTERMANE"
          ],
          [
           "Recluse",
           "Provoke"
          ],
          [
           "NASCENT",
           "ForeverLived"
          ],
          [
           "The Water Rap",
           "Jonah Hope"
          ],
          [
           "You Think Youre Nickel Slick",
           "MS2013"
          ],
          [
           "Dragon Ball",
           "Sean Wright"
          ],
          [
           "Cuban",
           "Dro Kenji"
          ],
          [
           "Cry Baby",
           "AB Crazy"
          ],
          [
           "Z",
           "Lil Plug"
          ],
          [
           "ICE CREAM TRUCK",
           "Brevin Kim"
          ],
          [
           "Dont Get",
           "CHASETHEMONEY"
          ],
          [
           "Thorns",
           "888 Blue"
          ],
          [
           "Get Over",
           "Nice The Guy"
          ],
          [
           "Let Me Go",
           "Prompto"
          ],
          [
           "DayDreamin",
           "Pxro"
          ],
          [
           "Beast",
           "DrizzlyQuinns"
          ],
          [
           "Pussy Poppin",
           "Rico Nasty"
          ],
          [
           "Poof",
           "Yung Fry"
          ],
          [
           "Medicine",
           "DG Hendrix"
          ],
          [
           "Dont Play With That Boy",
           "Smokepurpp & Murda Beatz"
          ],
          [
           "Belly Freestyle",
           "Southside Hoodlum"
          ],
          [
           "Cure",
           "Young Fla$h"
          ],
          [
           "Hatchback",
           "Deezyy"
          ],
          [
           "Make It",
           "Holstar"
          ],
          [
           "On The Way Girl Valerias Song",
           "Palm Paradise"
          ],
          [
           "​breathe",
           "asfixia"
          ],
          [
           "Jacks story",
           "Badkissssiii"
          ],
          [
           "Digiracks",
           "Cold Hart & Hella Sketchy"
          ],
          [
           "Mad-Man",
           "Sliimsam"
          ],
          [
           "Hoodie Melo",
           "SCVTTERBRVIN"
          ],
          [
           "Needed You  I need love",
           "KingSolrac"
          ],
          [
           "Real Ones",
           "TheLastLetter"
          ],
          [
           "PULL UP",
           "14DOLL"
          ],
          [
           "Hard White REMIX",
           "Ripsi WIneLover"
          ],
          [
           "Timing",
           "RACSO"
          ],
          [
           "Thick skin small wins",
           "PK (est)"
          ],
          [
           "1 Take",
           "Crash22"
          ],
          [
           "Big Kosovo",
           "GASHI"
          ],
          [
           "Work",
           "Quadeca"
          ],
          [
           "What Brightside?",
           "Dxrrvn"
          ],
          [
           "Time",
           "Spectra"
          ],
          [
           "Peace for the Street",
           "Dillihano"
          ],
          [
           "Nothin New",
           "Ayo & Teo"
          ],
          [
           "Clean Socks",
           "Yuno Miles"
          ],
          [
           "6:09",
           "69Fun"
          ],
          [
           "Don’t start sht",
           "Lil Woodryc"
          ],
          [
           "Kick Back",
           "Kid Ink"
          ],
          [
           "Nighthawks At McCoys",
           "Time, Maudlin Magpie & A Thousand Vows"
          ],
          [
           "Cinder Ace",
           "Yungster Jack"
          ],
          [
           "Put It On The Line",
           "Zaytoven & Fo15"
          ],
          [
           "Freestyle",
           "YungMonkeyBean"
          ],
          [
           "MONTERO Call Me By Your Name Straight Version I made the Straight Version of Lil Nas X- Montero 😂",
           "J-Hall (Rapper)"
          ],
          [
           "Teaser FUCK IT UP",
           "4she"
          ],
          [
           "Tequila Shots Prime Day Show x Kid Cudi",
           "Kid Cudi"
          ],
          [
           "Reminiscin on the past",
           "TWELEVETWENTYONE"
          ],
          [
           "Chakra",
           "Bill Breezy"
          ],
          [
           "In The Mood Remix",
           "Shing02"
          ],
          [
           "I Cant",
           "Julian $tyles"
          ],
          [
           "CAKE",
           "GAWD (Spotify)"
          ],
          [
           "​crush",
           "lil busy (hyperpop)"
          ],
          [
           "Throwback",
           "Nick Kopel"
          ],
          [
           "Fallin’ Asleep",
           "Sunny 3803b"
          ],
          [
           "Episode 11: Sea",
           "Sunshine Christo"
          ],
          [
           "Living it poor 1.5",
           "SkrillRaps"
          ],
          [
           "Rewind",
           "Nnena"
          ],
          [
           "Funeral",
           "Uniivrss"
          ],
          [
           "Real Nigga",
           "EBK Jaaybo"
          ],
          [
           "Demon",
           "Slimesito"
          ],
          [
           "Feelings Disguised",
           "Lil Ace 2GB"
          ],
          [
           "Explosion",
           "Delli Boe"
          ],
          [
           "On The Road",
           "NoCap & Rylo Rodriguez"
          ],
          [
           "Falling Down",
           "Lil Nas X"
          ],
          [
           "Grow Up Remix",
           "Hilary Pradia"
          ],
          [
           "No Sheep",
           "Pascall"
          ],
          [
           "Badsong.wav",
           "Cherry ills"
          ],
          [
           "Pain",
           "Us3rn4mee"
          ],
          [
           "Dinero Flow 99",
           "DineroGold"
          ],
          [
           "PR Baby",
           "TrxggaTre"
          ],
          [
           "Undefeated",
           "Oz the Oddz"
          ],
          [
           "DEATH",
           "Juelz & Knock2"
          ],
          [
           "Heart of Stone",
           "Connor Quest!"
          ],
          [
           "Father Light My Way",
           "OCTOBERSFULLMOON"
          ],
          [
           "Often",
           "XINCLAIR"
          ],
          [
           "Lavender Town",
           "AItentacion"
          ],
          [
           "Just Tryna",
           "Tsavage02"
          ],
          [
           "Composure",
           "Chris Ramos"
          ],
          [
           "Delegate",
           "Willie Sees Green"
          ],
          [
           "FAYGOTASTIC",
           "LV8R"
          ],
          [
           "What Do You Want?",
           "Maqel"
          ],
          [
           "And I Write Rhymes",
           "Funky DL"
          ],
          [
           "FINDING NIRVANA",
           "DATPIFFMAFIA"
          ],
          [
           "Doctor",
           "Hotboii"
          ],
          [
           "Main",
           "Tommi Truthz"
          ],
          [
           "Ego",
           "Purple HRVYX"
          ],
          [
           "New Me",
           "Pino"
          ],
          [
           "Whats Next Freestyle",
           "MC T4n4k4"
          ],
          [
           "Changes",
           "Aaron Narcotic"
          ],
          [
           "Starbound",
           "Deko & Yameii Online"
          ],
          [
           "Club",
           "Marto"
          ],
          [
           "Comeback",
           "D$B Reggie"
          ],
          [
           "Dishonest",
           "Ciggy Blacc"
          ],
          [
           "Lost pt.2",
           "Jordan Sword"
          ],
          [
           "Vector",
           "Eminet"
          ],
          [
           "​till hes dead",
           "MAJ"
          ],
          [
           "Move On As U Go",
           "Louis Mich"
          ],
          [
           "NC Style",
           "V!RTU & SkyBlew"
          ],
          [
           "OASIS",
           "redboy"
          ],
          [
           "I CANT GO",
           "KOLDHEARTEDD"
          ],
          [
           "Trust Nobody",
           "Trick9"
          ],
          [
           "Check Me",
           "RoverHipHop"
          ],
          [
           "Whats Love",
           "Tee Baby"
          ],
          [
           "Y G I D",
           "Drizzy Frvncis"
          ],
          [
           "Sharks",
           "Sam Kays"
          ],
          [
           "Introduction to Review Management Systems",
           "Harry"
          ],
          [
           "Needed Some Love",
           "Babyface Ray"
          ],
          [
           "Idi Akz x Sal - S3. EP47 Pt1. Next Up",
           "Idi Akz"
          ],
          [
           "My Mind",
           "D8 (UK)"
          ],
          [
           "Intro",
           "ISOBeats"
          ],
          [
           "New Age Yakuza",
           "Breeton Boi"
          ],
          [
           "Venom Remix",
           "Dax"
          ],
          [
           "Gwaska",
           "Uncle D.I.A."
          ],
          [
           "Blue Racks",
           "DanDanDan3"
          ],
          [
           "Missed Calls",
           "100K Track"
          ],
          [
           "Feelin",
           "Solscape"
          ],
          [
           "Snap Back to Realitt",
           "Jay Rodenbrush"
          ],
          [
           "Diesel",
           "The Alchemist"
          ],
          [
           "Walkin Dead",
           "Ghost Kellz"
          ],
          [
           "Nothing Forever",
           "Wido"
          ],
          [
           "LOATHING",
           "Prettyboy Col"
          ],
          [
           "Trapped",
           "Dawsxn"
          ],
          [
           "Guy of the deer",
           "DEERGUY"
          ],
          [
           "Ima Dogg",
           "King Murka"
          ],
          [
           "Beautiful Earth",
           "AJ_Official2005"
          ],
          [
           "Feel It In The Air Remix Freestyle",
           "Yung MaunRoe"
          ],
          [
           "Fabri Fibra - Demo Nello Stereo English Translation",
           "Genius Translations"
          ],
          [
           "Chanel Shoes",
           "Onlybino!"
          ],
          [
           "New Life",
           "MC Wave"
          ]
         ],
         "hovertemplate": "title: %{customdata[0]}<br>artist: %{customdata[1]}<br>log(words): %{y}",
         "name": "rap",
         "type": "box",
         "xaxis": "x2",
         "y": [
          4.663439094112067,
          5.356586274672012,
          5.6937321388027,
          5.262690188904886,
          5.220355825078324,
          5.043425116919247,
          4.770684624465665,
          4.836281906951478,
          4.499809670330265,
          4.51085950651685,
          4.875197323201151,
          4.59511985013459,
          5.111987788356544,
          4.127134385045092,
          4.962844630259907,
          5.384495062789089,
          4.795790545596741,
          4.709530201312334,
          4.859812404361672,
          4.762173934797756,
          5.598421958998375,
          5.198497031265826,
          5.318119993844216,
          4.912654885736052,
          4.997212273764115,
          5.351858133476067,
          5.476463551931511,
          4.624972813284271,
          4.897839799950911,
          4.290459441148391,
          4.875197323201151,
          4.2626798770413155,
          4.127134385045092,
          5.5053315359323625,
          4.727387818712341,
          5.111987788356544,
          4.897839799950911,
          5.497168225293202,
          4.477336814478207,
          5.147494476813453,
          4.624972813284271,
          5.0238805208462765,
          4.394449154672439,
          4.9344739331306915,
          5.25227342804663,
          5.605802066295998,
          5.493061443340548,
          5.288267030694535,
          4.532599493153256,
          4.844187086458591,
          5.236441962829949,
          4.962844630259907,
          4.795790545596741,
          4.812184355372417,
          4.927253685157205,
          4.574710978503383,
          5.480638923341991,
          4.672828834461906,
          4.007333185232471,
          4.727387818712341,
          5.3471075307174685,
          4.795790545596741,
          4.875197323201151,
          5.236441962829949,
          4.110873864173311,
          4.919980925828125,
          4.382026634673881,
          5.187385805840755,
          5.123963979403259,
          5.3471075307174685,
          5.602118820879701,
          4.919980925828125,
          5.017279836814924,
          5.5134287461649825,
          3.713572066704308,
          4.6913478822291435,
          5.049856007249537,
          4.948759890378168,
          5.44673737166631,
          4.990432586778736,
          3.9318256327243257,
          3.871201010907891,
          4.007333185232471,
          5.209486152841421,
          5.1298987149230735,
          4.2626798770413155,
          4.983606621708336,
          4.812184355372417,
          5.634789603169249,
          5.337538079701318,
          4.532599493153256,
          5.5093883366279774,
          4.718498871295094,
          5.616771097666572,
          5.049856007249537,
          4.574710978503383,
          4.574710978503383,
          4.605170185988092,
          4.7535901911063645,
          4.23410650459726,
          4.6913478822291435,
          5.204006687076795,
          5.204006687076795,
          5.241747015059643,
          4.969813299576001,
          3.9512437185814275,
          4.844187086458591,
          3.9512437185814275,
          5.0106352940962555,
          4.787491742782046,
          4.330733340286331,
          5.19295685089021,
          4.812184355372417,
          4.983606621708336,
          4.553876891600541,
          5.6937321388027,
          5.030437921392435,
          5.3230099791384085,
          5.641907070938114,
          5.056245805348308,
          4.68213122712422,
          5.0106352940962555,
          5.153291594497779,
          5.318119993844216,
          4.762173934797756,
          5.062595033026967,
          4.406719247264253,
          5.043425116919247,
          5.117993812416755,
          3.6635616461296463,
          4.574710978503383,
          4.77912349311153,
          4.983606621708336,
          4.663439094112067,
          4.2626798770413155,
          5.308267697401205,
          4.890349128221754,
          4.867534450455582,
          3.8066624897703196,
          5.3981627015177525,
          5.298317366548036,
          5.056245805348308,
          4.983606621708336,
          4.867534450455582,
          5.407171771460119,
          4.983606621708336,
          5.2574953720277815,
          4.882801922586371,
          4.48863636973214,
          5.575949103146316,
          5.153291594497779,
          4.48863636973214,
          4.330733340286331,
          4.418840607796598,
          5.19295685089021,
          5.153291594497779,
          4.406719247264253,
          4.962844630259907,
          4.836281906951478,
          5.288267030694535,
          5.556828061699537,
          5.075173815233827,
          5.0689042022202315,
          5.176149732573829,
          5.814130531825066,
          5.14166355650266,
          5.267858159063328,
          5.030437921392435,
          4.948759890378168,
          4.875197323201151,
          5.19295685089021,
          4.663439094112067,
          3.4339872044851463,
          5.948034989180646,
          6.142037405587356,
          5.389071729816501,
          4.663439094112067,
          5.0106352940962555,
          5.342334251964811,
          3.713572066704308,
          5.420534999272286,
          5.030437921392435,
          3.7612001156935624,
          3.5263605246161616,
          4.406719247264253,
          4.564348191467836,
          5.541263545158426,
          5.3706380281276624,
          5.0238805208462765,
          5.389071729816501,
          4.8283137373023015,
          4.804021044733257
         ],
         "yaxis": "y2"
        },
        {
         "boxpoints": "all",
         "customdata": [
          [
           "Temporary Forevers",
           "Armani Kay"
          ],
          [
           "Down",
           "ZHARMILA"
          ],
          [
           "Change",
           "Jermaine Dupri"
          ],
          [
           "Mean That",
           "Corey Holland"
          ],
          [
           "Stay Here Tonight",
           "Jagged Edge"
          ],
          [
           "Reflection",
           "Dara Blaxx"
          ],
          [
           "Hit Different",
           "Trey Songz"
          ],
          [
           "Is Everything Alright? feat. Thomas Reid",
           "Luvlilk"
          ],
          [
           "The Sound feat. McPhee",
           "Gavanni"
          ],
          [
           "Let Me Love You Interlude",
           "X1 (MAVERICK)"
          ],
          [
           "Forget Me",
           "Eva Constance"
          ],
          [
           "Kindness For Weakness",
           "Y.D.G {YasDaGr8t}"
          ],
          [
           "Heartbreak in a Bottle The Full Story",
           "Dee Devan"
          ],
          [
           "Stay with me",
           "Brio"
          ],
          [
           "Aquarius",
           "Joe Prince"
          ],
          [
           "Free Will",
           "Anushka"
          ],
          [
           "ComplyCatted",
           "Kw.Y.IT"
          ],
          [
           "Dizzy",
           "JAHKOY & Lyfe Harris"
          ],
          [
           "Let me down",
           "Sophie Marks"
          ],
          [
           "BLACKJACK",
           "Teddy"
          ],
          [
           "2AM",
           "Dept ()"
          ],
          [
           "Niggas Liking Up",
           "Ant Banks"
          ],
          [
           "SELAH",
           "HLYGHST"
          ],
          [
           "Sister 2 Sister",
           "Ibeyi"
          ],
          [
           "Beside You",
           "Baby E The Prince"
          ],
          [
           "Broken Love",
           "Wavvy"
          ],
          [
           "Cigarettes",
           "FEX"
          ],
          [
           "You Taste So Good",
           "RnB Bay Boy"
          ],
          [
           "Go Flex",
           "Daye LaHookz"
          ]
         ],
         "hovertemplate": "title: %{customdata[0]}<br>artist: %{customdata[1]}<br>log(words): %{y}",
         "name": "rb",
         "type": "box",
         "xaxis": "x2",
         "y": [
          4.454347296253507,
          3.6375861597263857,
          5.0369526024136295,
          4.465908118654584,
          4.7535901911063645,
          4.477336814478207,
          4.859812404361672,
          4.454347296253507,
          4.912654885736052,
          3.2188758248682006,
          4.110873864173311,
          4.882801922586371,
          4.90527477843843,
          4.30406509320417,
          3.713572066704308,
          3.9512437185814275,
          5.288267030694535,
          5.10594547390058,
          4.406719247264253,
          4.605170185988092,
          4.6913478822291435,
          4.653960350157523,
          4.74493212836325,
          4.2626798770413155,
          4.343805421853684,
          5.0689042022202315,
          4.394449154672439,
          4.663439094112067,
          5.056245805348308
         ],
         "yaxis": "y2"
        },
        {
         "boxpoints": "all",
         "customdata": [
          [
           "Sum of All Shit",
           "Black Comedy"
          ],
          [
           "Just a Little Bit",
           "Gordon Lightfoot"
          ],
          [
           "Just Like Heroin",
           "Grey Daze"
          ],
          [
           "The Bakyuuns",
           "Catface"
          ],
          [
           "Gardenias",
           "Protest The Hero"
          ],
          [
           "Acolyte",
           "Wilbur Soot"
          ],
          [
           "I Feel Alive Again",
           "Killswitch Engage"
          ],
          [
           "Lonely Town",
           "Jonathan Young"
          ],
          [
           "Sunshine",
           "SadBoots"
          ],
          [
           "Sigyn Live",
           "The Mechanisms"
          ],
          [
           "Vision",
           "Animals in the Attic"
          ],
          [
           "Riot Addict",
           "Slaves to Humanity"
          ],
          [
           "Tell The Bad Boys Im Back Alive",
           "Max Goedecke"
          ],
          [
           "The Sethian",
           "Draconian"
          ],
          [
           "Nothing Left",
           "POORSTACY & Travis Barker"
          ],
          [
           "My Perfect World",
           "Out Of Love"
          ],
          [
           "P.E.T",
           "Abisai"
          ],
          [
           "Magicians",
           "Young Jesus"
          ],
          [
           "Promised Land",
           "Future Utopia"
          ],
          [
           "Convergence",
           "Thus Unspoken"
          ],
          [
           "Bohemian Rhapsody Live at Fire Fight Australia ANZ Stadium Sydney Australia 2020",
           "Queen"
          ],
          [
           "Frank",
           "Lil Bipolar"
          ],
          [
           "Shadowman IV",
           "Thrilldriver"
          ],
          [
           "Kill Yourself",
           "Murder Death Kill"
          ],
          [
           "Come To Me",
           "Danny Vitola"
          ],
          [
           "Some Place to Go",
           "Thomas Csorba"
          ],
          [
           "Think Again",
           "Darknet"
          ],
          [
           "Hole",
           "Tuffragettes"
          ],
          [
           "Oversharers Anonymous",
           "Wild Pink"
          ],
          [
           "Raindrops",
           "The Besnard Lakes"
          ],
          [
           "New Girl",
           "Moscow Apartment"
          ],
          [
           "On My Mind",
           "To Kill Achilles"
          ],
          [
           "Mostly Downs",
           "Tired Radio"
          ],
          [
           "La Moria Grandissima",
           "Sarcoptes"
          ],
          [
           "The War Inside I Will Fight Back",
           "Connor Tuttle"
          ],
          [
           "My Dreams Always Seem So Real",
           "Transgenic Nightmare Art"
          ],
          [
           "No Point",
           "Fried By Fluoride"
          ],
          [
           "First Love",
           "Lil Zoid"
          ],
          [
           "Broken Again",
           "Atreyu"
          ],
          [
           "Mold",
           "Sunday Cruise"
          ],
          [
           "Why Do I Try?",
           "aaustinevans"
          ],
          [
           "Desire",
           "The Goon Sax"
          ],
          [
           "Can We Go Back",
           "Frontier"
          ],
          [
           "Infinity",
           "TarLung"
          ],
          [
           "Machine Gun",
           "Badflower"
          ],
          [
           "A World Away",
           "Tremonti"
          ],
          [
           "Tiger Lilies",
           "Sun On Shade"
          ],
          [
           "Full Size Render",
           "j ember"
          ],
          [
           "Journey’s End",
           "Roger Taylor"
          ],
          [
           "Transient Whales",
           "Toad the Wet Sprocket"
          ],
          [
           "Daemonifuge",
           "Dark Age of Technology"
          ],
          [
           "History",
           "Tasha"
          ],
          [
           "Little April",
           "Xs & ARROWs"
          ],
          [
           "Poltergeist",
           "Terravore"
          ],
          [
           "Shes My Man",
           "Dirty Laundry"
          ],
          [
           "Twisted Skin",
           "The Horrors"
          ],
          [
           "Chronos Pt. 1  2 Unplugged / Live",
           "Kensington"
          ],
          [
           "Cycle",
           "First Religion"
          ],
          [
           "Sorry",
           "The Sherlocks"
          ],
          [
           "Disharmonious Unlife",
           "Red Mesa"
          ],
          [
           "To Wash Away A Human Stain",
           "Grtfrdig"
          ],
          [
           "Apologetic",
           "Stopping Clocks"
          ],
          [
           "Holy Ghost",
           "Beach Death"
          ],
          [
           "Lil Mud Head",
           "Jake McNeillie"
          ],
          [
           "Wearing Thin",
           "NTH RD"
          ],
          [
           "Soft Corridors",
           "Vacant Lights"
          ],
          [
           "Headspace",
           "Anxiety Attacks! & Fats'e"
          ],
          [
           "Death Prize",
           "Deficit (AU)"
          ],
          [
           "Tomorrow",
           "Solipse"
          ],
          [
           "​​​​in spirit its a madcat",
           "Big Water"
          ],
          [
           "Be",
           "Blue Town"
          ]
         ],
         "hovertemplate": "title: %{customdata[0]}<br>artist: %{customdata[1]}<br>log(words): %{y}",
         "name": "rock",
         "type": "box",
         "xaxis": "x2",
         "y": [
          5.209486152841421,
          4.74493212836325,
          3.8501476017100584,
          4.663439094112067,
          5.062595033026967,
          4.653960350157523,
          4.605170185988092,
          4.875197323201151,
          4.406719247264253,
          4.990432586778736,
          3.091042453358316,
          4.532599493153256,
          4.653960350157523,
          4.330733340286331,
          4.110873864173311,
          3.6375861597263857,
          4.418840607796598,
          4.672828834461906,
          4.04305126783455,
          4.30406509320417,
          4.330733340286331,
          4.07753744390572,
          4.770684624465665,
          4.532599493153256,
          4.0943445622221,
          5.049856007249537,
          4.804021044733257,
          4.68213122712422,
          4.727387818712341,
          4.31748811353631,
          4.02535169073515,
          4.68213122712422,
          4.61512051684126,
          4.382026634673881,
          3.7612001156935624,
          4.127134385045092,
          3.8918202981106265,
          3.9889840465642745,
          3.9889840465642745,
          3.9889840465642745,
          4.1588830833596715,
          4.143134726391533,
          4.3694478524670215,
          3.6635616461296463,
          4.770684624465665,
          4.574710978503383,
          4.48863636973214,
          4.442651256490317,
          4.23410650459726,
          4.727387818712341,
          4.624972813284271,
          4.718498871295094,
          4.007333185232471,
          4.955827057601261,
          4.59511985013459,
          4.382026634673881,
          4.454347296253507,
          3.970291913552122,
          4.787491742782046,
          4.74493212836325,
          4.718498871295094,
          4.709530201312334,
          4.672828834461906,
          3.2188758248682006,
          4.574710978503383,
          4.204692619390966,
          4.574710978503383,
          4.663439094112067,
          3.8066624897703196,
          4.189654742026425,
          4.90527477843843
         ],
         "yaxis": "y2"
        }
       ],
       "layout": {
        "annotations": [
         {
          "font": {
           "size": 16
          },
          "showarrow": false,
          "text": "2010",
          "x": 0.225,
          "xanchor": "center",
          "xref": "paper",
          "y": 1,
          "yanchor": "bottom",
          "yref": "paper"
         },
         {
          "font": {
           "size": 16
          },
          "showarrow": false,
          "text": "2020",
          "x": 0.775,
          "xanchor": "center",
          "xref": "paper",
          "y": 1,
          "yanchor": "bottom",
          "yref": "paper"
         },
         {
          "font": {
           "size": 16
          },
          "showarrow": false,
          "text": "tags",
          "x": 0.5,
          "xanchor": "center",
          "xref": "paper",
          "y": 0,
          "yanchor": "top",
          "yref": "paper",
          "yshift": -30
         },
         {
          "font": {
           "size": 16
          },
          "showarrow": false,
          "text": "log(unique words)",
          "textangle": -90,
          "x": 0,
          "xanchor": "right",
          "xref": "paper",
          "xshift": -40,
          "y": 0.5,
          "yanchor": "middle",
          "yref": "paper"
         }
        ],
        "template": {
         "data": {
          "bar": [
           {
            "error_x": {
             "color": "#2a3f5f"
            },
            "error_y": {
             "color": "#2a3f5f"
            },
            "marker": {
             "line": {
              "color": "#E5ECF6",
              "width": 0.5
             },
             "pattern": {
              "fillmode": "overlay",
              "size": 10,
              "solidity": 0.2
             }
            },
            "type": "bar"
           }
          ],
          "barpolar": [
           {
            "marker": {
             "line": {
              "color": "#E5ECF6",
              "width": 0.5
             },
             "pattern": {
              "fillmode": "overlay",
              "size": 10,
              "solidity": 0.2
             }
            },
            "type": "barpolar"
           }
          ],
          "carpet": [
           {
            "aaxis": {
             "endlinecolor": "#2a3f5f",
             "gridcolor": "white",
             "linecolor": "white",
             "minorgridcolor": "white",
             "startlinecolor": "#2a3f5f"
            },
            "baxis": {
             "endlinecolor": "#2a3f5f",
             "gridcolor": "white",
             "linecolor": "white",
             "minorgridcolor": "white",
             "startlinecolor": "#2a3f5f"
            },
            "type": "carpet"
           }
          ],
          "choropleth": [
           {
            "colorbar": {
             "outlinewidth": 0,
             "ticks": ""
            },
            "type": "choropleth"
           }
          ],
          "contour": [
           {
            "colorbar": {
             "outlinewidth": 0,
             "ticks": ""
            },
            "colorscale": [
             [
              0,
              "#0d0887"
             ],
             [
              0.1111111111111111,
              "#46039f"
             ],
             [
              0.2222222222222222,
              "#7201a8"
             ],
             [
              0.3333333333333333,
              "#9c179e"
             ],
             [
              0.4444444444444444,
              "#bd3786"
             ],
             [
              0.5555555555555556,
              "#d8576b"
             ],
             [
              0.6666666666666666,
              "#ed7953"
             ],
             [
              0.7777777777777778,
              "#fb9f3a"
             ],
             [
              0.8888888888888888,
              "#fdca26"
             ],
             [
              1,
              "#f0f921"
             ]
            ],
            "type": "contour"
           }
          ],
          "contourcarpet": [
           {
            "colorbar": {
             "outlinewidth": 0,
             "ticks": ""
            },
            "type": "contourcarpet"
           }
          ],
          "heatmap": [
           {
            "colorbar": {
             "outlinewidth": 0,
             "ticks": ""
            },
            "colorscale": [
             [
              0,
              "#0d0887"
             ],
             [
              0.1111111111111111,
              "#46039f"
             ],
             [
              0.2222222222222222,
              "#7201a8"
             ],
             [
              0.3333333333333333,
              "#9c179e"
             ],
             [
              0.4444444444444444,
              "#bd3786"
             ],
             [
              0.5555555555555556,
              "#d8576b"
             ],
             [
              0.6666666666666666,
              "#ed7953"
             ],
             [
              0.7777777777777778,
              "#fb9f3a"
             ],
             [
              0.8888888888888888,
              "#fdca26"
             ],
             [
              1,
              "#f0f921"
             ]
            ],
            "type": "heatmap"
           }
          ],
          "heatmapgl": [
           {
            "colorbar": {
             "outlinewidth": 0,
             "ticks": ""
            },
            "colorscale": [
             [
              0,
              "#0d0887"
             ],
             [
              0.1111111111111111,
              "#46039f"
             ],
             [
              0.2222222222222222,
              "#7201a8"
             ],
             [
              0.3333333333333333,
              "#9c179e"
             ],
             [
              0.4444444444444444,
              "#bd3786"
             ],
             [
              0.5555555555555556,
              "#d8576b"
             ],
             [
              0.6666666666666666,
              "#ed7953"
             ],
             [
              0.7777777777777778,
              "#fb9f3a"
             ],
             [
              0.8888888888888888,
              "#fdca26"
             ],
             [
              1,
              "#f0f921"
             ]
            ],
            "type": "heatmapgl"
           }
          ],
          "histogram": [
           {
            "marker": {
             "pattern": {
              "fillmode": "overlay",
              "size": 10,
              "solidity": 0.2
             }
            },
            "type": "histogram"
           }
          ],
          "histogram2d": [
           {
            "colorbar": {
             "outlinewidth": 0,
             "ticks": ""
            },
            "colorscale": [
             [
              0,
              "#0d0887"
             ],
             [
              0.1111111111111111,
              "#46039f"
             ],
             [
              0.2222222222222222,
              "#7201a8"
             ],
             [
              0.3333333333333333,
              "#9c179e"
             ],
             [
              0.4444444444444444,
              "#bd3786"
             ],
             [
              0.5555555555555556,
              "#d8576b"
             ],
             [
              0.6666666666666666,
              "#ed7953"
             ],
             [
              0.7777777777777778,
              "#fb9f3a"
             ],
             [
              0.8888888888888888,
              "#fdca26"
             ],
             [
              1,
              "#f0f921"
             ]
            ],
            "type": "histogram2d"
           }
          ],
          "histogram2dcontour": [
           {
            "colorbar": {
             "outlinewidth": 0,
             "ticks": ""
            },
            "colorscale": [
             [
              0,
              "#0d0887"
             ],
             [
              0.1111111111111111,
              "#46039f"
             ],
             [
              0.2222222222222222,
              "#7201a8"
             ],
             [
              0.3333333333333333,
              "#9c179e"
             ],
             [
              0.4444444444444444,
              "#bd3786"
             ],
             [
              0.5555555555555556,
              "#d8576b"
             ],
             [
              0.6666666666666666,
              "#ed7953"
             ],
             [
              0.7777777777777778,
              "#fb9f3a"
             ],
             [
              0.8888888888888888,
              "#fdca26"
             ],
             [
              1,
              "#f0f921"
             ]
            ],
            "type": "histogram2dcontour"
           }
          ],
          "mesh3d": [
           {
            "colorbar": {
             "outlinewidth": 0,
             "ticks": ""
            },
            "type": "mesh3d"
           }
          ],
          "parcoords": [
           {
            "line": {
             "colorbar": {
              "outlinewidth": 0,
              "ticks": ""
             }
            },
            "type": "parcoords"
           }
          ],
          "pie": [
           {
            "automargin": true,
            "type": "pie"
           }
          ],
          "scatter": [
           {
            "fillpattern": {
             "fillmode": "overlay",
             "size": 10,
             "solidity": 0.2
            },
            "type": "scatter"
           }
          ],
          "scatter3d": [
           {
            "line": {
             "colorbar": {
              "outlinewidth": 0,
              "ticks": ""
             }
            },
            "marker": {
             "colorbar": {
              "outlinewidth": 0,
              "ticks": ""
             }
            },
            "type": "scatter3d"
           }
          ],
          "scattercarpet": [
           {
            "marker": {
             "colorbar": {
              "outlinewidth": 0,
              "ticks": ""
             }
            },
            "type": "scattercarpet"
           }
          ],
          "scattergeo": [
           {
            "marker": {
             "colorbar": {
              "outlinewidth": 0,
              "ticks": ""
             }
            },
            "type": "scattergeo"
           }
          ],
          "scattergl": [
           {
            "marker": {
             "colorbar": {
              "outlinewidth": 0,
              "ticks": ""
             }
            },
            "type": "scattergl"
           }
          ],
          "scattermapbox": [
           {
            "marker": {
             "colorbar": {
              "outlinewidth": 0,
              "ticks": ""
             }
            },
            "type": "scattermapbox"
           }
          ],
          "scatterpolar": [
           {
            "marker": {
             "colorbar": {
              "outlinewidth": 0,
              "ticks": ""
             }
            },
            "type": "scatterpolar"
           }
          ],
          "scatterpolargl": [
           {
            "marker": {
             "colorbar": {
              "outlinewidth": 0,
              "ticks": ""
             }
            },
            "type": "scatterpolargl"
           }
          ],
          "scatterternary": [
           {
            "marker": {
             "colorbar": {
              "outlinewidth": 0,
              "ticks": ""
             }
            },
            "type": "scatterternary"
           }
          ],
          "surface": [
           {
            "colorbar": {
             "outlinewidth": 0,
             "ticks": ""
            },
            "colorscale": [
             [
              0,
              "#0d0887"
             ],
             [
              0.1111111111111111,
              "#46039f"
             ],
             [
              0.2222222222222222,
              "#7201a8"
             ],
             [
              0.3333333333333333,
              "#9c179e"
             ],
             [
              0.4444444444444444,
              "#bd3786"
             ],
             [
              0.5555555555555556,
              "#d8576b"
             ],
             [
              0.6666666666666666,
              "#ed7953"
             ],
             [
              0.7777777777777778,
              "#fb9f3a"
             ],
             [
              0.8888888888888888,
              "#fdca26"
             ],
             [
              1,
              "#f0f921"
             ]
            ],
            "type": "surface"
           }
          ],
          "table": [
           {
            "cells": {
             "fill": {
              "color": "#EBF0F8"
             },
             "line": {
              "color": "white"
             }
            },
            "header": {
             "fill": {
              "color": "#C8D4E3"
             },
             "line": {
              "color": "white"
             }
            },
            "type": "table"
           }
          ]
         },
         "layout": {
          "annotationdefaults": {
           "arrowcolor": "#2a3f5f",
           "arrowhead": 0,
           "arrowwidth": 1
          },
          "autotypenumbers": "strict",
          "coloraxis": {
           "colorbar": {
            "outlinewidth": 0,
            "ticks": ""
           }
          },
          "colorscale": {
           "diverging": [
            [
             0,
             "#8e0152"
            ],
            [
             0.1,
             "#c51b7d"
            ],
            [
             0.2,
             "#de77ae"
            ],
            [
             0.3,
             "#f1b6da"
            ],
            [
             0.4,
             "#fde0ef"
            ],
            [
             0.5,
             "#f7f7f7"
            ],
            [
             0.6,
             "#e6f5d0"
            ],
            [
             0.7,
             "#b8e186"
            ],
            [
             0.8,
             "#7fbc41"
            ],
            [
             0.9,
             "#4d9221"
            ],
            [
             1,
             "#276419"
            ]
           ],
           "sequential": [
            [
             0,
             "#0d0887"
            ],
            [
             0.1111111111111111,
             "#46039f"
            ],
            [
             0.2222222222222222,
             "#7201a8"
            ],
            [
             0.3333333333333333,
             "#9c179e"
            ],
            [
             0.4444444444444444,
             "#bd3786"
            ],
            [
             0.5555555555555556,
             "#d8576b"
            ],
            [
             0.6666666666666666,
             "#ed7953"
            ],
            [
             0.7777777777777778,
             "#fb9f3a"
            ],
            [
             0.8888888888888888,
             "#fdca26"
            ],
            [
             1,
             "#f0f921"
            ]
           ],
           "sequentialminus": [
            [
             0,
             "#0d0887"
            ],
            [
             0.1111111111111111,
             "#46039f"
            ],
            [
             0.2222222222222222,
             "#7201a8"
            ],
            [
             0.3333333333333333,
             "#9c179e"
            ],
            [
             0.4444444444444444,
             "#bd3786"
            ],
            [
             0.5555555555555556,
             "#d8576b"
            ],
            [
             0.6666666666666666,
             "#ed7953"
            ],
            [
             0.7777777777777778,
             "#fb9f3a"
            ],
            [
             0.8888888888888888,
             "#fdca26"
            ],
            [
             1,
             "#f0f921"
            ]
           ]
          },
          "colorway": [
           "#636efa",
           "#EF553B",
           "#00cc96",
           "#ab63fa",
           "#FFA15A",
           "#19d3f3",
           "#FF6692",
           "#B6E880",
           "#FF97FF",
           "#FECB52"
          ],
          "font": {
           "color": "#2a3f5f"
          },
          "geo": {
           "bgcolor": "white",
           "lakecolor": "white",
           "landcolor": "#E5ECF6",
           "showlakes": true,
           "showland": true,
           "subunitcolor": "white"
          },
          "hoverlabel": {
           "align": "left"
          },
          "hovermode": "closest",
          "mapbox": {
           "style": "light"
          },
          "paper_bgcolor": "white",
          "plot_bgcolor": "#E5ECF6",
          "polar": {
           "angularaxis": {
            "gridcolor": "white",
            "linecolor": "white",
            "ticks": ""
           },
           "bgcolor": "#E5ECF6",
           "radialaxis": {
            "gridcolor": "white",
            "linecolor": "white",
            "ticks": ""
           }
          },
          "scene": {
           "xaxis": {
            "backgroundcolor": "#E5ECF6",
            "gridcolor": "white",
            "gridwidth": 2,
            "linecolor": "white",
            "showbackground": true,
            "ticks": "",
            "zerolinecolor": "white"
           },
           "yaxis": {
            "backgroundcolor": "#E5ECF6",
            "gridcolor": "white",
            "gridwidth": 2,
            "linecolor": "white",
            "showbackground": true,
            "ticks": "",
            "zerolinecolor": "white"
           },
           "zaxis": {
            "backgroundcolor": "#E5ECF6",
            "gridcolor": "white",
            "gridwidth": 2,
            "linecolor": "white",
            "showbackground": true,
            "ticks": "",
            "zerolinecolor": "white"
           }
          },
          "shapedefaults": {
           "line": {
            "color": "#2a3f5f"
           }
          },
          "ternary": {
           "aaxis": {
            "gridcolor": "white",
            "linecolor": "white",
            "ticks": ""
           },
           "baxis": {
            "gridcolor": "white",
            "linecolor": "white",
            "ticks": ""
           },
           "bgcolor": "#E5ECF6",
           "caxis": {
            "gridcolor": "white",
            "linecolor": "white",
            "ticks": ""
           }
          },
          "title": {
           "x": 0.05
          },
          "xaxis": {
           "automargin": true,
           "gridcolor": "white",
           "linecolor": "white",
           "ticks": "",
           "title": {
            "standoff": 15
           },
           "zerolinecolor": "white",
           "zerolinewidth": 2
          },
          "yaxis": {
           "automargin": true,
           "gridcolor": "white",
           "linecolor": "white",
           "ticks": "",
           "title": {
            "standoff": 15
           },
           "zerolinecolor": "white",
           "zerolinewidth": 2
          }
         }
        },
        "xaxis": {
         "anchor": "y",
         "domain": [
          0,
          0.45
         ]
        },
        "xaxis2": {
         "anchor": "y2",
         "domain": [
          0.55,
          1
         ]
        },
        "yaxis": {
         "anchor": "x",
         "domain": [
          0,
          1
         ]
        },
        "yaxis2": {
         "anchor": "x2",
         "domain": [
          0,
          1
         ]
        }
       }
      }
     },
     "metadata": {},
     "output_type": "display_data"
    }
   ],
   "source": [
    "words_decades(df, [2010, 2020])"
   ]
  }
 ],
 "metadata": {
  "kernelspec": {
   "display_name": "tdde16proj-env",
   "language": "python",
   "name": "python3"
  },
  "language_info": {
   "codemirror_mode": {
    "name": "ipython",
    "version": 3
   },
   "file_extension": ".py",
   "mimetype": "text/x-python",
   "name": "python",
   "nbconvert_exporter": "python",
   "pygments_lexer": "ipython3",
   "version": "3.9.13"
  },
  "orig_nbformat": 4
 },
 "nbformat": 4,
 "nbformat_minor": 2
}
