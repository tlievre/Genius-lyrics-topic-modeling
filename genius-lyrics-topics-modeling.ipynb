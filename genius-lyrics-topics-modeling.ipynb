{
 "cells": [
  {
   "cell_type": "markdown",
   "id": "4c3c26a0",
   "metadata": {
    "papermill": {
     "duration": 0.018791,
     "end_time": "2023-03-15T23:21:22.713745",
     "exception": false,
     "start_time": "2023-03-15T23:21:22.694954",
     "status": "completed"
    },
    "tags": []
   },
   "source": [
    "# Topic analysis based on Genius songs lyrics\n",
    "\n",
    "Author : lievre.thomas@gmail.com\n",
    "\n",
    "---\n",
    "\n",
    "In this notebook, we will explore the genius data extract from [Kaggle](https://www.kaggle.com/datasets/carlosgdcj/genius-song-lyrics-with-language-information).\n",
    "\n",
    "**The aim of this analysis is to retrieve topic from lyrics and retrieve main topics by year or decade.**\n",
    "\n",
    "This notebook was carried out in the context of a class project imposed by the [text mining course (TDDE16)](https://www.ida.liu.se/~TDDE16/project.en.shtml) of Linköpings universitet.\n",
    "\n",
    "\n",
    "## Few informations about Genius website\n",
    "\n",
    "Genius is an American digital company founded on August 27, 2009, by Tom Lehman, lan Zechory, and Mahbod Moghadam. Originally launched as Rap Genius with a focus on hip-hop music, it was initially a crowdsourced website where people could fill in the lyrics of rap music and give an interpretation of the lyrics. Over the years the site has grown to contain several million annotated texts from all eras ( from [Wikipedia Genius page](https://en.wikipedia.org/wiki/Genius_(company))).\n",
    "\n",
    "\n",
    "## Load the data in memory\n",
    "\n",
    "Data are all contain in a big 9GB csv file (around 5 millions rows). It could be dificult to load all this data in our computer memory. To deal with this issue, I made a loading class to split the data in 6 pickles files to improve the compressness of the data which aim to improve the loading speed in the memory. Then the pickles are randomly draw to improve generality of the data. We currently assumed the data pickles batch are identically distributed (we will explore the data batches at the second part). The class below deal with all the process."
   ]
  },
  {
   "cell_type": "code",
   "execution_count": 1,
   "id": "4c596054",
   "metadata": {
    "execution": {
     "iopub.execute_input": "2023-03-15T23:21:22.753040Z",
     "iopub.status.busy": "2023-03-15T23:21:22.752360Z",
     "iopub.status.idle": "2023-03-15T23:21:22.770980Z",
     "shell.execute_reply": "2023-03-15T23:21:22.770115Z"
    },
    "papermill": {
     "duration": 0.041981,
     "end_time": "2023-03-15T23:21:22.773706",
     "exception": false,
     "start_time": "2023-03-15T23:21:22.731725",
     "status": "completed"
    },
    "tags": []
   },
   "outputs": [],
   "source": [
    "import pandas as pd\n",
    "from random import seed, sample\n",
    "import pickle\n",
    "import glob\n",
    "import os\n",
    "\n",
    "class Loader():\n",
    "\n",
    "    def __init__(self, in_path, out_path):\n",
    "        \"\"\"\n",
    "        Args:\n",
    "            in_path (str): csv input path.\n",
    "            out_path (str): Output directory path to store the pickles.\n",
    "            chunksize (int, optional): Chunksize for DataFrame reader. Defaults to 10**6. \n",
    "        \"\"\"\n",
    "\n",
    "        self.__in_path = in_path\n",
    "        self.__out_path = out_path\n",
    "        self.__chunksize = 10**6\n",
    "\n",
    "    def __produce_pickles(self):\n",
    "        \"\"\"produce pickles by reading csv by chunksize\n",
    "        \"\"\"\n",
    "        with pd.read_csv(self.__in_path, chunksize = self.__chunksize) as reader:\n",
    "            try:\n",
    "                os.makedirs(self.__out_path)\n",
    "            except FileExistsError:\n",
    "                # directory already exists\n",
    "                pass\n",
    "            for i, chunk in enumerate(reader):\n",
    "                out_file = self.__out_path + \"/data_{}.pkl\".format(i+1)\n",
    "                with open(out_file, \"wb\") as f:\n",
    "                    pickle.dump(chunk, f, pickle.HIGHEST_PROTOCOL)\n",
    "    \n",
    "    def load_pickle(self, pickle_id):\n",
    "        \"\"\"load a pickle file by id\n",
    "\n",
    "        Args:\n",
    "            pickle_id (int): pickle id.\n",
    "\n",
    "        Raises:\n",
    "            Exception: The path of the given id isn't a file\n",
    "\n",
    "        Returns:\n",
    "            obj: DataFrame\n",
    "        \"\"\"\n",
    "        # produce the pickles if the directory not exists or\n",
    "        # if the directory is empty \n",
    "        if (not os.path.exists(self.__out_path)) or \\\n",
    "              (len(os.listdir(self.__out_path)) == 0):\n",
    "            self.__produce_pickles()\n",
    "        \n",
    "        # get the file path following the pickle_id\n",
    "        # given in parameter\n",
    "        file_path = self.__out_path + \\\n",
    "            \"/data_\" + str(pickle_id) + \".pkl\"\n",
    "\n",
    "        if os.path.isfile(file_path):\n",
    "            df = pd.read_pickle(file_path)\n",
    "        else:\n",
    "            raise Exception(\"The pickle file data_{}.pkl doesn't exist\".format(pickle_id))\n",
    "        return df\n",
    "        \n",
    "\n",
    "    def random_pickles(self, n_pickles = 3, init = 42, verbose = True):\n",
    "        \"\"\"random reader over pickles files\n",
    "\n",
    "        Args:\n",
    "            n_pickles (int, optional): number of pickles to load. Defaults to 3.\n",
    "            init (int, optional): Integer given to the random seed. Defaults to 42.\n",
    "            verbose (bool, optional): Print the loaded files. Defaults to True\n",
    "\n",
    "        Raises:\n",
    "            Exception: Stop the process if n_pickles exceed pickle files number.\n",
    "\n",
    "        Returns:\n",
    "            obj: pd.Dataframe\n",
    "        \"\"\"\n",
    "\n",
    "        # produce the pickles if the directory not exists or\n",
    "        # if the directory is empty \n",
    "        if (not os.path.exists(self.__out_path)) or \\\n",
    "              (len(os.listdir(self.__out_path)) == 0):\n",
    "            self.__produce_pickles()\n",
    "\n",
    "        pickle_files = [name for name in\n",
    "                        glob.glob(self.__out_path + \"/data_*.pkl\")]\n",
    "        # draw p_files        \n",
    "        seed(init)\n",
    "\n",
    "        if n_pickles <= 6:\n",
    "            random_p_files = sample(pickle_files, n_pickles)\n",
    "        else:\n",
    "            raise Exception(\"The parameter n_pickles (\" +\n",
    "                            \"{}) exceed the numbers of pickle files ({})\"\\\n",
    "                                .format(n_pickles, len(pickle_files)))\n",
    "        # print the drawed files\n",
    "        if verbose:\n",
    "            print(\"Loaded pickles:\")\n",
    "            for p in random_p_files:\n",
    "                print(p)\n",
    "\n",
    "        # load random pickles file\n",
    "        df_list = [pd.read_pickle(p) for p in random_p_files]\n",
    "\n",
    "        # create the dataframe by concatenate the previous\n",
    "        # dataframes list\n",
    "        df = pd.concat(df_list, ignore_index = True)\n",
    "        return df"
   ]
  },
  {
   "cell_type": "code",
   "execution_count": 2,
   "id": "b1b302f7",
   "metadata": {
    "execution": {
     "iopub.execute_input": "2023-03-15T23:21:22.811427Z",
     "iopub.status.busy": "2023-03-15T23:21:22.810814Z",
     "iopub.status.idle": "2023-03-15T23:25:49.280210Z",
     "shell.execute_reply": "2023-03-15T23:25:49.278478Z"
    },
    "papermill": {
     "duration": 266.491632,
     "end_time": "2023-03-15T23:25:49.283389",
     "exception": false,
     "start_time": "2023-03-15T23:21:22.791757",
     "status": "completed"
    },
    "tags": []
   },
   "outputs": [
    {
     "name": "stdout",
     "output_type": "stream",
     "text": [
      "Loaded pickles:\n",
      "/kaggle/working/data/data_3.pkl\n"
     ]
    }
   ],
   "source": [
    "# create reader\n",
    "#  /!\\ change path in kaggle\n",
    "kaggle_input = \"/kaggle/input/genius-song-lyrics-with-language-information/song_lyrics.csv\"\n",
    "kaggle_output = \"/kaggle/working/data/\"\n",
    "\n",
    "# initiate the file loader\n",
    "loader = Loader(in_path = kaggle_input, out_path = kaggle_output)\n",
    "\n",
    "# load random pickle files\n",
    "df = loader.random_pickles(n_pickles = 1)"
   ]
  },
  {
   "cell_type": "markdown",
   "id": "67ef009b",
   "metadata": {
    "papermill": {
     "duration": 0.018241,
     "end_time": "2023-03-15T23:25:49.319898",
     "exception": false,
     "start_time": "2023-03-15T23:25:49.301657",
     "status": "completed"
    },
    "tags": []
   },
   "source": [
    "Batchs of data are randomly loaded in the memory. The number of batchs loaded depends on the memory capacity of the computer running the script. For the analysis, we will only works on the random samples loaded (All the data in Kaggle).  \n",
    "\n",
    "## Exploring the coarse data\n",
    "\n",
    "Let's visualize and explore the coarse data before a part of deeper analysis."
   ]
  },
  {
   "cell_type": "code",
   "execution_count": 3,
   "id": "dfe96348",
   "metadata": {
    "execution": {
     "iopub.execute_input": "2023-03-15T23:25:49.359661Z",
     "iopub.status.busy": "2023-03-15T23:25:49.358184Z",
     "iopub.status.idle": "2023-03-15T23:25:49.390902Z",
     "shell.execute_reply": "2023-03-15T23:25:49.389871Z"
    },
    "papermill": {
     "duration": 0.054956,
     "end_time": "2023-03-15T23:25:49.393002",
     "exception": false,
     "start_time": "2023-03-15T23:25:49.338046",
     "status": "completed"
    },
    "tags": []
   },
   "outputs": [
    {
     "data": {
      "text/html": [
       "<div>\n",
       "<style scoped>\n",
       "    .dataframe tbody tr th:only-of-type {\n",
       "        vertical-align: middle;\n",
       "    }\n",
       "\n",
       "    .dataframe tbody tr th {\n",
       "        vertical-align: top;\n",
       "    }\n",
       "\n",
       "    .dataframe thead th {\n",
       "        text-align: right;\n",
       "    }\n",
       "</style>\n",
       "<table border=\"1\" class=\"dataframe\">\n",
       "  <thead>\n",
       "    <tr style=\"text-align: right;\">\n",
       "      <th></th>\n",
       "      <th>title</th>\n",
       "      <th>tag</th>\n",
       "      <th>artist</th>\n",
       "      <th>year</th>\n",
       "      <th>views</th>\n",
       "      <th>features</th>\n",
       "      <th>lyrics</th>\n",
       "      <th>id</th>\n",
       "      <th>language_cld3</th>\n",
       "      <th>language_ft</th>\n",
       "      <th>language</th>\n",
       "    </tr>\n",
       "  </thead>\n",
       "  <tbody>\n",
       "    <tr>\n",
       "      <th>0</th>\n",
       "      <td>Roses</td>\n",
       "      <td>rock</td>\n",
       "      <td>Vitja</td>\n",
       "      <td>2017</td>\n",
       "      <td>399</td>\n",
       "      <td>{}</td>\n",
       "      <td>The roses start to wither\\nWhere the devil lay...</td>\n",
       "      <td>3019113</td>\n",
       "      <td>en</td>\n",
       "      <td>en</td>\n",
       "      <td>en</td>\n",
       "    </tr>\n",
       "    <tr>\n",
       "      <th>1</th>\n",
       "      <td>Keep On Pushin</td>\n",
       "      <td>rap</td>\n",
       "      <td>Problem</td>\n",
       "      <td>2017</td>\n",
       "      <td>692</td>\n",
       "      <td>{\"My Princess Aeryn\"}</td>\n",
       "      <td>[Hook]\\nImma keep on pushin\\nImma keep on push...</td>\n",
       "      <td>3019114</td>\n",
       "      <td>en</td>\n",
       "      <td>en</td>\n",
       "      <td>en</td>\n",
       "    </tr>\n",
       "    <tr>\n",
       "      <th>2</th>\n",
       "      <td>Inside</td>\n",
       "      <td>pop</td>\n",
       "      <td>The jepettos</td>\n",
       "      <td>2017</td>\n",
       "      <td>1302</td>\n",
       "      <td>{}</td>\n",
       "      <td>[Intro]\\nOoh, ooh, ah, ah (x2)\\n\\n[Verse 1]\\nI...</td>\n",
       "      <td>3019115</td>\n",
       "      <td>en</td>\n",
       "      <td>en</td>\n",
       "      <td>en</td>\n",
       "    </tr>\n",
       "    <tr>\n",
       "      <th>3</th>\n",
       "      <td>Girls Like You</td>\n",
       "      <td>rb</td>\n",
       "      <td>PnB Rock</td>\n",
       "      <td>2017</td>\n",
       "      <td>60114</td>\n",
       "      <td>{}</td>\n",
       "      <td>[Chorus]\\nBaby it was real\\nYeah we were the b...</td>\n",
       "      <td>3019117</td>\n",
       "      <td>en</td>\n",
       "      <td>en</td>\n",
       "      <td>en</td>\n",
       "    </tr>\n",
       "    <tr>\n",
       "      <th>4</th>\n",
       "      <td>Froideur</td>\n",
       "      <td>rap</td>\n",
       "      <td>N'Dirty Deh</td>\n",
       "      <td>2017</td>\n",
       "      <td>5813</td>\n",
       "      <td>{\"N\\\\'Dirty Deh\"}</td>\n",
       "      <td>[Refrain]\\nEt j'ai perdu la foi, mais c'est pa...</td>\n",
       "      <td>3019120</td>\n",
       "      <td>fr</td>\n",
       "      <td>fr</td>\n",
       "      <td>fr</td>\n",
       "    </tr>\n",
       "  </tbody>\n",
       "</table>\n",
       "</div>"
      ],
      "text/plain": [
       "            title   tag        artist  year  views               features  \\\n",
       "0           Roses  rock         Vitja  2017    399                     {}   \n",
       "1  Keep On Pushin   rap       Problem  2017    692  {\"My Princess Aeryn\"}   \n",
       "2          Inside   pop  The jepettos  2017   1302                     {}   \n",
       "3  Girls Like You    rb      PnB Rock  2017  60114                     {}   \n",
       "4        Froideur   rap   N'Dirty Deh  2017   5813      {\"N\\\\'Dirty Deh\"}   \n",
       "\n",
       "                                              lyrics       id language_cld3  \\\n",
       "0  The roses start to wither\\nWhere the devil lay...  3019113            en   \n",
       "1  [Hook]\\nImma keep on pushin\\nImma keep on push...  3019114            en   \n",
       "2  [Intro]\\nOoh, ooh, ah, ah (x2)\\n\\n[Verse 1]\\nI...  3019115            en   \n",
       "3  [Chorus]\\nBaby it was real\\nYeah we were the b...  3019117            en   \n",
       "4  [Refrain]\\nEt j'ai perdu la foi, mais c'est pa...  3019120            fr   \n",
       "\n",
       "  language_ft language  \n",
       "0          en       en  \n",
       "1          en       en  \n",
       "2          en       en  \n",
       "3          en       en  \n",
       "4          fr       fr  "
      ]
     },
     "execution_count": 3,
     "metadata": {},
     "output_type": "execute_result"
    }
   ],
   "source": [
    "df.head()"
   ]
  },
  {
   "cell_type": "markdown",
   "id": "df777741",
   "metadata": {
    "papermill": {
     "duration": 0.018148,
     "end_time": "2023-03-15T23:25:49.429760",
     "exception": false,
     "start_time": "2023-03-15T23:25:49.411612",
     "status": "completed"
    },
    "tags": []
   },
   "source": [
    "For each songs, we've got several informations :\n",
    "- title of the song\n",
    "- the tag (which kind of music)\n",
    "- the artist singer name\n",
    "- the release year\n",
    "- the number of page views\n",
    "- the featuring artists names\n",
    "- the lyrics\n",
    "- the genius identifier\n",
    "- Lyrics language according to [CLD3](https://github.com/google/cld3). Not reliable results are NaN. CLD3 is a neural network model for language indentification.\n",
    "- Lyrics language according to [FastText's langid](https://fasttext.cc/docs/en/language-identification.html). Values with low confidence (<0.5) are NaN. FastText's langid is library developped by Facebook’s AI Research lab for efficient learning of word representations and sentence classification. fastText has also published a fast and accurate tool for text-based language identification capable of recognizing more than 170 languages.\n",
    "- Combines language_cld3 and language_ft. Only has a non NaN entry if they both \"agree\".\n",
    "\n",
    "More information at this link : https://www.kaggle.com/datasets/carlosgdcj/genius-song-lyrics-with-language-information"
   ]
  },
  {
   "cell_type": "code",
   "execution_count": 4,
   "id": "7f231d6a",
   "metadata": {
    "execution": {
     "iopub.execute_input": "2023-03-15T23:25:49.469117Z",
     "iopub.status.busy": "2023-03-15T23:25:49.468700Z",
     "iopub.status.idle": "2023-03-15T23:25:49.477755Z",
     "shell.execute_reply": "2023-03-15T23:25:49.476593Z"
    },
    "papermill": {
     "duration": 0.032348,
     "end_time": "2023-03-15T23:25:49.480755",
     "exception": false,
     "start_time": "2023-03-15T23:25:49.448407",
     "status": "completed"
    },
    "tags": []
   },
   "outputs": [
    {
     "data": {
      "text/plain": [
       "title            object\n",
       "tag              object\n",
       "artist           object\n",
       "year              int64\n",
       "views             int64\n",
       "features         object\n",
       "lyrics           object\n",
       "id                int64\n",
       "language_cld3    object\n",
       "language_ft      object\n",
       "language         object\n",
       "dtype: object"
      ]
     },
     "execution_count": 4,
     "metadata": {},
     "output_type": "execute_result"
    }
   ],
   "source": [
    "df.dtypes"
   ]
  },
  {
   "cell_type": "code",
   "execution_count": 5,
   "id": "e0c2e98b",
   "metadata": {
    "execution": {
     "iopub.execute_input": "2023-03-15T23:25:49.519913Z",
     "iopub.status.busy": "2023-03-15T23:25:49.519519Z",
     "iopub.status.idle": "2023-03-15T23:25:49.557947Z",
     "shell.execute_reply": "2023-03-15T23:25:49.556560Z"
    },
    "papermill": {
     "duration": 0.061169,
     "end_time": "2023-03-15T23:25:49.560636",
     "exception": false,
     "start_time": "2023-03-15T23:25:49.499467",
     "status": "completed"
    },
    "tags": []
   },
   "outputs": [
    {
     "name": "stdout",
     "output_type": "stream",
     "text": [
      "Data frame size (row x columns): 11000000\n",
      "Data rows number:  1000000\n",
      "Number of unique songs (following genius id):  1000000\n"
     ]
    }
   ],
   "source": [
    "# display the size\n",
    "print('Data frame size (row x columns):', df.size)\n",
    "print('Data rows number: ', len(df))\n",
    "print('Number of unique songs (following genius id): ', len(df.id.unique()))"
   ]
  },
  {
   "cell_type": "markdown",
   "id": "119fd794",
   "metadata": {
    "papermill": {
     "duration": 0.018818,
     "end_time": "2023-03-15T23:25:49.598767",
     "exception": false,
     "start_time": "2023-03-15T23:25:49.579949",
     "status": "completed"
    },
    "tags": []
   },
   "source": [
    "Genius id seems to be the unique rows identifier.\n",
    "\n",
    "Let's vizualise size of the coarse data over years before preprocessing to compare batch distributions. One things to know before vizualise the data, the pickles are create by chunks reading. "
   ]
  },
  {
   "cell_type": "raw",
   "id": "a2700fb9",
   "metadata": {
    "papermill": {
     "duration": 0.018894,
     "end_time": "2023-03-15T23:25:49.636919",
     "exception": false,
     "start_time": "2023-03-15T23:25:49.618025",
     "status": "completed"
    },
    "tags": []
   },
   "source": [
    "df_data_1 = loader.load_pickle(1)\n",
    "df_data_1.head(5)"
   ]
  },
  {
   "cell_type": "raw",
   "id": "60c84ab6",
   "metadata": {
    "papermill": {
     "duration": 0.019366,
     "end_time": "2023-03-15T23:25:49.675785",
     "exception": false,
     "start_time": "2023-03-15T23:25:49.656419",
     "status": "completed"
    },
    "tags": []
   },
   "source": [
    "df_data_1.tail(5)\n"
   ]
  },
  {
   "cell_type": "raw",
   "id": "63d2c87c",
   "metadata": {
    "papermill": {
     "duration": 0.019059,
     "end_time": "2023-03-15T23:25:49.714485",
     "exception": false,
     "start_time": "2023-03-15T23:25:49.695426",
     "status": "completed"
    },
    "tags": []
   },
   "source": [
    "df_data_2 = loader.load_pickle(2)\n",
    "df_data_2.head(5)"
   ]
  },
  {
   "cell_type": "raw",
   "id": "0b67d943",
   "metadata": {
    "papermill": {
     "duration": 0.019141,
     "end_time": "2023-03-15T23:25:49.753476",
     "exception": false,
     "start_time": "2023-03-15T23:25:49.734335",
     "status": "completed"
    },
    "tags": []
   },
   "source": [
    "# free\n",
    "del df_data_1, df_data_2"
   ]
  },
  {
   "cell_type": "markdown",
   "id": "5fba36a5",
   "metadata": {
    "papermill": {
     "duration": 0.019418,
     "end_time": "2023-03-15T23:25:49.792258",
     "exception": false,
     "start_time": "2023-03-15T23:25:49.772840",
     "status": "completed"
    },
    "tags": []
   },
   "source": [
    "The last diplayed table gives us some information about the data. The csv file seems to be sort by id, so the pickle files are then sort too."
   ]
  },
  {
   "cell_type": "code",
   "execution_count": 6,
   "id": "21714f96",
   "metadata": {
    "execution": {
     "iopub.execute_input": "2023-03-15T23:25:49.832081Z",
     "iopub.status.busy": "2023-03-15T23:25:49.830998Z",
     "iopub.status.idle": "2023-03-15T23:26:23.061203Z",
     "shell.execute_reply": "2023-03-15T23:26:23.059940Z"
    },
    "papermill": {
     "duration": 33.252053,
     "end_time": "2023-03-15T23:26:23.063385",
     "exception": false,
     "start_time": "2023-03-15T23:25:49.811332",
     "status": "completed"
    },
    "tags": []
   },
   "outputs": [
    {
     "data": {
      "text/html": [
       "        <script type=\"text/javascript\">\n",
       "        window.PlotlyConfig = {MathJaxConfig: 'local'};\n",
       "        if (window.MathJax && window.MathJax.Hub && window.MathJax.Hub.Config) {window.MathJax.Hub.Config({SVG: {font: \"STIX-Web\"}});}\n",
       "        if (typeof require !== 'undefined') {\n",
       "        require.undef(\"plotly\");\n",
       "        requirejs.config({\n",
       "            paths: {\n",
       "                'plotly': ['https://cdn.plot.ly/plotly-2.18.0.min']\n",
       "            }\n",
       "        });\n",
       "        require(['plotly'], function(Plotly) {\n",
       "            window._Plotly = Plotly;\n",
       "        });\n",
       "        }\n",
       "        </script>\n",
       "        "
      ]
     },
     "metadata": {},
     "output_type": "display_data"
    },
    {
     "data": {
      "text/html": [
       "<div>                            <div id=\"5c42accc-5763-4810-b212-a5d7be54c98f\" class=\"plotly-graph-div\" style=\"height:525px; width:100%;\"></div>            <script type=\"text/javascript\">                require([\"plotly\"], function(Plotly) {                    window.PLOTLYENV=window.PLOTLYENV || {};                                    if (document.getElementById(\"5c42accc-5763-4810-b212-a5d7be54c98f\")) {                    Plotly.newPlot(                        \"5c42accc-5763-4810-b212-a5d7be54c98f\",                        [{\"alignmentgroup\":\"True\",\"hovertemplate\":\"batch=%{x}<br>rows=%{y}<extra></extra>\",\"legendgroup\":\"\",\"marker\":{\"color\":\"#636efa\",\"pattern\":{\"shape\":\"\"}},\"name\":\"\",\"offsetgroup\":\"\",\"orientation\":\"v\",\"showlegend\":false,\"textposition\":\"auto\",\"x\":[\"data 1\",\"data 2\",\"data 3\",\"data 4\",\"data 5\",\"data 6\"],\"xaxis\":\"x\",\"y\":[1000000,1000000,1000000,1000000,1000000,134856],\"yaxis\":\"y\",\"type\":\"bar\"}],                        {\"template\":{\"data\":{\"histogram2dcontour\":[{\"type\":\"histogram2dcontour\",\"colorbar\":{\"outlinewidth\":0,\"ticks\":\"\"},\"colorscale\":[[0.0,\"#0d0887\"],[0.1111111111111111,\"#46039f\"],[0.2222222222222222,\"#7201a8\"],[0.3333333333333333,\"#9c179e\"],[0.4444444444444444,\"#bd3786\"],[0.5555555555555556,\"#d8576b\"],[0.6666666666666666,\"#ed7953\"],[0.7777777777777778,\"#fb9f3a\"],[0.8888888888888888,\"#fdca26\"],[1.0,\"#f0f921\"]]}],\"choropleth\":[{\"type\":\"choropleth\",\"colorbar\":{\"outlinewidth\":0,\"ticks\":\"\"}}],\"histogram2d\":[{\"type\":\"histogram2d\",\"colorbar\":{\"outlinewidth\":0,\"ticks\":\"\"},\"colorscale\":[[0.0,\"#0d0887\"],[0.1111111111111111,\"#46039f\"],[0.2222222222222222,\"#7201a8\"],[0.3333333333333333,\"#9c179e\"],[0.4444444444444444,\"#bd3786\"],[0.5555555555555556,\"#d8576b\"],[0.6666666666666666,\"#ed7953\"],[0.7777777777777778,\"#fb9f3a\"],[0.8888888888888888,\"#fdca26\"],[1.0,\"#f0f921\"]]}],\"heatmap\":[{\"type\":\"heatmap\",\"colorbar\":{\"outlinewidth\":0,\"ticks\":\"\"},\"colorscale\":[[0.0,\"#0d0887\"],[0.1111111111111111,\"#46039f\"],[0.2222222222222222,\"#7201a8\"],[0.3333333333333333,\"#9c179e\"],[0.4444444444444444,\"#bd3786\"],[0.5555555555555556,\"#d8576b\"],[0.6666666666666666,\"#ed7953\"],[0.7777777777777778,\"#fb9f3a\"],[0.8888888888888888,\"#fdca26\"],[1.0,\"#f0f921\"]]}],\"heatmapgl\":[{\"type\":\"heatmapgl\",\"colorbar\":{\"outlinewidth\":0,\"ticks\":\"\"},\"colorscale\":[[0.0,\"#0d0887\"],[0.1111111111111111,\"#46039f\"],[0.2222222222222222,\"#7201a8\"],[0.3333333333333333,\"#9c179e\"],[0.4444444444444444,\"#bd3786\"],[0.5555555555555556,\"#d8576b\"],[0.6666666666666666,\"#ed7953\"],[0.7777777777777778,\"#fb9f3a\"],[0.8888888888888888,\"#fdca26\"],[1.0,\"#f0f921\"]]}],\"contourcarpet\":[{\"type\":\"contourcarpet\",\"colorbar\":{\"outlinewidth\":0,\"ticks\":\"\"}}],\"contour\":[{\"type\":\"contour\",\"colorbar\":{\"outlinewidth\":0,\"ticks\":\"\"},\"colorscale\":[[0.0,\"#0d0887\"],[0.1111111111111111,\"#46039f\"],[0.2222222222222222,\"#7201a8\"],[0.3333333333333333,\"#9c179e\"],[0.4444444444444444,\"#bd3786\"],[0.5555555555555556,\"#d8576b\"],[0.6666666666666666,\"#ed7953\"],[0.7777777777777778,\"#fb9f3a\"],[0.8888888888888888,\"#fdca26\"],[1.0,\"#f0f921\"]]}],\"surface\":[{\"type\":\"surface\",\"colorbar\":{\"outlinewidth\":0,\"ticks\":\"\"},\"colorscale\":[[0.0,\"#0d0887\"],[0.1111111111111111,\"#46039f\"],[0.2222222222222222,\"#7201a8\"],[0.3333333333333333,\"#9c179e\"],[0.4444444444444444,\"#bd3786\"],[0.5555555555555556,\"#d8576b\"],[0.6666666666666666,\"#ed7953\"],[0.7777777777777778,\"#fb9f3a\"],[0.8888888888888888,\"#fdca26\"],[1.0,\"#f0f921\"]]}],\"mesh3d\":[{\"type\":\"mesh3d\",\"colorbar\":{\"outlinewidth\":0,\"ticks\":\"\"}}],\"scatter\":[{\"fillpattern\":{\"fillmode\":\"overlay\",\"size\":10,\"solidity\":0.2},\"type\":\"scatter\"}],\"parcoords\":[{\"type\":\"parcoords\",\"line\":{\"colorbar\":{\"outlinewidth\":0,\"ticks\":\"\"}}}],\"scatterpolargl\":[{\"type\":\"scatterpolargl\",\"marker\":{\"colorbar\":{\"outlinewidth\":0,\"ticks\":\"\"}}}],\"bar\":[{\"error_x\":{\"color\":\"#2a3f5f\"},\"error_y\":{\"color\":\"#2a3f5f\"},\"marker\":{\"line\":{\"color\":\"white\",\"width\":0.5},\"pattern\":{\"fillmode\":\"overlay\",\"size\":10,\"solidity\":0.2}},\"type\":\"bar\"}],\"scattergeo\":[{\"type\":\"scattergeo\",\"marker\":{\"colorbar\":{\"outlinewidth\":0,\"ticks\":\"\"}}}],\"scatterpolar\":[{\"type\":\"scatterpolar\",\"marker\":{\"colorbar\":{\"outlinewidth\":0,\"ticks\":\"\"}}}],\"histogram\":[{\"marker\":{\"pattern\":{\"fillmode\":\"overlay\",\"size\":10,\"solidity\":0.2}},\"type\":\"histogram\"}],\"scattergl\":[{\"type\":\"scattergl\",\"marker\":{\"colorbar\":{\"outlinewidth\":0,\"ticks\":\"\"}}}],\"scatter3d\":[{\"type\":\"scatter3d\",\"line\":{\"colorbar\":{\"outlinewidth\":0,\"ticks\":\"\"}},\"marker\":{\"colorbar\":{\"outlinewidth\":0,\"ticks\":\"\"}}}],\"scattermapbox\":[{\"type\":\"scattermapbox\",\"marker\":{\"colorbar\":{\"outlinewidth\":0,\"ticks\":\"\"}}}],\"scatterternary\":[{\"type\":\"scatterternary\",\"marker\":{\"colorbar\":{\"outlinewidth\":0,\"ticks\":\"\"}}}],\"scattercarpet\":[{\"type\":\"scattercarpet\",\"marker\":{\"colorbar\":{\"outlinewidth\":0,\"ticks\":\"\"}}}],\"carpet\":[{\"aaxis\":{\"endlinecolor\":\"#2a3f5f\",\"gridcolor\":\"#C8D4E3\",\"linecolor\":\"#C8D4E3\",\"minorgridcolor\":\"#C8D4E3\",\"startlinecolor\":\"#2a3f5f\"},\"baxis\":{\"endlinecolor\":\"#2a3f5f\",\"gridcolor\":\"#C8D4E3\",\"linecolor\":\"#C8D4E3\",\"minorgridcolor\":\"#C8D4E3\",\"startlinecolor\":\"#2a3f5f\"},\"type\":\"carpet\"}],\"table\":[{\"cells\":{\"fill\":{\"color\":\"#EBF0F8\"},\"line\":{\"color\":\"white\"}},\"header\":{\"fill\":{\"color\":\"#C8D4E3\"},\"line\":{\"color\":\"white\"}},\"type\":\"table\"}],\"barpolar\":[{\"marker\":{\"line\":{\"color\":\"white\",\"width\":0.5},\"pattern\":{\"fillmode\":\"overlay\",\"size\":10,\"solidity\":0.2}},\"type\":\"barpolar\"}],\"pie\":[{\"automargin\":true,\"type\":\"pie\"}]},\"layout\":{\"autotypenumbers\":\"strict\",\"colorway\":[\"#636efa\",\"#EF553B\",\"#00cc96\",\"#ab63fa\",\"#FFA15A\",\"#19d3f3\",\"#FF6692\",\"#B6E880\",\"#FF97FF\",\"#FECB52\"],\"font\":{\"color\":\"#2a3f5f\"},\"hovermode\":\"closest\",\"hoverlabel\":{\"align\":\"left\"},\"paper_bgcolor\":\"white\",\"plot_bgcolor\":\"white\",\"polar\":{\"bgcolor\":\"white\",\"angularaxis\":{\"gridcolor\":\"#EBF0F8\",\"linecolor\":\"#EBF0F8\",\"ticks\":\"\"},\"radialaxis\":{\"gridcolor\":\"#EBF0F8\",\"linecolor\":\"#EBF0F8\",\"ticks\":\"\"}},\"ternary\":{\"bgcolor\":\"white\",\"aaxis\":{\"gridcolor\":\"#DFE8F3\",\"linecolor\":\"#A2B1C6\",\"ticks\":\"\"},\"baxis\":{\"gridcolor\":\"#DFE8F3\",\"linecolor\":\"#A2B1C6\",\"ticks\":\"\"},\"caxis\":{\"gridcolor\":\"#DFE8F3\",\"linecolor\":\"#A2B1C6\",\"ticks\":\"\"}},\"coloraxis\":{\"colorbar\":{\"outlinewidth\":0,\"ticks\":\"\"}},\"colorscale\":{\"sequential\":[[0.0,\"#0d0887\"],[0.1111111111111111,\"#46039f\"],[0.2222222222222222,\"#7201a8\"],[0.3333333333333333,\"#9c179e\"],[0.4444444444444444,\"#bd3786\"],[0.5555555555555556,\"#d8576b\"],[0.6666666666666666,\"#ed7953\"],[0.7777777777777778,\"#fb9f3a\"],[0.8888888888888888,\"#fdca26\"],[1.0,\"#f0f921\"]],\"sequentialminus\":[[0.0,\"#0d0887\"],[0.1111111111111111,\"#46039f\"],[0.2222222222222222,\"#7201a8\"],[0.3333333333333333,\"#9c179e\"],[0.4444444444444444,\"#bd3786\"],[0.5555555555555556,\"#d8576b\"],[0.6666666666666666,\"#ed7953\"],[0.7777777777777778,\"#fb9f3a\"],[0.8888888888888888,\"#fdca26\"],[1.0,\"#f0f921\"]],\"diverging\":[[0,\"#8e0152\"],[0.1,\"#c51b7d\"],[0.2,\"#de77ae\"],[0.3,\"#f1b6da\"],[0.4,\"#fde0ef\"],[0.5,\"#f7f7f7\"],[0.6,\"#e6f5d0\"],[0.7,\"#b8e186\"],[0.8,\"#7fbc41\"],[0.9,\"#4d9221\"],[1,\"#276419\"]]},\"xaxis\":{\"gridcolor\":\"#EBF0F8\",\"linecolor\":\"#EBF0F8\",\"ticks\":\"\",\"title\":{\"standoff\":15},\"zerolinecolor\":\"#EBF0F8\",\"automargin\":true,\"zerolinewidth\":2},\"yaxis\":{\"gridcolor\":\"#EBF0F8\",\"linecolor\":\"#EBF0F8\",\"ticks\":\"\",\"title\":{\"standoff\":15},\"zerolinecolor\":\"#EBF0F8\",\"automargin\":true,\"zerolinewidth\":2},\"scene\":{\"xaxis\":{\"backgroundcolor\":\"white\",\"gridcolor\":\"#DFE8F3\",\"linecolor\":\"#EBF0F8\",\"showbackground\":true,\"ticks\":\"\",\"zerolinecolor\":\"#EBF0F8\",\"gridwidth\":2},\"yaxis\":{\"backgroundcolor\":\"white\",\"gridcolor\":\"#DFE8F3\",\"linecolor\":\"#EBF0F8\",\"showbackground\":true,\"ticks\":\"\",\"zerolinecolor\":\"#EBF0F8\",\"gridwidth\":2},\"zaxis\":{\"backgroundcolor\":\"white\",\"gridcolor\":\"#DFE8F3\",\"linecolor\":\"#EBF0F8\",\"showbackground\":true,\"ticks\":\"\",\"zerolinecolor\":\"#EBF0F8\",\"gridwidth\":2}},\"shapedefaults\":{\"line\":{\"color\":\"#2a3f5f\"}},\"annotationdefaults\":{\"arrowcolor\":\"#2a3f5f\",\"arrowhead\":0,\"arrowwidth\":1},\"geo\":{\"bgcolor\":\"white\",\"landcolor\":\"white\",\"subunitcolor\":\"#C8D4E3\",\"showland\":true,\"showlakes\":true,\"lakecolor\":\"white\"},\"title\":{\"x\":0.05},\"mapbox\":{\"style\":\"light\"}}},\"xaxis\":{\"anchor\":\"y\",\"domain\":[0.0,1.0],\"title\":{\"text\":\"batch\"}},\"yaxis\":{\"anchor\":\"x\",\"domain\":[0.0,1.0],\"title\":{\"text\":\"rows\"}},\"legend\":{\"tracegroupgap\":0},\"margin\":{\"t\":60},\"barmode\":\"relative\"},                        {\"responsive\": true}                    ).then(function(){\n",
       "                            \n",
       "var gd = document.getElementById('5c42accc-5763-4810-b212-a5d7be54c98f');\n",
       "var x = new MutationObserver(function (mutations, observer) {{\n",
       "        var display = window.getComputedStyle(gd).display;\n",
       "        if (!display || display === 'none') {{\n",
       "            console.log([gd, 'removed!']);\n",
       "            Plotly.purge(gd);\n",
       "            observer.disconnect();\n",
       "        }}\n",
       "}});\n",
       "\n",
       "// Listen for the removal of the full notebook cells\n",
       "var notebookContainer = gd.closest('#notebook-container');\n",
       "if (notebookContainer) {{\n",
       "    x.observe(notebookContainer, {childList: true});\n",
       "}}\n",
       "\n",
       "// Listen for the clearing of the current output cell\n",
       "var outputEl = gd.closest('.output');\n",
       "if (outputEl) {{\n",
       "    x.observe(outputEl, {childList: true});\n",
       "}}\n",
       "\n",
       "                        })                };                });            </script>        </div>"
      ]
     },
     "metadata": {},
     "output_type": "display_data"
    }
   ],
   "source": [
    "import plotly.express as px\n",
    "import plotly.io as pio\n",
    "\n",
    "# change theme template for every graph below\n",
    "pio.templates.default = \"plotly_white\"\n",
    "\n",
    "\n",
    "# get some information about the pickle data\n",
    "def pickle_informations(data = loader):\n",
    "    rows = []\n",
    "    for i in range(1, len(os.listdir('data')) + 1):\n",
    "        df = data.load_pickle(i)\n",
    "        rows.append(len(df))\n",
    "        del df\n",
    "    return rows\n",
    "\n",
    "# get the rows\n",
    "rows = pickle_informations()\n",
    "\n",
    "# create the dataframe\n",
    "df_data = pd.DataFrame(\n",
    "    {'batch' : ['data ' + str(i) for i in range(1,len(rows) + 1)],\n",
    "    'rows' : rows})\n",
    "\n",
    "fig = px.bar(df_data, x=\"batch\", y=\"rows\")\n",
    "fig.show()"
   ]
  },
  {
   "cell_type": "markdown",
   "id": "9a4e828e",
   "metadata": {
    "papermill": {
     "duration": 0.017957,
     "end_time": "2023-03-15T23:26:23.100021",
     "exception": false,
     "start_time": "2023-03-15T23:26:23.082064",
     "status": "completed"
    },
    "tags": []
   },
   "source": [
    "Batch seems to have the same number of rows rexcept for the last one which is consistent because batch are create iteratively by 10e6 chunks over the csv The last batch could be seen as a rest."
   ]
  },
  {
   "cell_type": "code",
   "execution_count": 7,
   "id": "7e13922f",
   "metadata": {
    "execution": {
     "iopub.execute_input": "2023-03-15T23:26:23.140011Z",
     "iopub.status.busy": "2023-03-15T23:26:23.139262Z",
     "iopub.status.idle": "2023-03-15T23:26:23.149852Z",
     "shell.execute_reply": "2023-03-15T23:26:23.148790Z"
    },
    "papermill": {
     "duration": 0.034112,
     "end_time": "2023-03-15T23:26:23.152771",
     "exception": false,
     "start_time": "2023-03-15T23:26:23.118659",
     "status": "completed"
    },
    "tags": []
   },
   "outputs": [],
   "source": [
    "import plotly.graph_objects as go\n",
    "\n",
    "def add_bar(i, y1, y2, color, data = loader):\n",
    "    df = data.load_pickle(i)\n",
    "    df = df[(df.year >= y1) & (df.year <= y2)]\n",
    "    df_year = df.groupby(['year']).size().reset_index(name='count')\n",
    "    new_bar = go.Bar(\n",
    "                x = df_year.year.values,\n",
    "                y = df_year['count'].values,\n",
    "                name = 'data_'+ str(i),\n",
    "                marker = {'color' : color})\n",
    "    new_trend = go.Scatter(\n",
    "                x = df_year.year.values,\n",
    "                y = df_year['count'].values,\n",
    "                mode=\"lines\",\n",
    "                line={'color' : color,\n",
    "                    'width' : 0.5},\n",
    "                showlegend=False)\n",
    "    del df_year, df\n",
    "    return new_bar, new_trend\n",
    "\n",
    "\n",
    "def multi_barplot(year1, year2, colors):    \n",
    "    # create a empty plotly.Figure object\n",
    "    fig = go.Figure() \n",
    "    # compute the batch number\n",
    "    n_batch = len(os.listdir('data'))\n",
    "    # test the color list feed in argument\n",
    "    # fit well with the batch number\n",
    "    if n_batch > len(colors):\n",
    "        raise Exception(\n",
    "            \"The colors list size({})doesn't \".format(len(colors)) +\n",
    "            \"fit with the number of data\".format(n_batch))\n",
    "    for i in range(1, n_batch + 1):\n",
    "        fig.add_traces((add_bar(i, year1, year2, colors[i-1])))\n",
    "    fig.update_layout(\n",
    "        title = \"Data distribution over years ({} - {})\"\n",
    "            .format(year1, year2),\n",
    "        xaxis_title=\"years\",\n",
    "        yaxis_title=\"title\",\n",
    "        legend_title=\"Data batch\")\n",
    "    return fig\n"
   ]
  },
  {
   "cell_type": "code",
   "execution_count": 8,
   "id": "c7810810",
   "metadata": {
    "execution": {
     "iopub.execute_input": "2023-03-15T23:26:23.194613Z",
     "iopub.status.busy": "2023-03-15T23:26:23.194069Z",
     "iopub.status.idle": "2023-03-15T23:26:52.209880Z",
     "shell.execute_reply": "2023-03-15T23:26:52.208206Z"
    },
    "papermill": {
     "duration": 29.039114,
     "end_time": "2023-03-15T23:26:52.212167",
     "exception": false,
     "start_time": "2023-03-15T23:26:23.173053",
     "status": "completed"
    },
    "tags": []
   },
   "outputs": [
    {
     "data": {
      "text/html": [
       "<div>                            <div id=\"2342fd01-3791-46d9-bfea-c607c6aabfa1\" class=\"plotly-graph-div\" style=\"height:525px; width:100%;\"></div>            <script type=\"text/javascript\">                require([\"plotly\"], function(Plotly) {                    window.PLOTLYENV=window.PLOTLYENV || {};                                    if (document.getElementById(\"2342fd01-3791-46d9-bfea-c607c6aabfa1\")) {                    Plotly.newPlot(                        \"2342fd01-3791-46d9-bfea-c607c6aabfa1\",                        [{\"marker\":{\"color\":\"#636EFA\"},\"name\":\"data_1\",\"x\":[1960,1961,1962,1963,1964,1965,1966,1967,1968,1969,1970,1971,1972,1973,1974,1975,1976,1977,1978,1979,1980,1981,1982,1983,1984,1985,1986,1987,1988,1989],\"y\":[899,1088,1313,1383,1729,2121,2246,2713,2649,3110,3245,3092,3336,3348,3200,3368,3275,3413,3596,3914,4184,4447,4638,4516,4560,4946,5080,5653,6372,7174],\"type\":\"bar\"},{\"line\":{\"color\":\"#636EFA\",\"width\":0.5},\"mode\":\"lines\",\"showlegend\":false,\"x\":[1960,1961,1962,1963,1964,1965,1966,1967,1968,1969,1970,1971,1972,1973,1974,1975,1976,1977,1978,1979,1980,1981,1982,1983,1984,1985,1986,1987,1988,1989],\"y\":[899,1088,1313,1383,1729,2121,2246,2713,2649,3110,3245,3092,3336,3348,3200,3368,3275,3413,3596,3914,4184,4447,4638,4516,4560,4946,5080,5653,6372,7174],\"type\":\"scatter\"},{\"marker\":{\"color\":\"#EF553B\"},\"name\":\"data_2\",\"x\":[1960,1961,1962,1963,1964,1965,1966,1967,1968,1969,1970,1971,1972,1973,1974,1975,1976,1977,1978,1979,1980,1981,1982,1983,1984,1985,1986,1987,1988,1989],\"y\":[622,844,941,957,1125,1480,1733,1900,2031,1969,2158,2263,2395,2515,2336,2467,2293,2534,2690,2827,3108,3480,3524,3603,3804,3830,4233,4770,5024,5730],\"type\":\"bar\"},{\"line\":{\"color\":\"#EF553B\",\"width\":0.5},\"mode\":\"lines\",\"showlegend\":false,\"x\":[1960,1961,1962,1963,1964,1965,1966,1967,1968,1969,1970,1971,1972,1973,1974,1975,1976,1977,1978,1979,1980,1981,1982,1983,1984,1985,1986,1987,1988,1989],\"y\":[622,844,941,957,1125,1480,1733,1900,2031,1969,2158,2263,2395,2515,2336,2467,2293,2534,2690,2827,3108,3480,3524,3603,3804,3830,4233,4770,5024,5730],\"type\":\"scatter\"},{\"marker\":{\"color\":\"#00CC96\"},\"name\":\"data_3\",\"x\":[1960,1961,1962,1963,1964,1965,1966,1967,1968,1969,1970,1971,1972,1973,1974,1975,1976,1977,1978,1979,1980,1981,1982,1983,1984,1985,1986,1987,1988,1989],\"y\":[340,380,388,417,524,609,639,686,987,1002,877,1128,1029,977,886,935,899,973,1015,1155,1174,1337,1285,1271,1388,1384,1465,1331,1272,1708],\"type\":\"bar\"},{\"line\":{\"color\":\"#00CC96\",\"width\":0.5},\"mode\":\"lines\",\"showlegend\":false,\"x\":[1960,1961,1962,1963,1964,1965,1966,1967,1968,1969,1970,1971,1972,1973,1974,1975,1976,1977,1978,1979,1980,1981,1982,1983,1984,1985,1986,1987,1988,1989],\"y\":[340,380,388,417,524,609,639,686,987,1002,877,1128,1029,977,886,935,899,973,1015,1155,1174,1337,1285,1271,1388,1384,1465,1331,1272,1708],\"type\":\"scatter\"},{\"marker\":{\"color\":\"#AB63FA\"},\"name\":\"data_4\",\"x\":[1960,1961,1962,1963,1964,1965,1966,1967,1968,1969,1970,1971,1972,1973,1974,1975,1976,1977,1978,1979,1980,1981,1982,1983,1984,1985,1986,1987,1988,1989],\"y\":[321,421,367,575,449,630,676,878,1214,1132,1355,1325,1283,1328,1397,1342,1385,1480,1409,1811,1766,1673,1737,1720,1756,1683,1804,1777,1850,1829],\"type\":\"bar\"},{\"line\":{\"color\":\"#AB63FA\",\"width\":0.5},\"mode\":\"lines\",\"showlegend\":false,\"x\":[1960,1961,1962,1963,1964,1965,1966,1967,1968,1969,1970,1971,1972,1973,1974,1975,1976,1977,1978,1979,1980,1981,1982,1983,1984,1985,1986,1987,1988,1989],\"y\":[321,421,367,575,449,630,676,878,1214,1132,1355,1325,1283,1328,1397,1342,1385,1480,1409,1811,1766,1673,1737,1720,1756,1683,1804,1777,1850,1829],\"type\":\"scatter\"},{\"marker\":{\"color\":\"#FFA15A\"},\"name\":\"data_5\",\"x\":[1960,1961,1962,1963,1964,1965,1966,1967,1968,1969,1970,1971,1972,1973,1974,1975,1976,1977,1978,1979,1980,1981,1982,1983,1984,1985,1986,1987,1988,1989],\"y\":[562,365,430,534,645,674,777,809,768,956,881,879,685,815,676,848,860,1010,1023,1002,973,1082,1132,1136,1102,1333,1230,1478,1486,1587],\"type\":\"bar\"},{\"line\":{\"color\":\"#FFA15A\",\"width\":0.5},\"mode\":\"lines\",\"showlegend\":false,\"x\":[1960,1961,1962,1963,1964,1965,1966,1967,1968,1969,1970,1971,1972,1973,1974,1975,1976,1977,1978,1979,1980,1981,1982,1983,1984,1985,1986,1987,1988,1989],\"y\":[562,365,430,534,645,674,777,809,768,956,881,879,685,815,676,848,860,1010,1023,1002,973,1082,1132,1136,1102,1333,1230,1478,1486,1587],\"type\":\"scatter\"},{\"marker\":{\"color\":\"#19D3F3\"},\"name\":\"data_6\",\"x\":[1960,1961,1962,1963,1964,1965,1966,1967,1968,1969,1970,1971,1972,1973,1974,1975,1976,1977,1978,1979,1980,1981,1982,1983,1984,1985,1986,1987,1988,1989],\"y\":[39,57,48,62,91,83,88,103,146,88,105,96,115,132,86,69,129,120,157,149,163,172,233,216,221,197,177,204,203,222],\"type\":\"bar\"},{\"line\":{\"color\":\"#19D3F3\",\"width\":0.5},\"mode\":\"lines\",\"showlegend\":false,\"x\":[1960,1961,1962,1963,1964,1965,1966,1967,1968,1969,1970,1971,1972,1973,1974,1975,1976,1977,1978,1979,1980,1981,1982,1983,1984,1985,1986,1987,1988,1989],\"y\":[39,57,48,62,91,83,88,103,146,88,105,96,115,132,86,69,129,120,157,149,163,172,233,216,221,197,177,204,203,222],\"type\":\"scatter\"}],                        {\"template\":{\"data\":{\"histogram2dcontour\":[{\"type\":\"histogram2dcontour\",\"colorbar\":{\"outlinewidth\":0,\"ticks\":\"\"},\"colorscale\":[[0.0,\"#0d0887\"],[0.1111111111111111,\"#46039f\"],[0.2222222222222222,\"#7201a8\"],[0.3333333333333333,\"#9c179e\"],[0.4444444444444444,\"#bd3786\"],[0.5555555555555556,\"#d8576b\"],[0.6666666666666666,\"#ed7953\"],[0.7777777777777778,\"#fb9f3a\"],[0.8888888888888888,\"#fdca26\"],[1.0,\"#f0f921\"]]}],\"choropleth\":[{\"type\":\"choropleth\",\"colorbar\":{\"outlinewidth\":0,\"ticks\":\"\"}}],\"histogram2d\":[{\"type\":\"histogram2d\",\"colorbar\":{\"outlinewidth\":0,\"ticks\":\"\"},\"colorscale\":[[0.0,\"#0d0887\"],[0.1111111111111111,\"#46039f\"],[0.2222222222222222,\"#7201a8\"],[0.3333333333333333,\"#9c179e\"],[0.4444444444444444,\"#bd3786\"],[0.5555555555555556,\"#d8576b\"],[0.6666666666666666,\"#ed7953\"],[0.7777777777777778,\"#fb9f3a\"],[0.8888888888888888,\"#fdca26\"],[1.0,\"#f0f921\"]]}],\"heatmap\":[{\"type\":\"heatmap\",\"colorbar\":{\"outlinewidth\":0,\"ticks\":\"\"},\"colorscale\":[[0.0,\"#0d0887\"],[0.1111111111111111,\"#46039f\"],[0.2222222222222222,\"#7201a8\"],[0.3333333333333333,\"#9c179e\"],[0.4444444444444444,\"#bd3786\"],[0.5555555555555556,\"#d8576b\"],[0.6666666666666666,\"#ed7953\"],[0.7777777777777778,\"#fb9f3a\"],[0.8888888888888888,\"#fdca26\"],[1.0,\"#f0f921\"]]}],\"heatmapgl\":[{\"type\":\"heatmapgl\",\"colorbar\":{\"outlinewidth\":0,\"ticks\":\"\"},\"colorscale\":[[0.0,\"#0d0887\"],[0.1111111111111111,\"#46039f\"],[0.2222222222222222,\"#7201a8\"],[0.3333333333333333,\"#9c179e\"],[0.4444444444444444,\"#bd3786\"],[0.5555555555555556,\"#d8576b\"],[0.6666666666666666,\"#ed7953\"],[0.7777777777777778,\"#fb9f3a\"],[0.8888888888888888,\"#fdca26\"],[1.0,\"#f0f921\"]]}],\"contourcarpet\":[{\"type\":\"contourcarpet\",\"colorbar\":{\"outlinewidth\":0,\"ticks\":\"\"}}],\"contour\":[{\"type\":\"contour\",\"colorbar\":{\"outlinewidth\":0,\"ticks\":\"\"},\"colorscale\":[[0.0,\"#0d0887\"],[0.1111111111111111,\"#46039f\"],[0.2222222222222222,\"#7201a8\"],[0.3333333333333333,\"#9c179e\"],[0.4444444444444444,\"#bd3786\"],[0.5555555555555556,\"#d8576b\"],[0.6666666666666666,\"#ed7953\"],[0.7777777777777778,\"#fb9f3a\"],[0.8888888888888888,\"#fdca26\"],[1.0,\"#f0f921\"]]}],\"surface\":[{\"type\":\"surface\",\"colorbar\":{\"outlinewidth\":0,\"ticks\":\"\"},\"colorscale\":[[0.0,\"#0d0887\"],[0.1111111111111111,\"#46039f\"],[0.2222222222222222,\"#7201a8\"],[0.3333333333333333,\"#9c179e\"],[0.4444444444444444,\"#bd3786\"],[0.5555555555555556,\"#d8576b\"],[0.6666666666666666,\"#ed7953\"],[0.7777777777777778,\"#fb9f3a\"],[0.8888888888888888,\"#fdca26\"],[1.0,\"#f0f921\"]]}],\"mesh3d\":[{\"type\":\"mesh3d\",\"colorbar\":{\"outlinewidth\":0,\"ticks\":\"\"}}],\"scatter\":[{\"fillpattern\":{\"fillmode\":\"overlay\",\"size\":10,\"solidity\":0.2},\"type\":\"scatter\"}],\"parcoords\":[{\"type\":\"parcoords\",\"line\":{\"colorbar\":{\"outlinewidth\":0,\"ticks\":\"\"}}}],\"scatterpolargl\":[{\"type\":\"scatterpolargl\",\"marker\":{\"colorbar\":{\"outlinewidth\":0,\"ticks\":\"\"}}}],\"bar\":[{\"error_x\":{\"color\":\"#2a3f5f\"},\"error_y\":{\"color\":\"#2a3f5f\"},\"marker\":{\"line\":{\"color\":\"white\",\"width\":0.5},\"pattern\":{\"fillmode\":\"overlay\",\"size\":10,\"solidity\":0.2}},\"type\":\"bar\"}],\"scattergeo\":[{\"type\":\"scattergeo\",\"marker\":{\"colorbar\":{\"outlinewidth\":0,\"ticks\":\"\"}}}],\"scatterpolar\":[{\"type\":\"scatterpolar\",\"marker\":{\"colorbar\":{\"outlinewidth\":0,\"ticks\":\"\"}}}],\"histogram\":[{\"marker\":{\"pattern\":{\"fillmode\":\"overlay\",\"size\":10,\"solidity\":0.2}},\"type\":\"histogram\"}],\"scattergl\":[{\"type\":\"scattergl\",\"marker\":{\"colorbar\":{\"outlinewidth\":0,\"ticks\":\"\"}}}],\"scatter3d\":[{\"type\":\"scatter3d\",\"line\":{\"colorbar\":{\"outlinewidth\":0,\"ticks\":\"\"}},\"marker\":{\"colorbar\":{\"outlinewidth\":0,\"ticks\":\"\"}}}],\"scattermapbox\":[{\"type\":\"scattermapbox\",\"marker\":{\"colorbar\":{\"outlinewidth\":0,\"ticks\":\"\"}}}],\"scatterternary\":[{\"type\":\"scatterternary\",\"marker\":{\"colorbar\":{\"outlinewidth\":0,\"ticks\":\"\"}}}],\"scattercarpet\":[{\"type\":\"scattercarpet\",\"marker\":{\"colorbar\":{\"outlinewidth\":0,\"ticks\":\"\"}}}],\"carpet\":[{\"aaxis\":{\"endlinecolor\":\"#2a3f5f\",\"gridcolor\":\"#C8D4E3\",\"linecolor\":\"#C8D4E3\",\"minorgridcolor\":\"#C8D4E3\",\"startlinecolor\":\"#2a3f5f\"},\"baxis\":{\"endlinecolor\":\"#2a3f5f\",\"gridcolor\":\"#C8D4E3\",\"linecolor\":\"#C8D4E3\",\"minorgridcolor\":\"#C8D4E3\",\"startlinecolor\":\"#2a3f5f\"},\"type\":\"carpet\"}],\"table\":[{\"cells\":{\"fill\":{\"color\":\"#EBF0F8\"},\"line\":{\"color\":\"white\"}},\"header\":{\"fill\":{\"color\":\"#C8D4E3\"},\"line\":{\"color\":\"white\"}},\"type\":\"table\"}],\"barpolar\":[{\"marker\":{\"line\":{\"color\":\"white\",\"width\":0.5},\"pattern\":{\"fillmode\":\"overlay\",\"size\":10,\"solidity\":0.2}},\"type\":\"barpolar\"}],\"pie\":[{\"automargin\":true,\"type\":\"pie\"}]},\"layout\":{\"autotypenumbers\":\"strict\",\"colorway\":[\"#636efa\",\"#EF553B\",\"#00cc96\",\"#ab63fa\",\"#FFA15A\",\"#19d3f3\",\"#FF6692\",\"#B6E880\",\"#FF97FF\",\"#FECB52\"],\"font\":{\"color\":\"#2a3f5f\"},\"hovermode\":\"closest\",\"hoverlabel\":{\"align\":\"left\"},\"paper_bgcolor\":\"white\",\"plot_bgcolor\":\"white\",\"polar\":{\"bgcolor\":\"white\",\"angularaxis\":{\"gridcolor\":\"#EBF0F8\",\"linecolor\":\"#EBF0F8\",\"ticks\":\"\"},\"radialaxis\":{\"gridcolor\":\"#EBF0F8\",\"linecolor\":\"#EBF0F8\",\"ticks\":\"\"}},\"ternary\":{\"bgcolor\":\"white\",\"aaxis\":{\"gridcolor\":\"#DFE8F3\",\"linecolor\":\"#A2B1C6\",\"ticks\":\"\"},\"baxis\":{\"gridcolor\":\"#DFE8F3\",\"linecolor\":\"#A2B1C6\",\"ticks\":\"\"},\"caxis\":{\"gridcolor\":\"#DFE8F3\",\"linecolor\":\"#A2B1C6\",\"ticks\":\"\"}},\"coloraxis\":{\"colorbar\":{\"outlinewidth\":0,\"ticks\":\"\"}},\"colorscale\":{\"sequential\":[[0.0,\"#0d0887\"],[0.1111111111111111,\"#46039f\"],[0.2222222222222222,\"#7201a8\"],[0.3333333333333333,\"#9c179e\"],[0.4444444444444444,\"#bd3786\"],[0.5555555555555556,\"#d8576b\"],[0.6666666666666666,\"#ed7953\"],[0.7777777777777778,\"#fb9f3a\"],[0.8888888888888888,\"#fdca26\"],[1.0,\"#f0f921\"]],\"sequentialminus\":[[0.0,\"#0d0887\"],[0.1111111111111111,\"#46039f\"],[0.2222222222222222,\"#7201a8\"],[0.3333333333333333,\"#9c179e\"],[0.4444444444444444,\"#bd3786\"],[0.5555555555555556,\"#d8576b\"],[0.6666666666666666,\"#ed7953\"],[0.7777777777777778,\"#fb9f3a\"],[0.8888888888888888,\"#fdca26\"],[1.0,\"#f0f921\"]],\"diverging\":[[0,\"#8e0152\"],[0.1,\"#c51b7d\"],[0.2,\"#de77ae\"],[0.3,\"#f1b6da\"],[0.4,\"#fde0ef\"],[0.5,\"#f7f7f7\"],[0.6,\"#e6f5d0\"],[0.7,\"#b8e186\"],[0.8,\"#7fbc41\"],[0.9,\"#4d9221\"],[1,\"#276419\"]]},\"xaxis\":{\"gridcolor\":\"#EBF0F8\",\"linecolor\":\"#EBF0F8\",\"ticks\":\"\",\"title\":{\"standoff\":15},\"zerolinecolor\":\"#EBF0F8\",\"automargin\":true,\"zerolinewidth\":2},\"yaxis\":{\"gridcolor\":\"#EBF0F8\",\"linecolor\":\"#EBF0F8\",\"ticks\":\"\",\"title\":{\"standoff\":15},\"zerolinecolor\":\"#EBF0F8\",\"automargin\":true,\"zerolinewidth\":2},\"scene\":{\"xaxis\":{\"backgroundcolor\":\"white\",\"gridcolor\":\"#DFE8F3\",\"linecolor\":\"#EBF0F8\",\"showbackground\":true,\"ticks\":\"\",\"zerolinecolor\":\"#EBF0F8\",\"gridwidth\":2},\"yaxis\":{\"backgroundcolor\":\"white\",\"gridcolor\":\"#DFE8F3\",\"linecolor\":\"#EBF0F8\",\"showbackground\":true,\"ticks\":\"\",\"zerolinecolor\":\"#EBF0F8\",\"gridwidth\":2},\"zaxis\":{\"backgroundcolor\":\"white\",\"gridcolor\":\"#DFE8F3\",\"linecolor\":\"#EBF0F8\",\"showbackground\":true,\"ticks\":\"\",\"zerolinecolor\":\"#EBF0F8\",\"gridwidth\":2}},\"shapedefaults\":{\"line\":{\"color\":\"#2a3f5f\"}},\"annotationdefaults\":{\"arrowcolor\":\"#2a3f5f\",\"arrowhead\":0,\"arrowwidth\":1},\"geo\":{\"bgcolor\":\"white\",\"landcolor\":\"white\",\"subunitcolor\":\"#C8D4E3\",\"showland\":true,\"showlakes\":true,\"lakecolor\":\"white\"},\"title\":{\"x\":0.05},\"mapbox\":{\"style\":\"light\"}}},\"title\":{\"text\":\"Data distribution over years (1960 - 1989)\"},\"xaxis\":{\"title\":{\"text\":\"years\"}},\"yaxis\":{\"title\":{\"text\":\"title\"}},\"legend\":{\"title\":{\"text\":\"Data batch\"}}},                        {\"responsive\": true}                    ).then(function(){\n",
       "                            \n",
       "var gd = document.getElementById('2342fd01-3791-46d9-bfea-c607c6aabfa1');\n",
       "var x = new MutationObserver(function (mutations, observer) {{\n",
       "        var display = window.getComputedStyle(gd).display;\n",
       "        if (!display || display === 'none') {{\n",
       "            console.log([gd, 'removed!']);\n",
       "            Plotly.purge(gd);\n",
       "            observer.disconnect();\n",
       "        }}\n",
       "}});\n",
       "\n",
       "// Listen for the removal of the full notebook cells\n",
       "var notebookContainer = gd.closest('#notebook-container');\n",
       "if (notebookContainer) {{\n",
       "    x.observe(notebookContainer, {childList: true});\n",
       "}}\n",
       "\n",
       "// Listen for the clearing of the current output cell\n",
       "var outputEl = gd.closest('.output');\n",
       "if (outputEl) {{\n",
       "    x.observe(outputEl, {childList: true});\n",
       "}}\n",
       "\n",
       "                        })                };                });            </script>        </div>"
      ]
     },
     "metadata": {},
     "output_type": "display_data"
    },
    {
     "data": {
      "text/html": [
       "<div>                            <div id=\"37b40f79-d37d-4906-ae39-fdb112e8270a\" class=\"plotly-graph-div\" style=\"height:525px; width:100%;\"></div>            <script type=\"text/javascript\">                require([\"plotly\"], function(Plotly) {                    window.PLOTLYENV=window.PLOTLYENV || {};                                    if (document.getElementById(\"37b40f79-d37d-4906-ae39-fdb112e8270a\")) {                    Plotly.newPlot(                        \"37b40f79-d37d-4906-ae39-fdb112e8270a\",                        [{\"marker\":{\"color\":\"#636EFA\"},\"name\":\"data_1\",\"x\":[1990,1991,1992,1993,1994,1995,1996,1997,1998,1999,2000,2001,2002,2003,2004,2005,2006,2007,2008,2009,2010,2011,2012,2013,2014,2015,2016,2017,2018,2019,2020,2021,2022,2023],\"y\":[7587,8912,9563,11400,13050,14265,15913,17168,18704,21845,21763,23737,25072,27780,28508,30123,31229,29737,30524,30377,30738,41965,53237,110285,92635,121824,1648,1510,317,256,227,178,26,1],\"type\":\"bar\"},{\"line\":{\"color\":\"#636EFA\",\"width\":0.5},\"mode\":\"lines\",\"showlegend\":false,\"x\":[1990,1991,1992,1993,1994,1995,1996,1997,1998,1999,2000,2001,2002,2003,2004,2005,2006,2007,2008,2009,2010,2011,2012,2013,2014,2015,2016,2017,2018,2019,2020,2021,2022,2023],\"y\":[7587,8912,9563,11400,13050,14265,15913,17168,18704,21845,21763,23737,25072,27780,28508,30123,31229,29737,30524,30377,30738,41965,53237,110285,92635,121824,1648,1510,317,256,227,178,26,1],\"type\":\"scatter\"},{\"marker\":{\"color\":\"#EF553B\"},\"name\":\"data_2\",\"x\":[1990,1991,1992,1993,1994,1995,1996,1997,1998,1999,2000,2001,2002,2003,2004,2005,2006,2007,2008,2009,2010,2011,2012,2013,2014,2015,2016,2017,2018,2019,2020,2021,2022,2023],\"y\":[5965,6727,7230,8532,9483,10670,12230,12678,13770,14920,15842,17199,18192,20566,21878,23024,24915,24516,25429,26860,27070,30365,32844,34193,36081,269652,135003,26428,954,607,379,296,52,2],\"type\":\"bar\"},{\"line\":{\"color\":\"#EF553B\",\"width\":0.5},\"mode\":\"lines\",\"showlegend\":false,\"x\":[1990,1991,1992,1993,1994,1995,1996,1997,1998,1999,2000,2001,2002,2003,2004,2005,2006,2007,2008,2009,2010,2011,2012,2013,2014,2015,2016,2017,2018,2019,2020,2021,2022,2023],\"y\":[5965,6727,7230,8532,9483,10670,12230,12678,13770,14920,15842,17199,18192,20566,21878,23024,24915,24516,25429,26860,27070,30365,32844,34193,36081,269652,135003,26428,954,607,379,296,52,2],\"type\":\"scatter\"},{\"marker\":{\"color\":\"#00CC96\"},\"name\":\"data_3\",\"x\":[1990,1991,1992,1993,1994,1995,1996,1997,1998,1999,2000,2001,2002,2003,2004,2005,2006,2007,2008,2009,2010,2011,2012,2013,2014,2015,2016,2017,2018,2019,2020,2021,2022,2023],\"y\":[1300,1744,1824,2141,2395,2224,2725,2787,3102,3253,3353,3679,3953,4304,5525,5902,6762,7939,9245,10398,12289,15897,18353,21585,28402,41427,67666,234255,320598,117858,2353,948,218,9],\"type\":\"bar\"},{\"line\":{\"color\":\"#00CC96\",\"width\":0.5},\"mode\":\"lines\",\"showlegend\":false,\"x\":[1990,1991,1992,1993,1994,1995,1996,1997,1998,1999,2000,2001,2002,2003,2004,2005,2006,2007,2008,2009,2010,2011,2012,2013,2014,2015,2016,2017,2018,2019,2020,2021,2022,2023],\"y\":[1300,1744,1824,2141,2395,2224,2725,2787,3102,3253,3353,3679,3953,4304,5525,5902,6762,7939,9245,10398,12289,15897,18353,21585,28402,41427,67666,234255,320598,117858,2353,948,218,9],\"type\":\"scatter\"},{\"marker\":{\"color\":\"#AB63FA\"},\"name\":\"data_4\",\"x\":[1990,1991,1992,1993,1994,1995,1996,1997,1998,1999,2000,2001,2002,2003,2004,2005,2006,2007,2008,2009,2010,2011,2012,2013,2014,2015,2016,2017,2018,2019,2020,2021,2022,2023],\"y\":[2097,1990,2173,2243,2744,3068,2752,2676,2702,3330,3707,3655,3853,4209,4727,5481,5411,6209,6864,7320,8544,10045,11312,12461,15127,20238,23808,31818,54468,320053,365915,5346,1270,30],\"type\":\"bar\"},{\"line\":{\"color\":\"#AB63FA\",\"width\":0.5},\"mode\":\"lines\",\"showlegend\":false,\"x\":[1990,1991,1992,1993,1994,1995,1996,1997,1998,1999,2000,2001,2002,2003,2004,2005,2006,2007,2008,2009,2010,2011,2012,2013,2014,2015,2016,2017,2018,2019,2020,2021,2022,2023],\"y\":[2097,1990,2173,2243,2744,3068,2752,2676,2702,3330,3707,3655,3853,4209,4727,5481,5411,6209,6864,7320,8544,10045,11312,12461,15127,20238,23808,31818,54468,320053,365915,5346,1270,30],\"type\":\"scatter\"},{\"marker\":{\"color\":\"#FFA15A\"},\"name\":\"data_5\",\"x\":[1990,1991,1992,1993,1994,1995,1996,1997,1998,1999,2000,2001,2002,2003,2004,2005,2006,2007,2008,2009,2010,2011,2012,2013,2014,2015,2016,2017,2018,2019,2020,2021,2022,2023],\"y\":[1713,1633,1621,2001,2233,2223,2455,2575,2426,2817,2799,2763,3143,3270,3843,3986,4602,4947,5903,6571,8568,8564,10468,10132,12237,13740,16086,19826,25802,42069,201087,499153,35978,315],\"type\":\"bar\"},{\"line\":{\"color\":\"#FFA15A\",\"width\":0.5},\"mode\":\"lines\",\"showlegend\":false,\"x\":[1990,1991,1992,1993,1994,1995,1996,1997,1998,1999,2000,2001,2002,2003,2004,2005,2006,2007,2008,2009,2010,2011,2012,2013,2014,2015,2016,2017,2018,2019,2020,2021,2022,2023],\"y\":[1713,1633,1621,2001,2233,2223,2455,2575,2426,2817,2799,2763,3143,3270,3843,3986,4602,4947,5903,6571,8568,8564,10468,10132,12237,13740,16086,19826,25802,42069,201087,499153,35978,315],\"type\":\"scatter\"},{\"marker\":{\"color\":\"#19D3F3\"},\"name\":\"data_6\",\"x\":[1990,1991,1992,1993,1994,1995,1996,1997,1998,1999,2000,2001,2002,2003,2004,2005,2006,2007,2008,2009,2010,2011,2012,2013,2014,2015,2016,2017,2018,2019,2020,2021,2022,2023],\"y\":[250,249,294,255,319,341,344,425,406,478,431,424,424,431,544,645,504,758,568,752,889,949,1276,1262,1240,1553,1700,2083,2816,3462,6762,18559,78738,162],\"type\":\"bar\"},{\"line\":{\"color\":\"#19D3F3\",\"width\":0.5},\"mode\":\"lines\",\"showlegend\":false,\"x\":[1990,1991,1992,1993,1994,1995,1996,1997,1998,1999,2000,2001,2002,2003,2004,2005,2006,2007,2008,2009,2010,2011,2012,2013,2014,2015,2016,2017,2018,2019,2020,2021,2022,2023],\"y\":[250,249,294,255,319,341,344,425,406,478,431,424,424,431,544,645,504,758,568,752,889,949,1276,1262,1240,1553,1700,2083,2816,3462,6762,18559,78738,162],\"type\":\"scatter\"}],                        {\"template\":{\"data\":{\"histogram2dcontour\":[{\"type\":\"histogram2dcontour\",\"colorbar\":{\"outlinewidth\":0,\"ticks\":\"\"},\"colorscale\":[[0.0,\"#0d0887\"],[0.1111111111111111,\"#46039f\"],[0.2222222222222222,\"#7201a8\"],[0.3333333333333333,\"#9c179e\"],[0.4444444444444444,\"#bd3786\"],[0.5555555555555556,\"#d8576b\"],[0.6666666666666666,\"#ed7953\"],[0.7777777777777778,\"#fb9f3a\"],[0.8888888888888888,\"#fdca26\"],[1.0,\"#f0f921\"]]}],\"choropleth\":[{\"type\":\"choropleth\",\"colorbar\":{\"outlinewidth\":0,\"ticks\":\"\"}}],\"histogram2d\":[{\"type\":\"histogram2d\",\"colorbar\":{\"outlinewidth\":0,\"ticks\":\"\"},\"colorscale\":[[0.0,\"#0d0887\"],[0.1111111111111111,\"#46039f\"],[0.2222222222222222,\"#7201a8\"],[0.3333333333333333,\"#9c179e\"],[0.4444444444444444,\"#bd3786\"],[0.5555555555555556,\"#d8576b\"],[0.6666666666666666,\"#ed7953\"],[0.7777777777777778,\"#fb9f3a\"],[0.8888888888888888,\"#fdca26\"],[1.0,\"#f0f921\"]]}],\"heatmap\":[{\"type\":\"heatmap\",\"colorbar\":{\"outlinewidth\":0,\"ticks\":\"\"},\"colorscale\":[[0.0,\"#0d0887\"],[0.1111111111111111,\"#46039f\"],[0.2222222222222222,\"#7201a8\"],[0.3333333333333333,\"#9c179e\"],[0.4444444444444444,\"#bd3786\"],[0.5555555555555556,\"#d8576b\"],[0.6666666666666666,\"#ed7953\"],[0.7777777777777778,\"#fb9f3a\"],[0.8888888888888888,\"#fdca26\"],[1.0,\"#f0f921\"]]}],\"heatmapgl\":[{\"type\":\"heatmapgl\",\"colorbar\":{\"outlinewidth\":0,\"ticks\":\"\"},\"colorscale\":[[0.0,\"#0d0887\"],[0.1111111111111111,\"#46039f\"],[0.2222222222222222,\"#7201a8\"],[0.3333333333333333,\"#9c179e\"],[0.4444444444444444,\"#bd3786\"],[0.5555555555555556,\"#d8576b\"],[0.6666666666666666,\"#ed7953\"],[0.7777777777777778,\"#fb9f3a\"],[0.8888888888888888,\"#fdca26\"],[1.0,\"#f0f921\"]]}],\"contourcarpet\":[{\"type\":\"contourcarpet\",\"colorbar\":{\"outlinewidth\":0,\"ticks\":\"\"}}],\"contour\":[{\"type\":\"contour\",\"colorbar\":{\"outlinewidth\":0,\"ticks\":\"\"},\"colorscale\":[[0.0,\"#0d0887\"],[0.1111111111111111,\"#46039f\"],[0.2222222222222222,\"#7201a8\"],[0.3333333333333333,\"#9c179e\"],[0.4444444444444444,\"#bd3786\"],[0.5555555555555556,\"#d8576b\"],[0.6666666666666666,\"#ed7953\"],[0.7777777777777778,\"#fb9f3a\"],[0.8888888888888888,\"#fdca26\"],[1.0,\"#f0f921\"]]}],\"surface\":[{\"type\":\"surface\",\"colorbar\":{\"outlinewidth\":0,\"ticks\":\"\"},\"colorscale\":[[0.0,\"#0d0887\"],[0.1111111111111111,\"#46039f\"],[0.2222222222222222,\"#7201a8\"],[0.3333333333333333,\"#9c179e\"],[0.4444444444444444,\"#bd3786\"],[0.5555555555555556,\"#d8576b\"],[0.6666666666666666,\"#ed7953\"],[0.7777777777777778,\"#fb9f3a\"],[0.8888888888888888,\"#fdca26\"],[1.0,\"#f0f921\"]]}],\"mesh3d\":[{\"type\":\"mesh3d\",\"colorbar\":{\"outlinewidth\":0,\"ticks\":\"\"}}],\"scatter\":[{\"fillpattern\":{\"fillmode\":\"overlay\",\"size\":10,\"solidity\":0.2},\"type\":\"scatter\"}],\"parcoords\":[{\"type\":\"parcoords\",\"line\":{\"colorbar\":{\"outlinewidth\":0,\"ticks\":\"\"}}}],\"scatterpolargl\":[{\"type\":\"scatterpolargl\",\"marker\":{\"colorbar\":{\"outlinewidth\":0,\"ticks\":\"\"}}}],\"bar\":[{\"error_x\":{\"color\":\"#2a3f5f\"},\"error_y\":{\"color\":\"#2a3f5f\"},\"marker\":{\"line\":{\"color\":\"white\",\"width\":0.5},\"pattern\":{\"fillmode\":\"overlay\",\"size\":10,\"solidity\":0.2}},\"type\":\"bar\"}],\"scattergeo\":[{\"type\":\"scattergeo\",\"marker\":{\"colorbar\":{\"outlinewidth\":0,\"ticks\":\"\"}}}],\"scatterpolar\":[{\"type\":\"scatterpolar\",\"marker\":{\"colorbar\":{\"outlinewidth\":0,\"ticks\":\"\"}}}],\"histogram\":[{\"marker\":{\"pattern\":{\"fillmode\":\"overlay\",\"size\":10,\"solidity\":0.2}},\"type\":\"histogram\"}],\"scattergl\":[{\"type\":\"scattergl\",\"marker\":{\"colorbar\":{\"outlinewidth\":0,\"ticks\":\"\"}}}],\"scatter3d\":[{\"type\":\"scatter3d\",\"line\":{\"colorbar\":{\"outlinewidth\":0,\"ticks\":\"\"}},\"marker\":{\"colorbar\":{\"outlinewidth\":0,\"ticks\":\"\"}}}],\"scattermapbox\":[{\"type\":\"scattermapbox\",\"marker\":{\"colorbar\":{\"outlinewidth\":0,\"ticks\":\"\"}}}],\"scatterternary\":[{\"type\":\"scatterternary\",\"marker\":{\"colorbar\":{\"outlinewidth\":0,\"ticks\":\"\"}}}],\"scattercarpet\":[{\"type\":\"scattercarpet\",\"marker\":{\"colorbar\":{\"outlinewidth\":0,\"ticks\":\"\"}}}],\"carpet\":[{\"aaxis\":{\"endlinecolor\":\"#2a3f5f\",\"gridcolor\":\"#C8D4E3\",\"linecolor\":\"#C8D4E3\",\"minorgridcolor\":\"#C8D4E3\",\"startlinecolor\":\"#2a3f5f\"},\"baxis\":{\"endlinecolor\":\"#2a3f5f\",\"gridcolor\":\"#C8D4E3\",\"linecolor\":\"#C8D4E3\",\"minorgridcolor\":\"#C8D4E3\",\"startlinecolor\":\"#2a3f5f\"},\"type\":\"carpet\"}],\"table\":[{\"cells\":{\"fill\":{\"color\":\"#EBF0F8\"},\"line\":{\"color\":\"white\"}},\"header\":{\"fill\":{\"color\":\"#C8D4E3\"},\"line\":{\"color\":\"white\"}},\"type\":\"table\"}],\"barpolar\":[{\"marker\":{\"line\":{\"color\":\"white\",\"width\":0.5},\"pattern\":{\"fillmode\":\"overlay\",\"size\":10,\"solidity\":0.2}},\"type\":\"barpolar\"}],\"pie\":[{\"automargin\":true,\"type\":\"pie\"}]},\"layout\":{\"autotypenumbers\":\"strict\",\"colorway\":[\"#636efa\",\"#EF553B\",\"#00cc96\",\"#ab63fa\",\"#FFA15A\",\"#19d3f3\",\"#FF6692\",\"#B6E880\",\"#FF97FF\",\"#FECB52\"],\"font\":{\"color\":\"#2a3f5f\"},\"hovermode\":\"closest\",\"hoverlabel\":{\"align\":\"left\"},\"paper_bgcolor\":\"white\",\"plot_bgcolor\":\"white\",\"polar\":{\"bgcolor\":\"white\",\"angularaxis\":{\"gridcolor\":\"#EBF0F8\",\"linecolor\":\"#EBF0F8\",\"ticks\":\"\"},\"radialaxis\":{\"gridcolor\":\"#EBF0F8\",\"linecolor\":\"#EBF0F8\",\"ticks\":\"\"}},\"ternary\":{\"bgcolor\":\"white\",\"aaxis\":{\"gridcolor\":\"#DFE8F3\",\"linecolor\":\"#A2B1C6\",\"ticks\":\"\"},\"baxis\":{\"gridcolor\":\"#DFE8F3\",\"linecolor\":\"#A2B1C6\",\"ticks\":\"\"},\"caxis\":{\"gridcolor\":\"#DFE8F3\",\"linecolor\":\"#A2B1C6\",\"ticks\":\"\"}},\"coloraxis\":{\"colorbar\":{\"outlinewidth\":0,\"ticks\":\"\"}},\"colorscale\":{\"sequential\":[[0.0,\"#0d0887\"],[0.1111111111111111,\"#46039f\"],[0.2222222222222222,\"#7201a8\"],[0.3333333333333333,\"#9c179e\"],[0.4444444444444444,\"#bd3786\"],[0.5555555555555556,\"#d8576b\"],[0.6666666666666666,\"#ed7953\"],[0.7777777777777778,\"#fb9f3a\"],[0.8888888888888888,\"#fdca26\"],[1.0,\"#f0f921\"]],\"sequentialminus\":[[0.0,\"#0d0887\"],[0.1111111111111111,\"#46039f\"],[0.2222222222222222,\"#7201a8\"],[0.3333333333333333,\"#9c179e\"],[0.4444444444444444,\"#bd3786\"],[0.5555555555555556,\"#d8576b\"],[0.6666666666666666,\"#ed7953\"],[0.7777777777777778,\"#fb9f3a\"],[0.8888888888888888,\"#fdca26\"],[1.0,\"#f0f921\"]],\"diverging\":[[0,\"#8e0152\"],[0.1,\"#c51b7d\"],[0.2,\"#de77ae\"],[0.3,\"#f1b6da\"],[0.4,\"#fde0ef\"],[0.5,\"#f7f7f7\"],[0.6,\"#e6f5d0\"],[0.7,\"#b8e186\"],[0.8,\"#7fbc41\"],[0.9,\"#4d9221\"],[1,\"#276419\"]]},\"xaxis\":{\"gridcolor\":\"#EBF0F8\",\"linecolor\":\"#EBF0F8\",\"ticks\":\"\",\"title\":{\"standoff\":15},\"zerolinecolor\":\"#EBF0F8\",\"automargin\":true,\"zerolinewidth\":2},\"yaxis\":{\"gridcolor\":\"#EBF0F8\",\"linecolor\":\"#EBF0F8\",\"ticks\":\"\",\"title\":{\"standoff\":15},\"zerolinecolor\":\"#EBF0F8\",\"automargin\":true,\"zerolinewidth\":2},\"scene\":{\"xaxis\":{\"backgroundcolor\":\"white\",\"gridcolor\":\"#DFE8F3\",\"linecolor\":\"#EBF0F8\",\"showbackground\":true,\"ticks\":\"\",\"zerolinecolor\":\"#EBF0F8\",\"gridwidth\":2},\"yaxis\":{\"backgroundcolor\":\"white\",\"gridcolor\":\"#DFE8F3\",\"linecolor\":\"#EBF0F8\",\"showbackground\":true,\"ticks\":\"\",\"zerolinecolor\":\"#EBF0F8\",\"gridwidth\":2},\"zaxis\":{\"backgroundcolor\":\"white\",\"gridcolor\":\"#DFE8F3\",\"linecolor\":\"#EBF0F8\",\"showbackground\":true,\"ticks\":\"\",\"zerolinecolor\":\"#EBF0F8\",\"gridwidth\":2}},\"shapedefaults\":{\"line\":{\"color\":\"#2a3f5f\"}},\"annotationdefaults\":{\"arrowcolor\":\"#2a3f5f\",\"arrowhead\":0,\"arrowwidth\":1},\"geo\":{\"bgcolor\":\"white\",\"landcolor\":\"white\",\"subunitcolor\":\"#C8D4E3\",\"showland\":true,\"showlakes\":true,\"lakecolor\":\"white\"},\"title\":{\"x\":0.05},\"mapbox\":{\"style\":\"light\"}}},\"title\":{\"text\":\"Data distribution over years (1990 - 2023)\"},\"xaxis\":{\"title\":{\"text\":\"years\"}},\"yaxis\":{\"title\":{\"text\":\"title\"}},\"legend\":{\"title\":{\"text\":\"Data batch\"}}},                        {\"responsive\": true}                    ).then(function(){\n",
       "                            \n",
       "var gd = document.getElementById('37b40f79-d37d-4906-ae39-fdb112e8270a');\n",
       "var x = new MutationObserver(function (mutations, observer) {{\n",
       "        var display = window.getComputedStyle(gd).display;\n",
       "        if (!display || display === 'none') {{\n",
       "            console.log([gd, 'removed!']);\n",
       "            Plotly.purge(gd);\n",
       "            observer.disconnect();\n",
       "        }}\n",
       "}});\n",
       "\n",
       "// Listen for the removal of the full notebook cells\n",
       "var notebookContainer = gd.closest('#notebook-container');\n",
       "if (notebookContainer) {{\n",
       "    x.observe(notebookContainer, {childList: true});\n",
       "}}\n",
       "\n",
       "// Listen for the clearing of the current output cell\n",
       "var outputEl = gd.closest('.output');\n",
       "if (outputEl) {{\n",
       "    x.observe(outputEl, {childList: true});\n",
       "}}\n",
       "\n",
       "                        })                };                });            </script>        </div>"
      ]
     },
     "metadata": {},
     "output_type": "display_data"
    }
   ],
   "source": [
    "import plotly.colors as col\n",
    "\n",
    "# create the color list\n",
    "colors = col.qualitative.Plotly\n",
    "\n",
    "# 1990 - 2023\n",
    "fig1 = multi_barplot(1960, 1989, colors)\n",
    "fig1.show()\n",
    "# 1960 - 1990\n",
    "fig2 = multi_barplot(1990, 2023, colors)\n",
    "fig2.show()"
   ]
  },
  {
   "cell_type": "markdown",
   "id": "a294690b",
   "metadata": {
    "papermill": {
     "duration": 0.018924,
     "end_time": "2023-03-15T23:26:52.250721",
     "exception": false,
     "start_time": "2023-03-15T23:26:52.231797",
     "status": "completed"
    },
    "tags": []
   },
   "source": [
    "The first bar chart (1960 - 1989) shows an increasing numbers of data over years. Moreover batch seems to have quite similar distriutions over years. data_1 and data_2 batch quite outperform the 4 others. data_6 batch is weaker than the other due to its poor number of rows.\n",
    "The data behaves similarly until 2012 as we can see on the second chart (1990-2023). After this year there is great increasing of the data retrieved. A minimum increase of at least 100% of the batch can be observed. An increase of up to 50 times the batch size for some."
   ]
  },
  {
   "cell_type": "markdown",
   "id": "22f1f613",
   "metadata": {
    "papermill": {
     "duration": 0.018603,
     "end_time": "2023-03-15T23:26:52.288522",
     "exception": false,
     "start_time": "2023-03-15T23:26:52.269919",
     "status": "completed"
    },
    "tags": []
   },
   "source": [
    "## Data pre-processing\n",
    "\n",
    "The aim of this part is to preprocess data in order to get suitable data for the analysis. let's focus on the year variable.\n",
    "\n",
    "We will focus on English songs, to facilitate the analysis and the work of natural language processing algorithms."
   ]
  },
  {
   "cell_type": "code",
   "execution_count": 9,
   "id": "018f8cda",
   "metadata": {
    "execution": {
     "iopub.execute_input": "2023-03-15T23:26:52.328719Z",
     "iopub.status.busy": "2023-03-15T23:26:52.328275Z",
     "iopub.status.idle": "2023-03-15T23:26:52.732180Z",
     "shell.execute_reply": "2023-03-15T23:26:52.730538Z"
    },
    "papermill": {
     "duration": 0.428136,
     "end_time": "2023-03-15T23:26:52.735583",
     "exception": false,
     "start_time": "2023-03-15T23:26:52.307447",
     "status": "completed"
    },
    "tags": []
   },
   "outputs": [],
   "source": [
    "# Retrieve only the texts identified as English language by both cld3 and fasttext langid\n",
    "df = df[df.language == 'en']"
   ]
  },
  {
   "cell_type": "markdown",
   "id": "aaf38fb3",
   "metadata": {
    "papermill": {
     "duration": 0.01918,
     "end_time": "2023-03-15T23:26:52.781319",
     "exception": false,
     "start_time": "2023-03-15T23:26:52.762139",
     "status": "completed"
    },
    "tags": []
   },
   "source": [
    "Next, it can be quite interseting to check Nan values"
   ]
  },
  {
   "cell_type": "code",
   "execution_count": 10,
   "id": "993ddb1f",
   "metadata": {
    "execution": {
     "iopub.execute_input": "2023-03-15T23:26:52.823277Z",
     "iopub.status.busy": "2023-03-15T23:26:52.822847Z",
     "iopub.status.idle": "2023-03-15T23:26:53.124025Z",
     "shell.execute_reply": "2023-03-15T23:26:53.122632Z"
    },
    "papermill": {
     "duration": 0.325262,
     "end_time": "2023-03-15T23:26:53.126211",
     "exception": false,
     "start_time": "2023-03-15T23:26:52.800949",
     "status": "completed"
    },
    "tags": []
   },
   "outputs": [
    {
     "data": {
      "text/plain": [
       "['title']"
      ]
     },
     "execution_count": 10,
     "metadata": {},
     "output_type": "execute_result"
    }
   ],
   "source": [
    "# find which column contain nan value\n",
    "df.columns[df.isna().any()].tolist()"
   ]
  },
  {
   "cell_type": "code",
   "execution_count": 11,
   "id": "f4f0242c",
   "metadata": {
    "execution": {
     "iopub.execute_input": "2023-03-15T23:26:53.170412Z",
     "iopub.status.busy": "2023-03-15T23:26:53.169771Z",
     "iopub.status.idle": "2023-03-15T23:26:53.497715Z",
     "shell.execute_reply": "2023-03-15T23:26:53.496736Z"
    },
    "papermill": {
     "duration": 0.352104,
     "end_time": "2023-03-15T23:26:53.499838",
     "exception": false,
     "start_time": "2023-03-15T23:26:53.147734",
     "status": "completed"
    },
    "tags": []
   },
   "outputs": [
    {
     "data": {
      "text/html": [
       "<div>\n",
       "<style scoped>\n",
       "    .dataframe tbody tr th:only-of-type {\n",
       "        vertical-align: middle;\n",
       "    }\n",
       "\n",
       "    .dataframe tbody tr th {\n",
       "        vertical-align: top;\n",
       "    }\n",
       "\n",
       "    .dataframe thead th {\n",
       "        text-align: right;\n",
       "    }\n",
       "</style>\n",
       "<table border=\"1\" class=\"dataframe\">\n",
       "  <thead>\n",
       "    <tr style=\"text-align: right;\">\n",
       "      <th></th>\n",
       "      <th>title</th>\n",
       "      <th>tag</th>\n",
       "      <th>artist</th>\n",
       "      <th>year</th>\n",
       "      <th>views</th>\n",
       "      <th>features</th>\n",
       "      <th>lyrics</th>\n",
       "      <th>id</th>\n",
       "      <th>language_cld3</th>\n",
       "      <th>language_ft</th>\n",
       "      <th>language</th>\n",
       "    </tr>\n",
       "  </thead>\n",
       "  <tbody>\n",
       "    <tr>\n",
       "      <th>114245</th>\n",
       "      <td>NaN</td>\n",
       "      <td>rock</td>\n",
       "      <td>Peter Dzubay</td>\n",
       "      <td>2017</td>\n",
       "      <td>52</td>\n",
       "      <td>{}</td>\n",
       "      <td>When I finally find what's real, why shouldn't...</td>\n",
       "      <td>3166588</td>\n",
       "      <td>en</td>\n",
       "      <td>en</td>\n",
       "      <td>en</td>\n",
       "    </tr>\n",
       "    <tr>\n",
       "      <th>146772</th>\n",
       "      <td>NaN</td>\n",
       "      <td>rap</td>\n",
       "      <td>OLlama</td>\n",
       "      <td>2017</td>\n",
       "      <td>2120</td>\n",
       "      <td>{}</td>\n",
       "      <td>[Intro]\\nToo many bitches; Too many bitches tr...</td>\n",
       "      <td>3210807</td>\n",
       "      <td>en</td>\n",
       "      <td>en</td>\n",
       "      <td>en</td>\n",
       "    </tr>\n",
       "    <tr>\n",
       "      <th>158344</th>\n",
       "      <td>NaN</td>\n",
       "      <td>rock</td>\n",
       "      <td>The Moth &amp; The Flame</td>\n",
       "      <td>2011</td>\n",
       "      <td>1051</td>\n",
       "      <td>{}</td>\n",
       "      <td>We used to be so similar\\nWell that was wishfu...</td>\n",
       "      <td>3226446</td>\n",
       "      <td>en</td>\n",
       "      <td>en</td>\n",
       "      <td>en</td>\n",
       "    </tr>\n",
       "    <tr>\n",
       "      <th>160846</th>\n",
       "      <td>NaN</td>\n",
       "      <td>misc</td>\n",
       "      <td>Lawfermz</td>\n",
       "      <td>2017</td>\n",
       "      <td>3</td>\n",
       "      <td>{}</td>\n",
       "      <td>(Intro)\\nBeep beep beep beep beep beep.\\nHello...</td>\n",
       "      <td>3230118</td>\n",
       "      <td>en</td>\n",
       "      <td>en</td>\n",
       "      <td>en</td>\n",
       "    </tr>\n",
       "    <tr>\n",
       "      <th>210243</th>\n",
       "      <td>NaN</td>\n",
       "      <td>rap</td>\n",
       "      <td>TripleYoThreat</td>\n",
       "      <td>2017</td>\n",
       "      <td>24</td>\n",
       "      <td>{}</td>\n",
       "      <td>TripleYoThreat, you ain't never gonna make it\\...</td>\n",
       "      <td>3296318</td>\n",
       "      <td>en</td>\n",
       "      <td>en</td>\n",
       "      <td>en</td>\n",
       "    </tr>\n",
       "    <tr>\n",
       "      <th>211581</th>\n",
       "      <td>NaN</td>\n",
       "      <td>rap</td>\n",
       "      <td>Huntaps</td>\n",
       "      <td>2017</td>\n",
       "      <td>157</td>\n",
       "      <td>{}</td>\n",
       "      <td>[Hook]\\nFuck 12, if you fuck with me I'll send...</td>\n",
       "      <td>3297867</td>\n",
       "      <td>en</td>\n",
       "      <td>en</td>\n",
       "      <td>en</td>\n",
       "    </tr>\n",
       "    <tr>\n",
       "      <th>294150</th>\n",
       "      <td>NaN</td>\n",
       "      <td>rap</td>\n",
       "      <td>Shaiza Maponyaza</td>\n",
       "      <td>2018</td>\n",
       "      <td>45</td>\n",
       "      <td>{}</td>\n",
       "      <td>[intro]\\n\\nYah yah yah yah\\nYah yah\\nMan same ...</td>\n",
       "      <td>3438103</td>\n",
       "      <td>en</td>\n",
       "      <td>en</td>\n",
       "      <td>en</td>\n",
       "    </tr>\n",
       "    <tr>\n",
       "      <th>309207</th>\n",
       "      <td>NaN</td>\n",
       "      <td>rock</td>\n",
       "      <td>PAWS</td>\n",
       "      <td>2016</td>\n",
       "      <td>271</td>\n",
       "      <td>{}</td>\n",
       "      <td>You're scared of history repeating on me\\nCons...</td>\n",
       "      <td>3472732</td>\n",
       "      <td>en</td>\n",
       "      <td>en</td>\n",
       "      <td>en</td>\n",
       "    </tr>\n",
       "    <tr>\n",
       "      <th>357786</th>\n",
       "      <td>NaN</td>\n",
       "      <td>rap</td>\n",
       "      <td>J4ydizz1e</td>\n",
       "      <td>2018</td>\n",
       "      <td>55</td>\n",
       "      <td>{}</td>\n",
       "      <td>[Intro: J4yDiZz1e]\\n\\nThis shit sounds just li...</td>\n",
       "      <td>3561848</td>\n",
       "      <td>en</td>\n",
       "      <td>en</td>\n",
       "      <td>en</td>\n",
       "    </tr>\n",
       "    <tr>\n",
       "      <th>441948</th>\n",
       "      <td>NaN</td>\n",
       "      <td>rap</td>\n",
       "      <td>Bass Santana</td>\n",
       "      <td>2018</td>\n",
       "      <td>1147</td>\n",
       "      <td>{\"Kin\\\\$oul\",\"Skott Summerz\"}</td>\n",
       "      <td>[Intro: Bass Santana]\\nTo Bass be the glory\\nF...</td>\n",
       "      <td>3681585</td>\n",
       "      <td>en</td>\n",
       "      <td>en</td>\n",
       "      <td>en</td>\n",
       "    </tr>\n",
       "    <tr>\n",
       "      <th>443704</th>\n",
       "      <td>NaN</td>\n",
       "      <td>rap</td>\n",
       "      <td>Poetic Mind</td>\n",
       "      <td>2018</td>\n",
       "      <td>43</td>\n",
       "      <td>{}</td>\n",
       "      <td>[Verse 1: Exodu$]\\n\\nSee it started off when i...</td>\n",
       "      <td>3684185</td>\n",
       "      <td>en</td>\n",
       "      <td>en</td>\n",
       "      <td>en</td>\n",
       "    </tr>\n",
       "    <tr>\n",
       "      <th>505748</th>\n",
       "      <td>NaN</td>\n",
       "      <td>rap</td>\n",
       "      <td>KHANS</td>\n",
       "      <td>2018</td>\n",
       "      <td>1445</td>\n",
       "      <td>{}</td>\n",
       "      <td>Countdown to start...\\n\\n[Dialogue: \"MOONLIGHT...</td>\n",
       "      <td>3777115</td>\n",
       "      <td>en</td>\n",
       "      <td>en</td>\n",
       "      <td>en</td>\n",
       "    </tr>\n",
       "    <tr>\n",
       "      <th>584973</th>\n",
       "      <td>NaN</td>\n",
       "      <td>rock</td>\n",
       "      <td>Kathryn Joseph</td>\n",
       "      <td>2018</td>\n",
       "      <td>495</td>\n",
       "      <td>{}</td>\n",
       "      <td>When the winter comes up\\nSpring comes down\\nW...</td>\n",
       "      <td>3890686</td>\n",
       "      <td>en</td>\n",
       "      <td>en</td>\n",
       "      <td>en</td>\n",
       "    </tr>\n",
       "    <tr>\n",
       "      <th>619397</th>\n",
       "      <td>NaN</td>\n",
       "      <td>rap</td>\n",
       "      <td>Alex Micheal</td>\n",
       "      <td>2018</td>\n",
       "      <td>18</td>\n",
       "      <td>{}</td>\n",
       "      <td>I can\\nI can\\nI can tell you how it be round h...</td>\n",
       "      <td>3939140</td>\n",
       "      <td>en</td>\n",
       "      <td>en</td>\n",
       "      <td>en</td>\n",
       "    </tr>\n",
       "    <tr>\n",
       "      <th>643909</th>\n",
       "      <td>NaN</td>\n",
       "      <td>pop</td>\n",
       "      <td>Kenia</td>\n",
       "      <td>2018</td>\n",
       "      <td>37</td>\n",
       "      <td>{}</td>\n",
       "      <td>(verse 1)\\nI try to know what I feel\\nI`m stil...</td>\n",
       "      <td>3974045</td>\n",
       "      <td>en</td>\n",
       "      <td>en</td>\n",
       "      <td>en</td>\n",
       "    </tr>\n",
       "    <tr>\n",
       "      <th>670773</th>\n",
       "      <td>NaN</td>\n",
       "      <td>rap</td>\n",
       "      <td>Mehki Raine</td>\n",
       "      <td>2019</td>\n",
       "      <td>161</td>\n",
       "      <td>{}</td>\n",
       "      <td>[Verse 1]:\\nI’m a soldier, man I love the atte...</td>\n",
       "      <td>4013370</td>\n",
       "      <td>en</td>\n",
       "      <td>en</td>\n",
       "      <td>en</td>\n",
       "    </tr>\n",
       "    <tr>\n",
       "      <th>671652</th>\n",
       "      <td>NaN</td>\n",
       "      <td>misc</td>\n",
       "      <td>Yoshi Flower</td>\n",
       "      <td>2018</td>\n",
       "      <td>115</td>\n",
       "      <td>{}</td>\n",
       "      <td>[Interlude: Brandon Wardell]\\nHey son, been li...</td>\n",
       "      <td>4014692</td>\n",
       "      <td>en</td>\n",
       "      <td>en</td>\n",
       "      <td>en</td>\n",
       "    </tr>\n",
       "    <tr>\n",
       "      <th>705033</th>\n",
       "      <td>NaN</td>\n",
       "      <td>pop</td>\n",
       "      <td>Matte SEXWAVE</td>\n",
       "      <td>2018</td>\n",
       "      <td>30</td>\n",
       "      <td>{\"King Jaf\"}</td>\n",
       "      <td>(Chorus) Matte SEXWAVE\\n\\nDon't be surprised w...</td>\n",
       "      <td>4065090</td>\n",
       "      <td>en</td>\n",
       "      <td>en</td>\n",
       "      <td>en</td>\n",
       "    </tr>\n",
       "    <tr>\n",
       "      <th>805070</th>\n",
       "      <td>NaN</td>\n",
       "      <td>rap</td>\n",
       "      <td>Doxthe_maverick</td>\n",
       "      <td>2019</td>\n",
       "      <td>60</td>\n",
       "      <td>{}</td>\n",
       "      <td>[Verse:]\\n\\nOhh God!\\nLook they losing faith i...</td>\n",
       "      <td>4217064</td>\n",
       "      <td>en</td>\n",
       "      <td>en</td>\n",
       "      <td>en</td>\n",
       "    </tr>\n",
       "    <tr>\n",
       "      <th>991042</th>\n",
       "      <td>NaN</td>\n",
       "      <td>rb</td>\n",
       "      <td>YoungLamentar</td>\n",
       "      <td>2019</td>\n",
       "      <td>25</td>\n",
       "      <td>{}</td>\n",
       "      <td>But girl I love you, I can't kill myself\\nStay...</td>\n",
       "      <td>4517608</td>\n",
       "      <td>en</td>\n",
       "      <td>en</td>\n",
       "      <td>en</td>\n",
       "    </tr>\n",
       "    <tr>\n",
       "      <th>992848</th>\n",
       "      <td>NaN</td>\n",
       "      <td>rap</td>\n",
       "      <td>Patagonist</td>\n",
       "      <td>2016</td>\n",
       "      <td>29</td>\n",
       "      <td>{}</td>\n",
       "      <td>Verse 1\\n\\nI love cyana\\nShaniq teanna\\nTaylor...</td>\n",
       "      <td>4520528</td>\n",
       "      <td>en</td>\n",
       "      <td>en</td>\n",
       "      <td>en</td>\n",
       "    </tr>\n",
       "  </tbody>\n",
       "</table>\n",
       "</div>"
      ],
      "text/plain": [
       "       title   tag                artist  year  views  \\\n",
       "114245   NaN  rock          Peter Dzubay  2017     52   \n",
       "146772   NaN   rap                OLlama  2017   2120   \n",
       "158344   NaN  rock  The Moth & The Flame  2011   1051   \n",
       "160846   NaN  misc              Lawfermz  2017      3   \n",
       "210243   NaN   rap        TripleYoThreat  2017     24   \n",
       "211581   NaN   rap               Huntaps  2017    157   \n",
       "294150   NaN   rap      Shaiza Maponyaza  2018     45   \n",
       "309207   NaN  rock                  PAWS  2016    271   \n",
       "357786   NaN   rap             J4ydizz1e  2018     55   \n",
       "441948   NaN   rap          Bass Santana  2018   1147   \n",
       "443704   NaN   rap           Poetic Mind  2018     43   \n",
       "505748   NaN   rap                 KHANS  2018   1445   \n",
       "584973   NaN  rock        Kathryn Joseph  2018    495   \n",
       "619397   NaN   rap          Alex Micheal  2018     18   \n",
       "643909   NaN   pop                 Kenia  2018     37   \n",
       "670773   NaN   rap           Mehki Raine  2019    161   \n",
       "671652   NaN  misc          Yoshi Flower  2018    115   \n",
       "705033   NaN   pop         Matte SEXWAVE  2018     30   \n",
       "805070   NaN   rap       Doxthe_maverick  2019     60   \n",
       "991042   NaN    rb         YoungLamentar  2019     25   \n",
       "992848   NaN   rap            Patagonist  2016     29   \n",
       "\n",
       "                             features  \\\n",
       "114245                             {}   \n",
       "146772                             {}   \n",
       "158344                             {}   \n",
       "160846                             {}   \n",
       "210243                             {}   \n",
       "211581                             {}   \n",
       "294150                             {}   \n",
       "309207                             {}   \n",
       "357786                             {}   \n",
       "441948  {\"Kin\\\\$oul\",\"Skott Summerz\"}   \n",
       "443704                             {}   \n",
       "505748                             {}   \n",
       "584973                             {}   \n",
       "619397                             {}   \n",
       "643909                             {}   \n",
       "670773                             {}   \n",
       "671652                             {}   \n",
       "705033                   {\"King Jaf\"}   \n",
       "805070                             {}   \n",
       "991042                             {}   \n",
       "992848                             {}   \n",
       "\n",
       "                                                   lyrics       id  \\\n",
       "114245  When I finally find what's real, why shouldn't...  3166588   \n",
       "146772  [Intro]\\nToo many bitches; Too many bitches tr...  3210807   \n",
       "158344  We used to be so similar\\nWell that was wishfu...  3226446   \n",
       "160846  (Intro)\\nBeep beep beep beep beep beep.\\nHello...  3230118   \n",
       "210243  TripleYoThreat, you ain't never gonna make it\\...  3296318   \n",
       "211581  [Hook]\\nFuck 12, if you fuck with me I'll send...  3297867   \n",
       "294150  [intro]\\n\\nYah yah yah yah\\nYah yah\\nMan same ...  3438103   \n",
       "309207  You're scared of history repeating on me\\nCons...  3472732   \n",
       "357786  [Intro: J4yDiZz1e]\\n\\nThis shit sounds just li...  3561848   \n",
       "441948  [Intro: Bass Santana]\\nTo Bass be the glory\\nF...  3681585   \n",
       "443704  [Verse 1: Exodu$]\\n\\nSee it started off when i...  3684185   \n",
       "505748  Countdown to start...\\n\\n[Dialogue: \"MOONLIGHT...  3777115   \n",
       "584973  When the winter comes up\\nSpring comes down\\nW...  3890686   \n",
       "619397  I can\\nI can\\nI can tell you how it be round h...  3939140   \n",
       "643909  (verse 1)\\nI try to know what I feel\\nI`m stil...  3974045   \n",
       "670773  [Verse 1]:\\nI’m a soldier, man I love the atte...  4013370   \n",
       "671652  [Interlude: Brandon Wardell]\\nHey son, been li...  4014692   \n",
       "705033  (Chorus) Matte SEXWAVE\\n\\nDon't be surprised w...  4065090   \n",
       "805070  [Verse:]\\n\\nOhh God!\\nLook they losing faith i...  4217064   \n",
       "991042  But girl I love you, I can't kill myself\\nStay...  4517608   \n",
       "992848  Verse 1\\n\\nI love cyana\\nShaniq teanna\\nTaylor...  4520528   \n",
       "\n",
       "       language_cld3 language_ft language  \n",
       "114245            en          en       en  \n",
       "146772            en          en       en  \n",
       "158344            en          en       en  \n",
       "160846            en          en       en  \n",
       "210243            en          en       en  \n",
       "211581            en          en       en  \n",
       "294150            en          en       en  \n",
       "309207            en          en       en  \n",
       "357786            en          en       en  \n",
       "441948            en          en       en  \n",
       "443704            en          en       en  \n",
       "505748            en          en       en  \n",
       "584973            en          en       en  \n",
       "619397            en          en       en  \n",
       "643909            en          en       en  \n",
       "670773            en          en       en  \n",
       "671652            en          en       en  \n",
       "705033            en          en       en  \n",
       "805070            en          en       en  \n",
       "991042            en          en       en  \n",
       "992848            en          en       en  "
      ]
     },
     "execution_count": 11,
     "metadata": {},
     "output_type": "execute_result"
    }
   ],
   "source": [
    "# get all rows that contain NaN values\n",
    "df_nan = df[df.isna().any(axis=1)]\n",
    "df_nan"
   ]
  },
  {
   "cell_type": "code",
   "execution_count": 12,
   "id": "c1a46f6c",
   "metadata": {
    "execution": {
     "iopub.execute_input": "2023-03-15T23:26:53.541433Z",
     "iopub.status.busy": "2023-03-15T23:26:53.541054Z",
     "iopub.status.idle": "2023-03-15T23:26:53.828525Z",
     "shell.execute_reply": "2023-03-15T23:26:53.827030Z"
    },
    "papermill": {
     "duration": 0.311154,
     "end_time": "2023-03-15T23:26:53.830782",
     "exception": false,
     "start_time": "2023-03-15T23:26:53.519628",
     "status": "completed"
    },
    "tags": []
   },
   "outputs": [
    {
     "name": "stdout",
     "output_type": "stream",
     "text": [
      "Number of untitled song: 21\n"
     ]
    }
   ],
   "source": [
    "print('Number of untitled song:', len(df[df.isna().any(axis=1)]))"
   ]
  },
  {
   "cell_type": "markdown",
   "id": "69002dc4",
   "metadata": {
    "papermill": {
     "duration": 0.020163,
     "end_time": "2023-03-15T23:26:53.871105",
     "exception": false,
     "start_time": "2023-03-15T23:26:53.850942",
     "status": "completed"
    },
    "tags": []
   },
   "source": [
    "Insofar as the title of the music is not to be taken into account in the learning of the topic modeling algorithms but But the titles can be related to the topics in the next phase of analysis and the low number of songs without any title, I decide to delete this data for the moment."
   ]
  },
  {
   "cell_type": "code",
   "execution_count": 13,
   "id": "2fcbfe64",
   "metadata": {
    "execution": {
     "iopub.execute_input": "2023-03-15T23:26:53.913936Z",
     "iopub.status.busy": "2023-03-15T23:26:53.913187Z",
     "iopub.status.idle": "2023-03-15T23:26:54.321361Z",
     "shell.execute_reply": "2023-03-15T23:26:54.320399Z"
    },
    "papermill": {
     "duration": 0.432113,
     "end_time": "2023-03-15T23:26:54.323389",
     "exception": false,
     "start_time": "2023-03-15T23:26:53.891276",
     "status": "completed"
    },
    "tags": []
   },
   "outputs": [
    {
     "data": {
      "text/plain": [
       "645573"
      ]
     },
     "execution_count": 13,
     "metadata": {},
     "output_type": "execute_result"
    }
   ],
   "source": [
    "# Delete rows containing NaN values\n",
    "df = df.dropna()\n",
    "len(df)"
   ]
  },
  {
   "cell_type": "markdown",
   "id": "e8dd6951",
   "metadata": {
    "papermill": {
     "duration": 0.019638,
     "end_time": "2023-03-15T23:26:54.363291",
     "exception": false,
     "start_time": "2023-03-15T23:26:54.343653",
     "status": "completed"
    },
    "tags": []
   },
   "source": [
    "Next, we also try to check for None values"
   ]
  },
  {
   "cell_type": "code",
   "execution_count": 14,
   "id": "3621e448",
   "metadata": {
    "execution": {
     "iopub.execute_input": "2023-03-15T23:26:54.405348Z",
     "iopub.status.busy": "2023-03-15T23:26:54.404669Z",
     "iopub.status.idle": "2023-03-15T23:26:54.699866Z",
     "shell.execute_reply": "2023-03-15T23:26:54.698404Z"
    },
    "papermill": {
     "duration": 0.319817,
     "end_time": "2023-03-15T23:26:54.703146",
     "exception": false,
     "start_time": "2023-03-15T23:26:54.383329",
     "status": "completed"
    },
    "tags": []
   },
   "outputs": [
    {
     "data": {
      "text/html": [
       "<div>\n",
       "<style scoped>\n",
       "    .dataframe tbody tr th:only-of-type {\n",
       "        vertical-align: middle;\n",
       "    }\n",
       "\n",
       "    .dataframe tbody tr th {\n",
       "        vertical-align: top;\n",
       "    }\n",
       "\n",
       "    .dataframe thead th {\n",
       "        text-align: right;\n",
       "    }\n",
       "</style>\n",
       "<table border=\"1\" class=\"dataframe\">\n",
       "  <thead>\n",
       "    <tr style=\"text-align: right;\">\n",
       "      <th></th>\n",
       "      <th>title</th>\n",
       "      <th>tag</th>\n",
       "      <th>artist</th>\n",
       "      <th>year</th>\n",
       "      <th>views</th>\n",
       "      <th>features</th>\n",
       "      <th>lyrics</th>\n",
       "      <th>id</th>\n",
       "      <th>language_cld3</th>\n",
       "      <th>language_ft</th>\n",
       "      <th>language</th>\n",
       "    </tr>\n",
       "  </thead>\n",
       "  <tbody>\n",
       "  </tbody>\n",
       "</table>\n",
       "</div>"
      ],
      "text/plain": [
       "Empty DataFrame\n",
       "Columns: [title, tag, artist, year, views, features, lyrics, id, language_cld3, language_ft, language]\n",
       "Index: []"
      ]
     },
     "execution_count": 14,
     "metadata": {},
     "output_type": "execute_result"
    }
   ],
   "source": [
    "df[df.isnull().any(axis=1)]"
   ]
  },
  {
   "cell_type": "markdown",
   "id": "01199d4b",
   "metadata": {
    "papermill": {
     "duration": 0.019873,
     "end_time": "2023-03-15T23:26:54.743369",
     "exception": false,
     "start_time": "2023-03-15T23:26:54.723496",
     "status": "completed"
    },
    "tags": []
   },
   "source": [
    "No None values in this dataframe.\n",
    "\n",
    "Afterwards, let's look at the year variable, which is one of the important variables to take into account in our analysis because we want to extract the topics by decades."
   ]
  },
  {
   "cell_type": "code",
   "execution_count": 15,
   "id": "3d4ded15",
   "metadata": {
    "execution": {
     "iopub.execute_input": "2023-03-15T23:26:54.787531Z",
     "iopub.status.busy": "2023-03-15T23:26:54.786163Z",
     "iopub.status.idle": "2023-03-15T23:26:54.797597Z",
     "shell.execute_reply": "2023-03-15T23:26:54.795947Z"
    },
    "papermill": {
     "duration": 0.037128,
     "end_time": "2023-03-15T23:26:54.801055",
     "exception": false,
     "start_time": "2023-03-15T23:26:54.763927",
     "status": "completed"
    },
    "tags": []
   },
   "outputs": [
    {
     "name": "stdout",
     "output_type": "stream",
     "text": [
      "[2017 2016 1998 2002 2011 2013 2014 2015 2006 2009 2012 2005 2018 2008\n",
      " 2003 2010 2007 1989 1986 1999 1905 1985 1994 2001 1899 1913 2000 2020\n",
      " 1990 1984 1983 1979 2021 1995 2004 1825 1992 1993 2019 1980 1977 1966\n",
      " 1988 1991 1997 1949 1957 1982 1674 1996 1974 1942 1850 1842    1 1964\n",
      " 1972 1915 1976 1930 1987 1919 1911 1960 1978 1968 1975 1950 1981 1952\n",
      " 1973 1951 1947 1954 1961 1892 1878 1934 1935 1970 1969 1944 1962 1909\n",
      " 2022 1971 1927 1945 1936 1926 1938 1901   12 1900 1922 1929 1937 1953\n",
      " 1820 1864 1965 1955 1540 1916 1963 1967 1918 1904 1943   14 1772 1788\n",
      " 1780 1959 1886 1939 1871 1912 1956 1958 1880 1923 1910 1844 1897 1914\n",
      " 1862 1933 1946   15 1877 1771   17 1948 1931 1898 1700 1888 1928  510\n",
      " 1791 1895 1941 1920   25 1917 1908 1940 1859 1907 1902 2023 1857 1863\n",
      " 1666 1893 1889 1861 1869 1925 1867 1872 1676 1675  420 1932  709 1818\n",
      " 1830 1005 1866 1066  176 1300 1924 1251 1838 1760 1739   21 1758 1469\n",
      "    2 1400 1853 1320 1200 1890 1860 1903   18 1220  130 1794 1896 1461\n",
      " 1210 1881 1420   99 1815 1601 1647 1688 1746 1801 1858 1616 1593 1546\n",
      " 1891 1775 1793 1804 1856  217 1813 1716  209  210  799  212  399  213\n",
      "  214  218 1816    7 1884 1882 1744 1814 1215 1559 1777 1552  769 1198\n",
      " 1776  801 1883 1894 1680 1827  170 1191 1796   69  666   23  411  226\n",
      " 1868  514   26 1485  868 1748 1873  280   20 1843   16 1612 1685 1817\n",
      " 1187 1531 1437  936    6 1828 1759 1667 1921 1605 1847  196    9 1831\n",
      " 1885 1718 1836 1677 1623 1695 1812 1811 1795 1610   19    3 1299  670\n",
      " 1849 1717 1851 1852 1855 1846 1865]\n",
      "Number of unique years:  301\n"
     ]
    }
   ],
   "source": [
    "years = df.year.unique()\n",
    "print(years)\n",
    "\n",
    "print('Number of unique years: ',len(years))"
   ]
  },
  {
   "cell_type": "markdown",
   "id": "0f82164b",
   "metadata": {
    "papermill": {
     "duration": 0.020896,
     "end_time": "2023-03-15T23:26:54.843054",
     "exception": false,
     "start_time": "2023-03-15T23:26:54.822158",
     "status": "completed"
    },
    "tags": []
   },
   "source": [
    "We firstly want to know if the year variable format is suitable. It is highly likely that year are sometimes downsized (example : 92 instead of 1992).\n",
    "Let's display the tag distribution for music with a release year below 215."
   ]
  },
  {
   "cell_type": "code",
   "execution_count": 16,
   "id": "fe1365a7",
   "metadata": {
    "execution": {
     "iopub.execute_input": "2023-03-15T23:26:54.886554Z",
     "iopub.status.busy": "2023-03-15T23:26:54.886113Z",
     "iopub.status.idle": "2023-03-15T23:26:54.963847Z",
     "shell.execute_reply": "2023-03-15T23:26:54.962318Z"
    },
    "papermill": {
     "duration": 0.102508,
     "end_time": "2023-03-15T23:26:54.966392",
     "exception": false,
     "start_time": "2023-03-15T23:26:54.863884",
     "status": "completed"
    },
    "tags": []
   },
   "outputs": [
    {
     "data": {
      "text/html": [
       "<div>                            <div id=\"6f30efab-28b2-4718-a1d6-ca0e610b2995\" class=\"plotly-graph-div\" style=\"height:525px; width:100%;\"></div>            <script type=\"text/javascript\">                require([\"plotly\"], function(Plotly) {                    window.PLOTLYENV=window.PLOTLYENV || {};                                    if (document.getElementById(\"6f30efab-28b2-4718-a1d6-ca0e610b2995\")) {                    Plotly.newPlot(                        \"6f30efab-28b2-4718-a1d6-ca0e610b2995\",                        [{\"domain\":{\"x\":[0.0,1.0],\"y\":[0.0,1.0]},\"hovertemplate\":\"tag=%{label}<br>count=%{value}<extra></extra>\",\"labels\":[\"country\",\"misc\",\"pop\",\"rap\",\"rb\",\"rock\"],\"legendgroup\":\"\",\"name\":\"\",\"showlegend\":true,\"values\":[6,19,57,176,20,22],\"type\":\"pie\"}],                        {\"template\":{\"data\":{\"histogram2dcontour\":[{\"type\":\"histogram2dcontour\",\"colorbar\":{\"outlinewidth\":0,\"ticks\":\"\"},\"colorscale\":[[0.0,\"#0d0887\"],[0.1111111111111111,\"#46039f\"],[0.2222222222222222,\"#7201a8\"],[0.3333333333333333,\"#9c179e\"],[0.4444444444444444,\"#bd3786\"],[0.5555555555555556,\"#d8576b\"],[0.6666666666666666,\"#ed7953\"],[0.7777777777777778,\"#fb9f3a\"],[0.8888888888888888,\"#fdca26\"],[1.0,\"#f0f921\"]]}],\"choropleth\":[{\"type\":\"choropleth\",\"colorbar\":{\"outlinewidth\":0,\"ticks\":\"\"}}],\"histogram2d\":[{\"type\":\"histogram2d\",\"colorbar\":{\"outlinewidth\":0,\"ticks\":\"\"},\"colorscale\":[[0.0,\"#0d0887\"],[0.1111111111111111,\"#46039f\"],[0.2222222222222222,\"#7201a8\"],[0.3333333333333333,\"#9c179e\"],[0.4444444444444444,\"#bd3786\"],[0.5555555555555556,\"#d8576b\"],[0.6666666666666666,\"#ed7953\"],[0.7777777777777778,\"#fb9f3a\"],[0.8888888888888888,\"#fdca26\"],[1.0,\"#f0f921\"]]}],\"heatmap\":[{\"type\":\"heatmap\",\"colorbar\":{\"outlinewidth\":0,\"ticks\":\"\"},\"colorscale\":[[0.0,\"#0d0887\"],[0.1111111111111111,\"#46039f\"],[0.2222222222222222,\"#7201a8\"],[0.3333333333333333,\"#9c179e\"],[0.4444444444444444,\"#bd3786\"],[0.5555555555555556,\"#d8576b\"],[0.6666666666666666,\"#ed7953\"],[0.7777777777777778,\"#fb9f3a\"],[0.8888888888888888,\"#fdca26\"],[1.0,\"#f0f921\"]]}],\"heatmapgl\":[{\"type\":\"heatmapgl\",\"colorbar\":{\"outlinewidth\":0,\"ticks\":\"\"},\"colorscale\":[[0.0,\"#0d0887\"],[0.1111111111111111,\"#46039f\"],[0.2222222222222222,\"#7201a8\"],[0.3333333333333333,\"#9c179e\"],[0.4444444444444444,\"#bd3786\"],[0.5555555555555556,\"#d8576b\"],[0.6666666666666666,\"#ed7953\"],[0.7777777777777778,\"#fb9f3a\"],[0.8888888888888888,\"#fdca26\"],[1.0,\"#f0f921\"]]}],\"contourcarpet\":[{\"type\":\"contourcarpet\",\"colorbar\":{\"outlinewidth\":0,\"ticks\":\"\"}}],\"contour\":[{\"type\":\"contour\",\"colorbar\":{\"outlinewidth\":0,\"ticks\":\"\"},\"colorscale\":[[0.0,\"#0d0887\"],[0.1111111111111111,\"#46039f\"],[0.2222222222222222,\"#7201a8\"],[0.3333333333333333,\"#9c179e\"],[0.4444444444444444,\"#bd3786\"],[0.5555555555555556,\"#d8576b\"],[0.6666666666666666,\"#ed7953\"],[0.7777777777777778,\"#fb9f3a\"],[0.8888888888888888,\"#fdca26\"],[1.0,\"#f0f921\"]]}],\"surface\":[{\"type\":\"surface\",\"colorbar\":{\"outlinewidth\":0,\"ticks\":\"\"},\"colorscale\":[[0.0,\"#0d0887\"],[0.1111111111111111,\"#46039f\"],[0.2222222222222222,\"#7201a8\"],[0.3333333333333333,\"#9c179e\"],[0.4444444444444444,\"#bd3786\"],[0.5555555555555556,\"#d8576b\"],[0.6666666666666666,\"#ed7953\"],[0.7777777777777778,\"#fb9f3a\"],[0.8888888888888888,\"#fdca26\"],[1.0,\"#f0f921\"]]}],\"mesh3d\":[{\"type\":\"mesh3d\",\"colorbar\":{\"outlinewidth\":0,\"ticks\":\"\"}}],\"scatter\":[{\"fillpattern\":{\"fillmode\":\"overlay\",\"size\":10,\"solidity\":0.2},\"type\":\"scatter\"}],\"parcoords\":[{\"type\":\"parcoords\",\"line\":{\"colorbar\":{\"outlinewidth\":0,\"ticks\":\"\"}}}],\"scatterpolargl\":[{\"type\":\"scatterpolargl\",\"marker\":{\"colorbar\":{\"outlinewidth\":0,\"ticks\":\"\"}}}],\"bar\":[{\"error_x\":{\"color\":\"#2a3f5f\"},\"error_y\":{\"color\":\"#2a3f5f\"},\"marker\":{\"line\":{\"color\":\"white\",\"width\":0.5},\"pattern\":{\"fillmode\":\"overlay\",\"size\":10,\"solidity\":0.2}},\"type\":\"bar\"}],\"scattergeo\":[{\"type\":\"scattergeo\",\"marker\":{\"colorbar\":{\"outlinewidth\":0,\"ticks\":\"\"}}}],\"scatterpolar\":[{\"type\":\"scatterpolar\",\"marker\":{\"colorbar\":{\"outlinewidth\":0,\"ticks\":\"\"}}}],\"histogram\":[{\"marker\":{\"pattern\":{\"fillmode\":\"overlay\",\"size\":10,\"solidity\":0.2}},\"type\":\"histogram\"}],\"scattergl\":[{\"type\":\"scattergl\",\"marker\":{\"colorbar\":{\"outlinewidth\":0,\"ticks\":\"\"}}}],\"scatter3d\":[{\"type\":\"scatter3d\",\"line\":{\"colorbar\":{\"outlinewidth\":0,\"ticks\":\"\"}},\"marker\":{\"colorbar\":{\"outlinewidth\":0,\"ticks\":\"\"}}}],\"scattermapbox\":[{\"type\":\"scattermapbox\",\"marker\":{\"colorbar\":{\"outlinewidth\":0,\"ticks\":\"\"}}}],\"scatterternary\":[{\"type\":\"scatterternary\",\"marker\":{\"colorbar\":{\"outlinewidth\":0,\"ticks\":\"\"}}}],\"scattercarpet\":[{\"type\":\"scattercarpet\",\"marker\":{\"colorbar\":{\"outlinewidth\":0,\"ticks\":\"\"}}}],\"carpet\":[{\"aaxis\":{\"endlinecolor\":\"#2a3f5f\",\"gridcolor\":\"#C8D4E3\",\"linecolor\":\"#C8D4E3\",\"minorgridcolor\":\"#C8D4E3\",\"startlinecolor\":\"#2a3f5f\"},\"baxis\":{\"endlinecolor\":\"#2a3f5f\",\"gridcolor\":\"#C8D4E3\",\"linecolor\":\"#C8D4E3\",\"minorgridcolor\":\"#C8D4E3\",\"startlinecolor\":\"#2a3f5f\"},\"type\":\"carpet\"}],\"table\":[{\"cells\":{\"fill\":{\"color\":\"#EBF0F8\"},\"line\":{\"color\":\"white\"}},\"header\":{\"fill\":{\"color\":\"#C8D4E3\"},\"line\":{\"color\":\"white\"}},\"type\":\"table\"}],\"barpolar\":[{\"marker\":{\"line\":{\"color\":\"white\",\"width\":0.5},\"pattern\":{\"fillmode\":\"overlay\",\"size\":10,\"solidity\":0.2}},\"type\":\"barpolar\"}],\"pie\":[{\"automargin\":true,\"type\":\"pie\"}]},\"layout\":{\"autotypenumbers\":\"strict\",\"colorway\":[\"#636efa\",\"#EF553B\",\"#00cc96\",\"#ab63fa\",\"#FFA15A\",\"#19d3f3\",\"#FF6692\",\"#B6E880\",\"#FF97FF\",\"#FECB52\"],\"font\":{\"color\":\"#2a3f5f\"},\"hovermode\":\"closest\",\"hoverlabel\":{\"align\":\"left\"},\"paper_bgcolor\":\"white\",\"plot_bgcolor\":\"white\",\"polar\":{\"bgcolor\":\"white\",\"angularaxis\":{\"gridcolor\":\"#EBF0F8\",\"linecolor\":\"#EBF0F8\",\"ticks\":\"\"},\"radialaxis\":{\"gridcolor\":\"#EBF0F8\",\"linecolor\":\"#EBF0F8\",\"ticks\":\"\"}},\"ternary\":{\"bgcolor\":\"white\",\"aaxis\":{\"gridcolor\":\"#DFE8F3\",\"linecolor\":\"#A2B1C6\",\"ticks\":\"\"},\"baxis\":{\"gridcolor\":\"#DFE8F3\",\"linecolor\":\"#A2B1C6\",\"ticks\":\"\"},\"caxis\":{\"gridcolor\":\"#DFE8F3\",\"linecolor\":\"#A2B1C6\",\"ticks\":\"\"}},\"coloraxis\":{\"colorbar\":{\"outlinewidth\":0,\"ticks\":\"\"}},\"colorscale\":{\"sequential\":[[0.0,\"#0d0887\"],[0.1111111111111111,\"#46039f\"],[0.2222222222222222,\"#7201a8\"],[0.3333333333333333,\"#9c179e\"],[0.4444444444444444,\"#bd3786\"],[0.5555555555555556,\"#d8576b\"],[0.6666666666666666,\"#ed7953\"],[0.7777777777777778,\"#fb9f3a\"],[0.8888888888888888,\"#fdca26\"],[1.0,\"#f0f921\"]],\"sequentialminus\":[[0.0,\"#0d0887\"],[0.1111111111111111,\"#46039f\"],[0.2222222222222222,\"#7201a8\"],[0.3333333333333333,\"#9c179e\"],[0.4444444444444444,\"#bd3786\"],[0.5555555555555556,\"#d8576b\"],[0.6666666666666666,\"#ed7953\"],[0.7777777777777778,\"#fb9f3a\"],[0.8888888888888888,\"#fdca26\"],[1.0,\"#f0f921\"]],\"diverging\":[[0,\"#8e0152\"],[0.1,\"#c51b7d\"],[0.2,\"#de77ae\"],[0.3,\"#f1b6da\"],[0.4,\"#fde0ef\"],[0.5,\"#f7f7f7\"],[0.6,\"#e6f5d0\"],[0.7,\"#b8e186\"],[0.8,\"#7fbc41\"],[0.9,\"#4d9221\"],[1,\"#276419\"]]},\"xaxis\":{\"gridcolor\":\"#EBF0F8\",\"linecolor\":\"#EBF0F8\",\"ticks\":\"\",\"title\":{\"standoff\":15},\"zerolinecolor\":\"#EBF0F8\",\"automargin\":true,\"zerolinewidth\":2},\"yaxis\":{\"gridcolor\":\"#EBF0F8\",\"linecolor\":\"#EBF0F8\",\"ticks\":\"\",\"title\":{\"standoff\":15},\"zerolinecolor\":\"#EBF0F8\",\"automargin\":true,\"zerolinewidth\":2},\"scene\":{\"xaxis\":{\"backgroundcolor\":\"white\",\"gridcolor\":\"#DFE8F3\",\"linecolor\":\"#EBF0F8\",\"showbackground\":true,\"ticks\":\"\",\"zerolinecolor\":\"#EBF0F8\",\"gridwidth\":2},\"yaxis\":{\"backgroundcolor\":\"white\",\"gridcolor\":\"#DFE8F3\",\"linecolor\":\"#EBF0F8\",\"showbackground\":true,\"ticks\":\"\",\"zerolinecolor\":\"#EBF0F8\",\"gridwidth\":2},\"zaxis\":{\"backgroundcolor\":\"white\",\"gridcolor\":\"#DFE8F3\",\"linecolor\":\"#EBF0F8\",\"showbackground\":true,\"ticks\":\"\",\"zerolinecolor\":\"#EBF0F8\",\"gridwidth\":2}},\"shapedefaults\":{\"line\":{\"color\":\"#2a3f5f\"}},\"annotationdefaults\":{\"arrowcolor\":\"#2a3f5f\",\"arrowhead\":0,\"arrowwidth\":1},\"geo\":{\"bgcolor\":\"white\",\"landcolor\":\"white\",\"subunitcolor\":\"#C8D4E3\",\"showland\":true,\"showlakes\":true,\"lakecolor\":\"white\"},\"title\":{\"x\":0.05},\"mapbox\":{\"style\":\"light\"}}},\"legend\":{\"tracegroupgap\":0},\"title\":{\"text\":\"Outlier tag distribution\"}},                        {\"responsive\": true}                    ).then(function(){\n",
       "                            \n",
       "var gd = document.getElementById('6f30efab-28b2-4718-a1d6-ca0e610b2995');\n",
       "var x = new MutationObserver(function (mutations, observer) {{\n",
       "        var display = window.getComputedStyle(gd).display;\n",
       "        if (!display || display === 'none') {{\n",
       "            console.log([gd, 'removed!']);\n",
       "            Plotly.purge(gd);\n",
       "            observer.disconnect();\n",
       "        }}\n",
       "}});\n",
       "\n",
       "// Listen for the removal of the full notebook cells\n",
       "var notebookContainer = gd.closest('#notebook-container');\n",
       "if (notebookContainer) {{\n",
       "    x.observe(notebookContainer, {childList: true});\n",
       "}}\n",
       "\n",
       "// Listen for the clearing of the current output cell\n",
       "var outputEl = gd.closest('.output');\n",
       "if (outputEl) {{\n",
       "    x.observe(outputEl, {childList: true});\n",
       "}}\n",
       "\n",
       "                        })                };                });            </script>        </div>"
      ]
     },
     "metadata": {},
     "output_type": "display_data"
    }
   ],
   "source": [
    "df_tag = df[df['year'] < 215].groupby(['tag']).size().reset_index(name='count')\n",
    "\n",
    "fig = px.pie(df_tag, names=\"tag\", values=\"count\", title = \"Outlier tag distribution\")\n",
    "fig.show()"
   ]
  },
  {
   "cell_type": "markdown",
   "id": "a4a063e7",
   "metadata": {
    "papermill": {
     "duration": 0.020719,
     "end_time": "2023-03-15T23:26:55.007839",
     "exception": false,
     "start_time": "2023-03-15T23:26:54.987120",
     "status": "completed"
    },
    "tags": []
   },
   "source": [
    "It is rather surprising to observe that the majority style of music of this period (< 215) is rap music knowing that this style is known for the current emerging style. Of course, among this data their is a important part of outlier year."
   ]
  },
  {
   "cell_type": "code",
   "execution_count": 17,
   "id": "d379a7c7",
   "metadata": {
    "execution": {
     "iopub.execute_input": "2023-03-15T23:26:55.051244Z",
     "iopub.status.busy": "2023-03-15T23:26:55.050816Z",
     "iopub.status.idle": "2023-03-15T23:26:55.116342Z",
     "shell.execute_reply": "2023-03-15T23:26:55.114520Z"
    },
    "papermill": {
     "duration": 0.090747,
     "end_time": "2023-03-15T23:26:55.119331",
     "exception": false,
     "start_time": "2023-03-15T23:26:55.028584",
     "status": "completed"
    },
    "tags": []
   },
   "outputs": [
    {
     "data": {
      "text/html": [
       "<div>\n",
       "<style scoped>\n",
       "    .dataframe tbody tr th:only-of-type {\n",
       "        vertical-align: middle;\n",
       "    }\n",
       "\n",
       "    .dataframe tbody tr th {\n",
       "        vertical-align: top;\n",
       "    }\n",
       "\n",
       "    .dataframe thead th {\n",
       "        text-align: right;\n",
       "    }\n",
       "</style>\n",
       "<table border=\"1\" class=\"dataframe\">\n",
       "  <thead>\n",
       "    <tr style=\"text-align: right;\">\n",
       "      <th></th>\n",
       "      <th>title</th>\n",
       "      <th>tag</th>\n",
       "      <th>artist</th>\n",
       "      <th>year</th>\n",
       "      <th>views</th>\n",
       "      <th>features</th>\n",
       "      <th>lyrics</th>\n",
       "      <th>id</th>\n",
       "      <th>language_cld3</th>\n",
       "      <th>language_ft</th>\n",
       "      <th>language</th>\n",
       "    </tr>\n",
       "  </thead>\n",
       "  <tbody>\n",
       "    <tr>\n",
       "      <th>111689</th>\n",
       "      <td>Issa Snack</td>\n",
       "      <td>rap</td>\n",
       "      <td>Phatboitheceleb</td>\n",
       "      <td>1</td>\n",
       "      <td>4182</td>\n",
       "      <td>{}</td>\n",
       "      <td>Chorus: its ya birthday and you know I ain't f...</td>\n",
       "      <td>3163216</td>\n",
       "      <td>en</td>\n",
       "      <td>en</td>\n",
       "      <td>en</td>\n",
       "    </tr>\n",
       "    <tr>\n",
       "      <th>268205</th>\n",
       "      <td>Oof sandman sans sans diss track</td>\n",
       "      <td>rap</td>\n",
       "      <td>Squeaky</td>\n",
       "      <td>15</td>\n",
       "      <td>3206</td>\n",
       "      <td>{}</td>\n",
       "      <td>OOF POOF BOOTH LOSE LOOSE MOVE LUKE FRISK WRIS...</td>\n",
       "      <td>3387617</td>\n",
       "      <td>en</td>\n",
       "      <td>en</td>\n",
       "      <td>en</td>\n",
       "    </tr>\n",
       "    <tr>\n",
       "      <th>218600</th>\n",
       "      <td>First Day Home</td>\n",
       "      <td>rap</td>\n",
       "      <td>RetcH</td>\n",
       "      <td>1</td>\n",
       "      <td>2334</td>\n",
       "      <td>{}</td>\n",
       "      <td>[Intro]\\n\\n[Chorus]\\nHome, it's my first day h...</td>\n",
       "      <td>3307004</td>\n",
       "      <td>en</td>\n",
       "      <td>en</td>\n",
       "      <td>en</td>\n",
       "    </tr>\n",
       "    <tr>\n",
       "      <th>381769</th>\n",
       "      <td>Papi</td>\n",
       "      <td>rap</td>\n",
       "      <td>DON-DON (US)</td>\n",
       "      <td>1</td>\n",
       "      <td>2129</td>\n",
       "      <td>{}</td>\n",
       "      <td>[INTRO]\\nCall me papi\\nCall me papi\\nLead her\\...</td>\n",
       "      <td>3596060</td>\n",
       "      <td>en</td>\n",
       "      <td>en</td>\n",
       "      <td>en</td>\n",
       "    </tr>\n",
       "    <tr>\n",
       "      <th>715072</th>\n",
       "      <td>Same Love</td>\n",
       "      <td>rap</td>\n",
       "      <td>Macklemore</td>\n",
       "      <td>1</td>\n",
       "      <td>1767</td>\n",
       "      <td>{\"Macklemore &amp; Ryan Lewis\"}</td>\n",
       "      <td>When I was in the 3rd grade\\nI thought that I ...</td>\n",
       "      <td>4080328</td>\n",
       "      <td>en</td>\n",
       "      <td>en</td>\n",
       "      <td>en</td>\n",
       "    </tr>\n",
       "    <tr>\n",
       "      <th>969927</th>\n",
       "      <td>IWroteThisForTaylorSwift</td>\n",
       "      <td>rap</td>\n",
       "      <td>Vershad</td>\n",
       "      <td>1</td>\n",
       "      <td>1607</td>\n",
       "      <td>{\"Brooklyn Zoo\"}</td>\n",
       "      <td>[Intro]\\nJake:  Sounds like your sad. Listen, ...</td>\n",
       "      <td>4484444</td>\n",
       "      <td>en</td>\n",
       "      <td>en</td>\n",
       "      <td>en</td>\n",
       "    </tr>\n",
       "    <tr>\n",
       "      <th>268744</th>\n",
       "      <td>I like frisk</td>\n",
       "      <td>rap</td>\n",
       "      <td>Squeaky</td>\n",
       "      <td>1</td>\n",
       "      <td>1186</td>\n",
       "      <td>{\"Squeaky jr\"}</td>\n",
       "      <td>Ok, ok, ok, ok, ok, ok, ok, yeah\\nI like frisk...</td>\n",
       "      <td>3388825</td>\n",
       "      <td>en</td>\n",
       "      <td>en</td>\n",
       "      <td>en</td>\n",
       "    </tr>\n",
       "    <tr>\n",
       "      <th>945081</th>\n",
       "      <td>Same Lil Bitch</td>\n",
       "      <td>rap</td>\n",
       "      <td>Shayla Gessler</td>\n",
       "      <td>1</td>\n",
       "      <td>1023</td>\n",
       "      <td>{}</td>\n",
       "      <td>Did me dirty, you been fuckin' with the Same L...</td>\n",
       "      <td>4441966</td>\n",
       "      <td>en</td>\n",
       "      <td>en</td>\n",
       "      <td>en</td>\n",
       "    </tr>\n",
       "    <tr>\n",
       "      <th>18947</th>\n",
       "      <td>Dont Blame Me For You</td>\n",
       "      <td>rap</td>\n",
       "      <td>Kids These Days</td>\n",
       "      <td>1</td>\n",
       "      <td>868</td>\n",
       "      <td>{\"VIC MENSA\",\"Macie Stewart\",\"Liam Cunningham\"}</td>\n",
       "      <td>[Verse 1: Vic Mensa]\\nI'm larger than life, ha...</td>\n",
       "      <td>3044399</td>\n",
       "      <td>en</td>\n",
       "      <td>en</td>\n",
       "      <td>en</td>\n",
       "    </tr>\n",
       "    <tr>\n",
       "      <th>431118</th>\n",
       "      <td>Robocop</td>\n",
       "      <td>rap</td>\n",
       "      <td>videogamedunkey</td>\n",
       "      <td>1</td>\n",
       "      <td>766</td>\n",
       "      <td>{​videogamedunkey}</td>\n",
       "      <td>Now that I'm a Robocop\\n\\nNow I'm never gonna ...</td>\n",
       "      <td>3666068</td>\n",
       "      <td>en</td>\n",
       "      <td>en</td>\n",
       "      <td>en</td>\n",
       "    </tr>\n",
       "    <tr>\n",
       "      <th>871682</th>\n",
       "      <td>I don’t want another</td>\n",
       "      <td>rap</td>\n",
       "      <td>$inbad (VA)</td>\n",
       "      <td>1</td>\n",
       "      <td>669</td>\n",
       "      <td>{\"\\\\$inbad (VA)\"}</td>\n",
       "      <td>(Hook)\\n\\nI'm Cold hearted, And broke/\\nI cold...</td>\n",
       "      <td>4323086</td>\n",
       "      <td>en</td>\n",
       "      <td>en</td>\n",
       "      <td>en</td>\n",
       "    </tr>\n",
       "    <tr>\n",
       "      <th>720816</th>\n",
       "      <td>Wont Back Out</td>\n",
       "      <td>rap</td>\n",
       "      <td>Flawless Real Talk</td>\n",
       "      <td>1</td>\n",
       "      <td>669</td>\n",
       "      <td>{Freek}</td>\n",
       "      <td>[Intro - Flawless]:\\nIt all starts with you, a...</td>\n",
       "      <td>4088725</td>\n",
       "      <td>en</td>\n",
       "      <td>en</td>\n",
       "      <td>en</td>\n",
       "    </tr>\n",
       "    <tr>\n",
       "      <th>151876</th>\n",
       "      <td>The Race Keemix</td>\n",
       "      <td>rap</td>\n",
       "      <td>Ayo Kee</td>\n",
       "      <td>1</td>\n",
       "      <td>543</td>\n",
       "      <td>{}</td>\n",
       "      <td>Fuck these niggas i been out here gettin cake\\...</td>\n",
       "      <td>3217777</td>\n",
       "      <td>en</td>\n",
       "      <td>en</td>\n",
       "      <td>en</td>\n",
       "    </tr>\n",
       "    <tr>\n",
       "      <th>336793</th>\n",
       "      <td>Tenxx Hours</td>\n",
       "      <td>rap</td>\n",
       "      <td>Tenxx</td>\n",
       "      <td>1</td>\n",
       "      <td>416</td>\n",
       "      <td>{}</td>\n",
       "      <td>[Verse 1]:\\nWho wanna play with me?\\nBrought t...</td>\n",
       "      <td>3530296</td>\n",
       "      <td>en</td>\n",
       "      <td>en</td>\n",
       "      <td>en</td>\n",
       "    </tr>\n",
       "    <tr>\n",
       "      <th>192002</th>\n",
       "      <td>Kami</td>\n",
       "      <td>rap</td>\n",
       "      <td>2burbo</td>\n",
       "      <td>17</td>\n",
       "      <td>415</td>\n",
       "      <td>{}</td>\n",
       "      <td>[Hook]\\nNo, I really don't have friends. (No I...</td>\n",
       "      <td>3272140</td>\n",
       "      <td>en</td>\n",
       "      <td>en</td>\n",
       "      <td>en</td>\n",
       "    </tr>\n",
       "    <tr>\n",
       "      <th>323357</th>\n",
       "      <td>Sauce</td>\n",
       "      <td>rap</td>\n",
       "      <td>LilFlex (The one and only)</td>\n",
       "      <td>1</td>\n",
       "      <td>400</td>\n",
       "      <td>{3rdKvng}</td>\n",
       "      <td>Chorus\\n\\nI’m saucing on a young nigga curry\\n...</td>\n",
       "      <td>3506087</td>\n",
       "      <td>en</td>\n",
       "      <td>en</td>\n",
       "      <td>en</td>\n",
       "    </tr>\n",
       "    <tr>\n",
       "      <th>200497</th>\n",
       "      <td>Dolce Lyrics Finished</td>\n",
       "      <td>rap</td>\n",
       "      <td>Casper TNG</td>\n",
       "      <td>1</td>\n",
       "      <td>357</td>\n",
       "      <td>{}</td>\n",
       "      <td>[Intro]\\nGhost town volume three\\nShe just wan...</td>\n",
       "      <td>3283118</td>\n",
       "      <td>en</td>\n",
       "      <td>en</td>\n",
       "      <td>en</td>\n",
       "    </tr>\n",
       "    <tr>\n",
       "      <th>731159</th>\n",
       "      <td>Toast</td>\n",
       "      <td>rap</td>\n",
       "      <td>Guwop gumbo X Bando Beej</td>\n",
       "      <td>1</td>\n",
       "      <td>336</td>\n",
       "      <td>{\"Guwop gumbo ft Bando Beej\",\"Guwop gumbo X  B...</td>\n",
       "      <td>(Guowp  Gumbo X Bando Beej -Toast )\\n\\n\\n[ Int...</td>\n",
       "      <td>4104880</td>\n",
       "      <td>en</td>\n",
       "      <td>en</td>\n",
       "      <td>en</td>\n",
       "    </tr>\n",
       "    <tr>\n",
       "      <th>189766</th>\n",
       "      <td>Pimpin Aint Easy</td>\n",
       "      <td>rap</td>\n",
       "      <td>Jackie B (IL)</td>\n",
       "      <td>1</td>\n",
       "      <td>309</td>\n",
       "      <td>{}</td>\n",
       "      <td>Hook:\\nPimpin ain't easy\\nNo no noooo\\nBut Gue...</td>\n",
       "      <td>3269320</td>\n",
       "      <td>en</td>\n",
       "      <td>en</td>\n",
       "      <td>en</td>\n",
       "    </tr>\n",
       "    <tr>\n",
       "      <th>438752</th>\n",
       "      <td>Break Your Fucking Neck Part. 2</td>\n",
       "      <td>rap</td>\n",
       "      <td>YungQC</td>\n",
       "      <td>1</td>\n",
       "      <td>307</td>\n",
       "      <td>{}</td>\n",
       "      <td>Sample: Break Your Fucking Neck Part.1\\nBy Yun...</td>\n",
       "      <td>3677202</td>\n",
       "      <td>en</td>\n",
       "      <td>en</td>\n",
       "      <td>en</td>\n",
       "    </tr>\n",
       "  </tbody>\n",
       "</table>\n",
       "</div>"
      ],
      "text/plain": [
       "                                   title  tag                      artist  \\\n",
       "111689                        Issa Snack  rap             Phatboitheceleb   \n",
       "268205  Oof sandman sans sans diss track  rap                     Squeaky   \n",
       "218600                    First Day Home  rap                       RetcH   \n",
       "381769                              Papi  rap                DON-DON (US)   \n",
       "715072                         Same Love  rap                  Macklemore   \n",
       "969927          IWroteThisForTaylorSwift  rap                     Vershad   \n",
       "268744                      I like frisk  rap                     Squeaky   \n",
       "945081                    Same Lil Bitch  rap              Shayla Gessler   \n",
       "18947              Dont Blame Me For You  rap             Kids These Days   \n",
       "431118                           Robocop  rap             videogamedunkey   \n",
       "871682              I don’t want another  rap                 $inbad (VA)   \n",
       "720816                     Wont Back Out  rap          Flawless Real Talk   \n",
       "151876                   The Race Keemix  rap                     Ayo Kee   \n",
       "336793                       Tenxx Hours  rap                       Tenxx   \n",
       "192002                              Kami  rap                      2burbo   \n",
       "323357                             Sauce  rap  LilFlex (The one and only)   \n",
       "200497             Dolce Lyrics Finished  rap                  Casper TNG   \n",
       "731159                             Toast  rap    Guwop gumbo X Bando Beej   \n",
       "189766                  Pimpin Aint Easy  rap               Jackie B (IL)   \n",
       "438752   Break Your Fucking Neck Part. 2  rap                      YungQC   \n",
       "\n",
       "        year  views                                           features  \\\n",
       "111689     1   4182                                                 {}   \n",
       "268205    15   3206                                                 {}   \n",
       "218600     1   2334                                                 {}   \n",
       "381769     1   2129                                                 {}   \n",
       "715072     1   1767                        {\"Macklemore & Ryan Lewis\"}   \n",
       "969927     1   1607                                   {\"Brooklyn Zoo\"}   \n",
       "268744     1   1186                                     {\"Squeaky jr\"}   \n",
       "945081     1   1023                                                 {}   \n",
       "18947      1    868    {\"VIC MENSA\",\"Macie Stewart\",\"Liam Cunningham\"}   \n",
       "431118     1    766                                 {​videogamedunkey}   \n",
       "871682     1    669                                  {\"\\\\$inbad (VA)\"}   \n",
       "720816     1    669                                            {Freek}   \n",
       "151876     1    543                                                 {}   \n",
       "336793     1    416                                                 {}   \n",
       "192002    17    415                                                 {}   \n",
       "323357     1    400                                          {3rdKvng}   \n",
       "200497     1    357                                                 {}   \n",
       "731159     1    336  {\"Guwop gumbo ft Bando Beej\",\"Guwop gumbo X  B...   \n",
       "189766     1    309                                                 {}   \n",
       "438752     1    307                                                 {}   \n",
       "\n",
       "                                                   lyrics       id  \\\n",
       "111689  Chorus: its ya birthday and you know I ain't f...  3163216   \n",
       "268205  OOF POOF BOOTH LOSE LOOSE MOVE LUKE FRISK WRIS...  3387617   \n",
       "218600  [Intro]\\n\\n[Chorus]\\nHome, it's my first day h...  3307004   \n",
       "381769  [INTRO]\\nCall me papi\\nCall me papi\\nLead her\\...  3596060   \n",
       "715072  When I was in the 3rd grade\\nI thought that I ...  4080328   \n",
       "969927  [Intro]\\nJake:  Sounds like your sad. Listen, ...  4484444   \n",
       "268744  Ok, ok, ok, ok, ok, ok, ok, yeah\\nI like frisk...  3388825   \n",
       "945081  Did me dirty, you been fuckin' with the Same L...  4441966   \n",
       "18947   [Verse 1: Vic Mensa]\\nI'm larger than life, ha...  3044399   \n",
       "431118  Now that I'm a Robocop\\n\\nNow I'm never gonna ...  3666068   \n",
       "871682  (Hook)\\n\\nI'm Cold hearted, And broke/\\nI cold...  4323086   \n",
       "720816  [Intro - Flawless]:\\nIt all starts with you, a...  4088725   \n",
       "151876  Fuck these niggas i been out here gettin cake\\...  3217777   \n",
       "336793  [Verse 1]:\\nWho wanna play with me?\\nBrought t...  3530296   \n",
       "192002  [Hook]\\nNo, I really don't have friends. (No I...  3272140   \n",
       "323357  Chorus\\n\\nI’m saucing on a young nigga curry\\n...  3506087   \n",
       "200497  [Intro]\\nGhost town volume three\\nShe just wan...  3283118   \n",
       "731159  (Guowp  Gumbo X Bando Beej -Toast )\\n\\n\\n[ Int...  4104880   \n",
       "189766  Hook:\\nPimpin ain't easy\\nNo no noooo\\nBut Gue...  3269320   \n",
       "438752  Sample: Break Your Fucking Neck Part.1\\nBy Yun...  3677202   \n",
       "\n",
       "       language_cld3 language_ft language  \n",
       "111689            en          en       en  \n",
       "268205            en          en       en  \n",
       "218600            en          en       en  \n",
       "381769            en          en       en  \n",
       "715072            en          en       en  \n",
       "969927            en          en       en  \n",
       "268744            en          en       en  \n",
       "945081            en          en       en  \n",
       "18947             en          en       en  \n",
       "431118            en          en       en  \n",
       "871682            en          en       en  \n",
       "720816            en          en       en  \n",
       "151876            en          en       en  \n",
       "336793            en          en       en  \n",
       "192002            en          en       en  \n",
       "323357            en          en       en  \n",
       "200497            en          en       en  \n",
       "731159            en          en       en  \n",
       "189766            en          en       en  \n",
       "438752            en          en       en  "
      ]
     },
     "execution_count": 17,
     "metadata": {},
     "output_type": "execute_result"
    }
   ],
   "source": [
    "# Extract the pieces of music of type 'rap' lower than the year 215\n",
    "df_rap = df[(df['year'] < 215) & (df['tag'] == 'rap')]\n",
    "df_rap.sort_values(by='views',ascending=False).head(20)"
   ]
  },
  {
   "cell_type": "code",
   "execution_count": 18,
   "id": "1083b6a5",
   "metadata": {
    "execution": {
     "iopub.execute_input": "2023-03-15T23:26:55.165754Z",
     "iopub.status.busy": "2023-03-15T23:26:55.164851Z",
     "iopub.status.idle": "2023-03-15T23:26:55.176536Z",
     "shell.execute_reply": "2023-03-15T23:26:55.175734Z"
    },
    "papermill": {
     "duration": 0.037234,
     "end_time": "2023-03-15T23:26:55.178505",
     "exception": false,
     "start_time": "2023-03-15T23:26:55.141271",
     "status": "completed"
    },
    "tags": []
   },
   "outputs": [
    {
     "data": {
      "text/html": [
       "<div>\n",
       "<style scoped>\n",
       "    .dataframe tbody tr th:only-of-type {\n",
       "        vertical-align: middle;\n",
       "    }\n",
       "\n",
       "    .dataframe tbody tr th {\n",
       "        vertical-align: top;\n",
       "    }\n",
       "\n",
       "    .dataframe thead th {\n",
       "        text-align: right;\n",
       "    }\n",
       "</style>\n",
       "<table border=\"1\" class=\"dataframe\">\n",
       "  <thead>\n",
       "    <tr style=\"text-align: right;\">\n",
       "      <th></th>\n",
       "      <th>title</th>\n",
       "      <th>tag</th>\n",
       "      <th>artist</th>\n",
       "      <th>year</th>\n",
       "      <th>views</th>\n",
       "      <th>features</th>\n",
       "      <th>lyrics</th>\n",
       "      <th>id</th>\n",
       "      <th>language_cld3</th>\n",
       "      <th>language_ft</th>\n",
       "      <th>language</th>\n",
       "    </tr>\n",
       "  </thead>\n",
       "  <tbody>\n",
       "  </tbody>\n",
       "</table>\n",
       "</div>"
      ],
      "text/plain": [
       "Empty DataFrame\n",
       "Columns: [title, tag, artist, year, views, features, lyrics, id, language_cld3, language_ft, language]\n",
       "Index: []"
      ]
     },
     "execution_count": 18,
     "metadata": {},
     "output_type": "execute_result"
    }
   ],
   "source": [
    "df_rap[df_rap['artist'] == 'Kanye East']"
   ]
  },
  {
   "cell_type": "markdown",
   "id": "f81f673d",
   "metadata": {
    "papermill": {
     "duration": 0.021504,
     "end_time": "2023-03-15T23:26:55.223333",
     "exception": false,
     "start_time": "2023-03-15T23:26:55.201829",
     "status": "completed"
    },
    "tags": []
   },
   "source": [
    "If we search the release date of this track on google, we can find a release date from 4 May 2021 on the [Genius website](https://genius.com/Kanye-east-the-secrets-of-dababy-lyrics). Given the year that we find in our table and real one, we can assume some issue about the date format (1 instead 2021).\n",
    "\n",
    "After few research on genius website, the most viewed songs of this above displayed list seems to be released on 2021 but more views decrease harder is the interpretation of date.\n",
    "\n",
    "Let's check the second most popular tag 'pop' in this retrieve outliers data :"
   ]
  },
  {
   "cell_type": "code",
   "execution_count": 19,
   "id": "f5a67f49",
   "metadata": {
    "execution": {
     "iopub.execute_input": "2023-03-15T23:26:55.269412Z",
     "iopub.status.busy": "2023-03-15T23:26:55.268740Z",
     "iopub.status.idle": "2023-03-15T23:26:55.330628Z",
     "shell.execute_reply": "2023-03-15T23:26:55.329898Z"
    },
    "papermill": {
     "duration": 0.087377,
     "end_time": "2023-03-15T23:26:55.332678",
     "exception": false,
     "start_time": "2023-03-15T23:26:55.245301",
     "status": "completed"
    },
    "tags": []
   },
   "outputs": [
    {
     "data": {
      "text/html": [
       "<div>\n",
       "<style scoped>\n",
       "    .dataframe tbody tr th:only-of-type {\n",
       "        vertical-align: middle;\n",
       "    }\n",
       "\n",
       "    .dataframe tbody tr th {\n",
       "        vertical-align: top;\n",
       "    }\n",
       "\n",
       "    .dataframe thead th {\n",
       "        text-align: right;\n",
       "    }\n",
       "</style>\n",
       "<table border=\"1\" class=\"dataframe\">\n",
       "  <thead>\n",
       "    <tr style=\"text-align: right;\">\n",
       "      <th></th>\n",
       "      <th>title</th>\n",
       "      <th>tag</th>\n",
       "      <th>artist</th>\n",
       "      <th>year</th>\n",
       "      <th>views</th>\n",
       "      <th>features</th>\n",
       "      <th>lyrics</th>\n",
       "      <th>id</th>\n",
       "      <th>language_cld3</th>\n",
       "      <th>language_ft</th>\n",
       "      <th>language</th>\n",
       "    </tr>\n",
       "  </thead>\n",
       "  <tbody>\n",
       "    <tr>\n",
       "      <th>274779</th>\n",
       "      <td>Off White</td>\n",
       "      <td>pop</td>\n",
       "      <td>Zach Clayton</td>\n",
       "      <td>1</td>\n",
       "      <td>7894</td>\n",
       "      <td>{}</td>\n",
       "      <td>Chorus\\nSwish on my kicks, off white\\nStripes ...</td>\n",
       "      <td>3399877</td>\n",
       "      <td>en</td>\n",
       "      <td>en</td>\n",
       "      <td>en</td>\n",
       "    </tr>\n",
       "    <tr>\n",
       "      <th>951623</th>\n",
       "      <td>I dont wanna see you cryin anymore</td>\n",
       "      <td>pop</td>\n",
       "      <td>Adam Melchor</td>\n",
       "      <td>1</td>\n",
       "      <td>7479</td>\n",
       "      <td>{}</td>\n",
       "      <td>[Verse 1]\\nI don't wanna see you cryin’ anymor...</td>\n",
       "      <td>4452665</td>\n",
       "      <td>en</td>\n",
       "      <td>en</td>\n",
       "      <td>en</td>\n",
       "    </tr>\n",
       "    <tr>\n",
       "      <th>495830</th>\n",
       "      <td>Hello from the Dark Side</td>\n",
       "      <td>pop</td>\n",
       "      <td>RoyishGoodLooks</td>\n",
       "      <td>15</td>\n",
       "      <td>7019</td>\n",
       "      <td>{}</td>\n",
       "      <td>[Chorus]\\nHello from the Dark Side\\nI must've ...</td>\n",
       "      <td>3763085</td>\n",
       "      <td>en</td>\n",
       "      <td>en</td>\n",
       "      <td>en</td>\n",
       "    </tr>\n",
       "    <tr>\n",
       "      <th>385856</th>\n",
       "      <td>The Moons Detriment</td>\n",
       "      <td>pop</td>\n",
       "      <td>Shannon Lay</td>\n",
       "      <td>1</td>\n",
       "      <td>6698</td>\n",
       "      <td>{}</td>\n",
       "      <td>If I were to know you\\nI’d show you all the li...</td>\n",
       "      <td>3603840</td>\n",
       "      <td>en</td>\n",
       "      <td>en</td>\n",
       "      <td>en</td>\n",
       "    </tr>\n",
       "    <tr>\n",
       "      <th>635909</th>\n",
       "      <td>Mostly to Yourself</td>\n",
       "      <td>pop</td>\n",
       "      <td>Noah Reid</td>\n",
       "      <td>1</td>\n",
       "      <td>3517</td>\n",
       "      <td>{}</td>\n",
       "      <td>Well it's mostly in the mornin'\\nWhen your eye...</td>\n",
       "      <td>3961929</td>\n",
       "      <td>en</td>\n",
       "      <td>en</td>\n",
       "      <td>en</td>\n",
       "    </tr>\n",
       "    <tr>\n",
       "      <th>433617</th>\n",
       "      <td>Come September</td>\n",
       "      <td>pop</td>\n",
       "      <td>Anas Mitchell</td>\n",
       "      <td>1</td>\n",
       "      <td>1244</td>\n",
       "      <td>{\"Anaïs Mitchell\"}</td>\n",
       "      <td>Autumn's ashes, summer's embers\\nOn the sidewa...</td>\n",
       "      <td>3669873</td>\n",
       "      <td>en</td>\n",
       "      <td>en</td>\n",
       "      <td>en</td>\n",
       "    </tr>\n",
       "    <tr>\n",
       "      <th>599147</th>\n",
       "      <td>Gone</td>\n",
       "      <td>pop</td>\n",
       "      <td>Ella Martine</td>\n",
       "      <td>1</td>\n",
       "      <td>946</td>\n",
       "      <td>{}</td>\n",
       "      <td>[Verse 1]\\nIt's hard we hurt each other\\nTime ...</td>\n",
       "      <td>3910616</td>\n",
       "      <td>en</td>\n",
       "      <td>en</td>\n",
       "      <td>en</td>\n",
       "    </tr>\n",
       "    <tr>\n",
       "      <th>433630</th>\n",
       "      <td>The Pursewarden Affair</td>\n",
       "      <td>pop</td>\n",
       "      <td>Anas Mitchell</td>\n",
       "      <td>1</td>\n",
       "      <td>732</td>\n",
       "      <td>{\"Anaïs Mitchell\"}</td>\n",
       "      <td>Percy Pursewarden\\nOpen up your door\\nI haven'...</td>\n",
       "      <td>3669885</td>\n",
       "      <td>en</td>\n",
       "      <td>en</td>\n",
       "      <td>en</td>\n",
       "    </tr>\n",
       "    <tr>\n",
       "      <th>318347</th>\n",
       "      <td>The Rose</td>\n",
       "      <td>pop</td>\n",
       "      <td>Common Holly</td>\n",
       "      <td>1</td>\n",
       "      <td>642</td>\n",
       "      <td>{}</td>\n",
       "      <td>Well I know I was the rose\\nBut now I feel lik...</td>\n",
       "      <td>3496110</td>\n",
       "      <td>en</td>\n",
       "      <td>en</td>\n",
       "      <td>en</td>\n",
       "    </tr>\n",
       "    <tr>\n",
       "      <th>918072</th>\n",
       "      <td>U cut me off so the cuts r on me now..</td>\n",
       "      <td>pop</td>\n",
       "      <td>Sapphire2001</td>\n",
       "      <td>1</td>\n",
       "      <td>495</td>\n",
       "      <td>{}</td>\n",
       "      <td>I can feel in the air tonight\\nSmoke seeping f...</td>\n",
       "      <td>4401036</td>\n",
       "      <td>en</td>\n",
       "      <td>en</td>\n",
       "      <td>en</td>\n",
       "    </tr>\n",
       "    <tr>\n",
       "      <th>37439</th>\n",
       "      <td>Noirse</td>\n",
       "      <td>pop</td>\n",
       "      <td>Petite Noir</td>\n",
       "      <td>14</td>\n",
       "      <td>461</td>\n",
       "      <td>{}</td>\n",
       "      <td>Show me your secret\\nLet's have a party\\nShow ...</td>\n",
       "      <td>3067334</td>\n",
       "      <td>en</td>\n",
       "      <td>en</td>\n",
       "      <td>en</td>\n",
       "    </tr>\n",
       "    <tr>\n",
       "      <th>879213</th>\n",
       "      <td>Fadl Shaker - Allah Aalam English Translation</td>\n",
       "      <td>pop</td>\n",
       "      <td>Genius English Translations</td>\n",
       "      <td>1</td>\n",
       "      <td>383</td>\n",
       "      <td>{}</td>\n",
       "      <td>Only god knows, if I was dreaming, my darling\\...</td>\n",
       "      <td>4334911</td>\n",
       "      <td>en</td>\n",
       "      <td>en</td>\n",
       "      <td>en</td>\n",
       "    </tr>\n",
       "    <tr>\n",
       "      <th>939993</th>\n",
       "      <td>Nana Rose Remix</td>\n",
       "      <td>pop</td>\n",
       "      <td>Big kris</td>\n",
       "      <td>1</td>\n",
       "      <td>278</td>\n",
       "      <td>{}</td>\n",
       "      <td>90 years old, it's not young but\\nGod broke th...</td>\n",
       "      <td>4434139</td>\n",
       "      <td>en</td>\n",
       "      <td>en</td>\n",
       "      <td>en</td>\n",
       "    </tr>\n",
       "    <tr>\n",
       "      <th>367980</th>\n",
       "      <td>I’m Working on a Road to Glory Land</td>\n",
       "      <td>pop</td>\n",
       "      <td>The Earls of Leicester</td>\n",
       "      <td>1</td>\n",
       "      <td>266</td>\n",
       "      <td>{}</td>\n",
       "      <td>[Chorus]\\nI’m Working on a road that leads to ...</td>\n",
       "      <td>3576520</td>\n",
       "      <td>en</td>\n",
       "      <td>en</td>\n",
       "      <td>en</td>\n",
       "    </tr>\n",
       "    <tr>\n",
       "      <th>949859</th>\n",
       "      <td>Freddie</td>\n",
       "      <td>pop</td>\n",
       "      <td>Ella Clair</td>\n",
       "      <td>1</td>\n",
       "      <td>265</td>\n",
       "      <td>{}</td>\n",
       "      <td>[Verse 1]\\nWell Freddie said my life is really...</td>\n",
       "      <td>4449344</td>\n",
       "      <td>en</td>\n",
       "      <td>en</td>\n",
       "      <td>en</td>\n",
       "    </tr>\n",
       "    <tr>\n",
       "      <th>860863</th>\n",
       "      <td>So Low</td>\n",
       "      <td>pop</td>\n",
       "      <td>Cinematic Pop</td>\n",
       "      <td>1</td>\n",
       "      <td>264</td>\n",
       "      <td>{\"Spencer Jones\"}</td>\n",
       "      <td>Have you ever been so low?\\nYes you had a hear...</td>\n",
       "      <td>4306998</td>\n",
       "      <td>en</td>\n",
       "      <td>en</td>\n",
       "      <td>en</td>\n",
       "    </tr>\n",
       "    <tr>\n",
       "      <th>991033</th>\n",
       "      <td>Take Me Back</td>\n",
       "      <td>pop</td>\n",
       "      <td>Mcrack</td>\n",
       "      <td>1</td>\n",
       "      <td>245</td>\n",
       "      <td>{}</td>\n",
       "      <td>It's killing me to say i’m fine\\nWhen I mean i...</td>\n",
       "      <td>4517902</td>\n",
       "      <td>en</td>\n",
       "      <td>en</td>\n",
       "      <td>en</td>\n",
       "    </tr>\n",
       "    <tr>\n",
       "      <th>871246</th>\n",
       "      <td>Dear Father</td>\n",
       "      <td>pop</td>\n",
       "      <td>Laura Bretan</td>\n",
       "      <td>1</td>\n",
       "      <td>229</td>\n",
       "      <td>{}</td>\n",
       "      <td>Dear Father\\nI am hardly breathing\\nOh sweet f...</td>\n",
       "      <td>4322363</td>\n",
       "      <td>en</td>\n",
       "      <td>en</td>\n",
       "      <td>en</td>\n",
       "    </tr>\n",
       "    <tr>\n",
       "      <th>569400</th>\n",
       "      <td>Ghost</td>\n",
       "      <td>pop</td>\n",
       "      <td>PYNKIE</td>\n",
       "      <td>12</td>\n",
       "      <td>161</td>\n",
       "      <td>{}</td>\n",
       "      <td>You think that everything\\nYou don’t know is a...</td>\n",
       "      <td>3869396</td>\n",
       "      <td>en</td>\n",
       "      <td>en</td>\n",
       "      <td>en</td>\n",
       "    </tr>\n",
       "    <tr>\n",
       "      <th>644307</th>\n",
       "      <td>1000 years</td>\n",
       "      <td>pop</td>\n",
       "      <td>Joel McNeely</td>\n",
       "      <td>1</td>\n",
       "      <td>143</td>\n",
       "      <td>{\"KT Tunstall\",Bleu}</td>\n",
       "      <td>A thousand years\\nIs a long, long time\\nEven f...</td>\n",
       "      <td>3974646</td>\n",
       "      <td>en</td>\n",
       "      <td>en</td>\n",
       "      <td>en</td>\n",
       "    </tr>\n",
       "  </tbody>\n",
       "</table>\n",
       "</div>"
      ],
      "text/plain": [
       "                                                title  tag  \\\n",
       "274779                                      Off White  pop   \n",
       "951623             I dont wanna see you cryin anymore  pop   \n",
       "495830                       Hello from the Dark Side  pop   \n",
       "385856                            The Moons Detriment  pop   \n",
       "635909                             Mostly to Yourself  pop   \n",
       "433617                                 Come September  pop   \n",
       "599147                                           Gone  pop   \n",
       "433630                         The Pursewarden Affair  pop   \n",
       "318347                                       The Rose  pop   \n",
       "918072         U cut me off so the cuts r on me now..  pop   \n",
       "37439                                          Noirse  pop   \n",
       "879213  Fadl Shaker - Allah Aalam English Translation  pop   \n",
       "939993                                Nana Rose Remix  pop   \n",
       "367980            I’m Working on a Road to Glory Land  pop   \n",
       "949859                                        Freddie  pop   \n",
       "860863                                         So Low  pop   \n",
       "991033                                   Take Me Back  pop   \n",
       "871246                                    Dear Father  pop   \n",
       "569400                                          Ghost  pop   \n",
       "644307                                     1000 years  pop   \n",
       "\n",
       "                             artist  year  views              features  \\\n",
       "274779                 Zach Clayton     1   7894                    {}   \n",
       "951623                 Adam Melchor     1   7479                    {}   \n",
       "495830              RoyishGoodLooks    15   7019                    {}   \n",
       "385856                  Shannon Lay     1   6698                    {}   \n",
       "635909                    Noah Reid     1   3517                    {}   \n",
       "433617                Anas Mitchell     1   1244    {\"Anaïs Mitchell\"}   \n",
       "599147                 Ella Martine     1    946                    {}   \n",
       "433630                Anas Mitchell     1    732    {\"Anaïs Mitchell\"}   \n",
       "318347                 Common Holly     1    642                    {}   \n",
       "918072                 Sapphire2001     1    495                    {}   \n",
       "37439                   Petite Noir    14    461                    {}   \n",
       "879213  Genius English Translations     1    383                    {}   \n",
       "939993                     Big kris     1    278                    {}   \n",
       "367980       The Earls of Leicester     1    266                    {}   \n",
       "949859                   Ella Clair     1    265                    {}   \n",
       "860863                Cinematic Pop     1    264     {\"Spencer Jones\"}   \n",
       "991033                       Mcrack     1    245                    {}   \n",
       "871246                 Laura Bretan     1    229                    {}   \n",
       "569400                       PYNKIE    12    161                    {}   \n",
       "644307                 Joel McNeely     1    143  {\"KT Tunstall\",Bleu}   \n",
       "\n",
       "                                                   lyrics       id  \\\n",
       "274779  Chorus\\nSwish on my kicks, off white\\nStripes ...  3399877   \n",
       "951623  [Verse 1]\\nI don't wanna see you cryin’ anymor...  4452665   \n",
       "495830  [Chorus]\\nHello from the Dark Side\\nI must've ...  3763085   \n",
       "385856  If I were to know you\\nI’d show you all the li...  3603840   \n",
       "635909  Well it's mostly in the mornin'\\nWhen your eye...  3961929   \n",
       "433617  Autumn's ashes, summer's embers\\nOn the sidewa...  3669873   \n",
       "599147  [Verse 1]\\nIt's hard we hurt each other\\nTime ...  3910616   \n",
       "433630  Percy Pursewarden\\nOpen up your door\\nI haven'...  3669885   \n",
       "318347  Well I know I was the rose\\nBut now I feel lik...  3496110   \n",
       "918072  I can feel in the air tonight\\nSmoke seeping f...  4401036   \n",
       "37439   Show me your secret\\nLet's have a party\\nShow ...  3067334   \n",
       "879213  Only god knows, if I was dreaming, my darling\\...  4334911   \n",
       "939993  90 years old, it's not young but\\nGod broke th...  4434139   \n",
       "367980  [Chorus]\\nI’m Working on a road that leads to ...  3576520   \n",
       "949859  [Verse 1]\\nWell Freddie said my life is really...  4449344   \n",
       "860863  Have you ever been so low?\\nYes you had a hear...  4306998   \n",
       "991033  It's killing me to say i’m fine\\nWhen I mean i...  4517902   \n",
       "871246  Dear Father\\nI am hardly breathing\\nOh sweet f...  4322363   \n",
       "569400  You think that everything\\nYou don’t know is a...  3869396   \n",
       "644307  A thousand years\\nIs a long, long time\\nEven f...  3974646   \n",
       "\n",
       "       language_cld3 language_ft language  \n",
       "274779            en          en       en  \n",
       "951623            en          en       en  \n",
       "495830            en          en       en  \n",
       "385856            en          en       en  \n",
       "635909            en          en       en  \n",
       "433617            en          en       en  \n",
       "599147            en          en       en  \n",
       "433630            en          en       en  \n",
       "318347            en          en       en  \n",
       "918072            en          en       en  \n",
       "37439             en          en       en  \n",
       "879213            en          en       en  \n",
       "939993            en          en       en  \n",
       "367980            en          en       en  \n",
       "949859            en          en       en  \n",
       "860863            en          en       en  \n",
       "991033            en          en       en  \n",
       "871246            en          en       en  \n",
       "569400            en          en       en  \n",
       "644307            en          en       en  "
      ]
     },
     "execution_count": 19,
     "metadata": {},
     "output_type": "execute_result"
    }
   ],
   "source": [
    "# Extract the pieces of music of type 'rap' lower than the year 215\n",
    "df_pop = df[(df['year'] < 215) & (df['tag'] == 'pop')]\n",
    "df_pop.sort_values(by='views',ascending=False).head(20)"
   ]
  },
  {
   "cell_type": "markdown",
   "id": "531b6735",
   "metadata": {
    "papermill": {
     "duration": 0.021283,
     "end_time": "2023-03-15T23:26:55.375774",
     "exception": false,
     "start_time": "2023-03-15T23:26:55.354491",
     "status": "completed"
    },
    "tags": []
   },
   "source": [
    "The titles recovered seem to be for the most part recent sounds, not very popular with a bad indexation of the years.\n",
    "\n",
    "A case-by-case pre-processing of the data is too tedious compared to the amount of data to be processed. We will only use data with correctly formatted dates."
   ]
  },
  {
   "cell_type": "code",
   "execution_count": 20,
   "id": "9e21f235",
   "metadata": {
    "execution": {
     "iopub.execute_input": "2023-03-15T23:26:55.421612Z",
     "iopub.status.busy": "2023-03-15T23:26:55.421167Z",
     "iopub.status.idle": "2023-03-15T23:26:55.532212Z",
     "shell.execute_reply": "2023-03-15T23:26:55.530586Z"
    },
    "papermill": {
     "duration": 0.137457,
     "end_time": "2023-03-15T23:26:55.534986",
     "exception": false,
     "start_time": "2023-03-15T23:26:55.397529",
     "status": "completed"
    },
    "tags": []
   },
   "outputs": [
    {
     "data": {
      "text/plain": [
       "642975"
      ]
     },
     "execution_count": 20,
     "metadata": {},
     "output_type": "execute_result"
    }
   ],
   "source": [
    "df = df[(df.year >= 1960) & (df.year < 2023)]\n",
    "len(df)"
   ]
  },
  {
   "cell_type": "raw",
   "id": "a8282ef1",
   "metadata": {
    "papermill": {
     "duration": 0.021715,
     "end_time": "2023-03-15T23:26:55.578512",
     "exception": false,
     "start_time": "2023-03-15T23:26:55.556797",
     "status": "completed"
    },
    "tags": []
   },
   "source": [
    "def filter_wrong_format(x):\n",
    "    if x > 100 and x <= 2023:\n",
    "        fyear = x\n",
    "    else:\n",
    "        if x >= 0 and x <= 23:\n",
    "            fyear = x + 2000\n",
    "        elif x >= 23 and x < 100:\n",
    "            fyear = x + 1900\n",
    "        else:\n",
    "            raise Exception(\n",
    "                \"Something seems wrong with filters value : {}\"\n",
    "                .format(x))\n",
    "    return fyear # return the fixed year\n",
    "\n",
    "assert filter_wrong_format(2000) == 2000\n",
    "assert filter_wrong_format(9) == 2009\n",
    "assert filter_wrong_format(71) == 1971\n",
    "\n"
   ]
  },
  {
   "cell_type": "raw",
   "id": "72789781",
   "metadata": {
    "papermill": {
     "duration": 0.0216,
     "end_time": "2023-03-15T23:26:55.622159",
     "exception": false,
     "start_time": "2023-03-15T23:26:55.600559",
     "status": "completed"
    },
    "tags": []
   },
   "source": [
    "# replace the column name\n",
    "df['year'] = df['year'].apply(filter_wrong_format)\n",
    "df['year'].unique()\n",
    "len(df)"
   ]
  },
  {
   "cell_type": "markdown",
   "id": "3bb8fd8c",
   "metadata": {
    "papermill": {
     "duration": 0.021104,
     "end_time": "2023-03-15T23:26:55.664981",
     "exception": false,
     "start_time": "2023-03-15T23:26:55.643877",
     "status": "completed"
    },
    "tags": []
   },
   "source": [
    "We wish to analyze the texts by decade then let's add a decade column."
   ]
  },
  {
   "cell_type": "code",
   "execution_count": 21,
   "id": "b1676d47",
   "metadata": {
    "execution": {
     "iopub.execute_input": "2023-03-15T23:26:55.709940Z",
     "iopub.status.busy": "2023-03-15T23:26:55.709534Z",
     "iopub.status.idle": "2023-03-15T23:26:56.317924Z",
     "shell.execute_reply": "2023-03-15T23:26:56.316346Z"
    },
    "papermill": {
     "duration": 0.634302,
     "end_time": "2023-03-15T23:26:56.320617",
     "exception": false,
     "start_time": "2023-03-15T23:26:55.686315",
     "status": "completed"
    },
    "tags": []
   },
   "outputs": [
    {
     "data": {
      "text/html": [
       "<div>\n",
       "<style scoped>\n",
       "    .dataframe tbody tr th:only-of-type {\n",
       "        vertical-align: middle;\n",
       "    }\n",
       "\n",
       "    .dataframe tbody tr th {\n",
       "        vertical-align: top;\n",
       "    }\n",
       "\n",
       "    .dataframe thead th {\n",
       "        text-align: right;\n",
       "    }\n",
       "</style>\n",
       "<table border=\"1\" class=\"dataframe\">\n",
       "  <thead>\n",
       "    <tr style=\"text-align: right;\">\n",
       "      <th></th>\n",
       "      <th>title</th>\n",
       "      <th>tag</th>\n",
       "      <th>artist</th>\n",
       "      <th>year</th>\n",
       "      <th>views</th>\n",
       "      <th>features</th>\n",
       "      <th>lyrics</th>\n",
       "      <th>id</th>\n",
       "      <th>language_cld3</th>\n",
       "      <th>language_ft</th>\n",
       "      <th>language</th>\n",
       "      <th>decade</th>\n",
       "    </tr>\n",
       "  </thead>\n",
       "  <tbody>\n",
       "    <tr>\n",
       "      <th>329044</th>\n",
       "      <td>Darling If I Had You</td>\n",
       "      <td>rock</td>\n",
       "      <td>Bobby Day</td>\n",
       "      <td>1960</td>\n",
       "      <td>308</td>\n",
       "      <td>{}</td>\n",
       "      <td>Darling if I had you, if I had you\\nMmh, what ...</td>\n",
       "      <td>3515784</td>\n",
       "      <td>en</td>\n",
       "      <td>en</td>\n",
       "      <td>en</td>\n",
       "      <td>1960</td>\n",
       "    </tr>\n",
       "    <tr>\n",
       "      <th>734933</th>\n",
       "      <td>Tonights All Right For Love Bonus Track Version</td>\n",
       "      <td>pop</td>\n",
       "      <td>Elvis Presley</td>\n",
       "      <td>1960</td>\n",
       "      <td>142</td>\n",
       "      <td>{}</td>\n",
       "      <td>Hold me tight the moon's so bright\\nTonight th...</td>\n",
       "      <td>4111118</td>\n",
       "      <td>en</td>\n",
       "      <td>en</td>\n",
       "      <td>en</td>\n",
       "      <td>1960</td>\n",
       "    </tr>\n",
       "    <tr>\n",
       "      <th>752292</th>\n",
       "      <td>Row Your Boat</td>\n",
       "      <td>pop</td>\n",
       "      <td>The Chipmunks</td>\n",
       "      <td>1960</td>\n",
       "      <td>261</td>\n",
       "      <td>{}</td>\n",
       "      <td>Careful now, fellas, steady\\nDon't tip it over...</td>\n",
       "      <td>4136301</td>\n",
       "      <td>en</td>\n",
       "      <td>en</td>\n",
       "      <td>en</td>\n",
       "      <td>1960</td>\n",
       "    </tr>\n",
       "    <tr>\n",
       "      <th>374556</th>\n",
       "      <td>Two Views of a Cadaver Room</td>\n",
       "      <td>misc</td>\n",
       "      <td>Sylvia Plath</td>\n",
       "      <td>1960</td>\n",
       "      <td>1079</td>\n",
       "      <td>{}</td>\n",
       "      <td>(1)\\nThe day she visited the dissecting room\\n...</td>\n",
       "      <td>3585530</td>\n",
       "      <td>en</td>\n",
       "      <td>en</td>\n",
       "      <td>en</td>\n",
       "      <td>1960</td>\n",
       "    </tr>\n",
       "    <tr>\n",
       "      <th>374557</th>\n",
       "      <td>The Eye-Mote</td>\n",
       "      <td>misc</td>\n",
       "      <td>Sylvia Plath</td>\n",
       "      <td>1960</td>\n",
       "      <td>453</td>\n",
       "      <td>{}</td>\n",
       "      <td>Blameless as daylight I stood looking\\nAt a fi...</td>\n",
       "      <td>3585531</td>\n",
       "      <td>en</td>\n",
       "      <td>en</td>\n",
       "      <td>en</td>\n",
       "      <td>1960</td>\n",
       "    </tr>\n",
       "    <tr>\n",
       "      <th>7170</th>\n",
       "      <td>Extra Sensory Perception</td>\n",
       "      <td>pop</td>\n",
       "      <td>Sheldon Allman</td>\n",
       "      <td>1960</td>\n",
       "      <td>193</td>\n",
       "      <td>{}</td>\n",
       "      <td>We've got extra sensory perception\\nIt makes o...</td>\n",
       "      <td>3029810</td>\n",
       "      <td>en</td>\n",
       "      <td>en</td>\n",
       "      <td>en</td>\n",
       "      <td>1960</td>\n",
       "    </tr>\n",
       "    <tr>\n",
       "      <th>374558</th>\n",
       "      <td>Hardcastle Crags</td>\n",
       "      <td>misc</td>\n",
       "      <td>Sylvia Plath</td>\n",
       "      <td>1960</td>\n",
       "      <td>266</td>\n",
       "      <td>{}</td>\n",
       "      <td>Flintlike, her feet struck\\nSuch a racket of e...</td>\n",
       "      <td>3585532</td>\n",
       "      <td>en</td>\n",
       "      <td>en</td>\n",
       "      <td>en</td>\n",
       "      <td>1960</td>\n",
       "    </tr>\n",
       "    <tr>\n",
       "      <th>374559</th>\n",
       "      <td>Faun</td>\n",
       "      <td>misc</td>\n",
       "      <td>Sylvia Plath</td>\n",
       "      <td>1960</td>\n",
       "      <td>329</td>\n",
       "      <td>{}</td>\n",
       "      <td>Haunched like a faun, he hooed\\nFrom grove of ...</td>\n",
       "      <td>3585533</td>\n",
       "      <td>en</td>\n",
       "      <td>en</td>\n",
       "      <td>en</td>\n",
       "      <td>1960</td>\n",
       "    </tr>\n",
       "    <tr>\n",
       "      <th>479255</th>\n",
       "      <td>Whirlwind</td>\n",
       "      <td>rb</td>\n",
       "      <td>Barrett Strong</td>\n",
       "      <td>1960</td>\n",
       "      <td>109</td>\n",
       "      <td>{\"The Rayber Voices\"}</td>\n",
       "      <td>You know it hit me (Hit me like whirlwind)\\nYo...</td>\n",
       "      <td>3738355</td>\n",
       "      <td>en</td>\n",
       "      <td>en</td>\n",
       "      <td>en</td>\n",
       "      <td>1960</td>\n",
       "    </tr>\n",
       "    <tr>\n",
       "      <th>374560</th>\n",
       "      <td>Departure</td>\n",
       "      <td>misc</td>\n",
       "      <td>Sylvia Plath</td>\n",
       "      <td>1960</td>\n",
       "      <td>375</td>\n",
       "      <td>{}</td>\n",
       "      <td>The figs on the fig tree in the yard are green...</td>\n",
       "      <td>3585534</td>\n",
       "      <td>en</td>\n",
       "      <td>en</td>\n",
       "      <td>en</td>\n",
       "      <td>1960</td>\n",
       "    </tr>\n",
       "    <tr>\n",
       "      <th>655765</th>\n",
       "      <td>Show Me the Way</td>\n",
       "      <td>pop</td>\n",
       "      <td>Ben E. King</td>\n",
       "      <td>1960</td>\n",
       "      <td>707</td>\n",
       "      <td>{}</td>\n",
       "      <td>[Verse 1]\\nIf I had to swim a river\\nOr climb ...</td>\n",
       "      <td>3990976</td>\n",
       "      <td>en</td>\n",
       "      <td>en</td>\n",
       "      <td>en</td>\n",
       "      <td>1960</td>\n",
       "    </tr>\n",
       "    <tr>\n",
       "      <th>752290</th>\n",
       "      <td>Working on the Railroad</td>\n",
       "      <td>pop</td>\n",
       "      <td>The Chipmunks</td>\n",
       "      <td>1960</td>\n",
       "      <td>96</td>\n",
       "      <td>{}</td>\n",
       "      <td>Ouch!\\nOh, careful Simon!\\nOw!\\nLook where you...</td>\n",
       "      <td>4136300</td>\n",
       "      <td>en</td>\n",
       "      <td>en</td>\n",
       "      <td>en</td>\n",
       "      <td>1960</td>\n",
       "    </tr>\n",
       "    <tr>\n",
       "      <th>752289</th>\n",
       "      <td>Swing Low Sweet Chariot</td>\n",
       "      <td>pop</td>\n",
       "      <td>The Chipmunks</td>\n",
       "      <td>1960</td>\n",
       "      <td>65</td>\n",
       "      <td>{}</td>\n",
       "      <td>Swing low, sweet chariot\\nComing for to carry ...</td>\n",
       "      <td>4136299</td>\n",
       "      <td>en</td>\n",
       "      <td>en</td>\n",
       "      <td>en</td>\n",
       "      <td>1960</td>\n",
       "    </tr>\n",
       "    <tr>\n",
       "      <th>752288</th>\n",
       "      <td>Sing a Goofy Song</td>\n",
       "      <td>pop</td>\n",
       "      <td>The Chipmunks</td>\n",
       "      <td>1960</td>\n",
       "      <td>201</td>\n",
       "      <td>{}</td>\n",
       "      <td>Sing a goofy song as you walk along\\nRee dee d...</td>\n",
       "      <td>4136298</td>\n",
       "      <td>en</td>\n",
       "      <td>en</td>\n",
       "      <td>en</td>\n",
       "      <td>1960</td>\n",
       "    </tr>\n",
       "    <tr>\n",
       "      <th>752286</th>\n",
       "      <td>When Johnny Comes Marching Home</td>\n",
       "      <td>pop</td>\n",
       "      <td>The Chipmunks</td>\n",
       "      <td>1960</td>\n",
       "      <td>126</td>\n",
       "      <td>{}</td>\n",
       "      <td>Alvin, Simon, Theodore!\\nReady?\\nMarch!\\n\\nWhe...</td>\n",
       "      <td>4136296</td>\n",
       "      <td>en</td>\n",
       "      <td>en</td>\n",
       "      <td>en</td>\n",
       "      <td>1960</td>\n",
       "    </tr>\n",
       "    <tr>\n",
       "      <th>752285</th>\n",
       "      <td>Swanee River</td>\n",
       "      <td>pop</td>\n",
       "      <td>The Chipmunks</td>\n",
       "      <td>1960</td>\n",
       "      <td>67</td>\n",
       "      <td>{}</td>\n",
       "      <td>Boys, how would ya like to do something southe...</td>\n",
       "      <td>4136295</td>\n",
       "      <td>en</td>\n",
       "      <td>en</td>\n",
       "      <td>en</td>\n",
       "      <td>1960</td>\n",
       "    </tr>\n",
       "    <tr>\n",
       "      <th>752284</th>\n",
       "      <td>I Wish I Had a Horse</td>\n",
       "      <td>pop</td>\n",
       "      <td>The Chipmunks</td>\n",
       "      <td>1960</td>\n",
       "      <td>304</td>\n",
       "      <td>{}</td>\n",
       "      <td>Hey guys, how come you're rubbing a rabbit's f...</td>\n",
       "      <td>4136294</td>\n",
       "      <td>en</td>\n",
       "      <td>en</td>\n",
       "      <td>en</td>\n",
       "      <td>1960</td>\n",
       "    </tr>\n",
       "    <tr>\n",
       "      <th>374561</th>\n",
       "      <td>Lorelei</td>\n",
       "      <td>misc</td>\n",
       "      <td>Sylvia Plath</td>\n",
       "      <td>1960</td>\n",
       "      <td>343</td>\n",
       "      <td>{}</td>\n",
       "      <td>It is no night to drown in:\\nA full moon, rive...</td>\n",
       "      <td>3585535</td>\n",
       "      <td>en</td>\n",
       "      <td>en</td>\n",
       "      <td>en</td>\n",
       "      <td>1960</td>\n",
       "    </tr>\n",
       "    <tr>\n",
       "      <th>752283</th>\n",
       "      <td>Home on the Range</td>\n",
       "      <td>pop</td>\n",
       "      <td>The Chipmunks</td>\n",
       "      <td>1960</td>\n",
       "      <td>186</td>\n",
       "      <td>{}</td>\n",
       "      <td>Ooo\\nOh, give me a home where the buffalo roam...</td>\n",
       "      <td>4136293</td>\n",
       "      <td>en</td>\n",
       "      <td>en</td>\n",
       "      <td>en</td>\n",
       "      <td>1960</td>\n",
       "    </tr>\n",
       "    <tr>\n",
       "      <th>774932</th>\n",
       "      <td>How About Me?</td>\n",
       "      <td>pop</td>\n",
       "      <td>Julie London</td>\n",
       "      <td>1960</td>\n",
       "      <td>58</td>\n",
       "      <td>{}</td>\n",
       "      <td>It's over, all over\\nAnd soon somebody else\\nW...</td>\n",
       "      <td>4171024</td>\n",
       "      <td>en</td>\n",
       "      <td>en</td>\n",
       "      <td>en</td>\n",
       "      <td>1960</td>\n",
       "    </tr>\n",
       "  </tbody>\n",
       "</table>\n",
       "</div>"
      ],
      "text/plain": [
       "                                                  title   tag          artist  \\\n",
       "329044                             Darling If I Had You  rock       Bobby Day   \n",
       "734933  Tonights All Right For Love Bonus Track Version   pop   Elvis Presley   \n",
       "752292                                    Row Your Boat   pop   The Chipmunks   \n",
       "374556                      Two Views of a Cadaver Room  misc    Sylvia Plath   \n",
       "374557                                     The Eye-Mote  misc    Sylvia Plath   \n",
       "7170                           Extra Sensory Perception   pop  Sheldon Allman   \n",
       "374558                                 Hardcastle Crags  misc    Sylvia Plath   \n",
       "374559                                             Faun  misc    Sylvia Plath   \n",
       "479255                                        Whirlwind    rb  Barrett Strong   \n",
       "374560                                        Departure  misc    Sylvia Plath   \n",
       "655765                                  Show Me the Way   pop     Ben E. King   \n",
       "752290                          Working on the Railroad   pop   The Chipmunks   \n",
       "752289                          Swing Low Sweet Chariot   pop   The Chipmunks   \n",
       "752288                                Sing a Goofy Song   pop   The Chipmunks   \n",
       "752286                  When Johnny Comes Marching Home   pop   The Chipmunks   \n",
       "752285                                     Swanee River   pop   The Chipmunks   \n",
       "752284                             I Wish I Had a Horse   pop   The Chipmunks   \n",
       "374561                                          Lorelei  misc    Sylvia Plath   \n",
       "752283                                Home on the Range   pop   The Chipmunks   \n",
       "774932                                    How About Me?   pop    Julie London   \n",
       "\n",
       "        year  views               features  \\\n",
       "329044  1960    308                     {}   \n",
       "734933  1960    142                     {}   \n",
       "752292  1960    261                     {}   \n",
       "374556  1960   1079                     {}   \n",
       "374557  1960    453                     {}   \n",
       "7170    1960    193                     {}   \n",
       "374558  1960    266                     {}   \n",
       "374559  1960    329                     {}   \n",
       "479255  1960    109  {\"The Rayber Voices\"}   \n",
       "374560  1960    375                     {}   \n",
       "655765  1960    707                     {}   \n",
       "752290  1960     96                     {}   \n",
       "752289  1960     65                     {}   \n",
       "752288  1960    201                     {}   \n",
       "752286  1960    126                     {}   \n",
       "752285  1960     67                     {}   \n",
       "752284  1960    304                     {}   \n",
       "374561  1960    343                     {}   \n",
       "752283  1960    186                     {}   \n",
       "774932  1960     58                     {}   \n",
       "\n",
       "                                                   lyrics       id  \\\n",
       "329044  Darling if I had you, if I had you\\nMmh, what ...  3515784   \n",
       "734933  Hold me tight the moon's so bright\\nTonight th...  4111118   \n",
       "752292  Careful now, fellas, steady\\nDon't tip it over...  4136301   \n",
       "374556  (1)\\nThe day she visited the dissecting room\\n...  3585530   \n",
       "374557  Blameless as daylight I stood looking\\nAt a fi...  3585531   \n",
       "7170    We've got extra sensory perception\\nIt makes o...  3029810   \n",
       "374558  Flintlike, her feet struck\\nSuch a racket of e...  3585532   \n",
       "374559  Haunched like a faun, he hooed\\nFrom grove of ...  3585533   \n",
       "479255  You know it hit me (Hit me like whirlwind)\\nYo...  3738355   \n",
       "374560  The figs on the fig tree in the yard are green...  3585534   \n",
       "655765  [Verse 1]\\nIf I had to swim a river\\nOr climb ...  3990976   \n",
       "752290  Ouch!\\nOh, careful Simon!\\nOw!\\nLook where you...  4136300   \n",
       "752289  Swing low, sweet chariot\\nComing for to carry ...  4136299   \n",
       "752288  Sing a goofy song as you walk along\\nRee dee d...  4136298   \n",
       "752286  Alvin, Simon, Theodore!\\nReady?\\nMarch!\\n\\nWhe...  4136296   \n",
       "752285  Boys, how would ya like to do something southe...  4136295   \n",
       "752284  Hey guys, how come you're rubbing a rabbit's f...  4136294   \n",
       "374561  It is no night to drown in:\\nA full moon, rive...  3585535   \n",
       "752283  Ooo\\nOh, give me a home where the buffalo roam...  4136293   \n",
       "774932  It's over, all over\\nAnd soon somebody else\\nW...  4171024   \n",
       "\n",
       "       language_cld3 language_ft language  decade  \n",
       "329044            en          en       en    1960  \n",
       "734933            en          en       en    1960  \n",
       "752292            en          en       en    1960  \n",
       "374556            en          en       en    1960  \n",
       "374557            en          en       en    1960  \n",
       "7170              en          en       en    1960  \n",
       "374558            en          en       en    1960  \n",
       "374559            en          en       en    1960  \n",
       "479255            en          en       en    1960  \n",
       "374560            en          en       en    1960  \n",
       "655765            en          en       en    1960  \n",
       "752290            en          en       en    1960  \n",
       "752289            en          en       en    1960  \n",
       "752288            en          en       en    1960  \n",
       "752286            en          en       en    1960  \n",
       "752285            en          en       en    1960  \n",
       "752284            en          en       en    1960  \n",
       "374561            en          en       en    1960  \n",
       "752283            en          en       en    1960  \n",
       "774932            en          en       en    1960  "
      ]
     },
     "execution_count": 21,
     "metadata": {},
     "output_type": "execute_result"
    }
   ],
   "source": [
    "import math\n",
    "\n",
    "df['decade'] = df['year'].map(lambda x : int(math.trunc(x / 10) * 10))\n",
    "\n",
    "df.sort_values(by = 'year').head(20)"
   ]
  },
  {
   "cell_type": "markdown",
   "id": "8e4bce58",
   "metadata": {
    "papermill": {
     "duration": 0.021689,
     "end_time": "2023-03-15T23:26:56.365100",
     "exception": false,
     "start_time": "2023-03-15T23:26:56.343411",
     "status": "completed"
    },
    "tags": []
   },
   "source": [
    "## Data vizualisation\n",
    "\n",
    "Let's do some vizualisation to get a better understanding of our data. As we saw on previous distribution graphs over years, more titles have been recorded over the last 2 decades."
   ]
  },
  {
   "cell_type": "code",
   "execution_count": 22,
   "id": "eca4f57c",
   "metadata": {
    "execution": {
     "iopub.execute_input": "2023-03-15T23:26:56.412164Z",
     "iopub.status.busy": "2023-03-15T23:26:56.411749Z",
     "iopub.status.idle": "2023-03-15T23:26:56.440497Z",
     "shell.execute_reply": "2023-03-15T23:26:56.439212Z"
    },
    "papermill": {
     "duration": 0.055649,
     "end_time": "2023-03-15T23:26:56.442631",
     "exception": false,
     "start_time": "2023-03-15T23:26:56.386982",
     "status": "completed"
    },
    "tags": []
   },
   "outputs": [
    {
     "data": {
      "text/html": [
       "<div>                            <div id=\"dce55a26-6f9f-4862-9bd7-05f16b3aba58\" class=\"plotly-graph-div\" style=\"height:525px; width:100%;\"></div>            <script type=\"text/javascript\">                require([\"plotly\"], function(Plotly) {                    window.PLOTLYENV=window.PLOTLYENV || {};                                    if (document.getElementById(\"dce55a26-6f9f-4862-9bd7-05f16b3aba58\")) {                    Plotly.newPlot(                        \"dce55a26-6f9f-4862-9bd7-05f16b3aba58\",                        [{\"showlegend\":false,\"x\":[1960,1970,1980,1990,2000,2010,2020],\"y\":[4727,7088,8788,14189,33998,571574,2611],\"type\":\"bar\"},{\"mode\":\"markers+lines\",\"name\":\"trend\",\"showlegend\":false,\"x\":[1960,1970,1980,1990,2000,2010,2020],\"y\":[4727,7088,8788,14189,33998,571574,2611],\"type\":\"scatter\"}],                        {\"template\":{\"data\":{\"histogram2dcontour\":[{\"type\":\"histogram2dcontour\",\"colorbar\":{\"outlinewidth\":0,\"ticks\":\"\"},\"colorscale\":[[0.0,\"#0d0887\"],[0.1111111111111111,\"#46039f\"],[0.2222222222222222,\"#7201a8\"],[0.3333333333333333,\"#9c179e\"],[0.4444444444444444,\"#bd3786\"],[0.5555555555555556,\"#d8576b\"],[0.6666666666666666,\"#ed7953\"],[0.7777777777777778,\"#fb9f3a\"],[0.8888888888888888,\"#fdca26\"],[1.0,\"#f0f921\"]]}],\"choropleth\":[{\"type\":\"choropleth\",\"colorbar\":{\"outlinewidth\":0,\"ticks\":\"\"}}],\"histogram2d\":[{\"type\":\"histogram2d\",\"colorbar\":{\"outlinewidth\":0,\"ticks\":\"\"},\"colorscale\":[[0.0,\"#0d0887\"],[0.1111111111111111,\"#46039f\"],[0.2222222222222222,\"#7201a8\"],[0.3333333333333333,\"#9c179e\"],[0.4444444444444444,\"#bd3786\"],[0.5555555555555556,\"#d8576b\"],[0.6666666666666666,\"#ed7953\"],[0.7777777777777778,\"#fb9f3a\"],[0.8888888888888888,\"#fdca26\"],[1.0,\"#f0f921\"]]}],\"heatmap\":[{\"type\":\"heatmap\",\"colorbar\":{\"outlinewidth\":0,\"ticks\":\"\"},\"colorscale\":[[0.0,\"#0d0887\"],[0.1111111111111111,\"#46039f\"],[0.2222222222222222,\"#7201a8\"],[0.3333333333333333,\"#9c179e\"],[0.4444444444444444,\"#bd3786\"],[0.5555555555555556,\"#d8576b\"],[0.6666666666666666,\"#ed7953\"],[0.7777777777777778,\"#fb9f3a\"],[0.8888888888888888,\"#fdca26\"],[1.0,\"#f0f921\"]]}],\"heatmapgl\":[{\"type\":\"heatmapgl\",\"colorbar\":{\"outlinewidth\":0,\"ticks\":\"\"},\"colorscale\":[[0.0,\"#0d0887\"],[0.1111111111111111,\"#46039f\"],[0.2222222222222222,\"#7201a8\"],[0.3333333333333333,\"#9c179e\"],[0.4444444444444444,\"#bd3786\"],[0.5555555555555556,\"#d8576b\"],[0.6666666666666666,\"#ed7953\"],[0.7777777777777778,\"#fb9f3a\"],[0.8888888888888888,\"#fdca26\"],[1.0,\"#f0f921\"]]}],\"contourcarpet\":[{\"type\":\"contourcarpet\",\"colorbar\":{\"outlinewidth\":0,\"ticks\":\"\"}}],\"contour\":[{\"type\":\"contour\",\"colorbar\":{\"outlinewidth\":0,\"ticks\":\"\"},\"colorscale\":[[0.0,\"#0d0887\"],[0.1111111111111111,\"#46039f\"],[0.2222222222222222,\"#7201a8\"],[0.3333333333333333,\"#9c179e\"],[0.4444444444444444,\"#bd3786\"],[0.5555555555555556,\"#d8576b\"],[0.6666666666666666,\"#ed7953\"],[0.7777777777777778,\"#fb9f3a\"],[0.8888888888888888,\"#fdca26\"],[1.0,\"#f0f921\"]]}],\"surface\":[{\"type\":\"surface\",\"colorbar\":{\"outlinewidth\":0,\"ticks\":\"\"},\"colorscale\":[[0.0,\"#0d0887\"],[0.1111111111111111,\"#46039f\"],[0.2222222222222222,\"#7201a8\"],[0.3333333333333333,\"#9c179e\"],[0.4444444444444444,\"#bd3786\"],[0.5555555555555556,\"#d8576b\"],[0.6666666666666666,\"#ed7953\"],[0.7777777777777778,\"#fb9f3a\"],[0.8888888888888888,\"#fdca26\"],[1.0,\"#f0f921\"]]}],\"mesh3d\":[{\"type\":\"mesh3d\",\"colorbar\":{\"outlinewidth\":0,\"ticks\":\"\"}}],\"scatter\":[{\"fillpattern\":{\"fillmode\":\"overlay\",\"size\":10,\"solidity\":0.2},\"type\":\"scatter\"}],\"parcoords\":[{\"type\":\"parcoords\",\"line\":{\"colorbar\":{\"outlinewidth\":0,\"ticks\":\"\"}}}],\"scatterpolargl\":[{\"type\":\"scatterpolargl\",\"marker\":{\"colorbar\":{\"outlinewidth\":0,\"ticks\":\"\"}}}],\"bar\":[{\"error_x\":{\"color\":\"#2a3f5f\"},\"error_y\":{\"color\":\"#2a3f5f\"},\"marker\":{\"line\":{\"color\":\"white\",\"width\":0.5},\"pattern\":{\"fillmode\":\"overlay\",\"size\":10,\"solidity\":0.2}},\"type\":\"bar\"}],\"scattergeo\":[{\"type\":\"scattergeo\",\"marker\":{\"colorbar\":{\"outlinewidth\":0,\"ticks\":\"\"}}}],\"scatterpolar\":[{\"type\":\"scatterpolar\",\"marker\":{\"colorbar\":{\"outlinewidth\":0,\"ticks\":\"\"}}}],\"histogram\":[{\"marker\":{\"pattern\":{\"fillmode\":\"overlay\",\"size\":10,\"solidity\":0.2}},\"type\":\"histogram\"}],\"scattergl\":[{\"type\":\"scattergl\",\"marker\":{\"colorbar\":{\"outlinewidth\":0,\"ticks\":\"\"}}}],\"scatter3d\":[{\"type\":\"scatter3d\",\"line\":{\"colorbar\":{\"outlinewidth\":0,\"ticks\":\"\"}},\"marker\":{\"colorbar\":{\"outlinewidth\":0,\"ticks\":\"\"}}}],\"scattermapbox\":[{\"type\":\"scattermapbox\",\"marker\":{\"colorbar\":{\"outlinewidth\":0,\"ticks\":\"\"}}}],\"scatterternary\":[{\"type\":\"scatterternary\",\"marker\":{\"colorbar\":{\"outlinewidth\":0,\"ticks\":\"\"}}}],\"scattercarpet\":[{\"type\":\"scattercarpet\",\"marker\":{\"colorbar\":{\"outlinewidth\":0,\"ticks\":\"\"}}}],\"carpet\":[{\"aaxis\":{\"endlinecolor\":\"#2a3f5f\",\"gridcolor\":\"#C8D4E3\",\"linecolor\":\"#C8D4E3\",\"minorgridcolor\":\"#C8D4E3\",\"startlinecolor\":\"#2a3f5f\"},\"baxis\":{\"endlinecolor\":\"#2a3f5f\",\"gridcolor\":\"#C8D4E3\",\"linecolor\":\"#C8D4E3\",\"minorgridcolor\":\"#C8D4E3\",\"startlinecolor\":\"#2a3f5f\"},\"type\":\"carpet\"}],\"table\":[{\"cells\":{\"fill\":{\"color\":\"#EBF0F8\"},\"line\":{\"color\":\"white\"}},\"header\":{\"fill\":{\"color\":\"#C8D4E3\"},\"line\":{\"color\":\"white\"}},\"type\":\"table\"}],\"barpolar\":[{\"marker\":{\"line\":{\"color\":\"white\",\"width\":0.5},\"pattern\":{\"fillmode\":\"overlay\",\"size\":10,\"solidity\":0.2}},\"type\":\"barpolar\"}],\"pie\":[{\"automargin\":true,\"type\":\"pie\"}]},\"layout\":{\"autotypenumbers\":\"strict\",\"colorway\":[\"#636efa\",\"#EF553B\",\"#00cc96\",\"#ab63fa\",\"#FFA15A\",\"#19d3f3\",\"#FF6692\",\"#B6E880\",\"#FF97FF\",\"#FECB52\"],\"font\":{\"color\":\"#2a3f5f\"},\"hovermode\":\"closest\",\"hoverlabel\":{\"align\":\"left\"},\"paper_bgcolor\":\"white\",\"plot_bgcolor\":\"white\",\"polar\":{\"bgcolor\":\"white\",\"angularaxis\":{\"gridcolor\":\"#EBF0F8\",\"linecolor\":\"#EBF0F8\",\"ticks\":\"\"},\"radialaxis\":{\"gridcolor\":\"#EBF0F8\",\"linecolor\":\"#EBF0F8\",\"ticks\":\"\"}},\"ternary\":{\"bgcolor\":\"white\",\"aaxis\":{\"gridcolor\":\"#DFE8F3\",\"linecolor\":\"#A2B1C6\",\"ticks\":\"\"},\"baxis\":{\"gridcolor\":\"#DFE8F3\",\"linecolor\":\"#A2B1C6\",\"ticks\":\"\"},\"caxis\":{\"gridcolor\":\"#DFE8F3\",\"linecolor\":\"#A2B1C6\",\"ticks\":\"\"}},\"coloraxis\":{\"colorbar\":{\"outlinewidth\":0,\"ticks\":\"\"}},\"colorscale\":{\"sequential\":[[0.0,\"#0d0887\"],[0.1111111111111111,\"#46039f\"],[0.2222222222222222,\"#7201a8\"],[0.3333333333333333,\"#9c179e\"],[0.4444444444444444,\"#bd3786\"],[0.5555555555555556,\"#d8576b\"],[0.6666666666666666,\"#ed7953\"],[0.7777777777777778,\"#fb9f3a\"],[0.8888888888888888,\"#fdca26\"],[1.0,\"#f0f921\"]],\"sequentialminus\":[[0.0,\"#0d0887\"],[0.1111111111111111,\"#46039f\"],[0.2222222222222222,\"#7201a8\"],[0.3333333333333333,\"#9c179e\"],[0.4444444444444444,\"#bd3786\"],[0.5555555555555556,\"#d8576b\"],[0.6666666666666666,\"#ed7953\"],[0.7777777777777778,\"#fb9f3a\"],[0.8888888888888888,\"#fdca26\"],[1.0,\"#f0f921\"]],\"diverging\":[[0,\"#8e0152\"],[0.1,\"#c51b7d\"],[0.2,\"#de77ae\"],[0.3,\"#f1b6da\"],[0.4,\"#fde0ef\"],[0.5,\"#f7f7f7\"],[0.6,\"#e6f5d0\"],[0.7,\"#b8e186\"],[0.8,\"#7fbc41\"],[0.9,\"#4d9221\"],[1,\"#276419\"]]},\"xaxis\":{\"gridcolor\":\"#EBF0F8\",\"linecolor\":\"#EBF0F8\",\"ticks\":\"\",\"title\":{\"standoff\":15},\"zerolinecolor\":\"#EBF0F8\",\"automargin\":true,\"zerolinewidth\":2},\"yaxis\":{\"gridcolor\":\"#EBF0F8\",\"linecolor\":\"#EBF0F8\",\"ticks\":\"\",\"title\":{\"standoff\":15},\"zerolinecolor\":\"#EBF0F8\",\"automargin\":true,\"zerolinewidth\":2},\"scene\":{\"xaxis\":{\"backgroundcolor\":\"white\",\"gridcolor\":\"#DFE8F3\",\"linecolor\":\"#EBF0F8\",\"showbackground\":true,\"ticks\":\"\",\"zerolinecolor\":\"#EBF0F8\",\"gridwidth\":2},\"yaxis\":{\"backgroundcolor\":\"white\",\"gridcolor\":\"#DFE8F3\",\"linecolor\":\"#EBF0F8\",\"showbackground\":true,\"ticks\":\"\",\"zerolinecolor\":\"#EBF0F8\",\"gridwidth\":2},\"zaxis\":{\"backgroundcolor\":\"white\",\"gridcolor\":\"#DFE8F3\",\"linecolor\":\"#EBF0F8\",\"showbackground\":true,\"ticks\":\"\",\"zerolinecolor\":\"#EBF0F8\",\"gridwidth\":2}},\"shapedefaults\":{\"line\":{\"color\":\"#2a3f5f\"}},\"annotationdefaults\":{\"arrowcolor\":\"#2a3f5f\",\"arrowhead\":0,\"arrowwidth\":1},\"geo\":{\"bgcolor\":\"white\",\"landcolor\":\"white\",\"subunitcolor\":\"#C8D4E3\",\"showland\":true,\"showlakes\":true,\"lakecolor\":\"white\"},\"title\":{\"x\":0.05},\"mapbox\":{\"style\":\"light\"}}},\"title\":{\"text\":\"Music release over years\"},\"xaxis\":{\"title\":{\"text\":\"decade\"}},\"yaxis\":{\"title\":{\"text\":\"release\"}}},                        {\"responsive\": true}                    ).then(function(){\n",
       "                            \n",
       "var gd = document.getElementById('dce55a26-6f9f-4862-9bd7-05f16b3aba58');\n",
       "var x = new MutationObserver(function (mutations, observer) {{\n",
       "        var display = window.getComputedStyle(gd).display;\n",
       "        if (!display || display === 'none') {{\n",
       "            console.log([gd, 'removed!']);\n",
       "            Plotly.purge(gd);\n",
       "            observer.disconnect();\n",
       "        }}\n",
       "}});\n",
       "\n",
       "// Listen for the removal of the full notebook cells\n",
       "var notebookContainer = gd.closest('#notebook-container');\n",
       "if (notebookContainer) {{\n",
       "    x.observe(notebookContainer, {childList: true});\n",
       "}}\n",
       "\n",
       "// Listen for the clearing of the current output cell\n",
       "var outputEl = gd.closest('.output');\n",
       "if (outputEl) {{\n",
       "    x.observe(outputEl, {childList: true});\n",
       "}}\n",
       "\n",
       "                        })                };                });            </script>        </div>"
      ]
     },
     "metadata": {},
     "output_type": "display_data"
    }
   ],
   "source": [
    "# barplot by decade\n",
    "def barplot_by_decade(df):\n",
    "\n",
    "    # groupby decade\n",
    "    df_d = df.groupby(['decade']).size().reset_index(name='count')\n",
    "\n",
    "    # create the figure\n",
    "    fig = go.Figure()\n",
    "\n",
    "    fig.add_bar(\n",
    "        x=df_d.decade,\n",
    "        y=df_d['count'],\n",
    "        showlegend=False)\n",
    "\n",
    "    fig.add_scatter(\n",
    "            x=df_d.decade,\n",
    "            y=df_d[\"count\"],\n",
    "            mode=\"markers+lines\",\n",
    "            name=\"trend\",\n",
    "            showlegend=False)\n",
    "\n",
    "    fig.update_layout(\n",
    "            title = \"Music release over years\",\n",
    "            xaxis_title=\"decade\",\n",
    "            yaxis_title=\"release\")\n",
    "    return fig\n",
    "\n",
    "# build and display\n",
    "fig = barplot_by_decade(df)\n",
    "fig.show()"
   ]
  },
  {
   "cell_type": "code",
   "execution_count": 23,
   "id": "f56e326b",
   "metadata": {
    "execution": {
     "iopub.execute_input": "2023-03-15T23:26:56.491248Z",
     "iopub.status.busy": "2023-03-15T23:26:56.490850Z",
     "iopub.status.idle": "2023-03-15T23:26:56.563625Z",
     "shell.execute_reply": "2023-03-15T23:26:56.561837Z"
    },
    "papermill": {
     "duration": 0.100419,
     "end_time": "2023-03-15T23:26:56.565867",
     "exception": false,
     "start_time": "2023-03-15T23:26:56.465448",
     "status": "completed"
    },
    "tags": []
   },
   "outputs": [
    {
     "data": {
      "text/html": [
       "<div>\n",
       "<style scoped>\n",
       "    .dataframe tbody tr th:only-of-type {\n",
       "        vertical-align: middle;\n",
       "    }\n",
       "\n",
       "    .dataframe tbody tr th {\n",
       "        vertical-align: top;\n",
       "    }\n",
       "\n",
       "    .dataframe thead th {\n",
       "        text-align: right;\n",
       "    }\n",
       "</style>\n",
       "<table border=\"1\" class=\"dataframe\">\n",
       "  <thead>\n",
       "    <tr style=\"text-align: right;\">\n",
       "      <th></th>\n",
       "      <th>decade</th>\n",
       "      <th>tag</th>\n",
       "      <th>count</th>\n",
       "    </tr>\n",
       "  </thead>\n",
       "  <tbody>\n",
       "    <tr>\n",
       "      <th>0</th>\n",
       "      <td>1960</td>\n",
       "      <td>country</td>\n",
       "      <td>764</td>\n",
       "    </tr>\n",
       "    <tr>\n",
       "      <th>1</th>\n",
       "      <td>1960</td>\n",
       "      <td>misc</td>\n",
       "      <td>271</td>\n",
       "    </tr>\n",
       "    <tr>\n",
       "      <th>2</th>\n",
       "      <td>1960</td>\n",
       "      <td>pop</td>\n",
       "      <td>2292</td>\n",
       "    </tr>\n",
       "    <tr>\n",
       "      <th>3</th>\n",
       "      <td>1960</td>\n",
       "      <td>rap</td>\n",
       "      <td>8</td>\n",
       "    </tr>\n",
       "    <tr>\n",
       "      <th>4</th>\n",
       "      <td>1960</td>\n",
       "      <td>rb</td>\n",
       "      <td>704</td>\n",
       "    </tr>\n",
       "    <tr>\n",
       "      <th>5</th>\n",
       "      <td>1960</td>\n",
       "      <td>rock</td>\n",
       "      <td>688</td>\n",
       "    </tr>\n",
       "  </tbody>\n",
       "</table>\n",
       "</div>"
      ],
      "text/plain": [
       "   decade      tag  count\n",
       "0    1960  country    764\n",
       "1    1960     misc    271\n",
       "2    1960      pop   2292\n",
       "3    1960      rap      8\n",
       "4    1960       rb    704\n",
       "5    1960     rock    688"
      ]
     },
     "execution_count": 23,
     "metadata": {},
     "output_type": "execute_result"
    }
   ],
   "source": [
    "# compute tag frequencies by decade\n",
    "df_pies_d = df.groupby(['decade','tag']).size().reset_index(name='count')\n",
    "df_pies_d[df_pies_d.decade == 1960]"
   ]
  },
  {
   "cell_type": "code",
   "execution_count": 24,
   "id": "d4865e1c",
   "metadata": {
    "execution": {
     "iopub.execute_input": "2023-03-15T23:26:56.611778Z",
     "iopub.status.busy": "2023-03-15T23:26:56.611423Z",
     "iopub.status.idle": "2023-03-15T23:26:56.676168Z",
     "shell.execute_reply": "2023-03-15T23:26:56.675011Z"
    },
    "papermill": {
     "duration": 0.090555,
     "end_time": "2023-03-15T23:26:56.678406",
     "exception": false,
     "start_time": "2023-03-15T23:26:56.587851",
     "status": "completed"
    },
    "tags": []
   },
   "outputs": [
    {
     "data": {
      "text/html": [
       "<div>                            <div id=\"22f88edb-a527-41ca-a8ac-18a94c95ecbd\" class=\"plotly-graph-div\" style=\"height:525px; width:100%;\"></div>            <script type=\"text/javascript\">                require([\"plotly\"], function(Plotly) {                    window.PLOTLYENV=window.PLOTLYENV || {};                                    if (document.getElementById(\"22f88edb-a527-41ca-a8ac-18a94c95ecbd\")) {                    Plotly.newPlot(                        \"22f88edb-a527-41ca-a8ac-18a94c95ecbd\",                        [{\"labels\":[\"country\",\"misc\",\"pop\",\"rap\",\"rb\",\"rock\"],\"name\":\"1960\",\"values\":[764,271,2292,8,704,688],\"type\":\"pie\",\"domain\":{\"x\":[0.0,0.2888888888888889],\"y\":[0.7333333333333333,1.0]},\"hole\":0.4,\"hoverinfo\":\"label+percent+name\"},{\"labels\":[\"country\",\"misc\",\"pop\",\"rap\",\"rb\",\"rock\"],\"name\":\"1970\",\"values\":[1142,367,2157,52,1419,1951],\"type\":\"pie\",\"domain\":{\"x\":[0.35555555555555557,0.6444444444444445],\"y\":[0.7333333333333333,1.0]},\"hole\":0.4,\"hoverinfo\":\"label+percent+name\"},{\"labels\":[\"country\",\"misc\",\"pop\",\"rap\",\"rb\",\"rock\"],\"name\":\"1980\",\"values\":[700,292,2828,621,1167,3180],\"type\":\"pie\",\"domain\":{\"x\":[0.7111111111111111,1.0],\"y\":[0.7333333333333333,1.0]},\"hole\":0.4,\"hoverinfo\":\"label+percent+name\"},{\"labels\":[\"country\",\"misc\",\"pop\",\"rap\",\"rb\",\"rock\"],\"name\":\"1990\",\"values\":[574,614,4351,1870,1034,5746],\"type\":\"pie\",\"domain\":{\"x\":[0.0,0.2888888888888889],\"y\":[0.36666666666666664,0.6333333333333333]},\"hole\":0.4,\"hoverinfo\":\"label+percent+name\"},{\"labels\":[\"country\",\"misc\",\"pop\",\"rap\",\"rb\",\"rock\"],\"name\":\"2000\",\"values\":[1594,1488,11146,6313,958,12499],\"type\":\"pie\",\"domain\":{\"x\":[0.35555555555555557,0.6444444444444445],\"y\":[0.36666666666666664,0.6333333333333333]},\"hole\":0.4,\"hoverinfo\":\"label+percent+name\"},{\"labels\":[\"country\",\"misc\",\"pop\",\"rap\",\"rb\",\"rock\"],\"name\":\"2010\",\"values\":[13341,19390,152801,222281,34569,129192],\"type\":\"pie\",\"domain\":{\"x\":[0.7111111111111111,1.0],\"y\":[0.36666666666666664,0.6333333333333333]},\"hole\":0.4,\"hoverinfo\":\"label+percent+name\"},{\"labels\":[\"country\",\"misc\",\"pop\",\"rap\",\"rb\",\"rock\"],\"name\":\"2020\",\"values\":[69,57,802,1151,184,348],\"type\":\"pie\",\"domain\":{\"x\":[0.0,0.2888888888888889],\"y\":[0.0,0.26666666666666666]},\"hole\":0.4,\"hoverinfo\":\"label+percent+name\"}],                        {\"template\":{\"data\":{\"histogram2dcontour\":[{\"type\":\"histogram2dcontour\",\"colorbar\":{\"outlinewidth\":0,\"ticks\":\"\"},\"colorscale\":[[0.0,\"#0d0887\"],[0.1111111111111111,\"#46039f\"],[0.2222222222222222,\"#7201a8\"],[0.3333333333333333,\"#9c179e\"],[0.4444444444444444,\"#bd3786\"],[0.5555555555555556,\"#d8576b\"],[0.6666666666666666,\"#ed7953\"],[0.7777777777777778,\"#fb9f3a\"],[0.8888888888888888,\"#fdca26\"],[1.0,\"#f0f921\"]]}],\"choropleth\":[{\"type\":\"choropleth\",\"colorbar\":{\"outlinewidth\":0,\"ticks\":\"\"}}],\"histogram2d\":[{\"type\":\"histogram2d\",\"colorbar\":{\"outlinewidth\":0,\"ticks\":\"\"},\"colorscale\":[[0.0,\"#0d0887\"],[0.1111111111111111,\"#46039f\"],[0.2222222222222222,\"#7201a8\"],[0.3333333333333333,\"#9c179e\"],[0.4444444444444444,\"#bd3786\"],[0.5555555555555556,\"#d8576b\"],[0.6666666666666666,\"#ed7953\"],[0.7777777777777778,\"#fb9f3a\"],[0.8888888888888888,\"#fdca26\"],[1.0,\"#f0f921\"]]}],\"heatmap\":[{\"type\":\"heatmap\",\"colorbar\":{\"outlinewidth\":0,\"ticks\":\"\"},\"colorscale\":[[0.0,\"#0d0887\"],[0.1111111111111111,\"#46039f\"],[0.2222222222222222,\"#7201a8\"],[0.3333333333333333,\"#9c179e\"],[0.4444444444444444,\"#bd3786\"],[0.5555555555555556,\"#d8576b\"],[0.6666666666666666,\"#ed7953\"],[0.7777777777777778,\"#fb9f3a\"],[0.8888888888888888,\"#fdca26\"],[1.0,\"#f0f921\"]]}],\"heatmapgl\":[{\"type\":\"heatmapgl\",\"colorbar\":{\"outlinewidth\":0,\"ticks\":\"\"},\"colorscale\":[[0.0,\"#0d0887\"],[0.1111111111111111,\"#46039f\"],[0.2222222222222222,\"#7201a8\"],[0.3333333333333333,\"#9c179e\"],[0.4444444444444444,\"#bd3786\"],[0.5555555555555556,\"#d8576b\"],[0.6666666666666666,\"#ed7953\"],[0.7777777777777778,\"#fb9f3a\"],[0.8888888888888888,\"#fdca26\"],[1.0,\"#f0f921\"]]}],\"contourcarpet\":[{\"type\":\"contourcarpet\",\"colorbar\":{\"outlinewidth\":0,\"ticks\":\"\"}}],\"contour\":[{\"type\":\"contour\",\"colorbar\":{\"outlinewidth\":0,\"ticks\":\"\"},\"colorscale\":[[0.0,\"#0d0887\"],[0.1111111111111111,\"#46039f\"],[0.2222222222222222,\"#7201a8\"],[0.3333333333333333,\"#9c179e\"],[0.4444444444444444,\"#bd3786\"],[0.5555555555555556,\"#d8576b\"],[0.6666666666666666,\"#ed7953\"],[0.7777777777777778,\"#fb9f3a\"],[0.8888888888888888,\"#fdca26\"],[1.0,\"#f0f921\"]]}],\"surface\":[{\"type\":\"surface\",\"colorbar\":{\"outlinewidth\":0,\"ticks\":\"\"},\"colorscale\":[[0.0,\"#0d0887\"],[0.1111111111111111,\"#46039f\"],[0.2222222222222222,\"#7201a8\"],[0.3333333333333333,\"#9c179e\"],[0.4444444444444444,\"#bd3786\"],[0.5555555555555556,\"#d8576b\"],[0.6666666666666666,\"#ed7953\"],[0.7777777777777778,\"#fb9f3a\"],[0.8888888888888888,\"#fdca26\"],[1.0,\"#f0f921\"]]}],\"mesh3d\":[{\"type\":\"mesh3d\",\"colorbar\":{\"outlinewidth\":0,\"ticks\":\"\"}}],\"scatter\":[{\"fillpattern\":{\"fillmode\":\"overlay\",\"size\":10,\"solidity\":0.2},\"type\":\"scatter\"}],\"parcoords\":[{\"type\":\"parcoords\",\"line\":{\"colorbar\":{\"outlinewidth\":0,\"ticks\":\"\"}}}],\"scatterpolargl\":[{\"type\":\"scatterpolargl\",\"marker\":{\"colorbar\":{\"outlinewidth\":0,\"ticks\":\"\"}}}],\"bar\":[{\"error_x\":{\"color\":\"#2a3f5f\"},\"error_y\":{\"color\":\"#2a3f5f\"},\"marker\":{\"line\":{\"color\":\"white\",\"width\":0.5},\"pattern\":{\"fillmode\":\"overlay\",\"size\":10,\"solidity\":0.2}},\"type\":\"bar\"}],\"scattergeo\":[{\"type\":\"scattergeo\",\"marker\":{\"colorbar\":{\"outlinewidth\":0,\"ticks\":\"\"}}}],\"scatterpolar\":[{\"type\":\"scatterpolar\",\"marker\":{\"colorbar\":{\"outlinewidth\":0,\"ticks\":\"\"}}}],\"histogram\":[{\"marker\":{\"pattern\":{\"fillmode\":\"overlay\",\"size\":10,\"solidity\":0.2}},\"type\":\"histogram\"}],\"scattergl\":[{\"type\":\"scattergl\",\"marker\":{\"colorbar\":{\"outlinewidth\":0,\"ticks\":\"\"}}}],\"scatter3d\":[{\"type\":\"scatter3d\",\"line\":{\"colorbar\":{\"outlinewidth\":0,\"ticks\":\"\"}},\"marker\":{\"colorbar\":{\"outlinewidth\":0,\"ticks\":\"\"}}}],\"scattermapbox\":[{\"type\":\"scattermapbox\",\"marker\":{\"colorbar\":{\"outlinewidth\":0,\"ticks\":\"\"}}}],\"scatterternary\":[{\"type\":\"scatterternary\",\"marker\":{\"colorbar\":{\"outlinewidth\":0,\"ticks\":\"\"}}}],\"scattercarpet\":[{\"type\":\"scattercarpet\",\"marker\":{\"colorbar\":{\"outlinewidth\":0,\"ticks\":\"\"}}}],\"carpet\":[{\"aaxis\":{\"endlinecolor\":\"#2a3f5f\",\"gridcolor\":\"#C8D4E3\",\"linecolor\":\"#C8D4E3\",\"minorgridcolor\":\"#C8D4E3\",\"startlinecolor\":\"#2a3f5f\"},\"baxis\":{\"endlinecolor\":\"#2a3f5f\",\"gridcolor\":\"#C8D4E3\",\"linecolor\":\"#C8D4E3\",\"minorgridcolor\":\"#C8D4E3\",\"startlinecolor\":\"#2a3f5f\"},\"type\":\"carpet\"}],\"table\":[{\"cells\":{\"fill\":{\"color\":\"#EBF0F8\"},\"line\":{\"color\":\"white\"}},\"header\":{\"fill\":{\"color\":\"#C8D4E3\"},\"line\":{\"color\":\"white\"}},\"type\":\"table\"}],\"barpolar\":[{\"marker\":{\"line\":{\"color\":\"white\",\"width\":0.5},\"pattern\":{\"fillmode\":\"overlay\",\"size\":10,\"solidity\":0.2}},\"type\":\"barpolar\"}],\"pie\":[{\"automargin\":true,\"type\":\"pie\"}]},\"layout\":{\"autotypenumbers\":\"strict\",\"colorway\":[\"#636efa\",\"#EF553B\",\"#00cc96\",\"#ab63fa\",\"#FFA15A\",\"#19d3f3\",\"#FF6692\",\"#B6E880\",\"#FF97FF\",\"#FECB52\"],\"font\":{\"color\":\"#2a3f5f\"},\"hovermode\":\"closest\",\"hoverlabel\":{\"align\":\"left\"},\"paper_bgcolor\":\"white\",\"plot_bgcolor\":\"white\",\"polar\":{\"bgcolor\":\"white\",\"angularaxis\":{\"gridcolor\":\"#EBF0F8\",\"linecolor\":\"#EBF0F8\",\"ticks\":\"\"},\"radialaxis\":{\"gridcolor\":\"#EBF0F8\",\"linecolor\":\"#EBF0F8\",\"ticks\":\"\"}},\"ternary\":{\"bgcolor\":\"white\",\"aaxis\":{\"gridcolor\":\"#DFE8F3\",\"linecolor\":\"#A2B1C6\",\"ticks\":\"\"},\"baxis\":{\"gridcolor\":\"#DFE8F3\",\"linecolor\":\"#A2B1C6\",\"ticks\":\"\"},\"caxis\":{\"gridcolor\":\"#DFE8F3\",\"linecolor\":\"#A2B1C6\",\"ticks\":\"\"}},\"coloraxis\":{\"colorbar\":{\"outlinewidth\":0,\"ticks\":\"\"}},\"colorscale\":{\"sequential\":[[0.0,\"#0d0887\"],[0.1111111111111111,\"#46039f\"],[0.2222222222222222,\"#7201a8\"],[0.3333333333333333,\"#9c179e\"],[0.4444444444444444,\"#bd3786\"],[0.5555555555555556,\"#d8576b\"],[0.6666666666666666,\"#ed7953\"],[0.7777777777777778,\"#fb9f3a\"],[0.8888888888888888,\"#fdca26\"],[1.0,\"#f0f921\"]],\"sequentialminus\":[[0.0,\"#0d0887\"],[0.1111111111111111,\"#46039f\"],[0.2222222222222222,\"#7201a8\"],[0.3333333333333333,\"#9c179e\"],[0.4444444444444444,\"#bd3786\"],[0.5555555555555556,\"#d8576b\"],[0.6666666666666666,\"#ed7953\"],[0.7777777777777778,\"#fb9f3a\"],[0.8888888888888888,\"#fdca26\"],[1.0,\"#f0f921\"]],\"diverging\":[[0,\"#8e0152\"],[0.1,\"#c51b7d\"],[0.2,\"#de77ae\"],[0.3,\"#f1b6da\"],[0.4,\"#fde0ef\"],[0.5,\"#f7f7f7\"],[0.6,\"#e6f5d0\"],[0.7,\"#b8e186\"],[0.8,\"#7fbc41\"],[0.9,\"#4d9221\"],[1,\"#276419\"]]},\"xaxis\":{\"gridcolor\":\"#EBF0F8\",\"linecolor\":\"#EBF0F8\",\"ticks\":\"\",\"title\":{\"standoff\":15},\"zerolinecolor\":\"#EBF0F8\",\"automargin\":true,\"zerolinewidth\":2},\"yaxis\":{\"gridcolor\":\"#EBF0F8\",\"linecolor\":\"#EBF0F8\",\"ticks\":\"\",\"title\":{\"standoff\":15},\"zerolinecolor\":\"#EBF0F8\",\"automargin\":true,\"zerolinewidth\":2},\"scene\":{\"xaxis\":{\"backgroundcolor\":\"white\",\"gridcolor\":\"#DFE8F3\",\"linecolor\":\"#EBF0F8\",\"showbackground\":true,\"ticks\":\"\",\"zerolinecolor\":\"#EBF0F8\",\"gridwidth\":2},\"yaxis\":{\"backgroundcolor\":\"white\",\"gridcolor\":\"#DFE8F3\",\"linecolor\":\"#EBF0F8\",\"showbackground\":true,\"ticks\":\"\",\"zerolinecolor\":\"#EBF0F8\",\"gridwidth\":2},\"zaxis\":{\"backgroundcolor\":\"white\",\"gridcolor\":\"#DFE8F3\",\"linecolor\":\"#EBF0F8\",\"showbackground\":true,\"ticks\":\"\",\"zerolinecolor\":\"#EBF0F8\",\"gridwidth\":2}},\"shapedefaults\":{\"line\":{\"color\":\"#2a3f5f\"}},\"annotationdefaults\":{\"arrowcolor\":\"#2a3f5f\",\"arrowhead\":0,\"arrowwidth\":1},\"geo\":{\"bgcolor\":\"white\",\"landcolor\":\"white\",\"subunitcolor\":\"#C8D4E3\",\"showland\":true,\"showlakes\":true,\"lakecolor\":\"white\"},\"title\":{\"x\":0.05},\"mapbox\":{\"style\":\"light\"}}},\"annotations\":[{\"font\":{\"size\":10},\"showarrow\":false,\"text\":\"1960\",\"x\":0.125,\"y\":0.9},{\"font\":{\"size\":10},\"showarrow\":false,\"text\":\"1970\",\"x\":0.5,\"y\":0.9},{\"font\":{\"size\":10},\"showarrow\":false,\"text\":\"1980\",\"x\":0.875,\"y\":0.9},{\"font\":{\"size\":10},\"showarrow\":false,\"text\":\"1990\",\"x\":0.125,\"y\":0.5073000000000001},{\"font\":{\"size\":10},\"showarrow\":false,\"text\":\"2000\",\"x\":0.5,\"y\":0.5073000000000001},{\"font\":{\"size\":10},\"showarrow\":false,\"text\":\"2010\",\"x\":0.875,\"y\":0.5073000000000001},{\"font\":{\"size\":10},\"showarrow\":false,\"text\":\"2020\",\"x\":0.125,\"y\":0.11460000000000004}],\"title\":{\"text\":\"Tags proportions by decades\"}},                        {\"responsive\": true}                    ).then(function(){\n",
       "                            \n",
       "var gd = document.getElementById('22f88edb-a527-41ca-a8ac-18a94c95ecbd');\n",
       "var x = new MutationObserver(function (mutations, observer) {{\n",
       "        var display = window.getComputedStyle(gd).display;\n",
       "        if (!display || display === 'none') {{\n",
       "            console.log([gd, 'removed!']);\n",
       "            Plotly.purge(gd);\n",
       "            observer.disconnect();\n",
       "        }}\n",
       "}});\n",
       "\n",
       "// Listen for the removal of the full notebook cells\n",
       "var notebookContainer = gd.closest('#notebook-container');\n",
       "if (notebookContainer) {{\n",
       "    x.observe(notebookContainer, {childList: true});\n",
       "}}\n",
       "\n",
       "// Listen for the clearing of the current output cell\n",
       "var outputEl = gd.closest('.output');\n",
       "if (outputEl) {{\n",
       "    x.observe(outputEl, {childList: true});\n",
       "}}\n",
       "\n",
       "                        })                };                });            </script>        </div>"
      ]
     },
     "metadata": {},
     "output_type": "display_data"
    }
   ],
   "source": [
    "from plotly.subplots import make_subplots\n",
    "\n",
    "# create en make subplot\n",
    "fig = make_subplots(rows=3, cols=3,\n",
    "                    specs=[\n",
    "                        [{'type':'domain'}\n",
    "                        for i in range(1,4)] for i in range(1,4)\n",
    "                    ])\n",
    "decades = df_pies_d.decade.unique().tolist()\n",
    "for i in range(0,3):\n",
    "    for k in range(0,3):\n",
    "        decade = decades[i*3 + k]\n",
    "        # group by decade\n",
    "        df_p = df_pies_d[df_pies_d.decade == decade]\n",
    "        # add figure\n",
    "        fig.add_trace(go.Pie(labels=df_p.tag, values=df_p['count'], name=decade), i+1, k+1)\n",
    "        # add annotation\n",
    "        fig.add_annotation(arg=dict(\n",
    "            text=decade, x=k*0.375 + 0.125,\n",
    "            y=-i*0.3927 + 0.90, font_size=10,\n",
    "            showarrow=False))\n",
    "        if (i*3 + k) == 6:\n",
    "            break\n",
    "\n",
    "\n",
    "# Use `hole` to create a donut-like pie chart\n",
    "fig.update_traces(hole=.4, hoverinfo=\"label+percent+name\")\n",
    "\n",
    "fig.update_layout(\n",
    "    title_text=\"Tags proportions by decades\"\n",
    "    # Add annotations in the center of the donut pies.\n",
    "    #annotations=[dict(text=decade, x=k*0.375+0.125, y= -i*0.125+0.90, font_size=10, showarrow=False)\n",
    "     #           for k, decade in enumerate(decades) for i in range(0,4)]\n",
    ")\n",
    "fig.show()"
   ]
  },
  {
   "cell_type": "markdown",
   "id": "00ba02a7",
   "metadata": {
    "papermill": {
     "duration": 0.022107,
     "end_time": "2023-03-15T23:26:56.723151",
     "exception": false,
     "start_time": "2023-03-15T23:26:56.701044",
     "status": "completed"
    },
    "tags": []
   },
   "source": [
    "The different pie charts show us an evolution of the different proportions of music styles by decades from 1960 to today. In the sixties the most listed music style is the **pop music**. Then comes an emergence of a rising style: the **rock**. This one increases with the decades until it overtakes the pop music during the decades 90 and 2000. The two styles come to balance thereafter facing the meteoric rise of the most listed genre in our current decade, namely **rap**. The evolution of the proportions recover can give us a rather precise idea of the most popular styles of their times. However, it is important to remember that the data still has some bias, Genius being a crowdsourced tool created during the last decade and at the base only as a lexical translator of rap music, it is normal to find a large amount of data from this period and especially from this style there."
   ]
  },
  {
   "cell_type": "markdown",
   "id": "d4720c56",
   "metadata": {
    "papermill": {
     "duration": 0.022326,
     "end_time": "2023-03-15T23:26:56.767881",
     "exception": false,
     "start_time": "2023-03-15T23:26:56.745555",
     "status": "completed"
    },
    "tags": []
   },
   "source": [
    "## Text preprocessing\n",
    "\n",
    "After the visualisation part let's focus more on the main data which are the lyrics."
   ]
  },
  {
   "cell_type": "code",
   "execution_count": 25,
   "id": "4a34acd6",
   "metadata": {
    "execution": {
     "iopub.execute_input": "2023-03-15T23:26:56.815782Z",
     "iopub.status.busy": "2023-03-15T23:26:56.815440Z",
     "iopub.status.idle": "2023-03-15T23:26:56.823488Z",
     "shell.execute_reply": "2023-03-15T23:26:56.822327Z"
    },
    "papermill": {
     "duration": 0.034768,
     "end_time": "2023-03-15T23:26:56.825536",
     "exception": false,
     "start_time": "2023-03-15T23:26:56.790768",
     "status": "completed"
    },
    "tags": []
   },
   "outputs": [
    {
     "data": {
      "text/plain": [
       "\"The roses start to wither\\nWhere the devil lays to sleep\\nAnd sorrow seems to be like joy\\nWhere dying lights dance on last time\\n\\nYou had me at hello\\nBut I couldn't see right through your twisted soul\\nThis was the downfall of us all\\n\\n(Roses start to wither\\nWhere the devil lays to sleep)\\n\\nToo close to hell\\nI can't see\\nWhat ate me up from the inside\\nToo close to hell\\nI will never see\\nWhat ate me up from the inside out\\n(From the inside out)\\n\\nI'm caught in a nightmare\\nNo chance to make it out alive\\nWhy have we left the place\\nWhere we found love\\nYou had me at hello\\nBut I couldn't see right through your twisted soul\\nThis was the downfall of us all\\n\\n(Roses start to wither\\nWhere the devil lays to sleep)\\n\\nToo close to hell\\nI can't see\\nWhat ate me up from the inside\\nToo close to hell\\nI will never see\\nWhat ate me up from the inside out\\n\\nSo sing along\\nWe are a battle\\nSo sing along\\nWhy have you forsaken me?\\n\\nWhy have you forsaken me?\\nWhy have you forsaken me?\\nWhy have you forsaken me?\\nWhy have you forsaken me?\\n\\n(Roses start to wither\\nWhere the devil lays to sleep)\\nToo close to hell\\nI can't see\\nWhat ate me up from the inside\\nToo close to hell\\nI will never see\\nWhat ate me up from the inside out\\n(From the inside out)\""
      ]
     },
     "execution_count": 25,
     "metadata": {},
     "output_type": "execute_result"
    }
   ],
   "source": [
    "df.iloc[0][\"lyrics\"]"
   ]
  },
  {
   "cell_type": "markdown",
   "id": "2ad0f2d8",
   "metadata": {
    "papermill": {
     "duration": 0.023473,
     "end_time": "2023-03-15T23:26:56.872163",
     "exception": false,
     "start_time": "2023-03-15T23:26:56.848690",
     "status": "completed"
    },
    "tags": []
   },
   "source": [
    "There is many undesirable characters like the line breaker '\\n', figures or square, curly and simple brackets. So let's clean this data with regular expressions."
   ]
  },
  {
   "cell_type": "code",
   "execution_count": 26,
   "id": "cb3b8be6",
   "metadata": {
    "execution": {
     "iopub.execute_input": "2023-03-15T23:26:56.919722Z",
     "iopub.status.busy": "2023-03-15T23:26:56.919327Z",
     "iopub.status.idle": "2023-03-15T23:28:28.583820Z",
     "shell.execute_reply": "2023-03-15T23:28:28.582613Z"
    },
    "papermill": {
     "duration": 91.691295,
     "end_time": "2023-03-15T23:28:28.586401",
     "exception": false,
     "start_time": "2023-03-15T23:26:56.895106",
     "status": "completed"
    },
    "tags": []
   },
   "outputs": [],
   "source": [
    "import re\n",
    "from numpy.random import randint\n",
    "\n",
    "def clean_text(text):\n",
    "    # remove \\n\n",
    "    text = text.replace(r'\\n', '')\n",
    "    # remove punctuation\n",
    "    text = re.sub(r'[,\\.!?]', '', text)\n",
    "    #removing text in square braquet\n",
    "    text = re.sub(r'\\[.*?\\]', ' ', text)\n",
    "    #removing numbers\n",
    "    text = re.sub(r'\\w*\\d\\w*',' ', text)\n",
    "    #removing bracket\n",
    "    text = re.sub(r'[()]', ' ', text)\n",
    "    # convert all words in lower case\n",
    "    text = text.lower()\n",
    "    return text\n",
    "\n",
    "# get the results of data cleaning\n",
    "cleaned_text = df[\"lyrics\"].apply(clean_text)"
   ]
  },
  {
   "cell_type": "code",
   "execution_count": 27,
   "id": "8a5922d2",
   "metadata": {
    "execution": {
     "iopub.execute_input": "2023-03-15T23:28:28.634075Z",
     "iopub.status.busy": "2023-03-15T23:28:28.633663Z",
     "iopub.status.idle": "2023-03-15T23:28:28.669790Z",
     "shell.execute_reply": "2023-03-15T23:28:28.668024Z"
    },
    "papermill": {
     "duration": 0.062289,
     "end_time": "2023-03-15T23:28:28.671767",
     "exception": false,
     "start_time": "2023-03-15T23:28:28.609478",
     "status": "completed"
    },
    "tags": []
   },
   "outputs": [
    {
     "data": {
      "text/plain": [
       "\"the roses start to wither\\nwhere the devil lays to sleep\\nand sorrow seems to be like joy\\nwhere dying lights dance on last time\\n\\nyou had me at hello\\nbut i couldn't see right through your twisted soul\\nthis was the downfall of us all\\n\\n roses start to wither\\nwhere the devil lays to sleep \\n\\ntoo close to hell\\ni can't see\\nwhat ate me up from the inside\\ntoo close to hell\\ni will never see\\nwhat ate me up from the inside out\\n from the inside out \\n\\ni'm caught in a nightmare\\nno chance to make it out alive\\nwhy have we left the place\\nwhere we found love\\nyou had me at hello\\nbut i couldn't see right through your twisted soul\\nthis was the downfall of us all\\n\\n roses start to wither\\nwhere the devil lays to sleep \\n\\ntoo close to hell\\ni can't see\\nwhat ate me up from the inside\\ntoo close to hell\\ni will never see\\nwhat ate me up from the inside out\\n\\nso sing along\\nwe are a battle\\nso sing along\\nwhy have you forsaken me\\n\\nwhy have you forsaken me\\nwhy have you forsaken me\\nwhy have you forsaken me\\nwhy have you forsaken me\\n\\n roses start to wither\\nwhere the devil lays to sleep \\ntoo close to hell\\ni can't see\\nwhat ate me up from the inside\\ntoo close to hell\\ni will never see\\nwhat ate me up from the inside out\\n from the inside out \""
      ]
     },
     "execution_count": 27,
     "metadata": {},
     "output_type": "execute_result"
    }
   ],
   "source": [
    "docs = cleaned_text.to_list()\n",
    "docs[0]"
   ]
  },
  {
   "cell_type": "code",
   "execution_count": 28,
   "id": "753f9164",
   "metadata": {
    "execution": {
     "iopub.execute_input": "2023-03-15T23:28:28.718272Z",
     "iopub.status.busy": "2023-03-15T23:28:28.717892Z",
     "iopub.status.idle": "2023-03-15T23:28:28.982501Z",
     "shell.execute_reply": "2023-03-15T23:28:28.981291Z"
    },
    "papermill": {
     "duration": 0.290349,
     "end_time": "2023-03-15T23:28:28.984619",
     "exception": false,
     "start_time": "2023-03-15T23:28:28.694270",
     "status": "completed"
    },
    "scrolled": true,
    "tags": []
   },
   "outputs": [
    {
     "data": {
      "text/html": [
       "<div>\n",
       "<style scoped>\n",
       "    .dataframe tbody tr th:only-of-type {\n",
       "        vertical-align: middle;\n",
       "    }\n",
       "\n",
       "    .dataframe tbody tr th {\n",
       "        vertical-align: top;\n",
       "    }\n",
       "\n",
       "    .dataframe thead th {\n",
       "        text-align: right;\n",
       "    }\n",
       "</style>\n",
       "<table border=\"1\" class=\"dataframe\">\n",
       "  <thead>\n",
       "    <tr style=\"text-align: right;\">\n",
       "      <th></th>\n",
       "      <th>title</th>\n",
       "      <th>tag</th>\n",
       "      <th>artist</th>\n",
       "      <th>year</th>\n",
       "      <th>views</th>\n",
       "      <th>features</th>\n",
       "      <th>lyrics</th>\n",
       "      <th>id</th>\n",
       "      <th>language_cld3</th>\n",
       "      <th>language_ft</th>\n",
       "      <th>language</th>\n",
       "      <th>decade</th>\n",
       "    </tr>\n",
       "  </thead>\n",
       "  <tbody>\n",
       "    <tr>\n",
       "      <th>0</th>\n",
       "      <td>Roses</td>\n",
       "      <td>rock</td>\n",
       "      <td>Vitja</td>\n",
       "      <td>2017</td>\n",
       "      <td>399</td>\n",
       "      <td>{}</td>\n",
       "      <td>the roses start to wither\\nwhere the devil lay...</td>\n",
       "      <td>3019113</td>\n",
       "      <td>en</td>\n",
       "      <td>en</td>\n",
       "      <td>en</td>\n",
       "      <td>2010</td>\n",
       "    </tr>\n",
       "    <tr>\n",
       "      <th>1</th>\n",
       "      <td>Keep On Pushin</td>\n",
       "      <td>rap</td>\n",
       "      <td>Problem</td>\n",
       "      <td>2017</td>\n",
       "      <td>692</td>\n",
       "      <td>{\"My Princess Aeryn\"}</td>\n",
       "      <td>\\nimma keep on pushin\\nimma keep on pushin\\ns...</td>\n",
       "      <td>3019114</td>\n",
       "      <td>en</td>\n",
       "      <td>en</td>\n",
       "      <td>en</td>\n",
       "      <td>2010</td>\n",
       "    </tr>\n",
       "    <tr>\n",
       "      <th>2</th>\n",
       "      <td>Inside</td>\n",
       "      <td>pop</td>\n",
       "      <td>The jepettos</td>\n",
       "      <td>2017</td>\n",
       "      <td>1302</td>\n",
       "      <td>{}</td>\n",
       "      <td>\\nooh ooh ah ah    \\n\\n \\ni heard you were th...</td>\n",
       "      <td>3019115</td>\n",
       "      <td>en</td>\n",
       "      <td>en</td>\n",
       "      <td>en</td>\n",
       "      <td>2010</td>\n",
       "    </tr>\n",
       "  </tbody>\n",
       "</table>\n",
       "</div>"
      ],
      "text/plain": [
       "            title   tag        artist  year  views               features  \\\n",
       "0           Roses  rock         Vitja  2017    399                     {}   \n",
       "1  Keep On Pushin   rap       Problem  2017    692  {\"My Princess Aeryn\"}   \n",
       "2          Inside   pop  The jepettos  2017   1302                     {}   \n",
       "\n",
       "                                              lyrics       id language_cld3  \\\n",
       "0  the roses start to wither\\nwhere the devil lay...  3019113            en   \n",
       "1   \\nimma keep on pushin\\nimma keep on pushin\\ns...  3019114            en   \n",
       "2   \\nooh ooh ah ah    \\n\\n \\ni heard you were th...  3019115            en   \n",
       "\n",
       "  language_ft language  decade  \n",
       "0          en       en    2010  \n",
       "1          en       en    2010  \n",
       "2          en       en    2010  "
      ]
     },
     "execution_count": 28,
     "metadata": {},
     "output_type": "execute_result"
    }
   ],
   "source": [
    "# update dataframe\n",
    "df.update(cleaned_text)\n",
    "df.head(3)"
   ]
  },
  {
   "cell_type": "markdown",
   "id": "538bb94a",
   "metadata": {
    "papermill": {
     "duration": 0.02237,
     "end_time": "2023-03-15T23:28:29.029704",
     "exception": false,
     "start_time": "2023-03-15T23:28:29.007334",
     "status": "completed"
    },
    "tags": []
   },
   "source": [
    "That's better! The libraries that we will use later to perform topic modeling usually provide preprocessing but it is always good to have control over what we manipulate.\n",
    "\n",
    "## Topic modeling\n",
    "\n",
    "I will perform 2 ways to do topic modeling :\n",
    "- [LDA (latent dirichlet allocation)](https://fr.wikipedia.org/wiki/Allocation_de_Dirichlet_latente) are the common way to do topic modeling in the few last years, it works and it's quite easy to use with common python library like [Gensim](https://radimrehurek.com/gensim/auto_examples/index.html).\n",
    "- [BERTopic](https://maartengr.github.io/BERTopic/index.html) seems to be one of the best technic this day to perform topic modeling. It combine the leverage of [BERT](https://en.wikipedia.org/wiki/BERT_(language_model)) the famous language model with [c-TF-IDF](https://maartengr.github.io/BERTopic/api/ctfidf.html) tansformer. \n",
    "\n",
    "\n",
    "### Define default tokenizer and Lemmatizer"
   ]
  },
  {
   "cell_type": "code",
   "execution_count": 29,
   "id": "19516b29",
   "metadata": {
    "execution": {
     "iopub.execute_input": "2023-03-15T23:28:29.076559Z",
     "iopub.status.busy": "2023-03-15T23:28:29.076187Z",
     "iopub.status.idle": "2023-03-15T23:28:44.290492Z",
     "shell.execute_reply": "2023-03-15T23:28:44.289369Z"
    },
    "papermill": {
     "duration": 15.240556,
     "end_time": "2023-03-15T23:28:44.292924",
     "exception": false,
     "start_time": "2023-03-15T23:28:29.052368",
     "status": "completed"
    },
    "tags": []
   },
   "outputs": [
    {
     "name": "stdout",
     "output_type": "stream",
     "text": [
      "set gpu:  False\n"
     ]
    }
   ],
   "source": [
    "import spacy\n",
    "\n",
    "print(\"set gpu: \", spacy.prefer_gpu())\n",
    "\n",
    "# small model /!\\ take the bigger one for Kaggle\n",
    "new_nlp = spacy.load('en_core_web_sm')"
   ]
  },
  {
   "cell_type": "markdown",
   "id": "89b10c27",
   "metadata": {
    "papermill": {
     "duration": 0.022753,
     "end_time": "2023-03-15T23:28:44.338596",
     "exception": false,
     "start_time": "2023-03-15T23:28:44.315843",
     "status": "completed"
    },
    "tags": []
   },
   "source": [
    "It could be difficult to process all this data on my computer or Kaggle. The memory will quickly be overwhelmed. I will work with a sample of our previously load data in order to avoid memory overload."
   ]
  },
  {
   "cell_type": "raw",
   "id": "72a1a8e8",
   "metadata": {
    "papermill": {
     "duration": 0.022595,
     "end_time": "2023-03-15T23:28:44.384189",
     "exception": false,
     "start_time": "2023-03-15T23:28:44.361594",
     "status": "completed"
    },
    "tags": []
   },
   "source": [
    "# create weights series\n",
    "freq = df.groupby('decade')['decade'].transform('count')\n",
    "\n",
    "# set sample frac of the data\n",
    "prop = 0.3\n",
    "n_samples = prop * len(df)\n",
    "n_factors = len(freq.unique())\n",
    "\n",
    "df['freq'] = freq.apply(lambda row : n_samples / (n_factors * row))\n",
    "print(df.freq.unique())"
   ]
  },
  {
   "cell_type": "code",
   "execution_count": 30,
   "id": "8aeb111f",
   "metadata": {
    "execution": {
     "iopub.execute_input": "2023-03-15T23:28:44.432488Z",
     "iopub.status.busy": "2023-03-15T23:28:44.430850Z",
     "iopub.status.idle": "2023-03-15T23:28:44.593885Z",
     "shell.execute_reply": "2023-03-15T23:28:44.592431Z"
    },
    "papermill": {
     "duration": 0.189771,
     "end_time": "2023-03-15T23:28:44.596611",
     "exception": false,
     "start_time": "2023-03-15T23:28:44.406840",
     "status": "completed"
    },
    "tags": []
   },
   "outputs": [],
   "source": [
    "# set sample frac of the data\n",
    "prop = 0.1\n",
    "\n",
    "# create sample df 1/3 of the actual loaded data\n",
    "sdf = df.sample(frac = prop)"
   ]
  },
  {
   "cell_type": "code",
   "execution_count": 31,
   "id": "20b8cf0b",
   "metadata": {
    "execution": {
     "iopub.execute_input": "2023-03-15T23:28:44.645858Z",
     "iopub.status.busy": "2023-03-15T23:28:44.645259Z",
     "iopub.status.idle": "2023-03-15T23:28:44.661121Z",
     "shell.execute_reply": "2023-03-15T23:28:44.660427Z"
    },
    "papermill": {
     "duration": 0.042908,
     "end_time": "2023-03-15T23:28:44.663214",
     "exception": false,
     "start_time": "2023-03-15T23:28:44.620306",
     "status": "completed"
    },
    "tags": []
   },
   "outputs": [
    {
     "data": {
      "text/html": [
       "<div>                            <div id=\"8504b138-ceaf-40d0-a38b-b65fdb96c4d9\" class=\"plotly-graph-div\" style=\"height:525px; width:100%;\"></div>            <script type=\"text/javascript\">                require([\"plotly\"], function(Plotly) {                    window.PLOTLYENV=window.PLOTLYENV || {};                                    if (document.getElementById(\"8504b138-ceaf-40d0-a38b-b65fdb96c4d9\")) {                    Plotly.newPlot(                        \"8504b138-ceaf-40d0-a38b-b65fdb96c4d9\",                        [{\"showlegend\":false,\"x\":[1960,1970,1980,1990,2000,2010,2020],\"y\":[444,708,882,1458,3297,57249,260],\"type\":\"bar\"},{\"mode\":\"markers+lines\",\"name\":\"trend\",\"showlegend\":false,\"x\":[1960,1970,1980,1990,2000,2010,2020],\"y\":[444,708,882,1458,3297,57249,260],\"type\":\"scatter\"}],                        {\"template\":{\"data\":{\"histogram2dcontour\":[{\"type\":\"histogram2dcontour\",\"colorbar\":{\"outlinewidth\":0,\"ticks\":\"\"},\"colorscale\":[[0.0,\"#0d0887\"],[0.1111111111111111,\"#46039f\"],[0.2222222222222222,\"#7201a8\"],[0.3333333333333333,\"#9c179e\"],[0.4444444444444444,\"#bd3786\"],[0.5555555555555556,\"#d8576b\"],[0.6666666666666666,\"#ed7953\"],[0.7777777777777778,\"#fb9f3a\"],[0.8888888888888888,\"#fdca26\"],[1.0,\"#f0f921\"]]}],\"choropleth\":[{\"type\":\"choropleth\",\"colorbar\":{\"outlinewidth\":0,\"ticks\":\"\"}}],\"histogram2d\":[{\"type\":\"histogram2d\",\"colorbar\":{\"outlinewidth\":0,\"ticks\":\"\"},\"colorscale\":[[0.0,\"#0d0887\"],[0.1111111111111111,\"#46039f\"],[0.2222222222222222,\"#7201a8\"],[0.3333333333333333,\"#9c179e\"],[0.4444444444444444,\"#bd3786\"],[0.5555555555555556,\"#d8576b\"],[0.6666666666666666,\"#ed7953\"],[0.7777777777777778,\"#fb9f3a\"],[0.8888888888888888,\"#fdca26\"],[1.0,\"#f0f921\"]]}],\"heatmap\":[{\"type\":\"heatmap\",\"colorbar\":{\"outlinewidth\":0,\"ticks\":\"\"},\"colorscale\":[[0.0,\"#0d0887\"],[0.1111111111111111,\"#46039f\"],[0.2222222222222222,\"#7201a8\"],[0.3333333333333333,\"#9c179e\"],[0.4444444444444444,\"#bd3786\"],[0.5555555555555556,\"#d8576b\"],[0.6666666666666666,\"#ed7953\"],[0.7777777777777778,\"#fb9f3a\"],[0.8888888888888888,\"#fdca26\"],[1.0,\"#f0f921\"]]}],\"heatmapgl\":[{\"type\":\"heatmapgl\",\"colorbar\":{\"outlinewidth\":0,\"ticks\":\"\"},\"colorscale\":[[0.0,\"#0d0887\"],[0.1111111111111111,\"#46039f\"],[0.2222222222222222,\"#7201a8\"],[0.3333333333333333,\"#9c179e\"],[0.4444444444444444,\"#bd3786\"],[0.5555555555555556,\"#d8576b\"],[0.6666666666666666,\"#ed7953\"],[0.7777777777777778,\"#fb9f3a\"],[0.8888888888888888,\"#fdca26\"],[1.0,\"#f0f921\"]]}],\"contourcarpet\":[{\"type\":\"contourcarpet\",\"colorbar\":{\"outlinewidth\":0,\"ticks\":\"\"}}],\"contour\":[{\"type\":\"contour\",\"colorbar\":{\"outlinewidth\":0,\"ticks\":\"\"},\"colorscale\":[[0.0,\"#0d0887\"],[0.1111111111111111,\"#46039f\"],[0.2222222222222222,\"#7201a8\"],[0.3333333333333333,\"#9c179e\"],[0.4444444444444444,\"#bd3786\"],[0.5555555555555556,\"#d8576b\"],[0.6666666666666666,\"#ed7953\"],[0.7777777777777778,\"#fb9f3a\"],[0.8888888888888888,\"#fdca26\"],[1.0,\"#f0f921\"]]}],\"surface\":[{\"type\":\"surface\",\"colorbar\":{\"outlinewidth\":0,\"ticks\":\"\"},\"colorscale\":[[0.0,\"#0d0887\"],[0.1111111111111111,\"#46039f\"],[0.2222222222222222,\"#7201a8\"],[0.3333333333333333,\"#9c179e\"],[0.4444444444444444,\"#bd3786\"],[0.5555555555555556,\"#d8576b\"],[0.6666666666666666,\"#ed7953\"],[0.7777777777777778,\"#fb9f3a\"],[0.8888888888888888,\"#fdca26\"],[1.0,\"#f0f921\"]]}],\"mesh3d\":[{\"type\":\"mesh3d\",\"colorbar\":{\"outlinewidth\":0,\"ticks\":\"\"}}],\"scatter\":[{\"fillpattern\":{\"fillmode\":\"overlay\",\"size\":10,\"solidity\":0.2},\"type\":\"scatter\"}],\"parcoords\":[{\"type\":\"parcoords\",\"line\":{\"colorbar\":{\"outlinewidth\":0,\"ticks\":\"\"}}}],\"scatterpolargl\":[{\"type\":\"scatterpolargl\",\"marker\":{\"colorbar\":{\"outlinewidth\":0,\"ticks\":\"\"}}}],\"bar\":[{\"error_x\":{\"color\":\"#2a3f5f\"},\"error_y\":{\"color\":\"#2a3f5f\"},\"marker\":{\"line\":{\"color\":\"white\",\"width\":0.5},\"pattern\":{\"fillmode\":\"overlay\",\"size\":10,\"solidity\":0.2}},\"type\":\"bar\"}],\"scattergeo\":[{\"type\":\"scattergeo\",\"marker\":{\"colorbar\":{\"outlinewidth\":0,\"ticks\":\"\"}}}],\"scatterpolar\":[{\"type\":\"scatterpolar\",\"marker\":{\"colorbar\":{\"outlinewidth\":0,\"ticks\":\"\"}}}],\"histogram\":[{\"marker\":{\"pattern\":{\"fillmode\":\"overlay\",\"size\":10,\"solidity\":0.2}},\"type\":\"histogram\"}],\"scattergl\":[{\"type\":\"scattergl\",\"marker\":{\"colorbar\":{\"outlinewidth\":0,\"ticks\":\"\"}}}],\"scatter3d\":[{\"type\":\"scatter3d\",\"line\":{\"colorbar\":{\"outlinewidth\":0,\"ticks\":\"\"}},\"marker\":{\"colorbar\":{\"outlinewidth\":0,\"ticks\":\"\"}}}],\"scattermapbox\":[{\"type\":\"scattermapbox\",\"marker\":{\"colorbar\":{\"outlinewidth\":0,\"ticks\":\"\"}}}],\"scatterternary\":[{\"type\":\"scatterternary\",\"marker\":{\"colorbar\":{\"outlinewidth\":0,\"ticks\":\"\"}}}],\"scattercarpet\":[{\"type\":\"scattercarpet\",\"marker\":{\"colorbar\":{\"outlinewidth\":0,\"ticks\":\"\"}}}],\"carpet\":[{\"aaxis\":{\"endlinecolor\":\"#2a3f5f\",\"gridcolor\":\"#C8D4E3\",\"linecolor\":\"#C8D4E3\",\"minorgridcolor\":\"#C8D4E3\",\"startlinecolor\":\"#2a3f5f\"},\"baxis\":{\"endlinecolor\":\"#2a3f5f\",\"gridcolor\":\"#C8D4E3\",\"linecolor\":\"#C8D4E3\",\"minorgridcolor\":\"#C8D4E3\",\"startlinecolor\":\"#2a3f5f\"},\"type\":\"carpet\"}],\"table\":[{\"cells\":{\"fill\":{\"color\":\"#EBF0F8\"},\"line\":{\"color\":\"white\"}},\"header\":{\"fill\":{\"color\":\"#C8D4E3\"},\"line\":{\"color\":\"white\"}},\"type\":\"table\"}],\"barpolar\":[{\"marker\":{\"line\":{\"color\":\"white\",\"width\":0.5},\"pattern\":{\"fillmode\":\"overlay\",\"size\":10,\"solidity\":0.2}},\"type\":\"barpolar\"}],\"pie\":[{\"automargin\":true,\"type\":\"pie\"}]},\"layout\":{\"autotypenumbers\":\"strict\",\"colorway\":[\"#636efa\",\"#EF553B\",\"#00cc96\",\"#ab63fa\",\"#FFA15A\",\"#19d3f3\",\"#FF6692\",\"#B6E880\",\"#FF97FF\",\"#FECB52\"],\"font\":{\"color\":\"#2a3f5f\"},\"hovermode\":\"closest\",\"hoverlabel\":{\"align\":\"left\"},\"paper_bgcolor\":\"white\",\"plot_bgcolor\":\"white\",\"polar\":{\"bgcolor\":\"white\",\"angularaxis\":{\"gridcolor\":\"#EBF0F8\",\"linecolor\":\"#EBF0F8\",\"ticks\":\"\"},\"radialaxis\":{\"gridcolor\":\"#EBF0F8\",\"linecolor\":\"#EBF0F8\",\"ticks\":\"\"}},\"ternary\":{\"bgcolor\":\"white\",\"aaxis\":{\"gridcolor\":\"#DFE8F3\",\"linecolor\":\"#A2B1C6\",\"ticks\":\"\"},\"baxis\":{\"gridcolor\":\"#DFE8F3\",\"linecolor\":\"#A2B1C6\",\"ticks\":\"\"},\"caxis\":{\"gridcolor\":\"#DFE8F3\",\"linecolor\":\"#A2B1C6\",\"ticks\":\"\"}},\"coloraxis\":{\"colorbar\":{\"outlinewidth\":0,\"ticks\":\"\"}},\"colorscale\":{\"sequential\":[[0.0,\"#0d0887\"],[0.1111111111111111,\"#46039f\"],[0.2222222222222222,\"#7201a8\"],[0.3333333333333333,\"#9c179e\"],[0.4444444444444444,\"#bd3786\"],[0.5555555555555556,\"#d8576b\"],[0.6666666666666666,\"#ed7953\"],[0.7777777777777778,\"#fb9f3a\"],[0.8888888888888888,\"#fdca26\"],[1.0,\"#f0f921\"]],\"sequentialminus\":[[0.0,\"#0d0887\"],[0.1111111111111111,\"#46039f\"],[0.2222222222222222,\"#7201a8\"],[0.3333333333333333,\"#9c179e\"],[0.4444444444444444,\"#bd3786\"],[0.5555555555555556,\"#d8576b\"],[0.6666666666666666,\"#ed7953\"],[0.7777777777777778,\"#fb9f3a\"],[0.8888888888888888,\"#fdca26\"],[1.0,\"#f0f921\"]],\"diverging\":[[0,\"#8e0152\"],[0.1,\"#c51b7d\"],[0.2,\"#de77ae\"],[0.3,\"#f1b6da\"],[0.4,\"#fde0ef\"],[0.5,\"#f7f7f7\"],[0.6,\"#e6f5d0\"],[0.7,\"#b8e186\"],[0.8,\"#7fbc41\"],[0.9,\"#4d9221\"],[1,\"#276419\"]]},\"xaxis\":{\"gridcolor\":\"#EBF0F8\",\"linecolor\":\"#EBF0F8\",\"ticks\":\"\",\"title\":{\"standoff\":15},\"zerolinecolor\":\"#EBF0F8\",\"automargin\":true,\"zerolinewidth\":2},\"yaxis\":{\"gridcolor\":\"#EBF0F8\",\"linecolor\":\"#EBF0F8\",\"ticks\":\"\",\"title\":{\"standoff\":15},\"zerolinecolor\":\"#EBF0F8\",\"automargin\":true,\"zerolinewidth\":2},\"scene\":{\"xaxis\":{\"backgroundcolor\":\"white\",\"gridcolor\":\"#DFE8F3\",\"linecolor\":\"#EBF0F8\",\"showbackground\":true,\"ticks\":\"\",\"zerolinecolor\":\"#EBF0F8\",\"gridwidth\":2},\"yaxis\":{\"backgroundcolor\":\"white\",\"gridcolor\":\"#DFE8F3\",\"linecolor\":\"#EBF0F8\",\"showbackground\":true,\"ticks\":\"\",\"zerolinecolor\":\"#EBF0F8\",\"gridwidth\":2},\"zaxis\":{\"backgroundcolor\":\"white\",\"gridcolor\":\"#DFE8F3\",\"linecolor\":\"#EBF0F8\",\"showbackground\":true,\"ticks\":\"\",\"zerolinecolor\":\"#EBF0F8\",\"gridwidth\":2}},\"shapedefaults\":{\"line\":{\"color\":\"#2a3f5f\"}},\"annotationdefaults\":{\"arrowcolor\":\"#2a3f5f\",\"arrowhead\":0,\"arrowwidth\":1},\"geo\":{\"bgcolor\":\"white\",\"landcolor\":\"white\",\"subunitcolor\":\"#C8D4E3\",\"showland\":true,\"showlakes\":true,\"lakecolor\":\"white\"},\"title\":{\"x\":0.05},\"mapbox\":{\"style\":\"light\"}}},\"title\":{\"text\":\"Music release over years\"},\"xaxis\":{\"title\":{\"text\":\"decade\"}},\"yaxis\":{\"title\":{\"text\":\"release\"}}},                        {\"responsive\": true}                    ).then(function(){\n",
       "                            \n",
       "var gd = document.getElementById('8504b138-ceaf-40d0-a38b-b65fdb96c4d9');\n",
       "var x = new MutationObserver(function (mutations, observer) {{\n",
       "        var display = window.getComputedStyle(gd).display;\n",
       "        if (!display || display === 'none') {{\n",
       "            console.log([gd, 'removed!']);\n",
       "            Plotly.purge(gd);\n",
       "            observer.disconnect();\n",
       "        }}\n",
       "}});\n",
       "\n",
       "// Listen for the removal of the full notebook cells\n",
       "var notebookContainer = gd.closest('#notebook-container');\n",
       "if (notebookContainer) {{\n",
       "    x.observe(notebookContainer, {childList: true});\n",
       "}}\n",
       "\n",
       "// Listen for the clearing of the current output cell\n",
       "var outputEl = gd.closest('.output');\n",
       "if (outputEl) {{\n",
       "    x.observe(outputEl, {childList: true});\n",
       "}}\n",
       "\n",
       "                        })                };                });            </script>        </div>"
      ]
     },
     "metadata": {},
     "output_type": "display_data"
    }
   ],
   "source": [
    "# check the distribution of the sample\n",
    "barplot_by_decade(sdf)"
   ]
  },
  {
   "cell_type": "code",
   "execution_count": 32,
   "id": "9bf144d5",
   "metadata": {
    "execution": {
     "iopub.execute_input": "2023-03-15T23:28:44.712986Z",
     "iopub.status.busy": "2023-03-15T23:28:44.712607Z",
     "iopub.status.idle": "2023-03-15T23:28:44.718400Z",
     "shell.execute_reply": "2023-03-15T23:28:44.717430Z"
    },
    "papermill": {
     "duration": 0.033835,
     "end_time": "2023-03-15T23:28:44.720980",
     "exception": false,
     "start_time": "2023-03-15T23:28:44.687145",
     "status": "completed"
    },
    "tags": []
   },
   "outputs": [],
   "source": [
    "# default preprocessing\n",
    "def preprocess(text, nlp = new_nlp):\n",
    "\n",
    "    #TOKENISATION\n",
    "    tokens =[]\n",
    "    for token in nlp(text):\n",
    "        tokens.append(token)\n",
    "\n",
    "    #REMOVING STOP WORDS\n",
    "    spacy_stopwords = new_nlp.Defaults.stop_words\n",
    "    sentence =  [word for word in tokens if word.text.isalpha() and word.text not in spacy_stopwords]\n",
    "\n",
    "    #LEMMATISATION\n",
    "    sentence = [word.lemma_ for word in sentence]\n",
    "\n",
    "    return sentence"
   ]
  },
  {
   "cell_type": "markdown",
   "id": "9c2a0d81",
   "metadata": {
    "papermill": {
     "duration": 0.024804,
     "end_time": "2023-03-15T23:28:44.769498",
     "exception": false,
     "start_time": "2023-03-15T23:28:44.744694",
     "status": "completed"
    },
    "tags": []
   },
   "source": [
    "### Vizualise most frequent words over decades"
   ]
  },
  {
   "cell_type": "code",
   "execution_count": 33,
   "id": "ae305e74",
   "metadata": {
    "execution": {
     "iopub.execute_input": "2023-03-15T23:28:44.819080Z",
     "iopub.status.busy": "2023-03-15T23:28:44.818677Z",
     "iopub.status.idle": "2023-03-15T23:28:44.891154Z",
     "shell.execute_reply": "2023-03-15T23:28:44.890078Z"
    },
    "papermill": {
     "duration": 0.10062,
     "end_time": "2023-03-15T23:28:44.893752",
     "exception": false,
     "start_time": "2023-03-15T23:28:44.793132",
     "status": "completed"
    },
    "tags": []
   },
   "outputs": [],
   "source": [
    "from tqdm import tqdm\n",
    "from sklearn.feature_extraction.text import CountVectorizer\n",
    "\n",
    "class TermsDocumentsMatrix():\n",
    "    \n",
    "    def __init__(self, sdf, decades=[1960, 1970], colorscale = 'Plotly3'):\n",
    "        # vectorizer on the sample lyrics\n",
    "        self.__vectorizer = CountVectorizer(tokenizer = preprocess)\n",
    "        # fit and transform the data\n",
    "        self.__data_vectorized = self.__vectorizer.fit_transform(\n",
    "            tqdm(sdf['lyrics'].loc[sdf['decade'].isin(decades)])\n",
    "        )\n",
    "        # get decades informations\n",
    "        self.__decades = sdf['decade'].loc[sdf['decade'].isin(decades)].reset_index(drop=True)\n",
    "        self.__unique_decades = decades\n",
    "        # get colorscale template\n",
    "        self.__colorscale = colorscale\n",
    "    \n",
    "    def get_tdmatrix(self):\n",
    "        \n",
    "        # compute a Matrix terms document by decades\n",
    "        df_bw = pd.DataFrame(self.__data_vectorized.toarray(),\n",
    "                    columns = self.__vectorizer.get_feature_names_out())\n",
    "        \n",
    "        # check the length\n",
    "        if len(df_bw) != len(self.__decades):\n",
    "            raise Exception('Not the same size')\n",
    "        \n",
    "        # concatenate decade\n",
    "        df_bw['decade'] = self.__decades\n",
    "        \n",
    "        # check NaN values\n",
    "        if len(df_bw.columns[df_bw.isna().any()].tolist()) != 0:\n",
    "            raise Exception('Decade got Nan values')\n",
    "\n",
    "        return df_bw\n",
    "    \n",
    "    def get_tdm_by_decade(self, decade):\n",
    "        \n",
    "        if decade not in self.__unique_decades:\n",
    "            raise Exception(\"{} doesn't appear in the decades list\".format(decade))\n",
    "        \n",
    "        # compute a Matrix terms document by decades (bag of words format)\n",
    "        df_bw = pd.DataFrame(self.__data_vectorized.toarray(),\n",
    "                    columns = self.__vectorizer.get_feature_names_out())\n",
    "        \n",
    "        # check the length\n",
    "        if len(df_bw) != len(self.__decades):\n",
    "            raise Exception('Not the same size')\n",
    "        \n",
    "        # concatenate decade\n",
    "        df_bw['decade'] = self.__decades\n",
    "        \n",
    "        # check NaN values\n",
    "        if len(df_bw.columns[df_bw.isna().any()].tolist()) != 0:\n",
    "            raise Exception('Decade got Nan values')\n",
    "        \n",
    "        # select suitable decade\n",
    "        df_bw = df_bw[df_bw['decade'] == decade]\n",
    "        \n",
    "        return df_bw\n",
    "    \n",
    "    def most_freq_terms(self, n_rows = 1, n_cols = 2, n_terms = 10):\n",
    "        \n",
    "        # create the document terms matrix\n",
    "        df_bw = self.get_tdmatrix()\n",
    "        \n",
    "        # create en make subplot\n",
    "        fig = make_subplots(rows=n_rows, cols=n_cols,\n",
    "                            x_title = 'number of occurrences',\n",
    "                            y_title = 'terms',\n",
    "                            subplot_titles = self.__unique_decades)\n",
    "        \n",
    "        for i in range(0,n_rows):\n",
    "            for k in range(0,n_cols):\n",
    "                if (i*n_rows + k) == len(self.__unique_decades):\n",
    "                    break\n",
    "                \n",
    "                # get the decade\n",
    "                decade = self.__unique_decades[i*n_rows + k]\n",
    "            \n",
    "                #select the suitable decade and delete decade column\n",
    "                df_decade = df_bw.loc[df_bw.decade == decade, df_bw.columns != 'decade']\n",
    "                \n",
    "                # compute terms frequencies by decade\n",
    "                terms_freq = df_decade.sum().sort_values(ascending = False)\n",
    "            \n",
    "                # total number of terms occurences\n",
    "                total_terms = terms_freq.values\n",
    "                \n",
    "                # add figure\n",
    "                fig.add_trace(go.Bar(y=terms_freq.index.tolist()[:n_terms][::-1],\n",
    "                                     x=total_terms[:n_terms][::-1],\n",
    "                                     name=decade,\n",
    "                                     orientation='h', showlegend = False,\n",
    "                                    marker = dict(color = total_terms,\n",
    "                                                  colorscale=self.__colorscale)),\n",
    "                              i+1, k+1)\n",
    "        return fig"
   ]
  },
  {
   "cell_type": "code",
   "execution_count": 34,
   "id": "d1f77a52",
   "metadata": {
    "execution": {
     "iopub.execute_input": "2023-03-15T23:28:44.943620Z",
     "iopub.status.busy": "2023-03-15T23:28:44.943185Z",
     "iopub.status.idle": "2023-03-15T23:29:24.907612Z",
     "shell.execute_reply": "2023-03-15T23:29:24.906378Z"
    },
    "papermill": {
     "duration": 39.992292,
     "end_time": "2023-03-15T23:29:24.909834",
     "exception": false,
     "start_time": "2023-03-15T23:28:44.917542",
     "status": "completed"
    },
    "tags": []
   },
   "outputs": [
    {
     "name": "stderr",
     "output_type": "stream",
     "text": [
      "100%|██████████| 1152/1152 [00:39<00:00, 28.98it/s]\n"
     ]
    },
    {
     "data": {
      "text/html": [
       "<div>                            <div id=\"bbb0dbe2-ae64-42d0-8287-1b77ad6127e2\" class=\"plotly-graph-div\" style=\"height:525px; width:100%;\"></div>            <script type=\"text/javascript\">                require([\"plotly\"], function(Plotly) {                    window.PLOTLYENV=window.PLOTLYENV || {};                                    if (document.getElementById(\"bbb0dbe2-ae64-42d0-8287-1b77ad6127e2\")) {                    Plotly.newPlot(                        \"bbb0dbe2-ae64-42d0-8287-1b77ad6127e2\",                        [{\"marker\":{\"color\":[1098,630,603,555,537,393,391,359,319,309,296,294,292,291,270,268,250,228,227,221,215,214,205,205,182,181,175,169,164,162,158,155,151,151,149,148,145,144,143,142,142,136,133,130,126,125,122,113,112,110,109,109,108,107,107,105,104,104,101,101,99,96,94,90,86,86,85,84,82,82,81,80,79,79,78,78,77,76,75,75,74,74,74,74,73,71,71,70,70,70,70,66,66,66,66,66,65,65,63,62,61,61,60,60,59,59,58,57,57,56,56,56,55,55,54,54,51,50,50,50,50,49,49,48,48,47,47,47,46,46,46,45,45,45,45,44,44,44,44,44,44,44,44,44,43,43,43,43,43,43,42,42,42,41,41,41,41,41,41,40,40,40,40,39,39,38,38,38,38,38,38,37,37,37,37,37,37,37,37,36,36,36,36,36,36,35,35,35,35,35,35,35,35,34,34,34,34,34,33,33,33,33,32,32,32,32,32,32,31,31,31,31,31,31,31,31,31,31,31,31,31,31,31,31,31,31,31,30,30,30,30,30,30,30,29,29,29,29,29,29,29,29,29,29,29,29,28,28,28,28,27,27,27,27,27,27,27,27,27,27,27,27,26,26,26,26,26,26,26,26,26,26,25,25,25,25,25,25,25,25,25,25,25,25,25,25,25,24,24,24,24,24,24,24,24,24,24,24,24,24,23,23,23,23,23,23,23,23,23,23,23,23,23,23,23,23,23,22,22,22,22,22,22,22,22,22,22,22,22,22,22,22,21,21,21,21,21,21,21,21,21,21,21,21,21,21,21,21,21,21,20,20,20,20,20,20,20,20,20,20,20,20,20,20,20,19,19,19,19,19,19,19,19,19,19,19,19,19,19,19,19,19,19,19,19,19,19,18,18,18,18,18,18,18,18,18,18,18,18,18,17,17,17,17,17,17,17,17,17,17,17,17,17,17,16,16,16,16,16,16,16,16,16,16,16,16,16,16,16,16,16,16,16,16,16,16,16,16,16,16,16,16,16,16,16,16,16,16,16,16,16,15,15,15,15,15,15,15,15,15,15,15,15,15,15,15,15,15,15,15,15,15,15,15,15,15,15,15,15,15,15,15,15,14,14,14,14,14,14,14,14,14,14,14,14,14,14,14,14,14,14,14,14,14,14,14,14,14,13,13,13,13,13,13,13,13,13,13,13,13,13,13,13,13,13,13,13,13,13,13,13,13,13,13,13,13,12,12,12,12,12,12,12,12,12,12,12,12,12,12,12,12,12,12,12,12,12,12,12,12,12,12,12,12,12,12,12,12,12,12,12,12,12,12,12,12,12,12,12,12,12,12,11,11,11,11,11,11,11,11,11,11,11,11,11,11,11,11,11,11,11,11,11,11,11,11,11,11,11,11,11,11,11,11,11,11,11,11,11,11,11,11,11,11,11,11,10,10,10,10,10,10,10,10,10,10,10,10,10,10,10,10,10,10,10,10,10,10,10,10,10,10,10,10,10,10,10,10,10,10,10,10,10,10,10,10,10,10,10,10,10,10,10,9,9,9,9,9,9,9,9,9,9,9,9,9,9,9,9,9,9,9,9,9,9,9,9,9,9,9,9,9,9,9,9,9,9,9,9,9,9,9,9,9,9,9,9,9,9,9,9,9,9,8,8,8,8,8,8,8,8,8,8,8,8,8,8,8,8,8,8,8,8,8,8,8,8,8,8,8,8,8,8,8,8,8,8,8,8,8,8,8,8,8,8,8,8,8,8,8,8,8,8,8,8,8,8,8,8,8,8,8,8,8,8,8,8,8,8,8,8,8,8,8,8,8,8,8,8,8,8,8,8,8,7,7,7,7,7,7,7,7,7,7,7,7,7,7,7,7,7,7,7,7,7,7,7,7,7,7,7,7,7,7,7,7,7,7,7,7,7,7,7,7,7,7,7,7,7,7,7,7,7,7,7,7,7,7,7,7,7,7,7,7,7,7,7,7,7,7,7,7,7,7,7,7,7,7,7,7,7,7,7,7,7,7,7,7,7,7,7,7,7,7,7,6,6,6,6,6,6,6,6,6,6,6,6,6,6,6,6,6,6,6,6,6,6,6,6,6,6,6,6,6,6,6,6,6,6,6,6,6,6,6,6,6,6,6,6,6,6,6,6,6,6,6,6,6,6,6,6,6,6,6,6,6,6,6,6,6,6,6,6,6,6,6,6,6,6,6,6,6,6,6,6,6,6,6,6,6,6,6,6,6,6,6,6,6,6,6,6,6,6,6,6,6,5,5,5,5,5,5,5,5,5,5,5,5,5,5,5,5,5,5,5,5,5,5,5,5,5,5,5,5,5,5,5,5,5,5,5,5,5,5,5,5,5,5,5,5,5,5,5,5,5,5,5,5,5,5,5,5,5,5,5,5,5,5,5,5,5,5,5,5,5,5,5,5,5,5,5,5,5,5,5,5,5,5,5,5,5,5,5,5,5,5,5,5,5,5,5,5,5,5,5,5,5,5,5,5,5,5,5,5,5,5,5,5,5,5,5,5,5,5,5,5,5,5,5,5,5,5,5,5,5,5,5,5,5,5,5,5,5,5,5,5,5,5,5,5,5,5,5,5,5,5,5,5,5,4,4,4,4,4,4,4,4,4,4,4,4,4,4,4,4,4,4,4,4,4,4,4,4,4,4,4,4,4,4,4,4,4,4,4,4,4,4,4,4,4,4,4,4,4,4,4,4,4,4,4,4,4,4,4,4,4,4,4,4,4,4,4,4,4,4,4,4,4,4,4,4,4,4,4,4,4,4,4,4,4,4,4,4,4,4,4,4,4,4,4,4,4,4,4,4,4,4,4,4,4,4,4,4,4,4,4,4,4,4,4,4,4,4,4,4,4,4,4,4,4,4,4,4,4,4,4,4,4,4,4,4,4,4,4,4,4,4,4,4,4,4,4,4,4,4,4,4,4,4,4,4,4,4,4,4,4,4,4,4,4,4,4,4,4,4,4,4,4,4,4,4,4,4,4,4,4,4,4,4,4,4,4,4,4,4,4,4,4,4,4,4,4,4,4,4,4,4,4,4,4,4,4,4,4,4,4,4,4,4,4,4,4,4,4,4,4,4,4,4,4,4,4,4,4,4,4,4,4,4,4,4,4,4,4,4,4,4,4,4,4,4,4,4,4,4,4,4,4,4,4,4,4,4,4,4,4,4,4,4,4,3,3,3,3,3,3,3,3,3,3,3,3,3,3,3,3,3,3,3,3,3,3,3,3,3,3,3,3,3,3,3,3,3,3,3,3,3,3,3,3,3,3,3,3,3,3,3,3,3,3,3,3,3,3,3,3,3,3,3,3,3,3,3,3,3,3,3,3,3,3,3,3,3,3,3,3,3,3,3,3,3,3,3,3,3,3,3,3,3,3,3,3,3,3,3,3,3,3,3,3,3,3,3,3,3,3,3,3,3,3,3,3,3,3,3,3,3,3,3,3,3,3,3,3,3,3,3,3,3,3,3,3,3,3,3,3,3,3,3,3,3,3,3,3,3,3,3,3,3,3,3,3,3,3,3,3,3,3,3,3,3,3,3,3,3,3,3,3,3,3,3,3,3,3,3,3,3,3,3,3,3,3,3,3,3,3,3,3,3,3,3,3,3,3,3,3,3,3,3,3,3,3,3,3,3,3,3,3,3,3,3,3,3,3,3,3,3,3,3,3,3,3,3,3,3,3,3,3,3,3,3,3,3,3,3,3,3,3,3,3,3,3,3,3,3,3,3,3,3,3,3,3,3,3,3,3,3,3,3,3,3,3,3,3,3,3,3,3,3,3,3,3,3,3,3,3,3,3,3,3,3,3,3,3,3,3,3,3,3,3,3,3,3,3,3,3,3,3,3,3,3,3,3,3,3,3,3,3,3,3,3,3,3,3,3,3,3,3,3,3,3,3,3,3,3,3,3,3,3,3,3,3,3,3,3,3,3,3,3,3,3,3,3,3,3,3,3,3,3,3,3,3,3,3,3,3,3,3,3,3,3,3,3,3,3,3,3,3,3,3,3,3,3,3,3,3,3,3,3,3,3,3,3,3,3,3,3,3,3,3,3,2,2,2,2,2,2,2,2,2,2,2,2,2,2,2,2,2,2,2,2,2,2,2,2,2,2,2,2,2,2,2,2,2,2,2,2,2,2,2,2,2,2,2,2,2,2,2,2,2,2,2,2,2,2,2,2,2,2,2,2,2,2,2,2,2,2,2,2,2,2,2,2,2,2,2,2,2,2,2,2,2,2,2,2,2,2,2,2,2,2,2,2,2,2,2,2,2,2,2,2,2,2,2,2,2,2,2,2,2,2,2,2,2,2,2,2,2,2,2,2,2,2,2,2,2,2,2,2,2,2,2,2,2,2,2,2,2,2,2,2,2,2,2,2,2,2,2,2,2,2,2,2,2,2,2,2,2,2,2,2,2,2,2,2,2,2,2,2,2,2,2,2,2,2,2,2,2,2,2,2,2,2,2,2,2,2,2,2,2,2,2,2,2,2,2,2,2,2,2,2,2,2,2,2,2,2,2,2,2,2,2,2,2,2,2,2,2,2,2,2,2,2,2,2,2,2,2,2,2,2,2,2,2,2,2,2,2,2,2,2,2,2,2,2,2,2,2,2,2,2,2,2,2,2,2,2,2,2,2,2,2,2,2,2,2,2,2,2,2,2,2,2,2,2,2,2,2,2,2,2,2,2,2,2,2,2,2,2,2,2,2,2,2,2,2,2,2,2,2,2,2,2,2,2,2,2,2,2,2,2,2,2,2,2,2,2,2,2,2,2,2,2,2,2,2,2,2,2,2,2,2,2,2,2,2,2,2,2,2,2,2,2,2,2,2,2,2,2,2,2,2,2,2,2,2,2,2,2,2,2,2,2,2,2,2,2,2,2,2,2,2,2,2,2,2,2,2,2,2,2,2,2,2,2,2,2,2,2,2,2,2,2,2,2,2,2,2,2,2,2,2,2,2,2,2,2,2,2,2,2,2,2,2,2,2,2,2,2,2,2,2,2,2,2,2,2,2,2,2,2,2,2,2,2,2,2,2,2,2,2,2,2,2,2,2,2,2,2,2,2,2,2,2,2,2,2,2,2,2,2,2,2,2,2,2,2,2,2,2,2,2,2,2,2,2,2,2,2,2,2,2,2,2,2,2,2,2,2,2,2,2,2,2,2,2,2,2,2,2,2,2,2,2,2,2,2,2,2,2,2,2,2,2,2,2,2,2,2,2,2,2,2,2,2,2,2,2,2,2,2,2,2,2,2,2,2,2,2,2,2,2,2,2,2,2,2,2,2,2,2,2,2,2,2,2,2,2,2,2,2,2,2,2,2,2,2,2,2,2,2,2,2,2,2,2,2,2,2,2,2,2,2,2,2,2,2,2,2,2,2,2,2,2,2,2,2,2,2,2,2,2,2,2,2,2,2,2,2,2,2,2,2,2,2,2,2,2,2,2,2,2,2,2,2,2,2,2,2,2,2,2,2,2,2,2,2,2,2,2,2,2,2,2,2,2,2,2,2,2,2,2,2,2,2,2,2,2,2,2,2,2,2,2,2,2,2,2,2,2,2,2,2,2,2,2,2,2,2,2,2,2,2,2,2,2,2,2,2,2,2,2,2,2,2,2,2,2,2,2,2,2,2,2,2,2,2,2,2,2,2,2,2,2,2,2,2,2,2,2,2,2,2,2,2,2,2,2,2,2,2,2,2,2,2,2,2,2,2,2,2,2,2,2,2,2,2,2,2,2,2,2,2,2,2,2,2,2,2,2,2,2,2,2,2,2,2,2,1,1,1,1,1,1,1,1,1,1,1,1,1,1,1,1,1,1,1,1,1,1,1,1,1,1,1,1,1,1,1,1,1,1,1,1,1,1,1,1,1,1,1,1,1,1,1,1,1,1,1,1,1,1,1,1,1,1,1,1,1,1,1,1,1,1,1,1,1,1,1,1,1,1,1,1,1,1,1,1,1,1,1,1,1,1,1,1,1,1,1,1,1,1,1,1,1,1,1,1,1,1,1,1,1,1,1,1,1,1,1,1,1,1,1,1,1,1,1,1,1,1,1,1,1,1,1,1,1,1,1,1,1,1,1,1,1,1,1,1,1,1,1,1,1,1,1,1,1,1,1,1,1,1,1,1,1,1,1,1,1,1,1,1,1,1,1,1,1,1,1,1,1,1,1,1,1,1,1,1,1,1,1,1,1,1,1,1,1,1,1,1,1,1,1,1,1,1,1,1,1,1,1,1,1,1,1,1,1,1,1,1,1,1,1,1,1,1,1,1,1,1,1,1,1,1,1,1,1,1,1,1,1,1,1,1,1,1,1,1,1,1,1,1,1,1,1,1,1,1,1,1,1,1,1,1,1,1,1,1,1,1,1,1,1,1,1,1,1,1,1,1,1,1,1,1,1,1,1,1,1,1,1,1,1,1,1,1,1,1,1,1,1,1,1,1,1,1,1,1,1,1,1,1,1,1,1,1,1,1,1,1,1,1,1,1,1,1,1,1,1,1,1,1,1,1,1,1,1,1,1,1,1,1,1,1,1,1,1,1,1,1,1,1,1,1,1,1,1,1,1,1,1,1,1,1,1,1,1,1,1,1,1,1,1,1,1,1,1,1,1,1,1,1,1,1,1,1,1,1,1,1,1,1,1,1,1,1,1,1,1,1,1,1,1,1,1,1,1,1,1,1,1,1,1,1,1,1,1,1,1,1,1,1,1,1,1,1,1,1,1,1,1,1,1,1,1,1,1,1,1,1,1,1,1,1,1,1,1,1,1,1,1,1,1,1,1,1,1,1,1,1,1,1,1,1,1,1,1,1,1,1,1,1,1,1,1,1,1,1,1,1,1,1,1,1,1,1,1,1,1,1,1,1,1,1,1,1,1,1,1,1,1,1,1,1,1,1,1,1,1,1,1,1,1,1,1,1,1,1,1,1,1,1,1,1,1,1,1,1,1,1,1,1,1,1,1,1,1,1,1,1,1,1,1,1,1,1,1,1,1,1,1,1,1,1,1,1,1,1,1,1,1,1,1,1,1,1,1,1,1,1,1,1,1,1,1,1,1,1,1,1,1,1,1,1,1,1,1,1,1,1,1,1,1,1,1,1,1,1,1,1,1,1,1,1,1,1,1,1,1,1,1,1,1,1,1,1,1,1,1,1,1,1,1,1,1,1,1,1,1,1,1,1,1,1,1,1,1,1,1,1,1,1,1,1,1,1,1,1,1,1,1,1,1,1,1,1,1,1,1,1,1,1,1,1,1,1,1,1,1,1,1,1,1,1,1,1,1,1,1,1,1,1,1,1,1,1,1,1,1,1,1,1,1,1,1,1,1,1,1,1,1,1,1,1,1,1,1,1,1,1,1,1,1,1,1,1,1,1,1,1,1,1,1,1,1,1,1,1,1,1,1,1,1,1,1,1,1,1,1,1,1,1,1,1,1,1,1,1,1,1,1,1,1,1,1,1,1,1,1,1,1,1,1,1,1,1,1,1,1,1,1,1,1,1,1,1,1,1,1,1,1,1,1,1,1,1,1,1,1,1,1,1,1,1,1,1,1,1,1,1,1,1,1,1,1,1,1,1,1,1,1,1,1,1,1,1,1,1,1,1,1,1,1,1,1,1,1,1,1,1,1,1,1,1,1,1,1,1,1,1,1,1,1,1,1,1,1,1,1,1,1,1,1,1,1,1,1,1,1,1,1,1,1,1,1,1,1,1,1,1,1,1,1,1,1,1,1,1,1,1,1,1,1,1,1,1,1,1,1,1,1,1,1,1,1,1,1,1,1,1,1,1,1,1,1,1,1,1,1,1,1,1,1,1,1,1,1,1,1,1,1,1,1,1,1,1,1,1,1,1,1,1,1,1,1,1,1,1,1,1,1,1,1,1,1,1,1,1,1,1,1,1,1,1,1,1,1,1,1,1,1,1,1,1,1,1,1,1,1,1,1,1,1,1,1,1,1,1,1,1,1,1,1,1,1,1,1,1,1,1,1,1,1,1,1,1,1,1,1,1,1,1,1,1,1,1,1,1,1,1,1,1,1,1,1,1,1,1,1,1,1,1,1,1,1,1,1,1,1,1,1,1,1,1,1,1,1,1,1,1,1,1,1,1,1,1,1,1,1,1,1,1,1,1,1,1,1,1,1,1,1,1,1,1,1,1,1,1,1,1,1,1,1,1,1,1,1,1,1,1,1,1,1,1,1,1,1,1,1,1,1,1,1,1,1,1,1,1,1,1,1,1,1,1,1,1,1,1,1,1,1,1,1,1,1,1,1,1,1,1,1,1,1,1,1,1,1,1,1,1,1,1,1,1,1,1,1,1,1,1,1,1,1,1,1,1,1,1,1,1,1,1,1,1,1,1,1,1,1,1,1,1,1,1,1,1,1,1,1,1,1,1,1,1,1,1,1,1,1,1,1,1,1,1,1,1,1,1,1,1,1,1,1,1,1,1,1,1,1,1,1,1,1,1,1,1,1,1,1,1,1,1,1,1,1,1,1,1,1,1,1,1,1,1,1,1,1,1,1,1,1,1,1,1,1,1,1,1,1,1,1,1,1,1,1,1,1,1,1,1,1,1,1,1,1,1,1,1,1,1,1,1,1,1,1,1,1,1,1,1,1,1,1,1,1,1,1,1,1,1,1,1,1,1,1,1,1,1,1,1,1,1,1,1,1,1,1,1,1,1,1,1,1,1,1,1,1,1,1,1,1,1,1,1,1,1,1,1,1,1,1,1,1,1,1,1,1,1,1,1,1,1,1,1,1,1,1,1,1,1,1,1,1,1,1,1,1,1,1,1,1,1,1,1,1,1,1,1,1,1,1,1,1,1,1,1,1,1,1,1,1,1,1,1,1,1,1,1,1,1,1,1,1,1,1,1,1,1,1,1,1,1,1,1,1,1,1,1,1,1,1,1,1,1,1,1,1,1,1,1,1,1,1,1,1,1,1,1,1,1,1,1,1,1,1,1,1,1,1,1,1,1,1,1,1,1,1,1,1,1,1,1,1,1,1,1,1,1,1,1,1,1,1,1,1,1,1,1,1,1,1,1,1,1,1,1,1,1,1,1,1,1,1,1,1,1,1,1,1,1,1,1,1,1,1,1,1,1,1,1,1,1,1,1,1,1,1,1,1,1,1,1,1,1,1,1,1,1,1,1,1,1,1,1,1,1,1,1,1,1,1,1,1,1,1,1,1,1,1,1,1,1,1,1,1,1,1,1,1,1,1,1,1,1,1,1,1,1,1,1,1,1,1,1,1,1,1,1,1,1,1,1,1,1,1,1,1,1,1,1,1,1,1,1,1,1,1,1,1,1,1,1,1,1,1,1,1,1,1,1,1,1,1,1,1,1,1,1,1,1,1,1,1,1,1,1,1,1,1,1,1,1,1,1,1,1,1,1,1,1,1,1,1,1,1,1,1,1,1,1,1,1,1,1,1,1,1,1,1,1,1,1,1,1,1,1,1,1,1,1,1,1,1,1,1,1,1,1,1,1,1,1,1,1,1,1,1,1,1,1,1,1,1,1,1,1,1,1,1,1,1,1,1,1,1,1,1,1,1,1,1,1,1,1,1,1,1,1,1,1,1,1,1,1,1,1,1,1,1,1,1,1,1,1,1,1,1,1,1,1,1,1,1,1,1,1,1,1,1,1,1,1,1,1,1,1,1,1,1,1,1,1,1,1,1,1,1,1,1,1,1,1,1,1,1,1,1,1,1,1,1,1,1,1,1,1,1,1,1,1,1,1,1,1,1,1,1,1,1,1,1,1,1,1,1,1,1,1,1,1,1,1,1,1,1,1,1,1,1,1,1,1,1,1,1,1,1,1,1,1,1,1,1,1,1,1,1,1,1,1,1,1,1,1,1,1,1,1,1,1,1,1,1,1,1,1,1,1,1,1,1,1,1,1,1,1,1,1,1,1,1,1,1,1,1,1,1,1,1,1,1,1,1,1,1,1,1,1,1,1,1,1,1,1,1,1,1,1,1,1,1,1,1,1,1,1,1,1,1,1,1,1,1,1,1,1,1,1,1,1,1,1,1,1,1,1,1,1,1,1,1,1,1,1,1,1,1,1,1,1,1,1,1,1,1,1,1,1,1,1,1,1,1,1,1,1,1,1,1,1,1,1,1,1,1,1,1,1,1,1,1,1,1,1,1,1,1,1,1,1,1,1,1,1,1,1,1,1,1,1,1,1,1,1,1,1,1,1,1,1,1,1,1,1,1,1,1,1,1,1,1,1,1,1,1,1,1,1,1,1,1,1,1,1,1,1,1,1,1,1,1,1,1,1,1,1,1,1,1,1,1,1,1,1,1,1,1,1,1,1,1,1,1,1,1,1,1,1,1,1,1,1,1,1,1,1,1,1,1,1,1,1,1,1,1,1,1,1,1,1,1,1,1,1,1,1,1,1,1,1,1,1,1,1,1,1,1,1,1,1,1,1,1,1,1,1,1,1,1,1,1,1,1,1,1,1,1,1,1,1,1,1,1,1,1,1,1,1,1,1,1,1,1,1,1,1,1,1,1,1,1,1,1,1,1,1,1,1,1,1,1,1,1,1,1,1,1,1,1,1,1,1,1,1,1,1,1,1,1,1,1,1,1,1,1,1,1,1,1,1,1,1,1,1,1,1,1,1,1,1,1,1,1,1,1,1,1,1,1,1,1,1,1,1,1,1,1,1,1,1,1,1,1,1,1,1,1,1,1,1,1,1,1,1,1,1,1,1,1,1,1,1,1,1,1,1,1,1,1,1,1,1,1,1,1,1,1,1,1,1,1,1,1,1,1,1,1,1,1,1,1,1,1,1,1,1,1,1,1,1,1,1,1,1,1,1,1,1,1,1,1,1,1,1,1,1,1,1,1,1,1,1,1,1,1,1,1,1,1,1,1,1,1,1,1,1,1,1,1,1,1,1,1,1,1,1,1,1,1,1,1,1,1,1,1,1,1,1,1,1,1,1,1,1,1,1,1,1,1,1,1,1,1,1,1,1,1,1,1,1,1,1,1,1,1,1,1,1,1,1,1,1,1,1,1,1,1,1,1,1,1,1,1,1,1,1,1,1,1,1,1,1,1,1,1,1,1,1,1,1,1,1,1,1,1,1,1,1,1,1,1,1,1,1,1,1,1,1,1,1,1,1,1,1,1,1,1,1,1,1,1,1,1,1,1,1,1,1,1,1,1,1,1,1,1,1,1,1,1,1,1,1,1,1,1,1,1,1,1,1,1,1,1,1,1,1,1,1,1,1,1,1,1,1,1,1,1,1,1,1,1,1,1,1,1,1,1,1,1,1,1,1,1,1,1,1,1,1,1,1,1,1,1,1,1,1,1,1,1,1,1,1,1,1,1,1,1,1,1,1,1,1,1,1,1,1,1,1,1,1,1,1,1,1,1,1,1,1,1,1,1,1,1,1,1,1,1,1,1,1,1,1,1,1,1,1,1,1,1,1,1,1,1,1,1,1,1,1,1,1,1,1,1,1,1,1,1,1,1,1,1,1,1,1,1,1,1,1,1,1,1,1,1,1,1,1,1,1,1,1,1,1,1,1,1,1,1,1,1,1,1,1,1,1,1,1,1,1,1,1,1,1,1,1,1,1,1,1,1,1,1,1,1,1,1,1,1,1,1,1,1,1,1,1,1,1,1,1,1,1,1,1,1,1,1,1,1,1,1,1,1,1,1,1,1,1,1,1,1,1,1,1,1,1,1,1,1,1,1,1,1,1,1,1,1,1,1,1,1,1,1,1,1,1,1,1,1,1,1,1,1,1,1,1,1,1,1,1,1,1,1,1,1,1,1,1,1,1,1,1,1,1,1,1,1,1,1,1,1,1,1,1,1,1,1,1,1,1,1,1,1,1,1,1,1,1,1,1,1,1,1,1,1,1,1,1,1,1,0,0,0,0,0,0,0,0,0,0,0,0,0,0,0,0,0,0,0,0,0,0,0,0,0,0,0,0,0,0,0,0,0,0,0,0,0,0,0,0,0,0,0,0,0,0,0,0,0,0,0,0,0,0,0,0,0,0,0,0,0,0,0,0,0,0,0,0,0,0,0,0,0,0,0,0,0,0,0,0,0,0,0,0,0,0,0,0,0,0,0,0,0,0,0,0,0,0,0,0,0,0,0,0,0,0,0,0,0,0,0,0,0,0,0,0,0,0,0,0,0,0,0,0,0,0,0,0,0,0,0,0,0,0,0,0,0,0,0,0,0,0,0,0,0,0,0,0,0,0,0,0,0,0,0,0,0,0,0,0,0,0,0,0,0,0,0,0,0,0,0,0,0,0,0,0,0,0,0,0,0,0,0,0,0,0,0,0,0,0,0,0,0,0,0,0,0,0,0,0,0,0,0,0,0,0,0,0,0,0,0,0,0,0,0,0,0,0,0,0,0,0,0,0,0,0,0,0,0,0,0,0,0,0,0,0,0,0,0,0,0,0,0,0,0,0,0,0,0,0,0,0,0,0,0,0,0,0,0,0,0,0,0,0,0,0,0,0,0,0,0,0,0,0,0,0,0,0,0,0,0,0,0,0,0,0,0,0,0,0,0,0,0,0,0,0,0,0,0,0,0,0,0,0,0,0,0,0,0,0,0,0,0,0,0,0,0,0,0,0,0,0,0,0,0,0,0,0,0,0,0,0,0,0,0,0,0,0,0,0,0,0,0,0,0,0,0,0,0,0,0,0,0,0,0,0,0,0,0,0,0,0,0,0,0,0,0,0,0,0,0,0,0,0,0,0,0,0,0,0,0,0,0,0,0,0,0,0,0,0,0,0,0,0,0,0,0,0,0,0,0,0,0,0,0,0,0,0,0,0,0,0,0,0,0,0,0,0,0,0,0,0,0,0,0,0,0,0,0,0,0,0,0,0,0,0,0,0,0,0,0,0,0,0,0,0,0,0,0,0,0,0,0,0,0,0,0,0,0,0,0,0,0,0,0,0,0,0,0,0,0,0,0,0,0,0,0,0,0,0,0,0,0,0,0,0,0,0,0,0,0,0,0,0,0,0,0,0,0,0,0,0,0,0,0,0,0,0,0,0,0,0,0,0,0,0,0,0,0,0,0,0,0,0,0,0,0,0,0,0,0,0,0,0,0,0,0,0,0,0,0,0,0,0,0,0,0,0,0,0,0,0,0,0,0,0,0,0,0,0,0,0,0,0,0,0,0,0,0,0,0,0,0,0,0,0,0,0,0,0,0,0,0,0,0,0,0,0,0,0,0,0,0,0,0,0,0,0,0,0,0,0,0,0,0,0,0,0,0,0,0,0,0,0,0,0,0,0,0,0,0,0,0,0,0,0,0,0,0,0,0,0,0,0,0,0,0,0,0,0,0,0,0,0,0,0,0,0,0,0,0,0,0,0,0,0,0,0,0,0,0,0,0,0,0,0,0,0,0,0,0,0,0,0,0,0,0,0,0,0,0,0,0,0,0,0,0,0,0,0,0,0,0,0,0,0,0,0,0,0,0,0,0,0,0,0,0,0,0,0,0,0,0,0,0,0,0,0,0,0,0,0,0,0,0,0,0,0,0,0,0,0,0,0,0,0,0,0,0,0,0,0,0,0,0,0,0,0,0,0,0,0,0,0,0,0,0,0,0,0,0,0,0,0,0,0,0,0,0,0,0,0,0,0,0,0,0,0,0,0,0,0,0,0,0,0,0,0,0,0,0,0,0,0,0,0,0,0,0,0,0,0,0,0,0,0,0,0,0,0,0,0,0,0,0,0,0,0,0,0,0,0,0,0,0,0,0,0,0,0,0,0,0,0,0,0,0,0,0,0,0,0,0,0,0,0,0,0,0,0,0,0,0,0,0,0,0,0,0,0,0,0,0,0,0,0,0,0,0,0,0,0,0,0,0,0,0,0,0,0,0,0,0,0,0,0,0,0,0,0,0,0,0,0,0,0,0,0,0,0,0,0,0,0,0,0,0,0,0,0,0,0,0,0,0,0,0,0,0,0,0,0,0,0,0,0,0,0,0,0,0,0,0,0,0,0,0,0,0,0,0,0,0,0,0,0,0,0,0,0,0,0,0,0,0,0,0,0,0,0,0,0,0,0,0,0,0,0,0,0,0,0,0,0,0,0,0,0,0,0,0,0,0,0,0,0,0,0,0,0,0,0,0,0,0,0,0,0,0,0,0,0,0,0,0,0,0,0,0,0,0,0,0,0,0,0,0,0,0,0,0,0,0,0,0,0,0,0,0,0,0,0,0,0,0,0,0,0,0,0,0,0,0,0,0,0,0,0,0,0,0,0,0,0,0,0,0,0,0,0,0,0,0,0,0,0,0,0,0,0,0,0,0,0,0,0,0,0,0,0,0,0,0,0,0,0,0,0,0,0,0,0,0,0,0,0,0,0,0,0,0,0,0,0,0,0,0,0,0,0,0,0,0,0,0,0,0,0,0,0,0,0,0,0,0,0,0,0,0,0,0,0,0,0,0,0,0,0,0,0,0,0,0,0,0,0,0,0,0,0,0,0,0,0,0,0,0,0,0,0,0,0,0,0,0,0,0,0,0,0,0,0,0,0,0,0,0,0,0,0,0,0,0,0,0,0,0,0,0,0,0,0,0,0,0,0,0,0,0,0,0,0,0,0,0,0,0,0,0,0,0,0,0,0,0,0,0,0,0,0,0,0,0,0,0,0,0,0,0,0,0,0,0,0,0,0,0,0,0,0,0,0,0,0,0,0,0,0,0,0,0,0,0,0,0,0,0,0,0,0,0,0,0,0,0,0,0,0,0,0,0,0,0,0,0,0,0,0,0,0,0,0,0,0,0,0,0,0,0,0,0,0,0,0,0,0,0,0,0,0,0,0,0,0,0,0,0,0,0,0,0,0,0,0,0,0,0,0,0,0,0,0,0,0,0,0,0,0,0,0,0,0,0,0,0,0,0,0,0,0,0,0,0,0,0,0,0,0,0,0,0,0,0,0,0,0,0,0,0,0,0,0,0,0,0,0,0,0,0,0,0,0,0,0,0,0,0,0,0,0,0,0,0,0,0,0,0,0,0,0,0,0,0,0,0,0,0,0,0,0,0,0,0,0,0,0,0,0,0,0,0,0,0,0,0,0,0,0,0,0,0,0,0,0,0,0,0,0,0,0,0,0,0,0,0,0,0,0,0,0,0,0,0,0,0,0,0,0,0,0,0,0,0,0,0,0,0,0,0,0,0,0,0,0,0,0,0,0,0,0,0,0,0,0,0,0,0,0,0,0,0,0,0,0,0,0,0,0,0,0,0,0,0,0,0,0,0,0,0,0,0,0,0,0,0,0,0,0,0,0,0,0,0,0,0,0,0,0,0,0,0,0,0,0,0,0,0,0,0,0,0,0,0,0,0,0,0,0,0,0,0,0,0,0,0,0,0,0,0,0,0,0,0,0,0,0,0,0,0,0,0,0,0,0,0,0,0,0,0,0,0,0,0,0,0,0,0,0,0,0,0,0,0,0,0,0,0,0,0,0,0,0,0,0,0,0,0,0,0,0,0,0,0,0,0,0,0,0,0,0,0,0,0,0,0,0,0,0,0,0,0,0,0,0,0,0,0,0,0,0,0,0,0,0,0,0,0,0,0,0,0,0,0,0,0,0,0,0,0,0,0,0,0,0,0,0,0,0,0,0,0,0,0,0,0,0,0,0,0,0,0,0,0,0,0,0,0,0,0,0,0,0,0,0,0,0,0,0,0,0,0,0,0,0,0,0,0,0,0,0,0,0,0,0,0,0,0,0,0,0,0,0,0,0,0,0,0,0,0,0,0,0,0,0,0,0,0,0,0,0,0,0,0,0,0,0,0,0,0,0,0,0,0,0,0,0,0,0,0,0,0,0,0,0,0,0,0,0,0,0,0,0,0,0,0,0,0,0,0,0,0,0,0,0,0,0,0,0,0,0,0,0,0,0,0,0,0,0,0,0,0,0,0,0,0,0,0,0,0,0,0,0,0,0,0,0,0,0,0,0,0,0,0,0,0,0,0,0,0,0,0,0,0,0,0,0,0,0,0,0,0,0,0,0,0,0,0,0,0,0,0,0,0,0,0,0,0,0,0,0,0,0,0,0,0,0,0,0,0,0,0,0,0,0,0,0,0,0,0,0,0,0,0,0,0,0,0,0,0,0,0,0,0,0,0,0,0,0,0,0,0,0,0,0,0,0,0,0,0,0,0,0,0,0,0,0,0,0,0,0,0,0,0,0,0,0,0,0,0,0,0,0,0,0,0,0,0,0,0,0,0,0,0,0,0,0,0,0,0,0,0,0,0,0,0,0,0,0,0,0,0,0,0,0,0,0,0,0,0,0,0,0,0,0,0,0,0,0,0,0,0,0,0,0,0,0,0,0,0,0,0,0,0,0,0,0,0,0,0,0,0,0,0,0,0,0,0,0,0,0,0,0,0,0,0,0,0,0,0,0,0,0,0,0,0,0,0,0,0,0,0,0,0,0,0,0,0,0,0,0,0,0,0,0,0,0,0,0,0,0,0,0,0,0,0,0,0,0,0,0,0,0,0,0,0,0,0,0,0,0,0,0,0,0,0,0,0,0,0,0,0,0,0,0,0,0,0,0,0,0,0,0,0,0,0,0,0,0,0,0,0,0,0,0,0,0,0,0,0,0,0,0,0,0,0,0,0,0,0,0,0,0,0,0,0,0,0,0,0,0,0,0,0,0,0,0,0,0,0,0,0,0,0,0,0,0,0,0,0,0,0,0,0,0,0,0,0,0,0,0,0,0,0,0,0,0,0,0,0,0,0,0,0,0,0,0,0,0,0,0,0,0,0,0,0,0,0,0,0,0,0,0,0,0,0,0,0,0,0,0,0,0,0,0,0,0,0,0,0,0,0,0,0,0,0,0,0,0,0,0,0,0,0,0,0,0,0,0,0,0,0,0,0,0,0,0,0,0,0,0,0,0,0,0,0,0,0,0,0,0,0,0,0,0,0,0,0,0,0,0,0,0,0,0,0,0,0,0,0,0,0,0,0,0,0,0,0,0,0,0,0,0,0,0,0,0,0,0,0,0,0,0,0,0,0,0,0,0,0,0,0,0,0,0,0,0,0,0,0,0,0,0,0,0,0,0,0,0,0,0,0,0,0,0,0,0,0,0,0,0,0,0,0,0,0,0,0,0,0,0,0,0,0,0,0,0,0,0,0,0,0,0,0,0,0,0,0,0,0,0,0,0,0,0,0,0,0,0,0,0,0,0,0,0,0,0,0,0,0,0,0,0,0,0,0,0,0,0,0,0,0,0,0,0,0,0,0,0,0,0,0,0,0,0,0,0,0,0,0,0,0,0,0,0,0,0,0,0,0,0,0,0,0,0,0,0,0,0,0,0,0,0,0,0,0,0,0,0,0,0,0,0,0,0,0,0,0,0,0,0,0,0,0,0,0,0,0,0,0,0,0,0,0,0,0,0,0,0,0,0,0,0,0,0,0,0,0,0,0,0,0,0,0,0,0,0,0,0,0,0,0,0,0,0,0,0,0,0,0,0,0,0,0,0,0,0,0,0,0,0,0,0,0,0,0,0,0,0,0,0,0,0,0,0,0,0,0,0,0,0,0,0,0,0,0,0,0,0,0,0,0,0,0,0,0,0,0,0,0,0,0,0,0,0,0,0,0,0,0,0,0,0,0,0,0,0,0,0,0,0,0,0,0,0,0,0,0,0,0,0,0,0,0,0,0,0,0,0,0,0,0,0,0,0,0,0,0,0,0,0,0,0,0,0,0,0,0,0,0,0,0,0,0,0,0,0,0,0,0,0,0,0,0,0,0,0,0,0,0,0,0,0,0,0,0,0,0,0,0,0,0,0,0,0,0,0,0,0,0,0,0,0,0,0,0,0,0,0,0,0,0,0,0,0,0,0,0,0,0,0,0,0,0,0,0,0,0,0,0,0,0,0,0,0,0,0,0,0,0,0,0,0,0,0,0,0,0,0,0,0,0,0,0,0,0,0,0,0,0,0,0,0,0,0,0,0,0,0,0,0,0,0,0,0,0,0,0,0,0,0,0,0,0,0,0,0,0,0,0,0,0,0,0,0,0,0,0,0,0,0,0,0,0,0,0,0,0,0,0,0,0,0,0,0,0,0,0,0,0,0,0,0,0,0,0,0,0,0,0,0,0,0,0,0,0,0,0,0,0,0,0,0,0,0,0,0,0,0,0,0,0,0,0,0,0,0,0,0,0,0,0,0,0,0,0,0,0,0,0,0,0,0,0,0,0,0,0,0,0,0,0,0,0,0,0,0,0,0,0,0,0,0,0,0,0,0,0,0,0,0,0,0,0,0,0,0,0,0,0,0,0,0,0,0,0,0,0,0,0,0,0,0,0,0,0,0,0,0,0,0,0,0,0,0,0,0,0,0,0,0,0,0,0,0,0,0,0,0,0,0,0,0,0,0,0,0,0,0,0,0,0,0,0,0,0,0,0,0,0,0,0,0,0,0,0,0,0,0,0,0,0,0,0,0,0,0,0,0,0,0,0,0,0,0,0,0,0,0,0,0,0,0,0,0,0,0,0,0,0,0,0,0,0,0,0,0,0,0,0,0,0,0,0,0,0,0,0,0,0,0,0,0,0,0,0,0,0,0,0,0,0,0,0,0,0,0,0,0,0,0,0,0,0,0,0,0,0,0,0,0,0,0,0,0,0,0,0,0,0,0,0,0,0,0,0,0,0,0,0,0,0,0,0,0,0,0,0,0,0,0,0,0,0,0,0,0,0,0,0,0,0,0,0,0,0,0,0,0,0,0,0,0,0,0,0,0,0,0,0,0,0,0,0,0,0,0,0,0,0,0,0,0,0,0,0,0,0,0,0,0,0,0,0,0,0,0,0,0,0,0,0,0,0,0,0,0,0,0,0,0,0,0,0,0,0,0,0,0,0,0,0,0,0,0,0,0,0,0,0,0,0,0,0,0,0,0,0,0,0,0,0,0,0,0,0,0,0,0,0,0,0,0,0,0,0,0,0,0,0,0,0,0,0,0,0,0,0,0,0,0,0,0,0,0,0,0,0,0,0,0,0,0,0,0,0,0,0,0,0,0,0,0,0,0,0,0,0,0,0,0,0,0,0,0,0,0,0,0,0,0,0,0,0,0,0,0,0,0,0,0,0,0,0,0,0,0,0,0,0,0,0,0,0,0,0,0,0,0,0,0,0,0,0,0,0,0,0,0,0,0,0,0,0,0,0,0,0,0,0,0,0,0,0,0,0,0,0,0,0,0,0,0,0,0,0],\"colorscale\":[[0.0,\"#0508b8\"],[0.08333333333333333,\"#1910d8\"],[0.16666666666666666,\"#3c19f0\"],[0.25,\"#6b1cfb\"],[0.3333333333333333,\"#981cfd\"],[0.4166666666666667,\"#bf1cfd\"],[0.5,\"#dd2bfd\"],[0.5833333333333334,\"#f246fe\"],[0.6666666666666666,\"#fc67fd\"],[0.75,\"#fe88fc\"],[0.8333333333333334,\"#fea5fd\"],[0.9166666666666666,\"#febefe\"],[1.0,\"#fec3fe\"]]},\"name\":\"1960\",\"orientation\":\"h\",\"showlegend\":false,\"x\":[270,291,292,294,296,309,319,359,391,393,537,555,603,630,1098],\"y\":[\"heart\",\"get\",\"tell\",\"time\",\"to\",\"little\",\"day\",\"like\",\"yeah\",\"come\",\"go\",\"oh\",\"baby\",\"know\",\"love\"],\"type\":\"bar\",\"xaxis\":\"x\",\"yaxis\":\"y\"},{\"marker\":{\"color\":[1834,1084,1078,877,870,839,785,764,747,732,541,526,501,499,463,453,435,429,417,414,411,374,359,352,346,342,336,332,328,317,311,305,280,276,271,268,262,262,255,254,251,248,233,231,223,223,221,221,217,210,206,206,203,201,201,199,196,195,191,189,186,175,173,172,170,164,163,161,160,155,154,154,153,152,152,151,150,149,148,148,148,146,143,142,142,141,141,138,138,137,136,134,132,132,132,130,130,129,128,127,119,119,117,117,115,115,113,113,110,109,105,104,104,103,103,102,101,100,100,98,98,97,97,97,96,95,95,94,94,93,93,92,92,91,89,89,88,88,88,88,88,86,86,85,85,84,84,84,83,83,82,80,79,78,78,77,77,77,76,76,75,75,74,74,73,73,72,72,72,72,71,71,70,70,70,70,70,70,69,69,69,68,68,67,66,66,65,65,64,64,64,64,64,64,64,63,63,63,63,63,62,62,62,62,61,61,61,60,60,60,60,60,60,59,59,58,58,58,57,57,57,56,56,55,55,55,54,54,54,54,54,54,53,53,53,53,53,53,52,51,51,51,51,50,50,50,50,50,50,49,49,49,49,48,48,48,48,47,47,47,46,46,46,46,45,45,45,44,44,44,44,43,43,43,43,42,42,42,42,42,42,42,41,41,41,41,41,41,41,40,40,40,40,40,40,40,39,39,39,39,39,39,39,39,39,39,39,39,38,38,38,38,38,37,37,37,37,37,37,37,36,36,36,36,36,36,36,36,36,36,36,36,36,36,35,35,35,35,35,35,35,35,35,35,35,34,34,34,34,34,34,34,34,34,33,33,33,33,33,33,33,33,33,32,32,32,32,32,32,32,32,32,31,31,31,31,31,31,30,30,30,30,30,30,30,30,30,30,30,30,30,30,29,29,29,29,29,29,29,29,29,29,29,29,28,28,28,28,28,28,28,28,28,28,28,28,28,27,27,27,27,27,27,27,27,27,27,27,27,27,27,27,27,27,27,27,27,26,26,26,26,26,26,26,26,26,26,26,26,26,26,26,25,25,25,25,25,25,25,25,25,25,25,25,25,25,24,24,24,24,24,24,24,24,24,24,24,24,24,24,24,24,24,24,24,24,24,23,23,23,23,23,23,23,23,23,23,23,23,23,23,23,23,23,23,23,23,22,22,22,22,22,22,22,22,22,22,22,22,22,22,22,22,22,22,22,21,21,21,21,21,21,21,21,21,21,21,21,21,21,20,20,20,20,20,20,20,20,20,20,20,20,20,20,20,20,20,20,20,20,20,20,20,19,19,19,19,19,19,19,19,19,19,19,19,19,19,19,19,19,19,19,19,19,19,19,19,19,19,18,18,18,18,18,18,18,18,18,18,18,18,18,18,18,18,18,18,18,18,18,18,18,18,18,18,18,18,18,17,17,17,17,17,17,17,17,17,17,17,17,17,17,17,17,17,17,17,17,17,17,17,17,17,17,17,17,16,16,16,16,16,16,16,16,16,16,16,16,16,16,16,16,16,16,16,16,16,16,15,15,15,15,15,15,15,15,15,15,15,15,15,15,15,15,15,15,15,15,15,15,15,15,15,15,15,15,15,15,15,15,15,15,15,15,14,14,14,14,14,14,14,14,14,14,14,14,14,14,14,14,14,14,14,14,14,14,14,14,14,14,14,14,14,14,14,14,14,14,14,14,14,14,14,14,14,13,13,13,13,13,13,13,13,13,13,13,13,13,13,13,13,13,13,13,13,13,13,13,13,13,13,13,13,13,13,13,13,12,12,12,12,12,12,12,12,12,12,12,12,12,12,12,12,12,12,12,12,12,12,12,12,12,12,12,12,12,12,12,12,12,12,12,12,12,12,12,12,12,12,12,12,12,12,12,12,12,12,12,12,12,12,12,12,12,12,12,12,12,12,12,12,12,12,11,11,11,11,11,11,11,11,11,11,11,11,11,11,11,11,11,11,11,11,11,11,11,11,11,11,11,11,11,11,11,11,11,11,11,11,11,11,11,11,11,11,11,11,11,11,11,11,11,11,11,11,11,11,11,11,11,11,11,11,11,10,10,10,10,10,10,10,10,10,10,10,10,10,10,10,10,10,10,10,10,10,10,10,10,10,10,10,10,10,10,10,10,10,10,10,10,10,10,10,10,10,10,10,10,10,10,10,10,10,10,10,10,10,10,10,10,10,10,10,10,10,10,10,10,10,10,10,10,10,10,10,10,10,10,10,10,10,9,9,9,9,9,9,9,9,9,9,9,9,9,9,9,9,9,9,9,9,9,9,9,9,9,9,9,9,9,9,9,9,9,9,9,9,9,9,9,9,9,9,9,9,9,9,9,9,9,9,9,9,9,9,9,9,9,9,9,9,9,9,9,9,9,9,9,9,9,9,9,9,9,9,9,9,9,9,9,9,9,9,9,9,9,9,9,9,9,9,9,8,8,8,8,8,8,8,8,8,8,8,8,8,8,8,8,8,8,8,8,8,8,8,8,8,8,8,8,8,8,8,8,8,8,8,8,8,8,8,8,8,8,8,8,8,8,8,8,8,8,8,8,8,8,8,8,8,8,8,8,8,8,8,8,8,8,8,8,8,8,8,8,8,8,8,8,8,8,8,8,8,8,8,8,8,8,8,8,8,8,8,8,8,8,8,8,8,8,8,8,8,8,7,7,7,7,7,7,7,7,7,7,7,7,7,7,7,7,7,7,7,7,7,7,7,7,7,7,7,7,7,7,7,7,7,7,7,7,7,7,7,7,7,7,7,7,7,7,7,7,7,7,7,7,7,7,7,7,7,7,7,7,7,7,7,7,7,7,7,7,7,7,7,7,7,7,7,7,7,7,7,7,7,7,7,7,7,7,7,7,7,7,7,7,7,7,7,7,7,7,7,7,7,7,7,7,7,7,7,7,7,7,7,7,7,7,7,7,7,7,7,7,7,7,7,7,7,7,7,7,7,7,7,7,7,7,7,7,7,6,6,6,6,6,6,6,6,6,6,6,6,6,6,6,6,6,6,6,6,6,6,6,6,6,6,6,6,6,6,6,6,6,6,6,6,6,6,6,6,6,6,6,6,6,6,6,6,6,6,6,6,6,6,6,6,6,6,6,6,6,6,6,6,6,6,6,6,6,6,6,6,6,6,6,6,6,6,6,6,6,6,6,6,6,6,6,6,6,6,6,6,6,6,6,6,6,6,6,6,6,6,6,6,6,6,6,6,6,6,6,6,6,6,6,6,6,6,6,6,6,6,6,6,6,6,6,6,6,6,6,6,6,6,6,6,6,6,6,6,6,6,6,6,6,6,6,6,6,6,6,6,6,6,5,5,5,5,5,5,5,5,5,5,5,5,5,5,5,5,5,5,5,5,5,5,5,5,5,5,5,5,5,5,5,5,5,5,5,5,5,5,5,5,5,5,5,5,5,5,5,5,5,5,5,5,5,5,5,5,5,5,5,5,5,5,5,5,5,5,5,5,5,5,5,5,5,5,5,5,5,5,5,5,5,5,5,5,5,5,5,5,5,5,5,5,5,5,5,5,5,5,5,5,5,5,5,5,5,5,5,5,5,5,5,5,5,5,5,5,5,5,5,5,5,5,5,5,5,5,5,5,5,5,5,5,5,5,5,5,5,5,5,5,5,5,5,5,5,5,5,5,5,5,5,5,5,5,5,5,5,5,5,5,5,5,5,5,5,5,5,5,5,5,5,5,5,5,5,5,5,5,5,5,5,5,5,5,5,5,5,5,5,5,5,5,5,5,5,5,5,5,5,5,5,5,5,5,5,5,5,5,5,5,5,4,4,4,4,4,4,4,4,4,4,4,4,4,4,4,4,4,4,4,4,4,4,4,4,4,4,4,4,4,4,4,4,4,4,4,4,4,4,4,4,4,4,4,4,4,4,4,4,4,4,4,4,4,4,4,4,4,4,4,4,4,4,4,4,4,4,4,4,4,4,4,4,4,4,4,4,4,4,4,4,4,4,4,4,4,4,4,4,4,4,4,4,4,4,4,4,4,4,4,4,4,4,4,4,4,4,4,4,4,4,4,4,4,4,4,4,4,4,4,4,4,4,4,4,4,4,4,4,4,4,4,4,4,4,4,4,4,4,4,4,4,4,4,4,4,4,4,4,4,4,4,4,4,4,4,4,4,4,4,4,4,4,4,4,4,4,4,4,4,4,4,4,4,4,4,4,4,4,4,4,4,4,4,4,4,4,4,4,4,4,4,4,4,4,4,4,4,4,4,4,4,4,4,4,4,4,4,4,4,4,4,4,4,4,4,4,4,4,4,4,4,4,4,4,4,4,4,4,4,4,4,4,4,4,4,4,4,4,4,4,4,4,4,4,4,4,4,4,4,4,4,4,4,4,4,4,4,4,4,4,4,4,4,4,4,4,4,4,4,4,4,4,4,4,4,4,4,4,4,4,4,4,4,4,4,4,4,4,4,4,4,4,4,4,4,4,4,4,4,4,4,4,4,4,4,4,4,4,4,4,4,4,4,4,4,4,4,4,4,4,4,4,4,4,4,4,4,4,4,4,4,4,4,4,4,4,4,4,4,3,3,3,3,3,3,3,3,3,3,3,3,3,3,3,3,3,3,3,3,3,3,3,3,3,3,3,3,3,3,3,3,3,3,3,3,3,3,3,3,3,3,3,3,3,3,3,3,3,3,3,3,3,3,3,3,3,3,3,3,3,3,3,3,3,3,3,3,3,3,3,3,3,3,3,3,3,3,3,3,3,3,3,3,3,3,3,3,3,3,3,3,3,3,3,3,3,3,3,3,3,3,3,3,3,3,3,3,3,3,3,3,3,3,3,3,3,3,3,3,3,3,3,3,3,3,3,3,3,3,3,3,3,3,3,3,3,3,3,3,3,3,3,3,3,3,3,3,3,3,3,3,3,3,3,3,3,3,3,3,3,3,3,3,3,3,3,3,3,3,3,3,3,3,3,3,3,3,3,3,3,3,3,3,3,3,3,3,3,3,3,3,3,3,3,3,3,3,3,3,3,3,3,3,3,3,3,3,3,3,3,3,3,3,3,3,3,3,3,3,3,3,3,3,3,3,3,3,3,3,3,3,3,3,3,3,3,3,3,3,3,3,3,3,3,3,3,3,3,3,3,3,3,3,3,3,3,3,3,3,3,3,3,3,3,3,3,3,3,3,3,3,3,3,3,3,3,3,3,3,3,3,3,3,3,3,3,3,3,3,3,3,3,3,3,3,3,3,3,3,3,3,3,3,3,3,3,3,3,3,3,3,3,3,3,3,3,3,3,3,3,3,3,3,3,3,3,3,3,3,3,3,3,3,3,3,3,3,3,3,3,3,3,3,3,3,3,3,3,3,3,3,3,3,3,3,3,3,3,3,3,3,3,3,3,3,3,3,3,3,3,3,3,3,3,3,3,3,3,3,3,3,3,3,3,3,3,3,3,3,3,3,3,3,3,3,3,3,3,3,3,3,3,3,3,3,3,3,3,3,3,3,3,3,3,3,3,3,3,3,3,3,3,3,3,3,3,3,3,3,3,3,3,3,3,3,3,3,3,3,3,3,3,3,3,3,3,3,3,3,3,3,3,3,3,3,3,3,3,3,3,3,3,3,3,3,3,3,3,3,3,3,3,3,3,3,3,3,3,3,3,3,3,3,3,3,3,3,3,2,2,2,2,2,2,2,2,2,2,2,2,2,2,2,2,2,2,2,2,2,2,2,2,2,2,2,2,2,2,2,2,2,2,2,2,2,2,2,2,2,2,2,2,2,2,2,2,2,2,2,2,2,2,2,2,2,2,2,2,2,2,2,2,2,2,2,2,2,2,2,2,2,2,2,2,2,2,2,2,2,2,2,2,2,2,2,2,2,2,2,2,2,2,2,2,2,2,2,2,2,2,2,2,2,2,2,2,2,2,2,2,2,2,2,2,2,2,2,2,2,2,2,2,2,2,2,2,2,2,2,2,2,2,2,2,2,2,2,2,2,2,2,2,2,2,2,2,2,2,2,2,2,2,2,2,2,2,2,2,2,2,2,2,2,2,2,2,2,2,2,2,2,2,2,2,2,2,2,2,2,2,2,2,2,2,2,2,2,2,2,2,2,2,2,2,2,2,2,2,2,2,2,2,2,2,2,2,2,2,2,2,2,2,2,2,2,2,2,2,2,2,2,2,2,2,2,2,2,2,2,2,2,2,2,2,2,2,2,2,2,2,2,2,2,2,2,2,2,2,2,2,2,2,2,2,2,2,2,2,2,2,2,2,2,2,2,2,2,2,2,2,2,2,2,2,2,2,2,2,2,2,2,2,2,2,2,2,2,2,2,2,2,2,2,2,2,2,2,2,2,2,2,2,2,2,2,2,2,2,2,2,2,2,2,2,2,2,2,2,2,2,2,2,2,2,2,2,2,2,2,2,2,2,2,2,2,2,2,2,2,2,2,2,2,2,2,2,2,2,2,2,2,2,2,2,2,2,2,2,2,2,2,2,2,2,2,2,2,2,2,2,2,2,2,2,2,2,2,2,2,2,2,2,2,2,2,2,2,2,2,2,2,2,2,2,2,2,2,2,2,2,2,2,2,2,2,2,2,2,2,2,2,2,2,2,2,2,2,2,2,2,2,2,2,2,2,2,2,2,2,2,2,2,2,2,2,2,2,2,2,2,2,2,2,2,2,2,2,2,2,2,2,2,2,2,2,2,2,2,2,2,2,2,2,2,2,2,2,2,2,2,2,2,2,2,2,2,2,2,2,2,2,2,2,2,2,2,2,2,2,2,2,2,2,2,2,2,2,2,2,2,2,2,2,2,2,2,2,2,2,2,2,2,2,2,2,2,2,2,2,2,2,2,2,2,2,2,2,2,2,2,2,2,2,2,2,2,2,2,2,2,2,2,2,2,2,2,2,2,2,2,2,2,2,2,2,2,2,2,2,2,2,2,2,2,2,2,2,2,2,2,2,2,2,2,2,2,2,2,2,2,2,2,2,2,2,2,2,2,2,2,2,2,2,2,2,2,2,2,2,2,2,2,2,2,2,2,2,2,2,2,2,2,2,2,2,2,2,2,2,2,2,2,2,2,2,2,2,2,2,2,2,2,2,2,2,2,2,2,2,2,2,2,2,2,2,2,2,2,2,2,2,2,2,2,2,2,2,2,2,2,2,2,2,2,2,2,2,2,2,2,2,2,2,2,2,2,2,2,2,2,2,2,2,2,2,2,2,2,2,2,2,2,2,2,2,2,2,2,2,2,2,2,2,2,2,2,2,2,2,2,2,2,2,2,2,2,2,2,2,2,2,2,2,2,2,2,2,2,2,2,2,2,2,2,2,2,2,2,2,2,2,2,2,2,2,2,2,2,2,2,2,2,2,2,2,2,2,2,2,2,2,2,2,2,2,2,2,2,2,2,2,2,2,2,2,2,2,2,2,2,2,2,2,2,2,2,2,2,2,2,2,2,2,2,2,2,2,2,2,2,2,2,2,2,2,2,2,2,2,2,2,2,2,2,2,2,2,2,2,2,2,2,2,2,2,2,2,2,2,2,2,2,2,2,2,2,2,2,2,2,2,2,2,2,2,2,2,2,2,2,2,2,2,2,2,2,2,2,2,2,2,2,2,2,2,2,2,2,2,2,2,2,2,2,2,2,2,2,2,2,2,2,2,2,2,2,2,2,2,2,2,1,1,1,1,1,1,1,1,1,1,1,1,1,1,1,1,1,1,1,1,1,1,1,1,1,1,1,1,1,1,1,1,1,1,1,1,1,1,1,1,1,1,1,1,1,1,1,1,1,1,1,1,1,1,1,1,1,1,1,1,1,1,1,1,1,1,1,1,1,1,1,1,1,1,1,1,1,1,1,1,1,1,1,1,1,1,1,1,1,1,1,1,1,1,1,1,1,1,1,1,1,1,1,1,1,1,1,1,1,1,1,1,1,1,1,1,1,1,1,1,1,1,1,1,1,1,1,1,1,1,1,1,1,1,1,1,1,1,1,1,1,1,1,1,1,1,1,1,1,1,1,1,1,1,1,1,1,1,1,1,1,1,1,1,1,1,1,1,1,1,1,1,1,1,1,1,1,1,1,1,1,1,1,1,1,1,1,1,1,1,1,1,1,1,1,1,1,1,1,1,1,1,1,1,1,1,1,1,1,1,1,1,1,1,1,1,1,1,1,1,1,1,1,1,1,1,1,1,1,1,1,1,1,1,1,1,1,1,1,1,1,1,1,1,1,1,1,1,1,1,1,1,1,1,1,1,1,1,1,1,1,1,1,1,1,1,1,1,1,1,1,1,1,1,1,1,1,1,1,1,1,1,1,1,1,1,1,1,1,1,1,1,1,1,1,1,1,1,1,1,1,1,1,1,1,1,1,1,1,1,1,1,1,1,1,1,1,1,1,1,1,1,1,1,1,1,1,1,1,1,1,1,1,1,1,1,1,1,1,1,1,1,1,1,1,1,1,1,1,1,1,1,1,1,1,1,1,1,1,1,1,1,1,1,1,1,1,1,1,1,1,1,1,1,1,1,1,1,1,1,1,1,1,1,1,1,1,1,1,1,1,1,1,1,1,1,1,1,1,1,1,1,1,1,1,1,1,1,1,1,1,1,1,1,1,1,1,1,1,1,1,1,1,1,1,1,1,1,1,1,1,1,1,1,1,1,1,1,1,1,1,1,1,1,1,1,1,1,1,1,1,1,1,1,1,1,1,1,1,1,1,1,1,1,1,1,1,1,1,1,1,1,1,1,1,1,1,1,1,1,1,1,1,1,1,1,1,1,1,1,1,1,1,1,1,1,1,1,1,1,1,1,1,1,1,1,1,1,1,1,1,1,1,1,1,1,1,1,1,1,1,1,1,1,1,1,1,1,1,1,1,1,1,1,1,1,1,1,1,1,1,1,1,1,1,1,1,1,1,1,1,1,1,1,1,1,1,1,1,1,1,1,1,1,1,1,1,1,1,1,1,1,1,1,1,1,1,1,1,1,1,1,1,1,1,1,1,1,1,1,1,1,1,1,1,1,1,1,1,1,1,1,1,1,1,1,1,1,1,1,1,1,1,1,1,1,1,1,1,1,1,1,1,1,1,1,1,1,1,1,1,1,1,1,1,1,1,1,1,1,1,1,1,1,1,1,1,1,1,1,1,1,1,1,1,1,1,1,1,1,1,1,1,1,1,1,1,1,1,1,1,1,1,1,1,1,1,1,1,1,1,1,1,1,1,1,1,1,1,1,1,1,1,1,1,1,1,1,1,1,1,1,1,1,1,1,1,1,1,1,1,1,1,1,1,1,1,1,1,1,1,1,1,1,1,1,1,1,1,1,1,1,1,1,1,1,1,1,1,1,1,1,1,1,1,1,1,1,1,1,1,1,1,1,1,1,1,1,1,1,1,1,1,1,1,1,1,1,1,1,1,1,1,1,1,1,1,1,1,1,1,1,1,1,1,1,1,1,1,1,1,1,1,1,1,1,1,1,1,1,1,1,1,1,1,1,1,1,1,1,1,1,1,1,1,1,1,1,1,1,1,1,1,1,1,1,1,1,1,1,1,1,1,1,1,1,1,1,1,1,1,1,1,1,1,1,1,1,1,1,1,1,1,1,1,1,1,1,1,1,1,1,1,1,1,1,1,1,1,1,1,1,1,1,1,1,1,1,1,1,1,1,1,1,1,1,1,1,1,1,1,1,1,1,1,1,1,1,1,1,1,1,1,1,1,1,1,1,1,1,1,1,1,1,1,1,1,1,1,1,1,1,1,1,1,1,1,1,1,1,1,1,1,1,1,1,1,1,1,1,1,1,1,1,1,1,1,1,1,1,1,1,1,1,1,1,1,1,1,1,1,1,1,1,1,1,1,1,1,1,1,1,1,1,1,1,1,1,1,1,1,1,1,1,1,1,1,1,1,1,1,1,1,1,1,1,1,1,1,1,1,1,1,1,1,1,1,1,1,1,1,1,1,1,1,1,1,1,1,1,1,1,1,1,1,1,1,1,1,1,1,1,1,1,1,1,1,1,1,1,1,1,1,1,1,1,1,1,1,1,1,1,1,1,1,1,1,1,1,1,1,1,1,1,1,1,1,1,1,1,1,1,1,1,1,1,1,1,1,1,1,1,1,1,1,1,1,1,1,1,1,1,1,1,1,1,1,1,1,1,1,1,1,1,1,1,1,1,1,1,1,1,1,1,1,1,1,1,1,1,1,1,1,1,1,1,1,1,1,1,1,1,1,1,1,1,1,1,1,1,1,1,1,1,1,1,1,1,1,1,1,1,1,1,1,1,1,1,1,1,1,1,1,1,1,1,1,1,1,1,1,1,1,1,1,1,1,1,1,1,1,1,1,1,1,1,1,1,1,1,1,1,1,1,1,1,1,1,1,1,1,1,1,1,1,1,1,1,1,1,1,1,1,1,1,1,1,1,1,1,1,1,1,1,1,1,1,1,1,1,1,1,1,1,1,1,1,1,1,1,1,1,1,1,1,1,1,1,1,1,1,1,1,1,1,1,1,1,1,1,1,1,1,1,1,1,1,1,1,1,1,1,1,1,1,1,1,1,1,1,1,1,1,1,1,1,1,1,1,1,1,1,1,1,1,1,1,1,1,1,1,1,1,1,1,1,1,1,1,1,1,1,1,1,1,1,1,1,1,1,1,1,1,1,1,1,1,1,1,1,1,1,1,1,1,1,1,1,1,1,1,1,1,1,1,1,1,1,1,1,1,1,1,1,1,1,1,1,1,1,1,1,1,1,1,1,1,1,1,1,1,1,1,1,1,1,1,1,1,1,1,1,1,1,1,1,1,1,1,1,1,1,1,1,1,1,1,1,1,1,1,1,1,1,1,1,1,1,1,1,1,1,1,1,1,1,1,1,1,1,1,1,1,1,1,1,1,1,1,1,1,1,1,1,1,1,1,1,1,1,1,1,1,1,1,1,1,1,1,1,1,1,1,1,1,1,1,1,1,1,1,1,1,1,1,1,1,1,1,1,1,1,1,1,1,1,1,1,1,1,1,1,1,1,1,1,1,1,1,1,1,1,1,1,1,1,1,1,1,1,1,1,1,1,1,1,1,1,1,1,1,1,1,1,1,1,1,1,1,1,1,1,1,1,1,1,1,1,1,1,1,1,1,1,1,1,1,1,1,1,1,1,1,1,1,1,1,1,1,1,1,1,1,1,1,1,1,1,1,1,1,1,1,1,1,1,1,1,1,1,1,1,1,1,1,1,1,1,1,1,1,1,1,1,1,1,1,1,1,1,1,1,1,1,1,1,1,1,1,1,1,1,1,1,1,1,1,1,1,1,1,1,1,1,1,1,1,1,1,1,1,1,1,1,1,1,1,1,1,1,1,1,1,1,1,1,1,1,1,1,1,1,1,1,1,1,1,1,1,1,1,1,1,1,1,1,1,1,1,1,1,1,1,1,1,1,1,1,1,1,1,1,1,1,1,1,1,1,1,1,1,1,1,1,1,1,1,1,1,1,1,1,1,1,1,1,1,1,1,1,1,1,1,1,1,1,1,1,1,1,1,1,1,1,1,1,1,1,1,1,1,1,1,1,1,1,1,1,1,1,1,1,1,1,1,1,1,1,1,1,1,1,1,1,1,1,1,1,1,1,1,1,1,1,1,1,1,1,1,1,1,1,1,1,1,1,1,1,1,1,1,1,1,1,1,1,1,1,1,1,1,1,1,1,1,1,1,1,1,1,1,1,1,1,1,1,1,1,1,1,1,1,1,1,1,1,1,1,1,1,1,1,1,1,1,1,1,1,1,1,1,1,1,1,1,1,1,1,1,1,1,1,1,1,1,1,1,1,1,1,1,1,1,1,1,1,1,1,1,1,1,1,1,1,1,1,1,1,1,1,1,1,1,1,1,1,1,1,1,1,1,1,1,1,1,1,1,1,1,1,1,1,1,1,1,1,1,1,1,1,1,1,1,1,1,1,1,1,1,1,1,1,1,1,1,1,1,1,1,1,1,1,1,1,1,1,1,1,1,1,1,1,1,1,1,1,1,1,1,1,1,1,1,1,1,1,1,1,1,1,1,1,1,1,1,1,1,1,1,1,1,1,1,1,1,1,1,1,1,1,1,1,1,1,1,1,1,1,1,1,1,1,1,1,1,1,1,1,1,1,1,1,1,1,1,1,1,1,1,1,1,1,1,1,1,1,1,1,1,1,1,1,1,1,1,1,1,1,1,1,1,1,1,1,1,1,1,1,1,1,1,1,1,1,1,1,1,1,1,1,1,1,1,1,1,1,1,1,1,1,1,1,1,1,1,1,1,1,1,1,1,1,1,1,1,1,1,1,1,1,1,1,1,1,1,1,1,1,1,1,1,1,1,1,1,1,1,1,1,1,1,1,1,1,1,1,1,1,1,1,1,1,1,1,1,1,1,1,1,1,1,1,1,1,1,1,1,1,1,1,1,1,1,1,1,1,1,1,1,1,1,1,1,1,1,1,1,1,1,1,1,1,1,1,1,1,1,1,1,1,1,1,1,1,1,1,1,1,1,1,1,1,1,1,1,1,1,1,1,1,1,1,1,1,1,1,1,1,1,1,1,1,1,1,1,1,1,1,1,1,1,1,1,1,1,1,1,1,1,1,1,1,1,1,1,1,1,1,1,1,1,1,1,1,1,1,1,1,1,1,1,1,1,1,1,1,1,1,1,1,1,1,1,1,1,1,1,1,1,1,1,1,1,1,1,1,1,1,1,1,1,1,1,1,1,1,1,1,1,1,1,1,1,1,1,1,1,1,1,1,1,1,1,1,1,1,1,1,1,1,1,1,1,1,1,1,1,1,1,1,1,1,1,1,1,1,1,1,1,1,1,1,1,1,1,1,1,1,1,1,1,1,1,1,1,1,1,1,1,1,1,1,1,1,1,1,1,1,1,1,1,1,1,1,1,1,1,1,1,1,1,1,1,1,1,1,1,1,1,1,1,1,1,1,1,1,1,1,1,1,1,1,1,1,1,1,1,1,1,1,1,1,1,1,1,1,1,1,1,1,1,1,1,1,1,1,1,1,1,1,1,1,1,1,1,1,1,1,1,1,1,1,1,1,1,1,1,1,1,1,1,1,1,1,1,1,1,1,1,1,1,1,1,1,1,1,1,1,1,1,1,1,1,1,1,1,1,1,1,1,1,1,1,1,1,1,1,1,1,1,1,1,1,1,1,1,1,1,1,1,1,1,1,1,1,1,1,1,1,1,1,1,1,1,1,1,1,1,1,1,1,1,1,1,1,1,1,1,1,1,1,1,1,1,1,1,1,1,1,1,1,1,1,1,1,1,1,1,1,1,1,1,1,1,1,1,1,1,1,1,1,1,1,1,1,1,1,1,1,1,1,1,1,1,1,1,1,1,1,1,1,1,1,1,1,1,1,1,1,1,1,1,1,1,1,1,1,1,1,1,1,1,1,1,1,1,1,1,1,1,1,1,1,1,1,1,1,1,1,1,1,1,1,1,1,1,1,1,1,1,1,1,1,1,1,1,1,1,1,1,1,1,1,1,1,1,1,1,1,1,1,1,1,1,1,1,1,1,0,0,0,0,0,0,0,0,0,0,0,0,0,0,0,0,0,0,0,0,0,0,0,0,0,0,0,0,0,0,0,0,0,0,0,0,0,0,0,0,0,0,0,0,0,0,0,0,0,0,0,0,0,0,0,0,0,0,0,0,0,0,0,0,0,0,0,0,0,0,0,0,0,0,0,0,0,0,0,0,0,0,0,0,0,0,0,0,0,0,0,0,0,0,0,0,0,0,0,0,0,0,0,0,0,0,0,0,0,0,0,0,0,0,0,0,0,0,0,0,0,0,0,0,0,0,0,0,0,0,0,0,0,0,0,0,0,0,0,0,0,0,0,0,0,0,0,0,0,0,0,0,0,0,0,0,0,0,0,0,0,0,0,0,0,0,0,0,0,0,0,0,0,0,0,0,0,0,0,0,0,0,0,0,0,0,0,0,0,0,0,0,0,0,0,0,0,0,0,0,0,0,0,0,0,0,0,0,0,0,0,0,0,0,0,0,0,0,0,0,0,0,0,0,0,0,0,0,0,0,0,0,0,0,0,0,0,0,0,0,0,0,0,0,0,0,0,0,0,0,0,0,0,0,0,0,0,0,0,0,0,0,0,0,0,0,0,0,0,0,0,0,0,0,0,0,0,0,0,0,0,0,0,0,0,0,0,0,0,0,0,0,0,0,0,0,0,0,0,0,0,0,0,0,0,0,0,0,0,0,0,0,0,0,0,0,0,0,0,0,0,0,0,0,0,0,0,0,0,0,0,0,0,0,0,0,0,0,0,0,0,0,0,0,0,0,0,0,0,0,0,0,0,0,0,0,0,0,0,0,0,0,0,0,0,0,0,0,0,0,0,0,0,0,0,0,0,0,0,0,0,0,0,0,0,0,0,0,0,0,0,0,0,0,0,0,0,0,0,0,0,0,0,0,0,0,0,0,0,0,0,0,0,0,0,0,0,0,0,0,0,0,0,0,0,0,0,0,0,0,0,0,0,0,0,0,0,0,0,0,0,0,0,0,0,0,0,0,0,0,0,0,0,0,0,0,0,0,0,0,0,0,0,0,0,0,0,0,0,0,0,0,0,0,0,0,0,0,0,0,0,0,0,0,0,0,0,0,0,0,0,0,0,0,0,0,0,0,0,0,0,0,0,0,0,0,0,0,0,0,0,0,0,0,0,0,0,0,0,0,0,0,0,0,0,0,0,0,0,0,0,0,0,0,0,0,0,0,0,0,0,0,0,0,0,0,0,0,0,0,0,0,0,0,0,0,0,0,0,0,0,0,0,0,0,0,0,0,0,0,0,0,0,0,0,0,0,0,0,0,0,0,0,0,0,0,0,0,0,0,0,0,0,0,0,0,0,0,0,0,0,0,0,0,0,0,0,0,0,0,0,0,0,0,0,0,0,0,0,0,0,0,0,0,0,0,0,0,0,0,0,0,0,0,0,0,0,0,0,0,0,0,0,0,0,0,0,0,0,0,0,0,0,0,0,0,0,0,0,0,0,0,0,0,0,0,0,0,0,0,0,0,0,0,0,0,0,0,0,0,0,0,0,0,0,0,0,0,0,0,0,0,0,0,0,0,0,0,0,0,0,0,0,0,0,0,0,0,0,0,0,0,0,0,0,0,0,0,0,0,0,0,0,0,0,0,0,0,0,0,0,0,0,0,0,0,0,0,0,0,0,0,0,0,0,0,0,0,0,0,0,0,0,0,0,0,0,0,0,0,0,0,0,0,0,0,0,0,0,0,0,0,0,0,0,0,0,0,0,0,0,0,0,0,0,0,0,0,0,0,0,0,0,0,0,0,0,0,0,0,0,0,0,0,0,0,0,0,0,0,0,0,0,0,0,0,0,0,0,0,0,0,0,0,0,0,0,0,0,0,0,0,0,0,0,0,0,0,0,0,0,0,0,0,0,0,0,0,0,0,0,0,0,0,0,0,0,0,0,0,0,0,0,0,0,0,0,0,0,0,0,0,0,0,0,0,0,0,0,0,0,0,0,0,0,0,0,0,0,0,0,0,0,0,0,0,0,0,0,0,0,0,0,0,0,0,0,0,0,0,0,0,0,0,0,0,0,0,0,0,0,0,0,0,0,0,0,0,0,0,0,0,0,0,0,0,0,0,0,0,0,0,0,0,0,0,0,0,0,0,0,0,0,0,0,0,0,0,0,0,0,0,0,0,0,0,0,0,0,0,0,0,0,0,0,0,0,0,0,0,0,0,0,0,0,0,0,0,0,0,0,0,0,0,0,0,0,0,0,0,0,0,0,0,0,0,0,0,0,0,0,0,0,0,0,0,0,0,0,0,0,0,0,0,0,0,0,0,0,0,0,0,0,0,0,0,0,0,0,0,0,0,0,0,0,0,0,0,0,0,0,0,0,0,0,0,0,0,0,0,0,0,0,0,0,0,0,0,0,0,0,0,0,0,0,0,0,0,0,0,0,0,0,0,0,0,0,0,0,0,0,0,0,0,0,0,0,0,0,0,0,0,0,0,0,0,0,0,0,0,0,0,0,0,0,0,0,0,0,0,0,0,0,0,0,0,0,0,0,0,0,0,0,0,0,0,0,0,0,0,0,0,0,0,0,0,0,0,0,0,0,0,0,0,0,0,0,0,0,0,0,0,0,0,0,0,0,0,0,0,0,0,0,0,0,0,0,0,0,0,0,0,0,0,0,0,0,0,0,0,0,0,0,0,0,0,0,0,0,0,0,0,0,0,0,0,0,0,0,0,0,0,0,0,0,0,0,0,0,0,0,0,0,0,0,0,0,0,0,0,0,0,0,0,0,0,0,0,0,0,0,0,0,0,0,0,0,0,0,0,0,0,0,0,0,0,0,0,0,0,0,0,0,0,0,0,0,0,0,0,0,0,0,0,0,0,0,0,0,0,0,0,0,0,0,0,0,0,0,0,0,0,0,0,0,0,0,0,0,0,0,0,0,0,0,0,0,0,0,0,0,0,0,0,0,0,0,0,0,0,0,0,0,0,0,0,0,0,0,0,0,0,0,0,0,0,0,0,0,0,0,0,0,0,0,0,0,0,0,0,0,0,0,0,0,0,0,0,0,0,0,0,0,0,0,0,0,0,0,0,0,0,0,0,0,0,0,0,0,0,0,0,0,0,0,0,0,0,0,0,0,0,0,0,0,0,0,0,0,0,0,0,0,0,0,0,0,0,0,0,0,0,0,0,0,0,0,0,0,0,0,0,0,0,0,0,0,0,0,0,0,0,0,0,0,0,0,0,0,0,0,0,0,0,0,0,0,0,0,0,0,0,0,0,0,0,0,0,0,0,0,0,0,0,0,0,0,0,0,0,0,0,0,0,0,0,0,0,0,0,0,0,0,0,0,0,0,0,0,0,0,0,0,0,0,0,0,0,0,0,0,0,0,0,0,0,0,0,0,0,0,0,0,0,0,0,0,0,0,0,0,0,0,0,0,0,0,0,0,0,0,0,0,0,0,0,0,0,0,0,0,0,0,0,0,0,0,0,0,0,0,0,0,0,0,0,0,0,0,0,0,0,0,0,0,0,0,0,0,0,0,0,0,0,0,0,0,0,0,0,0,0,0,0,0,0,0,0,0,0,0,0,0,0,0,0,0,0,0,0,0,0,0,0,0,0,0,0,0,0,0,0,0,0,0,0,0,0,0,0,0,0,0,0,0,0,0,0,0,0,0,0,0,0,0,0,0,0,0,0,0,0,0,0,0,0,0,0,0,0,0,0,0,0,0,0,0,0,0,0,0,0,0,0,0,0,0,0,0,0,0,0,0,0,0,0,0,0,0,0,0,0,0,0,0,0,0,0,0,0,0,0,0,0,0,0,0,0,0,0,0,0,0,0,0,0,0,0,0,0,0,0,0,0,0,0,0,0,0,0,0,0,0,0,0,0,0,0,0,0,0,0,0,0,0,0,0,0,0,0,0,0,0,0,0,0,0,0,0,0,0,0,0,0,0,0,0,0,0,0,0,0,0,0,0,0,0,0,0,0,0,0,0,0,0,0,0,0,0,0,0,0,0,0,0,0,0,0,0,0,0,0,0,0,0,0,0,0,0,0,0,0,0,0,0,0,0,0,0,0,0,0,0,0,0,0,0,0,0,0,0,0,0,0,0,0,0,0,0,0,0,0,0,0,0,0,0,0,0,0,0,0,0,0,0,0,0,0,0,0,0,0,0,0,0,0,0,0,0,0,0,0,0,0,0,0,0,0,0,0,0,0,0,0,0,0,0,0,0,0,0,0,0,0,0,0,0,0,0,0,0,0,0,0,0,0,0,0,0,0,0,0,0,0,0,0,0,0,0,0,0,0,0,0,0,0,0,0,0,0,0,0,0,0,0,0,0,0,0,0,0,0,0,0,0,0,0,0,0,0,0,0,0,0,0,0,0,0,0,0,0,0,0,0,0,0,0,0,0,0,0,0,0,0,0,0,0,0,0,0,0,0,0,0,0,0,0,0,0,0,0,0,0,0,0,0,0,0,0,0,0,0,0,0,0,0,0,0,0,0,0,0,0,0,0,0,0,0,0,0,0,0,0,0,0,0,0,0,0,0,0,0,0,0,0,0,0,0,0,0,0,0,0,0,0,0,0,0,0,0,0,0,0,0,0,0,0,0,0,0,0,0,0,0,0,0,0,0,0,0,0,0,0,0,0,0,0,0,0,0,0,0,0,0,0,0,0,0,0,0,0,0,0,0,0,0,0,0,0,0,0,0,0,0,0,0,0,0,0,0,0,0,0,0,0,0,0,0,0,0,0,0,0,0,0,0,0,0,0,0,0,0,0,0,0,0,0,0,0,0,0,0,0,0,0,0,0,0,0,0,0,0,0,0,0,0,0,0,0,0,0,0,0,0,0,0,0,0,0,0,0,0,0,0,0,0,0,0,0,0,0,0,0,0,0,0,0,0,0,0,0,0,0,0,0,0,0,0,0,0,0,0,0,0,0,0,0,0,0,0,0,0,0,0,0,0,0,0,0,0,0,0,0,0,0,0,0,0,0,0,0,0,0,0,0,0,0,0,0,0,0,0,0,0,0,0,0,0,0,0,0,0,0,0,0,0,0,0,0,0,0,0,0,0,0,0,0,0,0,0,0,0,0,0,0,0,0,0,0,0,0,0,0,0,0,0,0,0,0,0,0,0,0,0,0,0,0,0,0,0,0,0,0,0,0,0,0,0,0,0,0,0,0,0,0,0,0,0,0,0,0,0,0,0,0,0,0,0,0,0,0,0,0,0,0,0,0,0,0,0,0,0,0,0,0,0,0,0,0,0,0,0,0,0,0,0,0,0,0,0,0,0,0,0,0,0,0,0,0,0,0,0,0,0,0,0,0,0,0,0,0,0,0,0,0,0,0,0,0,0,0,0,0,0,0,0,0,0,0,0,0,0,0,0,0,0,0,0,0,0,0,0,0,0,0,0,0,0,0,0,0,0,0,0,0,0,0,0,0,0,0,0,0,0,0,0,0,0,0,0,0,0,0,0,0,0,0,0,0,0,0,0,0,0,0,0,0,0,0,0,0,0,0,0,0,0,0,0,0,0,0,0,0,0,0,0,0,0,0,0,0,0,0,0,0,0,0,0,0,0,0,0,0,0,0,0,0,0,0,0,0,0,0,0,0,0,0,0,0,0,0,0,0,0,0,0,0,0,0,0,0,0,0,0,0,0,0,0,0,0,0,0,0,0,0,0,0,0,0,0,0,0,0,0,0,0,0,0,0,0,0,0,0,0,0,0,0,0],\"colorscale\":[[0.0,\"#0508b8\"],[0.08333333333333333,\"#1910d8\"],[0.16666666666666666,\"#3c19f0\"],[0.25,\"#6b1cfb\"],[0.3333333333333333,\"#981cfd\"],[0.4166666666666667,\"#bf1cfd\"],[0.5,\"#dd2bfd\"],[0.5833333333333334,\"#f246fe\"],[0.6666666666666666,\"#fc67fd\"],[0.75,\"#fe88fc\"],[0.8333333333333334,\"#fea5fd\"],[0.9166666666666666,\"#febefe\"],[1.0,\"#fec3fe\"]]},\"name\":\"1970\",\"orientation\":\"h\",\"showlegend\":false,\"x\":[463,499,501,526,541,732,747,764,785,839,870,877,1078,1084,1834],\"y\":[\"tell\",\"let\",\"good\",\"feel\",\"to\",\"yeah\",\"like\",\"time\",\"come\",\"go\",\"get\",\"baby\",\"know\",\"oh\",\"love\"],\"type\":\"bar\",\"xaxis\":\"x2\",\"yaxis\":\"y2\"}],                        {\"template\":{\"data\":{\"histogram2dcontour\":[{\"type\":\"histogram2dcontour\",\"colorbar\":{\"outlinewidth\":0,\"ticks\":\"\"},\"colorscale\":[[0.0,\"#0d0887\"],[0.1111111111111111,\"#46039f\"],[0.2222222222222222,\"#7201a8\"],[0.3333333333333333,\"#9c179e\"],[0.4444444444444444,\"#bd3786\"],[0.5555555555555556,\"#d8576b\"],[0.6666666666666666,\"#ed7953\"],[0.7777777777777778,\"#fb9f3a\"],[0.8888888888888888,\"#fdca26\"],[1.0,\"#f0f921\"]]}],\"choropleth\":[{\"type\":\"choropleth\",\"colorbar\":{\"outlinewidth\":0,\"ticks\":\"\"}}],\"histogram2d\":[{\"type\":\"histogram2d\",\"colorbar\":{\"outlinewidth\":0,\"ticks\":\"\"},\"colorscale\":[[0.0,\"#0d0887\"],[0.1111111111111111,\"#46039f\"],[0.2222222222222222,\"#7201a8\"],[0.3333333333333333,\"#9c179e\"],[0.4444444444444444,\"#bd3786\"],[0.5555555555555556,\"#d8576b\"],[0.6666666666666666,\"#ed7953\"],[0.7777777777777778,\"#fb9f3a\"],[0.8888888888888888,\"#fdca26\"],[1.0,\"#f0f921\"]]}],\"heatmap\":[{\"type\":\"heatmap\",\"colorbar\":{\"outlinewidth\":0,\"ticks\":\"\"},\"colorscale\":[[0.0,\"#0d0887\"],[0.1111111111111111,\"#46039f\"],[0.2222222222222222,\"#7201a8\"],[0.3333333333333333,\"#9c179e\"],[0.4444444444444444,\"#bd3786\"],[0.5555555555555556,\"#d8576b\"],[0.6666666666666666,\"#ed7953\"],[0.7777777777777778,\"#fb9f3a\"],[0.8888888888888888,\"#fdca26\"],[1.0,\"#f0f921\"]]}],\"heatmapgl\":[{\"type\":\"heatmapgl\",\"colorbar\":{\"outlinewidth\":0,\"ticks\":\"\"},\"colorscale\":[[0.0,\"#0d0887\"],[0.1111111111111111,\"#46039f\"],[0.2222222222222222,\"#7201a8\"],[0.3333333333333333,\"#9c179e\"],[0.4444444444444444,\"#bd3786\"],[0.5555555555555556,\"#d8576b\"],[0.6666666666666666,\"#ed7953\"],[0.7777777777777778,\"#fb9f3a\"],[0.8888888888888888,\"#fdca26\"],[1.0,\"#f0f921\"]]}],\"contourcarpet\":[{\"type\":\"contourcarpet\",\"colorbar\":{\"outlinewidth\":0,\"ticks\":\"\"}}],\"contour\":[{\"type\":\"contour\",\"colorbar\":{\"outlinewidth\":0,\"ticks\":\"\"},\"colorscale\":[[0.0,\"#0d0887\"],[0.1111111111111111,\"#46039f\"],[0.2222222222222222,\"#7201a8\"],[0.3333333333333333,\"#9c179e\"],[0.4444444444444444,\"#bd3786\"],[0.5555555555555556,\"#d8576b\"],[0.6666666666666666,\"#ed7953\"],[0.7777777777777778,\"#fb9f3a\"],[0.8888888888888888,\"#fdca26\"],[1.0,\"#f0f921\"]]}],\"surface\":[{\"type\":\"surface\",\"colorbar\":{\"outlinewidth\":0,\"ticks\":\"\"},\"colorscale\":[[0.0,\"#0d0887\"],[0.1111111111111111,\"#46039f\"],[0.2222222222222222,\"#7201a8\"],[0.3333333333333333,\"#9c179e\"],[0.4444444444444444,\"#bd3786\"],[0.5555555555555556,\"#d8576b\"],[0.6666666666666666,\"#ed7953\"],[0.7777777777777778,\"#fb9f3a\"],[0.8888888888888888,\"#fdca26\"],[1.0,\"#f0f921\"]]}],\"mesh3d\":[{\"type\":\"mesh3d\",\"colorbar\":{\"outlinewidth\":0,\"ticks\":\"\"}}],\"scatter\":[{\"fillpattern\":{\"fillmode\":\"overlay\",\"size\":10,\"solidity\":0.2},\"type\":\"scatter\"}],\"parcoords\":[{\"type\":\"parcoords\",\"line\":{\"colorbar\":{\"outlinewidth\":0,\"ticks\":\"\"}}}],\"scatterpolargl\":[{\"type\":\"scatterpolargl\",\"marker\":{\"colorbar\":{\"outlinewidth\":0,\"ticks\":\"\"}}}],\"bar\":[{\"error_x\":{\"color\":\"#2a3f5f\"},\"error_y\":{\"color\":\"#2a3f5f\"},\"marker\":{\"line\":{\"color\":\"white\",\"width\":0.5},\"pattern\":{\"fillmode\":\"overlay\",\"size\":10,\"solidity\":0.2}},\"type\":\"bar\"}],\"scattergeo\":[{\"type\":\"scattergeo\",\"marker\":{\"colorbar\":{\"outlinewidth\":0,\"ticks\":\"\"}}}],\"scatterpolar\":[{\"type\":\"scatterpolar\",\"marker\":{\"colorbar\":{\"outlinewidth\":0,\"ticks\":\"\"}}}],\"histogram\":[{\"marker\":{\"pattern\":{\"fillmode\":\"overlay\",\"size\":10,\"solidity\":0.2}},\"type\":\"histogram\"}],\"scattergl\":[{\"type\":\"scattergl\",\"marker\":{\"colorbar\":{\"outlinewidth\":0,\"ticks\":\"\"}}}],\"scatter3d\":[{\"type\":\"scatter3d\",\"line\":{\"colorbar\":{\"outlinewidth\":0,\"ticks\":\"\"}},\"marker\":{\"colorbar\":{\"outlinewidth\":0,\"ticks\":\"\"}}}],\"scattermapbox\":[{\"type\":\"scattermapbox\",\"marker\":{\"colorbar\":{\"outlinewidth\":0,\"ticks\":\"\"}}}],\"scatterternary\":[{\"type\":\"scatterternary\",\"marker\":{\"colorbar\":{\"outlinewidth\":0,\"ticks\":\"\"}}}],\"scattercarpet\":[{\"type\":\"scattercarpet\",\"marker\":{\"colorbar\":{\"outlinewidth\":0,\"ticks\":\"\"}}}],\"carpet\":[{\"aaxis\":{\"endlinecolor\":\"#2a3f5f\",\"gridcolor\":\"#C8D4E3\",\"linecolor\":\"#C8D4E3\",\"minorgridcolor\":\"#C8D4E3\",\"startlinecolor\":\"#2a3f5f\"},\"baxis\":{\"endlinecolor\":\"#2a3f5f\",\"gridcolor\":\"#C8D4E3\",\"linecolor\":\"#C8D4E3\",\"minorgridcolor\":\"#C8D4E3\",\"startlinecolor\":\"#2a3f5f\"},\"type\":\"carpet\"}],\"table\":[{\"cells\":{\"fill\":{\"color\":\"#EBF0F8\"},\"line\":{\"color\":\"white\"}},\"header\":{\"fill\":{\"color\":\"#C8D4E3\"},\"line\":{\"color\":\"white\"}},\"type\":\"table\"}],\"barpolar\":[{\"marker\":{\"line\":{\"color\":\"white\",\"width\":0.5},\"pattern\":{\"fillmode\":\"overlay\",\"size\":10,\"solidity\":0.2}},\"type\":\"barpolar\"}],\"pie\":[{\"automargin\":true,\"type\":\"pie\"}]},\"layout\":{\"autotypenumbers\":\"strict\",\"colorway\":[\"#636efa\",\"#EF553B\",\"#00cc96\",\"#ab63fa\",\"#FFA15A\",\"#19d3f3\",\"#FF6692\",\"#B6E880\",\"#FF97FF\",\"#FECB52\"],\"font\":{\"color\":\"#2a3f5f\"},\"hovermode\":\"closest\",\"hoverlabel\":{\"align\":\"left\"},\"paper_bgcolor\":\"white\",\"plot_bgcolor\":\"white\",\"polar\":{\"bgcolor\":\"white\",\"angularaxis\":{\"gridcolor\":\"#EBF0F8\",\"linecolor\":\"#EBF0F8\",\"ticks\":\"\"},\"radialaxis\":{\"gridcolor\":\"#EBF0F8\",\"linecolor\":\"#EBF0F8\",\"ticks\":\"\"}},\"ternary\":{\"bgcolor\":\"white\",\"aaxis\":{\"gridcolor\":\"#DFE8F3\",\"linecolor\":\"#A2B1C6\",\"ticks\":\"\"},\"baxis\":{\"gridcolor\":\"#DFE8F3\",\"linecolor\":\"#A2B1C6\",\"ticks\":\"\"},\"caxis\":{\"gridcolor\":\"#DFE8F3\",\"linecolor\":\"#A2B1C6\",\"ticks\":\"\"}},\"coloraxis\":{\"colorbar\":{\"outlinewidth\":0,\"ticks\":\"\"}},\"colorscale\":{\"sequential\":[[0.0,\"#0d0887\"],[0.1111111111111111,\"#46039f\"],[0.2222222222222222,\"#7201a8\"],[0.3333333333333333,\"#9c179e\"],[0.4444444444444444,\"#bd3786\"],[0.5555555555555556,\"#d8576b\"],[0.6666666666666666,\"#ed7953\"],[0.7777777777777778,\"#fb9f3a\"],[0.8888888888888888,\"#fdca26\"],[1.0,\"#f0f921\"]],\"sequentialminus\":[[0.0,\"#0d0887\"],[0.1111111111111111,\"#46039f\"],[0.2222222222222222,\"#7201a8\"],[0.3333333333333333,\"#9c179e\"],[0.4444444444444444,\"#bd3786\"],[0.5555555555555556,\"#d8576b\"],[0.6666666666666666,\"#ed7953\"],[0.7777777777777778,\"#fb9f3a\"],[0.8888888888888888,\"#fdca26\"],[1.0,\"#f0f921\"]],\"diverging\":[[0,\"#8e0152\"],[0.1,\"#c51b7d\"],[0.2,\"#de77ae\"],[0.3,\"#f1b6da\"],[0.4,\"#fde0ef\"],[0.5,\"#f7f7f7\"],[0.6,\"#e6f5d0\"],[0.7,\"#b8e186\"],[0.8,\"#7fbc41\"],[0.9,\"#4d9221\"],[1,\"#276419\"]]},\"xaxis\":{\"gridcolor\":\"#EBF0F8\",\"linecolor\":\"#EBF0F8\",\"ticks\":\"\",\"title\":{\"standoff\":15},\"zerolinecolor\":\"#EBF0F8\",\"automargin\":true,\"zerolinewidth\":2},\"yaxis\":{\"gridcolor\":\"#EBF0F8\",\"linecolor\":\"#EBF0F8\",\"ticks\":\"\",\"title\":{\"standoff\":15},\"zerolinecolor\":\"#EBF0F8\",\"automargin\":true,\"zerolinewidth\":2},\"scene\":{\"xaxis\":{\"backgroundcolor\":\"white\",\"gridcolor\":\"#DFE8F3\",\"linecolor\":\"#EBF0F8\",\"showbackground\":true,\"ticks\":\"\",\"zerolinecolor\":\"#EBF0F8\",\"gridwidth\":2},\"yaxis\":{\"backgroundcolor\":\"white\",\"gridcolor\":\"#DFE8F3\",\"linecolor\":\"#EBF0F8\",\"showbackground\":true,\"ticks\":\"\",\"zerolinecolor\":\"#EBF0F8\",\"gridwidth\":2},\"zaxis\":{\"backgroundcolor\":\"white\",\"gridcolor\":\"#DFE8F3\",\"linecolor\":\"#EBF0F8\",\"showbackground\":true,\"ticks\":\"\",\"zerolinecolor\":\"#EBF0F8\",\"gridwidth\":2}},\"shapedefaults\":{\"line\":{\"color\":\"#2a3f5f\"}},\"annotationdefaults\":{\"arrowcolor\":\"#2a3f5f\",\"arrowhead\":0,\"arrowwidth\":1},\"geo\":{\"bgcolor\":\"white\",\"landcolor\":\"white\",\"subunitcolor\":\"#C8D4E3\",\"showland\":true,\"showlakes\":true,\"lakecolor\":\"white\"},\"title\":{\"x\":0.05},\"mapbox\":{\"style\":\"light\"}}},\"xaxis\":{\"anchor\":\"y\",\"domain\":[0.0,0.45]},\"yaxis\":{\"anchor\":\"x\",\"domain\":[0.0,1.0]},\"xaxis2\":{\"anchor\":\"y2\",\"domain\":[0.55,1.0]},\"yaxis2\":{\"anchor\":\"x2\",\"domain\":[0.0,1.0]},\"annotations\":[{\"font\":{\"size\":16},\"showarrow\":false,\"text\":\"1960\",\"x\":0.225,\"xanchor\":\"center\",\"xref\":\"paper\",\"y\":1.0,\"yanchor\":\"bottom\",\"yref\":\"paper\"},{\"font\":{\"size\":16},\"showarrow\":false,\"text\":\"1970\",\"x\":0.775,\"xanchor\":\"center\",\"xref\":\"paper\",\"y\":1.0,\"yanchor\":\"bottom\",\"yref\":\"paper\"},{\"font\":{\"size\":16},\"showarrow\":false,\"text\":\"number of occurrences\",\"x\":0.5,\"xanchor\":\"center\",\"xref\":\"paper\",\"y\":0,\"yanchor\":\"top\",\"yref\":\"paper\",\"yshift\":-30},{\"font\":{\"size\":16},\"showarrow\":false,\"text\":\"terms\",\"textangle\":-90,\"x\":0,\"xanchor\":\"right\",\"xref\":\"paper\",\"xshift\":-40,\"y\":0.5,\"yanchor\":\"middle\",\"yref\":\"paper\"}]},                        {\"responsive\": true}                    ).then(function(){\n",
       "                            \n",
       "var gd = document.getElementById('bbb0dbe2-ae64-42d0-8287-1b77ad6127e2');\n",
       "var x = new MutationObserver(function (mutations, observer) {{\n",
       "        var display = window.getComputedStyle(gd).display;\n",
       "        if (!display || display === 'none') {{\n",
       "            console.log([gd, 'removed!']);\n",
       "            Plotly.purge(gd);\n",
       "            observer.disconnect();\n",
       "        }}\n",
       "}});\n",
       "\n",
       "// Listen for the removal of the full notebook cells\n",
       "var notebookContainer = gd.closest('#notebook-container');\n",
       "if (notebookContainer) {{\n",
       "    x.observe(notebookContainer, {childList: true});\n",
       "}}\n",
       "\n",
       "// Listen for the clearing of the current output cell\n",
       "var outputEl = gd.closest('.output');\n",
       "if (outputEl) {{\n",
       "    x.observe(outputEl, {childList: true});\n",
       "}}\n",
       "\n",
       "                        })                };                });            </script>        </div>"
      ]
     },
     "metadata": {},
     "output_type": "display_data"
    }
   ],
   "source": [
    "# first decades\n",
    "tdm = TermsDocumentsMatrix(sdf, decades = [1960, 1970],\n",
    "                           colorscale = 'Plotly3')\n",
    "\n",
    "# display bar charts of most frequent terms\n",
    "tdm.most_freq_terms(n_rows = 1, n_cols = 2, n_terms = 15)"
   ]
  },
  {
   "cell_type": "markdown",
   "id": "05855a01",
   "metadata": {
    "papermill": {
     "duration": 0.039192,
     "end_time": "2023-03-15T23:29:24.988536",
     "exception": false,
     "start_time": "2023-03-15T23:29:24.949344",
     "status": "completed"
    },
    "tags": []
   },
   "source": [
    "According to the bar graphs displayed above, a group of words seems to recur on each decade: Love, know, go, feel ... Words that seem to relate to the popular song that can talk about love. This is consistent with our previous analysis from the pie charts showing the proportions of musical styles across time. We also notice an important presence of onomatopoeia like yeah or oh."
   ]
  },
  {
   "cell_type": "code",
   "execution_count": 35,
   "id": "08f78567",
   "metadata": {
    "execution": {
     "iopub.execute_input": "2023-03-15T23:29:25.073842Z",
     "iopub.status.busy": "2023-03-15T23:29:25.072098Z",
     "iopub.status.idle": "2023-03-15T23:29:37.175929Z",
     "shell.execute_reply": "2023-03-15T23:29:37.174672Z"
    },
    "papermill": {
     "duration": 12.147992,
     "end_time": "2023-03-15T23:29:37.178348",
     "exception": false,
     "start_time": "2023-03-15T23:29:25.030356",
     "status": "completed"
    },
    "tags": []
   },
   "outputs": [
    {
     "name": "stderr",
     "output_type": "stream",
     "text": [
      "100%|██████████| 260/260 [00:12<00:00, 21.61it/s]\n"
     ]
    },
    {
     "data": {
      "text/html": [
       "<div>                            <div id=\"4696b3a5-2c41-4620-a83d-f5bf9b276557\" class=\"plotly-graph-div\" style=\"height:525px; width:100%;\"></div>            <script type=\"text/javascript\">                require([\"plotly\"], function(Plotly) {                    window.PLOTLYENV=window.PLOTLYENV || {};                                    if (document.getElementById(\"4696b3a5-2c41-4620-a83d-f5bf9b276557\")) {                    Plotly.newPlot(                        \"4696b3a5-2c41-4620-a83d-f5bf9b276557\",                        [{\"marker\":{\"color\":[686,640,580,502,426,286,285,277,252,251,233,228,222,218,218,207,207,204,203,196,194,185,184,183,178,175,174,160,144,143,143,139,135,127,126,119,118,118,110,109,108,104,102,102,100,98,96,95,95,91,90,89,89,88,88,87,87,85,84,82,82,81,81,79,79,79,78,77,75,75,75,74,74,72,72,72,71,71,70,69,69,68,68,67,66,64,63,63,61,61,60,60,60,59,58,58,58,57,57,56,56,56,56,55,55,55,55,54,54,53,53,53,52,51,51,51,50,50,50,50,50,50,50,50,49,48,48,47,46,46,46,45,45,45,44,44,44,44,43,43,43,43,43,43,43,43,43,42,42,41,41,41,40,40,40,40,40,39,39,39,39,38,38,38,38,37,37,37,37,37,36,36,36,36,36,36,36,36,36,35,35,35,35,35,35,35,34,34,34,34,34,34,34,33,33,33,33,33,33,33,33,33,33,33,33,32,32,32,32,32,32,32,32,31,31,31,31,31,30,30,30,30,30,30,30,29,29,29,29,29,29,29,29,29,28,28,28,28,28,28,28,27,27,27,27,27,27,27,27,27,27,27,27,27,27,26,26,26,26,26,26,26,26,26,26,26,26,26,26,25,25,25,25,25,25,25,25,25,25,25,24,24,24,24,24,24,24,24,24,24,24,24,24,23,23,23,23,23,23,23,23,23,23,23,23,23,22,22,22,22,22,22,22,22,22,22,22,22,21,21,21,21,21,21,21,21,21,21,21,21,21,20,20,20,20,20,20,20,20,20,20,20,20,20,20,20,19,19,19,19,19,19,19,19,19,19,19,19,19,19,19,19,19,19,18,18,18,18,18,18,18,18,18,18,18,18,18,18,18,18,18,18,18,18,17,17,17,17,17,17,17,17,17,17,17,17,17,17,17,17,16,16,16,16,16,16,16,16,16,16,16,16,16,16,16,16,16,16,16,16,16,16,16,16,15,15,15,15,15,15,15,15,15,15,15,15,15,15,15,15,15,15,15,15,15,15,15,15,15,14,14,14,14,14,14,14,14,14,14,14,14,14,14,14,14,14,14,14,14,14,14,14,14,14,14,14,14,13,13,13,13,13,13,13,13,13,13,13,13,13,13,13,13,13,13,13,13,13,13,13,13,13,13,13,13,13,13,13,13,13,13,12,12,12,12,12,12,12,12,12,12,12,12,12,12,12,12,12,12,12,12,12,12,12,12,12,12,12,12,12,12,12,12,12,12,12,12,12,12,12,12,12,12,12,12,12,12,12,12,11,11,11,11,11,11,11,11,11,11,11,11,11,11,11,11,11,11,11,11,11,11,11,11,11,11,11,11,11,11,11,11,11,11,11,11,11,11,11,11,11,11,11,11,11,11,10,10,10,10,10,10,10,10,10,10,10,10,10,10,10,10,10,10,10,10,10,10,10,10,10,10,10,10,10,10,10,10,10,10,10,10,10,10,10,10,10,10,10,10,10,10,10,9,9,9,9,9,9,9,9,9,9,9,9,9,9,9,9,9,9,9,9,9,9,9,9,9,9,9,9,9,9,9,9,9,9,9,9,9,9,9,9,9,9,9,9,9,9,9,9,9,9,9,9,9,9,9,8,8,8,8,8,8,8,8,8,8,8,8,8,8,8,8,8,8,8,8,8,8,8,8,8,8,8,8,8,8,8,8,8,8,8,8,8,8,8,8,8,8,8,8,8,8,8,8,8,7,7,7,7,7,7,7,7,7,7,7,7,7,7,7,7,7,7,7,7,7,7,7,7,7,7,7,7,7,7,7,7,7,7,7,7,7,7,7,7,7,7,7,7,7,7,7,7,7,7,7,7,7,7,7,7,7,7,7,7,7,7,7,7,7,7,7,7,7,7,7,7,7,7,7,7,7,7,7,7,7,7,7,7,7,7,7,7,7,6,6,6,6,6,6,6,6,6,6,6,6,6,6,6,6,6,6,6,6,6,6,6,6,6,6,6,6,6,6,6,6,6,6,6,6,6,6,6,6,6,6,6,6,6,6,6,6,6,6,6,6,6,6,6,6,6,6,6,6,6,6,6,6,6,6,6,6,6,6,6,6,6,6,6,6,6,6,6,6,6,6,6,6,6,6,6,6,6,6,6,6,6,6,6,6,6,6,6,6,6,6,6,6,6,6,6,6,6,6,6,6,6,6,6,6,6,6,6,6,6,6,6,6,6,6,6,6,6,6,6,5,5,5,5,5,5,5,5,5,5,5,5,5,5,5,5,5,5,5,5,5,5,5,5,5,5,5,5,5,5,5,5,5,5,5,5,5,5,5,5,5,5,5,5,5,5,5,5,5,5,5,5,5,5,5,5,5,5,5,5,5,5,5,5,5,5,5,5,5,5,5,5,5,5,5,5,5,5,5,5,5,5,5,5,5,5,5,5,5,5,5,5,5,5,5,5,5,5,5,5,5,5,5,5,5,5,5,5,5,5,5,5,5,5,5,5,5,5,5,5,5,5,5,5,5,5,5,5,5,5,5,5,5,5,5,5,5,5,5,5,5,5,5,5,5,5,5,5,5,5,5,5,4,4,4,4,4,4,4,4,4,4,4,4,4,4,4,4,4,4,4,4,4,4,4,4,4,4,4,4,4,4,4,4,4,4,4,4,4,4,4,4,4,4,4,4,4,4,4,4,4,4,4,4,4,4,4,4,4,4,4,4,4,4,4,4,4,4,4,4,4,4,4,4,4,4,4,4,4,4,4,4,4,4,4,4,4,4,4,4,4,4,4,4,4,4,4,4,4,4,4,4,4,4,4,4,4,4,4,4,4,4,4,4,4,4,4,4,4,4,4,4,4,4,4,4,4,4,4,4,4,4,4,4,4,4,4,4,4,4,4,4,4,4,4,4,4,4,4,4,4,4,4,4,4,4,4,4,4,4,4,4,4,4,4,4,4,4,4,4,4,4,4,4,4,4,4,4,4,4,4,4,4,4,4,4,4,4,4,4,4,4,4,4,4,4,4,4,4,4,4,4,4,4,4,4,4,4,4,4,4,4,4,4,4,4,4,4,4,4,4,4,4,4,4,4,4,4,4,4,4,4,4,4,4,4,4,4,4,4,4,4,4,4,4,4,4,4,4,4,4,4,4,4,4,4,4,4,4,4,4,4,4,4,4,4,4,4,4,4,4,4,4,4,4,4,4,3,3,3,3,3,3,3,3,3,3,3,3,3,3,3,3,3,3,3,3,3,3,3,3,3,3,3,3,3,3,3,3,3,3,3,3,3,3,3,3,3,3,3,3,3,3,3,3,3,3,3,3,3,3,3,3,3,3,3,3,3,3,3,3,3,3,3,3,3,3,3,3,3,3,3,3,3,3,3,3,3,3,3,3,3,3,3,3,3,3,3,3,3,3,3,3,3,3,3,3,3,3,3,3,3,3,3,3,3,3,3,3,3,3,3,3,3,3,3,3,3,3,3,3,3,3,3,3,3,3,3,3,3,3,3,3,3,3,3,3,3,3,3,3,3,3,3,3,3,3,3,3,3,3,3,3,3,3,3,3,3,3,3,3,3,3,3,3,3,3,3,3,3,3,3,3,3,3,3,3,3,3,3,3,3,3,3,3,3,3,3,3,3,3,3,3,3,3,3,3,3,3,3,3,3,3,3,3,3,3,3,3,3,3,3,3,3,3,3,3,3,3,3,3,3,3,3,3,3,3,3,3,3,3,3,3,3,3,3,3,3,3,3,3,3,3,3,3,3,3,3,3,3,3,3,3,3,3,3,3,3,3,3,3,3,3,3,3,3,3,3,3,3,3,3,3,3,3,3,3,3,3,3,3,3,3,3,3,3,3,3,3,3,3,3,3,3,3,3,3,3,3,3,3,3,3,3,3,3,3,3,3,3,3,3,3,3,3,3,3,3,3,3,3,3,3,3,3,3,3,3,3,3,3,3,3,3,3,3,3,3,3,3,3,3,3,3,3,3,3,3,3,2,2,2,2,2,2,2,2,2,2,2,2,2,2,2,2,2,2,2,2,2,2,2,2,2,2,2,2,2,2,2,2,2,2,2,2,2,2,2,2,2,2,2,2,2,2,2,2,2,2,2,2,2,2,2,2,2,2,2,2,2,2,2,2,2,2,2,2,2,2,2,2,2,2,2,2,2,2,2,2,2,2,2,2,2,2,2,2,2,2,2,2,2,2,2,2,2,2,2,2,2,2,2,2,2,2,2,2,2,2,2,2,2,2,2,2,2,2,2,2,2,2,2,2,2,2,2,2,2,2,2,2,2,2,2,2,2,2,2,2,2,2,2,2,2,2,2,2,2,2,2,2,2,2,2,2,2,2,2,2,2,2,2,2,2,2,2,2,2,2,2,2,2,2,2,2,2,2,2,2,2,2,2,2,2,2,2,2,2,2,2,2,2,2,2,2,2,2,2,2,2,2,2,2,2,2,2,2,2,2,2,2,2,2,2,2,2,2,2,2,2,2,2,2,2,2,2,2,2,2,2,2,2,2,2,2,2,2,2,2,2,2,2,2,2,2,2,2,2,2,2,2,2,2,2,2,2,2,2,2,2,2,2,2,2,2,2,2,2,2,2,2,2,2,2,2,2,2,2,2,2,2,2,2,2,2,2,2,2,2,2,2,2,2,2,2,2,2,2,2,2,2,2,2,2,2,2,2,2,2,2,2,2,2,2,2,2,2,2,2,2,2,2,2,2,2,2,2,2,2,2,2,2,2,2,2,2,2,2,2,2,2,2,2,2,2,2,2,2,2,2,2,2,2,2,2,2,2,2,2,2,2,2,2,2,2,2,2,2,2,2,2,2,2,2,2,2,2,2,2,2,2,2,2,2,2,2,2,2,2,2,2,2,2,2,2,2,2,2,2,2,2,2,2,2,2,2,2,2,2,2,2,2,2,2,2,2,2,2,2,2,2,2,2,2,2,2,2,2,2,2,2,2,2,2,2,2,2,2,2,2,2,2,2,2,2,2,2,2,2,2,2,2,2,2,2,2,2,2,2,2,2,2,2,2,2,2,2,2,2,2,2,2,2,2,2,2,2,2,2,2,2,2,2,2,2,2,2,2,2,2,2,2,2,2,2,2,2,2,2,2,2,2,2,2,2,2,2,2,2,2,2,2,2,2,2,2,2,2,2,2,2,2,2,2,2,2,2,2,2,2,2,2,2,2,2,2,2,2,2,2,2,2,2,2,2,2,2,2,2,2,2,2,2,2,2,2,2,2,2,2,2,2,2,2,2,2,2,2,2,2,2,2,2,2,2,2,2,2,2,2,2,2,2,2,2,2,2,2,2,2,2,2,2,2,2,2,2,2,2,2,2,2,2,2,2,2,2,2,2,2,2,2,2,2,2,2,2,2,2,2,2,2,2,2,2,2,2,2,2,2,2,2,2,2,2,2,2,2,2,2,2,2,2,2,2,2,2,2,2,2,2,2,2,2,2,2,2,2,2,2,2,2,2,2,2,2,2,2,2,2,2,2,2,2,2,2,2,2,2,2,2,2,2,2,2,2,2,2,2,2,2,2,2,2,2,2,2,2,2,2,2,2,2,2,1,1,1,1,1,1,1,1,1,1,1,1,1,1,1,1,1,1,1,1,1,1,1,1,1,1,1,1,1,1,1,1,1,1,1,1,1,1,1,1,1,1,1,1,1,1,1,1,1,1,1,1,1,1,1,1,1,1,1,1,1,1,1,1,1,1,1,1,1,1,1,1,1,1,1,1,1,1,1,1,1,1,1,1,1,1,1,1,1,1,1,1,1,1,1,1,1,1,1,1,1,1,1,1,1,1,1,1,1,1,1,1,1,1,1,1,1,1,1,1,1,1,1,1,1,1,1,1,1,1,1,1,1,1,1,1,1,1,1,1,1,1,1,1,1,1,1,1,1,1,1,1,1,1,1,1,1,1,1,1,1,1,1,1,1,1,1,1,1,1,1,1,1,1,1,1,1,1,1,1,1,1,1,1,1,1,1,1,1,1,1,1,1,1,1,1,1,1,1,1,1,1,1,1,1,1,1,1,1,1,1,1,1,1,1,1,1,1,1,1,1,1,1,1,1,1,1,1,1,1,1,1,1,1,1,1,1,1,1,1,1,1,1,1,1,1,1,1,1,1,1,1,1,1,1,1,1,1,1,1,1,1,1,1,1,1,1,1,1,1,1,1,1,1,1,1,1,1,1,1,1,1,1,1,1,1,1,1,1,1,1,1,1,1,1,1,1,1,1,1,1,1,1,1,1,1,1,1,1,1,1,1,1,1,1,1,1,1,1,1,1,1,1,1,1,1,1,1,1,1,1,1,1,1,1,1,1,1,1,1,1,1,1,1,1,1,1,1,1,1,1,1,1,1,1,1,1,1,1,1,1,1,1,1,1,1,1,1,1,1,1,1,1,1,1,1,1,1,1,1,1,1,1,1,1,1,1,1,1,1,1,1,1,1,1,1,1,1,1,1,1,1,1,1,1,1,1,1,1,1,1,1,1,1,1,1,1,1,1,1,1,1,1,1,1,1,1,1,1,1,1,1,1,1,1,1,1,1,1,1,1,1,1,1,1,1,1,1,1,1,1,1,1,1,1,1,1,1,1,1,1,1,1,1,1,1,1,1,1,1,1,1,1,1,1,1,1,1,1,1,1,1,1,1,1,1,1,1,1,1,1,1,1,1,1,1,1,1,1,1,1,1,1,1,1,1,1,1,1,1,1,1,1,1,1,1,1,1,1,1,1,1,1,1,1,1,1,1,1,1,1,1,1,1,1,1,1,1,1,1,1,1,1,1,1,1,1,1,1,1,1,1,1,1,1,1,1,1,1,1,1,1,1,1,1,1,1,1,1,1,1,1,1,1,1,1,1,1,1,1,1,1,1,1,1,1,1,1,1,1,1,1,1,1,1,1,1,1,1,1,1,1,1,1,1,1,1,1,1,1,1,1,1,1,1,1,1,1,1,1,1,1,1,1,1,1,1,1,1,1,1,1,1,1,1,1,1,1,1,1,1,1,1,1,1,1,1,1,1,1,1,1,1,1,1,1,1,1,1,1,1,1,1,1,1,1,1,1,1,1,1,1,1,1,1,1,1,1,1,1,1,1,1,1,1,1,1,1,1,1,1,1,1,1,1,1,1,1,1,1,1,1,1,1,1,1,1,1,1,1,1,1,1,1,1,1,1,1,1,1,1,1,1,1,1,1,1,1,1,1,1,1,1,1,1,1,1,1,1,1,1,1,1,1,1,1,1,1,1,1,1,1,1,1,1,1,1,1,1,1,1,1,1,1,1,1,1,1,1,1,1,1,1,1,1,1,1,1,1,1,1,1,1,1,1,1,1,1,1,1,1,1,1,1,1,1,1,1,1,1,1,1,1,1,1,1,1,1,1,1,1,1,1,1,1,1,1,1,1,1,1,1,1,1,1,1,1,1,1,1,1,1,1,1,1,1,1,1,1,1,1,1,1,1,1,1,1,1,1,1,1,1,1,1,1,1,1,1,1,1,1,1,1,1,1,1,1,1,1,1,1,1,1,1,1,1,1,1,1,1,1,1,1,1,1,1,1,1,1,1,1,1,1,1,1,1,1,1,1,1,1,1,1,1,1,1,1,1,1,1,1,1,1,1,1,1,1,1,1,1,1,1,1,1,1,1,1,1,1,1,1,1,1,1,1,1,1,1,1,1,1,1,1,1,1,1,1,1,1,1,1,1,1,1,1,1,1,1,1,1,1,1,1,1,1,1,1,1,1,1,1,1,1,1,1,1,1,1,1,1,1,1,1,1,1,1,1,1,1,1,1,1,1,1,1,1,1,1,1,1,1,1,1,1,1,1,1,1,1,1,1,1,1,1,1,1,1,1,1,1,1,1,1,1,1,1,1,1,1,1,1,1,1,1,1,1,1,1,1,1,1,1,1,1,1,1,1,1,1,1,1,1,1,1,1,1,1,1,1,1,1,1,1,1,1,1,1,1,1,1,1,1,1,1,1,1,1,1,1,1,1,1,1,1,1,1,1,1,1,1,1,1,1,1,1,1,1,1,1,1,1,1,1,1,1,1,1,1,1,1,1,1,1,1,1,1,1,1,1,1,1,1,1,1,1,1,1,1,1,1,1,1,1,1,1,1,1,1,1,1,1,1,1,1,1,1,1,1,1,1,1,1,1,1,1,1,1,1,1,1,1,1,1,1,1,1,1,1,1,1,1,1,1,1,1,1,1,1,1,1,1,1,1,1,1,1,1,1,1,1,1,1,1,1,1,1,1,1,1,1,1,1,1,1,1,1,1,1,1,1,1,1,1,1,1,1,1,1,1,1,1,1,1,1,1,1,1,1,1,1,1,1,1,1,1,1,1,1,1,1,1,1,1,1,1,1,1,1,1,1,1,1,1,1,1,1,1,1,1,1,1,1,1,1,1,1,1,1,1,1,1,1,1,1,1,1,1,1,1,1,1,1,1,1,1,1,1,1,1,1,1,1,1,1,1,1,1,1,1,1,1,1,1,1,1,1,1,1,1,1,1,1,1,1,1,1,1,1,1,1,1,1,1,1,1,1,1,1,1,1,1,1,1,1,1,1,1,1,1,1,1,1,1,1,1,1,1,1,1,1,1,1,1,1,1,1,1,1,1,1,1,1,1,1,1,1,1,1,1,1,1,1,1,1,1,1,1,1,1,1,1,1,1,1,1,1,1,1,1,1,1,1,1,1,1,1,1,1,1,1,1,1,1,1,1,1,1,1,1,1,1,1,1,1,1,1,1,1,1,1,1,1,1,1,1,1,1,1,1,1,1,1,1,1,1,1,1,1,1,1,1,1,1,1,1,1,1,1,1,1,1,1,1,1,1,1,1,1,1,1,1,1,1,1,1,1,1,1,1,1,1,1,1,1,1,1,1,1,1,1,1,1,1,1,1,1,1,1,1,1,1,1,1,1,1,1,1,1,1,1,1,1,1,1,1,1,1,1,1,1,1,1,1,1,1,1,1,1,1,1,1,1,1,1,1,1,1,1,1,1,1,1,1,1,1,1,1,1,1,1,1,1,1,1,1,1,1,1,1,1,1,1,1,1,1,1,1,1,1,1,1,1,1,1,1,1,1,1,1,1,1,1,1,1,1,1,1,1,1,1,1,1,1,1,1,1,1,1,1,1,1,1,1,1,1,1,1,1,1,1,1,1,1,1,1,1,1,1,1,1,1,1,1,1,1,1,1,1,1,1,1,1,1,1,1,1,1,1,1,1,1,1,1,1,1,1,1,1,1,1,1,1,1,1,1,1,1,1,1,1,1,1,1,1,1,1,1,1,1,1,1,1,1,1,1,1,1,1,1,1,1,1,1,1,1,1,1,1,1,1,1,1,1,1,1,1,1,1,1,1,1,1,1,1,1,1,1,1,1,1,1,1,1,1,1,1,1,1,1,1,1,1,1,1,1,1,1,1,1,1,1,1,1,1,1,1,1,1,1,1,1,1,1,1,1,1,1,1,1,1,1,1,1,1,1,1,1,1,1,1,1,1,1,1,1,1,1,1,1,1,1,1,1,1,1,1,1,1,1,1,1,1,1,1,1,1,1,1,1,1,1,1,1,1,1,1,1,1,1,1,1,1,1,1,1,1,1,1,1,1,1,1,1,1,1,1,1,1,1,1,1,1,1,1,1,1,1,1,1,1,1,1,1,1,1,1,1,1,1,1,1,1,1,1,1,1,1,1,1,1,1,1,1,1,1,1,1,1,1,1,1,1,1,1,1,1,1,1,1,1,1,1,1,1,1,1,1,1,1,1,1,1,1,1,1,1,1,1,1,1,1,1,1,1,1,1,1,1,1,1,1,1,1,1,1,1,1,1,1,1,1,1,1,1,1,1,1,1,1,1,1,1,1,1,1,1,1,1,1,1,1,1,1,1,1,1,1,1,1,1,1,1,1,1,1,1,1,1,1,1,1,1,1,1,1,1,1,1,1,1,1,1,1,1,1,1,1,1,1,1,1,1,1,1,1,1,1,1,1,1,1,1,1,1,1,1,1,1,1,1,1,1,1,1,1,1,1,1,1,1,1,1,1,1,1,1,1,1,1,1,1,1,1,1,1,1,1,1,1,1,1,1,1,1,1,1,1,1,1,1,1,1,1,1,1,1,1,1,1,1,1,1,1,1,1,1,1,1,1,1,1,1,1,1,1,1,1,1,1,1,1,1,1,1,1,1,1,1,1,1,1,1,1,1,1,1,1,1,1,1,1,1,1,1,1,1,1,1,1,1,1,1,1,1,1,1,1,1,1,1,1,1,1,1,1,1,1,1,1,1,1,1,1,1,1,1,1,1,1,1,1,1,1,1,1,1,1,1,1,1,1,1,1,1,1,1,1,1,1,1,1,1,1,1,1,1,1,1,1,1,1,1,1,1,1,1,1,1,1,1,1,1,1,1,1,1,1,1,1,1,1,1,1,1,1,1,1,1,1,1,1,1,1,1,1,1,1,1,1,1,1,1,1,1,1,1,1,1,1,1,1,1,1,1,1,1,1,1,1,1,1,1,1,1,1,1,1,1,1,1,1,1,1,1,1,1,1,1,1,1,1,1,1,1,1,1,1,1,1,1,1,1,1,1,1,1,1,1,1,1,1,1,1,1,1,1,1,1,1,1,1,1,1,1,1,1,1,1,1,1,1,1,1,1,1,1,1,1,1,1,1,1,1,1,1,1,1,1,1,1,1,1,1,1,1,1,1,1,1,1,1,1,1,1,1,1,1,1,1,1,1,1,1,1,1,1,1,1,1,1,1,1,1,1,1,1,1,1,1,1,1,1,1,1,1,1,1,1,1,1,1,1,1,1],\"colorscale\":[[0.0,\"#0d0887\"],[0.1111111111111111,\"#46039f\"],[0.2222222222222222,\"#7201a8\"],[0.3333333333333333,\"#9c179e\"],[0.4444444444444444,\"#bd3786\"],[0.5555555555555556,\"#d8576b\"],[0.6666666666666666,\"#ed7953\"],[0.7777777777777778,\"#fb9f3a\"],[0.8888888888888888,\"#fdca26\"],[1.0,\"#f0f921\"]]},\"name\":\"2020\",\"orientation\":\"h\",\"showlegend\":false,\"x\":[218,218,222,228,233,251,252,277,285,286,426,502,580,640,686],\"y\":[\"think\",\"shit\",\"let\",\"tell\",\"time\",\"want\",\"come\",\"go\",\"feel\",\"oh\",\"love\",\"know\",\"get\",\"yeah\",\"like\"],\"type\":\"bar\",\"xaxis\":\"x\",\"yaxis\":\"y\"}],                        {\"template\":{\"data\":{\"histogram2dcontour\":[{\"type\":\"histogram2dcontour\",\"colorbar\":{\"outlinewidth\":0,\"ticks\":\"\"},\"colorscale\":[[0.0,\"#0d0887\"],[0.1111111111111111,\"#46039f\"],[0.2222222222222222,\"#7201a8\"],[0.3333333333333333,\"#9c179e\"],[0.4444444444444444,\"#bd3786\"],[0.5555555555555556,\"#d8576b\"],[0.6666666666666666,\"#ed7953\"],[0.7777777777777778,\"#fb9f3a\"],[0.8888888888888888,\"#fdca26\"],[1.0,\"#f0f921\"]]}],\"choropleth\":[{\"type\":\"choropleth\",\"colorbar\":{\"outlinewidth\":0,\"ticks\":\"\"}}],\"histogram2d\":[{\"type\":\"histogram2d\",\"colorbar\":{\"outlinewidth\":0,\"ticks\":\"\"},\"colorscale\":[[0.0,\"#0d0887\"],[0.1111111111111111,\"#46039f\"],[0.2222222222222222,\"#7201a8\"],[0.3333333333333333,\"#9c179e\"],[0.4444444444444444,\"#bd3786\"],[0.5555555555555556,\"#d8576b\"],[0.6666666666666666,\"#ed7953\"],[0.7777777777777778,\"#fb9f3a\"],[0.8888888888888888,\"#fdca26\"],[1.0,\"#f0f921\"]]}],\"heatmap\":[{\"type\":\"heatmap\",\"colorbar\":{\"outlinewidth\":0,\"ticks\":\"\"},\"colorscale\":[[0.0,\"#0d0887\"],[0.1111111111111111,\"#46039f\"],[0.2222222222222222,\"#7201a8\"],[0.3333333333333333,\"#9c179e\"],[0.4444444444444444,\"#bd3786\"],[0.5555555555555556,\"#d8576b\"],[0.6666666666666666,\"#ed7953\"],[0.7777777777777778,\"#fb9f3a\"],[0.8888888888888888,\"#fdca26\"],[1.0,\"#f0f921\"]]}],\"heatmapgl\":[{\"type\":\"heatmapgl\",\"colorbar\":{\"outlinewidth\":0,\"ticks\":\"\"},\"colorscale\":[[0.0,\"#0d0887\"],[0.1111111111111111,\"#46039f\"],[0.2222222222222222,\"#7201a8\"],[0.3333333333333333,\"#9c179e\"],[0.4444444444444444,\"#bd3786\"],[0.5555555555555556,\"#d8576b\"],[0.6666666666666666,\"#ed7953\"],[0.7777777777777778,\"#fb9f3a\"],[0.8888888888888888,\"#fdca26\"],[1.0,\"#f0f921\"]]}],\"contourcarpet\":[{\"type\":\"contourcarpet\",\"colorbar\":{\"outlinewidth\":0,\"ticks\":\"\"}}],\"contour\":[{\"type\":\"contour\",\"colorbar\":{\"outlinewidth\":0,\"ticks\":\"\"},\"colorscale\":[[0.0,\"#0d0887\"],[0.1111111111111111,\"#46039f\"],[0.2222222222222222,\"#7201a8\"],[0.3333333333333333,\"#9c179e\"],[0.4444444444444444,\"#bd3786\"],[0.5555555555555556,\"#d8576b\"],[0.6666666666666666,\"#ed7953\"],[0.7777777777777778,\"#fb9f3a\"],[0.8888888888888888,\"#fdca26\"],[1.0,\"#f0f921\"]]}],\"surface\":[{\"type\":\"surface\",\"colorbar\":{\"outlinewidth\":0,\"ticks\":\"\"},\"colorscale\":[[0.0,\"#0d0887\"],[0.1111111111111111,\"#46039f\"],[0.2222222222222222,\"#7201a8\"],[0.3333333333333333,\"#9c179e\"],[0.4444444444444444,\"#bd3786\"],[0.5555555555555556,\"#d8576b\"],[0.6666666666666666,\"#ed7953\"],[0.7777777777777778,\"#fb9f3a\"],[0.8888888888888888,\"#fdca26\"],[1.0,\"#f0f921\"]]}],\"mesh3d\":[{\"type\":\"mesh3d\",\"colorbar\":{\"outlinewidth\":0,\"ticks\":\"\"}}],\"scatter\":[{\"fillpattern\":{\"fillmode\":\"overlay\",\"size\":10,\"solidity\":0.2},\"type\":\"scatter\"}],\"parcoords\":[{\"type\":\"parcoords\",\"line\":{\"colorbar\":{\"outlinewidth\":0,\"ticks\":\"\"}}}],\"scatterpolargl\":[{\"type\":\"scatterpolargl\",\"marker\":{\"colorbar\":{\"outlinewidth\":0,\"ticks\":\"\"}}}],\"bar\":[{\"error_x\":{\"color\":\"#2a3f5f\"},\"error_y\":{\"color\":\"#2a3f5f\"},\"marker\":{\"line\":{\"color\":\"white\",\"width\":0.5},\"pattern\":{\"fillmode\":\"overlay\",\"size\":10,\"solidity\":0.2}},\"type\":\"bar\"}],\"scattergeo\":[{\"type\":\"scattergeo\",\"marker\":{\"colorbar\":{\"outlinewidth\":0,\"ticks\":\"\"}}}],\"scatterpolar\":[{\"type\":\"scatterpolar\",\"marker\":{\"colorbar\":{\"outlinewidth\":0,\"ticks\":\"\"}}}],\"histogram\":[{\"marker\":{\"pattern\":{\"fillmode\":\"overlay\",\"size\":10,\"solidity\":0.2}},\"type\":\"histogram\"}],\"scattergl\":[{\"type\":\"scattergl\",\"marker\":{\"colorbar\":{\"outlinewidth\":0,\"ticks\":\"\"}}}],\"scatter3d\":[{\"type\":\"scatter3d\",\"line\":{\"colorbar\":{\"outlinewidth\":0,\"ticks\":\"\"}},\"marker\":{\"colorbar\":{\"outlinewidth\":0,\"ticks\":\"\"}}}],\"scattermapbox\":[{\"type\":\"scattermapbox\",\"marker\":{\"colorbar\":{\"outlinewidth\":0,\"ticks\":\"\"}}}],\"scatterternary\":[{\"type\":\"scatterternary\",\"marker\":{\"colorbar\":{\"outlinewidth\":0,\"ticks\":\"\"}}}],\"scattercarpet\":[{\"type\":\"scattercarpet\",\"marker\":{\"colorbar\":{\"outlinewidth\":0,\"ticks\":\"\"}}}],\"carpet\":[{\"aaxis\":{\"endlinecolor\":\"#2a3f5f\",\"gridcolor\":\"#C8D4E3\",\"linecolor\":\"#C8D4E3\",\"minorgridcolor\":\"#C8D4E3\",\"startlinecolor\":\"#2a3f5f\"},\"baxis\":{\"endlinecolor\":\"#2a3f5f\",\"gridcolor\":\"#C8D4E3\",\"linecolor\":\"#C8D4E3\",\"minorgridcolor\":\"#C8D4E3\",\"startlinecolor\":\"#2a3f5f\"},\"type\":\"carpet\"}],\"table\":[{\"cells\":{\"fill\":{\"color\":\"#EBF0F8\"},\"line\":{\"color\":\"white\"}},\"header\":{\"fill\":{\"color\":\"#C8D4E3\"},\"line\":{\"color\":\"white\"}},\"type\":\"table\"}],\"barpolar\":[{\"marker\":{\"line\":{\"color\":\"white\",\"width\":0.5},\"pattern\":{\"fillmode\":\"overlay\",\"size\":10,\"solidity\":0.2}},\"type\":\"barpolar\"}],\"pie\":[{\"automargin\":true,\"type\":\"pie\"}]},\"layout\":{\"autotypenumbers\":\"strict\",\"colorway\":[\"#636efa\",\"#EF553B\",\"#00cc96\",\"#ab63fa\",\"#FFA15A\",\"#19d3f3\",\"#FF6692\",\"#B6E880\",\"#FF97FF\",\"#FECB52\"],\"font\":{\"color\":\"#2a3f5f\"},\"hovermode\":\"closest\",\"hoverlabel\":{\"align\":\"left\"},\"paper_bgcolor\":\"white\",\"plot_bgcolor\":\"white\",\"polar\":{\"bgcolor\":\"white\",\"angularaxis\":{\"gridcolor\":\"#EBF0F8\",\"linecolor\":\"#EBF0F8\",\"ticks\":\"\"},\"radialaxis\":{\"gridcolor\":\"#EBF0F8\",\"linecolor\":\"#EBF0F8\",\"ticks\":\"\"}},\"ternary\":{\"bgcolor\":\"white\",\"aaxis\":{\"gridcolor\":\"#DFE8F3\",\"linecolor\":\"#A2B1C6\",\"ticks\":\"\"},\"baxis\":{\"gridcolor\":\"#DFE8F3\",\"linecolor\":\"#A2B1C6\",\"ticks\":\"\"},\"caxis\":{\"gridcolor\":\"#DFE8F3\",\"linecolor\":\"#A2B1C6\",\"ticks\":\"\"}},\"coloraxis\":{\"colorbar\":{\"outlinewidth\":0,\"ticks\":\"\"}},\"colorscale\":{\"sequential\":[[0.0,\"#0d0887\"],[0.1111111111111111,\"#46039f\"],[0.2222222222222222,\"#7201a8\"],[0.3333333333333333,\"#9c179e\"],[0.4444444444444444,\"#bd3786\"],[0.5555555555555556,\"#d8576b\"],[0.6666666666666666,\"#ed7953\"],[0.7777777777777778,\"#fb9f3a\"],[0.8888888888888888,\"#fdca26\"],[1.0,\"#f0f921\"]],\"sequentialminus\":[[0.0,\"#0d0887\"],[0.1111111111111111,\"#46039f\"],[0.2222222222222222,\"#7201a8\"],[0.3333333333333333,\"#9c179e\"],[0.4444444444444444,\"#bd3786\"],[0.5555555555555556,\"#d8576b\"],[0.6666666666666666,\"#ed7953\"],[0.7777777777777778,\"#fb9f3a\"],[0.8888888888888888,\"#fdca26\"],[1.0,\"#f0f921\"]],\"diverging\":[[0,\"#8e0152\"],[0.1,\"#c51b7d\"],[0.2,\"#de77ae\"],[0.3,\"#f1b6da\"],[0.4,\"#fde0ef\"],[0.5,\"#f7f7f7\"],[0.6,\"#e6f5d0\"],[0.7,\"#b8e186\"],[0.8,\"#7fbc41\"],[0.9,\"#4d9221\"],[1,\"#276419\"]]},\"xaxis\":{\"gridcolor\":\"#EBF0F8\",\"linecolor\":\"#EBF0F8\",\"ticks\":\"\",\"title\":{\"standoff\":15},\"zerolinecolor\":\"#EBF0F8\",\"automargin\":true,\"zerolinewidth\":2},\"yaxis\":{\"gridcolor\":\"#EBF0F8\",\"linecolor\":\"#EBF0F8\",\"ticks\":\"\",\"title\":{\"standoff\":15},\"zerolinecolor\":\"#EBF0F8\",\"automargin\":true,\"zerolinewidth\":2},\"scene\":{\"xaxis\":{\"backgroundcolor\":\"white\",\"gridcolor\":\"#DFE8F3\",\"linecolor\":\"#EBF0F8\",\"showbackground\":true,\"ticks\":\"\",\"zerolinecolor\":\"#EBF0F8\",\"gridwidth\":2},\"yaxis\":{\"backgroundcolor\":\"white\",\"gridcolor\":\"#DFE8F3\",\"linecolor\":\"#EBF0F8\",\"showbackground\":true,\"ticks\":\"\",\"zerolinecolor\":\"#EBF0F8\",\"gridwidth\":2},\"zaxis\":{\"backgroundcolor\":\"white\",\"gridcolor\":\"#DFE8F3\",\"linecolor\":\"#EBF0F8\",\"showbackground\":true,\"ticks\":\"\",\"zerolinecolor\":\"#EBF0F8\",\"gridwidth\":2}},\"shapedefaults\":{\"line\":{\"color\":\"#2a3f5f\"}},\"annotationdefaults\":{\"arrowcolor\":\"#2a3f5f\",\"arrowhead\":0,\"arrowwidth\":1},\"geo\":{\"bgcolor\":\"white\",\"landcolor\":\"white\",\"subunitcolor\":\"#C8D4E3\",\"showland\":true,\"showlakes\":true,\"lakecolor\":\"white\"},\"title\":{\"x\":0.05},\"mapbox\":{\"style\":\"light\"}}},\"xaxis\":{\"anchor\":\"y\",\"domain\":[0.0,1.0]},\"yaxis\":{\"anchor\":\"x\",\"domain\":[0.0,1.0]},\"annotations\":[{\"font\":{\"size\":16},\"showarrow\":false,\"text\":\"2020\",\"x\":0.5,\"xanchor\":\"center\",\"xref\":\"paper\",\"y\":1.0,\"yanchor\":\"bottom\",\"yref\":\"paper\"},{\"font\":{\"size\":16},\"showarrow\":false,\"text\":\"number of occurrences\",\"x\":0.5,\"xanchor\":\"center\",\"xref\":\"paper\",\"y\":0,\"yanchor\":\"top\",\"yref\":\"paper\",\"yshift\":-30},{\"font\":{\"size\":16},\"showarrow\":false,\"text\":\"terms\",\"textangle\":-90,\"x\":0,\"xanchor\":\"right\",\"xref\":\"paper\",\"xshift\":-40,\"y\":0.5,\"yanchor\":\"middle\",\"yref\":\"paper\"}]},                        {\"responsive\": true}                    ).then(function(){\n",
       "                            \n",
       "var gd = document.getElementById('4696b3a5-2c41-4620-a83d-f5bf9b276557');\n",
       "var x = new MutationObserver(function (mutations, observer) {{\n",
       "        var display = window.getComputedStyle(gd).display;\n",
       "        if (!display || display === 'none') {{\n",
       "            console.log([gd, 'removed!']);\n",
       "            Plotly.purge(gd);\n",
       "            observer.disconnect();\n",
       "        }}\n",
       "}});\n",
       "\n",
       "// Listen for the removal of the full notebook cells\n",
       "var notebookContainer = gd.closest('#notebook-container');\n",
       "if (notebookContainer) {{\n",
       "    x.observe(notebookContainer, {childList: true});\n",
       "}}\n",
       "\n",
       "// Listen for the clearing of the current output cell\n",
       "var outputEl = gd.closest('.output');\n",
       "if (outputEl) {{\n",
       "    x.observe(outputEl, {childList: true});\n",
       "}}\n",
       "\n",
       "                        })                };                });            </script>        </div>"
      ]
     },
     "metadata": {},
     "output_type": "display_data"
    }
   ],
   "source": [
    "# first decades\n",
    "tdm = TermsDocumentsMatrix(sdf, decades = [2020],\n",
    "                          colorscale = 'Plasma')\n",
    "\n",
    "# most frequent terms\n",
    "tdm.most_freq_terms(n_rows = 1, n_cols = 1, n_terms = 15)"
   ]
  },
  {
   "cell_type": "markdown",
   "id": "7ac687a0",
   "metadata": {
    "papermill": {
     "duration": 0.045283,
     "end_time": "2023-03-15T23:29:37.267627",
     "exception": false,
     "start_time": "2023-03-15T23:29:37.222344",
     "status": "completed"
    },
    "tags": []
   },
   "source": [
    "We get similar results on this second decade with similar high occurrence words. We see a greater amount of onomatopoeia in the current decade. We can explain this by an emergence of the rap music style on this current and last decade. There is in this style of music a very used process, the 'ad-libs'. They are sounds, words or onomatopoeias that the artists pronounce sometimes between two verses or at the end of a sentence to give more impact to their text and to dynamize the atmosphere of a title. This may explain the greater presence of onomatopoeia in the lyrics of this decade.\n",
    "\n",
    "\n",
    "### Topic modeling with LDA\n",
    "\n",
    "LDA is a common technic use in topic modeling, we firstly process basic preprocessing."
   ]
  },
  {
   "cell_type": "code",
   "execution_count": 36,
   "id": "635506d2",
   "metadata": {
    "execution": {
     "iopub.execute_input": "2023-03-15T23:29:37.359387Z",
     "iopub.status.busy": "2023-03-15T23:29:37.358983Z",
     "iopub.status.idle": "2023-03-15T23:29:38.661847Z",
     "shell.execute_reply": "2023-03-15T23:29:38.660726Z"
    },
    "papermill": {
     "duration": 1.351498,
     "end_time": "2023-03-15T23:29:38.664570",
     "exception": false,
     "start_time": "2023-03-15T23:29:37.313072",
     "status": "completed"
    },
    "tags": []
   },
   "outputs": [],
   "source": [
    "# gensim\n",
    "from gensim.models.ldamodel import LdaModel\n",
    "from gensim.corpora.dictionary import Dictionary\n",
    "from gensim.test.utils import datapath\n",
    "\n",
    "# utils\n",
    "from datetime import datetime\n",
    "\n",
    "# dashboards\n",
    "import pyLDAvis\n",
    "import pyLDAvis.gensim\n",
    "\n",
    "# TSNE dependencies\n",
    "from sklearn.manifold import TSNE\n",
    "from bokeh.plotting import figure, output_file, show\n",
    "from bokeh.models import Label\n",
    "from bokeh.io import output_notebook\n",
    "import numpy as np\n",
    "import matplotlib.colors as mcolors\n",
    "\n",
    "\n",
    "class LDATopicModeling():\n",
    "    \n",
    "    def __init__(self, df = sdf,\n",
    "                 decade = 1970,\n",
    "                 directory = \"/kaggle/working/models/\",\n",
    "                 existing = False,\n",
    "                 n_topics = 10,\n",
    "                lang_preprocess = preprocess):\n",
    "        # Apply preprocessing on decade data\n",
    "        documents = df.loc[df.decade == decade, 'lyrics'].apply(lang_preprocess)\n",
    "            \n",
    "        # Create a corpus from a list of texts\n",
    "        self.__id2word = Dictionary(documents.tolist())\n",
    "        self.__corpus = [self.__id2word.doc2bow(doc) for doc in documents]\n",
    "        self.__n_topics = n_topics\n",
    "        \n",
    "        #training\n",
    "        if os.path.isfile(existing):\n",
    "            # Load a potentially pretrained model from disk.\n",
    "            self.model = LdaModel.load(temp_file)\n",
    "        else:\n",
    "            self.model = LdaModel(corpus=tqdm(self.__corpus),\n",
    "                                      id2word=self.__id2word,\n",
    "                                      num_topics=n_topics)\n",
    "        # directory path\n",
    "        self.__directory = directory\n",
    "    \n",
    "    @property\n",
    "    def get_id2word(self):\n",
    "        return self.__id2word\n",
    "    \n",
    "    @property\n",
    "    def get_corpus(self):\n",
    "        return self.__corpus\n",
    "    \n",
    "    def save_current_model(self):\n",
    "        # retrieve time\n",
    "        now = datetime.now()\n",
    "        # create the directory if it doesn't exist\n",
    "        try:\n",
    "            os.makedirs(directory + now.strftime(\"%d%m%Y_%H%M%S\"))\n",
    "        except:\n",
    "            pass\n",
    "        # Save model to disk.\n",
    "        temp_file = datapath(directory + now.strftime(\"%d%m%Y_%H%M%S\") + '/model')\n",
    "        \n",
    "        self.model.save(temp_file)\n",
    "    \n",
    "    def dashboard_LDAvis(self):\n",
    "        # some basic dataviz\n",
    "        pyLDAvis.enable_notebook()\n",
    "        return pyLDAvis.gensim.prepare(self.model, self.__corpus, self.__id2word)\n",
    "        \n",
    "    def plot_tsne(self):\n",
    "        # n-1 rows each is a vector with i-1 posisitons, where n the number of documents\n",
    "        # i the topic number and tmp[i] = probability of topic i\n",
    "        topic_weights = []\n",
    "        for row_list in self.model[self.get_corpus]:\n",
    "            tmp = np.zeros(self.__n_topics)\n",
    "            for i, w in row_list:\n",
    "                tmp[i] = w\n",
    "            topic_weights.append(tmp)\n",
    "\n",
    "\n",
    "        # Array of topic weights    \n",
    "        arr = pd.DataFrame(topic_weights).fillna(0).values\n",
    "\n",
    "        # Keep the well separated points (optional)\n",
    "        arr = arr[np.amax(arr, axis=1) > 0.35]\n",
    "\n",
    "        # Dominant topic number in each doc\n",
    "        topic_num = np.argmax(arr, axis=1)\n",
    "        print(\"topic_num :\", topic_num)\n",
    "\n",
    "        # tSNE Dimension Reduction\n",
    "        tsne_model = TSNE(n_components=2, verbose=1, init='pca')\n",
    "        tsne_lda = tsne_model.fit_transform(arr)\n",
    "\n",
    "        # Plot the Topic Clusters using Bokeh\n",
    "        output_notebook()\n",
    "        mycolors = np.array([color for name, color in mcolors.TABLEAU_COLORS.items()])\n",
    "        plot = figure(title=\"t-SNE Clustering of {} LDA Topics\".format(self.__n_topics), \n",
    "                      plot_width=900, plot_height=700)\n",
    "        plot.scatter(x=tsne_lda[:,0], y=tsne_lda[:,1], color=mycolors[topic_num])\n",
    "        show(plot)\n",
    "    "
   ]
  },
  {
   "cell_type": "code",
   "execution_count": 37,
   "id": "e4c68b9e",
   "metadata": {
    "execution": {
     "iopub.execute_input": "2023-03-15T23:29:38.757258Z",
     "iopub.status.busy": "2023-03-15T23:29:38.756836Z",
     "iopub.status.idle": "2023-03-15T23:30:03.333305Z",
     "shell.execute_reply": "2023-03-15T23:30:03.331954Z"
    },
    "papermill": {
     "duration": 24.626702,
     "end_time": "2023-03-15T23:30:03.336299",
     "exception": false,
     "start_time": "2023-03-15T23:29:38.709597",
     "status": "completed"
    },
    "tags": []
   },
   "outputs": [
    {
     "name": "stderr",
     "output_type": "stream",
     "text": [
      "100%|██████████| 708/708 [00:00<00:00, 817.40it/s]\n"
     ]
    }
   ],
   "source": [
    "# create my model\n",
    "lda_model = LDATopicModeling()"
   ]
  },
  {
   "cell_type": "code",
   "execution_count": 38,
   "id": "63dac1ca",
   "metadata": {
    "execution": {
     "iopub.execute_input": "2023-03-15T23:30:03.431112Z",
     "iopub.status.busy": "2023-03-15T23:30:03.430130Z",
     "iopub.status.idle": "2023-03-15T23:30:03.440350Z",
     "shell.execute_reply": "2023-03-15T23:30:03.439554Z"
    },
    "papermill": {
     "duration": 0.059918,
     "end_time": "2023-03-15T23:30:03.442186",
     "exception": false,
     "start_time": "2023-03-15T23:30:03.382268",
     "status": "completed"
    },
    "tags": []
   },
   "outputs": [
    {
     "data": {
      "text/plain": [
       "[(0,\n",
       "  '0.024*\"time\" + 0.018*\"know\" + 0.013*\"get\" + 0.010*\"la\" + 0.009*\"love\" + 0.007*\"let\" + 0.007*\"feel\" + 0.007*\"go\" + 0.007*\"fire\" + 0.006*\"look\"'),\n",
       " (1,\n",
       "  '0.019*\"know\" + 0.016*\"baby\" + 0.013*\"like\" + 0.012*\"tell\" + 0.011*\"get\" + 0.011*\"love\" + 0.011*\"go\" + 0.010*\"say\" + 0.010*\"time\" + 0.009*\"night\"'),\n",
       " (2,\n",
       "  '0.059*\"love\" + 0.019*\"oh\" + 0.019*\"know\" + 0.018*\"go\" + 0.013*\"yeah\" + 0.013*\"get\" + 0.012*\"come\" + 0.012*\"baby\" + 0.011*\"want\" + 0.010*\"away\"'),\n",
       " (3,\n",
       "  '0.028*\"la\" + 0.011*\"feel\" + 0.011*\"people\" + 0.011*\"leave\" + 0.011*\"hold\" + 0.010*\"get\" + 0.010*\"go\" + 0.010*\"bad\" + 0.009*\"na\" + 0.009*\"whoa\"'),\n",
       " (4,\n",
       "  '0.039*\"love\" + 0.026*\"good\" + 0.016*\"come\" + 0.013*\"time\" + 0.013*\"like\" + 0.012*\"go\" + 0.012*\"get\" + 0.010*\"know\" + 0.009*\"day\" + 0.008*\"let\"'),\n",
       " (5,\n",
       "  '0.027*\"la\" + 0.021*\"love\" + 0.019*\"man\" + 0.018*\"go\" + 0.017*\"to\" + 0.016*\"holy\" + 0.013*\"know\" + 0.011*\"feel\" + 0.010*\"way\" + 0.010*\"wear\"'),\n",
       " (6,\n",
       "  '0.019*\"oh\" + 0.013*\"know\" + 0.012*\"yeah\" + 0.011*\"love\" + 0.010*\"tell\" + 0.009*\"da\" + 0.009*\"live\" + 0.009*\"like\" + 0.008*\"get\" + 0.008*\"long\"'),\n",
       " (7,\n",
       "  '0.026*\"love\" + 0.023*\"baby\" + 0.018*\"know\" + 0.018*\"get\" + 0.015*\"oh\" + 0.014*\"yeah\" + 0.013*\"need\" + 0.011*\"like\" + 0.010*\"wanna\" + 0.009*\"to\"'),\n",
       " (8,\n",
       "  '0.026*\"love\" + 0.025*\"oh\" + 0.020*\"feel\" + 0.015*\"like\" + 0.015*\"time\" + 0.012*\"get\" + 0.011*\"shake\" + 0.011*\"go\" + 0.011*\"hey\" + 0.010*\"yeah\"'),\n",
       " (9,\n",
       "  '0.024*\"oh\" + 0.024*\"come\" + 0.021*\"baby\" + 0.015*\"yeah\" + 0.012*\"know\" + 0.012*\"time\" + 0.011*\"like\" + 0.011*\"let\" + 0.010*\"love\" + 0.010*\"get\"')]"
      ]
     },
     "execution_count": 38,
     "metadata": {},
     "output_type": "execute_result"
    }
   ],
   "source": [
    "# print the result\n",
    "lda_model.model.print_topics()"
   ]
  },
  {
   "cell_type": "code",
   "execution_count": 39,
   "id": "45ee6e3a",
   "metadata": {
    "_kg_hide-input": false,
    "execution": {
     "iopub.execute_input": "2023-03-15T23:30:03.535380Z",
     "iopub.status.busy": "2023-03-15T23:30:03.534996Z",
     "iopub.status.idle": "2023-03-15T23:30:05.808907Z",
     "shell.execute_reply": "2023-03-15T23:30:05.807997Z"
    },
    "papermill": {
     "duration": 2.324516,
     "end_time": "2023-03-15T23:30:05.811906",
     "exception": false,
     "start_time": "2023-03-15T23:30:03.487390",
     "status": "completed"
    },
    "tags": []
   },
   "outputs": [
    {
     "data": {
      "text/html": [
       "\n",
       "<link rel=\"stylesheet\" type=\"text/css\" href=\"/nbextensions/ldavis.v1.0.0.css\">\n",
       "\n",
       "\n",
       "<div id=\"ldavis_el191396576946846241113310681\"></div>\n",
       "<script type=\"text/javascript\">\n",
       "\n",
       "var ldavis_el191396576946846241113310681_data = {\"mdsDat\": {\"x\": [0.040321800032647306, 0.014950955320685591, 0.025420898582989643, 0.03413333489995083, 0.022202654276215573, 0.01867659479074577, 0.03256480019575487, -0.04011340730715577, -0.04900295723413699, -0.09915467355769675], \"y\": [-0.03064327761881201, 0.01371413754465264, 0.014160441537732358, 0.009841535437716811, -0.012247463361387335, -0.01825664487457064, 0.04431021249311568, -0.08611490794433174, 0.050221424436470416, 0.01501454234941378], \"topics\": [1, 2, 3, 4, 5, 6, 7, 8, 9, 10], \"cluster\": [1, 1, 1, 1, 1, 1, 1, 1, 1, 1], \"Freq\": [15.67368080526145, 13.356819311711297, 13.353487401230593, 12.315896808892797, 10.270229105967346, 9.325914874601022, 7.729286387510253, 6.249164171073142, 6.07244772552868, 5.653073408223419]}, \"tinfo\": {\"Term\": [\"la\", \"love\", \"holy\", \"good\", \"feel\", \"time\", \"oh\", \"man\", \"shake\", \"wear\", \"na\", \"bad\", \"da\", \"hold\", \"to\", \"baby\", \"whoa\", \"come\", \"people\", \"leave\", \"body\", \"go\", \"hey\", \"zandoo\", \"hang\", \"floy\", \"plane\", \"up\", \"know\", \"need\", \"kingston\", \"prettiest\", \"verb\", \"lolli\", \"clothing\", \"sandy\", \"umc\", \"rottenness\", \"jamaican\", \"witchcraft\", \"sacrifice\", \"version\", \"wolf\", \"magnetize\", \"halloween\", \"hm\", \"josie\", \"quit\", \"mirth\", \"unto\", \"seasonal\", \"directly\", \"detour\", \"cracker\", \"colorful\", \"professor\", \"wooh\", \"load\", \"tu\", \"closely\", \"lollipop\", \"baile\", \"soup\", \"fade\", \"hail\", \"ay\", \"love\", \"wide\", \"wear\", \"mean\", \"gusta\", \"yo\", \"away\", \"woman\", \"happy\", \"heart\", \"go\", \"want\", \"lover\", \"oh\", \"know\", \"life\", \"yeah\", \"to\", \"come\", \"get\", \"true\", \"wanna\", \"boy\", \"baby\", \"stand\", \"tell\", \"sweet\", \"hold\", \"like\", \"leave\", \"need\", \"little\", \"time\", \"be\", \"live\", \"yes\", \"old\", \"man\", \"think\", \"la\", \"breakdown\", \"grover\", \"lisa\", \"george\", \"zandoo\", \"superstitious\", \"less\", \"prevent\", \"aah\", \"zule\", \"commonly\", \"chuck\", \"g\", \"medicine\", \"traveling\", \"tangerine\", \"b\", \"superstition\", \"skinned\", \"georgie\", \"ghetto\", \"cavalry\", \"hero\", \"yuk\", \"apache\", \"boss\", \"bye\", \"chef\", \"nursery\", \"weekday\", \"saturday\", \"aquarius\", \"sinner\", \"saint\", \"bop\", \"diggy\", \"keepin\", \"touch\", \"shockin\", \"ah\", \"freddy\", \"stop\", \"tell\", \"child\", \"night\", \"feed\", \"say\", \"know\", \"house\", \"baby\", \"rock\", \"right\", \"like\", \"dance\", \"want\", \"get\", \"good\", \"go\", \"time\", \"turn\", \"woman\", \"hear\", \"little\", \"love\", \"think\", \"thing\", \"come\", \"let\", \"life\", \"man\", \"oh\", \"day\", \"feel\", \"sha\", \"crank\", \"khaki\", \"elbow\", \"whoop\", \"box\", \"adam\", \"nobleman\", \"f\", \"recognition\", \"serpent\", \"screech\", \"sharin\", \"janet\", \"army\", \"delay\", \"dignity\", \"combination\", \"faint\", \"pogo\", \"warrior\", \"jave\", \"besmirch\", \"sweetwood\", \"sagittarius\", \"footprint\", \"fillin\", \"leo\", \"checking\", \"juliet\", \"reaper\", \"y\", \"cry\", \"somebody\", \"moonchild\", \"truckin\", \"stone\", \"come\", \"fear\", \"wipe\", \"machine\", \"change\", \"waste\", \"ride\", \"baby\", \"home\", \"oh\", \"ooh\", \"yeah\", \"let\", \"wait\", \"hide\", \"way\", \"time\", \"like\", \"try\", \"god\", \"want\", \"girl\", \"know\", \"get\", \"thing\", \"go\", \"life\", \"day\", \"to\", \"love\", \"say\", \"man\", \"look\", \"feel\", \"harvester\", \"gypsy\", \"oasis\", \"ray\", \"snowman\", \"butterfly\", \"scowling\", \"swale\", \"stony\", \"skull\", \"headlong\", \"crouch\", \"howard\", \"hmph\", \"rub\", \"rubbin\", \"wheel\", \"splendor\", \"miracle\", \"brung\", \"verse\", \"hoppin\", \"hay\", \"afternoon\", \"jenny\", \"bounty\", \"potato\", \"believer\", \"vuelve\", \"repair\", \"july\", \"leader\", \"race\", \"vision\", \"seven\", \"rat\", \"quaalude\", \"round\", \"need\", \"deaky\", \"freaky\", \"hip\", \"crazy\", \"baby\", \"stop\", \"wanna\", \"get\", \"oooh\", \"ooh\", \"yes\", \"eye\", \"love\", \"know\", \"yeah\", \"mind\", \"lose\", \"hey\", \"oh\", \"to\", \"lie\", \"like\", \"find\", \"day\", \"little\", \"say\", \"let\", \"thing\", \"see\", \"look\", \"way\", \"go\", \"girl\", \"want\", \"time\", \"come\", \"woman\", \"rushin\", \"booty\", \"ehh\", \"metabolism\", \"doop\", \"ooouueehh\", \"oww\", \"simplex\", \"herpe\", \"rosa\", \"legendary\", \"bahia\", \"shake\", \"steady\", \"anna\", \"cocoa\", \"bunny\", \"rexia\", \"sioux\", \"loose\", \"uncle\", \"sue\", \"thorn\", \"d\\u00e9sol\\u00e9e\", \"meta\", \"endure\", \"toast\", \"din\", \"outrageous\", \"transplant\", \"husband\", \"ugh\", \"floy\", \"payday\", \"ahh\", \"feel\", \"shoo\", \"hey\", \"write\", \"be\", \"oh\", \"city\", \"da\", \"alright\", \"like\", \"time\", \"love\", \"song\", \"pass\", \"man\", \"right\", \"get\", \"go\", \"yeah\", \"heart\", \"look\", \"say\", \"know\", \"baby\", \"life\", \"let\", \"to\", \"come\", \"little\", \"think\", \"way\", \"eye\", \"tell\", \"good\", \"n\\u00eaga\", \"nicely\", \"badd\", \"chairman\", \"mau\", \"jar\", \"maker\", \"caper\", \"enlighten\", \"clover\", \"moonbeam\", \"bakin\", \"roach\", \"reject\", \"felt\", \"truer\", \"mull\", \"nevermore\", \"blissfully\", \"deal\", \"pig\", \"bonnie\", \"fish\", \"mu\", \"lou\", \"hissin\", \"reincarnate\", \"speech\", \"excitin\", \"realist\", \"tick\", \"timeless\", \"develop\", \"riot\", \"joseph\", \"good\", \"eternal\", \"party\", \"creep\", \"content\", \"summer\", \"hand\", \"light\", \"ride\", \"love\", \"wave\", \"wonder\", \"music\", \"come\", \"day\", \"spend\", \"soul\", \"well\", \"time\", \"like\", \"blue\", \"long\", \"tonight\", \"walk\", \"go\", \"way\", \"true\", \"get\", \"let\", \"tell\", \"home\", \"wanna\", \"bring\", \"know\", \"thing\", \"yeah\", \"say\", \"eye\", \"to\", \"away\", \"baby\", \"need\", \"oh\", \"feel\", \"life\", \"boogae\", \"alapala\", \"shango\", \"aganju\", \"vacant\", \"indian\", \"cy\", \"grandpapa\", \"trailer\", \"axe\", \"badly\", \"tribe\", \"harrisburg\", \"concrete\", \"princess\", \"jungle\", \"jackpot\", \"apartment\", \"wit\", \"dollar\", \"threaten\", \"ancestral\", \"kaleidoscope\", \"wanderer\", \"spoil\", \"egun\", \"yoruba\", \"tribal\", \"sightsee\", \"culture\", \"burchfield\", \"busy\", \"hallelujah\", \"anne\", \"lucky\", \"holdin\", \"brooklyn\", \"spunky\", \"freaky\", \"connecticut\", \"rag\", \"doggin\", \"knockin\", \"rise\", \"da\", \"ready\", \"deaky\", \"live\", \"long\", \"party\", \"dream\", \"alive\", \"oh\", \"run\", \"tell\", \"night\", \"yeah\", \"knock\", \"thing\", \"away\", \"leave\", \"know\", \"ooh\", \"sweet\", \"life\", \"like\", \"let\", \"way\", \"love\", \"get\", \"day\", \"dance\", \"little\", \"come\", \"to\", \"go\", \"time\", \"good\", \"zion\", \"holy\", \"mount\", \"chant\", \"solamente\", \"perder\", \"nuh\", \"nac\\u00ed\", \"classy\", \"syrian\", \"jamaica\", \"dem\", \"constantly\", \"stump\", \"ghost\", \"renew\", \"uncover\", \"screaming\", \"unfolding\", \"chaos\", \"stereo\", \"stir\", \"puppet\", \"continue\", \"knowledge\", \"filled\", \"halfway\", \"rival\", \"fue\", \"sue\\u00f1o\", \"robot\", \"judge\", \"body\", \"la\", \"wear\", \"minute\", \"nasty\", \"amazing\", \"takin\", \"aged\", \"man\", \"meat\", \"everybody\", \"lonely\", \"to\", \"hope\", \"stuff\", \"armageddon\", \"bad\", \"rock\", \"dead\", \"go\", \"light\", \"way\", \"town\", \"feel\", \"love\", \"hand\", \"know\", \"dream\", \"find\", \"come\", \"time\", \"get\", \"heart\", \"life\", \"baby\", \"good\", \"oh\", \"like\", \"let\", \"tonkitis\", \"mayor\", \"tonking\", \"ban\", \"mister\", \"thunder\", \"stew\", \"pattern\", \"bending\", \"honky\", \"downhill\", \"forgiveness\", \"barstool\", \"valley\", \"rythm\", \"desolation\", \"aid\", \"grinch\", \"clappin\", \"dumple\", \"knack\", \"sieve\", \"sharing\", \"walkand\", \"telescope\", \"troubled\", \"actually\", \"spotlessly\", \"holey\", \"nod\", \"mr\", \"knockin\", \"master\", \"disaster\", \"bueno\", \"golf\", \"wow\", \"war\", \"rescue\", \"thee\", \"lightning\", \"pogo\", \"fire\", \"argentina\", \"fighting\", \"time\", \"help\", \"hollywood\", \"gitchi\", \"na\", \"trouble\", \"know\", \"knock\", \"jah\", \"la\", \"get\", \"hear\", \"king\", \"ya\", \"hold\", \"look\", \"door\", \"let\", \"feel\", \"mountain\", \"music\", \"leave\", \"think\", \"go\", \"love\", \"yeah\", \"hey\", \"come\", \"say\", \"oh\", \"like\", \"tell\", \"to\", \"want\", \"man\", \"heritage\", \"lovable\", \"indelible\", \"indestructible\", \"lightly\", \"improbable\", \"invisible\", \"plane\", \"prize\", \"william\", \"intentione\", \"jude\", \"ballerina\", \"peggy\", \"dove\", \"hawk\", \"stoned\", \"minnesota\", \"reelin\", \"dakota\", \"benefit\", \"sport\", \"illuminate\", \"impossible\", \"midnight\", \"up\", \"recieve\", \"ogre\", \"negro\", \"liberal\", \"fennario\", \"collision\", \"whoa\", \"steppin\", \"heartbreak\", \"lion\", \"hang\", \"la\", \"bad\", \"florida\", \"na\", \"people\", \"o\", \"hold\", \"big\", \"road\", \"babe\", \"leave\", \"feel\", \"music\", \"hey\", \"blue\", \"go\", \"get\", \"come\", \"dance\", \"man\", \"to\", \"let\", \"want\", \"need\", \"love\", \"baby\", \"time\", \"know\", \"thing\", \"oh\"], \"Freq\": [404.0, 1701.0, 84.0, 465.0, 466.0, 690.0, 985.0, 411.0, 110.0, 130.0, 152.0, 144.0, 176.0, 215.0, 500.0, 829.0, 84.0, 730.0, 205.0, 283.0, 102.0, 773.0, 319.0, 58.0, 72.0, 55.0, 34.0, 40.0, 998.0, 318.0, 11.458536959898483, 6.722384271281357, 5.460064378505045, 12.31080789413831, 4.555439427288702, 6.838764974213514, 3.717586805934084, 2.934712562025059, 7.94693706588138, 10.769881456307438, 4.95023111748551, 2.7540074489378807, 5.47733488922033, 2.739032235102881, 5.405810254348686, 8.85313494105214, 5.940321717558014, 1.9887824522651432, 1.9886923515205934, 1.9883306949668182, 1.9881382711158495, 1.9880702646408328, 8.560357977682592, 6.483605702650594, 7.642143327037002, 1.911573478942569, 1.8844288668063203, 13.02614826102298, 26.08087553803544, 2.477035723131819, 7.484788879604269, 23.443322439594827, 8.96145139230168, 25.788135555145395, 5.462545204570629, 6.942740293242175, 639.8548995218948, 14.171453768413294, 62.940154339146304, 61.586377959834486, 14.337205291844164, 23.50754562352206, 112.60531438318525, 85.88321488064086, 37.53308319484896, 95.38944953442443, 195.71229059222347, 116.38396222865524, 26.242336072268486, 209.61049246365656, 205.57768969153636, 97.72479063292015, 142.93852386257245, 103.9668348291605, 127.88568862788549, 135.4037223317744, 37.97119030872296, 71.85613039705275, 37.90256456737161, 126.63907290314181, 43.59766872535097, 78.78706952981923, 51.07297555929578, 51.23352349050925, 92.94966051890778, 56.83795903420284, 58.052097122914596, 56.42753337620566, 76.9267182458047, 49.93135431052434, 48.1572239546507, 45.592378239638016, 46.393809162803656, 55.743973657332454, 48.04537492742703, 52.043533884919384, 19.028062915031768, 15.911300408839512, 21.807548950567284, 14.609635497150153, 47.69805743589344, 6.072800549325411, 3.7783335172871717, 2.923496019738246, 14.625200246335252, 33.946252205327355, 4.2715184056692035, 13.727918628522238, 24.560556751833623, 3.3162394023502904, 1.9878485504056693, 10.245964589150528, 5.89661442550237, 1.9648136296444476, 2.6230424126392085, 1.9552897016984998, 5.82403590390761, 2.5890443320624694, 7.688719563127377, 3.225994569948304, 2.543172388260447, 3.1643752021423324, 17.052873809692976, 1.848488628495943, 1.83250418124385, 6.532262971769671, 32.8288805472871, 16.846710854923945, 8.00429405164992, 8.966453539410422, 12.361592172328768, 20.67153805136151, 11.195197429861318, 48.350738539539414, 12.274314203322412, 63.20923909984404, 14.776228522299055, 62.13602560737107, 108.3920757983772, 41.90948341472941, 79.64442631884955, 17.777705057142132, 94.03966353854928, 178.57064767129287, 23.130582542966977, 149.5502465265669, 38.036243118201284, 58.1807376103342, 114.735673605994, 46.729436494087224, 71.80825345801149, 103.91009463591631, 74.78084066463133, 97.06144261685583, 90.2096455997445, 39.493424124064916, 45.21740603852148, 37.91319506946165, 50.40981491286099, 97.11664246036253, 44.58035591703586, 48.445285043443185, 59.73956273119192, 52.13651712396854, 48.105979920850785, 49.19001289031393, 52.15236176088778, 41.93070787847749, 43.05344654406105, 22.500282439009954, 13.945469130218624, 3.817181211631615, 11.488785316775388, 5.3666721152837935, 12.983993413918267, 2.5995620982963557, 4.531581713959345, 2.439578875377741, 11.852751527745205, 4.185517975513316, 1.817313628119917, 1.7990689927543808, 8.944553206155199, 2.3922084791766927, 11.132994701759015, 2.3177686367134647, 1.694485578489784, 1.662583666154405, 21.754125540342752, 7.901125016975478, 2.208390003130584, 2.216526349815407, 2.1281751781436125, 1.625149342455429, 2.159821703231132, 1.5872326799553464, 1.5925651069502582, 2.1131216151176444, 2.1278877506764706, 5.1062305228322185, 3.095480612342321, 88.65767908951857, 56.993748686877886, 9.617237075976007, 11.065670724996481, 11.273056384335426, 218.76578132003263, 15.717704439324375, 5.673279925695069, 9.929364348162254, 48.51738051496185, 12.571071883900254, 46.40648115605324, 196.2406698470938, 69.97454021488258, 220.83190554050205, 70.19229408918116, 140.3319824103306, 99.44564655392533, 38.530952536258454, 20.969678443619003, 72.9974879118126, 108.25314398407642, 100.46399579546576, 41.22232241188347, 32.62636946153412, 64.43209492261437, 47.070380131750596, 109.97372939169236, 89.29332286383848, 55.36749822888647, 84.20195259470923, 53.699651022208606, 48.16698013283602, 55.30041455376855, 94.53189017237824, 45.808926794415704, 45.75653035581663, 39.82369848775871, 39.91470125457791, 13.373607830216564, 16.884929548324322, 9.298035448983123, 12.416153460485447, 4.788528243160797, 5.398317420101133, 3.6173331442402605, 6.480251870434, 3.569680528734646, 2.142854458976784, 3.496907410783523, 3.4817792093646927, 2.103529951227317, 2.0728465417114825, 5.5006138388824635, 5.385312185563811, 13.05815775486448, 1.93942493141856, 24.54720239287256, 1.9239820157351935, 4.4773891129690995, 8.868726776329746, 2.4534828556906656, 1.8122577130588895, 2.4067603464269554, 4.24424198915444, 2.960402824038004, 2.994358473888079, 1.7655770671950004, 4.060778348247298, 10.530046740100037, 17.049723590443076, 21.0540848510493, 15.464750647692151, 11.211935526764965, 15.764836362799356, 14.259901315400251, 39.64166486651068, 110.84366025758544, 18.321878434414188, 19.450746188541626, 22.355106725494604, 29.03916686412756, 191.8132989564961, 58.08729348083798, 85.17662472477738, 149.92786618195316, 13.969268848483205, 62.20664808313594, 51.112204896776724, 54.44441331998462, 221.24494356662515, 153.17712794228757, 117.49657993687863, 50.463241427815696, 39.16322826289094, 65.98925546731643, 129.9304785537823, 79.6244780257365, 34.678777533137925, 94.68397815788649, 51.41500828529819, 59.51240635252199, 53.68562787048621, 59.56120036131096, 62.81409881981333, 53.516066325893725, 34.26839407226714, 45.137547156192205, 48.832255191045085, 62.248531183380344, 40.4729399941179, 45.82147099659902, 50.37747366430485, 48.70263428494532, 39.87292419724871, 16.28380018092399, 25.653293298258678, 5.953500409374019, 3.2532526181490544, 16.061740370202003, 5.801769669429634, 10.052021060312212, 2.4605597138835202, 2.4604983135326606, 2.4602613369276694, 2.4585940812466274, 3.070010355663518, 80.44807859393858, 18.46664138476422, 23.095795778269718, 4.054125116981318, 2.331969102824249, 3.945308909888786, 13.08109627436782, 15.689512140168885, 2.2438072344925533, 12.38784318916718, 1.666921470102322, 1.6666613913586295, 1.6664617888802487, 1.6662723513428968, 4.971451287284647, 6.985073945564338, 2.165776218700399, 2.181566581840941, 6.5030351923889755, 3.273270775348138, 31.037380407012584, 3.2101300633727154, 14.351058418266668, 142.1061482884049, 10.815610608974836, 78.87020375274213, 17.179154471827296, 61.753576605438695, 173.38064658282127, 25.965083869220617, 44.370037409843306, 23.64061854639895, 102.60367112937254, 102.3848542428672, 181.03869219468214, 38.683026022932566, 24.167741585293008, 62.94172883971086, 41.87373817400775, 83.20706783387317, 80.37835079482426, 71.52904473561223, 42.484600613152836, 39.941635467844996, 45.054622983307844, 66.43459150131063, 57.40486451546747, 40.63228632814231, 42.594429618006046, 42.62078700206481, 46.9528507668022, 35.215383914815106, 33.383687005143486, 34.11756371244617, 30.94147593390222, 31.956576926465186, 31.678825560046853, 5.781420939024527, 2.9369511410557863, 5.781624938148113, 5.081115070140676, 4.826672967653607, 2.687109461217704, 1.990330129285643, 1.9900330812016644, 1.9896584612388817, 1.988720139858731, 2.5851326488699207, 1.8626173543776698, 1.8338441544089157, 1.8055425392514495, 1.7782657679543385, 2.317851281615584, 2.396254820466569, 5.450420986283599, 2.9379133307063383, 23.19903393457507, 2.71717098837554, 2.6593314562421657, 3.6294289631314647, 1.0427937320514378, 1.0427185842938462, 1.0426393341772795, 1.0426159320840345, 1.0425902923404393, 1.0425616690630441, 1.0425349104942738, 2.57419948925923, 1.5375455900622301, 1.9897446107773613, 2.0001204089800093, 8.232804937637885, 169.02951774079153, 1.9898680544883431, 24.347516927376006, 5.940427999962391, 5.231036524773598, 12.816486978471168, 46.418135117490024, 43.44963832768168, 37.03036844340416, 247.1140511907956, 7.479656582794205, 22.564076779457874, 26.52555179686895, 102.8808260727658, 58.69936867337778, 15.73873750261011, 22.36113084330331, 35.81062225401947, 85.16738302091062, 81.08550302169334, 26.257427581316065, 40.69361688098562, 25.465388863387286, 27.079394126794263, 76.98470145111544, 49.29894286537783, 23.865631465642977, 73.78325630925812, 50.86854121170321, 48.4504079514092, 33.951489853591255, 39.30692705781292, 25.335223250753856, 66.6663168811509, 38.03638322194669, 47.09287918759927, 35.94877478663594, 28.88028794744334, 34.65455959359923, 30.886968028424725, 35.47103345335133, 30.300071127527424, 32.28465814071862, 28.467912856186462, 27.132688991066544, 8.49399083042227, 6.81184893499431, 5.9694986520669, 5.128879598066868, 4.945098566447732, 20.483940232628708, 4.909962130177652, 2.606114012246463, 2.402118000609561, 1.7656201408416092, 1.7656141135314711, 1.7653289753980115, 2.5825390386462885, 11.809371190466877, 2.0521134918037767, 17.79024569496071, 1.4220446083034584, 1.4497150618693122, 5.154804140796033, 7.926326397896353, 0.925055023539994, 0.9249653866199904, 0.924890277062884, 0.9248845588455734, 0.9248415949425373, 0.9248343312610887, 0.9247806263822934, 0.9247060577376354, 0.9245788660390786, 0.9246952394886694, 1.7861440591405595, 1.832485419503911, 17.03689498262634, 1.373665708020578, 15.12622530511347, 6.809689612500708, 5.476172899135373, 4.635049096547874, 18.648277493403498, 1.3549141279950772, 2.9243624784911977, 10.993408162231544, 6.970803012515084, 21.806733897618997, 49.31421765193591, 14.636602484256574, 12.717000024026111, 48.14805739551679, 43.892076651807365, 15.575557257707256, 35.98446335187948, 11.990661552081225, 102.50226356650901, 35.127123921370504, 55.21707465400127, 39.56835512400147, 62.244124524725756, 15.883636260831175, 40.720697694655634, 37.97764968701934, 35.39527307665395, 66.58989055299597, 32.15473645388403, 27.719845363332766, 35.70992462966392, 46.46823431448147, 37.54937808332679, 33.74847347331925, 60.733624967391485, 44.19023006605144, 30.501107135430715, 24.464262101715356, 29.043103903935766, 37.05378606178332, 31.758959160971262, 31.917199852245936, 26.750028289232038, 25.10527364404473, 20.212234270611418, 68.71657446947489, 19.102946859764657, 5.528143155328038, 2.61561745270811, 2.5838028021166806, 4.481997235016302, 2.525180057552013, 3.37367469963639, 1.655658827302617, 1.6260223312227255, 19.9044357479479, 1.504175628134414, 1.4815317927319671, 10.857318543446754, 0.9735982059656693, 0.9734680689805978, 0.9734339572216688, 0.9733715439484636, 0.9733498023878275, 0.9733394314135011, 0.973325999127476, 0.9733177523286141, 0.9732833281909403, 0.9732575881823712, 0.9732505284227393, 1.8970223878492412, 5.004848281311885, 0.944323132093478, 0.9345879109884435, 7.955104088337218, 13.469352637097849, 34.940449258448176, 115.86740005851591, 41.08063383927877, 16.368305358305985, 3.8920972149431052, 9.77101321170728, 5.500826758661308, 1.3650273909367265, 81.44884021963541, 3.8944792902992296, 30.27287705757436, 16.74088673438105, 73.52619553161884, 18.29279333491046, 9.09553640974662, 9.410133293508332, 26.95833565432309, 23.840819772197655, 11.83092062290886, 76.08431455334046, 26.42327934571182, 42.856120653269485, 15.821538595310747, 45.141445564757625, 91.15867917719073, 23.849912242797448, 56.5358066458264, 23.192445449939306, 21.919047741351715, 33.201594225196246, 31.804844397873545, 32.52191205562198, 22.863655075627186, 24.242503851553547, 29.09767723177496, 24.32945809875395, 27.415324266265195, 20.287033236095297, 19.378361952618267, 5.1397963113456715, 13.754263980022545, 2.330237588136523, 2.929153577343761, 10.900947156507929, 13.600467113193849, 1.6368621061088429, 2.156071869082902, 1.6133904151602343, 8.861840469046331, 1.5835713518790853, 2.5808716778081986, 1.5409377042998955, 14.90289735734772, 1.4660636743306652, 4.348995578772458, 2.3545517990578824, 5.07738936716432, 3.7454210211382843, 0.924413424058174, 0.9242467777600617, 0.9242263188156304, 0.9241944465728221, 0.9241401119874632, 0.9240844418033579, 0.9240884485995967, 0.9240056414773289, 0.9239962922861051, 0.9239146993445158, 0.9237260156670903, 15.944469139173135, 8.32420903540132, 5.7212067292038205, 5.6310916962688085, 3.961529883219281, 2.2802184437447495, 10.662715193957837, 19.891803550408817, 2.107480844005078, 4.381166510027693, 4.939804726426067, 13.536591496063888, 27.951478555731985, 3.5815459690064864, 4.129079774592364, 98.88330961232403, 18.985774157420565, 6.61846293828213, 4.775118115928818, 25.584181744928937, 15.517930380880214, 76.68949331782909, 13.888233762045028, 6.879348112585513, 40.90059504428519, 55.15891496248872, 20.645026848001955, 11.255699667714891, 15.928642051193883, 23.228548839394996, 26.153554775541295, 13.683461704958374, 30.50422835201132, 29.64023680814336, 10.884087529279755, 14.405845784664361, 20.733768885425818, 19.921518922660027, 29.455871728554936, 38.00364930928929, 23.302435133382335, 18.877076817710844, 22.17765312130391, 17.22310629875282, 19.596514809418732, 18.485566686317874, 16.71346707214022, 16.43790245343482, 16.01630395348623, 14.938355318535555, 10.23135328970959, 3.1406795337168667, 3.1399140761736977, 2.1276640688957826, 2.1271617515121672, 2.1269983062068776, 2.126348368098014, 23.80469330863409, 6.714972906470168, 4.584455439727403, 8.245006789765618, 6.703463011209413, 2.889418434269728, 7.292384252216406, 2.228535141587666, 1.1144160957807976, 1.114382185966422, 1.114275483083854, 1.1139957271152563, 1.11379317249072, 1.6592709678432807, 5.455517639609851, 1.61131333466647, 2.1273444123789367, 23.035164779216423, 22.280147841828025, 1.0670543710752787, 5.35354042877304, 3.184362834791648, 3.164006547156618, 2.5373687760123533, 4.5000159327547316, 36.35481507778821, 4.709617468849018, 9.492736042814894, 16.39265352901979, 26.38520486328008, 108.29072273810502, 38.78781080154541, 5.4639259171823955, 36.42594068737535, 43.399599812313745, 18.539636697361573, 41.861957018803295, 22.875115880934455, 21.71039423642949, 16.85627031968479, 42.45128608184451, 44.656820196341286, 16.24370534757178, 27.561927869288816, 17.025309387953985, 39.27944704576345, 39.43472325070478, 32.64686097216909, 18.275700787497165, 23.64136374884401, 24.350852917321028, 23.619614446034436, 21.39064367636476, 20.026089235090794, 30.692093099894993, 20.445087944131398, 20.024114327501568, 18.33000170358377, 17.72479380479766, 18.286814163995157], \"Total\": [404.0, 1701.0, 84.0, 465.0, 466.0, 690.0, 985.0, 411.0, 110.0, 130.0, 152.0, 144.0, 176.0, 215.0, 500.0, 829.0, 84.0, 730.0, 205.0, 283.0, 102.0, 773.0, 319.0, 58.0, 72.0, 55.0, 34.0, 40.0, 998.0, 318.0, 12.28253873259407, 7.546373336815383, 6.58797556482908, 15.120734778942964, 5.639608797855592, 8.487567295225181, 4.717144718052849, 3.758742919030521, 10.383760048988453, 14.142032106361418, 6.55791425666293, 3.752896825105651, 7.464903797871253, 3.7497716235390173, 7.522540997917435, 12.355078092758008, 8.390816302348687, 2.8127645533336767, 2.8126721124703313, 2.812311945697071, 2.8121198759977477, 2.8120538802291057, 12.163185875863052, 9.352858083036523, 11.097464149606646, 2.8178623185950364, 2.808045246912099, 19.495204397261706, 39.08559645362234, 3.7317739524863636, 11.306740763246122, 37.019271554863664, 13.945706016071464, 44.12174178556586, 8.368817400293132, 11.080175711856864, 1701.4891656605053, 24.81102688557351, 130.65298024891166, 137.51339677512422, 25.867225130764986, 47.44370331814165, 318.5212419169009, 237.37170232327153, 86.40322061815486, 301.57928144741794, 773.3241024130134, 402.9466107652696, 59.83274486470131, 985.9914598485568, 998.5452952995058, 378.03107810560476, 677.1427425449648, 500.8328235670834, 730.0072381840758, 806.8311104914806, 119.81085186386599, 324.6521251439579, 120.46126475842676, 829.5817485517605, 158.32021076803753, 426.3026182107305, 206.2054464564984, 215.38828295224147, 686.1034749421918, 283.71016785876697, 318.0243328780523, 310.701351842575, 690.7815153846396, 245.68847304371135, 224.14228475656586, 194.64300604541097, 206.31187614508738, 411.9950611548203, 256.58345412908596, 404.5217936365302, 19.852111956627173, 17.03143380268347, 23.637036599965484, 16.074920373490457, 58.84389834619484, 7.52674139707406, 4.704574397549133, 3.756546342945628, 18.83403887314683, 44.65193229100662, 5.648893694387307, 18.487724097625563, 33.73534733261435, 4.685539173598478, 2.8118768253888002, 14.510315228888777, 8.359416623711203, 2.811606497060107, 3.7606973930651995, 2.8138477375198554, 8.385952322415815, 3.761623145367965, 11.215705840718318, 4.717994529176519, 3.7604358114203285, 4.717463321189686, 25.512766847018224, 2.8114097919695746, 2.8005655837105055, 10.023616969441548, 50.40796593780357, 26.627176625638207, 12.772002971817772, 14.595710720658502, 21.579345681880486, 38.404822704170535, 19.720232081718347, 107.33036399039881, 22.49789277723268, 162.64538116684352, 29.697723057888194, 187.14140574677205, 426.3026182107305, 121.91761882966208, 290.8659056774521, 38.3358400088237, 383.8062241231529, 998.5452952995058, 56.141138087063204, 829.5817485517605, 122.21355921537857, 239.1094977518728, 686.1034749421918, 189.47124744204766, 402.9466107652696, 806.8311104914806, 465.94648186438803, 773.3241024130134, 690.7815153846396, 163.17899583926777, 237.37170232327153, 159.11334081196824, 310.701351842575, 1701.4891656605053, 256.58345412908596, 347.86121927479144, 730.0072381840758, 460.8704803027198, 378.03107810560476, 411.9950611548203, 985.9914598485568, 334.14074903231966, 466.9104873218935, 27.130174947335508, 16.94223896309774, 4.689514121065894, 14.776266067294644, 7.42468325706274, 18.523555878414268, 3.7509255304869544, 6.578140141943299, 3.7383890766833052, 18.27406761301097, 6.455996067845529, 2.805767736836917, 2.804085254450274, 14.022575028876544, 3.7572079710165114, 17.9277418904005, 3.747770936886097, 2.7975914384640417, 2.7530934872791377, 36.03116161127904, 13.11752628549709, 3.7101126528458646, 3.7482559948717173, 3.659625838959947, 2.7964982367413684, 3.7487015227597387, 2.783864378684067, 2.7942294803091605, 3.713305621916957, 3.7443149788304884, 9.387484450194767, 5.5763099787222945, 184.34290027430976, 125.40341308614526, 19.543462798667754, 23.246571560751846, 23.900879307226408, 730.0072381840758, 35.66431971544722, 11.22980820871666, 21.600688532775063, 143.15830523570946, 28.750170476231652, 141.86838280682105, 829.5817485517605, 237.12860066771748, 985.9914598485568, 251.698442964091, 677.1427425449648, 460.8704803027198, 132.49609990836854, 59.20876035130334, 384.4505330896293, 690.7815153846396, 686.1034749421918, 176.7499195104592, 124.69673017707855, 402.9466107652696, 242.53319854699808, 998.5452952995058, 806.8311104914806, 347.86121927479144, 773.3241024130134, 378.03107810560476, 334.14074903231966, 500.8328235670834, 1701.4891656605053, 383.8062241231529, 411.9950611548203, 286.0607909600375, 466.9104873218935, 14.204122019875065, 18.185003365440032, 10.114529600697644, 15.07464015556257, 5.995299738430229, 6.98815600822587, 4.913856201304355, 8.803017495165188, 4.906265807971428, 2.961984137013128, 4.898729616174872, 4.891099713669683, 2.9552197168851975, 2.956825813558898, 7.888235660380958, 7.864198007347821, 19.647111540481983, 2.9266197329245602, 37.24084711468513, 2.94540036404161, 6.89155824759625, 13.805771450177636, 3.8948188731126416, 2.906183944937178, 3.91900439939928, 6.944604455675807, 4.851534610404083, 4.9137118919006495, 2.917756453512783, 6.780503870904177, 17.792378536404065, 29.215043250810417, 37.621471585081046, 28.45969884375395, 20.210968663029618, 29.15920074959462, 29.36770786860695, 96.13681242659257, 318.0243328780523, 39.84773805676445, 44.39516003135877, 52.9742614385502, 74.35458172998153, 829.5817485517605, 187.14140574677205, 324.6521251439579, 806.8311104914806, 31.584527758189996, 251.698442964091, 194.64300604541097, 217.34639407608887, 1701.4891656605053, 998.5452952995058, 677.1427425449648, 196.86539381939943, 139.56375977258705, 319.9476698322041, 985.9914598485568, 500.8328235670834, 119.6544408484804, 686.1034749421918, 236.0677471500309, 334.14074903231966, 310.701351842575, 383.8062241231529, 460.8704803027198, 347.86121927479144, 141.95862036422517, 286.0607909600375, 384.4505330896293, 773.3241024130134, 242.53319854699808, 402.9466107652696, 690.7815153846396, 730.0072381840758, 237.37170232327153, 17.647983723827824, 29.098227790572622, 7.356728844578798, 4.092602735927939, 20.40807721708817, 7.384942429755094, 13.20086368958046, 3.299895365897476, 3.2998344404632496, 3.2995974162685484, 3.297941456380495, 4.126686540177524, 110.14539927552002, 25.592235396412583, 32.12033947900562, 5.72614010711705, 3.323395865237254, 5.8075458632467605, 19.347615172783872, 23.314525628269088, 3.3381690208437567, 18.491106722675646, 2.5062493209622962, 2.5059929801974348, 2.5057952484018426, 2.5056030392965605, 7.552051546763219, 10.67278863290762, 3.317051519482226, 3.3674736857446406, 10.056937621773171, 5.05655524788529, 55.54776771682231, 5.048238033629949, 26.66865983593548, 466.9104873218935, 23.403785016276824, 319.9476698322041, 45.01732292788143, 245.68847304371135, 985.9914598485568, 78.8378846131771, 176.68919325343273, 76.8646464949837, 686.1034749421918, 690.7815153846396, 1701.4891656605053, 168.0248160174006, 83.41540379345027, 411.9950611548203, 239.1094977518728, 806.8311104914806, 773.3241024130134, 677.1427425449648, 301.57928144741794, 286.0607909600375, 383.8062241231529, 998.5452952995058, 829.5817485517605, 378.03107810560476, 460.8704803027198, 500.8328235670834, 730.0072381840758, 310.701351842575, 256.58345412908596, 384.4505330896293, 217.34639407608887, 426.3026182107305, 465.94648186438803, 6.605332356095108, 3.7608559557908605, 7.489754812152893, 6.601989116359583, 6.599189805234575, 3.7450489470735904, 2.814227868296593, 2.8140243058895065, 2.813728393617225, 2.812755037987759, 3.7378265118961544, 2.8046073052330023, 2.7964808113264334, 2.7931589085663164, 2.7898713814107894, 3.6614291749970858, 3.797293807204449, 8.654514689607812, 4.705531867332591, 38.424629894878834, 4.701466915458094, 4.638769444293046, 6.440748727350908, 1.86668723756905, 1.8666138951879339, 1.8665347840139175, 1.8665099888778889, 1.8664846445297063, 1.8664573429118672, 1.8664325594491522, 4.705079959432864, 2.7922309436491006, 3.6533262504853963, 3.7049725068258326, 16.801380326477553, 465.94648186438803, 3.75161868804906, 58.492498034321116, 12.951552683214343, 11.2398873205902, 32.422456563772435, 181.48696638795482, 171.71215027915616, 141.86838280682105, 1701.4891656605053, 18.657073826485966, 83.8741015994313, 110.70134191835484, 730.0072381840758, 334.14074903231966, 54.2386557123408, 90.5783102908873, 187.65342320565912, 690.7815153846396, 686.1034749421918, 127.84474471692359, 251.73695288975418, 128.49941311165477, 142.30427721603746, 773.3241024130134, 384.4505330896293, 119.81085186386599, 806.8311104914806, 460.8704803027198, 426.3026182107305, 237.12860066771748, 324.6521251439579, 138.27660981480201, 998.5452952995058, 347.86121927479144, 677.1427425449648, 383.8062241231529, 217.34639407608887, 500.8328235670834, 318.5212419169009, 829.5817485517605, 318.0243328780523, 985.9914598485568, 466.9104873218935, 378.03107810560476, 9.328618473055265, 7.6464665455893375, 6.8041152523318855, 5.96349508691485, 5.989611954768914, 24.874760496879716, 5.991405477846889, 3.440722306297673, 3.466514114090546, 2.600224508846128, 2.6002187014803813, 2.599933669196011, 4.390948355420545, 20.1608245197732, 3.505209048798127, 31.730883153591794, 2.5810218325720005, 2.6394201967495854, 9.48691031638311, 14.952315288943526, 1.7596559938793428, 1.7595663939778716, 1.759501087206739, 1.7594961868963737, 1.759444312889685, 1.7594358414118756, 1.7593823668610105, 1.759307681723089, 1.7591828207871654, 1.7597955228889006, 3.411843222342459, 3.5175837735483486, 34.947609400656525, 2.6453720097861, 32.603066435792805, 14.108074137082712, 11.322885605464766, 9.500717254682284, 44.39516003135877, 2.6480401645330622, 6.059391814865442, 26.05573911335906, 16.045536339179844, 58.87490391376523, 176.68919325343273, 47.41306858174921, 39.84773805676445, 224.14228475656586, 251.73695288975418, 58.492498034321116, 197.88300595946373, 40.77755296296511, 985.9914598485568, 205.10591186812303, 426.3026182107305, 290.8659056774521, 677.1427425449648, 66.25999609754072, 347.86121927479144, 318.5212419169009, 283.71016785876697, 998.5452952995058, 251.698442964091, 206.2054464564984, 378.03107810560476, 686.1034749421918, 460.8704803027198, 384.4505330896293, 1701.4891656605053, 806.8311104914806, 334.14074903231966, 189.47124744204766, 310.701351842575, 730.0072381840758, 500.8328235670834, 773.3241024130134, 690.7815153846396, 465.94648186438803, 24.340176560868695, 84.80967461237431, 24.446340733450985, 7.22275808656555, 3.5825796590889425, 3.584251865688256, 6.276877567826892, 3.586875226931021, 5.423447168655915, 2.7172890920293007, 2.700179804788313, 34.377915422718836, 2.7240471231423005, 2.700127558188741, 19.960450933948646, 1.8037845402923196, 1.8036537166653717, 1.8036206145757696, 1.803558749616092, 1.8035359867175151, 1.8035265586122413, 1.8035105006111696, 1.803501380373499, 1.8034711913983479, 1.8034454146582193, 1.8034398838143986, 3.6181509588434437, 9.549748638211655, 1.8060292186060705, 1.806405361175343, 17.596202355706463, 31.088752797262224, 102.5004605090998, 404.5217936365302, 130.65298024891166, 48.9035357625815, 9.117293375972837, 28.724105178010642, 14.70017985504456, 2.7172634224880414, 411.9950611548203, 9.858038264352956, 126.0681160113986, 65.19270194205271, 500.8328235670834, 80.63442700100532, 31.111757750672407, 33.394792312714806, 144.39542615160147, 122.21355921537857, 47.28702941356535, 773.3241024130134, 171.71215027915616, 384.4505330896293, 77.41965963211166, 466.9104873218935, 1701.4891656605053, 181.48696638795482, 998.5452952995058, 197.88300595946373, 236.0677471500309, 730.0072381840758, 690.7815153846396, 806.8311104914806, 301.57928144741794, 378.03107810560476, 829.5817485517605, 465.94648186438803, 985.9914598485568, 686.1034749421918, 460.8704803027198, 6.904180416232298, 19.847026497415552, 3.4241610032645746, 4.322808253940317, 16.45425494077618, 21.483455483641293, 2.5996024113021003, 3.4288555523878377, 2.6183422661124895, 14.648371335323532, 2.621668161408466, 4.3395500825228215, 2.6263757418513283, 26.135784672652566, 2.622785139989352, 7.841025932920553, 4.316630077517405, 9.62602807602855, 7.115707841406191, 1.759085796507563, 1.758920556430959, 1.7588963744022303, 1.7588684577004667, 1.7588152906702519, 1.758755150423251, 1.7587638383660271, 1.7586763983181477, 1.7586726148635603, 1.7585912204901721, 1.7583982842952353, 30.80676398239335, 16.045536339179844, 11.199130968384882, 11.221757853381929, 7.9933061716142415, 4.5196489813918195, 23.729648157609418, 48.39601282597665, 4.32637236664607, 9.689565474860023, 11.454627572645347, 36.03116161127904, 107.52646010093864, 8.04130403838065, 9.749498550945576, 690.7815153846396, 75.82693156206312, 18.851527676354543, 11.98203351591602, 152.45485183633485, 73.36686538561864, 998.5452952995058, 66.25999609754072, 21.6348594242829, 404.5217936365302, 806.8311104914806, 159.11334081196824, 52.94467263421026, 104.37379008640481, 215.38828295224147, 286.0607909600375, 82.8880255826256, 460.8704803027198, 466.9104873218935, 53.41560156427105, 110.70134191835484, 283.71016785876697, 256.58345412908596, 773.3241024130134, 1701.4891656605053, 677.1427425449648, 319.9476698322041, 730.0072381840758, 383.8062241231529, 985.9914598485568, 686.1034749421918, 426.3026182107305, 500.8328235670834, 402.9466107652696, 411.9950611548203, 11.04880207321292, 3.9580550049103937, 3.957291798882185, 2.9450361608698614, 2.9445424096331436, 2.9443735438512126, 2.94372635881636, 34.70511498201711, 9.882824887768694, 6.758169540467173, 12.81676697607029, 10.48620391427536, 4.793534762453497, 12.356691275376043, 3.8191144813850375, 1.9317830236882967, 1.9317522490438184, 1.9316574456586708, 1.9313673498463828, 1.9311825921426968, 2.9155320061836285, 9.600604091720617, 2.871291936488168, 3.7980764299605365, 41.32127430904667, 40.06179843510802, 1.9263749171318887, 9.705866996919426, 5.811493540877579, 5.854504987731884, 4.73119938671614, 8.601015926952275, 84.34800769414477, 9.56633602712332, 21.017365319184208, 39.65991626475582, 72.98486792749121, 404.5217936365302, 144.39542615160147, 12.480302891396704, 152.45485183633485, 205.39643298879736, 66.9001888167889, 215.38828295224147, 97.48024061409784, 90.40631321290137, 65.32664594350886, 283.71016785876697, 466.9104873218935, 110.70134191835484, 319.9476698322041, 127.84474471692359, 773.3241024130134, 806.8311104914806, 730.0072381840758, 189.47124744204766, 411.9950611548203, 500.8328235670834, 460.8704803027198, 402.9466107652696, 318.0243328780523, 1701.4891656605053, 829.5817485517605, 690.7815153846396, 998.5452952995058, 347.86121927479144, 985.9914598485568], \"Category\": [\"Default\", \"Default\", \"Default\", \"Default\", \"Default\", \"Default\", \"Default\", \"Default\", \"Default\", \"Default\", \"Default\", \"Default\", \"Default\", \"Default\", \"Default\", \"Default\", \"Default\", \"Default\", \"Default\", \"Default\", \"Default\", \"Default\", \"Default\", \"Default\", \"Default\", \"Default\", \"Default\", \"Default\", \"Default\", \"Default\", \"Topic1\", \"Topic1\", \"Topic1\", \"Topic1\", \"Topic1\", \"Topic1\", \"Topic1\", \"Topic1\", \"Topic1\", \"Topic1\", \"Topic1\", \"Topic1\", \"Topic1\", \"Topic1\", \"Topic1\", \"Topic1\", \"Topic1\", \"Topic1\", \"Topic1\", \"Topic1\", \"Topic1\", \"Topic1\", \"Topic1\", \"Topic1\", \"Topic1\", \"Topic1\", \"Topic1\", \"Topic1\", \"Topic1\", \"Topic1\", \"Topic1\", \"Topic1\", \"Topic1\", \"Topic1\", \"Topic1\", \"Topic1\", \"Topic1\", \"Topic1\", \"Topic1\", \"Topic1\", \"Topic1\", \"Topic1\", \"Topic1\", \"Topic1\", \"Topic1\", \"Topic1\", \"Topic1\", \"Topic1\", \"Topic1\", \"Topic1\", \"Topic1\", \"Topic1\", \"Topic1\", \"Topic1\", \"Topic1\", \"Topic1\", \"Topic1\", \"Topic1\", \"Topic1\", \"Topic1\", \"Topic1\", \"Topic1\", \"Topic1\", \"Topic1\", \"Topic1\", \"Topic1\", \"Topic1\", \"Topic1\", \"Topic1\", \"Topic1\", \"Topic1\", \"Topic1\", \"Topic1\", \"Topic1\", \"Topic1\", \"Topic1\", \"Topic2\", \"Topic2\", \"Topic2\", \"Topic2\", \"Topic2\", \"Topic2\", \"Topic2\", \"Topic2\", \"Topic2\", \"Topic2\", \"Topic2\", \"Topic2\", \"Topic2\", \"Topic2\", \"Topic2\", \"Topic2\", \"Topic2\", \"Topic2\", \"Topic2\", \"Topic2\", \"Topic2\", \"Topic2\", \"Topic2\", \"Topic2\", \"Topic2\", \"Topic2\", \"Topic2\", \"Topic2\", \"Topic2\", \"Topic2\", \"Topic2\", \"Topic2\", \"Topic2\", \"Topic2\", \"Topic2\", \"Topic2\", \"Topic2\", \"Topic2\", \"Topic2\", \"Topic2\", \"Topic2\", \"Topic2\", \"Topic2\", \"Topic2\", \"Topic2\", \"Topic2\", \"Topic2\", \"Topic2\", \"Topic2\", \"Topic2\", \"Topic2\", \"Topic2\", \"Topic2\", \"Topic2\", \"Topic2\", \"Topic2\", \"Topic2\", \"Topic2\", \"Topic2\", \"Topic2\", \"Topic2\", \"Topic2\", \"Topic2\", \"Topic2\", \"Topic2\", \"Topic2\", \"Topic2\", \"Topic2\", \"Topic2\", \"Topic2\", \"Topic2\", \"Topic2\", \"Topic2\", \"Topic3\", \"Topic3\", \"Topic3\", \"Topic3\", \"Topic3\", \"Topic3\", \"Topic3\", \"Topic3\", \"Topic3\", \"Topic3\", \"Topic3\", \"Topic3\", \"Topic3\", \"Topic3\", \"Topic3\", \"Topic3\", \"Topic3\", \"Topic3\", \"Topic3\", \"Topic3\", \"Topic3\", \"Topic3\", \"Topic3\", \"Topic3\", \"Topic3\", \"Topic3\", \"Topic3\", \"Topic3\", \"Topic3\", \"Topic3\", \"Topic3\", \"Topic3\", \"Topic3\", \"Topic3\", \"Topic3\", \"Topic3\", \"Topic3\", \"Topic3\", \"Topic3\", \"Topic3\", \"Topic3\", \"Topic3\", \"Topic3\", \"Topic3\", \"Topic3\", \"Topic3\", \"Topic3\", \"Topic3\", \"Topic3\", \"Topic3\", \"Topic3\", \"Topic3\", \"Topic3\", \"Topic3\", \"Topic3\", \"Topic3\", \"Topic3\", \"Topic3\", \"Topic3\", \"Topic3\", \"Topic3\", \"Topic3\", \"Topic3\", \"Topic3\", \"Topic3\", \"Topic3\", \"Topic3\", \"Topic3\", \"Topic3\", \"Topic3\", \"Topic3\", \"Topic4\", \"Topic4\", \"Topic4\", \"Topic4\", \"Topic4\", \"Topic4\", \"Topic4\", \"Topic4\", \"Topic4\", \"Topic4\", \"Topic4\", \"Topic4\", \"Topic4\", \"Topic4\", \"Topic4\", \"Topic4\", \"Topic4\", \"Topic4\", \"Topic4\", \"Topic4\", \"Topic4\", \"Topic4\", \"Topic4\", \"Topic4\", \"Topic4\", \"Topic4\", \"Topic4\", \"Topic4\", \"Topic4\", \"Topic4\", \"Topic4\", \"Topic4\", \"Topic4\", \"Topic4\", \"Topic4\", \"Topic4\", \"Topic4\", \"Topic4\", \"Topic4\", \"Topic4\", \"Topic4\", \"Topic4\", \"Topic4\", \"Topic4\", \"Topic4\", \"Topic4\", \"Topic4\", \"Topic4\", \"Topic4\", \"Topic4\", \"Topic4\", \"Topic4\", \"Topic4\", \"Topic4\", \"Topic4\", \"Topic4\", \"Topic4\", \"Topic4\", \"Topic4\", \"Topic4\", \"Topic4\", \"Topic4\", \"Topic4\", \"Topic4\", \"Topic4\", \"Topic4\", \"Topic4\", \"Topic4\", \"Topic4\", \"Topic4\", \"Topic4\", \"Topic4\", \"Topic4\", \"Topic4\", \"Topic4\", \"Topic4\", \"Topic5\", \"Topic5\", \"Topic5\", \"Topic5\", \"Topic5\", \"Topic5\", \"Topic5\", \"Topic5\", \"Topic5\", \"Topic5\", \"Topic5\", \"Topic5\", \"Topic5\", \"Topic5\", \"Topic5\", \"Topic5\", \"Topic5\", \"Topic5\", \"Topic5\", \"Topic5\", \"Topic5\", \"Topic5\", \"Topic5\", \"Topic5\", \"Topic5\", \"Topic5\", \"Topic5\", \"Topic5\", \"Topic5\", \"Topic5\", \"Topic5\", \"Topic5\", \"Topic5\", \"Topic5\", \"Topic5\", \"Topic5\", \"Topic5\", \"Topic5\", \"Topic5\", \"Topic5\", \"Topic5\", \"Topic5\", \"Topic5\", \"Topic5\", \"Topic5\", \"Topic5\", \"Topic5\", \"Topic5\", \"Topic5\", \"Topic5\", \"Topic5\", \"Topic5\", \"Topic5\", \"Topic5\", \"Topic5\", \"Topic5\", \"Topic5\", \"Topic5\", \"Topic5\", \"Topic5\", \"Topic5\", \"Topic5\", \"Topic5\", \"Topic5\", \"Topic5\", \"Topic5\", \"Topic5\", \"Topic5\", \"Topic5\", \"Topic6\", \"Topic6\", \"Topic6\", \"Topic6\", \"Topic6\", \"Topic6\", \"Topic6\", \"Topic6\", \"Topic6\", \"Topic6\", \"Topic6\", \"Topic6\", \"Topic6\", \"Topic6\", \"Topic6\", \"Topic6\", \"Topic6\", \"Topic6\", \"Topic6\", \"Topic6\", \"Topic6\", \"Topic6\", \"Topic6\", \"Topic6\", \"Topic6\", \"Topic6\", \"Topic6\", \"Topic6\", \"Topic6\", \"Topic6\", \"Topic6\", \"Topic6\", \"Topic6\", \"Topic6\", \"Topic6\", \"Topic6\", \"Topic6\", \"Topic6\", \"Topic6\", \"Topic6\", \"Topic6\", \"Topic6\", \"Topic6\", \"Topic6\", \"Topic6\", \"Topic6\", \"Topic6\", \"Topic6\", \"Topic6\", \"Topic6\", \"Topic6\", \"Topic6\", \"Topic6\", \"Topic6\", \"Topic6\", \"Topic6\", \"Topic6\", \"Topic6\", \"Topic6\", \"Topic6\", \"Topic6\", \"Topic6\", \"Topic6\", \"Topic6\", \"Topic6\", \"Topic6\", \"Topic6\", \"Topic6\", \"Topic6\", \"Topic6\", \"Topic6\", \"Topic6\", \"Topic6\", \"Topic6\", \"Topic6\", \"Topic6\", \"Topic6\", \"Topic6\", \"Topic6\", \"Topic6\", \"Topic7\", \"Topic7\", \"Topic7\", \"Topic7\", \"Topic7\", \"Topic7\", \"Topic7\", \"Topic7\", \"Topic7\", \"Topic7\", \"Topic7\", \"Topic7\", \"Topic7\", \"Topic7\", \"Topic7\", \"Topic7\", \"Topic7\", \"Topic7\", \"Topic7\", \"Topic7\", \"Topic7\", \"Topic7\", \"Topic7\", \"Topic7\", \"Topic7\", \"Topic7\", \"Topic7\", \"Topic7\", \"Topic7\", \"Topic7\", \"Topic7\", \"Topic7\", \"Topic7\", \"Topic7\", \"Topic7\", \"Topic7\", \"Topic7\", \"Topic7\", \"Topic7\", \"Topic7\", \"Topic7\", \"Topic7\", \"Topic7\", \"Topic7\", \"Topic7\", \"Topic7\", \"Topic7\", \"Topic7\", \"Topic7\", \"Topic7\", \"Topic7\", \"Topic7\", \"Topic7\", \"Topic7\", \"Topic7\", \"Topic7\", \"Topic7\", \"Topic7\", \"Topic7\", \"Topic7\", \"Topic7\", \"Topic7\", \"Topic7\", \"Topic7\", \"Topic7\", \"Topic7\", \"Topic7\", \"Topic7\", \"Topic7\", \"Topic7\", \"Topic7\", \"Topic7\", \"Topic7\", \"Topic7\", \"Topic7\", \"Topic7\", \"Topic7\", \"Topic7\", \"Topic8\", \"Topic8\", \"Topic8\", \"Topic8\", \"Topic8\", \"Topic8\", \"Topic8\", \"Topic8\", \"Topic8\", \"Topic8\", \"Topic8\", \"Topic8\", \"Topic8\", \"Topic8\", \"Topic8\", \"Topic8\", \"Topic8\", \"Topic8\", \"Topic8\", \"Topic8\", \"Topic8\", \"Topic8\", \"Topic8\", \"Topic8\", \"Topic8\", \"Topic8\", \"Topic8\", \"Topic8\", \"Topic8\", \"Topic8\", \"Topic8\", \"Topic8\", \"Topic8\", \"Topic8\", \"Topic8\", \"Topic8\", \"Topic8\", \"Topic8\", \"Topic8\", \"Topic8\", \"Topic8\", \"Topic8\", \"Topic8\", \"Topic8\", \"Topic8\", \"Topic8\", \"Topic8\", \"Topic8\", \"Topic8\", \"Topic8\", \"Topic8\", \"Topic8\", \"Topic8\", \"Topic8\", \"Topic8\", \"Topic8\", \"Topic8\", \"Topic8\", \"Topic8\", \"Topic8\", \"Topic8\", \"Topic8\", \"Topic8\", \"Topic8\", \"Topic8\", \"Topic8\", \"Topic8\", \"Topic8\", \"Topic8\", \"Topic8\", \"Topic8\", \"Topic9\", \"Topic9\", \"Topic9\", \"Topic9\", \"Topic9\", \"Topic9\", \"Topic9\", \"Topic9\", \"Topic9\", \"Topic9\", \"Topic9\", \"Topic9\", \"Topic9\", \"Topic9\", \"Topic9\", \"Topic9\", \"Topic9\", \"Topic9\", \"Topic9\", \"Topic9\", \"Topic9\", \"Topic9\", \"Topic9\", \"Topic9\", \"Topic9\", \"Topic9\", \"Topic9\", \"Topic9\", \"Topic9\", \"Topic9\", \"Topic9\", \"Topic9\", \"Topic9\", \"Topic9\", \"Topic9\", \"Topic9\", \"Topic9\", \"Topic9\", \"Topic9\", \"Topic9\", \"Topic9\", \"Topic9\", \"Topic9\", \"Topic9\", \"Topic9\", \"Topic9\", \"Topic9\", \"Topic9\", \"Topic9\", \"Topic9\", \"Topic9\", \"Topic9\", \"Topic9\", \"Topic9\", \"Topic9\", \"Topic9\", \"Topic9\", \"Topic9\", \"Topic9\", \"Topic9\", \"Topic9\", \"Topic9\", \"Topic9\", \"Topic9\", \"Topic9\", \"Topic9\", \"Topic9\", \"Topic9\", \"Topic9\", \"Topic9\", \"Topic9\", \"Topic9\", \"Topic9\", \"Topic9\", \"Topic9\", \"Topic9\", \"Topic9\", \"Topic9\", \"Topic9\", \"Topic9\", \"Topic10\", \"Topic10\", \"Topic10\", \"Topic10\", \"Topic10\", \"Topic10\", \"Topic10\", \"Topic10\", \"Topic10\", \"Topic10\", \"Topic10\", \"Topic10\", \"Topic10\", \"Topic10\", \"Topic10\", \"Topic10\", \"Topic10\", \"Topic10\", \"Topic10\", \"Topic10\", \"Topic10\", \"Topic10\", \"Topic10\", \"Topic10\", \"Topic10\", \"Topic10\", \"Topic10\", \"Topic10\", \"Topic10\", \"Topic10\", \"Topic10\", \"Topic10\", \"Topic10\", \"Topic10\", \"Topic10\", \"Topic10\", \"Topic10\", \"Topic10\", \"Topic10\", \"Topic10\", \"Topic10\", \"Topic10\", \"Topic10\", \"Topic10\", \"Topic10\", \"Topic10\", \"Topic10\", \"Topic10\", \"Topic10\", \"Topic10\", \"Topic10\", \"Topic10\", \"Topic10\", \"Topic10\", \"Topic10\", \"Topic10\", \"Topic10\", \"Topic10\", \"Topic10\", \"Topic10\", \"Topic10\", \"Topic10\", \"Topic10\", \"Topic10\", \"Topic10\", \"Topic10\", \"Topic10\"], \"logprob\": [30.0, 29.0, 28.0, 27.0, 26.0, 25.0, 24.0, 23.0, 22.0, 21.0, 20.0, 19.0, 18.0, 17.0, 16.0, 15.0, 14.0, 13.0, 12.0, 11.0, 10.0, 9.0, 8.0, 7.0, 6.0, 5.0, 4.0, 3.0, 2.0, 1.0, -6.8456, -7.3789, -7.5869, -6.7739, -7.768, -7.3617, -7.9713, -8.2077, -7.2116, -6.9076, -7.6849, -8.2713, -7.5837, -8.2767, -7.5969, -7.1036, -7.5026, -8.5968, -8.5969, -8.5971, -8.5971, -8.5972, -7.1372, -7.4151, -7.2507, -8.6364, -8.6507, -6.7174, -6.0231, -8.3773, -7.2715, -6.1298, -7.0914, -6.0344, -7.5864, -7.3466, -2.8231, -6.6331, -5.1422, -5.1639, -6.6215, -6.127, -4.5605, -4.8314, -5.6591, -4.7264, -4.0077, -4.5275, -6.017, -3.9391, -3.9585, -4.7022, -4.3219, -4.6403, -4.4332, -4.3761, -5.6475, -5.0097, -5.6493, -4.443, -5.5093, -4.9176, -5.3511, -5.348, -4.7523, -5.2441, -5.223, -5.2514, -4.9415, -5.3737, -5.4099, -5.4646, -5.4472, -5.2636, -5.4122, -5.3323, -6.1785, -6.3574, -6.0421, -6.4427, -5.2595, -7.3206, -7.7951, -8.0516, -6.4416, -5.5996, -7.6724, -6.505, -5.9232, -7.9256, -8.4373, -6.7975, -7.35, -8.449, -8.1601, -8.4539, -7.3624, -8.1731, -7.0846, -7.9531, -8.191, -7.9724, -6.2881, -8.51, -8.5187, -7.2476, -5.6331, -6.3002, -7.0444, -6.9309, -6.6098, -6.0956, -6.7089, -5.2459, -6.6169, -4.9779, -6.4314, -4.9951, -4.4386, -5.3889, -4.7468, -6.2464, -4.5807, -3.9394, -5.9832, -4.1168, -5.4859, -5.0608, -4.3818, -5.28, -4.8504, -4.4809, -4.8098, -4.549, -4.6223, -5.4483, -5.3129, -5.4891, -5.2042, -4.5485, -5.3271, -5.244, -5.0344, -5.1705, -5.251, -5.2287, -5.1702, -5.3884, -5.3619, -6.0106, -6.489, -7.7846, -6.6828, -7.4439, -6.5604, -8.1688, -7.6131, -8.2323, -6.6516, -7.6925, -8.5268, -8.5369, -6.9331, -8.2519, -6.7142, -8.2835, -8.5968, -8.6158, -6.0443, -7.0571, -8.3319, -8.3282, -8.3689, -8.6385, -8.3541, -8.6621, -8.6588, -8.376, -8.369, -7.4937, -7.9942, -4.6394, -5.0812, -6.8606, -6.7203, -6.7017, -3.7361, -6.3694, -7.3884, -6.8286, -5.2422, -6.5927, -5.2867, -3.8448, -4.876, -3.7267, -4.8729, -4.1801, -4.5245, -5.4727, -6.0811, -4.8337, -4.4397, -4.5143, -5.4052, -5.639, -4.9585, -5.2725, -4.4239, -4.6322, -5.1101, -4.6909, -5.1407, -5.2495, -5.1114, -4.5752, -5.2997, -5.3008, -5.4397, -5.4374, -6.45, -6.2168, -6.8135, -6.5243, -7.477, -7.3572, -7.7575, -7.1745, -7.7708, -8.2811, -7.7914, -7.7957, -8.2996, -8.3143, -7.3384, -7.3596, -6.4738, -8.3809, -5.8427, -8.3889, -7.5442, -6.8607, -8.1457, -8.4487, -8.165, -7.5977, -7.9579, -7.9465, -8.4748, -7.6419, -6.689, -6.2071, -5.9962, -6.3047, -6.6263, -6.2855, -6.3858, -5.3634, -4.3351, -6.1352, -6.0754, -5.9362, -5.6746, -3.7867, -4.9813, -4.5985, -4.0331, -6.4064, -4.9128, -5.1092, -5.0461, -3.644, -4.0117, -4.2768, -5.122, -5.3755, -4.8538, -4.1763, -4.6659, -5.4971, -4.4927, -5.1033, -4.9571, -5.0601, -4.9562, -4.9031, -5.0633, -5.509, -5.2335, -5.1549, -4.9121, -5.3426, -5.2185, -5.1237, -5.1575, -5.3576, -6.0714, -5.6169, -7.0776, -7.682, -6.0852, -7.1034, -6.5538, -7.9612, -7.9612, -7.9613, -7.962, -7.7399, -4.474, -5.9456, -5.722, -7.4619, -8.0149, -7.4891, -6.2904, -6.1086, -8.0534, -6.3449, -8.3506, -8.3508, -8.3509, -8.351, -7.2579, -6.9178, -8.0888, -8.0816, -6.9893, -7.6758, -5.4264, -7.6953, -6.1978, -3.905, -6.4806, -4.4938, -6.0179, -4.7385, -3.7061, -5.6049, -5.069, -5.6986, -4.2307, -4.2329, -3.6629, -5.2062, -5.6766, -4.7194, -5.127, -4.4403, -4.4749, -4.5915, -5.1125, -5.1742, -5.0537, -4.6654, -4.8115, -5.157, -5.1099, -5.1093, -5.0125, -5.3001, -5.3535, -5.3318, -5.4295, -5.3972, -5.406, -7.0105, -7.6878, -7.0105, -7.1396, -7.191, -7.7767, -8.0769, -8.077, -8.0772, -8.0777, -7.8154, -8.1432, -8.1587, -8.1743, -8.1895, -7.9245, -7.8913, -7.0695, -7.6875, -5.621, -7.7656, -7.7871, -7.4761, -8.7233, -8.7233, -8.7234, -8.7234, -8.7235, -8.7235, -8.7235, -7.8196, -8.335, -8.0772, -8.072, -6.657, -3.6351, -8.0771, -5.5727, -6.9834, -7.1106, -6.2144, -4.9275, -4.9936, -5.1534, -3.2553, -6.753, -5.6488, -5.4871, -4.1316, -4.6927, -6.009, -5.6578, -5.1869, -4.3205, -4.3697, -5.4972, -5.0591, -5.5278, -5.4664, -4.4216, -4.8673, -5.5927, -4.464, -4.8359, -4.8846, -5.2402, -5.0938, -5.533, -4.5655, -5.1266, -4.913, -5.1831, -5.402, -5.2197, -5.3348, -5.1964, -5.354, -5.2906, -5.4164, -5.4644, -6.438, -6.6587, -6.7907, -6.9425, -6.979, -5.5577, -6.9861, -7.6195, -7.701, -8.0089, -8.0089, -8.009, -7.6286, -6.1085, -7.8585, -5.6987, -8.2253, -8.206, -6.9375, -6.5072, -8.6553, -8.6554, -8.6555, -8.6555, -8.6555, -8.6555, -8.6556, -8.6557, -8.6558, -8.6557, -7.9973, -7.9717, -5.742, -8.2599, -5.8609, -6.659, -6.877, -7.0437, -5.6516, -8.2736, -7.5043, -6.1801, -6.6356, -5.4952, -4.6792, -5.8939, -6.0344, -4.7031, -4.7956, -5.8317, -4.9943, -6.0933, -3.9475, -5.0184, -4.5661, -4.8994, -4.4463, -5.8121, -4.8706, -4.9404, -5.0108, -4.3788, -5.1068, -5.2552, -5.002, -4.7386, -4.9517, -5.0584, -4.4709, -4.7889, -5.1596, -5.3802, -5.2086, -4.965, -5.1192, -5.1142, -5.2908, -5.3543, -5.3585, -4.1348, -5.415, -6.655, -7.4033, -7.4155, -6.8647, -7.4385, -7.1488, -7.8606, -7.8787, -5.3739, -7.9566, -7.9717, -5.98, -8.3916, -8.3917, -8.3917, -8.3918, -8.3918, -8.3918, -8.3918, -8.3919, -8.3919, -8.3919, -8.3919, -7.7245, -6.7544, -8.4221, -8.4325, -6.291, -5.7644, -4.8112, -3.6124, -4.6493, -5.5695, -7.0059, -6.0854, -6.6599, -8.0536, -3.9648, -7.0053, -4.9546, -5.547, -4.0672, -5.4583, -6.157, -6.123, -5.0705, -5.1934, -5.8941, -4.033, -5.0906, -4.607, -5.6034, -4.555, -3.8522, -5.193, -4.3299, -5.221, -5.2775, -4.8622, -4.9052, -4.8829, -5.2353, -5.1767, -4.9942, -5.1731, -5.0537, -5.3548, -5.4007, -6.6991, -5.7148, -7.4902, -7.2614, -5.9473, -5.726, -7.8433, -7.5678, -7.8578, -6.1544, -7.8764, -7.388, -7.9037, -5.6346, -7.9535, -6.8662, -7.4798, -6.7113, -7.0156, -8.4147, -8.4149, -8.4149, -8.415, -8.415, -8.4151, -8.4151, -8.4152, -8.4152, -8.4153, -8.4155, -5.567, -6.217, -6.5919, -6.6078, -6.9595, -7.5119, -5.9694, -5.3458, -7.5906, -6.8588, -6.7388, -5.7307, -5.0057, -7.0603, -6.9181, -3.7422, -5.3924, -6.4463, -6.7727, -5.0942, -5.5941, -3.9964, -5.7051, -6.4076, -4.625, -4.3259, -5.3087, -5.9153, -5.568, -5.1907, -5.0721, -5.7199, -4.9183, -4.947, -5.9488, -5.6685, -5.3044, -5.3443, -4.9532, -4.6984, -5.1876, -5.3982, -5.237, -5.4899, -5.3608, -5.4191, -5.5199, -5.5365, -5.5625, -5.6322, -5.9391, -7.1201, -7.1204, -7.5095, -7.5098, -7.5099, -7.5102, -5.0947, -6.3602, -6.7419, -6.155, -6.3619, -7.2035, -6.2777, -7.4632, -8.1562, -8.1563, -8.1564, -8.1566, -8.1568, -7.7582, -6.5679, -7.7875, -7.5097, -5.1275, -5.1609, -8.1997, -6.5868, -7.1063, -7.1127, -7.3334, -6.7605, -4.6712, -6.715, -6.014, -5.4677, -4.9918, -3.5797, -4.6065, -6.5664, -4.6693, -4.4941, -5.3447, -4.5302, -5.1345, -5.1868, -5.4398, -4.5162, -4.4656, -5.4769, -4.9481, -5.4299, -4.5939, -4.5899, -4.7788, -5.359, -5.1016, -5.072, -5.1025, -5.2016, -5.2675, -4.8406, -5.2468, -5.2676, -5.356, -5.3896, -5.3584], \"loglift\": [30.0, 29.0, 28.0, 27.0, 26.0, 25.0, 24.0, 23.0, 22.0, 21.0, 20.0, 19.0, 18.0, 17.0, 16.0, 15.0, 14.0, 13.0, 12.0, 11.0, 10.0, 9.0, 8.0, 7.0, 6.0, 5.0, 4.0, 3.0, 2.0, 1.0, 1.7837, 1.7376, 1.6654, 1.6476, 1.6397, 1.6372, 1.6151, 1.6057, 1.5857, 1.5808, 1.5719, 1.5437, 1.5436, 1.5391, 1.5228, 1.5199, 1.5078, 1.5065, 1.5065, 1.5065, 1.5064, 1.5064, 1.5019, 1.4868, 1.4801, 1.4651, 1.4543, 1.45, 1.4486, 1.4434, 1.4407, 1.3963, 1.4109, 1.3161, 1.4266, 1.3857, 0.8752, 1.2931, 1.1228, 1.0499, 1.2631, 1.151, 0.8134, 0.8365, 1.0194, 0.7021, 0.4791, 0.6113, 1.029, 0.3048, 0.2727, 0.5004, 0.2977, 0.281, 0.1113, 0.0683, 0.7041, 0.3451, 0.6969, -0.0264, 0.5636, 0.1648, 0.4576, 0.4171, -0.1458, 0.2454, 0.1524, 0.1473, -0.3418, 0.2598, 0.3154, 0.4018, 0.361, -0.1471, 0.1779, -0.1974, 1.9707, 1.9451, 1.9326, 1.9176, 1.8031, 1.7985, 1.7939, 1.7624, 1.7602, 1.739, 1.7337, 1.7155, 1.6957, 1.6675, 1.6663, 1.6652, 1.6641, 1.6548, 1.6529, 1.6491, 1.6486, 1.6396, 1.6356, 1.633, 1.622, 1.6138, 1.6103, 1.5938, 1.589, 1.585, 1.5843, 1.5554, 1.5459, 1.5259, 1.456, 1.3937, 1.447, 1.2157, 1.4072, 1.068, 1.3151, 0.9106, 0.6437, 0.9453, 0.7179, 1.2447, 0.6067, 0.2918, 1.1264, 0.2999, 0.8459, 0.5998, 0.2247, 0.6133, 0.2883, -0.0364, 0.1836, -0.0622, -0.0225, 0.5944, 0.355, 0.5788, 0.1945, -0.8502, 0.263, 0.0418, -0.4899, -0.1661, -0.0484, -0.1122, -0.9263, -0.0624, -0.3706, 1.8263, 1.8187, 1.8076, 1.7617, 1.6888, 1.6581, 1.6467, 1.6407, 1.5866, 1.5805, 1.58, 1.5791, 1.5696, 1.5638, 1.5619, 1.537, 1.5328, 1.512, 1.509, 1.5088, 1.5064, 1.4946, 1.488, 1.4713, 1.4706, 1.462, 1.4515, 1.4512, 1.4496, 1.4483, 1.4045, 1.4248, 1.2814, 1.2248, 1.3043, 1.2711, 1.2619, 0.8083, 1.194, 1.3306, 1.2362, 0.9314, 1.1861, 0.8959, 0.5718, 0.7929, 0.5171, 0.7364, 0.4395, 0.4799, 0.7783, 0.9754, 0.352, 0.16, 0.0922, 0.5576, 0.6726, 0.1802, 0.3739, -0.1927, -0.1878, 0.1756, -0.2041, 0.0618, 0.0765, -0.1901, -0.8769, -0.1123, -0.1843, 0.0417, -0.446, 2.034, 2.0201, 2.0101, 1.9003, 1.8695, 1.8361, 1.788, 1.7879, 1.7762, 1.7706, 1.7572, 1.7544, 1.7543, 1.7391, 1.7338, 1.7156, 1.6858, 1.6828, 1.6775, 1.6684, 1.663, 1.6517, 1.6321, 1.622, 1.6067, 1.6019, 1.6003, 1.599, 1.5919, 1.5816, 1.5697, 1.5557, 1.5138, 1.4844, 1.505, 1.4793, 1.3718, 1.2084, 1.0403, 1.3173, 1.269, 1.2315, 1.1541, 0.6299, 0.9244, 0.7563, 0.4113, 1.2785, 0.6965, 0.7571, 0.71, 0.0543, 0.2196, 0.3428, 0.733, 0.8235, 0.5156, 0.0676, 0.2553, 0.8558, 0.1138, 0.5701, 0.3689, 0.3386, 0.2311, 0.1013, 0.2225, 0.673, 0.2478, 0.0309, -0.4253, 0.3038, -0.0798, -0.524, -0.613, 0.3103, 2.1955, 2.1499, 2.0643, 2.0464, 2.0364, 2.0346, 2.0034, 1.9824, 1.9824, 1.9824, 1.9822, 1.9801, 1.9617, 1.9496, 1.9461, 1.9306, 1.9216, 1.8893, 1.8845, 1.8798, 1.8787, 1.8753, 1.8681, 1.8681, 1.868, 1.868, 1.8578, 1.852, 1.8496, 1.8418, 1.8399, 1.841, 1.6939, 1.8232, 1.6563, 1.0864, 1.504, 0.8756, 1.3126, 0.895, 0.5378, 1.1653, 0.8941, 1.0968, 0.3758, 0.3668, 0.0354, 0.8072, 1.0371, 0.3971, 0.5337, 0.0041, 0.012, 0.0281, 0.316, 0.3071, 0.1337, -0.4342, -0.3949, 0.0455, -0.1055, -0.188, -0.468, 0.0986, 0.2365, -0.1461, 0.3265, -0.3149, -0.4125, 2.2391, 2.1251, 2.1135, 2.1105, 2.0596, 2.0404, 2.026, 2.0259, 2.0258, 2.0257, 2.0036, 1.9631, 1.9504, 1.9361, 1.922, 1.9152, 1.912, 1.91, 1.9013, 1.8678, 1.8241, 1.816, 1.7988, 1.7901, 1.7901, 1.79, 1.79, 1.79, 1.79, 1.79, 1.7693, 1.7757, 1.7647, 1.7559, 1.659, 1.3584, 1.7383, 1.4959, 1.5929, 1.6075, 1.4443, 1.0089, 0.9982, 1.0292, 0.443, 1.4583, 1.0594, 0.9436, 0.4129, 0.6332, 1.1351, 0.9735, 0.716, 0.2792, 0.2368, 0.7895, 0.5501, 0.7538, 0.7132, 0.0653, 0.3185, 0.7589, -0.0196, 0.1685, 0.1978, 0.4287, 0.261, 0.6753, -0.3342, 0.1591, -0.2934, 0.0043, 0.354, -0.2985, 0.039, -0.7798, 0.0214, -1.0467, -0.425, -0.2619, 2.4664, 2.4446, 2.4293, 2.4094, 2.3685, 2.3659, 2.3611, 2.2823, 2.1934, 2.1731, 2.1731, 2.173, 2.0294, 2.0253, 2.0248, 1.9815, 1.9641, 1.961, 1.9502, 1.9255, 1.9171, 1.9171, 1.917, 1.917, 1.917, 1.917, 1.917, 1.917, 1.9169, 1.9167, 1.913, 1.9081, 1.8417, 1.9048, 1.7922, 1.8318, 1.8337, 1.8424, 1.6928, 1.8901, 1.8316, 1.6972, 1.7265, 1.567, 1.284, 1.3848, 1.418, 1.0222, 0.8135, 1.237, 0.8556, 1.3361, 0.2964, 0.7956, 0.5163, 0.5653, 0.1733, 1.1319, 0.4151, 0.4335, 0.4788, -0.1476, 0.5025, 0.5534, 0.2006, -0.1321, 0.0527, 0.1273, -0.7726, -0.3445, 0.1664, 0.5131, 0.1901, -0.4205, -0.1979, -0.6274, -0.6911, -0.3608, 2.5869, 2.5623, 2.5261, 2.5053, 2.4581, 2.4454, 2.4359, 2.4218, 2.298, 2.2773, 2.2655, 2.2263, 2.1788, 2.1725, 2.1638, 2.1561, 2.156, 2.156, 2.156, 2.156, 2.156, 2.156, 2.1559, 2.1559, 2.1559, 2.1559, 2.127, 2.1266, 2.1243, 2.1137, 1.9789, 1.9363, 1.6965, 1.5225, 1.6157, 1.6782, 1.9215, 1.6944, 1.7898, 2.0843, 1.1517, 1.844, 1.3462, 1.4132, 0.8541, 1.2893, 1.5429, 1.5061, 1.0945, 1.1384, 1.3872, 0.4539, 0.9011, 0.5788, 1.1849, 0.4364, -0.1539, 0.7433, -0.0987, 0.6289, 0.396, -0.3177, -0.3055, -0.4385, 0.1932, 0.0259, -0.5775, -0.1797, -0.8098, -0.7483, -0.3962, 2.5063, 2.4347, 2.4165, 2.4122, 2.3897, 2.3442, 2.3388, 2.3375, 2.3172, 2.2988, 2.2973, 2.2818, 2.2682, 2.2397, 2.2198, 2.212, 2.1953, 2.1617, 2.1596, 2.158, 2.1579, 2.1579, 2.1579, 2.1579, 2.1579, 2.1578, 2.1578, 2.1578, 2.1578, 2.1577, 2.1428, 2.1451, 2.1298, 2.1119, 2.0994, 2.1172, 2.0014, 1.9123, 2.0822, 2.0077, 1.9603, 1.8224, 1.4541, 1.9926, 1.9422, 0.8575, 1.4166, 1.7547, 1.8814, 1.0165, 1.2479, 0.2349, 1.2389, 1.6556, 0.5098, 0.1185, 0.7593, 1.253, 0.9215, 0.5743, 0.4092, 1.0001, 0.0862, 0.0444, 1.2106, 0.7622, 0.1852, 0.2458, -0.4664, -1.0002, -0.5679, -0.0288, -0.6926, -0.3025, -1.1169, -0.8126, -0.4375, -0.6153, -0.4238, -0.5157, 2.7961, 2.6417, 2.6416, 2.5479, 2.5478, 2.5478, 2.5477, 2.496, 2.4865, 2.4849, 2.4318, 2.4255, 2.3668, 2.3456, 2.3343, 2.3229, 2.3228, 2.3228, 2.3227, 2.3226, 2.3093, 2.3078, 2.2953, 2.2934, 2.2886, 2.2862, 2.2822, 2.278, 2.2714, 2.2576, 2.2499, 2.2252, 2.0313, 2.1643, 2.0781, 1.9895, 1.8555, 1.5551, 1.5585, 2.047, 1.4414, 1.3185, 1.5897, 1.2349, 1.4234, 1.4464, 1.5183, 0.9734, 0.5258, 0.9538, 0.4212, 0.8569, -0.107, -0.1455, -0.2343, 0.5343, 0.015, -0.1507, -0.0981, -0.0629, 0.1079, -1.1423, -0.8302, -0.6679, -1.1248, -0.1039, -1.1145]}, \"token.table\": {\"Topic\": [1, 2, 8, 10, 9, 3, 4, 7, 1, 8, 1, 2, 3, 4, 5, 6, 7, 8, 9, 10, 1, 5, 6, 8, 9, 10, 8, 9, 7, 1, 3, 4, 5, 6, 7, 8, 9, 10, 1, 2, 3, 4, 5, 6, 7, 8, 9, 10, 1, 3, 4, 5, 6, 7, 8, 7, 4, 5, 6, 8, 7, 2, 7, 1, 2, 3, 9, 1, 2, 3, 9, 1, 2, 3, 5, 6, 8, 3, 1, 2, 3, 4, 5, 6, 7, 8, 9, 10, 7, 1, 3, 7, 9, 2, 5, 1, 2, 3, 4, 5, 6, 7, 8, 9, 10, 1, 2, 3, 4, 5, 6, 7, 8, 9, 10, 1, 2, 3, 4, 5, 6, 7, 8, 9, 10, 6, 7, 5, 1, 3, 5, 7, 6, 8, 10, 9, 9, 1, 2, 3, 4, 5, 6, 7, 8, 9, 10, 1, 4, 9, 10, 1, 3, 1, 2, 3, 4, 5, 6, 7, 8, 9, 10, 3, 6, 1, 2, 3, 4, 5, 6, 7, 8, 9, 10, 1, 2, 3, 4, 5, 6, 7, 8, 9, 10, 6, 7, 3, 5, 1, 2, 3, 4, 5, 6, 9, 10, 2, 4, 10, 1, 3, 7, 8, 10, 1, 2, 3, 4, 5, 6, 7, 8, 9, 10, 2, 1, 2, 3, 4, 5, 6, 7, 8, 9, 10, 1, 2, 5, 7, 4, 1, 2, 3, 9, 5, 5, 7, 7, 2, 4, 1, 2, 5, 7, 6, 2, 3, 6, 1, 2, 3, 4, 5, 6, 7, 8, 9, 10, 8, 10, 8, 1, 3, 2, 1, 2, 3, 4, 5, 6, 7, 8, 9, 10, 1, 2, 5, 1, 2, 3, 4, 5, 6, 7, 8, 9, 10, 8, 9, 10, 6, 8, 1, 1, 6, 5, 7, 1, 2, 5, 10, 1, 7, 3, 1, 2, 3, 4, 5, 6, 7, 8, 9, 10, 2, 3, 1, 2, 3, 5, 7, 7, 8, 1, 4, 6, 9, 8, 1, 5, 10, 2, 3, 6, 1, 2, 3, 4, 5, 7, 8, 9, 10, 1, 2, 3, 5, 6, 4, 1, 2, 3, 4, 5, 6, 7, 8, 9, 10, 7, 7, 1, 2, 3, 4, 5, 6, 7, 8, 9, 10, 10, 1, 2, 3, 4, 5, 6, 7, 8, 9, 10, 1, 2, 3, 4, 5, 6, 7, 8, 9, 10, 1, 2, 3, 4, 5, 6, 7, 8, 9, 10, 4, 5, 7, 1, 2, 3, 4, 6, 8, 9, 10, 1, 2, 3, 4, 1, 2, 3, 5, 6, 7, 8, 10, 3, 7, 9, 1, 3, 5, 6, 9, 1, 2, 3, 4, 5, 6, 7, 10, 1, 3, 4, 5, 7, 9, 1, 3, 4, 5, 9, 1, 2, 7, 1, 3, 4, 5, 7, 1, 2, 5, 7, 1, 2, 3, 4, 5, 6, 7, 8, 9, 10, 7, 10, 9, 1, 2, 3, 4, 5, 6, 7, 8, 9, 10, 9, 5, 7, 3, 5, 3, 5, 9, 10, 5, 6, 2, 6, 1, 2, 3, 4, 5, 6, 7, 8, 9, 10, 6, 1, 2, 3, 4, 5, 6, 7, 8, 9, 10, 3, 1, 2, 3, 4, 5, 6, 7, 8, 9, 3, 1, 2, 3, 4, 5, 6, 7, 8, 9, 10, 1, 2, 3, 4, 5, 6, 7, 9, 10, 1, 2, 3, 4, 5, 6, 7, 8, 9, 10, 6, 7, 10, 2, 6, 7, 9, 10, 8, 3, 1, 2, 3, 4, 5, 6, 7, 8, 9, 10, 1, 2, 3, 4, 5, 6, 7, 8, 9, 10, 2, 5, 6, 2, 3, 7, 10, 1, 5, 6, 3, 2, 9, 4, 5, 7, 1, 2, 3, 5, 7, 8, 1, 2, 4, 7, 2, 2, 1, 2, 3, 4, 5, 6, 7, 8, 9, 10, 1, 2, 7, 1, 2, 3, 4, 5, 8, 1, 2, 3, 4, 5, 6, 7, 8, 9, 10, 2, 4, 7, 9, 1, 2, 3, 4, 5, 6, 7, 8, 9, 10, 1, 2, 3, 4, 5, 6, 7, 8, 9, 10, 9, 10, 1, 2, 3, 4, 5, 6, 7, 8, 9, 10, 7, 8, 9, 10, 2, 1, 3, 5, 7, 4, 9, 1, 3, 9, 1, 8, 1, 2, 3, 4, 5, 7, 8, 9, 10, 1, 7, 10, 1, 2, 3, 4, 5, 6, 7, 8, 9, 10, 1, 2, 3, 4, 5, 6, 7, 8, 9, 10, 1, 2, 3, 4, 5, 6, 7, 8, 9, 1, 7, 4, 10, 4, 4, 1, 2, 3, 4, 5, 6, 7, 8, 9, 10, 1, 2, 3, 4, 5, 6, 7, 8, 9, 10, 1, 2, 3, 4, 5, 10, 1, 2, 3, 4, 5, 6, 7, 8, 9, 10, 10, 2, 3, 8, 5, 1, 2, 3, 4, 5, 6, 7, 8, 9, 10, 1, 2, 3, 4, 5, 6, 7, 8, 9, 10, 1, 2, 3, 4, 5, 6, 7, 8, 9, 10, 6, 1, 2, 4, 4, 1, 2, 3, 4, 5, 6, 7, 8, 9, 10, 1, 3, 4, 5, 6, 7, 9, 9, 1, 2, 3, 4, 5, 6, 7, 8, 9, 10, 1, 2, 3, 4, 6, 8, 10, 1, 2, 3, 4, 5, 6, 7, 8, 9, 10, 1, 2, 5, 6, 7, 9, 1, 2, 3, 4, 5, 6, 7, 8, 9, 10, 3, 4, 8, 1, 2, 3, 4, 5, 6, 7, 8, 9, 10, 4, 1, 5, 10, 5, 10, 10, 10, 10, 3, 7, 10, 6, 10, 10, 7, 1, 2, 3, 4, 7, 9, 8, 1, 2, 6, 1, 2, 3, 6, 7, 6, 1, 3, 4, 6, 1, 5, 6, 8, 1, 7, 9, 10, 1, 2, 5, 8, 9, 3, 3, 4, 6, 7, 10, 1, 3, 5, 7, 10, 7, 1, 2, 4, 5, 6, 7, 10, 3, 1, 2, 3, 4, 5, 6, 7, 8, 9, 10, 1, 9, 1, 2, 3, 4, 5, 6, 7, 9, 10, 7, 9, 1, 2, 3, 4, 5, 6, 7, 8, 9, 10, 8, 1, 2, 3, 4, 5, 6, 7, 8, 9, 10, 2, 3, 4, 5, 6, 8, 9, 10, 1, 2, 3, 4, 5, 6, 7, 8, 9, 10, 5, 3, 2, 1, 2, 3, 4, 5, 6, 7, 8, 9, 10, 1, 6, 10, 1, 2, 3, 4, 5, 6, 7, 8, 9, 10, 1, 2, 3, 4, 5, 6, 7, 8, 9, 10, 1, 2, 3, 4, 5, 6, 7, 8, 9, 10, 10, 1, 2, 4, 7, 9, 1, 2, 3, 4, 5, 6, 7, 8, 9, 10, 1, 2, 3, 4, 5, 6, 7, 9, 10, 2, 6, 1, 2, 3, 4, 5, 6, 7, 8, 9, 10, 1, 2, 3, 4, 5, 6, 7, 8, 9, 10, 1, 2, 7, 8, 1, 2, 1, 2, 1, 2, 3, 4, 5, 6, 7, 8, 9, 10, 1, 2, 3, 4, 5, 6, 7, 8, 9, 10, 1, 2, 3, 4, 5, 6, 7, 8, 9, 10, 1, 2, 3, 4, 5, 7, 8, 9, 10, 1, 2, 3, 4, 5, 6, 7, 8, 9, 10, 6, 10, 1, 2, 3, 4, 5, 6, 7, 8, 9, 10, 1, 2, 3, 4, 5, 6, 7, 8, 9, 10, 1, 3, 5, 6, 7, 8, 1, 2, 3, 4, 5, 6, 8, 1, 6, 1, 2, 3, 4, 5, 6, 7, 8, 9, 10, 2, 5, 9, 10, 3, 6, 1, 3, 4, 8, 9, 1, 2, 3, 4, 5, 6, 7, 8, 9, 10, 2, 5, 8, 2, 5, 5, 1, 2, 3, 4, 5, 6, 7, 9, 10, 1, 2, 3, 4, 5, 6, 7, 8, 9, 10, 10, 1, 2, 3, 4, 5, 6, 7, 8, 9, 10, 1, 2, 4, 5, 8, 1, 1, 2, 4, 5, 6, 9, 6, 2, 3, 6, 7, 8, 10, 1, 2, 3, 4, 5, 6, 7, 8, 9, 10, 1, 2, 3, 4, 5, 7, 8, 9, 10, 6, 6, 10, 1, 2, 3, 4, 5, 6, 7, 8, 9, 10, 1, 2, 3, 4, 5, 6, 7, 8, 9, 10, 8, 2, 4, 6, 8, 1, 2, 3, 4, 5, 6, 7, 8, 9, 10, 2, 6, 10, 6, 10, 6, 1, 2, 3, 4, 5, 6, 7, 8, 9, 10, 1, 3, 9, 2, 8, 2, 6, 1, 2, 3, 4, 5, 6, 7, 8, 9, 10, 4, 1, 3, 8, 10, 1, 2, 3, 4, 5, 6, 7, 8, 9, 10, 1, 2, 3, 4, 5, 6, 7, 8, 9, 10, 1, 2, 3, 4, 5, 6, 7, 8, 9, 10, 1, 3, 4, 5, 7, 9, 10, 3, 5, 5, 2, 3, 5, 1, 2, 3, 4, 5, 6, 7, 9, 10, 1, 2, 3, 4, 5, 6, 7, 8, 9, 10, 9, 1, 5, 5, 6, 7, 10, 1, 2, 3, 4, 5, 6, 7, 8, 9, 10, 8, 6, 1, 2, 3, 4, 10, 3, 9, 1, 4, 1, 2, 7, 2, 10, 1, 8, 3, 4, 6, 1, 1, 2, 3, 4, 5, 6, 8, 9, 10, 2, 5, 7, 8, 1, 2, 3, 4, 5, 4, 6, 10, 1, 2, 3, 4, 5, 6, 7, 9, 6, 2, 3, 10, 10, 3, 4, 7, 10, 6, 6, 8, 3, 4, 5, 7, 8, 9, 5, 8, 1, 2, 3, 4, 5, 6, 7, 8, 9, 10, 1, 2, 3, 4, 5, 6, 7, 8, 9, 10, 6, 1, 2, 3, 4, 5, 6, 7, 8, 9, 10, 2, 5, 8, 9, 6, 1, 2, 3, 4, 5, 6, 7, 8, 9, 10, 1, 2, 4, 8, 10, 1, 2, 3, 4, 5, 6, 7, 8, 9, 10, 5, 1, 1, 2, 3, 4, 5, 6, 7, 8, 9, 10, 3, 4, 3, 4, 9, 1, 2, 3, 4, 5, 6, 7, 8, 9, 10, 5, 9, 1, 3, 2, 3, 5, 7, 10, 1, 3, 1, 2, 3, 4, 5, 6, 7, 8, 9, 10, 1, 2, 3, 4, 5, 6, 7, 8, 9, 10, 4, 8, 3, 1, 1, 2, 3, 4, 5, 6, 7, 8, 9, 10, 2, 3, 2, 3, 4, 6, 7, 8, 9, 1, 3, 5, 6, 7, 1, 2, 3, 4, 5, 6, 7, 8, 9, 10, 7, 3, 9, 1, 2, 3, 4, 5, 6, 7, 10, 1, 2, 3, 4, 5, 7, 9, 7, 5, 2, 3, 5, 1, 4, 5, 10, 2, 4, 4, 8, 1, 2, 3, 4, 5, 6, 7, 8, 9, 10, 1, 2, 3, 4, 5, 6, 7, 8, 9, 10, 1, 2, 3, 4, 5, 6, 7, 8, 9, 10, 1, 5, 10, 6, 1, 2, 3, 4, 5, 6, 7, 8, 9, 10, 4, 7, 2, 5, 8, 10, 9, 1, 5, 7, 1, 2, 3, 4, 5, 6, 7, 8, 9, 10, 1, 2, 3, 5, 7, 1, 7, 9, 10, 8, 9, 8, 1, 2, 3, 4, 5, 7, 8, 9, 10, 10, 4, 1, 2, 3, 4, 5, 6, 7, 8, 9, 10, 1, 2, 3, 4, 5, 6, 7, 8, 9, 10, 8, 1, 4, 5, 8, 1, 2, 3, 4, 5, 6, 7, 10, 2, 1, 2, 4, 7, 8, 1, 2, 3, 4, 5, 6, 7, 8, 9, 10, 3, 7, 8, 1, 2, 3, 4, 6, 7, 8, 2, 5, 9, 1, 2, 3, 4, 5, 6, 7, 8, 9, 10, 3, 7, 8, 9, 1, 2, 3, 4, 5, 6, 7, 8, 9, 10, 1, 2, 3, 4, 5, 6, 7, 8, 9, 10, 5, 7, 1, 2, 3, 5, 7, 8, 9, 1, 6, 1, 2, 3, 4, 5, 6, 7, 8, 9, 10, 6, 1, 2, 3, 4, 5, 6, 7, 8, 9, 10, 2, 4, 5, 1, 2, 3, 4, 5, 6, 7, 8, 9, 10, 9, 2, 9, 1, 2, 3, 4, 5, 6, 7, 8, 9, 10, 1, 2, 3, 4, 5, 6, 7, 8, 9, 7, 5, 2, 7, 7, 1, 2, 3, 4, 5, 6, 7, 8, 9, 10, 9, 2, 3, 4, 5, 6, 10, 1, 2, 3, 4, 5, 6, 7, 8, 9, 10, 5, 6, 1, 2, 3, 4, 5, 6, 7, 8, 9, 10, 1, 3, 5, 7, 8, 1, 2, 3, 4, 5, 6, 7, 8, 9, 10, 5, 10, 1, 5, 8, 8, 1, 1, 2, 3, 6, 7, 10, 7, 1, 3, 4, 5, 6, 7, 9, 10, 1, 3, 4, 1, 1, 2, 3, 4, 6, 9, 10, 4, 1, 2, 3, 4, 5, 6, 7, 8, 9, 10, 1, 2, 3, 4, 5, 6, 7, 8, 9, 10, 9, 7, 1, 2, 3, 4, 5, 6, 7, 8, 9, 10, 1, 2, 3, 4, 5, 6, 7, 8, 9, 10, 1, 2, 3, 4, 5, 6, 7, 9, 10, 3, 5, 10, 1, 2, 3, 4, 5, 6, 8, 1, 2, 3, 4, 5, 6, 7, 8, 9, 1, 2, 3, 4, 5, 6, 7, 8, 9, 10, 1, 2, 3, 4, 5, 6, 7, 8, 9, 10, 2, 3, 5, 7, 1, 2, 3, 4, 5, 6, 7, 8, 9, 10, 2, 3, 4, 5, 6, 7, 1, 2, 3, 4, 5, 6, 7, 8, 9, 10, 3, 5, 6, 1, 2, 3, 5, 6, 7, 7, 10, 1, 3, 6, 1, 5, 7, 1, 7, 10, 1, 3, 7, 1, 2, 3, 4, 5, 6, 7, 8, 9, 10, 1, 2, 3, 4, 5, 6, 7, 8, 9, 10, 1, 1, 2, 3, 4, 5, 6, 7, 8, 9, 1, 2, 3, 4, 5, 6, 7, 8, 9, 1, 2, 3, 1, 2, 3, 4, 5, 6, 7, 8, 9, 10, 1, 2, 3, 4, 5, 6, 7, 8, 9, 10, 1, 2, 3, 4, 5, 6, 7, 8, 9, 10, 1, 2, 3, 4, 6, 7, 8, 9, 7, 2, 3, 2, 3, 5, 9, 8, 10, 2, 3, 5, 9], \"Freq\": [0.053095356059064874, 0.7964303408859731, 0.053095356059064874, 0.053095356059064874, 0.5686094388690933, 0.7998026022154944, 0.6881876845697162, 0.8384344964031313, 0.3680173190880248, 0.3680173190880248, 0.1291152558366103, 0.3873457675098309, 0.16600532893278466, 0.11681856480455217, 0.06148345516029062, 0.018445036548087185, 0.018445036548087185, 0.043038418612203436, 0.006148345516029062, 0.055335109644261554, 0.07499439463039835, 0.5249607624127886, 0.11249159194559753, 0.037497197315199175, 0.037497197315199175, 0.1499887892607967, 0.23166219528709844, 0.4633243905741969, 0.9154555189988721, 0.36784943946055965, 0.049046591928074625, 0.07356988789211194, 0.049046591928074625, 0.07356988789211194, 0.29427955156844776, 0.07356988789211194, 0.024523295964037312, 0.024523295964037312, 0.09106917574202114, 0.07805929349316097, 0.09106917574202114, 0.05203952899544065, 0.3122371739726439, 0.16912846923518213, 0.026019764497720324, 0.07805929349316097, 0.06504941124430082, 0.026019764497720324, 0.34813965267246577, 0.034813965267246574, 0.17406982633623289, 0.034813965267246574, 0.034813965267246574, 0.034813965267246574, 0.34813965267246577, 0.5683218339600637, 0.031132921264845792, 0.7160571890914532, 0.031132921264845792, 0.18679752758907475, 0.37801866667548895, 0.7977798719204545, 0.37887108738180003, 0.0375556152294848, 0.6384454589012416, 0.0751112304589696, 0.2253336913769088, 0.24871587872490866, 0.12435793936245433, 0.12435793936245433, 0.4974317574498173, 0.08983436614629801, 0.11977915486173069, 0.3293926758697594, 0.14972394357716334, 0.02994478871543267, 0.26950309843889403, 0.5323101663331403, 0.35476440855232066, 0.12244081357115491, 0.10360376532943877, 0.037674096483432284, 0.07848770100715059, 0.09732474924886672, 0.11930130553086889, 0.02825557236257421, 0.02825557236257421, 0.03139508040286024, 0.7691643522303069, 0.6317589343379564, 0.09025127633399377, 0.09025127633399377, 0.09025127633399377, 0.7177534354468232, 0.11962557257447054, 0.1377692038220168, 0.015307689313557422, 0.06123075725422969, 0.12246151450845938, 0.015307689313557422, 0.16838458244913165, 0.015307689313557422, 0.1377692038220168, 0.07653844656778712, 0.2602307183304762, 0.15308919250177552, 0.18081400689186086, 0.2362636356720315, 0.2314419288215819, 0.06870932261890712, 0.0421899349414342, 0.015670547263961273, 0.034957374665759766, 0.010848840413511652, 0.024108534252248116, 0.0900305525353084, 0.10388140677150969, 0.05540341694480517, 0.04155256270860388, 0.0761796982991071, 0.10388140677150969, 0.013850854236201292, 0.18698653218871744, 0.05540341694480517, 0.2700916576059252, 0.8010943148985847, 0.7691660700930044, 0.7269754973613635, 0.6212980167887235, 0.1890907007617854, 0.054025914503367266, 0.10805182900673453, 0.7131123121116748, 0.20861432107110983, 0.6258429632133294, 0.6939933079995965, 0.7615056627770264, 0.20350975111113298, 0.06512312035556254, 0.12210585066667978, 0.1505972158222384, 0.2523520913778049, 0.04884234026667191, 0.03256156017778127, 0.06512312035556254, 0.028491365155558616, 0.03256156017778127, 0.2035121354282729, 0.6105364062848186, 0.7638420789690891, 0.6859811505269526, 0.2667907425128322, 0.5335814850256644, 0.133360360193037, 0.18465280642112814, 0.09232640321056407, 0.09232640321056407, 0.11284338170180053, 0.06155093547370938, 0.04103395698247292, 0.02051697849123646, 0.03077546773685469, 0.23594525264921928, 0.2125158277945882, 0.6375474833837645, 0.09386385045838717, 0.19554968845497328, 0.04693192522919359, 0.08604186292018826, 0.11732981307298397, 0.2033716759931722, 0.03128795015279573, 0.03128795015279573, 0.06257590030559146, 0.13297378814938185, 0.039024214917013834, 0.2146331820435761, 0.029268161187760378, 0.10731659102178805, 0.13658475220954844, 0.029268161187760378, 0.029268161187760378, 0.34146188052387105, 0.06829237610477422, 0.009756053729253459, 0.64672323900271, 0.8575760733603974, 0.10309906230687883, 0.8935252066596165, 0.092681216079658, 0.556087296477948, 0.046340608039829, 0.092681216079658, 0.046340608039829, 0.046340608039829, 0.046340608039829, 0.046340608039829, 0.6359349921227235, 0.5759867283342265, 0.14399668208355662, 0.053985315053105574, 0.7018090956903724, 0.053985315053105574, 0.10797063010621115, 0.053985315053105574, 0.3154541011685812, 0.12452135572443994, 0.1328227794394026, 0.10791850829451462, 0.1328227794394026, 0.03320569485985065, 0.04150711857481331, 0.05810996600473864, 0.03320569485985065, 0.02490427114488799, 0.957077012335571, 0.1374057407499885, 0.14463762184209314, 0.07955069201315124, 0.08678257310525589, 0.1374057407499885, 0.18079702730261643, 0.09401445419736054, 0.05785504873683726, 0.050623167644732604, 0.02892752436841863, 0.1766334192261679, 0.08831670961308395, 0.1766334192261679, 0.4415835480654198, 0.6790248362893683, 0.12510467865614747, 0.12510467865614747, 0.12510467865614747, 0.5004187146245899, 0.6017940928795198, 0.2930967031109457, 0.5861934062218914, 0.5685721019751316, 0.14309926664815212, 0.7154963332407606, 0.0783921246955521, 0.6663330599121928, 0.1567842493911042, 0.03919606234777605, 0.7107259151295087, 0.7975280574541812, 0.15146950144495425, 0.7573475072247712, 0.05588219270148552, 0.08382328905222829, 0.3422784302965988, 0.17463185219214225, 0.08382328905222829, 0.06286746678917121, 0.14669075584139948, 0.02095582226305707, 0.01397054817537138, 0.02794109635074276, 0.8307075950889314, 0.13845126584815523, 0.5544663413232066, 0.26930183018002163, 0.5386036603600433, 0.7113868656617541, 0.06561807946050233, 0.3444949171676372, 0.19685423838150695, 0.1722474585838186, 0.03280903973025116, 0.04921355959537674, 0.0902248592581907, 0.01640451986512558, 0.01640451986512558, 0.01640451986512558, 0.10817989220516691, 0.7572592454361683, 0.10817989220516691, 0.19026385694642134, 0.07610554277856854, 0.05073702851904569, 0.13952682842737565, 0.329790685373797, 0.025368514259522846, 0.08878979990832997, 0.025368514259522846, 0.03805277138928427, 0.03805277138928427, 0.14053415658538085, 0.5621366263415234, 0.2810683131707617, 0.18438457477365425, 0.5531537243209628, 0.5359381424127961, 0.8865863181682394, 0.7110466332790918, 0.6985508431811472, 0.1746377107952868, 0.23253067044472844, 0.11626533522236422, 0.11626533522236422, 0.5813266761118211, 0.720885410590271, 0.18022135264756775, 0.7149006722361353, 0.1753407271938912, 0.0821909658721365, 0.2999970254332982, 0.06712262212891147, 0.06438292326650692, 0.14109449141383432, 0.050684428954484176, 0.04520503122967508, 0.03013668748645005, 0.04520503122967508, 0.7081032528500875, 0.17702581321252187, 0.09920229195182237, 0.049601145975911184, 0.14880343792773354, 0.049601145975911184, 0.5952137517109342, 0.3776377765691229, 0.7342016894674412, 0.2669065902915539, 0.08896886343051798, 0.4448443171525899, 0.08896886343051798, 0.5544862622533134, 0.6415151333133481, 0.10691918888555801, 0.10691918888555801, 0.059024075990081463, 0.8263370638611405, 0.059024075990081463, 0.0941434923999772, 0.24208326617136994, 0.0941434923999772, 0.39002303994276266, 0.053796281371415546, 0.013449070342853886, 0.040347211028561654, 0.053796281371415546, 0.013449070342853886, 0.15442163954535496, 0.07721081977267748, 0.15442163954535496, 0.07721081977267748, 0.46326491863606484, 0.6133589940142862, 0.10306879175562078, 0.08137009875443746, 0.48279591927632887, 0.016274019750887492, 0.07594542550414163, 0.09221944525502912, 0.054246732502958306, 0.037972712752070814, 0.032548039501774984, 0.027123366251479153, 0.5682478373160016, 0.834528729275194, 0.19242829385288082, 0.04527724561244254, 0.02263862280622127, 0.062256212717108496, 0.24902485086843398, 0.10753345832955104, 0.27732312937621056, 0.011319311403110635, 0.02263862280622127, 0.005659655701555318, 0.5178174265181597, 0.14250183267652955, 0.2480587457702551, 0.09500122178435302, 0.07916768482029418, 0.13722398702184327, 0.04750061089217651, 0.1266682957124707, 0.005277845654686279, 0.021111382618745116, 0.09500122178435302, 0.11372453108472699, 0.12569553435680353, 0.14365203926491832, 0.1795650490811479, 0.08379702290453568, 0.17657229826312876, 0.09277527535859308, 0.04189851145226784, 0.02394200654415305, 0.02094925572613392, 0.1480321366516606, 0.10573724046547185, 0.06344234427928311, 0.1480321366516606, 0.042294896186188743, 0.10573724046547185, 0.06344234427928311, 0.25376937711713243, 0.021147448093094372, 0.06344234427928311, 0.4517194921919631, 0.2007642187519836, 0.3262418554719734, 0.026024974156830544, 0.026024974156830544, 0.1821748190978138, 0.026024974156830544, 0.5985744056071025, 0.026024974156830544, 0.05204994831366109, 0.026024974156830544, 0.1673384198824485, 0.111558946588299, 0.6135742062356445, 0.0557794732941495, 0.02908844203331609, 0.08726532609994826, 0.11635376813326435, 0.05817688406663218, 0.02908844203331609, 0.02908844203331609, 0.5817688406663217, 0.11635376813326435, 0.25506866283951424, 0.12753433141975712, 0.5101373256790285, 0.7399377179510048, 0.1644306039891122, 0.0822153019945561, 0.5474463168281978, 0.2737231584140989, 0.13019198235895071, 0.546806325907593, 0.026038396471790144, 0.10415358588716057, 0.07811518941537042, 0.05207679294358029, 0.026038396471790144, 0.026038396471790144, 0.26682527209917156, 0.5336505441983431, 0.0936962245196799, 0.6558735716377594, 0.0936962245196799, 0.0936962245196799, 0.7112239257083703, 0.0891125983170834, 0.0891125983170834, 0.1782251966341668, 0.5346755899025004, 0.4605511264828204, 0.07675852108047007, 0.4221718659425854, 0.06687927459230672, 0.06687927459230672, 0.13375854918461344, 0.06687927459230672, 0.5350341967384538, 0.04900020660264241, 0.04900020660264241, 0.7840033056422786, 0.04900020660264241, 0.08445128172370522, 0.10858021935904956, 0.10858021935904956, 0.08445128172370522, 0.13270915699439392, 0.06032234408836087, 0.18096703226508262, 0.024128937635344346, 0.16890256344741045, 0.036193406453016524, 0.26184080233105256, 0.5236816046621051, 0.7628730551945672, 0.22740709734932082, 0.060641892626485554, 0.05558840157427842, 0.09601632999193546, 0.07580236578310694, 0.13139076735738536, 0.18192567787945665, 0.11623029420076397, 0.03537443736544991, 0.015160473156621388, 0.5684771044058058, 0.7980868325666379, 0.5683640042239566, 0.1359299793599031, 0.8155798761594187, 0.7444370553361298, 0.06767609593964816, 0.06767609593964816, 0.06767609593964816, 0.7982110368773712, 0.7108006602687312, 0.26655160962534447, 0.5331032192506889, 0.07932219752610437, 0.15864439505220873, 0.07138997777349393, 0.07932219752610437, 0.11105107653654611, 0.11105107653654611, 0.0872544172787148, 0.2379665925783131, 0.015864439505220873, 0.03966109876305218, 0.5357743662332493, 0.10122091094963469, 0.08741805945650269, 0.12422566343818803, 0.24845132687637606, 0.1426294654290307, 0.13342756443360937, 0.03680760398168534, 0.027605702986264007, 0.050610455474817344, 0.050610455474817344, 0.534989793457881, 0.5892786401398534, 0.04532912616460411, 0.06799368924690617, 0.09065825232920822, 0.04532912616460411, 0.09065825232920822, 0.022664563082302056, 0.022664563082302056, 0.022664563082302056, 0.7264555341985809, 0.028039228225258193, 0.05607845645051639, 0.4486276516041311, 0.05607845645051639, 0.08411768467577459, 0.08411768467577459, 0.08411768467577459, 0.028039228225258193, 0.11215691290103277, 0.05607845645051639, 0.02608525076716283, 0.46953451380893096, 0.05217050153432566, 0.02608525076716283, 0.07825575230148848, 0.07825575230148848, 0.02608525076716283, 0.02608525076716283, 0.20868200613730264, 0.09423647828596723, 0.09209474014310434, 0.08566952571451567, 0.062110406143023864, 0.30412681628653065, 0.05996866800016097, 0.04283476285725783, 0.09637821642883013, 0.06425214428588676, 0.09637821642883013, 0.7168789261491456, 0.21136289516939724, 0.6340886855081916, 0.10256937777615371, 0.20513875555230743, 0.10256937777615371, 0.41027751110461486, 0.10256937777615371, 0.5544958880941081, 0.7184258023896265, 0.16520681232753864, 0.06777715377540047, 0.14826252388368852, 0.216039677659089, 0.11861001910695082, 0.10166573066310071, 0.04659679322058782, 0.09319358644117565, 0.025416432665775177, 0.016944288443850118, 0.12090047405816644, 0.09300036466012802, 0.21390083871829446, 0.06510025526208962, 0.07440029172810242, 0.03720014586405121, 0.09300036466012802, 0.018600072932025605, 0.2604010210483585, 0.018600072932025605, 0.15526145209693687, 0.15526145209693687, 0.6210458083877475, 0.3205050418093138, 0.08012626045232844, 0.08012626045232844, 0.4006313022616422, 0.3780529958837622, 0.558078232018887, 0.05400757084053745, 0.5335180696188448, 0.23043863556902297, 0.6913159067070689, 0.4279745807105829, 0.13514986759281566, 0.4279745807105829, 0.06734523034313124, 0.5050892275734843, 0.06734523034313124, 0.13469046068626248, 0.2357083062009593, 0.5537008979133904, 0.11856999605078666, 0.7410624753174166, 0.029642499012696666, 0.08892749703809, 0.933130594210399, 0.7107705130352269, 0.1673212624606962, 0.12889934293268449, 0.11030809154816268, 0.185912513845218, 0.10287159099435396, 0.09171684016364089, 0.05453433739459728, 0.04090075304594796, 0.06816792174324661, 0.048337253599756685, 0.11924704095049293, 0.7154822457029576, 0.11924704095049293, 0.20039627427438614, 0.050099068568596535, 0.10019813713719307, 0.050099068568596535, 0.050099068568596535, 0.5510897542545619, 0.18966475631205648, 0.08658608440333013, 0.19378790318840552, 0.16492587505396214, 0.12781755316682067, 0.08246293752698107, 0.061847203145235806, 0.0536009093925377, 0.020615734381745267, 0.01236944062904716, 0.08345828766641958, 0.41729143833209786, 0.08345828766641958, 0.41729143833209786, 0.2534513011923702, 0.12543253171255056, 0.10862198622530152, 0.08017337078534159, 0.10344951069076334, 0.09957015403985972, 0.04137980427630534, 0.09827703515622518, 0.037500447625401716, 0.05043163646174713, 0.11227239062418852, 0.20048641182890808, 0.26464206361415865, 0.07217510825840691, 0.06415565178525058, 0.08821402120471955, 0.05613619531209426, 0.08821402120471955, 0.03207782589262529, 0.02405836941946897, 0.44251224115729954, 0.22125612057864977, 0.0858467690107849, 0.16096269189522172, 0.08155443056024567, 0.07940826133497604, 0.06867741520862793, 0.36270259907056623, 0.05365423063174057, 0.05150806140647095, 0.03004636915377472, 0.025754030703235474, 0.8719099459171686, 0.31165502285109914, 0.5194250380851653, 0.10388500761703305, 0.9394394027752991, 0.5412254282872115, 0.27061271414360577, 0.03865895916337225, 0.11597687749011674, 0.934836230622201, 0.0549903665071883, 0.5974559798406961, 0.11949119596813922, 0.11949119596813922, 0.2763842668188875, 0.552768533637775, 0.11445704208668579, 0.028614260521671448, 0.057228521043342896, 0.1716855631300287, 0.028614260521671448, 0.48644242886841466, 0.028614260521671448, 0.028614260521671448, 0.057228521043342896, 0.6646690262484732, 0.13293380524969464, 0.13293380524969464, 0.13224090124850346, 0.1212208261444615, 0.10469071348839858, 0.0495903379681888, 0.06612045062425173, 0.25346172739296496, 0.06061041307223075, 0.13224090124850346, 0.033060225312125865, 0.03857026286414684, 0.027402940592931593, 0.17811911385405535, 0.13701470296465798, 0.05480588118586319, 0.013701470296465797, 0.13701470296465798, 0.04110441088939739, 0.013701470296465797, 0.027402940592931593, 0.3562382277081107, 0.4397984210326475, 0.0694418559525233, 0.17360463988130823, 0.10416278392878493, 0.03472092797626165, 0.011573642658753882, 0.09258914127003105, 0.03472092797626165, 0.03472092797626165, 0.22774123470742222, 0.6832237041222666, 0.9152272827429812, 0.5176564799139446, 0.5135026981117738, 0.6124036709628653, 0.10684207818934369, 0.23882346889382705, 0.09427242193177383, 0.081702765674204, 0.081702765674204, 0.081702765674204, 0.04399379690149446, 0.09427242193177383, 0.13198139070448336, 0.05027862503027938, 0.3150083770478238, 0.09284457428777965, 0.09284457428777965, 0.10610808490031959, 0.13926686143166947, 0.053054042450159794, 0.039790531837619846, 0.0762651860221047, 0.04310640949075483, 0.039790531837619846, 0.1903188120515222, 0.14273910903864165, 0.04757970301288055, 0.04757970301288055, 0.0951594060257611, 0.4282173271159249, 0.07912755898725898, 0.05275170599150599, 0.15825511797451797, 0.13187926497876498, 0.05275170599150599, 0.03956377949362949, 0.05275170599150599, 0.1450671914766415, 0.2505706034596535, 0.026375852995752996, 0.9050754944958539, 0.7132854689319879, 0.17832136723299696, 0.08916068361649848, 0.6060910133780011, 0.09063982249099983, 0.09376533361137913, 0.09689084473175844, 0.2062837339450341, 0.24691537850996503, 0.03438062232417235, 0.0625102224075861, 0.025004088963034434, 0.059384711287206786, 0.08751431137062052, 0.06755757047211933, 0.15200453356226848, 0.35467724497862646, 0.033778785236059664, 0.11822574832620882, 0.10133635570817899, 0.08444696309014915, 0.016889392618029832, 0.050668177854089495, 0.016889392618029832, 0.07550836748597192, 0.16989382684343682, 0.07550836748597192, 0.41529602117284553, 0.03775418374298596, 0.13213964310045087, 0.05663127561447894, 0.01887709187149298, 0.01887709187149298, 0.01887709187149298, 0.5357521373641563, 0.728445415919742, 0.161876759093276, 0.080938379546638, 0.6764010212670452, 0.236781682368991, 0.07892722745633034, 0.06964167128499736, 0.08357000554199683, 0.0928555617133298, 0.06499889319933086, 0.037142224685331925, 0.03249944659966543, 0.10678389597032928, 0.1949966795979926, 0.07088139672951715, 0.07088139672951715, 0.07088139672951715, 0.07088139672951715, 0.1417627934590343, 0.49616977710662, 0.07088139672951715, 0.5686369796167128, 0.05304609881852171, 0.05304609881852171, 0.05304609881852171, 0.21218439527408683, 0.05304609881852171, 0.05304609881852171, 0.15913829645556513, 0.05304609881852171, 0.37132269172965193, 0.05304609881852171, 0.02358221522651835, 0.011791107613259175, 0.011791107613259175, 0.02358221522651835, 0.011791107613259175, 0.813586425314883, 0.10611996851933257, 0.12651362980055816, 0.06325681490027908, 0.29519846953463574, 0.10121090384044654, 0.08012529887368684, 0.14338211377396592, 0.04638833092687133, 0.06325681490027908, 0.03795408894016745, 0.04217120993351939, 0.13653395003560148, 0.06826697501780074, 0.06826697501780074, 0.06826697501780074, 0.06826697501780074, 0.6144027751602067, 0.14881980868854428, 0.07440990434427214, 0.1612214594125896, 0.06200825362022678, 0.09921320579236284, 0.08681155506831749, 0.04960660289618142, 0.2232297130328164, 0.04960660289618142, 0.02480330144809071, 0.2173004247409441, 0.6519012742228323, 0.07243347491364803, 0.14249800186796477, 0.4096817553703987, 0.10687350140097357, 0.12468575163446917, 0.053436750700486785, 0.03562450046699119, 0.053436750700486785, 0.017812250233495596, 0.03562450046699119, 0.017812250233495596, 0.676768630289189, 0.19886769464195736, 0.6960369312468508, 0.6965505578113274, 0.26329117342443537, 0.5265823468488707, 0.6792616392633453, 0.7580942099966975, 0.6791088091119634, 0.08040278418965599, 0.80402784189656, 0.040201392094827995, 0.31209118551255954, 0.6241823710251191, 0.6794109765026455, 0.38744344870709413, 0.09244340167772044, 0.04622170083886022, 0.1848868033554409, 0.13866510251658068, 0.13866510251658068, 0.3235519058720216, 0.740691414865535, 0.7704338276556506, 0.09630422845695633, 0.09630422845695633, 0.07131357813673382, 0.14262715627346764, 0.6418222032306045, 0.07131357813673382, 0.07131357813673382, 0.8010576209809548, 0.26953359468288485, 0.5390671893657697, 0.5103336960546836, 0.2551668480273418, 0.059518919313080766, 0.3571135158784846, 0.47615135450464613, 0.059518919313080766, 0.7150674956762586, 0.1191779159460431, 0.28609018330417546, 0.6675437610430761, 0.06433194708847009, 0.4181576560750556, 0.032165973544235046, 0.4181576560750556, 0.032165973544235046, 0.5341430972841624, 0.16861152059359882, 0.6182422421765291, 0.05620384019786628, 0.05620384019786628, 0.11240768039573255, 0.1260601534674656, 0.22060526856806478, 0.0315150383668664, 0.5672706906035951, 0.0315150383668664, 0.5683429281578508, 0.10141868471487722, 0.5578027659318248, 0.10141868471487722, 0.05070934235743861, 0.05070934235743861, 0.05070934235743861, 0.05070934235743861, 0.8529668312611516, 0.03777528314921902, 0.16998877417148558, 0.16998877417148558, 0.05666292472382853, 0.01888764157460951, 0.05666292472382853, 0.2077640573207046, 0.03777528314921902, 0.2077640573207046, 0.01888764157460951, 0.8955803225606277, 0.5685305094330746, 0.12073649971580552, 0.34711743668294087, 0.01509206246447569, 0.03018412492895138, 0.01509206246447569, 0.01509206246447569, 0.24147299943161105, 0.21128887450265965, 0.01509206246447569, 0.436258399347329, 0.4985810278255189, 0.206300105733523, 0.1792607714868962, 0.11016025063440549, 0.15322289406421855, 0.06609615038064329, 0.06709760720459243, 0.06709760720459243, 0.05708303896510102, 0.07711217544408384, 0.018026222831084533, 0.5544941875546122, 0.12854684424425075, 0.044496984546086804, 0.029664656364057868, 0.059329312728115736, 0.04202492984908198, 0.027192601667053045, 0.00988821878801929, 0.2867583448525594, 0.10135424257719772, 0.2669819072765208, 0.10268682384773745, 0.034228941282579146, 0.5818920018038455, 0.034228941282579146, 0.10268682384773745, 0.034228941282579146, 0.06845788256515829, 0.034228941282579146, 0.20090926042655977, 0.08459337281118307, 0.10926643988111145, 0.11279116374824408, 0.05992030574125467, 0.0634450296083873, 0.12336533534964196, 0.024673067069928393, 0.07401920120978518, 0.14803840241957036, 0.6064389033136472, 0.7157608256923533, 0.8502363151242365, 0.09113189452362531, 0.11282996464829802, 0.21481089423425967, 0.13669784178543798, 0.09330170153609259, 0.11066015763583074, 0.08245266647375624, 0.04122633323687812, 0.06726401738648535, 0.05207536829921447, 0.17080863405112817, 0.17080863405112817, 0.5124259021533845, 0.1504331963975627, 0.08357399799864594, 0.09193139779851053, 0.2925089929952608, 0.11700359719810431, 0.058501798599052156, 0.10864619739823972, 0.03342959919945838, 0.05014439879918756, 0.03342959919945838, 0.25923794543850504, 0.12697368756171676, 0.14284539850693134, 0.0846491250411445, 0.10845669145896639, 0.07142269925346567, 0.09523026567128756, 0.06348684378085838, 0.018516996102750358, 0.03174342189042919, 0.06406069682382441, 0.1164739942251353, 0.05823699711256765, 0.10482659480262177, 0.06988439653508118, 0.2504190875840409, 0.09317919538010824, 0.1514161924926759, 0.04076589797879736, 0.04076589797879736, 0.6792226844676953, 0.08730096143746197, 0.17460192287492393, 0.08730096143746197, 0.17460192287492393, 0.43650480718730983, 0.1355480673054976, 0.1676132015067981, 0.14575061000591139, 0.13846307950561582, 0.15012312830608873, 0.11805799410478822, 0.06704528060271923, 0.029150122001182277, 0.02623510980106405, 0.020405085400827593, 0.10085749988218305, 0.050428749941091526, 0.07564312491163729, 0.025214374970545763, 0.22692937473491187, 0.025214374970545763, 0.025214374970545763, 0.07564312491163729, 0.4034299995287322, 0.9307427310931238, 0.042306487776960174, 0.18023738766471115, 0.16092623898634922, 0.10299279295126351, 0.17380033810525716, 0.11264836729044446, 0.057933446035085726, 0.09333721861208255, 0.03862229735672382, 0.03862229735672382, 0.03540377257699683, 0.21414968644640767, 0.08922903601933653, 0.14276645763093845, 0.044614518009668265, 0.09815193962127018, 0.07138322881546923, 0.21414968644640767, 0.07138322881546923, 0.03569161440773461, 0.01338435540290048, 0.6668306592274549, 0.05129466609441961, 0.05129466609441961, 0.15388399828325883, 0.7936122268814026, 0.13226870448023378, 0.6190997164058378, 0.2653284498882162, 0.1840696833008446, 0.0920348416504223, 0.16873054302577423, 0.10737398192549269, 0.061356561100281544, 0.04601742082521115, 0.04601742082521115, 0.26076538467619653, 0.015339140275070386, 0.015339140275070386, 0.06753080866695399, 0.15889602039283293, 0.09136521172587893, 0.12314441580444552, 0.11122721427498304, 0.16286842090265374, 0.1747856224321162, 0.0516412066276707, 0.03575160458838741, 0.02383440305892494, 0.16430074125945443, 0.12235161583150862, 0.13983041809315272, 0.1573092203547968, 0.13983041809315272, 0.041949125427945815, 0.03146184407095936, 0.059427927689589904, 0.09088977176054926, 0.04894064633260345, 0.04289171548862612, 0.04289171548862612, 0.04289171548862612, 0.04289171548862612, 0.686267447818018, 0.04289171548862612, 0.04289171548862612, 0.04289171548862612, 0.04289171548862612, 0.17196441281824834, 0.11464294187883223, 0.10031257414397819, 0.27944217082965356, 0.07165183867427014, 0.06448665480684312, 0.050156287071989096, 0.09314739027655118, 0.03582591933713507, 0.014330367734854028, 0.5357294310183619, 0.7579480316160783, 0.3761410962329324, 0.05700888489780382, 0.05583344397207591, 0.12988622229293448, 0.1063774037783762, 0.14516695432739735, 0.03585094823470137, 0.05348256212062008, 0.02233337758883036, 0.018219334348782663, 0.43454466377555173, 0.13370605039247746, 0.06685302519623873, 0.0835662814952984, 0.05013976889717905, 0.1002795377943581, 0.033426512598119365, 0.05013976889717905, 0.016713256299059683, 0.016713256299059683, 0.09201588463797054, 0.2760476539139116, 0.061343923091980355, 0.030671961545990178, 0.4600794231898527, 0.030671961545990178, 0.18517928231457703, 0.04629482057864426, 0.4629482057864426, 0.09258964115728852, 0.04629482057864426, 0.09258964115728852, 0.04629482057864426, 0.8000487232789429, 0.7106745059740197, 0.1359239594839614, 0.11893346454846625, 0.11165182386182546, 0.09708854248854387, 0.15291445441945659, 0.05097148480648553, 0.043689844119844744, 0.19660429853930134, 0.03640820343320395, 0.05825312549312632, 0.0892926426901335, 0.178585285380267, 0.535755856140801, 0.0892926426901335, 0.1515337533111694, 0.7576687665558469, 0.050385381413695314, 0.050385381413695314, 0.050385381413695314, 0.15115614424108595, 0.7053953397917344, 0.4508651626240362, 0.07999220627200643, 0.07999220627200643, 0.05090413126400409, 0.06544816876800526, 0.10180826252800818, 0.06544816876800526, 0.05817615001600467, 0.03636009376000292, 0.014544037504001168, 0.4057602428329126, 0.10144006070822816, 0.4057602428329126, 0.6402678302006405, 0.7981498094369718, 0.733029857421476, 0.07260182678691482, 0.04840121785794321, 0.04840121785794321, 0.024200608928971606, 0.024200608928971606, 0.04840121785794321, 0.024200608928971606, 0.14520365357382964, 0.556614005366347, 0.1676272267043215, 0.14730877498258554, 0.05079612930433985, 0.2539806465216992, 0.08127380688694376, 0.1015922586086797, 0.05079612930433985, 0.07111458102607579, 0.05587574223477383, 0.015238838791301954, 0.5176901330240842, 0.10224209603727152, 0.10224209603727152, 0.08179367682981722, 0.08179367682981722, 0.10224209603727152, 0.06134525762236291, 0.020448419207454306, 0.3271747073192689, 0.06134525762236291, 0.04089683841490861, 0.1879656490746071, 0.026852235582086728, 0.6713058895521682, 0.053704471164173456, 0.026852235582086728, 0.7110675969419796, 0.060774553670117616, 0.060774553670117616, 0.060774553670117616, 0.060774553670117616, 0.060774553670117616, 0.6685200903712938, 0.8026054688338481, 0.05116800488745364, 0.5116800488745363, 0.3581760342121755, 0.10233600977490728, 0.7772124346610894, 0.16362367045496617, 0.037442244240075584, 0.07488448848015117, 0.16849009908034013, 0.2246534654404535, 0.09360561060018896, 0.11232673272022675, 0.018721122120037792, 0.018721122120037792, 0.2059323433204157, 0.037442244240075584, 0.12984161537661262, 0.12984161537661262, 0.032460403844153156, 0.032460403844153156, 0.032460403844153156, 0.032460403844153156, 0.06492080768830631, 0.5193664615064505, 0.032460403844153156, 0.5357083821402671, 0.5266908755402289, 0.26334543777011443, 0.06323319915274997, 0.1083997699761428, 0.06323319915274997, 0.09033314164678567, 0.09936645581146424, 0.24389948244632131, 0.036133256658714266, 0.0270999424940357, 0.12646639830549994, 0.14453302663485706, 0.13774569813326878, 0.20333888772053965, 0.02623727583490834, 0.15086433605072297, 0.0459152327110896, 0.006559318958727085, 0.006559318958727085, 0.019677956876181256, 0.1705422929269042, 0.23613548251417507, 0.8363825921446508, 0.21936334803821042, 0.10968167401910521, 0.10968167401910521, 0.43872669607642084, 0.18237598197317917, 0.06288826964592385, 0.0880435775042934, 0.3490298965348774, 0.037732961787554316, 0.09433240446888579, 0.040877375269850504, 0.03458854830525812, 0.0440217887521467, 0.06288826964592385, 0.17207280589164908, 0.17207280589164908, 0.5162184176749472, 0.5777331461467056, 0.23109325845868223, 0.7976907478683634, 0.10314031110015243, 0.2750408296004065, 0.12376837332018291, 0.07907423851011686, 0.07907423851011686, 0.06876020740010162, 0.13752041480020324, 0.05157015555007621, 0.04813214518007113, 0.03438010370005081, 0.15201865244916815, 0.7600932622458407, 0.5686993719973966, 0.159314880558712, 0.637259522234848, 0.7141414618650617, 0.9083570177151595, 0.029895281842584144, 0.05979056368516829, 0.17937169105550488, 0.029895281842584144, 0.07473820460646036, 0.05979056368516829, 0.17937169105550488, 0.014947640921292072, 0.11958112737033658, 0.2840051775045494, 0.8898090524525462, 0.20606093207693718, 0.10303046603846859, 0.10303046603846859, 0.515152330192343, 0.21298358916035126, 0.05273879350637269, 0.22413987240208394, 0.13184698376593174, 0.17545790916543222, 0.03245464215776781, 0.10446337944531514, 0.02738360432061659, 0.02028415134860488, 0.018255736213744395, 0.22296341276859322, 0.15995201350790383, 0.1551049827955431, 0.14541092137082168, 0.0630113992606894, 0.08239952211013228, 0.06785842997305011, 0.033929214986525055, 0.048470307123607226, 0.014541092137082167, 0.13508228179564333, 0.03178406630485726, 0.278110580167501, 0.24632651386264373, 0.04767609945728588, 0.027811058016750097, 0.12713626521942903, 0.019865041440535785, 0.035757074592964413, 0.04767609945728588, 0.0949832152935099, 0.0633221435290066, 0.4432550047030462, 0.0949832152935099, 0.1583053588225165, 0.0949832152935099, 0.0316610717645033, 0.13541066968522905, 0.8124640181113744, 0.6029451120229177, 0.07575261918576641, 0.07575261918576641, 0.7575261918576641, 0.10257725694121379, 0.10257725694121379, 0.0170962094902023, 0.0341924189804046, 0.0170962094902023, 0.41030902776485517, 0.2735393518432368, 0.0170962094902023, 0.0170962094902023, 0.059940967406700935, 0.15584651525742244, 0.059940967406700935, 0.03596458044402056, 0.2877166435521645, 0.11988193481340187, 0.023976386962680375, 0.059940967406700935, 0.0959055478507215, 0.0959055478507215, 0.583284996828522, 0.19808891604125634, 0.594266748123769, 0.08092781293263861, 0.08092781293263861, 0.16185562586527721, 0.5664946905284702, 0.13632174421221407, 0.06329223838424225, 0.14605901165594365, 0.08763540699356619, 0.1265844767684845, 0.06329223838424225, 0.08763540699356619, 0.04868633721864788, 0.03408043605305352, 0.20935125004018587, 0.8369947516017917, 0.6380987155596501, 0.028814196423730697, 0.05762839284746139, 0.11525678569492279, 0.05762839284746139, 0.6915407141695368, 0.6105825906293627, 0.3885525576732308, 0.20612034754024156, 0.6183610426207247, 0.9275978920695758, 0.7986058805406895, 0.5705793783357269, 0.20237128783646316, 0.708299507427621, 0.7097578851890762, 0.5544769806568728, 0.37456106718354465, 0.47671408550632954, 0.1021530183227849, 0.7110442278681337, 0.02658056577448061, 0.02658056577448061, 0.02658056577448061, 0.5581918812640928, 0.18606396042136425, 0.02658056577448061, 0.05316113154896122, 0.07974169732344183, 0.02658056577448061, 0.16503306446477195, 0.16503306446477195, 0.4950991933943158, 0.3300661289295439, 0.03429449279448794, 0.13717797117795175, 0.03429449279448794, 0.548711884711807, 0.24006144956141556, 0.7960389021672254, 0.06633657518060211, 0.06633657518060211, 0.06327369414673985, 0.3585509334981925, 0.06327369414673985, 0.06327369414673985, 0.10545615691123308, 0.021091231382246618, 0.3163684707336993, 0.021091231382246618, 0.5357814805240722, 0.10652481027324125, 0.5326240513662063, 0.10652481027324125, 0.5191097491493839, 0.6566682500099819, 0.05472235416749849, 0.27361177083749244, 0.517767891271196, 0.5357592544153388, 0.7160351650119927, 0.5543899383004696, 0.14748166493807346, 0.5899266597522939, 0.14748166493807346, 0.23114052958303938, 0.23114052958303938, 0.46228105916607876, 0.6887590893279255, 0.17218977233198138, 0.02819514764925959, 0.05639029529851918, 0.3242441979664853, 0.08458544294777877, 0.11278059059703836, 0.2608051157556512, 0.02819514764925959, 0.04934150838620428, 0.035243934561574486, 0.014097573824629795, 0.1923804802088407, 0.24256669243723392, 0.07946150269495593, 0.07109713399022373, 0.1756517427993763, 0.06273276528549153, 0.04600402787602712, 0.037639659171294915, 0.05018621222839322, 0.041821843523661015, 0.539815071856893, 0.050955497174044406, 0.10191099434808881, 0.20382198869617763, 0.050955497174044406, 0.06794066289872587, 0.016985165724681468, 0.3736736459429923, 0.033970331449362935, 0.033970331449362935, 0.050955497174044406, 0.10471479804176984, 0.20942959608353967, 0.5235739902088492, 0.10471479804176984, 0.7151845962609539, 0.06636704657859861, 0.19910113973579582, 0.06636704657859861, 0.055305872148832175, 0.16591761644649652, 0.07742822100836505, 0.04424469771906574, 0.04424469771906574, 0.033183523289299306, 0.24334583745486157, 0.11366088884238128, 0.22732177768476255, 0.05683044442119064, 0.4546435553695251, 0.11366088884238128, 0.10637117586183648, 0.31093112944229123, 0.04091199071609095, 0.11455357400505467, 0.0900063795754001, 0.04909438885930915, 0.04091199071609095, 0.1963775554372366, 0.024547194429654574, 0.024547194429654574, 0.6061345514877272, 0.7981391823343372, 0.06241105616624678, 0.11442026963811909, 0.04160737077749785, 0.41607370777497854, 0.09361658424937017, 0.17683132580436586, 0.03120552808312339, 0.020803685388748924, 0.020803685388748924, 0.020803685388748924, 0.12677106048219983, 0.7606263628931991, 0.12715854802557894, 0.6357927401278947, 0.12715854802557894, 0.09263506754606095, 0.15601695586705, 0.13651483638366876, 0.16576801560874063, 0.1121371870294422, 0.04875529870845313, 0.17064354547958596, 0.0390042389667625, 0.01950211948338125, 0.05363082857929844, 0.9066191498350737, 0.38127408332199864, 0.7624375379595627, 0.7151801398346342, 0.6166195105019151, 0.06851327894465724, 0.2055398368339717, 0.06851327894465724, 0.06851327894465724, 0.8247357289217564, 0.1178193898459652, 0.01983813433840717, 0.6546584331674367, 0.03967626867681434, 0.05951440301522151, 0.01983813433840717, 0.01983813433840717, 0.07935253735362868, 0.05951440301522151, 0.03967626867681434, 0.03967626867681434, 0.11203570264718396, 0.24491525694965796, 0.11985214701791772, 0.1563288874146753, 0.11724666556100646, 0.09379733244880517, 0.036476740396757565, 0.046898666224402585, 0.044293184767491334, 0.028660296026023803, 0.8140246348556603, 0.5544403251540848, 0.7128173774835334, 0.7112072344676966, 0.12679751292184407, 0.09157598155466518, 0.162019044289023, 0.2395064132968166, 0.12679751292184407, 0.07748736900779361, 0.06339875646092204, 0.042265837640614694, 0.03522153136717891, 0.03522153136717891, 0.1548947659650165, 0.619579063860066, 0.14843425122357795, 0.049478083741192655, 0.5442589211531192, 0.049478083741192655, 0.049478083741192655, 0.049478083741192655, 0.09895616748238531, 0.07371865474079528, 0.8477645295191457, 0.03685932737039764, 0.03685932737039764, 0.03685932737039764, 0.04539454242199345, 0.03631563393759476, 0.054473450906392135, 0.03631563393759476, 0.7263126787518952, 0.03631563393759476, 0.027236725453196067, 0.00907890848439869, 0.00907890848439869, 0.00907890848439869, 0.8818192781116837, 0.71324507584991, 0.5685473496451199, 0.1333458217489563, 0.5333832869958252, 0.0444486072496521, 0.0888972144993042, 0.0888972144993042, 0.0444486072496521, 0.0444486072496521, 0.0444486072496521, 0.08545626267755593, 0.2563687880326678, 0.04272813133877797, 0.04272813133877797, 0.47000944472655765, 0.04272813133877797, 0.5685383258236887, 0.5684457511656118, 0.6060798232176849, 0.6263700390340108, 0.07829625487925135, 0.1565925097585027, 0.20674382678578218, 0.051685956696445545, 0.6719174370537921, 0.051685956696445545, 0.7977243809970086, 0.6752230624762241, 0.8339866592406885, 0.8373854276733392, 0.04784558771042642, 0.07176838156563964, 0.454533083249051, 0.12758823389447047, 0.10366544003925725, 0.007974264618404404, 0.05581985232883083, 0.007974264618404404, 0.11163970465766165, 0.007974264618404404, 0.10117553110868745, 0.10117553110868745, 0.09522402927876465, 0.029757509149613955, 0.23210857136698884, 0.1368845420882242, 0.12498153842837861, 0.10117553110868745, 0.05356351646930512, 0.023806007319691163, 0.13248204742904404, 0.07728119433360903, 0.06624102371452202, 0.20976324176265307, 0.09936153557178304, 0.24288375361991407, 0.05520085309543502, 0.03312051185726101, 0.03312051185726101, 0.05520085309543502, 0.6453599401585062, 0.1434133200352236, 0.1434133200352236, 0.5357665293045942, 0.09218517557879594, 0.22124442138911024, 0.1290592458103143, 0.036874070231518376, 0.05531110534727756, 0.294992561852147, 0.018437035115759188, 0.07374814046303675, 0.018437035115759188, 0.05531110534727756, 0.6833822575239071, 0.5683612676309232, 0.20832022452886717, 0.10416011226443359, 0.10416011226443359, 0.5208005613221679, 0.568610662125754, 0.21051042214884674, 0.21051042214884674, 0.5262760553721169, 0.27791777048899013, 0.12000994634751848, 0.18317307600410715, 0.08842838151922414, 0.07579575558790641, 0.08211206855356527, 0.031581564828294335, 0.037897877793953205, 0.06947944262224753, 0.031581564828294335, 0.07814870287885645, 0.07814870287885645, 0.03907435143942822, 0.703338325909708, 0.03907435143942822, 0.2090664591259834, 0.1045332295629917, 0.1045332295629917, 0.5226661478149585, 0.5544692398483277, 0.7693484170135968, 0.5544741767021164, 0.04183946486427598, 0.12551839459282793, 0.46023411350703575, 0.04183946486427598, 0.04183946486427598, 0.12551839459282793, 0.08367892972855195, 0.04183946486427598, 0.04183946486427598, 0.5176647266723678, 0.8152839973531443, 0.1496194809922922, 0.33130027934007555, 0.03740487024807305, 0.30992606776974807, 0.021374211570327456, 0.04274842314065491, 0.03740487024807305, 0.02671776446290932, 0.032061317355491184, 0.010687105785163728, 0.2249953235075158, 0.09642656721750677, 0.2249953235075158, 0.032142189072502256, 0.032142189072502256, 0.032142189072502256, 0.032142189072502256, 0.2892797016525203, 0.06428437814500451, 0.032142189072502256, 0.37035287350305957, 0.2163202051662381, 0.054080051291559524, 0.6489606154987142, 0.5535856023751762, 0.24674256203457706, 0.061685640508644266, 0.030842820254322133, 0.030842820254322133, 0.061685640508644266, 0.40095666330618773, 0.15421410127161064, 0.061685640508644266, 0.7113370957462415, 0.1328596197537409, 0.7971577185224452, 0.6815844684274833, 0.11359741140458054, 0.11359741140458054, 0.24732615397120017, 0.053344856738886316, 0.08244205132373339, 0.16003457021665893, 0.09699064861615693, 0.08244205132373339, 0.1357869080626197, 0.019398129723231388, 0.053344856738886316, 0.06789345403130985, 0.5465039564176848, 0.2732519782088424, 0.7360276850433969, 0.1360527571581836, 0.0680263785790918, 0.0680263785790918, 0.0680263785790918, 0.2721055143163672, 0.0680263785790918, 0.4081582714745508, 0.68916490388099, 0.206749471164297, 0.5685839781389389, 0.18531436736555207, 0.25334116044910915, 0.06333529011227729, 0.09148430793995609, 0.0750640475404768, 0.11259607131071518, 0.12901633171019447, 0.030494769313318695, 0.039877775255878295, 0.0187660118851192, 0.3096114070113488, 0.10320380233711628, 0.10320380233711628, 0.4128152093484651, 0.1293619337441937, 0.13798606266047325, 0.15810903013179228, 0.15523432049303243, 0.0632436120527169, 0.10923896627287466, 0.11786309518915425, 0.045995354220157755, 0.03162180602635845, 0.05174477349767747, 0.18707363716388126, 0.1753815348411387, 0.10133155346376901, 0.11692102322742579, 0.12861312555016838, 0.07015261393645547, 0.07404998137736966, 0.03897367440914193, 0.07794734881828386, 0.035076306968227736, 0.7980052037408962, 0.5682928955877319, 0.046547446743912126, 0.09309489348782425, 0.046547446743912126, 0.046547446743912126, 0.09309489348782425, 0.046547446743912126, 0.6516642544147697, 0.21253623926096613, 0.6376087177828984, 0.11146795084278566, 0.13028721527078843, 0.15634465832494612, 0.07238178626154913, 0.14765884397356022, 0.12304903664463353, 0.03908616458123653, 0.04632434320739144, 0.14331593679786728, 0.028952714504619653, 0.716273130827154, 0.20765412150761292, 0.07787029556535485, 0.10981708348960299, 0.15973393962124072, 0.08585699254641688, 0.06988359858429281, 0.06389357584849628, 0.14775389414964765, 0.03194678792424814, 0.04792018188637221, 0.13241435043284314, 0.13241435043284314, 0.6620717521642158, 0.1945534177520109, 0.04669282026048262, 0.17898914433185004, 0.07003923039072393, 0.10116777723104567, 0.1945534177520109, 0.04669282026048262, 0.07782136710080437, 0.015564273420160873, 0.06225709368064349, 0.5840846847134852, 0.14483978397333266, 0.7241989198666633, 0.0931702793898523, 0.4472173410712911, 0.10248730732883754, 0.07453622351188184, 0.055902167633911384, 0.04658513969492615, 0.055902167633911384, 0.055902167633911384, 0.055902167633911384, 0.00931702793898523, 0.10333292652040811, 0.12916615815051014, 0.07749969489030609, 0.16791600559566316, 0.14208277396556115, 0.07749969489030609, 0.03874984744515304, 0.20666585304081622, 0.03874984744515304, 0.5769484658581026, 0.593917038896696, 0.7112687091915766, 0.5684054076434129, 0.7692503942296608, 0.08178078712323068, 0.31349301730571766, 0.02726026237441023, 0.14993144305925626, 0.05452052474882046, 0.06815065593602557, 0.05452052474882046, 0.013630131187205114, 0.21808209899528183, 0.02726026237441023, 0.5685811694474263, 0.08603419195700596, 0.4731880557635328, 0.04301709597850298, 0.08603419195700596, 0.25810257587101787, 0.04301709597850298, 0.3171665955866599, 0.06677191486034945, 0.15023680843578627, 0.11685085100561153, 0.06677191486034945, 0.20031574458104834, 0.025039468072631042, 0.01669297871508736, 0.03338595743017472, 0.01669297871508736, 0.2731173954773537, 0.5462347909547074, 0.19236218095130758, 0.13012735770235512, 0.23196615938245913, 0.07920795686230311, 0.08486566806675334, 0.07920795686230311, 0.033946267226701334, 0.0735502456578529, 0.06223482324895245, 0.028288556022251114, 0.6652066837677847, 0.17909410716824972, 0.025584872452607103, 0.07675461735782131, 0.025584872452607103, 0.07353887636261758, 0.2390013481785071, 0.13482127333146554, 0.14707775272523516, 0.07353887636261758, 0.10418007484704156, 0.06741063666573277, 0.04902591757507838, 0.06128239696884798, 0.04289767787819358, 0.5932892755902617, 0.19776309186342056, 0.8479705921872006, 0.599130837148108, 0.5544301496236309, 0.5544593433470694, 0.711158661847618, 0.024961435558610707, 0.049922871117221414, 0.12480717779305353, 0.19969148446888565, 0.024961435558610707, 0.5491515822894355, 0.8347786196765239, 0.0382617171255761, 0.1147851513767283, 0.0382617171255761, 0.0382617171255761, 0.0382617171255761, 0.0765234342511522, 0.5739257568836414, 0.0765234342511522, 0.7589584919976432, 0.145105063916248, 0.580420255664992, 0.7993824876641911, 0.035137406249099154, 0.17568703124549576, 0.10541221874729746, 0.5270610937364872, 0.035137406249099154, 0.035137406249099154, 0.07027481249819831, 0.6854581702979815, 0.181137407188573, 0.05283174376333379, 0.2943482866814311, 0.06037913572952433, 0.05283174376333379, 0.17359001522238246, 0.07547391966190542, 0.03773695983095271, 0.03773695983095271, 0.03773695983095271, 0.14757110897038683, 0.0913535436483347, 0.16865269596615637, 0.1335167176398738, 0.06324476098730863, 0.18973428296192593, 0.04216317399153909, 0.08432634798307818, 0.04919036965679561, 0.035135978326282576, 0.568564536199204, 0.568344511029563, 0.2217758468948066, 0.1170483636389257, 0.09548682296859728, 0.26181870813970226, 0.04312308134065684, 0.1201285837346869, 0.04312308134065684, 0.04620330143641804, 0.030802200957612026, 0.02156154067032842, 0.287879329173894, 0.1786837215562101, 0.15882997471663118, 0.11415904432757866, 0.039707493679157796, 0.04715264874399988, 0.05459780380884197, 0.024817183549473622, 0.039707493679157796, 0.05211608545389461, 0.10331429611730826, 0.12397715534076992, 0.0826514368938466, 0.10331429611730826, 0.0413257184469233, 0.0413257184469233, 0.0413257184469233, 0.41325718446923304, 0.0413257184469233, 0.6098710858955857, 0.07623388573694821, 0.22870165721084465, 0.1391296097985534, 0.10434720734891505, 0.45217123184529856, 0.0695648048992767, 0.10434720734891505, 0.0695648048992767, 0.03478240244963835, 0.0535989731991294, 0.1607969195973882, 0.0535989731991294, 0.1071979463982588, 0.0535989731991294, 0.37519281239390584, 0.0535989731991294, 0.0535989731991294, 0.0535989731991294, 0.11184793958908401, 0.09884236521826029, 0.18988138581402633, 0.12745462883407246, 0.0884379057216013, 0.12745462883407246, 0.0884379057216013, 0.11184793958908401, 0.02861226361581219, 0.026011148741647443, 0.48219336351896797, 0.015307725825998982, 0.022961588738998475, 0.04592317747799695, 0.03826931456499746, 0.007653862912999491, 0.015307725825998982, 0.3138083794329791, 0.022961588738998475, 0.030615451651997964, 0.6983507072686952, 0.09976438675267074, 0.19952877350534148, 0.09976438675267074, 0.19717199594834878, 0.16519815876753546, 0.06394767436162663, 0.08526356581550218, 0.13855329445019104, 0.19184302308487988, 0.0373028100442822, 0.031973837180813314, 0.0373028100442822, 0.05328972863468886, 0.050898067023213325, 0.15269420106964, 0.6616748713017733, 0.050898067023213325, 0.050898067023213325, 0.050898067023213325, 0.08298951203901314, 0.03556693373100563, 0.08298951203901314, 0.08298951203901314, 0.059278222885009384, 0.011855644577001877, 0.03556693373100563, 0.07113386746201127, 0.08298951203901314, 0.42680320477206757, 0.6734294012130071, 0.13468588024260142, 0.13468588024260142, 0.5642652383783585, 0.04030465988416847, 0.1209139796525054, 0.08060931976833693, 0.04030465988416847, 0.1209139796525054, 0.14796906085473446, 0.7398453042736723, 0.08904871582969624, 0.5342922949781774, 0.2671461474890887, 0.2108167921168355, 0.10540839605841774, 0.5270419802920887, 0.7778231528022017, 0.07071119570929106, 0.14142239141858212, 0.669800996152936, 0.1339601992305872, 0.1339601992305872, 0.36230097841603043, 0.18957609335722522, 0.0884688435667051, 0.1685120829842002, 0.05055362489526006, 0.046340822820655055, 0.021064010373025025, 0.037915218671445046, 0.01685120829842002, 0.012638406223815015, 0.1192263143128296, 0.16691684003796145, 0.0596131571564148, 0.15499420860667848, 0.0596131571564148, 0.2742205229195081, 0.07153578858769775, 0.02384526286256592, 0.04769052572513184, 0.03576789429384888, 0.7122392355320215, 0.126424124794197, 0.084282749862798, 0.084282749862798, 0.042141374931399, 0.042141374931399, 0.084282749862798, 0.084282749862798, 0.042141374931399, 0.463555124245389, 0.11106835490884455, 0.11106835490884455, 0.06664101294530674, 0.04442734196353782, 0.3776324066900715, 0.04442734196353782, 0.11106835490884455, 0.08885468392707564, 0.02221367098176891, 0.17933005945073574, 0.17933005945073574, 0.5379901783522072, 0.08622854447030656, 0.16287613955502353, 0.08622854447030656, 0.2107808864829716, 0.06706664569912733, 0.01916189877117924, 0.11497139262707542, 0.05748569631353771, 0.1532951901694339, 0.028742848156768856, 0.21118147033895776, 0.05611815295720556, 0.20675108984233628, 0.17278483936823819, 0.1063291319189158, 0.06940929444707003, 0.0915611969301775, 0.02658228297972895, 0.033966250474098104, 0.02510548948085512, 0.23633009443590294, 0.09247699347491854, 0.09247699347491854, 0.2620181481789359, 0.041100885988852684, 0.05137610748606585, 0.08220177197770537, 0.0719265504804922, 0.0359632752402461, 0.0359632752402461, 0.505862702982185, 0.21077612624257713, 0.021077612624257714, 0.04215522524851543, 0.021077612624257714, 0.021077612624257714, 0.10538806312128857, 0.06323283787277313, 0.5683812790417713, 0.6358633909911764, 0.21195446366372547, 0.8157175399495593, 0.01699411541561582, 0.13595292332492656, 0.03398823083123164, 0.821686726469917, 0.12325300897048755, 0.7614452108906375, 0.022395447379136398, 0.17916357903309119, 0.022395447379136398], \"Term\": [\"aah\", \"aah\", \"aah\", \"aah\", \"actually\", \"adam\", \"afternoon\", \"aganju\", \"aged\", \"aged\", \"ah\", \"ah\", \"ah\", \"ah\", \"ah\", \"ah\", \"ah\", \"ah\", \"ah\", \"ah\", \"ahh\", \"ahh\", \"ahh\", \"ahh\", \"ahh\", \"ahh\", \"aid\", \"aid\", \"alapala\", \"alive\", \"alive\", \"alive\", \"alive\", \"alive\", \"alive\", \"alive\", \"alive\", \"alive\", \"alright\", \"alright\", \"alright\", \"alright\", \"alright\", \"alright\", \"alright\", \"alright\", \"alright\", \"alright\", \"amazing\", \"amazing\", \"amazing\", \"amazing\", \"amazing\", \"amazing\", \"amazing\", \"ancestral\", \"anna\", \"anna\", \"anna\", \"anna\", \"anne\", \"apache\", \"apartment\", \"aquarius\", \"aquarius\", \"aquarius\", \"aquarius\", \"argentina\", \"argentina\", \"argentina\", \"argentina\", \"armageddon\", \"armageddon\", \"armageddon\", \"armageddon\", \"armageddon\", \"armageddon\", \"army\", \"away\", \"away\", \"away\", \"away\", \"away\", \"away\", \"away\", \"away\", \"away\", \"away\", \"axe\", \"ay\", \"ay\", \"ay\", \"ay\", \"b\", \"b\", \"babe\", \"babe\", \"babe\", \"babe\", \"babe\", \"babe\", \"babe\", \"babe\", \"babe\", \"babe\", \"baby\", \"baby\", \"baby\", \"baby\", \"baby\", \"baby\", \"baby\", \"baby\", \"baby\", \"baby\", \"bad\", \"bad\", \"bad\", \"bad\", \"bad\", \"bad\", \"bad\", \"bad\", \"bad\", \"bad\", \"badd\", \"badly\", \"bahia\", \"baile\", \"baile\", \"baile\", \"baile\", \"bakin\", \"ballerina\", \"ballerina\", \"ban\", \"barstool\", \"be\", \"be\", \"be\", \"be\", \"be\", \"be\", \"be\", \"be\", \"be\", \"be\", \"believer\", \"believer\", \"bending\", \"benefit\", \"besmirch\", \"besmirch\", \"big\", \"big\", \"big\", \"big\", \"big\", \"big\", \"big\", \"big\", \"big\", \"big\", \"blissfully\", \"blissfully\", \"blue\", \"blue\", \"blue\", \"blue\", \"blue\", \"blue\", \"blue\", \"blue\", \"blue\", \"blue\", \"body\", \"body\", \"body\", \"body\", \"body\", \"body\", \"body\", \"body\", \"body\", \"body\", \"bonnie\", \"boogae\", \"booty\", \"booty\", \"bop\", \"bop\", \"bop\", \"bop\", \"bop\", \"bop\", \"bop\", \"bop\", \"boss\", \"bounty\", \"bounty\", \"box\", \"box\", \"box\", \"box\", \"box\", \"boy\", \"boy\", \"boy\", \"boy\", \"boy\", \"boy\", \"boy\", \"boy\", \"boy\", \"boy\", \"breakdown\", \"bring\", \"bring\", \"bring\", \"bring\", \"bring\", \"bring\", \"bring\", \"bring\", \"bring\", \"bring\", \"brooklyn\", \"brooklyn\", \"brooklyn\", \"brooklyn\", \"brung\", \"bueno\", \"bueno\", \"bueno\", \"bueno\", \"bunny\", \"burchfield\", \"burchfield\", \"busy\", \"butterfly\", \"butterfly\", \"bye\", \"bye\", \"bye\", \"bye\", \"caper\", \"cavalry\", \"chairman\", \"chairman\", \"change\", \"change\", \"change\", \"change\", \"change\", \"change\", \"change\", \"change\", \"change\", \"change\", \"chant\", \"chant\", \"chaos\", \"checking\", \"checking\", \"chef\", \"child\", \"child\", \"child\", \"child\", \"child\", \"child\", \"child\", \"child\", \"child\", \"child\", \"chuck\", \"chuck\", \"chuck\", \"city\", \"city\", \"city\", \"city\", \"city\", \"city\", \"city\", \"city\", \"city\", \"city\", \"clappin\", \"clappin\", \"clappin\", \"classy\", \"classy\", \"closely\", \"clothing\", \"clover\", \"cocoa\", \"cocoa\", \"collision\", \"collision\", \"collision\", \"collision\", \"colorful\", \"colorful\", \"combination\", \"come\", \"come\", \"come\", \"come\", \"come\", \"come\", \"come\", \"come\", \"come\", \"come\", \"commonly\", \"commonly\", \"concrete\", \"concrete\", \"concrete\", \"concrete\", \"concrete\", \"connecticut\", \"constantly\", \"content\", \"content\", \"content\", \"content\", \"continue\", \"cracker\", \"cracker\", \"cracker\", \"crank\", \"crank\", \"crank\", \"crazy\", \"crazy\", \"crazy\", \"crazy\", \"crazy\", \"crazy\", \"crazy\", \"crazy\", \"crazy\", \"creep\", \"creep\", \"creep\", \"creep\", \"creep\", \"crouch\", \"cry\", \"cry\", \"cry\", \"cry\", \"cry\", \"cry\", \"cry\", \"cry\", \"cry\", \"cry\", \"culture\", \"cy\", \"da\", \"da\", \"da\", \"da\", \"da\", \"da\", \"da\", \"da\", \"da\", \"da\", \"dakota\", \"dance\", \"dance\", \"dance\", \"dance\", \"dance\", \"dance\", \"dance\", \"dance\", \"dance\", \"dance\", \"day\", \"day\", \"day\", \"day\", \"day\", \"day\", \"day\", \"day\", \"day\", \"day\", \"dead\", \"dead\", \"dead\", \"dead\", \"dead\", \"dead\", \"dead\", \"dead\", \"dead\", \"dead\", \"deaky\", \"deaky\", \"deaky\", \"deal\", \"deal\", \"deal\", \"deal\", \"deal\", \"deal\", \"deal\", \"deal\", \"delay\", \"delay\", \"delay\", \"delay\", \"dem\", \"dem\", \"dem\", \"dem\", \"dem\", \"dem\", \"dem\", \"dem\", \"desolation\", \"desolation\", \"desolation\", \"detour\", \"detour\", \"detour\", \"develop\", \"develop\", \"diggy\", \"diggy\", \"diggy\", \"diggy\", \"diggy\", \"diggy\", \"diggy\", \"diggy\", \"dignity\", \"dignity\", \"din\", \"din\", \"din\", \"din\", \"directly\", \"disaster\", \"disaster\", \"disaster\", \"disaster\", \"doggin\", \"doggin\", \"doggin\", \"dollar\", \"dollar\", \"dollar\", \"dollar\", \"dollar\", \"doop\", \"doop\", \"doop\", \"doop\", \"door\", \"door\", \"door\", \"door\", \"door\", \"door\", \"door\", \"door\", \"door\", \"door\", \"dove\", \"dove\", \"downhill\", \"dream\", \"dream\", \"dream\", \"dream\", \"dream\", \"dream\", \"dream\", \"dream\", \"dream\", \"dream\", \"dumple\", \"d\\u00e9sol\\u00e9e\", \"egun\", \"ehh\", \"ehh\", \"elbow\", \"elbow\", \"elbow\", \"elbow\", \"endure\", \"enlighten\", \"eternal\", \"eternal\", \"everybody\", \"everybody\", \"everybody\", \"everybody\", \"everybody\", \"everybody\", \"everybody\", \"everybody\", \"everybody\", \"everybody\", \"excitin\", \"eye\", \"eye\", \"eye\", \"eye\", \"eye\", \"eye\", \"eye\", \"eye\", \"eye\", \"eye\", \"f\", \"fade\", \"fade\", \"fade\", \"fade\", \"fade\", \"fade\", \"fade\", \"fade\", \"fade\", \"faint\", \"fear\", \"fear\", \"fear\", \"fear\", \"fear\", \"fear\", \"fear\", \"fear\", \"fear\", \"fear\", \"feed\", \"feed\", \"feed\", \"feed\", \"feed\", \"feed\", \"feed\", \"feed\", \"feed\", \"feel\", \"feel\", \"feel\", \"feel\", \"feel\", \"feel\", \"feel\", \"feel\", \"feel\", \"feel\", \"felt\", \"fennario\", \"fennario\", \"fighting\", \"fighting\", \"fighting\", \"fighting\", \"fighting\", \"filled\", \"fillin\", \"find\", \"find\", \"find\", \"find\", \"find\", \"find\", \"find\", \"find\", \"find\", \"find\", \"fire\", \"fire\", \"fire\", \"fire\", \"fire\", \"fire\", \"fire\", \"fire\", \"fire\", \"fire\", \"fish\", \"fish\", \"fish\", \"florida\", \"florida\", \"florida\", \"florida\", \"floy\", \"floy\", \"floy\", \"footprint\", \"forgiveness\", \"forgiveness\", \"freaky\", \"freaky\", \"freaky\", \"freddy\", \"freddy\", \"freddy\", \"freddy\", \"freddy\", \"fue\", \"g\", \"g\", \"g\", \"g\", \"george\", \"georgie\", \"get\", \"get\", \"get\", \"get\", \"get\", \"get\", \"get\", \"get\", \"get\", \"get\", \"ghetto\", \"ghetto\", \"ghetto\", \"ghost\", \"ghost\", \"ghost\", \"ghost\", \"ghost\", \"ghost\", \"girl\", \"girl\", \"girl\", \"girl\", \"girl\", \"girl\", \"girl\", \"girl\", \"girl\", \"girl\", \"gitchi\", \"gitchi\", \"gitchi\", \"gitchi\", \"go\", \"go\", \"go\", \"go\", \"go\", \"go\", \"go\", \"go\", \"go\", \"go\", \"god\", \"god\", \"god\", \"god\", \"god\", \"god\", \"god\", \"god\", \"god\", \"god\", \"golf\", \"golf\", \"good\", \"good\", \"good\", \"good\", \"good\", \"good\", \"good\", \"good\", \"good\", \"good\", \"grandpapa\", \"grinch\", \"grinch\", \"grinch\", \"grover\", \"gusta\", \"gusta\", \"gusta\", \"gusta\", \"gypsy\", \"gypsy\", \"hail\", \"hail\", \"hail\", \"halfway\", \"halfway\", \"hallelujah\", \"hallelujah\", \"hallelujah\", \"hallelujah\", \"hallelujah\", \"hallelujah\", \"hallelujah\", \"hallelujah\", \"hallelujah\", \"halloween\", \"halloween\", \"halloween\", \"hand\", \"hand\", \"hand\", \"hand\", \"hand\", \"hand\", \"hand\", \"hand\", \"hand\", \"hand\", \"hang\", \"hang\", \"hang\", \"hang\", \"hang\", \"hang\", \"hang\", \"hang\", \"hang\", \"hang\", \"happy\", \"happy\", \"happy\", \"happy\", \"happy\", \"happy\", \"happy\", \"happy\", \"happy\", \"harrisburg\", \"harrisburg\", \"harvester\", \"hawk\", \"hay\", \"headlong\", \"hear\", \"hear\", \"hear\", \"hear\", \"hear\", \"hear\", \"hear\", \"hear\", \"hear\", \"hear\", \"heart\", \"heart\", \"heart\", \"heart\", \"heart\", \"heart\", \"heart\", \"heart\", \"heart\", \"heart\", \"heartbreak\", \"heartbreak\", \"heartbreak\", \"heartbreak\", \"heartbreak\", \"heartbreak\", \"help\", \"help\", \"help\", \"help\", \"help\", \"help\", \"help\", \"help\", \"help\", \"help\", \"heritage\", \"hero\", \"hero\", \"hero\", \"herpe\", \"hey\", \"hey\", \"hey\", \"hey\", \"hey\", \"hey\", \"hey\", \"hey\", \"hey\", \"hey\", \"hide\", \"hide\", \"hide\", \"hide\", \"hide\", \"hide\", \"hide\", \"hide\", \"hide\", \"hide\", \"hip\", \"hip\", \"hip\", \"hip\", \"hip\", \"hip\", \"hip\", \"hip\", \"hip\", \"hip\", \"hissin\", \"hm\", \"hm\", \"hm\", \"hmph\", \"hold\", \"hold\", \"hold\", \"hold\", \"hold\", \"hold\", \"hold\", \"hold\", \"hold\", \"hold\", \"holdin\", \"holdin\", \"holdin\", \"holdin\", \"holdin\", \"holdin\", \"holdin\", \"holey\", \"hollywood\", \"hollywood\", \"hollywood\", \"hollywood\", \"hollywood\", \"hollywood\", \"hollywood\", \"hollywood\", \"hollywood\", \"hollywood\", \"holy\", \"holy\", \"holy\", \"holy\", \"holy\", \"holy\", \"holy\", \"home\", \"home\", \"home\", \"home\", \"home\", \"home\", \"home\", \"home\", \"home\", \"home\", \"honky\", \"honky\", \"honky\", \"honky\", \"honky\", \"honky\", \"hope\", \"hope\", \"hope\", \"hope\", \"hope\", \"hope\", \"hope\", \"hope\", \"hope\", \"hope\", \"hoppin\", \"hoppin\", \"hoppin\", \"house\", \"house\", \"house\", \"house\", \"house\", \"house\", \"house\", \"house\", \"house\", \"house\", \"howard\", \"husband\", \"husband\", \"illuminate\", \"impossible\", \"impossible\", \"improbable\", \"indelible\", \"indestructible\", \"indian\", \"indian\", \"indian\", \"intentione\", \"intentione\", \"invisible\", \"jackpot\", \"jah\", \"jah\", \"jah\", \"jah\", \"jah\", \"jah\", \"jamaica\", \"jamaican\", \"jamaican\", \"jamaican\", \"janet\", \"janet\", \"janet\", \"janet\", \"janet\", \"jar\", \"jave\", \"jave\", \"jenny\", \"jenny\", \"joseph\", \"joseph\", \"joseph\", \"joseph\", \"josie\", \"josie\", \"jude\", \"jude\", \"judge\", \"judge\", \"judge\", \"judge\", \"judge\", \"juliet\", \"july\", \"july\", \"july\", \"july\", \"july\", \"jungle\", \"jungle\", \"jungle\", \"jungle\", \"jungle\", \"kaleidoscope\", \"keepin\", \"keepin\", \"keepin\", \"keepin\", \"keepin\", \"keepin\", \"keepin\", \"khaki\", \"king\", \"king\", \"king\", \"king\", \"king\", \"king\", \"king\", \"king\", \"king\", \"king\", \"kingston\", \"knack\", \"knock\", \"knock\", \"knock\", \"knock\", \"knock\", \"knock\", \"knock\", \"knock\", \"knock\", \"knockin\", \"knockin\", \"know\", \"know\", \"know\", \"know\", \"know\", \"know\", \"know\", \"know\", \"know\", \"know\", \"knowledge\", \"la\", \"la\", \"la\", \"la\", \"la\", \"la\", \"la\", \"la\", \"la\", \"la\", \"leader\", \"leader\", \"leader\", \"leader\", \"leader\", \"leader\", \"leader\", \"leader\", \"leave\", \"leave\", \"leave\", \"leave\", \"leave\", \"leave\", \"leave\", \"leave\", \"leave\", \"leave\", \"legendary\", \"leo\", \"less\", \"let\", \"let\", \"let\", \"let\", \"let\", \"let\", \"let\", \"let\", \"let\", \"let\", \"liberal\", \"liberal\", \"liberal\", \"lie\", \"lie\", \"lie\", \"lie\", \"lie\", \"lie\", \"lie\", \"lie\", \"lie\", \"lie\", \"life\", \"life\", \"life\", \"life\", \"life\", \"life\", \"life\", \"life\", \"life\", \"life\", \"light\", \"light\", \"light\", \"light\", \"light\", \"light\", \"light\", \"light\", \"light\", \"light\", \"lightly\", \"lightning\", \"lightning\", \"lightning\", \"lightning\", \"lightning\", \"like\", \"like\", \"like\", \"like\", \"like\", \"like\", \"like\", \"like\", \"like\", \"like\", \"lion\", \"lion\", \"lion\", \"lion\", \"lion\", \"lion\", \"lion\", \"lion\", \"lion\", \"lisa\", \"lisa\", \"little\", \"little\", \"little\", \"little\", \"little\", \"little\", \"little\", \"little\", \"little\", \"little\", \"live\", \"live\", \"live\", \"live\", \"live\", \"live\", \"live\", \"live\", \"live\", \"live\", \"load\", \"load\", \"load\", \"load\", \"lolli\", \"lolli\", \"lollipop\", \"lollipop\", \"lonely\", \"lonely\", \"lonely\", \"lonely\", \"lonely\", \"lonely\", \"lonely\", \"lonely\", \"lonely\", \"lonely\", \"long\", \"long\", \"long\", \"long\", \"long\", \"long\", \"long\", \"long\", \"long\", \"long\", \"look\", \"look\", \"look\", \"look\", \"look\", \"look\", \"look\", \"look\", \"look\", \"look\", \"loose\", \"loose\", \"loose\", \"loose\", \"loose\", \"loose\", \"loose\", \"loose\", \"loose\", \"lose\", \"lose\", \"lose\", \"lose\", \"lose\", \"lose\", \"lose\", \"lose\", \"lose\", \"lose\", \"lou\", \"lovable\", \"love\", \"love\", \"love\", \"love\", \"love\", \"love\", \"love\", \"love\", \"love\", \"love\", \"lover\", \"lover\", \"lover\", \"lover\", \"lover\", \"lover\", \"lover\", \"lover\", \"lover\", \"lover\", \"lucky\", \"lucky\", \"lucky\", \"lucky\", \"lucky\", \"lucky\", \"machine\", \"machine\", \"machine\", \"machine\", \"machine\", \"machine\", \"machine\", \"magnetize\", \"maker\", \"man\", \"man\", \"man\", \"man\", \"man\", \"man\", \"man\", \"man\", \"man\", \"man\", \"master\", \"master\", \"master\", \"master\", \"mau\", \"mau\", \"mayor\", \"mayor\", \"mayor\", \"mayor\", \"mayor\", \"mean\", \"mean\", \"mean\", \"mean\", \"mean\", \"mean\", \"mean\", \"mean\", \"mean\", \"mean\", \"meat\", \"meat\", \"meat\", \"medicine\", \"meta\", \"metabolism\", \"midnight\", \"midnight\", \"midnight\", \"midnight\", \"midnight\", \"midnight\", \"midnight\", \"midnight\", \"midnight\", \"mind\", \"mind\", \"mind\", \"mind\", \"mind\", \"mind\", \"mind\", \"mind\", \"mind\", \"mind\", \"minnesota\", \"minute\", \"minute\", \"minute\", \"minute\", \"minute\", \"minute\", \"minute\", \"minute\", \"minute\", \"minute\", \"miracle\", \"miracle\", \"miracle\", \"miracle\", \"miracle\", \"mirth\", \"mister\", \"mister\", \"mister\", \"mister\", \"mister\", \"mister\", \"moonbeam\", \"moonchild\", \"moonchild\", \"moonchild\", \"moonchild\", \"mount\", \"mount\", \"mountain\", \"mountain\", \"mountain\", \"mountain\", \"mountain\", \"mountain\", \"mountain\", \"mountain\", \"mountain\", \"mountain\", \"mr\", \"mr\", \"mr\", \"mr\", \"mr\", \"mr\", \"mr\", \"mr\", \"mr\", \"mu\", \"mull\", \"mull\", \"music\", \"music\", \"music\", \"music\", \"music\", \"music\", \"music\", \"music\", \"music\", \"music\", \"na\", \"na\", \"na\", \"na\", \"na\", \"na\", \"na\", \"na\", \"na\", \"na\", \"nac\\u00ed\", \"nasty\", \"nasty\", \"nasty\", \"nasty\", \"need\", \"need\", \"need\", \"need\", \"need\", \"need\", \"need\", \"need\", \"need\", \"need\", \"negro\", \"negro\", \"negro\", \"nevermore\", \"nevermore\", \"nicely\", \"night\", \"night\", \"night\", \"night\", \"night\", \"night\", \"night\", \"night\", \"night\", \"night\", \"nobleman\", \"nobleman\", \"nod\", \"nuh\", \"nuh\", \"nursery\", \"n\\u00eaga\", \"o\", \"o\", \"o\", \"o\", \"o\", \"o\", \"o\", \"o\", \"o\", \"o\", \"oasis\", \"ogre\", \"ogre\", \"ogre\", \"ogre\", \"oh\", \"oh\", \"oh\", \"oh\", \"oh\", \"oh\", \"oh\", \"oh\", \"oh\", \"oh\", \"old\", \"old\", \"old\", \"old\", \"old\", \"old\", \"old\", \"old\", \"old\", \"old\", \"ooh\", \"ooh\", \"ooh\", \"ooh\", \"ooh\", \"ooh\", \"ooh\", \"ooh\", \"ooh\", \"ooh\", \"oooh\", \"oooh\", \"oooh\", \"oooh\", \"oooh\", \"oooh\", \"oooh\", \"ooouueehh\", \"ooouueehh\", \"outrageous\", \"oww\", \"oww\", \"oww\", \"party\", \"party\", \"party\", \"party\", \"party\", \"party\", \"party\", \"party\", \"party\", \"pass\", \"pass\", \"pass\", \"pass\", \"pass\", \"pass\", \"pass\", \"pass\", \"pass\", \"pass\", \"pattern\", \"payday\", \"payday\", \"peggy\", \"peggy\", \"peggy\", \"peggy\", \"people\", \"people\", \"people\", \"people\", \"people\", \"people\", \"people\", \"people\", \"people\", \"people\", \"perder\", \"pig\", \"plane\", \"plane\", \"plane\", \"plane\", \"plane\", \"pogo\", \"pogo\", \"potato\", \"potato\", \"prettiest\", \"prevent\", \"princess\", \"prize\", \"prize\", \"professor\", \"puppet\", \"quaalude\", \"quaalude\", \"quaalude\", \"quit\", \"race\", \"race\", \"race\", \"race\", \"race\", \"race\", \"race\", \"race\", \"race\", \"rag\", \"rag\", \"rag\", \"rag\", \"rat\", \"rat\", \"rat\", \"rat\", \"rat\", \"ray\", \"ray\", \"ray\", \"ready\", \"ready\", \"ready\", \"ready\", \"ready\", \"ready\", \"ready\", \"ready\", \"realist\", \"reaper\", \"reaper\", \"reaper\", \"recieve\", \"recognition\", \"recognition\", \"recognition\", \"reelin\", \"reincarnate\", \"reject\", \"renew\", \"repair\", \"repair\", \"repair\", \"rescue\", \"rescue\", \"rescue\", \"rexia\", \"rexia\", \"ride\", \"ride\", \"ride\", \"ride\", \"ride\", \"ride\", \"ride\", \"ride\", \"ride\", \"ride\", \"right\", \"right\", \"right\", \"right\", \"right\", \"right\", \"right\", \"right\", \"right\", \"right\", \"riot\", \"rise\", \"rise\", \"rise\", \"rise\", \"rise\", \"rise\", \"rise\", \"rise\", \"rise\", \"rise\", \"rival\", \"rival\", \"rival\", \"rival\", \"roach\", \"road\", \"road\", \"road\", \"road\", \"road\", \"road\", \"road\", \"road\", \"road\", \"road\", \"robot\", \"robot\", \"robot\", \"robot\", \"robot\", \"rock\", \"rock\", \"rock\", \"rock\", \"rock\", \"rock\", \"rock\", \"rock\", \"rock\", \"rock\", \"rosa\", \"rottenness\", \"round\", \"round\", \"round\", \"round\", \"round\", \"round\", \"round\", \"round\", \"round\", \"round\", \"rub\", \"rub\", \"rubbin\", \"rubbin\", \"rubbin\", \"run\", \"run\", \"run\", \"run\", \"run\", \"run\", \"run\", \"run\", \"run\", \"run\", \"rushin\", \"rythm\", \"sacrifice\", \"sagittarius\", \"saint\", \"saint\", \"saint\", \"saint\", \"saint\", \"sandy\", \"sandy\", \"saturday\", \"saturday\", \"saturday\", \"saturday\", \"saturday\", \"saturday\", \"saturday\", \"saturday\", \"saturday\", \"saturday\", \"say\", \"say\", \"say\", \"say\", \"say\", \"say\", \"say\", \"say\", \"say\", \"say\", \"scowling\", \"screaming\", \"screech\", \"seasonal\", \"see\", \"see\", \"see\", \"see\", \"see\", \"see\", \"see\", \"see\", \"see\", \"see\", \"serpent\", \"serpent\", \"seven\", \"seven\", \"seven\", \"seven\", \"seven\", \"seven\", \"seven\", \"sha\", \"sha\", \"sha\", \"sha\", \"sha\", \"shake\", \"shake\", \"shake\", \"shake\", \"shake\", \"shake\", \"shake\", \"shake\", \"shake\", \"shake\", \"shango\", \"sharin\", \"sharing\", \"shockin\", \"shockin\", \"shockin\", \"shockin\", \"shockin\", \"shockin\", \"shockin\", \"shockin\", \"shoo\", \"shoo\", \"shoo\", \"shoo\", \"shoo\", \"shoo\", \"sieve\", \"sightsee\", \"simplex\", \"sinner\", \"sinner\", \"sinner\", \"sioux\", \"sioux\", \"sioux\", \"sioux\", \"skinned\", \"skull\", \"snowman\", \"solamente\", \"somebody\", \"somebody\", \"somebody\", \"somebody\", \"somebody\", \"somebody\", \"somebody\", \"somebody\", \"somebody\", \"somebody\", \"song\", \"song\", \"song\", \"song\", \"song\", \"song\", \"song\", \"song\", \"song\", \"song\", \"soul\", \"soul\", \"soul\", \"soul\", \"soul\", \"soul\", \"soul\", \"soul\", \"soul\", \"soul\", \"soup\", \"soup\", \"soup\", \"speech\", \"spend\", \"spend\", \"spend\", \"spend\", \"spend\", \"spend\", \"spend\", \"spend\", \"spend\", \"spend\", \"splendor\", \"spoil\", \"sport\", \"sport\", \"sport\", \"sport\", \"spotlessly\", \"spunky\", \"spunky\", \"spunky\", \"stand\", \"stand\", \"stand\", \"stand\", \"stand\", \"stand\", \"stand\", \"stand\", \"stand\", \"stand\", \"steady\", \"steady\", \"steady\", \"steady\", \"steady\", \"steppin\", \"steppin\", \"steppin\", \"steppin\", \"stereo\", \"stew\", \"stir\", \"stone\", \"stone\", \"stone\", \"stone\", \"stone\", \"stone\", \"stone\", \"stone\", \"stone\", \"stoned\", \"stony\", \"stop\", \"stop\", \"stop\", \"stop\", \"stop\", \"stop\", \"stop\", \"stop\", \"stop\", \"stop\", \"stuff\", \"stuff\", \"stuff\", \"stuff\", \"stuff\", \"stuff\", \"stuff\", \"stuff\", \"stuff\", \"stuff\", \"stump\", \"sue\", \"sue\", \"sue\", \"sue\\u00f1o\", \"summer\", \"summer\", \"summer\", \"summer\", \"summer\", \"summer\", \"summer\", \"summer\", \"superstition\", \"superstitious\", \"superstitious\", \"swale\", \"swale\", \"swale\", \"sweet\", \"sweet\", \"sweet\", \"sweet\", \"sweet\", \"sweet\", \"sweet\", \"sweet\", \"sweet\", \"sweet\", \"sweetwood\", \"sweetwood\", \"syrian\", \"takin\", \"takin\", \"takin\", \"takin\", \"takin\", \"takin\", \"takin\", \"tangerine\", \"tangerine\", \"telescope\", \"tell\", \"tell\", \"tell\", \"tell\", \"tell\", \"tell\", \"tell\", \"tell\", \"tell\", \"tell\", \"thee\", \"thee\", \"thee\", \"thee\", \"thing\", \"thing\", \"thing\", \"thing\", \"thing\", \"thing\", \"thing\", \"thing\", \"thing\", \"thing\", \"think\", \"think\", \"think\", \"think\", \"think\", \"think\", \"think\", \"think\", \"think\", \"think\", \"thorn\", \"threaten\", \"thunder\", \"thunder\", \"thunder\", \"thunder\", \"thunder\", \"thunder\", \"thunder\", \"tick\", \"tick\", \"time\", \"time\", \"time\", \"time\", \"time\", \"time\", \"time\", \"time\", \"time\", \"time\", \"timeless\", \"to\", \"to\", \"to\", \"to\", \"to\", \"to\", \"to\", \"to\", \"to\", \"to\", \"toast\", \"toast\", \"toast\", \"tonight\", \"tonight\", \"tonight\", \"tonight\", \"tonight\", \"tonight\", \"tonight\", \"tonight\", \"tonight\", \"tonight\", \"tonking\", \"tonkitis\", \"tonkitis\", \"touch\", \"touch\", \"touch\", \"touch\", \"touch\", \"touch\", \"touch\", \"touch\", \"touch\", \"touch\", \"town\", \"town\", \"town\", \"town\", \"town\", \"town\", \"town\", \"town\", \"town\", \"trailer\", \"transplant\", \"traveling\", \"tribal\", \"tribe\", \"trouble\", \"trouble\", \"trouble\", \"trouble\", \"trouble\", \"trouble\", \"trouble\", \"trouble\", \"trouble\", \"trouble\", \"troubled\", \"truckin\", \"truckin\", \"truckin\", \"truckin\", \"truckin\", \"truckin\", \"true\", \"true\", \"true\", \"true\", \"true\", \"true\", \"true\", \"true\", \"true\", \"true\", \"truer\", \"truer\", \"try\", \"try\", \"try\", \"try\", \"try\", \"try\", \"try\", \"try\", \"try\", \"try\", \"tu\", \"tu\", \"tu\", \"tu\", \"tu\", \"turn\", \"turn\", \"turn\", \"turn\", \"turn\", \"turn\", \"turn\", \"turn\", \"turn\", \"turn\", \"ugh\", \"ugh\", \"umc\", \"uncle\", \"uncover\", \"unfolding\", \"unto\", \"up\", \"up\", \"up\", \"up\", \"up\", \"up\", \"vacant\", \"valley\", \"valley\", \"valley\", \"valley\", \"valley\", \"valley\", \"valley\", \"valley\", \"verb\", \"verse\", \"verse\", \"version\", \"vision\", \"vision\", \"vision\", \"vision\", \"vision\", \"vision\", \"vision\", \"vuelve\", \"wait\", \"wait\", \"wait\", \"wait\", \"wait\", \"wait\", \"wait\", \"wait\", \"wait\", \"wait\", \"walk\", \"walk\", \"walk\", \"walk\", \"walk\", \"walk\", \"walk\", \"walk\", \"walk\", \"walk\", \"walkand\", \"wanderer\", \"wanna\", \"wanna\", \"wanna\", \"wanna\", \"wanna\", \"wanna\", \"wanna\", \"wanna\", \"wanna\", \"wanna\", \"want\", \"want\", \"want\", \"want\", \"want\", \"want\", \"want\", \"want\", \"want\", \"want\", \"war\", \"war\", \"war\", \"war\", \"war\", \"war\", \"war\", \"war\", \"war\", \"warrior\", \"warrior\", \"warrior\", \"waste\", \"waste\", \"waste\", \"waste\", \"waste\", \"waste\", \"waste\", \"wave\", \"wave\", \"wave\", \"wave\", \"wave\", \"wave\", \"wave\", \"wave\", \"wave\", \"way\", \"way\", \"way\", \"way\", \"way\", \"way\", \"way\", \"way\", \"way\", \"way\", \"wear\", \"wear\", \"wear\", \"wear\", \"wear\", \"wear\", \"wear\", \"wear\", \"wear\", \"wear\", \"weekday\", \"weekday\", \"weekday\", \"weekday\", \"well\", \"well\", \"well\", \"well\", \"well\", \"well\", \"well\", \"well\", \"well\", \"well\", \"wheel\", \"wheel\", \"wheel\", \"wheel\", \"wheel\", \"wheel\", \"whoa\", \"whoa\", \"whoa\", \"whoa\", \"whoa\", \"whoa\", \"whoa\", \"whoa\", \"whoa\", \"whoa\", \"whoop\", \"whoop\", \"whoop\", \"wide\", \"wide\", \"wide\", \"wide\", \"wide\", \"wide\", \"william\", \"william\", \"wipe\", \"wipe\", \"wipe\", \"wit\", \"wit\", \"wit\", \"witchcraft\", \"witchcraft\", \"witchcraft\", \"wolf\", \"wolf\", \"wolf\", \"woman\", \"woman\", \"woman\", \"woman\", \"woman\", \"woman\", \"woman\", \"woman\", \"woman\", \"woman\", \"wonder\", \"wonder\", \"wonder\", \"wonder\", \"wonder\", \"wonder\", \"wonder\", \"wonder\", \"wonder\", \"wonder\", \"wooh\", \"wow\", \"wow\", \"wow\", \"wow\", \"wow\", \"wow\", \"wow\", \"wow\", \"wow\", \"write\", \"write\", \"write\", \"write\", \"write\", \"write\", \"write\", \"write\", \"write\", \"y\", \"y\", \"y\", \"ya\", \"ya\", \"ya\", \"ya\", \"ya\", \"ya\", \"ya\", \"ya\", \"ya\", \"ya\", \"yeah\", \"yeah\", \"yeah\", \"yeah\", \"yeah\", \"yeah\", \"yeah\", \"yeah\", \"yeah\", \"yeah\", \"yes\", \"yes\", \"yes\", \"yes\", \"yes\", \"yes\", \"yes\", \"yes\", \"yes\", \"yes\", \"yo\", \"yo\", \"yo\", \"yo\", \"yo\", \"yo\", \"yo\", \"yo\", \"yoruba\", \"yuk\", \"yuk\", \"zandoo\", \"zandoo\", \"zandoo\", \"zandoo\", \"zion\", \"zion\", \"zule\", \"zule\", \"zule\", \"zule\"]}, \"R\": 30, \"lambda.step\": 0.01, \"plot.opts\": {\"xlab\": \"PC1\", \"ylab\": \"PC2\"}, \"topic.order\": [3, 2, 10, 8, 9, 5, 7, 6, 1, 4]};\n",
       "\n",
       "function LDAvis_load_lib(url, callback){\n",
       "  var s = document.createElement('script');\n",
       "  s.src = url;\n",
       "  s.async = true;\n",
       "  s.onreadystatechange = s.onload = callback;\n",
       "  s.onerror = function(){console.warn(\"failed to load library \" + url);};\n",
       "  document.getElementsByTagName(\"head\")[0].appendChild(s);\n",
       "}\n",
       "\n",
       "if(typeof(LDAvis) !== \"undefined\"){\n",
       "   // already loaded: just create the visualization\n",
       "   !function(LDAvis){\n",
       "       new LDAvis(\"#\" + \"ldavis_el191396576946846241113310681\", ldavis_el191396576946846241113310681_data);\n",
       "   }(LDAvis);\n",
       "}else if(typeof define === \"function\" && define.amd){\n",
       "   // require.js is available: use it to load d3/LDAvis\n",
       "   require.config({paths: {d3: \"/nbextensions/d3.v5.min\"}});\n",
       "   require([\"d3\"], function(d3){\n",
       "      window.d3 = d3;\n",
       "      LDAvis_load_lib(\"/nbextensions/ldavis.v3.0.0.js\", function(){\n",
       "        new LDAvis(\"#\" + \"ldavis_el191396576946846241113310681\", ldavis_el191396576946846241113310681_data);\n",
       "      });\n",
       "    });\n",
       "}else{\n",
       "    // require.js not available: dynamically load d3 & LDAvis\n",
       "    LDAvis_load_lib(\"/nbextensions/d3.v5.min.js\", function(){\n",
       "         LDAvis_load_lib(\"/nbextensions/ldavis.v3.0.0.js\", function(){\n",
       "                 new LDAvis(\"#\" + \"ldavis_el191396576946846241113310681\", ldavis_el191396576946846241113310681_data);\n",
       "            })\n",
       "         });\n",
       "}\n",
       "</script>"
      ],
      "text/plain": [
       "<IPython.core.display.HTML object>"
      ]
     },
     "execution_count": 39,
     "metadata": {},
     "output_type": "execute_result"
    }
   ],
   "source": [
    "import warnings\n",
    "warnings.simplefilter(action='ignore', category=FutureWarning)\n",
    "\n",
    "# pyLDAvis dashboards\n",
    "#lda_model.dashboard_LDAvis()\n",
    "pyLDAvis.enable_notebook(local=True)\n",
    "vis = pyLDAvis.gensim.prepare(lda_model.model,\n",
    "                        lda_model.get_corpus, \n",
    "                        lda_model.get_id2word)\n",
    "pyLDAvis.display(vis,  local=True)"
   ]
  },
  {
   "cell_type": "code",
   "execution_count": 40,
   "id": "6bf72ef9",
   "metadata": {
    "_kg_hide-output": true,
    "execution": {
     "iopub.execute_input": "2023-03-15T23:30:05.906907Z",
     "iopub.status.busy": "2023-03-15T23:30:05.906302Z",
     "iopub.status.idle": "2023-03-15T23:30:08.438908Z",
     "shell.execute_reply": "2023-03-15T23:30:08.437300Z"
    },
    "papermill": {
     "duration": 2.582697,
     "end_time": "2023-03-15T23:30:08.441300",
     "exception": false,
     "start_time": "2023-03-15T23:30:05.858603",
     "status": "completed"
    },
    "tags": []
   },
   "outputs": [
    {
     "name": "stdout",
     "output_type": "stream",
     "text": [
      "topic_num : [8 7 2 8 2 8 8 9 2 2 1 8 5 5 8 7 1 7 3 2 5 7 3 4 9 9 7 7 4 4 7 7 2 9 9 2 1\n",
      " 9 2 6 2 9 2 9 6 8 2 7 9 8 1 4 3 7 5 9 1 6 6 7 2 1 5 0 2 2 2 9 2 8 2 7 1 3\n",
      " 9 8 9 2 1 1 2 1 7 0 2 1 4 7 5 2 6 5 2 2 1 8 6 4 8 6 2 6 2 3 4 2 1 4 8 4 0\n",
      " 7 0 0 6 0 4 8 9 1 2 9 7 7 1 4 4 6 3 0 7 2 7 5 7 2 3 6 9 2 2 2 6 2 5 4 0 6\n",
      " 9 6 6 2 6 4 1 8 7 7 7 4 6 7 1 7 4 9 8 7 9 9 4 7 1 5 9 9 2 2 6 8 2 4 1 7 6\n",
      " 3 9 4 4 5 7 2 6 5 8 6 9 9 4 1 0 8 9 6 3 9 0 9 7 7 7 9 0 9 2 9 8 5 9 9 6 9\n",
      " 8 6 3 6 6 8 0 9 5 2 9 4 6 8 7 8 2 1 7 3 0 0 2 0 0 7 5 5 8 2 9 1 2 1 7 0 3\n",
      " 9 7 3 5 7 2 7 2 9 6 0 9 3 8 4 2 2 5 9 9 3 2 1 4 7 5 1 0 1 7 2 6 1 2 7 6 8\n",
      " 8 8 0 7 8 9 8 7 8 1 9 2 2 9 2 7 2 7 8 4 6 7 7 9 0 6 7 3 9 6 4 2 9 1 8 1 2\n",
      " 6 1 0 1 3 2 7 9 8 9 2 1 1 8 4 2 2 4 0 1 5 9 9 9 8 8 2 4 2 2 1 8 7 7 6 2 2\n",
      " 8 6 2 2 7 8 4 5 1 7 9 9 4 6 3 8 7 8 8 9 2 1 8 5 4 8 4 9 8 6 7 7 0 8 4 2 2\n",
      " 0 0 9 2 4 1 9 3 3 2 2 4 6 6 9 7 2 3 6 9 8 9 8 6 7 0 8 9 2 0 4 4 8 2 7 1 1\n",
      " 2 9 2 1 2 8 9 7 3 3 9 3 3 0 4 8 2 1 0 6 0 6 2 5 8 4 4 8 2 5 2 9 7 9 7 1 0\n",
      " 1 8 9 0 7 5 5 1 6 4 4 5 2 9 0 1 0 2 4 1 7 7 9 4 7 4 0 4 1 9 2 9 1 3 2 4 3\n",
      " 7 2 2 4 2 1 4 6 3 9 8 6 0 9 3 4 7 7 1 4 1 9 5 5 1 4 1 1 7 1 9 6 6 0 4 2 1\n",
      " 1 4 8 6 6 5 5 9 8 2 2 9 8 0 7 1 6 2 4 0 9 4 7 4 5 9 0 1 7 9 5 4 4 9 8 0 5\n",
      " 4 5 4 2 8 3 8 6 1 6 7 2 4 4 1 4 1 6 1 9 1 3 4 8 9 2 9 7 2 7 3 4 2 1 9 7 7\n",
      " 2 7 4 2 7 8 1 9 4 1 2 4 4 8 8 7 4 0 4 9 5 2 9 9 9 7 1 4 7 2 1 1 1 1 4 2 2\n",
      " 1 4 5 3 8 2 4 8 5 2 4 6 2 1 2 3 8 2 0 2 1 5 4 3 3 2 1 5 3 2 6 8 7 2 6 9 8\n",
      " 6 9]\n",
      "[t-SNE] Computing 91 nearest neighbors...\n",
      "[t-SNE] Indexed 705 samples in 0.001s...\n",
      "[t-SNE] Computed neighbors for 705 samples in 0.018s...\n",
      "[t-SNE] Computed conditional probabilities for sample 705 / 705\n",
      "[t-SNE] Mean sigma: 0.006997\n",
      "[t-SNE] KL divergence after 250 iterations with early exaggeration: 49.091232\n",
      "[t-SNE] KL divergence after 1000 iterations: 0.272189\n"
     ]
    },
    {
     "data": {
      "text/html": [
       "<div class=\"bk-root\">\n",
       "        <a href=\"https://bokeh.org\" target=\"_blank\" class=\"bk-logo bk-logo-small bk-logo-notebook\"></a>\n",
       "        <span id=\"1002\">Loading BokehJS ...</span>\n",
       "    </div>\n"
      ]
     },
     "metadata": {},
     "output_type": "display_data"
    },
    {
     "data": {
      "application/javascript": [
       "(function(root) {\n",
       "  function now() {\n",
       "    return new Date();\n",
       "  }\n",
       "\n",
       "  const force = true;\n",
       "\n",
       "  if (typeof root._bokeh_onload_callbacks === \"undefined\" || force === true) {\n",
       "    root._bokeh_onload_callbacks = [];\n",
       "    root._bokeh_is_loading = undefined;\n",
       "  }\n",
       "\n",
       "const JS_MIME_TYPE = 'application/javascript';\n",
       "  const HTML_MIME_TYPE = 'text/html';\n",
       "  const EXEC_MIME_TYPE = 'application/vnd.bokehjs_exec.v0+json';\n",
       "  const CLASS_NAME = 'output_bokeh rendered_html';\n",
       "\n",
       "  /**\n",
       "   * Render data to the DOM node\n",
       "   */\n",
       "  function render(props, node) {\n",
       "    const script = document.createElement(\"script\");\n",
       "    node.appendChild(script);\n",
       "  }\n",
       "\n",
       "  /**\n",
       "   * Handle when an output is cleared or removed\n",
       "   */\n",
       "  function handleClearOutput(event, handle) {\n",
       "    const cell = handle.cell;\n",
       "\n",
       "    const id = cell.output_area._bokeh_element_id;\n",
       "    const server_id = cell.output_area._bokeh_server_id;\n",
       "    // Clean up Bokeh references\n",
       "    if (id != null && id in Bokeh.index) {\n",
       "      Bokeh.index[id].model.document.clear();\n",
       "      delete Bokeh.index[id];\n",
       "    }\n",
       "\n",
       "    if (server_id !== undefined) {\n",
       "      // Clean up Bokeh references\n",
       "      const cmd_clean = \"from bokeh.io.state import curstate; print(curstate().uuid_to_server['\" + server_id + \"'].get_sessions()[0].document.roots[0]._id)\";\n",
       "      cell.notebook.kernel.execute(cmd_clean, {\n",
       "        iopub: {\n",
       "          output: function(msg) {\n",
       "            const id = msg.content.text.trim();\n",
       "            if (id in Bokeh.index) {\n",
       "              Bokeh.index[id].model.document.clear();\n",
       "              delete Bokeh.index[id];\n",
       "            }\n",
       "          }\n",
       "        }\n",
       "      });\n",
       "      // Destroy server and session\n",
       "      const cmd_destroy = \"import bokeh.io.notebook as ion; ion.destroy_server('\" + server_id + \"')\";\n",
       "      cell.notebook.kernel.execute(cmd_destroy);\n",
       "    }\n",
       "  }\n",
       "\n",
       "  /**\n",
       "   * Handle when a new output is added\n",
       "   */\n",
       "  function handleAddOutput(event, handle) {\n",
       "    const output_area = handle.output_area;\n",
       "    const output = handle.output;\n",
       "\n",
       "    // limit handleAddOutput to display_data with EXEC_MIME_TYPE content only\n",
       "    if ((output.output_type != \"display_data\") || (!Object.prototype.hasOwnProperty.call(output.data, EXEC_MIME_TYPE))) {\n",
       "      return\n",
       "    }\n",
       "\n",
       "    const toinsert = output_area.element.find(\".\" + CLASS_NAME.split(' ')[0]);\n",
       "\n",
       "    if (output.metadata[EXEC_MIME_TYPE][\"id\"] !== undefined) {\n",
       "      toinsert[toinsert.length - 1].firstChild.textContent = output.data[JS_MIME_TYPE];\n",
       "      // store reference to embed id on output_area\n",
       "      output_area._bokeh_element_id = output.metadata[EXEC_MIME_TYPE][\"id\"];\n",
       "    }\n",
       "    if (output.metadata[EXEC_MIME_TYPE][\"server_id\"] !== undefined) {\n",
       "      const bk_div = document.createElement(\"div\");\n",
       "      bk_div.innerHTML = output.data[HTML_MIME_TYPE];\n",
       "      const script_attrs = bk_div.children[0].attributes;\n",
       "      for (let i = 0; i < script_attrs.length; i++) {\n",
       "        toinsert[toinsert.length - 1].firstChild.setAttribute(script_attrs[i].name, script_attrs[i].value);\n",
       "        toinsert[toinsert.length - 1].firstChild.textContent = bk_div.children[0].textContent\n",
       "      }\n",
       "      // store reference to server id on output_area\n",
       "      output_area._bokeh_server_id = output.metadata[EXEC_MIME_TYPE][\"server_id\"];\n",
       "    }\n",
       "  }\n",
       "\n",
       "  function register_renderer(events, OutputArea) {\n",
       "\n",
       "    function append_mime(data, metadata, element) {\n",
       "      // create a DOM node to render to\n",
       "      const toinsert = this.create_output_subarea(\n",
       "        metadata,\n",
       "        CLASS_NAME,\n",
       "        EXEC_MIME_TYPE\n",
       "      );\n",
       "      this.keyboard_manager.register_events(toinsert);\n",
       "      // Render to node\n",
       "      const props = {data: data, metadata: metadata[EXEC_MIME_TYPE]};\n",
       "      render(props, toinsert[toinsert.length - 1]);\n",
       "      element.append(toinsert);\n",
       "      return toinsert\n",
       "    }\n",
       "\n",
       "    /* Handle when an output is cleared or removed */\n",
       "    events.on('clear_output.CodeCell', handleClearOutput);\n",
       "    events.on('delete.Cell', handleClearOutput);\n",
       "\n",
       "    /* Handle when a new output is added */\n",
       "    events.on('output_added.OutputArea', handleAddOutput);\n",
       "\n",
       "    /**\n",
       "     * Register the mime type and append_mime function with output_area\n",
       "     */\n",
       "    OutputArea.prototype.register_mime_type(EXEC_MIME_TYPE, append_mime, {\n",
       "      /* Is output safe? */\n",
       "      safe: true,\n",
       "      /* Index of renderer in `output_area.display_order` */\n",
       "      index: 0\n",
       "    });\n",
       "  }\n",
       "\n",
       "  // register the mime type if in Jupyter Notebook environment and previously unregistered\n",
       "  if (root.Jupyter !== undefined) {\n",
       "    const events = require('base/js/events');\n",
       "    const OutputArea = require('notebook/js/outputarea').OutputArea;\n",
       "\n",
       "    if (OutputArea.prototype.mime_types().indexOf(EXEC_MIME_TYPE) == -1) {\n",
       "      register_renderer(events, OutputArea);\n",
       "    }\n",
       "  }\n",
       "  if (typeof (root._bokeh_timeout) === \"undefined\" || force === true) {\n",
       "    root._bokeh_timeout = Date.now() + 5000;\n",
       "    root._bokeh_failed_load = false;\n",
       "  }\n",
       "\n",
       "  const NB_LOAD_WARNING = {'data': {'text/html':\n",
       "     \"<div style='background-color: #fdd'>\\n\"+\n",
       "     \"<p>\\n\"+\n",
       "     \"BokehJS does not appear to have successfully loaded. If loading BokehJS from CDN, this \\n\"+\n",
       "     \"may be due to a slow or bad network connection. Possible fixes:\\n\"+\n",
       "     \"</p>\\n\"+\n",
       "     \"<ul>\\n\"+\n",
       "     \"<li>re-rerun `output_notebook()` to attempt to load from CDN again, or</li>\\n\"+\n",
       "     \"<li>use INLINE resources instead, as so:</li>\\n\"+\n",
       "     \"</ul>\\n\"+\n",
       "     \"<code>\\n\"+\n",
       "     \"from bokeh.resources import INLINE\\n\"+\n",
       "     \"output_notebook(resources=INLINE)\\n\"+\n",
       "     \"</code>\\n\"+\n",
       "     \"</div>\"}};\n",
       "\n",
       "  function display_loaded() {\n",
       "    const el = document.getElementById(\"1002\");\n",
       "    if (el != null) {\n",
       "      el.textContent = \"BokehJS is loading...\";\n",
       "    }\n",
       "    if (root.Bokeh !== undefined) {\n",
       "      if (el != null) {\n",
       "        el.textContent = \"BokehJS \" + root.Bokeh.version + \" successfully loaded.\";\n",
       "      }\n",
       "    } else if (Date.now() < root._bokeh_timeout) {\n",
       "      setTimeout(display_loaded, 100)\n",
       "    }\n",
       "  }\n",
       "\n",
       "  function run_callbacks() {\n",
       "    try {\n",
       "      root._bokeh_onload_callbacks.forEach(function(callback) {\n",
       "        if (callback != null)\n",
       "          callback();\n",
       "      });\n",
       "    } finally {\n",
       "      delete root._bokeh_onload_callbacks\n",
       "    }\n",
       "    console.debug(\"Bokeh: all callbacks have finished\");\n",
       "  }\n",
       "\n",
       "  function load_libs(css_urls, js_urls, callback) {\n",
       "    if (css_urls == null) css_urls = [];\n",
       "    if (js_urls == null) js_urls = [];\n",
       "\n",
       "    root._bokeh_onload_callbacks.push(callback);\n",
       "    if (root._bokeh_is_loading > 0) {\n",
       "      console.debug(\"Bokeh: BokehJS is being loaded, scheduling callback at\", now());\n",
       "      return null;\n",
       "    }\n",
       "    if (js_urls == null || js_urls.length === 0) {\n",
       "      run_callbacks();\n",
       "      return null;\n",
       "    }\n",
       "    console.debug(\"Bokeh: BokehJS not loaded, scheduling load and callback at\", now());\n",
       "    root._bokeh_is_loading = css_urls.length + js_urls.length;\n",
       "\n",
       "    function on_load() {\n",
       "      root._bokeh_is_loading--;\n",
       "      if (root._bokeh_is_loading === 0) {\n",
       "        console.debug(\"Bokeh: all BokehJS libraries/stylesheets loaded\");\n",
       "        run_callbacks()\n",
       "      }\n",
       "    }\n",
       "\n",
       "    function on_error(url) {\n",
       "      console.error(\"failed to load \" + url);\n",
       "    }\n",
       "\n",
       "    for (let i = 0; i < css_urls.length; i++) {\n",
       "      const url = css_urls[i];\n",
       "      const element = document.createElement(\"link\");\n",
       "      element.onload = on_load;\n",
       "      element.onerror = on_error.bind(null, url);\n",
       "      element.rel = \"stylesheet\";\n",
       "      element.type = \"text/css\";\n",
       "      element.href = url;\n",
       "      console.debug(\"Bokeh: injecting link tag for BokehJS stylesheet: \", url);\n",
       "      document.body.appendChild(element);\n",
       "    }\n",
       "\n",
       "    for (let i = 0; i < js_urls.length; i++) {\n",
       "      const url = js_urls[i];\n",
       "      const element = document.createElement('script');\n",
       "      element.onload = on_load;\n",
       "      element.onerror = on_error.bind(null, url);\n",
       "      element.async = false;\n",
       "      element.src = url;\n",
       "      console.debug(\"Bokeh: injecting script tag for BokehJS library: \", url);\n",
       "      document.head.appendChild(element);\n",
       "    }\n",
       "  };\n",
       "\n",
       "  function inject_raw_css(css) {\n",
       "    const element = document.createElement(\"style\");\n",
       "    element.appendChild(document.createTextNode(css));\n",
       "    document.body.appendChild(element);\n",
       "  }\n",
       "\n",
       "  const js_urls = [\"https://cdn.bokeh.org/bokeh/release/bokeh-2.4.3.min.js\", \"https://cdn.bokeh.org/bokeh/release/bokeh-gl-2.4.3.min.js\", \"https://cdn.bokeh.org/bokeh/release/bokeh-widgets-2.4.3.min.js\", \"https://cdn.bokeh.org/bokeh/release/bokeh-tables-2.4.3.min.js\", \"https://cdn.bokeh.org/bokeh/release/bokeh-mathjax-2.4.3.min.js\"];\n",
       "  const css_urls = [];\n",
       "\n",
       "  const inline_js = [    function(Bokeh) {\n",
       "      Bokeh.set_log_level(\"info\");\n",
       "    },\n",
       "function(Bokeh) {\n",
       "    }\n",
       "  ];\n",
       "\n",
       "  function run_inline_js() {\n",
       "    if (root.Bokeh !== undefined || force === true) {\n",
       "          for (let i = 0; i < inline_js.length; i++) {\n",
       "      inline_js[i].call(root, root.Bokeh);\n",
       "    }\n",
       "if (force === true) {\n",
       "        display_loaded();\n",
       "      }} else if (Date.now() < root._bokeh_timeout) {\n",
       "      setTimeout(run_inline_js, 100);\n",
       "    } else if (!root._bokeh_failed_load) {\n",
       "      console.log(\"Bokeh: BokehJS failed to load within specified timeout.\");\n",
       "      root._bokeh_failed_load = true;\n",
       "    } else if (force !== true) {\n",
       "      const cell = $(document.getElementById(\"1002\")).parents('.cell').data().cell;\n",
       "      cell.output_area.append_execute_result(NB_LOAD_WARNING)\n",
       "    }\n",
       "  }\n",
       "\n",
       "  if (root._bokeh_is_loading === 0) {\n",
       "    console.debug(\"Bokeh: BokehJS loaded, going straight to plotting\");\n",
       "    run_inline_js();\n",
       "  } else {\n",
       "    load_libs(css_urls, js_urls, function() {\n",
       "      console.debug(\"Bokeh: BokehJS plotting callback run at\", now());\n",
       "      run_inline_js();\n",
       "    });\n",
       "  }\n",
       "}(window));"
      ],
      "application/vnd.bokehjs_load.v0+json": "(function(root) {\n  function now() {\n    return new Date();\n  }\n\n  const force = true;\n\n  if (typeof root._bokeh_onload_callbacks === \"undefined\" || force === true) {\n    root._bokeh_onload_callbacks = [];\n    root._bokeh_is_loading = undefined;\n  }\n\n\n  if (typeof (root._bokeh_timeout) === \"undefined\" || force === true) {\n    root._bokeh_timeout = Date.now() + 5000;\n    root._bokeh_failed_load = false;\n  }\n\n  const NB_LOAD_WARNING = {'data': {'text/html':\n     \"<div style='background-color: #fdd'>\\n\"+\n     \"<p>\\n\"+\n     \"BokehJS does not appear to have successfully loaded. If loading BokehJS from CDN, this \\n\"+\n     \"may be due to a slow or bad network connection. Possible fixes:\\n\"+\n     \"</p>\\n\"+\n     \"<ul>\\n\"+\n     \"<li>re-rerun `output_notebook()` to attempt to load from CDN again, or</li>\\n\"+\n     \"<li>use INLINE resources instead, as so:</li>\\n\"+\n     \"</ul>\\n\"+\n     \"<code>\\n\"+\n     \"from bokeh.resources import INLINE\\n\"+\n     \"output_notebook(resources=INLINE)\\n\"+\n     \"</code>\\n\"+\n     \"</div>\"}};\n\n  function display_loaded() {\n    const el = document.getElementById(\"1002\");\n    if (el != null) {\n      el.textContent = \"BokehJS is loading...\";\n    }\n    if (root.Bokeh !== undefined) {\n      if (el != null) {\n        el.textContent = \"BokehJS \" + root.Bokeh.version + \" successfully loaded.\";\n      }\n    } else if (Date.now() < root._bokeh_timeout) {\n      setTimeout(display_loaded, 100)\n    }\n  }\n\n  function run_callbacks() {\n    try {\n      root._bokeh_onload_callbacks.forEach(function(callback) {\n        if (callback != null)\n          callback();\n      });\n    } finally {\n      delete root._bokeh_onload_callbacks\n    }\n    console.debug(\"Bokeh: all callbacks have finished\");\n  }\n\n  function load_libs(css_urls, js_urls, callback) {\n    if (css_urls == null) css_urls = [];\n    if (js_urls == null) js_urls = [];\n\n    root._bokeh_onload_callbacks.push(callback);\n    if (root._bokeh_is_loading > 0) {\n      console.debug(\"Bokeh: BokehJS is being loaded, scheduling callback at\", now());\n      return null;\n    }\n    if (js_urls == null || js_urls.length === 0) {\n      run_callbacks();\n      return null;\n    }\n    console.debug(\"Bokeh: BokehJS not loaded, scheduling load and callback at\", now());\n    root._bokeh_is_loading = css_urls.length + js_urls.length;\n\n    function on_load() {\n      root._bokeh_is_loading--;\n      if (root._bokeh_is_loading === 0) {\n        console.debug(\"Bokeh: all BokehJS libraries/stylesheets loaded\");\n        run_callbacks()\n      }\n    }\n\n    function on_error(url) {\n      console.error(\"failed to load \" + url);\n    }\n\n    for (let i = 0; i < css_urls.length; i++) {\n      const url = css_urls[i];\n      const element = document.createElement(\"link\");\n      element.onload = on_load;\n      element.onerror = on_error.bind(null, url);\n      element.rel = \"stylesheet\";\n      element.type = \"text/css\";\n      element.href = url;\n      console.debug(\"Bokeh: injecting link tag for BokehJS stylesheet: \", url);\n      document.body.appendChild(element);\n    }\n\n    for (let i = 0; i < js_urls.length; i++) {\n      const url = js_urls[i];\n      const element = document.createElement('script');\n      element.onload = on_load;\n      element.onerror = on_error.bind(null, url);\n      element.async = false;\n      element.src = url;\n      console.debug(\"Bokeh: injecting script tag for BokehJS library: \", url);\n      document.head.appendChild(element);\n    }\n  };\n\n  function inject_raw_css(css) {\n    const element = document.createElement(\"style\");\n    element.appendChild(document.createTextNode(css));\n    document.body.appendChild(element);\n  }\n\n  const js_urls = [\"https://cdn.bokeh.org/bokeh/release/bokeh-2.4.3.min.js\", \"https://cdn.bokeh.org/bokeh/release/bokeh-gl-2.4.3.min.js\", \"https://cdn.bokeh.org/bokeh/release/bokeh-widgets-2.4.3.min.js\", \"https://cdn.bokeh.org/bokeh/release/bokeh-tables-2.4.3.min.js\", \"https://cdn.bokeh.org/bokeh/release/bokeh-mathjax-2.4.3.min.js\"];\n  const css_urls = [];\n\n  const inline_js = [    function(Bokeh) {\n      Bokeh.set_log_level(\"info\");\n    },\nfunction(Bokeh) {\n    }\n  ];\n\n  function run_inline_js() {\n    if (root.Bokeh !== undefined || force === true) {\n          for (let i = 0; i < inline_js.length; i++) {\n      inline_js[i].call(root, root.Bokeh);\n    }\nif (force === true) {\n        display_loaded();\n      }} else if (Date.now() < root._bokeh_timeout) {\n      setTimeout(run_inline_js, 100);\n    } else if (!root._bokeh_failed_load) {\n      console.log(\"Bokeh: BokehJS failed to load within specified timeout.\");\n      root._bokeh_failed_load = true;\n    } else if (force !== true) {\n      const cell = $(document.getElementById(\"1002\")).parents('.cell').data().cell;\n      cell.output_area.append_execute_result(NB_LOAD_WARNING)\n    }\n  }\n\n  if (root._bokeh_is_loading === 0) {\n    console.debug(\"Bokeh: BokehJS loaded, going straight to plotting\");\n    run_inline_js();\n  } else {\n    load_libs(css_urls, js_urls, function() {\n      console.debug(\"Bokeh: BokehJS plotting callback run at\", now());\n      run_inline_js();\n    });\n  }\n}(window));"
     },
     "metadata": {},
     "output_type": "display_data"
    },
    {
     "data": {
      "text/html": [
       "\n",
       "  <div class=\"bk-root\" id=\"4c0525bb-54bf-49d2-b746-b488aba2d971\" data-root-id=\"1003\"></div>\n"
      ]
     },
     "metadata": {},
     "output_type": "display_data"
    },
    {
     "data": {
      "application/javascript": [
       "(function(root) {\n",
       "  function embed_document(root) {\n",
       "  const docs_json = {\"f94bb4f3-d973-4fd4-b86d-fd1d8cc11bdc\":{\"defs\":[],\"roots\":{\"references\":[{\"attributes\":{\"below\":[{\"id\":\"1014\"}],\"center\":[{\"id\":\"1017\"},{\"id\":\"1021\"}],\"height\":700,\"left\":[{\"id\":\"1018\"}],\"renderers\":[{\"id\":\"1040\"}],\"title\":{\"id\":\"1004\"},\"toolbar\":{\"id\":\"1029\"},\"width\":900,\"x_range\":{\"id\":\"1006\"},\"x_scale\":{\"id\":\"1010\"},\"y_range\":{\"id\":\"1008\"},\"y_scale\":{\"id\":\"1012\"}},\"id\":\"1003\",\"subtype\":\"Figure\",\"type\":\"Plot\"},{\"attributes\":{},\"id\":\"1026\",\"type\":\"ResetTool\"},{\"attributes\":{\"coordinates\":null,\"formatter\":{\"id\":\"1047\"},\"group\":null,\"major_label_policy\":{\"id\":\"1048\"},\"ticker\":{\"id\":\"1015\"}},\"id\":\"1014\",\"type\":\"LinearAxis\"},{\"attributes\":{\"fill_alpha\":{\"value\":0.2},\"fill_color\":{\"field\":\"fill_color\"},\"hatch_alpha\":{\"value\":0.2},\"hatch_color\":{\"field\":\"hatch_color\"},\"line_alpha\":{\"value\":0.2},\"line_color\":{\"field\":\"line_color\"},\"x\":{\"field\":\"x\"},\"y\":{\"field\":\"y\"}},\"id\":\"1039\",\"type\":\"Scatter\"},{\"attributes\":{\"fill_alpha\":{\"value\":0.1},\"fill_color\":{\"field\":\"fill_color\"},\"hatch_alpha\":{\"value\":0.1},\"hatch_color\":{\"field\":\"hatch_color\"},\"line_alpha\":{\"value\":0.1},\"line_color\":{\"field\":\"line_color\"},\"x\":{\"field\":\"x\"},\"y\":{\"field\":\"y\"}},\"id\":\"1038\",\"type\":\"Scatter\"},{\"attributes\":{},\"id\":\"1012\",\"type\":\"LinearScale\"},{\"attributes\":{},\"id\":\"1044\",\"type\":\"BasicTickFormatter\"},{\"attributes\":{\"coordinates\":null,\"data_source\":{\"id\":\"1036\"},\"glyph\":{\"id\":\"1037\"},\"group\":null,\"hover_glyph\":null,\"muted_glyph\":{\"id\":\"1039\"},\"nonselection_glyph\":{\"id\":\"1038\"},\"view\":{\"id\":\"1041\"}},\"id\":\"1040\",\"type\":\"GlyphRenderer\"},{\"attributes\":{\"tools\":[{\"id\":\"1022\"},{\"id\":\"1023\"},{\"id\":\"1024\"},{\"id\":\"1025\"},{\"id\":\"1026\"},{\"id\":\"1027\"}]},\"id\":\"1029\",\"type\":\"Toolbar\"},{\"attributes\":{\"coordinates\":null,\"formatter\":{\"id\":\"1044\"},\"group\":null,\"major_label_policy\":{\"id\":\"1045\"},\"ticker\":{\"id\":\"1019\"}},\"id\":\"1018\",\"type\":\"LinearAxis\"},{\"attributes\":{\"bottom_units\":\"screen\",\"coordinates\":null,\"fill_alpha\":0.5,\"fill_color\":\"lightgrey\",\"group\":null,\"left_units\":\"screen\",\"level\":\"overlay\",\"line_alpha\":1.0,\"line_color\":\"black\",\"line_dash\":[4,4],\"line_width\":2,\"right_units\":\"screen\",\"syncable\":false,\"top_units\":\"screen\"},\"id\":\"1028\",\"type\":\"BoxAnnotation\"},{\"attributes\":{\"data\":{\"fill_color\":[\"#bcbd22\",\"#7f7f7f\",\"#2ca02c\",\"#bcbd22\",\"#2ca02c\",\"#bcbd22\",\"#bcbd22\",\"#17becf\",\"#2ca02c\",\"#2ca02c\",\"#ff7f0e\",\"#bcbd22\",\"#8c564b\",\"#8c564b\",\"#bcbd22\",\"#7f7f7f\",\"#ff7f0e\",\"#7f7f7f\",\"#d62728\",\"#2ca02c\",\"#8c564b\",\"#7f7f7f\",\"#d62728\",\"#9467bd\",\"#17becf\",\"#17becf\",\"#7f7f7f\",\"#7f7f7f\",\"#9467bd\",\"#9467bd\",\"#7f7f7f\",\"#7f7f7f\",\"#2ca02c\",\"#17becf\",\"#17becf\",\"#2ca02c\",\"#ff7f0e\",\"#17becf\",\"#2ca02c\",\"#e377c2\",\"#2ca02c\",\"#17becf\",\"#2ca02c\",\"#17becf\",\"#e377c2\",\"#bcbd22\",\"#2ca02c\",\"#7f7f7f\",\"#17becf\",\"#bcbd22\",\"#ff7f0e\",\"#9467bd\",\"#d62728\",\"#7f7f7f\",\"#8c564b\",\"#17becf\",\"#ff7f0e\",\"#e377c2\",\"#e377c2\",\"#7f7f7f\",\"#2ca02c\",\"#ff7f0e\",\"#8c564b\",\"#1f77b4\",\"#2ca02c\",\"#2ca02c\",\"#2ca02c\",\"#17becf\",\"#2ca02c\",\"#bcbd22\",\"#2ca02c\",\"#7f7f7f\",\"#ff7f0e\",\"#d62728\",\"#17becf\",\"#bcbd22\",\"#17becf\",\"#2ca02c\",\"#ff7f0e\",\"#ff7f0e\",\"#2ca02c\",\"#ff7f0e\",\"#7f7f7f\",\"#1f77b4\",\"#2ca02c\",\"#ff7f0e\",\"#9467bd\",\"#7f7f7f\",\"#8c564b\",\"#2ca02c\",\"#e377c2\",\"#8c564b\",\"#2ca02c\",\"#2ca02c\",\"#ff7f0e\",\"#bcbd22\",\"#e377c2\",\"#9467bd\",\"#bcbd22\",\"#e377c2\",\"#2ca02c\",\"#e377c2\",\"#2ca02c\",\"#d62728\",\"#9467bd\",\"#2ca02c\",\"#ff7f0e\",\"#9467bd\",\"#bcbd22\",\"#9467bd\",\"#1f77b4\",\"#7f7f7f\",\"#1f77b4\",\"#1f77b4\",\"#e377c2\",\"#1f77b4\",\"#9467bd\",\"#bcbd22\",\"#17becf\",\"#ff7f0e\",\"#2ca02c\",\"#17becf\",\"#7f7f7f\",\"#7f7f7f\",\"#ff7f0e\",\"#9467bd\",\"#9467bd\",\"#e377c2\",\"#d62728\",\"#1f77b4\",\"#7f7f7f\",\"#2ca02c\",\"#7f7f7f\",\"#8c564b\",\"#7f7f7f\",\"#2ca02c\",\"#d62728\",\"#e377c2\",\"#17becf\",\"#2ca02c\",\"#2ca02c\",\"#2ca02c\",\"#e377c2\",\"#2ca02c\",\"#8c564b\",\"#9467bd\",\"#1f77b4\",\"#e377c2\",\"#17becf\",\"#e377c2\",\"#e377c2\",\"#2ca02c\",\"#e377c2\",\"#9467bd\",\"#ff7f0e\",\"#bcbd22\",\"#7f7f7f\",\"#7f7f7f\",\"#7f7f7f\",\"#9467bd\",\"#e377c2\",\"#7f7f7f\",\"#ff7f0e\",\"#7f7f7f\",\"#9467bd\",\"#17becf\",\"#bcbd22\",\"#7f7f7f\",\"#17becf\",\"#17becf\",\"#9467bd\",\"#7f7f7f\",\"#ff7f0e\",\"#8c564b\",\"#17becf\",\"#17becf\",\"#2ca02c\",\"#2ca02c\",\"#e377c2\",\"#bcbd22\",\"#2ca02c\",\"#9467bd\",\"#ff7f0e\",\"#7f7f7f\",\"#e377c2\",\"#d62728\",\"#17becf\",\"#9467bd\",\"#9467bd\",\"#8c564b\",\"#7f7f7f\",\"#2ca02c\",\"#e377c2\",\"#8c564b\",\"#bcbd22\",\"#e377c2\",\"#17becf\",\"#17becf\",\"#9467bd\",\"#ff7f0e\",\"#1f77b4\",\"#bcbd22\",\"#17becf\",\"#e377c2\",\"#d62728\",\"#17becf\",\"#1f77b4\",\"#17becf\",\"#7f7f7f\",\"#7f7f7f\",\"#7f7f7f\",\"#17becf\",\"#1f77b4\",\"#17becf\",\"#2ca02c\",\"#17becf\",\"#bcbd22\",\"#8c564b\",\"#17becf\",\"#17becf\",\"#e377c2\",\"#17becf\",\"#bcbd22\",\"#e377c2\",\"#d62728\",\"#e377c2\",\"#e377c2\",\"#bcbd22\",\"#1f77b4\",\"#17becf\",\"#8c564b\",\"#2ca02c\",\"#17becf\",\"#9467bd\",\"#e377c2\",\"#bcbd22\",\"#7f7f7f\",\"#bcbd22\",\"#2ca02c\",\"#ff7f0e\",\"#7f7f7f\",\"#d62728\",\"#1f77b4\",\"#1f77b4\",\"#2ca02c\",\"#1f77b4\",\"#1f77b4\",\"#7f7f7f\",\"#8c564b\",\"#8c564b\",\"#bcbd22\",\"#2ca02c\",\"#17becf\",\"#ff7f0e\",\"#2ca02c\",\"#ff7f0e\",\"#7f7f7f\",\"#1f77b4\",\"#d62728\",\"#17becf\",\"#7f7f7f\",\"#d62728\",\"#8c564b\",\"#7f7f7f\",\"#2ca02c\",\"#7f7f7f\",\"#2ca02c\",\"#17becf\",\"#e377c2\",\"#1f77b4\",\"#17becf\",\"#d62728\",\"#bcbd22\",\"#9467bd\",\"#2ca02c\",\"#2ca02c\",\"#8c564b\",\"#17becf\",\"#17becf\",\"#d62728\",\"#2ca02c\",\"#ff7f0e\",\"#9467bd\",\"#7f7f7f\",\"#8c564b\",\"#ff7f0e\",\"#1f77b4\",\"#ff7f0e\",\"#7f7f7f\",\"#2ca02c\",\"#e377c2\",\"#ff7f0e\",\"#2ca02c\",\"#7f7f7f\",\"#e377c2\",\"#bcbd22\",\"#bcbd22\",\"#bcbd22\",\"#1f77b4\",\"#7f7f7f\",\"#bcbd22\",\"#17becf\",\"#bcbd22\",\"#7f7f7f\",\"#bcbd22\",\"#ff7f0e\",\"#17becf\",\"#2ca02c\",\"#2ca02c\",\"#17becf\",\"#2ca02c\",\"#7f7f7f\",\"#2ca02c\",\"#7f7f7f\",\"#bcbd22\",\"#9467bd\",\"#e377c2\",\"#7f7f7f\",\"#7f7f7f\",\"#17becf\",\"#1f77b4\",\"#e377c2\",\"#7f7f7f\",\"#d62728\",\"#17becf\",\"#e377c2\",\"#9467bd\",\"#2ca02c\",\"#17becf\",\"#ff7f0e\",\"#bcbd22\",\"#ff7f0e\",\"#2ca02c\",\"#e377c2\",\"#ff7f0e\",\"#1f77b4\",\"#ff7f0e\",\"#d62728\",\"#2ca02c\",\"#7f7f7f\",\"#17becf\",\"#bcbd22\",\"#17becf\",\"#2ca02c\",\"#ff7f0e\",\"#ff7f0e\",\"#bcbd22\",\"#9467bd\",\"#2ca02c\",\"#2ca02c\",\"#9467bd\",\"#1f77b4\",\"#ff7f0e\",\"#8c564b\",\"#17becf\",\"#17becf\",\"#17becf\",\"#bcbd22\",\"#bcbd22\",\"#2ca02c\",\"#9467bd\",\"#2ca02c\",\"#2ca02c\",\"#ff7f0e\",\"#bcbd22\",\"#7f7f7f\",\"#7f7f7f\",\"#e377c2\",\"#2ca02c\",\"#2ca02c\",\"#bcbd22\",\"#e377c2\",\"#2ca02c\",\"#2ca02c\",\"#7f7f7f\",\"#bcbd22\",\"#9467bd\",\"#8c564b\",\"#ff7f0e\",\"#7f7f7f\",\"#17becf\",\"#17becf\",\"#9467bd\",\"#e377c2\",\"#d62728\",\"#bcbd22\",\"#7f7f7f\",\"#bcbd22\",\"#bcbd22\",\"#17becf\",\"#2ca02c\",\"#ff7f0e\",\"#bcbd22\",\"#8c564b\",\"#9467bd\",\"#bcbd22\",\"#9467bd\",\"#17becf\",\"#bcbd22\",\"#e377c2\",\"#7f7f7f\",\"#7f7f7f\",\"#1f77b4\",\"#bcbd22\",\"#9467bd\",\"#2ca02c\",\"#2ca02c\",\"#1f77b4\",\"#1f77b4\",\"#17becf\",\"#2ca02c\",\"#9467bd\",\"#ff7f0e\",\"#17becf\",\"#d62728\",\"#d62728\",\"#2ca02c\",\"#2ca02c\",\"#9467bd\",\"#e377c2\",\"#e377c2\",\"#17becf\",\"#7f7f7f\",\"#2ca02c\",\"#d62728\",\"#e377c2\",\"#17becf\",\"#bcbd22\",\"#17becf\",\"#bcbd22\",\"#e377c2\",\"#7f7f7f\",\"#1f77b4\",\"#bcbd22\",\"#17becf\",\"#2ca02c\",\"#1f77b4\",\"#9467bd\",\"#9467bd\",\"#bcbd22\",\"#2ca02c\",\"#7f7f7f\",\"#ff7f0e\",\"#ff7f0e\",\"#2ca02c\",\"#17becf\",\"#2ca02c\",\"#ff7f0e\",\"#2ca02c\",\"#bcbd22\",\"#17becf\",\"#7f7f7f\",\"#d62728\",\"#d62728\",\"#17becf\",\"#d62728\",\"#d62728\",\"#1f77b4\",\"#9467bd\",\"#bcbd22\",\"#2ca02c\",\"#ff7f0e\",\"#1f77b4\",\"#e377c2\",\"#1f77b4\",\"#e377c2\",\"#2ca02c\",\"#8c564b\",\"#bcbd22\",\"#9467bd\",\"#9467bd\",\"#bcbd22\",\"#2ca02c\",\"#8c564b\",\"#2ca02c\",\"#17becf\",\"#7f7f7f\",\"#17becf\",\"#7f7f7f\",\"#ff7f0e\",\"#1f77b4\",\"#ff7f0e\",\"#bcbd22\",\"#17becf\",\"#1f77b4\",\"#7f7f7f\",\"#8c564b\",\"#8c564b\",\"#ff7f0e\",\"#e377c2\",\"#9467bd\",\"#9467bd\",\"#8c564b\",\"#2ca02c\",\"#17becf\",\"#1f77b4\",\"#ff7f0e\",\"#1f77b4\",\"#2ca02c\",\"#9467bd\",\"#ff7f0e\",\"#7f7f7f\",\"#7f7f7f\",\"#17becf\",\"#9467bd\",\"#7f7f7f\",\"#9467bd\",\"#1f77b4\",\"#9467bd\",\"#ff7f0e\",\"#17becf\",\"#2ca02c\",\"#17becf\",\"#ff7f0e\",\"#d62728\",\"#2ca02c\",\"#9467bd\",\"#d62728\",\"#7f7f7f\",\"#2ca02c\",\"#2ca02c\",\"#9467bd\",\"#2ca02c\",\"#ff7f0e\",\"#9467bd\",\"#e377c2\",\"#d62728\",\"#17becf\",\"#bcbd22\",\"#e377c2\",\"#1f77b4\",\"#17becf\",\"#d62728\",\"#9467bd\",\"#7f7f7f\",\"#7f7f7f\",\"#ff7f0e\",\"#9467bd\",\"#ff7f0e\",\"#17becf\",\"#8c564b\",\"#8c564b\",\"#ff7f0e\",\"#9467bd\",\"#ff7f0e\",\"#ff7f0e\",\"#7f7f7f\",\"#ff7f0e\",\"#17becf\",\"#e377c2\",\"#e377c2\",\"#1f77b4\",\"#9467bd\",\"#2ca02c\",\"#ff7f0e\",\"#ff7f0e\",\"#9467bd\",\"#bcbd22\",\"#e377c2\",\"#e377c2\",\"#8c564b\",\"#8c564b\",\"#17becf\",\"#bcbd22\",\"#2ca02c\",\"#2ca02c\",\"#17becf\",\"#bcbd22\",\"#1f77b4\",\"#7f7f7f\",\"#ff7f0e\",\"#e377c2\",\"#2ca02c\",\"#9467bd\",\"#1f77b4\",\"#17becf\",\"#9467bd\",\"#7f7f7f\",\"#9467bd\",\"#8c564b\",\"#17becf\",\"#1f77b4\",\"#ff7f0e\",\"#7f7f7f\",\"#17becf\",\"#8c564b\",\"#9467bd\",\"#9467bd\",\"#17becf\",\"#bcbd22\",\"#1f77b4\",\"#8c564b\",\"#9467bd\",\"#8c564b\",\"#9467bd\",\"#2ca02c\",\"#bcbd22\",\"#d62728\",\"#bcbd22\",\"#e377c2\",\"#ff7f0e\",\"#e377c2\",\"#7f7f7f\",\"#2ca02c\",\"#9467bd\",\"#9467bd\",\"#ff7f0e\",\"#9467bd\",\"#ff7f0e\",\"#e377c2\",\"#ff7f0e\",\"#17becf\",\"#ff7f0e\",\"#d62728\",\"#9467bd\",\"#bcbd22\",\"#17becf\",\"#2ca02c\",\"#17becf\",\"#7f7f7f\",\"#2ca02c\",\"#7f7f7f\",\"#d62728\",\"#9467bd\",\"#2ca02c\",\"#ff7f0e\",\"#17becf\",\"#7f7f7f\",\"#7f7f7f\",\"#2ca02c\",\"#7f7f7f\",\"#9467bd\",\"#2ca02c\",\"#7f7f7f\",\"#bcbd22\",\"#ff7f0e\",\"#17becf\",\"#9467bd\",\"#ff7f0e\",\"#2ca02c\",\"#9467bd\",\"#9467bd\",\"#bcbd22\",\"#bcbd22\",\"#7f7f7f\",\"#9467bd\",\"#1f77b4\",\"#9467bd\",\"#17becf\",\"#8c564b\",\"#2ca02c\",\"#17becf\",\"#17becf\",\"#17becf\",\"#7f7f7f\",\"#ff7f0e\",\"#9467bd\",\"#7f7f7f\",\"#2ca02c\",\"#ff7f0e\",\"#ff7f0e\",\"#ff7f0e\",\"#ff7f0e\",\"#9467bd\",\"#2ca02c\",\"#2ca02c\",\"#ff7f0e\",\"#9467bd\",\"#8c564b\",\"#d62728\",\"#bcbd22\",\"#2ca02c\",\"#9467bd\",\"#bcbd22\",\"#8c564b\",\"#2ca02c\",\"#9467bd\",\"#e377c2\",\"#2ca02c\",\"#ff7f0e\",\"#2ca02c\",\"#d62728\",\"#bcbd22\",\"#2ca02c\",\"#1f77b4\",\"#2ca02c\",\"#ff7f0e\",\"#8c564b\",\"#9467bd\",\"#d62728\",\"#d62728\",\"#2ca02c\",\"#ff7f0e\",\"#8c564b\",\"#d62728\",\"#2ca02c\",\"#e377c2\",\"#bcbd22\",\"#7f7f7f\",\"#2ca02c\",\"#e377c2\",\"#17becf\",\"#bcbd22\",\"#e377c2\",\"#17becf\"],\"hatch_color\":[\"#bcbd22\",\"#7f7f7f\",\"#2ca02c\",\"#bcbd22\",\"#2ca02c\",\"#bcbd22\",\"#bcbd22\",\"#17becf\",\"#2ca02c\",\"#2ca02c\",\"#ff7f0e\",\"#bcbd22\",\"#8c564b\",\"#8c564b\",\"#bcbd22\",\"#7f7f7f\",\"#ff7f0e\",\"#7f7f7f\",\"#d62728\",\"#2ca02c\",\"#8c564b\",\"#7f7f7f\",\"#d62728\",\"#9467bd\",\"#17becf\",\"#17becf\",\"#7f7f7f\",\"#7f7f7f\",\"#9467bd\",\"#9467bd\",\"#7f7f7f\",\"#7f7f7f\",\"#2ca02c\",\"#17becf\",\"#17becf\",\"#2ca02c\",\"#ff7f0e\",\"#17becf\",\"#2ca02c\",\"#e377c2\",\"#2ca02c\",\"#17becf\",\"#2ca02c\",\"#17becf\",\"#e377c2\",\"#bcbd22\",\"#2ca02c\",\"#7f7f7f\",\"#17becf\",\"#bcbd22\",\"#ff7f0e\",\"#9467bd\",\"#d62728\",\"#7f7f7f\",\"#8c564b\",\"#17becf\",\"#ff7f0e\",\"#e377c2\",\"#e377c2\",\"#7f7f7f\",\"#2ca02c\",\"#ff7f0e\",\"#8c564b\",\"#1f77b4\",\"#2ca02c\",\"#2ca02c\",\"#2ca02c\",\"#17becf\",\"#2ca02c\",\"#bcbd22\",\"#2ca02c\",\"#7f7f7f\",\"#ff7f0e\",\"#d62728\",\"#17becf\",\"#bcbd22\",\"#17becf\",\"#2ca02c\",\"#ff7f0e\",\"#ff7f0e\",\"#2ca02c\",\"#ff7f0e\",\"#7f7f7f\",\"#1f77b4\",\"#2ca02c\",\"#ff7f0e\",\"#9467bd\",\"#7f7f7f\",\"#8c564b\",\"#2ca02c\",\"#e377c2\",\"#8c564b\",\"#2ca02c\",\"#2ca02c\",\"#ff7f0e\",\"#bcbd22\",\"#e377c2\",\"#9467bd\",\"#bcbd22\",\"#e377c2\",\"#2ca02c\",\"#e377c2\",\"#2ca02c\",\"#d62728\",\"#9467bd\",\"#2ca02c\",\"#ff7f0e\",\"#9467bd\",\"#bcbd22\",\"#9467bd\",\"#1f77b4\",\"#7f7f7f\",\"#1f77b4\",\"#1f77b4\",\"#e377c2\",\"#1f77b4\",\"#9467bd\",\"#bcbd22\",\"#17becf\",\"#ff7f0e\",\"#2ca02c\",\"#17becf\",\"#7f7f7f\",\"#7f7f7f\",\"#ff7f0e\",\"#9467bd\",\"#9467bd\",\"#e377c2\",\"#d62728\",\"#1f77b4\",\"#7f7f7f\",\"#2ca02c\",\"#7f7f7f\",\"#8c564b\",\"#7f7f7f\",\"#2ca02c\",\"#d62728\",\"#e377c2\",\"#17becf\",\"#2ca02c\",\"#2ca02c\",\"#2ca02c\",\"#e377c2\",\"#2ca02c\",\"#8c564b\",\"#9467bd\",\"#1f77b4\",\"#e377c2\",\"#17becf\",\"#e377c2\",\"#e377c2\",\"#2ca02c\",\"#e377c2\",\"#9467bd\",\"#ff7f0e\",\"#bcbd22\",\"#7f7f7f\",\"#7f7f7f\",\"#7f7f7f\",\"#9467bd\",\"#e377c2\",\"#7f7f7f\",\"#ff7f0e\",\"#7f7f7f\",\"#9467bd\",\"#17becf\",\"#bcbd22\",\"#7f7f7f\",\"#17becf\",\"#17becf\",\"#9467bd\",\"#7f7f7f\",\"#ff7f0e\",\"#8c564b\",\"#17becf\",\"#17becf\",\"#2ca02c\",\"#2ca02c\",\"#e377c2\",\"#bcbd22\",\"#2ca02c\",\"#9467bd\",\"#ff7f0e\",\"#7f7f7f\",\"#e377c2\",\"#d62728\",\"#17becf\",\"#9467bd\",\"#9467bd\",\"#8c564b\",\"#7f7f7f\",\"#2ca02c\",\"#e377c2\",\"#8c564b\",\"#bcbd22\",\"#e377c2\",\"#17becf\",\"#17becf\",\"#9467bd\",\"#ff7f0e\",\"#1f77b4\",\"#bcbd22\",\"#17becf\",\"#e377c2\",\"#d62728\",\"#17becf\",\"#1f77b4\",\"#17becf\",\"#7f7f7f\",\"#7f7f7f\",\"#7f7f7f\",\"#17becf\",\"#1f77b4\",\"#17becf\",\"#2ca02c\",\"#17becf\",\"#bcbd22\",\"#8c564b\",\"#17becf\",\"#17becf\",\"#e377c2\",\"#17becf\",\"#bcbd22\",\"#e377c2\",\"#d62728\",\"#e377c2\",\"#e377c2\",\"#bcbd22\",\"#1f77b4\",\"#17becf\",\"#8c564b\",\"#2ca02c\",\"#17becf\",\"#9467bd\",\"#e377c2\",\"#bcbd22\",\"#7f7f7f\",\"#bcbd22\",\"#2ca02c\",\"#ff7f0e\",\"#7f7f7f\",\"#d62728\",\"#1f77b4\",\"#1f77b4\",\"#2ca02c\",\"#1f77b4\",\"#1f77b4\",\"#7f7f7f\",\"#8c564b\",\"#8c564b\",\"#bcbd22\",\"#2ca02c\",\"#17becf\",\"#ff7f0e\",\"#2ca02c\",\"#ff7f0e\",\"#7f7f7f\",\"#1f77b4\",\"#d62728\",\"#17becf\",\"#7f7f7f\",\"#d62728\",\"#8c564b\",\"#7f7f7f\",\"#2ca02c\",\"#7f7f7f\",\"#2ca02c\",\"#17becf\",\"#e377c2\",\"#1f77b4\",\"#17becf\",\"#d62728\",\"#bcbd22\",\"#9467bd\",\"#2ca02c\",\"#2ca02c\",\"#8c564b\",\"#17becf\",\"#17becf\",\"#d62728\",\"#2ca02c\",\"#ff7f0e\",\"#9467bd\",\"#7f7f7f\",\"#8c564b\",\"#ff7f0e\",\"#1f77b4\",\"#ff7f0e\",\"#7f7f7f\",\"#2ca02c\",\"#e377c2\",\"#ff7f0e\",\"#2ca02c\",\"#7f7f7f\",\"#e377c2\",\"#bcbd22\",\"#bcbd22\",\"#bcbd22\",\"#1f77b4\",\"#7f7f7f\",\"#bcbd22\",\"#17becf\",\"#bcbd22\",\"#7f7f7f\",\"#bcbd22\",\"#ff7f0e\",\"#17becf\",\"#2ca02c\",\"#2ca02c\",\"#17becf\",\"#2ca02c\",\"#7f7f7f\",\"#2ca02c\",\"#7f7f7f\",\"#bcbd22\",\"#9467bd\",\"#e377c2\",\"#7f7f7f\",\"#7f7f7f\",\"#17becf\",\"#1f77b4\",\"#e377c2\",\"#7f7f7f\",\"#d62728\",\"#17becf\",\"#e377c2\",\"#9467bd\",\"#2ca02c\",\"#17becf\",\"#ff7f0e\",\"#bcbd22\",\"#ff7f0e\",\"#2ca02c\",\"#e377c2\",\"#ff7f0e\",\"#1f77b4\",\"#ff7f0e\",\"#d62728\",\"#2ca02c\",\"#7f7f7f\",\"#17becf\",\"#bcbd22\",\"#17becf\",\"#2ca02c\",\"#ff7f0e\",\"#ff7f0e\",\"#bcbd22\",\"#9467bd\",\"#2ca02c\",\"#2ca02c\",\"#9467bd\",\"#1f77b4\",\"#ff7f0e\",\"#8c564b\",\"#17becf\",\"#17becf\",\"#17becf\",\"#bcbd22\",\"#bcbd22\",\"#2ca02c\",\"#9467bd\",\"#2ca02c\",\"#2ca02c\",\"#ff7f0e\",\"#bcbd22\",\"#7f7f7f\",\"#7f7f7f\",\"#e377c2\",\"#2ca02c\",\"#2ca02c\",\"#bcbd22\",\"#e377c2\",\"#2ca02c\",\"#2ca02c\",\"#7f7f7f\",\"#bcbd22\",\"#9467bd\",\"#8c564b\",\"#ff7f0e\",\"#7f7f7f\",\"#17becf\",\"#17becf\",\"#9467bd\",\"#e377c2\",\"#d62728\",\"#bcbd22\",\"#7f7f7f\",\"#bcbd22\",\"#bcbd22\",\"#17becf\",\"#2ca02c\",\"#ff7f0e\",\"#bcbd22\",\"#8c564b\",\"#9467bd\",\"#bcbd22\",\"#9467bd\",\"#17becf\",\"#bcbd22\",\"#e377c2\",\"#7f7f7f\",\"#7f7f7f\",\"#1f77b4\",\"#bcbd22\",\"#9467bd\",\"#2ca02c\",\"#2ca02c\",\"#1f77b4\",\"#1f77b4\",\"#17becf\",\"#2ca02c\",\"#9467bd\",\"#ff7f0e\",\"#17becf\",\"#d62728\",\"#d62728\",\"#2ca02c\",\"#2ca02c\",\"#9467bd\",\"#e377c2\",\"#e377c2\",\"#17becf\",\"#7f7f7f\",\"#2ca02c\",\"#d62728\",\"#e377c2\",\"#17becf\",\"#bcbd22\",\"#17becf\",\"#bcbd22\",\"#e377c2\",\"#7f7f7f\",\"#1f77b4\",\"#bcbd22\",\"#17becf\",\"#2ca02c\",\"#1f77b4\",\"#9467bd\",\"#9467bd\",\"#bcbd22\",\"#2ca02c\",\"#7f7f7f\",\"#ff7f0e\",\"#ff7f0e\",\"#2ca02c\",\"#17becf\",\"#2ca02c\",\"#ff7f0e\",\"#2ca02c\",\"#bcbd22\",\"#17becf\",\"#7f7f7f\",\"#d62728\",\"#d62728\",\"#17becf\",\"#d62728\",\"#d62728\",\"#1f77b4\",\"#9467bd\",\"#bcbd22\",\"#2ca02c\",\"#ff7f0e\",\"#1f77b4\",\"#e377c2\",\"#1f77b4\",\"#e377c2\",\"#2ca02c\",\"#8c564b\",\"#bcbd22\",\"#9467bd\",\"#9467bd\",\"#bcbd22\",\"#2ca02c\",\"#8c564b\",\"#2ca02c\",\"#17becf\",\"#7f7f7f\",\"#17becf\",\"#7f7f7f\",\"#ff7f0e\",\"#1f77b4\",\"#ff7f0e\",\"#bcbd22\",\"#17becf\",\"#1f77b4\",\"#7f7f7f\",\"#8c564b\",\"#8c564b\",\"#ff7f0e\",\"#e377c2\",\"#9467bd\",\"#9467bd\",\"#8c564b\",\"#2ca02c\",\"#17becf\",\"#1f77b4\",\"#ff7f0e\",\"#1f77b4\",\"#2ca02c\",\"#9467bd\",\"#ff7f0e\",\"#7f7f7f\",\"#7f7f7f\",\"#17becf\",\"#9467bd\",\"#7f7f7f\",\"#9467bd\",\"#1f77b4\",\"#9467bd\",\"#ff7f0e\",\"#17becf\",\"#2ca02c\",\"#17becf\",\"#ff7f0e\",\"#d62728\",\"#2ca02c\",\"#9467bd\",\"#d62728\",\"#7f7f7f\",\"#2ca02c\",\"#2ca02c\",\"#9467bd\",\"#2ca02c\",\"#ff7f0e\",\"#9467bd\",\"#e377c2\",\"#d62728\",\"#17becf\",\"#bcbd22\",\"#e377c2\",\"#1f77b4\",\"#17becf\",\"#d62728\",\"#9467bd\",\"#7f7f7f\",\"#7f7f7f\",\"#ff7f0e\",\"#9467bd\",\"#ff7f0e\",\"#17becf\",\"#8c564b\",\"#8c564b\",\"#ff7f0e\",\"#9467bd\",\"#ff7f0e\",\"#ff7f0e\",\"#7f7f7f\",\"#ff7f0e\",\"#17becf\",\"#e377c2\",\"#e377c2\",\"#1f77b4\",\"#9467bd\",\"#2ca02c\",\"#ff7f0e\",\"#ff7f0e\",\"#9467bd\",\"#bcbd22\",\"#e377c2\",\"#e377c2\",\"#8c564b\",\"#8c564b\",\"#17becf\",\"#bcbd22\",\"#2ca02c\",\"#2ca02c\",\"#17becf\",\"#bcbd22\",\"#1f77b4\",\"#7f7f7f\",\"#ff7f0e\",\"#e377c2\",\"#2ca02c\",\"#9467bd\",\"#1f77b4\",\"#17becf\",\"#9467bd\",\"#7f7f7f\",\"#9467bd\",\"#8c564b\",\"#17becf\",\"#1f77b4\",\"#ff7f0e\",\"#7f7f7f\",\"#17becf\",\"#8c564b\",\"#9467bd\",\"#9467bd\",\"#17becf\",\"#bcbd22\",\"#1f77b4\",\"#8c564b\",\"#9467bd\",\"#8c564b\",\"#9467bd\",\"#2ca02c\",\"#bcbd22\",\"#d62728\",\"#bcbd22\",\"#e377c2\",\"#ff7f0e\",\"#e377c2\",\"#7f7f7f\",\"#2ca02c\",\"#9467bd\",\"#9467bd\",\"#ff7f0e\",\"#9467bd\",\"#ff7f0e\",\"#e377c2\",\"#ff7f0e\",\"#17becf\",\"#ff7f0e\",\"#d62728\",\"#9467bd\",\"#bcbd22\",\"#17becf\",\"#2ca02c\",\"#17becf\",\"#7f7f7f\",\"#2ca02c\",\"#7f7f7f\",\"#d62728\",\"#9467bd\",\"#2ca02c\",\"#ff7f0e\",\"#17becf\",\"#7f7f7f\",\"#7f7f7f\",\"#2ca02c\",\"#7f7f7f\",\"#9467bd\",\"#2ca02c\",\"#7f7f7f\",\"#bcbd22\",\"#ff7f0e\",\"#17becf\",\"#9467bd\",\"#ff7f0e\",\"#2ca02c\",\"#9467bd\",\"#9467bd\",\"#bcbd22\",\"#bcbd22\",\"#7f7f7f\",\"#9467bd\",\"#1f77b4\",\"#9467bd\",\"#17becf\",\"#8c564b\",\"#2ca02c\",\"#17becf\",\"#17becf\",\"#17becf\",\"#7f7f7f\",\"#ff7f0e\",\"#9467bd\",\"#7f7f7f\",\"#2ca02c\",\"#ff7f0e\",\"#ff7f0e\",\"#ff7f0e\",\"#ff7f0e\",\"#9467bd\",\"#2ca02c\",\"#2ca02c\",\"#ff7f0e\",\"#9467bd\",\"#8c564b\",\"#d62728\",\"#bcbd22\",\"#2ca02c\",\"#9467bd\",\"#bcbd22\",\"#8c564b\",\"#2ca02c\",\"#9467bd\",\"#e377c2\",\"#2ca02c\",\"#ff7f0e\",\"#2ca02c\",\"#d62728\",\"#bcbd22\",\"#2ca02c\",\"#1f77b4\",\"#2ca02c\",\"#ff7f0e\",\"#8c564b\",\"#9467bd\",\"#d62728\",\"#d62728\",\"#2ca02c\",\"#ff7f0e\",\"#8c564b\",\"#d62728\",\"#2ca02c\",\"#e377c2\",\"#bcbd22\",\"#7f7f7f\",\"#2ca02c\",\"#e377c2\",\"#17becf\",\"#bcbd22\",\"#e377c2\",\"#17becf\"],\"line_color\":[\"#bcbd22\",\"#7f7f7f\",\"#2ca02c\",\"#bcbd22\",\"#2ca02c\",\"#bcbd22\",\"#bcbd22\",\"#17becf\",\"#2ca02c\",\"#2ca02c\",\"#ff7f0e\",\"#bcbd22\",\"#8c564b\",\"#8c564b\",\"#bcbd22\",\"#7f7f7f\",\"#ff7f0e\",\"#7f7f7f\",\"#d62728\",\"#2ca02c\",\"#8c564b\",\"#7f7f7f\",\"#d62728\",\"#9467bd\",\"#17becf\",\"#17becf\",\"#7f7f7f\",\"#7f7f7f\",\"#9467bd\",\"#9467bd\",\"#7f7f7f\",\"#7f7f7f\",\"#2ca02c\",\"#17becf\",\"#17becf\",\"#2ca02c\",\"#ff7f0e\",\"#17becf\",\"#2ca02c\",\"#e377c2\",\"#2ca02c\",\"#17becf\",\"#2ca02c\",\"#17becf\",\"#e377c2\",\"#bcbd22\",\"#2ca02c\",\"#7f7f7f\",\"#17becf\",\"#bcbd22\",\"#ff7f0e\",\"#9467bd\",\"#d62728\",\"#7f7f7f\",\"#8c564b\",\"#17becf\",\"#ff7f0e\",\"#e377c2\",\"#e377c2\",\"#7f7f7f\",\"#2ca02c\",\"#ff7f0e\",\"#8c564b\",\"#1f77b4\",\"#2ca02c\",\"#2ca02c\",\"#2ca02c\",\"#17becf\",\"#2ca02c\",\"#bcbd22\",\"#2ca02c\",\"#7f7f7f\",\"#ff7f0e\",\"#d62728\",\"#17becf\",\"#bcbd22\",\"#17becf\",\"#2ca02c\",\"#ff7f0e\",\"#ff7f0e\",\"#2ca02c\",\"#ff7f0e\",\"#7f7f7f\",\"#1f77b4\",\"#2ca02c\",\"#ff7f0e\",\"#9467bd\",\"#7f7f7f\",\"#8c564b\",\"#2ca02c\",\"#e377c2\",\"#8c564b\",\"#2ca02c\",\"#2ca02c\",\"#ff7f0e\",\"#bcbd22\",\"#e377c2\",\"#9467bd\",\"#bcbd22\",\"#e377c2\",\"#2ca02c\",\"#e377c2\",\"#2ca02c\",\"#d62728\",\"#9467bd\",\"#2ca02c\",\"#ff7f0e\",\"#9467bd\",\"#bcbd22\",\"#9467bd\",\"#1f77b4\",\"#7f7f7f\",\"#1f77b4\",\"#1f77b4\",\"#e377c2\",\"#1f77b4\",\"#9467bd\",\"#bcbd22\",\"#17becf\",\"#ff7f0e\",\"#2ca02c\",\"#17becf\",\"#7f7f7f\",\"#7f7f7f\",\"#ff7f0e\",\"#9467bd\",\"#9467bd\",\"#e377c2\",\"#d62728\",\"#1f77b4\",\"#7f7f7f\",\"#2ca02c\",\"#7f7f7f\",\"#8c564b\",\"#7f7f7f\",\"#2ca02c\",\"#d62728\",\"#e377c2\",\"#17becf\",\"#2ca02c\",\"#2ca02c\",\"#2ca02c\",\"#e377c2\",\"#2ca02c\",\"#8c564b\",\"#9467bd\",\"#1f77b4\",\"#e377c2\",\"#17becf\",\"#e377c2\",\"#e377c2\",\"#2ca02c\",\"#e377c2\",\"#9467bd\",\"#ff7f0e\",\"#bcbd22\",\"#7f7f7f\",\"#7f7f7f\",\"#7f7f7f\",\"#9467bd\",\"#e377c2\",\"#7f7f7f\",\"#ff7f0e\",\"#7f7f7f\",\"#9467bd\",\"#17becf\",\"#bcbd22\",\"#7f7f7f\",\"#17becf\",\"#17becf\",\"#9467bd\",\"#7f7f7f\",\"#ff7f0e\",\"#8c564b\",\"#17becf\",\"#17becf\",\"#2ca02c\",\"#2ca02c\",\"#e377c2\",\"#bcbd22\",\"#2ca02c\",\"#9467bd\",\"#ff7f0e\",\"#7f7f7f\",\"#e377c2\",\"#d62728\",\"#17becf\",\"#9467bd\",\"#9467bd\",\"#8c564b\",\"#7f7f7f\",\"#2ca02c\",\"#e377c2\",\"#8c564b\",\"#bcbd22\",\"#e377c2\",\"#17becf\",\"#17becf\",\"#9467bd\",\"#ff7f0e\",\"#1f77b4\",\"#bcbd22\",\"#17becf\",\"#e377c2\",\"#d62728\",\"#17becf\",\"#1f77b4\",\"#17becf\",\"#7f7f7f\",\"#7f7f7f\",\"#7f7f7f\",\"#17becf\",\"#1f77b4\",\"#17becf\",\"#2ca02c\",\"#17becf\",\"#bcbd22\",\"#8c564b\",\"#17becf\",\"#17becf\",\"#e377c2\",\"#17becf\",\"#bcbd22\",\"#e377c2\",\"#d62728\",\"#e377c2\",\"#e377c2\",\"#bcbd22\",\"#1f77b4\",\"#17becf\",\"#8c564b\",\"#2ca02c\",\"#17becf\",\"#9467bd\",\"#e377c2\",\"#bcbd22\",\"#7f7f7f\",\"#bcbd22\",\"#2ca02c\",\"#ff7f0e\",\"#7f7f7f\",\"#d62728\",\"#1f77b4\",\"#1f77b4\",\"#2ca02c\",\"#1f77b4\",\"#1f77b4\",\"#7f7f7f\",\"#8c564b\",\"#8c564b\",\"#bcbd22\",\"#2ca02c\",\"#17becf\",\"#ff7f0e\",\"#2ca02c\",\"#ff7f0e\",\"#7f7f7f\",\"#1f77b4\",\"#d62728\",\"#17becf\",\"#7f7f7f\",\"#d62728\",\"#8c564b\",\"#7f7f7f\",\"#2ca02c\",\"#7f7f7f\",\"#2ca02c\",\"#17becf\",\"#e377c2\",\"#1f77b4\",\"#17becf\",\"#d62728\",\"#bcbd22\",\"#9467bd\",\"#2ca02c\",\"#2ca02c\",\"#8c564b\",\"#17becf\",\"#17becf\",\"#d62728\",\"#2ca02c\",\"#ff7f0e\",\"#9467bd\",\"#7f7f7f\",\"#8c564b\",\"#ff7f0e\",\"#1f77b4\",\"#ff7f0e\",\"#7f7f7f\",\"#2ca02c\",\"#e377c2\",\"#ff7f0e\",\"#2ca02c\",\"#7f7f7f\",\"#e377c2\",\"#bcbd22\",\"#bcbd22\",\"#bcbd22\",\"#1f77b4\",\"#7f7f7f\",\"#bcbd22\",\"#17becf\",\"#bcbd22\",\"#7f7f7f\",\"#bcbd22\",\"#ff7f0e\",\"#17becf\",\"#2ca02c\",\"#2ca02c\",\"#17becf\",\"#2ca02c\",\"#7f7f7f\",\"#2ca02c\",\"#7f7f7f\",\"#bcbd22\",\"#9467bd\",\"#e377c2\",\"#7f7f7f\",\"#7f7f7f\",\"#17becf\",\"#1f77b4\",\"#e377c2\",\"#7f7f7f\",\"#d62728\",\"#17becf\",\"#e377c2\",\"#9467bd\",\"#2ca02c\",\"#17becf\",\"#ff7f0e\",\"#bcbd22\",\"#ff7f0e\",\"#2ca02c\",\"#e377c2\",\"#ff7f0e\",\"#1f77b4\",\"#ff7f0e\",\"#d62728\",\"#2ca02c\",\"#7f7f7f\",\"#17becf\",\"#bcbd22\",\"#17becf\",\"#2ca02c\",\"#ff7f0e\",\"#ff7f0e\",\"#bcbd22\",\"#9467bd\",\"#2ca02c\",\"#2ca02c\",\"#9467bd\",\"#1f77b4\",\"#ff7f0e\",\"#8c564b\",\"#17becf\",\"#17becf\",\"#17becf\",\"#bcbd22\",\"#bcbd22\",\"#2ca02c\",\"#9467bd\",\"#2ca02c\",\"#2ca02c\",\"#ff7f0e\",\"#bcbd22\",\"#7f7f7f\",\"#7f7f7f\",\"#e377c2\",\"#2ca02c\",\"#2ca02c\",\"#bcbd22\",\"#e377c2\",\"#2ca02c\",\"#2ca02c\",\"#7f7f7f\",\"#bcbd22\",\"#9467bd\",\"#8c564b\",\"#ff7f0e\",\"#7f7f7f\",\"#17becf\",\"#17becf\",\"#9467bd\",\"#e377c2\",\"#d62728\",\"#bcbd22\",\"#7f7f7f\",\"#bcbd22\",\"#bcbd22\",\"#17becf\",\"#2ca02c\",\"#ff7f0e\",\"#bcbd22\",\"#8c564b\",\"#9467bd\",\"#bcbd22\",\"#9467bd\",\"#17becf\",\"#bcbd22\",\"#e377c2\",\"#7f7f7f\",\"#7f7f7f\",\"#1f77b4\",\"#bcbd22\",\"#9467bd\",\"#2ca02c\",\"#2ca02c\",\"#1f77b4\",\"#1f77b4\",\"#17becf\",\"#2ca02c\",\"#9467bd\",\"#ff7f0e\",\"#17becf\",\"#d62728\",\"#d62728\",\"#2ca02c\",\"#2ca02c\",\"#9467bd\",\"#e377c2\",\"#e377c2\",\"#17becf\",\"#7f7f7f\",\"#2ca02c\",\"#d62728\",\"#e377c2\",\"#17becf\",\"#bcbd22\",\"#17becf\",\"#bcbd22\",\"#e377c2\",\"#7f7f7f\",\"#1f77b4\",\"#bcbd22\",\"#17becf\",\"#2ca02c\",\"#1f77b4\",\"#9467bd\",\"#9467bd\",\"#bcbd22\",\"#2ca02c\",\"#7f7f7f\",\"#ff7f0e\",\"#ff7f0e\",\"#2ca02c\",\"#17becf\",\"#2ca02c\",\"#ff7f0e\",\"#2ca02c\",\"#bcbd22\",\"#17becf\",\"#7f7f7f\",\"#d62728\",\"#d62728\",\"#17becf\",\"#d62728\",\"#d62728\",\"#1f77b4\",\"#9467bd\",\"#bcbd22\",\"#2ca02c\",\"#ff7f0e\",\"#1f77b4\",\"#e377c2\",\"#1f77b4\",\"#e377c2\",\"#2ca02c\",\"#8c564b\",\"#bcbd22\",\"#9467bd\",\"#9467bd\",\"#bcbd22\",\"#2ca02c\",\"#8c564b\",\"#2ca02c\",\"#17becf\",\"#7f7f7f\",\"#17becf\",\"#7f7f7f\",\"#ff7f0e\",\"#1f77b4\",\"#ff7f0e\",\"#bcbd22\",\"#17becf\",\"#1f77b4\",\"#7f7f7f\",\"#8c564b\",\"#8c564b\",\"#ff7f0e\",\"#e377c2\",\"#9467bd\",\"#9467bd\",\"#8c564b\",\"#2ca02c\",\"#17becf\",\"#1f77b4\",\"#ff7f0e\",\"#1f77b4\",\"#2ca02c\",\"#9467bd\",\"#ff7f0e\",\"#7f7f7f\",\"#7f7f7f\",\"#17becf\",\"#9467bd\",\"#7f7f7f\",\"#9467bd\",\"#1f77b4\",\"#9467bd\",\"#ff7f0e\",\"#17becf\",\"#2ca02c\",\"#17becf\",\"#ff7f0e\",\"#d62728\",\"#2ca02c\",\"#9467bd\",\"#d62728\",\"#7f7f7f\",\"#2ca02c\",\"#2ca02c\",\"#9467bd\",\"#2ca02c\",\"#ff7f0e\",\"#9467bd\",\"#e377c2\",\"#d62728\",\"#17becf\",\"#bcbd22\",\"#e377c2\",\"#1f77b4\",\"#17becf\",\"#d62728\",\"#9467bd\",\"#7f7f7f\",\"#7f7f7f\",\"#ff7f0e\",\"#9467bd\",\"#ff7f0e\",\"#17becf\",\"#8c564b\",\"#8c564b\",\"#ff7f0e\",\"#9467bd\",\"#ff7f0e\",\"#ff7f0e\",\"#7f7f7f\",\"#ff7f0e\",\"#17becf\",\"#e377c2\",\"#e377c2\",\"#1f77b4\",\"#9467bd\",\"#2ca02c\",\"#ff7f0e\",\"#ff7f0e\",\"#9467bd\",\"#bcbd22\",\"#e377c2\",\"#e377c2\",\"#8c564b\",\"#8c564b\",\"#17becf\",\"#bcbd22\",\"#2ca02c\",\"#2ca02c\",\"#17becf\",\"#bcbd22\",\"#1f77b4\",\"#7f7f7f\",\"#ff7f0e\",\"#e377c2\",\"#2ca02c\",\"#9467bd\",\"#1f77b4\",\"#17becf\",\"#9467bd\",\"#7f7f7f\",\"#9467bd\",\"#8c564b\",\"#17becf\",\"#1f77b4\",\"#ff7f0e\",\"#7f7f7f\",\"#17becf\",\"#8c564b\",\"#9467bd\",\"#9467bd\",\"#17becf\",\"#bcbd22\",\"#1f77b4\",\"#8c564b\",\"#9467bd\",\"#8c564b\",\"#9467bd\",\"#2ca02c\",\"#bcbd22\",\"#d62728\",\"#bcbd22\",\"#e377c2\",\"#ff7f0e\",\"#e377c2\",\"#7f7f7f\",\"#2ca02c\",\"#9467bd\",\"#9467bd\",\"#ff7f0e\",\"#9467bd\",\"#ff7f0e\",\"#e377c2\",\"#ff7f0e\",\"#17becf\",\"#ff7f0e\",\"#d62728\",\"#9467bd\",\"#bcbd22\",\"#17becf\",\"#2ca02c\",\"#17becf\",\"#7f7f7f\",\"#2ca02c\",\"#7f7f7f\",\"#d62728\",\"#9467bd\",\"#2ca02c\",\"#ff7f0e\",\"#17becf\",\"#7f7f7f\",\"#7f7f7f\",\"#2ca02c\",\"#7f7f7f\",\"#9467bd\",\"#2ca02c\",\"#7f7f7f\",\"#bcbd22\",\"#ff7f0e\",\"#17becf\",\"#9467bd\",\"#ff7f0e\",\"#2ca02c\",\"#9467bd\",\"#9467bd\",\"#bcbd22\",\"#bcbd22\",\"#7f7f7f\",\"#9467bd\",\"#1f77b4\",\"#9467bd\",\"#17becf\",\"#8c564b\",\"#2ca02c\",\"#17becf\",\"#17becf\",\"#17becf\",\"#7f7f7f\",\"#ff7f0e\",\"#9467bd\",\"#7f7f7f\",\"#2ca02c\",\"#ff7f0e\",\"#ff7f0e\",\"#ff7f0e\",\"#ff7f0e\",\"#9467bd\",\"#2ca02c\",\"#2ca02c\",\"#ff7f0e\",\"#9467bd\",\"#8c564b\",\"#d62728\",\"#bcbd22\",\"#2ca02c\",\"#9467bd\",\"#bcbd22\",\"#8c564b\",\"#2ca02c\",\"#9467bd\",\"#e377c2\",\"#2ca02c\",\"#ff7f0e\",\"#2ca02c\",\"#d62728\",\"#bcbd22\",\"#2ca02c\",\"#1f77b4\",\"#2ca02c\",\"#ff7f0e\",\"#8c564b\",\"#9467bd\",\"#d62728\",\"#d62728\",\"#2ca02c\",\"#ff7f0e\",\"#8c564b\",\"#d62728\",\"#2ca02c\",\"#e377c2\",\"#bcbd22\",\"#7f7f7f\",\"#2ca02c\",\"#e377c2\",\"#17becf\",\"#bcbd22\",\"#e377c2\",\"#17becf\"],\"x\":{\"__ndarray__\":\"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\",\"dtype\":\"float32\",\"order\":\"little\",\"shape\":[705]},\"y\":{\"__ndarray__\":\"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\",\"dtype\":\"float32\",\"order\":\"little\",\"shape\":[705]}},\"selected\":{\"id\":\"1050\"},\"selection_policy\":{\"id\":\"1049\"}},\"id\":\"1036\",\"type\":\"ColumnDataSource\"},{\"attributes\":{},\"id\":\"1019\",\"type\":\"BasicTicker\"},{\"attributes\":{},\"id\":\"1023\",\"type\":\"WheelZoomTool\"},{\"attributes\":{\"overlay\":{\"id\":\"1028\"}},\"id\":\"1024\",\"type\":\"BoxZoomTool\"},{\"attributes\":{\"source\":{\"id\":\"1036\"}},\"id\":\"1041\",\"type\":\"CDSView\"},{\"attributes\":{},\"id\":\"1047\",\"type\":\"BasicTickFormatter\"},{\"attributes\":{\"axis\":{\"id\":\"1018\"},\"coordinates\":null,\"dimension\":1,\"group\":null,\"ticker\":null},\"id\":\"1021\",\"type\":\"Grid\"},{\"attributes\":{},\"id\":\"1008\",\"type\":\"DataRange1d\"},{\"attributes\":{},\"id\":\"1022\",\"type\":\"PanTool\"},{\"attributes\":{},\"id\":\"1006\",\"type\":\"DataRange1d\"},{\"attributes\":{},\"id\":\"1025\",\"type\":\"SaveTool\"},{\"attributes\":{},\"id\":\"1010\",\"type\":\"LinearScale\"},{\"attributes\":{},\"id\":\"1049\",\"type\":\"UnionRenderers\"},{\"attributes\":{},\"id\":\"1015\",\"type\":\"BasicTicker\"},{\"attributes\":{},\"id\":\"1048\",\"type\":\"AllLabels\"},{\"attributes\":{},\"id\":\"1050\",\"type\":\"Selection\"},{\"attributes\":{},\"id\":\"1027\",\"type\":\"HelpTool\"},{\"attributes\":{\"coordinates\":null,\"group\":null,\"text\":\"t-SNE Clustering of 10 LDA Topics\"},\"id\":\"1004\",\"type\":\"Title\"},{\"attributes\":{\"fill_color\":{\"field\":\"fill_color\"},\"hatch_color\":{\"field\":\"hatch_color\"},\"line_color\":{\"field\":\"line_color\"},\"x\":{\"field\":\"x\"},\"y\":{\"field\":\"y\"}},\"id\":\"1037\",\"type\":\"Scatter\"},{\"attributes\":{},\"id\":\"1045\",\"type\":\"AllLabels\"},{\"attributes\":{\"axis\":{\"id\":\"1014\"},\"coordinates\":null,\"group\":null,\"ticker\":null},\"id\":\"1017\",\"type\":\"Grid\"}],\"root_ids\":[\"1003\"]},\"title\":\"Bokeh Application\",\"version\":\"2.4.3\"}};\n",
       "  const render_items = [{\"docid\":\"f94bb4f3-d973-4fd4-b86d-fd1d8cc11bdc\",\"root_ids\":[\"1003\"],\"roots\":{\"1003\":\"4c0525bb-54bf-49d2-b746-b488aba2d971\"}}];\n",
       "  root.Bokeh.embed.embed_items_notebook(docs_json, render_items);\n",
       "  }\n",
       "  if (root.Bokeh !== undefined) {\n",
       "    embed_document(root);\n",
       "  } else {\n",
       "    let attempts = 0;\n",
       "    const timer = setInterval(function(root) {\n",
       "      if (root.Bokeh !== undefined) {\n",
       "        clearInterval(timer);\n",
       "        embed_document(root);\n",
       "      } else {\n",
       "        attempts++;\n",
       "        if (attempts > 100) {\n",
       "          clearInterval(timer);\n",
       "          console.log(\"Bokeh: ERROR: Unable to run BokehJS code because BokehJS library is missing\");\n",
       "        }\n",
       "      }\n",
       "    }, 10, root)\n",
       "  }\n",
       "})(window);"
      ],
      "application/vnd.bokehjs_exec.v0+json": ""
     },
     "metadata": {
      "application/vnd.bokehjs_exec.v0+json": {
       "id": "1003"
      }
     },
     "output_type": "display_data"
    }
   ],
   "source": [
    "lda_model.plot_tsne()"
   ]
  },
  {
   "cell_type": "code",
   "execution_count": 41,
   "id": "732524c5",
   "metadata": {
    "execution": {
     "iopub.execute_input": "2023-03-15T23:30:08.541020Z",
     "iopub.status.busy": "2023-03-15T23:30:08.540651Z",
     "iopub.status.idle": "2023-03-15T23:30:09.227532Z",
     "shell.execute_reply": "2023-03-15T23:30:09.226146Z"
    },
    "papermill": {
     "duration": 0.739735,
     "end_time": "2023-03-15T23:30:09.229801",
     "exception": false,
     "start_time": "2023-03-15T23:30:08.490066",
     "status": "completed"
    },
    "tags": []
   },
   "outputs": [
    {
     "data": {
      "text/html": [
       "\n",
       "<link rel=\"stylesheet\" type=\"text/css\" href=\"https://cdn.jsdelivr.net/gh/bmabey/pyLDAvis@3.2.2/pyLDAvis/js/ldavis.v1.0.0.css\">\n",
       "\n",
       "\n",
       "<div id=\"ldavis_el191396576475472167415504997\"></div>\n",
       "<script type=\"text/javascript\">\n",
       "\n",
       "var ldavis_el191396576475472167415504997_data = {\"mdsDat\": {\"x\": [0.040321800032647306, 0.014950955320685591, 0.025420898582989643, 0.03413333489995083, 0.022202654276215573, 0.01867659479074577, 0.03256480019575487, -0.04011340730715577, -0.04900295723413699, -0.09915467355769675], \"y\": [-0.03064327761881201, 0.01371413754465264, 0.014160441537732358, 0.009841535437716811, -0.012247463361387335, -0.01825664487457064, 0.04431021249311568, -0.08611490794433174, 0.050221424436470416, 0.01501454234941378], \"topics\": [1, 2, 3, 4, 5, 6, 7, 8, 9, 10], \"cluster\": [1, 1, 1, 1, 1, 1, 1, 1, 1, 1], \"Freq\": [15.682156317319254, 13.36771276649055, 13.358424085852484, 12.29406374324712, 10.289242513593093, 9.307391150620344, 7.737508729188812, 6.242155358685522, 6.072260913805828, 5.649084421196996]}, \"tinfo\": {\"Term\": [\"la\", \"love\", \"holy\", \"good\", \"feel\", \"time\", \"oh\", \"man\", \"shake\", \"wear\", \"na\", \"bad\", \"da\", \"to\", \"hold\", \"baby\", \"whoa\", \"come\", \"people\", \"leave\", \"body\", \"go\", \"hey\", \"zandoo\", \"hang\", \"floy\", \"plane\", \"up\", \"know\", \"need\", \"kingston\", \"prettiest\", \"verb\", \"lolli\", \"clothing\", \"sandy\", \"umc\", \"rottenness\", \"jamaican\", \"witchcraft\", \"sacrifice\", \"version\", \"wolf\", \"magnetize\", \"halloween\", \"hm\", \"josie\", \"quit\", \"mirth\", \"unto\", \"seasonal\", \"directly\", \"detour\", \"cracker\", \"colorful\", \"professor\", \"wooh\", \"load\", \"tu\", \"closely\", \"lollipop\", \"baile\", \"soup\", \"fade\", \"hail\", \"ay\", \"love\", \"wide\", \"wear\", \"mean\", \"gusta\", \"yo\", \"away\", \"woman\", \"happy\", \"heart\", \"go\", \"want\", \"lover\", \"oh\", \"know\", \"life\", \"yeah\", \"to\", \"come\", \"get\", \"true\", \"wanna\", \"boy\", \"baby\", \"stand\", \"tell\", \"sweet\", \"hold\", \"like\", \"leave\", \"need\", \"little\", \"time\", \"be\", \"live\", \"yes\", \"old\", \"man\", \"think\", \"la\", \"breakdown\", \"grover\", \"lisa\", \"george\", \"zandoo\", \"superstitious\", \"less\", \"prevent\", \"aah\", \"zule\", \"commonly\", \"chuck\", \"g\", \"medicine\", \"traveling\", \"tangerine\", \"b\", \"superstition\", \"skinned\", \"georgie\", \"ghetto\", \"cavalry\", \"hero\", \"yuk\", \"apache\", \"boss\", \"bye\", \"chef\", \"nursery\", \"weekday\", \"saturday\", \"aquarius\", \"sinner\", \"saint\", \"bop\", \"diggy\", \"keepin\", \"touch\", \"shockin\", \"ah\", \"freddy\", \"stop\", \"tell\", \"child\", \"night\", \"feed\", \"say\", \"know\", \"house\", \"baby\", \"rock\", \"right\", \"like\", \"dance\", \"want\", \"get\", \"good\", \"go\", \"time\", \"turn\", \"woman\", \"hear\", \"little\", \"love\", \"think\", \"thing\", \"come\", \"let\", \"life\", \"man\", \"oh\", \"day\", \"feel\", \"sha\", \"crank\", \"khaki\", \"elbow\", \"whoop\", \"box\", \"adam\", \"nobleman\", \"f\", \"recognition\", \"serpent\", \"screech\", \"sharin\", \"janet\", \"army\", \"delay\", \"dignity\", \"combination\", \"faint\", \"pogo\", \"warrior\", \"jave\", \"besmirch\", \"sweetwood\", \"sagittarius\", \"footprint\", \"fillin\", \"leo\", \"checking\", \"juliet\", \"reaper\", \"y\", \"cry\", \"somebody\", \"moonchild\", \"truckin\", \"stone\", \"come\", \"fear\", \"wipe\", \"machine\", \"change\", \"waste\", \"ride\", \"baby\", \"home\", \"oh\", \"ooh\", \"yeah\", \"let\", \"wait\", \"hide\", \"way\", \"time\", \"like\", \"try\", \"god\", \"want\", \"girl\", \"know\", \"get\", \"thing\", \"go\", \"life\", \"day\", \"to\", \"love\", \"say\", \"man\", \"look\", \"feel\", \"harvester\", \"gypsy\", \"oasis\", \"ray\", \"snowman\", \"butterfly\", \"scowling\", \"swale\", \"stony\", \"skull\", \"headlong\", \"crouch\", \"howard\", \"hmph\", \"rub\", \"rubbin\", \"wheel\", \"splendor\", \"miracle\", \"brung\", \"verse\", \"hoppin\", \"hay\", \"afternoon\", \"jenny\", \"bounty\", \"potato\", \"believer\", \"vuelve\", \"repair\", \"july\", \"leader\", \"race\", \"vision\", \"seven\", \"rat\", \"quaalude\", \"round\", \"need\", \"deaky\", \"freaky\", \"hip\", \"crazy\", \"baby\", \"stop\", \"wanna\", \"get\", \"oooh\", \"ooh\", \"yes\", \"eye\", \"love\", \"know\", \"yeah\", \"mind\", \"lose\", \"hey\", \"oh\", \"to\", \"lie\", \"like\", \"find\", \"day\", \"little\", \"say\", \"let\", \"thing\", \"see\", \"look\", \"way\", \"go\", \"girl\", \"want\", \"time\", \"come\", \"woman\", \"rushin\", \"booty\", \"ehh\", \"metabolism\", \"doop\", \"ooouueehh\", \"oww\", \"simplex\", \"herpe\", \"rosa\", \"legendary\", \"bahia\", \"shake\", \"steady\", \"anna\", \"cocoa\", \"bunny\", \"rexia\", \"sioux\", \"loose\", \"uncle\", \"sue\", \"thorn\", \"d\\u00e9sol\\u00e9e\", \"meta\", \"endure\", \"toast\", \"din\", \"outrageous\", \"transplant\", \"husband\", \"ugh\", \"floy\", \"payday\", \"ahh\", \"feel\", \"shoo\", \"hey\", \"write\", \"be\", \"oh\", \"city\", \"da\", \"alright\", \"like\", \"time\", \"love\", \"song\", \"pass\", \"man\", \"right\", \"get\", \"go\", \"yeah\", \"heart\", \"look\", \"say\", \"know\", \"baby\", \"life\", \"let\", \"to\", \"come\", \"little\", \"think\", \"way\", \"eye\", \"tell\", \"good\", \"n\\u00eaga\", \"nicely\", \"badd\", \"chairman\", \"mau\", \"jar\", \"maker\", \"caper\", \"enlighten\", \"clover\", \"moonbeam\", \"bakin\", \"roach\", \"reject\", \"felt\", \"truer\", \"mull\", \"nevermore\", \"blissfully\", \"deal\", \"pig\", \"bonnie\", \"fish\", \"mu\", \"lou\", \"hissin\", \"reincarnate\", \"speech\", \"excitin\", \"realist\", \"tick\", \"timeless\", \"develop\", \"riot\", \"joseph\", \"good\", \"eternal\", \"party\", \"creep\", \"content\", \"summer\", \"hand\", \"light\", \"ride\", \"love\", \"wave\", \"wonder\", \"music\", \"come\", \"day\", \"spend\", \"soul\", \"well\", \"time\", \"like\", \"blue\", \"long\", \"tonight\", \"walk\", \"go\", \"way\", \"true\", \"get\", \"let\", \"tell\", \"home\", \"wanna\", \"bring\", \"know\", \"thing\", \"yeah\", \"say\", \"eye\", \"to\", \"away\", \"baby\", \"need\", \"oh\", \"feel\", \"life\", \"boogae\", \"alapala\", \"shango\", \"aganju\", \"vacant\", \"indian\", \"cy\", \"grandpapa\", \"trailer\", \"axe\", \"badly\", \"tribe\", \"harrisburg\", \"concrete\", \"princess\", \"jungle\", \"jackpot\", \"apartment\", \"wit\", \"dollar\", \"threaten\", \"ancestral\", \"kaleidoscope\", \"wanderer\", \"spoil\", \"egun\", \"yoruba\", \"tribal\", \"sightsee\", \"culture\", \"burchfield\", \"busy\", \"hallelujah\", \"anne\", \"lucky\", \"holdin\", \"brooklyn\", \"spunky\", \"freaky\", \"connecticut\", \"rag\", \"doggin\", \"knockin\", \"rise\", \"da\", \"ready\", \"deaky\", \"live\", \"long\", \"party\", \"dream\", \"alive\", \"oh\", \"run\", \"tell\", \"night\", \"yeah\", \"knock\", \"thing\", \"away\", \"leave\", \"know\", \"ooh\", \"sweet\", \"life\", \"like\", \"let\", \"way\", \"love\", \"get\", \"day\", \"dance\", \"little\", \"come\", \"to\", \"go\", \"time\", \"good\", \"zion\", \"holy\", \"mount\", \"chant\", \"solamente\", \"perder\", \"nuh\", \"nac\\u00ed\", \"classy\", \"syrian\", \"jamaica\", \"dem\", \"constantly\", \"stump\", \"ghost\", \"renew\", \"uncover\", \"screaming\", \"unfolding\", \"chaos\", \"stereo\", \"stir\", \"puppet\", \"continue\", \"knowledge\", \"filled\", \"halfway\", \"rival\", \"fue\", \"sue\\u00f1o\", \"robot\", \"judge\", \"body\", \"la\", \"wear\", \"minute\", \"nasty\", \"amazing\", \"takin\", \"aged\", \"man\", \"meat\", \"everybody\", \"lonely\", \"to\", \"hope\", \"stuff\", \"armageddon\", \"bad\", \"rock\", \"dead\", \"go\", \"light\", \"way\", \"town\", \"feel\", \"love\", \"hand\", \"know\", \"dream\", \"find\", \"come\", \"time\", \"get\", \"heart\", \"life\", \"baby\", \"good\", \"oh\", \"like\", \"let\", \"tonkitis\", \"mayor\", \"tonking\", \"ban\", \"mister\", \"thunder\", \"stew\", \"pattern\", \"bending\", \"honky\", \"downhill\", \"forgiveness\", \"barstool\", \"valley\", \"rythm\", \"desolation\", \"aid\", \"grinch\", \"clappin\", \"dumple\", \"knack\", \"sieve\", \"sharing\", \"walkand\", \"telescope\", \"troubled\", \"actually\", \"spotlessly\", \"holey\", \"nod\", \"mr\", \"knockin\", \"master\", \"disaster\", \"bueno\", \"golf\", \"wow\", \"war\", \"rescue\", \"thee\", \"lightning\", \"pogo\", \"fire\", \"argentina\", \"fighting\", \"time\", \"help\", \"hollywood\", \"gitchi\", \"na\", \"trouble\", \"know\", \"knock\", \"jah\", \"la\", \"get\", \"hear\", \"king\", \"ya\", \"hold\", \"look\", \"door\", \"let\", \"feel\", \"mountain\", \"music\", \"leave\", \"think\", \"go\", \"love\", \"yeah\", \"hey\", \"come\", \"say\", \"oh\", \"like\", \"tell\", \"to\", \"want\", \"man\", \"heritage\", \"lovable\", \"indelible\", \"indestructible\", \"lightly\", \"improbable\", \"invisible\", \"plane\", \"prize\", \"william\", \"intentione\", \"jude\", \"ballerina\", \"peggy\", \"dove\", \"hawk\", \"stoned\", \"minnesota\", \"reelin\", \"dakota\", \"benefit\", \"sport\", \"illuminate\", \"impossible\", \"midnight\", \"up\", \"recieve\", \"ogre\", \"negro\", \"liberal\", \"fennario\", \"collision\", \"whoa\", \"steppin\", \"heartbreak\", \"lion\", \"hang\", \"la\", \"bad\", \"florida\", \"na\", \"people\", \"o\", \"hold\", \"big\", \"road\", \"babe\", \"leave\", \"feel\", \"music\", \"hey\", \"blue\", \"go\", \"get\", \"come\", \"dance\", \"man\", \"to\", \"let\", \"want\", \"need\", \"love\", \"baby\", \"time\", \"know\", \"thing\", \"oh\"], \"Freq\": [404.0, 1701.0, 84.0, 465.0, 467.0, 690.0, 986.0, 411.0, 110.0, 130.0, 152.0, 144.0, 176.0, 500.0, 215.0, 829.0, 84.0, 729.0, 205.0, 283.0, 102.0, 773.0, 319.0, 58.0, 72.0, 55.0, 34.0, 40.0, 998.0, 317.0, 11.464733118041792, 6.7260193737547995, 5.463016886532926, 12.317464914388884, 4.557902762983523, 6.842463009087726, 3.7195970761668082, 2.9362994961339335, 7.951234340392729, 10.775705226734807, 4.952907935211648, 2.7554966674778387, 5.480296736207974, 2.740513355855706, 5.408733424675394, 8.857922238448902, 5.943533922825837, 1.989857878441277, 1.9897677289751092, 1.9894058768569958, 1.9892133489535972, 1.9891453057043507, 8.564986957104546, 6.487111686565739, 7.64627578555015, 1.9126071546744303, 1.8854478641974717, 13.033192098722852, 26.09497866742405, 2.4783751703161205, 7.488836249327788, 23.455999322668877, 8.966297261387288, 25.802080386556245, 5.465499054095307, 6.946494552355307, 640.2008985058911, 14.179116925496697, 62.9741889764839, 61.619680547996325, 14.34495807840254, 23.520257235026577, 112.66620525766051, 85.92965588642708, 37.5533790598355, 95.44103099867131, 195.81812123250003, 116.44689639187672, 26.256526510796782, 209.72383850114346, 205.6888550070145, 97.7776349235484, 143.01581729904896, 104.0230544802831, 127.95484230376728, 135.4769413543858, 37.99172307838334, 71.89498631287033, 37.92306022793616, 126.70755247654425, 43.62124399076638, 78.8296733233195, 51.10059306705635, 51.261227813923064, 92.99992267697888, 56.868693933776086, 58.0834885628151, 56.458046339741884, 76.96831606177064, 49.95835449114953, 48.18326478136445, 45.6170321362647, 46.41889643000446, 55.77411698867799, 48.07135527222557, 52.07167621822216, 19.043581641753356, 15.924277196016035, 21.82533454409526, 14.621550684828199, 47.73695856428489, 6.07775334628538, 3.781415014630313, 2.92588033683897, 14.637128128163521, 33.973937767097304, 4.275002130056694, 13.739114713935846, 24.580587617301312, 3.318944029366621, 1.989469781035156, 10.254320895578992, 5.9014235302578335, 1.966416073672169, 2.6251816886423756, 1.9568843782915766, 5.828785815762172, 2.591155880234176, 7.694990255959953, 3.228625595941854, 2.5452465246281655, 3.1669559731974783, 17.066781630454976, 1.8499962012847069, 1.8339987175890302, 6.537590492725698, 32.855654813698976, 16.860450535262537, 8.010822117724826, 8.9737663143766, 12.371673922195937, 20.688397147916238, 11.204327902589101, 48.3901719753827, 12.284324771853052, 63.26079069036853, 14.788279578333357, 62.186701916634505, 108.48047717746722, 41.94366355293162, 79.70938196317651, 17.79220402888459, 94.11635951364467, 178.71628462309832, 23.149447163658966, 149.67221529539825, 38.06726435589127, 58.228188103401564, 114.82924863629842, 46.767547643816116, 71.86681815094663, 103.99484064340378, 74.84182971199085, 97.14060306581483, 90.28321792520742, 39.525633795591546, 45.2542840208208, 37.94411595279342, 50.450927670644674, 97.19584792868531, 44.61671434005122, 48.48479558862562, 59.78828455603727, 52.179038129132074, 48.145213738785884, 49.23013081355629, 52.19489568846972, 41.96490532672614, 43.08855966484078, 22.508600579989732, 13.950624637869195, 3.818592387315733, 11.493032611724258, 5.368656123056504, 12.98879347311709, 2.6005231317446214, 4.533256996732363, 2.4404807645460966, 11.857133377549683, 4.187065321804995, 1.8179854717291761, 1.7997340914950142, 8.947859922627385, 2.393092855958929, 11.137110464292547, 2.3186254937920796, 1.6951120137342433, 1.6631983075644956, 21.762167834195147, 7.904045987944096, 2.20920642396593, 2.2173457785809405, 2.1289619443190793, 1.6257501447511506, 2.1606201688267244, 1.5878194648206196, 1.5931538631632078, 2.1139028161336593, 2.1286744105927293, 5.108118247818752, 3.0966249821609413, 88.69045499247026, 57.01481873512411, 9.620792477293781, 11.06976159849444, 11.27722392634438, 218.8466569541721, 15.72351512555728, 5.675377283466804, 9.933035139971711, 48.53531693030184, 12.575719289926408, 46.42363719192425, 196.31321816119515, 70.00040913862077, 220.91354500116654, 70.21824351446107, 140.383861813037, 99.48241066611384, 38.54519706390607, 20.977430734821013, 73.02447439063863, 108.29316414451684, 100.50113638170879, 41.23756191344375, 32.63843112082996, 64.45591485690372, 47.08778160477517, 110.01438563623648, 89.32633375826381, 55.387967067765, 84.23308125784287, 53.71950327379604, 48.18478700847863, 55.320858592448744, 94.56683771544444, 45.82586192010762, 45.77344611104223, 39.8384209313216, 39.92945734100044, 13.349899675257443, 16.854996673718787, 9.2815522929015, 12.394142639323762, 4.780039346891648, 5.388747515888367, 3.610920492111443, 6.468763959507583, 3.5633523531066316, 2.139055699045042, 3.4907082441992277, 3.4756068614031688, 2.099800904086263, 2.0691718887949873, 5.490862587992045, 5.375765336469724, 13.035008816188897, 1.935986802576337, 24.503686171555813, 1.9205712634276113, 4.469451790725904, 8.853004680140545, 2.449133427139244, 1.809045020774764, 2.402493745524121, 4.236717980073246, 2.955154749637682, 2.9890502043767144, 1.7624471283458327, 4.053579575593194, 10.511379527556462, 17.019498576069683, 21.016761077800666, 15.437335404968252, 11.192059491200379, 15.736889141066868, 14.234621977589596, 39.571389833368976, 110.64716139901375, 18.289398198820333, 19.416264744898086, 22.315476556799346, 28.9876874820013, 191.47326061586182, 57.98431883312264, 85.0256272793979, 149.66208052940092, 13.944504731370607, 62.096370821310586, 51.021595385164076, 54.347896613046935, 220.85273007624988, 152.9055821386755, 117.28828706933871, 50.373782370641386, 39.093801381518055, 65.87227256232042, 129.700143407233, 79.48332318647853, 34.617300492537794, 94.51612648653412, 51.323861976902776, 59.406905326194014, 53.59045630565571, 59.45561283506942, 62.70274469553037, 53.42119535245377, 34.20764454176051, 45.05752926004636, 48.74568747590267, 62.138179673001915, 40.40119131229521, 45.74024066977669, 50.288166652521255, 48.616296356152766, 39.802239197543116, 16.313946557278587, 25.700785519110795, 5.96452218942377, 3.2592754000988227, 16.091475644814203, 5.812510548710516, 10.070630476212777, 2.465114974839411, 2.465053460817414, 2.4648160454950574, 2.4631457032054422, 3.075693899220062, 80.59701299667942, 18.50082887877699, 23.13855327615134, 4.061630562897334, 2.336286302583516, 3.9526129031772808, 13.105313450152117, 15.718558304610994, 2.2479612192262537, 12.410776937976003, 1.6700074599470103, 1.6697468997167113, 1.6695469277120918, 1.6693571394669666, 4.980654989115292, 6.998005488919577, 2.1697857437660075, 2.1856053397775455, 6.5150743321584885, 3.2793306171300176, 31.094840246878878, 3.2160730120678864, 14.377626688778284, 142.36923094607738, 10.835633666510565, 79.01621701863073, 17.21095842731725, 61.86790167335318, 173.70162805928354, 26.013153311347352, 44.452180142606124, 23.684384680595937, 102.79362242150722, 102.57440043692036, 181.37385109426376, 38.75464032967088, 24.212483588104146, 63.05825354677732, 41.95125948084903, 83.36110998339679, 80.52715610973233, 71.66146723398032, 42.56325281627059, 40.015579851935534, 45.1380330967874, 66.55758258300597, 57.51113876539934, 40.70750932168105, 42.67328514875482, 42.699691328525326, 47.03977509001979, 35.28057853800947, 33.44549058793002, 34.18072592916154, 30.998758224774523, 32.01573848484383, 31.73747291430041, 5.769937502182668, 2.931117576385155, 5.770141096109837, 5.071022626672267, 4.817085913750262, 2.6817721484514307, 1.9863768052542057, 1.9860803471865824, 1.9857064713185004, 1.984770013693717, 2.579997889125868, 1.8589177018225047, 1.8302016530676242, 1.8019562524313997, 1.7747336600435473, 2.313247413625002, 2.391495222233185, 5.439595003222055, 2.9320778548716184, 23.152954494280106, 2.7117739654355693, 2.6540493179683042, 3.622219953666541, 1.0407224668577433, 1.0406474683635485, 1.0405683756587527, 1.0405450200482775, 1.04051943123202, 1.0404908648080526, 1.040464159388904, 2.56908644567271, 1.5344916163313471, 1.9857924497411255, 1.9961476388539665, 8.2164524013791, 168.69378024444626, 1.9859156482601252, 24.299156294957015, 5.928628732884168, 5.220646297495003, 12.791030032799156, 46.325936378017424, 43.36333581091291, 36.956816300819234, 246.62321708106475, 7.464799999114657, 22.519258532641985, 26.472865008972445, 102.67647743928882, 58.58277614362999, 15.707476191595397, 22.316715700994898, 35.73949285118601, 84.99821798791581, 80.92444568603823, 26.205273359293514, 40.61278855448109, 25.414807840529708, 27.025607260995955, 76.83178939606408, 49.20102207691843, 23.818227985682384, 73.6367031741811, 50.76750278422959, 48.35417257855877, 33.88405318126922, 39.2288530654369, 25.284900771359453, 66.53389987718973, 37.960832866933856, 46.99934022727175, 35.877370976195834, 28.82292402841427, 34.58572643812194, 30.825618310019554, 35.40057856403034, 30.239887142177363, 32.220532238690375, 28.41136802356635, 27.07879626751902, 8.503026640260105, 6.819095301613898, 5.975848936135267, 5.134335641245452, 4.9503591054767755, 20.505730812859696, 4.915185291469556, 2.6088863663848776, 2.4046733461349894, 1.767498387258047, 1.7674923535361255, 1.7672069120759963, 2.585286313998696, 11.821933863833472, 2.0542965065547674, 17.80917075389676, 1.4235573630165348, 1.4512572520929206, 5.160287762205264, 7.934758332834107, 0.9260390864438888, 0.9259493541691598, 0.9258741647113696, 0.9258684404110852, 0.9258254308035426, 0.9258181593950732, 0.9257643973856451, 0.9256897494157197, 0.9255624224120956, 0.9256789196584247, 1.7880441386654358, 1.8344347964354162, 17.05501863573164, 1.3751269978154732, 15.14231640977204, 6.816933682057841, 5.481998388936759, 4.63997980851373, 18.668115316706775, 1.3563554700746225, 2.927473381690893, 11.005102823505235, 6.9782184726557395, 21.829931650550094, 49.36667754998625, 14.65217273378475, 12.730528222515952, 48.19927674568712, 43.93876853856958, 15.592126356533555, 36.02274321048252, 12.003417080051232, 102.6113042965999, 35.16449175213938, 55.27581394349851, 39.610447485487875, 62.31033910912506, 15.900533090560748, 40.76401590492671, 38.018049874341266, 35.43292616141281, 66.66072811335737, 32.18894229302178, 27.749333416291357, 35.747912437129095, 46.51766668816167, 37.58932268023814, 33.784374711584064, 60.79823269971941, 44.23723912498954, 30.53355386270196, 24.490286902611338, 29.073999624123797, 37.09320345359718, 31.792743976772837, 31.951153002676488, 26.77848466193172, 25.131980345653343, 20.189564996916786, 68.63950457145421, 19.081521720666224, 5.52194300008872, 2.612683875592288, 2.580904907103693, 4.476970397277394, 2.5223479115810896, 3.369890914326029, 1.6538019032932, 1.6241986463808342, 19.882111689376924, 1.5024886019233359, 1.4798701629859883, 10.845141387653094, 0.9725062552241459, 0.9723762641957704, 0.9723421906952936, 0.9722798474224433, 0.9722581302463152, 0.9722477709036795, 0.9722343536827958, 0.97222611613323, 0.9721917306043606, 0.9721660194648067, 0.9721589676231329, 1.8948947596444996, 4.999235033712923, 0.9432640151620695, 0.9335397127109925, 7.946181945963774, 13.454245923147683, 34.90126137863991, 115.73744758670873, 41.034559361831924, 16.34994728917237, 3.88773198664472, 9.760054414683433, 5.494657240454202, 1.3634964280994906, 81.35749029630043, 3.8901113903556674, 30.23892414933304, 16.722110792137777, 73.44373134542766, 18.272276833211713, 9.085335201829103, 9.39957924568376, 26.928100209734552, 23.814080814926307, 11.81765151202931, 75.99898127808815, 26.39364399994163, 42.808054857297996, 15.803793758996003, 45.09081663523019, 91.05643906755014, 23.82316308775668, 56.472398234008, 23.166433684663215, 21.894464170543966, 33.16435657909972, 31.769173293293143, 32.48543671521226, 22.838012069137665, 24.21531438068673, 29.06504238298913, 24.30217110330859, 27.384576280619555, 20.264280070724077, 19.356627918420163, 5.139638181159684, 13.753840818443852, 2.3301658964038383, 2.929063459453496, 10.900611779637547, 13.600048683306, 1.6368117466600254, 2.1560055357060506, 1.613340777837865, 8.861567827019941, 1.583522631965449, 2.580792275105504, 1.54089029604653, 14.90243885709049, 1.4660185696402364, 4.348861778240672, 2.354479359277909, 5.077233156980818, 3.7453057900888815, 0.9243849836963735, 0.9242183425252758, 0.9241978842102813, 0.9241660129480495, 0.92411168003434, 0.9240560115629751, 0.9240600182359414, 0.9239772136613048, 0.9239678647577169, 0.9238862743264035, 0.9236975964539912, 15.943978594078015, 8.32395293406126, 5.721030711433979, 5.630918450964267, 3.961408003397732, 2.280148290893399, 10.662387146495522, 19.891191562227863, 2.107416005572261, 4.381031719729965, 4.939652749150547, 13.536175031363491, 27.950618604824424, 3.5814357797118346, 4.128952739956523, 98.88026738356771, 18.98519004400113, 6.618259315665205, 4.774971205376328, 25.583394625912426, 15.517452958611194, 76.68713390062517, 13.887806478772541, 6.879136463615278, 40.899336702843314, 55.15721795176037, 20.64439168626841, 11.255353376583091, 15.928151993032527, 23.227834193419614, 26.152750139281345, 13.683040721671627, 30.503289863594564, 29.639324901158094, 10.883752671110082, 14.405402576619677, 20.733130993468343, 19.920906020260485, 29.454965493717463, 38.00248009483614, 23.30171821423255, 18.876496048457113, 22.17697080702521, 17.222576415302715, 19.595911906045952, 18.484997962204872, 16.71295286817249, 16.43739672744594, 16.015811198332216, 14.937895727384122, 10.224133703227492, 3.1384633647640237, 3.1376984473534035, 2.1261627176751485, 2.1256607547435484, 2.1254974247707548, 2.1248479452800484, 23.787895917599382, 6.710234596077547, 4.581220494008764, 8.239188836081615, 6.698732822585427, 2.8873795635867894, 7.287238500986946, 2.2269626123505737, 1.1136297263580328, 1.1135958404715611, 1.1134892128821303, 1.113209654318739, 1.1130072426235484, 1.6581001305248562, 5.451668043149978, 1.6101763378645824, 2.1258432867186756, 23.01891039335525, 22.26442622127371, 1.0663014216760212, 5.349762790857848, 3.1821158414345447, 3.1617739178796977, 2.535578323391211, 4.496840570387955, 36.329161899360805, 4.706294204599297, 9.486037649467285, 16.381086322173083, 26.366586576630755, 108.21430916739946, 38.76044081962771, 5.460070387559491, 36.400237320329204, 43.36897559719173, 18.526554507088864, 41.832417816075235, 22.858974430950852, 21.69507465315325, 16.844375969260884, 42.42133102873805, 44.6253088442949, 16.232243243564046, 27.54247924736841, 17.01329575788665, 39.25173014880114, 39.4068967856376, 32.62382425068331, 18.262804839266252, 23.624681608631807, 24.33367013772468, 23.602947652860706, 21.375549719821926, 20.011958153987734, 30.670435728267122, 20.43066120346795, 20.009984639959626, 18.31706743880287, 17.71228659503492, 18.273910373792564], \"Total\": [404.0, 1701.0, 84.0, 465.0, 467.0, 690.0, 986.0, 411.0, 110.0, 130.0, 152.0, 144.0, 176.0, 500.0, 215.0, 829.0, 84.0, 729.0, 205.0, 283.0, 102.0, 773.0, 319.0, 58.0, 72.0, 55.0, 34.0, 40.0, 998.0, 317.0, 12.288540335855242, 7.5498138872961045, 6.590330802221251, 15.128816879398684, 5.642059640757185, 8.4913509527218, 4.718801906484628, 3.760135294639288, 10.387845524664385, 14.147549384253892, 6.560469972622972, 3.753956609084486, 7.468516114011563, 3.7508458407567877, 7.525293796317074, 12.35918751648923, 8.394411349797567, 2.8136454289478223, 2.8135529407738824, 2.813192578375701, 2.8130004039706202, 2.812934370301878, 12.169465328014681, 9.357079203256284, 11.103628112326891, 2.8186283634270164, 2.8087509833462296, 19.4999639789121, 39.10589678851003, 3.7325299945271744, 11.312228917984514, 37.04086916956058, 13.952316116565992, 44.12725525020173, 8.372100997591664, 11.084843072541581, 1701.340969991972, 24.825183722945226, 130.63839836428627, 137.534668017421, 25.882077962395293, 47.45568713697149, 318.6138561765862, 237.3870792070721, 86.42859062704919, 301.6328358297393, 773.3457606582393, 402.9980341335589, 59.83761535301389, 986.3202857530445, 998.5539175520138, 378.10944847912464, 677.166775220398, 500.7435100783431, 729.9806877898434, 806.7448000206318, 119.78512087618219, 324.5222259362591, 120.49331717719703, 829.507481698446, 158.33352045530518, 426.37518579505337, 206.20832037120243, 215.3827305358774, 686.1614865887254, 283.7107183146701, 317.8350310662426, 310.7281911035118, 690.8433931876045, 245.74920612093067, 224.21715659390438, 194.58862158594772, 206.31646729851278, 411.99790653101945, 256.6316241673271, 404.33172224992654, 19.867410114233984, 17.04366513759713, 23.65260464623415, 16.086219607774133, 58.897067795959344, 7.531825476735844, 4.707490593984407, 3.75872679913247, 18.84479278343318, 44.694745087053455, 5.652361420384347, 18.50353807096055, 33.75886602916671, 4.688134239283283, 2.813277491083351, 14.523957010834113, 8.36458066401452, 2.8129431591667586, 3.762493053231269, 2.8151606326164416, 8.391472489195198, 3.7633796764962, 11.222048394380057, 4.720164859284177, 3.7621237788895647, 4.718567018505229, 25.536372200131527, 2.812694192005913, 2.8017771454904543, 10.032326394066052, 50.42907210531381, 26.641811859386003, 12.782450409423273, 14.607832923872992, 21.58806357846583, 38.42013233303473, 19.727916555661267, 107.36327646042064, 22.50659936108668, 162.68780119718767, 29.724924018115743, 187.09789861541898, 426.37518579505337, 121.93262332557998, 290.9393968577408, 38.346688264136276, 383.8161295092355, 998.5539175520138, 56.154340403321605, 829.507481698446, 122.21462860433311, 239.2014270883156, 686.1614865887254, 189.54571922895315, 402.9980341335589, 806.7448000206318, 465.691194930365, 773.3457606582393, 690.8433931876045, 163.16834595949905, 237.3870792070721, 159.11832200176292, 310.7281911035118, 1701.340969991972, 256.6316241673271, 347.8279125121074, 729.9806877898434, 460.8395232011586, 378.10944847912464, 411.99790653101945, 986.3202857530445, 334.05431386295834, 467.0775477478686, 27.13945647568963, 16.945316728488546, 4.690713372034113, 14.782141851851504, 7.426454215910859, 18.527133039908826, 3.75184462157481, 6.580298101981101, 3.7394066343382577, 18.28235624476368, 6.458415377539651, 2.806342880545035, 2.804231205060978, 14.026995981215379, 3.757982021422983, 17.933965971272226, 3.74877707664574, 2.798217902567542, 2.754022491054691, 36.03861185439196, 13.120518264939939, 3.7113709573984948, 3.749279715465627, 3.660986529602245, 2.797141994956159, 3.7487647185763673, 2.784379812607196, 2.794885666641648, 3.7145627855687406, 3.7449671120258428, 9.389124866217761, 5.578220897142987, 184.3821652912603, 125.4337997665453, 19.536447552473405, 23.242499059511726, 23.907227402216424, 729.9806877898434, 35.66850709757981, 11.227058989816827, 21.600578235412886, 143.16746451057944, 28.757081843074634, 141.82368584576994, 829.507481698446, 237.09741843009633, 986.3202857530445, 251.66886650787632, 677.166775220398, 460.8395232011586, 132.483259142478, 59.22654768597587, 384.39093352656715, 690.8433931876045, 686.1614865887254, 176.76697115594703, 124.70792793598058, 402.9980341335589, 242.53640709132844, 998.5539175520138, 806.7448000206318, 347.8279125121074, 773.3457606582393, 378.10944847912464, 334.05431386295834, 500.7435100783431, 1701.340969991972, 383.8161295092355, 411.99790653101945, 286.0786011769009, 467.0775477478686, 14.180424291682108, 18.155093682829357, 10.098084513313857, 15.05142374349549, 5.986993193879939, 6.9792548880760705, 4.90761843624127, 8.792067900961742, 4.900123200055352, 2.9582182109202964, 4.89264013179194, 4.885142539978926, 2.9515276547279203, 2.953225731043876, 7.878447025306977, 7.854975302479845, 19.62570190042974, 2.9232217254386543, 37.203504126699144, 2.9421385014501444, 6.884391866728605, 13.790529065074075, 3.890826025868815, 2.903028314515658, 3.9135803120643575, 6.936582493744956, 4.8473376591783754, 4.909023873501609, 2.9148279527562697, 6.774179750260053, 17.772828101673607, 29.181046391774313, 37.59484524087546, 28.435288114553373, 20.192833483245163, 29.147263929100586, 29.34019156996793, 96.06209512164747, 317.8350310662426, 39.84350429951752, 44.39063381620777, 52.936675519358566, 74.32832674609894, 829.507481698446, 187.09789861541898, 324.5222259362591, 806.7448000206318, 31.57171356842261, 251.66886650787632, 194.58862158594772, 217.28094149342257, 1701.340969991972, 998.5539175520138, 677.166775220398, 196.8027011851515, 139.5192404135008, 319.99982242818345, 986.3202857530445, 500.7435100783431, 119.63260831031545, 686.1614865887254, 236.01265705513964, 334.05431386295834, 310.7281911035118, 383.8161295092355, 460.8395232011586, 347.8279125121074, 141.93891540460822, 286.0786011769009, 384.39093352656715, 773.3457606582393, 242.53640709132844, 402.9980341335589, 690.8433931876045, 729.9806877898434, 237.3870792070721, 17.67748243487295, 29.14639287585421, 7.367668703255421, 4.098335134413369, 20.440220812141405, 7.3956679140713035, 13.21980059469279, 3.304160247594892, 3.3040992082688225, 3.3038617459228425, 3.302202692301167, 4.132160052153418, 110.28862944252279, 25.629871586644022, 32.152154780227704, 5.734240960569286, 3.3274789205906723, 5.81324249045871, 19.371043531459975, 23.341595996170877, 3.3421269142583663, 18.514402357202226, 2.5090449335139366, 2.508788110920673, 2.508590008900102, 2.5083974494660466, 7.5610171138071625, 10.686015231254414, 3.3211025127081015, 3.3706960662253955, 10.069750689848322, 5.062153173271799, 55.609571185119684, 5.05443068226161, 26.687360690671614, 467.0775477478686, 23.42801613795401, 319.99982242818345, 45.05080654183294, 245.74920612093067, 986.3202857530445, 78.87953612120309, 176.78985481920714, 76.88114614146276, 686.1614865887254, 690.8433931876045, 1701.340969991972, 168.0718565338586, 83.44180952018483, 411.99790653101945, 239.2014270883156, 806.7448000206318, 773.3457606582393, 677.166775220398, 301.6328358297393, 286.0786011769009, 383.8161295092355, 998.5539175520138, 829.507481698446, 378.10944847912464, 460.8395232011586, 500.7435100783431, 729.9806877898434, 310.7281911035118, 256.6316241673271, 384.39093352656715, 217.28094149342257, 426.37518579505337, 465.691194930365, 6.593894092051419, 3.75506756646519, 7.478151475034987, 6.592199509209594, 6.589998616883043, 3.7394944436564033, 2.8103197191655145, 2.810116636906394, 2.809821380963036, 2.808849929616118, 3.7323682698444727, 2.8009737151141585, 2.7928792164470795, 2.789612759472323, 2.7863786734976435, 3.6578325616804426, 3.7921721365333454, 8.642054358146789, 4.70020799750527, 38.380007305403154, 4.695417302807947, 4.6331363601241495, 6.435505271224219, 1.864661146391308, 1.864587953783511, 1.8645090001083586, 1.864484251091299, 1.864458957908168, 1.864431713008442, 1.86440698222271, 4.700657175736046, 2.789637126113443, 3.6493934304144635, 3.70139577374577, 16.795919970378783, 465.691194930365, 3.7484923843626303, 58.465761461634685, 12.94375636983625, 11.229916691040476, 32.407483469655794, 181.41822163320109, 171.6240878448946, 141.82368584576994, 1701.340969991972, 18.643670313222167, 83.83706913435562, 110.65600819828003, 729.9806877898434, 334.05431386295834, 54.21742991348425, 90.52947592969952, 187.64589472478886, 690.8433931876045, 686.1614865887254, 127.81799691013144, 251.7308914434623, 128.47391288639258, 142.2538988987669, 773.3457606582393, 384.39093352656715, 119.78512087618219, 806.7448000206318, 460.8395232011586, 426.37518579505337, 237.09741843009633, 324.5222259362591, 138.2720988406677, 998.5539175520138, 347.8279125121074, 677.166775220398, 383.8161295092355, 217.28094149342257, 500.7435100783431, 318.6138561765862, 829.507481698446, 317.8350310662426, 986.3202857530445, 467.0775477478686, 378.10944847912464, 9.337421443407397, 7.653480077222209, 6.8102327037183334, 5.968718293862288, 5.994707349807761, 24.896133549406805, 5.99649310051053, 3.4432618280496214, 3.4689308740832985, 2.601869924454778, 2.6018641110142746, 2.6015787747249637, 4.39398937080035, 20.17689779746163, 3.5071807654881932, 31.75478306461386, 2.5829022683714205, 2.641013647133598, 9.495778398435904, 14.960077614870078, 1.7604072271944304, 1.7603175321093756, 1.7602521416217176, 1.7602472362934807, 1.7601953185267907, 1.7601868397570073, 1.7601333082534993, 1.760058543460739, 1.7599335467738937, 1.7605465583410986, 3.4144917224822895, 3.519314830293441, 34.95953046455198, 2.646619526265774, 32.62408666707932, 14.110221152438955, 11.332658537354126, 9.509532398801312, 44.39063381620777, 2.649225146596326, 6.06185354099318, 26.07546071775687, 16.052465448489762, 58.904515665210546, 176.78985481920714, 47.446626577125954, 39.84350429951752, 224.21715659390438, 251.7308914434623, 58.465761461634685, 197.87526589238934, 40.78648059280936, 986.3202857530445, 205.1348076021203, 426.37518579505337, 290.9393968577408, 677.166775220398, 66.2957867511444, 347.8279125121074, 318.6138561765862, 283.7107183146701, 998.5539175520138, 251.66886650787632, 206.20832037120243, 378.10944847912464, 686.1614865887254, 460.8395232011586, 384.39093352656715, 1701.340969991972, 806.7448000206318, 334.05431386295834, 189.54571922895315, 310.7281911035118, 729.9806877898434, 500.7435100783431, 773.3457606582393, 690.8433931876045, 465.691194930365, 24.315136371367995, 84.72394911843556, 24.42181740018648, 7.215904037946695, 3.5796761173298086, 3.5814021117001538, 6.27241804257517, 3.584124339094706, 5.41719704969391, 2.715224927481223, 2.6984767676815187, 34.35962296189658, 2.722195941280645, 2.697959475875566, 19.950795954345892, 1.8026486664928822, 1.8025179898120196, 1.8024849245865622, 1.8024231302839686, 1.8024003919222706, 1.8023909760053862, 1.8023749325395264, 1.8023658212121962, 1.8023356719819141, 1.802309922829893, 1.8023044005862607, 3.616064547826389, 9.548547027414532, 1.804943225912642, 1.805335754510143, 17.58858305323912, 31.08460108277154, 102.48502948191462, 404.33172224992654, 130.63839836428627, 48.88917944223872, 9.111871479083163, 28.711094789559816, 14.6867195619982, 2.7160077855341958, 411.99790653101945, 9.858985859466383, 126.04904879227104, 65.18196138840675, 500.7435100783431, 80.62615978975771, 31.10941985058025, 33.39975277838184, 144.34187822592548, 122.21462860433311, 47.263568974676026, 773.3457606582393, 171.6240878448946, 384.39093352656715, 77.40331620925176, 467.0775477478686, 1701.340969991972, 181.41822163320109, 998.5539175520138, 197.87526589238934, 236.01265705513964, 729.9806877898434, 690.8433931876045, 806.7448000206318, 301.6328358297393, 378.10944847912464, 829.507481698446, 465.691194930365, 986.3202857530445, 686.1614865887254, 460.8395232011586, 6.904571216440513, 19.843532258243375, 3.424428560917284, 4.322359346822609, 16.45169472668969, 21.487429751371163, 2.599525298162908, 3.429243659210704, 2.618272657558251, 14.65012219776095, 2.6216213393468553, 4.34029719570718, 2.626366427885875, 26.136367095876675, 2.622446643726839, 7.842301612434841, 4.316024850119505, 9.621769239656942, 7.113001302440216, 1.7589166573319326, 1.7587514222267808, 1.7587272408379615, 1.7586993244577391, 1.7586461582689332, 1.758586021266849, 1.7585947084449813, 1.7585072714872303, 1.7585034871419705, 1.758422095315775, 1.758229166184014, 30.80973487526366, 16.052465448489762, 11.202284277224324, 11.223529601108531, 7.994800265522575, 4.518284600836984, 23.73178808107119, 48.39500128812332, 4.325586857163294, 9.690185426180763, 11.456963594358033, 36.03861185439196, 107.5501914320569, 8.043010539840271, 9.747053505350037, 690.8433931876045, 75.81117127844045, 18.845536620258585, 11.97406680294758, 152.43449442515796, 73.36868646371337, 998.5539175520138, 66.2957867511444, 21.634534852531107, 404.33172224992654, 806.7448000206318, 159.11832200176292, 52.954089268827204, 104.36879573601892, 215.3827305358774, 286.0786011769009, 82.91026748645966, 460.8395232011586, 467.0775477478686, 53.39740318946894, 110.65600819828003, 283.7107183146701, 256.6316241673271, 773.3457606582393, 1701.340969991972, 677.166775220398, 319.99982242818345, 729.9806877898434, 383.8161295092355, 986.3202857530445, 686.1614865887254, 426.37518579505337, 500.7435100783431, 402.9980341335589, 411.99790653101945, 11.041510745025526, 3.9557671057894717, 3.9550044397626536, 2.9434630803372475, 2.9429696821882727, 2.942800931205733, 2.9421542045355658, 34.68782026350255, 9.879074200243956, 6.755254834072995, 12.803420104813105, 10.481604588447073, 4.790553186011526, 12.352071855451651, 3.8177071427123304, 1.930924924640311, 1.9308941738173009, 1.9307994447319916, 1.930509546947848, 1.930324930283998, 2.91412149700702, 9.597705646327146, 2.8697529652430083, 3.797474722244532, 41.30441874628129, 40.033924739678774, 1.9255586959537097, 9.70203813664018, 5.80803321036014, 5.850760506229254, 4.72968652041096, 8.60100947383126, 84.32243529293828, 9.56432743904086, 21.01752651014567, 39.66608781683997, 72.9585373005878, 404.33172224992654, 144.34187822592548, 12.48072455339754, 152.43449442515796, 205.39942848108885, 66.90650103492625, 215.3827305358774, 97.48080680587526, 90.41718820658005, 65.28108683511513, 283.7107183146701, 467.0775477478686, 110.65600819828003, 319.99982242818345, 127.81799691013144, 773.3457606582393, 806.7448000206318, 729.9806877898434, 189.54571922895315, 411.99790653101945, 500.7435100783431, 460.8395232011586, 402.9980341335589, 317.8350310662426, 1701.340969991972, 829.507481698446, 690.8433931876045, 998.5539175520138, 347.8279125121074, 986.3202857530445], \"Category\": [\"Default\", \"Default\", \"Default\", \"Default\", \"Default\", \"Default\", \"Default\", \"Default\", \"Default\", \"Default\", \"Default\", \"Default\", \"Default\", \"Default\", \"Default\", \"Default\", \"Default\", \"Default\", \"Default\", \"Default\", \"Default\", \"Default\", \"Default\", \"Default\", \"Default\", \"Default\", \"Default\", \"Default\", \"Default\", \"Default\", \"Topic1\", \"Topic1\", \"Topic1\", \"Topic1\", \"Topic1\", \"Topic1\", \"Topic1\", \"Topic1\", \"Topic1\", \"Topic1\", \"Topic1\", \"Topic1\", \"Topic1\", \"Topic1\", \"Topic1\", \"Topic1\", \"Topic1\", \"Topic1\", \"Topic1\", \"Topic1\", \"Topic1\", \"Topic1\", \"Topic1\", \"Topic1\", \"Topic1\", \"Topic1\", \"Topic1\", \"Topic1\", \"Topic1\", \"Topic1\", \"Topic1\", \"Topic1\", \"Topic1\", \"Topic1\", \"Topic1\", \"Topic1\", \"Topic1\", \"Topic1\", \"Topic1\", \"Topic1\", \"Topic1\", \"Topic1\", \"Topic1\", \"Topic1\", \"Topic1\", \"Topic1\", \"Topic1\", \"Topic1\", \"Topic1\", \"Topic1\", \"Topic1\", \"Topic1\", \"Topic1\", \"Topic1\", \"Topic1\", \"Topic1\", \"Topic1\", \"Topic1\", \"Topic1\", \"Topic1\", \"Topic1\", \"Topic1\", \"Topic1\", \"Topic1\", \"Topic1\", \"Topic1\", \"Topic1\", \"Topic1\", \"Topic1\", \"Topic1\", \"Topic1\", \"Topic1\", \"Topic1\", \"Topic1\", \"Topic1\", \"Topic1\", \"Topic2\", \"Topic2\", \"Topic2\", \"Topic2\", \"Topic2\", \"Topic2\", \"Topic2\", \"Topic2\", \"Topic2\", \"Topic2\", \"Topic2\", \"Topic2\", \"Topic2\", \"Topic2\", \"Topic2\", \"Topic2\", \"Topic2\", \"Topic2\", \"Topic2\", \"Topic2\", \"Topic2\", \"Topic2\", \"Topic2\", \"Topic2\", \"Topic2\", \"Topic2\", \"Topic2\", \"Topic2\", \"Topic2\", \"Topic2\", \"Topic2\", \"Topic2\", \"Topic2\", \"Topic2\", \"Topic2\", \"Topic2\", \"Topic2\", \"Topic2\", \"Topic2\", \"Topic2\", \"Topic2\", \"Topic2\", \"Topic2\", \"Topic2\", \"Topic2\", \"Topic2\", \"Topic2\", \"Topic2\", \"Topic2\", \"Topic2\", \"Topic2\", \"Topic2\", \"Topic2\", \"Topic2\", \"Topic2\", \"Topic2\", \"Topic2\", \"Topic2\", \"Topic2\", \"Topic2\", \"Topic2\", \"Topic2\", \"Topic2\", \"Topic2\", \"Topic2\", \"Topic2\", \"Topic2\", \"Topic2\", \"Topic2\", \"Topic2\", \"Topic2\", \"Topic2\", \"Topic2\", \"Topic3\", \"Topic3\", \"Topic3\", \"Topic3\", \"Topic3\", \"Topic3\", \"Topic3\", \"Topic3\", \"Topic3\", \"Topic3\", \"Topic3\", \"Topic3\", \"Topic3\", \"Topic3\", \"Topic3\", \"Topic3\", \"Topic3\", \"Topic3\", \"Topic3\", \"Topic3\", \"Topic3\", \"Topic3\", \"Topic3\", \"Topic3\", \"Topic3\", \"Topic3\", \"Topic3\", \"Topic3\", \"Topic3\", \"Topic3\", \"Topic3\", \"Topic3\", \"Topic3\", \"Topic3\", \"Topic3\", \"Topic3\", \"Topic3\", \"Topic3\", \"Topic3\", \"Topic3\", \"Topic3\", \"Topic3\", \"Topic3\", \"Topic3\", \"Topic3\", \"Topic3\", \"Topic3\", \"Topic3\", \"Topic3\", \"Topic3\", \"Topic3\", \"Topic3\", \"Topic3\", \"Topic3\", \"Topic3\", \"Topic3\", \"Topic3\", \"Topic3\", \"Topic3\", \"Topic3\", \"Topic3\", \"Topic3\", \"Topic3\", \"Topic3\", \"Topic3\", \"Topic3\", \"Topic3\", \"Topic3\", \"Topic3\", \"Topic3\", \"Topic3\", \"Topic4\", \"Topic4\", \"Topic4\", \"Topic4\", \"Topic4\", \"Topic4\", \"Topic4\", \"Topic4\", \"Topic4\", \"Topic4\", \"Topic4\", \"Topic4\", \"Topic4\", \"Topic4\", \"Topic4\", \"Topic4\", \"Topic4\", \"Topic4\", \"Topic4\", \"Topic4\", \"Topic4\", \"Topic4\", \"Topic4\", \"Topic4\", \"Topic4\", \"Topic4\", \"Topic4\", \"Topic4\", \"Topic4\", \"Topic4\", \"Topic4\", \"Topic4\", \"Topic4\", \"Topic4\", \"Topic4\", \"Topic4\", \"Topic4\", \"Topic4\", \"Topic4\", \"Topic4\", \"Topic4\", \"Topic4\", \"Topic4\", \"Topic4\", \"Topic4\", \"Topic4\", \"Topic4\", \"Topic4\", \"Topic4\", \"Topic4\", \"Topic4\", \"Topic4\", \"Topic4\", \"Topic4\", \"Topic4\", \"Topic4\", \"Topic4\", \"Topic4\", \"Topic4\", \"Topic4\", \"Topic4\", \"Topic4\", \"Topic4\", \"Topic4\", \"Topic4\", \"Topic4\", \"Topic4\", \"Topic4\", \"Topic4\", \"Topic4\", \"Topic4\", \"Topic4\", \"Topic4\", \"Topic4\", \"Topic4\", \"Topic4\", \"Topic5\", \"Topic5\", \"Topic5\", \"Topic5\", \"Topic5\", \"Topic5\", \"Topic5\", \"Topic5\", \"Topic5\", \"Topic5\", \"Topic5\", \"Topic5\", \"Topic5\", \"Topic5\", \"Topic5\", \"Topic5\", \"Topic5\", \"Topic5\", \"Topic5\", \"Topic5\", \"Topic5\", \"Topic5\", \"Topic5\", \"Topic5\", \"Topic5\", \"Topic5\", \"Topic5\", \"Topic5\", \"Topic5\", \"Topic5\", \"Topic5\", \"Topic5\", \"Topic5\", \"Topic5\", \"Topic5\", \"Topic5\", \"Topic5\", \"Topic5\", \"Topic5\", \"Topic5\", \"Topic5\", \"Topic5\", \"Topic5\", \"Topic5\", \"Topic5\", \"Topic5\", \"Topic5\", \"Topic5\", \"Topic5\", \"Topic5\", \"Topic5\", \"Topic5\", \"Topic5\", \"Topic5\", \"Topic5\", \"Topic5\", \"Topic5\", \"Topic5\", \"Topic5\", \"Topic5\", \"Topic5\", \"Topic5\", \"Topic5\", \"Topic5\", \"Topic5\", \"Topic5\", \"Topic5\", \"Topic5\", \"Topic5\", \"Topic6\", \"Topic6\", \"Topic6\", \"Topic6\", \"Topic6\", \"Topic6\", \"Topic6\", \"Topic6\", \"Topic6\", \"Topic6\", \"Topic6\", \"Topic6\", \"Topic6\", \"Topic6\", \"Topic6\", \"Topic6\", \"Topic6\", \"Topic6\", \"Topic6\", \"Topic6\", \"Topic6\", \"Topic6\", \"Topic6\", \"Topic6\", \"Topic6\", \"Topic6\", \"Topic6\", \"Topic6\", \"Topic6\", \"Topic6\", \"Topic6\", \"Topic6\", \"Topic6\", \"Topic6\", \"Topic6\", \"Topic6\", \"Topic6\", \"Topic6\", \"Topic6\", \"Topic6\", \"Topic6\", \"Topic6\", \"Topic6\", \"Topic6\", \"Topic6\", \"Topic6\", \"Topic6\", \"Topic6\", \"Topic6\", \"Topic6\", \"Topic6\", \"Topic6\", \"Topic6\", \"Topic6\", \"Topic6\", \"Topic6\", \"Topic6\", \"Topic6\", \"Topic6\", \"Topic6\", \"Topic6\", \"Topic6\", \"Topic6\", \"Topic6\", \"Topic6\", \"Topic6\", \"Topic6\", \"Topic6\", \"Topic6\", \"Topic6\", \"Topic6\", \"Topic6\", \"Topic6\", \"Topic6\", \"Topic6\", \"Topic6\", \"Topic6\", \"Topic6\", \"Topic6\", \"Topic6\", \"Topic7\", \"Topic7\", \"Topic7\", \"Topic7\", \"Topic7\", \"Topic7\", \"Topic7\", \"Topic7\", \"Topic7\", \"Topic7\", \"Topic7\", \"Topic7\", \"Topic7\", \"Topic7\", \"Topic7\", \"Topic7\", \"Topic7\", \"Topic7\", \"Topic7\", \"Topic7\", \"Topic7\", \"Topic7\", \"Topic7\", \"Topic7\", \"Topic7\", \"Topic7\", \"Topic7\", \"Topic7\", \"Topic7\", \"Topic7\", \"Topic7\", \"Topic7\", \"Topic7\", \"Topic7\", \"Topic7\", \"Topic7\", \"Topic7\", \"Topic7\", \"Topic7\", \"Topic7\", \"Topic7\", \"Topic7\", \"Topic7\", \"Topic7\", \"Topic7\", \"Topic7\", \"Topic7\", \"Topic7\", \"Topic7\", \"Topic7\", \"Topic7\", \"Topic7\", \"Topic7\", \"Topic7\", \"Topic7\", \"Topic7\", \"Topic7\", \"Topic7\", \"Topic7\", \"Topic7\", \"Topic7\", \"Topic7\", \"Topic7\", \"Topic7\", \"Topic7\", \"Topic7\", \"Topic7\", \"Topic7\", \"Topic7\", \"Topic7\", \"Topic7\", \"Topic7\", \"Topic7\", \"Topic7\", \"Topic7\", \"Topic7\", \"Topic7\", \"Topic7\", \"Topic8\", \"Topic8\", \"Topic8\", \"Topic8\", \"Topic8\", \"Topic8\", \"Topic8\", \"Topic8\", \"Topic8\", \"Topic8\", \"Topic8\", \"Topic8\", \"Topic8\", \"Topic8\", \"Topic8\", \"Topic8\", \"Topic8\", \"Topic8\", \"Topic8\", \"Topic8\", \"Topic8\", \"Topic8\", \"Topic8\", \"Topic8\", \"Topic8\", \"Topic8\", \"Topic8\", \"Topic8\", \"Topic8\", \"Topic8\", \"Topic8\", \"Topic8\", \"Topic8\", \"Topic8\", \"Topic8\", \"Topic8\", \"Topic8\", \"Topic8\", \"Topic8\", \"Topic8\", \"Topic8\", \"Topic8\", \"Topic8\", \"Topic8\", \"Topic8\", \"Topic8\", \"Topic8\", \"Topic8\", \"Topic8\", \"Topic8\", \"Topic8\", \"Topic8\", \"Topic8\", \"Topic8\", \"Topic8\", \"Topic8\", \"Topic8\", \"Topic8\", \"Topic8\", \"Topic8\", \"Topic8\", \"Topic8\", \"Topic8\", \"Topic8\", \"Topic8\", \"Topic8\", \"Topic8\", \"Topic8\", \"Topic8\", \"Topic8\", \"Topic8\", \"Topic9\", \"Topic9\", \"Topic9\", \"Topic9\", \"Topic9\", \"Topic9\", \"Topic9\", \"Topic9\", \"Topic9\", \"Topic9\", \"Topic9\", \"Topic9\", \"Topic9\", \"Topic9\", \"Topic9\", \"Topic9\", \"Topic9\", \"Topic9\", \"Topic9\", \"Topic9\", \"Topic9\", \"Topic9\", \"Topic9\", \"Topic9\", \"Topic9\", \"Topic9\", \"Topic9\", \"Topic9\", \"Topic9\", \"Topic9\", \"Topic9\", \"Topic9\", \"Topic9\", \"Topic9\", \"Topic9\", \"Topic9\", \"Topic9\", \"Topic9\", \"Topic9\", \"Topic9\", \"Topic9\", \"Topic9\", \"Topic9\", \"Topic9\", \"Topic9\", \"Topic9\", \"Topic9\", \"Topic9\", \"Topic9\", \"Topic9\", \"Topic9\", \"Topic9\", \"Topic9\", \"Topic9\", \"Topic9\", \"Topic9\", \"Topic9\", \"Topic9\", \"Topic9\", \"Topic9\", \"Topic9\", \"Topic9\", \"Topic9\", \"Topic9\", \"Topic9\", \"Topic9\", \"Topic9\", \"Topic9\", \"Topic9\", \"Topic9\", \"Topic9\", \"Topic9\", \"Topic9\", \"Topic9\", \"Topic9\", \"Topic9\", \"Topic9\", \"Topic9\", \"Topic9\", \"Topic9\", \"Topic10\", \"Topic10\", \"Topic10\", \"Topic10\", \"Topic10\", \"Topic10\", \"Topic10\", \"Topic10\", \"Topic10\", \"Topic10\", \"Topic10\", \"Topic10\", \"Topic10\", \"Topic10\", \"Topic10\", \"Topic10\", \"Topic10\", \"Topic10\", \"Topic10\", \"Topic10\", \"Topic10\", \"Topic10\", \"Topic10\", \"Topic10\", \"Topic10\", \"Topic10\", \"Topic10\", \"Topic10\", \"Topic10\", \"Topic10\", \"Topic10\", \"Topic10\", \"Topic10\", \"Topic10\", \"Topic10\", \"Topic10\", \"Topic10\", \"Topic10\", \"Topic10\", \"Topic10\", \"Topic10\", \"Topic10\", \"Topic10\", \"Topic10\", \"Topic10\", \"Topic10\", \"Topic10\", \"Topic10\", \"Topic10\", \"Topic10\", \"Topic10\", \"Topic10\", \"Topic10\", \"Topic10\", \"Topic10\", \"Topic10\", \"Topic10\", \"Topic10\", \"Topic10\", \"Topic10\", \"Topic10\", \"Topic10\", \"Topic10\", \"Topic10\", \"Topic10\", \"Topic10\", \"Topic10\"], \"logprob\": [30.0, 29.0, 28.0, 27.0, 26.0, 25.0, 24.0, 23.0, 22.0, 21.0, 20.0, 19.0, 18.0, 17.0, 16.0, 15.0, 14.0, 13.0, 12.0, 11.0, 10.0, 9.0, 8.0, 7.0, 6.0, 5.0, 4.0, 3.0, 2.0, 1.0, -6.8456, -7.3789, -7.5869, -6.7739, -7.768, -7.3617, -7.9713, -8.2077, -7.2116, -6.9076, -7.6849, -8.2713, -7.5837, -8.2767, -7.5969, -7.1036, -7.5026, -8.5968, -8.5969, -8.5971, -8.5971, -8.5972, -7.1372, -7.4151, -7.2507, -8.6364, -8.6507, -6.7174, -6.0231, -8.3773, -7.2715, -6.1298, -7.0914, -6.0344, -7.5864, -7.3466, -2.8231, -6.6331, -5.1422, -5.1639, -6.6215, -6.127, -4.5605, -4.8314, -5.6591, -4.7264, -4.0077, -4.5275, -6.017, -3.9391, -3.9585, -4.7022, -4.3219, -4.6403, -4.4332, -4.3761, -5.6475, -5.0097, -5.6493, -4.443, -5.5093, -4.9176, -5.3511, -5.348, -4.7523, -5.2441, -5.223, -5.2514, -4.9415, -5.3737, -5.4099, -5.4646, -5.4472, -5.2636, -5.4122, -5.3323, -6.1785, -6.3574, -6.0421, -6.4427, -5.2595, -7.3206, -7.7951, -8.0516, -6.4416, -5.5996, -7.6724, -6.505, -5.9232, -7.9256, -8.4373, -6.7975, -7.35, -8.449, -8.1601, -8.4539, -7.3624, -8.1731, -7.0846, -7.9531, -8.191, -7.9724, -6.2881, -8.51, -8.5187, -7.2476, -5.6331, -6.3002, -7.0444, -6.9309, -6.6098, -6.0956, -6.7089, -5.2459, -6.6169, -4.9779, -6.4314, -4.9951, -4.4386, -5.3889, -4.7468, -6.2464, -4.5807, -3.9394, -5.9832, -4.1168, -5.4859, -5.0608, -4.3818, -5.28, -4.8504, -4.4809, -4.8098, -4.549, -4.6223, -5.4483, -5.3129, -5.4891, -5.2042, -4.5485, -5.3271, -5.244, -5.0344, -5.1705, -5.251, -5.2287, -5.1702, -5.3884, -5.3619, -6.0106, -6.489, -7.7846, -6.6828, -7.4439, -6.5604, -8.1688, -7.6131, -8.2323, -6.6516, -7.6925, -8.5268, -8.5369, -6.9331, -8.2519, -6.7142, -8.2835, -8.5968, -8.6158, -6.0443, -7.0571, -8.3319, -8.3282, -8.3689, -8.6385, -8.3541, -8.6621, -8.6588, -8.376, -8.369, -7.4937, -7.9942, -4.6394, -5.0812, -6.8606, -6.7203, -6.7017, -3.7361, -6.3694, -7.3884, -6.8286, -5.2422, -6.5927, -5.2867, -3.8448, -4.876, -3.7267, -4.8729, -4.1801, -4.5245, -5.4727, -6.0811, -4.8337, -4.4397, -4.5143, -5.4052, -5.639, -4.9585, -5.2725, -4.4239, -4.6322, -5.1101, -4.6909, -5.1407, -5.2495, -5.1114, -4.5752, -5.2997, -5.3008, -5.4397, -5.4374, -6.45, -6.2168, -6.8135, -6.5243, -7.477, -7.3572, -7.7575, -7.1745, -7.7708, -8.2811, -7.7914, -7.7957, -8.2996, -8.3143, -7.3384, -7.3596, -6.4738, -8.3809, -5.8427, -8.3889, -7.5442, -6.8607, -8.1457, -8.4487, -8.165, -7.5977, -7.9579, -7.9465, -8.4748, -7.6419, -6.689, -6.2071, -5.9962, -6.3047, -6.6263, -6.2855, -6.3858, -5.3634, -4.3351, -6.1352, -6.0754, -5.9362, -5.6746, -3.7867, -4.9813, -4.5985, -4.0331, -6.4064, -4.9128, -5.1092, -5.0461, -3.644, -4.0117, -4.2768, -5.122, -5.3755, -4.8538, -4.1763, -4.6659, -5.4971, -4.4927, -5.1033, -4.9571, -5.0601, -4.9562, -4.9031, -5.0633, -5.509, -5.2335, -5.1549, -4.9121, -5.3426, -5.2185, -5.1237, -5.1575, -5.3576, -6.0714, -5.6169, -7.0776, -7.682, -6.0852, -7.1034, -6.5538, -7.9612, -7.9612, -7.9613, -7.962, -7.7399, -4.474, -5.9456, -5.722, -7.4619, -8.0149, -7.4891, -6.2904, -6.1086, -8.0534, -6.3449, -8.3506, -8.3508, -8.3509, -8.351, -7.2579, -6.9178, -8.0888, -8.0816, -6.9893, -7.6758, -5.4264, -7.6953, -6.1978, -3.905, -6.4806, -4.4938, -6.0179, -4.7385, -3.7061, -5.6049, -5.069, -5.6986, -4.2307, -4.2329, -3.6629, -5.2062, -5.6766, -4.7194, -5.127, -4.4403, -4.4749, -4.5915, -5.1125, -5.1742, -5.0537, -4.6654, -4.8115, -5.157, -5.1099, -5.1093, -5.0125, -5.3001, -5.3535, -5.3318, -5.4295, -5.3972, -5.406, -7.0105, -7.6878, -7.0105, -7.1396, -7.191, -7.7767, -8.0769, -8.077, -8.0772, -8.0777, -7.8154, -8.1432, -8.1587, -8.1743, -8.1895, -7.9245, -7.8913, -7.0695, -7.6875, -5.621, -7.7656, -7.7871, -7.4761, -8.7233, -8.7233, -8.7234, -8.7234, -8.7235, -8.7235, -8.7235, -7.8196, -8.335, -8.0772, -8.072, -6.657, -3.6351, -8.0771, -5.5727, -6.9834, -7.1106, -6.2144, -4.9275, -4.9936, -5.1534, -3.2553, -6.753, -5.6488, -5.4871, -4.1316, -4.6927, -6.009, -5.6578, -5.1869, -4.3205, -4.3697, -5.4972, -5.0591, -5.5278, -5.4664, -4.4216, -4.8673, -5.5927, -4.464, -4.8359, -4.8846, -5.2402, -5.0938, -5.533, -4.5655, -5.1266, -4.913, -5.1831, -5.402, -5.2197, -5.3348, -5.1964, -5.354, -5.2906, -5.4164, -5.4644, -6.438, -6.6587, -6.7907, -6.9425, -6.979, -5.5577, -6.9861, -7.6195, -7.701, -8.0089, -8.0089, -8.009, -7.6286, -6.1085, -7.8585, -5.6987, -8.2253, -8.206, -6.9375, -6.5072, -8.6553, -8.6554, -8.6555, -8.6555, -8.6555, -8.6555, -8.6556, -8.6557, -8.6558, -8.6557, -7.9973, -7.9717, -5.742, -8.2599, -5.8609, -6.659, -6.877, -7.0437, -5.6516, -8.2736, -7.5043, -6.1801, -6.6356, -5.4952, -4.6792, -5.8939, -6.0344, -4.7031, -4.7956, -5.8317, -4.9943, -6.0933, -3.9475, -5.0184, -4.5661, -4.8994, -4.4463, -5.8121, -4.8706, -4.9404, -5.0108, -4.3788, -5.1068, -5.2552, -5.002, -4.7386, -4.9517, -5.0584, -4.4709, -4.7889, -5.1596, -5.3802, -5.2086, -4.965, -5.1192, -5.1142, -5.2908, -5.3543, -5.3585, -4.1348, -5.415, -6.655, -7.4033, -7.4155, -6.8647, -7.4385, -7.1488, -7.8606, -7.8787, -5.3739, -7.9566, -7.9717, -5.98, -8.3916, -8.3917, -8.3917, -8.3918, -8.3918, -8.3918, -8.3918, -8.3919, -8.3919, -8.3919, -8.3919, -7.7245, -6.7544, -8.4221, -8.4325, -6.291, -5.7644, -4.8112, -3.6124, -4.6493, -5.5695, -7.0059, -6.0854, -6.6599, -8.0536, -3.9648, -7.0053, -4.9546, -5.547, -4.0672, -5.4583, -6.157, -6.123, -5.0705, -5.1934, -5.8941, -4.033, -5.0906, -4.607, -5.6034, -4.555, -3.8522, -5.193, -4.3299, -5.221, -5.2775, -4.8622, -4.9052, -4.8829, -5.2353, -5.1767, -4.9942, -5.1731, -5.0537, -5.3548, -5.4007, -6.6991, -5.7148, -7.4902, -7.2614, -5.9473, -5.726, -7.8433, -7.5678, -7.8578, -6.1544, -7.8764, -7.388, -7.9037, -5.6346, -7.9535, -6.8662, -7.4798, -6.7113, -7.0156, -8.4147, -8.4149, -8.4149, -8.415, -8.415, -8.4151, -8.4151, -8.4152, -8.4152, -8.4153, -8.4155, -5.567, -6.217, -6.5919, -6.6078, -6.9595, -7.5119, -5.9694, -5.3458, -7.5906, -6.8588, -6.7388, -5.7307, -5.0057, -7.0603, -6.9181, -3.7422, -5.3924, -6.4463, -6.7727, -5.0942, -5.5941, -3.9964, -5.7051, -6.4076, -4.625, -4.3259, -5.3087, -5.9153, -5.568, -5.1907, -5.0721, -5.7199, -4.9183, -4.947, -5.9488, -5.6685, -5.3044, -5.3443, -4.9532, -4.6984, -5.1876, -5.3982, -5.237, -5.4899, -5.3608, -5.4191, -5.5199, -5.5365, -5.5625, -5.6322, -5.9391, -7.1201, -7.1204, -7.5095, -7.5098, -7.5099, -7.5102, -5.0947, -6.3602, -6.7419, -6.155, -6.3619, -7.2035, -6.2777, -7.4632, -8.1562, -8.1563, -8.1564, -8.1566, -8.1568, -7.7582, -6.5679, -7.7875, -7.5097, -5.1275, -5.1609, -8.1997, -6.5868, -7.1063, -7.1127, -7.3334, -6.7605, -4.6712, -6.715, -6.014, -5.4677, -4.9918, -3.5797, -4.6065, -6.5664, -4.6693, -4.4941, -5.3447, -4.5302, -5.1345, -5.1868, -5.4398, -4.5162, -4.4656, -5.4769, -4.9481, -5.4299, -4.5939, -4.5899, -4.7788, -5.359, -5.1016, -5.072, -5.1025, -5.2016, -5.2675, -4.8406, -5.2468, -5.2676, -5.356, -5.3896, -5.3584], \"loglift\": [30.0, 29.0, 28.0, 27.0, 26.0, 25.0, 24.0, 23.0, 22.0, 21.0, 20.0, 19.0, 18.0, 17.0, 16.0, 15.0, 14.0, 13.0, 12.0, 11.0, 10.0, 9.0, 8.0, 7.0, 6.0, 5.0, 4.0, 3.0, 2.0, 1.0, 1.7833, 1.7371, 1.665, 1.6471, 1.6393, 1.6367, 1.6147, 1.6053, 1.5853, 1.5804, 1.5716, 1.5434, 1.5431, 1.5388, 1.5224, 1.5196, 1.5074, 1.5062, 1.5062, 1.5062, 1.5061, 1.5061, 1.5014, 1.4863, 1.4796, 1.4649, 1.4541, 1.4497, 1.4481, 1.4432, 1.4402, 1.3958, 1.4105, 1.316, 1.4262, 1.3853, 0.8753, 1.2926, 1.1229, 1.0498, 1.2625, 1.1507, 0.8131, 0.8365, 1.0191, 0.7019, 0.4791, 0.6112, 1.0289, 0.3045, 0.2727, 0.5002, 0.2977, 0.2812, 0.1113, 0.0684, 0.7043, 0.3455, 0.6966, -0.0263, 0.5635, 0.1646, 0.4576, 0.4172, -0.1459, 0.2454, 0.153, 0.1472, -0.3419, 0.2595, 0.315, 0.402, 0.3609, -0.1471, 0.1777, -0.197, 1.97, 1.9444, 1.9319, 1.9169, 1.8022, 1.7978, 1.7933, 1.7618, 1.7597, 1.7381, 1.733, 1.7146, 1.695, 1.6669, 1.6658, 1.6642, 1.6635, 1.6543, 1.6524, 1.6487, 1.6479, 1.6391, 1.635, 1.6325, 1.6216, 1.6136, 1.6094, 1.5934, 1.5886, 1.5841, 1.5839, 1.5548, 1.545, 1.5251, 1.4556, 1.3933, 1.4466, 1.2154, 1.4068, 1.0678, 1.3142, 0.9108, 0.6436, 0.9452, 0.7176, 1.2444, 0.6067, 0.2918, 1.1262, 0.2999, 0.8459, 0.5994, 0.2247, 0.6129, 0.2882, -0.0363, 0.1842, -0.0622, -0.0226, 0.5945, 0.3549, 0.5788, 0.1944, -0.8501, 0.2628, 0.0419, -0.4899, -0.166, -0.0486, -0.1122, -0.9267, -0.0621, -0.3709, 1.8259, 1.8186, 1.8073, 1.7613, 1.6886, 1.6579, 1.6465, 1.6404, 1.5863, 1.58, 1.5796, 1.5789, 1.5695, 1.5635, 1.5617, 1.5366, 1.5326, 1.5118, 1.5087, 1.5086, 1.5062, 1.4943, 1.4878, 1.4709, 1.4704, 1.462, 1.4514, 1.4509, 1.4493, 1.4481, 1.4043, 1.4245, 1.2812, 1.2246, 1.3047, 1.2713, 1.2616, 0.8084, 1.1939, 1.3308, 1.2362, 0.9313, 1.1859, 0.8962, 0.5719, 0.7931, 0.5168, 0.7365, 0.4395, 0.48, 0.7784, 0.9751, 0.3522, 0.16, 0.0921, 0.5575, 0.6725, 0.1801, 0.3739, -0.1927, -0.1877, 0.1757, -0.2041, 0.0616, 0.0768, -0.1899, -0.8768, -0.1123, -0.1843, 0.0416, -0.4464, 2.0357, 2.0217, 2.0117, 1.9018, 1.8709, 1.8374, 1.7892, 1.7892, 1.7775, 1.7718, 1.7584, 1.7556, 1.7556, 1.7403, 1.735, 1.7168, 1.6869, 1.684, 1.6785, 1.6695, 1.6641, 1.6528, 1.6332, 1.6231, 1.6081, 1.603, 1.6012, 1.5999, 1.5929, 1.5825, 1.5708, 1.5569, 1.5145, 1.4852, 1.5059, 1.4797, 1.3728, 1.2092, 1.0409, 1.3174, 1.2691, 1.2322, 1.1544, 0.63, 0.9246, 0.7567, 0.4114, 1.2789, 0.6966, 0.7574, 0.7103, 0.0544, 0.2196, 0.3428, 0.7333, 0.8238, 0.5155, 0.0673, 0.2555, 0.856, 0.1137, 0.5703, 0.3692, 0.3385, 0.2311, 0.1014, 0.2226, 0.6731, 0.2477, 0.031, -0.4253, 0.3038, -0.0799, -0.5241, -0.613, 0.3103, 2.1938, 2.1483, 2.0628, 2.045, 2.0349, 2.0332, 2.002, 1.9811, 1.9811, 1.9811, 1.9809, 1.9788, 1.9604, 1.9481, 1.9451, 1.9292, 1.9204, 1.8883, 1.8833, 1.8787, 1.8775, 1.8741, 1.867, 1.8669, 1.8669, 1.8669, 1.8566, 1.8508, 1.8484, 1.8408, 1.8387, 1.8399, 1.6928, 1.822, 1.6556, 1.086, 1.503, 0.8754, 1.3118, 0.8948, 0.5374, 1.1648, 0.8935, 1.0966, 0.3757, 0.3667, 0.0355, 0.8069, 1.0368, 0.3971, 0.5333, 0.0042, 0.0119, 0.0281, 0.3159, 0.3071, 0.1336, -0.4342, -0.3948, 0.0453, -0.1054, -0.1878, -0.468, 0.0985, 0.2363, -0.1459, 0.3268, -0.315, -0.412, 2.2409, 2.1266, 2.1151, 2.112, 2.061, 2.0419, 2.0274, 2.0273, 2.0272, 2.0271, 2.0051, 1.9644, 1.9517, 1.9373, 1.9233, 1.9161, 1.9133, 1.9114, 1.9025, 1.8689, 1.8254, 1.8172, 1.7996, 1.7912, 1.7912, 1.7911, 1.7911, 1.7911, 1.7911, 1.7911, 1.7702, 1.7766, 1.7658, 1.7569, 1.6594, 1.3589, 1.7391, 1.4964, 1.5935, 1.6084, 1.4447, 1.0093, 0.9987, 1.0295, 0.4431, 1.4591, 1.0599, 0.9441, 0.4129, 0.6335, 1.1355, 0.974, 0.7161, 0.2791, 0.2368, 0.7897, 0.5501, 0.754, 0.7135, 0.0653, 0.3186, 0.7591, -0.0195, 0.1686, 0.1976, 0.4288, 0.2614, 0.6753, -0.3342, 0.1592, -0.2934, 0.0043, 0.3543, -0.2983, 0.0387, -0.7797, 0.022, -1.047, -0.4253, -0.2621, 2.4655, 2.4437, 2.4284, 2.4085, 2.3677, 2.3651, 2.3602, 2.2816, 2.1927, 2.1724, 2.1724, 2.1724, 2.0287, 2.0245, 2.0242, 1.9808, 1.9633, 1.9604, 1.9492, 1.925, 1.9167, 1.9167, 1.9166, 1.9166, 1.9166, 1.9166, 1.9166, 1.9165, 1.9165, 1.9162, 1.9122, 1.9076, 1.8413, 1.9044, 1.7915, 1.8316, 1.8329, 1.8415, 1.6929, 1.8896, 1.8312, 1.6965, 1.726, 1.5665, 1.2834, 1.3841, 1.4181, 1.0218, 0.8135, 1.2374, 0.8556, 1.3359, 0.2961, 0.7955, 0.5161, 0.5651, 0.1733, 1.1313, 0.4152, 0.4332, 0.4788, -0.1476, 0.5026, 0.5534, 0.2004, -0.1322, 0.0528, 0.1274, -0.7725, -0.3444, 0.1666, 0.5127, 0.19, -0.4205, -0.1978, -0.6274, -0.6912, -0.3603, 2.5879, 2.5633, 2.5271, 2.5063, 2.459, 2.4462, 2.4366, 2.4225, 2.2991, 2.278, 2.2662, 2.2268, 2.1795, 2.1733, 2.1643, 2.1567, 2.1566, 2.1566, 2.1566, 2.1566, 2.1566, 2.1566, 2.1566, 2.1566, 2.1565, 2.1565, 2.1276, 2.1267, 2.1249, 2.1143, 1.9793, 1.9364, 1.6967, 1.5229, 1.6158, 1.6785, 1.9221, 1.6949, 1.7907, 2.0847, 1.1517, 1.8439, 1.3463, 1.4134, 0.8543, 1.2894, 1.543, 1.506, 1.0948, 1.1383, 1.3877, 0.4538, 0.9017, 0.5789, 1.1851, 0.436, -0.1538, 0.7437, -0.0987, 0.6289, 0.3962, -0.3177, -0.3056, -0.4384, 0.1931, 0.0256, -0.5775, -0.1791, -0.8102, -0.7484, -0.3962, 2.5062, 2.4349, 2.4164, 2.4123, 2.3898, 2.344, 2.3389, 2.3374, 2.3172, 2.2987, 2.2973, 2.2816, 2.2682, 2.2396, 2.2199, 2.2118, 2.1954, 2.1622, 2.16, 2.1581, 2.158, 2.158, 2.158, 2.158, 2.1579, 2.1579, 2.1579, 2.1579, 2.1579, 2.1578, 2.1427, 2.1447, 2.1295, 2.1117, 2.0992, 2.1175, 2.0013, 1.9123, 2.0824, 2.0076, 1.9601, 1.8222, 1.4539, 1.9924, 1.9425, 0.8574, 1.4169, 1.755, 1.8821, 1.0166, 1.2479, 0.2349, 1.2383, 1.6556, 0.5103, 0.1186, 0.7592, 1.2529, 0.9216, 0.5744, 0.4091, 0.9998, 0.0862, 0.044, 1.2109, 0.7626, 0.1852, 0.2456, -0.4664, -1.0001, -0.568, -0.029, -0.6925, -0.3025, -1.1172, -0.8127, -0.4377, -0.6151, -0.4239, -0.5157, 2.7968, 2.6422, 2.6422, 2.5484, 2.5483, 2.5483, 2.5482, 2.4965, 2.4869, 2.4853, 2.4329, 2.426, 2.3674, 2.346, 2.3347, 2.3233, 2.3233, 2.3232, 2.3231, 2.3231, 2.3098, 2.3081, 2.2958, 2.2935, 2.289, 2.2869, 2.2827, 2.2784, 2.272, 2.2582, 2.2502, 2.2252, 2.0316, 2.1645, 2.0781, 1.9893, 1.8559, 1.5556, 1.5589, 2.047, 1.4415, 1.3185, 1.5896, 1.2349, 1.4234, 1.4463, 1.519, 0.9734, 0.5255, 0.9542, 0.4211, 0.8571, -0.1071, -0.1454, -0.2343, 0.5339, 0.015, -0.1506, -0.098, -0.063, 0.1085, -1.1422, -0.8301, -0.668, -1.1248, -0.1038, -1.1148]}, \"token.table\": {\"Topic\": [1, 2, 8, 10, 9, 3, 4, 7, 1, 8, 1, 2, 3, 4, 5, 6, 7, 8, 9, 10, 1, 5, 6, 8, 9, 10, 8, 9, 7, 1, 3, 4, 5, 6, 7, 8, 9, 10, 1, 2, 3, 4, 5, 6, 7, 8, 9, 10, 1, 3, 4, 5, 6, 7, 8, 7, 4, 5, 6, 8, 7, 2, 7, 1, 2, 3, 9, 1, 2, 3, 9, 1, 2, 3, 5, 6, 8, 3, 1, 2, 3, 4, 5, 6, 7, 8, 9, 10, 7, 1, 3, 7, 9, 2, 5, 1, 2, 3, 4, 5, 6, 7, 8, 9, 10, 1, 2, 3, 4, 5, 6, 7, 8, 9, 10, 1, 2, 3, 4, 5, 6, 7, 8, 9, 10, 6, 7, 5, 1, 3, 5, 7, 6, 8, 10, 9, 9, 1, 2, 3, 4, 5, 6, 7, 8, 9, 10, 1, 4, 9, 10, 1, 3, 1, 2, 3, 4, 5, 6, 7, 8, 9, 10, 3, 6, 1, 2, 3, 4, 5, 6, 7, 8, 9, 10, 1, 2, 3, 4, 5, 6, 7, 8, 9, 10, 6, 7, 3, 5, 1, 2, 3, 4, 5, 6, 9, 10, 2, 4, 10, 1, 3, 7, 8, 10, 1, 2, 3, 4, 5, 6, 7, 8, 9, 10, 2, 1, 2, 3, 4, 5, 6, 7, 8, 9, 10, 1, 2, 5, 7, 4, 1, 2, 3, 9, 5, 5, 7, 7, 2, 4, 1, 2, 5, 7, 6, 2, 3, 6, 1, 2, 3, 4, 5, 6, 7, 8, 9, 10, 8, 10, 8, 1, 3, 2, 1, 2, 3, 4, 5, 6, 7, 8, 9, 10, 1, 2, 5, 1, 2, 3, 4, 5, 6, 7, 8, 9, 10, 8, 9, 10, 6, 8, 1, 1, 6, 5, 7, 1, 2, 5, 10, 1, 7, 3, 1, 2, 3, 4, 5, 6, 7, 8, 9, 10, 2, 3, 1, 2, 3, 5, 7, 7, 8, 1, 4, 6, 9, 8, 1, 5, 10, 2, 3, 6, 1, 2, 3, 4, 5, 7, 8, 9, 10, 1, 2, 3, 5, 6, 4, 1, 2, 3, 4, 5, 6, 7, 8, 9, 10, 7, 7, 1, 2, 3, 4, 5, 6, 7, 8, 9, 10, 10, 1, 2, 3, 4, 5, 6, 7, 8, 9, 10, 1, 2, 3, 4, 5, 6, 7, 8, 9, 10, 1, 2, 3, 4, 5, 6, 7, 8, 9, 10, 4, 5, 7, 1, 2, 3, 4, 6, 8, 9, 10, 1, 2, 3, 4, 1, 2, 3, 5, 6, 7, 8, 10, 3, 7, 9, 1, 3, 5, 6, 9, 1, 2, 3, 4, 5, 6, 7, 10, 1, 3, 4, 5, 7, 9, 1, 3, 4, 5, 9, 1, 2, 7, 1, 3, 4, 5, 7, 1, 2, 5, 7, 1, 2, 3, 4, 5, 6, 7, 8, 9, 10, 7, 10, 9, 1, 2, 3, 4, 5, 6, 7, 8, 9, 10, 9, 5, 7, 3, 5, 3, 5, 9, 10, 5, 6, 2, 6, 1, 2, 3, 4, 5, 6, 7, 8, 9, 10, 6, 1, 2, 3, 4, 5, 6, 7, 8, 9, 10, 3, 1, 2, 3, 4, 5, 6, 7, 8, 9, 3, 1, 2, 3, 4, 5, 6, 7, 8, 9, 10, 1, 2, 3, 4, 5, 6, 7, 9, 10, 1, 2, 3, 4, 5, 6, 7, 8, 9, 10, 6, 7, 10, 2, 6, 7, 9, 10, 8, 3, 1, 2, 3, 4, 5, 6, 7, 8, 9, 10, 1, 2, 3, 4, 5, 6, 7, 8, 9, 10, 2, 5, 6, 2, 3, 7, 10, 1, 5, 6, 3, 2, 9, 4, 5, 7, 1, 2, 3, 5, 7, 8, 1, 2, 4, 7, 2, 2, 1, 2, 3, 4, 5, 6, 7, 8, 9, 10, 1, 2, 7, 1, 2, 3, 4, 5, 8, 1, 2, 3, 4, 5, 6, 7, 8, 9, 10, 2, 4, 7, 9, 1, 2, 3, 4, 5, 6, 7, 8, 9, 10, 1, 2, 3, 4, 5, 6, 7, 8, 9, 10, 9, 10, 1, 2, 3, 4, 5, 6, 7, 8, 9, 10, 7, 8, 9, 10, 2, 1, 3, 5, 7, 4, 9, 1, 3, 9, 1, 8, 1, 2, 3, 4, 5, 7, 8, 9, 10, 1, 7, 10, 1, 2, 3, 4, 5, 6, 7, 8, 9, 10, 1, 2, 3, 4, 5, 6, 7, 8, 9, 10, 1, 2, 3, 4, 5, 6, 7, 8, 9, 1, 7, 4, 10, 4, 4, 1, 2, 3, 4, 5, 6, 7, 8, 9, 10, 1, 2, 3, 4, 5, 6, 7, 8, 9, 10, 1, 2, 3, 4, 5, 10, 1, 2, 3, 4, 5, 6, 7, 8, 9, 10, 10, 2, 3, 8, 5, 1, 2, 3, 4, 5, 6, 7, 8, 9, 10, 1, 2, 3, 4, 5, 6, 7, 8, 9, 10, 1, 2, 3, 4, 5, 6, 7, 8, 9, 10, 6, 1, 2, 4, 4, 1, 2, 3, 4, 5, 6, 7, 8, 9, 10, 1, 3, 4, 5, 6, 7, 9, 9, 1, 2, 3, 4, 5, 6, 7, 8, 9, 10, 1, 2, 3, 4, 6, 8, 10, 1, 2, 3, 4, 5, 6, 7, 8, 9, 10, 1, 2, 5, 6, 7, 9, 1, 2, 3, 4, 5, 6, 7, 8, 9, 10, 3, 4, 8, 1, 2, 3, 4, 5, 6, 7, 8, 9, 10, 4, 1, 5, 10, 5, 10, 10, 10, 10, 3, 7, 10, 6, 10, 10, 7, 1, 2, 3, 4, 7, 9, 8, 1, 2, 6, 1, 2, 3, 6, 7, 6, 1, 3, 4, 6, 1, 5, 6, 8, 1, 7, 9, 10, 1, 2, 5, 8, 9, 3, 3, 4, 6, 7, 10, 1, 3, 5, 7, 10, 7, 1, 2, 4, 5, 6, 7, 10, 3, 1, 2, 3, 4, 5, 6, 7, 8, 9, 10, 1, 9, 1, 2, 3, 4, 5, 6, 7, 9, 10, 7, 9, 1, 2, 3, 4, 5, 6, 7, 8, 9, 10, 8, 1, 2, 3, 4, 5, 6, 7, 8, 9, 10, 2, 3, 4, 5, 6, 8, 9, 10, 1, 2, 3, 4, 5, 6, 7, 8, 9, 10, 5, 3, 2, 1, 2, 3, 4, 5, 6, 7, 8, 9, 10, 1, 6, 10, 1, 2, 3, 4, 5, 6, 7, 8, 9, 10, 1, 2, 3, 4, 5, 6, 7, 8, 9, 10, 1, 2, 3, 4, 5, 6, 7, 8, 9, 10, 10, 1, 2, 4, 7, 9, 1, 2, 3, 4, 5, 6, 7, 8, 9, 10, 1, 2, 3, 4, 5, 6, 7, 9, 10, 2, 6, 1, 2, 3, 4, 5, 6, 7, 8, 9, 10, 1, 2, 3, 4, 5, 6, 7, 8, 9, 10, 1, 2, 7, 8, 1, 2, 1, 2, 1, 2, 3, 4, 5, 6, 7, 8, 9, 10, 1, 2, 3, 4, 5, 6, 7, 8, 9, 10, 1, 2, 3, 4, 5, 6, 7, 8, 9, 10, 1, 2, 3, 4, 5, 7, 8, 9, 10, 1, 2, 3, 4, 5, 6, 7, 8, 9, 10, 6, 10, 1, 2, 3, 4, 5, 6, 7, 8, 9, 10, 1, 2, 3, 4, 5, 6, 7, 8, 9, 10, 1, 3, 5, 6, 7, 8, 1, 2, 3, 4, 5, 6, 8, 1, 6, 1, 2, 3, 4, 5, 6, 7, 8, 9, 10, 2, 5, 9, 10, 3, 6, 1, 3, 4, 8, 9, 1, 2, 3, 4, 5, 6, 7, 8, 9, 10, 2, 5, 8, 2, 5, 5, 1, 2, 3, 4, 5, 6, 7, 9, 10, 1, 2, 3, 4, 5, 6, 7, 8, 9, 10, 10, 1, 2, 3, 4, 5, 6, 7, 8, 9, 10, 1, 2, 4, 5, 8, 1, 1, 2, 4, 5, 6, 9, 6, 2, 3, 6, 7, 8, 10, 1, 2, 3, 4, 5, 6, 7, 8, 9, 10, 1, 2, 3, 4, 5, 7, 8, 9, 10, 6, 6, 10, 1, 2, 3, 4, 5, 6, 7, 8, 9, 10, 1, 2, 3, 4, 5, 6, 7, 8, 9, 10, 8, 2, 4, 6, 8, 1, 2, 3, 4, 5, 6, 7, 8, 9, 10, 2, 6, 10, 6, 10, 6, 1, 2, 3, 4, 5, 6, 7, 8, 9, 10, 1, 3, 9, 2, 8, 2, 6, 1, 2, 3, 4, 5, 6, 7, 8, 9, 10, 4, 1, 3, 8, 10, 1, 2, 3, 4, 5, 6, 7, 8, 9, 10, 1, 2, 3, 4, 5, 6, 7, 8, 9, 10, 1, 2, 3, 4, 5, 6, 7, 8, 9, 10, 1, 3, 4, 5, 7, 9, 10, 3, 5, 5, 2, 3, 5, 1, 2, 3, 4, 5, 6, 7, 9, 10, 1, 2, 3, 4, 5, 6, 7, 8, 9, 10, 9, 1, 5, 5, 6, 7, 10, 1, 2, 3, 4, 5, 6, 7, 8, 9, 10, 8, 6, 1, 2, 3, 4, 10, 3, 9, 1, 4, 1, 2, 7, 2, 10, 1, 8, 3, 4, 6, 1, 1, 2, 3, 4, 5, 6, 8, 9, 10, 2, 5, 7, 8, 1, 2, 3, 4, 5, 4, 6, 10, 1, 2, 3, 4, 5, 6, 7, 9, 6, 2, 3, 10, 10, 3, 4, 7, 10, 6, 6, 8, 3, 4, 5, 7, 8, 9, 5, 8, 1, 2, 3, 4, 5, 6, 7, 8, 9, 10, 1, 2, 3, 4, 5, 6, 7, 8, 9, 10, 6, 1, 2, 3, 4, 5, 6, 7, 8, 9, 10, 2, 5, 8, 9, 6, 1, 2, 3, 4, 5, 6, 7, 8, 9, 10, 1, 2, 4, 8, 10, 1, 2, 3, 4, 5, 6, 7, 8, 9, 10, 5, 1, 1, 2, 3, 4, 5, 6, 7, 8, 9, 10, 3, 4, 3, 4, 9, 1, 2, 3, 4, 5, 6, 7, 8, 9, 10, 5, 9, 1, 3, 2, 3, 5, 7, 10, 1, 3, 1, 2, 3, 4, 5, 6, 7, 8, 9, 10, 1, 2, 3, 4, 5, 6, 7, 8, 9, 10, 4, 8, 3, 1, 1, 2, 3, 4, 5, 6, 7, 8, 9, 10, 2, 3, 2, 3, 4, 6, 7, 8, 9, 1, 3, 5, 6, 7, 1, 2, 3, 4, 5, 6, 7, 8, 9, 10, 7, 3, 9, 1, 2, 3, 4, 5, 6, 7, 10, 1, 2, 3, 4, 5, 7, 9, 7, 5, 2, 3, 5, 1, 4, 5, 10, 2, 4, 4, 8, 1, 2, 3, 4, 5, 6, 7, 8, 9, 10, 1, 2, 3, 4, 5, 6, 7, 8, 9, 10, 1, 2, 3, 4, 5, 6, 7, 8, 9, 10, 1, 5, 10, 6, 1, 2, 3, 4, 5, 6, 7, 8, 9, 10, 4, 7, 2, 5, 8, 10, 9, 1, 5, 7, 1, 2, 3, 4, 5, 6, 7, 8, 9, 10, 1, 2, 3, 5, 7, 1, 7, 9, 10, 8, 9, 8, 1, 2, 3, 4, 5, 7, 8, 9, 10, 10, 4, 1, 2, 3, 4, 5, 6, 7, 8, 9, 10, 1, 2, 3, 4, 5, 6, 7, 8, 9, 10, 8, 1, 4, 5, 8, 1, 2, 3, 4, 5, 6, 7, 10, 2, 1, 2, 4, 7, 8, 1, 2, 3, 4, 5, 6, 7, 8, 9, 10, 3, 7, 8, 1, 2, 3, 4, 6, 7, 8, 2, 5, 9, 1, 2, 3, 4, 5, 6, 7, 8, 9, 10, 3, 7, 8, 9, 1, 2, 3, 4, 5, 6, 7, 8, 9, 10, 1, 2, 3, 4, 5, 6, 7, 8, 9, 10, 5, 7, 1, 2, 3, 5, 7, 8, 9, 1, 6, 1, 2, 3, 4, 5, 6, 7, 8, 9, 10, 6, 1, 2, 3, 4, 5, 6, 7, 8, 9, 10, 2, 4, 5, 1, 2, 3, 4, 5, 6, 7, 8, 9, 10, 9, 2, 9, 1, 2, 3, 4, 5, 6, 7, 8, 9, 10, 1, 2, 3, 4, 5, 6, 7, 8, 9, 7, 5, 2, 7, 7, 1, 2, 3, 4, 5, 6, 7, 8, 9, 10, 9, 2, 3, 4, 5, 6, 10, 1, 2, 3, 4, 5, 6, 7, 8, 9, 10, 5, 6, 1, 2, 3, 4, 5, 6, 7, 8, 9, 10, 1, 3, 5, 7, 8, 1, 2, 3, 4, 5, 6, 7, 8, 9, 10, 5, 10, 1, 5, 8, 8, 1, 1, 2, 3, 6, 7, 10, 7, 1, 3, 4, 5, 6, 7, 9, 10, 1, 3, 4, 1, 1, 2, 3, 4, 6, 9, 10, 4, 1, 2, 3, 4, 5, 6, 7, 8, 9, 10, 1, 2, 3, 4, 5, 6, 7, 8, 9, 10, 9, 7, 1, 2, 3, 4, 5, 6, 7, 8, 9, 10, 1, 2, 3, 4, 5, 6, 7, 8, 9, 10, 1, 2, 3, 4, 5, 6, 7, 9, 10, 3, 5, 10, 1, 2, 3, 4, 5, 6, 8, 1, 2, 3, 4, 5, 6, 7, 8, 9, 1, 2, 3, 4, 5, 6, 7, 8, 9, 10, 1, 2, 3, 4, 5, 6, 7, 8, 9, 10, 2, 3, 5, 7, 1, 2, 3, 4, 5, 6, 7, 8, 9, 10, 2, 3, 4, 5, 6, 7, 1, 2, 3, 4, 5, 6, 7, 8, 9, 10, 3, 5, 6, 1, 2, 3, 5, 6, 7, 7, 10, 1, 3, 6, 1, 5, 7, 1, 7, 10, 1, 3, 7, 1, 2, 3, 4, 5, 6, 7, 8, 9, 10, 1, 2, 3, 4, 5, 6, 7, 8, 9, 10, 1, 1, 2, 3, 4, 5, 6, 7, 8, 9, 1, 2, 3, 4, 5, 6, 7, 8, 9, 1, 2, 3, 1, 2, 3, 4, 5, 6, 7, 8, 9, 10, 1, 2, 3, 4, 5, 6, 7, 8, 9, 10, 1, 2, 3, 4, 5, 6, 7, 8, 9, 10, 1, 2, 3, 4, 6, 7, 8, 9, 7, 2, 3, 2, 3, 5, 9, 8, 10, 2, 3, 5, 9], \"Freq\": [0.05306505682986969, 0.7959758524480454, 0.05306505682986969, 0.05306505682986969, 0.5686641256559977, 0.7996066742073054, 0.6889357537436491, 0.8377007849644313, 0.3681874570927696, 0.3681874570927696, 0.12908158967952799, 0.38724476903858396, 0.16596204387367883, 0.11678810494814437, 0.06146742365691809, 0.018440227097075428, 0.018440227097075428, 0.04302719655984266, 0.006146742365691809, 0.055320681291226276, 0.07494184318867794, 0.5245929023207456, 0.11241276478301691, 0.03747092159433897, 0.03747092159433897, 0.14988368637735588, 0.23169468080618472, 0.46338936161236943, 0.9146166096169697, 0.36776892200511396, 0.04903585626734853, 0.0735537844010228, 0.04903585626734853, 0.0735537844010228, 0.2942151376040912, 0.0735537844010228, 0.024517928133674264, 0.024517928133674264, 0.09104963116860755, 0.0780425410016636, 0.09104963116860755, 0.05202836066777574, 0.3121701640066544, 0.16909217217027117, 0.02601418033388787, 0.0780425410016636, 0.06503545083471968, 0.02601418033388787, 0.3482974116206913, 0.034829741162069126, 0.17414870581034564, 0.034829741162069126, 0.034829741162069126, 0.034829741162069126, 0.3482974116206913, 0.5680793275981904, 0.031102114518774343, 0.7153486339318099, 0.031102114518774343, 0.18661268711264606, 0.3778404829540957, 0.7974219287610694, 0.378642496257201, 0.03753498468039427, 0.6380947395667026, 0.07506996936078854, 0.22520990808236563, 0.24866310818482637, 0.12433155409241319, 0.12433155409241319, 0.49732621636965274, 0.08982102412272241, 0.11976136549696322, 0.3293437551166488, 0.14970170687120402, 0.029940341374240804, 0.26946307236816724, 0.5322005237381864, 0.35466128609727415, 0.12240522263534241, 0.10357364992221281, 0.037663145426259204, 0.07846488630470667, 0.09729645901783628, 0.11926662718315414, 0.028247359069694403, 0.028247359069694403, 0.03138595452188267, 0.7686779347430677, 0.631492927251248, 0.09021327532160685, 0.09021327532160685, 0.09021327532160685, 0.717310316082282, 0.119551719347047, 0.13786535176309045, 0.01531837241812116, 0.06127348967248464, 0.12254697934496928, 0.01531837241812116, 0.16850209659933277, 0.01531837241812116, 0.13786535176309045, 0.0765918620906058, 0.2604123311080597, 0.15310289877068137, 0.18083019539844256, 0.23628478865396493, 0.23025711547401687, 0.06992100888739779, 0.0421937122596366, 0.015671950267865022, 0.034960504443698893, 0.010849811723906554, 0.02411069271979234, 0.09006395205452612, 0.10391994467829936, 0.055423970495093, 0.041567977871319745, 0.07620795943075287, 0.10391994467829936, 0.01385599262377325, 0.18705590042093886, 0.055423970495093, 0.2701918561635783, 0.802337318257107, 0.7686796522283971, 0.7260125363335312, 0.6209357532814301, 0.18898044665087005, 0.05399441332882001, 0.10798882665764002, 0.7140374039241874, 0.20874415984358805, 0.6262324795307641, 0.6940653840373815, 0.7615083633283889, 0.2034594568553581, 0.0651070261937146, 0.12207567411321486, 0.150559998072965, 0.2522897265006441, 0.048830269645285945, 0.0325535130968573, 0.0651070261937146, 0.028484323959750136, 0.0325535130968573, 0.2037064853968004, 0.6111194561904012, 0.7638623862287742, 0.6863131829109121, 0.26671789674028334, 0.5334357934805667, 0.13335958560425534, 0.18465173391358433, 0.09232586695679217, 0.09232586695679217, 0.11284272628052376, 0.06155057797119478, 0.041033718647463184, 0.020516859323731592, 0.03077528898559739, 0.23594388222291332, 0.21275654195107324, 0.6382696258532198, 0.09388349285771685, 0.19559061012024345, 0.04694174642885843, 0.08605986845290711, 0.11735436607214607, 0.2034142345250532, 0.03129449761923895, 0.03129449761923895, 0.0625889952384779, 0.13300161488176554, 0.03903009073833436, 0.21466549906083898, 0.029272568053750773, 0.10733274953041949, 0.13660531758417027, 0.029272568053750773, 0.029272568053750773, 0.3415132939604257, 0.06830265879208514, 0.00975752268458359, 0.6475095414458322, 0.9638635306918024, 0.10292868873270745, 0.8920486356834646, 0.09264378867194957, 0.5558627320316974, 0.046321894335974785, 0.09264378867194957, 0.046321894335974785, 0.046321894335974785, 0.046321894335974785, 0.046321894335974785, 0.635786243627489, 0.5766528407334576, 0.1441632101833644, 0.053974891735592626, 0.7016735925627041, 0.053974891735592626, 0.10794978347118525, 0.053974891735592626, 0.3153701872454664, 0.12448823180742095, 0.13278744726124903, 0.10788980089976483, 0.13278744726124903, 0.033196861815312256, 0.041496077269140313, 0.04979529272296838, 0.033196861815312256, 0.02489764636148419, 0.956340050905149, 0.1374102234601493, 0.1446423404843677, 0.07955328726640223, 0.08678540429062062, 0.1374102234601493, 0.1808029256054596, 0.094017521314839, 0.05785693619374708, 0.05062481916952869, 0.02892846809687354, 0.17648109606476742, 0.08824054803238371, 0.17648109606476742, 0.4412027401619185, 0.6797776511929076, 0.12508129869266166, 0.12508129869266166, 0.12508129869266166, 0.5003251947706466, 0.6010556483540317, 0.29286935839253214, 0.5857387167850643, 0.5682924365801169, 0.14328177091059988, 0.7164088545529994, 0.07831966045630001, 0.66571711387855, 0.15663932091260002, 0.039159830228150005, 0.7117142305529934, 0.7971558168143892, 0.15169443804043792, 0.7584721902021896, 0.05587861758499492, 0.08381792637749237, 0.34225653270809386, 0.17462067995310912, 0.08381792637749237, 0.06286344478311928, 0.14668137116061167, 0.020954481594373093, 0.01396965439624873, 0.02793930879249746, 0.8314966452501933, 0.13858277420836554, 0.5548156805123051, 0.26921068715948193, 0.5384213743189639, 0.7110620150901195, 0.06561000478632117, 0.3444525251281862, 0.19683001435896352, 0.1722262625640931, 0.03280500239316059, 0.04920750358974088, 0.09021375658119161, 0.016402501196580294, 0.016402501196580294, 0.016402501196580294, 0.1080874367015679, 0.7566120569109752, 0.1080874367015679, 0.1901633901212554, 0.07606535604850216, 0.050710237365668105, 0.13945315275558728, 0.3296165428768427, 0.025355118682834053, 0.08874291538991919, 0.025355118682834053, 0.03803267802425108, 0.03803267802425108, 0.14058763066118599, 0.5623505226447439, 0.28117526132237197, 0.1845973094252688, 0.5537919282758064, 0.535829585544524, 0.8862011957266339, 0.7120351923797288, 0.6975639892891572, 0.1743909973222893, 0.23253084490664022, 0.11626542245332011, 0.11626542245332011, 0.46506168981328044, 0.7204852251057163, 0.18012130627642908, 0.714740620508815, 0.1753471045755259, 0.08219395526977777, 0.30000793673468884, 0.06712506347031852, 0.06438526496132592, 0.1410996232131185, 0.05068627241636296, 0.04520667539837778, 0.030137783598918517, 0.04520667539837778, 0.7076688312206352, 0.1769172078051588, 0.09912326563162804, 0.04956163281581402, 0.14868489844744207, 0.04956163281581402, 0.5947395937897683, 0.37746886152155884, 0.7347009705183488, 0.2671435668256987, 0.08904785560856622, 0.4452392780428311, 0.08904785560856622, 0.5548356033481618, 0.6412257361156019, 0.10687095601926698, 0.10687095601926698, 0.059013355490652786, 0.826186976869139, 0.059013355490652786, 0.09417674669189818, 0.24216877720773816, 0.09417674669189818, 0.39016080772357814, 0.053815283823941816, 0.013453820955985454, 0.04036146286795636, 0.053815283823941816, 0.013453820955985454, 0.15451465114568608, 0.07725732557284304, 0.15451465114568608, 0.07725732557284304, 0.46354395343705823, 0.6141069529596452, 0.10304684278973808, 0.08135277062347743, 0.4826931056992994, 0.016270554124695486, 0.07592925258191227, 0.09219980670660775, 0.05423518041565162, 0.037964626290956136, 0.03254110824939097, 0.02711759020782581, 0.5680054272136177, 0.8338206875572507, 0.19231872798792585, 0.04525146540892373, 0.022625732704461866, 0.06222076493727013, 0.2488830597490805, 0.10747223034619385, 0.27716522562965784, 0.011312866352230933, 0.022625732704461866, 0.005656433176115467, 0.5180474977613616, 0.14244584425241794, 0.2479612844393942, 0.09496389616827862, 0.07913658014023219, 0.13717007224306912, 0.04748194808413931, 0.1266185282243715, 0.005275772009348812, 0.02110308803739525, 0.09496389616827862, 0.11375395683586062, 0.1257280575554249, 0.1436892086347713, 0.1766179856135731, 0.08381870503694994, 0.1766179856135731, 0.09279928057662314, 0.04190935251847497, 0.023948201439128552, 0.020954676259237484, 0.14810561605600758, 0.10578972575429113, 0.06347383545257468, 0.14810561605600758, 0.04231589030171645, 0.10578972575429113, 0.06347383545257468, 0.2538953418102987, 0.021157945150858226, 0.06347383545257468, 0.45176749175192327, 0.20078555188974367, 0.32627652182083344, 0.026055232143200234, 0.026055232143200234, 0.18238662500240163, 0.026055232143200234, 0.5992703392936053, 0.026055232143200234, 0.05211046428640047, 0.026055232143200234, 0.16728034416958257, 0.11152022944638837, 0.6133612619551361, 0.055760114723194185, 0.029103928209833946, 0.08731178462950184, 0.11641571283933579, 0.05820785641966789, 0.029103928209833946, 0.029103928209833946, 0.5820785641966789, 0.11641571283933579, 0.2550271717207073, 0.12751358586035366, 0.5100543434414146, 0.7395559095995431, 0.16434575768878737, 0.08217287884439368, 0.5480362800381484, 0.2740181400190742, 0.13014010354412175, 0.5465884348853114, 0.026028020708824352, 0.10411208283529741, 0.07808406212647305, 0.052056041417648705, 0.026028020708824352, 0.026028020708824352, 0.266753658474342, 0.533507316948684, 0.09358025216688856, 0.6550617651682199, 0.09358025216688856, 0.09358025216688856, 0.7110013020976969, 0.0890985309916438, 0.0890985309916438, 0.1781970619832876, 0.5345911859498628, 0.46020279871136616, 0.07670046645189436, 0.421852565485419, 0.0668445729857722, 0.0668445729857722, 0.1336891459715444, 0.0668445729857722, 0.5347565838861776, 0.048923150546690976, 0.048923150546690976, 0.7827704087470556, 0.048923150546690976, 0.08442862642004131, 0.10855109111148169, 0.10855109111148169, 0.08442862642004131, 0.13267355580292206, 0.060306161728600934, 0.1809184851858028, 0.024122464691440373, 0.16885725284008263, 0.03618369703716056, 0.2619373258917758, 0.5238746517835516, 0.7628866800795402, 0.22741599258025702, 0.06064426468806854, 0.055590575964062826, 0.09602008575610853, 0.08085901958409139, 0.1263422181001428, 0.18193279406420562, 0.11623484065213137, 0.035375821068039985, 0.015161066172017136, 0.568531769729716, 0.7971976554313475, 0.5681215069975466, 0.13572814417648119, 0.8143688650588872, 0.7441411474902211, 0.06764919522638374, 0.06764919522638374, 0.06764919522638374, 0.7973218121497184, 0.7117890174622137, 0.26677391800811506, 0.5335478360162301, 0.07933419645617486, 0.15866839291234971, 0.07140077681055737, 0.07933419645617486, 0.11106787503864479, 0.11106787503864479, 0.08726761610179234, 0.23800258936852456, 0.01586683929123497, 0.03966709822808743, 0.5363564634858108, 0.10125140221129783, 0.08744439281884812, 0.12426308453204733, 0.24852616906409467, 0.14267243038864694, 0.13346775746034714, 0.03681869171319921, 0.027614018784899406, 0.050625701105648915, 0.050625701105648915, 0.5348442134199533, 0.5892050129240962, 0.04532346253262278, 0.06798519379893417, 0.09064692506524556, 0.04532346253262278, 0.09064692506524556, 0.02266173126631139, 0.02266173126631139, 0.02266173126631139, 0.7262104817575663, 0.028035936498947336, 0.05607187299789467, 0.44857498398315737, 0.05607187299789467, 0.084107809496842, 0.084107809496842, 0.084107809496842, 0.028035936498947336, 0.11214374599578934, 0.05607187299789467, 0.026077871265228647, 0.46940168277411565, 0.052155742530457294, 0.026077871265228647, 0.07823361379568594, 0.07823361379568594, 0.026077871265228647, 0.026077871265228647, 0.18254509885660053, 0.09420277256347906, 0.09206180045976363, 0.08563888414861734, 0.06208819100774757, 0.30401803872759153, 0.05994721890403213, 0.04281944207430867, 0.0963437446671945, 0.064229163111463, 0.0963437446671945, 0.7177775293153066, 0.21143050299094887, 0.6342915089728466, 0.10259510727535377, 0.20519021455070754, 0.10259510727535377, 0.4103804291014151, 0.10259510727535377, 0.5548452301812702, 0.7182928101059854, 0.16524537491600896, 0.0677929743245165, 0.14829713133487984, 0.21609010565939635, 0.11863770506790387, 0.10168946148677475, 0.0466076698481051, 0.0932153396962102, 0.02542236537169369, 0.016948243581129126, 0.12087379693984589, 0.09297984379988146, 0.21385364073972735, 0.06508589065991702, 0.07438387503990516, 0.03719193751995258, 0.09297984379988146, 0.01859596875997629, 0.26034356263966807, 0.01859596875997629, 0.1553879544581231, 0.1553879544581231, 0.6215518178324924, 0.32049421352794044, 0.08012355338198511, 0.08012355338198511, 0.4006177669099255, 0.3776328346444667, 0.5574579939989746, 0.05394754780635238, 0.5335090756934783, 0.23039896922014036, 0.6911969076604211, 0.42801821840765836, 0.1351636479182079, 0.42801821840765836, 0.06728360344272394, 0.5046270258204295, 0.06728360344272394, 0.13456720688544788, 0.23549261204953378, 0.5540340469680787, 0.11848739221702863, 0.7405462013564289, 0.029621848054257157, 0.08886554416277147, 0.9324751474082086, 0.7104390338611611, 0.16733916350814718, 0.1289131333692393, 0.11031989297944517, 0.1859324038979413, 0.10288259682352752, 0.09172665258965104, 0.05454017181006278, 0.03966557949822748, 0.06817521476257847, 0.04834242501346474, 0.11916859660656613, 0.7150115796393968, 0.11916859660656613, 0.20049325396106205, 0.05012331349026551, 0.10024662698053102, 0.05012331349026551, 0.05012331349026551, 0.5513564483929206, 0.1896622472133779, 0.08658493894523775, 0.1937853395441035, 0.16492369322902428, 0.1278158622524938, 0.08246184661451214, 0.061846384960884106, 0.05360020029943289, 0.020615461653628035, 0.01236927699217682, 0.08351381501845609, 0.4175690750922804, 0.08351381501845609, 0.4175690750922804, 0.25344420306018495, 0.12542901886141805, 0.1086189441686507, 0.0801711254578136, 0.10473969616262746, 0.0995673654879298, 0.04137864539758122, 0.09827428281925539, 0.03749939739155798, 0.05043022407830211, 0.11226230947552082, 0.20046840977771574, 0.2646183009065848, 0.07216862751997767, 0.06414989112886904, 0.08820610030219493, 0.05613115473776041, 0.08820610030219493, 0.03207494556443452, 0.02405620917332589, 0.44264586600620787, 0.22132293300310393, 0.08589382929170739, 0.16105092992195136, 0.08159913782712203, 0.07945179209482933, 0.0687150634333659, 0.36290142875746373, 0.05368364330731712, 0.05153629757502443, 0.030062840252097586, 0.025768148787512216, 0.8712668829193568, 0.3117929691802672, 0.5196549486337787, 0.10393098972675574, 0.9387652169195182, 0.5409148376857895, 0.27045741884289476, 0.03863677412041354, 0.11591032236124062, 0.936376330356157, 0.05508096060918571, 0.5972216533745006, 0.11944433067490014, 0.11944433067490014, 0.27654373609041316, 0.5530874721808263, 0.11441801268057337, 0.028604503170143344, 0.05720900634028669, 0.17162701902086006, 0.028604503170143344, 0.48627655389243685, 0.028604503170143344, 0.028604503170143344, 0.05720900634028669, 0.6644258862620129, 0.1328851772524026, 0.1328851772524026, 0.13229101125533133, 0.12126676031738706, 0.10473038391047064, 0.049609129220749254, 0.06614550562766566, 0.2535577715727184, 0.06063338015869353, 0.13229101125533133, 0.03307275281383283, 0.03858487828280498, 0.027412830273173344, 0.17818339677562672, 0.13706415136586672, 0.05482566054634669, 0.013706415136586672, 0.13706415136586672, 0.041119245409760016, 0.013706415136586672, 0.027412830273173344, 0.35636679355125345, 0.43966932382335183, 0.0694214721826345, 0.17355368045658626, 0.09256196291017933, 0.03471073609131725, 0.011570245363772417, 0.09256196291017933, 0.03471073609131725, 0.03471073609131725, 0.2275836183504134, 0.6827508550512402, 0.9167567720540974, 0.5178865253843455, 0.5140296653468085, 0.6131658816486966, 0.10683873350431418, 0.23881599253905522, 0.09426947073910075, 0.08170020797388731, 0.08170020797388731, 0.08170020797388731, 0.04399241967824701, 0.09426947073910075, 0.13197725903474106, 0.05027705106085373, 0.3149524478615585, 0.0928280898960383, 0.0928280898960383, 0.10608924559547234, 0.14255742376891595, 0.05304462279773617, 0.039783467098302126, 0.07625164527174574, 0.043098756023160635, 0.039783467098302126, 0.19031735242817954, 0.14273801432113464, 0.047579338107044886, 0.047579338107044886, 0.09515867621408977, 0.42821404296340393, 0.07914400871031403, 0.05276267247354269, 0.15828801742062806, 0.1319066811838567, 0.05276267247354269, 0.039572004355157016, 0.05276267247354269, 0.14509734930224238, 0.25062269424932776, 0.026381336236771344, 0.9056731665551516, 0.7128823293977558, 0.17822058234943894, 0.08911029117471947, 0.6053087010810116, 0.09062505028892126, 0.093750052023022, 0.09687505375712273, 0.2062501144506484, 0.24687513699395794, 0.03125001734100733, 0.06250003468201466, 0.025000013872805867, 0.05937503294791393, 0.08750004855482053, 0.06753728110590433, 0.15195888248828474, 0.35457072580599774, 0.033768640552952166, 0.11819024193533258, 0.10130592165885649, 0.0844216013823804, 0.016884320276476083, 0.050652960829428245, 0.016884320276476083, 0.07556197968150132, 0.17001445428337797, 0.07556197968150132, 0.41559088824825724, 0.03778098984075066, 0.1322334644426273, 0.05667148476112598, 0.01889049492037533, 0.01889049492037533, 0.01889049492037533, 0.5363342305893313, 0.7282032081795417, 0.16182293515100926, 0.08091146757550463, 0.6772255770956799, 0.2367877864353877, 0.07892926214512924, 0.06964346659864344, 0.08357215991837214, 0.09285795546485792, 0.06500056882540055, 0.03714318218594317, 0.032500284412700274, 0.10678664878458662, 0.19500170647620163, 0.07087061139556625, 0.07087061139556625, 0.07087061139556625, 0.07087061139556625, 0.1417412227911325, 0.4960942797689637, 0.07087061139556625, 0.5686916711658024, 0.053062962342235426, 0.053062962342235426, 0.053062962342235426, 0.2122518493689417, 0.053062962342235426, 0.053062962342235426, 0.15918888702670628, 0.053062962342235426, 0.371440736395648, 0.053062962342235426, 0.02360607621351787, 0.011803038106758935, 0.011803038106758935, 0.02360607621351787, 0.011803038106758935, 0.8144096293663665, 0.10622734296083042, 0.1265302684383505, 0.06326513421917525, 0.2952372930228178, 0.1012242147506804, 0.08013583667762199, 0.14340097089679724, 0.046394431760728515, 0.06326513421917525, 0.03795908053150515, 0.04217675614611684, 0.13651763261781324, 0.06825881630890662, 0.06825881630890662, 0.06825881630890662, 0.06825881630890662, 0.6143293467801596, 0.14883506831146895, 0.07441753415573447, 0.16123799067075803, 0.0620146117964454, 0.09922337887431264, 0.08682045651502356, 0.04961168943715632, 0.22325260246720344, 0.04961168943715632, 0.02480584471857816, 0.21754060238325496, 0.6526218071497648, 0.07251353412775165, 0.14246449949444673, 0.40958543604653436, 0.10684837462083505, 0.12465643705764089, 0.05342418731041752, 0.03561612487361168, 0.05342418731041752, 0.01780806243680584, 0.03561612487361168, 0.01780806243680584, 0.6776151993007042, 0.19861464912098292, 0.6951512719234402, 0.6969240991203721, 0.26333289176153907, 0.5266657835230781, 0.6796246320272007, 0.7585326503906618, 0.6794717465152815, 0.08033375929764217, 0.8435044726252428, 0.04016687964882108, 0.3124165236518566, 0.6248330473037133, 0.6797740230327969, 0.38716137743396817, 0.09244478855832726, 0.04622239427916363, 0.18488957711665452, 0.13866718283749088, 0.13866718283749088, 0.3235567599541454, 0.7411588730179667, 0.7701308207756071, 0.09626635259695089, 0.09626635259695089, 0.0712911019108565, 0.142582203821713, 0.6416199171977084, 0.0712911019108565, 0.0712911019108565, 0.8022474816319448, 0.2694422119153929, 0.5388844238307858, 0.5110410009562392, 0.2555205004781196, 0.05953826892266669, 0.3572296135360002, 0.47630615138133353, 0.05953826892266669, 0.7147612560283565, 0.11912687600472607, 0.2862157196147839, 0.6678366791011624, 0.06434053937750188, 0.4182135059537622, 0.03217026968875094, 0.4182135059537622, 0.03217026968875094, 0.5340500837984926, 0.16879699633833178, 0.6189223199072166, 0.05626566544611059, 0.05626566544611059, 0.11253133089222118, 0.1259652755889057, 0.22043923228058496, 0.03149131889722642, 0.5668437401500755, 0.03149131889722642, 0.5681004308159521, 0.10137917982150352, 0.5575854890182694, 0.10137917982150352, 0.05068958991075176, 0.05068958991075176, 0.05068958991075176, 0.05068958991075176, 0.8527487575446147, 0.037768565706923635, 0.16995854568115637, 0.16995854568115637, 0.05665284856038545, 0.018884282853461817, 0.05665284856038545, 0.20772711138808, 0.037768565706923635, 0.20772711138808, 0.018884282853461817, 0.8951429298648623, 0.5685851834217057, 0.12067131852631499, 0.3469300407631556, 0.015083914815789374, 0.030167829631578748, 0.015083914815789374, 0.015083914815789374, 0.24134263705262998, 0.21117480742105124, 0.015083914815789374, 0.43607008670799347, 0.49836581338056396, 0.20629832438594348, 0.17925922361691204, 0.11015929942938729, 0.15322157102451142, 0.06709702783426318, 0.06709702783426318, 0.06709702783426318, 0.05608109789132444, 0.0771115096005711, 0.018026067179354285, 0.554843530145943, 0.12860727254008933, 0.04451790203310784, 0.02967860135540523, 0.05935720271081046, 0.04204468525349074, 0.027205384575788125, 0.00989286711846841, 0.2868931464355839, 0.10140188796430119, 0.26710741219864703, 0.10280645730530259, 0.03426881910176753, 0.582569924730048, 0.03426881910176753, 0.10280645730530259, 0.03426881910176753, 0.06853763820353506, 0.03426881910176753, 0.20090887062215249, 0.08459320868301157, 0.10926622788222327, 0.11279094491068209, 0.05992018948379987, 0.06344490651225868, 0.12336509599605855, 0.024673019199211707, 0.07401905759763512, 0.14803811519527024, 0.6056563410425554, 0.7155927785780276, 0.8497096107024636, 0.09113801634949353, 0.1128375440517539, 0.21482532425237763, 0.1367070245242403, 0.09330796911971957, 0.11066759128152787, 0.0824582052685894, 0.0412291026342947, 0.06726853587700714, 0.052078866485424875, 0.17091795142448724, 0.17091795142448724, 0.5127538542734617, 0.15046064993676087, 0.08358924996486713, 0.09194817496135385, 0.292562374877035, 0.117024949950814, 0.058512474975407, 0.10866602495432728, 0.03343569998594686, 0.050153549978920284, 0.03343569998594686, 0.2591842134445116, 0.12694736985037303, 0.14281579108166964, 0.08463157990024868, 0.10843421174719363, 0.07140789554083482, 0.09521052738777977, 0.06347368492518651, 0.0185131581031794, 0.03173684246259326, 0.06409356715673419, 0.11653375846678943, 0.058266879233394714, 0.10488038262011048, 0.06992025508007366, 0.2505475807035973, 0.09322700677343154, 0.15149388600682626, 0.0407868154633763, 0.0407868154633763, 0.6795856620965531, 0.08728316117653098, 0.17456632235306196, 0.08728316117653098, 0.17456632235306196, 0.43641580588265494, 0.13553660736972076, 0.16759903061847192, 0.14719567036926665, 0.13845137311960723, 0.15011043611915312, 0.11804801287040195, 0.068496995122332, 0.02914765749886468, 0.026232891748978214, 0.020403360249205277, 0.10084180770410706, 0.05042090385205353, 0.07563135577808029, 0.025210451926026764, 0.2268940673342409, 0.025210451926026764, 0.025210451926026764, 0.07563135577808029, 0.4033672308164282, 0.9301301200881794, 0.042278641822189975, 0.18022181959455658, 0.16091233892371123, 0.10298389691117518, 0.17378532603760813, 0.11263863724659785, 0.05792844201253604, 0.09332915657575251, 0.0386189613416907, 0.0386189613416907, 0.035400714563216466, 0.2140781763945754, 0.08919924016440642, 0.1427187842630503, 0.04459962008220321, 0.09811916418084707, 0.07135939213152515, 0.2140781763945754, 0.07135939213152515, 0.03567969606576257, 0.013379886024660963, 0.6666678981591262, 0.05128214601224047, 0.05128214601224047, 0.15384643803672143, 0.7931882642019894, 0.1321980440336649, 0.6187993587073891, 0.26519972516030965, 0.1841000139362839, 0.09205000696814195, 0.1687583461082602, 0.1073916747961656, 0.061366671312094626, 0.04602500348407097, 0.04602500348407097, 0.26080835307640216, 0.015341667828023656, 0.015341667828023656, 0.06753243474616674, 0.1588998464615688, 0.09136741171540205, 0.12314738100771581, 0.11122989252309816, 0.162872342623108, 0.17478983110772567, 0.051642450100009854, 0.03575246545385298, 0.023834976969235318, 0.16429051249078522, 0.12583954148230356, 0.13982171275811506, 0.15729942685287945, 0.13982171275811506, 0.04194651382743452, 0.03145988537057589, 0.059424227922198904, 0.09088411329277479, 0.04893759946534027, 0.04284197190989199, 0.04284197190989199, 0.04284197190989199, 0.04284197190989199, 0.6854715505582718, 0.04284197190989199, 0.04284197190989199, 0.04284197190989199, 0.04284197190989199, 0.1720192851456895, 0.11467952343045967, 0.10034458300165221, 0.27953133836174543, 0.07167470214403729, 0.05733976171522984, 0.050172291500826104, 0.09317711278724848, 0.035837351072018644, 0.01433494042880746, 0.5363115201784177, 0.7583864064214861, 0.3761738600834493, 0.05701385066889778, 0.055838307356137006, 0.12989753606006607, 0.1063866698048505, 0.1451795991259562, 0.03585407103920376, 0.053487220730615445, 0.022335322942454803, 0.018220921347792074, 0.43450929397189686, 0.13369516737596826, 0.06684758368798413, 0.08355947960998017, 0.0501356877659881, 0.1002713755319762, 0.033423791843992065, 0.0501356877659881, 0.016711895921996033, 0.016711895921996033, 0.09195659730230162, 0.27586979190690486, 0.06130439820153441, 0.030652199100767205, 0.45978298651150806, 0.030652199100767205, 0.1851802278812256, 0.0462950569703064, 0.462950569703064, 0.0925901139406128, 0.0462950569703064, 0.0925901139406128, 0.0462950569703064, 0.7998195946636683, 0.7116627999158304, 0.1359230207539507, 0.11893264315970686, 0.1116510527621738, 0.09466067516792996, 0.15291339834819453, 0.050971132782731514, 0.04368954238519844, 0.196602940733393, 0.03640795198766537, 0.05825272318026459, 0.08926750788079248, 0.17853501576158495, 0.5356050472847549, 0.08926750788079248, 0.15174510013372097, 0.7587255006686048, 0.050394253754120884, 0.050394253754120884, 0.050394253754120884, 0.15118276126236263, 0.7055195525576924, 0.4507954313900455, 0.07997983460145969, 0.07997983460145969, 0.05089625838274707, 0.06543804649210339, 0.10179251676549414, 0.06543804649210339, 0.05816715243742523, 0.03635447027339077, 0.014541788109356307, 0.4057212432411887, 0.10143031081029717, 0.4057212432411887, 0.6399134169115936, 0.7972606097067673, 0.7320045583410827, 0.07263145423805523, 0.048420969492036815, 0.048420969492036815, 0.024210484746018408, 0.024210484746018408, 0.048420969492036815, 0.024210484746018408, 0.14526290847611045, 0.5568411491584234, 0.16768062532309289, 0.1473557010415059, 0.05081231070396754, 0.2540615535198377, 0.08129969712634807, 0.10162462140793509, 0.05081231070396754, 0.07113723498555456, 0.0558935417743643, 0.015243693211190264, 0.51792018209266, 0.10227211945554064, 0.10227211945554064, 0.08181769556443251, 0.08181769556443251, 0.10227211945554064, 0.06136327167332438, 0.020454423891108128, 0.32727078225773004, 0.06136327167332438, 0.040908847782216255, 0.18815431944692654, 0.026879188492418073, 0.6719797123104518, 0.05375837698483615, 0.026879188492418073, 0.7108449857175567, 0.060784011411158356, 0.060784011411158356, 0.060784011411158356, 0.060784011411158356, 0.060784011411158356, 0.668624125522742, 0.8037792048116971, 0.05118637855291124, 0.5118637855291124, 0.3583046498703787, 0.10237275710582248, 0.7779928777886498, 0.16378797427129468, 0.0374550049354168, 0.0749100098708336, 0.1685475222093756, 0.22473002961250083, 0.093637512338542, 0.11236501480625041, 0.0187275024677084, 0.0187275024677084, 0.20600252714479242, 0.0374550049354168, 0.12982909512835492, 0.12982909512835492, 0.03245727378208873, 0.03245727378208873, 0.03245727378208873, 0.03245727378208873, 0.06491454756417746, 0.5193163805134197, 0.03245727378208873, 0.5362904686115797, 0.5274022190955502, 0.2637011095477751, 0.06325910462500131, 0.1084441793571451, 0.06325910462500131, 0.09037014946428759, 0.09940716441071636, 0.23496238860714774, 0.03614805978571504, 0.027111044839286277, 0.12651820925000262, 0.14459223914286015, 0.13776409387647193, 0.20336604334145858, 0.026240779785994654, 0.15088448376946925, 0.045921364625490645, 0.006560194946498663, 0.006560194946498663, 0.01968058483949599, 0.17056506860896525, 0.23616701807395188, 0.8370245326806249, 0.21949387725574462, 0.10974693862787231, 0.10974693862787231, 0.43898775451148925, 0.1824846046876178, 0.06292572575435096, 0.08809601605609134, 0.34923777793664784, 0.03775543545261058, 0.09438858863152644, 0.04090172174032813, 0.03460914916489303, 0.04404800802804567, 0.06292572575435096, 0.17217532403503472, 0.17217532403503472, 0.5165259721051041, 0.578566136336153, 0.2314264545344612, 0.7989203781022859, 0.10311425789704566, 0.2749713543921217, 0.12373710947645479, 0.07905426438773501, 0.07905426438773501, 0.06874283859803043, 0.13748567719606086, 0.05155712894852283, 0.04811998701862131, 0.034371419299015216, 0.15196879905774094, 0.7598439952887047, 0.5687540732647256, 0.15942814927390353, 0.6377125970956141, 0.7138326484028399, 0.9099327220363873, 0.02989246140604436, 0.05978492281208872, 0.17935476843626616, 0.02989246140604436, 0.0747311535151109, 0.05978492281208872, 0.17935476843626616, 0.01494623070302218, 0.11956984562417744, 0.2839783833574214, 0.8912581379304081, 0.20614225298155764, 0.10307112649077882, 0.10307112649077882, 0.515355632453894, 0.21291258329911297, 0.0527212111026375, 0.22406514718620937, 0.13180302775659375, 0.17641328330497932, 0.032443822217007694, 0.10442855276099351, 0.02737447499560024, 0.02027738888562981, 0.018249649997066828, 0.22295845117124874, 0.15994845410111322, 0.15510153124956436, 0.14540768554646658, 0.06300999707013552, 0.08239768847633105, 0.0678569199216844, 0.0339284599608422, 0.048469228515488856, 0.014540768554646658, 0.13509815684307508, 0.031787801610135315, 0.278143264088684, 0.24635546247854867, 0.04768170241520297, 0.027814326408868398, 0.12715120644054126, 0.01986737600633457, 0.035761276811402225, 0.04768170241520297, 0.09502176666775983, 0.06334784444517322, 0.4434349111162125, 0.09502176666775983, 0.15836961111293305, 0.09502176666775983, 0.03167392222258661, 0.13521429188259773, 0.8112857512955864, 0.6022096554824967, 0.07564410619033536, 0.07564410619033536, 0.7564410619033536, 0.10262416583656758, 0.10262416583656758, 0.01710402763942793, 0.03420805527885586, 0.01710402763942793, 0.41049666334627033, 0.2736644422308469, 0.01710402763942793, 0.01710402763942793, 0.059921998680894914, 0.15579719657032676, 0.059921998680894914, 0.03595319920853695, 0.2876255936682956, 0.11984399736178983, 0.023968799472357964, 0.059921998680894914, 0.09587519788943186, 0.09587519788943186, 0.5832189831796124, 0.19784621906270738, 0.5935386571881222, 0.08095807826430712, 0.08095807826430712, 0.16191615652861424, 0.5667065478501498, 0.1363197561310545, 0.06329131534656102, 0.14605688156898697, 0.08763412894139218, 0.12658263069312203, 0.06329131534656102, 0.08763412894139218, 0.048685627189662316, 0.03407993903276362, 0.20934819691554796, 0.8376607558808435, 0.6389208469726311, 0.028828562659850062, 0.057657125319700124, 0.11531425063940025, 0.057657125319700124, 0.6918855038364015, 0.6104563652142695, 0.3884722324090806, 0.206298811906885, 0.6188964357206551, 0.9271751733878814, 0.7981426052812385, 0.5702586019177154, 0.20244812008301463, 0.7085684202905512, 0.7095649876907891, 0.5548263222875818, 0.3749123441736281, 0.47716116531189035, 0.10224882113826222, 0.7108216193210637, 0.02659939131529494, 0.02659939131529494, 0.02659939131529494, 0.5585872176211938, 0.1861957392070646, 0.02659939131529494, 0.05319878263058988, 0.07979817394588483, 0.02659939131529494, 0.16496604433569984, 0.16496604433569984, 0.4948981330070995, 0.16496604433569984, 0.034308537584606745, 0.13723415033842698, 0.034308537584606745, 0.5489366013537079, 0.24015976309224724, 0.7972667705396195, 0.06643889754496829, 0.06643889754496829, 0.06322894200124865, 0.3582973380070757, 0.06322894200124865, 0.06322894200124865, 0.10538157000208109, 0.021076314000416218, 0.3161447100062433, 0.021076314000416218, 0.5363635780894895, 0.10650619884692532, 0.5325309942346266, 0.10650619884692532, 0.5193297935302409, 0.6563705377657197, 0.05469754481380997, 0.27348772406904986, 0.5179979563328285, 0.5363413498476542, 0.7169453872079061, 0.5547392670505984, 0.1476193482999342, 0.5904773931997368, 0.1476193482999342, 0.23118250378997057, 0.23118250378997057, 0.46236500757994115, 0.6880841469395454, 0.17202103673488636, 0.028204033593866046, 0.05640806718773209, 0.32434638632945956, 0.08461210078159814, 0.11281613437546419, 0.26088731074326094, 0.028204033593866046, 0.04935705878926558, 0.03525504199233256, 0.007051008398466512, 0.19230654498986885, 0.24247346976983467, 0.07943096423494583, 0.07106981010495153, 0.17558423672988027, 0.06270865597495724, 0.045986347714968644, 0.03762519358497434, 0.05016692477996579, 0.04180577064997149, 0.5403367060032122, 0.050929881455112666, 0.10185976291022533, 0.20371952582045066, 0.050929881455112666, 0.06790650860681688, 0.01697662715170422, 0.3734857973374929, 0.03395325430340844, 0.03395325430340844, 0.050929881455112666, 0.10472797558926311, 0.20945595117852622, 0.5236398779463156, 0.10472797558926311, 0.7161068721562083, 0.06635906423335729, 0.19907719270007185, 0.06635906423335729, 0.0552992201944644, 0.1658976605833932, 0.06635906423335729, 0.04423937615557152, 0.04423937615557152, 0.033179532116678644, 0.24331656885564337, 0.11371012627601512, 0.22742025255203024, 0.05685506313800756, 0.4548405051040605, 0.11371012627601512, 0.1063702451045135, 0.3109284087670395, 0.04091163273250519, 0.11455257165101454, 0.09000559201151143, 0.04909395927900623, 0.04091163273250519, 0.1963758371160249, 0.024546979639503114, 0.024546979639503114, 0.605352207146112, 0.7978436319238326, 0.062459599620453284, 0.11450926597083103, 0.041639733080302194, 0.4163973308030219, 0.09368939943067993, 0.1769688655912843, 0.031229799810226642, 0.020819866540151097, 0.020819866540151097, 0.020819866540151097, 0.12692856812869613, 0.6346428406434806, 0.12730784776424392, 0.6365392388212197, 0.12730784776424392, 0.09262201876949339, 0.15599497898019937, 0.13649560660767446, 0.16574466516646183, 0.1121213911420183, 0.04874843093131231, 0.17061950825959307, 0.03899874474504984, 0.01949937237252492, 0.053623274024443536, 0.9051062592734515, 0.3813232968503296, 0.762140520551903, 0.7150155421521055, 0.6161078133151197, 0.06845642370167997, 0.20536927110503989, 0.06845642370167997, 0.06845642370167997, 0.8243682352754756, 0.11776689075363939, 0.019829831449439422, 0.6543844378315009, 0.039659662898878845, 0.05948949434831827, 0.019829831449439422, 0.019829831449439422, 0.07931932579775769, 0.05948949434831827, 0.039659662898878845, 0.039659662898878845, 0.11203281127080753, 0.24490893626641644, 0.11984905391760804, 0.15371943872041033, 0.11724363970200788, 0.0937949117616063, 0.03647579901840245, 0.04689745588080315, 0.04429204166520297, 0.028659556371601926, 0.8150592903599058, 0.5547896608507674, 0.7126712896934281, 0.7109846117252419, 0.12681511584535898, 0.0915886947772037, 0.16204153691351425, 0.23953966326345585, 0.12681511584535898, 0.0774981263499416, 0.06340755792267949, 0.04227170528178632, 0.035226421068155274, 0.035226421068155274, 0.1548367426904264, 0.6193469707617056, 0.14856755999544222, 0.04952251999848074, 0.5447477199832881, 0.04952251999848074, 0.04952251999848074, 0.04952251999848074, 0.09904503999696147, 0.07369344341112781, 0.8474745992279699, 0.036846721705563905, 0.036846721705563905, 0.036846721705563905, 0.04533558921961001, 0.03626847137568801, 0.05440270706353202, 0.03626847137568801, 0.7344365453576822, 0.03626847137568801, 0.02720135353176601, 0.009067117843922003, 0.009067117843922003, 0.009067117843922003, 0.8810271632456916, 0.713207953891416, 0.568602026562062, 0.1332942374753834, 0.5331769499015336, 0.04443141249179447, 0.08886282498358894, 0.08886282498358894, 0.04443141249179447, 0.04443141249179447, 0.04443141249179447, 0.08536787699919443, 0.25610363099758326, 0.042683938499597215, 0.042683938499597215, 0.46952332349556936, 0.042683938499597215, 0.568593001108882, 0.5682032721252936, 0.60529751892506, 0.625858090096901, 0.07823226126211262, 0.15646452252422524, 0.2064937799300131, 0.05162344498250328, 0.6711047847725427, 0.05162344498250328, 0.797343664840409, 0.6760826475264662, 0.8351437588255706, 0.8380646465406465, 0.04783399698619568, 0.07175099547929352, 0.4544229713688589, 0.1275573252965218, 0.10364032680342396, 0.007972332831032613, 0.05580632981722829, 0.007972332831032613, 0.11161265963445657, 0.007972332831032613, 0.101147213760772, 0.101147213760772, 0.09519737765719717, 0.029749180517874115, 0.23204360803941812, 0.13684623038222093, 0.12494655817507129, 0.101147213760772, 0.05354852493217341, 0.023799344414299293, 0.13255351228718673, 0.07732288216752559, 0.06627675614359337, 0.20987639445471232, 0.09941513421539004, 0.243014772526509, 0.05523063011966114, 0.03313837807179668, 0.03313837807179668, 0.05523063011966114, 0.6450541920645015, 0.14334537601433367, 0.14334537601433367, 0.5363486258351061, 0.09222126552251908, 0.2213310372540458, 0.1291097717315267, 0.03688850620900763, 0.05533275931351145, 0.29510804967206106, 0.018444253104503816, 0.07377701241801526, 0.018444253104503816, 0.05533275931351145, 0.6841766338131203, 0.5681187703856398, 0.20838313589720903, 0.10419156794860451, 0.10419156794860451, 0.5209578397430226, 0.5686653494359926, 0.2103152832469557, 0.2103152832469557, 0.5257882081173892, 0.2778944084201074, 0.11999985818141, 0.18315767827688895, 0.08842094813367052, 0.07578938411457474, 0.08210516612412264, 0.031578910047739474, 0.03789469205728737, 0.06947360210502684, 0.031578910047739474, 0.07803394539995354, 0.07803394539995354, 0.03901697269997677, 0.7413224812995586, 0.03901697269997677, 0.20911036481626002, 0.10455518240813001, 0.10455518240813001, 0.5227759120406501, 0.5548185789391189, 0.7693712392079453, 0.5548235175413869, 0.04182835521559855, 0.12548506564679565, 0.4601119073715841, 0.04182835521559855, 0.04182835521559855, 0.12548506564679565, 0.0836567104311971, 0.04182835521559855, 0.04182835521559855, 0.5178947730848655, 0.8163060063377215, 0.14965427301540243, 0.3313773188198197, 0.03741356825385061, 0.3099981369604765, 0.02137918185934321, 0.04275836371868642, 0.03741356825385061, 0.02672397732417901, 0.03206877278901481, 0.010689590929671604, 0.22501223210272875, 0.09643381375831232, 0.22501223210272875, 0.03214460458610411, 0.03214460458610411, 0.03214460458610411, 0.03214460458610411, 0.28930144127493695, 0.06428920917220822, 0.03214460458610411, 0.3706504893575064, 0.21604802157947992, 0.05401200539486998, 0.6481440647384397, 0.5539135850501883, 0.2468565634690724, 0.0617141408672681, 0.03085707043363405, 0.03085707043363405, 0.0617141408672681, 0.40114191563724266, 0.15428535216817024, 0.0617141408672681, 0.7109990806186194, 0.1327699377911478, 0.7966196267468867, 0.6824333100684624, 0.1137388850114104, 0.1137388850114104, 0.24732270699937428, 0.05334411327437484, 0.08244090233312476, 0.16003233982312454, 0.09698929686249971, 0.08244090233312476, 0.1357850156074996, 0.019397859372499944, 0.05334411327437484, 0.0678925078037498, 0.5463008355338838, 0.2731504177669419, 0.7365872269945971, 0.13617744871870424, 0.06808872435935212, 0.06808872435935212, 0.06808872435935212, 0.2723548974374085, 0.06808872435935212, 0.3404436217967606, 0.6885175983749141, 0.20655527951247424, 0.568638660780222, 0.18528282750012823, 0.25329804265840317, 0.06332451066460079, 0.09146873762664559, 0.07505127189878612, 0.11257690784817918, 0.12899437357603866, 0.030489579208881862, 0.039870988196230125, 0.01876281797469653, 0.3095915989279891, 0.10319719964266304, 0.10319719964266304, 0.41278879857065215, 0.12937432098245885, 0.13799927571462278, 0.15812417008967194, 0.15237420026822932, 0.06324966803586878, 0.1092494266074097, 0.11787438133957363, 0.04599975857154093, 0.03162483401793439, 0.05174972839298354, 0.18703852323633888, 0.1753486155340677, 0.10131253341968356, 0.1168990770227118, 0.12858898472498298, 0.06624281031287002, 0.07403608211438414, 0.0389663590075706, 0.0779327180151412, 0.03506972310681354, 0.7971160553107292, 0.5680503832023599, 0.04653883743057671, 0.09307767486115343, 0.04653883743057671, 0.04653883743057671, 0.09307767486115343, 0.04653883743057671, 0.651543724028074, 0.21273621168585144, 0.6382086350575543, 0.11145796682619498, 0.13027554564100713, 0.15633065476920854, 0.07237530313389284, 0.14909312445581926, 0.12303801532761784, 0.039082663692302136, 0.04632019400569142, 0.14330310020510784, 0.028950121253557136, 0.7169391249056197, 0.2076911590601121, 0.07788418464754204, 0.10983667065679005, 0.15776539967066208, 0.08587230614985404, 0.06989606314523003, 0.06390497201849603, 0.14578321741719408, 0.031952486009248014, 0.047928729013872025, 0.13225733852313354, 0.13225733852313354, 0.6612866926156677, 0.19459203380928466, 0.046702088114228324, 0.1790246711045419, 0.07005313217134249, 0.10118785758082803, 0.19459203380928466, 0.046702088114228324, 0.07783681352371387, 0.015567362704742774, 0.062269450818971096, 0.5840390489747201, 0.14483158601056853, 0.7241579300528427, 0.09314171781713917, 0.44708024552226805, 0.1024558895988531, 0.07451337425371134, 0.055885030690283506, 0.04657085890856959, 0.055885030690283506, 0.055885030690283506, 0.055885030690283506, 0.009314171781713917, 0.10335474488422225, 0.1291934311052778, 0.07751605866316669, 0.16795146043686116, 0.1421127742158056, 0.07751605866316669, 0.038758029331583344, 0.2067094897684445, 0.038758029331583344, 0.5765465132044527, 0.5933492550812091, 0.7109145849774776, 0.568162919191163, 0.768763959573524, 0.08177875724908167, 0.3134852361214797, 0.02725958574969389, 0.14992772162331638, 0.05451917149938778, 0.06814896437423472, 0.05451917149938778, 0.013629792874846945, 0.21807668599755112, 0.02725958574969389, 0.5686358517956871, 0.08604926668509524, 0.4732709667680239, 0.04302463334254762, 0.08604926668509524, 0.25814780005528576, 0.04302463334254762, 0.31723472599972835, 0.06678625810520597, 0.15026908073671344, 0.11687595168411045, 0.06678625810520597, 0.2003587743156179, 0.02504484678945224, 0.016696564526301493, 0.033393129052602985, 0.016696564526301493, 0.27338594184874077, 0.5467718836974815, 0.1923436249298212, 0.13011480509958492, 0.23194378300360793, 0.07354315070846106, 0.08485748158668582, 0.07920031614757343, 0.03394299263467433, 0.07354315070846106, 0.06222881983023627, 0.02828582719556194, 0.6648613670877185, 0.1790011372928473, 0.025571591041835328, 0.07671477312550598, 0.025571591041835328, 0.07354367619181841, 0.24514558730606137, 0.13483007301833375, 0.14708735238363682, 0.07354367619181841, 0.10418687460507609, 0.06741503650916687, 0.049029117461212274, 0.06128639682651534, 0.042900477778560736, 0.5926331932901634, 0.19754439776338778, 0.8476727947624072, 0.5984213201083087, 0.5547794838398743, 0.554808681268117, 0.7109360430471392, 0.024978815005086703, 0.04995763001017341, 0.12489407502543352, 0.19983052004069363, 0.024978815005086703, 0.5495339301119075, 0.8340690726396077, 0.038260864500857195, 0.1147825935025716, 0.038260864500857195, 0.038260864500857195, 0.038260864500857195, 0.07652172900171439, 0.5739129675128579, 0.07652172900171439, 0.758687257142656, 0.145256112574427, 0.581024450297708, 0.7991568130382943, 0.03516757051911822, 0.17583785259559112, 0.10550271155735468, 0.5275135577867733, 0.03516757051911822, 0.03516757051911822, 0.07033514103823645, 0.6861468437987204, 0.18115496369386114, 0.0528368644107095, 0.29437681600252436, 0.06038498789795371, 0.0528368644107095, 0.17360684020661693, 0.07548123487244214, 0.03774061743622107, 0.03774061743622107, 0.03774061743622107, 0.1476233703439255, 0.09138589592719197, 0.16871242325020055, 0.13356400173974212, 0.06326715871882521, 0.18980147615647563, 0.04217810581255014, 0.08435621162510028, 0.04920779011464183, 0.03514842151045845, 0.568619216149949, 0.5681020139566764, 0.2218646189556886, 0.11709521555994676, 0.09552504427258814, 0.2619235084893546, 0.04314034257471722, 0.12017666860099799, 0.04314034257471722, 0.04622179561576845, 0.030814530410512304, 0.02157017128735861, 0.28784259518634786, 0.17866092115014695, 0.1588097076890195, 0.11414447740148277, 0.039702426922254876, 0.04714663197017767, 0.054590837018100455, 0.0248140168264093, 0.039702426922254876, 0.05210943533545953, 0.10331645556184862, 0.12397974667421836, 0.0826531644494789, 0.10331645556184862, 0.04132658222473945, 0.04132658222473945, 0.04132658222473945, 0.4132658222473945, 0.04132658222473945, 0.6097320119874564, 0.07621650149843205, 0.22864950449529617, 0.13909617192132767, 0.10432212894099577, 0.45206255874431495, 0.06954808596066384, 0.10432212894099577, 0.06954808596066384, 0.03477404298033192, 0.05363750716460567, 0.16091252149381702, 0.05363750716460567, 0.10727501432921134, 0.05363750716460567, 0.37546255015223967, 0.05363750716460567, 0.05363750716460567, 0.05363750716460567, 0.11186528153903, 0.0988576906623986, 0.18991082679881838, 0.12747439059098767, 0.08845161796109349, 0.12747439059098767, 0.08845161796109349, 0.11186528153903, 0.02861669992858907, 0.02601518175326279, 0.48224718604038586, 0.015309434477472567, 0.022964151716208848, 0.045928303432417696, 0.038273586193681416, 0.0076547172387362835, 0.015309434477472567, 0.3138434067881876, 0.022964151716208848, 0.030618868954945134, 0.6977444438151832, 0.09967777768788331, 0.19935555537576663, 0.09967777768788331, 0.1971799066228766, 0.1652047866299777, 0.06395023998579781, 0.07993779998224727, 0.13855885330256193, 0.19185071995739345, 0.03730430665838206, 0.031975119992898905, 0.03730430665838206, 0.053291866654831516, 0.05095359162558682, 0.15286077487676045, 0.6623966911326286, 0.05095359162558682, 0.05095359162558682, 0.05095359162558682, 0.08301468020559205, 0.04743696011748117, 0.08301468020559205, 0.08301468020559205, 0.05929620014685146, 0.011859240029370293, 0.03557772008811088, 0.07115544017622176, 0.08301468020559205, 0.42693264105733053, 0.6732688110145102, 0.13465376220290204, 0.13465376220290204, 0.5639434598447781, 0.04028167570319843, 0.12084502710959531, 0.08056335140639687, 0.04028167570319843, 0.12084502710959531, 0.1480329054288338, 0.7401645271441689, 0.08907052157711298, 0.5344231294626779, 0.26721156473133895, 0.21061991087844148, 0.10530995543922074, 0.5265497771961037, 0.7775198164173162, 0.07068361967430146, 0.14136723934860293, 0.6694770318054989, 0.13389540636109978, 0.13389540636109978, 0.36227751016297915, 0.1895638134573728, 0.08846311294677398, 0.16850116751766472, 0.050550350255299414, 0.04212529187941618, 0.02106264593970809, 0.03791276269147456, 0.01685011675176647, 0.012637587563824854, 0.11927897889624695, 0.16699057045474572, 0.05963948944812347, 0.15506267256512105, 0.05963948944812347, 0.27434165146136796, 0.07156738733774817, 0.02385579577924939, 0.04771159155849878, 0.035783693668874086, 0.712060275851611, 0.12641272498100734, 0.08427514998733822, 0.08427514998733822, 0.04213757499366911, 0.04213757499366911, 0.08427514998733822, 0.08427514998733822, 0.04213757499366911, 0.4635133249303602, 0.110985804335315, 0.110985804335315, 0.06659148260118901, 0.044394321734126004, 0.377351734740071, 0.044394321734126004, 0.110985804335315, 0.08878864346825201, 0.022197160867063002, 0.17926862676093963, 0.17926862676093963, 0.5378058802828188, 0.0862326707569166, 0.16288393365195356, 0.0862326707569166, 0.21079097296135166, 0.06706985503315735, 0.019162815723759243, 0.11497689434255545, 0.057488447171277726, 0.15330252579007395, 0.028744223585638863, 0.211173975500286, 0.05611616132175432, 0.20674375223804223, 0.1727787072275067, 0.10632535829385029, 0.06940683110848561, 0.09155794741970442, 0.02658133957346257, 0.03396504501053551, 0.025104598486047985, 0.23639614498056502, 0.09250283934022109, 0.09250283934022109, 0.26209137813062644, 0.041112373040098266, 0.05139046630012283, 0.08222474608019653, 0.07194665282017196, 0.03597332641008598, 0.03597332641008598, 0.5057349592416337, 0.21072289968401406, 0.021072289968401405, 0.04214457993680281, 0.021072289968401405, 0.021072289968401405, 0.10536144984200703, 0.06321686990520421, 0.568138785460662, 0.6355710212322874, 0.2118570070774291, 0.814981149253292, 0.016978773942776918, 0.13583019154221534, 0.033957547885553836, 0.8225329150755152, 0.12337993726132727, 0.7607158276387316, 0.02237399493055093, 0.17899195944440743, 0.02237399493055093], \"Term\": [\"aah\", \"aah\", \"aah\", \"aah\", \"actually\", \"adam\", \"afternoon\", \"aganju\", \"aged\", \"aged\", \"ah\", \"ah\", \"ah\", \"ah\", \"ah\", \"ah\", \"ah\", \"ah\", \"ah\", \"ah\", \"ahh\", \"ahh\", \"ahh\", \"ahh\", \"ahh\", \"ahh\", \"aid\", \"aid\", \"alapala\", \"alive\", \"alive\", \"alive\", \"alive\", \"alive\", \"alive\", \"alive\", \"alive\", \"alive\", \"alright\", \"alright\", \"alright\", \"alright\", \"alright\", \"alright\", \"alright\", \"alright\", \"alright\", \"alright\", \"amazing\", \"amazing\", \"amazing\", \"amazing\", \"amazing\", \"amazing\", \"amazing\", \"ancestral\", \"anna\", \"anna\", \"anna\", \"anna\", \"anne\", \"apache\", \"apartment\", \"aquarius\", \"aquarius\", \"aquarius\", \"aquarius\", \"argentina\", \"argentina\", \"argentina\", \"argentina\", \"armageddon\", \"armageddon\", \"armageddon\", \"armageddon\", \"armageddon\", \"armageddon\", \"army\", \"away\", \"away\", \"away\", \"away\", \"away\", \"away\", \"away\", \"away\", \"away\", \"away\", \"axe\", \"ay\", \"ay\", \"ay\", \"ay\", \"b\", \"b\", \"babe\", \"babe\", \"babe\", \"babe\", \"babe\", \"babe\", \"babe\", \"babe\", \"babe\", \"babe\", \"baby\", \"baby\", \"baby\", \"baby\", \"baby\", \"baby\", \"baby\", \"baby\", \"baby\", \"baby\", \"bad\", \"bad\", \"bad\", \"bad\", \"bad\", \"bad\", \"bad\", \"bad\", \"bad\", \"bad\", \"badd\", \"badly\", \"bahia\", \"baile\", \"baile\", \"baile\", \"baile\", \"bakin\", \"ballerina\", \"ballerina\", \"ban\", \"barstool\", \"be\", \"be\", \"be\", \"be\", \"be\", \"be\", \"be\", \"be\", \"be\", \"be\", \"believer\", \"believer\", \"bending\", \"benefit\", \"besmirch\", \"besmirch\", \"big\", \"big\", \"big\", \"big\", \"big\", \"big\", \"big\", \"big\", \"big\", \"big\", \"blissfully\", \"blissfully\", \"blue\", \"blue\", \"blue\", \"blue\", \"blue\", \"blue\", \"blue\", \"blue\", \"blue\", \"blue\", \"body\", \"body\", \"body\", \"body\", \"body\", \"body\", \"body\", \"body\", \"body\", \"body\", \"bonnie\", \"boogae\", \"booty\", \"booty\", \"bop\", \"bop\", \"bop\", \"bop\", \"bop\", \"bop\", \"bop\", \"bop\", \"boss\", \"bounty\", \"bounty\", \"box\", \"box\", \"box\", \"box\", \"box\", \"boy\", \"boy\", \"boy\", \"boy\", \"boy\", \"boy\", \"boy\", \"boy\", \"boy\", \"boy\", \"breakdown\", \"bring\", \"bring\", \"bring\", \"bring\", \"bring\", \"bring\", \"bring\", \"bring\", \"bring\", \"bring\", \"brooklyn\", \"brooklyn\", \"brooklyn\", \"brooklyn\", \"brung\", \"bueno\", \"bueno\", \"bueno\", \"bueno\", \"bunny\", \"burchfield\", \"burchfield\", \"busy\", \"butterfly\", \"butterfly\", \"bye\", \"bye\", \"bye\", \"bye\", \"caper\", \"cavalry\", \"chairman\", \"chairman\", \"change\", \"change\", \"change\", \"change\", \"change\", \"change\", \"change\", \"change\", \"change\", \"change\", \"chant\", \"chant\", \"chaos\", \"checking\", \"checking\", \"chef\", \"child\", \"child\", \"child\", \"child\", \"child\", \"child\", \"child\", \"child\", \"child\", \"child\", \"chuck\", \"chuck\", \"chuck\", \"city\", \"city\", \"city\", \"city\", \"city\", \"city\", \"city\", \"city\", \"city\", \"city\", \"clappin\", \"clappin\", \"clappin\", \"classy\", \"classy\", \"closely\", \"clothing\", \"clover\", \"cocoa\", \"cocoa\", \"collision\", \"collision\", \"collision\", \"collision\", \"colorful\", \"colorful\", \"combination\", \"come\", \"come\", \"come\", \"come\", \"come\", \"come\", \"come\", \"come\", \"come\", \"come\", \"commonly\", \"commonly\", \"concrete\", \"concrete\", \"concrete\", \"concrete\", \"concrete\", \"connecticut\", \"constantly\", \"content\", \"content\", \"content\", \"content\", \"continue\", \"cracker\", \"cracker\", \"cracker\", \"crank\", \"crank\", \"crank\", \"crazy\", \"crazy\", \"crazy\", \"crazy\", \"crazy\", \"crazy\", \"crazy\", \"crazy\", \"crazy\", \"creep\", \"creep\", \"creep\", \"creep\", \"creep\", \"crouch\", \"cry\", \"cry\", \"cry\", \"cry\", \"cry\", \"cry\", \"cry\", \"cry\", \"cry\", \"cry\", \"culture\", \"cy\", \"da\", \"da\", \"da\", \"da\", \"da\", \"da\", \"da\", \"da\", \"da\", \"da\", \"dakota\", \"dance\", \"dance\", \"dance\", \"dance\", \"dance\", \"dance\", \"dance\", \"dance\", \"dance\", \"dance\", \"day\", \"day\", \"day\", \"day\", \"day\", \"day\", \"day\", \"day\", \"day\", \"day\", \"dead\", \"dead\", \"dead\", \"dead\", \"dead\", \"dead\", \"dead\", \"dead\", \"dead\", \"dead\", \"deaky\", \"deaky\", \"deaky\", \"deal\", \"deal\", \"deal\", \"deal\", \"deal\", \"deal\", \"deal\", \"deal\", \"delay\", \"delay\", \"delay\", \"delay\", \"dem\", \"dem\", \"dem\", \"dem\", \"dem\", \"dem\", \"dem\", \"dem\", \"desolation\", \"desolation\", \"desolation\", \"detour\", \"detour\", \"detour\", \"develop\", \"develop\", \"diggy\", \"diggy\", \"diggy\", \"diggy\", \"diggy\", \"diggy\", \"diggy\", \"diggy\", \"dignity\", \"dignity\", \"din\", \"din\", \"din\", \"din\", \"directly\", \"disaster\", \"disaster\", \"disaster\", \"disaster\", \"doggin\", \"doggin\", \"doggin\", \"dollar\", \"dollar\", \"dollar\", \"dollar\", \"dollar\", \"doop\", \"doop\", \"doop\", \"doop\", \"door\", \"door\", \"door\", \"door\", \"door\", \"door\", \"door\", \"door\", \"door\", \"door\", \"dove\", \"dove\", \"downhill\", \"dream\", \"dream\", \"dream\", \"dream\", \"dream\", \"dream\", \"dream\", \"dream\", \"dream\", \"dream\", \"dumple\", \"d\\u00e9sol\\u00e9e\", \"egun\", \"ehh\", \"ehh\", \"elbow\", \"elbow\", \"elbow\", \"elbow\", \"endure\", \"enlighten\", \"eternal\", \"eternal\", \"everybody\", \"everybody\", \"everybody\", \"everybody\", \"everybody\", \"everybody\", \"everybody\", \"everybody\", \"everybody\", \"everybody\", \"excitin\", \"eye\", \"eye\", \"eye\", \"eye\", \"eye\", \"eye\", \"eye\", \"eye\", \"eye\", \"eye\", \"f\", \"fade\", \"fade\", \"fade\", \"fade\", \"fade\", \"fade\", \"fade\", \"fade\", \"fade\", \"faint\", \"fear\", \"fear\", \"fear\", \"fear\", \"fear\", \"fear\", \"fear\", \"fear\", \"fear\", \"fear\", \"feed\", \"feed\", \"feed\", \"feed\", \"feed\", \"feed\", \"feed\", \"feed\", \"feed\", \"feel\", \"feel\", \"feel\", \"feel\", \"feel\", \"feel\", \"feel\", \"feel\", \"feel\", \"feel\", \"felt\", \"fennario\", \"fennario\", \"fighting\", \"fighting\", \"fighting\", \"fighting\", \"fighting\", \"filled\", \"fillin\", \"find\", \"find\", \"find\", \"find\", \"find\", \"find\", \"find\", \"find\", \"find\", \"find\", \"fire\", \"fire\", \"fire\", \"fire\", \"fire\", \"fire\", \"fire\", \"fire\", \"fire\", \"fire\", \"fish\", \"fish\", \"fish\", \"florida\", \"florida\", \"florida\", \"florida\", \"floy\", \"floy\", \"floy\", \"footprint\", \"forgiveness\", \"forgiveness\", \"freaky\", \"freaky\", \"freaky\", \"freddy\", \"freddy\", \"freddy\", \"freddy\", \"freddy\", \"fue\", \"g\", \"g\", \"g\", \"g\", \"george\", \"georgie\", \"get\", \"get\", \"get\", \"get\", \"get\", \"get\", \"get\", \"get\", \"get\", \"get\", \"ghetto\", \"ghetto\", \"ghetto\", \"ghost\", \"ghost\", \"ghost\", \"ghost\", \"ghost\", \"ghost\", \"girl\", \"girl\", \"girl\", \"girl\", \"girl\", \"girl\", \"girl\", \"girl\", \"girl\", \"girl\", \"gitchi\", \"gitchi\", \"gitchi\", \"gitchi\", \"go\", \"go\", \"go\", \"go\", \"go\", \"go\", \"go\", \"go\", \"go\", \"go\", \"god\", \"god\", \"god\", \"god\", \"god\", \"god\", \"god\", \"god\", \"god\", \"god\", \"golf\", \"golf\", \"good\", \"good\", \"good\", \"good\", \"good\", \"good\", \"good\", \"good\", \"good\", \"good\", \"grandpapa\", \"grinch\", \"grinch\", \"grinch\", \"grover\", \"gusta\", \"gusta\", \"gusta\", \"gusta\", \"gypsy\", \"gypsy\", \"hail\", \"hail\", \"hail\", \"halfway\", \"halfway\", \"hallelujah\", \"hallelujah\", \"hallelujah\", \"hallelujah\", \"hallelujah\", \"hallelujah\", \"hallelujah\", \"hallelujah\", \"hallelujah\", \"halloween\", \"halloween\", \"halloween\", \"hand\", \"hand\", \"hand\", \"hand\", \"hand\", \"hand\", \"hand\", \"hand\", \"hand\", \"hand\", \"hang\", \"hang\", \"hang\", \"hang\", \"hang\", \"hang\", \"hang\", \"hang\", \"hang\", \"hang\", \"happy\", \"happy\", \"happy\", \"happy\", \"happy\", \"happy\", \"happy\", \"happy\", \"happy\", \"harrisburg\", \"harrisburg\", \"harvester\", \"hawk\", \"hay\", \"headlong\", \"hear\", \"hear\", \"hear\", \"hear\", \"hear\", \"hear\", \"hear\", \"hear\", \"hear\", \"hear\", \"heart\", \"heart\", \"heart\", \"heart\", \"heart\", \"heart\", \"heart\", \"heart\", \"heart\", \"heart\", \"heartbreak\", \"heartbreak\", \"heartbreak\", \"heartbreak\", \"heartbreak\", \"heartbreak\", \"help\", \"help\", \"help\", \"help\", \"help\", \"help\", \"help\", \"help\", \"help\", \"help\", \"heritage\", \"hero\", \"hero\", \"hero\", \"herpe\", \"hey\", \"hey\", \"hey\", \"hey\", \"hey\", \"hey\", \"hey\", \"hey\", \"hey\", \"hey\", \"hide\", \"hide\", \"hide\", \"hide\", \"hide\", \"hide\", \"hide\", \"hide\", \"hide\", \"hide\", \"hip\", \"hip\", \"hip\", \"hip\", \"hip\", \"hip\", \"hip\", \"hip\", \"hip\", \"hip\", \"hissin\", \"hm\", \"hm\", \"hm\", \"hmph\", \"hold\", \"hold\", \"hold\", \"hold\", \"hold\", \"hold\", \"hold\", \"hold\", \"hold\", \"hold\", \"holdin\", \"holdin\", \"holdin\", \"holdin\", \"holdin\", \"holdin\", \"holdin\", \"holey\", \"hollywood\", \"hollywood\", \"hollywood\", \"hollywood\", \"hollywood\", \"hollywood\", \"hollywood\", \"hollywood\", \"hollywood\", \"hollywood\", \"holy\", \"holy\", \"holy\", \"holy\", \"holy\", \"holy\", \"holy\", \"home\", \"home\", \"home\", \"home\", \"home\", \"home\", \"home\", \"home\", \"home\", \"home\", \"honky\", \"honky\", \"honky\", \"honky\", \"honky\", \"honky\", \"hope\", \"hope\", \"hope\", \"hope\", \"hope\", \"hope\", \"hope\", \"hope\", \"hope\", \"hope\", \"hoppin\", \"hoppin\", \"hoppin\", \"house\", \"house\", \"house\", \"house\", \"house\", \"house\", \"house\", \"house\", \"house\", \"house\", \"howard\", \"husband\", \"husband\", \"illuminate\", \"impossible\", \"impossible\", \"improbable\", \"indelible\", \"indestructible\", \"indian\", \"indian\", \"indian\", \"intentione\", \"intentione\", \"invisible\", \"jackpot\", \"jah\", \"jah\", \"jah\", \"jah\", \"jah\", \"jah\", \"jamaica\", \"jamaican\", \"jamaican\", \"jamaican\", \"janet\", \"janet\", \"janet\", \"janet\", \"janet\", \"jar\", \"jave\", \"jave\", \"jenny\", \"jenny\", \"joseph\", \"joseph\", \"joseph\", \"joseph\", \"josie\", \"josie\", \"jude\", \"jude\", \"judge\", \"judge\", \"judge\", \"judge\", \"judge\", \"juliet\", \"july\", \"july\", \"july\", \"july\", \"july\", \"jungle\", \"jungle\", \"jungle\", \"jungle\", \"jungle\", \"kaleidoscope\", \"keepin\", \"keepin\", \"keepin\", \"keepin\", \"keepin\", \"keepin\", \"keepin\", \"khaki\", \"king\", \"king\", \"king\", \"king\", \"king\", \"king\", \"king\", \"king\", \"king\", \"king\", \"kingston\", \"knack\", \"knock\", \"knock\", \"knock\", \"knock\", \"knock\", \"knock\", \"knock\", \"knock\", \"knock\", \"knockin\", \"knockin\", \"know\", \"know\", \"know\", \"know\", \"know\", \"know\", \"know\", \"know\", \"know\", \"know\", \"knowledge\", \"la\", \"la\", \"la\", \"la\", \"la\", \"la\", \"la\", \"la\", \"la\", \"la\", \"leader\", \"leader\", \"leader\", \"leader\", \"leader\", \"leader\", \"leader\", \"leader\", \"leave\", \"leave\", \"leave\", \"leave\", \"leave\", \"leave\", \"leave\", \"leave\", \"leave\", \"leave\", \"legendary\", \"leo\", \"less\", \"let\", \"let\", \"let\", \"let\", \"let\", \"let\", \"let\", \"let\", \"let\", \"let\", \"liberal\", \"liberal\", \"liberal\", \"lie\", \"lie\", \"lie\", \"lie\", \"lie\", \"lie\", \"lie\", \"lie\", \"lie\", \"lie\", \"life\", \"life\", \"life\", \"life\", \"life\", \"life\", \"life\", \"life\", \"life\", \"life\", \"light\", \"light\", \"light\", \"light\", \"light\", \"light\", \"light\", \"light\", \"light\", \"light\", \"lightly\", \"lightning\", \"lightning\", \"lightning\", \"lightning\", \"lightning\", \"like\", \"like\", \"like\", \"like\", \"like\", \"like\", \"like\", \"like\", \"like\", \"like\", \"lion\", \"lion\", \"lion\", \"lion\", \"lion\", \"lion\", \"lion\", \"lion\", \"lion\", \"lisa\", \"lisa\", \"little\", \"little\", \"little\", \"little\", \"little\", \"little\", \"little\", \"little\", \"little\", \"little\", \"live\", \"live\", \"live\", \"live\", \"live\", \"live\", \"live\", \"live\", \"live\", \"live\", \"load\", \"load\", \"load\", \"load\", \"lolli\", \"lolli\", \"lollipop\", \"lollipop\", \"lonely\", \"lonely\", \"lonely\", \"lonely\", \"lonely\", \"lonely\", \"lonely\", \"lonely\", \"lonely\", \"lonely\", \"long\", \"long\", \"long\", \"long\", \"long\", \"long\", \"long\", \"long\", \"long\", \"long\", \"look\", \"look\", \"look\", \"look\", \"look\", \"look\", \"look\", \"look\", \"look\", \"look\", \"loose\", \"loose\", \"loose\", \"loose\", \"loose\", \"loose\", \"loose\", \"loose\", \"loose\", \"lose\", \"lose\", \"lose\", \"lose\", \"lose\", \"lose\", \"lose\", \"lose\", \"lose\", \"lose\", \"lou\", \"lovable\", \"love\", \"love\", \"love\", \"love\", \"love\", \"love\", \"love\", \"love\", \"love\", \"love\", \"lover\", \"lover\", \"lover\", \"lover\", \"lover\", \"lover\", \"lover\", \"lover\", \"lover\", \"lover\", \"lucky\", \"lucky\", \"lucky\", \"lucky\", \"lucky\", \"lucky\", \"machine\", \"machine\", \"machine\", \"machine\", \"machine\", \"machine\", \"machine\", \"magnetize\", \"maker\", \"man\", \"man\", \"man\", \"man\", \"man\", \"man\", \"man\", \"man\", \"man\", \"man\", \"master\", \"master\", \"master\", \"master\", \"mau\", \"mau\", \"mayor\", \"mayor\", \"mayor\", \"mayor\", \"mayor\", \"mean\", \"mean\", \"mean\", \"mean\", \"mean\", \"mean\", \"mean\", \"mean\", \"mean\", \"mean\", \"meat\", \"meat\", \"meat\", \"medicine\", \"meta\", \"metabolism\", \"midnight\", \"midnight\", \"midnight\", \"midnight\", \"midnight\", \"midnight\", \"midnight\", \"midnight\", \"midnight\", \"mind\", \"mind\", \"mind\", \"mind\", \"mind\", \"mind\", \"mind\", \"mind\", \"mind\", \"mind\", \"minnesota\", \"minute\", \"minute\", \"minute\", \"minute\", \"minute\", \"minute\", \"minute\", \"minute\", \"minute\", \"minute\", \"miracle\", \"miracle\", \"miracle\", \"miracle\", \"miracle\", \"mirth\", \"mister\", \"mister\", \"mister\", \"mister\", \"mister\", \"mister\", \"moonbeam\", \"moonchild\", \"moonchild\", \"moonchild\", \"moonchild\", \"mount\", \"mount\", \"mountain\", \"mountain\", \"mountain\", \"mountain\", \"mountain\", \"mountain\", \"mountain\", \"mountain\", \"mountain\", \"mountain\", \"mr\", \"mr\", \"mr\", \"mr\", \"mr\", \"mr\", \"mr\", \"mr\", \"mr\", \"mu\", \"mull\", \"mull\", \"music\", \"music\", \"music\", \"music\", \"music\", \"music\", \"music\", \"music\", \"music\", \"music\", \"na\", \"na\", \"na\", \"na\", \"na\", \"na\", \"na\", \"na\", \"na\", \"na\", \"nac\\u00ed\", \"nasty\", \"nasty\", \"nasty\", \"nasty\", \"need\", \"need\", \"need\", \"need\", \"need\", \"need\", \"need\", \"need\", \"need\", \"need\", \"negro\", \"negro\", \"negro\", \"nevermore\", \"nevermore\", \"nicely\", \"night\", \"night\", \"night\", \"night\", \"night\", \"night\", \"night\", \"night\", \"night\", \"night\", \"nobleman\", \"nobleman\", \"nod\", \"nuh\", \"nuh\", \"nursery\", \"n\\u00eaga\", \"o\", \"o\", \"o\", \"o\", \"o\", \"o\", \"o\", \"o\", \"o\", \"o\", \"oasis\", \"ogre\", \"ogre\", \"ogre\", \"ogre\", \"oh\", \"oh\", \"oh\", \"oh\", \"oh\", \"oh\", \"oh\", \"oh\", \"oh\", \"oh\", \"old\", \"old\", \"old\", \"old\", \"old\", \"old\", \"old\", \"old\", \"old\", \"old\", \"ooh\", \"ooh\", \"ooh\", \"ooh\", \"ooh\", \"ooh\", \"ooh\", \"ooh\", \"ooh\", \"ooh\", \"oooh\", \"oooh\", \"oooh\", \"oooh\", \"oooh\", \"oooh\", \"oooh\", \"ooouueehh\", \"ooouueehh\", \"outrageous\", \"oww\", \"oww\", \"oww\", \"party\", \"party\", \"party\", \"party\", \"party\", \"party\", \"party\", \"party\", \"party\", \"pass\", \"pass\", \"pass\", \"pass\", \"pass\", \"pass\", \"pass\", \"pass\", \"pass\", \"pass\", \"pattern\", \"payday\", \"payday\", \"peggy\", \"peggy\", \"peggy\", \"peggy\", \"people\", \"people\", \"people\", \"people\", \"people\", \"people\", \"people\", \"people\", \"people\", \"people\", \"perder\", \"pig\", \"plane\", \"plane\", \"plane\", \"plane\", \"plane\", \"pogo\", \"pogo\", \"potato\", \"potato\", \"prettiest\", \"prevent\", \"princess\", \"prize\", \"prize\", \"professor\", \"puppet\", \"quaalude\", \"quaalude\", \"quaalude\", \"quit\", \"race\", \"race\", \"race\", \"race\", \"race\", \"race\", \"race\", \"race\", \"race\", \"rag\", \"rag\", \"rag\", \"rag\", \"rat\", \"rat\", \"rat\", \"rat\", \"rat\", \"ray\", \"ray\", \"ray\", \"ready\", \"ready\", \"ready\", \"ready\", \"ready\", \"ready\", \"ready\", \"ready\", \"realist\", \"reaper\", \"reaper\", \"reaper\", \"recieve\", \"recognition\", \"recognition\", \"recognition\", \"reelin\", \"reincarnate\", \"reject\", \"renew\", \"repair\", \"repair\", \"repair\", \"rescue\", \"rescue\", \"rescue\", \"rexia\", \"rexia\", \"ride\", \"ride\", \"ride\", \"ride\", \"ride\", \"ride\", \"ride\", \"ride\", \"ride\", \"ride\", \"right\", \"right\", \"right\", \"right\", \"right\", \"right\", \"right\", \"right\", \"right\", \"right\", \"riot\", \"rise\", \"rise\", \"rise\", \"rise\", \"rise\", \"rise\", \"rise\", \"rise\", \"rise\", \"rise\", \"rival\", \"rival\", \"rival\", \"rival\", \"roach\", \"road\", \"road\", \"road\", \"road\", \"road\", \"road\", \"road\", \"road\", \"road\", \"road\", \"robot\", \"robot\", \"robot\", \"robot\", \"robot\", \"rock\", \"rock\", \"rock\", \"rock\", \"rock\", \"rock\", \"rock\", \"rock\", \"rock\", \"rock\", \"rosa\", \"rottenness\", \"round\", \"round\", \"round\", \"round\", \"round\", \"round\", \"round\", \"round\", \"round\", \"round\", \"rub\", \"rub\", \"rubbin\", \"rubbin\", \"rubbin\", \"run\", \"run\", \"run\", \"run\", \"run\", \"run\", \"run\", \"run\", \"run\", \"run\", \"rushin\", \"rythm\", \"sacrifice\", \"sagittarius\", \"saint\", \"saint\", \"saint\", \"saint\", \"saint\", \"sandy\", \"sandy\", \"saturday\", \"saturday\", \"saturday\", \"saturday\", \"saturday\", \"saturday\", \"saturday\", \"saturday\", \"saturday\", \"saturday\", \"say\", \"say\", \"say\", \"say\", \"say\", \"say\", \"say\", \"say\", \"say\", \"say\", \"scowling\", \"screaming\", \"screech\", \"seasonal\", \"see\", \"see\", \"see\", \"see\", \"see\", \"see\", \"see\", \"see\", \"see\", \"see\", \"serpent\", \"serpent\", \"seven\", \"seven\", \"seven\", \"seven\", \"seven\", \"seven\", \"seven\", \"sha\", \"sha\", \"sha\", \"sha\", \"sha\", \"shake\", \"shake\", \"shake\", \"shake\", \"shake\", \"shake\", \"shake\", \"shake\", \"shake\", \"shake\", \"shango\", \"sharin\", \"sharing\", \"shockin\", \"shockin\", \"shockin\", \"shockin\", \"shockin\", \"shockin\", \"shockin\", \"shockin\", \"shoo\", \"shoo\", \"shoo\", \"shoo\", \"shoo\", \"shoo\", \"sieve\", \"sightsee\", \"simplex\", \"sinner\", \"sinner\", \"sinner\", \"sioux\", \"sioux\", \"sioux\", \"sioux\", \"skinned\", \"skull\", \"snowman\", \"solamente\", \"somebody\", \"somebody\", \"somebody\", \"somebody\", \"somebody\", \"somebody\", \"somebody\", \"somebody\", \"somebody\", \"somebody\", \"song\", \"song\", \"song\", \"song\", \"song\", \"song\", \"song\", \"song\", \"song\", \"song\", \"soul\", \"soul\", \"soul\", \"soul\", \"soul\", \"soul\", \"soul\", \"soul\", \"soul\", \"soul\", \"soup\", \"soup\", \"soup\", \"speech\", \"spend\", \"spend\", \"spend\", \"spend\", \"spend\", \"spend\", \"spend\", \"spend\", \"spend\", \"spend\", \"splendor\", \"spoil\", \"sport\", \"sport\", \"sport\", \"sport\", \"spotlessly\", \"spunky\", \"spunky\", \"spunky\", \"stand\", \"stand\", \"stand\", \"stand\", \"stand\", \"stand\", \"stand\", \"stand\", \"stand\", \"stand\", \"steady\", \"steady\", \"steady\", \"steady\", \"steady\", \"steppin\", \"steppin\", \"steppin\", \"steppin\", \"stereo\", \"stew\", \"stir\", \"stone\", \"stone\", \"stone\", \"stone\", \"stone\", \"stone\", \"stone\", \"stone\", \"stone\", \"stoned\", \"stony\", \"stop\", \"stop\", \"stop\", \"stop\", \"stop\", \"stop\", \"stop\", \"stop\", \"stop\", \"stop\", \"stuff\", \"stuff\", \"stuff\", \"stuff\", \"stuff\", \"stuff\", \"stuff\", \"stuff\", \"stuff\", \"stuff\", \"stump\", \"sue\", \"sue\", \"sue\", \"sue\\u00f1o\", \"summer\", \"summer\", \"summer\", \"summer\", \"summer\", \"summer\", \"summer\", \"summer\", \"superstition\", \"superstitious\", \"superstitious\", \"swale\", \"swale\", \"swale\", \"sweet\", \"sweet\", \"sweet\", \"sweet\", \"sweet\", \"sweet\", \"sweet\", \"sweet\", \"sweet\", \"sweet\", \"sweetwood\", \"sweetwood\", \"syrian\", \"takin\", \"takin\", \"takin\", \"takin\", \"takin\", \"takin\", \"takin\", \"tangerine\", \"tangerine\", \"telescope\", \"tell\", \"tell\", \"tell\", \"tell\", \"tell\", \"tell\", \"tell\", \"tell\", \"tell\", \"tell\", \"thee\", \"thee\", \"thee\", \"thee\", \"thing\", \"thing\", \"thing\", \"thing\", \"thing\", \"thing\", \"thing\", \"thing\", \"thing\", \"thing\", \"think\", \"think\", \"think\", \"think\", \"think\", \"think\", \"think\", \"think\", \"think\", \"think\", \"thorn\", \"threaten\", \"thunder\", \"thunder\", \"thunder\", \"thunder\", \"thunder\", \"thunder\", \"thunder\", \"tick\", \"tick\", \"time\", \"time\", \"time\", \"time\", \"time\", \"time\", \"time\", \"time\", \"time\", \"time\", \"timeless\", \"to\", \"to\", \"to\", \"to\", \"to\", \"to\", \"to\", \"to\", \"to\", \"to\", \"toast\", \"toast\", \"toast\", \"tonight\", \"tonight\", \"tonight\", \"tonight\", \"tonight\", \"tonight\", \"tonight\", \"tonight\", \"tonight\", \"tonight\", \"tonking\", \"tonkitis\", \"tonkitis\", \"touch\", \"touch\", \"touch\", \"touch\", \"touch\", \"touch\", \"touch\", \"touch\", \"touch\", \"touch\", \"town\", \"town\", \"town\", \"town\", \"town\", \"town\", \"town\", \"town\", \"town\", \"trailer\", \"transplant\", \"traveling\", \"tribal\", \"tribe\", \"trouble\", \"trouble\", \"trouble\", \"trouble\", \"trouble\", \"trouble\", \"trouble\", \"trouble\", \"trouble\", \"trouble\", \"troubled\", \"truckin\", \"truckin\", \"truckin\", \"truckin\", \"truckin\", \"truckin\", \"true\", \"true\", \"true\", \"true\", \"true\", \"true\", \"true\", \"true\", \"true\", \"true\", \"truer\", \"truer\", \"try\", \"try\", \"try\", \"try\", \"try\", \"try\", \"try\", \"try\", \"try\", \"try\", \"tu\", \"tu\", \"tu\", \"tu\", \"tu\", \"turn\", \"turn\", \"turn\", \"turn\", \"turn\", \"turn\", \"turn\", \"turn\", \"turn\", \"turn\", \"ugh\", \"ugh\", \"umc\", \"uncle\", \"uncover\", \"unfolding\", \"unto\", \"up\", \"up\", \"up\", \"up\", \"up\", \"up\", \"vacant\", \"valley\", \"valley\", \"valley\", \"valley\", \"valley\", \"valley\", \"valley\", \"valley\", \"verb\", \"verse\", \"verse\", \"version\", \"vision\", \"vision\", \"vision\", \"vision\", \"vision\", \"vision\", \"vision\", \"vuelve\", \"wait\", \"wait\", \"wait\", \"wait\", \"wait\", \"wait\", \"wait\", \"wait\", \"wait\", \"wait\", \"walk\", \"walk\", \"walk\", \"walk\", \"walk\", \"walk\", \"walk\", \"walk\", \"walk\", \"walk\", \"walkand\", \"wanderer\", \"wanna\", \"wanna\", \"wanna\", \"wanna\", \"wanna\", \"wanna\", \"wanna\", \"wanna\", \"wanna\", \"wanna\", \"want\", \"want\", \"want\", \"want\", \"want\", \"want\", \"want\", \"want\", \"want\", \"want\", \"war\", \"war\", \"war\", \"war\", \"war\", \"war\", \"war\", \"war\", \"war\", \"warrior\", \"warrior\", \"warrior\", \"waste\", \"waste\", \"waste\", \"waste\", \"waste\", \"waste\", \"waste\", \"wave\", \"wave\", \"wave\", \"wave\", \"wave\", \"wave\", \"wave\", \"wave\", \"wave\", \"way\", \"way\", \"way\", \"way\", \"way\", \"way\", \"way\", \"way\", \"way\", \"way\", \"wear\", \"wear\", \"wear\", \"wear\", \"wear\", \"wear\", \"wear\", \"wear\", \"wear\", \"wear\", \"weekday\", \"weekday\", \"weekday\", \"weekday\", \"well\", \"well\", \"well\", \"well\", \"well\", \"well\", \"well\", \"well\", \"well\", \"well\", \"wheel\", \"wheel\", \"wheel\", \"wheel\", \"wheel\", \"wheel\", \"whoa\", \"whoa\", \"whoa\", \"whoa\", \"whoa\", \"whoa\", \"whoa\", \"whoa\", \"whoa\", \"whoa\", \"whoop\", \"whoop\", \"whoop\", \"wide\", \"wide\", \"wide\", \"wide\", \"wide\", \"wide\", \"william\", \"william\", \"wipe\", \"wipe\", \"wipe\", \"wit\", \"wit\", \"wit\", \"witchcraft\", \"witchcraft\", \"witchcraft\", \"wolf\", \"wolf\", \"wolf\", \"woman\", \"woman\", \"woman\", \"woman\", \"woman\", \"woman\", \"woman\", \"woman\", \"woman\", \"woman\", \"wonder\", \"wonder\", \"wonder\", \"wonder\", \"wonder\", \"wonder\", \"wonder\", \"wonder\", \"wonder\", \"wonder\", \"wooh\", \"wow\", \"wow\", \"wow\", \"wow\", \"wow\", \"wow\", \"wow\", \"wow\", \"wow\", \"write\", \"write\", \"write\", \"write\", \"write\", \"write\", \"write\", \"write\", \"write\", \"y\", \"y\", \"y\", \"ya\", \"ya\", \"ya\", \"ya\", \"ya\", \"ya\", \"ya\", \"ya\", \"ya\", \"ya\", \"yeah\", \"yeah\", \"yeah\", \"yeah\", \"yeah\", \"yeah\", \"yeah\", \"yeah\", \"yeah\", \"yeah\", \"yes\", \"yes\", \"yes\", \"yes\", \"yes\", \"yes\", \"yes\", \"yes\", \"yes\", \"yes\", \"yo\", \"yo\", \"yo\", \"yo\", \"yo\", \"yo\", \"yo\", \"yo\", \"yoruba\", \"yuk\", \"yuk\", \"zandoo\", \"zandoo\", \"zandoo\", \"zandoo\", \"zion\", \"zion\", \"zule\", \"zule\", \"zule\", \"zule\"]}, \"R\": 30, \"lambda.step\": 0.01, \"plot.opts\": {\"xlab\": \"PC1\", \"ylab\": \"PC2\"}, \"topic.order\": [3, 2, 10, 8, 9, 5, 7, 6, 1, 4]};\n",
       "\n",
       "function LDAvis_load_lib(url, callback){\n",
       "  var s = document.createElement('script');\n",
       "  s.src = url;\n",
       "  s.async = true;\n",
       "  s.onreadystatechange = s.onload = callback;\n",
       "  s.onerror = function(){console.warn(\"failed to load library \" + url);};\n",
       "  document.getElementsByTagName(\"head\")[0].appendChild(s);\n",
       "}\n",
       "\n",
       "if(typeof(LDAvis) !== \"undefined\"){\n",
       "   // already loaded: just create the visualization\n",
       "   !function(LDAvis){\n",
       "       new LDAvis(\"#\" + \"ldavis_el191396576475472167415504997\", ldavis_el191396576475472167415504997_data);\n",
       "   }(LDAvis);\n",
       "}else if(typeof define === \"function\" && define.amd){\n",
       "   // require.js is available: use it to load d3/LDAvis\n",
       "   require.config({paths: {d3: \"https://d3js.org/d3.v5\"}});\n",
       "   require([\"d3\"], function(d3){\n",
       "      window.d3 = d3;\n",
       "      LDAvis_load_lib(\"https://cdn.jsdelivr.net/gh/bmabey/pyLDAvis@3.2.2/pyLDAvis/js/ldavis.v3.0.0.js\", function(){\n",
       "        new LDAvis(\"#\" + \"ldavis_el191396576475472167415504997\", ldavis_el191396576475472167415504997_data);\n",
       "      });\n",
       "    });\n",
       "}else{\n",
       "    // require.js not available: dynamically load d3 & LDAvis\n",
       "    LDAvis_load_lib(\"https://d3js.org/d3.v5.js\", function(){\n",
       "         LDAvis_load_lib(\"https://cdn.jsdelivr.net/gh/bmabey/pyLDAvis@3.2.2/pyLDAvis/js/ldavis.v3.0.0.js\", function(){\n",
       "                 new LDAvis(\"#\" + \"ldavis_el191396576475472167415504997\", ldavis_el191396576475472167415504997_data);\n",
       "            })\n",
       "         });\n",
       "}\n",
       "</script>"
      ],
      "text/plain": [
       "PreparedData(topic_coordinates=              x         y  topics  cluster       Freq\n",
       "topic                                                \n",
       "2      0.040322 -0.030643       1        1  15.682156\n",
       "1      0.014951  0.013714       2        1  13.367713\n",
       "9      0.025421  0.014160       3        1  13.358424\n",
       "7      0.034133  0.009842       4        1  12.294064\n",
       "8      0.022203 -0.012247       5        1  10.289243\n",
       "4      0.018677 -0.018257       6        1   9.307391\n",
       "6      0.032565  0.044310       7        1   7.737509\n",
       "5     -0.040113 -0.086115       8        1   6.242155\n",
       "0     -0.049003  0.050221       9        1   6.072261\n",
       "3     -0.099155  0.015015      10        1   5.649084, topic_info=       Term         Freq        Total Category  logprob  loglift\n",
       "1308     la   404.000000   404.000000  Default  30.0000  30.0000\n",
       "44     love  1701.000000  1701.000000  Default  29.0000  29.0000\n",
       "1885   holy    84.000000    84.000000  Default  28.0000  28.0000\n",
       "7      good   465.000000   465.000000  Default  27.0000  27.0000\n",
       "36     feel   467.000000   467.000000  Default  26.0000  26.0000\n",
       "...     ...          ...          ...      ...      ...      ...\n",
       "0      baby    20.430661   829.507482  Topic10  -5.2468  -0.8301\n",
       "155    time    20.009985   690.843393  Topic10  -5.2676  -0.6680\n",
       "41     know    18.317067   998.553918  Topic10  -5.3560  -1.1248\n",
       "55    thing    17.712287   347.827913  Topic10  -5.3896  -0.1038\n",
       "16       oh    18.273910   986.320286  Topic10  -5.3584  -1.1148\n",
       "\n",
       "[771 rows x 6 columns], token_table=      Topic      Freq      Term\n",
       "term                           \n",
       "1582      1  0.053065       aah\n",
       "1582      2  0.795976       aah\n",
       "1582      8  0.053065       aah\n",
       "1582     10  0.053065       aah\n",
       "3550      9  0.568664  actually\n",
       "...     ...       ...       ...\n",
       "4759     10  0.123380      zion\n",
       "1264      2  0.760716      zule\n",
       "1264      3  0.022374      zule\n",
       "1264      5  0.178992      zule\n",
       "1264      9  0.022374      zule\n",
       "\n",
       "[2314 rows x 3 columns], R=30, lambda_step=0.01, plot_opts={'xlab': 'PC1', 'ylab': 'PC2'}, topic_order=[3, 2, 10, 8, 9, 5, 7, 6, 1, 4])"
      ]
     },
     "execution_count": 41,
     "metadata": {},
     "output_type": "execute_result"
    }
   ],
   "source": [
    "lda_model.dashboard_LDAvis()"
   ]
  },
  {
   "cell_type": "markdown",
   "id": "d8f664d9",
   "metadata": {
    "papermill": {
     "duration": 0.050808,
     "end_time": "2023-03-15T23:30:09.331152",
     "exception": false,
     "start_time": "2023-03-15T23:30:09.280344",
     "status": "completed"
    },
    "tags": []
   },
   "source": [
    "## 2015 songs lyrics topic modelling\n",
    "\n",
    "Let's first retrieve the english song in 2015 (year of with max genius lyrics repertoried)."
   ]
  },
  {
   "cell_type": "raw",
   "id": "508d9123",
   "metadata": {
    "papermill": {
     "duration": 0.050813,
     "end_time": "2023-03-15T23:30:09.431774",
     "exception": false,
     "start_time": "2023-03-15T23:30:09.380961",
     "status": "completed"
    },
    "tags": []
   },
   "source": [
    "df_2015_en = df[(df['year'] == 2015) & (df['language'] == 'en')]\n",
    "df_2015_en.head()"
   ]
  },
  {
   "cell_type": "markdown",
   "id": "f2fd42d9",
   "metadata": {
    "papermill": {
     "duration": 0.049178,
     "end_time": "2023-03-15T23:30:09.530695",
     "exception": false,
     "start_time": "2023-03-15T23:30:09.481517",
     "status": "completed"
    },
    "tags": []
   },
   "source": [
    "Let's plot the tag distribution"
   ]
  },
  {
   "cell_type": "raw",
   "id": "9fd42d6b",
   "metadata": {
    "papermill": {
     "duration": 0.048983,
     "end_time": "2023-03-15T23:30:09.628621",
     "exception": false,
     "start_time": "2023-03-15T23:30:09.579638",
     "status": "completed"
    },
    "tags": []
   },
   "source": [
    "df_tag = df_2015_en.groupby(['tag']).size().reset_index(name='count')\n",
    "\n",
    "fig = px.bar(df_tag, x=\"tag\", y=\"count\", color='tag')\n",
    "fig.show()"
   ]
  },
  {
   "cell_type": "markdown",
   "id": "3ebe66ad",
   "metadata": {
    "papermill": {
     "duration": 0.049229,
     "end_time": "2023-03-15T23:30:09.726841",
     "exception": false,
     "start_time": "2023-03-15T23:30:09.677612",
     "status": "completed"
    },
    "tags": []
   },
   "source": [
    "The barplot below shows the frequency of each tag color by total views"
   ]
  },
  {
   "cell_type": "raw",
   "id": "8dabaa72",
   "metadata": {
    "papermill": {
     "duration": 0.049559,
     "end_time": "2023-03-15T23:30:09.825717",
     "exception": false,
     "start_time": "2023-03-15T23:30:09.776158",
     "status": "completed"
    },
    "tags": []
   },
   "source": [
    "# retrieve groups\n",
    "total_tag_views = df_2015_en.groupby(['tag'])['views'].sum()\n",
    "tag_freq = df_2015_en.groupby(['tag']).size()\n",
    "\n",
    "# create df\n",
    "df_tag = pd.DataFrame({'count' : tag_freq,'total_views' :total_tag_views})\n",
    "df_tag.reset_index(inplace = True, names = 'tag')\n",
    "\n",
    "# print the barplot\n",
    "fig = px.bar(df_tag, x=\"tag\", y=\"count\", color='total_views')\n",
    "fig.show()"
   ]
  },
  {
   "cell_type": "markdown",
   "id": "0b3585ad",
   "metadata": {
    "papermill": {
     "duration": 0.049285,
     "end_time": "2023-03-15T23:30:09.923924",
     "exception": false,
     "start_time": "2023-03-15T23:30:09.874639",
     "status": "completed"
    },
    "tags": []
   },
   "source": [
    "Let's try topic modelling with top2vec library which is the easiest to start. But first let's filter the lyrics."
   ]
  },
  {
   "cell_type": "raw",
   "id": "8abacaf8",
   "metadata": {
    "papermill": {
     "duration": 0.049141,
     "end_time": "2023-03-15T23:30:10.022275",
     "exception": false,
     "start_time": "2023-03-15T23:30:09.973134",
     "status": "completed"
    },
    "tags": []
   },
   "source": [
    "text = df_2015_en.lyrics.iloc[0]\n",
    "text"
   ]
  },
  {
   "cell_type": "raw",
   "id": "bc7369b3",
   "metadata": {
    "papermill": {
     "duration": 0.048695,
     "end_time": "2023-03-15T23:30:10.120167",
     "exception": false,
     "start_time": "2023-03-15T23:30:10.071472",
     "status": "completed"
    },
    "tags": []
   },
   "source": [
    "text = text.replace('\\n', '')\n",
    "text"
   ]
  },
  {
   "cell_type": "raw",
   "id": "7ff0a554",
   "metadata": {
    "papermill": {
     "duration": 0.050851,
     "end_time": "2023-03-15T23:30:10.219991",
     "exception": false,
     "start_time": "2023-03-15T23:30:10.169140",
     "status": "completed"
    },
    "tags": []
   },
   "source": [
    "import re\n",
    "text = re.sub('[,\\.!?]', '', text)\n",
    "text"
   ]
  },
  {
   "cell_type": "raw",
   "id": "2e1a0a89",
   "metadata": {
    "papermill": {
     "duration": 0.049024,
     "end_time": "2023-03-15T23:30:10.319608",
     "exception": false,
     "start_time": "2023-03-15T23:30:10.270584",
     "status": "completed"
    },
    "tags": []
   },
   "source": [
    "text = text.lower()\n",
    "text"
   ]
  },
  {
   "cell_type": "raw",
   "id": "6d82607c",
   "metadata": {
    "papermill": {
     "duration": 0.04868,
     "end_time": "2023-03-15T23:30:10.419131",
     "exception": false,
     "start_time": "2023-03-15T23:30:10.370451",
     "status": "completed"
    },
    "tags": []
   },
   "source": [
    "def clean_text(text):\n",
    "    # remove \\n\n",
    "    text = text.replace('\\n', '')\n",
    "    # remove punctuation\n",
    "    text = re.sub('[,\\.!?]', '', text)\n",
    "    #removing text in square braquet\n",
    "    text = re.sub('\\[.*?\\]', ' ', text)\n",
    "    #removing figures\n",
    "    text = re.sub('\\w*\\d\\w*',' ', text)\n",
    "    # convert all words in lower case\n",
    "    text = text.lower()\n",
    "    return text\n",
    "\n",
    "results = df_2015_en[\"lyrics\"].apply(clean_text)\n",
    "\n",
    "docs = results.to_list()\n",
    "docs[:2]"
   ]
  },
  {
   "cell_type": "raw",
   "id": "27d2d6b8",
   "metadata": {
    "papermill": {
     "duration": 0.049492,
     "end_time": "2023-03-15T23:30:10.518685",
     "exception": false,
     "start_time": "2023-03-15T23:30:10.469193",
     "status": "completed"
    },
    "tags": []
   },
   "source": [
    "import multiprocessing\n",
    "multiprocessing.cpu_count()"
   ]
  },
  {
   "cell_type": "raw",
   "id": "44497189",
   "metadata": {
    "papermill": {
     "duration": 0.050609,
     "end_time": "2023-03-15T23:30:10.618914",
     "exception": false,
     "start_time": "2023-03-15T23:30:10.568305",
     "status": "completed"
    },
    "tags": []
   },
   "source": [
    "from top2vec import Top2Vec\n",
    "\n",
    "model = Top2Vec(docs, speed = 'fast-learn', workers = multiprocessing.cpu_count())"
   ]
  },
  {
   "cell_type": "raw",
   "id": "23c3e1c8",
   "metadata": {
    "papermill": {
     "duration": 0.049867,
     "end_time": "2023-03-15T23:30:10.719798",
     "exception": false,
     "start_time": "2023-03-15T23:30:10.669931",
     "status": "completed"
    },
    "tags": []
   },
   "source": [
    "import os\n",
    "from datetime import datetime\n",
    "\n",
    "try:\n",
    "    os.makedirs('models')\n",
    "except:\n",
    "    pass\n",
    "\n",
    "today = datetime.now().strftime(\"%d%m%Y\")\n",
    "\n",
    "path = \"models/\" + \"top2vec_\" + today\n",
    "\n",
    "model.save(path)\n",
    "model = Top2Vec.load(path)"
   ]
  },
  {
   "cell_type": "raw",
   "id": "ebf85b8b",
   "metadata": {
    "papermill": {
     "duration": 0.049882,
     "end_time": "2023-03-15T23:30:10.819965",
     "exception": false,
     "start_time": "2023-03-15T23:30:10.770083",
     "status": "completed"
    },
    "tags": []
   },
   "source": [
    "model.get_num_topics()"
   ]
  },
  {
   "cell_type": "raw",
   "id": "d36a8739",
   "metadata": {
    "papermill": {
     "duration": 0.049601,
     "end_time": "2023-03-15T23:30:10.919769",
     "exception": false,
     "start_time": "2023-03-15T23:30:10.870168",
     "status": "completed"
    },
    "tags": []
   },
   "source": [
    "topic_sizes, topic_nums = model.get_topic_sizes()\n",
    "topic_sizes"
   ]
  },
  {
   "cell_type": "raw",
   "id": "d29c8118",
   "metadata": {
    "papermill": {
     "duration": 0.049563,
     "end_time": "2023-03-15T23:30:11.019604",
     "exception": false,
     "start_time": "2023-03-15T23:30:10.970041",
     "status": "completed"
    },
    "tags": []
   },
   "source": [
    "topic_words, word_scores, topic_nums = model.get_topics(457)\n",
    "topic_words[0]"
   ]
  },
  {
   "cell_type": "raw",
   "id": "eb8d1dee",
   "metadata": {
    "papermill": {
     "duration": 0.04988,
     "end_time": "2023-03-15T23:30:11.119521",
     "exception": false,
     "start_time": "2023-03-15T23:30:11.069641",
     "status": "completed"
    },
    "tags": []
   },
   "source": [
    "model.generate_topic_wordcloud(topic_nums[0])"
   ]
  },
  {
   "cell_type": "raw",
   "id": "d8c34cff",
   "metadata": {
    "papermill": {
     "duration": 0.04945,
     "end_time": "2023-03-15T23:30:11.218785",
     "exception": false,
     "start_time": "2023-03-15T23:30:11.169335",
     "status": "completed"
    },
    "tags": []
   },
   "source": [
    "model.generate_topic_wordcloud(topic_nums[1])"
   ]
  },
  {
   "cell_type": "raw",
   "id": "d5e49e7f",
   "metadata": {
    "papermill": {
     "duration": 0.049231,
     "end_time": "2023-03-15T23:30:11.318585",
     "exception": false,
     "start_time": "2023-03-15T23:30:11.269354",
     "status": "completed"
    },
    "tags": []
   },
   "source": [
    "model.generate_topic_wordcloud(topic_nums[2])"
   ]
  },
  {
   "cell_type": "raw",
   "id": "8e3ae7b5",
   "metadata": {
    "papermill": {
     "duration": 0.063879,
     "end_time": "2023-03-15T23:30:11.436212",
     "exception": false,
     "start_time": "2023-03-15T23:30:11.372333",
     "status": "completed"
    },
    "tags": []
   },
   "source": [
    "documents, document_scores, document_ids = model.search_documents_by_topic(topic_num=0, num_docs=5)\n",
    "for doc, score, doc_id in zip(documents, document_scores, document_ids):\n",
    "    print(f\"Document: {doc_id}, Score: {score}\")\n",
    "    print(\"-----------\")\n",
    "    print(doc)\n",
    "    print(\"-----------\")\n",
    "    print()"
   ]
  },
  {
   "cell_type": "markdown",
   "id": "6b12c6a1",
   "metadata": {
    "papermill": {
     "duration": 0.048386,
     "end_time": "2023-03-15T23:30:11.546994",
     "exception": false,
     "start_time": "2023-03-15T23:30:11.498608",
     "status": "completed"
    },
    "tags": []
   },
   "source": [
    "# 2000 song lyrics topic modelling"
   ]
  },
  {
   "cell_type": "raw",
   "id": "e2f8c912",
   "metadata": {
    "papermill": {
     "duration": 0.049077,
     "end_time": "2023-03-15T23:30:11.644548",
     "exception": false,
     "start_time": "2023-03-15T23:30:11.595471",
     "status": "completed"
    },
    "tags": []
   },
   "source": [
    "df_2000_en = df[(df['year'] == 2000) & (df['language'] == 'en')]\n",
    "df_2000_en.head()"
   ]
  },
  {
   "cell_type": "raw",
   "id": "d8233ec3",
   "metadata": {
    "papermill": {
     "duration": 0.056564,
     "end_time": "2023-03-15T23:30:11.750573",
     "exception": false,
     "start_time": "2023-03-15T23:30:11.694009",
     "status": "completed"
    },
    "tags": []
   },
   "source": [
    "# retrieve groups\n",
    "total_tag_views = df_2000_en.groupby(['tag'])['views'].sum()\n",
    "tag_freq = df_2000_en.groupby(['tag']).size()\n",
    "\n",
    "# create df\n",
    "df_tag = pd.DataFrame({'count' : tag_freq,'total_views' :total_tag_views})\n",
    "df_tag.reset_index(inplace = True, names = 'tag')\n",
    "\n",
    "# print the barplot\n",
    "fig = px.bar(df_tag, x=\"tag\", y=\"count\", color='total_views')\n",
    "fig.show()"
   ]
  },
  {
   "cell_type": "raw",
   "id": "2d9d5bb7",
   "metadata": {
    "papermill": {
     "duration": 0.049309,
     "end_time": "2023-03-15T23:30:11.851098",
     "exception": false,
     "start_time": "2023-03-15T23:30:11.801789",
     "status": "completed"
    },
    "tags": []
   },
   "source": [
    "df_2000_en.sort_values(by = 'views', ascending=False).head(10)"
   ]
  },
  {
   "cell_type": "raw",
   "id": "22e93c59",
   "metadata": {
    "papermill": {
     "duration": 0.049525,
     "end_time": "2023-03-15T23:30:11.950695",
     "exception": false,
     "start_time": "2023-03-15T23:30:11.901170",
     "status": "completed"
    },
    "tags": []
   },
   "source": [
    "results = df_2000_en[\"lyrics\"].apply(clean_text)\n",
    "\n",
    "docs = results.to_list()\n",
    "docs[:2]"
   ]
  },
  {
   "cell_type": "raw",
   "id": "9fa8e5a5",
   "metadata": {
    "papermill": {
     "duration": 0.148837,
     "end_time": "2023-03-15T23:30:12.149265",
     "exception": false,
     "start_time": "2023-03-15T23:30:12.000428",
     "status": "completed"
    },
    "tags": []
   },
   "source": [
    "model_2000 = Top2Vec(docs, speed = 'fast-learn', workers = multiprocessing.cpu_count())"
   ]
  },
  {
   "cell_type": "raw",
   "id": "f6d1eb04",
   "metadata": {
    "papermill": {
     "duration": 0.050613,
     "end_time": "2023-03-15T23:30:12.250280",
     "exception": false,
     "start_time": "2023-03-15T23:30:12.199667",
     "status": "completed"
    },
    "tags": []
   },
   "source": [
    "today = datetime.now().strftime(\"%d%m%Y\")\n",
    "\n",
    "path = \"models/\" + \"top2vec_2000_\" + today\n",
    "\n",
    "model_2000.save(path)\n",
    "model_2000 = Top2Vec.load(path)"
   ]
  },
  {
   "cell_type": "raw",
   "id": "7a867cb2",
   "metadata": {
    "papermill": {
     "duration": 0.055645,
     "end_time": "2023-03-15T23:30:12.357335",
     "exception": false,
     "start_time": "2023-03-15T23:30:12.301690",
     "status": "completed"
    },
    "tags": []
   },
   "source": [
    "model_2000.get_num_topics()"
   ]
  },
  {
   "cell_type": "raw",
   "id": "4cbaa896",
   "metadata": {
    "papermill": {
     "duration": 0.050392,
     "end_time": "2023-03-15T23:30:12.461284",
     "exception": false,
     "start_time": "2023-03-15T23:30:12.410892",
     "status": "completed"
    },
    "tags": []
   },
   "source": [
    "topic_words, word_scores, topic_nums = model_2000.get_topics(4)\n",
    "topic_words[0]"
   ]
  },
  {
   "cell_type": "raw",
   "id": "28b04742",
   "metadata": {
    "papermill": {
     "duration": 0.049775,
     "end_time": "2023-03-15T23:30:12.560934",
     "exception": false,
     "start_time": "2023-03-15T23:30:12.511159",
     "status": "completed"
    },
    "tags": []
   },
   "source": [
    "model_2000.generate_topic_wordcloud(topic_nums[0])"
   ]
  },
  {
   "cell_type": "raw",
   "id": "224410d5",
   "metadata": {
    "papermill": {
     "duration": 0.052427,
     "end_time": "2023-03-15T23:30:12.663561",
     "exception": false,
     "start_time": "2023-03-15T23:30:12.611134",
     "status": "completed"
    },
    "tags": []
   },
   "source": [
    "model_2000.generate_topic_wordcloud(topic_nums[1])"
   ]
  },
  {
   "cell_type": "raw",
   "id": "545dedff",
   "metadata": {
    "papermill": {
     "duration": 0.050769,
     "end_time": "2023-03-15T23:30:12.766272",
     "exception": false,
     "start_time": "2023-03-15T23:30:12.715503",
     "status": "completed"
    },
    "tags": []
   },
   "source": [
    "model_2000.generate_topic_wordcloud(topic_nums[2])"
   ]
  },
  {
   "cell_type": "raw",
   "id": "ecdc091d",
   "metadata": {
    "papermill": {
     "duration": 0.050295,
     "end_time": "2023-03-15T23:30:12.866936",
     "exception": false,
     "start_time": "2023-03-15T23:30:12.816641",
     "status": "completed"
    },
    "tags": []
   },
   "source": [
    "model_2000.generate_topic_wordcloud(topic_nums[3])"
   ]
  },
  {
   "cell_type": "markdown",
   "id": "771542ed",
   "metadata": {
    "papermill": {
     "duration": 0.050211,
     "end_time": "2023-03-15T23:30:12.967965",
     "exception": false,
     "start_time": "2023-03-15T23:30:12.917754",
     "status": "completed"
    },
    "tags": []
   },
   "source": [
    "## References"
   ]
  }
 ],
 "metadata": {
  "kernelspec": {
   "display_name": "Python 3",
   "language": "python",
   "name": "python3"
  },
  "language_info": {
   "codemirror_mode": {
    "name": "ipython",
    "version": 3
   },
   "file_extension": ".py",
   "mimetype": "text/x-python",
   "name": "python",
   "nbconvert_exporter": "python",
   "pygments_lexer": "ipython3",
   "version": "3.7.12"
  },
  "papermill": {
   "default_parameters": {},
   "duration": 543.452255,
   "end_time": "2023-03-15T23:30:15.944315",
   "environment_variables": {},
   "exception": null,
   "input_path": "__notebook__.ipynb",
   "output_path": "__notebook__.ipynb",
   "parameters": {},
   "start_time": "2023-03-15T23:21:12.492060",
   "version": "2.4.0"
  }
 },
 "nbformat": 4,
 "nbformat_minor": 5
}
