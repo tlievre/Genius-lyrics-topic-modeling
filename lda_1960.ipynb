{
 "cells": [
  {
   "attachments": {},
   "cell_type": "markdown",
   "metadata": {},
   "source": [
    "# Genius song lyrics : LDA 1960"
   ]
  },
  {
   "cell_type": "code",
   "execution_count": 5,
   "metadata": {},
   "outputs": [
    {
     "data": {
      "text/html": [
       "<div>\n",
       "<style scoped>\n",
       "    .dataframe tbody tr th:only-of-type {\n",
       "        vertical-align: middle;\n",
       "    }\n",
       "\n",
       "    .dataframe tbody tr th {\n",
       "        vertical-align: top;\n",
       "    }\n",
       "\n",
       "    .dataframe thead th {\n",
       "        text-align: right;\n",
       "    }\n",
       "</style>\n",
       "<table border=\"1\" class=\"dataframe\">\n",
       "  <thead>\n",
       "    <tr style=\"text-align: right;\">\n",
       "      <th></th>\n",
       "      <th>title</th>\n",
       "      <th>tag</th>\n",
       "      <th>artist</th>\n",
       "      <th>year</th>\n",
       "      <th>views</th>\n",
       "      <th>features</th>\n",
       "      <th>lyrics</th>\n",
       "      <th>id</th>\n",
       "      <th>language_cld3</th>\n",
       "      <th>language_ft</th>\n",
       "      <th>language</th>\n",
       "      <th>decade</th>\n",
       "    </tr>\n",
       "  </thead>\n",
       "  <tbody>\n",
       "    <tr>\n",
       "      <th>0</th>\n",
       "      <td>Eleanor Rigby</td>\n",
       "      <td>pop</td>\n",
       "      <td>The Beatles</td>\n",
       "      <td>1966</td>\n",
       "      <td>676890</td>\n",
       "      <td>{}</td>\n",
       "      <td>[Intro: Paul McCartney, John Lennon &amp; George H...</td>\n",
       "      <td>1577</td>\n",
       "      <td>en</td>\n",
       "      <td>en</td>\n",
       "      <td>en</td>\n",
       "      <td>1960</td>\n",
       "    </tr>\n",
       "    <tr>\n",
       "      <th>1</th>\n",
       "      <td>Portrait of a Masterpiece</td>\n",
       "      <td>rap</td>\n",
       "      <td>The D.O.C.</td>\n",
       "      <td>1989</td>\n",
       "      <td>5516</td>\n",
       "      <td>{\"Dr. Dre\",\"​The D.O.C.\"}</td>\n",
       "      <td>[The D.O.C.]\\nYea, c'mon\\nC'mon, yea, c'mon\\n\\...</td>\n",
       "      <td>2406</td>\n",
       "      <td>en</td>\n",
       "      <td>en</td>\n",
       "      <td>en</td>\n",
       "      <td>1980</td>\n",
       "    </tr>\n",
       "    <tr>\n",
       "      <th>2</th>\n",
       "      <td>Final Frontier</td>\n",
       "      <td>rap</td>\n",
       "      <td>MC Ren</td>\n",
       "      <td>1992</td>\n",
       "      <td>11162</td>\n",
       "      <td>{}</td>\n",
       "      <td>[Intro: DJ Bobcat]\\nHey, hey Ren, hey check th...</td>\n",
       "      <td>5383</td>\n",
       "      <td>en</td>\n",
       "      <td>en</td>\n",
       "      <td>en</td>\n",
       "      <td>1990</td>\n",
       "    </tr>\n",
       "    <tr>\n",
       "      <th>3</th>\n",
       "      <td>Point the Finga</td>\n",
       "      <td>rap</td>\n",
       "      <td>2Pac</td>\n",
       "      <td>1993</td>\n",
       "      <td>24349</td>\n",
       "      <td>{}</td>\n",
       "      <td>[Intro]\\n\"You could get the finger, (\"Come and...</td>\n",
       "      <td>6722</td>\n",
       "      <td>en</td>\n",
       "      <td>en</td>\n",
       "      <td>en</td>\n",
       "      <td>1990</td>\n",
       "    </tr>\n",
       "    <tr>\n",
       "      <th>4</th>\n",
       "      <td>The Gas Face</td>\n",
       "      <td>rap</td>\n",
       "      <td>3rd Bass</td>\n",
       "      <td>1989</td>\n",
       "      <td>40909</td>\n",
       "      <td>{\"MF DOOM\"}</td>\n",
       "      <td>[MC Serch]\\nAyo, man, my labelmate, Don Newkir...</td>\n",
       "      <td>6217</td>\n",
       "      <td>en</td>\n",
       "      <td>en</td>\n",
       "      <td>en</td>\n",
       "      <td>1980</td>\n",
       "    </tr>\n",
       "  </tbody>\n",
       "</table>\n",
       "</div>"
      ],
      "text/plain": [
       "                       title  tag       artist  year   views  \\\n",
       "0              Eleanor Rigby  pop  The Beatles  1966  676890   \n",
       "1  Portrait of a Masterpiece  rap   The D.O.C.  1989    5516   \n",
       "2             Final Frontier  rap       MC Ren  1992   11162   \n",
       "3            Point the Finga  rap         2Pac  1993   24349   \n",
       "4               The Gas Face  rap     3rd Bass  1989   40909   \n",
       "\n",
       "                    features  \\\n",
       "0                         {}   \n",
       "1  {\"Dr. Dre\",\"​The D.O.C.\"}   \n",
       "2                         {}   \n",
       "3                         {}   \n",
       "4                {\"MF DOOM\"}   \n",
       "\n",
       "                                              lyrics    id language_cld3  \\\n",
       "0  [Intro: Paul McCartney, John Lennon & George H...  1577            en   \n",
       "1  [The D.O.C.]\\nYea, c'mon\\nC'mon, yea, c'mon\\n\\...  2406            en   \n",
       "2  [Intro: DJ Bobcat]\\nHey, hey Ren, hey check th...  5383            en   \n",
       "3  [Intro]\\n\"You could get the finger, (\"Come and...  6722            en   \n",
       "4  [MC Serch]\\nAyo, man, my labelmate, Don Newkir...  6217            en   \n",
       "\n",
       "  language_ft language  decade  \n",
       "0          en       en    1960  \n",
       "1          en       en    1980  \n",
       "2          en       en    1990  \n",
       "3          en       en    1990  \n",
       "4          en       en    1980  "
      ]
     },
     "execution_count": 5,
     "metadata": {},
     "output_type": "execute_result"
    }
   ],
   "source": [
    "# load data\n",
    "import pandas as pd\n",
    "\n",
    "df = pd.read_csv('./data/preprocessed_data.csv')\n",
    "df.head()"
   ]
  },
  {
   "cell_type": "code",
   "execution_count": 6,
   "metadata": {},
   "outputs": [],
   "source": [
    "df = df[df['decade'] == 1960]"
   ]
  },
  {
   "cell_type": "code",
   "execution_count": 7,
   "metadata": {},
   "outputs": [],
   "source": [
    "import spacy\n",
    "from modules.preprocess_text import ngram_models, ngram_preprocess\n",
    "\n",
    "new_nlp = spacy.load('en_core_web_sm') \n",
    "bigram_model, trigram_model = ngram_models(df)\n",
    "\n",
    "new_stop_words = {'like','know','come','get', 'got',\n",
    "                  'go','to','oh','yeah','la', 'lala', 'lalala','ooh','yeah',\n",
    "                  'hey','whoa','woah', 'ohh', 'was', 'mmm',\n",
    "                  'oooh','yah','yeh','mmm', 'hmm','deh','doh','jah','wa','love'} "
   ]
  },
  {
   "cell_type": "code",
   "execution_count": 8,
   "metadata": {},
   "outputs": [
    {
     "name": "stdout",
     "output_type": "stream",
     "text": [
      "total lda computation:  4\n",
      "coherence: 0.3186105848903794\n",
      "alpha: symmetric\n",
      "eta: symmetric\n",
      "topic: 5\n",
      "coherence: 0.3098231054514443\n",
      "alpha: asymmetric\n",
      "eta: symmetric\n",
      "topic: 5\n",
      "coherence: 0.3551755314934863\n",
      "alpha: symmetric\n",
      "eta: symmetric\n",
      "topic: 6\n",
      "coherence: 0.34043332970246487\n",
      "alpha: asymmetric\n",
      "eta: symmetric\n",
      "topic: 6\n"
     ]
    }
   ],
   "source": [
    "from modules.lda_models import LDATopicModeling\n",
    "import logging\n",
    "\n",
    "\n",
    "# try:\n",
    "#     os.makedirs('./log')\n",
    "# except FileExistsError:\n",
    "#     # directory already exists\n",
    "#     pass\n",
    "# # logging.basicConfig(filename='./log/gensim.log', format='%(asctime)s:%(levelname)s:%(message)s', level=logging.INFO)\n",
    "# with open('./log/gensim.log', \"w\") as f:\n",
    "#     pass\n",
    "\n",
    "gensim_log = 'gensim.log'\n",
    "\n",
    "with open(gensim_log, 'w'):\n",
    "    pass\n",
    "\n",
    "# Remove all handlers associated with the root logger object.\n",
    "for handler in logging.root.handlers[:]:\n",
    "    logging.root.removeHandler(handler)\n",
    "\n",
    "#initiate log file\n",
    "logging.basicConfig(\n",
    "    filename = gensim_log,\n",
    "    filemode = 'r+',\n",
    "    format='%(asctime)s:%(levelname)s:%(message)s',\n",
    "    level=logging.INFO)\n",
    "\n",
    "ngram_model = LDATopicModeling(\n",
    "    df,\n",
    "    gensim_log='gensim.log',\n",
    "    decade = 1960,\n",
    "    lang_preprocess = lambda x : ngram_preprocess(\n",
    "                        x, new_nlp, bigram_model,\n",
    "                        trigram_model, new_stop_words),\n",
    "    grid_search = True,\n",
    "    n_topics=6)"
   ]
  },
  {
   "cell_type": "code",
   "execution_count": 12,
   "metadata": {},
   "outputs": [
    {
     "name": "stdout",
     "output_type": "stream",
     "text": [
      "[t-SNE] Computing 91 nearest neighbors...\n",
      "[t-SNE] Indexed 437 samples in 0.001s...\n",
      "[t-SNE] Computed neighbors for 437 samples in 0.010s...\n",
      "[t-SNE] Computed conditional probabilities for sample 437 / 437\n",
      "[t-SNE] Mean sigma: 0.005456\n",
      "[t-SNE] KL divergence after 250 iterations with early exaggeration: 46.769711\n",
      "[t-SNE] KL divergence after 1000 iterations: 0.217458\n"
     ]
    },
    {
     "data": {
      "application/vnd.plotly.v1+json": {
       "config": {
        "plotlyServerURL": "https://plot.ly"
       },
       "data": [
        {
         "customdata": [
          [
           "Eleanor Rigby",
           "The Beatles"
          ],
          [
           "Last Night I Had The Strangest Dream",
           "Simon & Garfunkel"
          ],
          [
           "My Cherie Amour",
           "Stevie Wonder"
          ],
          [
           "She Came in Through the Bathroom Window",
           "The Beatles"
          ],
          [
           "Ask Me Why",
           "The Beatles"
          ],
          [
           "Nobel Prize Acceptance Speech",
           "John Steinbeck"
          ],
          [
           "No Matter What Sign You Are",
           "The Supremes"
          ],
          [
           "Cant Explain",
           "Love"
          ],
          [
           "Milky White Way",
           "Elvis Presley"
          ],
          [
           "House of the Rising Sun",
           "Joan Baez"
          ],
          [
           "If Not for You",
           "George Jones"
          ],
          [
           "Doncha Bother Me",
           "The Rolling Stones"
          ],
          [
           "Boss Jack",
           "Johnny Cash"
          ],
          [
           "Here Was a Man",
           "Johnny Cash"
          ],
          [
           "The Ballad of Boot Hill",
           "Johnny Cash"
          ],
          [
           "New Mexico",
           "Johnny Cash"
          ],
          [
           "Land of 1000 Dances",
           "Wilson Pickett"
          ],
          [
           "Why Didn’t Rosemary",
           "Deep Purple"
          ],
          [
           "Leaves That Are Green",
           "Paul Simon"
          ],
          [
           "Good Times",
           "Willie Nelson"
          ],
          [
           "Baby Dont You Cry",
           "Ray Charles"
          ],
          [
           "Mountain of Love",
           "The Beach Boys"
          ],
          [
           "Country Air",
           "The Beach Boys"
          ],
          [
           "Let It Rock",
           "Chuck Berry"
          ],
          [
           "The Man and the Donkey",
           "Chuck Berry"
          ],
          [
           "Hungry Eyes",
           "Merle Haggard"
          ],
          [
           "Bo Diddley",
           "Buddy Holly"
          ],
          [
           "I Wish It Would Rain",
           "The Temptations"
          ],
          [
           "Tribute to John F. Kennedy at the Democratic National Convention Atlantic City New Jersey August 27 1964",
           "Robert F. Kennedy"
          ],
          [
           "Where Did Our Love Go",
           "The Supremes"
          ],
          [
           "My Last Chance With You",
           "Buck Owens"
          ],
          [
           "The Madman Running Through the Fields",
           "Dantallian's Chariot"
          ],
          [
           "Its My Life",
           "The Animals"
          ],
          [
           "Molly Maguires",
           "The Dubliners"
          ],
          [
           "Trouble Is A Lonesome Town",
           "Lee Hazlewood"
          ],
          [
           "A Real Live Fool",
           "Lee Hazlewood"
          ],
          [
           "Me And Charlie",
           "Lee Hazlewood"
          ],
          [
           "You’ve Really Got a Hold on Me/Bring It On Home to Me",
           "The Zombies"
          ],
          [
           "Pour Man",
           "Lee Hazlewood"
          ],
          [
           "Tryin To Win",
           "Peter, Paul and Mary"
          ],
          [
           "Reconsider Me",
           "Johnny Adams"
          ],
          [
           "This Old Heart 1966 Version",
           "James Brown & The Famous Flames"
          ],
          [
           "Dr. Feelgood",
           "Aretha Franklin"
          ],
          [
           "Blues from an Airplane",
           "Jefferson Airplane"
          ],
          [
           "Old Compton Street Blues",
           "Al Stewart"
          ],
          [
           "Second Hand Nose",
           "Allan Sherman"
          ],
          [
           "Youre Getting To Be A Rabbit With Me",
           "Allan Sherman"
          ],
          [
           "Blues In The Night",
           "Quincy Jones"
          ],
          [
           "Alligator Man",
           "The Nitty Gritty Dirt Band"
          ],
          [
           "Busmans Holiday",
           "Chad and Jeremy"
          ],
          [
           "The Party",
           "Porter Wagoner & Dolly Parton"
          ],
          [
           "Smiling Phases",
           "Blood, Sweat & Tears"
          ],
          [
           "Gypsy Woman",
           "Jay and the Americans"
          ],
          [
           "Its the Little Things",
           "Sonny & Cher"
          ],
          [
           "Picture on the Wall",
           "John Mayall & The Bluesbreakers"
          ],
          [
           "Mickeys Monkey",
           "Martha Reeves & The Vandellas"
          ],
          [
           "Thursday",
           "Country Joe and the Fish"
          ],
          [
           "I Found a Girl",
           "Jan & Dean"
          ],
          [
           "All I Have to Do Is Dream Live",
           "Jan & Dean"
          ],
          [
           "Tell Em Im Surfin",
           "Jan & Dean"
          ],
          [
           "No Money In My Pocket",
           "Bobby Womack"
          ],
          [
           "The Twelfth of Never",
           "Andy Williams"
          ],
          [
           "Blues Deluxe",
           "Jeff Beck"
          ],
          [
           "Bill Bailey Wont You Please Come Home",
           "Brenda Lee"
          ],
          [
           "Rock A Bye Baby Blues",
           "Brenda Lee"
          ],
          [
           "Anyone for Tennis",
           "Cream"
          ],
          [
           "Ill Still Be Missing You",
           "Warner Mack"
          ],
          [
           "Im Hanging Up My Heart For You",
           "Percy Sledge"
          ],
          [
           "Memphis",
           "Buck Owens"
          ],
          [
           "The Battle of New Orleans",
           "The Royal Guardsmen"
          ],
          [
           "Make Me A Smile",
           "Poco"
          ],
          [
           "Time After Time",
           "June Christy"
          ],
          [
           "Paris Blues",
           "Duke Ellington and His Orchestra"
          ],
          [
           "Chapel of Love",
           "The Dixie Cups"
          ],
          [
           "The Clearout",
           "Jack Bruce"
          ],
          [
           "River Deep Mountain High",
           "Harry Nilsson"
          ],
          [
           "Chained",
           "The Jackson 5"
          ],
          [
           "Tell Me Have You Ever Seen Me?",
           "Small Faces"
          ],
          [
           "Touch of Yesterday",
           "Ferlin Husky"
          ],
          [
           "How Do You Feel",
           "Hank Thompson"
          ],
          [
           "America the Beautiful",
           "The Young Rascals"
          ],
          [
           "Innervenus Eyes",
           "Bob Seger"
          ],
          [
           "The Airport Song",
           "The Byrds"
          ],
          [
           "South of the Border",
           "Patsy Cline"
          ],
          [
           "If I Were a Carpenter",
           "The Free Design"
          ],
          [
           "Good Rockin Tonight",
           "Jimmy Witherspoon"
          ],
          [
           "All The Way With Jesus",
           "Buck Owens"
          ],
          [
           "On A Clear Day You Can See Forever",
           "Sammy Davis Jr."
          ],
          [
           "Sunny Goodge Street",
           "Marianne Faithfull"
          ],
          [
           "Its Easy Child",
           "The Moody Blues"
          ],
          [
           "Two Trains Running",
           "The Blues Project"
          ],
          [
           "Bah-Bah-Bah",
           "The Supremes"
          ],
          [
           "Four Strong Winds",
           "John Denver"
          ],
          [
           "Changin My Mind",
           "Bobby Bare"
          ],
          [
           "Dont Let Me Be Misunderstood",
           "The Moody Blues"
          ],
          [
           "Eulogy to Lenny Bruce",
           "Nico"
          ],
          [
           "16 Tons",
           "Billy Strange"
          ],
          [
           "Look Over Your Shoulder",
           "Helen Shapiro"
          ],
          [
           "Dust Be Diamonds",
           "The Incredible String Band"
          ],
          [
           "Choke Thirst Die",
           "Coven"
          ],
          [
           "Houston",
           "Bobby Bare"
          ],
          [
           "The More I See You",
           "Sarah Vaughan"
          ],
          [
           "Two Trains Running",
           "John Hammond"
          ],
          [
           "Rockin’ Pneumonia and the Boogie Woogie Flu",
           "P.J. Proby"
          ],
          [
           "Youre Worth It All",
           "Bobby \"Blue\" Bland"
          ],
          [
           "Ill Call You Mine",
           "The Zombies"
          ],
          [
           "Peggy Gordon",
           "The Dubliners"
          ],
          [
           "Trade Winds",
           "Hank Snow"
          ],
          [
           "Whos Gonna Hold Her Hand",
           "The Kingston Trio"
          ],
          [
           "The Wild Side of Life",
           "Conway Twitty"
          ],
          [
           "On a Quiet Night",
           "The Association"
          ],
          [
           "Youre So Fine",
           "Wilson Pickett"
          ],
          [
           "Happy Times",
           "The Box Tops"
          ],
          [
           "Home",
           "Gary Puckett & The Union Gap"
          ],
          [
           "The One I Love Belongs To Somebody Else",
           "Frank Sinatra"
          ],
          [
           "He Dont Deserve You Anymore",
           "Buck Owens"
          ],
          [
           "Girl Talk",
           "Tony Bennett"
          ],
          [
           "It Tears Me Up",
           "Percy Sledge"
          ],
          [
           "Sorry",
           "The Easybeats"
          ],
          [
           "Monster Mash",
           "The Bonzo Dog Doo Dah Band"
          ],
          [
           "Just Like A Woman",
           "B.B. King"
          ],
          [
           "As Tears Go By",
           "Nancy Sinatra"
          ],
          [
           "Walkin My Cat Named Dog",
           "Norma Tanega"
          ],
          [
           "Juniper Suction",
           "T. Rex"
          ],
          [
           "The Village Ram",
           "Mighty Sparrow"
          ],
          [
           "Here I Am",
           "Bobby Darin"
          ],
          [
           "Please Go",
           "Golden Earring"
          ],
          [
           "First I Look at the Purse",
           "The Contours"
          ],
          [
           "Itll Be Me",
           "The Move"
          ],
          [
           "Hurt Her Once for Me",
           "The Wilburn Brothers"
          ],
          [
           "You Dont Know Baby",
           "Wanda Jackson"
          ],
          [
           "Sail On Little Girl",
           "Jimmy Witherspoon"
          ],
          [
           "Have You Ever Loved Somebody?",
           "The Hollies"
          ],
          [
           "I Saw Three Ships",
           "Nat \"King\" Cole"
          ],
          [
           "Why Don’t You Love Me?",
           "Don Gibson"
          ],
          [
           "Secret Love",
           "Loretta Lynn"
          ],
          [
           "Youre My Dream Come True",
           "The Temptations"
          ],
          [
           "The Migrant",
           "Tony Joe White"
          ],
          [
           "That Lucky Old Sun",
           "Tommy Cash (US)"
          ],
          [
           "I Walk Alone",
           "Marty Robbins"
          ],
          [
           "Let Old Mother Nature Have Her Way",
           "Faron Young"
          ],
          [
           "Three Little Fishies",
           "Kay Kyser & His Orchestra"
          ],
          [
           "As Long As I Know Hes Mine",
           "The Marvelettes"
          ],
          [
           "Confessions of a Broken Man",
           "Porter Wagoner"
          ],
          [
           "Walking to New Orleans",
           "Fats Domino"
          ],
          [
           "Tulsa County Blue",
           "The Byrds"
          ],
          [
           "Living Above Your Head",
           "The Walker Brothers"
          ],
          [
           "Bubble Gum World",
           "1910 Fruitgum Company"
          ],
          [
           "Goodnight Sweetheart",
           "Sarah Vaughan"
          ],
          [
           "I Can’t Stop Lovin You",
           "Ricky Nelson"
          ],
          [
           "Goin Out Of My Head",
           "Florence Ballard"
          ],
          [
           "Ace of Spades",
           "O.V. Wright"
          ],
          [
           "This Little Bird",
           "Marianne Faithfull"
          ],
          [
           "Best Day’s Work",
           "The Dave Clark Five"
          ],
          [
           "Baby Wont You Please Come Home",
           "Ann-Margret"
          ],
          [
           "Happy",
           "Nancy Sinatra"
          ],
          [
           "Yesterday",
           "Chris Montez"
          ],
          [
           "A Lovers Concerto",
           "Sarah Vaughan"
          ],
          [
           "Hesitation Blues",
           "Kaleidoscope (American band)"
          ],
          [
           "Wont Be Long",
           "Dusty Springfield"
          ],
          [
           "What You Gonna Do",
           "Shocking Blue"
          ],
          [
           "Well Meet Again",
           "The Cryan' Shames"
          ],
          [
           "Blue Sand",
           "Marty Robbins"
          ],
          [
           "Tomorrow Night",
           "Lonnie Johnson"
          ],
          [
           "Walk Out Backwards",
           "Connie Smith"
          ],
          [
           "Run Past My Window",
           "Fever Tree"
          ],
          [
           "Oh What a Day",
           "The Dells"
          ],
          [
           "I Dont Want To Be Hurt Anymore",
           "Nat \"King\" Cole"
          ],
          [
           "These Are the Times",
           "Harry Belafonte"
          ],
          [
           "Big Ball In Town",
           "The Kingston Trio"
          ],
          [
           "Sincerely",
           "The Four Seasons"
          ],
          [
           "Since I Lost My Baby",
           "The Temptations"
          ],
          [
           "I Am",
           "Bobby Darin"
          ],
          [
           "In the Garden",
           "Connie Smith"
          ],
          [
           "Family Doctor",
           "Bread"
          ],
          [
           "Smile",
           "Neil Sedaka"
          ],
          [
           "The Tie That Binds",
           "Jim Reeves"
          ],
          [
           "When The Sun Goes Down",
           "The Brothers Four"
          ],
          [
           "The Kettle",
           "Colosseum"
          ],
          [
           "Sometimes I Wonder",
           "Major Lance"
          ],
          [
           "It’s Better to Have Loved a Little",
           "Hank Thompson"
          ],
          [
           "Puppy Love",
           "Barbara Lewis"
          ],
          [
           "Cry Stampede",
           "Marty Robbins"
          ],
          [
           "Our Love Will Still Be There",
           "The Troggs"
          ],
          [
           "Café",
           "Engelbert Humperdinck"
          ],
          [
           "Ill Only Miss Her When I Think of Her",
           "Bobby Darin"
          ],
          [
           "Papa Was Too",
           "Joe Tex"
          ],
          [
           "The World Is Waiting for the Sunrise",
           "Don Gibson"
          ],
          [
           "You Win Again",
           "Ray Charles"
          ],
          [
           "Since I Fell for You",
           "The Young Rascals"
          ],
          [
           "Eleanor Rigby",
           "Bobbie Gentry"
          ],
          [
           "Gypsy Songman",
           "Jerry Jeff Walker"
          ],
          [
           "You Are There",
           "Frank Sinatra"
          ],
          [
           "She Still Comes Around To Love What’s Left of Me",
           "Jerry Lee Lewis"
          ],
          [
           "Rain",
           "Sue Raney"
          ],
          [
           "The Hymns from the Grand Terrace",
           "Richard Harris"
          ],
          [
           "September Song",
           "Tony Bennett"
          ],
          [
           "The Wrong Road",
           "B.B. King"
          ],
          [
           "Dont Go Away",
           "The Zombies"
          ],
          [
           "Leaving on a Jet Plane",
           "John Denver"
          ],
          [
           "There Never Was A Fool",
           "Buck Owens"
          ],
          [
           "Hello Young Lovers",
           "The Merseybeats"
          ],
          [
           "This Is All I Ask",
           "Perry Como"
          ],
          [
           "Sweetness",
           "Yes"
          ],
          [
           "Bésame Mucho",
           "Dean Martin"
          ],
          [
           "Softly as I Leave You",
           "Matt Monro"
          ],
          [
           "My Ramblin Boy",
           "The Kingston Trio"
          ],
          [
           "Little Lover",
           "The Hollies"
          ],
          [
           "The Observation",
           "Donovan"
          ],
          [
           "One Last Kiss",
           "Bobby Vee"
          ],
          [
           "The Sneaky Little Side of Me",
           "Dean Martin"
          ],
          [
           "Lucky Ladybug",
           "The Four Seasons"
          ],
          [
           "Spontaneous Apple Creation",
           "The Crazy World of Arthur Brown"
          ],
          [
           "Youd Be So Nice to Come Home To",
           "Julie London"
          ],
          [
           "Look Here Comes the Sun",
           "The Sunshine Company"
          ],
          [
           "Its Halloween",
           "The Shaggs"
          ],
          [
           "I Cant Get Over You",
           "Jerry Lee Lewis"
          ],
          [
           "The Lion Sleeps Tonight Wimoweh",
           "The Tokens"
          ],
          [
           "Surfer Joe",
           "The Surfaris"
          ],
          [
           "Song Of The Iron Road",
           "Ewan MacColl"
          ],
          [
           "Rock Me Baby",
           "The Box Tops"
          ],
          [
           "Coal Miners Blues",
           "Flatt & Scruggs"
          ],
          [
           "Since I Met You Baby",
           "Wanda Jackson"
          ],
          [
           "Both Sides Now",
           "Pete Seeger"
          ],
          [
           "Are You Lovin Me More But Enjoy It Less",
           "The Electric Prunes"
          ],
          [
           "Are You from Dixie Cause I’m from Dixie Too",
           "Jerry Reed"
          ],
          [
           "That Will Never Do",
           "Freddie King"
          ],
          [
           "Oh Yeah",
           "The Shadows of Knight"
          ],
          [
           "Id Be A Legend in My Time",
           "The Everly Brothers"
          ],
          [
           "I Get Carried Away",
           "Tom Jones"
          ],
          [
           "Whiskey Mystics and Men",
           "The Doors"
          ],
          [
           "Frosty the Snowman",
           "The Ronettes"
          ],
          [
           "Charade Vocal",
           "Henry Mancini"
          ],
          [
           "Hurt a Little Everyday",
           "Brenda Holloway"
          ],
          [
           "Bleecker  Macdougal",
           "Fred Neil"
          ],
          [
           "Buttered Popcorn",
           "The Supremes"
          ],
          [
           "Im A Man",
           "The Sonics"
          ],
          [
           "Whisper You Love Me Boy",
           "The Supremes"
          ],
          [
           "How Can I Be Sure?",
           "The Young Rascals"
          ],
          [
           "Tonight You Belong to Me",
           "David Houston"
          ],
          [
           "Looking For My Feel Good",
           "George Jones"
          ],
          [
           "Sunshine Day",
           "Jethro Tull"
          ],
          [
           "Airplane Song My Airplane",
           "The Royal Guardsmen"
          ],
          [
           "Proud Mary",
           "Solomon Burke"
          ],
          [
           "When Youre Smiling",
           "Dean Martin"
          ],
          [
           "We Can Work It Out",
           "Dionne Warwick"
          ],
          [
           "Forever Yours I Remain",
           "Bobby Vinton"
          ],
          [
           "Steam Heat",
           "Ella Fitzgerald"
          ],
          [
           "I Didnt Know What Time It Was",
           "Tony Bennett"
          ],
          [
           "Tomorrow Belongs to Me Reprise",
           "John Kander"
          ],
          [
           "Silent Night",
           "Phil Spector"
          ],
          [
           "A Sleepin Bee",
           "Nancy Wilson"
          ],
          [
           "People Get Ready",
           "George Benson"
          ],
          [
           "Strawberry Fields Forever",
           "Richie Havens"
          ],
          [
           "I Can Hear Music",
           "The Ronettes"
          ],
          [
           "These Eyes",
           "Junior Walker & The All Stars"
          ],
          [
           "A Bad Case Of The Blues",
           "Dinah Washington"
          ],
          [
           "Lemon Tree",
           "The Seekers"
          ],
          [
           "St. Louis",
           "The Easybeats"
          ],
          [
           "Watch Your Step",
           "Bobby Parker"
          ],
          [
           "You got it",
           "Etta James"
          ],
          [
           "The Best Is Yet to Come",
           "Frank Sinatra"
          ],
          [
           "Misirlou",
           "The Trashmen"
          ],
          [
           "Tell Me Its Just A Rumor Baby",
           "The Isley Brothers"
          ],
          [
           "Aquarius/Let the Sunshine In",
           "The 5th Dimension"
          ],
          [
           "Take Out Some Insurance On Me Baby",
           "Tony Sheridan"
          ],
          [
           "Fly Me To The Moon In Other Words",
           "Dinah Washington"
          ],
          [
           "Cactus Tree",
           "Joni Mitchell"
          ],
          [
           "Its Got To Be A Miracle",
           "Kim Weston"
          ],
          [
           "Tonight",
           "Jim Bryant, Marni Nixon, Johnny Green & West Side Story Orchestra"
          ],
          [
           "Red Day",
           "Thomas Edisun's Electric Light Bulb Band"
          ],
          [
           "My Bed Is Getting Crowded",
           "The Fugs"
          ],
          [
           "Little Known Facts 1999",
           "Clark Gesner"
          ],
          [
           "Boy on the Mountain",
           "The Association"
          ],
          [
           "Hook  Line",
           "Roscoe Holcomb"
          ],
          [
           "Change What You Can",
           "Marvin Gaye"
          ],
          [
           "I Got It Bad And That Aint Good",
           "Jackie Wilson"
          ],
          [
           "Therell Be No Next Time",
           "Jackie Wilson"
          ],
          [
           "Where Am I Going",
           "Manfred Mann Chapter 3"
          ],
          [
           "I Love You Alice B. Toklas single version",
           "Harpers Bizarre"
          ],
          [
           "Finisterre",
           "Sylvia Plath"
          ],
          [
           "Heartaches For A Day",
           "Melba Montgomery"
          ],
          [
           "8 Teen",
           "? and the Mysterians"
          ],
          [
           "Think About the Good Things",
           "The Detroit Wheels"
          ],
          [
           "Sweet Darlin",
           "Martha Reeves & The Vandellas"
          ],
          [
           "And There You Were",
           "Billy Eckstine"
          ],
          [
           "Tomorrows Tears",
           "Jimmy Ruffin"
          ],
          [
           "Wildwood Flower",
           "Johnny Cash"
          ],
          [
           "Walk Out Backwards",
           "Bill Anderson"
          ],
          [
           "The First Mrs. Jones",
           "Bill Anderson"
          ],
          [
           "Heart of Stone",
           "John Leyton"
          ],
          [
           "Virgin",
           "Traffic Sound"
          ],
          [
           "I Call It Pretty Music But The Old People Call It The Blues Part 1 Second Pressing",
           "Stevie Wonder"
          ],
          [
           "The Great Titanic",
           "Howard Crockett"
          ],
          [
           "I Don’t Know What to Do",
           "Richard Anthony"
          ],
          [
           "My First And Only Lover",
           "Nat \"King\" Cole"
          ],
          [
           "Lonely One",
           "Janis Ian"
          ],
          [
           "Feel Your Way",
           "The Spencer Davis Group"
          ],
          [
           "If You Tell a Lie",
           "The McCoys"
          ],
          [
           "As It Is Before",
           "Earth Opera"
          ],
          [
           "If You Dont Give Me What I Want I Gotta Get It Some Other Place",
           "Vicki Anderson"
          ],
          [
           "Ill Be Lonely Tomorrow",
           "Del Shannon"
          ],
          [
           "Sing a Goofy Song",
           "The Chipmunks"
          ],
          [
           "Come Back Baby Live in Paris 1968",
           "Aretha Franklin"
          ],
          [
           "Melanie",
           "Rare Bird"
          ],
          [
           "In the wilderness",
           "Samuel Barber"
          ],
          [
           "Im With You",
           "Love"
          ],
          [
           "Say Wonderful Things",
           "Patti Page"
          ],
          [
           "Truck Drivin Man",
           "The Grass Roots"
          ],
          [
           "The Same Old Story",
           "The Happenings"
          ],
          [
           "Everybody Says Dont",
           "Original Broadway Cast of Anyone Can Whistle"
          ],
          [
           "The Soldier Traveling from the North",
           "Dillard Chandler"
          ],
          [
           "If I Ruled the World",
           "James Brown & The Famous Flames"
          ],
          [
           "Get It Together Part 2",
           "James Brown & The Famous Flames"
          ],
          [
           "Devils Den Live",
           "James Brown"
          ],
          [
           "A Lonely Girls Prayer",
           "The Paris Sisters"
          ],
          [
           "Theres Always Tomorrow",
           "Rankin/Bass Productions"
          ],
          [
           "Join the Firm",
           "Halfnelson"
          ],
          [
           "You Know I Love You",
           "John Lee Hooker"
          ],
          [
           "Blue Museum",
           "Arthur Lee Harper"
          ],
          [
           "Im Happy They Took You Away Ha-Haaa",
           "Josephine XV"
          ],
          [
           "Pink Pedal Pushers",
           "Jerry Lee Lewis"
          ],
          [
           "Bedazzled",
           "The Dudley Moore Trio"
          ],
          [
           "You’ve Got Everything",
           "Bob Luman"
          ],
          [
           "Losin Control",
           "Eric Burdon & The Animals"
          ],
          [
           "Goin’ to California",
           "John Lee Hooker"
          ],
          [
           "Run Come See",
           "The Phoenix Singers"
          ],
          [
           "Tell Me",
           "Cliff Richard & The Shadows"
          ],
          [
           "Jesus Christ",
           "Cisco Houston"
          ],
          [
           "High Noon Do Not Forsake Me",
           "Peter & Gordon"
          ],
          [
           "Call on Dolly",
           "Cast of Hello, Dolly!"
          ],
          [
           "Mr. Commuter",
           "Mike Proctor"
          ],
          [
           "MCMXIV re-transcribed",
           "Philip Larkin"
          ],
          [
           "Upon Your Leaving",
           "Paul Revere and the Raiders"
          ],
          [
           "What A Day For Me",
           "Harumi Ando"
          ],
          [
           "A Flower",
           "Alexis Korner"
          ],
          [
           "Empty Pockets Filled with Love",
           "Perry Como"
          ],
          [
           "Alice",
           "Jon Plum"
          ],
          [
           "Pal of Mine",
           "Blind Willie McTell"
          ],
          [
           "Patient №18 - Evauation with diagnosis - Interview with catatonic schizophrenic",
           "Psychiatric Interview Series"
          ],
          [
           "Falstaff",
           "The Watts Prophets"
          ],
          [
           "The Red Rooster",
           "Howlin' Wolf"
          ],
          [
           "Mary Ann",
           "Udo Jrgens"
          ],
          [
           "Walking Round",
           "Manfred Mann"
          ],
          [
           "You Dont Love Me Anymore And I Can Tell",
           "Ricky Nelson"
          ],
          [
           "Slippin And A Slidin",
           "Wanda Jackson"
          ],
          [
           "The Violet and a Rose",
           "Wanda Jackson"
          ],
          [
           "Skin Game Blues 1963",
           "Peg Leg Howell"
          ],
          [
           "Once Upon a Time",
           "Ketty Lester"
          ],
          [
           "Deaf Dumb and Blind",
           "Bohemian Vendetta"
          ],
          [
           "The Shapely Balloon",
           "Ivor Cutler"
          ],
          [
           "Song for a Dollar",
           "Bobby Darin"
          ],
          [
           "Darling Darlane",
           "Nirvana (UK)"
          ],
          [
           "So Warm",
           "Jackie DeShannon"
          ],
          [
           "Thats Life",
           "Marion Montgomery"
          ],
          [
           "Lonely Street",
           "Peter & Gordon"
          ],
          [
           "I Want to Be Happy",
           "Doris Day"
          ],
          [
           "Wandering",
           "Priscilla Paris"
          ],
          [
           "My Man",
           "Priscilla Paris"
          ],
          [
           "Moon in My Window",
           "Original Broadway Cast of Do I Hear a Waltz?"
          ],
          [
           "Theme from Valley of the Dolls",
           "Tony Bennett"
          ],
          [
           "Monica Du Du",
           "Mighty Sparrow"
          ],
          [
           "You’re The Woman",
           "Tripsichord Music Box"
          ],
          [
           "Yabba-Dabba-Doo",
           "Hoagy Carmichael"
          ],
          [
           "Brother Im With You",
           "Hal Singer"
          ],
          [
           "The Time Has Come",
           "Pentangle"
          ],
          [
           "Just Because I Really Love You",
           "Jerry Butler"
          ],
          [
           "It Could Happen to You",
           "Peggy Lee"
          ],
          [
           "Everythings Gonna Be All Right",
           "Chubby Checker"
          ],
          [
           "Hare Krishna",
           "Original Off-Broadway Cast of HAIR"
          ],
          [
           "Sinner Man",
           "The Highwaymen (Folk)"
          ],
          [
           "Good Good Lovin",
           "Bobby Hebb"
          ],
          [
           "The Greenwood Sidie The Cruel Mother",
           "Ian & Sylvia"
          ],
          [
           "Dont Separate Us",
           "Linda Brannon"
          ],
          [
           "Money Blues",
           "Malvina Reynolds"
          ],
          [
           "You Are Where Everything Is",
           "Andy Williams"
          ],
          [
           "Come to Me Bend to Me",
           "Andy Williams"
          ],
          [
           "For Once in My Life",
           "Andy Williams"
          ],
          [
           "The Merry Christmas Medley",
           "The Four Seasons"
          ],
          [
           "Round Midnight",
           "Jack Jones"
          ],
          [
           "Wish I Was Anywhere Else",
           "Jake Holmes"
          ],
          [
           "Easy to Be Hard",
           "Jack Jones"
          ],
          [
           "The Draft Dodger Rag",
           "The Chad Mitchell Trio"
          ],
          [
           "Aquarius/Let the Sunshine In",
           "Engelbert Humperdinck"
          ],
          [
           "Today Is the Highway",
           "Eric Andersen"
          ],
          [
           "Exodus",
           "Matt Monro"
          ],
          [
           "Rain Sometimes",
           "Matt Monro"
          ],
          [
           "The Shadow of Your Smile",
           "Matt Monro"
          ],
          [
           "A Taste Of Honey",
           "Jane Morgan"
          ],
          [
           "Suddenly Im Sad",
           "Ann Richards"
          ],
          [
           "A Shine On Your Shoes",
           "Debbie Reynolds"
          ],
          [
           "Falling In Love With Love",
           "Sheila Jordan"
          ],
          [
           "Peaceful Valley",
           "Jack Teagarden"
          ],
          [
           "Sem Saudades De Voce Dont Call Joe",
           "Vi Velasco"
          ],
          [
           "On The Street Where You Live",
           "John Gary"
          ],
          [
           "The Tale of a Mouse",
           "Bernard Cribbins"
          ],
          [
           "My Resistance Is Low",
           "Bernard Cribbins"
          ],
          [
           "The Lamp Is Low",
           "Robert Goulet"
          ],
          [
           "Wanna Laugh?",
           "Sue Raney"
          ],
          [
           "Beyond This Place",
           "West Coast Natural Gas"
          ],
          [
           "Love For Sale Original Session Take",
           "Aretha Franklin"
          ],
          [
           "Hey Baby",
           "The Marvelettes"
          ],
          [
           "The Old Miner",
           "The Contours"
          ],
          [
           "Steel Rail Blues",
           "Gordon Lightfoot"
          ],
          [
           "I Wish I Didnt Love You So",
           "Etta Jones"
          ],
          [
           "The Ministrel",
           "The Racket Squad"
          ],
          [
           "Its Raining 1969",
           "Peter, Paul and Mary"
          ],
          [
           "Does She Really Care for Me",
           "The Searchers"
          ],
          [
           "Whos Gonna Shoe Your Pretty Little Foot",
           "Barbara Dane"
          ],
          [
           "Fast Freight",
           "The Fifth Avenue Band"
          ],
          [
           "Crisco",
           "Paul Revere and the Raiders"
          ],
          [
           "Im a Loser Too",
           "Paul Revere and the Raiders"
          ],
          [
           "Introduction",
           "Paul Revere and the Raiders"
          ],
          [
           "How I Wish The Nights Were Longer",
           "Ronnie Dove"
          ],
          [
           "My Reverie",
           "Rod Lauren"
          ],
          [
           "Im Beginning to See the Light",
           "Louis Armstrong & Duke Ellington"
          ],
          [
           "What Love",
           "The Collectors"
          ],
          [
           "Dont Turn Around",
           "Birmingham Sunday"
          ],
          [
           "Teasin",
           "Peggy March"
          ],
          [
           "Jambalaya On the Bayou",
           "Hank Locklin"
          ],
          [
           "Little Christmas Angel",
           "Hank Thompson"
          ],
          [
           "It Might as Well Be Spring",
           "Lena Horne"
          ],
          [
           "Big Boat Up the River",
           "Harry Belafonte"
          ],
          [
           "Roll On Buddy",
           "Harry Belafonte"
          ],
          [
           "The Hands I Love",
           "Harry Belafonte"
          ],
          [
           "Sleep Late My Lady Friend",
           "Harry Belafonte"
          ],
          [
           "My Heart Went Do Dat Da",
           "Barbara Lewis"
          ],
          [
           "Tail Toddle",
           "Ewan MacColl & Peggy Seeger"
          ],
          [
           "She Moves Through the Fair",
           "Carolyn Hester"
          ],
          [
           "Sweet Charity: If My Friends Could See Me Now",
           "Gwen Verdon"
          ],
          [
           "Im in Love with You",
           "Cliff Richard & The Shadows"
          ],
          [
           "Friends",
           "Cliff Richard & The Shadows"
          ],
          [
           "Nicely Nicely Clive",
           "John Lennon"
          ],
          [
           "Havent We Met?",
           "Mel Torm"
          ],
          [
           "Then Ill Start Believing in You",
           "Hank Thompson"
          ],
          [
           "From the Cradle to the Blues",
           "Margaret Lewis"
          ],
          [
           "Corpus Christi Carol",
           "Benjamin Britten"
          ]
         ],
         "hovertemplate": "title: %{customdata[0]}<br>artist: %{customdata[1]}<br>x: %{x}y: %{y}",
         "marker": {
          "color": [
           "#d62728",
           "#9467bd",
           "#ff7f0e",
           "#9467bd",
           "#8c564b",
           "#1f77b4",
           "#2ca02c",
           "#9467bd",
           "#2ca02c",
           "#9467bd",
           "#d62728",
           "#1f77b4",
           "#1f77b4",
           "#2ca02c",
           "#9467bd",
           "#2ca02c",
           "#1f77b4",
           "#d62728",
           "#2ca02c",
           "#1f77b4",
           "#8c564b",
           "#d62728",
           "#d62728",
           "#ff7f0e",
           "#2ca02c",
           "#2ca02c",
           "#d62728",
           "#9467bd",
           "#1f77b4",
           "#9467bd",
           "#9467bd",
           "#2ca02c",
           "#8c564b",
           "#2ca02c",
           "#8c564b",
           "#8c564b",
           "#1f77b4",
           "#2ca02c",
           "#9467bd",
           "#9467bd",
           "#d62728",
           "#ff7f0e",
           "#9467bd",
           "#8c564b",
           "#8c564b",
           "#1f77b4",
           "#9467bd",
           "#2ca02c",
           "#d62728",
           "#ff7f0e",
           "#9467bd",
           "#8c564b",
           "#ff7f0e",
           "#8c564b",
           "#d62728",
           "#2ca02c",
           "#8c564b",
           "#d62728",
           "#8c564b",
           "#8c564b",
           "#9467bd",
           "#ff7f0e",
           "#d62728",
           "#1f77b4",
           "#d62728",
           "#d62728",
           "#8c564b",
           "#8c564b",
           "#ff7f0e",
           "#1f77b4",
           "#9467bd",
           "#d62728",
           "#2ca02c",
           "#9467bd",
           "#8c564b",
           "#d62728",
           "#8c564b",
           "#d62728",
           "#8c564b",
           "#9467bd",
           "#9467bd",
           "#2ca02c",
           "#8c564b",
           "#2ca02c",
           "#8c564b",
           "#8c564b",
           "#2ca02c",
           "#9467bd",
           "#2ca02c",
           "#8c564b",
           "#d62728",
           "#8c564b",
           "#2ca02c",
           "#8c564b",
           "#1f77b4",
           "#8c564b",
           "#8c564b",
           "#8c564b",
           "#d62728",
           "#1f77b4",
           "#2ca02c",
           "#ff7f0e",
           "#2ca02c",
           "#ff7f0e",
           "#2ca02c",
           "#d62728",
           "#9467bd",
           "#8c564b",
           "#8c564b",
           "#d62728",
           "#9467bd",
           "#1f77b4",
           "#d62728",
           "#9467bd",
           "#9467bd",
           "#8c564b",
           "#8c564b",
           "#1f77b4",
           "#2ca02c",
           "#8c564b",
           "#d62728",
           "#9467bd",
           "#2ca02c",
           "#ff7f0e",
           "#8c564b",
           "#2ca02c",
           "#8c564b",
           "#8c564b",
           "#9467bd",
           "#8c564b",
           "#8c564b",
           "#d62728",
           "#8c564b",
           "#ff7f0e",
           "#8c564b",
           "#ff7f0e",
           "#8c564b",
           "#8c564b",
           "#2ca02c",
           "#ff7f0e",
           "#8c564b",
           "#2ca02c",
           "#8c564b",
           "#d62728",
           "#9467bd",
           "#8c564b",
           "#1f77b4",
           "#d62728",
           "#2ca02c",
           "#8c564b",
           "#ff7f0e",
           "#d62728",
           "#2ca02c",
           "#9467bd",
           "#ff7f0e",
           "#d62728",
           "#8c564b",
           "#ff7f0e",
           "#9467bd",
           "#ff7f0e",
           "#8c564b",
           "#ff7f0e",
           "#2ca02c",
           "#ff7f0e",
           "#1f77b4",
           "#9467bd",
           "#ff7f0e",
           "#8c564b",
           "#d62728",
           "#2ca02c",
           "#9467bd",
           "#1f77b4",
           "#9467bd",
           "#ff7f0e",
           "#d62728",
           "#8c564b",
           "#ff7f0e",
           "#2ca02c",
           "#d62728",
           "#ff7f0e",
           "#ff7f0e",
           "#2ca02c",
           "#1f77b4",
           "#8c564b",
           "#8c564b",
           "#ff7f0e",
           "#ff7f0e",
           "#9467bd",
           "#ff7f0e",
           "#8c564b",
           "#d62728",
           "#ff7f0e",
           "#9467bd",
           "#9467bd",
           "#9467bd",
           "#2ca02c",
           "#d62728",
           "#d62728",
           "#9467bd",
           "#ff7f0e",
           "#8c564b",
           "#9467bd",
           "#ff7f0e",
           "#2ca02c",
           "#8c564b",
           "#ff7f0e",
           "#9467bd",
           "#8c564b",
           "#1f77b4",
           "#8c564b",
           "#2ca02c",
           "#ff7f0e",
           "#1f77b4",
           "#9467bd",
           "#2ca02c",
           "#d62728",
           "#8c564b",
           "#9467bd",
           "#8c564b",
           "#9467bd",
           "#8c564b",
           "#2ca02c",
           "#8c564b",
           "#2ca02c",
           "#9467bd",
           "#ff7f0e",
           "#8c564b",
           "#1f77b4",
           "#d62728",
           "#ff7f0e",
           "#d62728",
           "#ff7f0e",
           "#9467bd",
           "#ff7f0e",
           "#9467bd",
           "#d62728",
           "#1f77b4",
           "#2ca02c",
           "#9467bd",
           "#9467bd",
           "#9467bd",
           "#d62728",
           "#9467bd",
           "#1f77b4",
           "#8c564b",
           "#8c564b",
           "#ff7f0e",
           "#9467bd",
           "#d62728",
           "#9467bd",
           "#d62728",
           "#9467bd",
           "#1f77b4",
           "#8c564b",
           "#2ca02c",
           "#ff7f0e",
           "#1f77b4",
           "#d62728",
           "#2ca02c",
           "#8c564b",
           "#ff7f0e",
           "#d62728",
           "#9467bd",
           "#9467bd",
           "#d62728",
           "#8c564b",
           "#9467bd",
           "#9467bd",
           "#2ca02c",
           "#1f77b4",
           "#ff7f0e",
           "#ff7f0e",
           "#2ca02c",
           "#d62728",
           "#d62728",
           "#8c564b",
           "#8c564b",
           "#8c564b",
           "#8c564b",
           "#2ca02c",
           "#1f77b4",
           "#2ca02c",
           "#ff7f0e",
           "#8c564b",
           "#2ca02c",
           "#9467bd",
           "#9467bd",
           "#9467bd",
           "#1f77b4",
           "#9467bd",
           "#2ca02c",
           "#8c564b",
           "#d62728",
           "#2ca02c",
           "#9467bd",
           "#8c564b",
           "#9467bd",
           "#ff7f0e",
           "#8c564b",
           "#9467bd",
           "#d62728",
           "#ff7f0e",
           "#d62728",
           "#d62728",
           "#8c564b",
           "#2ca02c",
           "#9467bd",
           "#ff7f0e",
           "#1f77b4",
           "#d62728",
           "#1f77b4",
           "#ff7f0e",
           "#2ca02c",
           "#9467bd",
           "#d62728",
           "#d62728",
           "#8c564b",
           "#8c564b",
           "#1f77b4",
           "#1f77b4",
           "#9467bd",
           "#8c564b",
           "#d62728",
           "#d62728",
           "#8c564b",
           "#9467bd",
           "#1f77b4",
           "#8c564b",
           "#9467bd",
           "#d62728",
           "#ff7f0e",
           "#d62728",
           "#9467bd",
           "#8c564b",
           "#8c564b",
           "#d62728",
           "#8c564b",
           "#9467bd",
           "#8c564b",
           "#2ca02c",
           "#ff7f0e",
           "#d62728",
           "#2ca02c",
           "#8c564b",
           "#8c564b",
           "#ff7f0e",
           "#2ca02c",
           "#d62728",
           "#d62728",
           "#d62728",
           "#9467bd",
           "#9467bd",
           "#9467bd",
           "#9467bd",
           "#2ca02c",
           "#d62728",
           "#d62728",
           "#8c564b",
           "#2ca02c",
           "#9467bd",
           "#8c564b",
           "#1f77b4",
           "#8c564b",
           "#2ca02c",
           "#1f77b4",
           "#8c564b",
           "#d62728",
           "#ff7f0e",
           "#8c564b",
           "#2ca02c",
           "#2ca02c",
           "#1f77b4",
           "#ff7f0e",
           "#8c564b",
           "#9467bd",
           "#ff7f0e",
           "#9467bd",
           "#ff7f0e",
           "#9467bd",
           "#8c564b",
           "#9467bd",
           "#8c564b",
           "#ff7f0e",
           "#d62728",
           "#2ca02c",
           "#1f77b4",
           "#8c564b",
           "#2ca02c",
           "#ff7f0e",
           "#2ca02c",
           "#8c564b",
           "#8c564b",
           "#9467bd",
           "#9467bd",
           "#d62728",
           "#ff7f0e",
           "#ff7f0e",
           "#ff7f0e",
           "#8c564b",
           "#ff7f0e",
           "#8c564b",
           "#1f77b4",
           "#8c564b",
           "#8c564b",
           "#ff7f0e",
           "#9467bd",
           "#9467bd",
           "#2ca02c",
           "#8c564b",
           "#8c564b",
           "#8c564b",
           "#2ca02c",
           "#9467bd",
           "#ff7f0e",
           "#1f77b4",
           "#2ca02c",
           "#d62728",
           "#8c564b",
           "#ff7f0e",
           "#ff7f0e",
           "#ff7f0e",
           "#2ca02c",
           "#ff7f0e",
           "#ff7f0e",
           "#2ca02c",
           "#1f77b4",
           "#8c564b",
           "#2ca02c",
           "#9467bd",
           "#d62728",
           "#ff7f0e",
           "#1f77b4",
           "#d62728",
           "#8c564b",
           "#9467bd",
           "#d62728",
           "#2ca02c"
          ]
         },
         "mode": "markers",
         "name": "Tsne 2d: 1960",
         "type": "scatter",
         "x": [
          -14.839249610900879,
          3.3653793334960938,
          2.7254412174224854,
          3.965684652328491,
          -6.299219608306885,
          24.70989990234375,
          -17.26791763305664,
          1.6380518674850464,
          -9.219161033630371,
          1.9002387523651123,
          -15.284891128540039,
          21.07734489440918,
          25.814050674438477,
          -8.242936134338379,
          1.9642192125320435,
          -16.36450958251953,
          25.405344009399414,
          -14.905211448669434,
          -15.324441909790039,
          25.25040054321289,
          -4.158285617828369,
          -13.713637351989746,
          -15.565414428710938,
          0.8389114141464233,
          -15.795929908752441,
          -9.323281288146973,
          -15.535453796386719,
          0.5529009103775024,
          26.11905288696289,
          -0.027413861826062202,
          2.5896055698394775,
          -12.966644287109375,
          1.857869267463684,
          -15.960822105407715,
          1.7806602716445923,
          2.259267807006836,
          25.35126495361328,
          -7.49119758605957,
          4.313994884490967,
          2.256988763809204,
          -15.13732624053955,
          2.0514698028564453,
          6.018834590911865,
          1.936050534248352,
          9.282549858093262,
          23.33958625793457,
          3.8126535415649414,
          -13.137346267700195,
          -15.892439842224121,
          3.4778358936309814,
          3.1263046264648438,
          7.682437419891357,
          5.030498504638672,
          -5.367620944976807,
          -9.907340049743652,
          -16.143264770507812,
          0.44722869992256165,
          -16.06434440612793,
          6.525189399719238,
          9.075359344482422,
          4.730210781097412,
          1.0126500129699707,
          -15.026576042175293,
          23.824697494506836,
          -6.898370265960693,
          -14.67928695678711,
          1.4773367643356323,
          7.945849895477295,
          2.171165943145752,
          24.615468978881836,
          2.5042617321014404,
          -15.623712539672852,
          -13.832832336425781,
          2.60992693901062,
          2.4939568042755127,
          -11.282920837402344,
          9.25890064239502,
          -14.956575393676758,
          2.3114655017852783,
          2.583397150039673,
          7.747278213500977,
          -16.37526512145996,
          2.1073544025421143,
          -15.563090324401855,
          5.523970603942871,
          9.215022087097168,
          -14.82798957824707,
          4.585408687591553,
          -14.90139102935791,
          2.7715070247650146,
          -8.701216697692871,
          5.9781107902526855,
          -16.819368362426758,
          10.003530502319336,
          23.228515625,
          3.3926408290863037,
          9.732154846191406,
          3.8005125522613525,
          -13.909945487976074,
          25.732192993164062,
          -7.9243903160095215,
          0.45371368527412415,
          -8.827194213867188,
          0.4795803427696228,
          -7.708624362945557,
          -8.890472412109375,
          2.610197067260742,
          4.058963775634766,
          -6.446763515472412,
          -12.502395629882812,
          5.255357265472412,
          25.2202091217041,
          -16.004426956176758,
          -1.0386923551559448,
          1.3341147899627686,
          0.7124674916267395,
          7.438731670379639,
          23.627893447875977,
          -12.079809188842773,
          8.1431303024292,
          -10.894701957702637,
          3.1165637969970703,
          -15.195841789245605,
          4.769682884216309,
          9.780183792114258,
          -13.480599403381348,
          -4.958655834197998,
          9.676762580871582,
          6.264530181884766,
          -5.345484256744385,
          -2.72121524810791,
          -12.662351608276367,
          2.4608168601989746,
          1.8375900983810425,
          20.865596771240234,
          5.201604843139648,
          6.362758636474609,
          2.376539707183838,
          -9.380369186401367,
          5.2758684158325195,
          0.30892547965049744,
          -16.28668212890625,
          -3.0502877235412598,
          -14.31042766571045,
          2.1929142475128174,
          -6.351781845092773,
          25.770503997802734,
          -14.76088809967041,
          -15.76197624206543,
          0.6866844296455383,
          1.1656781435012817,
          -15.24374008178711,
          -14.718212127685547,
          1.4726152420043945,
          2.7698168754577637,
          -7.0731048583984375,
          -2.7751762866973877,
          2.9912900924682617,
          3.1470797061920166,
          -0.4174303412437439,
          -3.4468584060668945,
          3.9117438793182373,
          -15.200044631958008,
          1.68747079372406,
          23.082704544067383,
          2.8462822437286377,
          0.7096572518348694,
          3.10611629486084,
          -15.31039810180664,
          -15.973567962646484,
          1.324912667274475,
          20.68491554260254,
          3.148941993713379,
          -12.09910774230957,
          -12.645102500915527,
          3.797030448913574,
          0.6919441223144531,
          -7.970319747924805,
          -6.292145729064941,
          4.125432014465332,
          2.6113736629486084,
          -16.84915542602539,
          26.015161514282227,
          1.6835983991622925,
          8.920331954956055,
          4.7535176277160645,
          0.8791703581809998,
          1.189928650856018,
          3.5688040256500244,
          -3.04042911529541,
          -15.128954887390137,
          1.730555534362793,
          1.2266050577163696,
          -0.3757874369621277,
          4.979620456695557,
          -7.799037933349609,
          -15.656820297241211,
          -16.032333374023438,
          5.799810886383057,
          -0.36202651262283325,
          -5.213287353515625,
          2.2084670066833496,
          3.5214970111846924,
          -16.67293930053711,
          3.7094154357910156,
          5.096530437469482,
          4.698164939880371,
          6.366278648376465,
          25.203903198242188,
          4.557147026062012,
          -15.378768920898438,
          -0.330984503030777,
          25.003328323364258,
          1.1987088918685913,
          -16.8406982421875,
          -14.985036849975586,
          2.642733573913574,
          1.9753501415252686,
          5.630800724029541,
          3.086137533187866,
          5.105368137359619,
          -16.016334533691406,
          2.3008155822753906,
          -9.151409149169922,
          2.764341115951538,
          2.224588632583618,
          -2.5657851696014404,
          21.449026107788086,
          -15.850744247436523,
          2.0189309120178223,
          -15.462279319763184,
          1.1775583028793335,
          1.6721787452697754,
          2.1761415004730225,
          3.878645658493042,
          -14.772173881530762,
          24.584218978881836,
          -12.06008243560791,
          1.5390174388885498,
          2.6178483963012695,
          2.7422282695770264,
          -6.751612186431885,
          3.0995399951934814,
          22.24937629699707,
          -5.148028373718262,
          6.509178161621094,
          5.275411605834961,
          6.9098944664001465,
          -15.656641960144043,
          5.863216876983643,
          -12.409638404846191,
          4.266707420349121,
          25.019670486450195,
          5.681982040405273,
          -13.015677452087402,
          0.2910664975643158,
          26.052743911743164,
          -14.71522045135498,
          -7.280803680419922,
          8.819680213928223,
          1.4012091159820557,
          -7.5159196853637695,
          1.775675654411316,
          2.574097156524658,
          -14.003485679626465,
          6.915839672088623,
          -0.25765007734298706,
          7.320898532867432,
          -9.770118713378906,
          21.22906494140625,
          0.4803589880466461,
          0.8693634867668152,
          -17.2304744720459,
          -16.012451171875,
          -6.817630290985107,
          -6.13737154006958,
          5.033638000488281,
          -4.9459309577941895,
          -3.8488729000091553,
          -16.100873947143555,
          26.025236129760742,
          -14.784953117370605,
          1.651152491569519,
          20.828754425048828,
          -8.905060768127441,
          -7.713839530944824,
          -0.21282313764095306,
          5.633339881896973,
          22.797300338745117,
          0.6192110776901245,
          -8.363751411437988,
          2.790541648864746,
          -9.96461296081543,
          -16.67638397216797,
          2.1834867000579834,
          -5.219066619873047,
          0.2119835615158081,
          1.674410343170166,
          5.95612096786499,
          3.959684133529663,
          -7.425848960876465,
          2.022845983505249,
          -15.036752700805664,
          -6.949186325073242,
          2.325185537338257,
          -13.039385795593262,
          2.8744168281555176,
          4.870107650756836,
          25.706684112548828,
          -15.357399940490723,
          21.429670333862305,
          3.56811261177063,
          -15.631475448608398,
          7.621273994445801,
          -15.361051559448242,
          -15.94966983795166,
          1.4946364164352417,
          5.404385089874268,
          25.491613388061523,
          22.094722747802734,
          0.5686963796615601,
          7.372702598571777,
          -15.777345657348633,
          -12.428937911987305,
          8.359841346740723,
          4.415452003479004,
          26.017541885375977,
          -5.398226737976074,
          6.024646282196045,
          -15.361690521240234,
          0.8805769681930542,
          -15.803579330444336,
          5.582998752593994,
          -5.461698532104492,
          1.4476211071014404,
          -10.846945762634277,
          2.4630484580993652,
          7.402999401092529,
          8.652911186218262,
          -17.515731811523438,
          3.9354894161224365,
          -16.011932373046875,
          -8.30870532989502,
          5.516654014587402,
          2.3100810050964355,
          -0.18242858350276947,
          -15.202057838439941,
          -14.828561782836914,
          -12.437663078308105,
          -14.772180557250977,
          7.852555751800537,
          6.883591175079346,
          1.3768887519836426,
          0.27781563997268677,
          -7.687369346618652,
          -15.588617324829102,
          -15.954635620117188,
          -3.1354780197143555,
          -7.968458652496338,
          6.693295001983643,
          3.715893507003784,
          22.688037872314453,
          2.646160840988159,
          -16.184463500976562,
          23.37030029296875,
          1.7789626121520996,
          -16.00446319580078,
          5.307419776916504,
          7.87984561920166,
          -16.65959930419922,
          -17.07421112060547,
          21.75517463684082,
          0.4467386305332184,
          -5.327381610870361,
          5.908738136291504,
          5.223526954650879,
          4.571054935455322,
          1.586663007736206,
          7.379673957824707,
          4.991454601287842,
          3.085855007171631,
          6.519473075866699,
          -1.0733188390731812,
          -14.35801887512207,
          -15.324773788452148,
          25.292022705078125,
          2.387864828109741,
          -12.062743186950684,
          3.594327926635742,
          -7.7180867195129395,
          1.34761381149292,
          6.081748962402344,
          1.4812127351760864,
          3.0722873210906982,
          -16.009164810180664,
          1.3140619993209839,
          4.574212551116943,
          4.988779544830322,
          3.0763370990753174,
          3.180302143096924,
          7.709613800048828,
          23.032320022583008,
          9.616557121276855,
          9.331745147705078,
          1.584616780281067,
          3.074453353881836,
          7.203746318817139,
          -13.235897064208984,
          8.365762710571289,
          5.390434265136719,
          -1.5377826690673828,
          -17.278053283691406,
          6.511643886566162,
          2.9909355640411377,
          25.283292770385742,
          -13.150689125061035,
          -14.333415985107422,
          0.777056872844696,
          1.6372222900390625,
          0.31619444489479065,
          1.6764744520187378,
          -14.711627960205078,
          -0.6877767443656921,
          -0.07254378497600555,
          -11.229966163635254,
          25.454851150512695,
          2.486839771270752,
          -14.078970909118652,
          4.280856132507324,
          -14.318806648254395,
          4.698068618774414,
          23.154903411865234,
          -13.837313652038574,
          6.7584757804870605,
          6.771178245544434,
          -10.297123908996582,
          -15.55111026763916
         ],
         "y": [
          -10.911643028259277,
          22.593679428100586,
          -20.423980712890625,
          22.334762573242188,
          5.064231872558594,
          -10.491781234741211,
          9.938549995422363,
          22.33089828491211,
          7.026139736175537,
          22.010963439941406,
          -5.648694038391113,
          -9.043233871459961,
          -10.92831802368164,
          9.33297061920166,
          19.887758255004883,
          11.0712308883667,
          -9.660746574401855,
          -10.673859596252441,
          11.578679084777832,
          -9.720281600952148,
          -1.6631639003753662,
          -6.159992218017578,
          -5.745479106903076,
          -20.356393814086914,
          10.655142784118652,
          7.109482765197754,
          -7.809565544128418,
          18.09653091430664,
          -10.324277877807617,
          15.906301498413086,
          12.5528564453125,
          10.077966690063477,
          10.93241024017334,
          11.438727378845215,
          -0.8732584118843079,
          9.073471069335938,
          -10.980131149291992,
          7.110024929046631,
          23.057212829589844,
          19.505647659301758,
          -8.345619201660156,
          -16.13055992126465,
          23.077199935913086,
          10.868911743164062,
          2.1534411907196045,
          -9.666585922241211,
          22.786340713500977,
          8.62253475189209,
          -8.90415096282959,
          -20.212677001953125,
          16.243682861328125,
          0.8536356687545776,
          -19.50315284729004,
          4.298377513885498,
          -5.142159461975098,
          11.160364151000977,
          0.01289398968219757,
          -6.802846431732178,
          0.22806401550769806,
          2.0473642349243164,
          23.015239715576172,
          -19.81785774230957,
          -8.540867805480957,
          -10.972779273986816,
          -3.6007707118988037,
          -9.656007766723633,
          -9.847979545593262,
          0.9292435050010681,
          -19.89518928527832,
          -11.245898246765137,
          11.607206344604492,
          -9.577738761901855,
          12.65881633758545,
          12.992731094360352,
          10.673171043395996,
          -5.922093868255615,
          1.2985105514526367,
          -5.59889554977417,
          8.54665756225586,
          12.543994903564453,
          22.735322952270508,
          9.894940376281738,
          -1.2607603073120117,
          12.221026420593262,
          -0.1920182704925537,
          1.3060035705566406,
          12.491912841796875,
          22.480831146240234,
          11.687736511230469,
          -1.2215244770050049,
          -4.464143753051758,
          0.4058581292629242,
          10.66445255279541,
          2.0342657566070557,
          -9.640472412109375,
          -1.446481466293335,
          1.5459970235824585,
          -1.1480214595794678,
          -11.550168991088867,
          -9.752385139465332,
          8.72116756439209,
          -14.08301067352295,
          6.441249370574951,
          -19.837087631225586,
          6.12778377532959,
          -4.504766941070557,
          12.984098434448242,
          -0.7815240621566772,
          5.187558650970459,
          -3.2718605995178223,
          22.46131706237793,
          -9.74870491027832,
          -8.33861255645752,
          15.537464141845703,
          20.73583221435547,
          -10.214090347290039,
          1.2098973989486694,
          -9.745540618896484,
          7.495206832885742,
          0.9615374803543091,
          -5.75115966796875,
          16.21782875061035,
          12.456156730651855,
          -19.853960037231445,
          1.673772931098938,
          12.414217948913574,
          -2.302302122116089,
          2.1347196102142334,
          22.426597595214844,
          -3.2589328289031982,
          -0.6917390823364258,
          -3.665386438369751,
          11.030111312866211,
          -20.47785758972168,
          -8.888252258300781,
          -19.356380462646484,
          0.9113595485687256,
          9.980100631713867,
          7.156590461730957,
          -18.7637996673584,
          -0.30112600326538086,
          9.984745025634766,
          3.190899610519409,
          -10.852188110351562,
          22.511436462402344,
          5.108730316162109,
          -10.960197448730469,
          -9.166770935058594,
          10.699130058288574,
          0.31527602672576904,
          -19.83928680419922,
          -9.100772857666016,
          12.63936710357666,
          22.048677444458008,
          -19.830272674560547,
          -3.705195426940918,
          -0.7159152030944824,
          -19.88948631286621,
          18.49605941772461,
          -20.713407516479492,
          -1.1234265565872192,
          -19.99229621887207,
          12.445771217346191,
          -20.52215003967285,
          -10.495172500610352,
          22.519275665283203,
          -14.552541732788086,
          -1.2255120277404785,
          -8.11435317993164,
          11.746394157409668,
          20.755441665649414,
          -9.643553733825684,
          18.484495162963867,
          7.197324752807617,
          -3.6216678619384766,
          -1.1525429487228394,
          -14.63843822479248,
          6.261688709259033,
          -3.20694637298584,
          -19.990684509277344,
          -20.43916130065918,
          9.362884521484375,
          -10.650374412536621,
          10.749727249145508,
          1.1977317333221436,
          -19.859195709228516,
          -20.7587890625,
          21.113468170166016,
          -19.998933792114258,
          -0.8586761951446533,
          -9.662517547607422,
          -19.847240447998047,
          20.96859359741211,
          16.040014266967773,
          22.968772888183594,
          8.17183780670166,
          -9.484428405761719,
          -6.554354667663574,
          22.447511672973633,
          -20.747154235839844,
          -2.4717965126037598,
          12.429165840148926,
          -16.691547393798828,
          10.699681282043457,
          -0.9562589526176453,
          -19.593027114868164,
          22.287893295288086,
          0.9114398956298828,
          -10.509321212768555,
          -0.3981850743293762,
          11.142486572265625,
          -19.97760009765625,
          -10.044573783874512,
          21.24452018737793,
          10.618882179260254,
          -8.663047790527344,
          -1.5263855457305908,
          22.465333938598633,
          0.6713339686393738,
          15.885712623596191,
          0.3527870178222656,
          11.560945510864258,
          -1.3999147415161133,
          6.973608493804932,
          14.033982276916504,
          -20.498937606811523,
          -0.6145915389060974,
          -10.08335018157959,
          -5.935857772827148,
          -16.053220748901367,
          -9.776861190795898,
          -20.58798599243164,
          22.07009506225586,
          -19.895248413085938,
          22.919992446899414,
          -9.191350936889648,
          -10.5615234375,
          7.355982780456543,
          12.01688003540039,
          13.169092178344727,
          13.901105880737305,
          -4.081838130950928,
          15.996718406677246,
          -10.488371849060059,
          3.6831884384155273,
          0.21176481246948242,
          -18.66433334350586,
          22.385570526123047,
          -5.7889323234558105,
          22.421977996826172,
          -3.018563985824585,
          23.04727554321289,
          -10.175415992736816,
          -0.19412861764431,
          10.125168800354004,
          -20.73492431640625,
          -10.550836563110352,
          -9.953287124633789,
          5.849727153778076,
          1.9005203247070312,
          -12.94471263885498,
          -3.9298338890075684,
          22.43109130859375,
          12.193706512451172,
          -11.492812156677246,
          0.5972613096237183,
          15.103963851928711,
          22.345081329345703,
          6.416902542114258,
          -10.562803268432617,
          -19.83708953857422,
          -19.781721115112305,
          9.442930221557617,
          -7.032475471496582,
          -3.552387237548828,
          4.928761959075928,
          -0.12650683522224426,
          3.375804901123047,
          -1.413467288017273,
          10.281527519226074,
          -10.0359468460083,
          11.847590446472168,
          -12.643942832946777,
          -8.854538917541504,
          6.801104545593262,
          9.636384010314941,
          16.26815414428711,
          23.042953491210938,
          -10.614992141723633,
          18.238319396972656,
          6.473493576049805,
          -1.5786359310150146,
          -5.190107345581055,
          9.490663528442383,
          22.24952507019043,
          4.233578681945801,
          17.309507369995117,
          -12.734665870666504,
          -0.07884593307971954,
          22.33725929260254,
          -3.887026071548462,
          -16.0748348236084,
          -10.613675117492676,
          -3.6279828548431396,
          8.777271270751953,
          11.624863624572754,
          14.72542953491211,
          -17.971973419189453,
          -9.734004974365234,
          -9.92686939239502,
          -9.220343589782715,
          -15.123515129089355,
          11.92805004119873,
          22.445823669433594,
          -5.677143573760986,
          -7.805438995361328,
          -11.688785552978516,
          0.5267379283905029,
          -10.439112663269043,
          -9.43189525604248,
          18.13201332092285,
          0.8593738675117493,
          -9.040765762329102,
          -7.57951545715332,
          1.5976446866989136,
          22.25605583190918,
          -10.025731086730957,
          4.3404083251953125,
          23.077112197875977,
          -7.905613899230957,
          -20.748788833618164,
          -9.026049613952637,
          23.023653030395508,
          -1.6440343856811523,
          -11.080190658569336,
          -5.727711200714111,
          10.543535232543945,
          22.820396423339844,
          1.6831893920898438,
          9.200270652770996,
          -17.1954402923584,
          -6.3220534324646,
          9.26919174194336,
          -0.19041652977466583,
          8.514958381652832,
          -19.914016723632812,
          11.294788360595703,
          -10.914358139038086,
          -7.578371524810791,
          -9.191306114196777,
          23.039737701416016,
          22.393375396728516,
          20.660104751586914,
          17.469478607177734,
          6.105225086212158,
          -8.607155799865723,
          -7.8025078773498535,
          3.230164051055908,
          9.415060043334961,
          23.13030433654785,
          -0.9570437669754028,
          -9.543415069580078,
          -1.52702796459198,
          10.516843795776367,
          -9.672577857971191,
          -0.8673745393753052,
          -8.316408157348633,
          -19.060205459594727,
          1.3816522359848022,
          10.039913177490234,
          10.308503150939941,
          -9.329866409301758,
          -20.192636489868164,
          -2.5376405715942383,
          22.409929275512695,
          -18.369722366333008,
          22.277057647705078,
          -12.341001510620117,
          23.210237503051758,
          0.13394953310489655,
          15.91092300415039,
          0.2243826985359192,
          -20.49562644958496,
          -10.462610244750977,
          11.18924331665039,
          -10.95505428314209,
          10.243169784545898,
          7.464399814605713,
          -16.844453811645508,
          6.1223320960998535,
          -10.126884460449219,
          0.8495932817459106,
          22.07123565673828,
          16.029132843017578,
          -6.306674003601074,
          -20.464990615844727,
          -15.75110149383545,
          -19.70954132080078,
          -1.5749115943908691,
          -20.37122917175293,
          1.357109785079956,
          -9.607108116149902,
          1.435123324394226,
          2.136359453201294,
          -12.347784996032715,
          22.589996337890625,
          23.19371223449707,
          12.009628295898438,
          1.1445063352584839,
          0.5143804550170898,
          -0.03083818405866623,
          9.930197715759277,
          22.71929168701172,
          -19.888179779052734,
          -10.945521354675293,
          8.63696575164795,
          -11.494879722595215,
          0.30744269490242004,
          -19.852876663208008,
          -20.728145599365234,
          -12.741811752319336,
          12.062005043029785,
          -20.193317413330078,
          -20.329015731811523,
          7.127581596374512,
          -10.298986434936523,
          10.580318450927734,
          12.721945762634277,
          23.050540924072266,
          -10.47213363647461,
          -19.517135620117188,
          -10.23894214630127,
          -6.098537445068359,
          0.9223297834396362,
          23.13871192932129,
          -5.410305500030518,
          12.187886238098145
         ]
        }
       ],
       "layout": {
        "autosize": false,
        "height": 700,
        "template": {
         "data": {
          "bar": [
           {
            "error_x": {
             "color": "#2a3f5f"
            },
            "error_y": {
             "color": "#2a3f5f"
            },
            "marker": {
             "line": {
              "color": "#E5ECF6",
              "width": 0.5
             },
             "pattern": {
              "fillmode": "overlay",
              "size": 10,
              "solidity": 0.2
             }
            },
            "type": "bar"
           }
          ],
          "barpolar": [
           {
            "marker": {
             "line": {
              "color": "#E5ECF6",
              "width": 0.5
             },
             "pattern": {
              "fillmode": "overlay",
              "size": 10,
              "solidity": 0.2
             }
            },
            "type": "barpolar"
           }
          ],
          "carpet": [
           {
            "aaxis": {
             "endlinecolor": "#2a3f5f",
             "gridcolor": "white",
             "linecolor": "white",
             "minorgridcolor": "white",
             "startlinecolor": "#2a3f5f"
            },
            "baxis": {
             "endlinecolor": "#2a3f5f",
             "gridcolor": "white",
             "linecolor": "white",
             "minorgridcolor": "white",
             "startlinecolor": "#2a3f5f"
            },
            "type": "carpet"
           }
          ],
          "choropleth": [
           {
            "colorbar": {
             "outlinewidth": 0,
             "ticks": ""
            },
            "type": "choropleth"
           }
          ],
          "contour": [
           {
            "colorbar": {
             "outlinewidth": 0,
             "ticks": ""
            },
            "colorscale": [
             [
              0,
              "#0d0887"
             ],
             [
              0.1111111111111111,
              "#46039f"
             ],
             [
              0.2222222222222222,
              "#7201a8"
             ],
             [
              0.3333333333333333,
              "#9c179e"
             ],
             [
              0.4444444444444444,
              "#bd3786"
             ],
             [
              0.5555555555555556,
              "#d8576b"
             ],
             [
              0.6666666666666666,
              "#ed7953"
             ],
             [
              0.7777777777777778,
              "#fb9f3a"
             ],
             [
              0.8888888888888888,
              "#fdca26"
             ],
             [
              1,
              "#f0f921"
             ]
            ],
            "type": "contour"
           }
          ],
          "contourcarpet": [
           {
            "colorbar": {
             "outlinewidth": 0,
             "ticks": ""
            },
            "type": "contourcarpet"
           }
          ],
          "heatmap": [
           {
            "colorbar": {
             "outlinewidth": 0,
             "ticks": ""
            },
            "colorscale": [
             [
              0,
              "#0d0887"
             ],
             [
              0.1111111111111111,
              "#46039f"
             ],
             [
              0.2222222222222222,
              "#7201a8"
             ],
             [
              0.3333333333333333,
              "#9c179e"
             ],
             [
              0.4444444444444444,
              "#bd3786"
             ],
             [
              0.5555555555555556,
              "#d8576b"
             ],
             [
              0.6666666666666666,
              "#ed7953"
             ],
             [
              0.7777777777777778,
              "#fb9f3a"
             ],
             [
              0.8888888888888888,
              "#fdca26"
             ],
             [
              1,
              "#f0f921"
             ]
            ],
            "type": "heatmap"
           }
          ],
          "heatmapgl": [
           {
            "colorbar": {
             "outlinewidth": 0,
             "ticks": ""
            },
            "colorscale": [
             [
              0,
              "#0d0887"
             ],
             [
              0.1111111111111111,
              "#46039f"
             ],
             [
              0.2222222222222222,
              "#7201a8"
             ],
             [
              0.3333333333333333,
              "#9c179e"
             ],
             [
              0.4444444444444444,
              "#bd3786"
             ],
             [
              0.5555555555555556,
              "#d8576b"
             ],
             [
              0.6666666666666666,
              "#ed7953"
             ],
             [
              0.7777777777777778,
              "#fb9f3a"
             ],
             [
              0.8888888888888888,
              "#fdca26"
             ],
             [
              1,
              "#f0f921"
             ]
            ],
            "type": "heatmapgl"
           }
          ],
          "histogram": [
           {
            "marker": {
             "pattern": {
              "fillmode": "overlay",
              "size": 10,
              "solidity": 0.2
             }
            },
            "type": "histogram"
           }
          ],
          "histogram2d": [
           {
            "colorbar": {
             "outlinewidth": 0,
             "ticks": ""
            },
            "colorscale": [
             [
              0,
              "#0d0887"
             ],
             [
              0.1111111111111111,
              "#46039f"
             ],
             [
              0.2222222222222222,
              "#7201a8"
             ],
             [
              0.3333333333333333,
              "#9c179e"
             ],
             [
              0.4444444444444444,
              "#bd3786"
             ],
             [
              0.5555555555555556,
              "#d8576b"
             ],
             [
              0.6666666666666666,
              "#ed7953"
             ],
             [
              0.7777777777777778,
              "#fb9f3a"
             ],
             [
              0.8888888888888888,
              "#fdca26"
             ],
             [
              1,
              "#f0f921"
             ]
            ],
            "type": "histogram2d"
           }
          ],
          "histogram2dcontour": [
           {
            "colorbar": {
             "outlinewidth": 0,
             "ticks": ""
            },
            "colorscale": [
             [
              0,
              "#0d0887"
             ],
             [
              0.1111111111111111,
              "#46039f"
             ],
             [
              0.2222222222222222,
              "#7201a8"
             ],
             [
              0.3333333333333333,
              "#9c179e"
             ],
             [
              0.4444444444444444,
              "#bd3786"
             ],
             [
              0.5555555555555556,
              "#d8576b"
             ],
             [
              0.6666666666666666,
              "#ed7953"
             ],
             [
              0.7777777777777778,
              "#fb9f3a"
             ],
             [
              0.8888888888888888,
              "#fdca26"
             ],
             [
              1,
              "#f0f921"
             ]
            ],
            "type": "histogram2dcontour"
           }
          ],
          "mesh3d": [
           {
            "colorbar": {
             "outlinewidth": 0,
             "ticks": ""
            },
            "type": "mesh3d"
           }
          ],
          "parcoords": [
           {
            "line": {
             "colorbar": {
              "outlinewidth": 0,
              "ticks": ""
             }
            },
            "type": "parcoords"
           }
          ],
          "pie": [
           {
            "automargin": true,
            "type": "pie"
           }
          ],
          "scatter": [
           {
            "fillpattern": {
             "fillmode": "overlay",
             "size": 10,
             "solidity": 0.2
            },
            "type": "scatter"
           }
          ],
          "scatter3d": [
           {
            "line": {
             "colorbar": {
              "outlinewidth": 0,
              "ticks": ""
             }
            },
            "marker": {
             "colorbar": {
              "outlinewidth": 0,
              "ticks": ""
             }
            },
            "type": "scatter3d"
           }
          ],
          "scattercarpet": [
           {
            "marker": {
             "colorbar": {
              "outlinewidth": 0,
              "ticks": ""
             }
            },
            "type": "scattercarpet"
           }
          ],
          "scattergeo": [
           {
            "marker": {
             "colorbar": {
              "outlinewidth": 0,
              "ticks": ""
             }
            },
            "type": "scattergeo"
           }
          ],
          "scattergl": [
           {
            "marker": {
             "colorbar": {
              "outlinewidth": 0,
              "ticks": ""
             }
            },
            "type": "scattergl"
           }
          ],
          "scattermapbox": [
           {
            "marker": {
             "colorbar": {
              "outlinewidth": 0,
              "ticks": ""
             }
            },
            "type": "scattermapbox"
           }
          ],
          "scatterpolar": [
           {
            "marker": {
             "colorbar": {
              "outlinewidth": 0,
              "ticks": ""
             }
            },
            "type": "scatterpolar"
           }
          ],
          "scatterpolargl": [
           {
            "marker": {
             "colorbar": {
              "outlinewidth": 0,
              "ticks": ""
             }
            },
            "type": "scatterpolargl"
           }
          ],
          "scatterternary": [
           {
            "marker": {
             "colorbar": {
              "outlinewidth": 0,
              "ticks": ""
             }
            },
            "type": "scatterternary"
           }
          ],
          "surface": [
           {
            "colorbar": {
             "outlinewidth": 0,
             "ticks": ""
            },
            "colorscale": [
             [
              0,
              "#0d0887"
             ],
             [
              0.1111111111111111,
              "#46039f"
             ],
             [
              0.2222222222222222,
              "#7201a8"
             ],
             [
              0.3333333333333333,
              "#9c179e"
             ],
             [
              0.4444444444444444,
              "#bd3786"
             ],
             [
              0.5555555555555556,
              "#d8576b"
             ],
             [
              0.6666666666666666,
              "#ed7953"
             ],
             [
              0.7777777777777778,
              "#fb9f3a"
             ],
             [
              0.8888888888888888,
              "#fdca26"
             ],
             [
              1,
              "#f0f921"
             ]
            ],
            "type": "surface"
           }
          ],
          "table": [
           {
            "cells": {
             "fill": {
              "color": "#EBF0F8"
             },
             "line": {
              "color": "white"
             }
            },
            "header": {
             "fill": {
              "color": "#C8D4E3"
             },
             "line": {
              "color": "white"
             }
            },
            "type": "table"
           }
          ]
         },
         "layout": {
          "annotationdefaults": {
           "arrowcolor": "#2a3f5f",
           "arrowhead": 0,
           "arrowwidth": 1
          },
          "autotypenumbers": "strict",
          "coloraxis": {
           "colorbar": {
            "outlinewidth": 0,
            "ticks": ""
           }
          },
          "colorscale": {
           "diverging": [
            [
             0,
             "#8e0152"
            ],
            [
             0.1,
             "#c51b7d"
            ],
            [
             0.2,
             "#de77ae"
            ],
            [
             0.3,
             "#f1b6da"
            ],
            [
             0.4,
             "#fde0ef"
            ],
            [
             0.5,
             "#f7f7f7"
            ],
            [
             0.6,
             "#e6f5d0"
            ],
            [
             0.7,
             "#b8e186"
            ],
            [
             0.8,
             "#7fbc41"
            ],
            [
             0.9,
             "#4d9221"
            ],
            [
             1,
             "#276419"
            ]
           ],
           "sequential": [
            [
             0,
             "#0d0887"
            ],
            [
             0.1111111111111111,
             "#46039f"
            ],
            [
             0.2222222222222222,
             "#7201a8"
            ],
            [
             0.3333333333333333,
             "#9c179e"
            ],
            [
             0.4444444444444444,
             "#bd3786"
            ],
            [
             0.5555555555555556,
             "#d8576b"
            ],
            [
             0.6666666666666666,
             "#ed7953"
            ],
            [
             0.7777777777777778,
             "#fb9f3a"
            ],
            [
             0.8888888888888888,
             "#fdca26"
            ],
            [
             1,
             "#f0f921"
            ]
           ],
           "sequentialminus": [
            [
             0,
             "#0d0887"
            ],
            [
             0.1111111111111111,
             "#46039f"
            ],
            [
             0.2222222222222222,
             "#7201a8"
            ],
            [
             0.3333333333333333,
             "#9c179e"
            ],
            [
             0.4444444444444444,
             "#bd3786"
            ],
            [
             0.5555555555555556,
             "#d8576b"
            ],
            [
             0.6666666666666666,
             "#ed7953"
            ],
            [
             0.7777777777777778,
             "#fb9f3a"
            ],
            [
             0.8888888888888888,
             "#fdca26"
            ],
            [
             1,
             "#f0f921"
            ]
           ]
          },
          "colorway": [
           "#636efa",
           "#EF553B",
           "#00cc96",
           "#ab63fa",
           "#FFA15A",
           "#19d3f3",
           "#FF6692",
           "#B6E880",
           "#FF97FF",
           "#FECB52"
          ],
          "font": {
           "color": "#2a3f5f"
          },
          "geo": {
           "bgcolor": "white",
           "lakecolor": "white",
           "landcolor": "#E5ECF6",
           "showlakes": true,
           "showland": true,
           "subunitcolor": "white"
          },
          "hoverlabel": {
           "align": "left"
          },
          "hovermode": "closest",
          "mapbox": {
           "style": "light"
          },
          "paper_bgcolor": "white",
          "plot_bgcolor": "#E5ECF6",
          "polar": {
           "angularaxis": {
            "gridcolor": "white",
            "linecolor": "white",
            "ticks": ""
           },
           "bgcolor": "#E5ECF6",
           "radialaxis": {
            "gridcolor": "white",
            "linecolor": "white",
            "ticks": ""
           }
          },
          "scene": {
           "xaxis": {
            "backgroundcolor": "#E5ECF6",
            "gridcolor": "white",
            "gridwidth": 2,
            "linecolor": "white",
            "showbackground": true,
            "ticks": "",
            "zerolinecolor": "white"
           },
           "yaxis": {
            "backgroundcolor": "#E5ECF6",
            "gridcolor": "white",
            "gridwidth": 2,
            "linecolor": "white",
            "showbackground": true,
            "ticks": "",
            "zerolinecolor": "white"
           },
           "zaxis": {
            "backgroundcolor": "#E5ECF6",
            "gridcolor": "white",
            "gridwidth": 2,
            "linecolor": "white",
            "showbackground": true,
            "ticks": "",
            "zerolinecolor": "white"
           }
          },
          "shapedefaults": {
           "line": {
            "color": "#2a3f5f"
           }
          },
          "ternary": {
           "aaxis": {
            "gridcolor": "white",
            "linecolor": "white",
            "ticks": ""
           },
           "baxis": {
            "gridcolor": "white",
            "linecolor": "white",
            "ticks": ""
           },
           "bgcolor": "#E5ECF6",
           "caxis": {
            "gridcolor": "white",
            "linecolor": "white",
            "ticks": ""
           }
          },
          "title": {
           "x": 0.05
          },
          "xaxis": {
           "automargin": true,
           "gridcolor": "white",
           "linecolor": "white",
           "ticks": "",
           "title": {
            "standoff": 15
           },
           "zerolinecolor": "white",
           "zerolinewidth": 2
          },
          "yaxis": {
           "automargin": true,
           "gridcolor": "white",
           "linecolor": "white",
           "ticks": "",
           "title": {
            "standoff": 15
           },
           "zerolinecolor": "white",
           "zerolinewidth": 2
          }
         }
        },
        "title": {
         "text": "t-SNE 2d Clustering of 6 LDA Topics (1960)"
        },
        "width": 900,
        "xaxis": {
         "title": {
          "text": "x"
         }
        },
        "yaxis": {
         "title": {
          "text": "y"
         }
        }
       }
      }
     },
     "metadata": {},
     "output_type": "display_data"
    }
   ],
   "source": [
    "ngram_model.plot_tsne(2)"
   ]
  },
  {
   "cell_type": "code",
   "execution_count": 13,
   "metadata": {},
   "outputs": [
    {
     "data": {
      "application/vnd.plotly.v1+json": {
       "config": {
        "plotlyServerURL": "https://plot.ly"
       },
       "data": [
        {
         "mode": "lines+markers",
         "name": "asymmetric",
         "type": "scatter",
         "x": [
          5,
          6
         ],
         "y": [
          0.3098231054514443,
          0.34043332970246487
         ]
        },
        {
         "mode": "lines+markers",
         "name": "symmetric",
         "type": "scatter",
         "x": [
          5,
          6
         ],
         "y": [
          0.3186105848903794,
          0.3551755314934863
         ]
        }
       ],
       "layout": {
        "template": {
         "data": {
          "bar": [
           {
            "error_x": {
             "color": "#2a3f5f"
            },
            "error_y": {
             "color": "#2a3f5f"
            },
            "marker": {
             "line": {
              "color": "#E5ECF6",
              "width": 0.5
             },
             "pattern": {
              "fillmode": "overlay",
              "size": 10,
              "solidity": 0.2
             }
            },
            "type": "bar"
           }
          ],
          "barpolar": [
           {
            "marker": {
             "line": {
              "color": "#E5ECF6",
              "width": 0.5
             },
             "pattern": {
              "fillmode": "overlay",
              "size": 10,
              "solidity": 0.2
             }
            },
            "type": "barpolar"
           }
          ],
          "carpet": [
           {
            "aaxis": {
             "endlinecolor": "#2a3f5f",
             "gridcolor": "white",
             "linecolor": "white",
             "minorgridcolor": "white",
             "startlinecolor": "#2a3f5f"
            },
            "baxis": {
             "endlinecolor": "#2a3f5f",
             "gridcolor": "white",
             "linecolor": "white",
             "minorgridcolor": "white",
             "startlinecolor": "#2a3f5f"
            },
            "type": "carpet"
           }
          ],
          "choropleth": [
           {
            "colorbar": {
             "outlinewidth": 0,
             "ticks": ""
            },
            "type": "choropleth"
           }
          ],
          "contour": [
           {
            "colorbar": {
             "outlinewidth": 0,
             "ticks": ""
            },
            "colorscale": [
             [
              0,
              "#0d0887"
             ],
             [
              0.1111111111111111,
              "#46039f"
             ],
             [
              0.2222222222222222,
              "#7201a8"
             ],
             [
              0.3333333333333333,
              "#9c179e"
             ],
             [
              0.4444444444444444,
              "#bd3786"
             ],
             [
              0.5555555555555556,
              "#d8576b"
             ],
             [
              0.6666666666666666,
              "#ed7953"
             ],
             [
              0.7777777777777778,
              "#fb9f3a"
             ],
             [
              0.8888888888888888,
              "#fdca26"
             ],
             [
              1,
              "#f0f921"
             ]
            ],
            "type": "contour"
           }
          ],
          "contourcarpet": [
           {
            "colorbar": {
             "outlinewidth": 0,
             "ticks": ""
            },
            "type": "contourcarpet"
           }
          ],
          "heatmap": [
           {
            "colorbar": {
             "outlinewidth": 0,
             "ticks": ""
            },
            "colorscale": [
             [
              0,
              "#0d0887"
             ],
             [
              0.1111111111111111,
              "#46039f"
             ],
             [
              0.2222222222222222,
              "#7201a8"
             ],
             [
              0.3333333333333333,
              "#9c179e"
             ],
             [
              0.4444444444444444,
              "#bd3786"
             ],
             [
              0.5555555555555556,
              "#d8576b"
             ],
             [
              0.6666666666666666,
              "#ed7953"
             ],
             [
              0.7777777777777778,
              "#fb9f3a"
             ],
             [
              0.8888888888888888,
              "#fdca26"
             ],
             [
              1,
              "#f0f921"
             ]
            ],
            "type": "heatmap"
           }
          ],
          "heatmapgl": [
           {
            "colorbar": {
             "outlinewidth": 0,
             "ticks": ""
            },
            "colorscale": [
             [
              0,
              "#0d0887"
             ],
             [
              0.1111111111111111,
              "#46039f"
             ],
             [
              0.2222222222222222,
              "#7201a8"
             ],
             [
              0.3333333333333333,
              "#9c179e"
             ],
             [
              0.4444444444444444,
              "#bd3786"
             ],
             [
              0.5555555555555556,
              "#d8576b"
             ],
             [
              0.6666666666666666,
              "#ed7953"
             ],
             [
              0.7777777777777778,
              "#fb9f3a"
             ],
             [
              0.8888888888888888,
              "#fdca26"
             ],
             [
              1,
              "#f0f921"
             ]
            ],
            "type": "heatmapgl"
           }
          ],
          "histogram": [
           {
            "marker": {
             "pattern": {
              "fillmode": "overlay",
              "size": 10,
              "solidity": 0.2
             }
            },
            "type": "histogram"
           }
          ],
          "histogram2d": [
           {
            "colorbar": {
             "outlinewidth": 0,
             "ticks": ""
            },
            "colorscale": [
             [
              0,
              "#0d0887"
             ],
             [
              0.1111111111111111,
              "#46039f"
             ],
             [
              0.2222222222222222,
              "#7201a8"
             ],
             [
              0.3333333333333333,
              "#9c179e"
             ],
             [
              0.4444444444444444,
              "#bd3786"
             ],
             [
              0.5555555555555556,
              "#d8576b"
             ],
             [
              0.6666666666666666,
              "#ed7953"
             ],
             [
              0.7777777777777778,
              "#fb9f3a"
             ],
             [
              0.8888888888888888,
              "#fdca26"
             ],
             [
              1,
              "#f0f921"
             ]
            ],
            "type": "histogram2d"
           }
          ],
          "histogram2dcontour": [
           {
            "colorbar": {
             "outlinewidth": 0,
             "ticks": ""
            },
            "colorscale": [
             [
              0,
              "#0d0887"
             ],
             [
              0.1111111111111111,
              "#46039f"
             ],
             [
              0.2222222222222222,
              "#7201a8"
             ],
             [
              0.3333333333333333,
              "#9c179e"
             ],
             [
              0.4444444444444444,
              "#bd3786"
             ],
             [
              0.5555555555555556,
              "#d8576b"
             ],
             [
              0.6666666666666666,
              "#ed7953"
             ],
             [
              0.7777777777777778,
              "#fb9f3a"
             ],
             [
              0.8888888888888888,
              "#fdca26"
             ],
             [
              1,
              "#f0f921"
             ]
            ],
            "type": "histogram2dcontour"
           }
          ],
          "mesh3d": [
           {
            "colorbar": {
             "outlinewidth": 0,
             "ticks": ""
            },
            "type": "mesh3d"
           }
          ],
          "parcoords": [
           {
            "line": {
             "colorbar": {
              "outlinewidth": 0,
              "ticks": ""
             }
            },
            "type": "parcoords"
           }
          ],
          "pie": [
           {
            "automargin": true,
            "type": "pie"
           }
          ],
          "scatter": [
           {
            "fillpattern": {
             "fillmode": "overlay",
             "size": 10,
             "solidity": 0.2
            },
            "type": "scatter"
           }
          ],
          "scatter3d": [
           {
            "line": {
             "colorbar": {
              "outlinewidth": 0,
              "ticks": ""
             }
            },
            "marker": {
             "colorbar": {
              "outlinewidth": 0,
              "ticks": ""
             }
            },
            "type": "scatter3d"
           }
          ],
          "scattercarpet": [
           {
            "marker": {
             "colorbar": {
              "outlinewidth": 0,
              "ticks": ""
             }
            },
            "type": "scattercarpet"
           }
          ],
          "scattergeo": [
           {
            "marker": {
             "colorbar": {
              "outlinewidth": 0,
              "ticks": ""
             }
            },
            "type": "scattergeo"
           }
          ],
          "scattergl": [
           {
            "marker": {
             "colorbar": {
              "outlinewidth": 0,
              "ticks": ""
             }
            },
            "type": "scattergl"
           }
          ],
          "scattermapbox": [
           {
            "marker": {
             "colorbar": {
              "outlinewidth": 0,
              "ticks": ""
             }
            },
            "type": "scattermapbox"
           }
          ],
          "scatterpolar": [
           {
            "marker": {
             "colorbar": {
              "outlinewidth": 0,
              "ticks": ""
             }
            },
            "type": "scatterpolar"
           }
          ],
          "scatterpolargl": [
           {
            "marker": {
             "colorbar": {
              "outlinewidth": 0,
              "ticks": ""
             }
            },
            "type": "scatterpolargl"
           }
          ],
          "scatterternary": [
           {
            "marker": {
             "colorbar": {
              "outlinewidth": 0,
              "ticks": ""
             }
            },
            "type": "scatterternary"
           }
          ],
          "surface": [
           {
            "colorbar": {
             "outlinewidth": 0,
             "ticks": ""
            },
            "colorscale": [
             [
              0,
              "#0d0887"
             ],
             [
              0.1111111111111111,
              "#46039f"
             ],
             [
              0.2222222222222222,
              "#7201a8"
             ],
             [
              0.3333333333333333,
              "#9c179e"
             ],
             [
              0.4444444444444444,
              "#bd3786"
             ],
             [
              0.5555555555555556,
              "#d8576b"
             ],
             [
              0.6666666666666666,
              "#ed7953"
             ],
             [
              0.7777777777777778,
              "#fb9f3a"
             ],
             [
              0.8888888888888888,
              "#fdca26"
             ],
             [
              1,
              "#f0f921"
             ]
            ],
            "type": "surface"
           }
          ],
          "table": [
           {
            "cells": {
             "fill": {
              "color": "#EBF0F8"
             },
             "line": {
              "color": "white"
             }
            },
            "header": {
             "fill": {
              "color": "#C8D4E3"
             },
             "line": {
              "color": "white"
             }
            },
            "type": "table"
           }
          ]
         },
         "layout": {
          "annotationdefaults": {
           "arrowcolor": "#2a3f5f",
           "arrowhead": 0,
           "arrowwidth": 1
          },
          "autotypenumbers": "strict",
          "coloraxis": {
           "colorbar": {
            "outlinewidth": 0,
            "ticks": ""
           }
          },
          "colorscale": {
           "diverging": [
            [
             0,
             "#8e0152"
            ],
            [
             0.1,
             "#c51b7d"
            ],
            [
             0.2,
             "#de77ae"
            ],
            [
             0.3,
             "#f1b6da"
            ],
            [
             0.4,
             "#fde0ef"
            ],
            [
             0.5,
             "#f7f7f7"
            ],
            [
             0.6,
             "#e6f5d0"
            ],
            [
             0.7,
             "#b8e186"
            ],
            [
             0.8,
             "#7fbc41"
            ],
            [
             0.9,
             "#4d9221"
            ],
            [
             1,
             "#276419"
            ]
           ],
           "sequential": [
            [
             0,
             "#0d0887"
            ],
            [
             0.1111111111111111,
             "#46039f"
            ],
            [
             0.2222222222222222,
             "#7201a8"
            ],
            [
             0.3333333333333333,
             "#9c179e"
            ],
            [
             0.4444444444444444,
             "#bd3786"
            ],
            [
             0.5555555555555556,
             "#d8576b"
            ],
            [
             0.6666666666666666,
             "#ed7953"
            ],
            [
             0.7777777777777778,
             "#fb9f3a"
            ],
            [
             0.8888888888888888,
             "#fdca26"
            ],
            [
             1,
             "#f0f921"
            ]
           ],
           "sequentialminus": [
            [
             0,
             "#0d0887"
            ],
            [
             0.1111111111111111,
             "#46039f"
            ],
            [
             0.2222222222222222,
             "#7201a8"
            ],
            [
             0.3333333333333333,
             "#9c179e"
            ],
            [
             0.4444444444444444,
             "#bd3786"
            ],
            [
             0.5555555555555556,
             "#d8576b"
            ],
            [
             0.6666666666666666,
             "#ed7953"
            ],
            [
             0.7777777777777778,
             "#fb9f3a"
            ],
            [
             0.8888888888888888,
             "#fdca26"
            ],
            [
             1,
             "#f0f921"
            ]
           ]
          },
          "colorway": [
           "#636efa",
           "#EF553B",
           "#00cc96",
           "#ab63fa",
           "#FFA15A",
           "#19d3f3",
           "#FF6692",
           "#B6E880",
           "#FF97FF",
           "#FECB52"
          ],
          "font": {
           "color": "#2a3f5f"
          },
          "geo": {
           "bgcolor": "white",
           "lakecolor": "white",
           "landcolor": "#E5ECF6",
           "showlakes": true,
           "showland": true,
           "subunitcolor": "white"
          },
          "hoverlabel": {
           "align": "left"
          },
          "hovermode": "closest",
          "mapbox": {
           "style": "light"
          },
          "paper_bgcolor": "white",
          "plot_bgcolor": "#E5ECF6",
          "polar": {
           "angularaxis": {
            "gridcolor": "white",
            "linecolor": "white",
            "ticks": ""
           },
           "bgcolor": "#E5ECF6",
           "radialaxis": {
            "gridcolor": "white",
            "linecolor": "white",
            "ticks": ""
           }
          },
          "scene": {
           "xaxis": {
            "backgroundcolor": "#E5ECF6",
            "gridcolor": "white",
            "gridwidth": 2,
            "linecolor": "white",
            "showbackground": true,
            "ticks": "",
            "zerolinecolor": "white"
           },
           "yaxis": {
            "backgroundcolor": "#E5ECF6",
            "gridcolor": "white",
            "gridwidth": 2,
            "linecolor": "white",
            "showbackground": true,
            "ticks": "",
            "zerolinecolor": "white"
           },
           "zaxis": {
            "backgroundcolor": "#E5ECF6",
            "gridcolor": "white",
            "gridwidth": 2,
            "linecolor": "white",
            "showbackground": true,
            "ticks": "",
            "zerolinecolor": "white"
           }
          },
          "shapedefaults": {
           "line": {
            "color": "#2a3f5f"
           }
          },
          "ternary": {
           "aaxis": {
            "gridcolor": "white",
            "linecolor": "white",
            "ticks": ""
           },
           "baxis": {
            "gridcolor": "white",
            "linecolor": "white",
            "ticks": ""
           },
           "bgcolor": "#E5ECF6",
           "caxis": {
            "gridcolor": "white",
            "linecolor": "white",
            "ticks": ""
           }
          },
          "title": {
           "x": 0.05
          },
          "xaxis": {
           "automargin": true,
           "gridcolor": "white",
           "linecolor": "white",
           "ticks": "",
           "title": {
            "standoff": 15
           },
           "zerolinecolor": "white",
           "zerolinewidth": 2
          },
          "yaxis": {
           "automargin": true,
           "gridcolor": "white",
           "linecolor": "white",
           "ticks": "",
           "title": {
            "standoff": 15
           },
           "zerolinecolor": "white",
           "zerolinewidth": 2
          }
         }
        },
        "title": {
         "text": "coherence over topics by"
        },
        "xaxis": {
         "title": {
          "text": "topic"
         }
        },
        "yaxis": {
         "title": {
          "text": "coherence"
         }
        }
       }
      }
     },
     "metadata": {},
     "output_type": "display_data"
    }
   ],
   "source": [
    "ngram_model.plot_coherence()"
   ]
  },
  {
   "cell_type": "code",
   "execution_count": 14,
   "metadata": {},
   "outputs": [
    {
     "data": {
      "application/vnd.plotly.v1+json": {
       "config": {
        "plotlyServerURL": "https://plot.ly"
       },
       "data": [
        {
         "mode": "lines+markers",
         "name": "symmetric",
         "type": "scatter",
         "x": [
          5,
          5,
          6,
          6
         ],
         "y": [
          0.3186105848903794,
          0.3098231054514443,
          0.3551755314934863,
          0.34043332970246487
         ]
        }
       ],
       "layout": {
        "template": {
         "data": {
          "bar": [
           {
            "error_x": {
             "color": "#2a3f5f"
            },
            "error_y": {
             "color": "#2a3f5f"
            },
            "marker": {
             "line": {
              "color": "#E5ECF6",
              "width": 0.5
             },
             "pattern": {
              "fillmode": "overlay",
              "size": 10,
              "solidity": 0.2
             }
            },
            "type": "bar"
           }
          ],
          "barpolar": [
           {
            "marker": {
             "line": {
              "color": "#E5ECF6",
              "width": 0.5
             },
             "pattern": {
              "fillmode": "overlay",
              "size": 10,
              "solidity": 0.2
             }
            },
            "type": "barpolar"
           }
          ],
          "carpet": [
           {
            "aaxis": {
             "endlinecolor": "#2a3f5f",
             "gridcolor": "white",
             "linecolor": "white",
             "minorgridcolor": "white",
             "startlinecolor": "#2a3f5f"
            },
            "baxis": {
             "endlinecolor": "#2a3f5f",
             "gridcolor": "white",
             "linecolor": "white",
             "minorgridcolor": "white",
             "startlinecolor": "#2a3f5f"
            },
            "type": "carpet"
           }
          ],
          "choropleth": [
           {
            "colorbar": {
             "outlinewidth": 0,
             "ticks": ""
            },
            "type": "choropleth"
           }
          ],
          "contour": [
           {
            "colorbar": {
             "outlinewidth": 0,
             "ticks": ""
            },
            "colorscale": [
             [
              0,
              "#0d0887"
             ],
             [
              0.1111111111111111,
              "#46039f"
             ],
             [
              0.2222222222222222,
              "#7201a8"
             ],
             [
              0.3333333333333333,
              "#9c179e"
             ],
             [
              0.4444444444444444,
              "#bd3786"
             ],
             [
              0.5555555555555556,
              "#d8576b"
             ],
             [
              0.6666666666666666,
              "#ed7953"
             ],
             [
              0.7777777777777778,
              "#fb9f3a"
             ],
             [
              0.8888888888888888,
              "#fdca26"
             ],
             [
              1,
              "#f0f921"
             ]
            ],
            "type": "contour"
           }
          ],
          "contourcarpet": [
           {
            "colorbar": {
             "outlinewidth": 0,
             "ticks": ""
            },
            "type": "contourcarpet"
           }
          ],
          "heatmap": [
           {
            "colorbar": {
             "outlinewidth": 0,
             "ticks": ""
            },
            "colorscale": [
             [
              0,
              "#0d0887"
             ],
             [
              0.1111111111111111,
              "#46039f"
             ],
             [
              0.2222222222222222,
              "#7201a8"
             ],
             [
              0.3333333333333333,
              "#9c179e"
             ],
             [
              0.4444444444444444,
              "#bd3786"
             ],
             [
              0.5555555555555556,
              "#d8576b"
             ],
             [
              0.6666666666666666,
              "#ed7953"
             ],
             [
              0.7777777777777778,
              "#fb9f3a"
             ],
             [
              0.8888888888888888,
              "#fdca26"
             ],
             [
              1,
              "#f0f921"
             ]
            ],
            "type": "heatmap"
           }
          ],
          "heatmapgl": [
           {
            "colorbar": {
             "outlinewidth": 0,
             "ticks": ""
            },
            "colorscale": [
             [
              0,
              "#0d0887"
             ],
             [
              0.1111111111111111,
              "#46039f"
             ],
             [
              0.2222222222222222,
              "#7201a8"
             ],
             [
              0.3333333333333333,
              "#9c179e"
             ],
             [
              0.4444444444444444,
              "#bd3786"
             ],
             [
              0.5555555555555556,
              "#d8576b"
             ],
             [
              0.6666666666666666,
              "#ed7953"
             ],
             [
              0.7777777777777778,
              "#fb9f3a"
             ],
             [
              0.8888888888888888,
              "#fdca26"
             ],
             [
              1,
              "#f0f921"
             ]
            ],
            "type": "heatmapgl"
           }
          ],
          "histogram": [
           {
            "marker": {
             "pattern": {
              "fillmode": "overlay",
              "size": 10,
              "solidity": 0.2
             }
            },
            "type": "histogram"
           }
          ],
          "histogram2d": [
           {
            "colorbar": {
             "outlinewidth": 0,
             "ticks": ""
            },
            "colorscale": [
             [
              0,
              "#0d0887"
             ],
             [
              0.1111111111111111,
              "#46039f"
             ],
             [
              0.2222222222222222,
              "#7201a8"
             ],
             [
              0.3333333333333333,
              "#9c179e"
             ],
             [
              0.4444444444444444,
              "#bd3786"
             ],
             [
              0.5555555555555556,
              "#d8576b"
             ],
             [
              0.6666666666666666,
              "#ed7953"
             ],
             [
              0.7777777777777778,
              "#fb9f3a"
             ],
             [
              0.8888888888888888,
              "#fdca26"
             ],
             [
              1,
              "#f0f921"
             ]
            ],
            "type": "histogram2d"
           }
          ],
          "histogram2dcontour": [
           {
            "colorbar": {
             "outlinewidth": 0,
             "ticks": ""
            },
            "colorscale": [
             [
              0,
              "#0d0887"
             ],
             [
              0.1111111111111111,
              "#46039f"
             ],
             [
              0.2222222222222222,
              "#7201a8"
             ],
             [
              0.3333333333333333,
              "#9c179e"
             ],
             [
              0.4444444444444444,
              "#bd3786"
             ],
             [
              0.5555555555555556,
              "#d8576b"
             ],
             [
              0.6666666666666666,
              "#ed7953"
             ],
             [
              0.7777777777777778,
              "#fb9f3a"
             ],
             [
              0.8888888888888888,
              "#fdca26"
             ],
             [
              1,
              "#f0f921"
             ]
            ],
            "type": "histogram2dcontour"
           }
          ],
          "mesh3d": [
           {
            "colorbar": {
             "outlinewidth": 0,
             "ticks": ""
            },
            "type": "mesh3d"
           }
          ],
          "parcoords": [
           {
            "line": {
             "colorbar": {
              "outlinewidth": 0,
              "ticks": ""
             }
            },
            "type": "parcoords"
           }
          ],
          "pie": [
           {
            "automargin": true,
            "type": "pie"
           }
          ],
          "scatter": [
           {
            "fillpattern": {
             "fillmode": "overlay",
             "size": 10,
             "solidity": 0.2
            },
            "type": "scatter"
           }
          ],
          "scatter3d": [
           {
            "line": {
             "colorbar": {
              "outlinewidth": 0,
              "ticks": ""
             }
            },
            "marker": {
             "colorbar": {
              "outlinewidth": 0,
              "ticks": ""
             }
            },
            "type": "scatter3d"
           }
          ],
          "scattercarpet": [
           {
            "marker": {
             "colorbar": {
              "outlinewidth": 0,
              "ticks": ""
             }
            },
            "type": "scattercarpet"
           }
          ],
          "scattergeo": [
           {
            "marker": {
             "colorbar": {
              "outlinewidth": 0,
              "ticks": ""
             }
            },
            "type": "scattergeo"
           }
          ],
          "scattergl": [
           {
            "marker": {
             "colorbar": {
              "outlinewidth": 0,
              "ticks": ""
             }
            },
            "type": "scattergl"
           }
          ],
          "scattermapbox": [
           {
            "marker": {
             "colorbar": {
              "outlinewidth": 0,
              "ticks": ""
             }
            },
            "type": "scattermapbox"
           }
          ],
          "scatterpolar": [
           {
            "marker": {
             "colorbar": {
              "outlinewidth": 0,
              "ticks": ""
             }
            },
            "type": "scatterpolar"
           }
          ],
          "scatterpolargl": [
           {
            "marker": {
             "colorbar": {
              "outlinewidth": 0,
              "ticks": ""
             }
            },
            "type": "scatterpolargl"
           }
          ],
          "scatterternary": [
           {
            "marker": {
             "colorbar": {
              "outlinewidth": 0,
              "ticks": ""
             }
            },
            "type": "scatterternary"
           }
          ],
          "surface": [
           {
            "colorbar": {
             "outlinewidth": 0,
             "ticks": ""
            },
            "colorscale": [
             [
              0,
              "#0d0887"
             ],
             [
              0.1111111111111111,
              "#46039f"
             ],
             [
              0.2222222222222222,
              "#7201a8"
             ],
             [
              0.3333333333333333,
              "#9c179e"
             ],
             [
              0.4444444444444444,
              "#bd3786"
             ],
             [
              0.5555555555555556,
              "#d8576b"
             ],
             [
              0.6666666666666666,
              "#ed7953"
             ],
             [
              0.7777777777777778,
              "#fb9f3a"
             ],
             [
              0.8888888888888888,
              "#fdca26"
             ],
             [
              1,
              "#f0f921"
             ]
            ],
            "type": "surface"
           }
          ],
          "table": [
           {
            "cells": {
             "fill": {
              "color": "#EBF0F8"
             },
             "line": {
              "color": "white"
             }
            },
            "header": {
             "fill": {
              "color": "#C8D4E3"
             },
             "line": {
              "color": "white"
             }
            },
            "type": "table"
           }
          ]
         },
         "layout": {
          "annotationdefaults": {
           "arrowcolor": "#2a3f5f",
           "arrowhead": 0,
           "arrowwidth": 1
          },
          "autotypenumbers": "strict",
          "coloraxis": {
           "colorbar": {
            "outlinewidth": 0,
            "ticks": ""
           }
          },
          "colorscale": {
           "diverging": [
            [
             0,
             "#8e0152"
            ],
            [
             0.1,
             "#c51b7d"
            ],
            [
             0.2,
             "#de77ae"
            ],
            [
             0.3,
             "#f1b6da"
            ],
            [
             0.4,
             "#fde0ef"
            ],
            [
             0.5,
             "#f7f7f7"
            ],
            [
             0.6,
             "#e6f5d0"
            ],
            [
             0.7,
             "#b8e186"
            ],
            [
             0.8,
             "#7fbc41"
            ],
            [
             0.9,
             "#4d9221"
            ],
            [
             1,
             "#276419"
            ]
           ],
           "sequential": [
            [
             0,
             "#0d0887"
            ],
            [
             0.1111111111111111,
             "#46039f"
            ],
            [
             0.2222222222222222,
             "#7201a8"
            ],
            [
             0.3333333333333333,
             "#9c179e"
            ],
            [
             0.4444444444444444,
             "#bd3786"
            ],
            [
             0.5555555555555556,
             "#d8576b"
            ],
            [
             0.6666666666666666,
             "#ed7953"
            ],
            [
             0.7777777777777778,
             "#fb9f3a"
            ],
            [
             0.8888888888888888,
             "#fdca26"
            ],
            [
             1,
             "#f0f921"
            ]
           ],
           "sequentialminus": [
            [
             0,
             "#0d0887"
            ],
            [
             0.1111111111111111,
             "#46039f"
            ],
            [
             0.2222222222222222,
             "#7201a8"
            ],
            [
             0.3333333333333333,
             "#9c179e"
            ],
            [
             0.4444444444444444,
             "#bd3786"
            ],
            [
             0.5555555555555556,
             "#d8576b"
            ],
            [
             0.6666666666666666,
             "#ed7953"
            ],
            [
             0.7777777777777778,
             "#fb9f3a"
            ],
            [
             0.8888888888888888,
             "#fdca26"
            ],
            [
             1,
             "#f0f921"
            ]
           ]
          },
          "colorway": [
           "#636efa",
           "#EF553B",
           "#00cc96",
           "#ab63fa",
           "#FFA15A",
           "#19d3f3",
           "#FF6692",
           "#B6E880",
           "#FF97FF",
           "#FECB52"
          ],
          "font": {
           "color": "#2a3f5f"
          },
          "geo": {
           "bgcolor": "white",
           "lakecolor": "white",
           "landcolor": "#E5ECF6",
           "showlakes": true,
           "showland": true,
           "subunitcolor": "white"
          },
          "hoverlabel": {
           "align": "left"
          },
          "hovermode": "closest",
          "mapbox": {
           "style": "light"
          },
          "paper_bgcolor": "white",
          "plot_bgcolor": "#E5ECF6",
          "polar": {
           "angularaxis": {
            "gridcolor": "white",
            "linecolor": "white",
            "ticks": ""
           },
           "bgcolor": "#E5ECF6",
           "radialaxis": {
            "gridcolor": "white",
            "linecolor": "white",
            "ticks": ""
           }
          },
          "scene": {
           "xaxis": {
            "backgroundcolor": "#E5ECF6",
            "gridcolor": "white",
            "gridwidth": 2,
            "linecolor": "white",
            "showbackground": true,
            "ticks": "",
            "zerolinecolor": "white"
           },
           "yaxis": {
            "backgroundcolor": "#E5ECF6",
            "gridcolor": "white",
            "gridwidth": 2,
            "linecolor": "white",
            "showbackground": true,
            "ticks": "",
            "zerolinecolor": "white"
           },
           "zaxis": {
            "backgroundcolor": "#E5ECF6",
            "gridcolor": "white",
            "gridwidth": 2,
            "linecolor": "white",
            "showbackground": true,
            "ticks": "",
            "zerolinecolor": "white"
           }
          },
          "shapedefaults": {
           "line": {
            "color": "#2a3f5f"
           }
          },
          "ternary": {
           "aaxis": {
            "gridcolor": "white",
            "linecolor": "white",
            "ticks": ""
           },
           "baxis": {
            "gridcolor": "white",
            "linecolor": "white",
            "ticks": ""
           },
           "bgcolor": "#E5ECF6",
           "caxis": {
            "gridcolor": "white",
            "linecolor": "white",
            "ticks": ""
           }
          },
          "title": {
           "x": 0.05
          },
          "xaxis": {
           "automargin": true,
           "gridcolor": "white",
           "linecolor": "white",
           "ticks": "",
           "title": {
            "standoff": 15
           },
           "zerolinecolor": "white",
           "zerolinewidth": 2
          },
          "yaxis": {
           "automargin": true,
           "gridcolor": "white",
           "linecolor": "white",
           "ticks": "",
           "title": {
            "standoff": 15
           },
           "zerolinecolor": "white",
           "zerolinewidth": 2
          }
         }
        },
        "title": {
         "text": "coherence over topics by"
        },
        "xaxis": {
         "title": {
          "text": "topic"
         }
        },
        "yaxis": {
         "title": {
          "text": "coherence"
         }
        }
       }
      }
     },
     "metadata": {},
     "output_type": "display_data"
    }
   ],
   "source": [
    "ngram_model.plot_coherence('eta')"
   ]
  },
  {
   "cell_type": "code",
   "execution_count": 10,
   "metadata": {},
   "outputs": [
    {
     "name": "stderr",
     "output_type": "stream",
     "text": [
      "/home/thomas/miniconda3/envs/tdde16proj-env/lib/python3.9/site-packages/pyLDAvis/_prepare.py:246: FutureWarning:\n",
      "\n",
      "In a future version of pandas all arguments of DataFrame.drop except for the argument 'labels' will be keyword-only.\n",
      "\n",
      "/home/thomas/miniconda3/envs/tdde16proj-env/lib/python3.9/site-packages/past/builtins/misc.py:45: DeprecationWarning: the imp module is deprecated in favour of importlib; see the module's documentation for alternative uses\n",
      "  from imp import reload\n",
      "/home/thomas/miniconda3/envs/tdde16proj-env/lib/python3.9/site-packages/past/builtins/misc.py:45: DeprecationWarning: the imp module is deprecated in favour of importlib; see the module's documentation for alternative uses\n",
      "  from imp import reload\n",
      "/home/thomas/miniconda3/envs/tdde16proj-env/lib/python3.9/site-packages/past/builtins/misc.py:45: DeprecationWarning: the imp module is deprecated in favour of importlib; see the module's documentation for alternative uses\n",
      "  from imp import reload\n",
      "/home/thomas/miniconda3/envs/tdde16proj-env/lib/python3.9/site-packages/past/builtins/misc.py:45: DeprecationWarning: the imp module is deprecated in favour of importlib; see the module's documentation for alternative uses\n",
      "  from imp import reload\n",
      "/home/thomas/miniconda3/envs/tdde16proj-env/lib/python3.9/site-packages/past/builtins/misc.py:45: DeprecationWarning: the imp module is deprecated in favour of importlib; see the module's documentation for alternative uses\n",
      "  from imp import reload\n",
      "/home/thomas/miniconda3/envs/tdde16proj-env/lib/python3.9/site-packages/past/builtins/misc.py:45: DeprecationWarning: the imp module is deprecated in favour of importlib; see the module's documentation for alternative uses\n",
      "  from imp import reload\n",
      "/home/thomas/miniconda3/envs/tdde16proj-env/lib/python3.9/site-packages/past/builtins/misc.py:45: DeprecationWarning: the imp module is deprecated in favour of importlib; see the module's documentation for alternative uses\n",
      "  from imp import reload\n",
      "/home/thomas/miniconda3/envs/tdde16proj-env/lib/python3.9/site-packages/past/builtins/misc.py:45: DeprecationWarning: the imp module is deprecated in favour of importlib; see the module's documentation for alternative uses\n",
      "  from imp import reload\n"
     ]
    },
    {
     "data": {
      "text/html": [
       "\n",
       "<link rel=\"stylesheet\" type=\"text/css\" href=\"https://cdn.jsdelivr.net/gh/bmabey/pyLDAvis@3.3.1/pyLDAvis/js/ldavis.v1.0.0.css\">\n",
       "\n",
       "\n",
       "<div id=\"ldavis_el68461405282546909121469427466\"></div>\n",
       "<script type=\"text/javascript\">\n",
       "\n",
       "var ldavis_el68461405282546909121469427466_data = {\"mdsDat\": {\"x\": [-0.07077563484053279, -0.03053177257720431, 0.008949041233733954, 0.002631741374802252, -0.07437846601323084, 0.1641050908224319], \"y\": [-0.04744624423506899, 0.029112573938795624, -0.09866326353973476, 0.11907319526356946, 0.006536646640866665, -0.008612908068427919], \"topics\": [1, 2, 3, 4, 5, 6], \"cluster\": [1, 1, 1, 1, 1, 1], \"Freq\": [23.07531081499978, 19.65923793916963, 16.07646492582442, 15.813586188997593, 14.544382122730237, 10.831018008278336]}, \"tinfo\": {\"Term\": [\"happy\", \"baby\", \"to\", \"time\", \"go\", \"long\", \"let\", \"run\", \"sunshine\", \"win\", \"good\", \"rain\", \"day\", \"puppy\", \"way\", \"lonely\", \"blue\", \"hold\", \"people\", \"arm\", \"don\", \"walk\", \"look\", \"thing\", \"ll\", \"babe\", \"christmas\", \"right\", \"girl\", \"talk\", \"sale\", \"surfin\", \"trade\", \"wandering\", \"changin\", \"insurance\", \"melanie\", \"michael\", \"b\\u00e9same\", \"pardon\", \"sore\", \"ause\", \"owe\", \"rail\", \"sixteen\", \"discover\", \"firm\", \"yesterday\", \"onliness\", \"igor\", \"freak\", \"mucho\", \"youe\", \"peter\", \"debt\", \"ruby\", \"dissatisfied\", \"durability\", \"lane\", \"dee\", \"easy\", \"anymore\", \"pal\", \"rock\", \"step\", \"mon\", \"to\", \"chain\", \"ton\", \"admit\", \"go\", \"lover\", \"fall\", \"care\", \"don\", \"right\", \"mind\", \"trouble\", \"dream\", \"need\", \"ain\", \"smile\", \"em\", \"want\", \"watch\", \"baby\", \"meet\", \"kiss\", \"find\", \"lie\", \"heart\", \"way\", \"feel\", \"ve\", \"ll\", \"tell\", \"girl\", \"cause\", \"chorus\", \"think\", \"away\", \"verse\", \"time\", \"cry\", \"look\", \"leave\", \"man\", \"let\", \"balloon\", \"bee\", \"airplane\", \"rumor\", \"chapel\", \"sincerely\", \"peaceful\", \"boiler\", \"thumb\", \"thee\", \"pocket\", \"ramblin\", \"thy\", \"married\", \"quit\", \"troubles\", \"hee\", \"slight\", \"jungle\", \"crown\", \"millstone\", \"alice\", \"glaci\", \"fraulein\", \"mammy\", \"thrupence\", \"chill\", \"suggest\", \"tombstone\", \"hesitate\", \"rain\", \"shape\", \"shovel\", \"glory\", \"pour\", \"window\", \"clear\", \"dead\", \"beautiful\", \"wee\", \"somebody\", \"havin\", \"wish\", \"home\", \"goin\", \"money\", \"fly\", \"verse\", \"ll\", \"away\", \"want\", \"leave\", \"tell\", \"ve\", \"man\", \"play\", \"moon\", \"don\", \"come\", \"day\", \"chorus\", \"feel\", \"good\", \"hear\", \"go\", \"find\", \"night\", \"baby\", \"heart\", \"right\", \"little\", \"yes\", \"let\", \"halloween\", \"sunshine\", \"solo\", \"deaf\", \"impossible\", \"reconsider\", \"dah\", \"dust\", \"rosemary\", \"claim\", \"spade\", \"legend\", \"dumb\", \"diddley\", \"beauty\", \"mar\", \"jupiter\", \"happy\", \"wouldn\", \"aquarius\", \"crow\", \"automobile\", \"deuce\", \"lazy\", \"tennis\", \"masculine\", \"bedazzle\", \"ahh\", \"goofy\", \"rigby\", \"separate\", \"ace\", \"deal\", \"lonely\", \"story\", \"butter\", \"prayer\", \"time\", \"let\", \"wine\", \"mountain\", \"baby\", \"wait\", \"girl\", \"people\", \"pretty\", \"woman\", \"doo\", \"safe\", \"hear\", \"shine\", \"say\", \"man\", \"day\", \"ain\", \"till\", \"game\", \"ve\", \"hand\", \"look\", \"ll\", \"tell\", \"win\", \"life\", \"old\", \"verse\", \"don\", \"chorus\", \"think\", \"heart\", \"go\", \"thing\", \"puppy\", \"mexico\", \"swam\", \"monkey\", \"de\", \"hospital\", \"donkey\", \"sneaky\", \"fishie\", \"dislike\", \"piano\", \"oop\", \"innervenus\", \"sweetness\", \"border\", \"rule\", \"aa\", \"swim\", \"dam\", \"linus\", \"ry\", \"lucy\", \"drinker\", \"liar\", \"mari\", \"juana\", \"chart\", \"marijuana\", \"du\", \"occasionally\", \"mama\", \"violet\", \"ev\", \"loser\", \"put\", \"blue\", \"music\", \"sand\", \"lord\", \"way\", \"hold\", \"stone\", \"look\", \"heaven\", \"run\", \"sea\", \"sun\", \"high\", \"true\", \"verse\", \"yes\", \"good\", \"little\", \"go\", \"day\", \"people\", \"night\", \"chorus\", \"hear\", \"ll\", \"come\", \"bring\", \"to\", \"man\", \"thing\", \"new\", \"ve\", \"world\", \"time\", \"frosty\", \"snowman\", \"teasin\", \"dozen\", \"lee\", \"lonee\", \"hidin\", \"slippin\", \"dolly\", \"memphis\", \"whistle\", \"aunt\", \"pneumonia\", \"tennessee\", \"clover\", \"choir\", \"sarge\", \"amour\", \"cherie\", \"dixie\", \"woogie\", \"boogie\", \"flu\", \"wonderful\", \"bold\", \"needin\", \"mess\", \"twelfth\", \"hammer\", \"track\", \"eighteen\", \"papa\", \"return\", \"dear\", \"christmas\", \"babe\", \"arm\", \"long\", \"win\", \"hate\", \"low\", \"lamp\", \"day\", \"rainbow\", \"wonder\", \"ll\", \"eye\", \"night\", \"heart\", \"hurt\", \"get\", \"cause\", \"head\", \"kiss\", \"tell\", \"verse\", \"hold\", \"time\", \"don\", \"leave\", \"ve\", \"little\", \"tomorrow\", \"let\", \"to\", \"think\", \"baby\", \"thing\", \"true\", \"go\", \"stampede\", \"president\", \"jerusalem\", \"backwards\", \"kennedy\", \"intention\", \"temptation\", \"pretoria\", \"choke\", \"maria\", \"writer\", \"gulf\", \"british\", \"livin\", \"reverie\", \"misunderstood\", \"bailey\", \"tony\", \"hup\", \"na\", \"aah\", \"individual\", \"mankind\", \"coffee\", \"jefferson\", \"classify\", \"tooth\", \"comb\", \"dou\", \"spirit\", \"realize\", \"great\", \"effort\", \"literature\", \"run\", \"walk\", \"land\", \"fire\", \"good\", \"thing\", \"wave\", \"wanna\", \"guy\", \"man\", \"talk\", \"sleep\", \"baby\", \"lose\", \"world\", \"lady\", \"fine\", \"don\", \"chorus\", \"god\", \"think\", \"time\", \"say\", \"ll\", \"life\", \"verse\", \"home\", \"friend\", \"ain\", \"people\", \"little\", \"cry\", \"let\"], \"Freq\": [119.0, 413.0, 266.0, 329.0, 420.0, 145.0, 226.0, 92.0, 48.0, 129.0, 200.0, 83.0, 304.0, 39.0, 203.0, 76.0, 111.0, 129.0, 110.0, 62.0, 397.0, 102.0, 155.0, 156.0, 459.0, 43.0, 34.0, 124.0, 122.0, 57.0, 15.144591413506049, 11.397239417894273, 10.45999708443301, 8.586267635150328, 7.649943460121069, 7.649784829931877, 7.649055475909834, 5.776299791837435, 5.776273066099038, 5.776249357782718, 5.76419691188654, 4.839416962663631, 4.839404461915027, 4.839396702829686, 4.839385495261971, 4.834892984849597, 9.523575489776691, 22.136841177430327, 3.902580688001874, 3.9025832743636544, 3.9025781016400938, 3.9025621524091156, 3.9025595660473353, 3.9025414615148732, 3.902538875153093, 3.902531116067752, 3.902531547128049, 3.9025289607662685, 3.9018957331903925, 3.8958600269157753, 30.341141110937055, 23.731191827205443, 12.286026263401691, 37.78126942011399, 29.433652283396317, 22.884791140674103, 175.2906489686621, 10.766167143502066, 6.7102923617217565, 6.0052247078555805, 241.505083171977, 32.994606909743354, 55.17186947331733, 45.542485923108735, 195.8572047305624, 68.14434287894795, 49.78696768923475, 17.928104655349184, 62.80399548713394, 59.846370094482474, 65.65426272652651, 38.31038041616218, 17.84033043349069, 74.73200634533936, 30.75935925929328, 140.33667989533166, 31.876853766429303, 43.27376040577451, 53.53906824507515, 30.665277763173236, 71.39370298345206, 72.16403187306015, 53.200541075893405, 71.8860152240902, 106.08682195306898, 62.947493735669504, 46.47473140561046, 48.55162474545895, 60.888446292105066, 51.07127908271748, 46.05492350687995, 66.81264244068545, 59.85666036588567, 39.4238195080267, 42.974890783890636, 43.08129025904964, 44.82787416321297, 44.03019880838122, 16.207848035010137, 14.416530467791535, 10.854359752703207, 10.853233041796553, 9.069002589009699, 8.178048961898456, 7.2857556211667855, 7.285656464731063, 7.285372216281992, 15.313568627595552, 16.875972912813243, 6.393485784182842, 6.39325588815039, 6.3912000447164115, 6.390946644936232, 5.501272870337925, 5.5008806515477335, 5.390396143913107, 4.609061058231182, 4.609041594190096, 4.609039390713747, 4.609037554483455, 4.609034249268931, 4.609021028410835, 4.608994953940701, 4.608972551931148, 4.6088686212966685, 4.608676918854273, 4.608486685396109, 4.608180402183543, 66.63002818670758, 12.621483149605536, 8.128093949581498, 7.280849213828817, 9.07081898801371, 13.404636837767823, 11.747577819009503, 15.25060649438816, 11.456694702650543, 8.17842795983055, 23.877449970732297, 6.389428449731504, 28.70775658051458, 54.691281901070056, 23.98043017241303, 27.00302094398457, 14.976567485736032, 87.41340514410999, 110.00271018591165, 47.24778895644815, 52.091391342522634, 50.64652195476549, 57.622152235106235, 60.614608264123554, 57.67121043254899, 26.968402861551464, 20.048730597595526, 73.29039094691493, 33.71533286260507, 60.22143757214969, 49.767981244422465, 37.897909971674174, 45.047271141306005, 35.12331605627347, 54.23936946758999, 30.31049476581569, 33.41658553915514, 37.48688230736487, 26.97433461988401, 23.89681852784341, 24.341059925659145, 22.574365472152827, 24.368172967646238, 11.42069053730854, 44.29711040268966, 7.082307330257424, 6.2159530480244065, 5.3485356409078255, 5.348528433281496, 11.420912772453692, 16.416261509246958, 4.481112527753734, 4.481104719491877, 4.481084297883944, 4.481077090257615, 4.481076189304323, 4.481074988033269, 4.481065678182594, 4.429520939124532, 4.429507725142929, 101.61432687090509, 10.32702093463277, 7.950787862257569, 3.613634456448881, 3.613639561850864, 3.613638660897573, 3.6136329548600625, 3.613624245644915, 3.613625146598206, 3.6136125332521294, 3.6136038240369817, 3.613604424672509, 3.613596015775125, 7.08023453705224, 7.083575872491371, 9.68668940518746, 53.5580261002718, 11.437778618064122, 5.4706682684213375, 7.798586218969507, 153.08315040338223, 105.796970090776, 20.911736133415, 16.319939992253996, 153.91786080348774, 30.746061751246476, 45.08835401094563, 41.650124048527466, 15.756591918360286, 26.94672490464897, 11.81486721235751, 6.802070614127726, 35.49273536697028, 17.329228712222253, 37.04139479057696, 44.95378282229442, 50.52469655960947, 31.686966915144975, 15.389245632321927, 13.795441241202028, 39.17868904378245, 23.181314355183215, 28.96083601880346, 44.560871085666236, 31.243724323859677, 25.20853133654638, 22.684024176597024, 22.69025637082971, 32.25105497200849, 33.86817002794822, 28.49719344246429, 24.27794028592503, 25.375632945363574, 29.000696594946287, 23.988909665038125, 38.3955695788314, 14.916488439988548, 14.05480975079768, 13.185185793987378, 11.446397533713585, 8.838307310297887, 7.968982305407233, 7.968953355517781, 7.96893858516602, 7.968889547598172, 14.05443044816445, 6.230165686058059, 5.3607449692879925, 5.360694750092004, 5.360279407800476, 5.350364956884228, 4.491321593854608, 4.4913006199551075, 4.491182457141018, 4.491167982196291, 4.487611872306243, 12.315748534423339, 3.6218920148734854, 3.6218920148734854, 3.621877539928759, 3.621874881265442, 3.621874881265442, 3.6218736996373013, 3.621856270622223, 3.621846817597096, 22.15436019333251, 7.099587584456266, 6.230234811304302, 6.230225358279174, 6.08581858317939, 61.73603864697745, 28.283550437423752, 13.567602017368598, 23.12143065966682, 81.861609493555, 57.01231472577703, 7.098341557581684, 51.76615519138277, 13.564522694433403, 33.936523271424456, 18.931417447380728, 27.55949125129132, 25.519140854805755, 33.855390320013754, 74.24998639598705, 34.000612418530764, 51.463341710969786, 41.71360975756307, 70.08291803894102, 55.18343795441263, 31.72464537074909, 41.46819977223516, 45.38492366483687, 34.31455447277478, 59.13600299178422, 25.759491108434318, 21.495659222929717, 35.1294903159678, 31.72604441846792, 27.97109487138099, 19.876649062414863, 25.277152864573896, 20.9914466789249, 21.911899551844293, 12.247618529819611, 12.247618529819611, 10.518457001167345, 10.514934713983383, 9.653495860255472, 8.789375894993208, 8.789372634622474, 8.789372634622474, 7.060088298672526, 7.057289270396595, 6.193963205408285, 5.330925683230016, 5.3308490645177455, 5.328787423423028, 4.466371816962447, 4.466366926406344, 4.466340300045343, 4.466331877420944, 4.466320737820933, 4.466323454796545, 4.466224556884253, 4.466219666328151, 4.466217221050099, 18.102906377976698, 3.601828818597327, 3.6017964865875394, 3.6017905092411917, 3.601783988499722, 3.6017834451045996, 3.601780728128987, 7.923624657573239, 13.113025254731925, 12.15345684941452, 17.29610155665391, 22.617898201826137, 27.074703275959635, 37.168330709995665, 72.62965302369263, 64.78739635176063, 13.064698952908637, 17.05808905905324, 7.644485843522241, 97.96536801360493, 7.053233369202349, 24.896819096640286, 114.98268613661794, 39.888727538123405, 51.39533226768025, 54.22384298937807, 20.474608729584823, 27.115655705970767, 37.393683188032625, 22.956652894765217, 28.36350826525063, 39.62068593926384, 45.61118679574945, 29.27404504187576, 43.08349091953865, 44.06250200233865, 30.16748660794744, 33.58217938407722, 27.988950354481105, 19.301103490963673, 29.28554980340906, 30.744974340419606, 25.648962715801833, 31.930566860145362, 22.571844378405093, 20.558756724672715, 22.15181081662485, 15.783508986855695, 10.018716030927834, 9.19542333471429, 7.547957403221234, 6.724709219552385, 5.90014953445302, 5.899487106856059, 5.0778624170900875, 5.077795648273044, 5.075961731431609, 5.075158482329612, 5.067976180913319, 5.0668803629948265, 10.019373197951332, 4.2543649631709455, 4.254112455644676, 4.254023430555286, 4.25242583486023, 4.248097596877884, 3.43079952645627, 3.43078779133085, 3.4307473253811276, 3.430735994915205, 3.4306995755604546, 3.430723450470791, 3.430671249395649, 3.430497245811841, 3.430467301009046, 3.4303592569232864, 3.430296939360713, 9.194705468766209, 12.73263050392355, 5.077980577663277, 5.074337832869235, 35.492218334095476, 35.33443997748843, 10.841279530727375, 12.6333691478916, 49.04022153855283, 36.84702804264155, 8.123912502901312, 19.248813828640568, 12.511832905175256, 38.5344872815646, 16.702909932298795, 10.775106372464734, 47.341467443743156, 18.277025664686377, 22.280145639218627, 9.054284576633245, 11.304512680859721, 32.374546754550934, 25.090489661084696, 10.75090045065957, 21.238069739233985, 28.02429205827894, 19.652942412607842, 24.778749696248457, 14.311469421962776, 19.24696858133321, 14.733322091908626, 12.573073264166693, 14.044047765262908, 12.27719676094077, 12.242368527333381, 11.720517211751634, 11.51387055562139], \"Total\": [119.0, 413.0, 266.0, 329.0, 420.0, 145.0, 226.0, 92.0, 48.0, 129.0, 200.0, 83.0, 304.0, 39.0, 203.0, 76.0, 111.0, 129.0, 110.0, 62.0, 397.0, 102.0, 155.0, 156.0, 459.0, 43.0, 34.0, 124.0, 122.0, 57.0, 15.864319689632081, 12.116936296071549, 11.179972945511015, 9.306193347672851, 8.369547356307852, 8.369517189385595, 8.369244360181407, 6.495841473162315, 6.495831335662903, 6.495835574314462, 6.493920416911181, 5.558979488494092, 5.55898182740567, 5.558983417314766, 5.558981073955407, 5.558455062171815, 11.066117525423707, 25.915657117930305, 4.622117905158232, 4.622121374879772, 4.622121863187641, 4.622112097529002, 4.622117405915401, 4.622120075527614, 4.6221204953152135, 4.622118292710407, 4.622119247425624, 4.622119228537391, 4.621911026931802, 4.620050716110169, 36.1042153404936, 28.631889515593656, 14.80279386759587, 47.758029446225265, 37.686759021090374, 29.445213662684846, 266.7931718660792, 13.804003319155676, 8.295639873562425, 7.380539848858847, 420.8978941257494, 48.57618520271224, 86.30371302683403, 72.89138643617126, 397.25290567875084, 124.50525135725154, 86.56954504795351, 26.499161542939603, 121.50328542183281, 114.87239876630515, 132.70486244471743, 70.59894917785604, 27.0257522596511, 168.13122285933855, 54.407142525442566, 413.9063078037577, 59.48413644835524, 93.59404892635358, 128.61377922460784, 58.63192263903027, 200.6931051263729, 203.96033372302233, 139.17907448838537, 240.6242793526317, 459.54784204929746, 215.07198325193522, 122.82760942937466, 134.86935660931223, 229.25753118359518, 161.97247291915738, 133.95120767420687, 325.5852443298736, 329.6603860547068, 97.15753807086654, 155.17839269644787, 169.65463239797438, 233.6236268411414, 226.18272941373496, 16.935215174906197, 15.149569143573755, 11.581658866414799, 11.58129827405227, 9.79691002865289, 8.905017675124753, 8.012786567889897, 8.012790322195954, 8.012686368769648, 16.911047161848362, 18.773760008452957, 7.120543250535896, 7.120465572816049, 7.119861291395229, 7.120001051144478, 6.228297558682458, 6.22819055810072, 6.2333897091171275, 5.336047459393315, 5.336053632198031, 5.336055898711598, 5.336055008868229, 5.336055490377773, 5.3360549784785265, 5.336059802496827, 5.336060369288951, 5.336019806998819, 5.335931069670708, 5.336031060722821, 5.335791314933706, 83.87817033545156, 15.125593363138682, 9.843182938204029, 8.875291441748125, 11.53241086022075, 18.556073958778253, 15.948140701587263, 21.927365571425003, 15.861172288409763, 10.635405640980895, 38.719046757649295, 7.9419838716034326, 51.021157618446836, 124.55346927257489, 44.198235255947026, 51.92792401122362, 24.57293150834044, 325.5852443298736, 459.54784204929746, 133.95120767420687, 168.13122285933855, 169.65463239797438, 215.07198325193522, 240.6242793526317, 233.6236268411414, 67.38656038430763, 42.406694067954845, 397.25290567875084, 105.46139559099711, 304.6035601738086, 229.25753118359518, 139.17907448838537, 200.63677040867856, 137.18342173654958, 420.8978941257494, 128.61377922460784, 181.79275993417934, 413.9063078037577, 200.6931051263729, 124.50525135725154, 154.41645859211974, 101.96987185416167, 226.18272941373496, 12.151806541471585, 48.66432512121873, 7.814251464763489, 6.947124537630094, 6.07967441693299, 6.079674668556759, 13.020184630804447, 19.066971822854715, 5.212226357275222, 5.212227634038663, 5.212224952140273, 5.212217762834961, 5.212222202901244, 5.212222019369451, 5.212221386781949, 5.213035496194349, 5.2130345123861614, 119.88242806558891, 12.237774248917727, 9.550571476610934, 4.344763128309193, 4.344769459998007, 4.3447696042947985, 4.344763313756955, 4.344767016034569, 4.344772076525348, 4.344769351505908, 4.344766722078417, 4.344770011215743, 4.344771530134284, 8.638167357245573, 8.750208866712278, 12.130723585566718, 76.90428833915628, 15.694911394881268, 6.908746346986522, 10.469750661640564, 329.6603860547068, 226.18272941373496, 35.226942154614456, 26.160298121301285, 413.9063078037577, 64.92104025428041, 122.82760942937466, 110.24206022930792, 29.762892805875204, 73.97010996808197, 21.816028071627873, 9.709212356001233, 137.18342173654958, 43.505782854196504, 150.75984894808738, 233.6236268411414, 304.6035601738086, 132.70486244471743, 37.94196990446451, 31.092558586396724, 240.6242793526317, 87.40830461191517, 155.17839269644787, 459.54784204929746, 215.07198325193522, 129.80139233049485, 105.27498095305603, 109.85226409282761, 325.5852443298736, 397.25290567875084, 229.25753118359518, 161.97247291915738, 200.6931051263729, 420.8978941257494, 156.2205232448282, 39.128810397472236, 15.653582877460016, 14.785695502276209, 13.916266558022926, 12.177434358273157, 9.569197690938662, 8.69977551485859, 8.699772704333816, 8.699775250886224, 8.699779240095712, 15.652058738404731, 6.960939277100807, 6.091517254298192, 6.091518588255561, 6.091392188729007, 6.091675131840278, 5.222095246372039, 5.222091353696203, 5.222064968276733, 5.222099068049735, 5.221159749599573, 14.693424699783648, 4.35266409502392, 4.35266409502392, 4.352666703131872, 4.352666794131602, 4.3526673146380945, 4.352666679127609, 4.352667614172481, 4.352670330644904, 27.846558334812194, 8.721510798293679, 7.827137964325377, 7.896571932852342, 7.827142540095313, 111.37285655021876, 46.46823390685266, 20.18529347212165, 40.85957582263818, 203.96033372302233, 129.53068854154134, 9.54404342615289, 155.17839269644787, 24.386753665470575, 92.46424609465312, 39.80164535296649, 69.22777687808598, 62.060985087172064, 95.76752005967604, 325.5852443298736, 101.96987185416167, 200.63677040867856, 154.41645859211974, 420.8978941257494, 304.6035601738086, 110.24206022930792, 181.79275993417934, 229.25753118359518, 137.18342173654958, 459.54784204929746, 105.46139559099711, 64.69989545449887, 266.7931718660792, 233.6236268411414, 156.2205232448282, 66.44701486220026, 240.6242793526317, 105.74473764985785, 329.6603860547068, 12.979303561771571, 12.979303835056474, 11.250131295909881, 11.249567331407302, 10.385426282659399, 9.520954025869244, 9.520954875821626, 9.520954878265279, 7.791770655475614, 7.791064961040995, 6.926780359760182, 6.062597102357918, 6.062592454423865, 6.062290984391138, 5.198004279185612, 5.197999763003459, 5.198009159373991, 5.19800007249259, 5.197999802752216, 5.198008037011462, 5.197996838570248, 5.197996176055698, 5.197996331693405, 21.634617087287033, 4.333407978363797, 4.333407371403704, 4.333408304190637, 4.333407248121164, 4.333408937675852, 4.333409143303533, 9.547385452277465, 16.563047313520556, 15.682744555666734, 24.114787108179126, 34.88646575180971, 43.12729757823699, 62.553725267728545, 145.8381771362019, 129.80139233049485, 19.131546348427182, 27.049826785324754, 10.392600669582674, 304.6035601738086, 9.524944879449766, 54.31919943581446, 459.54784204929746, 107.92551624919136, 181.79275993417934, 200.6931051263729, 46.09573300266729, 76.4517235449561, 134.86935660931223, 61.528116917035774, 93.59404892635358, 215.07198325193522, 325.5852443298736, 129.53068854154134, 329.6603860547068, 397.25290567875084, 169.65463239797438, 240.6242793526317, 154.41645859211974, 55.259949483917765, 226.18272941373496, 266.7931718660792, 161.97247291915738, 413.9063078037577, 156.2205232448282, 95.76752005967604, 420.8978941257494, 16.522030329121424, 10.757432525749028, 9.933901032659012, 8.28676980078338, 7.463364195725583, 6.639546080425999, 6.639383403774807, 5.816315041624007, 5.816320063181617, 5.8158653837093555, 5.816490844194762, 5.816763149115513, 5.816824572604208, 11.6259255468452, 4.992787309382796, 4.992746308875441, 4.992718545163671, 4.992340100993222, 4.993041171653613, 4.1692727745652025, 4.169273384691601, 4.169279454895333, 4.169272478720356, 4.169238503984668, 4.169281450723119, 4.169278714098257, 4.169195764529249, 4.169190560353918, 4.169176622162132, 4.169279357497139, 12.541275364190165, 20.153598948516937, 6.6828781271918345, 6.680365634984679, 92.46424609465312, 102.9853559882146, 20.306885957853744, 27.362678496285348, 200.63677040867856, 156.2205232448282, 15.426101833060184, 62.81590761689763, 31.19247735896714, 233.6236268411414, 57.52296068912616, 26.49196032540084, 413.9063078037577, 71.88151856583318, 105.74473764985785, 20.611523120810013, 34.33051175766636, 397.25290567875084, 229.25753118359518, 32.73314359125709, 161.97247291915738, 329.6603860547068, 150.75984894808738, 459.54784204929746, 105.27498095305603, 325.5852443298736, 124.55346927257489, 67.39501622961637, 132.70486244471743, 110.24206022930792, 154.41645859211974, 97.15753807086654, 226.18272941373496], \"Category\": [\"Default\", \"Default\", \"Default\", \"Default\", \"Default\", \"Default\", \"Default\", \"Default\", \"Default\", \"Default\", \"Default\", \"Default\", \"Default\", \"Default\", \"Default\", \"Default\", \"Default\", \"Default\", \"Default\", \"Default\", \"Default\", \"Default\", \"Default\", \"Default\", \"Default\", \"Default\", \"Default\", \"Default\", \"Default\", \"Default\", \"Topic1\", \"Topic1\", \"Topic1\", \"Topic1\", \"Topic1\", \"Topic1\", \"Topic1\", \"Topic1\", \"Topic1\", \"Topic1\", \"Topic1\", \"Topic1\", \"Topic1\", \"Topic1\", \"Topic1\", \"Topic1\", \"Topic1\", \"Topic1\", \"Topic1\", \"Topic1\", \"Topic1\", \"Topic1\", \"Topic1\", \"Topic1\", \"Topic1\", \"Topic1\", \"Topic1\", \"Topic1\", \"Topic1\", \"Topic1\", \"Topic1\", \"Topic1\", \"Topic1\", \"Topic1\", \"Topic1\", \"Topic1\", \"Topic1\", \"Topic1\", \"Topic1\", \"Topic1\", \"Topic1\", \"Topic1\", \"Topic1\", \"Topic1\", \"Topic1\", \"Topic1\", \"Topic1\", \"Topic1\", \"Topic1\", \"Topic1\", \"Topic1\", \"Topic1\", \"Topic1\", \"Topic1\", \"Topic1\", \"Topic1\", \"Topic1\", \"Topic1\", \"Topic1\", \"Topic1\", \"Topic1\", \"Topic1\", \"Topic1\", \"Topic1\", \"Topic1\", \"Topic1\", \"Topic1\", \"Topic1\", \"Topic1\", \"Topic1\", \"Topic1\", \"Topic1\", \"Topic1\", \"Topic1\", \"Topic1\", \"Topic1\", \"Topic1\", \"Topic1\", \"Topic2\", \"Topic2\", \"Topic2\", \"Topic2\", \"Topic2\", \"Topic2\", \"Topic2\", \"Topic2\", \"Topic2\", \"Topic2\", \"Topic2\", \"Topic2\", \"Topic2\", \"Topic2\", \"Topic2\", \"Topic2\", \"Topic2\", \"Topic2\", \"Topic2\", \"Topic2\", \"Topic2\", \"Topic2\", \"Topic2\", \"Topic2\", \"Topic2\", \"Topic2\", \"Topic2\", \"Topic2\", \"Topic2\", \"Topic2\", \"Topic2\", \"Topic2\", \"Topic2\", \"Topic2\", \"Topic2\", \"Topic2\", \"Topic2\", \"Topic2\", \"Topic2\", \"Topic2\", \"Topic2\", \"Topic2\", \"Topic2\", \"Topic2\", \"Topic2\", \"Topic2\", \"Topic2\", \"Topic2\", \"Topic2\", \"Topic2\", \"Topic2\", \"Topic2\", \"Topic2\", \"Topic2\", \"Topic2\", \"Topic2\", \"Topic2\", \"Topic2\", \"Topic2\", \"Topic2\", \"Topic2\", \"Topic2\", \"Topic2\", \"Topic2\", \"Topic2\", \"Topic2\", \"Topic2\", \"Topic2\", \"Topic2\", \"Topic2\", \"Topic2\", \"Topic2\", \"Topic2\", \"Topic3\", \"Topic3\", \"Topic3\", \"Topic3\", \"Topic3\", \"Topic3\", \"Topic3\", \"Topic3\", \"Topic3\", \"Topic3\", \"Topic3\", \"Topic3\", \"Topic3\", \"Topic3\", \"Topic3\", \"Topic3\", \"Topic3\", \"Topic3\", \"Topic3\", \"Topic3\", \"Topic3\", \"Topic3\", \"Topic3\", \"Topic3\", \"Topic3\", \"Topic3\", \"Topic3\", \"Topic3\", \"Topic3\", \"Topic3\", \"Topic3\", \"Topic3\", \"Topic3\", \"Topic3\", \"Topic3\", \"Topic3\", \"Topic3\", \"Topic3\", \"Topic3\", \"Topic3\", \"Topic3\", \"Topic3\", \"Topic3\", \"Topic3\", \"Topic3\", \"Topic3\", \"Topic3\", \"Topic3\", \"Topic3\", \"Topic3\", \"Topic3\", \"Topic3\", \"Topic3\", \"Topic3\", \"Topic3\", \"Topic3\", \"Topic3\", \"Topic3\", \"Topic3\", \"Topic3\", \"Topic3\", \"Topic3\", \"Topic3\", \"Topic3\", \"Topic3\", \"Topic3\", \"Topic3\", \"Topic3\", \"Topic3\", \"Topic3\", \"Topic3\", \"Topic3\", \"Topic4\", \"Topic4\", \"Topic4\", \"Topic4\", \"Topic4\", \"Topic4\", \"Topic4\", \"Topic4\", \"Topic4\", \"Topic4\", \"Topic4\", \"Topic4\", \"Topic4\", \"Topic4\", \"Topic4\", \"Topic4\", \"Topic4\", \"Topic4\", \"Topic4\", \"Topic4\", \"Topic4\", \"Topic4\", \"Topic4\", \"Topic4\", \"Topic4\", \"Topic4\", \"Topic4\", \"Topic4\", \"Topic4\", \"Topic4\", \"Topic4\", \"Topic4\", \"Topic4\", \"Topic4\", \"Topic4\", \"Topic4\", \"Topic4\", \"Topic4\", \"Topic4\", \"Topic4\", \"Topic4\", \"Topic4\", \"Topic4\", \"Topic4\", \"Topic4\", \"Topic4\", \"Topic4\", \"Topic4\", \"Topic4\", \"Topic4\", \"Topic4\", \"Topic4\", \"Topic4\", \"Topic4\", \"Topic4\", \"Topic4\", \"Topic4\", \"Topic4\", \"Topic4\", \"Topic4\", \"Topic4\", \"Topic4\", \"Topic4\", \"Topic4\", \"Topic4\", \"Topic4\", \"Topic4\", \"Topic4\", \"Topic4\", \"Topic5\", \"Topic5\", \"Topic5\", \"Topic5\", \"Topic5\", \"Topic5\", \"Topic5\", \"Topic5\", \"Topic5\", \"Topic5\", \"Topic5\", \"Topic5\", \"Topic5\", \"Topic5\", \"Topic5\", \"Topic5\", \"Topic5\", \"Topic5\", \"Topic5\", \"Topic5\", \"Topic5\", \"Topic5\", \"Topic5\", \"Topic5\", \"Topic5\", \"Topic5\", \"Topic5\", \"Topic5\", \"Topic5\", \"Topic5\", \"Topic5\", \"Topic5\", \"Topic5\", \"Topic5\", \"Topic5\", \"Topic5\", \"Topic5\", \"Topic5\", \"Topic5\", \"Topic5\", \"Topic5\", \"Topic5\", \"Topic5\", \"Topic5\", \"Topic5\", \"Topic5\", \"Topic5\", \"Topic5\", \"Topic5\", \"Topic5\", \"Topic5\", \"Topic5\", \"Topic5\", \"Topic5\", \"Topic5\", \"Topic5\", \"Topic5\", \"Topic5\", \"Topic5\", \"Topic5\", \"Topic5\", \"Topic5\", \"Topic5\", \"Topic5\", \"Topic5\", \"Topic5\", \"Topic5\", \"Topic5\", \"Topic5\", \"Topic5\", \"Topic6\", \"Topic6\", \"Topic6\", \"Topic6\", \"Topic6\", \"Topic6\", \"Topic6\", \"Topic6\", \"Topic6\", \"Topic6\", \"Topic6\", \"Topic6\", \"Topic6\", \"Topic6\", \"Topic6\", \"Topic6\", \"Topic6\", \"Topic6\", \"Topic6\", \"Topic6\", \"Topic6\", \"Topic6\", \"Topic6\", \"Topic6\", \"Topic6\", \"Topic6\", \"Topic6\", \"Topic6\", \"Topic6\", \"Topic6\", \"Topic6\", \"Topic6\", \"Topic6\", \"Topic6\", \"Topic6\", \"Topic6\", \"Topic6\", \"Topic6\", \"Topic6\", \"Topic6\", \"Topic6\", \"Topic6\", \"Topic6\", \"Topic6\", \"Topic6\", \"Topic6\", \"Topic6\", \"Topic6\", \"Topic6\", \"Topic6\", \"Topic6\", \"Topic6\", \"Topic6\", \"Topic6\", \"Topic6\", \"Topic6\", \"Topic6\", \"Topic6\", \"Topic6\", \"Topic6\", \"Topic6\", \"Topic6\", \"Topic6\", \"Topic6\", \"Topic6\", \"Topic6\", \"Topic6\"], \"logprob\": [30.0, 29.0, 28.0, 27.0, 26.0, 25.0, 24.0, 23.0, 22.0, 21.0, 20.0, 19.0, 18.0, 17.0, 16.0, 15.0, 14.0, 13.0, 12.0, 11.0, 10.0, 9.0, 8.0, 7.0, 6.0, 5.0, 4.0, 3.0, 2.0, 1.0, -6.1923, -6.4766, -6.5624, -6.7598, -6.8753, -6.8753, -6.8754, -7.1562, -7.1562, -7.1562, -7.1583, -7.3332, -7.3332, -7.3332, -7.3332, -7.3341, -6.6562, -5.8127, -7.5483, -7.5483, -7.5483, -7.5484, -7.5484, -7.5484, -7.5484, -7.5484, -7.5484, -7.5484, -7.5485, -7.5501, -5.4975, -5.7432, -6.4015, -5.2782, -5.5278, -5.7795, -3.7435, -6.5336, -7.0063, -7.1174, -3.4231, -5.4136, -4.8995, -5.0913, -3.6326, -4.6884, -5.0022, -6.0236, -4.77, -4.8182, -4.7256, -5.2643, -6.0285, -4.5961, -5.4838, -3.9659, -5.4481, -5.1424, -4.9296, -5.4869, -4.6418, -4.631, -4.9359, -4.6349, -4.2457, -4.7677, -5.0711, -5.0274, -4.8009, -4.9768, -5.0802, -4.7081, -4.818, -5.2356, -5.1494, -5.1469, -5.1072, -5.1251, -5.9643, -6.0814, -6.3652, -6.3653, -6.5449, -6.6483, -6.7638, -6.7639, -6.7639, -6.021, -5.9239, -6.8945, -6.8945, -6.8948, -6.8949, -7.0448, -7.0449, -7.0652, -7.2217, -7.2218, -7.2218, -7.2218, -7.2218, -7.2218, -7.2218, -7.2218, -7.2218, -7.2218, -7.2219, -7.2219, -4.5506, -6.2144, -6.6544, -6.7645, -6.5447, -6.1542, -6.2861, -6.0252, -6.3112, -6.6483, -5.5768, -6.8951, -5.3926, -4.7481, -5.5725, -5.4538, -6.0433, -4.2791, -4.0493, -4.8944, -4.7968, -4.8249, -4.6959, -4.6452, -4.695, -5.4551, -5.7516, -4.4553, -5.2318, -4.6517, -4.8424, -5.1149, -4.9421, -5.1909, -4.7564, -5.3383, -5.2407, -5.1258, -5.4549, -5.576, -5.5576, -5.633, -5.5565, -6.1132, -4.7577, -6.591, -6.7215, -6.8718, -6.8718, -6.1131, -5.7503, -7.0487, -7.0487, -7.0487, -7.0487, -7.0487, -7.0487, -7.0487, -7.0603, -7.0603, -3.9274, -6.2138, -6.4753, -7.2639, -7.2639, -7.2639, -7.2639, -7.2639, -7.2639, -7.2639, -7.2639, -7.2639, -7.2639, -6.5913, -6.5908, -6.2778, -4.5678, -6.1117, -6.8492, -6.4946, -3.5176, -3.8871, -5.5083, -5.7562, -3.5122, -5.1228, -4.74, -4.8193, -5.7913, -5.2547, -6.0792, -6.6314, -4.9793, -5.6962, -4.9365, -4.7429, -4.6261, -5.0927, -5.8149, -5.9242, -4.8804, -5.4052, -5.1826, -4.7517, -5.1068, -5.3214, -5.4269, -5.4266, -5.075, -5.0261, -5.1988, -5.359, -5.3148, -5.1813, -5.371, -4.8842, -5.8296, -5.8891, -5.953, -6.0944, -6.353, -6.4565, -6.4565, -6.4565, -6.4565, -5.8892, -6.7027, -6.853, -6.853, -6.8531, -6.8549, -7.0299, -7.03, -7.03, -7.03, -7.0308, -6.0212, -7.2451, -7.2451, -7.2451, -7.2451, -7.2451, -7.2451, -7.2451, -7.2451, -5.4341, -6.5721, -6.7027, -6.7027, -6.7261, -4.4092, -5.1898, -5.9244, -5.3913, -4.1271, -4.4888, -6.5722, -4.5854, -5.9246, -5.0076, -5.5913, -5.2157, -5.2927, -5.01, -4.2247, -5.0057, -4.5912, -4.8013, -4.2824, -4.5214, -5.075, -4.8072, -4.7169, -4.9965, -4.4523, -5.2833, -5.4642, -4.9731, -5.075, -5.2009, -5.5425, -5.3022, -5.488, -5.4451, -5.9431, -5.9431, -6.0953, -6.0956, -6.1811, -6.2749, -6.2749, -6.2749, -6.494, -6.4944, -6.6249, -6.7749, -6.7749, -6.7753, -6.9519, -6.9519, -6.9519, -6.9519, -6.9519, -6.9519, -6.9519, -6.9519, -6.9519, -5.5524, -7.167, -7.167, -7.167, -7.167, -7.167, -7.167, -6.3786, -5.8748, -5.9508, -5.5979, -5.3297, -5.1498, -4.833, -4.1631, -4.2773, -5.8785, -5.6118, -6.4144, -3.8638, -6.4949, -5.2337, -3.7036, -4.7623, -4.5089, -4.4553, -5.4292, -5.1483, -4.8269, -5.3148, -5.1033, -4.7691, -4.6283, -5.0717, -4.6853, -4.6628, -5.0417, -4.9344, -5.1166, -5.4883, -5.0713, -5.0227, -5.2039, -4.9849, -5.3317, -5.4251, -5.3505, -5.3947, -5.8492, -5.9349, -6.1324, -6.2478, -6.3787, -6.3788, -6.5287, -6.5288, -6.5291, -6.5293, -6.5307, -6.5309, -5.8491, -6.7057, -6.7058, -6.7058, -6.7061, -6.7072, -6.9208, -6.9208, -6.9209, -6.9209, -6.9209, -6.9209, -6.9209, -6.9209, -6.9209, -6.921, -6.921, -5.935, -5.6095, -6.5287, -6.5294, -4.5843, -4.5888, -5.7703, -5.6173, -4.261, -4.5469, -6.0588, -5.1962, -5.627, -4.5021, -5.3381, -5.7764, -4.2963, -5.248, -5.0499, -5.9504, -5.7284, -4.6763, -4.9311, -5.7786, -5.0978, -4.8206, -5.1754, -4.9437, -5.4926, -5.1963, -5.4635, -5.6221, -5.5114, -5.6459, -5.6487, -5.6923, -5.7101], \"loglift\": [30.0, 29.0, 28.0, 27.0, 26.0, 25.0, 24.0, 23.0, 22.0, 21.0, 20.0, 19.0, 18.0, 17.0, 16.0, 15.0, 14.0, 13.0, 12.0, 11.0, 10.0, 9.0, 8.0, 7.0, 6.0, 5.0, 4.0, 3.0, 2.0, 1.0, 1.42, 1.4052, 1.3998, 1.3859, 1.3765, 1.3765, 1.3764, 1.349, 1.349, 1.349, 1.3472, 1.3278, 1.3278, 1.3278, 1.3278, 1.3269, 1.3163, 1.3088, 1.2972, 1.2972, 1.2972, 1.2972, 1.2972, 1.2972, 1.2972, 1.2972, 1.2972, 1.2972, 1.2971, 1.2959, 1.2925, 1.2787, 1.2801, 1.2321, 1.2192, 1.2143, 1.0464, 1.2179, 1.2543, 1.2602, 0.9109, 1.0796, 1.019, 0.9961, 0.7592, 0.8637, 0.9132, 1.0757, 0.8065, 0.8144, 0.7627, 0.8551, 1.0511, 0.6556, 0.8961, 0.3848, 0.8426, 0.695, 0.59, 0.8183, 0.4328, 0.4274, 0.5047, 0.2583, 0.0004, 0.2377, 0.4945, 0.4447, 0.1406, 0.3122, 0.3988, -0.1173, -0.2397, 0.5644, 0.1824, 0.0957, -0.1845, -0.1701, 1.5827, 1.577, 1.5618, 1.5617, 1.5494, 1.5415, 1.5315, 1.5315, 1.5315, 1.5274, 1.5201, 1.5189, 1.5189, 1.5187, 1.5186, 1.5025, 1.5024, 1.4813, 1.4802, 1.4802, 1.4802, 1.4802, 1.4802, 1.4802, 1.4801, 1.4801, 1.4801, 1.4801, 1.48, 1.48, 1.3964, 1.4456, 1.4352, 1.4286, 1.3865, 1.3014, 1.3209, 1.2635, 1.3013, 1.3639, 1.1432, 1.4091, 1.0515, 0.8036, 1.0152, 0.9727, 1.1315, 0.3116, 0.1969, 0.5846, 0.4549, 0.4177, 0.3096, 0.2479, 0.2277, 0.7108, 0.8775, -0.0635, 0.4862, 0.0056, 0.0991, 0.3258, 0.1328, 0.2642, -0.4224, 0.1813, -0.0672, -0.775, -0.3803, -0.024, -0.2209, 0.1188, -0.6014, 1.7658, 1.7338, 1.7295, 1.7166, 1.6997, 1.6997, 1.6968, 1.6781, 1.6767, 1.6767, 1.6767, 1.6767, 1.6767, 1.6767, 1.6767, 1.6649, 1.6649, 1.6625, 1.6581, 1.6445, 1.6436, 1.6436, 1.6436, 1.6436, 1.6436, 1.6436, 1.6435, 1.6435, 1.6435, 1.6435, 1.6289, 1.6165, 1.6028, 1.466, 1.5114, 1.5944, 1.5333, 1.0607, 1.068, 1.3063, 1.356, 0.8386, 1.0804, 0.8257, 0.8544, 1.1918, 0.818, 1.2145, 1.472, 0.4758, 0.9073, 0.4242, 0.1797, 0.0313, 0.3956, 0.9254, 1.0152, 0.0127, 0.5006, 0.1492, -0.5056, -0.1013, 0.189, 0.2929, 0.2506, -0.4843, -0.6343, -0.2572, -0.07, -0.2402, -0.8473, -0.0459, 1.8254, 1.7961, 1.7936, 1.7903, 1.7824, 1.7648, 1.7566, 1.7566, 1.7566, 1.7565, 1.7366, 1.7334, 1.7165, 1.7165, 1.7164, 1.7145, 1.6935, 1.6935, 1.6935, 1.6935, 1.6929, 1.6678, 1.6605, 1.6605, 1.6605, 1.6605, 1.6605, 1.6605, 1.6605, 1.6605, 1.6156, 1.6385, 1.6161, 1.6073, 1.5927, 1.2543, 1.3478, 1.447, 1.2749, 0.9314, 1.0237, 1.5482, 0.7465, 1.2577, 0.842, 1.1012, 0.9232, 0.9556, 0.8045, 0.3661, 0.746, 0.4837, 0.5355, 0.0516, 0.136, 0.5987, 0.3664, 0.2246, 0.4586, -0.2061, 0.4348, 0.7424, -0.1831, -0.1523, 0.1242, 0.6374, -0.409, 0.2274, -0.8667, 1.8699, 1.8699, 1.8607, 1.8604, 1.8549, 1.848, 1.848, 1.848, 1.8294, 1.829, 1.8161, 1.7994, 1.7993, 1.799, 1.7763, 1.7763, 1.7763, 1.7763, 1.7763, 1.7763, 1.7762, 1.7762, 1.7762, 1.7497, 1.7431, 1.743, 1.743, 1.743, 1.743, 1.743, 1.7415, 1.6944, 1.673, 1.5956, 1.4946, 1.4624, 1.4074, 1.2308, 1.2331, 1.5465, 1.4669, 1.6209, 0.7936, 1.6275, 1.1478, 0.5425, 0.9326, 0.6646, 0.6193, 1.1164, 0.8914, 0.6452, 0.9421, 0.7341, 0.2363, -0.0375, 0.4407, -0.107, -0.271, 0.201, -0.0413, 0.2201, 0.8761, -0.1163, -0.2328, 0.085, -0.6341, -0.0066, 0.3893, -1.0165, 2.177, 2.1516, 2.1455, 2.1294, 2.1185, 2.1047, 2.1046, 2.087, 2.087, 2.0867, 2.0864, 2.085, 2.0847, 2.074, 2.0627, 2.0627, 2.0626, 2.0623, 2.0612, 2.0278, 2.0278, 2.0278, 2.0278, 2.0278, 2.0278, 2.0278, 2.0277, 2.0277, 2.0277, 2.0277, 1.9124, 1.7635, 1.9481, 1.9478, 1.2652, 1.153, 1.5952, 1.4499, 0.8139, 0.7783, 1.5815, 1.04, 1.3093, 0.4206, 0.9862, 1.3232, 0.0545, 0.8534, 0.6654, 1.4001, 1.1119, -0.2844, 0.0104, 1.1094, 0.1911, -0.2422, 0.1853, -0.6975, 0.2272, -0.6055, 0.0881, 0.5437, -0.0232, 0.0278, -0.312, 0.1078, -0.755]}, \"token.table\": {\"Topic\": [4, 6, 1, 3, 1, 4, 3, 1, 2, 3, 4, 5, 6, 2, 2, 5, 1, 3, 5, 3, 4, 1, 2, 3, 4, 5, 6, 5, 1, 3, 1, 2, 3, 4, 5, 1, 2, 3, 4, 5, 1, 2, 3, 4, 5, 6, 6, 6, 2, 2, 3, 4, 6, 3, 3, 2, 1, 2, 3, 4, 5, 6, 2, 5, 5, 4, 1, 2, 3, 4, 5, 6, 6, 3, 6, 1, 1, 2, 3, 4, 5, 6, 1, 2, 3, 4, 5, 6, 1, 4, 5, 1, 2, 4, 5, 2, 5, 6, 1, 2, 3, 4, 5, 6, 2, 3, 4, 5, 3, 6, 2, 3, 4, 5, 6, 6, 1, 2, 3, 4, 5, 6, 3, 2, 1, 2, 3, 4, 5, 6, 3, 4, 4, 1, 2, 3, 4, 5, 6, 4, 2, 5, 6, 3, 2, 3, 6, 2, 3, 5, 6, 1, 1, 3, 3, 1, 4, 1, 5, 5, 1, 2, 3, 4, 5, 6, 4, 1, 2, 3, 4, 6, 5, 1, 2, 3, 4, 5, 6, 4, 4, 3, 1, 2, 3, 6, 1, 2, 3, 5, 3, 6, 2, 5, 1, 5, 6, 3, 4, 1, 2, 3, 4, 5, 6, 1, 2, 3, 4, 5, 6, 1, 2, 3, 4, 5, 6, 1, 2, 3, 4, 5, 6, 1, 2, 3, 4, 5, 6, 1, 2, 4, 5, 6, 1, 6, 4, 5, 2, 3, 4, 5, 6, 2, 1, 1, 2, 3, 4, 5, 6, 5, 1, 2, 3, 5, 1, 2, 3, 4, 5, 1, 2, 3, 4, 5, 6, 2, 2, 5, 1, 2, 3, 4, 5, 6, 2, 3, 4, 5, 6, 1, 2, 3, 5, 6, 1, 2, 3, 4, 5, 6, 3, 3, 4, 5, 6, 6, 1, 2, 3, 4, 6, 3, 5, 1, 2, 3, 4, 5, 6, 2, 3, 4, 5, 1, 3, 5, 2, 6, 1, 2, 3, 4, 5, 6, 1, 2, 3, 4, 5, 6, 1, 2, 3, 4, 5, 6, 2, 3, 4, 5, 6, 2, 2, 5, 1, 2, 3, 4, 5, 6, 1, 2, 3, 4, 5, 6, 1, 2, 3, 4, 5, 6, 4, 6, 1, 2, 3, 5, 6, 1, 3, 6, 4, 1, 6, 6, 6, 4, 2, 3, 6, 1, 2, 3, 4, 5, 6, 1, 2, 3, 4, 5, 6, 3, 4, 5, 2, 3, 5, 6, 1, 3, 1, 2, 3, 4, 5, 6, 5, 3, 1, 2, 3, 4, 5, 6, 4, 1, 2, 3, 4, 6, 1, 2, 3, 4, 5, 6, 4, 5, 6, 1, 2, 3, 4, 5, 6, 4, 6, 1, 2, 3, 4, 5, 6, 5, 1, 2, 3, 4, 5, 1, 2, 3, 4, 5, 6, 1, 2, 3, 4, 6, 1, 4, 5, 6, 1, 2, 3, 4, 5, 6, 1, 4, 1, 2, 3, 4, 5, 1, 3, 5, 6, 4, 6, 1, 4, 5, 6, 2, 1, 2, 3, 4, 5, 6, 6, 3, 4, 6, 4, 2, 3, 1, 2, 3, 4, 5, 6, 1, 5, 5, 4, 1, 2, 1, 2, 3, 4, 5, 6, 1, 3, 4, 5, 1, 2, 3, 4, 5, 4, 1, 2, 3, 4, 5, 1, 2, 3, 4, 6, 1, 1, 2, 4, 5, 6, 6, 1, 2, 3, 4, 5, 6, 5, 1, 2, 3, 4, 5, 6, 1, 2, 3, 4, 5, 6, 4, 1, 2, 3, 4, 5, 6, 1, 4, 1, 1, 2, 5, 1, 2, 5, 1, 2, 1, 2, 3, 4, 6, 1, 3, 4, 1, 2, 3, 4, 5, 6, 5, 1, 2, 2, 3, 4, 2, 3, 6, 6, 1, 3, 5, 6, 4, 3, 4, 2, 1, 1, 2, 4, 5, 6, 3, 5, 2, 4, 6, 3, 1, 5, 6, 6, 3, 1, 2, 3, 4, 5, 1, 3, 4, 5, 6, 3, 1, 4, 2, 1, 2, 4, 5, 6, 4, 1, 3, 1, 1, 2, 3, 4, 5, 1, 2, 3, 4, 5, 6, 2, 3, 4, 5, 6, 3, 6, 1, 2, 6, 1, 2, 3, 4, 1, 2, 2, 1, 2, 3, 4, 6, 2, 5, 1, 2, 3, 4, 5, 6, 4, 5, 3, 2, 3, 4, 5, 6, 1, 3, 6, 6, 1, 2, 3, 4, 6, 2, 4, 6, 2, 3, 4, 2, 1, 2, 3, 4, 5, 6, 1, 3, 4, 1, 4, 4, 4, 1, 3, 4, 5, 6, 5, 1, 2, 3, 4, 5, 6, 6, 5, 3, 2, 4, 1, 2, 3, 4, 5, 6, 1, 2, 3, 4, 5, 6, 2, 2, 2, 1, 2, 3, 4, 5, 1, 2, 3, 4, 5, 6, 1, 2, 3, 4, 5, 6, 2, 1, 2, 3, 4, 5, 1, 5, 6, 6, 5, 1, 1, 2, 3, 4, 2, 1, 2, 3, 4, 5, 5, 1, 2, 3, 4, 5, 6, 1, 2, 3, 4, 5, 6, 2, 4, 1, 2, 3, 4, 5, 6, 1, 2, 3, 4, 5, 6, 1, 1, 2, 3, 5, 6, 1, 2, 3, 4, 5, 6, 1, 2, 3, 4, 5, 6, 1, 2, 5, 6, 1, 2, 3, 4, 5, 6, 2, 3, 5, 5, 1, 2, 3, 4, 5, 6, 2, 3, 6, 1, 3, 4, 5, 2, 3, 4, 5, 6, 1, 2, 3, 4, 5, 6, 1, 2, 3, 4, 5, 3, 4, 5, 5, 1, 2, 3, 4, 5, 6, 1, 3, 6, 1, 2, 3, 4, 5, 6, 1, 3, 4, 5, 1], \"Freq\": [0.7659760711524616, 0.7195498407504666, 0.11428298629581521, 0.7999809040707065, 0.8129486626818632, 0.13549144378031053, 0.9206478174474946, 0.49734424786050674, 0.060284151255819, 0.241136605023276, 0.0301420756279095, 0.06781967016279637, 0.10549726469768325, 0.9497775859983644, 0.9370218244921156, 0.7695267303222421, 0.8382262018344612, 0.03492609174310255, 0.10477827522930765, 0.8376462099248996, 0.10470577624061245, 0.2238076140162766, 0.04795877443205927, 0.031972516288039515, 0.09591754886411855, 0.5914915513287311, 0.015986258144019758, 0.8247290584517577, 0.8994456645053177, 0.9206472372878985, 0.34340862466787286, 0.35087402955195707, 0.06718864395675773, 0.1269118830294313, 0.1119810732612629, 0.2086845340511575, 0.02318717045012861, 0.09274868180051445, 0.02318717045012861, 0.6260536021534725, 0.3382407983653565, 0.0893922109965585, 0.37206487820189216, 0.0072480171078290676, 0.07731218248351006, 0.11355226802265539, 0.9653942600461436, 0.8011667318749034, 0.9447768944623771, 0.6935174651647931, 0.06304704228770847, 0.06304704228770847, 0.12609408457541693, 0.7674271108560144, 0.9206472602771398, 0.9241186905925053, 0.12570387824871232, 0.08080963601702934, 0.1526404235877221, 0.5566886036728688, 0.05387309067801956, 0.035915393785346375, 0.8736032915536978, 0.923061022634272, 0.7695273071622858, 0.8208304185784613, 0.09273585309298661, 0.1545597551549777, 0.27820755927895985, 0.32457548582545315, 0.06182390206199108, 0.07727987757748885, 0.8595755188404258, 0.7237203030591672, 0.14474406061183345, 0.9236693026586561, 0.6310759370763346, 0.06859521055177549, 0.09603329477248569, 0.17834754743461628, 0.027438084220710198, 0.013719042110355099, 0.3633145529265224, 0.1334624888301511, 0.09638957526622025, 0.11863332340457876, 0.2743395603730884, 0.014829165425572345, 0.7968702807203336, 0.1448855055855152, 0.0724427527927576, 0.9558461956691916, 0.9186570024301358, 0.9189767356094346, 0.7695267702553771, 0.9370280060508603, 0.769526776139897, 0.8596500786899479, 0.2660763189984353, 0.2180953434413404, 0.12213339232715063, 0.1962858090972064, 0.08723813737653617, 0.1090476717206702, 0.257979700896848, 0.05732882242152178, 0.02866441121076089, 0.6592814578475005, 0.7674261910354487, 0.7195489209813712, 0.7524388092967904, 0.06270323410806587, 0.1881097023241976, 0.769526107551934, 0.7195558606524449, 0.7195641351891896, 0.10430356945645268, 0.3223928510472174, 0.1611964255236087, 0.2465357096243427, 0.10430356945645268, 0.07585714142287468, 0.9206485789609983, 0.9370220662381904, 0.40140992427734706, 0.13380330809244903, 0.16468099457532187, 0.03087768648287285, 0.14409587025340664, 0.1235107459314914, 0.844842090332199, 0.07680382639383627, 0.7659805123642476, 0.11162049445712124, 0.19697734315962573, 0.16743074168568187, 0.18056256456299025, 0.3217296604940553, 0.02298069003528967, 0.9033101453367124, 0.6840767054820069, 0.1368153410964014, 0.1368153410964014, 0.863666682164706, 0.08243531335507572, 0.8243531335507571, 0.08243531335507572, 0.08293666417323048, 0.04146833208661524, 0.7049616454724591, 0.12440499625984572, 0.8654036613831749, 0.8657913615649184, 0.920647206711722, 0.7674270177163137, 0.8995305249524472, 0.9195635635361233, 0.865403895026697, 0.7695255512339986, 0.898383731954533, 0.49338846160259586, 0.18376202906627295, 0.08558779435963398, 0.04531118524921799, 0.11076067505364397, 0.08055321822083199, 0.9195639572925274, 0.04583785814341326, 0.04583785814341326, 0.5500542977209592, 0.3208650070038928, 0.7195665408015749, 0.9778153840005435, 0.5185044978930223, 0.10699299162871889, 0.09876276150343281, 0.05761161087700248, 0.12345345187929102, 0.09053253137814675, 0.9189774153656619, 0.9189766723688757, 0.7674269906938171, 0.8654038985631591, 0.05244671305389697, 0.8391474088623515, 0.05244671305389697, 0.8309279045971326, 0.05539519363980884, 0.02769759681990442, 0.08309279045971327, 0.1496361269751605, 0.7481806348758024, 0.10474071723599016, 0.8379257378879212, 0.6660314142993768, 0.1110052357165628, 0.2220104714331256, 0.12776062010888423, 0.7665637206533054, 0.20384428784388453, 0.07412519557959438, 0.12971909226429015, 0.13898474171173944, 0.37062597789797186, 0.08339084502704366, 0.6372842844304867, 0.03476096096893564, 0.05793493494822607, 0.06952192193787128, 0.13904384387574256, 0.05793493494822607, 0.3808043715969882, 0.27302954944689717, 0.13651477472344858, 0.15088475101012738, 0.021554964430018198, 0.043109928860036395, 0.41986170008810464, 0.23325650004894702, 0.14772911669766645, 0.09330260001957881, 0.07775216668298233, 0.031100866673192937, 0.40780050407706653, 0.058257214868152364, 0.08738582230222854, 0.029128607434076182, 0.058257214868152364, 0.320414681774838, 0.07309225959993326, 0.14618451919986652, 0.2558229085997664, 0.03654612979996663, 0.47509968739956615, 0.9036592984870828, 0.09036592984870828, 0.919563985194337, 0.7695272841212026, 0.6104277788308963, 0.16278074102157233, 0.08139037051078617, 0.04069518525539308, 0.12208555576617926, 0.9370218298286076, 0.8654034052753002, 0.40062309515603317, 0.07418946206593206, 0.11870313930549131, 0.14837892413186413, 0.07418946206593206, 0.1928926013714234, 0.9245488359902491, 0.22513425456927702, 0.2894583273033562, 0.45026850913855404, 0.03216203636703958, 0.26160299693229744, 0.22236254739245281, 0.13080149846614872, 0.026160299693229742, 0.3531640458586015, 0.3745086321691362, 0.07327342803309186, 0.36636714016545935, 0.04884895202206124, 0.04070746001838437, 0.08955641204044561, 0.9370217399380939, 0.7887064944225924, 0.11267235634608463, 0.5749612991118909, 0.12829714938860376, 0.06890032096795387, 0.1663111195778197, 0.0522692090101719, 0.009503492547303982, 0.3666009030432738, 0.030550075253606153, 0.24440060202884922, 0.030550075253606153, 0.33605082778966766, 0.09050135094391096, 0.5430081056634658, 0.02262533773597774, 0.31675472830368834, 0.02262533773597774, 0.15949220043175016, 0.22428590685714866, 0.09968262526984385, 0.2541906944381018, 0.014952393790476578, 0.24422243191111742, 0.9206471204860692, 0.09923785846434023, 0.14885678769651037, 0.09923785846434023, 0.6450460800182115, 0.8595845957317846, 0.16029505904450428, 0.32059011808900856, 0.032059011808900854, 0.09617703542670256, 0.4167671535157111, 0.905215200921714, 0.9230608182908604, 0.22881121066011015, 0.20593008959409914, 0.26313289225912667, 0.17160840799508262, 0.045762242132022034, 0.10296504479704957, 0.05004903635015916, 0.8508336179527057, 0.05004903635015916, 0.05004903635015916, 0.052269690164496854, 0.20907876065798742, 0.6795059721384591, 0.7554787439764268, 0.12591312399607113, 0.01625273208585914, 0.2762964454596054, 0.01625273208585914, 0.14627458877273228, 0.3738128379747603, 0.16252732085859142, 0.10934265824631761, 0.25513286924140777, 0.25513286924140777, 0.24784335869165328, 0.0874741265970541, 0.03644755274877254, 0.3537739871795424, 0.13453376977250203, 0.1245683053449093, 0.07972371542074194, 0.26906753954500406, 0.034879125496574605, 0.1640234717121712, 0.0410058679280428, 0.5740821509925992, 0.1640234717121712, 0.0410058679280428, 0.9633616608271687, 0.9370681319575036, 0.9452833373735877, 0.11279227988675436, 0.09667909704578945, 0.1933581940915789, 0.4189427538650876, 0.11279227988675436, 0.06445273136385964, 0.18528427718735582, 0.10036231680981773, 0.030880712864559304, 0.4400501583199701, 0.22388516826805496, 0.015440356432279652, 0.16860228882138362, 0.44157742310362375, 0.06422944336052709, 0.0562007629404612, 0.15254492798125183, 0.12043020630098829, 0.9405177205736223, 0.8011149643044634, 0.3471037112930643, 0.043387963911633035, 0.10846990977908258, 0.4338796391163303, 0.06508194586744954, 0.8654034967015651, 0.8224124611137231, 0.7195487931320048, 0.8208135660244557, 0.955849640902318, 0.9036762343872511, 0.7195484486852478, 0.9059884903635853, 0.9189768455037545, 0.9370231501967334, 0.7673074080933104, 0.9379148352440095, 0.4594309199491459, 0.12821327998580817, 0.03205331999645204, 0.06410663999290409, 0.29916431996688575, 0.010684439998817347, 0.0970331007697699, 0.24258275192442474, 0.04851655038488495, 0.04851655038488495, 0.14554965115465485, 0.43664895346396454, 0.09622230583022644, 0.09622230583022644, 0.7697784466418115, 0.14773313871099678, 0.09848875914066452, 0.19697751828132903, 0.5416881752736549, 0.8654428821091674, 0.9206485396649063, 0.25345609130867097, 0.3006107129474935, 0.094309243277645, 0.11788655409705626, 0.1768298311455844, 0.06483760475338095, 0.9628877744476462, 0.7674276444321797, 0.1945329783314928, 0.10610889727172335, 0.4686476296167781, 0.0486332445828732, 0.1282149175366657, 0.05305444863586167, 0.9189774153656619, 0.5287222148735036, 0.15349999786650104, 0.20466666382200138, 0.017055555318500115, 0.08527777659250058, 0.3039658588422767, 0.15198292942113836, 0.2184754610428864, 0.12348613015467493, 0.07599146471056918, 0.13298506324349607, 0.7659755105898164, 0.14969240527240893, 0.7484620263620446, 0.22665977654914396, 0.15542384677655585, 0.08418791700396776, 0.27199173185897274, 0.18132782123931515, 0.07771192338827793, 0.08601465715315534, 0.8601465715315535, 0.23066151181845604, 0.23936571981160534, 0.09792233992292945, 0.12838706789895196, 0.2502459798030419, 0.05440129995718303, 0.9452834217607009, 0.09102223232505889, 0.02600635209287397, 0.7021715065075971, 0.0780190562786219, 0.10402540837149588, 0.27427660428478207, 0.10285372660679327, 0.04799840574983687, 0.020570745321358656, 0.5005548028197273, 0.054855320856956415, 0.2771004342345163, 0.14177231518975253, 0.1868816882046738, 0.33509819953941505, 0.06444196144988751, 0.14684440254702083, 0.5629035430969132, 0.07342220127351042, 0.1957925367293611, 0.29214741729151156, 0.09738247243050385, 0.20867672663679396, 0.08347069065471759, 0.06955890887893132, 0.25041207196415277, 0.12663723049740994, 0.7598233829844597, 0.6793452359893722, 0.12351731563443133, 0.02058621927240522, 0.061758657817215665, 0.1029310963620261, 0.14787525375837549, 0.18484406719796934, 0.6284698284730957, 0.03696881343959387, 0.8166918363270812, 0.13611530605451355, 0.07182216114297016, 0.7900437725726717, 0.07182216114297016, 0.07182216114297016, 0.937020982722199, 0.19261750452405632, 0.24826256138656147, 0.19261750452405632, 0.13697244766155117, 0.06848622383077559, 0.16693517058751547, 0.7195499971066338, 0.7673072632864486, 0.9189768647164925, 0.8597172854112732, 0.9189768697845034, 0.8427130465661392, 0.9206466828517567, 0.5379585535007765, 0.03362240959379853, 0.10086722878139559, 0.20173445756279118, 0.050433614390697795, 0.06724481918759706, 0.9558808006684366, 0.8984651052203141, 0.9230609532297677, 0.9582470746425008, 0.9236678611676573, 0.9370216682338843, 0.5775703218990406, 0.1963739094456738, 0.08085984506586567, 0.1155140643798081, 0.023102812875961623, 0.8011622767392229, 0.7811116694034148, 0.03396137693058326, 0.10188413079174977, 0.10188413079174977, 0.23108953859596504, 0.5199514618409213, 0.15405969239731004, 0.019257461549663756, 0.05777238464899126, 0.9341585938870447, 0.07074354806325231, 0.47162365375501536, 0.14148709612650462, 0.14148709612650462, 0.16506827881425537, 0.038225864069406, 0.19112932034702998, 0.611613825110496, 0.038225864069406, 0.076451728138812, 0.8654052337108861, 0.06456023282515135, 0.23672085369222162, 0.6025621730347459, 0.043040155216767566, 0.043040155216767566, 0.7195499460485308, 0.5223186826807995, 0.15669560480423983, 0.1044637365361599, 0.06093717964609327, 0.11316904791417322, 0.034821245512053296, 0.9230611519231103, 0.2708925304971024, 0.1956446053590184, 0.075247925138084, 0.300991700552336, 0.075247925138084, 0.0902975101657008, 0.19802768830306725, 0.18152538094447832, 0.06600922943435575, 0.22553153390071548, 0.2805392250960119, 0.044006152956237166, 0.9189760988416847, 0.28219718779582287, 0.10013448599206617, 0.20937210707432016, 0.17295956671356885, 0.18206270180375667, 0.045515675450939166, 0.8654041463408029, 0.8619526418996385, 0.8994452860684126, 0.8106577790202605, 0.06755481491835504, 0.06755481491835504, 0.060375363365876004, 0.12075072673175201, 0.784879723756388, 0.9236686999475368, 0.8736037008712431, 0.1632770646934507, 0.05442568823115024, 0.38097981761805166, 0.29027033723280127, 0.10885137646230048, 0.8654037399803813, 0.06388935901105114, 0.894451026154716, 0.14839754311497266, 0.40067336641042617, 0.1780770517379672, 0.1335577888034754, 0.10387828018048086, 0.014839754311497266, 0.8247296907367585, 0.05326583484340623, 0.905519192337906, 0.7804092404515429, 0.0867121378279492, 0.0867121378279492, 0.19102651673718166, 0.7641060669487266, 0.9295898418199664, 0.8596508208750537, 0.23519219202436525, 0.5375821531985492, 0.10079665372472796, 0.1343955382996373, 0.971151425611826, 0.12776054541965998, 0.7665632725179599, 0.8426965048039637, 0.8994450288206148, 0.08345437164407737, 0.7987775571647405, 0.047688212368044214, 0.05961026546005527, 0.011922053092011053, 0.20997496839220925, 0.7349123893727324, 0.8426323370128307, 0.23921012121032562, 0.7176303636309769, 0.8224124270759605, 0.1275286983665961, 0.7651721901995766, 0.06376434918329806, 0.8011556976366527, 0.9206467986307146, 0.5461617020866284, 0.19276295367763355, 0.03212715894627226, 0.0883496871022487, 0.14457221525822517, 0.7956777203880943, 0.06281666213590217, 0.04187777475726812, 0.04187777475726812, 0.06281666213590217, 0.7674263790207044, 0.8654040737789951, 0.8207922930534731, 0.9498071580321301, 0.0540749555766846, 0.09733492003803228, 0.3677096979214553, 0.09733492003803228, 0.3785246890367922, 0.7661133142510671, 0.20598993272238056, 0.7209647645283319, 0.9455180110750702, 0.09908203726451853, 0.09908203726451853, 0.09908203726451853, 0.6935742608516298, 0.7695253850767992, 0.2586895666990835, 0.13929438206873726, 0.24542343507348946, 0.13266131625594024, 0.09286292137915816, 0.13266131625594024, 0.22612130529245103, 0.050249178953878, 0.4773672000618411, 0.050249178953878, 0.17587212633857302, 0.8103570711822918, 0.11576529588318454, 0.0661131088210408, 0.8594704146735302, 0.0661131088210408, 0.25283995088342504, 0.1379127004818682, 0.39075265136529325, 0.20686905072280232, 0.10159315399074137, 0.812745231925931, 0.8983699181582956, 0.8994454079769563, 0.22648380589061662, 0.22648380589061662, 0.15098920392707774, 0.41522031079946375, 0.8021317827580814, 0.9452833371309709, 0.5382516374892308, 0.08498710065619434, 0.09915161743222672, 0.05665806710412956, 0.19830323486445345, 0.01416451677603239, 0.9195642543643443, 0.9245488165234701, 0.8957991730320988, 0.6198499707449173, 0.07748124634311467, 0.12913541057185776, 0.12913541057185776, 0.05165416422874311, 0.9239411041094783, 0.767426585906945, 0.7195488099413254, 0.968403984333493, 0.7695010330755939, 0.02653451838191703, 0.10613807352766812, 0.02653451838191703, 0.05306903676383406, 0.10477739416605843, 0.733441759162409, 0.10477739416605843, 0.19114475542553358, 0.7008641032269565, 0.06371491847517785, 0.9370435889661073, 0.13000561921625056, 0.14445068801805616, 0.14445068801805616, 0.4044619264505573, 0.13000561921625056, 0.05778027520722247, 0.020548933895807336, 0.9041530914155228, 0.06164680168742201, 0.9078202386494619, 0.9468611062526444, 0.8208133862777653, 0.765976642129938, 0.4693777871747123, 0.052153087463856926, 0.15645926239157076, 0.017384362487952307, 0.29553416229518925, 0.9777663665133562, 0.2929251827570764, 0.26967715237953066, 0.1441377883407836, 0.09764172758569213, 0.18598424302036598, 0.013948818226527448, 0.9036983760553297, 0.8247707034970331, 0.9206477551587484, 0.886994155739822, 0.05913294371598813, 0.2304434734454252, 0.05120966076565005, 0.15362898229695016, 0.17923381267977517, 0.14722777470124387, 0.23684468104113146, 0.3148683173186766, 0.14199943722214828, 0.14817332579702427, 0.1049561057728922, 0.1605211029467763, 0.12965166007239626, 0.9370208831925692, 0.8736146253375512, 0.8426415293553733, 0.1317801899213374, 0.2372043418584073, 0.39534056976401216, 0.18449226588987233, 0.026356037984267475, 0.18200548970431366, 0.07280219588172546, 0.4641139987459998, 0.066735346224915, 0.13043726762142477, 0.08493589519534636, 0.655938826229945, 0.08246088101176452, 0.011244665592513345, 0.13118776524598902, 0.11619487778930455, 0.003748221864171115, 0.9370260298527382, 0.27144433066058865, 0.25334804194988275, 0.018096288710705913, 0.09048144355352955, 0.3438294855034123, 0.8438167647933306, 0.12054525211333295, 0.8012274642915861, 0.7195632369972762, 0.9230607744900446, 0.8944565473224336, 0.6792667749442771, 0.03773704305245984, 0.11321112915737953, 0.15094817220983936, 0.9633451105167248, 0.2610488397780546, 0.08353562872897746, 0.08353562872897746, 0.3550264220981542, 0.21928102541356584, 0.923061178183583, 0.2992216753592224, 0.2535072527348967, 0.16207840748624547, 0.10389641505528555, 0.14129912447518836, 0.04155856602211422, 0.20578328154244463, 0.2672111267789953, 0.09828455237848101, 0.22728302737523734, 0.14128404404406644, 0.058356452974723104, 0.114659033638489, 0.8026132354694231, 0.07701663405909977, 0.24645322898911926, 0.47750313116641857, 0.015403326811819953, 0.15403326811819953, 0.015403326811819953, 0.16507201278155936, 0.13594165758481358, 0.06797082879240679, 0.14565177598372886, 0.13594165758481358, 0.33985414396203395, 0.9670978953226435, 0.19103441238461022, 0.2865516185769153, 0.06367813746153674, 0.14327580928845765, 0.3024711529422995, 0.446080143381496, 0.3092822327445039, 0.10705923441155904, 0.06542508769595275, 0.05947735245086613, 0.01784320573525984, 0.5697781313455927, 0.1470395177666046, 0.0735197588833023, 0.11027963832495344, 0.0735197588833023, 0.05513981916247672, 0.19447557344465352, 0.1296503822964357, 0.1296503822964357, 0.5186015291857428, 0.3530098165939257, 0.03432039883552056, 0.08334954002912136, 0.4020389577875265, 0.0980582823872016, 0.02941748471616048, 0.752204501648154, 0.09402556270601925, 0.09402556270601925, 0.8662032991338752, 0.13096931931758723, 0.12326524171067035, 0.19260194017292243, 0.038520388034584484, 0.5007650444495982, 0.015408155213833794, 0.7005792296839892, 0.2155628399027659, 0.053890709975691474, 0.19871154212807696, 0.5961346263842309, 0.1135494526446154, 0.08516208948346154, 0.5683916507122718, 0.03919942418705323, 0.07839884837410646, 0.2939956814028992, 0.019599712093526615, 0.22982255950863778, 0.0811138445324604, 0.3650123003960718, 0.09463281862120379, 0.1622276890649208, 0.067594870443717, 0.12886787862680957, 0.07363878778674832, 0.25773575725361914, 0.07363878778674832, 0.460242423667177, 0.09244443716895008, 0.04622221858447504, 0.8319999345205508, 0.769527209081611, 0.17967797189977275, 0.18913470726291867, 0.1985914426260646, 0.1985914426260646, 0.01891347072629187, 0.20804817798921055, 0.08171420551318284, 0.8171420551318285, 0.8596248380568374, 0.1274886372181847, 0.22555681969371139, 0.14710227371329004, 0.33343182041679076, 0.11768181897063204, 0.049034091237763346, 0.8489076661219919, 0.03858671209645417, 0.03858671209645417, 0.03858671209645417, 0.8654042398145895], \"Term\": [\"aa\", \"aah\", \"ace\", \"ace\", \"admit\", \"admit\", \"ahh\", \"ain\", \"ain\", \"ain\", \"ain\", \"ain\", \"ain\", \"airplane\", \"alice\", \"amour\", \"anymore\", \"anymore\", \"anymore\", \"aquarius\", \"aquarius\", \"arm\", \"arm\", \"arm\", \"arm\", \"arm\", \"arm\", \"aunt\", \"ause\", \"automobile\", \"away\", \"away\", \"away\", \"away\", \"away\", \"babe\", \"babe\", \"babe\", \"babe\", \"babe\", \"baby\", \"baby\", \"baby\", \"baby\", \"baby\", \"baby\", \"backwards\", \"bailey\", \"balloon\", \"beautiful\", \"beautiful\", \"beautiful\", \"beautiful\", \"beauty\", \"bedazzle\", \"bee\", \"blue\", \"blue\", \"blue\", \"blue\", \"blue\", \"blue\", \"boiler\", \"bold\", \"boogie\", \"border\", \"bring\", \"bring\", \"bring\", \"bring\", \"bring\", \"bring\", \"british\", \"butter\", \"butter\", \"b\\u00e9same\", \"care\", \"care\", \"care\", \"care\", \"care\", \"care\", \"cause\", \"cause\", \"cause\", \"cause\", \"cause\", \"cause\", \"chain\", \"chain\", \"chain\", \"changin\", \"chapel\", \"chart\", \"cherie\", \"chill\", \"choir\", \"choke\", \"chorus\", \"chorus\", \"chorus\", \"chorus\", \"chorus\", \"chorus\", \"christmas\", \"christmas\", \"christmas\", \"christmas\", \"claim\", \"classify\", \"clear\", \"clear\", \"clear\", \"clover\", \"coffee\", \"comb\", \"come\", \"come\", \"come\", \"come\", \"come\", \"come\", \"crow\", \"crown\", \"cry\", \"cry\", \"cry\", \"cry\", \"cry\", \"cry\", \"dah\", \"dah\", \"dam\", \"day\", \"day\", \"day\", \"day\", \"day\", \"day\", \"de\", \"dead\", \"dead\", \"dead\", \"deaf\", \"deal\", \"deal\", \"deal\", \"dear\", \"dear\", \"dear\", \"dear\", \"debt\", \"dee\", \"deuce\", \"diddley\", \"discover\", \"dislike\", \"dissatisfied\", \"dixie\", \"dolly\", \"don\", \"don\", \"don\", \"don\", \"don\", \"don\", \"donkey\", \"doo\", \"doo\", \"doo\", \"doo\", \"dou\", \"dozen\", \"dream\", \"dream\", \"dream\", \"dream\", \"dream\", \"dream\", \"drinker\", \"du\", \"dumb\", \"durability\", \"dust\", \"dust\", \"dust\", \"easy\", \"easy\", \"easy\", \"easy\", \"effort\", \"effort\", \"eighteen\", \"eighteen\", \"em\", \"em\", \"em\", \"ev\", \"ev\", \"eye\", \"eye\", \"eye\", \"eye\", \"eye\", \"eye\", \"fall\", \"fall\", \"fall\", \"fall\", \"fall\", \"fall\", \"feel\", \"feel\", \"feel\", \"feel\", \"feel\", \"feel\", \"find\", \"find\", \"find\", \"find\", \"find\", \"find\", \"fine\", \"fine\", \"fine\", \"fine\", \"fine\", \"fine\", \"fire\", \"fire\", \"fire\", \"fire\", \"fire\", \"firm\", \"firm\", \"fishie\", \"flu\", \"fly\", \"fly\", \"fly\", \"fly\", \"fly\", \"fraulein\", \"freak\", \"friend\", \"friend\", \"friend\", \"friend\", \"friend\", \"friend\", \"frosty\", \"game\", \"game\", \"game\", \"game\", \"get\", \"get\", \"get\", \"get\", \"get\", \"girl\", \"girl\", \"girl\", \"girl\", \"girl\", \"girl\", \"glaci\", \"glory\", \"glory\", \"go\", \"go\", \"go\", \"go\", \"go\", \"go\", \"god\", \"god\", \"god\", \"god\", \"god\", \"goin\", \"goin\", \"goin\", \"goin\", \"goin\", \"good\", \"good\", \"good\", \"good\", \"good\", \"good\", \"goofy\", \"great\", \"great\", \"great\", \"great\", \"gulf\", \"guy\", \"guy\", \"guy\", \"guy\", \"guy\", \"halloween\", \"hammer\", \"hand\", \"hand\", \"hand\", \"hand\", \"hand\", \"hand\", \"happy\", \"happy\", \"happy\", \"happy\", \"hate\", \"hate\", \"hate\", \"havin\", \"havin\", \"head\", \"head\", \"head\", \"head\", \"head\", \"head\", \"hear\", \"hear\", \"hear\", \"hear\", \"hear\", \"hear\", \"heart\", \"heart\", \"heart\", \"heart\", \"heart\", \"heart\", \"heaven\", \"heaven\", \"heaven\", \"heaven\", \"heaven\", \"hee\", \"hesitate\", \"hidin\", \"high\", \"high\", \"high\", \"high\", \"high\", \"high\", \"hold\", \"hold\", \"hold\", \"hold\", \"hold\", \"hold\", \"home\", \"home\", \"home\", \"home\", \"home\", \"home\", \"hospital\", \"hup\", \"hurt\", \"hurt\", \"hurt\", \"hurt\", \"hurt\", \"igor\", \"impossible\", \"individual\", \"innervenus\", \"insurance\", \"intention\", \"jefferson\", \"jerusalem\", \"juana\", \"jungle\", \"jupiter\", \"kennedy\", \"kiss\", \"kiss\", \"kiss\", \"kiss\", \"kiss\", \"kiss\", \"lady\", \"lady\", \"lady\", \"lady\", \"lady\", \"lady\", \"lamp\", \"lamp\", \"lamp\", \"land\", \"land\", \"land\", \"land\", \"lane\", \"lazy\", \"leave\", \"leave\", \"leave\", \"leave\", \"leave\", \"leave\", \"lee\", \"legend\", \"let\", \"let\", \"let\", \"let\", \"let\", \"let\", \"liar\", \"lie\", \"lie\", \"lie\", \"lie\", \"lie\", \"life\", \"life\", \"life\", \"life\", \"life\", \"life\", \"linus\", \"literature\", \"literature\", \"little\", \"little\", \"little\", \"little\", \"little\", \"little\", \"livin\", \"livin\", \"ll\", \"ll\", \"ll\", \"ll\", \"ll\", \"ll\", \"lonee\", \"lonely\", \"lonely\", \"lonely\", \"lonely\", \"lonely\", \"long\", \"long\", \"long\", \"long\", \"long\", \"long\", \"look\", \"look\", \"look\", \"look\", \"look\", \"lord\", \"lord\", \"lord\", \"lord\", \"lose\", \"lose\", \"lose\", \"lose\", \"lose\", \"lose\", \"loser\", \"loser\", \"lover\", \"lover\", \"lover\", \"lover\", \"lover\", \"low\", \"low\", \"low\", \"low\", \"lucy\", \"lucy\", \"mama\", \"mama\", \"mama\", \"mama\", \"mammy\", \"man\", \"man\", \"man\", \"man\", \"man\", \"man\", \"mankind\", \"mar\", \"mari\", \"maria\", \"marijuana\", \"married\", \"masculine\", \"meet\", \"meet\", \"meet\", \"meet\", \"meet\", \"meet\", \"melanie\", \"memphis\", \"mess\", \"mexico\", \"michael\", \"millstone\", \"mind\", \"mind\", \"mind\", \"mind\", \"mind\", \"misunderstood\", \"mon\", \"mon\", \"mon\", \"mon\", \"money\", \"money\", \"money\", \"money\", \"money\", \"monkey\", \"moon\", \"moon\", \"moon\", \"moon\", \"moon\", \"mountain\", \"mountain\", \"mountain\", \"mountain\", \"mountain\", \"mucho\", \"music\", \"music\", \"music\", \"music\", \"music\", \"na\", \"need\", \"need\", \"need\", \"need\", \"need\", \"need\", \"needin\", \"new\", \"new\", \"new\", \"new\", \"new\", \"new\", \"night\", \"night\", \"night\", \"night\", \"night\", \"night\", \"occasionally\", \"old\", \"old\", \"old\", \"old\", \"old\", \"old\", \"onliness\", \"oop\", \"owe\", \"pal\", \"pal\", \"pal\", \"papa\", \"papa\", \"papa\", \"pardon\", \"peaceful\", \"people\", \"people\", \"people\", \"people\", \"people\", \"peter\", \"piano\", \"piano\", \"play\", \"play\", \"play\", \"play\", \"play\", \"play\", \"pneumonia\", \"pocket\", \"pocket\", \"pour\", \"pour\", \"pour\", \"prayer\", \"prayer\", \"president\", \"pretoria\", \"pretty\", \"pretty\", \"pretty\", \"pretty\", \"puppy\", \"put\", \"put\", \"quit\", \"rail\", \"rain\", \"rain\", \"rain\", \"rain\", \"rain\", \"rainbow\", \"rainbow\", \"ramblin\", \"realize\", \"realize\", \"reconsider\", \"return\", \"return\", \"return\", \"reverie\", \"rigby\", \"right\", \"right\", \"right\", \"right\", \"right\", \"rock\", \"rock\", \"rock\", \"rock\", \"rock\", \"rosemary\", \"ruby\", \"rule\", \"rumor\", \"run\", \"run\", \"run\", \"run\", \"run\", \"ry\", \"safe\", \"safe\", \"sale\", \"sand\", \"sand\", \"sand\", \"sand\", \"sarge\", \"say\", \"say\", \"say\", \"say\", \"say\", \"say\", \"sea\", \"sea\", \"sea\", \"sea\", \"sea\", \"separate\", \"separate\", \"shape\", \"shape\", \"shape\", \"shine\", \"shine\", \"shine\", \"shine\", \"shovel\", \"shovel\", \"sincerely\", \"sixteen\", \"sleep\", \"sleep\", \"sleep\", \"sleep\", \"slight\", \"slippin\", \"smile\", \"smile\", \"smile\", \"smile\", \"smile\", \"smile\", \"sneaky\", \"snowman\", \"solo\", \"somebody\", \"somebody\", \"somebody\", \"somebody\", \"somebody\", \"sore\", \"spade\", \"spirit\", \"stampede\", \"step\", \"step\", \"step\", \"step\", \"step\", \"stone\", \"stone\", \"stone\", \"story\", \"story\", \"story\", \"suggest\", \"sun\", \"sun\", \"sun\", \"sun\", \"sun\", \"sun\", \"sunshine\", \"sunshine\", \"sunshine\", \"surfin\", \"swam\", \"sweetness\", \"swim\", \"talk\", \"talk\", \"talk\", \"talk\", \"talk\", \"teasin\", \"tell\", \"tell\", \"tell\", \"tell\", \"tell\", \"tell\", \"temptation\", \"tennessee\", \"tennis\", \"thee\", \"thee\", \"thing\", \"thing\", \"thing\", \"thing\", \"thing\", \"thing\", \"think\", \"think\", \"think\", \"think\", \"think\", \"think\", \"thrupence\", \"thumb\", \"thy\", \"till\", \"till\", \"till\", \"till\", \"till\", \"time\", \"time\", \"time\", \"time\", \"time\", \"time\", \"to\", \"to\", \"to\", \"to\", \"to\", \"to\", \"tombstone\", \"tomorrow\", \"tomorrow\", \"tomorrow\", \"tomorrow\", \"tomorrow\", \"ton\", \"ton\", \"tony\", \"tooth\", \"track\", \"trade\", \"trouble\", \"trouble\", \"trouble\", \"trouble\", \"troubles\", \"true\", \"true\", \"true\", \"true\", \"true\", \"twelfth\", \"ve\", \"ve\", \"ve\", \"ve\", \"ve\", \"ve\", \"verse\", \"verse\", \"verse\", \"verse\", \"verse\", \"verse\", \"violet\", \"violet\", \"wait\", \"wait\", \"wait\", \"wait\", \"wait\", \"wait\", \"walk\", \"walk\", \"walk\", \"walk\", \"walk\", \"walk\", \"wandering\", \"wanna\", \"wanna\", \"wanna\", \"wanna\", \"wanna\", \"want\", \"want\", \"want\", \"want\", \"want\", \"want\", \"watch\", \"watch\", \"watch\", \"watch\", \"watch\", \"watch\", \"wave\", \"wave\", \"wave\", \"wave\", \"way\", \"way\", \"way\", \"way\", \"way\", \"way\", \"wee\", \"wee\", \"wee\", \"whistle\", \"win\", \"win\", \"win\", \"win\", \"win\", \"win\", \"window\", \"window\", \"window\", \"wine\", \"wine\", \"wine\", \"wine\", \"wish\", \"wish\", \"wish\", \"wish\", \"wish\", \"woman\", \"woman\", \"woman\", \"woman\", \"woman\", \"woman\", \"wonder\", \"wonder\", \"wonder\", \"wonder\", \"wonder\", \"wonderful\", \"wonderful\", \"wonderful\", \"woogie\", \"world\", \"world\", \"world\", \"world\", \"world\", \"world\", \"wouldn\", \"wouldn\", \"writer\", \"yes\", \"yes\", \"yes\", \"yes\", \"yes\", \"yes\", \"yesterday\", \"yesterday\", \"yesterday\", \"yesterday\", \"youe\"]}, \"R\": 30, \"lambda.step\": 0.01, \"plot.opts\": {\"xlab\": \"PC1\", \"ylab\": \"PC2\"}, \"topic.order\": [6, 5, 4, 3, 2, 1]};\n",
       "\n",
       "function LDAvis_load_lib(url, callback){\n",
       "  var s = document.createElement('script');\n",
       "  s.src = url;\n",
       "  s.async = true;\n",
       "  s.onreadystatechange = s.onload = callback;\n",
       "  s.onerror = function(){console.warn(\"failed to load library \" + url);};\n",
       "  document.getElementsByTagName(\"head\")[0].appendChild(s);\n",
       "}\n",
       "\n",
       "if(typeof(LDAvis) !== \"undefined\"){\n",
       "   // already loaded: just create the visualization\n",
       "   !function(LDAvis){\n",
       "       new LDAvis(\"#\" + \"ldavis_el68461405282546909121469427466\", ldavis_el68461405282546909121469427466_data);\n",
       "   }(LDAvis);\n",
       "}else if(typeof define === \"function\" && define.amd){\n",
       "   // require.js is available: use it to load d3/LDAvis\n",
       "   require.config({paths: {d3: \"https://d3js.org/d3.v5\"}});\n",
       "   require([\"d3\"], function(d3){\n",
       "      window.d3 = d3;\n",
       "      LDAvis_load_lib(\"https://cdn.jsdelivr.net/gh/bmabey/pyLDAvis@3.3.1/pyLDAvis/js/ldavis.v3.0.0.js\", function(){\n",
       "        new LDAvis(\"#\" + \"ldavis_el68461405282546909121469427466\", ldavis_el68461405282546909121469427466_data);\n",
       "      });\n",
       "    });\n",
       "}else{\n",
       "    // require.js not available: dynamically load d3 & LDAvis\n",
       "    LDAvis_load_lib(\"https://d3js.org/d3.v5.js\", function(){\n",
       "         LDAvis_load_lib(\"https://cdn.jsdelivr.net/gh/bmabey/pyLDAvis@3.3.1/pyLDAvis/js/ldavis.v3.0.0.js\", function(){\n",
       "                 new LDAvis(\"#\" + \"ldavis_el68461405282546909121469427466\", ldavis_el68461405282546909121469427466_data);\n",
       "            })\n",
       "         });\n",
       "}\n",
       "</script>"
      ],
      "text/plain": [
       "PreparedData(topic_coordinates=              x         y  topics  cluster       Freq\n",
       "topic                                                \n",
       "5     -0.070776 -0.047446       1        1  23.075311\n",
       "4     -0.030532  0.029113       2        1  19.659238\n",
       "3      0.008949 -0.098663       3        1  16.076465\n",
       "2      0.002632  0.119073       4        1  15.813586\n",
       "1     -0.074378  0.006537       5        1  14.544382\n",
       "0      0.164105 -0.008613       6        1  10.831018, topic_info=       Term        Freq       Total Category  logprob  loglift\n",
       "713   happy  119.000000  119.000000  Default  30.0000  30.0000\n",
       "467    baby  413.000000  413.000000  Default  29.0000  29.0000\n",
       "436      to  266.000000  266.000000  Default  28.0000  28.0000\n",
       "156    time  329.000000  329.000000  Default  27.0000  27.0000\n",
       "148      go  420.000000  420.000000  Default  26.0000  26.0000\n",
       "..      ...         ...         ...      ...      ...      ...\n",
       "947     ain   14.044048  132.704862   Topic6  -5.5114  -0.0232\n",
       "33   people   12.277197  110.242060   Topic6  -5.6459   0.0278\n",
       "94   little   12.242369  154.416459   Topic6  -5.6487  -0.3120\n",
       "147     cry   11.720517   97.157538   Topic6  -5.6923   0.1078\n",
       "420     let   11.513871  226.182729   Topic6  -5.7101  -0.7550\n",
       "\n",
       "[459 rows x 6 columns], token_table=      Topic      Freq       Term\n",
       "term                            \n",
       "2447      4  0.765976         aa\n",
       "733       6  0.719550        aah\n",
       "2300      1  0.114283        ace\n",
       "2300      3  0.799981        ace\n",
       "1704      1  0.812949      admit\n",
       "...     ...       ...        ...\n",
       "782       1  0.848908  yesterday\n",
       "782       3  0.038587  yesterday\n",
       "782       4  0.038587  yesterday\n",
       "782       5  0.038587  yesterday\n",
       "1867      1  0.865404       youe\n",
       "\n",
       "[920 rows x 3 columns], R=30, lambda_step=0.01, plot_opts={'xlab': 'PC1', 'ylab': 'PC2'}, topic_order=[6, 5, 4, 3, 2, 1])"
      ]
     },
     "execution_count": 10,
     "metadata": {},
     "output_type": "execute_result"
    }
   ],
   "source": [
    "ngram_model.dashboard_LDAvis()"
   ]
  },
  {
   "cell_type": "code",
   "execution_count": 11,
   "metadata": {},
   "outputs": [
    {
     "data": {
      "application/vnd.plotly.v1+json": {
       "config": {
        "plotlyServerURL": "https://plot.ly"
       },
       "data": [
        {
         "mode": "lines",
         "name": "lines",
         "type": "scatter",
         "x": [
          0,
          1,
          2,
          3,
          4,
          5,
          6,
          7,
          8,
          9,
          10,
          11,
          12,
          13,
          14,
          15,
          16,
          17,
          18,
          19,
          20,
          21,
          22,
          23,
          24,
          25,
          26,
          27,
          28,
          29,
          30,
          31,
          32,
          33,
          34
         ],
         "y": [
          -7.059,
          -7.058,
          -7.058,
          -7.057,
          -7.057,
          -7.358,
          -7.193,
          -7.14,
          -7.12,
          -7.11,
          -7.104,
          -7.1,
          -7.096,
          -7.094,
          -7.092,
          -7.09,
          -7.089,
          -7.088,
          -7.087,
          -7.086,
          -7.086,
          -7.085,
          -7.085,
          -7.084,
          -7.084,
          -7.083,
          -7.083,
          -7.082,
          -7.082,
          -7.081,
          -7.081,
          -7.081,
          -7.08,
          -7.08,
          -7.08
         ]
        }
       ],
       "layout": {
        "template": {
         "data": {
          "bar": [
           {
            "error_x": {
             "color": "#2a3f5f"
            },
            "error_y": {
             "color": "#2a3f5f"
            },
            "marker": {
             "line": {
              "color": "#E5ECF6",
              "width": 0.5
             },
             "pattern": {
              "fillmode": "overlay",
              "size": 10,
              "solidity": 0.2
             }
            },
            "type": "bar"
           }
          ],
          "barpolar": [
           {
            "marker": {
             "line": {
              "color": "#E5ECF6",
              "width": 0.5
             },
             "pattern": {
              "fillmode": "overlay",
              "size": 10,
              "solidity": 0.2
             }
            },
            "type": "barpolar"
           }
          ],
          "carpet": [
           {
            "aaxis": {
             "endlinecolor": "#2a3f5f",
             "gridcolor": "white",
             "linecolor": "white",
             "minorgridcolor": "white",
             "startlinecolor": "#2a3f5f"
            },
            "baxis": {
             "endlinecolor": "#2a3f5f",
             "gridcolor": "white",
             "linecolor": "white",
             "minorgridcolor": "white",
             "startlinecolor": "#2a3f5f"
            },
            "type": "carpet"
           }
          ],
          "choropleth": [
           {
            "colorbar": {
             "outlinewidth": 0,
             "ticks": ""
            },
            "type": "choropleth"
           }
          ],
          "contour": [
           {
            "colorbar": {
             "outlinewidth": 0,
             "ticks": ""
            },
            "colorscale": [
             [
              0,
              "#0d0887"
             ],
             [
              0.1111111111111111,
              "#46039f"
             ],
             [
              0.2222222222222222,
              "#7201a8"
             ],
             [
              0.3333333333333333,
              "#9c179e"
             ],
             [
              0.4444444444444444,
              "#bd3786"
             ],
             [
              0.5555555555555556,
              "#d8576b"
             ],
             [
              0.6666666666666666,
              "#ed7953"
             ],
             [
              0.7777777777777778,
              "#fb9f3a"
             ],
             [
              0.8888888888888888,
              "#fdca26"
             ],
             [
              1,
              "#f0f921"
             ]
            ],
            "type": "contour"
           }
          ],
          "contourcarpet": [
           {
            "colorbar": {
             "outlinewidth": 0,
             "ticks": ""
            },
            "type": "contourcarpet"
           }
          ],
          "heatmap": [
           {
            "colorbar": {
             "outlinewidth": 0,
             "ticks": ""
            },
            "colorscale": [
             [
              0,
              "#0d0887"
             ],
             [
              0.1111111111111111,
              "#46039f"
             ],
             [
              0.2222222222222222,
              "#7201a8"
             ],
             [
              0.3333333333333333,
              "#9c179e"
             ],
             [
              0.4444444444444444,
              "#bd3786"
             ],
             [
              0.5555555555555556,
              "#d8576b"
             ],
             [
              0.6666666666666666,
              "#ed7953"
             ],
             [
              0.7777777777777778,
              "#fb9f3a"
             ],
             [
              0.8888888888888888,
              "#fdca26"
             ],
             [
              1,
              "#f0f921"
             ]
            ],
            "type": "heatmap"
           }
          ],
          "heatmapgl": [
           {
            "colorbar": {
             "outlinewidth": 0,
             "ticks": ""
            },
            "colorscale": [
             [
              0,
              "#0d0887"
             ],
             [
              0.1111111111111111,
              "#46039f"
             ],
             [
              0.2222222222222222,
              "#7201a8"
             ],
             [
              0.3333333333333333,
              "#9c179e"
             ],
             [
              0.4444444444444444,
              "#bd3786"
             ],
             [
              0.5555555555555556,
              "#d8576b"
             ],
             [
              0.6666666666666666,
              "#ed7953"
             ],
             [
              0.7777777777777778,
              "#fb9f3a"
             ],
             [
              0.8888888888888888,
              "#fdca26"
             ],
             [
              1,
              "#f0f921"
             ]
            ],
            "type": "heatmapgl"
           }
          ],
          "histogram": [
           {
            "marker": {
             "pattern": {
              "fillmode": "overlay",
              "size": 10,
              "solidity": 0.2
             }
            },
            "type": "histogram"
           }
          ],
          "histogram2d": [
           {
            "colorbar": {
             "outlinewidth": 0,
             "ticks": ""
            },
            "colorscale": [
             [
              0,
              "#0d0887"
             ],
             [
              0.1111111111111111,
              "#46039f"
             ],
             [
              0.2222222222222222,
              "#7201a8"
             ],
             [
              0.3333333333333333,
              "#9c179e"
             ],
             [
              0.4444444444444444,
              "#bd3786"
             ],
             [
              0.5555555555555556,
              "#d8576b"
             ],
             [
              0.6666666666666666,
              "#ed7953"
             ],
             [
              0.7777777777777778,
              "#fb9f3a"
             ],
             [
              0.8888888888888888,
              "#fdca26"
             ],
             [
              1,
              "#f0f921"
             ]
            ],
            "type": "histogram2d"
           }
          ],
          "histogram2dcontour": [
           {
            "colorbar": {
             "outlinewidth": 0,
             "ticks": ""
            },
            "colorscale": [
             [
              0,
              "#0d0887"
             ],
             [
              0.1111111111111111,
              "#46039f"
             ],
             [
              0.2222222222222222,
              "#7201a8"
             ],
             [
              0.3333333333333333,
              "#9c179e"
             ],
             [
              0.4444444444444444,
              "#bd3786"
             ],
             [
              0.5555555555555556,
              "#d8576b"
             ],
             [
              0.6666666666666666,
              "#ed7953"
             ],
             [
              0.7777777777777778,
              "#fb9f3a"
             ],
             [
              0.8888888888888888,
              "#fdca26"
             ],
             [
              1,
              "#f0f921"
             ]
            ],
            "type": "histogram2dcontour"
           }
          ],
          "mesh3d": [
           {
            "colorbar": {
             "outlinewidth": 0,
             "ticks": ""
            },
            "type": "mesh3d"
           }
          ],
          "parcoords": [
           {
            "line": {
             "colorbar": {
              "outlinewidth": 0,
              "ticks": ""
             }
            },
            "type": "parcoords"
           }
          ],
          "pie": [
           {
            "automargin": true,
            "type": "pie"
           }
          ],
          "scatter": [
           {
            "fillpattern": {
             "fillmode": "overlay",
             "size": 10,
             "solidity": 0.2
            },
            "type": "scatter"
           }
          ],
          "scatter3d": [
           {
            "line": {
             "colorbar": {
              "outlinewidth": 0,
              "ticks": ""
             }
            },
            "marker": {
             "colorbar": {
              "outlinewidth": 0,
              "ticks": ""
             }
            },
            "type": "scatter3d"
           }
          ],
          "scattercarpet": [
           {
            "marker": {
             "colorbar": {
              "outlinewidth": 0,
              "ticks": ""
             }
            },
            "type": "scattercarpet"
           }
          ],
          "scattergeo": [
           {
            "marker": {
             "colorbar": {
              "outlinewidth": 0,
              "ticks": ""
             }
            },
            "type": "scattergeo"
           }
          ],
          "scattergl": [
           {
            "marker": {
             "colorbar": {
              "outlinewidth": 0,
              "ticks": ""
             }
            },
            "type": "scattergl"
           }
          ],
          "scattermapbox": [
           {
            "marker": {
             "colorbar": {
              "outlinewidth": 0,
              "ticks": ""
             }
            },
            "type": "scattermapbox"
           }
          ],
          "scatterpolar": [
           {
            "marker": {
             "colorbar": {
              "outlinewidth": 0,
              "ticks": ""
             }
            },
            "type": "scatterpolar"
           }
          ],
          "scatterpolargl": [
           {
            "marker": {
             "colorbar": {
              "outlinewidth": 0,
              "ticks": ""
             }
            },
            "type": "scatterpolargl"
           }
          ],
          "scatterternary": [
           {
            "marker": {
             "colorbar": {
              "outlinewidth": 0,
              "ticks": ""
             }
            },
            "type": "scatterternary"
           }
          ],
          "surface": [
           {
            "colorbar": {
             "outlinewidth": 0,
             "ticks": ""
            },
            "colorscale": [
             [
              0,
              "#0d0887"
             ],
             [
              0.1111111111111111,
              "#46039f"
             ],
             [
              0.2222222222222222,
              "#7201a8"
             ],
             [
              0.3333333333333333,
              "#9c179e"
             ],
             [
              0.4444444444444444,
              "#bd3786"
             ],
             [
              0.5555555555555556,
              "#d8576b"
             ],
             [
              0.6666666666666666,
              "#ed7953"
             ],
             [
              0.7777777777777778,
              "#fb9f3a"
             ],
             [
              0.8888888888888888,
              "#fdca26"
             ],
             [
              1,
              "#f0f921"
             ]
            ],
            "type": "surface"
           }
          ],
          "table": [
           {
            "cells": {
             "fill": {
              "color": "#EBF0F8"
             },
             "line": {
              "color": "white"
             }
            },
            "header": {
             "fill": {
              "color": "#C8D4E3"
             },
             "line": {
              "color": "white"
             }
            },
            "type": "table"
           }
          ]
         },
         "layout": {
          "annotationdefaults": {
           "arrowcolor": "#2a3f5f",
           "arrowhead": 0,
           "arrowwidth": 1
          },
          "autotypenumbers": "strict",
          "coloraxis": {
           "colorbar": {
            "outlinewidth": 0,
            "ticks": ""
           }
          },
          "colorscale": {
           "diverging": [
            [
             0,
             "#8e0152"
            ],
            [
             0.1,
             "#c51b7d"
            ],
            [
             0.2,
             "#de77ae"
            ],
            [
             0.3,
             "#f1b6da"
            ],
            [
             0.4,
             "#fde0ef"
            ],
            [
             0.5,
             "#f7f7f7"
            ],
            [
             0.6,
             "#e6f5d0"
            ],
            [
             0.7,
             "#b8e186"
            ],
            [
             0.8,
             "#7fbc41"
            ],
            [
             0.9,
             "#4d9221"
            ],
            [
             1,
             "#276419"
            ]
           ],
           "sequential": [
            [
             0,
             "#0d0887"
            ],
            [
             0.1111111111111111,
             "#46039f"
            ],
            [
             0.2222222222222222,
             "#7201a8"
            ],
            [
             0.3333333333333333,
             "#9c179e"
            ],
            [
             0.4444444444444444,
             "#bd3786"
            ],
            [
             0.5555555555555556,
             "#d8576b"
            ],
            [
             0.6666666666666666,
             "#ed7953"
            ],
            [
             0.7777777777777778,
             "#fb9f3a"
            ],
            [
             0.8888888888888888,
             "#fdca26"
            ],
            [
             1,
             "#f0f921"
            ]
           ],
           "sequentialminus": [
            [
             0,
             "#0d0887"
            ],
            [
             0.1111111111111111,
             "#46039f"
            ],
            [
             0.2222222222222222,
             "#7201a8"
            ],
            [
             0.3333333333333333,
             "#9c179e"
            ],
            [
             0.4444444444444444,
             "#bd3786"
            ],
            [
             0.5555555555555556,
             "#d8576b"
            ],
            [
             0.6666666666666666,
             "#ed7953"
            ],
            [
             0.7777777777777778,
             "#fb9f3a"
            ],
            [
             0.8888888888888888,
             "#fdca26"
            ],
            [
             1,
             "#f0f921"
            ]
           ]
          },
          "colorway": [
           "#636efa",
           "#EF553B",
           "#00cc96",
           "#ab63fa",
           "#FFA15A",
           "#19d3f3",
           "#FF6692",
           "#B6E880",
           "#FF97FF",
           "#FECB52"
          ],
          "font": {
           "color": "#2a3f5f"
          },
          "geo": {
           "bgcolor": "white",
           "lakecolor": "white",
           "landcolor": "#E5ECF6",
           "showlakes": true,
           "showland": true,
           "subunitcolor": "white"
          },
          "hoverlabel": {
           "align": "left"
          },
          "hovermode": "closest",
          "mapbox": {
           "style": "light"
          },
          "paper_bgcolor": "white",
          "plot_bgcolor": "#E5ECF6",
          "polar": {
           "angularaxis": {
            "gridcolor": "white",
            "linecolor": "white",
            "ticks": ""
           },
           "bgcolor": "#E5ECF6",
           "radialaxis": {
            "gridcolor": "white",
            "linecolor": "white",
            "ticks": ""
           }
          },
          "scene": {
           "xaxis": {
            "backgroundcolor": "#E5ECF6",
            "gridcolor": "white",
            "gridwidth": 2,
            "linecolor": "white",
            "showbackground": true,
            "ticks": "",
            "zerolinecolor": "white"
           },
           "yaxis": {
            "backgroundcolor": "#E5ECF6",
            "gridcolor": "white",
            "gridwidth": 2,
            "linecolor": "white",
            "showbackground": true,
            "ticks": "",
            "zerolinecolor": "white"
           },
           "zaxis": {
            "backgroundcolor": "#E5ECF6",
            "gridcolor": "white",
            "gridwidth": 2,
            "linecolor": "white",
            "showbackground": true,
            "ticks": "",
            "zerolinecolor": "white"
           }
          },
          "shapedefaults": {
           "line": {
            "color": "#2a3f5f"
           }
          },
          "ternary": {
           "aaxis": {
            "gridcolor": "white",
            "linecolor": "white",
            "ticks": ""
           },
           "baxis": {
            "gridcolor": "white",
            "linecolor": "white",
            "ticks": ""
           },
           "bgcolor": "#E5ECF6",
           "caxis": {
            "gridcolor": "white",
            "linecolor": "white",
            "ticks": ""
           }
          },
          "title": {
           "x": 0.05
          },
          "xaxis": {
           "automargin": true,
           "gridcolor": "white",
           "linecolor": "white",
           "ticks": "",
           "title": {
            "standoff": 15
           },
           "zerolinecolor": "white",
           "zerolinewidth": 2
          },
          "yaxis": {
           "automargin": true,
           "gridcolor": "white",
           "linecolor": "white",
           "ticks": "",
           "title": {
            "standoff": 15
           },
           "zerolinecolor": "white",
           "zerolinewidth": 2
          }
         }
        },
        "title": {
         "text": "Likelihood over passes"
        },
        "xaxis": {
         "title": {
          "text": "passes"
         }
        },
        "yaxis": {
         "title": {
          "text": "Likekihood"
         }
        }
       }
      }
     },
     "metadata": {},
     "output_type": "display_data"
    }
   ],
   "source": [
    "ngram_model.plot_likelihood()"
   ]
  }
 ],
 "metadata": {
  "kernelspec": {
   "display_name": "tdde16proj-env",
   "language": "python",
   "name": "python3"
  },
  "language_info": {
   "codemirror_mode": {
    "name": "ipython",
    "version": 3
   },
   "file_extension": ".py",
   "mimetype": "text/x-python",
   "name": "python",
   "nbconvert_exporter": "python",
   "pygments_lexer": "ipython3",
   "version": "3.9.13"
  },
  "orig_nbformat": 4
 },
 "nbformat": 4,
 "nbformat_minor": 2
}
